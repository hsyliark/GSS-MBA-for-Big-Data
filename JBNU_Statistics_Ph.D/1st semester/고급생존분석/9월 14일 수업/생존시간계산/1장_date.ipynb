{
 "cells": [
  {
   "attachments": {
    "time.png": {
     "image/png": "[encoded data removed]"
    }
   },
   "cell_type": "markdown",
   "metadata": {},
   "source": [
    "## `R`을 이용한 생존시간 계산\n",
    "\n",
    "시간 관측 값이 *시점*과 *종점* 으로 주어질 때 생존시간 계산 \n",
    "![time.png](attachment:time.png)\n",
    "\n",
    "-  base `R` \n",
    "- `lubridate` package \n",
    "\n",
    "\n",
    "### `lubridate` Package\n",
    "\n",
    "- `R`에서 날짜 자료 다루는 패키지\n",
    "- Garrett Grolemund 와 Hadley Wickham 외 8명이 만듬\n",
    "- `tidyverse`에 포함되어 있음"
   ]
  },
  {
   "cell_type": "code",
   "execution_count": 2,
   "metadata": {},
   "outputs": [],
   "source": [
    "library(tidyverse)\n",
    "library(lubridate)"
   ]
  },
  {
   "cell_type": "markdown",
   "metadata": {},
   "source": [
    "- `ymd`, `mdy`, `dmy` 함수 : dates 객체 생성\n",
    "- `year`, `month`, `day` 함수 : dates 객체로부터 부분 정보 추출"
   ]
  },
  {
   "cell_type": "code",
   "execution_count": 3,
   "metadata": {},
   "outputs": [
    {
     "data": {
      "text/html": [
       "<time datetime=\"2020-09-07\">2020-09-07</time>"
      ],
      "text/latex": [
       "2020-09-07"
      ],
      "text/markdown": [
       "2020-09-07"
      ],
      "text/plain": [
       "[1] \"2020-09-07\""
      ]
     },
     "metadata": {},
     "output_type": "display_data"
    },
    {
     "data": {
      "text/html": [
       "<time datetime=\"2020-09-07\">2020-09-07</time>"
      ],
      "text/latex": [
       "2020-09-07"
      ],
      "text/markdown": [
       "2020-09-07"
      ],
      "text/plain": [
       "[1] \"2020-09-07\""
      ]
     },
     "metadata": {},
     "output_type": "display_data"
    },
    {
     "data": {
      "text/html": [
       "<time datetime=\"2020-09-07\">2020-09-07</time>"
      ],
      "text/latex": [
       "2020-09-07"
      ],
      "text/markdown": [
       "2020-09-07"
      ],
      "text/plain": [
       "[1] \"2020-09-07\""
      ]
     },
     "metadata": {},
     "output_type": "display_data"
    }
   ],
   "source": [
    "ymd(\"2020/09/07\")\n",
    "\n",
    "mdy(\"09/07/2020\")\n",
    "\n",
    "dmy(\"07/09/2020\")"
   ]
  },
  {
   "cell_type": "code",
   "execution_count": 4,
   "metadata": {},
   "outputs": [
    {
     "data": {
      "text/html": [
       "2020"
      ],
      "text/latex": [
       "2020"
      ],
      "text/markdown": [
       "2020"
      ],
      "text/plain": [
       "[1] 2020"
      ]
     },
     "metadata": {},
     "output_type": "display_data"
    }
   ],
   "source": [
    "d1 <- ymd(\"2020/09/07\")\n",
    "year(d1)"
   ]
  },
  {
   "cell_type": "markdown",
   "metadata": {},
   "source": [
    "### 관측 시작 시점과 마지막 시점이 주어진 생존자료\n",
    "\n",
    "1. R의 date 형식으로 변환\n",
    "2. 생존시간 계산\n",
    "\n",
    "**`R`을 이용한 생존시간 계산**\n",
    "\n",
    "\n",
    "<h3> <span style=\"color:CornflowerBlue\"> <b> Example : </b> </span></h3> \n",
    "\n",
    "- `sx_date` : 수술 날짜 (surgery date )\n",
    "- `last_fup_date` :  마지막 추적 관측 날짜 (last follow-up date)"
   ]
  },
  {
   "cell_type": "code",
   "execution_count": 5,
   "metadata": {},
   "outputs": [
    {
     "name": "stdout",
     "output_type": "stream",
     "text": [
      "Rows: 3\n",
      "Columns: 2\n",
      "$ sx_date       \u001b[3m\u001b[90m<chr>\u001b[39m\u001b[23m \"2007-06-22\", \"2004-02-13\", \"2010-10-27\"\n",
      "$ last_fup_date \u001b[3m\u001b[90m<chr>\u001b[39m\u001b[23m \"2017-04-15\", \"2018-07-04\", \"2016-10-31\"\n"
     ]
    }
   ],
   "source": [
    "date_ex <- \n",
    "  tibble(\n",
    "    sx_date = c(\"2007-06-22\", \"2004-02-13\", \"2010-10-27\"), \n",
    "    last_fup_date = c(\"2017-04-15\", \"2018-07-04\", \"2016-10-31\")\n",
    "    )\n",
    "\n",
    "glimpse(date_ex)"
   ]
  },
  {
   "cell_type": "markdown",
   "metadata": {},
   "source": [
    "*NOTE* \n",
    "- 두 변수는  문자변수 $\\rightarrow$ date 형식으로 변환 필요\n",
    "- 두 날짜의 차이 계산한 후 숫자 형식으로 변환\n",
    "\n",
    "<h3> <span style=\"color:CornflowerBlue\"> <b>  base `R` 이용 </b> </span></h3> \n",
    "\n",
    "- `as.Date`\n",
    "\n",
    "\n",
    "#### Formatting dates "
   ]
  },
  {
   "cell_type": "code",
   "execution_count": 6,
   "metadata": {},
   "outputs": [
    {
     "data": {
      "text/html": [
       "<table>\n",
       "<caption>A tibble: 3 × 2</caption>\n",
       "<thead>\n",
       "\t<tr><th scope=col>sx_date</th><th scope=col>last_fup_date</th></tr>\n",
       "\t<tr><th scope=col>&lt;date&gt;</th><th scope=col>&lt;date&gt;</th></tr>\n",
       "</thead>\n",
       "<tbody>\n",
       "\t<tr><td>2007-06-22</td><td>2017-04-15</td></tr>\n",
       "\t<tr><td>2004-02-13</td><td>2018-07-04</td></tr>\n",
       "\t<tr><td>2010-10-27</td><td>2016-10-31</td></tr>\n",
       "</tbody>\n",
       "</table>\n"
      ],
      "text/latex": [
       "A tibble: 3 × 2\n",
       "\\begin{tabular}{ll}\n",
       " sx\\_date & last\\_fup\\_date\\\\\n",
       " <date> & <date>\\\\\n",
       "\\hline\n",
       "\t 2007-06-22 & 2017-04-15\\\\\n",
       "\t 2004-02-13 & 2018-07-04\\\\\n",
       "\t 2010-10-27 & 2016-10-31\\\\\n",
       "\\end{tabular}\n"
      ],
      "text/markdown": [
       "\n",
       "A tibble: 3 × 2\n",
       "\n",
       "| sx_date &lt;date&gt; | last_fup_date &lt;date&gt; |\n",
       "|---|---|\n",
       "| 2007-06-22 | 2017-04-15 |\n",
       "| 2004-02-13 | 2018-07-04 |\n",
       "| 2010-10-27 | 2016-10-31 |\n",
       "\n"
      ],
      "text/plain": [
       "  sx_date    last_fup_date\n",
       "1 2007-06-22 2017-04-15   \n",
       "2 2004-02-13 2018-07-04   \n",
       "3 2010-10-27 2016-10-31   "
      ]
     },
     "metadata": {},
     "output_type": "display_data"
    }
   ],
   "source": [
    "(date_r<- date_ex %>% \n",
    "  mutate(\n",
    "    sx_date = as.Date(sx_date, format = \"%Y-%m-%d\"), \n",
    "    last_fup_date = as.Date(last_fup_date, format = \"%Y-%m-%d\") \n",
    "    ))"
   ]
  },
  {
   "cell_type": "markdown",
   "metadata": {},
   "source": [
    "- 주어진 날짜 자료가 `m/d/Y` 형식이면  `format = \"%m/%d/%Y\"`로 입력\n",
    "-  date format symbols 참조 [https://www.statmethods.net/input/dates.html](https://www.statmethods.net/input/dates.html)\n",
    "\n",
    "#### Calculating survival times \n",
    "- `difftime` : 경과 시간 일 단위 (units=\"days\")\n",
    "- `as.numeric`: 숫자 형식으로 변환\n",
    "- `/365.25`: 년 단위로 변환"
   ]
  },
  {
   "cell_type": "code",
   "execution_count": 7,
   "metadata": {},
   "outputs": [
    {
     "data": {
      "text/html": [
       "<table>\n",
       "<caption>A tibble: 3 × 3</caption>\n",
       "<thead>\n",
       "\t<tr><th scope=col>sx_date</th><th scope=col>last_fup_date</th><th scope=col>os_yrs</th></tr>\n",
       "\t<tr><th scope=col>&lt;date&gt;</th><th scope=col>&lt;date&gt;</th><th scope=col>&lt;dbl&gt;</th></tr>\n",
       "</thead>\n",
       "<tbody>\n",
       "\t<tr><td>2007-06-22</td><td>2017-04-15</td><td> 9.815195</td></tr>\n",
       "\t<tr><td>2004-02-13</td><td>2018-07-04</td><td>14.387406</td></tr>\n",
       "\t<tr><td>2010-10-27</td><td>2016-10-31</td><td> 6.012320</td></tr>\n",
       "</tbody>\n",
       "</table>\n"
      ],
      "text/latex": [
       "A tibble: 3 × 3\n",
       "\\begin{tabular}{lll}\n",
       " sx\\_date & last\\_fup\\_date & os\\_yrs\\\\\n",
       " <date> & <date> & <dbl>\\\\\n",
       "\\hline\n",
       "\t 2007-06-22 & 2017-04-15 &  9.815195\\\\\n",
       "\t 2004-02-13 & 2018-07-04 & 14.387406\\\\\n",
       "\t 2010-10-27 & 2016-10-31 &  6.012320\\\\\n",
       "\\end{tabular}\n"
      ],
      "text/markdown": [
       "\n",
       "A tibble: 3 × 3\n",
       "\n",
       "| sx_date &lt;date&gt; | last_fup_date &lt;date&gt; | os_yrs &lt;dbl&gt; |\n",
       "|---|---|---|\n",
       "| 2007-06-22 | 2017-04-15 |  9.815195 |\n",
       "| 2004-02-13 | 2018-07-04 | 14.387406 |\n",
       "| 2010-10-27 | 2016-10-31 |  6.012320 |\n",
       "\n"
      ],
      "text/plain": [
       "  sx_date    last_fup_date os_yrs   \n",
       "1 2007-06-22 2017-04-15     9.815195\n",
       "2 2004-02-13 2018-07-04    14.387406\n",
       "3 2010-10-27 2016-10-31     6.012320"
      ]
     },
     "metadata": {},
     "output_type": "display_data"
    }
   ],
   "source": [
    "date_r %>% \n",
    "  mutate(\n",
    "    os_yrs = \n",
    "      as.numeric(\n",
    "        difftime(last_fup_date, \n",
    "                 sx_date, \n",
    "                 units = \"days\")) / 365.25\n",
    "    )"
   ]
  },
  {
   "cell_type": "markdown",
   "metadata": {},
   "source": [
    "<h3> <span style=\"color:CornflowerBlue\"> <b>   `lubridate` package 이용 </b> </span></h3> \n",
    "\n",
    "\n",
    "- `ymd`\n",
    "\n",
    "#### Formatting dates"
   ]
  },
  {
   "cell_type": "code",
   "execution_count": 8,
   "metadata": {},
   "outputs": [
    {
     "data": {
      "text/html": [
       "<table>\n",
       "<caption>A tibble: 3 × 2</caption>\n",
       "<thead>\n",
       "\t<tr><th scope=col>sx_date</th><th scope=col>last_fup_date</th></tr>\n",
       "\t<tr><th scope=col>&lt;date&gt;</th><th scope=col>&lt;date&gt;</th></tr>\n",
       "</thead>\n",
       "<tbody>\n",
       "\t<tr><td>2007-06-22</td><td>2017-04-15</td></tr>\n",
       "\t<tr><td>2004-02-13</td><td>2018-07-04</td></tr>\n",
       "\t<tr><td>2010-10-27</td><td>2016-10-31</td></tr>\n",
       "</tbody>\n",
       "</table>\n"
      ],
      "text/latex": [
       "A tibble: 3 × 2\n",
       "\\begin{tabular}{ll}\n",
       " sx\\_date & last\\_fup\\_date\\\\\n",
       " <date> & <date>\\\\\n",
       "\\hline\n",
       "\t 2007-06-22 & 2017-04-15\\\\\n",
       "\t 2004-02-13 & 2018-07-04\\\\\n",
       "\t 2010-10-27 & 2016-10-31\\\\\n",
       "\\end{tabular}\n"
      ],
      "text/markdown": [
       "\n",
       "A tibble: 3 × 2\n",
       "\n",
       "| sx_date &lt;date&gt; | last_fup_date &lt;date&gt; |\n",
       "|---|---|\n",
       "| 2007-06-22 | 2017-04-15 |\n",
       "| 2004-02-13 | 2018-07-04 |\n",
       "| 2010-10-27 | 2016-10-31 |\n",
       "\n"
      ],
      "text/plain": [
       "  sx_date    last_fup_date\n",
       "1 2007-06-22 2017-04-15   \n",
       "2 2004-02-13 2018-07-04   \n",
       "3 2010-10-27 2016-10-31   "
      ]
     },
     "metadata": {},
     "output_type": "display_data"
    }
   ],
   "source": [
    "(date_l <- date_ex %>% \n",
    "  mutate(\n",
    "    sx_date = ymd(sx_date), \n",
    "    last_fup_date = ymd(last_fup_date)\n",
    "    ))"
   ]
  },
  {
   "cell_type": "markdown",
   "metadata": {},
   "source": [
    "- base `R` 에서와 달리 분리자가 필요없음\n",
    "\n",
    "#### Calculating survival times \n",
    "- `%--%` 연산자 : 시간 구간 차이 \n",
    "- `as.duration` : 초 단위 경과시간 \n",
    "- `dyears(1)`: 년 단위로 변환"
   ]
  },
  {
   "cell_type": "code",
   "execution_count": 9,
   "metadata": {},
   "outputs": [
    {
     "data": {
      "text/html": [
       "<table>\n",
       "<caption>A tibble: 3 × 3</caption>\n",
       "<thead>\n",
       "\t<tr><th scope=col>sx_date</th><th scope=col>last_fup_date</th><th scope=col>os_yrs</th></tr>\n",
       "\t<tr><th scope=col>&lt;date&gt;</th><th scope=col>&lt;date&gt;</th><th scope=col>&lt;dbl&gt;</th></tr>\n",
       "</thead>\n",
       "<tbody>\n",
       "\t<tr><td>2007-06-22</td><td>2017-04-15</td><td> 9.821918</td></tr>\n",
       "\t<tr><td>2004-02-13</td><td>2018-07-04</td><td>14.397260</td></tr>\n",
       "\t<tr><td>2010-10-27</td><td>2016-10-31</td><td> 6.016438</td></tr>\n",
       "</tbody>\n",
       "</table>\n"
      ],
      "text/latex": [
       "A tibble: 3 × 3\n",
       "\\begin{tabular}{lll}\n",
       " sx\\_date & last\\_fup\\_date & os\\_yrs\\\\\n",
       " <date> & <date> & <dbl>\\\\\n",
       "\\hline\n",
       "\t 2007-06-22 & 2017-04-15 &  9.821918\\\\\n",
       "\t 2004-02-13 & 2018-07-04 & 14.397260\\\\\n",
       "\t 2010-10-27 & 2016-10-31 &  6.016438\\\\\n",
       "\\end{tabular}\n"
      ],
      "text/markdown": [
       "\n",
       "A tibble: 3 × 3\n",
       "\n",
       "| sx_date &lt;date&gt; | last_fup_date &lt;date&gt; | os_yrs &lt;dbl&gt; |\n",
       "|---|---|---|\n",
       "| 2007-06-22 | 2017-04-15 |  9.821918 |\n",
       "| 2004-02-13 | 2018-07-04 | 14.397260 |\n",
       "| 2010-10-27 | 2016-10-31 |  6.016438 |\n",
       "\n"
      ],
      "text/plain": [
       "  sx_date    last_fup_date os_yrs   \n",
       "1 2007-06-22 2017-04-15     9.821918\n",
       "2 2004-02-13 2018-07-04    14.397260\n",
       "3 2010-10-27 2016-10-31     6.016438"
      ]
     },
     "metadata": {},
     "output_type": "display_data"
    }
   ],
   "source": [
    "date_l %>% \n",
    "  mutate(\n",
    "    os_yrs = \n",
    "      as.duration(sx_date %--% last_fup_date) / dyears(1)\n",
    "    )"
   ]
  },
  {
   "cell_type": "markdown",
   "metadata": {},
   "source": [
    "### 과제\n",
    "\n",
    "각자 태어나서 지금까지 몇 일 살았는지 base R과 lubridate 패키지를 이용하여 계산하기\n"
   ]
  }
 ],
 "metadata": {
  "kernelspec": {
   "display_name": "R",
   "language": "R",
   "name": "ir"
  },
  "language_info": {
   "codemirror_mode": "r",
   "file_extension": ".r",
   "mimetype": "text/x-r-source",
   "name": "R",
   "pygments_lexer": "r",
   "version": "3.6.1"
  }
 },
 "nbformat": 4,
 "nbformat_minor": 4
}
