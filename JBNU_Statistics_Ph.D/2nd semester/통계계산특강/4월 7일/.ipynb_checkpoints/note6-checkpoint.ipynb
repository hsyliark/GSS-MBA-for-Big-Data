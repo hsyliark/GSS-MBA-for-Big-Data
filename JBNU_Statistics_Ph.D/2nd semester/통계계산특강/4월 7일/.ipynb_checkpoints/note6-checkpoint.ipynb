{
 "cells": [
  {
   "cell_type": "markdown",
   "metadata": {},
   "source": [
    "# importance sampling "
   ]
  },
  {
   "cell_type": "markdown",
   "metadata": {},
   "source": [
    "### 예제 1. "
   ]
  },
  {
   "cell_type": "markdown",
   "metadata": {},
   "source": [
    "$Z \\sim N(0,1)$"
   ]
  },
  {
   "cell_type": "markdown",
   "metadata": {},
   "source": [
    "우리는 $Pr(Z>4.5)$확률을 알고 싶다고 하자. "
   ]
  },
  {
   "cell_type": "markdown",
   "metadata": {},
   "source": [
    "[!!] 이런것을 해본적 있다. (노트3에 예제3번)"
   ]
  },
  {
   "cell_type": "markdown",
   "metadata": {},
   "source": [
    "---"
   ]
  },
  {
   "cell_type": "markdown",
   "metadata": {},
   "source": [
    "### 3주차 예제3: $\\int_{-\\infty}^{t}\\frac{1}{\\sqrt{2\\pi}}e^{-x^2/2}dx=?$"
   ]
  },
  {
   "cell_type": "code",
   "execution_count": 1,
   "metadata": {},
   "outputs": [
    {
     "data": {
      "text/html": [
       "0.9746"
      ],
      "text/latex": [
       "0.9746"
      ],
      "text/markdown": [
       "0.9746"
      ],
      "text/plain": [
       "[1] 0.9746"
      ]
     },
     "metadata": {},
     "output_type": "display_data"
    }
   ],
   "source": [
    "t<-1.96\n",
    "n<-10000\n",
    "X<-rnorm(n)\n",
    "sum(X<t)/n"
   ]
  },
  {
   "cell_type": "markdown",
   "metadata": {},
   "source": [
    "---"
   ]
  },
  {
   "cell_type": "markdown",
   "metadata": {},
   "source": [
    "똑같이 풀면된다. 즉 $\\int_{4.5}^{\\infty}\\frac{1}{\\sqrt{2\\pi}}e^{-x^2/2}dx$를 계산하면 된다."
   ]
  },
  {
   "cell_type": "code",
   "execution_count": 2,
   "metadata": {},
   "outputs": [
    {
     "data": {
      "text/html": [
       "0"
      ],
      "text/latex": [
       "0"
      ],
      "text/markdown": [
       "0"
      ],
      "text/plain": [
       "[1] 0"
      ]
     },
     "metadata": {},
     "output_type": "display_data"
    }
   ],
   "source": [
    "t<-4.5\n",
    "n<-10000\n",
    "X<-rnorm(n)\n",
    "sum(X>t)/n"
   ]
  },
  {
   "cell_type": "markdown",
   "metadata": {},
   "source": [
    "??"
   ]
  },
  {
   "cell_type": "markdown",
   "metadata": {},
   "source": [
    "**[문제점]** 4.5 이상을 얻을려면 굉장이 많은 샘플을 뽑아야함. "
   ]
  },
  {
   "cell_type": "code",
   "execution_count": 12,
   "metadata": {},
   "outputs": [
    {
     "data": {
      "text/html": [
       "2.74213118367203"
      ],
      "text/latex": [
       "2.74213118367203"
      ],
      "text/markdown": [
       "2.74213118367203"
      ],
      "text/plain": [
       "[1] 2.742131"
      ]
     },
     "metadata": {},
     "output_type": "display_data"
    }
   ],
   "source": [
    "max(rnorm(300))"
   ]
  },
  {
   "cell_type": "code",
   "execution_count": 20,
   "metadata": {},
   "outputs": [
    {
     "data": {
      "text/html": [
       "4.07845909009187"
      ],
      "text/latex": [
       "4.07845909009187"
      ],
      "text/markdown": [
       "4.07845909009187"
      ],
      "text/plain": [
       "[1] 4.078459"
      ]
     },
     "metadata": {},
     "output_type": "display_data"
    }
   ],
   "source": [
    "max(rnorm(3000))"
   ]
  },
  {
   "cell_type": "code",
   "execution_count": 31,
   "metadata": {},
   "outputs": [
    {
     "data": {
      "text/html": [
       "4.33064781572162"
      ],
      "text/latex": [
       "4.33064781572162"
      ],
      "text/markdown": [
       "4.33064781572162"
      ],
      "text/plain": [
       "[1] 4.330648"
      ]
     },
     "metadata": {},
     "output_type": "display_data"
    }
   ],
   "source": [
    "max(rnorm(30000))"
   ]
  },
  {
   "cell_type": "code",
   "execution_count": 40,
   "metadata": {},
   "outputs": [
    {
     "data": {
      "text/html": [
       "4.67159105313342"
      ],
      "text/latex": [
       "4.67159105313342"
      ],
      "text/markdown": [
       "4.67159105313342"
      ],
      "text/plain": [
       "[1] 4.671591"
      ]
     },
     "metadata": {},
     "output_type": "display_data"
    }
   ],
   "source": [
    "max(rnorm(300000))"
   ]
  },
  {
   "cell_type": "code",
   "execution_count": 67,
   "metadata": {},
   "outputs": [
    {
     "data": {
      "text/html": [
       "0"
      ],
      "text/latex": [
       "0"
      ],
      "text/markdown": [
       "0"
      ],
      "text/plain": [
       "[1] 0"
      ]
     },
     "metadata": {},
     "output_type": "display_data"
    }
   ],
   "source": [
    "sum(rnorm(300000)>4.5) "
   ]
  },
  {
   "cell_type": "markdown",
   "metadata": {},
   "source": [
    "30만개 뽑아봐야 0~2개정도 나오는것 같은데 우리는 아래를 근사시키겠다는 것 아닌가? "
   ]
  },
  {
   "cell_type": "code",
   "execution_count": 61,
   "metadata": {},
   "outputs": [
    {
     "data": {
      "text/html": [
       "1e-05"
      ],
      "text/latex": [
       "1e-05"
      ],
      "text/markdown": [
       "1e-05"
      ],
      "text/plain": [
       "[1] 1e-05"
      ]
     },
     "metadata": {},
     "output_type": "display_data"
    }
   ],
   "source": [
    "sum(rnorm(300000)>4.5) / 300000"
   ]
  },
  {
   "cell_type": "markdown",
   "metadata": {},
   "source": [
    "관심이 있는 이벤트가 잘 일어나지 않는 케이스라면 나이브한 접근법으로는 한계가 있음.\n",
    "\n",
    "매우 많은 시뮬레이션을 해야 한다는 문제점이 있음. "
   ]
  },
  {
   "cell_type": "markdown",
   "metadata": {},
   "source": [
    "**[문제상황 명확히 파악]**"
   ]
  },
  {
   "cell_type": "code",
   "execution_count": 78,
   "metadata": {},
   "outputs": [],
   "source": [
    "x<- -7000:7000/1000"
   ]
  },
  {
   "cell_type": "code",
   "execution_count": 79,
   "metadata": {},
   "outputs": [],
   "source": [
    "target<- function(x){\n",
    "    1/sqrt(2*pi) * exp(-x^2/2)\n",
    "}"
   ]
  },
  {
   "cell_type": "code",
   "execution_count": 80,
   "metadata": {},
   "outputs": [
    {
     "data": {
      "image/png": "[encoded data removed]",
      "text/plain": [
       "plot without title"
      ]
     },
     "metadata": {
      "image/png": {
       "height": 420,
       "width": 420
      }
     },
     "output_type": "display_data"
    }
   ],
   "source": [
    "plot(x,target(x),type='l')\n",
    "abline(v=4.5,col=2)"
   ]
  },
  {
   "cell_type": "markdown",
   "metadata": {},
   "source": [
    "잘 안보이므로 확대를 하자."
   ]
  },
  {
   "cell_type": "code",
   "execution_count": 81,
   "metadata": {},
   "outputs": [
    {
     "data": {
      "image/png": "[encoded data removed]",
      "text/plain": [
       "plot without title"
      ]
     },
     "metadata": {
      "image/png": {
       "height": 420,
       "width": 420
      }
     },
     "output_type": "display_data"
    }
   ],
   "source": [
    "plot(x,target(x),type='l',xlim=c(4,7),ylim=c(0,f(4)))\n",
    "abline(v=4.5,col=2)"
   ]
  },
  {
   "cell_type": "markdown",
   "metadata": {},
   "source": [
    "결국 빨간선의 오른쪽 영역을 적분하면 된다는 이야기."
   ]
  },
  {
   "cell_type": "markdown",
   "metadata": {},
   "source": [
    "이런것을 어디서 본 것 같다. "
   ]
  },
  {
   "cell_type": "markdown",
   "metadata": {},
   "source": [
    "무한 적분구간을 가지는 피적분함수를 적분하는 방법 (3주차!)\n",
    "\n",
    "---"
   ]
  },
  {
   "cell_type": "markdown",
   "metadata": {},
   "source": [
    "### 3주차 예제1: $\\int_0^{\\infty}\\frac{1}{(x+1)^2}dx=?$"
   ]
  },
  {
   "cell_type": "markdown",
   "metadata": {},
   "source": [
    "(해석적풀이)"
   ]
  },
  {
   "cell_type": "markdown",
   "metadata": {},
   "source": [
    "$\\int_0^{\\infty}\\frac{1}{(x+1)^2}dx=\\int_1^{\\infty}\\frac{1}{u^2}du$"
   ]
  },
  {
   "cell_type": "markdown",
   "metadata": {},
   "source": [
    "$=\\left[-u^{-1} \\right]_1^{\\infty}=1$"
   ]
  },
  {
   "cell_type": "markdown",
   "metadata": {},
   "source": [
    "(몬테카를로)"
   ]
  },
  {
   "cell_type": "markdown",
   "metadata": {},
   "source": [
    "아래와 같은 함수를 고려하자. "
   ]
  },
  {
   "cell_type": "markdown",
   "metadata": {},
   "source": [
    "$refer(x)=\\frac{1}{10}e^{-x/10},\\quad x\\geq 0$"
   ]
  },
  {
   "cell_type": "markdown",
   "metadata": {},
   "source": [
    "그런데, 우리가 관심있는 것은 $\\int_0^{\\infty} target(x)dx$이다. "
   ]
  },
  {
   "cell_type": "markdown",
   "metadata": {},
   "source": [
    "$refer(x)$는 지수분포이므로 $\\int_0^{\\infty}refer(x)dx=1$인데, 공교롭게도 적분구간이 겹친다. "
   ]
  },
  {
   "cell_type": "markdown",
   "metadata": {},
   "source": [
    "관심수식을 다시 표현하면 "
   ]
  },
  {
   "cell_type": "markdown",
   "metadata": {},
   "source": [
    "$\\int_0^{\\infty}targer(x)dx=\\int_0^{\\infty}\\frac{target(x)}{refer(x)}refer(x)dx$"
   ]
  },
  {
   "cell_type": "markdown",
   "metadata": {},
   "source": [
    "$=E\\left[\\frac{target(X)}{refer(X)} \\right]$"
   ]
  },
  {
   "cell_type": "markdown",
   "metadata": {},
   "source": [
    "와 같이 표현할 수 있다. "
   ]
  },
  {
   "cell_type": "code",
   "execution_count": 77,
   "metadata": {},
   "outputs": [
    {
     "data": {
      "text/html": [
       "1.0013041881067"
      ],
      "text/latex": [
       "1.0013041881067"
      ],
      "text/markdown": [
       "1.0013041881067"
      ],
      "text/plain": [
       "[1] 1.001304"
      ]
     },
     "metadata": {},
     "output_type": "display_data"
    }
   ],
   "source": [
    "n=10000\n",
    "lambda=0.05\n",
    "X<-rexp(n,lambda)\n",
    "refer<-lambda*exp(-X*lambda)\n",
    "target<-1/((1+X)^2)\n",
    "mean(target/refer)"
   ]
  },
  {
   "cell_type": "markdown",
   "metadata": {},
   "source": [
    "---"
   ]
  },
  {
   "cell_type": "markdown",
   "metadata": {},
   "source": [
    "위의 예제를 조금만 응용하면 될 것 같다. "
   ]
  },
  {
   "cell_type": "markdown",
   "metadata": {},
   "source": [
    "#### Step 1. target 함수의 조정"
   ]
  },
  {
   "cell_type": "markdown",
   "metadata": {},
   "source": [
    "타겟함수는 아래와 같다. "
   ]
  },
  {
   "cell_type": "code",
   "execution_count": 82,
   "metadata": {},
   "outputs": [
    {
     "data": {
      "image/png": "[encoded data removed]",
      "text/plain": [
       "plot without title"
      ]
     },
     "metadata": {
      "image/png": {
       "height": 420,
       "width": 420
      }
     },
     "output_type": "display_data"
    }
   ],
   "source": [
    "target<- function(x){\n",
    "    1/sqrt(2*pi) * exp(-x^2/2)\n",
    "}\n",
    "plot(x,target(x),type='l')\n",
    "abline(v=4.5,col=2)"
   ]
  },
  {
   "cell_type": "markdown",
   "metadata": {},
   "source": [
    "그런데 타겟함수를 아래와 같이 생각해도 무방하다. "
   ]
  },
  {
   "cell_type": "code",
   "execution_count": 84,
   "metadata": {},
   "outputs": [
    {
     "data": {
      "image/png": "[encoded data removed]",
      "text/plain": [
       "plot without title"
      ]
     },
     "metadata": {
      "image/png": {
       "height": 420,
       "width": 420
      }
     },
     "output_type": "display_data"
    }
   ],
   "source": [
    "plot(x,target(x),type='l',xlim=c(4.5,7),ylim=c(0,f(4.5)))\n",
    "abline(v=4.5,col=2)"
   ]
  },
  {
   "cell_type": "markdown",
   "metadata": {},
   "source": [
    "타겟함수를 $x>4.5$에서만 (제대로) 정의하고 나머지 값은 신경안써도 된다."
   ]
  },
  {
   "cell_type": "markdown",
   "metadata": {},
   "source": [
    "우리가 원래 하고싶었던것: $\\int_{4.5}^{\\infty}target(x)dx$"
   ]
  },
  {
   "cell_type": "markdown",
   "metadata": {},
   "source": [
    "$\\int_{4.5}^{\\infty}target(x)dx$"
   ]
  },
  {
   "cell_type": "markdown",
   "metadata": {},
   "source": [
    "$=\\int_{-\\infty}^{\\infty}target(x)I(x>4.5)dx$\n",
    "\n",
    "$=\\int_{-\\infty}^{\\infty}\\mbox{modified-}target(x)dx$\n"
   ]
  },
  {
   "cell_type": "markdown",
   "metadata": {},
   "source": [
    "원래 타겟함수: $\\frac{1}{\\sqrt{2\\pi}}e^{-x^2/2}$"
   ]
  },
  {
   "cell_type": "markdown",
   "metadata": {},
   "source": [
    "새로운 타겟함수: $\\frac{1}{\\sqrt{2\\pi}}e^{-x^2/2}I(x>4.5)$"
   ]
  },
  {
   "cell_type": "markdown",
   "metadata": {},
   "source": [
    "#### Step 2. reference 함수의 조정"
   ]
  },
  {
   "cell_type": "markdown",
   "metadata": {},
   "source": [
    "[사실] 원래 참조함수를 선택하는 조건은 (1) 확률밀도함수 이어야 하고 (2) 참조함수의 support가 타겟함수의 support를 커버하면 된다. "
   ]
  },
  {
   "cell_type": "markdown",
   "metadata": {},
   "source": [
    "support의 의미는\n",
    "\n",
    "$\\mbox{supp}(target)=\\big\\{x:target(x)\\neq 0 \\big\\}$\n",
    "\n",
    "이다."
   ]
  },
  {
   "cell_type": "markdown",
   "metadata": {},
   "source": [
    "참조함수의 support가 target 함수의 support를 커버한다는 말의 의미는 "
   ]
  },
  {
   "cell_type": "markdown",
   "metadata": {},
   "source": [
    "$\\mbox{supp}(taget) \\subset \\mbox{supp}(refer)$\n",
    "\n",
    "이다."
   ]
  },
  {
   "cell_type": "markdown",
   "metadata": {},
   "source": [
    "$target(x)$가 양수인곳은 반드시 $refer(x)$도 양수이어야 한다는 의미이다. "
   ]
  },
  {
   "cell_type": "markdown",
   "metadata": {},
   "source": [
    "$target(x)=0$ 인지점에서 $refer(x)>0$ 인것은 (이론상으로) 전혀 문제가 없다. "
   ]
  },
  {
   "cell_type": "markdown",
   "metadata": {},
   "source": [
    "[직관] 실질적으로는 참조함수의 support가 타겟함수의 support를 잘 덮어야 효율이 좋다. "
   ]
  },
  {
   "cell_type": "markdown",
   "metadata": {},
   "source": [
    "[난관] 무한적분 구간을 가지는 타겟함수를 덮기위해서 많이 선호하는 참조분포는 \"지수분포\"이다. "
   ]
  },
  {
   "cell_type": "markdown",
   "metadata": {},
   "source": [
    "그런데, 지수분포는 대부분의 값이 1에 몰려있고, 그래서 4.5이상 나오는 값들이 그다지 많지 않아 효율이 좋지 않다. "
   ]
  },
  {
   "cell_type": "markdown",
   "metadata": {},
   "source": [
    "[욕심] $x>4.5$에서만 랜덤변수가 발생되는 어떠한 pdf를 알 수 있을까? $\\to$ [해결] 조건부분포를 활용"
   ]
  },
  {
   "cell_type": "markdown",
   "metadata": {},
   "source": [
    "***참고분포: 지수분포에서 조건부 pdf를 유도하여 사용하자.***"
   ]
  },
  {
   "cell_type": "markdown",
   "metadata": {},
   "source": [
    "$\\mbox{modified-}refer(y)=\\frac{e^{-y}}{\\int_{4.5}^{\\infty}e^{-y}dy}$"
   ]
  },
  {
   "cell_type": "markdown",
   "metadata": {},
   "source": [
    "당연히 $\\mbox{modified-}refer(y)$ 역시 확률밀도함수이고, 타겟함수의 supp를 잘 덮으므로 (cover) 이론적으로 적절한 참조함수이다. "
   ]
  },
  {
   "cell_type": "markdown",
   "metadata": {},
   "source": [
    "또한 위와 같은 참조함수를 사용하면 4.5이상의 값들만 생성된다. 따라서 적분값을 효율적으로 추정할 수 있으므로 실용적이다.  "
   ]
  },
  {
   "cell_type": "markdown",
   "metadata": {},
   "source": [
    "갑자기 확률변수를 생성할 생각에 머리가 아프다. (rejection sampling, inverse cdf..?)"
   ]
  },
  {
   "cell_type": "markdown",
   "metadata": {},
   "source": [
    "하지만 어려운 방법으로 하지 않아도 쉽게 샘플링 할 수 있다. "
   ]
  },
  {
   "cell_type": "markdown",
   "metadata": {},
   "source": [
    "$\\mbox{modified}-refer(y)$의 분모만 계산해보자. "
   ]
  },
  {
   "cell_type": "markdown",
   "metadata": {},
   "source": [
    "$\\int_{4.5}^{\\infty}e^{-y}dy=\\big[-e^{-y}\\big]_{4.5}^{\\infty}=e^{-4.5}$"
   ]
  },
  {
   "cell_type": "markdown",
   "metadata": {},
   "source": [
    "결국 $\\mbox{modified-}refer(y)=e^{-(y-4.5)}$ 가 된다. "
   ]
  },
  {
   "cell_type": "markdown",
   "metadata": {},
   "source": [
    "이것은 지수분포에서 4.5를 더한것의 pdf가 된다. "
   ]
  },
  {
   "cell_type": "markdown",
   "metadata": {},
   "source": [
    "따라서 $modified\\mbox{-}refer(y)$에서 확률변수를 얻기위해서는 \n",
    "\n",
    "(i) 평균이 1인 지수분포를 얻고, \n",
    "\n",
    "(ii) (i)의 결과에서 4.5를 더하면\n",
    "\n",
    "된다. "
   ]
  },
  {
   "cell_type": "markdown",
   "metadata": {},
   "source": [
    "#### \\# 사실은 Step1은 필요없다. (참조함수만 조정하면 된다.)"
   ]
  },
  {
   "cell_type": "markdown",
   "metadata": {},
   "source": [
    "앞으로의 전략은 수정된 참조분포에서 확률변수 $Y_1,\\dots,Y_n$을 생성하고 "
   ]
  },
  {
   "cell_type": "markdown",
   "metadata": {},
   "source": [
    "$\\frac{target^*(Y_1)}{refer^*(Y_1)},\\frac{target^*(Y_2)}{refer^*(Y_2)},\\dots \\frac{target^*(Y_n)}{refer^*(Y_n)}$, "
   ]
  },
  {
   "cell_type": "markdown",
   "metadata": {},
   "source": [
    "의 sample mean을 구하는 것이다. (단 $target^*$, $refer^*$는 각각 수정된(modified) 버전)"
   ]
  },
  {
   "cell_type": "markdown",
   "metadata": {},
   "source": [
    "그런데 $Y_1,Y_2,\\dots,Y_n$의 값은 항상 4.5보다 크므로 "
   ]
  },
  {
   "cell_type": "markdown",
   "metadata": {},
   "source": [
    "$target(Y_1)=target^*(Y_1)$"
   ]
  },
  {
   "cell_type": "markdown",
   "metadata": {},
   "source": [
    "$target(Y_2)=target^*(Y_2)$"
   ]
  },
  {
   "cell_type": "markdown",
   "metadata": {},
   "source": [
    "$...$"
   ]
  },
  {
   "cell_type": "markdown",
   "metadata": {},
   "source": [
    "$target(Y_n)=target^*(Y_n)$"
   ]
  },
  {
   "cell_type": "markdown",
   "metadata": {},
   "source": [
    "이다. "
   ]
  },
  {
   "cell_type": "markdown",
   "metadata": {},
   "source": [
    "### Step 3. 이제 $\\frac{target(y)}{modified^*(y)}$를 계산해보자. "
   ]
  },
  {
   "cell_type": "markdown",
   "metadata": {},
   "source": [
    "$\\frac{target(y)}{modified^*(y)}=\\frac{A}{B}$"
   ]
  },
  {
   "cell_type": "markdown",
   "metadata": {},
   "source": [
    "$A=\\frac{1}{\\sqrt{2\\pi}}e^{-y^2/2}$"
   ]
  },
  {
   "cell_type": "markdown",
   "metadata": {},
   "source": [
    "$B=e^{-(y-4.5)}$"
   ]
  },
  {
   "cell_type": "markdown",
   "metadata": {},
   "source": [
    "따라서 $A/B=\\frac{1}{\\sqrt{2\\pi}}e^{-y^2/2+y-4.5}$"
   ]
  },
  {
   "cell_type": "markdown",
   "metadata": {},
   "source": [
    "편의상 $A/B$를 `k`로 정의하자."
   ]
  },
  {
   "cell_type": "markdown",
   "metadata": {},
   "source": [
    "(풀이)"
   ]
  },
  {
   "cell_type": "code",
   "execution_count": 110,
   "metadata": {},
   "outputs": [
    {
     "data": {
      "text/html": [
       "3.39330949626975e-06"
      ],
      "text/latex": [
       "3.39330949626975e-06"
      ],
      "text/markdown": [
       "3.39330949626975e-06"
      ],
      "text/plain": [
       "[1] 3.393309e-06"
      ]
     },
     "metadata": {},
     "output_type": "display_data"
    }
   ],
   "source": [
    "n<-300000\n",
    "Y<-rexp(n)+4.5\n",
    "k<-function(y){\n",
    "    exp(-y^2/2+y-4.5)/sqrt(2*pi)\n",
    "}\n",
    "mean(k(Y))"
   ]
  },
  {
   "cell_type": "markdown",
   "metadata": {},
   "source": [
    "따라서 $Pr(Z>4.5)=3.39090777056732e-06$"
   ]
  },
  {
   "cell_type": "markdown",
   "metadata": {},
   "source": [
    "참값은 "
   ]
  },
  {
   "cell_type": "code",
   "execution_count": 109,
   "metadata": {},
   "outputs": [
    {
     "data": {
      "text/html": [
       "3.39767312473006e-06"
      ],
      "text/latex": [
       "3.39767312473006e-06"
      ],
      "text/markdown": [
       "3.39767312473006e-06"
      ],
      "text/plain": [
       "[1] 3.397673e-06"
      ]
     },
     "metadata": {},
     "output_type": "display_data"
    }
   ],
   "source": [
    "pnorm(-4.5)"
   ]
  },
  {
   "cell_type": "markdown",
   "metadata": {},
   "source": [
    "---"
   ]
  },
  {
   "cell_type": "markdown",
   "metadata": {},
   "source": [
    "### 일반화 "
   ]
  },
  {
   "cell_type": "markdown",
   "metadata": {},
   "source": [
    "원래문제: $\\int_{4.5}^{\\infty}\\frac{1}{\\sqrt{2\\pi}}e^{-y^2/2}dy=?$"
   ]
  },
  {
   "cell_type": "markdown",
   "metadata": {},
   "source": [
    "(1) (조정된) 참조분포: $g$\n",
    "- $g$는 지수분포에서 4.5를 더한 확률변수의 pdf\n",
    "- $g(y)=\\frac{e^{-y}}{\\int_{4.5}^{\\infty}e^{-y}dy}=e^{-(y-4.5)}$"
   ]
  },
  {
   "cell_type": "markdown",
   "metadata": {},
   "source": [
    "(2) 타겟함수: $f$\n",
    "- $f$는 정규분포의 pdf \n",
    "- $f(x)=\\frac{1}{\\sqrt{2\\pi}}e^{-x^2/2}$"
   ]
  },
  {
   "cell_type": "markdown",
   "metadata": {},
   "source": [
    "(3) 타겟을 조정하는 함수 $h$\n",
    "- $h(x)=I(x>4.5)$"
   ]
  },
  {
   "cell_type": "markdown",
   "metadata": {},
   "source": [
    "우리가 원래 원했던것: $\\int_{4.5}^{\\infty}f(x)dx=\\int_{-\\infty}^{\\infty}f(x)h(x)dx=E_f(h(X))$"
   ]
  },
  {
   "cell_type": "markdown",
   "metadata": {},
   "source": [
    "대신구할것: $\\frac{1}{n}\\sum_{i=1}^n\\frac{f(Y_i)h(Y_i)}{g(Y_i)}$"
   ]
  },
  {
   "cell_type": "markdown",
   "metadata": {},
   "source": [
    "---"
   ]
  },
  {
   "cell_type": "markdown",
   "metadata": {},
   "source": [
    "$X$를 확률변수라고 하고 $f(x)$는 $X$의 pdf라고 하자. "
   ]
  },
  {
   "cell_type": "markdown",
   "metadata": {},
   "source": [
    "$f(x)$와 전혀 상관없는 또다른 pdf $g(x)$를 생각하자. "
   ]
  },
  {
   "cell_type": "markdown",
   "metadata": {},
   "source": [
    "구분을 하기 위해서 $g$를 따르는 확률변수 $Y$라고 하자."
   ]
  },
  {
   "cell_type": "markdown",
   "metadata": {},
   "source": [
    "즉 \n",
    "\n",
    "- $X \\sim F(\\cdot)$\n",
    "- $Y \\sim G(\\cdot)$"
   ]
  },
  {
   "cell_type": "markdown",
   "metadata": {},
   "source": [
    "$E_f\\big[h(X)\\big]=\\int h(x)f(x)dx= \\int h(x) \\frac{f(x)}{g(x)}g(x)dx$"
   ]
  },
  {
   "cell_type": "markdown",
   "metadata": {},
   "source": [
    "$=\\int h(y)\\frac{f(y)}{g(y)}g(y)dy=E_g\\big[\\frac{h(Y)f(Y)}{g(Y)}\\big]$"
   ]
  },
  {
   "cell_type": "markdown",
   "metadata": {},
   "source": [
    "위의 식이 의미하는 바는 아래와 같다. "
   ]
  },
  {
   "cell_type": "markdown",
   "metadata": {},
   "source": [
    "(a) $X_1,\\dots X_n$ 을 $f(x)$로부터 추출한뒤, 함수 $h$를 취해서 $h(X_1),\\dots,h(X_n)$을 만들고 표본평균을 구한다. "
   ]
  },
  {
   "cell_type": "markdown",
   "metadata": {},
   "source": [
    "(b) $Y_1,\\dots,Y_n$ 을 $g(y)$에서 추출한 뒤, 함수 $h$, $f$를 취하여 $\\frac{h(Y_1)f(Y_1)}{g(Y_1)},\\frac{h(Y_2)f(Y_2)}{g(Y_2)},\\dots,\\frac{h(Y_n)f(Y_n)}{g(Y_n)} $를 만들고 표본평균을 구한다. "
   ]
  },
  {
   "cell_type": "markdown",
   "metadata": {},
   "source": [
    "(a)와 (b)가 근사적으로 동일하다."
   ]
  }
 ],
 "metadata": {
  "kernelspec": {
   "display_name": "R",
   "language": "R",
   "name": "ir"
  },
  "language_info": {
   "codemirror_mode": "r",
   "file_extension": ".r",
   "mimetype": "text/x-r-source",
   "name": "R",
   "pygments_lexer": "r",
   "version": "3.6.1"
  }
 },
 "nbformat": 4,
 "nbformat_minor": 5
}
