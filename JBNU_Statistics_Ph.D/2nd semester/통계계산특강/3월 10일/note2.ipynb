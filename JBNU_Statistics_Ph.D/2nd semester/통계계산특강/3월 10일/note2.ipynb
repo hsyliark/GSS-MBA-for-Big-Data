{
 "cells": [
  {
   "cell_type": "markdown",
   "metadata": {},
   "source": [
    "# 통계계산 2주차"
   ]
  },
  {
   "cell_type": "markdown",
   "metadata": {},
   "source": [
    "### 지난시간 복습"
   ]
  },
  {
   "cell_type": "markdown",
   "metadata": {},
   "source": [
    "원주율을 계산하는 아이디어는 아래와 같다. "
   ]
  },
  {
   "cell_type": "markdown",
   "metadata": {},
   "source": [
    "(1) 사각형을 하나 만든다. "
   ]
  },
  {
   "cell_type": "markdown",
   "metadata": {},
   "source": [
    "(2) 원을 하나 만든다. "
   ]
  },
  {
   "cell_type": "markdown",
   "metadata": {},
   "source": [
    "(3) 사각형에 랜덤으로 점을 뿌려 원안에 들어가면 hit, 원안에 들어가지 않으면 miss로 코딩한다. "
   ]
  },
  {
   "cell_type": "markdown",
   "metadata": {},
   "source": [
    "(4) hit,miss의 갯수를 토대로 넓이를 추정. "
   ]
  },
  {
   "cell_type": "markdown",
   "metadata": {},
   "source": [
    "#### *그런데 생각해보니까 꼭 모양이 원일 필요는 없지 않을까?*"
   ]
  },
  {
   "cell_type": "markdown",
   "metadata": {},
   "source": [
    "---\n",
    "\n",
    "### Hit or Miss 몬테카를로 적분법"
   ]
  },
  {
   "cell_type": "markdown",
   "metadata": {},
   "source": [
    "원주율 구하는 예제를 응용하여 아래의 적분을 구해보자. "
   ]
  },
  {
   "cell_type": "markdown",
   "metadata": {},
   "source": [
    "### 예제1: $\\int_0^1x^3dx=?$"
   ]
  },
  {
   "cell_type": "markdown",
   "metadata": {},
   "source": [
    "(해석적풀이)"
   ]
  },
  {
   "cell_type": "markdown",
   "metadata": {},
   "source": [
    "$\\int_0^1x^3dx=\\big[\\frac{1}{4}x^4\\big]_0^1=\\frac{1}{4}$"
   ]
  },
  {
   "cell_type": "markdown",
   "metadata": {},
   "source": [
    "(몬테카를로)"
   ]
  },
  {
   "cell_type": "markdown",
   "metadata": {},
   "source": [
    "(1) 사각형을 만든다. "
   ]
  },
  {
   "cell_type": "markdown",
   "metadata": {},
   "source": [
    "(2) 사각형안에서 랜덤으로 점을 발생시킨다음에 $x^3$을 기준으로 hit or miss 를 판단. "
   ]
  },
  {
   "cell_type": "markdown",
   "metadata": {},
   "source": [
    "(3) hit, miss의 갯수를 통하여 적분값을 추론. "
   ]
  },
  {
   "cell_type": "code",
   "execution_count": 1,
   "metadata": {},
   "outputs": [],
   "source": [
    "n<-10000\n",
    "x<-runif(n)\n",
    "y<-runif(n)\n",
    "hitmiss<- y<x^3"
   ]
  },
  {
   "cell_type": "code",
   "execution_count": 18,
   "metadata": {},
   "outputs": [
    {
     "data": {
      "text/html": [
       "0.25078"
      ],
      "text/latex": [
       "0.25078"
      ],
      "text/markdown": [
       "0.25078"
      ],
      "text/plain": [
       "[1] 0.25078"
      ]
     },
     "metadata": {},
     "output_type": "display_data"
    }
   ],
   "source": [
    "mean(hitmiss)"
   ]
  },
  {
   "cell_type": "markdown",
   "metadata": {},
   "source": [
    "### 예제2: $\\int_0^2x^3dx=?$"
   ]
  },
  {
   "cell_type": "markdown",
   "metadata": {},
   "source": [
    "(해석적풀이)\n",
    "\n",
    "$\\int_0^2x^3dx=\\big[\\frac{1}{4}x^4\\big]_0^2=4$"
   ]
  },
  {
   "cell_type": "markdown",
   "metadata": {},
   "source": [
    "(몬테카를로)"
   ]
  },
  {
   "cell_type": "code",
   "execution_count": 41,
   "metadata": {},
   "outputs": [],
   "source": [
    "n<-1e5\n",
    "x<-runif(n)*2\n",
    "y<-runif(n)*8\n",
    "hitmiss<- y<x^3"
   ]
  },
  {
   "cell_type": "code",
   "execution_count": 42,
   "metadata": {},
   "outputs": [
    {
     "data": {
      "text/html": [
       "4.02848"
      ],
      "text/latex": [
       "4.02848"
      ],
      "text/markdown": [
       "4.02848"
      ],
      "text/plain": [
       "[1] 4.02848"
      ]
     },
     "metadata": {},
     "output_type": "display_data"
    }
   ],
   "source": [
    "mean(hitmiss)*2*8"
   ]
  },
  {
   "cell_type": "markdown",
   "metadata": {},
   "source": [
    "### 예제3: $\\int_{-1}^2e^xdx=?$"
   ]
  },
  {
   "cell_type": "markdown",
   "metadata": {},
   "source": [
    "(해석적풀이)"
   ]
  },
  {
   "cell_type": "markdown",
   "metadata": {},
   "source": [
    "$\\int_{-1}^{2}e^xdx=\\big[e^x\\big]_{-1}^2=e^2-e^{-1}\\approx 7.02117665775921$"
   ]
  },
  {
   "cell_type": "code",
   "execution_count": 44,
   "metadata": {},
   "outputs": [
    {
     "data": {
      "text/html": [
       "7.02117665775921"
      ],
      "text/latex": [
       "7.02117665775921"
      ],
      "text/markdown": [
       "7.02117665775921"
      ],
      "text/plain": [
       "[1] 7.021177"
      ]
     },
     "metadata": {},
     "output_type": "display_data"
    }
   ],
   "source": [
    "exp(2)-exp(-1)"
   ]
  },
  {
   "cell_type": "markdown",
   "metadata": {},
   "source": [
    "(몬테카를로)"
   ]
  },
  {
   "cell_type": "code",
   "execution_count": 70,
   "metadata": {},
   "outputs": [],
   "source": [
    "n<-1e5\n",
    "x<-runif(n)*3-1\n",
    "y<-runif(n)*exp(2)\n",
    "hitmiss<- y<exp(x)"
   ]
  },
  {
   "cell_type": "code",
   "execution_count": 71,
   "metadata": {},
   "outputs": [
    {
     "data": {
      "text/html": [
       "7.02300225978963"
      ],
      "text/latex": [
       "7.02300225978963"
      ],
      "text/markdown": [
       "7.02300225978963"
      ],
      "text/plain": [
       "[1] 7.023002"
      ]
     },
     "metadata": {},
     "output_type": "display_data"
    }
   ],
   "source": [
    "mean(hitmiss)*3*exp(2)"
   ]
  },
  {
   "cell_type": "markdown",
   "metadata": {},
   "source": [
    "(몬테카를로2)"
   ]
  },
  {
   "cell_type": "markdown",
   "metadata": {},
   "source": [
    "$e=2.718???$ 이므로 $e^2<9$ 이다. "
   ]
  },
  {
   "cell_type": "code",
   "execution_count": 111,
   "metadata": {},
   "outputs": [],
   "source": [
    "n<-1e5\n",
    "x<-runif(n)*3-1\n",
    "y<-runif(n)*9\n",
    "hitmiss<- y<exp(x)"
   ]
  },
  {
   "cell_type": "code",
   "execution_count": 112,
   "metadata": {},
   "outputs": [
    {
     "data": {
      "text/html": [
       "7.01028"
      ],
      "text/latex": [
       "7.01028"
      ],
      "text/markdown": [
       "7.01028"
      ],
      "text/plain": [
       "[1] 7.01028"
      ]
     },
     "metadata": {},
     "output_type": "display_data"
    }
   ],
   "source": [
    "mean(hitmiss)*3*9"
   ]
  },
  {
   "cell_type": "markdown",
   "metadata": {},
   "source": [
    "$e=2.718???$ 이므로 $e^2<100$ 이다. "
   ]
  },
  {
   "cell_type": "code",
   "execution_count": 141,
   "metadata": {},
   "outputs": [],
   "source": [
    "n<-1e5\n",
    "x<-runif(n)*3-1\n",
    "y<-runif(n)*100\n",
    "hitmiss<- y<exp(x)"
   ]
  },
  {
   "cell_type": "code",
   "execution_count": 142,
   "metadata": {},
   "outputs": [
    {
     "data": {
      "text/html": [
       "6.777"
      ],
      "text/latex": [
       "6.777"
      ],
      "text/markdown": [
       "6.777"
      ],
      "text/plain": [
       "[1] 6.777"
      ]
     },
     "metadata": {},
     "output_type": "display_data"
    }
   ],
   "source": [
    "mean(hitmiss)*3*100"
   ]
  },
  {
   "cell_type": "markdown",
   "metadata": {},
   "source": [
    "### !!! $y$축의 바운드를 적당히 구해도 괜찮다.  "
   ]
  },
  {
   "cell_type": "markdown",
   "metadata": {},
   "source": [
    "### !!! 그런데 효율이 안좋아 진다. "
   ]
  },
  {
   "cell_type": "markdown",
   "metadata": {},
   "source": [
    "--- "
   ]
  },
  {
   "cell_type": "markdown",
   "metadata": {},
   "source": [
    "일반화하여 hit or miss 알고리즘을 정리하여 보자. "
   ]
  },
  {
   "cell_type": "markdown",
   "metadata": {},
   "source": [
    "(조건)"
   ]
  },
  {
   "cell_type": "markdown",
   "metadata": {},
   "source": [
    "적분구간이 $[a,b]$이고 피적분 함수 $g(x)$가 양수라고 하자.  "
   ]
  },
  {
   "cell_type": "markdown",
   "metadata": {},
   "source": [
    "피적분함수 $g(x)$는 구간 $[a,b]$에서 유계라고 하자. "
   ]
  },
  {
   "cell_type": "markdown",
   "metadata": {},
   "source": [
    "상수 $c$는 구간 $[a,b]$에서 $g(x)$의 최대값보다 큰 어떠한 함수라고 하자. "
   ]
  },
  {
   "cell_type": "markdown",
   "metadata": {},
   "source": [
    "$0\\leq g(x) \\leq \\max_{x \\in [a,b]}g(x)\\leq c <\\infty $."
   ]
  },
  {
   "cell_type": "markdown",
   "metadata": {},
   "source": [
    "(설명)"
   ]
  },
  {
   "cell_type": "markdown",
   "metadata": {},
   "source": [
    "사각형의 영역은 $R=\\big\\{(x,y): a\\leq x \\leq b, 0\\leq y\\leq c \\big\\}$ 이다. "
   ]
  },
  {
   "cell_type": "markdown",
   "metadata": {},
   "source": [
    "사각형의 밑볕의 길이는 $(b-a)$ 높이는 $c$가 된다. "
   ]
  },
  {
   "cell_type": "markdown",
   "metadata": {},
   "source": [
    "적분 $\\int_{a}^bg(x)dx$를 추정하는 과정은 아래와 같이 정리할 수 있다. "
   ]
  },
  {
   "cell_type": "markdown",
   "metadata": {},
   "source": [
    "### ***[알고리즘]*** "
   ]
  },
  {
   "cell_type": "markdown",
   "metadata": {},
   "source": [
    "(1) 균등분포를 활용하여 $n$쌍의 난수 $(U_i,U_i')$를 생성한다. "
   ]
  },
  {
   "cell_type": "markdown",
   "metadata": {},
   "source": [
    "(2) $X_i=a+U_i(b-a)$, $Y_i=cU_i'$를 계산. "
   ]
  },
  {
   "cell_type": "markdown",
   "metadata": {},
   "source": [
    "(3) $Y_i\\leq g(X_i)$ 가 성립하면 hit, 그렇지 않으면 miss 로 판단한다. hit의 갯수를 $n_{hit}$이라고 하자. "
   ]
  },
  {
   "cell_type": "markdown",
   "metadata": {},
   "source": [
    "(4) 적분값을 $\\frac{n_{hit}}{n}\\times (b-a)c$로 추정한다. "
   ]
  },
  {
   "cell_type": "markdown",
   "metadata": {},
   "source": [
    "---"
   ]
  },
  {
   "cell_type": "markdown",
   "metadata": {},
   "source": [
    "(질문)\n",
    "\n",
    "선생님, 피적분함수가 $g(x)$가 유계가 아니면 어떻게 하나요? 그러니까 아래는 어떻게 적분하죠? "
   ]
  },
  {
   "cell_type": "markdown",
   "metadata": {},
   "source": [
    "$\\int_0^1\\frac{1}{\\sqrt{x}}dx=?$"
   ]
  },
  {
   "cell_type": "markdown",
   "metadata": {},
   "source": [
    "해석적으로 풀면, "
   ]
  },
  {
   "cell_type": "markdown",
   "metadata": {},
   "source": [
    "$\\int_0^1\\frac{1}{\\sqrt{x}}dx=\\int_0^1 x^{-1/2}dx=\\big[2x^{1/2}\\big]_0^1=\\big[2\\sqrt{x}\\big]_0^1=2$"
   ]
  },
  {
   "cell_type": "markdown",
   "metadata": {},
   "source": [
    "이므로 명확한 답이 있는데, 몬테카를로 방법으로 풀기는 어려워 보인다. "
   ]
  },
  {
   "cell_type": "markdown",
   "metadata": {},
   "source": [
    "--- "
   ]
  },
  {
   "cell_type": "markdown",
   "metadata": {},
   "source": [
    "### 표본평균 몬테카를로 적분법"
   ]
  },
  {
   "cell_type": "markdown",
   "metadata": {},
   "source": [
    "(아이디어)"
   ]
  },
  {
   "cell_type": "markdown",
   "metadata": {},
   "source": [
    "$X \\sim U(0,1)$ 이라고 하자. "
   ]
  },
  {
   "cell_type": "markdown",
   "metadata": {},
   "source": [
    "$g(x)=\\frac{1}{\\sqrt{x}}$를 구간 $[0,1]$에서 적분을 하고 싶다고 하자. "
   ]
  },
  {
   "cell_type": "markdown",
   "metadata": {},
   "source": [
    "$X$가 랜덤변수이므로 $g(X)=\\frac{1}{\\sqrt{X}}$역시 랜덤변수이다. (note: $g(x)$ measurable function) "
   ]
  },
  {
   "cell_type": "markdown",
   "metadata": {},
   "source": [
    "$g(X)$ 역시 하나의 확률변수이므로, 기대값이 있을텐데, 그 기대값은 아래와 같이 정의할 수 있다. (항상 기대값이 존재함?) "
   ]
  },
  {
   "cell_type": "markdown",
   "metadata": {},
   "source": [
    "$E\\big[ g(X)\\big]=\\int_0^1 g(x)f(x)dx$"
   ]
  },
  {
   "cell_type": "markdown",
   "metadata": {},
   "source": [
    "여기에서 $f(x)$는 $X$의 pdf이다. "
   ]
  },
  {
   "cell_type": "markdown",
   "metadata": {},
   "source": [
    "그런데 $X$는 균등분포를 따른다고 했으므로 "
   ]
  },
  {
   "cell_type": "markdown",
   "metadata": {},
   "source": [
    "$f(x)=1, \\quad 0\\leq x \\leq 1$. "
   ]
  },
  {
   "cell_type": "markdown",
   "metadata": {},
   "source": [
    "그러므로, "
   ]
  },
  {
   "cell_type": "markdown",
   "metadata": {},
   "source": [
    "$E\\big[ g(X)\\big]=\\int_0^1 g(x)f(x)dx=\\int_0^1 g(x)dx$"
   ]
  },
  {
   "cell_type": "markdown",
   "metadata": {},
   "source": [
    "이다."
   ]
  },
  {
   "cell_type": "markdown",
   "metadata": {},
   "source": [
    "!!! $\\int_0^1 g(x)dx$를 구하기 위해서 $E\\big(g(X)\\big)$를 구해도 된다. "
   ]
  },
  {
   "cell_type": "markdown",
   "metadata": {},
   "source": [
    "$E\\big( g(X)\\big)\\approx \\frac{g(X_1)+g(X_2)+\\dots+g(X_n)}{n}$ 이므로 (LLN), 확률변수의 표본평균값을 활용해 적분을 근사할 수 있음. "
   ]
  },
  {
   "cell_type": "markdown",
   "metadata": {},
   "source": [
    "### 예제 4: $\\int_0^1\\frac{1}{\\sqrt{x}}dx=?$"
   ]
  },
  {
   "cell_type": "markdown",
   "metadata": {},
   "source": [
    "(해석적풀이)"
   ]
  },
  {
   "cell_type": "markdown",
   "metadata": {},
   "source": [
    "$\\int_0^1\\frac{1}{\\sqrt{x}}dx=\\int_0^1 x^{-1/2}dx=\\big[2x^{1/2}\\big]_0^1=\\big[2\\sqrt{x}\\big]_0^1=2$"
   ]
  },
  {
   "cell_type": "markdown",
   "metadata": {},
   "source": [
    "(몬테카를로)"
   ]
  },
  {
   "cell_type": "code",
   "execution_count": 164,
   "metadata": {},
   "outputs": [],
   "source": [
    "n<-1e5\n",
    "x<-runif(n)\n",
    "gx<-1/sqrt(x)"
   ]
  },
  {
   "cell_type": "code",
   "execution_count": 165,
   "metadata": {},
   "outputs": [
    {
     "data": {
      "text/html": [
       "1.99190389693183"
      ],
      "text/latex": [
       "1.99190389693183"
      ],
      "text/markdown": [
       "1.99190389693183"
      ],
      "text/plain": [
       "[1] 1.991904"
      ]
     },
     "metadata": {},
     "output_type": "display_data"
    }
   ],
   "source": [
    "mean(gx)"
   ]
  },
  {
   "cell_type": "markdown",
   "metadata": {},
   "source": [
    "### 예제3: $\\int_{-1}^2e^xdx=?$ 를 다시풀자.."
   ]
  },
  {
   "cell_type": "markdown",
   "metadata": {},
   "source": [
    "(해석적풀이)"
   ]
  },
  {
   "cell_type": "markdown",
   "metadata": {},
   "source": [
    "$\\int_{-1}^{2}e^xdx=\\big[e^x\\big]_{-1}^2=e^2-e^{-1}\\approx 7.02117665775921$"
   ]
  },
  {
   "cell_type": "markdown",
   "metadata": {},
   "source": [
    "(몬테카를로)"
   ]
  },
  {
   "cell_type": "code",
   "execution_count": 172,
   "metadata": {},
   "outputs": [],
   "source": [
    "n<-1e5\n",
    "x<-runif(n)*3-1\n",
    "gx<-exp(x)"
   ]
  },
  {
   "cell_type": "code",
   "execution_count": 173,
   "metadata": {},
   "outputs": [
    {
     "data": {
      "text/html": [
       "7.00239565169856"
      ],
      "text/latex": [
       "7.00239565169856"
      ],
      "text/markdown": [
       "7.00239565169856"
      ],
      "text/plain": [
       "[1] 7.002396"
      ]
     },
     "metadata": {},
     "output_type": "display_data"
    }
   ],
   "source": [
    "mean(gx)*3"
   ]
  },
  {
   "cell_type": "markdown",
   "metadata": {},
   "source": [
    "--- "
   ]
  },
  {
   "cell_type": "markdown",
   "metadata": {},
   "source": [
    "일반화하여 $\\int_a^b g(x)dx$를 계산하는 알고리즘을 정리하여 보자. "
   ]
  },
  {
   "cell_type": "markdown",
   "metadata": {},
   "source": [
    "### ***[알고리즘]***"
   ]
  },
  {
   "cell_type": "markdown",
   "metadata": {},
   "source": [
    "(1) 균등분포에서 $n$개의 난수를 생성한다. "
   ]
  },
  {
   "cell_type": "markdown",
   "metadata": {},
   "source": [
    "(2) $X_i=a+U_i(b-a)$ 를 계산한다. "
   ]
  },
  {
   "cell_type": "markdown",
   "metadata": {},
   "source": [
    "(3) $g(X_i)$, $i=1,2,\\dots, n$을 계산한다. "
   ]
  },
  {
   "cell_type": "markdown",
   "metadata": {},
   "source": [
    "(4) $\\Big(\\frac{1}{n}\\sum_{i=1}^n g(X_i)\\Big)\\times (b-a)$로 적분값을 추정한다. "
   ]
  },
  {
   "cell_type": "code",
   "execution_count": null,
   "metadata": {},
   "outputs": [],
   "source": []
  }
 ],
 "metadata": {
  "kernelspec": {
   "display_name": "R",
   "language": "R",
   "name": "ir"
  },
  "language_info": {
   "codemirror_mode": "r",
   "file_extension": ".r",
   "mimetype": "text/x-r-source",
   "name": "R",
   "pygments_lexer": "r",
   "version": "3.6.1"
  }
 },
 "nbformat": 4,
 "nbformat_minor": 5
}
