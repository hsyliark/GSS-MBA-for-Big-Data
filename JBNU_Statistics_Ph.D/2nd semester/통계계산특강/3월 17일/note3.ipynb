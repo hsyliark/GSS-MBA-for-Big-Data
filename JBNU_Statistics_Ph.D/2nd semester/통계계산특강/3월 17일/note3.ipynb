{
 "cells": [
  {
   "cell_type": "markdown",
   "id": "linear-seminar",
   "metadata": {},
   "source": [
    "# 통계계산 3주차 "
   ]
  },
  {
   "cell_type": "markdown",
   "id": "natural-found",
   "metadata": {},
   "source": [
    "### 지난시간 복습"
   ]
  },
  {
   "cell_type": "markdown",
   "id": "narrow-renewal",
   "metadata": {},
   "source": [
    "원주율을 계산하는 아이디어를 hit or miss 방법으로 확장함 "
   ]
  },
  {
   "cell_type": "markdown",
   "id": "subtle-integer",
   "metadata": {},
   "source": [
    "hit or miss는 함수가 bound되어있어야 한다는 단점이 존재하였음. (사각형을 만들어야하니까..)\n",
    "- 예를들어서 $\\frac{1}{\\sqrt{x}}$와 같은 함수는 몬타카를로방법으로 적분값을 근사하기 어려움.  "
   ]
  },
  {
   "cell_type": "markdown",
   "id": "experienced-smile",
   "metadata": {},
   "source": [
    "이를 보완하기 위해서 표본평균 몬테카를로 방법이 등장하였는데, 아이디어는 $X$의 구간에서만 랜덤으로 확률변수를 뽑고 이를 이용해서.. "
   ]
  },
  {
   "cell_type": "markdown",
   "id": "cognitive-zimbabwe",
   "metadata": {},
   "source": [
    "#### 복습예제: $\\int_0^1\\frac{1}{\\sqrt{x}}dx=?$"
   ]
  },
  {
   "cell_type": "markdown",
   "id": "endless-hours",
   "metadata": {},
   "source": [
    "(해석적풀이)"
   ]
  },
  {
   "cell_type": "markdown",
   "id": "humanitarian-health",
   "metadata": {},
   "source": [
    "$\\int_0^1\\frac{1}{\\sqrt{x}}dx=\\int_0^1 x^{-1/2}dx=\\big[2x^{1/2}\\big]_0^1=\\big[2\\sqrt{x}\\big]_0^1=2$"
   ]
  },
  {
   "cell_type": "markdown",
   "id": "attempted-terror",
   "metadata": {},
   "source": [
    "(몬테카를로)"
   ]
  },
  {
   "cell_type": "code",
   "execution_count": 1,
   "id": "mysterious-documentary",
   "metadata": {},
   "outputs": [],
   "source": [
    "n<-1e5\n",
    "x<-runif(n)\n",
    "gx<-1/sqrt(x)"
   ]
  },
  {
   "cell_type": "code",
   "execution_count": 2,
   "id": "consecutive-mounting",
   "metadata": {},
   "outputs": [
    {
     "data": {
      "text/html": [
       "1.99123568461832"
      ],
      "text/latex": [
       "1.99123568461832"
      ],
      "text/markdown": [
       "1.99123568461832"
      ],
      "text/plain": [
       "[1] 1.991236"
      ]
     },
     "metadata": {},
     "output_type": "display_data"
    }
   ],
   "source": [
    "mean(gx)"
   ]
  },
  {
   "cell_type": "markdown",
   "id": "miniature-elizabeth",
   "metadata": {},
   "source": [
    "### 적분구간이 무한대라면? "
   ]
  },
  {
   "cell_type": "markdown",
   "id": "raised-covering",
   "metadata": {},
   "source": [
    "예를들어 $g(x)=\\frac{1}{(x+1)^2}$와 같은 함수를 $0$부터 $\\infty$ 까지 적분하고 싶다고하자. "
   ]
  },
  {
   "cell_type": "markdown",
   "id": "olive-fields",
   "metadata": {},
   "source": [
    "즉 아래는 어떻게 계산하는가? "
   ]
  },
  {
   "cell_type": "markdown",
   "id": "white-europe",
   "metadata": {},
   "source": [
    "### 예제1: $\\int_0^{\\infty}\\frac{1}{(x+1)^2}dx=?$"
   ]
  },
  {
   "cell_type": "markdown",
   "id": "national-desperate",
   "metadata": {},
   "source": [
    "(해석적풀이)"
   ]
  },
  {
   "cell_type": "markdown",
   "id": "damaged-momentum",
   "metadata": {},
   "source": [
    "$\\int_0^{\\infty}\\frac{1}{(x+1)^2}dx=\\int_1^{\\infty}\\frac{1}{u^2}du$"
   ]
  },
  {
   "cell_type": "markdown",
   "id": "wrong-reunion",
   "metadata": {},
   "source": [
    "$=\\left[-u^{-1} \\right]_1^{\\infty}=1$"
   ]
  },
  {
   "cell_type": "markdown",
   "id": "expected-friendship",
   "metadata": {},
   "source": [
    "(몬테카를로)"
   ]
  },
  {
   "cell_type": "markdown",
   "id": "thick-chile",
   "metadata": {},
   "source": [
    "아래와 같은 함수를 고려하자. "
   ]
  },
  {
   "cell_type": "markdown",
   "id": "eleven-vegetable",
   "metadata": {},
   "source": [
    "$f(x)=\\frac{1}{10}e^{-x/10},\\quad x\\geq 0$"
   ]
  },
  {
   "cell_type": "markdown",
   "id": "intended-absorption",
   "metadata": {},
   "source": [
    "그런데, 우리가 관심있는 것은 $\\int_0^{\\infty} g(x)dx$이다. "
   ]
  },
  {
   "cell_type": "markdown",
   "id": "leading-oriental",
   "metadata": {},
   "source": [
    "$f(x)$는 지수분포이므로 $\\int_0^{\\infty}f(x)dx=1$인데, 공교롭게도 적분구간이 겹친다. "
   ]
  },
  {
   "cell_type": "markdown",
   "id": "french-chair",
   "metadata": {},
   "source": [
    "관심수식을 다시 표현하면 "
   ]
  },
  {
   "cell_type": "markdown",
   "id": "injured-australia",
   "metadata": {},
   "source": [
    "$\\int_0^{\\infty}g(x)dx=\\int_0^{\\infty}\\frac{g(x)}{f(x)}f(x)dx$"
   ]
  },
  {
   "cell_type": "markdown",
   "id": "worst-humor",
   "metadata": {},
   "source": [
    "$=E\\left[\\frac{g(X)}{f(X)} \\right]$"
   ]
  },
  {
   "cell_type": "markdown",
   "id": "accredited-musical",
   "metadata": {},
   "source": [
    "와 같이 표현할 수 있다. "
   ]
  },
  {
   "cell_type": "code",
   "execution_count": 50,
   "id": "ancient-conflict",
   "metadata": {},
   "outputs": [
    {
     "data": {
      "text/html": [
       "1.02800938333795"
      ],
      "text/latex": [
       "1.02800938333795"
      ],
      "text/markdown": [
       "1.02800938333795"
      ],
      "text/plain": [
       "[1] 1.028009"
      ]
     },
     "metadata": {},
     "output_type": "display_data"
    }
   ],
   "source": [
    "n=10000\n",
    "X<-rexp(n,0.1)\n",
    "fX<-0.1*exp(-X/10)\n",
    "gX<-1/((1+X)^2)\n",
    "mean(gX/fX)"
   ]
  },
  {
   "cell_type": "code",
   "execution_count": 42,
   "id": "developed-psychiatry",
   "metadata": {},
   "outputs": [
    {
     "data": {
      "image/png": "[encoded data removed]",
      "text/plain": [
       "Plot with title “Histogram of X”"
      ]
     },
     "metadata": {
      "image/png": {
       "height": 420,
       "width": 420
      }
     },
     "output_type": "display_data"
    }
   ],
   "source": [
    "hist(X)"
   ]
  },
  {
   "cell_type": "code",
   "execution_count": 37,
   "id": "short-complex",
   "metadata": {},
   "outputs": [
    {
     "data": {
      "image/png": "[encoded data removed]",
      "text/plain": [
       "plot without title"
      ]
     },
     "metadata": {
      "image/png": {
       "height": 420,
       "width": 420
      }
     },
     "output_type": "display_data"
    }
   ],
   "source": [
    "x<-1:10000/1000\n",
    "plot(x,1/((x+1)^2),type='l')"
   ]
  },
  {
   "cell_type": "markdown",
   "id": "twelve-basis",
   "metadata": {},
   "source": [
    "### 예제2: $\\int_0^\\infty x^2e^{-x}dx=?$"
   ]
  },
  {
   "cell_type": "markdown",
   "id": "offensive-bulgaria",
   "metadata": {},
   "source": [
    "(해석적풀이)"
   ]
  },
  {
   "cell_type": "markdown",
   "id": "gross-railway",
   "metadata": {},
   "source": [
    "$\\int_0^{\\infty}x^2e^{-x}dx=\\Gamma(3)=2!=2$"
   ]
  },
  {
   "cell_type": "markdown",
   "id": "danish-accommodation",
   "metadata": {},
   "source": [
    "(몬테카를로)"
   ]
  },
  {
   "cell_type": "code",
   "execution_count": 56,
   "id": "offensive-minimum",
   "metadata": {},
   "outputs": [
    {
     "data": {
      "text/html": [
       "2.11066318404947"
      ],
      "text/latex": [
       "2.11066318404947"
      ],
      "text/markdown": [
       "2.11066318404947"
      ],
      "text/plain": [
       "[1] 2.110663"
      ]
     },
     "metadata": {},
     "output_type": "display_data"
    }
   ],
   "source": [
    "n=1000\n",
    "X<-rexp(n,0.1)\n",
    "fX<-0.1*exp(-X/10)\n",
    "gX<-X^2*exp(-X)\n",
    "mean(gX/fX)"
   ]
  },
  {
   "cell_type": "markdown",
   "id": "diverse-frank",
   "metadata": {},
   "source": [
    "다른분포로 추정하면 안되나? \n",
    "\n",
    "예를들면 감마? "
   ]
  },
  {
   "cell_type": "markdown",
   "id": "seeing-spectrum",
   "metadata": {},
   "source": [
    "#### (참고) 감마분포의 pdf: $f(x)=\\frac{\\beta^\\alpha}{\\Gamma(\\alpha)}x^{\\alpha-1}e^{-\\beta x}$  "
   ]
  },
  {
   "cell_type": "code",
   "execution_count": 70,
   "id": "mental-fellowship",
   "metadata": {},
   "outputs": [
    {
     "data": {
      "text/html": [
       "2"
      ],
      "text/latex": [
       "2"
      ],
      "text/markdown": [
       "2"
      ],
      "text/plain": [
       "[1] 2"
      ]
     },
     "metadata": {},
     "output_type": "display_data"
    }
   ],
   "source": [
    "alpha<-3\n",
    "beta<-1\n",
    "\n",
    "n=1000\n",
    "X<-rgamma(n,shape=alpha,scale=beta)\n",
    "fX<-beta^alpha / 2 * X^(alpha-1)*exp(-X)\n",
    "gX<-X^2*exp(-X)\n",
    "mean(gX/fX)"
   ]
  },
  {
   "cell_type": "code",
   "execution_count": 71,
   "id": "present-fisher",
   "metadata": {},
   "outputs": [
    {
     "data": {
      "text/html": [
       "<style>\n",
       ".list-inline {list-style: none; margin:0; padding: 0}\n",
       ".list-inline>li {display: inline-block}\n",
       ".list-inline>li:not(:last-child)::after {content: \"\\00b7\"; padding: 0 .5ex}\n",
       "</style>\n",
       "<ol class=list-inline><li>2</li><li>2</li><li>2</li><li>2</li><li>2</li><li>2</li><li>2</li><li>2</li><li>2</li><li>2</li><li>2</li><li>2</li><li>2</li><li>2</li><li>2</li><li>2</li><li>2</li><li>2</li><li>2</li><li>2</li><li>2</li><li>2</li><li>2</li><li>2</li><li>2</li><li>2</li><li>2</li><li>2</li><li>2</li><li>2</li><li>2</li><li>2</li><li>2</li><li>2</li><li>2</li><li>2</li><li>2</li><li>2</li><li>2</li><li>2</li><li>2</li><li>2</li><li>2</li><li>2</li><li>2</li><li>2</li><li>2</li><li>2</li><li>2</li><li>2</li><li>2</li><li>2</li><li>2</li><li>2</li><li>2</li><li>2</li><li>2</li><li>2</li><li>2</li><li>2</li><li>2</li><li>2</li><li>2</li><li>2</li><li>2</li><li>2</li><li>2</li><li>2</li><li>2</li><li>2</li><li>2</li><li>2</li><li>2</li><li>2</li><li>2</li><li>2</li><li>2</li><li>2</li><li>2</li><li>2</li><li>2</li><li>2</li><li>2</li><li>2</li><li>2</li><li>2</li><li>2</li><li>2</li><li>2</li><li>2</li><li>2</li><li>2</li><li>2</li><li>2</li><li>2</li><li>2</li><li>2</li><li>2</li><li>2</li><li>2</li><li>2</li><li>2</li><li>2</li><li>2</li><li>2</li><li>2</li><li>2</li><li>2</li><li>2</li><li>2</li><li>2</li><li>2</li><li>2</li><li>2</li><li>2</li><li>2</li><li>2</li><li>2</li><li>2</li><li>2</li><li>2</li><li>2</li><li>2</li><li>2</li><li>2</li><li>2</li><li>2</li><li>2</li><li>2</li><li>2</li><li>2</li><li>2</li><li>2</li><li>2</li><li>2</li><li>2</li><li>2</li><li>2</li><li>2</li><li>2</li><li>2</li><li>2</li><li>2</li><li>2</li><li>2</li><li>2</li><li>2</li><li>2</li><li>2</li><li>2</li><li>2</li><li>2</li><li>2</li><li>2</li><li>2</li><li>2</li><li>2</li><li>2</li><li>2</li><li>2</li><li>2</li><li>2</li><li>2</li><li>2</li><li>2</li><li>2</li><li>2</li><li>2</li><li>2</li><li>2</li><li>2</li><li>2</li><li>2</li><li>2</li><li>2</li><li>2</li><li>2</li><li>2</li><li>2</li><li>2</li><li>2</li><li>2</li><li>2</li><li>2</li><li>2</li><li>2</li><li>2</li><li>2</li><li>2</li><li>2</li><li>2</li><li>2</li><li>2</li><li>2</li><li>2</li><li>2</li><li>2</li><li>2</li><li>2</li><li>2</li><li>⋯</li><li>2</li><li>2</li><li>2</li><li>2</li><li>2</li><li>2</li><li>2</li><li>2</li><li>2</li><li>2</li><li>2</li><li>2</li><li>2</li><li>2</li><li>2</li><li>2</li><li>2</li><li>2</li><li>2</li><li>2</li><li>2</li><li>2</li><li>2</li><li>2</li><li>2</li><li>2</li><li>2</li><li>2</li><li>2</li><li>2</li><li>2</li><li>2</li><li>2</li><li>2</li><li>2</li><li>2</li><li>2</li><li>2</li><li>2</li><li>2</li><li>2</li><li>2</li><li>2</li><li>2</li><li>2</li><li>2</li><li>2</li><li>2</li><li>2</li><li>2</li><li>2</li><li>2</li><li>2</li><li>2</li><li>2</li><li>2</li><li>2</li><li>2</li><li>2</li><li>2</li><li>2</li><li>2</li><li>2</li><li>2</li><li>2</li><li>2</li><li>2</li><li>2</li><li>2</li><li>2</li><li>2</li><li>2</li><li>2</li><li>2</li><li>2</li><li>2</li><li>2</li><li>2</li><li>2</li><li>2</li><li>2</li><li>2</li><li>2</li><li>2</li><li>2</li><li>2</li><li>2</li><li>2</li><li>2</li><li>2</li><li>2</li><li>2</li><li>2</li><li>2</li><li>2</li><li>2</li><li>2</li><li>2</li><li>2</li><li>2</li><li>2</li><li>2</li><li>2</li><li>2</li><li>2</li><li>2</li><li>2</li><li>2</li><li>2</li><li>2</li><li>2</li><li>2</li><li>2</li><li>2</li><li>2</li><li>2</li><li>2</li><li>2</li><li>2</li><li>2</li><li>2</li><li>2</li><li>2</li><li>2</li><li>2</li><li>2</li><li>2</li><li>2</li><li>2</li><li>2</li><li>2</li><li>2</li><li>2</li><li>2</li><li>2</li><li>2</li><li>2</li><li>2</li><li>2</li><li>2</li><li>2</li><li>2</li><li>2</li><li>2</li><li>2</li><li>2</li><li>2</li><li>2</li><li>2</li><li>2</li><li>2</li><li>2</li><li>2</li><li>2</li><li>2</li><li>2</li><li>2</li><li>2</li><li>2</li><li>2</li><li>2</li><li>2</li><li>2</li><li>2</li><li>2</li><li>2</li><li>2</li><li>2</li><li>2</li><li>2</li><li>2</li><li>2</li><li>2</li><li>2</li><li>2</li><li>2</li><li>2</li><li>2</li><li>2</li><li>2</li><li>2</li><li>2</li><li>2</li><li>2</li><li>2</li><li>2</li><li>2</li><li>2</li><li>2</li><li>2</li><li>2</li><li>2</li><li>2</li><li>2</li><li>2</li><li>2</li><li>2</li><li>2</li><li>2</li><li>2</li></ol>\n"
      ],
      "text/latex": [
       "\\begin{enumerate*}\n",
       "\\item 2\n",
       "\\item 2\n",
       "\\item 2\n",
       "\\item 2\n",
       "\\item 2\n",
       "\\item 2\n",
       "\\item 2\n",
       "\\item 2\n",
       "\\item 2\n",
       "\\item 2\n",
       "\\item 2\n",
       "\\item 2\n",
       "\\item 2\n",
       "\\item 2\n",
       "\\item 2\n",
       "\\item 2\n",
       "\\item 2\n",
       "\\item 2\n",
       "\\item 2\n",
       "\\item 2\n",
       "\\item 2\n",
       "\\item 2\n",
       "\\item 2\n",
       "\\item 2\n",
       "\\item 2\n",
       "\\item 2\n",
       "\\item 2\n",
       "\\item 2\n",
       "\\item 2\n",
       "\\item 2\n",
       "\\item 2\n",
       "\\item 2\n",
       "\\item 2\n",
       "\\item 2\n",
       "\\item 2\n",
       "\\item 2\n",
       "\\item 2\n",
       "\\item 2\n",
       "\\item 2\n",
       "\\item 2\n",
       "\\item 2\n",
       "\\item 2\n",
       "\\item 2\n",
       "\\item 2\n",
       "\\item 2\n",
       "\\item 2\n",
       "\\item 2\n",
       "\\item 2\n",
       "\\item 2\n",
       "\\item 2\n",
       "\\item 2\n",
       "\\item 2\n",
       "\\item 2\n",
       "\\item 2\n",
       "\\item 2\n",
       "\\item 2\n",
       "\\item 2\n",
       "\\item 2\n",
       "\\item 2\n",
       "\\item 2\n",
       "\\item 2\n",
       "\\item 2\n",
       "\\item 2\n",
       "\\item 2\n",
       "\\item 2\n",
       "\\item 2\n",
       "\\item 2\n",
       "\\item 2\n",
       "\\item 2\n",
       "\\item 2\n",
       "\\item 2\n",
       "\\item 2\n",
       "\\item 2\n",
       "\\item 2\n",
       "\\item 2\n",
       "\\item 2\n",
       "\\item 2\n",
       "\\item 2\n",
       "\\item 2\n",
       "\\item 2\n",
       "\\item 2\n",
       "\\item 2\n",
       "\\item 2\n",
       "\\item 2\n",
       "\\item 2\n",
       "\\item 2\n",
       "\\item 2\n",
       "\\item 2\n",
       "\\item 2\n",
       "\\item 2\n",
       "\\item 2\n",
       "\\item 2\n",
       "\\item 2\n",
       "\\item 2\n",
       "\\item 2\n",
       "\\item 2\n",
       "\\item 2\n",
       "\\item 2\n",
       "\\item 2\n",
       "\\item 2\n",
       "\\item 2\n",
       "\\item 2\n",
       "\\item 2\n",
       "\\item 2\n",
       "\\item 2\n",
       "\\item 2\n",
       "\\item 2\n",
       "\\item 2\n",
       "\\item 2\n",
       "\\item 2\n",
       "\\item 2\n",
       "\\item 2\n",
       "\\item 2\n",
       "\\item 2\n",
       "\\item 2\n",
       "\\item 2\n",
       "\\item 2\n",
       "\\item 2\n",
       "\\item 2\n",
       "\\item 2\n",
       "\\item 2\n",
       "\\item 2\n",
       "\\item 2\n",
       "\\item 2\n",
       "\\item 2\n",
       "\\item 2\n",
       "\\item 2\n",
       "\\item 2\n",
       "\\item 2\n",
       "\\item 2\n",
       "\\item 2\n",
       "\\item 2\n",
       "\\item 2\n",
       "\\item 2\n",
       "\\item 2\n",
       "\\item 2\n",
       "\\item 2\n",
       "\\item 2\n",
       "\\item 2\n",
       "\\item 2\n",
       "\\item 2\n",
       "\\item 2\n",
       "\\item 2\n",
       "\\item 2\n",
       "\\item 2\n",
       "\\item 2\n",
       "\\item 2\n",
       "\\item 2\n",
       "\\item 2\n",
       "\\item 2\n",
       "\\item 2\n",
       "\\item 2\n",
       "\\item 2\n",
       "\\item 2\n",
       "\\item 2\n",
       "\\item 2\n",
       "\\item 2\n",
       "\\item 2\n",
       "\\item 2\n",
       "\\item 2\n",
       "\\item 2\n",
       "\\item 2\n",
       "\\item 2\n",
       "\\item 2\n",
       "\\item 2\n",
       "\\item 2\n",
       "\\item 2\n",
       "\\item 2\n",
       "\\item 2\n",
       "\\item 2\n",
       "\\item 2\n",
       "\\item 2\n",
       "\\item 2\n",
       "\\item 2\n",
       "\\item 2\n",
       "\\item 2\n",
       "\\item 2\n",
       "\\item 2\n",
       "\\item 2\n",
       "\\item 2\n",
       "\\item 2\n",
       "\\item 2\n",
       "\\item 2\n",
       "\\item 2\n",
       "\\item 2\n",
       "\\item 2\n",
       "\\item 2\n",
       "\\item 2\n",
       "\\item 2\n",
       "\\item 2\n",
       "\\item 2\n",
       "\\item 2\n",
       "\\item 2\n",
       "\\item 2\n",
       "\\item 2\n",
       "\\item 2\n",
       "\\item 2\n",
       "\\item 2\n",
       "\\item 2\n",
       "\\item 2\n",
       "\\item ⋯\n",
       "\\item 2\n",
       "\\item 2\n",
       "\\item 2\n",
       "\\item 2\n",
       "\\item 2\n",
       "\\item 2\n",
       "\\item 2\n",
       "\\item 2\n",
       "\\item 2\n",
       "\\item 2\n",
       "\\item 2\n",
       "\\item 2\n",
       "\\item 2\n",
       "\\item 2\n",
       "\\item 2\n",
       "\\item 2\n",
       "\\item 2\n",
       "\\item 2\n",
       "\\item 2\n",
       "\\item 2\n",
       "\\item 2\n",
       "\\item 2\n",
       "\\item 2\n",
       "\\item 2\n",
       "\\item 2\n",
       "\\item 2\n",
       "\\item 2\n",
       "\\item 2\n",
       "\\item 2\n",
       "\\item 2\n",
       "\\item 2\n",
       "\\item 2\n",
       "\\item 2\n",
       "\\item 2\n",
       "\\item 2\n",
       "\\item 2\n",
       "\\item 2\n",
       "\\item 2\n",
       "\\item 2\n",
       "\\item 2\n",
       "\\item 2\n",
       "\\item 2\n",
       "\\item 2\n",
       "\\item 2\n",
       "\\item 2\n",
       "\\item 2\n",
       "\\item 2\n",
       "\\item 2\n",
       "\\item 2\n",
       "\\item 2\n",
       "\\item 2\n",
       "\\item 2\n",
       "\\item 2\n",
       "\\item 2\n",
       "\\item 2\n",
       "\\item 2\n",
       "\\item 2\n",
       "\\item 2\n",
       "\\item 2\n",
       "\\item 2\n",
       "\\item 2\n",
       "\\item 2\n",
       "\\item 2\n",
       "\\item 2\n",
       "\\item 2\n",
       "\\item 2\n",
       "\\item 2\n",
       "\\item 2\n",
       "\\item 2\n",
       "\\item 2\n",
       "\\item 2\n",
       "\\item 2\n",
       "\\item 2\n",
       "\\item 2\n",
       "\\item 2\n",
       "\\item 2\n",
       "\\item 2\n",
       "\\item 2\n",
       "\\item 2\n",
       "\\item 2\n",
       "\\item 2\n",
       "\\item 2\n",
       "\\item 2\n",
       "\\item 2\n",
       "\\item 2\n",
       "\\item 2\n",
       "\\item 2\n",
       "\\item 2\n",
       "\\item 2\n",
       "\\item 2\n",
       "\\item 2\n",
       "\\item 2\n",
       "\\item 2\n",
       "\\item 2\n",
       "\\item 2\n",
       "\\item 2\n",
       "\\item 2\n",
       "\\item 2\n",
       "\\item 2\n",
       "\\item 2\n",
       "\\item 2\n",
       "\\item 2\n",
       "\\item 2\n",
       "\\item 2\n",
       "\\item 2\n",
       "\\item 2\n",
       "\\item 2\n",
       "\\item 2\n",
       "\\item 2\n",
       "\\item 2\n",
       "\\item 2\n",
       "\\item 2\n",
       "\\item 2\n",
       "\\item 2\n",
       "\\item 2\n",
       "\\item 2\n",
       "\\item 2\n",
       "\\item 2\n",
       "\\item 2\n",
       "\\item 2\n",
       "\\item 2\n",
       "\\item 2\n",
       "\\item 2\n",
       "\\item 2\n",
       "\\item 2\n",
       "\\item 2\n",
       "\\item 2\n",
       "\\item 2\n",
       "\\item 2\n",
       "\\item 2\n",
       "\\item 2\n",
       "\\item 2\n",
       "\\item 2\n",
       "\\item 2\n",
       "\\item 2\n",
       "\\item 2\n",
       "\\item 2\n",
       "\\item 2\n",
       "\\item 2\n",
       "\\item 2\n",
       "\\item 2\n",
       "\\item 2\n",
       "\\item 2\n",
       "\\item 2\n",
       "\\item 2\n",
       "\\item 2\n",
       "\\item 2\n",
       "\\item 2\n",
       "\\item 2\n",
       "\\item 2\n",
       "\\item 2\n",
       "\\item 2\n",
       "\\item 2\n",
       "\\item 2\n",
       "\\item 2\n",
       "\\item 2\n",
       "\\item 2\n",
       "\\item 2\n",
       "\\item 2\n",
       "\\item 2\n",
       "\\item 2\n",
       "\\item 2\n",
       "\\item 2\n",
       "\\item 2\n",
       "\\item 2\n",
       "\\item 2\n",
       "\\item 2\n",
       "\\item 2\n",
       "\\item 2\n",
       "\\item 2\n",
       "\\item 2\n",
       "\\item 2\n",
       "\\item 2\n",
       "\\item 2\n",
       "\\item 2\n",
       "\\item 2\n",
       "\\item 2\n",
       "\\item 2\n",
       "\\item 2\n",
       "\\item 2\n",
       "\\item 2\n",
       "\\item 2\n",
       "\\item 2\n",
       "\\item 2\n",
       "\\item 2\n",
       "\\item 2\n",
       "\\item 2\n",
       "\\item 2\n",
       "\\item 2\n",
       "\\item 2\n",
       "\\item 2\n",
       "\\item 2\n",
       "\\item 2\n",
       "\\item 2\n",
       "\\item 2\n",
       "\\item 2\n",
       "\\item 2\n",
       "\\item 2\n",
       "\\item 2\n",
       "\\item 2\n",
       "\\end{enumerate*}\n"
      ],
      "text/markdown": [
       "1. 2\n",
       "2. 2\n",
       "3. 2\n",
       "4. 2\n",
       "5. 2\n",
       "6. 2\n",
       "7. 2\n",
       "8. 2\n",
       "9. 2\n",
       "10. 2\n",
       "11. 2\n",
       "12. 2\n",
       "13. 2\n",
       "14. 2\n",
       "15. 2\n",
       "16. 2\n",
       "17. 2\n",
       "18. 2\n",
       "19. 2\n",
       "20. 2\n",
       "21. 2\n",
       "22. 2\n",
       "23. 2\n",
       "24. 2\n",
       "25. 2\n",
       "26. 2\n",
       "27. 2\n",
       "28. 2\n",
       "29. 2\n",
       "30. 2\n",
       "31. 2\n",
       "32. 2\n",
       "33. 2\n",
       "34. 2\n",
       "35. 2\n",
       "36. 2\n",
       "37. 2\n",
       "38. 2\n",
       "39. 2\n",
       "40. 2\n",
       "41. 2\n",
       "42. 2\n",
       "43. 2\n",
       "44. 2\n",
       "45. 2\n",
       "46. 2\n",
       "47. 2\n",
       "48. 2\n",
       "49. 2\n",
       "50. 2\n",
       "51. 2\n",
       "52. 2\n",
       "53. 2\n",
       "54. 2\n",
       "55. 2\n",
       "56. 2\n",
       "57. 2\n",
       "58. 2\n",
       "59. 2\n",
       "60. 2\n",
       "61. 2\n",
       "62. 2\n",
       "63. 2\n",
       "64. 2\n",
       "65. 2\n",
       "66. 2\n",
       "67. 2\n",
       "68. 2\n",
       "69. 2\n",
       "70. 2\n",
       "71. 2\n",
       "72. 2\n",
       "73. 2\n",
       "74. 2\n",
       "75. 2\n",
       "76. 2\n",
       "77. 2\n",
       "78. 2\n",
       "79. 2\n",
       "80. 2\n",
       "81. 2\n",
       "82. 2\n",
       "83. 2\n",
       "84. 2\n",
       "85. 2\n",
       "86. 2\n",
       "87. 2\n",
       "88. 2\n",
       "89. 2\n",
       "90. 2\n",
       "91. 2\n",
       "92. 2\n",
       "93. 2\n",
       "94. 2\n",
       "95. 2\n",
       "96. 2\n",
       "97. 2\n",
       "98. 2\n",
       "99. 2\n",
       "100. 2\n",
       "101. 2\n",
       "102. 2\n",
       "103. 2\n",
       "104. 2\n",
       "105. 2\n",
       "106. 2\n",
       "107. 2\n",
       "108. 2\n",
       "109. 2\n",
       "110. 2\n",
       "111. 2\n",
       "112. 2\n",
       "113. 2\n",
       "114. 2\n",
       "115. 2\n",
       "116. 2\n",
       "117. 2\n",
       "118. 2\n",
       "119. 2\n",
       "120. 2\n",
       "121. 2\n",
       "122. 2\n",
       "123. 2\n",
       "124. 2\n",
       "125. 2\n",
       "126. 2\n",
       "127. 2\n",
       "128. 2\n",
       "129. 2\n",
       "130. 2\n",
       "131. 2\n",
       "132. 2\n",
       "133. 2\n",
       "134. 2\n",
       "135. 2\n",
       "136. 2\n",
       "137. 2\n",
       "138. 2\n",
       "139. 2\n",
       "140. 2\n",
       "141. 2\n",
       "142. 2\n",
       "143. 2\n",
       "144. 2\n",
       "145. 2\n",
       "146. 2\n",
       "147. 2\n",
       "148. 2\n",
       "149. 2\n",
       "150. 2\n",
       "151. 2\n",
       "152. 2\n",
       "153. 2\n",
       "154. 2\n",
       "155. 2\n",
       "156. 2\n",
       "157. 2\n",
       "158. 2\n",
       "159. 2\n",
       "160. 2\n",
       "161. 2\n",
       "162. 2\n",
       "163. 2\n",
       "164. 2\n",
       "165. 2\n",
       "166. 2\n",
       "167. 2\n",
       "168. 2\n",
       "169. 2\n",
       "170. 2\n",
       "171. 2\n",
       "172. 2\n",
       "173. 2\n",
       "174. 2\n",
       "175. 2\n",
       "176. 2\n",
       "177. 2\n",
       "178. 2\n",
       "179. 2\n",
       "180. 2\n",
       "181. 2\n",
       "182. 2\n",
       "183. 2\n",
       "184. 2\n",
       "185. 2\n",
       "186. 2\n",
       "187. 2\n",
       "188. 2\n",
       "189. 2\n",
       "190. 2\n",
       "191. 2\n",
       "192. 2\n",
       "193. 2\n",
       "194. 2\n",
       "195. 2\n",
       "196. 2\n",
       "197. 2\n",
       "198. 2\n",
       "199. 2\n",
       "200. 2\n",
       "201. ⋯\n",
       "202. 2\n",
       "203. 2\n",
       "204. 2\n",
       "205. 2\n",
       "206. 2\n",
       "207. 2\n",
       "208. 2\n",
       "209. 2\n",
       "210. 2\n",
       "211. 2\n",
       "212. 2\n",
       "213. 2\n",
       "214. 2\n",
       "215. 2\n",
       "216. 2\n",
       "217. 2\n",
       "218. 2\n",
       "219. 2\n",
       "220. 2\n",
       "221. 2\n",
       "222. 2\n",
       "223. 2\n",
       "224. 2\n",
       "225. 2\n",
       "226. 2\n",
       "227. 2\n",
       "228. 2\n",
       "229. 2\n",
       "230. 2\n",
       "231. 2\n",
       "232. 2\n",
       "233. 2\n",
       "234. 2\n",
       "235. 2\n",
       "236. 2\n",
       "237. 2\n",
       "238. 2\n",
       "239. 2\n",
       "240. 2\n",
       "241. 2\n",
       "242. 2\n",
       "243. 2\n",
       "244. 2\n",
       "245. 2\n",
       "246. 2\n",
       "247. 2\n",
       "248. 2\n",
       "249. 2\n",
       "250. 2\n",
       "251. 2\n",
       "252. 2\n",
       "253. 2\n",
       "254. 2\n",
       "255. 2\n",
       "256. 2\n",
       "257. 2\n",
       "258. 2\n",
       "259. 2\n",
       "260. 2\n",
       "261. 2\n",
       "262. 2\n",
       "263. 2\n",
       "264. 2\n",
       "265. 2\n",
       "266. 2\n",
       "267. 2\n",
       "268. 2\n",
       "269. 2\n",
       "270. 2\n",
       "271. 2\n",
       "272. 2\n",
       "273. 2\n",
       "274. 2\n",
       "275. 2\n",
       "276. 2\n",
       "277. 2\n",
       "278. 2\n",
       "279. 2\n",
       "280. 2\n",
       "281. 2\n",
       "282. 2\n",
       "283. 2\n",
       "284. 2\n",
       "285. 2\n",
       "286. 2\n",
       "287. 2\n",
       "288. 2\n",
       "289. 2\n",
       "290. 2\n",
       "291. 2\n",
       "292. 2\n",
       "293. 2\n",
       "294. 2\n",
       "295. 2\n",
       "296. 2\n",
       "297. 2\n",
       "298. 2\n",
       "299. 2\n",
       "300. 2\n",
       "301. 2\n",
       "302. 2\n",
       "303. 2\n",
       "304. 2\n",
       "305. 2\n",
       "306. 2\n",
       "307. 2\n",
       "308. 2\n",
       "309. 2\n",
       "310. 2\n",
       "311. 2\n",
       "312. 2\n",
       "313. 2\n",
       "314. 2\n",
       "315. 2\n",
       "316. 2\n",
       "317. 2\n",
       "318. 2\n",
       "319. 2\n",
       "320. 2\n",
       "321. 2\n",
       "322. 2\n",
       "323. 2\n",
       "324. 2\n",
       "325. 2\n",
       "326. 2\n",
       "327. 2\n",
       "328. 2\n",
       "329. 2\n",
       "330. 2\n",
       "331. 2\n",
       "332. 2\n",
       "333. 2\n",
       "334. 2\n",
       "335. 2\n",
       "336. 2\n",
       "337. 2\n",
       "338. 2\n",
       "339. 2\n",
       "340. 2\n",
       "341. 2\n",
       "342. 2\n",
       "343. 2\n",
       "344. 2\n",
       "345. 2\n",
       "346. 2\n",
       "347. 2\n",
       "348. 2\n",
       "349. 2\n",
       "350. 2\n",
       "351. 2\n",
       "352. 2\n",
       "353. 2\n",
       "354. 2\n",
       "355. 2\n",
       "356. 2\n",
       "357. 2\n",
       "358. 2\n",
       "359. 2\n",
       "360. 2\n",
       "361. 2\n",
       "362. 2\n",
       "363. 2\n",
       "364. 2\n",
       "365. 2\n",
       "366. 2\n",
       "367. 2\n",
       "368. 2\n",
       "369. 2\n",
       "370. 2\n",
       "371. 2\n",
       "372. 2\n",
       "373. 2\n",
       "374. 2\n",
       "375. 2\n",
       "376. 2\n",
       "377. 2\n",
       "378. 2\n",
       "379. 2\n",
       "380. 2\n",
       "381. 2\n",
       "382. 2\n",
       "383. 2\n",
       "384. 2\n",
       "385. 2\n",
       "386. 2\n",
       "387. 2\n",
       "388. 2\n",
       "389. 2\n",
       "390. 2\n",
       "391. 2\n",
       "392. 2\n",
       "393. 2\n",
       "394. 2\n",
       "395. 2\n",
       "396. 2\n",
       "397. 2\n",
       "398. 2\n",
       "399. 2\n",
       "400. 2\n",
       "401. 2\n",
       "\n",
       "\n"
      ],
      "text/plain": [
       "   [1] 2 2 2 2 2 2 2 2 2 2 2 2 2 2 2 2 2 2 2 2 2 2 2 2 2 2 2 2 2 2 2 2 2 2 2 2 2\n",
       "  [38] 2 2 2 2 2 2 2 2 2 2 2 2 2 2 2 2 2 2 2 2 2 2 2 2 2 2 2 2 2 2 2 2 2 2 2 2 2\n",
       "  [75] 2 2 2 2 2 2 2 2 2 2 2 2 2 2 2 2 2 2 2 2 2 2 2 2 2 2 2 2 2 2 2 2 2 2 2 2 2\n",
       " [112] 2 2 2 2 2 2 2 2 2 2 2 2 2 2 2 2 2 2 2 2 2 2 2 2 2 2 2 2 2 2 2 2 2 2 2 2 2\n",
       " [149] 2 2 2 2 2 2 2 2 2 2 2 2 2 2 2 2 2 2 2 2 2 2 2 2 2 2 2 2 2 2 2 2 2 2 2 2 2\n",
       " [186] 2 2 2 2 2 2 2 2 2 2 2 2 2 2 2 2 2 2 2 2 2 2 2 2 2 2 2 2 2 2 2 2 2 2 2 2 2\n",
       " [223] 2 2 2 2 2 2 2 2 2 2 2 2 2 2 2 2 2 2 2 2 2 2 2 2 2 2 2 2 2 2 2 2 2 2 2 2 2\n",
       " [260] 2 2 2 2 2 2 2 2 2 2 2 2 2 2 2 2 2 2 2 2 2 2 2 2 2 2 2 2 2 2 2 2 2 2 2 2 2\n",
       " [297] 2 2 2 2 2 2 2 2 2 2 2 2 2 2 2 2 2 2 2 2 2 2 2 2 2 2 2 2 2 2 2 2 2 2 2 2 2\n",
       " [334] 2 2 2 2 2 2 2 2 2 2 2 2 2 2 2 2 2 2 2 2 2 2 2 2 2 2 2 2 2 2 2 2 2 2 2 2 2\n",
       " [371] 2 2 2 2 2 2 2 2 2 2 2 2 2 2 2 2 2 2 2 2 2 2 2 2 2 2 2 2 2 2 2 2 2 2 2 2 2\n",
       " [408] 2 2 2 2 2 2 2 2 2 2 2 2 2 2 2 2 2 2 2 2 2 2 2 2 2 2 2 2 2 2 2 2 2 2 2 2 2\n",
       " [445] 2 2 2 2 2 2 2 2 2 2 2 2 2 2 2 2 2 2 2 2 2 2 2 2 2 2 2 2 2 2 2 2 2 2 2 2 2\n",
       " [482] 2 2 2 2 2 2 2 2 2 2 2 2 2 2 2 2 2 2 2 2 2 2 2 2 2 2 2 2 2 2 2 2 2 2 2 2 2\n",
       " [519] 2 2 2 2 2 2 2 2 2 2 2 2 2 2 2 2 2 2 2 2 2 2 2 2 2 2 2 2 2 2 2 2 2 2 2 2 2\n",
       " [556] 2 2 2 2 2 2 2 2 2 2 2 2 2 2 2 2 2 2 2 2 2 2 2 2 2 2 2 2 2 2 2 2 2 2 2 2 2\n",
       " [593] 2 2 2 2 2 2 2 2 2 2 2 2 2 2 2 2 2 2 2 2 2 2 2 2 2 2 2 2 2 2 2 2 2 2 2 2 2\n",
       " [630] 2 2 2 2 2 2 2 2 2 2 2 2 2 2 2 2 2 2 2 2 2 2 2 2 2 2 2 2 2 2 2 2 2 2 2 2 2\n",
       " [667] 2 2 2 2 2 2 2 2 2 2 2 2 2 2 2 2 2 2 2 2 2 2 2 2 2 2 2 2 2 2 2 2 2 2 2 2 2\n",
       " [704] 2 2 2 2 2 2 2 2 2 2 2 2 2 2 2 2 2 2 2 2 2 2 2 2 2 2 2 2 2 2 2 2 2 2 2 2 2\n",
       " [741] 2 2 2 2 2 2 2 2 2 2 2 2 2 2 2 2 2 2 2 2 2 2 2 2 2 2 2 2 2 2 2 2 2 2 2 2 2\n",
       " [778] 2 2 2 2 2 2 2 2 2 2 2 2 2 2 2 2 2 2 2 2 2 2 2 2 2 2 2 2 2 2 2 2 2 2 2 2 2\n",
       " [815] 2 2 2 2 2 2 2 2 2 2 2 2 2 2 2 2 2 2 2 2 2 2 2 2 2 2 2 2 2 2 2 2 2 2 2 2 2\n",
       " [852] 2 2 2 2 2 2 2 2 2 2 2 2 2 2 2 2 2 2 2 2 2 2 2 2 2 2 2 2 2 2 2 2 2 2 2 2 2\n",
       " [889] 2 2 2 2 2 2 2 2 2 2 2 2 2 2 2 2 2 2 2 2 2 2 2 2 2 2 2 2 2 2 2 2 2 2 2 2 2\n",
       " [926] 2 2 2 2 2 2 2 2 2 2 2 2 2 2 2 2 2 2 2 2 2 2 2 2 2 2 2 2 2 2 2 2 2 2 2 2 2\n",
       " [963] 2 2 2 2 2 2 2 2 2 2 2 2 2 2 2 2 2 2 2 2 2 2 2 2 2 2 2 2 2 2 2 2 2 2 2 2 2\n",
       "[1000] 2"
      ]
     },
     "metadata": {},
     "output_type": "display_data"
    }
   ],
   "source": [
    "gX/fX"
   ]
  },
  {
   "cell_type": "markdown",
   "id": "difficult-revelation",
   "metadata": {},
   "source": [
    "### *[알고리즘]* $\\int_0^{\\infty}g(x)dx$를 계산하고 싶을때, "
   ]
  },
  {
   "cell_type": "markdown",
   "id": "induced-guyana",
   "metadata": {},
   "source": [
    "(1) 적당한 확률밀도 함수 $f(x)$에서 $n$개의 난수를 생성한다. $f(x)$는 연속형이고 무한대의 적분구간을 가져야함. "
   ]
  },
  {
   "cell_type": "markdown",
   "id": "related-theme",
   "metadata": {},
   "source": [
    "(2) $g(X_i)/f(X_i)$를 계산한다. (단, $g(x)$는 피적분함수)"
   ]
  },
  {
   "cell_type": "markdown",
   "id": "interim-decision",
   "metadata": {},
   "source": [
    "(3) 적분값을 $\\frac{1}{n}\\sum_{i=1}^n\\frac{g(X_i)}{f(X_i)}$로 추정한다. "
   ]
  },
  {
   "cell_type": "markdown",
   "id": "flying-income",
   "metadata": {},
   "source": [
    "(팁) 적분을 빠르게 근사시키려면 적당한 분포 $f(x)$를 잘 선택해야함. "
   ]
  },
  {
   "cell_type": "markdown",
   "id": "toxic-excess",
   "metadata": {},
   "source": [
    "### 예제3: $\\int_{-\\infty}^{t}\\frac{1}{2\\sqrt{\\pi}}e^{-x^2/2}dx=?$"
   ]
  },
  {
   "cell_type": "code",
   "execution_count": 80,
   "id": "higher-modem",
   "metadata": {},
   "outputs": [
    {
     "data": {
      "text/html": [
       "0.9761"
      ],
      "text/latex": [
       "0.9761"
      ],
      "text/markdown": [
       "0.9761"
      ],
      "text/plain": [
       "[1] 0.9761"
      ]
     },
     "metadata": {},
     "output_type": "display_data"
    }
   ],
   "source": [
    "t<-1.96\n",
    "n<-10000\n",
    "X<-rnorm(n)\n",
    "sum(X<t)/n"
   ]
  },
  {
   "cell_type": "markdown",
   "id": "intelligent-vault",
   "metadata": {},
   "source": [
    "그런데, 가만히 생각해보니까 랜덤샘플은 어떻게 추출하지? "
   ]
  },
  {
   "cell_type": "markdown",
   "id": "informative-cathedral",
   "metadata": {},
   "source": [
    "---"
   ]
  },
  {
   "cell_type": "markdown",
   "id": "confident-mainstream",
   "metadata": {},
   "source": [
    "# \\# 몬테카를로 적분 (잠시 접어두자) "
   ]
  },
  {
   "cell_type": "markdown",
   "id": "psychological-roman",
   "metadata": {},
   "source": [
    "- 지금까지 한것 \n",
    "- 처음에는 유니폼에서만 뽑으면 적분을 다 할수 있을것 같았음. 그런데 점점 다양한 분포에서 확률변수를 추출해야 하는 필요성이 생김. "
   ]
  },
  {
   "cell_type": "markdown",
   "id": "awful-savannah",
   "metadata": {},
   "source": [
    "# \\# 샘플링 "
   ]
  },
  {
   "cell_type": "markdown",
   "id": "level-abuse",
   "metadata": {},
   "source": [
    "학습목표: 랜덤표본을 추출하는 방법자체를 알아보자. "
   ]
  },
  {
   "cell_type": "markdown",
   "id": "inner-number",
   "metadata": {},
   "source": [
    "가정: $U(0,1)$은 생성할 수 있다고 가정하자. "
   ]
  },
  {
   "cell_type": "markdown",
   "id": "executive-heath",
   "metadata": {},
   "source": [
    "# 1. inverse sampling "
   ]
  },
  {
   "cell_type": "markdown",
   "id": "downtown-ballet",
   "metadata": {},
   "source": [
    "- 역변환기법\n",
    "- inverse cdf "
   ]
  },
  {
   "cell_type": "markdown",
   "id": "answering-rwanda",
   "metadata": {},
   "source": [
    "### 목표: 지수분포를 생성하여 보자. "
   ]
  },
  {
   "cell_type": "markdown",
   "id": "gross-stranger",
   "metadata": {},
   "source": [
    "아래와 같은 2개의 지수분포를 고려하여 보자. "
   ]
  },
  {
   "cell_type": "markdown",
   "id": "endangered-interim",
   "metadata": {},
   "source": [
    "$f(x)=e^{-x}, \\quad g(x)=\\frac{1}{10}e^{-\\frac{1}{10}x}$"
   ]
  },
  {
   "cell_type": "markdown",
   "id": "iraqi-transfer",
   "metadata": {},
   "source": [
    "pdf를 그려보면 아래와 같다. "
   ]
  },
  {
   "cell_type": "code",
   "execution_count": 84,
   "id": "literary-girlfriend",
   "metadata": {},
   "outputs": [],
   "source": [
    "fx<-function(x){\n",
    "    exp(-x)\n",
    "}\n",
    "gx<-function(x){\n",
    "    exp(-x/10)/10\n",
    "}"
   ]
  },
  {
   "cell_type": "code",
   "execution_count": 123,
   "id": "ready-sapphire",
   "metadata": {},
   "outputs": [],
   "source": [
    "x=c(0,1:1000/20)"
   ]
  },
  {
   "cell_type": "code",
   "execution_count": 124,
   "id": "fifty-kenya",
   "metadata": {},
   "outputs": [
    {
     "data": {
      "image/png": "[encoded data removed]",
      "text/plain": [
       "plot without title"
      ]
     },
     "metadata": {
      "image/png": {
       "height": 600,
       "width": 1500
      }
     },
     "output_type": "display_data"
    }
   ],
   "source": [
    "options(repr.plot.width=1*10, repr.plot.height=0.8*5,repr.plot.res=1*300)\n",
    "par(mfrow=c(1,2))\n",
    "plot(x,fx(x),type='l',lwd=3)\n",
    "abline(h=0,col=2,lty=2)\n",
    "plot(x,gx(x),type='l',lwd=3)\n",
    "abline(h=0,col=2,lty=2)\n",
    "par(mfrow=c(1,1))"
   ]
  },
  {
   "cell_type": "markdown",
   "id": "starting-oxide",
   "metadata": {},
   "source": [
    "왼쪽: 평균이 1인 지수분포... \n",
    "\n",
    "오른쪽: 평균이 10인 지수분포... "
   ]
  },
  {
   "cell_type": "markdown",
   "id": "dominant-assignment",
   "metadata": {},
   "source": [
    "당연히 평균적으로 왼쪽의 분포에 뽑힌 확률변수가 상대적으로 작은값임을 쉽게 예상할 수 있다. "
   ]
  },
  {
   "cell_type": "markdown",
   "id": "stretch-corps",
   "metadata": {},
   "source": [
    "각 분포의 cdf는 아래와 같다. (손계산)"
   ]
  },
  {
   "cell_type": "markdown",
   "id": "mechanical-baseline",
   "metadata": {},
   "source": [
    "$\\mbox{left}=F(x)=\\int_0^xf(\\tau)d\\tau$"
   ]
  },
  {
   "cell_type": "markdown",
   "id": "elegant-banks",
   "metadata": {},
   "source": [
    "$=\\int_0^x e^{-\\tau}d\\tau$"
   ]
  },
  {
   "cell_type": "markdown",
   "id": "atomic-tradition",
   "metadata": {},
   "source": [
    "$=\\big[-e^{-\\tau} \\big]_0^x$"
   ]
  },
  {
   "cell_type": "markdown",
   "id": "enclosed-permit",
   "metadata": {},
   "source": [
    "$=-e^{-x}+1$"
   ]
  },
  {
   "cell_type": "markdown",
   "id": "political-covering",
   "metadata": {},
   "source": [
    "$\\mbox{right}=G(x)=\\int_0^xg(\\tau)d\\tau$"
   ]
  },
  {
   "cell_type": "markdown",
   "id": "assisted-content",
   "metadata": {},
   "source": [
    "$=\\int_0^x \\frac{1}{10} e^{-\\tau/10}d\\tau$"
   ]
  },
  {
   "cell_type": "markdown",
   "id": "widespread-netherlands",
   "metadata": {},
   "source": [
    "$=\\big[-e^{-\\tau/10} \\big]_0^x$"
   ]
  },
  {
   "cell_type": "markdown",
   "id": "looking-american",
   "metadata": {},
   "source": [
    "$=-e^{-x/10}+1$"
   ]
  },
  {
   "cell_type": "code",
   "execution_count": 125,
   "id": "typical-maximum",
   "metadata": {},
   "outputs": [],
   "source": [
    "Fx<-function(x){\n",
    "    -exp(-x)+1\n",
    "}\n",
    "Gx<-function(x){\n",
    "    -exp(-x/10)+1\n",
    "}"
   ]
  },
  {
   "cell_type": "code",
   "execution_count": 126,
   "id": "exact-produce",
   "metadata": {},
   "outputs": [
    {
     "data": {
      "image/png": "[encoded data removed]",
      "text/plain": [
       "plot without title"
      ]
     },
     "metadata": {
      "image/png": {
       "height": 600,
       "width": 1500
      }
     },
     "output_type": "display_data"
    }
   ],
   "source": [
    "options(repr.plot.width=1*10, repr.plot.height=0.8*5,repr.plot.res=1*300)\n",
    "par(mfrow=c(1,2))\n",
    "plot(x,Fx(x),type='l',ylim=c(-0.01,1.01))\n",
    "abline(h=0,lty=2,col=2)\n",
    "abline(h=1,lty=2,col=2)\n",
    "plot(x,Gx(x),type='l',ylim=c(-0.01,1.01))\n",
    "abline(h=0,lty=2,col=2)\n",
    "abline(h=1,lty=2,col=2)\n",
    "par(mfrow=c(1,1))"
   ]
  },
  {
   "cell_type": "markdown",
   "id": "operating-mounting",
   "metadata": {},
   "source": [
    "왼쪽: 어차피 평균이 1인 지수분포의 cdf이므로, 생성된 값들은 대부분 10 이하일 테니까, $x=10$근처에서는 거의 1에 가까워진다. "
   ]
  },
  {
   "cell_type": "markdown",
   "id": "private-school",
   "metadata": {},
   "source": [
    "오른쪽: 평균이 10인 지수분포의 cdf이므로, 생성된 값들은 절반정도 10이하일 것이므로, $x=10$근처에서는 거의 $0.5$근처의 값을 가진다. "
   ]
  },
  {
   "cell_type": "markdown",
   "id": "disciplinary-oasis",
   "metadata": {},
   "source": [
    "$y$축에서 랜덤변수를 발생시킨뒤에, $\\rightarrow$ $\\downarrow$ 를 하여 $x$축에 내린다고 생각해보자."
   ]
  },
  {
   "cell_type": "markdown",
   "id": "double-threshold",
   "metadata": {},
   "source": [
    "왼쪽: 대부분 10이하에서 떨어짐 "
   ]
  },
  {
   "cell_type": "markdown",
   "id": "refined-marketplace",
   "metadata": {},
   "source": [
    "오른쪽: 대략 절반정도가 10이하에 떨어지고 나머지는 10이상에 떨어질것임"
   ]
  },
  {
   "cell_type": "markdown",
   "id": "unusual-salon",
   "metadata": {},
   "source": [
    "!!! "
   ]
  },
  {
   "cell_type": "markdown",
   "id": "allied-optimum",
   "metadata": {},
   "source": [
    "일단 구현해보자. "
   ]
  },
  {
   "cell_type": "code",
   "execution_count": 129,
   "id": "acute-strengthening",
   "metadata": {},
   "outputs": [],
   "source": [
    "# x --> - --> exp --> - ---> +1  \n",
    "# u-1 ==> -(u-1) ==> log(1-u) ==> -log(1-u)  "
   ]
  },
  {
   "cell_type": "markdown",
   "id": "arctic-shower",
   "metadata": {},
   "source": [
    "$F^{-1}(x)=-\\log(1-x)$"
   ]
  },
  {
   "cell_type": "markdown",
   "id": "given-agenda",
   "metadata": {},
   "source": [
    "$G(x)=-e^{-x/10}+1$"
   ]
  },
  {
   "cell_type": "code",
   "execution_count": 130,
   "id": "answering-recruitment",
   "metadata": {},
   "outputs": [],
   "source": [
    "# x --> *(-1/10) --> exp --> - ---> +1  \n",
    "# u-1 ==> -(u-1) ==> log(1-u) ==> -10*log(1-u) "
   ]
  },
  {
   "cell_type": "markdown",
   "id": "unusual-penetration",
   "metadata": {},
   "source": [
    "$G^{-1}(x)=-10\\log(1-u)$"
   ]
  },
  {
   "cell_type": "code",
   "execution_count": 131,
   "id": "amazing-engagement",
   "metadata": {},
   "outputs": [],
   "source": [
    "Finv<-function(u){\n",
    "    -log(1-u)\n",
    "}\n",
    "\n",
    "Ginv<-function(u){\n",
    "    -10*log(1-u)\n",
    "}"
   ]
  },
  {
   "cell_type": "code",
   "execution_count": 132,
   "id": "stable-sweden",
   "metadata": {},
   "outputs": [
    {
     "data": {
      "image/png": "[encoded data removed]",
      "text/plain": [
       "plot without title"
      ]
     },
     "metadata": {
      "image/png": {
       "height": 600,
       "width": 1500
      }
     },
     "output_type": "display_data"
    }
   ],
   "source": [
    "u<-runif(1)\n",
    "x_left=Finv(u)\n",
    "x_right=Ginv(u)\n",
    "\n",
    "options(repr.plot.width=1*10, repr.plot.height=0.8*5,repr.plot.res=1*300)\n",
    "par(mfrow=c(1,2))\n",
    "plot(x,Fx(x),ylim=c(0,1.1),type='l',xlim=c(0,10))\n",
    "abline(h=1,lty=2,col=2)\n",
    "points(0,u,col=4)\n",
    "points(x_left,u,col=4)\n",
    "points(x_left,0,col=4)\n",
    "\n",
    "plot(x,Gx(x),ylim=c(0,1.1),type='l')\n",
    "abline(h=1,lty=2,col=2)\n",
    "points(0,u,col=4)\n",
    "points(x_right,u,col=4)\n",
    "points(x_right,0,col=4)\n",
    "par(mfrow=c(1,1))"
   ]
  },
  {
   "cell_type": "markdown",
   "id": "false-information",
   "metadata": {},
   "source": [
    "왠지 이런식으로 만들면 될 것 같다. "
   ]
  },
  {
   "cell_type": "markdown",
   "id": "everyday-princess",
   "metadata": {},
   "source": [
    "즉 아래와 같은 알고리즘을 생각하자. "
   ]
  },
  {
   "cell_type": "markdown",
   "id": "interracial-collins",
   "metadata": {},
   "source": [
    "### *[알고리즘]*"
   ]
  },
  {
   "cell_type": "markdown",
   "id": "political-disposition",
   "metadata": {},
   "source": [
    "pdf가 $f(x)$이고 서로 독립인 확률변수 $X_1,X_2,\\dots, X_n$을 생성하고 싶다면? \n",
    "\n",
    "(1) 균등분포에서 $n$개의 난수를 독립적으로 생성한다. 이를 $U_1,\\dots,U_n$이라고 하자. \n",
    "\n",
    "(2) $X_1=F^{-1}(U_1) ,\\dots X_n=F^{-1}(U_n)$ 이라고 둔다.  \n"
   ]
  },
  {
   "cell_type": "markdown",
   "id": "above-harvard",
   "metadata": {},
   "source": [
    "**위의 알고리즘이 왜 말이 되는가?** "
   ]
  },
  {
   "cell_type": "markdown",
   "id": "worldwide-radar",
   "metadata": {},
   "source": [
    "(1) 일단 $F(X)=U$라고 가정하자. \n",
    "- 수통시간에서 배웠을 것임. \n",
    "- 우리의 경우로 치면 `X`를 지수분포에서 생성하고 함수 `exp(-X)`를 취하면 이것은 균등분포를 따른다는 것이다. "
   ]
  },
  {
   "cell_type": "markdown",
   "id": "alert-popularity",
   "metadata": {},
   "source": [
    "(2) 우리는 $F^{-1}(U)$의 분포가 $X$와 같음을 보이면 된다. "
   ]
  },
  {
   "cell_type": "markdown",
   "id": "surprising-indiana",
   "metadata": {},
   "source": [
    "cdf가 같으면 분포가 같으므로 "
   ]
  },
  {
   "cell_type": "markdown",
   "id": "extensive-evans",
   "metadata": {},
   "source": [
    "임의의 $c$에 대하여 (아무렇게나 $c$를 잡아도)"
   ]
  },
  {
   "cell_type": "markdown",
   "id": "mental-court",
   "metadata": {},
   "source": [
    "$Pr(F^{-1}(U)\\leq c)=Pr(X\\leq c)$"
   ]
  },
  {
   "cell_type": "markdown",
   "id": "hawaiian-designer",
   "metadata": {},
   "source": [
    "임을 보이면 된다. "
   ]
  },
  {
   "cell_type": "markdown",
   "id": "similar-elevation",
   "metadata": {},
   "source": [
    "좌변에서 $\\leq$의 양쪽에 함수 $F$를 취하여 정리하면 "
   ]
  },
  {
   "cell_type": "markdown",
   "id": "signal-renewal",
   "metadata": {},
   "source": [
    "$Pr(U\\leq F(c))$"
   ]
  },
  {
   "cell_type": "markdown",
   "id": "second-remark",
   "metadata": {},
   "source": [
    "그런데 $U=F(X)$라고 했으므로 "
   ]
  },
  {
   "cell_type": "markdown",
   "id": "permanent-decline",
   "metadata": {},
   "source": [
    "$Pr(F(X)\\leq F(c))$"
   ]
  },
  {
   "cell_type": "markdown",
   "id": "otherwise-vessel",
   "metadata": {},
   "source": [
    "양쪽에 함수 $F^{-1}$를 취하면 "
   ]
  },
  {
   "cell_type": "markdown",
   "id": "registered-speed",
   "metadata": {},
   "source": [
    "$Pr(X\\leq c)$"
   ]
  },
  {
   "cell_type": "markdown",
   "id": "terminal-atlantic",
   "metadata": {},
   "source": [
    "따라서 좌변과 우변이 같다. (임의의 $c$에 대하여!)"
   ]
  },
  {
   "cell_type": "markdown",
   "id": "imperial-truth",
   "metadata": {},
   "source": [
    "### 예제1: 역변환기법으로 평균이 1인 지수분포를 1000개 생성"
   ]
  },
  {
   "cell_type": "code",
   "execution_count": 133,
   "id": "ambient-audio",
   "metadata": {},
   "outputs": [],
   "source": [
    "n=10000\n",
    "U=runif(n)\n",
    "X=Finv(U)"
   ]
  },
  {
   "cell_type": "code",
   "execution_count": 134,
   "id": "above-incentive",
   "metadata": {},
   "outputs": [],
   "source": [
    "X2=rexp(n)"
   ]
  },
  {
   "cell_type": "code",
   "execution_count": 138,
   "id": "disabled-acoustic",
   "metadata": {},
   "outputs": [
    {
     "data": {
      "image/png": "[encoded data removed]",
      "text/plain": [
       "Plot with title “Histogram of X2”"
      ]
     },
     "metadata": {
      "image/png": {
       "height": 750,
       "width": 1500
      }
     },
     "output_type": "display_data"
    }
   ],
   "source": [
    "options(repr.plot.width=1*10, repr.plot.height=1*5,repr.plot.res=1*300)\n",
    "par(mfrow=c(2,1))\n",
    "hist(X,breaks=30)\n",
    "hist(X2,breaks=30)\n",
    "par(mfrow=c(1,1))"
   ]
  },
  {
   "cell_type": "code",
   "execution_count": null,
   "id": "whole-inside",
   "metadata": {},
   "outputs": [],
   "source": []
  },
  {
   "cell_type": "code",
   "execution_count": null,
   "id": "molecular-hearts",
   "metadata": {},
   "outputs": [],
   "source": []
  }
 ],
 "metadata": {
  "kernelspec": {
   "display_name": "R",
   "language": "R",
   "name": "ir"
  },
  "language_info": {
   "codemirror_mode": "r",
   "file_extension": ".r",
   "mimetype": "text/x-r-source",
   "name": "R",
   "pygments_lexer": "r",
   "version": "4.0.3"
  }
 },
 "nbformat": 4,
 "nbformat_minor": 5
}
