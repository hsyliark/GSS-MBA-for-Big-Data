{
 "cells": [
  {
   "cell_type": "markdown",
   "metadata": {},
   "source": [
    "### Stationary Process"
   ]
  },
  {
   "cell_type": "markdown",
   "metadata": {},
   "source": [
    "`-` 마코프체인이 적당히 큰 시점 이후에 분포가 동일해지는 상황에 집중하여 보자. 즉 $X_t$의 분포가 $X_{t+1}$의 분포와 거의 비슷해지는 특이한 확률변수열에 대하여 집중하여 보자. "
   ]
  },
  {
   "cell_type": "markdown",
   "metadata": {},
   "source": [
    "`-` 이해를 돕기 위하여 날씨예측예제를 다시 생각해보자. "
   ]
  },
  {
   "cell_type": "markdown",
   "metadata": {},
   "source": [
    "---"
   ]
  },
  {
   "cell_type": "markdown",
   "metadata": {},
   "source": [
    "***[날씨예측예제, remind]***"
   ]
  },
  {
   "cell_type": "markdown",
   "metadata": {},
   "source": [
    "`-` 아래와 같이 세상의 법칙이 있다고 하자. \n",
    "- 맑/맑: 0.4 \n",
    "- 맑/비: 0.3 \n",
    "- 비/맑: 0.2\n",
    "- 비/비: 0.1 "
   ]
  },
  {
   "cell_type": "markdown",
   "metadata": {},
   "source": [
    "`-` 모든 $t$에 대하여 확률변수 $X_t$를 아래와 같이 정의하자. \n",
    "- 맑: $X_t=0$ \n",
    "- 비: $X_t=1$"
   ]
  },
  {
   "cell_type": "markdown",
   "metadata": {},
   "source": [
    "`-` 오늘 (2021년5월8일) 비가 왔다고 치자. 10000일 뒤에도 비가 올 확률은 얼마일까? "
   ]
  },
  {
   "cell_type": "markdown",
   "metadata": {},
   "source": [
    "---"
   ]
  },
  {
   "cell_type": "markdown",
   "metadata": {},
   "source": [
    "`-` 풀이 1,2,3,4가 있었는데 풀이 3,4가 특이했었다. "
   ]
  },
  {
   "cell_type": "markdown",
   "metadata": {},
   "source": [
    "`-` 풀이 3,4에서는 특별한 가정을 사용해서 풀었는데, 그 특별한 가정은 \"9999일 뒤에 비가 올 확률 = 10000일 뒤에 비가 올 확률\" 이다. "
   ]
  },
  {
   "cell_type": "markdown",
   "metadata": {},
   "source": [
    "`-` 이 특별한 가정은 우리 예제에서는 타당했는데, 그 타당성은 풀이2에서 확인할 수 있었다. "
   ]
  },
  {
   "cell_type": "markdown",
   "metadata": {},
   "source": [
    "`-` 풀이2에서는 $X_t$가 주어졌을 경우 $X_{t+1}$의 조건부확률을 정리한 매트릭스 ${\\bf P}$ (전이확률이라고도 함) 를 이용해서 10000일 뒤에 비가 올 확률을 정확하게 계산하는 방법을 고안하였다. (이러한 매트릭스 ${\\bf P}$를 모순없이 정의할 수 있는 이유는 $\\{X_t\\}$가 마코프체인이기 때문.) 구체적인 풀이는 아래와 같았다.  \n",
    "$${\\bf P}^{9999}\\mu=\\begin{bmatrix}\n",
    "0.6086957 & 0.6086957 \\\\ \n",
    "0.3913043 & 0.3913043\n",
    "\\end{bmatrix}\\begin{bmatrix} 0 \\\\ 1 \\end{bmatrix}=\\begin{bmatrix} 0.6086957 \\\\ 0.3913043 \\end{bmatrix}$$\n"
   ]
  },
  {
   "cell_type": "markdown",
   "metadata": {},
   "source": [
    "`-` 이 수식에서 $\\pi=\\begin{bmatrix} 0.6086957 \\\\ 0.3913043 \\end{bmatrix}$라고 두고 식을 다시쓰면 \n",
    "\n",
    "$${\\bf P}^{9999}\\mu=\\pi \\quad \\cdots (\\ast)$$"
   ]
  },
  {
   "cell_type": "markdown",
   "metadata": {},
   "source": [
    "`–` 풀이2중 독특한 관찰을 했던것이 기억나는데 적당히 큰 수 $M$ 이후에는 ${\\bf P}^{M}={\\bf P}^{M+1}={\\bf P}^{M+2}=\\dots={\\bf P}^{\\infty}$ 이 성립하였음을 관찰할 수 있었다. \n",
    " - 편의상 ${\\bf P}^{9997}={\\bf P}^{9998}={\\bf P}^{9999}={\\bf P}^{10000}=\\dots={\\bf P}^{\\infty}$ 로 생각할 수 있다는것을 의미"
   ]
  },
  {
   "cell_type": "markdown",
   "metadata": {},
   "source": [
    "`-` 수식 $(\\ast)$이 상당히 미묘하다. "
   ]
  },
  {
   "cell_type": "markdown",
   "metadata": {},
   "source": [
    "`(1)` $\\pi$는 $X_{10000}$의 확률질량함수를 의미함. \n",
    "- 구체적으로 $X_{10000}$의 확률질량함수는 아래와 같이 쓸 수 있다. \n",
    "\n",
    "|$x$|$0(={\\tt 맑음})$|$1(={\\tt 비옴})$|\n",
    "|:-:|:-:|:-:|\n",
    "|$p(x)$|$0.6087$|$0.3913$|"
   ]
  },
  {
   "cell_type": "markdown",
   "metadata": {},
   "source": [
    "`(2)` $(\\ast)$의 좌변에 $\\mu$에 아무값이나 넣어도 (각 원소를 더해서 1이기만 하면) 우변의 값은 항상 동일하다. \n",
    "- 이것은 5월8일 날씨에 상관없이 항상 10000일 뒤에 비가 올 확률은 동일하다는 것을 의미한다. "
   ]
  },
  {
   "cell_type": "markdown",
   "metadata": {},
   "source": [
    "`(3)` $(\\ast)$를 관찰해보니 좌변의 9999대신에 9998을 넣어도 상관없을것 같다. 심지어 10000을 넣어도 상관없을것 같다. \n",
    "- 특정한 시점 $M$ 이후에 $X_t$들의 분포가 모두 동일하다. "
   ]
  },
  {
   "cell_type": "markdown",
   "metadata": {},
   "source": [
    "`-` (1)-(3)의 관찰들을 종합하면 아래와 같다. \n",
    "\n",
    "> 마코프체인 $X_t$와 그것에 대응하는 전이확률 매트릭스 (transition matrix) ${\\bf P}$가 주어졌다고 하자. ${\\bf P}$가 적당한 성질을 만족한다면 마코프체인 $X_t$는 (초기조건이 어떻든 관계없이) 특정 시점 이후에 항상 동일한 확률분포 $\\pi$를 가진다. "
   ]
  },
  {
   "cell_type": "markdown",
   "metadata": {},
   "source": [
    "`-` 적당한 조건이 어떤것이 있을까? 우선 생각나는것은 아래와 같다. "
   ]
  },
  {
   "cell_type": "markdown",
   "metadata": {},
   "source": [
    "`-` 성질1: 매트릭스 ${\\bf P}$를 거듭제곱할수록 점점 어떠한 매트릭스 ${\\bf P}^{\\infty}$에 가까워진다. "
   ]
  },
  {
   "cell_type": "markdown",
   "metadata": {},
   "source": [
    "`-` 성질2: ${\\bf P}^{\\infty}$ 각 row의 원소들은 모두 동일한 값을 가진다. "
   ]
  },
  {
   "cell_type": "markdown",
   "metadata": {},
   "source": [
    "`-` 이러한 성질을 압축한것이 바로 아래의 조건이다. \n",
    "\n",
    "> ${\\bf P}^{\\infty}$의 거듭제곱은 항상 어떠한 매트릭스 ${\\bf P}^{\\infty}$로 수렴하고, ${\\bf P}^{\\infty}$는 (각 원소의 합이 1인) 임의의 $\\mu$에 대하여 ${\\bf P}^{\\infty}\\mu=\\pi$를 만족한다. "
   ]
  },
  {
   "cell_type": "markdown",
   "metadata": {},
   "source": [
    "`-` 아쉬움: 그런데 이를 확인하기 위해서는 매번 ${\\bf P}$를 곱해보면서 ${\\bf P}^{\\infty}$를 만들어 봐야한다. 혹시 ${\\bf P}$만 가지고 알 수 있는 방법은 없을까? "
   ]
  },
  {
   "cell_type": "markdown",
   "metadata": {},
   "source": [
    "`-` 해결책: 아래식 \n",
    "\n",
    "$${\\bf P}^{\\infty}\\mu=\\pi$$\n",
    "\n",
    "을 살짝 변형하면 \n",
    "\n",
    "$${\\bf P}\\big({\\bf P}^{\\infty}\\mu\\big)=\\pi$$\n",
    "\n",
    "와 같이 된다. "
   ]
  },
  {
   "cell_type": "markdown",
   "metadata": {},
   "source": [
    "`-` 그런데 ${\\bf P}^{\\infty}\\mu=\\pi$ 이므로 \n",
    "\n",
    "$${\\bf P}\\pi=\\pi \\quad \\cdots(\\star)$$\n",
    "\n",
    "가 된다. "
   ]
  },
  {
   "cell_type": "markdown",
   "metadata": {},
   "source": [
    "`-` 따라서 \n",
    "\n",
    "> 마코프체인 $X_t$와 그것에 대응하는 전이확률 매트릭스 (transition matrix) ${\\bf P}$가 주어졌다고 하자. 어떤 적당한 분포 $\\pi$를 \"어떤방식으로든\" 찾아내서 $(\\star)$가 성립함을 보인다면 (즉 ${\\bf P}\\pi=\\pi$ 임을 보인다면) 마코프체인 $X_t$는 (초기조건이 어떻든 관계없이) 특정 시점 이후에 항상 동일한 확률분포를 가지며 그 분포가 $\\pi$라고 주장할 수 있다. "
   ]
  },
  {
   "cell_type": "markdown",
   "metadata": {},
   "source": [
    "`-` 이때 $\\star$를 만족하는 $\\pi$를 $X_t$의 정상분포 (stationary distribution) 라고 한다. "
   ]
  },
  {
   "cell_type": "markdown",
   "metadata": {},
   "source": [
    "#### $(\\star)$의 다른 표현"
   ]
  },
  {
   "cell_type": "markdown",
   "metadata": {},
   "source": [
    "`-` 날씨예제의 경우 \n",
    "\n",
    "$${\\bf P}=\\begin{bmatrix}\n",
    "P(X_{t+1}=0|X_{t}=0) & P(X_{t+1}=0|X_{t}=1)\\\\\n",
    "P(X_{t+1}=1|X_{t}=0) & P(X_{t+1}=1|X_{t}=1)\n",
    "\\end{bmatrix} \\quad \\pi=\\begin{bmatrix}P(X_{\\infty}=0) \\\\ P(X_{\\infty}=1) \\end{bmatrix}$$"
   ]
  },
  {
   "cell_type": "markdown",
   "metadata": {},
   "source": [
    "`–` 편의상 아래와 같이 기호를 약속하자. \n",
    "\n",
    "$${\\bf P}=\\begin{bmatrix}\n",
    "p(0,0) & p(1,0)\\\\\n",
    "p(0,1) & p(1,1) \n",
    "\\end{bmatrix} \\quad \\pi=\\begin{bmatrix}\\pi(0) \\\\ \\pi(1) \\end{bmatrix}$$"
   ]
  },
  {
   "cell_type": "markdown",
   "metadata": {},
   "source": [
    "`-` $\\pi={\\bf P}\\pi $를 풀면 \n",
    "\n",
    "$$\\pi(0)=p(0,0)\\pi(0)+p(1,0)\\pi(1)$$\n",
    "\n",
    "$$\\pi(1)=p(0,1)\\pi(0)+p(1,1)\\pi(1)$$"
   ]
  },
  {
   "cell_type": "markdown",
   "metadata": {},
   "source": [
    "`-` 따라서 조건 $\\pi=P\\pi$가 만족한다는 것은 모든 $y=0,1$에 대하여 아래식이 성립한다는 조건과 같다. \n",
    "\n",
    "$$\\pi(y)=\\sum_x p(x,y)\\pi(x) \\quad \\cdots (\\star)$$"
   ]
  },
  {
   "cell_type": "markdown",
   "metadata": {},
   "source": [
    "`–` 날씨예제에서는 $x,y$의 값이 0 또는 1이었지만 좀더 일반적인 경우에서도 위의 논의가 성립한다. "
   ]
  },
  {
   "cell_type": "markdown",
   "metadata": {},
   "source": [
    "### Detailed balance condition "
   ]
  },
  {
   "cell_type": "markdown",
   "metadata": {},
   "source": [
    "`–` 어떠한 마코프체인 $X_t$가 있다고 하자. 그리고 모든 $x,y$에 대하여 전이확률을 $p(x,y)$라고 하자. 어떤 $\\pi(y)$가 모든 $x,y$에 대하여 아래를 만족한다고 하자. \n",
    "\n",
    "$$\\pi(y)p(y,x)=\\pi(x)p(x,y) \\quad \\cdots (\\star\\star)$$"
   ]
  },
  {
   "cell_type": "markdown",
   "metadata": {},
   "source": [
    "`–` 이 조건을 detailed balance condition이라고 한다. "
   ]
  },
  {
   "cell_type": "markdown",
   "metadata": {},
   "source": [
    "`-` detailed balance condition의 양변에 $\\sum_x$를 취하면 \n",
    "\n",
    "$LHS=\\pi(y)\\sum_x p(y,x)=\\pi(y)\\sum_xP(X_{t+1}=x | X_t =y)=\\pi(y)$\n",
    "\n",
    "$RHS=\\sum_x \\pi(x)p(x,y)$\n",
    "\n",
    "가 되어서 조건 $(\\star)$가 성립한다. 따라서 조건 $(\\star\\star)$가 성립하면 조건 $(\\star)$가 성립된다. "
   ]
  },
  {
   "cell_type": "markdown",
   "metadata": {},
   "source": [
    "`-` 그렇다면 아래의 정리가 성립한다. \n",
    "\n",
    "> 마코프체인 $X_t$와 그것에 대응하는 전이확률 매트릭스 (transition matrix) ${\\bf P}$가 주어졌다고 하자. 어떤 적당한 분포 $\\pi$를 \"어떤방식으로든\" 찾아내서 $(\\star\\star)$가 성립함을 보인다면 (즉 detailed balance condition 이 만족함을 보인다면) 마코프체인 $X_t$는 (초기조건이 어떻든 관계없이) 특정 시점 이후에 항상 동일한 확률분포를 가지며 그 분포가 $\\pi$라고 주장할 수 있다. "
   ]
  },
  {
   "cell_type": "markdown",
   "metadata": {},
   "source": [
    "`-` $X_t$가 가지는 정상분포 $\\pi(x)$를 $f(x)$라고 쓰고 $y=x_{t+1}$, $x=x_{t}$를 대입하면 $(\\star\\star)$를 아래와 같이 쓸 수도 있다. \n",
    "\n",
    "$$f(x_{t+1})P(x_t|x_{t+1})=f(x_t)P(x_{t+1}|x_t)$$"
   ]
  },
  {
   "cell_type": "markdown",
   "metadata": {},
   "source": [
    "`-` 의문1: 어지간한 마코프체인 $\\{X_t\\}$는 모두 ${\\bf P}^{\\infty}$이 존재하지 않나?\n",
    "\n",
    "- 아니다. ${\\bf P}=\\begin{bmatrix} 0 & 1 \\\\ 1 & 0 \\end{bmatrix}$를 상상하자. ${\\bf P}^2={\\bf I}$, ${\\bf P}^3={\\bf P}, \\dots$"
   ]
  },
  {
   "cell_type": "markdown",
   "metadata": {},
   "source": [
    "`–` 의문2: 그냥 $X_t$가 iid열이 아니라 동일한 분포를 가지는 열이라고 가정하면 안되나? \n",
    "\n",
    "- 안된다. stationary process는 동일한 분포를 가지는 확률변수열보다 훨씬 더 유용하다. 간단한 예로 $X_1$은 0.5의 확률로 0 또는 1의 값을 가지고 $X_1=X_2=X_3=X_4=\\dots$ 라고 하자. 분명히 $X_1=X_2=\\dots$는 같은 분포를 가진다. 하지만 하나의 앙상블에서 관측한 열은 항상 1 혹은 항상 0이다. (비가 오면 그 다음날에도 비가 오고, 비가 오지 않으면 계속 비가 오지 않음) 이러한 경우는 10000일의 시점에서 앙상블평균은 1/2이지만 시간평균은 0 혹은 1이다.   "
   ]
  },
  {
   "cell_type": "markdown",
   "metadata": {},
   "source": [
    "### 메트로폴리스-헤이스팅스"
   ]
  },
  {
   "cell_type": "markdown",
   "metadata": {},
   "source": [
    "### 예제1 "
   ]
  },
  {
   "cell_type": "markdown",
   "metadata": {},
   "source": [
    "다시 $B(2.7,6.3)$를 추출하는 예제로 돌아오자. "
   ]
  },
  {
   "cell_type": "markdown",
   "metadata": {},
   "source": [
    "#### 시도1"
   ]
  },
  {
   "cell_type": "markdown",
   "metadata": {},
   "source": [
    "`-` 우선 우리가 관심이 있는 타겟분포를 그려보자. "
   ]
  },
  {
   "cell_type": "code",
   "execution_count": 4,
   "metadata": {},
   "outputs": [],
   "source": [
    "f<-function(x){\n",
    "    alpha=2.7 \n",
    "    beta=6.3\n",
    "    gamma(alpha+beta)/gamma(alpha)/gamma(beta) * x^(alpha-1)*(1-x)^(beta-1)\n",
    "}"
   ]
  },
  {
   "cell_type": "code",
   "execution_count": 6,
   "metadata": {},
   "outputs": [
    {
     "data": {
      "image/png": "[encoded data removed]",
      "text/plain": [
       "plot without title"
      ]
     },
     "metadata": {
      "image/png": {
       "height": 420,
       "width": 420
      }
     },
     "output_type": "display_data"
    }
   ],
   "source": [
    "plot(1:1000/1000,f(1:1000/1000),type='l')"
   ]
  },
  {
   "cell_type": "code",
   "execution_count": 7,
   "metadata": {},
   "outputs": [],
   "source": [
    "X<-rep(0.1,5000)"
   ]
  },
  {
   "cell_type": "code",
   "execution_count": 9,
   "metadata": {},
   "outputs": [
    {
     "name": "stdout",
     "output_type": "stream",
     "text": [
      "[1] 0.1 0.1 0.1 0.1 0.1 0.1\n"
     ]
    }
   ],
   "source": [
    "print(head(X))"
   ]
  },
  {
   "cell_type": "markdown",
   "metadata": {},
   "source": [
    "`-` 현재 $X$의 값은 모두 0.1이다. 그런데 궁극적으로는 $X$의 값을 모두 $Beta(2.7,6.3)$에서 생성된 샘플들로 채우고 싶다. "
   ]
  },
  {
   "cell_type": "code",
   "execution_count": 10,
   "metadata": {},
   "outputs": [
    {
     "name": "stdout",
     "output_type": "stream",
     "text": [
      "[1] 0.2655087\n"
     ]
    }
   ],
   "source": [
    "set.seed(1)\n",
    "Y<-runif(1)\n",
    "print(Y)"
   ]
  },
  {
   "cell_type": "code",
   "execution_count": 12,
   "metadata": {},
   "outputs": [
    {
     "data": {
      "image/png": "[encoded data removed]",
      "text/plain": [
       "plot without title"
      ]
     },
     "metadata": {
      "image/png": {
       "height": 420,
       "width": 420
      }
     },
     "output_type": "display_data"
    }
   ],
   "source": [
    "plot(1:1000/1000,f(1:1000/1000),type='l')\n",
    "points(Y,0,col=2,cex=2,lwd=5)\n",
    "points(X[1],0,col=4,cex=2,lwd=5)"
   ]
  },
  {
   "cell_type": "markdown",
   "metadata": {},
   "source": [
    "`–` 빨간점이 $Y$이고 파란점은 $X$이다. 두개의 점중에서 어떤것이 $f(x)$에서 생성되었다고 믿어지는 점일까? "
   ]
  },
  {
   "cell_type": "markdown",
   "metadata": {},
   "source": [
    "`-` 빨간색 점이 더 가능성이 높아보인다. (pdf값이 더 높음)"
   ]
  },
  {
   "cell_type": "markdown",
   "metadata": {},
   "source": [
    "`-` $X[2]$의 값은 그냥 빨강으로 결정하자."
   ]
  },
  {
   "cell_type": "code",
   "execution_count": 13,
   "metadata": {},
   "outputs": [],
   "source": [
    "X[2]<-Y"
   ]
  },
  {
   "cell_type": "code",
   "execution_count": 15,
   "metadata": {},
   "outputs": [
    {
     "name": "stdout",
     "output_type": "stream",
     "text": [
      "[1] 0.1000000 0.2655087 0.1000000 0.1000000 0.1000000 0.1000000\n"
     ]
    }
   ],
   "source": [
    "print(head(X))"
   ]
  },
  {
   "cell_type": "markdown",
   "metadata": {},
   "source": [
    "`-` 다시 $Y$를 하나 뽑자. "
   ]
  },
  {
   "cell_type": "code",
   "execution_count": 16,
   "metadata": {},
   "outputs": [
    {
     "name": "stdout",
     "output_type": "stream",
     "text": [
      "[1] 0.1848823\n"
     ]
    }
   ],
   "source": [
    "set.seed(2)\n",
    "Y<-runif(1)\n",
    "print(Y)"
   ]
  },
  {
   "cell_type": "markdown",
   "metadata": {},
   "source": [
    "`-` 다시 뽑은 $Y$는 초록색으로 표현하자.  "
   ]
  },
  {
   "cell_type": "code",
   "execution_count": 18,
   "metadata": {},
   "outputs": [
    {
     "data": {
      "image/png": "[encoded data removed]",
      "text/plain": [
       "plot without title"
      ]
     },
     "metadata": {
      "image/png": {
       "height": 420,
       "width": 420
      }
     },
     "output_type": "display_data"
    }
   ],
   "source": [
    "plot(1:1000/1000,f(1:1000/1000),type='l')\n",
    "points(Y,0,col=3,cex=2,lwd=5)\n",
    "points(X[2],0,col=2,cex=2,lwd=5)"
   ]
  },
  {
   "cell_type": "markdown",
   "metadata": {},
   "source": [
    "`–` 둘중에 어떤것이 더 $Beta(2.7,6.3)$에서 추출한 샘플 같은가? "
   ]
  },
  {
   "cell_type": "markdown",
   "metadata": {},
   "source": [
    "`-` 여전히 빨강이 더 $Beta(2.7,6.3)$의 분포에서 나온것 같다. "
   ]
  },
  {
   "cell_type": "markdown",
   "metadata": {},
   "source": [
    "`-` 그러면 $X[3]$의 값도 그냥 빨강으로 한다. "
   ]
  },
  {
   "cell_type": "markdown",
   "metadata": {},
   "source": [
    "`-` 지금까지의 결과를 요약하면 아래와 같다. \n",
    "\n",
    "|$t$|$X_t$|$Y_t$|설명| \n",
    "|:-:|:-:|:-:|:-:|\n",
    "|$1$|$0.1$|$0.2655087$|$Y_1$이 $X_1$보다 더 $Beta(2.7,6.3)$에서 나온 분포같았음 $\\to$ $X_2$는 $Y_1$로 선택|\n",
    "|$2$|$0.2655087$|$0.1848823$|이번에는 $X_2$가 $Y_2$보다 더 $Beta(2.7,6.3)$에서 나온 분포같음 $\\to$ $X_3$는 $X_2$로 선택|\n",
    "|$3$|$0.2655087$|$-$|-|\n",
    "|$\\dots$|$\\dots$|$\\dots$|$\\dots$|"
   ]
  },
  {
   "cell_type": "markdown",
   "metadata": {},
   "source": [
    "`–` 이걸 무한대로 반복하면 $X_t$는 결국 $Beta(2.7,6.3)$에서 뽑혔을법한 샘플들로 점점 채워진다.  "
   ]
  },
  {
   "cell_type": "markdown",
   "metadata": {},
   "source": [
    "`-` 따라서 $\\{X_1,X_2,X_3,\\dots,X_{5000}\\}$을 모아서 히스토그램을 그리면 적당히 $Beta(2.7,6.3)$에서 추출한 표본이라 주장할 수 있을것 같다. "
   ]
  },
  {
   "cell_type": "markdown",
   "metadata": {},
   "source": [
    "`-` 앞부분은 내가 임의로 값을 주는것에 따라 다르니까 대충 앞에 100개정도는 버리고 $\\{X_{101},X_{102},\\dots,X_{5000}\\}$를 모아서 히스토그램을 그리면 좀 더 좋은 그림이 나올것 같다. "
   ]
  },
  {
   "cell_type": "markdown",
   "metadata": {},
   "source": [
    "#### 시도2"
   ]
  },
  {
   "cell_type": "markdown",
   "metadata": {},
   "source": [
    "`-` 시도1의 당연한 우려점은 특정시점 이후에는 $X_t$는 거의 하나의 값만 나올것 같다는 것이다. "
   ]
  },
  {
   "cell_type": "markdown",
   "metadata": {},
   "source": [
    "`-` 즉 우연히 $X_t$가 pdf의 최고점에서 찍힌다면, 그 이후에는 거의 $X_t$는 하나의 값만 나올것 "
   ]
  },
  {
   "cell_type": "markdown",
   "metadata": {},
   "source": [
    "`-` 당장 위의 예제만 살펴봐도 $X_4, X_5,X_6,\\dots$ 뽑아보았자 당분간은 $X_4=X_5=X_6=..=0.2655087$ 일것 같다. "
   ]
  },
  {
   "cell_type": "markdown",
   "metadata": {},
   "source": [
    "`-` 히스토그램을 그려봤자 다 $0.2655087$에만 값이 몰려있을 것이다. "
   ]
  },
  {
   "cell_type": "markdown",
   "metadata": {},
   "source": [
    "`-` 더 그럴듯한 샘플을 선택하는 아이디어는 좋은데, 그런식으로 진행하면 결국 반복할수록 pdf의 최고점을 향해 달려가는 꼴밖에 안된다. "
   ]
  },
  {
   "cell_type": "markdown",
   "metadata": {},
   "source": [
    "`-` 다시 아래의 그림을 관찰해보자. "
   ]
  },
  {
   "cell_type": "code",
   "execution_count": 22,
   "metadata": {},
   "outputs": [
    {
     "data": {
      "image/png": "[encoded data removed]",
      "text/plain": [
       "plot without title"
      ]
     },
     "metadata": {
      "image/png": {
       "height": 420,
       "width": 420
      }
     },
     "output_type": "display_data"
    }
   ],
   "source": [
    "plot(1:1000/1000,f(1:1000/1000),type='l')\n",
    "points(Y,0,col=3,cex=2,lwd=5)\n",
    "points(X[2],0,col=2,cex=2,lwd=5)"
   ]
  },
  {
   "cell_type": "markdown",
   "metadata": {},
   "source": [
    "`-` 초록색점보다 빨간색 점이 더 pdf값이 높으므로 빨간색점이 더 $Beta(2.7,6.3)$에서 나왔음직한 샘플인것은 맞다. "
   ]
  },
  {
   "cell_type": "markdown",
   "metadata": {},
   "source": [
    "`-` 그런데 $100\\%$ 확신할 수 있는가? "
   ]
  },
  {
   "cell_type": "markdown",
   "metadata": {},
   "source": [
    "`-` 빨간색점 0.2655087 에서의 pdf값은 아래와 같다. "
   ]
  },
  {
   "cell_type": "code",
   "execution_count": 25,
   "metadata": {},
   "outputs": [
    {
     "data": {
      "text/html": [
       "2.64480579727479"
      ],
      "text/latex": [
       "2.64480579727479"
      ],
      "text/markdown": [
       "2.64480579727479"
      ],
      "text/plain": [
       "[1] 2.644806"
      ]
     },
     "metadata": {},
     "output_type": "display_data"
    }
   ],
   "source": [
    "f(0.2655087)"
   ]
  },
  {
   "cell_type": "markdown",
   "metadata": {},
   "source": [
    "`–` 반면 초록색점 0.1848823 에서의 pdf값은 아래와 같다."
   ]
  },
  {
   "cell_type": "code",
   "execution_count": 26,
   "metadata": {},
   "outputs": [
    {
     "data": {
      "text/html": [
       "2.48267809218198"
      ],
      "text/latex": [
       "2.48267809218198"
      ],
      "text/markdown": [
       "2.48267809218198"
      ],
      "text/plain": [
       "[1] 2.482678"
      ]
     },
     "metadata": {},
     "output_type": "display_data"
    }
   ],
   "source": [
    "f(0.1848823)"
   ]
  },
  {
   "cell_type": "markdown",
   "metadata": {},
   "source": [
    "`–` 사실 초록색점도 가능성 있는 점이다. 만약에 어떤사람이 $Beta(2.7,6.3)$에서 하나의 확률변수를 생성하고 나머지는 $U[0,1]$에서 생성했다고 치자. 두 결과를 초록색과 빨간색으로 표시되었다고 할때 어떤색이 $Beta(2.7,6.3)$에서 생성되었냐고 묻는다면 당신은 빨간색을 고를 것이다. "
   ]
  },
  {
   "cell_type": "markdown",
   "metadata": {},
   "source": [
    "`-` 하지만 빨간색에 전재산을 베팅할 수 있는가? "
   ]
  },
  {
   "cell_type": "code",
   "execution_count": 27,
   "metadata": {},
   "outputs": [
    {
     "data": {
      "text/html": [
       "0.515809674743804"
      ],
      "text/latex": [
       "0.515809674743804"
      ],
      "text/markdown": [
       "0.515809674743804"
      ],
      "text/plain": [
       "[1] 0.5158097"
      ]
     },
     "metadata": {},
     "output_type": "display_data"
    }
   ],
   "source": [
    "f(0.2655087) / (f(0.2655087)+f(0.1848823))"
   ]
  },
  {
   "cell_type": "markdown",
   "metadata": {},
   "source": [
    "`-` 빨간색에 $51.58\\%$의 재산만 베팅한다. "
   ]
  },
  {
   "cell_type": "markdown",
   "metadata": {},
   "source": [
    "`-` 즉 빨간색이 $Beta(2.7,6.3)$에서 왔다고 믿을 확률이 $51.58\\%$정도라는 의미이다. "
   ]
  },
  {
   "cell_type": "markdown",
   "metadata": {},
   "source": [
    "`-` 제안하는 알고리즘"
   ]
  },
  {
   "cell_type": "markdown",
   "metadata": {},
   "source": [
    "(1) $X_1$에 아무값이나 넣는다. \n",
    "\n",
    "(2) 균등분포에서 $Y_1$을 뽑는다. \n",
    "\n",
    "(3) $\\frac{f(Y_1)}{f(X_1)+f(Y_1)}$의 확률로 $X_2=Y_1$을 선택하고 $\\frac{f(X_1)}{f(X_1)+f(Y_1)}$의 확률로 $X_2=X_1$을 선택한다. \n",
    "\n",
    "(4) (2)-(3)를 반복한다. "
   ]
  },
  {
   "cell_type": "markdown",
   "metadata": {},
   "source": [
    "`-` 실행"
   ]
  },
  {
   "cell_type": "code",
   "execution_count": 39,
   "metadata": {},
   "outputs": [],
   "source": [
    "X<-rep(0.1,5000)\n",
    "for (i in 2:5000){\n",
    "    Y<-runif(1)\n",
    "    acceptance_prob<-f(Y)/(f(X[i])+f(Y))\n",
    "    U_<-runif(1)\n",
    "    X[i]<- Y* (U_< acceptance_prob) +X[i-1] * (U_> acceptance_prob)\n",
    "}"
   ]
  },
  {
   "cell_type": "code",
   "execution_count": 40,
   "metadata": {},
   "outputs": [
    {
     "data": {
      "image/png": "[encoded data removed]",
      "text/plain": [
       "Plot with title “Histogram of X[100:5000]”"
      ]
     },
     "metadata": {
      "image/png": {
       "height": 420,
       "width": 420
      }
     },
     "output_type": "display_data"
    }
   ],
   "source": [
    "hist(X[100:5000])"
   ]
  },
  {
   "cell_type": "code",
   "execution_count": 41,
   "metadata": {},
   "outputs": [
    {
     "data": {
      "image/png": "[encoded data removed]",
      "text/plain": [
       "plot without title"
      ]
     },
     "metadata": {
      "image/png": {
       "height": 420,
       "width": 420
      }
     },
     "output_type": "display_data"
    }
   ],
   "source": [
    "plot(X[4900:5000])"
   ]
  },
  {
   "cell_type": "markdown",
   "metadata": {},
   "source": [
    "`–` 분명히 $X_t$와 $X_{t-1}$는 종속되어있다. 그런데 전체 분포를 그려보니까 $Beta(2.7,6.3)$의 히스토그램 같다. "
   ]
  },
  {
   "cell_type": "markdown",
   "metadata": {},
   "source": [
    "`-` 이 알고리즘이 왜 성립하는가? "
   ]
  },
  {
   "cell_type": "markdown",
   "metadata": {},
   "source": [
    "`-` 그러고 보니까 이 느낌을 어디서 받았다. (에르고딕, 정상성)"
   ]
  },
  {
   "cell_type": "markdown",
   "metadata": {},
   "source": [
    "#### 시도2의 이론적 근거 "
   ]
  },
  {
   "cell_type": "markdown",
   "metadata": {},
   "source": [
    "`-` 주장: $X_{4999}$의 확률밀도함수와 $X_{5000}$의 확률밀도함수는 (독립은 아니지만) 서로 같고, 그 pdf는 $Beta(2.7,6.3)$을 따르는 확률변수의 pdf이다. "
   ]
  },
  {
   "cell_type": "markdown",
   "metadata": {},
   "source": [
    "`-` $X_t$는 정상분포를 가지고 그 확률밀도함수가 $f(x)$임을 보이면 된다. "
   ]
  },
  {
   "cell_type": "markdown",
   "metadata": {},
   "source": [
    "`-` 분포 $f$가 아래의 조건(detailed balance condition)을 만족시키는지를 확인하면 된다. \n",
    "\n",
    "$$f(x_{t+1})P(x_t|x_{t+1})=f(x_t)P(x_{t+1}|x_t) \\quad \\cdots (\\star\\star)$$"
   ]
  },
  {
   "cell_type": "markdown",
   "metadata": {},
   "source": [
    "`–` $x_{t+1}=x_t$ 이면 그냥 성립한다. "
   ]
  },
  {
   "cell_type": "markdown",
   "metadata": {},
   "source": [
    "`-` $x_{t+1}\\neq x_t$ 일 때 성립하는지 봐야한다. ($x_{t+1}=y_t$)"
   ]
  },
  {
   "cell_type": "markdown",
   "metadata": {},
   "source": [
    "`–` $P(x_{t+1}|x_{t})=\\frac{f(x_{t+1})}{f(x_t)+f(x_{t+1})}$"
   ]
  },
  {
   "cell_type": "markdown",
   "metadata": {},
   "source": [
    "`–`$x_t$와 $x_{t+1}$의 순서를 바꾸면 $P(x_t|x_{t+1})=\\frac{f(x_t)}{f(x_{t})+f(x_{t+1})}$"
   ]
  },
  {
   "cell_type": "markdown",
   "metadata": {},
   "source": [
    "`–` $P(x_{t+1}|x_t)$와 $P(x_t|x_{t+1})$를 detailed balance condition $(\\star\\star)$에 대입하면 등호가 성립함을 쉽게 확인할 수 있다. "
   ]
  },
  {
   "cell_type": "code",
   "execution_count": null,
   "metadata": {},
   "outputs": [],
   "source": []
  }
 ],
 "metadata": {
  "kernelspec": {
   "display_name": "R",
   "language": "R",
   "name": "ir"
  },
  "language_info": {
   "codemirror_mode": "r",
   "file_extension": ".r",
   "mimetype": "text/x-r-source",
   "name": "R",
   "pygments_lexer": "r",
   "version": "3.6.1"
  }
 },
 "nbformat": 4,
 "nbformat_minor": 5
}
