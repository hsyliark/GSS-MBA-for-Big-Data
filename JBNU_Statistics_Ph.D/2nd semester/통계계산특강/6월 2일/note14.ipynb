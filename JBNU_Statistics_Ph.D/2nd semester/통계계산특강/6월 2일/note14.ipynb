{
 "cells": [
  {
   "cell_type": "markdown",
   "metadata": {},
   "source": [
    "## 토픽모델 "
   ]
  },
  {
   "cell_type": "markdown",
   "metadata": {},
   "source": [
    "### 예제 "
   ]
  },
  {
   "cell_type": "code",
   "execution_count": 19,
   "metadata": {},
   "outputs": [],
   "source": [
    "library(tidyverse)"
   ]
  },
  {
   "cell_type": "code",
   "execution_count": 14,
   "metadata": {},
   "outputs": [],
   "source": [
    "documents = rbind(c('손흥민','골'),\n",
    "                  c('골','확률'),\n",
    "                  c('확률','데이터과학'))"
   ]
  },
  {
   "cell_type": "code",
   "execution_count": 15,
   "metadata": {},
   "outputs": [
    {
     "data": {
      "text/html": [
       "<table class=\"dataframe\">\n",
       "<caption>A matrix: 3 × 2 of type chr</caption>\n",
       "<thead>\n",
       "\t<tr><th></th><th scope=col>word1</th><th scope=col>word2</th></tr>\n",
       "</thead>\n",
       "<tbody>\n",
       "\t<tr><th scope=row>doc1</th><td>손흥민</td><td>골        </td></tr>\n",
       "\t<tr><th scope=row>doc2</th><td>골    </td><td>확률      </td></tr>\n",
       "\t<tr><th scope=row>doc3</th><td>확률  </td><td>데이터과학</td></tr>\n",
       "</tbody>\n",
       "</table>\n"
      ],
      "text/latex": [
       "A matrix: 3 × 2 of type chr\n",
       "\\begin{tabular}{r|ll}\n",
       "  & word1 & word2\\\\\n",
       "\\hline\n",
       "\tdoc1 & 손흥민 & 골        \\\\\n",
       "\tdoc2 & 골     & 확률      \\\\\n",
       "\tdoc3 & 확률   & 데이터과학\\\\\n",
       "\\end{tabular}\n"
      ],
      "text/markdown": [
       "\n",
       "A matrix: 3 × 2 of type chr\n",
       "\n",
       "| <!--/--> | word1 | word2 |\n",
       "|---|---|---|\n",
       "| doc1 | 손흥민 | 골         |\n",
       "| doc2 | 골     | 확률       |\n",
       "| doc3 | 확률   | 데이터과학 |\n",
       "\n"
      ],
      "text/plain": [
       "     word1  word2     \n",
       "doc1 손흥민 골        \n",
       "doc2 골     확률      \n",
       "doc3 확률   데이터과학"
      ]
     },
     "metadata": {},
     "output_type": "display_data"
    }
   ],
   "source": [
    "rownames(documents)<-c('doc1','doc2','doc3')\n",
    "colnames(documents)<-c('word1','word2')\n",
    "documents"
   ]
  },
  {
   "cell_type": "code",
   "execution_count": 16,
   "metadata": {},
   "outputs": [],
   "source": [
    "document_topics=rbind(c(2,1),c(1,2),c(2,1)) ## 내마음대로 초기화 \n",
    "rownames(document_topics)<-c('doc1','doc2','doc3')\n",
    "colnames(document_topics)<-c('word1','word2')"
   ]
  },
  {
   "cell_type": "code",
   "execution_count": 17,
   "metadata": {},
   "outputs": [
    {
     "data": {
      "text/html": [
       "<table class=\"dataframe\">\n",
       "<caption>A matrix: 3 × 2 of type dbl</caption>\n",
       "<thead>\n",
       "\t<tr><th></th><th scope=col>word1</th><th scope=col>word2</th></tr>\n",
       "</thead>\n",
       "<tbody>\n",
       "\t<tr><th scope=row>doc1</th><td>2</td><td>1</td></tr>\n",
       "\t<tr><th scope=row>doc2</th><td>1</td><td>2</td></tr>\n",
       "\t<tr><th scope=row>doc3</th><td>2</td><td>1</td></tr>\n",
       "</tbody>\n",
       "</table>\n"
      ],
      "text/latex": [
       "A matrix: 3 × 2 of type dbl\n",
       "\\begin{tabular}{r|ll}\n",
       "  & word1 & word2\\\\\n",
       "\\hline\n",
       "\tdoc1 & 2 & 1\\\\\n",
       "\tdoc2 & 1 & 2\\\\\n",
       "\tdoc3 & 2 & 1\\\\\n",
       "\\end{tabular}\n"
      ],
      "text/markdown": [
       "\n",
       "A matrix: 3 × 2 of type dbl\n",
       "\n",
       "| <!--/--> | word1 | word2 |\n",
       "|---|---|---|\n",
       "| doc1 | 2 | 1 |\n",
       "| doc2 | 1 | 2 |\n",
       "| doc3 | 2 | 1 |\n",
       "\n"
      ],
      "text/plain": [
       "     word1 word2\n",
       "doc1 2     1    \n",
       "doc2 1     2    \n",
       "doc3 2     1    "
      ]
     },
     "metadata": {},
     "output_type": "display_data"
    }
   ],
   "source": [
    "document_topics"
   ]
  },
  {
   "cell_type": "markdown",
   "metadata": {},
   "source": [
    "문서당 토픽비율 \n",
    "- 문서1:[손흥민,골]=[2,1] \n",
    "- 문서2:[골,확률]=[1,2]\n",
    "- 문서3:[확률,데이터과학]=[2,1]"
   ]
  },
  {
   "cell_type": "markdown",
   "metadata": {},
   "source": [
    "토픽별로 자주등장하는 단어 \n",
    "- 토픽1: 골,골,데이터과학 --> 축구?\n",
    "- 토픽2: 손흥민,확률,확률 --> 통계? "
   ]
  },
  {
   "cell_type": "markdown",
   "metadata": {},
   "source": [
    "목표: document_topics의 값을 그럴듯한 값으로 채우고 싶다. 예를들면 아래처럼 "
   ]
  },
  {
   "cell_type": "markdown",
   "metadata": {},
   "source": [
    "```r\n",
    "document_topics=rbind(c(1,1),c(1,2),c(2,2))\n",
    "document_topics=rbind(c(2,2),c(2,1),c(1,1))\n",
    "```"
   ]
  },
  {
   "cell_type": "markdown",
   "metadata": {},
   "source": [
    "그러니까 $3\\times 2$ 차원의 랜덤변수를 뽑는 문제이다. "
   ]
  },
  {
   "cell_type": "markdown",
   "metadata": {},
   "source": [
    "---"
   ]
  },
  {
   "cell_type": "markdown",
   "metadata": {},
   "source": [
    "문서1: [`손흥민`, 골]"
   ]
  },
  {
   "cell_type": "markdown",
   "metadata": {},
   "source": [
    "`-` 임의의 초기값을 넣어서 현재상황은 아래와 같다. "
   ]
  },
  {
   "cell_type": "markdown",
   "metadata": {},
   "source": [
    "문서당 토픽비율 \n",
    "- 문서1:[손흥민,골]=[2,1] \n",
    "- 문서2:[골,확률]=[1,2]\n",
    "- 문서3:[확률,데이터과학]=[2,1]"
   ]
  },
  {
   "cell_type": "markdown",
   "metadata": {},
   "source": [
    "토픽별로 자주등장하는 단어 \n",
    "- 토픽1: 골,골,데이터과학 --> 축구?\n",
    "- 토픽2: 손흥민,확률,확률 --> 통계? "
   ]
  },
  {
   "cell_type": "markdown",
   "metadata": {},
   "source": [
    "`-` 지금 우리의 관심은 문서1 손흥민 해당하는 토픽으로 `토픽=1`이라 생각하는 것이 그럴듯한지, `토픽=2`라고 생각하는게 그럴듯한지 다시 따져보고 싶다. "
   ]
  },
  {
   "cell_type": "markdown",
   "metadata": {},
   "source": [
    "`-` 깁스샘플링: 현재 관심이 있는 문서1의 첫단어 손흥민에 대한 토픽분류를 제외하고 나머지는 모두 올바른 값이라고 가정하자. "
   ]
  },
  {
   "cell_type": "markdown",
   "metadata": {},
   "source": [
    "문서당 토픽비율 \n",
    "- 문서1:[손흥민,골]=[2,1] ==> [?,1] \n",
    "- 문서2:[골,확률]=[1,2] ==> [1,2] \n",
    "- 문서3:[확률,데이터과학]=[2,1] ==> [2,1] "
   ]
  },
  {
   "cell_type": "markdown",
   "metadata": {},
   "source": [
    "토픽별로 자주등장하는 단어 \n",
    "- 토픽1: 골,골,데이터과학 ==> 골,골,데이터과학\n",
    "- 토픽2: 손흥민,확률,확률 ==> ?, 확률, 확률 "
   ]
  },
  {
   "cell_type": "markdown",
   "metadata": {},
   "source": [
    "`-` 손흥민이라는 단어가 뽑힐 경우는 아래의 두 경우중 하나이다. \n",
    "- 토픽1에서 뽑혔을 경우\n",
    "- 토픽2에서 뽑혔을 경우 "
   ]
  },
  {
   "cell_type": "markdown",
   "metadata": {},
   "source": [
    "`-` 토픽1에서 뽑혔을 경우는 아래와 같이 계산 할 수 있다. \n",
    "- (문서1에 토픽1이 포함되어 있는 비율) $\\times$ (토픽1에서 손흥민이라는 단어를 뽑을 확률) = 1 $\\times$ 0.001\n",
    "- p(토픽1|문서1) $\\times$ p(손흥민|토픽1) = 1 $\\times$ 0.001"
   ]
  },
  {
   "cell_type": "markdown",
   "metadata": {},
   "source": [
    "`-` 토픽2에서 뽑혔을 경우는 아래와 같이 계산 할 수 있다. \n",
    "- (문서1에 토픽2가 포함되어 있는 비율) $\\times$ (토픽2에서 손흥민이라는 단어를 뽑을 확률) = 0.001 $\\times$ 0.001\n",
    "- p(토픽2|문서1) $\\times$ p(손흥민|토픽2) = 0.001 $\\times$ 0.001"
   ]
  },
  {
   "cell_type": "markdown",
   "metadata": {},
   "source": [
    "`-` 손흥민은 토픽1에서 뽑혔다고 보는게 타당함. (왜? 현재단어 손흥민 문서1에 있고, 문서1은 토픽1이 대부분이니까!)"
   ]
  },
  {
   "cell_type": "markdown",
   "metadata": {},
   "source": [
    "`-` 아래와 같이 업데이트 한다. "
   ]
  },
  {
   "cell_type": "markdown",
   "metadata": {},
   "source": [
    "문서당 토픽비율 \n",
    "- 문서1:[손흥민,골]=[1,1] \n",
    "- 문서2:[골,확률]=[1,2]\n",
    "- 문서3:[확률,데이터과학]=[2,1]"
   ]
  },
  {
   "cell_type": "markdown",
   "metadata": {},
   "source": [
    "토픽별로 자주등장하는 단어 \n",
    "- 토픽1: 손흥민,골,골,데이터과학\n",
    "- 토픽2: 확률,확률 "
   ]
  },
  {
   "cell_type": "markdown",
   "metadata": {},
   "source": [
    "문서2: [손흥민, `골`]"
   ]
  },
  {
   "cell_type": "markdown",
   "metadata": {},
   "source": [
    "`-` 업데이트 전 "
   ]
  },
  {
   "cell_type": "markdown",
   "metadata": {},
   "source": [
    "문서당 토픽비율 \n",
    "- 문서1:[손흥민,골]=[1,1] ==> [1,?] \n",
    "- 문서2:[골,확률]=[1,2] ==> [1,2] \n",
    "- 문서3:[확률,데이터과학]=[2,1] ==> [2,1] "
   ]
  },
  {
   "cell_type": "markdown",
   "metadata": {},
   "source": [
    "토픽별로 자주등장하는 단어 \n",
    "- 토픽1: 손흥민,?,골,데이터과학\n",
    "- 토픽2: 확률,확률 "
   ]
  },
  {
   "cell_type": "markdown",
   "metadata": {},
   "source": [
    "`-` 샘플링 "
   ]
  },
  {
   "cell_type": "markdown",
   "metadata": {},
   "source": [
    "- p(토픽1|문서1) $\\times$ p(골|토픽1) = 1 $\\times$ 1/3  \n",
    "- p(토픽2|문서1) $\\times$ p(골|토픽2) = 0.001 $\\times$ 0.001 "
   ]
  },
  {
   "cell_type": "markdown",
   "metadata": {},
   "source": [
    "결정: 토픽1을 선택 (왜? 현재단어는 문서1에 있는데, 문서1에는 토픽1이 대부분이다, 그리고 현재 단어는 골인데, 골이라는 단어는 토픽1에서 잘나온다.)"
   ]
  },
  {
   "cell_type": "markdown",
   "metadata": {},
   "source": [
    "`-` 업데이트 후 (그대로 유지) "
   ]
  },
  {
   "cell_type": "markdown",
   "metadata": {},
   "source": [
    "문서당 토픽비율 \n",
    "- 문서1:[손흥민,골]=[1,1]  \n",
    "- 문서2:[골,확률]=[1,2] \n",
    "- 문서3:[확률,데이터과학]=[2,1]"
   ]
  },
  {
   "cell_type": "markdown",
   "metadata": {},
   "source": [
    "토픽별로 자주등장하는 단어 \n",
    "- 토픽1: 손흥민,골,골,데이터과학\n",
    "- 토픽2: 확률,확률 "
   ]
  },
  {
   "cell_type": "markdown",
   "metadata": {},
   "source": [
    "---"
   ]
  },
  {
   "cell_type": "markdown",
   "metadata": {},
   "source": [
    "`-` 이런식으로 반복하면 결국 각 단어는 자신의 정체성(토픽1인지 토픽2인지)를 아래와 같은 2가지 기준으로 판단한다. \n",
    "- 나(=단어)는 $d$-th document에 속해있다. $\\to$ 그런데 이 document의 단어를 쭉 살펴보니 토픽 $k$가 많다. $\\to$ 나도 토픽 $k$인가?  \n",
    "- 나(=단어)와 똑같은 이름을 가진 단어들이 토픽 $k'$에 많다. $\\to$ 나도 토픽 $k'$에서 왔을까? "
   ]
  },
  {
   "cell_type": "markdown",
   "metadata": {},
   "source": [
    "`-` 재미있는 점은 각 단어의 선택이 다른 단어에도 영향을 준다는 것이다. (다들 나 빼고는 맞다고 가정하고 있으니까 )"
   ]
  },
  {
   "cell_type": "markdown",
   "metadata": {},
   "source": [
    "---"
   ]
  },
  {
   "cell_type": "markdown",
   "metadata": {},
   "source": [
    "`-` 구현해보자. "
   ]
  },
  {
   "cell_type": "code",
   "execution_count": 119,
   "metadata": {},
   "outputs": [
    {
     "data": {
      "text/html": [
       "<table class=\"dataframe\">\n",
       "<caption>A tibble: 45 × 3</caption>\n",
       "<thead>\n",
       "\t<tr><th scope=col>word</th><th scope=col>doc</th><th scope=col>topic</th></tr>\n",
       "\t<tr><th scope=col>&lt;chr&gt;</th><th scope=col>&lt;dbl&gt;</th><th scope=col>&lt;dbl&gt;</th></tr>\n",
       "</thead>\n",
       "<tbody>\n",
       "\t<tr><td>손흥민    </td><td>1</td><td>2</td></tr>\n",
       "\t<tr><td>골        </td><td>1</td><td>1</td></tr>\n",
       "\t<tr><td>골        </td><td>1</td><td>1</td></tr>\n",
       "\t<tr><td>박지성    </td><td>1</td><td>2</td></tr>\n",
       "\t<tr><td>패스      </td><td>1</td><td>2</td></tr>\n",
       "\t<tr><td>골        </td><td>2</td><td>1</td></tr>\n",
       "\t<tr><td>확률      </td><td>2</td><td>2</td></tr>\n",
       "\t<tr><td>패스      </td><td>2</td><td>1</td></tr>\n",
       "\t<tr><td>손흥민    </td><td>2</td><td>2</td></tr>\n",
       "\t<tr><td>골        </td><td>2</td><td>2</td></tr>\n",
       "\t<tr><td>골        </td><td>3</td><td>1</td></tr>\n",
       "\t<tr><td>골        </td><td>3</td><td>2</td></tr>\n",
       "\t<tr><td>확률      </td><td>3</td><td>1</td></tr>\n",
       "\t<tr><td>패스      </td><td>3</td><td>2</td></tr>\n",
       "\t<tr><td>골        </td><td>3</td><td>2</td></tr>\n",
       "\t<tr><td>골        </td><td>4</td><td>1</td></tr>\n",
       "\t<tr><td>박지성    </td><td>4</td><td>2</td></tr>\n",
       "\t<tr><td>통계      </td><td>4</td><td>1</td></tr>\n",
       "\t<tr><td>확률      </td><td>4</td><td>2</td></tr>\n",
       "\t<tr><td>골        </td><td>4</td><td>2</td></tr>\n",
       "\t<tr><td>확률      </td><td>5</td><td>1</td></tr>\n",
       "\t<tr><td>통계      </td><td>5</td><td>2</td></tr>\n",
       "\t<tr><td>박지성    </td><td>5</td><td>1</td></tr>\n",
       "\t<tr><td>통계      </td><td>5</td><td>2</td></tr>\n",
       "\t<tr><td>골        </td><td>5</td><td>2</td></tr>\n",
       "\t<tr><td>확률      </td><td>6</td><td>1</td></tr>\n",
       "\t<tr><td>확률      </td><td>6</td><td>2</td></tr>\n",
       "\t<tr><td>골        </td><td>6</td><td>2</td></tr>\n",
       "\t<tr><td>통계      </td><td>6</td><td>2</td></tr>\n",
       "\t<tr><td>AI        </td><td>6</td><td>2</td></tr>\n",
       "\t<tr><td>확률      </td><td>7</td><td>1</td></tr>\n",
       "\t<tr><td>확률      </td><td>7</td><td>2</td></tr>\n",
       "\t<tr><td>통계      </td><td>7</td><td>1</td></tr>\n",
       "\t<tr><td>통계      </td><td>7</td><td>1</td></tr>\n",
       "\t<tr><td>AI        </td><td>7</td><td>2</td></tr>\n",
       "\t<tr><td>확률      </td><td>8</td><td>1</td></tr>\n",
       "\t<tr><td>빅데이터  </td><td>8</td><td>2</td></tr>\n",
       "\t<tr><td>데이터과학</td><td>8</td><td>1</td></tr>\n",
       "\t<tr><td>빅데이터  </td><td>8</td><td>1</td></tr>\n",
       "\t<tr><td>AI        </td><td>8</td><td>2</td></tr>\n",
       "\t<tr><td>확률      </td><td>9</td><td>2</td></tr>\n",
       "\t<tr><td>데이터과학</td><td>9</td><td>1</td></tr>\n",
       "\t<tr><td>AI        </td><td>9</td><td>1</td></tr>\n",
       "\t<tr><td>데이터과학</td><td>9</td><td>2</td></tr>\n",
       "\t<tr><td>데이터과학</td><td>9</td><td>2</td></tr>\n",
       "</tbody>\n",
       "</table>\n"
      ],
      "text/latex": [
       "A tibble: 45 × 3\n",
       "\\begin{tabular}{lll}\n",
       " word & doc & topic\\\\\n",
       " <chr> & <dbl> & <dbl>\\\\\n",
       "\\hline\n",
       "\t 손흥민     & 1 & 2\\\\\n",
       "\t 골         & 1 & 1\\\\\n",
       "\t 골         & 1 & 1\\\\\n",
       "\t 박지성     & 1 & 2\\\\\n",
       "\t 패스       & 1 & 2\\\\\n",
       "\t 골         & 2 & 1\\\\\n",
       "\t 확률       & 2 & 2\\\\\n",
       "\t 패스       & 2 & 1\\\\\n",
       "\t 손흥민     & 2 & 2\\\\\n",
       "\t 골         & 2 & 2\\\\\n",
       "\t 골         & 3 & 1\\\\\n",
       "\t 골         & 3 & 2\\\\\n",
       "\t 확률       & 3 & 1\\\\\n",
       "\t 패스       & 3 & 2\\\\\n",
       "\t 골         & 3 & 2\\\\\n",
       "\t 골         & 4 & 1\\\\\n",
       "\t 박지성     & 4 & 2\\\\\n",
       "\t 통계       & 4 & 1\\\\\n",
       "\t 확률       & 4 & 2\\\\\n",
       "\t 골         & 4 & 2\\\\\n",
       "\t 확률       & 5 & 1\\\\\n",
       "\t 통계       & 5 & 2\\\\\n",
       "\t 박지성     & 5 & 1\\\\\n",
       "\t 통계       & 5 & 2\\\\\n",
       "\t 골         & 5 & 2\\\\\n",
       "\t 확률       & 6 & 1\\\\\n",
       "\t 확률       & 6 & 2\\\\\n",
       "\t 골         & 6 & 2\\\\\n",
       "\t 통계       & 6 & 2\\\\\n",
       "\t AI         & 6 & 2\\\\\n",
       "\t 확률       & 7 & 1\\\\\n",
       "\t 확률       & 7 & 2\\\\\n",
       "\t 통계       & 7 & 1\\\\\n",
       "\t 통계       & 7 & 1\\\\\n",
       "\t AI         & 7 & 2\\\\\n",
       "\t 확률       & 8 & 1\\\\\n",
       "\t 빅데이터   & 8 & 2\\\\\n",
       "\t 데이터과학 & 8 & 1\\\\\n",
       "\t 빅데이터   & 8 & 1\\\\\n",
       "\t AI         & 8 & 2\\\\\n",
       "\t 확률       & 9 & 2\\\\\n",
       "\t 데이터과학 & 9 & 1\\\\\n",
       "\t AI         & 9 & 1\\\\\n",
       "\t 데이터과학 & 9 & 2\\\\\n",
       "\t 데이터과학 & 9 & 2\\\\\n",
       "\\end{tabular}\n"
      ],
      "text/markdown": [
       "\n",
       "A tibble: 45 × 3\n",
       "\n",
       "| word &lt;chr&gt; | doc &lt;dbl&gt; | topic &lt;dbl&gt; |\n",
       "|---|---|---|\n",
       "| 손흥민     | 1 | 2 |\n",
       "| 골         | 1 | 1 |\n",
       "| 골         | 1 | 1 |\n",
       "| 박지성     | 1 | 2 |\n",
       "| 패스       | 1 | 2 |\n",
       "| 골         | 2 | 1 |\n",
       "| 확률       | 2 | 2 |\n",
       "| 패스       | 2 | 1 |\n",
       "| 손흥민     | 2 | 2 |\n",
       "| 골         | 2 | 2 |\n",
       "| 골         | 3 | 1 |\n",
       "| 골         | 3 | 2 |\n",
       "| 확률       | 3 | 1 |\n",
       "| 패스       | 3 | 2 |\n",
       "| 골         | 3 | 2 |\n",
       "| 골         | 4 | 1 |\n",
       "| 박지성     | 4 | 2 |\n",
       "| 통계       | 4 | 1 |\n",
       "| 확률       | 4 | 2 |\n",
       "| 골         | 4 | 2 |\n",
       "| 확률       | 5 | 1 |\n",
       "| 통계       | 5 | 2 |\n",
       "| 박지성     | 5 | 1 |\n",
       "| 통계       | 5 | 2 |\n",
       "| 골         | 5 | 2 |\n",
       "| 확률       | 6 | 1 |\n",
       "| 확률       | 6 | 2 |\n",
       "| 골         | 6 | 2 |\n",
       "| 통계       | 6 | 2 |\n",
       "| AI         | 6 | 2 |\n",
       "| 확률       | 7 | 1 |\n",
       "| 확률       | 7 | 2 |\n",
       "| 통계       | 7 | 1 |\n",
       "| 통계       | 7 | 1 |\n",
       "| AI         | 7 | 2 |\n",
       "| 확률       | 8 | 1 |\n",
       "| 빅데이터   | 8 | 2 |\n",
       "| 데이터과학 | 8 | 1 |\n",
       "| 빅데이터   | 8 | 1 |\n",
       "| AI         | 8 | 2 |\n",
       "| 확률       | 9 | 2 |\n",
       "| 데이터과학 | 9 | 1 |\n",
       "| AI         | 9 | 1 |\n",
       "| 데이터과학 | 9 | 2 |\n",
       "| 데이터과학 | 9 | 2 |\n",
       "\n"
      ],
      "text/plain": [
       "   word       doc topic\n",
       "1  손흥민     1   2    \n",
       "2  골         1   1    \n",
       "3  골         1   1    \n",
       "4  박지성     1   2    \n",
       "5  패스       1   2    \n",
       "6  골         2   1    \n",
       "7  확률       2   2    \n",
       "8  패스       2   1    \n",
       "9  손흥민     2   2    \n",
       "10 골         2   2    \n",
       "11 골         3   1    \n",
       "12 골         3   2    \n",
       "13 확률       3   1    \n",
       "14 패스       3   2    \n",
       "15 골         3   2    \n",
       "16 골         4   1    \n",
       "17 박지성     4   2    \n",
       "18 통계       4   1    \n",
       "19 확률       4   2    \n",
       "20 골         4   2    \n",
       "21 확률       5   1    \n",
       "22 통계       5   2    \n",
       "23 박지성     5   1    \n",
       "24 통계       5   2    \n",
       "25 골         5   2    \n",
       "26 확률       6   1    \n",
       "27 확률       6   2    \n",
       "28 골         6   2    \n",
       "29 통계       6   2    \n",
       "30 AI         6   2    \n",
       "31 확률       7   1    \n",
       "32 확률       7   2    \n",
       "33 통계       7   1    \n",
       "34 통계       7   1    \n",
       "35 AI         7   2    \n",
       "36 확률       8   1    \n",
       "37 빅데이터   8   2    \n",
       "38 데이터과학 8   1    \n",
       "39 빅데이터   8   1    \n",
       "40 AI         8   2    \n",
       "41 확률       9   2    \n",
       "42 데이터과학 9   1    \n",
       "43 AI         9   1    \n",
       "44 데이터과학 9   2    \n",
       "45 데이터과학 9   2    "
      ]
     },
     "metadata": {},
     "output_type": "display_data"
    }
   ],
   "source": [
    "doclen <- 5 \n",
    "word<-c('손흥민','골','골','박지성','패스',\n",
    "        '골','확률','패스','손흥민','골',\n",
    "        '골','골','확률','패스','골',\n",
    "        '골','박지성','통계','확률','골',\n",
    "        '확률','통계','박지성','통계','골',\n",
    "        '확률','확률','골','통계','AI',\n",
    "        '확률','확률','통계','통계','AI',\n",
    "        '확률','빅데이터','데이터과학','빅데이터','AI',\n",
    "        '확률','데이터과학','AI','데이터과학','데이터과학')\n",
    "doc<-c(rep(1,doclen),rep(2,doclen),rep(3,doclen),\n",
    "      rep(4,doclen),rep(5,doclen),rep(6,doclen),\n",
    "      rep(7,doclen),rep(8,doclen),rep(9,doclen))\n",
    "\n",
    "topic<-c(2,1,1,2,2,\n",
    "         1,2,1,2,2,\n",
    "         1,2,1,2,2,\n",
    "         1,2,1,2,2,\n",
    "         1,2,1,2,2,\n",
    "         1,2,2,2,2,\n",
    "         1,2,1,1,2,\n",
    "         1,2,1,1,2,\n",
    "         2,1,1,2,2)\n",
    "data<-tibble(word=word,doc=doc,topic=topic)\n",
    "data"
   ]
  },
  {
   "cell_type": "code",
   "execution_count": 120,
   "metadata": {},
   "outputs": [],
   "source": [
    "topic_doc<-function(data,k,d,alpha=0.1){ #k: 토픽의 인덱스, d:doc의 인덱스\n",
    "    count_ = dim(filter(data,doc==d,topic==k))[1] + alpha \n",
    "    total_ = dim(filter(data,doc==d))[1] + alpha * K # K는 전체 토픽의 수 \n",
    "    count_ / total_ \n",
    "} "
   ]
  },
  {
   "cell_type": "code",
   "execution_count": 121,
   "metadata": {},
   "outputs": [],
   "source": [
    "word_topic<-function(data,w,k,alpha=0.1){ #k: 토픽의 인덱스, w: word의 인덱스 \n",
    "    word_ = filter(data,doc==d)$word[w]\n",
    "    count_ = dim(filter(data, topic==k,word==word_))[1] + alpha\n",
    "    total_ = dim(filter(data, topic==k))[1] + alpha * W  # W=length(unique(data$word))\n",
    "    count_ / total_ \n",
    "}"
   ]
  },
  {
   "cell_type": "code",
   "execution_count": 122,
   "metadata": {},
   "outputs": [],
   "source": [
    "topicprob<-function(data,d,w){\n",
    "    rtn<-c()\n",
    "    for(k in 1:K){\n",
    "        rtn[k]=topic_doc(data,k,d)* word_topic(data,w,k)\n",
    "    } \n",
    "    rtn/sum(rtn)\n",
    "}"
   ]
  },
  {
   "cell_type": "code",
   "execution_count": 124,
   "metadata": {},
   "outputs": [
    {
     "data": {
      "text/html": [
       "<table class=\"dataframe\">\n",
       "<caption>A tibble: 45 × 3</caption>\n",
       "<thead>\n",
       "\t<tr><th scope=col>word</th><th scope=col>doc</th><th scope=col>topic</th></tr>\n",
       "\t<tr><th scope=col>&lt;chr&gt;</th><th scope=col>&lt;dbl&gt;</th><th scope=col>&lt;dbl&gt;</th></tr>\n",
       "</thead>\n",
       "<tbody>\n",
       "\t<tr><td>손흥민    </td><td>1</td><td>2</td></tr>\n",
       "\t<tr><td>골        </td><td>1</td><td>2</td></tr>\n",
       "\t<tr><td>골        </td><td>1</td><td>2</td></tr>\n",
       "\t<tr><td>박지성    </td><td>1</td><td>2</td></tr>\n",
       "\t<tr><td>패스      </td><td>1</td><td>2</td></tr>\n",
       "\t<tr><td>골        </td><td>2</td><td>2</td></tr>\n",
       "\t<tr><td>확률      </td><td>2</td><td>2</td></tr>\n",
       "\t<tr><td>패스      </td><td>2</td><td>2</td></tr>\n",
       "\t<tr><td>손흥민    </td><td>2</td><td>2</td></tr>\n",
       "\t<tr><td>골        </td><td>2</td><td>2</td></tr>\n",
       "\t<tr><td>골        </td><td>3</td><td>2</td></tr>\n",
       "\t<tr><td>골        </td><td>3</td><td>2</td></tr>\n",
       "\t<tr><td>확률      </td><td>3</td><td>2</td></tr>\n",
       "\t<tr><td>패스      </td><td>3</td><td>2</td></tr>\n",
       "\t<tr><td>골        </td><td>3</td><td>2</td></tr>\n",
       "\t<tr><td>골        </td><td>4</td><td>2</td></tr>\n",
       "\t<tr><td>박지성    </td><td>4</td><td>2</td></tr>\n",
       "\t<tr><td>통계      </td><td>4</td><td>2</td></tr>\n",
       "\t<tr><td>확률      </td><td>4</td><td>2</td></tr>\n",
       "\t<tr><td>골        </td><td>4</td><td>2</td></tr>\n",
       "\t<tr><td>확률      </td><td>5</td><td>2</td></tr>\n",
       "\t<tr><td>통계      </td><td>5</td><td>2</td></tr>\n",
       "\t<tr><td>박지성    </td><td>5</td><td>2</td></tr>\n",
       "\t<tr><td>통계      </td><td>5</td><td>2</td></tr>\n",
       "\t<tr><td>골        </td><td>5</td><td>2</td></tr>\n",
       "\t<tr><td>확률      </td><td>6</td><td>1</td></tr>\n",
       "\t<tr><td>확률      </td><td>6</td><td>1</td></tr>\n",
       "\t<tr><td>골        </td><td>6</td><td>1</td></tr>\n",
       "\t<tr><td>통계      </td><td>6</td><td>1</td></tr>\n",
       "\t<tr><td>AI        </td><td>6</td><td>1</td></tr>\n",
       "\t<tr><td>확률      </td><td>7</td><td>1</td></tr>\n",
       "\t<tr><td>확률      </td><td>7</td><td>1</td></tr>\n",
       "\t<tr><td>통계      </td><td>7</td><td>1</td></tr>\n",
       "\t<tr><td>통계      </td><td>7</td><td>1</td></tr>\n",
       "\t<tr><td>AI        </td><td>7</td><td>1</td></tr>\n",
       "\t<tr><td>확률      </td><td>8</td><td>1</td></tr>\n",
       "\t<tr><td>빅데이터  </td><td>8</td><td>1</td></tr>\n",
       "\t<tr><td>데이터과학</td><td>8</td><td>1</td></tr>\n",
       "\t<tr><td>빅데이터  </td><td>8</td><td>1</td></tr>\n",
       "\t<tr><td>AI        </td><td>8</td><td>1</td></tr>\n",
       "\t<tr><td>확률      </td><td>9</td><td>1</td></tr>\n",
       "\t<tr><td>데이터과학</td><td>9</td><td>1</td></tr>\n",
       "\t<tr><td>AI        </td><td>9</td><td>1</td></tr>\n",
       "\t<tr><td>데이터과학</td><td>9</td><td>1</td></tr>\n",
       "\t<tr><td>데이터과학</td><td>9</td><td>1</td></tr>\n",
       "</tbody>\n",
       "</table>\n"
      ],
      "text/latex": [
       "A tibble: 45 × 3\n",
       "\\begin{tabular}{lll}\n",
       " word & doc & topic\\\\\n",
       " <chr> & <dbl> & <dbl>\\\\\n",
       "\\hline\n",
       "\t 손흥민     & 1 & 2\\\\\n",
       "\t 골         & 1 & 2\\\\\n",
       "\t 골         & 1 & 2\\\\\n",
       "\t 박지성     & 1 & 2\\\\\n",
       "\t 패스       & 1 & 2\\\\\n",
       "\t 골         & 2 & 2\\\\\n",
       "\t 확률       & 2 & 2\\\\\n",
       "\t 패스       & 2 & 2\\\\\n",
       "\t 손흥민     & 2 & 2\\\\\n",
       "\t 골         & 2 & 2\\\\\n",
       "\t 골         & 3 & 2\\\\\n",
       "\t 골         & 3 & 2\\\\\n",
       "\t 확률       & 3 & 2\\\\\n",
       "\t 패스       & 3 & 2\\\\\n",
       "\t 골         & 3 & 2\\\\\n",
       "\t 골         & 4 & 2\\\\\n",
       "\t 박지성     & 4 & 2\\\\\n",
       "\t 통계       & 4 & 2\\\\\n",
       "\t 확률       & 4 & 2\\\\\n",
       "\t 골         & 4 & 2\\\\\n",
       "\t 확률       & 5 & 2\\\\\n",
       "\t 통계       & 5 & 2\\\\\n",
       "\t 박지성     & 5 & 2\\\\\n",
       "\t 통계       & 5 & 2\\\\\n",
       "\t 골         & 5 & 2\\\\\n",
       "\t 확률       & 6 & 1\\\\\n",
       "\t 확률       & 6 & 1\\\\\n",
       "\t 골         & 6 & 1\\\\\n",
       "\t 통계       & 6 & 1\\\\\n",
       "\t AI         & 6 & 1\\\\\n",
       "\t 확률       & 7 & 1\\\\\n",
       "\t 확률       & 7 & 1\\\\\n",
       "\t 통계       & 7 & 1\\\\\n",
       "\t 통계       & 7 & 1\\\\\n",
       "\t AI         & 7 & 1\\\\\n",
       "\t 확률       & 8 & 1\\\\\n",
       "\t 빅데이터   & 8 & 1\\\\\n",
       "\t 데이터과학 & 8 & 1\\\\\n",
       "\t 빅데이터   & 8 & 1\\\\\n",
       "\t AI         & 8 & 1\\\\\n",
       "\t 확률       & 9 & 1\\\\\n",
       "\t 데이터과학 & 9 & 1\\\\\n",
       "\t AI         & 9 & 1\\\\\n",
       "\t 데이터과학 & 9 & 1\\\\\n",
       "\t 데이터과학 & 9 & 1\\\\\n",
       "\\end{tabular}\n"
      ],
      "text/markdown": [
       "\n",
       "A tibble: 45 × 3\n",
       "\n",
       "| word &lt;chr&gt; | doc &lt;dbl&gt; | topic &lt;dbl&gt; |\n",
       "|---|---|---|\n",
       "| 손흥민     | 1 | 2 |\n",
       "| 골         | 1 | 2 |\n",
       "| 골         | 1 | 2 |\n",
       "| 박지성     | 1 | 2 |\n",
       "| 패스       | 1 | 2 |\n",
       "| 골         | 2 | 2 |\n",
       "| 확률       | 2 | 2 |\n",
       "| 패스       | 2 | 2 |\n",
       "| 손흥민     | 2 | 2 |\n",
       "| 골         | 2 | 2 |\n",
       "| 골         | 3 | 2 |\n",
       "| 골         | 3 | 2 |\n",
       "| 확률       | 3 | 2 |\n",
       "| 패스       | 3 | 2 |\n",
       "| 골         | 3 | 2 |\n",
       "| 골         | 4 | 2 |\n",
       "| 박지성     | 4 | 2 |\n",
       "| 통계       | 4 | 2 |\n",
       "| 확률       | 4 | 2 |\n",
       "| 골         | 4 | 2 |\n",
       "| 확률       | 5 | 2 |\n",
       "| 통계       | 5 | 2 |\n",
       "| 박지성     | 5 | 2 |\n",
       "| 통계       | 5 | 2 |\n",
       "| 골         | 5 | 2 |\n",
       "| 확률       | 6 | 1 |\n",
       "| 확률       | 6 | 1 |\n",
       "| 골         | 6 | 1 |\n",
       "| 통계       | 6 | 1 |\n",
       "| AI         | 6 | 1 |\n",
       "| 확률       | 7 | 1 |\n",
       "| 확률       | 7 | 1 |\n",
       "| 통계       | 7 | 1 |\n",
       "| 통계       | 7 | 1 |\n",
       "| AI         | 7 | 1 |\n",
       "| 확률       | 8 | 1 |\n",
       "| 빅데이터   | 8 | 1 |\n",
       "| 데이터과학 | 8 | 1 |\n",
       "| 빅데이터   | 8 | 1 |\n",
       "| AI         | 8 | 1 |\n",
       "| 확률       | 9 | 1 |\n",
       "| 데이터과학 | 9 | 1 |\n",
       "| AI         | 9 | 1 |\n",
       "| 데이터과학 | 9 | 1 |\n",
       "| 데이터과학 | 9 | 1 |\n",
       "\n"
      ],
      "text/plain": [
       "   word       doc topic\n",
       "1  손흥민     1   2    \n",
       "2  골         1   2    \n",
       "3  골         1   2    \n",
       "4  박지성     1   2    \n",
       "5  패스       1   2    \n",
       "6  골         2   2    \n",
       "7  확률       2   2    \n",
       "8  패스       2   2    \n",
       "9  손흥민     2   2    \n",
       "10 골         2   2    \n",
       "11 골         3   2    \n",
       "12 골         3   2    \n",
       "13 확률       3   2    \n",
       "14 패스       3   2    \n",
       "15 골         3   2    \n",
       "16 골         4   2    \n",
       "17 박지성     4   2    \n",
       "18 통계       4   2    \n",
       "19 확률       4   2    \n",
       "20 골         4   2    \n",
       "21 확률       5   2    \n",
       "22 통계       5   2    \n",
       "23 박지성     5   2    \n",
       "24 통계       5   2    \n",
       "25 골         5   2    \n",
       "26 확률       6   1    \n",
       "27 확률       6   1    \n",
       "28 골         6   1    \n",
       "29 통계       6   1    \n",
       "30 AI         6   1    \n",
       "31 확률       7   1    \n",
       "32 확률       7   1    \n",
       "33 통계       7   1    \n",
       "34 통계       7   1    \n",
       "35 AI         7   1    \n",
       "36 확률       8   1    \n",
       "37 빅데이터   8   1    \n",
       "38 데이터과학 8   1    \n",
       "39 빅데이터   8   1    \n",
       "40 AI         8   1    \n",
       "41 확률       9   1    \n",
       "42 데이터과학 9   1    \n",
       "43 AI         9   1    \n",
       "44 데이터과학 9   1    \n",
       "45 데이터과학 9   1    "
      ]
     },
     "metadata": {},
     "output_type": "display_data"
    }
   ],
   "source": [
    "D<-max(data$doc) # 다큐먼트의 수 \n",
    "K<-2 # 토픽의수 \n",
    "W<-length(unique(data$word))\n",
    "for(t in 1:2){\n",
    "    for(d in 1:D){\n",
    "    for(w in 1:doclen){\n",
    "    i=(d-1)*doclen+w \n",
    "    data[i,]$topic<-(topicprob(data[-i,],d,w)[2] > runif(1)) + 1\n",
    "    }\n",
    "}\n",
    "}\n",
    "data"
   ]
  },
  {
   "cell_type": "code",
   "execution_count": null,
   "metadata": {},
   "outputs": [],
   "source": []
  }
 ],
 "metadata": {
  "kernelspec": {
   "display_name": "R",
   "language": "R",
   "name": "ir"
  },
  "language_info": {
   "codemirror_mode": "r",
   "file_extension": ".r",
   "mimetype": "text/x-r-source",
   "name": "R",
   "pygments_lexer": "r",
   "version": "3.6.1"
  }
 },
 "nbformat": 4,
 "nbformat_minor": 5
}
