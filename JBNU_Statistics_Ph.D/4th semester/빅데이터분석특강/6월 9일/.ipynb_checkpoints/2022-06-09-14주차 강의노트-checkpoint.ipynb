{
 "cells": [
  {
   "cell_type": "markdown",
   "id": "f33a4667-10d4-403c-9ff3-c5c8d580f4ec",
   "metadata": {
    "tags": []
   },
   "source": [
    "# (14주차) 6월9일\n",
    "\n",
    "- toc:true\n",
    "- branch: master\n",
    "- badges: true\n",
    "- comments: true\n",
    "- author: 최규빈"
   ]
  },
  {
   "cell_type": "markdown",
   "id": "cdcf3f9d-5b0d-4d89-ab25-580260691024",
   "metadata": {},
   "source": [
    "### 강의영상"
   ]
  },
  {
   "cell_type": "markdown",
   "id": "645636a0-2cf8-4ee4-aba3-aabc00babb8c",
   "metadata": {},
   "source": [
    "> youtube: https://youtube.com/playlist?list=PLQqh36zP38-zUJrHbHmOz_EXjDis_C1uN"
   ]
  },
  {
   "cell_type": "markdown",
   "id": "3d420eb7-63c4-440c-b592-6d84f2dd88b3",
   "metadata": {},
   "source": [
    "### GAN (Generative Adversarial Network)"
   ]
  },
  {
   "cell_type": "markdown",
   "id": "303fd864-6cac-4617-863e-f7360be0320a",
   "metadata": {},
   "source": [
    "`-` 저자: 이안굿펠로우 (이름이 특이함. 좋은친구..) \n",
    "- 제가 추천한 딥러닝 교재의 저자 \n",
    "- 천재임 \n",
    "- 지도교수가 요수아 벤지오 "
   ]
  },
  {
   "cell_type": "markdown",
   "id": "c1774e3a-a91e-484f-ab11-a1a8aed4118f",
   "metadata": {},
   "source": [
    "`-` 논문 NIPS, 저는 이 논문 읽고 소름돋았어요.. \n",
    "- https://arxiv.org/abs/1406.2661 (현재시점, 38751회 인용되었음)"
   ]
  },
  {
   "cell_type": "markdown",
   "id": "2bd1efc6-46b0-48eb-8e0f-a3e98eee6e63",
   "metadata": {},
   "source": [
    "`-` 최근 10년간 머신러닝 분야에서 가장 혁신적인 아이디어이다. (얀르쿤, 2014년 시점..) "
   ]
  },
  {
   "cell_type": "markdown",
   "id": "0e915435-5688-4884-9bbb-bcaaa8f75d08",
   "metadata": {},
   "source": [
    "`-` 무슨내용? 생성모형 "
   ]
  },
  {
   "cell_type": "markdown",
   "id": "1bbf7197-7355-4813-bd9f-6b015733494d",
   "metadata": {},
   "source": [
    "#### 생성모형이란? (쉬운 설명)"
   ]
  },
  {
   "cell_type": "markdown",
   "id": "959f3674-6cda-4681-a1ae-e25641b3f26e",
   "metadata": {},
   "source": [
    "> 만들수 없다면 이해하지 못한 것이다, 리처드 파인만 (천재 물리학자) "
   ]
  },
  {
   "cell_type": "markdown",
   "id": "8a3fdf2e-fdaa-4770-a7c9-ea6417661b52",
   "metadata": {},
   "source": [
    "`-` 사진속에 들어있는 동물이 개인지 고양이인지 맞출수 있는 기계와 개와 고양이를 그릴수 있는 기계중 어떤것이 더 시각적보에 대한 이해가 깊다고 볼수 있는가? "
   ]
  },
  {
   "cell_type": "markdown",
   "id": "49c937d9-1ed5-4ca8-a325-8d8d1c7c681d",
   "metadata": {},
   "source": [
    "`-` 진정으로 인공지능이 이미지를 이해했다면, 이미지를 만들수도 있어야 한다. $\\to$ 이미지를 생성하는 모형을 만들어보자 $\\to$ 성공 "
   ]
  },
  {
   "cell_type": "markdown",
   "id": "1ef75462-ab29-4f88-81c6-0bdb5dd125cb",
   "metadata": {},
   "source": [
    "![](https://upload.wikimedia.org/wikipedia/commons/1/1f/Woman_1.jpg)"
   ]
  },
  {
   "cell_type": "markdown",
   "id": "74402365-8954-4ce4-8fde-f113f4c1c8ac",
   "metadata": {},
   "source": [
    "#### GAN의 응용분야"
   ]
  },
  {
   "cell_type": "markdown",
   "id": "20382525-deb9-4634-b54b-9ef29fbf401d",
   "metadata": {},
   "source": [
    "`-` 내가 찍은 사진이 피카소의 화풍으로 표현된다면?\n",
    "- https://www.lgsl.kr/sto/stories/60/ALMA2020070001"
   ]
  },
  {
   "cell_type": "markdown",
   "id": "bef83719-416a-4528-821d-7935adb327a3",
   "metadata": {},
   "source": [
    "`-` 퀸의 라이브에이드가 4k로 나온다면?\n",
    "\n",
    "`-` 1920년대 서울의 모습이 칼라로 복원된다면? "
   ]
  },
  {
   "cell_type": "markdown",
   "id": "feabd0ab-c0bb-4ab0-8ce7-6a84be3166fd",
   "metadata": {},
   "source": [
    "`-` 딥페이크: 유명인의 가짜 포르노, 가짜뉴스, 협박(거짓기소) \n"
   ]
  },
  {
   "cell_type": "markdown",
   "id": "dd0084da-0c00-46a9-a761-5caa972d7d29",
   "metadata": {},
   "source": [
    "`-` 게임영상 (파이널판타지)"
   ]
  },
  {
   "cell_type": "markdown",
   "id": "2e330be2-2295-4c9a-908d-6ea41f93f24b",
   "metadata": {},
   "source": [
    "`-` 거북이의 커버.. "
   ]
  },
  {
   "cell_type": "markdown",
   "id": "ae015ce3-3346-42a3-b291-f66fba3be3f6",
   "metadata": {},
   "source": [
    "`-` 너무 많아요....."
   ]
  },
  {
   "cell_type": "markdown",
   "id": "768e3c90-64c4-4ef8-8d32-359fdd1b46d5",
   "metadata": {
    "tags": []
   },
   "source": [
    "#### 생성모형이란? 통계학과 버전의 설명 "
   ]
  },
  {
   "cell_type": "markdown",
   "id": "4281e4f8-6092-463e-b236-16f2bfdc18af",
   "metadata": {},
   "source": [
    "> 제한된 정보만으로 어떤 문제를 풀 떄, 그 과정에서 원래의 문제보다 일반적인 문제를 풀지 말고, 가능한 원래의 문제를 직접 풀어야한다. 배프닉 (SVM 창시자) "
   ]
  },
  {
   "cell_type": "markdown",
   "id": "ad3a9745-cd36-4dec-af52-0f43f91d27bd",
   "metadata": {},
   "source": [
    "`-` 이미지 $\\boldsymbol{x}$가 주어졌을 경우 라벨을 $y$라고 하자. "
   ]
  },
  {
   "cell_type": "markdown",
   "id": "d677351f-d781-437d-9e62-63e5c51fda6b",
   "metadata": {},
   "source": [
    "`-` 이미지를 보고 라벨을 맞추는 일은 $p(y| \\boldsymbol{x})$에 관심이 있다. "
   ]
  },
  {
   "cell_type": "markdown",
   "id": "8c3c5b1b-2fd1-4396-9fb1-63b57d8ec353",
   "metadata": {},
   "source": [
    "`-` 이미지를 생성하는 일은 $p(\\boldsymbol{x},y)$에 관심이 있는것이다. "
   ]
  },
  {
   "cell_type": "markdown",
   "id": "1eb0bc24-1823-44c1-b430-a0df8f18b1a1",
   "metadata": {},
   "source": [
    "`-` 데이터의 생성확률 $p(\\boldsymbol{x},y)$을 알면 클래스의 사후확률 $p(y|\\boldsymbol{x})$를 알 수 있음. (아래의 수식 참고) 하지만 역은 불가능 \n",
    "\n",
    "$$p(y|x) = \\frac{p(x,y)}{p(x)} = \\frac{p(x,y)}{\\sum_{y}p(x,y)} $$"
   ]
  },
  {
   "cell_type": "markdown",
   "id": "6a769fb6-40e4-493e-933d-f7bf4915bdf6",
   "metadata": {},
   "source": [
    "- 즉 이미지를 생성하는일은 분류문제보다 더 어려운 일이라 해석가능 "
   ]
  },
  {
   "cell_type": "markdown",
   "id": "6af884dd-d7d4-4ee3-81f8-682e335541be",
   "metadata": {},
   "source": [
    "`-` 따라서 배프닉의 원리에 의하면 식별적 분류가 생성적 분류보다 바람직한 접근법이라 할 수 있음. "
   ]
  },
  {
   "cell_type": "markdown",
   "id": "da6c0e9c-6f64-4cce-9060-621cb1487f8f",
   "metadata": {},
   "source": [
    "`-` 하지만 다양한 현실문제에서 생성모형이 유용할 때가 많다. "
   ]
  },
  {
   "cell_type": "markdown",
   "id": "1ec74dd2-9ab0-47a8-84f1-8c340c4cffc4",
   "metadata": {},
   "source": [
    "### GAN의 원리"
   ]
  },
  {
   "cell_type": "markdown",
   "id": "07be4bae-a306-4feb-9957-472489707a72",
   "metadata": {},
   "source": [
    "`-` GAN은 생성모형중 하나임 "
   ]
  },
  {
   "cell_type": "markdown",
   "id": "9b4ab716-84fb-441e-a91f-524c7e2ac7a2",
   "metadata": {},
   "source": [
    "`-` GAN의 원리는 경찰과 위조지폐범이 서로 선의의(?) 경쟁을 통하여 서로 발전하는 모형으로 설명할 수 있다. "
   ]
  },
  {
   "cell_type": "markdown",
   "id": "f1c73744-5613-4ecc-8f67-522d737ac436",
   "metadata": {},
   "source": [
    "> The generative model can be thought of as analogous to a team of counterfeiters,\n",
    "trying to produce fake currency and use it without detection, while the discriminative model is\n",
    "analogous to the police, trying to detect the counterfeit currency. Competition in this game drives\n",
    "both teams to improve their methods until the counterfeits are indistiguishable from the genuine\n",
    "articles."
   ]
  },
  {
   "cell_type": "markdown",
   "id": "b6c9d2f8-701f-44df-b749-13c36b87cacb",
   "metadata": {},
   "source": [
    "`-` 서로 적대적인(adversarial) 네트워크(network)를 동시에 학습시켜 가짜이미지를 만든다(generate) "
   ]
  },
  {
   "cell_type": "markdown",
   "id": "030c6754-f7e0-4745-abd0-7498bbbc81e7",
   "metadata": {},
   "source": [
    "`-` 무식한 상황극.. "
   ]
  },
  {
   "cell_type": "markdown",
   "id": "8184dc05-e657-4103-a452-59daa810be09",
   "metadata": {},
   "source": [
    "- 위조범: 가짜돈을 만들어서 부자가 되어야지! (가짜돈을 그림) \n",
    "- 경찰: (위조범이 만든 돈을 보고) 이건 가짜다! \n",
    "- 위조범: 걸렸군.. 더 정교하게 만들어야지.. \n",
    "- 경찰: 이건 진짠가?... --> 상사에게 혼남. 그것도 구분못하냐고 \n",
    "- 위조범: 더 정교하게 만들자.. \n",
    "- 경찰: 더 판별능력을 업그레이드 하자! \n",
    "- 반복.. "
   ]
  },
  {
   "cell_type": "markdown",
   "id": "c7c8f28e-51db-4026-8222-88f7165e1213",
   "metadata": {},
   "source": [
    "`-` 굉장히 우수한 경찰조차도 진짜와 가짜를 구분하지 못할때(=진짜 이미지를 0.5의 확률로만 진짜라고 말할때 = 가짜 이미지를 0.5의 확률로만 가짜라고 말할때) 학습을 멈춘다. "
   ]
  },
  {
   "cell_type": "markdown",
   "id": "d27b9f4d-8ee3-49a4-991d-d00f9aba37b4",
   "metadata": {},
   "source": [
    "### 구현 "
   ]
  },
  {
   "cell_type": "markdown",
   "id": "22dffc01-6cde-46fe-836b-23a5c473d947",
   "metadata": {},
   "source": [
    "`-` 목표: 노이즈에서 mnist자료의 이미지를 생성하여 보자."
   ]
  },
  {
   "cell_type": "markdown",
   "id": "e383fe19-611d-4867-a2ed-ecfe46b97304",
   "metadata": {},
   "source": [
    "#### import"
   ]
  },
  {
   "cell_type": "code",
   "execution_count": 2,
   "id": "7b05e109",
   "metadata": {},
   "outputs": [
    {
     "name": "stdout",
     "output_type": "stream",
     "text": [
      "Collecting tqdm\n",
      "  Downloading tqdm-4.64.0-py2.py3-none-any.whl (78 kB)\n",
      "Requirement already satisfied: colorama in c:\\programdata\\anaconda3\\envs\\ba2022\\lib\\site-packages (from tqdm) (0.4.4)\n",
      "Installing collected packages: tqdm\n",
      "Successfully installed tqdm-4.64.0\n"
     ]
    }
   ],
   "source": [
    "!pip install tqdm"
   ]
  },
  {
   "cell_type": "code",
   "execution_count": 3,
   "id": "8b6508cd-99f6-47f1-8450-c8b207016a46",
   "metadata": {},
   "outputs": [],
   "source": [
    "import tensorflow as tf  \n",
    "import tensorflow.experimental.numpy as tnp\n",
    "import matplotlib.pyplot as plt\n",
    "import numpy as np\n",
    "from tqdm import tqdm"
   ]
  },
  {
   "cell_type": "code",
   "execution_count": 4,
   "id": "0ec69e15-191a-4b3a-ba6e-934c50928665",
   "metadata": {},
   "outputs": [],
   "source": [
    "tnp.experimental_enable_numpy_behavior()"
   ]
  },
  {
   "cell_type": "markdown",
   "id": "dccf0585-06ff-4a47-8203-d5782b187934",
   "metadata": {},
   "source": [
    "#### 데이터"
   ]
  },
  {
   "cell_type": "code",
   "execution_count": 5,
   "id": "05bb522e-0366-4797-90d1-87672bc75141",
   "metadata": {},
   "outputs": [],
   "source": [
    "(x_train, y_train), (x_test, y_test) = tf.keras.datasets.mnist.load_data()"
   ]
  },
  {
   "cell_type": "code",
   "execution_count": 6,
   "id": "0429f629-4e94-4785-938e-8fd56f4b1951",
   "metadata": {},
   "outputs": [],
   "source": [
    "Xreal = x_train.reshape(-1,784)/255"
   ]
  },
  {
   "cell_type": "markdown",
   "id": "d973cfd8-1a93-4df3-8782-11c927b02842",
   "metadata": {},
   "source": [
    "#### 위조지폐범의 설계: noise -> 가짜이미지를 만들어내는 네트워크를 만들자. "
   ]
  },
  {
   "cell_type": "markdown",
   "id": "4ef92418-8d4f-43c8-adf7-f5d4951b03e9",
   "metadata": {},
   "source": [
    "`-` 네트워크의 입력: 적당한 벡터 혹은 매트릭스에 노이즈 (랜덤으로 생성한 어떠한 숫자) 를 채운 것 \n",
    "\n",
    "`-` 네트워크의 출력: (28,28) shape의 매트릭스 혹은 784개의 원소를 가지는 벡터 "
   ]
  },
  {
   "cell_type": "code",
   "execution_count": 7,
   "id": "3f58323e-9c92-4085-a2c0-e2edf4a49072",
   "metadata": {},
   "outputs": [],
   "source": [
    "net_counterfeiter= tf.keras.Sequential()\n",
    "net_counterfeiter.add(tf.keras.layers.Dense(256,activation='relu'))\n",
    "net_counterfeiter.add(tf.keras.layers.Dense(512,activation='relu'))\n",
    "net_counterfeiter.add(tf.keras.layers.Dense(1024,activation='relu'))\n",
    "net_counterfeiter.add(tf.keras.layers.Dense(784))"
   ]
  },
  {
   "cell_type": "markdown",
   "id": "5b57aba7-210e-4a10-b188-e79c6db9a772",
   "metadata": {},
   "source": [
    "#### 경찰의 설계: 진짜이미지는 1, 가짜이미지는 0으로 판별하는 DNN을 만들자. "
   ]
  },
  {
   "cell_type": "markdown",
   "id": "87c52131-8ff5-4e6d-9c90-4983ab2d456e",
   "metadata": {},
   "source": [
    "`-` 네트워크의 입력?\n",
    "- X: (28,28) shape의 matrix 혹은 784개의 원소를 가지는 벡터"
   ]
  },
  {
   "cell_type": "markdown",
   "id": "9e8cc407-81b6-4ac5-a5cf-cb822bc24ea5",
   "metadata": {},
   "source": [
    "`-` 네트워크의 출력? yhat \n",
    "- yhat은 진짜이미지일수록1, 가짜이미지일수록 0이 되어야 한다. (왜냐하면 y가 진짜이미지이면 1, 가짜이미지이면 0 이므로)"
   ]
  },
  {
   "cell_type": "code",
   "execution_count": 8,
   "id": "d0861d96-7678-4a74-92e2-9be65acbd62c",
   "metadata": {},
   "outputs": [],
   "source": [
    "net_police = tf.keras.Sequential()\n",
    "net_police.add(tf.keras.layers.Dense(1024,activation='relu'))\n",
    "net_police.add(tf.keras.layers.Dropout(0.3))\n",
    "net_police.add(tf.keras.layers.Dense(512,activation='relu'))\n",
    "net_police.add(tf.keras.layers.Dropout(0.3))\n",
    "net_police.add(tf.keras.layers.Dense(256,activation='relu'))\n",
    "net_police.add(tf.keras.layers.Dropout(0.3))               \n",
    "net_police.add(tf.keras.layers.Dense(1,activation='sigmoid'))"
   ]
  },
  {
   "cell_type": "markdown",
   "id": "4a52c8e8-25d9-445f-8231-6520f16340ac",
   "metadata": {},
   "source": [
    "#### 일단 스토리를 계속 진행해보겠습니다. "
   ]
  },
  {
   "cell_type": "markdown",
   "id": "6d4030b6-3734-4123-950c-7530c6439681",
   "metadata": {},
   "source": [
    "`-` 진짜 이미지가 아래와 같이 있다. "
   ]
  },
  {
   "cell_type": "code",
   "execution_count": 9,
   "id": "8a8ba3a1-1d3b-4e75-8986-e89dab44b739",
   "metadata": {},
   "outputs": [
    {
     "data": {
      "text/plain": [
       "<matplotlib.image.AxesImage at 0x18d5b46a310>"
      ]
     },
     "execution_count": 9,
     "metadata": {},
     "output_type": "execute_result"
    },
    {
     "data": {
      "image/png": "[encoded data removed]",
      "text/plain": [
       "<Figure size 432x288 with 1 Axes>"
      ]
     },
     "metadata": {
      "needs_background": "light"
     },
     "output_type": "display_data"
    }
   ],
   "source": [
    "plt.imshow(Xreal[1].reshape(28,28))"
   ]
  },
  {
   "cell_type": "markdown",
   "id": "707cd224-4451-44c8-99bd-96671dae186f",
   "metadata": {},
   "source": [
    "`-` 이 이미지를 경찰이 봤습니다 -> yhat이 나와야 하고, yhat $\\approx$ 1 이어야 한다. (왜? 진짜 이미지니까)"
   ]
  },
  {
   "cell_type": "code",
   "execution_count": 10,
   "id": "3ef274ad-2cf3-4416-9e23-ffc9063b72e5",
   "metadata": {},
   "outputs": [
    {
     "data": {
      "text/plain": [
       "<tf.Tensor: shape=(60000, 1), dtype=float32, numpy=\n",
       "array([[0.6098283 ],\n",
       "       [0.58949924],\n",
       "       [0.5176492 ],\n",
       "       ...,\n",
       "       [0.59250265],\n",
       "       [0.58693796],\n",
       "       [0.5918383 ]], dtype=float32)>"
      ]
     },
     "execution_count": 10,
     "metadata": {},
     "output_type": "execute_result"
    }
   ],
   "source": [
    "policehat_from_realimage = net_police(Xreal)\n",
    "policehat_from_realimage"
   ]
  },
  {
   "cell_type": "markdown",
   "id": "c7431acd-e135-4e1f-a861-cc176189be74",
   "metadata": {},
   "source": [
    "- 진짜 이미지이므로 위의 값들이 모두 1이어야함. 즉 yhat $\\approx$ 1 이어야 좋은 것임 \n",
    "- 하지만 그렇지 못함 (배운것이 없는 무능한 경찰)"
   ]
  },
  {
   "cell_type": "markdown",
   "id": "2509944c-28f3-4583-9f32-4a6d0c700f1e",
   "metadata": {},
   "source": [
    "`-` 이번에는 가짜 이미지를 경찰이 봤다고 생각하자. "
   ]
  },
  {
   "cell_type": "markdown",
   "id": "336b1830-da80-49ba-8933-6524231ef6b7",
   "metadata": {},
   "source": [
    "(step1) 랜덤으로 아무숫자나 생성한다. "
   ]
  },
  {
   "cell_type": "code",
   "execution_count": 11,
   "id": "a9c018bf-3e53-4c91-b224-2006b78fa883",
   "metadata": {},
   "outputs": [],
   "source": [
    "Noise1=tnp.random.randn(10).reshape(1,10)"
   ]
  },
  {
   "cell_type": "markdown",
   "id": "d2b85e65-eec4-4bc7-96c4-2daee1f2c02b",
   "metadata": {},
   "source": [
    "(step2) 위조범을 시켜서 이미지를 생성시킨다. "
   ]
  },
  {
   "cell_type": "code",
   "execution_count": 12,
   "id": "9b81bc71-a5ff-4859-8cfe-77a33eb7c2f4",
   "metadata": {},
   "outputs": [
    {
     "data": {
      "text/plain": [
       "<matplotlib.image.AxesImage at 0x18d5d8bff40>"
      ]
     },
     "execution_count": 12,
     "metadata": {},
     "output_type": "execute_result"
    },
    {
     "data": {
      "image/png": "[encoded data removed]",
      "text/plain": [
       "<Figure size 432x288 with 1 Axes>"
      ]
     },
     "metadata": {
      "needs_background": "light"
     },
     "output_type": "display_data"
    }
   ],
   "source": [
    "Xfake1 = net_counterfeiter(Noise1)\n",
    "plt.imshow(Xfake1.reshape(28,28))"
   ]
  },
  {
   "cell_type": "markdown",
   "id": "67e8dc45-fd21-435b-8ab5-01466b5c059e",
   "metadata": {},
   "source": [
    "(step3) 위조범이 생성한 이미지를 경찰한테 넘겨본다. "
   ]
  },
  {
   "cell_type": "code",
   "execution_count": 13,
   "id": "220f7ecc-e023-4fa0-af08-7c92f3993cfd",
   "metadata": {},
   "outputs": [
    {
     "data": {
      "text/plain": [
       "<tf.Tensor: shape=(1, 1), dtype=float32, numpy=array([[0.51970047]], dtype=float32)>"
      ]
     },
     "execution_count": 13,
     "metadata": {},
     "output_type": "execute_result"
    }
   ],
   "source": [
    "policehat_from_Xfake1 = net_police(Xfake1)\n",
    "policehat_from_Xfake1"
   ]
  },
  {
   "cell_type": "markdown",
   "id": "f3e367cc-2b49-45d4-8197-84ba8c68d71c",
   "metadata": {},
   "source": [
    "`-` 경찰의 실력도 형편없고 위조범의 실력도 형편없다. "
   ]
  },
  {
   "cell_type": "markdown",
   "id": "941877e7-5f91-474b-8fac-34ccef602506",
   "metadata": {},
   "source": [
    "### 경찰네트워크의 실력을 향상하자 "
   ]
  },
  {
   "cell_type": "markdown",
   "id": "a6b79be3-0b91-4feb-a2b1-218c0e61f934",
   "metadata": {},
   "source": [
    "`-` 데이터정리 \n",
    "- 원래 n=60000개의 real image가 있음. 이 자료중 일부를 batch_size=500 만큼 뽑아 이것을 ${\\bf X}_{batch}$라고 하자. 따라서 ${\\bf X}_{batch}$의 차원은 (500,784) 이다. \n",
    "- 위조범이 만든 가짜자료를 원래자료의 batch_size와 같은 숫자인 500만큼 만듬. 그리고 이것을 ${\\bf \\tilde X}_{batch}$라고 하자. 그러면 ${\\bf \\tilde X}_{batch}$의 차원은 (500,784)이다. \n",
    "- 진짜자료는 1, 가짜자료는 0으로 라벨링"
   ]
  },
  {
   "cell_type": "code",
   "execution_count": 14,
   "id": "e4349c74-308f-40f3-8c0a-e0897d567454",
   "metadata": {},
   "outputs": [],
   "source": [
    "batch_size = 500"
   ]
  },
  {
   "cell_type": "code",
   "execution_count": 15,
   "id": "1c799f22-9f5d-4d5e-ac96-d3710ffc790b",
   "metadata": {},
   "outputs": [],
   "source": [
    "Noise_batch = np.random.normal(0,1,size=(batch_size,10))\n",
    "Xfake_batch = net_counterfeiter(Noise_batch)"
   ]
  },
  {
   "cell_type": "code",
   "execution_count": 16,
   "id": "8bb35f51-2834-4722-8dd7-9f1dbda8ca0b",
   "metadata": {},
   "outputs": [],
   "source": [
    "Xreal_batch = Xreal[:batch_size]\n",
    "Xpolice_batch = tf.concat([Xreal_batch,Xfake_batch],axis=0)"
   ]
  },
  {
   "cell_type": "code",
   "execution_count": 17,
   "id": "d60bf934-8697-4d86-acd5-8d38e6129370",
   "metadata": {},
   "outputs": [],
   "source": [
    "ypolice_batch = np.zeros(2*batch_size) \n",
    "ypolice_batch[:batch_size] = 1"
   ]
  },
  {
   "cell_type": "markdown",
   "id": "9d558012-8032-4214-af71-3b780cc7bcc0",
   "metadata": {},
   "source": [
    "`-` 학습전: yhat(경찰의 예측)을 관찰"
   ]
  },
  {
   "cell_type": "code",
   "execution_count": 18,
   "id": "8b2e9ce4-ea27-46cf-984f-d23e1750f7b8",
   "metadata": {},
   "outputs": [
    {
     "data": {
      "text/plain": [
       "<tf.Tensor: shape=(5, 1), dtype=float32, numpy=\n",
       "array([[0.6098283 ],\n",
       "       [0.58949924],\n",
       "       [0.5176492 ],\n",
       "       [0.5713005 ],\n",
       "       [0.61362636]], dtype=float32)>"
      ]
     },
     "execution_count": 18,
     "metadata": {},
     "output_type": "execute_result"
    }
   ],
   "source": [
    "net_police(Xreal_batch)[:5]"
   ]
  },
  {
   "cell_type": "code",
   "execution_count": 19,
   "id": "d6f68edd-6e48-4788-9a7a-8c9125f06fe5",
   "metadata": {},
   "outputs": [
    {
     "data": {
      "text/plain": [
       "<tf.Tensor: shape=(5, 1), dtype=float32, numpy=\n",
       "array([[0.51028746],\n",
       "       [0.5213342 ],\n",
       "       [0.52787066],\n",
       "       [0.5090431 ],\n",
       "       [0.5142518 ]], dtype=float32)>"
      ]
     },
     "execution_count": 19,
     "metadata": {},
     "output_type": "execute_result"
    }
   ],
   "source": [
    "net_police(Xfake_batch)[:5]"
   ]
  },
  {
   "cell_type": "markdown",
   "id": "4beefb32-07e4-4a81-81ed-fca57dd751e5",
   "metadata": {},
   "source": [
    "`-` 학습하자: compile and fit "
   ]
  },
  {
   "cell_type": "code",
   "execution_count": 20,
   "id": "e2430951-6a1b-455b-9d15-750d9169dd35",
   "metadata": {},
   "outputs": [],
   "source": [
    "net_police.compile(loss=tf.losses.binary_crossentropy, optimizer='adam') "
   ]
  },
  {
   "cell_type": "code",
   "execution_count": 21,
   "id": "db1e8d63-cd4c-4116-b0c5-2d1b31b13ef7",
   "metadata": {},
   "outputs": [
    {
     "name": "stdout",
     "output_type": "stream",
     "text": [
      "32/32 [==============================] - 1s 9ms/step - loss: 0.0685\n"
     ]
    },
    {
     "data": {
      "text/plain": [
       "<keras.callbacks.History at 0x18d0105ea30>"
      ]
     },
     "execution_count": 21,
     "metadata": {},
     "output_type": "execute_result"
    }
   ],
   "source": [
    "net_police.fit(Xpolice_batch,ypolice_batch)"
   ]
  },
  {
   "cell_type": "markdown",
   "id": "f4af66c8-f794-41de-91d2-96254b4a6889",
   "metadata": {},
   "source": [
    "`-` 훈련된 경찰의 성능을 살펴보자. "
   ]
  },
  {
   "cell_type": "code",
   "execution_count": 22,
   "id": "57875864-1450-4b59-af27-e086a3c400cb",
   "metadata": {},
   "outputs": [
    {
     "data": {
      "text/plain": [
       "<tf.Tensor: shape=(5, 1), dtype=float32, numpy=\n",
       "array([[1.],\n",
       "       [1.],\n",
       "       [1.],\n",
       "       [1.],\n",
       "       [1.]], dtype=float32)>"
      ]
     },
     "execution_count": 22,
     "metadata": {},
     "output_type": "execute_result"
    }
   ],
   "source": [
    "net_police(Xreal_batch)[:5]"
   ]
  },
  {
   "cell_type": "code",
   "execution_count": 23,
   "id": "5dad0c81-d4ca-465a-a546-8c7a82a5c90b",
   "metadata": {},
   "outputs": [
    {
     "data": {
      "text/plain": [
       "<tf.Tensor: shape=(5, 1), dtype=float32, numpy=\n",
       "array([[1.7165709e-12],\n",
       "       [1.6925159e-12],\n",
       "       [3.9981120e-15],\n",
       "       [1.0572325e-11],\n",
       "       [1.5283661e-09]], dtype=float32)>"
      ]
     },
     "execution_count": 23,
     "metadata": {},
     "output_type": "execute_result"
    }
   ],
   "source": [
    "net_police(Xfake_batch)[:5]"
   ]
  },
  {
   "cell_type": "markdown",
   "id": "a965808d-c29d-42d2-866b-0ca2d6a63e94",
   "metadata": {},
   "source": [
    "### 위조범네트워크의 성능을 향상시키자. "
   ]
  },
  {
   "cell_type": "markdown",
   "id": "5413df6b-4dc7-4917-a02b-8a70ae21f989",
   "metadata": {},
   "source": [
    "`-` 자료구조: 네트워크의 입력은 임의의 노이즈, 네트워크의 출력은 fakeimage"
   ]
  },
  {
   "cell_type": "markdown",
   "id": "058e2036-1f8a-4b9c-a251-a7839db1c118",
   "metadata": {},
   "source": [
    "`-` 손실함수의 설계?\n",
    "- 위조범 네트워크의 출력은 fakeimage, 위조범 네트워크의 yhat은 fakeimage 이다!\n",
    "- 이 가짜이미지를 (위조범네트워크의 yhat을) 경찰이 진짜라고 판단해야 위조범 입장에서는 좋은것. 즉 \"경찰네트워크(위조범네트워크의yhat) $\\approx$ 1\" 이어야 함 "
   ]
  },
  {
   "cell_type": "code",
   "execution_count": 24,
   "id": "15e4013b-795d-409b-a62b-b15d778f96de",
   "metadata": {},
   "outputs": [],
   "source": [
    "def loss_counterfeiter(y,yhat): \n",
    "    # note that yhat is fake image! \n",
    "    return tf.losses.binary_crossentropy(y,net_police(yhat)) # here label should be 1 (1과 비교하여 가까운 것이 유리) "
   ]
  },
  {
   "cell_type": "code",
   "execution_count": 25,
   "id": "c671a031-43d0-4710-93e3-3673fd50f31b",
   "metadata": {},
   "outputs": [],
   "source": [
    "ycounterfeiter_batch = np.ones(batch_size) \n",
    "net_counterfeiter.compile(loss=loss_counterfeiter,optimizer = 'adam')"
   ]
  },
  {
   "cell_type": "code",
   "execution_count": 26,
   "id": "d226eaca-ee58-4866-965c-7877501d40f6",
   "metadata": {},
   "outputs": [
    {
     "name": "stdout",
     "output_type": "stream",
     "text": [
      "16/16 [==============================] - 1s 13ms/step - loss: 1.8175\n"
     ]
    },
    {
     "data": {
      "text/plain": [
       "<keras.callbacks.History at 0x18d01865b80>"
      ]
     },
     "execution_count": 26,
     "metadata": {},
     "output_type": "execute_result"
    }
   ],
   "source": [
    "net_counterfeiter.fit(Noise_batch, ycounterfeiter_batch)"
   ]
  },
  {
   "cell_type": "code",
   "execution_count": 27,
   "id": "45979689-fa98-496a-907e-435e58d217bf",
   "metadata": {},
   "outputs": [
    {
     "data": {
      "text/plain": [
       "<matplotlib.image.AxesImage at 0x18d04469d00>"
      ]
     },
     "execution_count": 27,
     "metadata": {},
     "output_type": "execute_result"
    },
    {
     "data": {
      "image/png": "[encoded data removed]",
      "text/plain": [
       "<Figure size 432x288 with 1 Axes>"
      ]
     },
     "metadata": {
      "needs_background": "light"
     },
     "output_type": "display_data"
    }
   ],
   "source": [
    "plt.imshow(net_counterfeiter(Noise1).reshape(28,28))"
   ]
  },
  {
   "cell_type": "markdown",
   "id": "2e72df12-6a9a-4472-a4a5-3b0c5c807664",
   "metadata": {},
   "source": [
    "- 학습된 이미지의 하나의 샘플 (아직 노이즈같음) "
   ]
  },
  {
   "cell_type": "code",
   "execution_count": 28,
   "id": "fd81a4ce-cf17-4c4a-847f-176cedea2f57",
   "metadata": {},
   "outputs": [
    {
     "data": {
      "text/plain": [
       "<tf.Tensor: shape=(5, 1), dtype=float32, numpy=\n",
       "array([[1.],\n",
       "       [1.],\n",
       "       [1.],\n",
       "       [1.],\n",
       "       [1.]], dtype=float32)>"
      ]
     },
     "execution_count": 28,
     "metadata": {},
     "output_type": "execute_result"
    }
   ],
   "source": [
    "net_police(net_counterfeiter(Noise_batch))[:5]"
   ]
  },
  {
   "cell_type": "markdown",
   "id": "84ad9f3a-14bd-4724-aa17-736825870cc2",
   "metadata": {},
   "source": [
    "- 노이즈같지만 아무튼 이정도로도 경찰은 속는다!"
   ]
  },
  {
   "cell_type": "markdown",
   "id": "cf7d659d-bb47-49c0-8b28-01fb398ac482",
   "metadata": {},
   "source": [
    "### 두 적대적 네트워크를 경쟁시키자. "
   ]
  },
  {
   "cell_type": "code",
   "execution_count": 29,
   "id": "ee262c48-9e33-48c8-a1eb-76df68fb402f",
   "metadata": {},
   "outputs": [
    {
     "name": "stderr",
     "output_type": "stream",
     "text": [
      "100%|████████████████████████████████████████████████████████████████████████████████| 500/500 [06:05<00:00,  1.37it/s]\n"
     ]
    }
   ],
   "source": [
    "for _ in tqdm(range(500)):\n",
    "    # step1: 가짜이미지 생성, 데이터정리 \n",
    "    Noise_batch = np.random.normal(0,1,size=(batch_size,10))\n",
    "    Xfake_batch = net_counterfeiter(Noise_batch)\n",
    "    Xreal_batch = Xreal[np.random.randint(0,Xreal.shape[0],size=batch_size)]\n",
    "    \n",
    "    # step2: 경찰네트워크용 데이터 정리 \n",
    "    Xpolice_batch = tf.concat([Xreal_batch,Xfake_batch],axis=0)\n",
    "    ypolice_batch = np.zeros(2*batch_size)\n",
    "    ypolice_batch[:batch_size] = 1 \n",
    "    \n",
    "    # step3: 경찰네트워크 훈련\n",
    "    net_police.fit(Xpolice_batch,ypolice_batch,verbose=0) \n",
    "    \n",
    "    # step4: 위조범네트워크 훈련 \n",
    "    Xcounterfeiter_batch = Noise_batch # <- 위조범 네트워크의 X \n",
    "    ycounterfeiter_batch = np.ones(batch_size) # <- 위조범네트워크의 y \n",
    "    net_counterfeiter.fit(Noise_batch, ycounterfeiter_batch, verbose=0) \n"
   ]
  },
  {
   "cell_type": "code",
   "execution_count": 30,
   "id": "4027c635-bb17-4ce9-8704-84d4747651d9",
   "metadata": {},
   "outputs": [
    {
     "data": {
      "image/png": "[encoded data removed]",
      "text/plain": [
       "<Figure size 1152x1152 with 25 Axes>"
      ]
     },
     "metadata": {
      "needs_background": "light"
     },
     "output_type": "display_data"
    }
   ],
   "source": [
    "fig, ax = plt.subplots(5,5)\n",
    "k=0\n",
    "for i in range(5):\n",
    "    for j in range(5): \n",
    "        ax[i][j].imshow(net_counterfeiter.predict(Noise_batch)[k].reshape(28,28),cmap='gray')\n",
    "        k=k+1\n",
    "fig.set_figwidth(16)\n",
    "fig.set_figheight(16)\n",
    "fig.tight_layout()"
   ]
  },
  {
   "cell_type": "code",
   "execution_count": null,
   "id": "7c0f7f19",
   "metadata": {},
   "outputs": [],
   "source": []
  }
 ],
 "metadata": {
  "kernelspec": {
   "display_name": "Python 3 (ipykernel)",
   "language": "python",
   "name": "python3"
  },
  "language_info": {
   "codemirror_mode": {
    "name": "ipython",
    "version": 3
   },
   "file_extension": ".py",
   "mimetype": "text/x-python",
   "name": "python",
   "nbconvert_exporter": "python",
   "pygments_lexer": "ipython3",
   "version": "3.8.12"
  }
 },
 "nbformat": 4,
 "nbformat_minor": 5
}
