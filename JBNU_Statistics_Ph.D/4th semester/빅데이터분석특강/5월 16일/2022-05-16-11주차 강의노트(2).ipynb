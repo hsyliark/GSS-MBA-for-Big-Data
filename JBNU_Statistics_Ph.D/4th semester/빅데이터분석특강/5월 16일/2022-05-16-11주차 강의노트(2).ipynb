{
  "cells": [
    {
      "cell_type": "code",
      "execution_count": null,
      "id": "1f9b3e9e-4af0-47b9-84c9-a82d1b7b9d31",
      "metadata": {
        "id": "1f9b3e9e-4af0-47b9-84c9-a82d1b7b9d31"
      },
      "outputs": [],
      "source": [
        "import tensorflow as tf \n",
        "import tensorflow.experimental.numpy as tnp \n",
        "import numpy as np \n",
        "import matplotlib.pyplot as plt"
      ]
    },
    {
      "cell_type": "code",
      "execution_count": null,
      "id": "4aff778e-c93c-425d-8cbb-28652367c5b2",
      "metadata": {
        "id": "4aff778e-c93c-425d-8cbb-28652367c5b2"
      },
      "outputs": [],
      "source": [
        "tnp.experimental_enable_numpy_behavior()"
      ]
    },
    {
      "cell_type": "code",
      "execution_count": null,
      "id": "7207e6aa-0a59-41e2-aac3-89d2efb5f6c1",
      "metadata": {
        "id": "7207e6aa-0a59-41e2-aac3-89d2efb5f6c1"
      },
      "outputs": [],
      "source": [
        "(x_train, y_train), (x_test, y_test) = tf.keras.datasets.fashion_mnist.load_data()"
      ]
    },
    {
      "cell_type": "code",
      "execution_count": null,
      "id": "da80b9e5-d7dc-40c9-8d00-65bba5638e30",
      "metadata": {
        "id": "da80b9e5-d7dc-40c9-8d00-65bba5638e30"
      },
      "outputs": [],
      "source": [
        "X = tf.constant(x_train.reshape(-1,28,28,1),dtype=tf.float64)\n",
        "y = tf.keras.utils.to_categorical(y_train)\n",
        "XX = tf.constant(x_test.reshape(-1,28,28,1),dtype=tf.float64)\n",
        "yy = tf.keras.utils.to_categorical(y_test)"
      ]
    },
    {
      "cell_type": "markdown",
      "id": "699b2db5-eb9a-443c-9924-b28056e24d99",
      "metadata": {
        "id": "699b2db5-eb9a-443c-9924-b28056e24d99"
      },
      "source": [
        "`-` 첫시도"
      ]
    },
    {
      "cell_type": "code",
      "execution_count": null,
      "id": "d630e3e0-2574-4ad4-91d5-a05c73bf8fc5",
      "metadata": {
        "id": "d630e3e0-2574-4ad4-91d5-a05c73bf8fc5",
        "outputId": "1e812bbe-a3e3-4617-e42e-958f5c9d1be8"
      },
      "outputs": [
        {
          "name": "stdout",
          "output_type": "stream",
          "text": [
            "Epoch 1/5\n",
            "1875/1875 [==============================] - 2s 1ms/step - loss: 1.2243 - accuracy: 0.7894\n",
            "Epoch 2/5\n",
            "1875/1875 [==============================] - 2s 1ms/step - loss: 0.4534 - accuracy: 0.8388\n",
            "Epoch 3/5\n",
            "1875/1875 [==============================] - 2s 1ms/step - loss: 0.4161 - accuracy: 0.8502\n",
            "Epoch 4/5\n",
            "1875/1875 [==============================] - 2s 907us/step - loss: 0.4019 - accuracy: 0.8569\n",
            "Epoch 5/5\n",
            "1875/1875 [==============================] - 2s 973us/step - loss: 0.3873 - accuracy: 0.8622\n"
          ]
        },
        {
          "data": {
            "text/plain": [
              "<keras.callbacks.History at 0x7f38111302b0>"
            ]
          },
          "execution_count": 36,
          "metadata": {},
          "output_type": "execute_result"
        }
      ],
      "source": [
        "net1 = tf.keras.Sequential()\n",
        "net1.add(tf.keras.layers.Flatten())\n",
        "net1.add(tf.keras.layers.Dense(500,activation='relu'))\n",
        "net1.add(tf.keras.layers.Dense(500,activation='relu'))\n",
        "net1.add(tf.keras.layers.Dense(500,activation='relu'))\n",
        "net1.add(tf.keras.layers.Dense(500,activation='relu'))\n",
        "net1.add(tf.keras.layers.Dense(10,activation='softmax'))\n",
        "net1.compile(optimizer='adam', loss=tf.losses.categorical_crossentropy,metrics='accuracy')\n",
        "net1.fit(X,y,epochs=5)"
      ]
    },
    {
      "cell_type": "code",
      "execution_count": null,
      "id": "2d5f021f-b06f-4cbb-875c-2eff3c2b2e2f",
      "metadata": {
        "id": "2d5f021f-b06f-4cbb-875c-2eff3c2b2e2f",
        "outputId": "398e2f31-8c9a-42ee-f982-5984593c899b"
      },
      "outputs": [
        {
          "name": "stdout",
          "output_type": "stream",
          "text": [
            "313/313 [==============================] - 0s 835us/step - loss: 0.4163 - accuracy: 0.8504\n"
          ]
        },
        {
          "data": {
            "text/plain": [
              "[0.41634100675582886, 0.8503999710083008]"
            ]
          },
          "execution_count": 37,
          "metadata": {},
          "output_type": "execute_result"
        }
      ],
      "source": [
        "net1.evaluate(XX,yy)"
      ]
    },
    {
      "cell_type": "code",
      "execution_count": null,
      "id": "2222d929-7784-48d6-af5f-944682165714",
      "metadata": {
        "id": "2222d929-7784-48d6-af5f-944682165714",
        "outputId": "e5ef63b8-7705-4a96-9cdb-3776d570e48d"
      },
      "outputs": [
        {
          "name": "stdout",
          "output_type": "stream",
          "text": [
            "Model: \"sequential_6\"\n",
            "_________________________________________________________________\n",
            " Layer (type)                Output Shape              Param #   \n",
            "=================================================================\n",
            " flatten_6 (Flatten)         (None, 784)               0         \n",
            "                                                                 \n",
            " dense_22 (Dense)            (None, 500)               392500    \n",
            "                                                                 \n",
            " dense_23 (Dense)            (None, 500)               250500    \n",
            "                                                                 \n",
            " dense_24 (Dense)            (None, 500)               250500    \n",
            "                                                                 \n",
            " dense_25 (Dense)            (None, 500)               250500    \n",
            "                                                                 \n",
            " dense_26 (Dense)            (None, 10)                5010      \n",
            "                                                                 \n",
            "=================================================================\n",
            "Total params: 1,149,010\n",
            "Trainable params: 1,149,010\n",
            "Non-trainable params: 0\n",
            "_________________________________________________________________\n"
          ]
        }
      ],
      "source": [
        "net1.summary()"
      ]
    },
    {
      "cell_type": "markdown",
      "id": "9c1bfa66-e9eb-4702-be68-8cad97aca26f",
      "metadata": {
        "id": "9c1bfa66-e9eb-4702-be68-8cad97aca26f"
      },
      "source": [
        "`-` 두번째 시도"
      ]
    },
    {
      "cell_type": "code",
      "execution_count": null,
      "id": "fbd22327-6b70-4294-b035-405747d5e32e",
      "metadata": {
        "id": "fbd22327-6b70-4294-b035-405747d5e32e",
        "outputId": "5310db2f-c26d-45af-d9ce-5bf873aca9f3"
      },
      "outputs": [
        {
          "name": "stdout",
          "output_type": "stream",
          "text": [
            "Epoch 1/5\n",
            "1875/1875 [==============================] - 2s 1ms/step - loss: 0.8787 - accuracy: 0.8044\n",
            "Epoch 2/5\n",
            "1875/1875 [==============================] - 2s 994us/step - loss: 0.3843 - accuracy: 0.8618\n",
            "Epoch 3/5\n",
            "1875/1875 [==============================] - 2s 994us/step - loss: 0.3454 - accuracy: 0.8755\n",
            "Epoch 4/5\n",
            "1875/1875 [==============================] - 2s 989us/step - loss: 0.3217 - accuracy: 0.8838\n",
            "Epoch 5/5\n",
            "1875/1875 [==============================] - 2s 901us/step - loss: 0.3053 - accuracy: 0.8878\n"
          ]
        },
        {
          "data": {
            "text/plain": [
              "<keras.callbacks.History at 0x7f3234110fd0>"
            ]
          },
          "execution_count": 55,
          "metadata": {},
          "output_type": "execute_result"
        }
      ],
      "source": [
        "net2 = tf.keras.Sequential()\n",
        "net2.add(tf.keras.layers.Conv2D(30,(2,2),activation='relu'))\n",
        "net2.add(tf.keras.layers.MaxPool2D()) \n",
        "net2.add(tf.keras.layers.Conv2D(30,(2,2),activation='relu'))\n",
        "net2.add(tf.keras.layers.MaxPool2D()) \n",
        "net2.add(tf.keras.layers.Flatten())\n",
        "#net2.add(tf.keras.layers.Dense(500,activation='relu'))\n",
        "net2.add(tf.keras.layers.Dense(10,activation='softmax'))\n",
        "net2.compile(optimizer='adam', loss=tf.losses.categorical_crossentropy,metrics='accuracy')\n",
        "net2.fit(X,y,epochs=5)"
      ]
    },
    {
      "cell_type": "code",
      "execution_count": null,
      "id": "3e177600-bdb3-4752-b07c-d46b953b3bf7",
      "metadata": {
        "id": "3e177600-bdb3-4752-b07c-d46b953b3bf7",
        "outputId": "faf870fc-413d-4e0c-eaef-a3ae4e270782"
      },
      "outputs": [
        {
          "name": "stdout",
          "output_type": "stream",
          "text": [
            "313/313 [==============================] - 0s 837us/step - loss: 0.3438 - accuracy: 0.8736\n"
          ]
        },
        {
          "data": {
            "text/plain": [
              "[0.3437994122505188, 0.8736000061035156]"
            ]
          },
          "execution_count": 56,
          "metadata": {},
          "output_type": "execute_result"
        }
      ],
      "source": [
        "net2.evaluate(XX,yy)"
      ]
    },
    {
      "cell_type": "code",
      "execution_count": null,
      "id": "9d4f313d-e8b1-44ab-9921-ffef5b34cfa7",
      "metadata": {
        "id": "9d4f313d-e8b1-44ab-9921-ffef5b34cfa7",
        "outputId": "4c381d9f-97ef-4469-ead2-901a6ad580bb"
      },
      "outputs": [
        {
          "name": "stdout",
          "output_type": "stream",
          "text": [
            "Model: \"sequential_8\"\n",
            "_________________________________________________________________\n",
            " Layer (type)                Output Shape              Param #   \n",
            "=================================================================\n",
            " conv2d_2 (Conv2D)           (None, 27, 27, 30)        150       \n",
            "                                                                 \n",
            " max_pooling2d_2 (MaxPooling  (None, 13, 13, 30)       0         \n",
            " 2D)                                                             \n",
            "                                                                 \n",
            " conv2d_3 (Conv2D)           (None, 12, 12, 30)        3630      \n",
            "                                                                 \n",
            " max_pooling2d_3 (MaxPooling  (None, 6, 6, 30)         0         \n",
            " 2D)                                                             \n",
            "                                                                 \n",
            " flatten_8 (Flatten)         (None, 1080)              0         \n",
            "                                                                 \n",
            " dense_28 (Dense)            (None, 10)                10810     \n",
            "                                                                 \n",
            "=================================================================\n",
            "Total params: 14,590\n",
            "Trainable params: 14,590\n",
            "Non-trainable params: 0\n",
            "_________________________________________________________________\n"
          ]
        }
      ],
      "source": [
        "net2.summary()"
      ]
    },
    {
      "cell_type": "code",
      "execution_count": null,
      "id": "792c1fe0-c8cc-4887-83ca-fc644a69067e",
      "metadata": {
        "id": "792c1fe0-c8cc-4887-83ca-fc644a69067e",
        "outputId": "6fba9252-d546-432e-c83d-80152a104ff4"
      },
      "outputs": [
        {
          "data": {
            "text/plain": [
              "0.012697887746842934"
            ]
          },
          "execution_count": 42,
          "metadata": {},
          "output_type": "execute_result"
        }
      ],
      "source": [
        "14590/ 1149010"
      ]
    },
    {
      "cell_type": "code",
      "execution_count": null,
      "id": "21ce9fe2-f5f9-49aa-93c4-a51e5efec519",
      "metadata": {
        "id": "21ce9fe2-f5f9-49aa-93c4-a51e5efec519"
      },
      "outputs": [],
      "source": [
        "c1, m1, c2, m2, flttn, dns = net2.layers"
      ]
    },
    {
      "cell_type": "code",
      "execution_count": null,
      "id": "9f35432b-20ae-4e8e-ae9c-36f5d4937793",
      "metadata": {
        "id": "9f35432b-20ae-4e8e-ae9c-36f5d4937793",
        "outputId": "e70dedc1-029f-45ca-efe7-21f0d6384a74"
      },
      "outputs": [
        {
          "name": "stdout",
          "output_type": "stream",
          "text": [
            "(60000, 28, 28, 1)\n",
            "(60000, 27, 27, 30)\n",
            "(60000, 13, 13, 30)\n",
            "(60000, 12, 12, 30)\n",
            "(60000, 6, 6, 30)\n",
            "(60000, 1080)\n",
            "(60000, 10)\n"
          ]
        }
      ],
      "source": [
        "print(X.shape) # 입력이미지 = 2D \n",
        "print(c1(X).shape) #2D \n",
        "print(m1(c1(X)).shape)  #2D\n",
        "print(c2(m1(c1(X))).shape) #2D\n",
        "print(m2(c2(m1(c1(X)))).shape) #2D\n",
        "print(flttn(m2(c2(m1(c1(X))))).shape)# 1D\n",
        "print(dns(flttn(m2(c2(m1(c1(X)))))).shape)# 1D"
      ]
    },
    {
      "cell_type": "markdown",
      "id": "839c0c6e-42c8-42f8-a95c-ec9dbf608f39",
      "metadata": {
        "id": "839c0c6e-42c8-42f8-a95c-ec9dbf608f39"
      },
      "source": [
        "### MaxPool2D"
      ]
    },
    {
      "cell_type": "markdown",
      "id": "71fa4575-d08b-4419-a8ec-9fe34dc74bf4",
      "metadata": {
        "id": "71fa4575-d08b-4419-a8ec-9fe34dc74bf4"
      },
      "source": [
        "#### 테스트1"
      ]
    },
    {
      "cell_type": "markdown",
      "id": "42f18227-357c-48ce-b98d-c6d418e3b9d1",
      "metadata": {
        "id": "42f18227-357c-48ce-b98d-c6d418e3b9d1"
      },
      "source": [
        "`-` 레이어생성 "
      ]
    },
    {
      "cell_type": "code",
      "execution_count": null,
      "id": "7791681d-c677-41d9-81ff-d4b0e2d38760",
      "metadata": {
        "id": "7791681d-c677-41d9-81ff-d4b0e2d38760"
      },
      "outputs": [],
      "source": [
        "m=tf.keras.layers.MaxPool2D()"
      ]
    },
    {
      "cell_type": "markdown",
      "id": "eb74ca8a-0f15-47d9-b57e-0e6b6f5076fc",
      "metadata": {
        "id": "eb74ca8a-0f15-47d9-b57e-0e6b6f5076fc"
      },
      "source": [
        "`-` 입력데이터"
      ]
    },
    {
      "cell_type": "code",
      "execution_count": null,
      "id": "01cb3396-d796-4182-8887-8ddda02b066d",
      "metadata": {
        "id": "01cb3396-d796-4182-8887-8ddda02b066d",
        "outputId": "f27eb0d7-02c3-48c4-dd65-a0490d4e787a"
      },
      "outputs": [
        {
          "data": {
            "text/plain": [
              "<tf.Tensor: shape=(1, 4, 4), dtype=int64, numpy=\n",
              "array([[[ 0,  1,  2,  3],\n",
              "        [ 4,  5,  6,  7],\n",
              "        [ 8,  9, 10, 11],\n",
              "        [12, 13, 14, 15]]])>"
            ]
          },
          "execution_count": 63,
          "metadata": {},
          "output_type": "execute_result"
        }
      ],
      "source": [
        "XXX = tnp.arange(1*4*4*1).reshape(1,4,4,1)\n",
        "XXX.reshape(1,4,4)"
      ]
    },
    {
      "cell_type": "markdown",
      "id": "92ca3385-90a3-4c8d-8cde-5cc7b20fe743",
      "metadata": {
        "id": "92ca3385-90a3-4c8d-8cde-5cc7b20fe743"
      },
      "source": [
        "`-` 입력데이터가 레이어를 통과한 모습"
      ]
    },
    {
      "cell_type": "code",
      "execution_count": null,
      "id": "f253fa29-e6f1-4e97-b9f2-5d1ecb7e3325",
      "metadata": {
        "id": "f253fa29-e6f1-4e97-b9f2-5d1ecb7e3325",
        "outputId": "a0221a05-c79d-428d-a27b-71e3ab193632"
      },
      "outputs": [
        {
          "data": {
            "text/plain": [
              "<tf.Tensor: shape=(1, 2, 2), dtype=int64, numpy=\n",
              "array([[[ 5,  7],\n",
              "        [13, 15]]])>"
            ]
          },
          "execution_count": 65,
          "metadata": {},
          "output_type": "execute_result"
        }
      ],
      "source": [
        "m(XXX).reshape(1,2,2)"
      ]
    },
    {
      "cell_type": "markdown",
      "id": "3b70c614-a997-4d5c-8396-52cc18199d38",
      "metadata": {
        "id": "3b70c614-a997-4d5c-8396-52cc18199d38"
      },
      "source": [
        "`-` MaxPool2D layer의 역할: (2,2)윈도우를 만들고 (2,2)윈도우에서 max를 뽑아 값을 기록, 윈도우를 움직이면서 반복 "
      ]
    },
    {
      "cell_type": "markdown",
      "id": "f633e962-ae8c-4118-9b97-ca2f72b563c5",
      "metadata": {
        "id": "f633e962-ae8c-4118-9b97-ca2f72b563c5"
      },
      "source": [
        "#### 테스트2"
      ]
    },
    {
      "cell_type": "code",
      "execution_count": null,
      "id": "a32cd4dc-5ee1-4b06-bfa2-4802662073dc",
      "metadata": {
        "id": "a32cd4dc-5ee1-4b06-bfa2-4802662073dc",
        "outputId": "61e8858c-2613-4897-dbcf-a5f5a0aef98c"
      },
      "outputs": [
        {
          "data": {
            "text/plain": [
              "<tf.Tensor: shape=(1, 6, 6), dtype=int64, numpy=\n",
              "array([[[ 0,  1,  2,  3,  4,  5],\n",
              "        [ 6,  7,  8,  9, 10, 11],\n",
              "        [12, 13, 14, 15, 16, 17],\n",
              "        [18, 19, 20, 21, 22, 23],\n",
              "        [24, 25, 26, 27, 28, 29],\n",
              "        [30, 31, 32, 33, 34, 35]]])>"
            ]
          },
          "execution_count": 66,
          "metadata": {},
          "output_type": "execute_result"
        }
      ],
      "source": [
        "XXX = tnp.arange(1*6*6*1).reshape(1,6,6,1)\n",
        "XXX.reshape(1,6,6)"
      ]
    },
    {
      "cell_type": "code",
      "execution_count": null,
      "id": "d5022e2c-0ec3-4250-aa43-83f3e4fd0294",
      "metadata": {
        "id": "d5022e2c-0ec3-4250-aa43-83f3e4fd0294",
        "outputId": "17f386c0-6e4e-4a78-83ac-bb7de76ba113"
      },
      "outputs": [
        {
          "data": {
            "text/plain": [
              "<tf.Tensor: shape=(1, 3, 3), dtype=int64, numpy=\n",
              "array([[[ 7,  9, 11],\n",
              "        [19, 21, 23],\n",
              "        [31, 33, 35]]])>"
            ]
          },
          "execution_count": 68,
          "metadata": {},
          "output_type": "execute_result"
        }
      ],
      "source": [
        "m(XXX).reshape(1,3,3)"
      ]
    },
    {
      "cell_type": "markdown",
      "id": "0d2dd6b0-dbee-416b-8a34-546d383bdbad",
      "metadata": {
        "id": "0d2dd6b0-dbee-416b-8a34-546d383bdbad"
      },
      "source": [
        "#### 테스트3"
      ]
    },
    {
      "cell_type": "code",
      "execution_count": null,
      "id": "db7eb3a2-c78c-49ab-a437-f771caecc0b5",
      "metadata": {
        "id": "db7eb3a2-c78c-49ab-a437-f771caecc0b5"
      },
      "outputs": [],
      "source": [
        "m=tf.keras.layers.MaxPool2D(pool_size=(3, 3))"
      ]
    },
    {
      "cell_type": "code",
      "execution_count": null,
      "id": "85a7f0ca-435b-46b9-b8fb-423278d167b7",
      "metadata": {
        "id": "85a7f0ca-435b-46b9-b8fb-423278d167b7",
        "outputId": "765a5dca-ee03-424a-ebcc-ba90b0aaa9e4"
      },
      "outputs": [
        {
          "data": {
            "text/plain": [
              "<tf.Tensor: shape=(1, 6, 6), dtype=int64, numpy=\n",
              "array([[[ 0,  1,  2,  3,  4,  5],\n",
              "        [ 6,  7,  8,  9, 10, 11],\n",
              "        [12, 13, 14, 15, 16, 17],\n",
              "        [18, 19, 20, 21, 22, 23],\n",
              "        [24, 25, 26, 27, 28, 29],\n",
              "        [30, 31, 32, 33, 34, 35]]])>"
            ]
          },
          "execution_count": 71,
          "metadata": {},
          "output_type": "execute_result"
        }
      ],
      "source": [
        "XXX = tnp.arange(1*6*6*1).reshape(1,6,6,1)\n",
        "XXX.reshape(1,6,6)"
      ]
    },
    {
      "cell_type": "code",
      "execution_count": null,
      "id": "7e220b5d-b351-4364-8107-0ff98fd916da",
      "metadata": {
        "id": "7e220b5d-b351-4364-8107-0ff98fd916da",
        "outputId": "d399f57d-903d-4015-8f2f-f3d7c646e28c"
      },
      "outputs": [
        {
          "data": {
            "text/plain": [
              "<tf.Tensor: shape=(1, 2, 2), dtype=int64, numpy=\n",
              "array([[[14, 17],\n",
              "        [32, 35]]])>"
            ]
          },
          "execution_count": 74,
          "metadata": {},
          "output_type": "execute_result"
        }
      ],
      "source": [
        "m(XXX).reshape(1,2,2)"
      ]
    },
    {
      "cell_type": "markdown",
      "id": "b5a12865-d4fb-4076-a0df-3276ab405566",
      "metadata": {
        "id": "b5a12865-d4fb-4076-a0df-3276ab405566"
      },
      "source": [
        "#### 테스트4"
      ]
    },
    {
      "cell_type": "code",
      "execution_count": null,
      "id": "bdafc487-20d0-4c13-83c9-e13eb9e14d8a",
      "metadata": {
        "id": "bdafc487-20d0-4c13-83c9-e13eb9e14d8a"
      },
      "outputs": [],
      "source": [
        "m=tf.keras.layers.MaxPool2D(pool_size=(2, 2))"
      ]
    },
    {
      "cell_type": "code",
      "execution_count": null,
      "id": "5fdc2953-de7c-4542-b7ff-e177581862da",
      "metadata": {
        "id": "5fdc2953-de7c-4542-b7ff-e177581862da",
        "outputId": "1dd12057-fbe1-4340-fecd-7f5818633c1b"
      },
      "outputs": [
        {
          "data": {
            "text/plain": [
              "<tf.Tensor: shape=(1, 5, 5), dtype=int64, numpy=\n",
              "array([[[ 0,  1,  2,  3,  4],\n",
              "        [ 5,  6,  7,  8,  9],\n",
              "        [10, 11, 12, 13, 14],\n",
              "        [15, 16, 17, 18, 19],\n",
              "        [20, 21, 22, 23, 24]]])>"
            ]
          },
          "execution_count": 92,
          "metadata": {},
          "output_type": "execute_result"
        }
      ],
      "source": [
        "XXX = tnp.arange(1*5*5*1).reshape(1,5,5,1)\n",
        "XXX.reshape(1,5,5)"
      ]
    },
    {
      "cell_type": "code",
      "execution_count": null,
      "id": "88423b66-9fd6-4a30-a4da-061cbe97017c",
      "metadata": {
        "id": "88423b66-9fd6-4a30-a4da-061cbe97017c",
        "outputId": "1460b5fd-de54-43cd-85df-4f5225957d56"
      },
      "outputs": [
        {
          "data": {
            "text/plain": [
              "<tf.Tensor: shape=(1, 2, 2), dtype=int64, numpy=\n",
              "array([[[ 6,  8],\n",
              "        [16, 18]]])>"
            ]
          },
          "execution_count": 94,
          "metadata": {},
          "output_type": "execute_result"
        }
      ],
      "source": [
        "m(XXX).reshape(1,2,2)"
      ]
    },
    {
      "cell_type": "code",
      "execution_count": null,
      "id": "34b07753-2418-40ca-ac27-870b571a807c",
      "metadata": {
        "id": "34b07753-2418-40ca-ac27-870b571a807c"
      },
      "outputs": [],
      "source": [
        "m=tf.keras.layers.MaxPool2D(pool_size=(2, 2),padding=\"same\")"
      ]
    },
    {
      "cell_type": "code",
      "execution_count": null,
      "id": "bf7c74ae-1bf4-4f33-bab3-383d2d6f80be",
      "metadata": {
        "id": "bf7c74ae-1bf4-4f33-bab3-383d2d6f80be",
        "outputId": "93c90b1d-b138-4584-d342-4599aec376bb"
      },
      "outputs": [
        {
          "data": {
            "text/plain": [
              "<tf.Tensor: shape=(1, 5, 5), dtype=int64, numpy=\n",
              "array([[[ 0,  1,  2,  3,  4],\n",
              "        [ 5,  6,  7,  8,  9],\n",
              "        [10, 11, 12, 13, 14],\n",
              "        [15, 16, 17, 18, 19],\n",
              "        [20, 21, 22, 23, 24]]])>"
            ]
          },
          "execution_count": 96,
          "metadata": {},
          "output_type": "execute_result"
        }
      ],
      "source": [
        "XXX = tnp.arange(1*5*5*1).reshape(1,5,5,1)\n",
        "XXX.reshape(1,5,5)"
      ]
    },
    {
      "cell_type": "code",
      "execution_count": null,
      "id": "3b485719-ff9d-49b0-a9b4-dbbb391f532e",
      "metadata": {
        "id": "3b485719-ff9d-49b0-a9b4-dbbb391f532e",
        "outputId": "64e73902-6acb-470d-ee4d-1ffb3a441aec"
      },
      "outputs": [
        {
          "data": {
            "text/plain": [
              "<tf.Tensor: shape=(1, 3, 3), dtype=int64, numpy=\n",
              "array([[[ 6,  8,  9],\n",
              "        [16, 18, 19],\n",
              "        [21, 23, 24]]])>"
            ]
          },
          "execution_count": 99,
          "metadata": {},
          "output_type": "execute_result"
        }
      ],
      "source": [
        "m(XXX).reshape(1,3,3)"
      ]
    },
    {
      "cell_type": "markdown",
      "id": "455d6c71-f73a-4bcd-a4d9-33fce216e073",
      "metadata": {
        "id": "455d6c71-f73a-4bcd-a4d9-33fce216e073"
      },
      "source": [
        "#### 테스트5 "
      ]
    },
    {
      "cell_type": "code",
      "execution_count": null,
      "id": "e7fe1b09-07f7-4746-8bba-ba589b5603dd",
      "metadata": {
        "id": "e7fe1b09-07f7-4746-8bba-ba589b5603dd",
        "outputId": "74c2f0e2-ceae-4765-90e7-a375fcf87c77"
      },
      "outputs": [
        {
          "data": {
            "text/plain": [
              "<tf.Tensor: shape=(2, 4, 4), dtype=int64, numpy=\n",
              "array([[[ 0,  1,  2,  3],\n",
              "        [ 4,  5,  6,  7],\n",
              "        [ 8,  9, 10, 11],\n",
              "        [12, 13, 14, 15]],\n",
              "\n",
              "       [[16, 17, 18, 19],\n",
              "        [20, 21, 22, 23],\n",
              "        [24, 25, 26, 27],\n",
              "        [28, 29, 30, 31]]])>"
            ]
          },
          "execution_count": 100,
          "metadata": {},
          "output_type": "execute_result"
        }
      ],
      "source": [
        "XXX = tnp.arange(2*4*4*1).reshape(2,4,4,1)\n",
        "XXX.reshape(2,4,4)"
      ]
    },
    {
      "cell_type": "code",
      "execution_count": null,
      "id": "6a9dee7b-22cc-46b9-9d20-757f5c904b43",
      "metadata": {
        "id": "6a9dee7b-22cc-46b9-9d20-757f5c904b43",
        "outputId": "5cf1cca1-1515-424f-e143-8766a5cf42bc"
      },
      "outputs": [
        {
          "data": {
            "text/plain": [
              "<tf.Tensor: shape=(2, 2, 2), dtype=int64, numpy=\n",
              "array([[[ 5,  7],\n",
              "        [13, 15]],\n",
              "\n",
              "       [[21, 23],\n",
              "        [29, 31]]])>"
            ]
          },
          "execution_count": 103,
          "metadata": {},
          "output_type": "execute_result"
        }
      ],
      "source": [
        "m(XXX).reshape(2,2,2)"
      ]
    },
    {
      "cell_type": "markdown",
      "id": "0d23dad2-5e71-4f6b-986b-6f620c32b9ac",
      "metadata": {
        "id": "0d23dad2-5e71-4f6b-986b-6f620c32b9ac"
      },
      "source": [
        "#### 테스트6"
      ]
    },
    {
      "cell_type": "code",
      "execution_count": null,
      "id": "feba1874-dc57-4fb1-8b4f-99896602cef9",
      "metadata": {
        "id": "feba1874-dc57-4fb1-8b4f-99896602cef9"
      },
      "outputs": [],
      "source": [
        "XXX = tnp.arange(1*4*4*3).reshape(1,4,4,3)"
      ]
    },
    {
      "cell_type": "code",
      "execution_count": null,
      "id": "d9e57c14-10d4-405d-aa81-315474f0eedb",
      "metadata": {
        "id": "d9e57c14-10d4-405d-aa81-315474f0eedb",
        "outputId": "5ae1aad5-46e4-43e1-d805-027279523326"
      },
      "outputs": [
        {
          "data": {
            "text/plain": [
              "<tf.Tensor: shape=(1, 4, 4), dtype=int64, numpy=\n",
              "array([[[ 0,  3,  6,  9],\n",
              "        [12, 15, 18, 21],\n",
              "        [24, 27, 30, 33],\n",
              "        [36, 39, 42, 45]]])>"
            ]
          },
          "execution_count": 109,
          "metadata": {},
          "output_type": "execute_result"
        }
      ],
      "source": [
        "XXX[...,0]"
      ]
    },
    {
      "cell_type": "code",
      "execution_count": null,
      "id": "14d25cc5-4f2a-404c-9380-f5e9a11a51ed",
      "metadata": {
        "id": "14d25cc5-4f2a-404c-9380-f5e9a11a51ed",
        "outputId": "49b6b810-3fec-4acd-de02-f1abcb136414"
      },
      "outputs": [
        {
          "data": {
            "text/plain": [
              "<tf.Tensor: shape=(1, 2, 2), dtype=int64, numpy=\n",
              "array([[[15, 21],\n",
              "        [39, 45]]])>"
            ]
          },
          "execution_count": 110,
          "metadata": {},
          "output_type": "execute_result"
        }
      ],
      "source": [
        "m(XXX)[...,0]"
      ]
    },
    {
      "cell_type": "markdown",
      "id": "1e733af5-480e-4deb-95a3-7173592ff3b3",
      "metadata": {
        "id": "1e733af5-480e-4deb-95a3-7173592ff3b3"
      },
      "source": [
        "### Conv2D "
      ]
    },
    {
      "cell_type": "markdown",
      "id": "a75334b8-4153-48aa-82af-6188bb55b61f",
      "metadata": {
        "id": "a75334b8-4153-48aa-82af-6188bb55b61f"
      },
      "source": [
        "#### 테스트1"
      ]
    },
    {
      "cell_type": "markdown",
      "id": "ad28e8f6-8b8a-48a5-a955-15c9fc24fb60",
      "metadata": {
        "id": "ad28e8f6-8b8a-48a5-a955-15c9fc24fb60"
      },
      "source": [
        "`-` 레이어생성 "
      ]
    },
    {
      "cell_type": "code",
      "execution_count": null,
      "id": "31abec64-855b-4a27-9299-35c9f78ce6ee",
      "metadata": {
        "id": "31abec64-855b-4a27-9299-35c9f78ce6ee"
      },
      "outputs": [],
      "source": [
        "cnv = tf.keras.layers.Conv2D(1,(2,2))"
      ]
    },
    {
      "cell_type": "markdown",
      "id": "17ee313a-15b7-4fbf-99b3-7fe5ba596256",
      "metadata": {
        "id": "17ee313a-15b7-4fbf-99b3-7fe5ba596256"
      },
      "source": [
        "`-` XXX생성 "
      ]
    },
    {
      "cell_type": "code",
      "execution_count": null,
      "id": "1d6b3e52-b510-455c-b1dd-fe3f1a52c2c2",
      "metadata": {
        "id": "1d6b3e52-b510-455c-b1dd-fe3f1a52c2c2",
        "outputId": "1b18d1e6-b477-4887-de34-a0159e4faee4"
      },
      "outputs": [
        {
          "data": {
            "text/plain": [
              "<tf.Tensor: shape=(1, 4, 4), dtype=float64, numpy=\n",
              "array([[[ 0.,  1.,  2.,  3.],\n",
              "        [ 4.,  5.,  6.,  7.],\n",
              "        [ 8.,  9., 10., 11.],\n",
              "        [12., 13., 14., 15.]]])>"
            ]
          },
          "execution_count": 127,
          "metadata": {},
          "output_type": "execute_result"
        }
      ],
      "source": [
        "XXX = tnp.arange(1*4*4*1,dtype=tf.float64).reshape(1,4,4,1)\n",
        "XXX.reshape(1,4,4)"
      ]
    },
    {
      "cell_type": "code",
      "execution_count": null,
      "id": "30114419-cafa-4278-b557-c64c4f20a1a7",
      "metadata": {
        "id": "30114419-cafa-4278-b557-c64c4f20a1a7",
        "outputId": "bddb46be-22d0-479e-f478-4abc2ff95ad3"
      },
      "outputs": [
        {
          "data": {
            "text/plain": [
              "<tf.Tensor: shape=(1, 3, 3), dtype=float32, numpy=\n",
              "array([[[ 4.0450797,  5.7349434,  7.4248075],\n",
              "        [10.804535 , 12.494399 , 14.184262 ],\n",
              "        [17.56399  , 19.253855 , 20.943718 ]]], dtype=float32)>"
            ]
          },
          "execution_count": 128,
          "metadata": {},
          "output_type": "execute_result"
        }
      ],
      "source": [
        "cnv(XXX).reshape(1,3,3)"
      ]
    },
    {
      "cell_type": "markdown",
      "id": "9d6cf539-1d41-40a5-a692-ee19b9371ef1",
      "metadata": {
        "id": "9d6cf539-1d41-40a5-a692-ee19b9371ef1"
      },
      "source": [
        "- XXX에서 cnv(XXX)로 가는 맵핑을 찾는건 쉽지 않아보인다. \n",
        "- 심지어 랜덤으로 결정되는 부분도 있어보임 "
      ]
    },
    {
      "cell_type": "markdown",
      "id": "1d4167be-745e-42fa-bb2a-a2ea49aef019",
      "metadata": {
        "id": "1d4167be-745e-42fa-bb2a-a2ea49aef019"
      },
      "source": [
        "`-` 코드정리 + 시드통일"
      ]
    },
    {
      "cell_type": "code",
      "execution_count": null,
      "id": "615584b9-7a3a-4064-9ebd-3687a2736bc6",
      "metadata": {
        "id": "615584b9-7a3a-4064-9ebd-3687a2736bc6"
      },
      "outputs": [],
      "source": [
        "tf.random.set_seed(43052)\n",
        "cnv = tf.keras.layers.Conv2D(1,(2,2))\n",
        "XXX = tnp.arange(1*4*4*1,dtype=tf.float64).reshape(1,4,4,1)"
      ]
    },
    {
      "cell_type": "markdown",
      "id": "d5662418-95c0-4321-8988-999292be75e5",
      "metadata": {
        "id": "d5662418-95c0-4321-8988-999292be75e5"
      },
      "source": [
        "`-` conv의 입출력"
      ]
    },
    {
      "cell_type": "code",
      "execution_count": null,
      "id": "9cb0f4cb-3312-475c-a15c-30581e030e1e",
      "metadata": {
        "id": "9cb0f4cb-3312-475c-a15c-30581e030e1e",
        "outputId": "519771c1-b8ee-4a00-c7a7-09c4dd7eee6c"
      },
      "outputs": [
        {
          "name": "stdout",
          "output_type": "stream",
          "text": [
            "tf.Tensor(\n",
            "[[[ 0.  1.  2.  3.]\n",
            "  [ 4.  5.  6.  7.]\n",
            "  [ 8.  9. 10. 11.]\n",
            "  [12. 13. 14. 15.]]], shape=(1, 4, 4), dtype=float64)\n",
            "tf.Tensor(\n",
            "[[[ -4.125754   -5.312817   -6.4998803]\n",
            "  [ -8.874006  -10.0610695 -11.248133 ]\n",
            "  [-13.622259  -14.809322  -15.996386 ]]], shape=(1, 3, 3), dtype=float32)\n"
          ]
        }
      ],
      "source": [
        "print(XXX.reshape(1,4,4))\n",
        "print(cnv(XXX).reshape(1,3,3))"
      ]
    },
    {
      "cell_type": "markdown",
      "id": "e683e00e-3ace-45fc-a68d-29b7362dac79",
      "metadata": {
        "id": "e683e00e-3ace-45fc-a68d-29b7362dac79"
      },
      "source": [
        "`-` conv연산 추론"
      ]
    },
    {
      "cell_type": "code",
      "execution_count": null,
      "id": "fb8240bc-4f38-4d35-9eed-b971503ab0e3",
      "metadata": {
        "id": "fb8240bc-4f38-4d35-9eed-b971503ab0e3",
        "outputId": "3c92129c-f3f7-49dd-f898-c2d3c04130b8"
      },
      "outputs": [
        {
          "data": {
            "text/plain": [
              "<tf.Tensor: shape=(2, 2), dtype=float32, numpy=\n",
              "array([[-0.13014299, -0.23927206],\n",
              "       [-0.20175874, -0.6158894 ]], dtype=float32)>"
            ]
          },
          "execution_count": 142,
          "metadata": {},
          "output_type": "execute_result"
        }
      ],
      "source": [
        "tf.reshape(cnv.weights[0],(2,2))"
      ]
    },
    {
      "cell_type": "code",
      "execution_count": null,
      "id": "22a81c5d-6fb5-4b1f-8469-ac003c1d0997",
      "metadata": {
        "id": "22a81c5d-6fb5-4b1f-8469-ac003c1d0997",
        "outputId": "e48c1689-a173-4068-e4b1-fc576cacc3de"
      },
      "outputs": [
        {
          "data": {
            "text/plain": [
              "-4.1257540200000005"
            ]
          },
          "execution_count": 146,
          "metadata": {},
          "output_type": "execute_result"
        }
      ],
      "source": [
        "0 * -0.13014299 + 1 * -0.23927206 + 4 * -0.20175874 + 5 * -0.6158894 + 0 "
      ]
    },
    {
      "cell_type": "markdown",
      "id": "01dd1fc6-0fec-46b8-aa6d-a5e0b8785e4b",
      "metadata": {
        "id": "01dd1fc6-0fec-46b8-aa6d-a5e0b8785e4b"
      },
      "source": [
        "`-` 내가 정의한 weights를 대입하여 conv 연산 확인"
      ]
    },
    {
      "cell_type": "code",
      "execution_count": null,
      "id": "661a2dd8-6e85-4d0c-8d6f-d1e89d1221f5",
      "metadata": {
        "id": "661a2dd8-6e85-4d0c-8d6f-d1e89d1221f5",
        "outputId": "7ec68d2f-a42c-4ce3-d86a-07643ebc8fd9"
      },
      "outputs": [
        {
          "data": {
            "text/plain": [
              "(2, 2, 1, 1)"
            ]
          },
          "execution_count": 153,
          "metadata": {},
          "output_type": "execute_result"
        }
      ],
      "source": [
        "cnv.get_weights()[0].shape"
      ]
    },
    {
      "cell_type": "code",
      "execution_count": null,
      "id": "8a049192-d97f-40dd-845f-61bde27ee392",
      "metadata": {
        "id": "8a049192-d97f-40dd-845f-61bde27ee392"
      },
      "outputs": [],
      "source": [
        "w = np.array([1/4,1/4,1/4,1/4],dtype=np.float32).reshape(2, 2, 1, 1)\n",
        "b = np.array([3],dtype=np.float32)"
      ]
    },
    {
      "cell_type": "code",
      "execution_count": null,
      "id": "3f691bc3-d9d2-4506-83ac-1ad69685d5b4",
      "metadata": {
        "id": "3f691bc3-d9d2-4506-83ac-1ad69685d5b4"
      },
      "outputs": [],
      "source": [
        "cnv.set_weights([w,b])"
      ]
    },
    {
      "cell_type": "code",
      "execution_count": null,
      "id": "d0a02431-b115-4e72-8aac-c6ba035f2cdf",
      "metadata": {
        "id": "d0a02431-b115-4e72-8aac-c6ba035f2cdf",
        "outputId": "998bd720-ba1f-4ccb-d3d8-f22fdb7f930f"
      },
      "outputs": [
        {
          "data": {
            "text/plain": [
              "<tf.Tensor: shape=(1, 4, 4), dtype=float64, numpy=\n",
              "array([[[ 0.,  1.,  2.,  3.],\n",
              "        [ 4.,  5.,  6.,  7.],\n",
              "        [ 8.,  9., 10., 11.],\n",
              "        [12., 13., 14., 15.]]])>"
            ]
          },
          "execution_count": 172,
          "metadata": {},
          "output_type": "execute_result"
        }
      ],
      "source": [
        "XXX.reshape(1,4,4)"
      ]
    },
    {
      "cell_type": "code",
      "execution_count": null,
      "id": "d85618cb-e820-4fd4-a679-9708be4070d5",
      "metadata": {
        "id": "d85618cb-e820-4fd4-a679-9708be4070d5",
        "outputId": "08cd8705-0657-44ab-e809-414630235e36"
      },
      "outputs": [
        {
          "data": {
            "text/plain": [
              "<tf.Tensor: shape=(1, 3, 3), dtype=float32, numpy=\n",
              "array([[[ 5.5,  6.5,  7.5],\n",
              "        [ 9.5, 10.5, 11.5],\n",
              "        [13.5, 14.5, 15.5]]], dtype=float32)>"
            ]
          },
          "execution_count": 170,
          "metadata": {},
          "output_type": "execute_result"
        }
      ],
      "source": [
        "cnv(XXX).reshape(1,3,3)"
      ]
    },
    {
      "cell_type": "code",
      "execution_count": null,
      "id": "548b9b81-85dc-4008-82a5-f14eb3708a75",
      "metadata": {
        "id": "548b9b81-85dc-4008-82a5-f14eb3708a75",
        "outputId": "c760711a-457e-4cbc-c815-9b490fe72df1"
      },
      "outputs": [
        {
          "data": {
            "text/plain": [
              "(5.5, 6.5, 7.5)"
            ]
          },
          "execution_count": 176,
          "metadata": {},
          "output_type": "execute_result"
        }
      ],
      "source": [
        "np.mean([0,1,4,5])+3, np.mean([1,2,5,6])+3, np.mean([2,3,6,7])+3 "
      ]
    },
    {
      "cell_type": "markdown",
      "id": "19e4460f-9944-46dc-a017-6f4f056572e2",
      "metadata": {
        "id": "19e4460f-9944-46dc-a017-6f4f056572e2"
      },
      "source": [
        "#### tf.keras.layers.Conv2D(1,kernel_size=(2,2)) 요약"
      ]
    },
    {
      "cell_type": "markdown",
      "id": "02656331-13c4-43c3-a33b-5317c4866e9a",
      "metadata": {
        "id": "02656331-13c4-43c3-a33b-5317c4866e9a"
      },
      "source": [
        "`-` 요약"
      ]
    },
    {
      "cell_type": "markdown",
      "id": "c6575f7c-f2c5-4ebc-86df-66479b5d2bd2",
      "metadata": {
        "id": "c6575f7c-f2c5-4ebc-86df-66479b5d2bd2"
      },
      "source": [
        "(1) size=(2,2)인 윈도우를 만듬. \n",
        "\n",
        "(2) XXX에 윈도우를 통과시켜서 (2,2)크기의 sub XXX 를 얻음. sub XXX의 각 원소에 conv2d.weights[0]의 각 원소를 element-wise하게 곱한다. \n",
        "\n",
        "(3) (2)의 결과를 모두 더한다. 그리고 그 결과에 다시 conv2d.weights[1]을 수행 \n",
        "\n",
        "(4) 윈도우를 이동시키면서 반복!"
      ]
    },
    {
      "cell_type": "markdown",
      "id": "01c7db47-6485-4c37-a698-0efe6e480094",
      "metadata": {
        "tags": [],
        "id": "01c7db47-6485-4c37-a698-0efe6e480094"
      },
      "source": [
        "#### 테스트2"
      ]
    },
    {
      "cell_type": "markdown",
      "id": "a587ea00-a382-45bf-9f95-5a1b14240251",
      "metadata": {
        "id": "a587ea00-a382-45bf-9f95-5a1b14240251"
      },
      "source": [
        "`-` 레이어와 XXX생성"
      ]
    },
    {
      "cell_type": "code",
      "execution_count": null,
      "id": "7a669c76-4b8c-487c-b3cd-bad69c3537cf",
      "metadata": {
        "id": "7a669c76-4b8c-487c-b3cd-bad69c3537cf"
      },
      "outputs": [],
      "source": [
        "tf.random.set_seed(43052)\n",
        "cnv = tf.keras.layers.Conv2D(1,(3,3))\n",
        "XXX = tnp.arange(1*5*5*1,dtype=tf.float64).reshape(1,5,5,1)"
      ]
    },
    {
      "cell_type": "code",
      "execution_count": null,
      "id": "e45c7cd8-23b4-4df2-b358-dd542d6c81b2",
      "metadata": {
        "id": "e45c7cd8-23b4-4df2-b358-dd542d6c81b2",
        "outputId": "4be84f16-831d-41dc-c7f7-93d1bdb92737"
      },
      "outputs": [
        {
          "data": {
            "text/plain": [
              "<tf.Tensor: shape=(1, 5, 5), dtype=float64, numpy=\n",
              "array([[[ 0.,  1.,  2.,  3.,  4.],\n",
              "        [ 5.,  6.,  7.,  8.,  9.],\n",
              "        [10., 11., 12., 13., 14.],\n",
              "        [15., 16., 17., 18., 19.],\n",
              "        [20., 21., 22., 23., 24.]]])>"
            ]
          },
          "execution_count": 198,
          "metadata": {},
          "output_type": "execute_result"
        }
      ],
      "source": [
        "XXX.reshape(1,5,5) ## 입력: XXX"
      ]
    },
    {
      "cell_type": "code",
      "execution_count": null,
      "id": "53796db5-e9b9-484b-8698-75b1fd4e894d",
      "metadata": {
        "id": "53796db5-e9b9-484b-8698-75b1fd4e894d",
        "outputId": "85fd06ea-50bf-4971-89e8-4166cf1f8986"
      },
      "outputs": [
        {
          "data": {
            "text/plain": [
              "<tf.Tensor: shape=(3, 3), dtype=float32, numpy=\n",
              "array([[-0.08676198, -0.1595147 , -0.13450584],\n",
              "       [-0.4105929 , -0.38366908,  0.07744962],\n",
              "       [-0.09255642,  0.4915564 ,  0.20828158]], dtype=float32)>"
            ]
          },
          "execution_count": 199,
          "metadata": {},
          "output_type": "execute_result"
        }
      ],
      "source": [
        "tf.reshape(cnv.weights[0],(3,3)) ## 커널의 가중치 "
      ]
    },
    {
      "cell_type": "code",
      "execution_count": null,
      "id": "88b90786-2370-49c9-b02e-5cae590f1fc5",
      "metadata": {
        "id": "88b90786-2370-49c9-b02e-5cae590f1fc5",
        "outputId": "11bf9d4d-69b6-47cf-feee-dd0985cfd0e0"
      },
      "outputs": [
        {
          "data": {
            "text/plain": [
              "<tf.Tensor: shape=(1, 3, 3), dtype=float32, numpy=\n",
              "array([[[ 2.7395768 ,  2.2492635 ,  1.7589504 ],\n",
              "        [ 0.28801066, -0.20230258, -0.6926158 ],\n",
              "        [-2.1635566 , -2.6538715 , -3.1441827 ]]], dtype=float32)>"
            ]
          },
          "execution_count": 200,
          "metadata": {},
          "output_type": "execute_result"
        }
      ],
      "source": [
        "cnv(XXX).reshape(1,3,3) ## 출력: conv(XXX)"
      ]
    },
    {
      "cell_type": "code",
      "execution_count": null,
      "id": "67a4337a-4640-4a07-8622-c55c870ade0a",
      "metadata": {
        "id": "67a4337a-4640-4a07-8622-c55c870ade0a",
        "outputId": "a3c09adc-5bad-4d1b-ad1b-32317daf6e2f"
      },
      "outputs": [
        {
          "data": {
            "text/plain": [
              "<tf.Tensor: shape=(), dtype=float64, numpy=2.739577144384384>"
            ]
          },
          "execution_count": 201,
          "metadata": {},
          "output_type": "execute_result"
        }
      ],
      "source": [
        "tf.reduce_sum(XXX.reshape(1,5,5)[0,:3,:3] * tf.reshape(cnv.weights[0],(3,3)))"
      ]
    },
    {
      "cell_type": "markdown",
      "id": "028b335c-9542-4b20-9d4a-a9339409da18",
      "metadata": {
        "tags": [],
        "id": "028b335c-9542-4b20-9d4a-a9339409da18"
      },
      "source": [
        "#### 테스트3"
      ]
    },
    {
      "cell_type": "code",
      "execution_count": null,
      "id": "7d5400ff-3ce2-4cbe-b89c-08bf69c23a50",
      "metadata": {
        "id": "7d5400ff-3ce2-4cbe-b89c-08bf69c23a50"
      },
      "outputs": [],
      "source": [
        ""
      ]
    },
    {
      "cell_type": "code",
      "execution_count": null,
      "id": "37e2809b-dba1-4e12-ac96-9bb3c82c2859",
      "metadata": {
        "id": "37e2809b-dba1-4e12-ac96-9bb3c82c2859"
      },
      "outputs": [],
      "source": [
        ""
      ]
    },
    {
      "cell_type": "code",
      "execution_count": null,
      "id": "241318e8-214f-4265-9038-7ebebd02a900",
      "metadata": {
        "id": "241318e8-214f-4265-9038-7ebebd02a900"
      },
      "outputs": [],
      "source": [
        ""
      ]
    },
    {
      "cell_type": "code",
      "execution_count": null,
      "id": "411acaf9-6713-4a38-a4e1-92a917db70dc",
      "metadata": {
        "id": "411acaf9-6713-4a38-a4e1-92a917db70dc"
      },
      "outputs": [],
      "source": [
        ""
      ]
    },
    {
      "cell_type": "markdown",
      "id": "8e8bc870-998f-4daf-a119-c74692af61fa",
      "metadata": {
        "id": "8e8bc870-998f-4daf-a119-c74692af61fa"
      },
      "source": [
        "![](https://github.com/guebin/2021BDA/blob/master/_notebooks/2021-11-04-conv.png?raw=true)"
      ]
    },
    {
      "cell_type": "code",
      "execution_count": null,
      "id": "d8c19f60-8f35-4cde-8b69-649d5d994322",
      "metadata": {
        "id": "d8c19f60-8f35-4cde-8b69-649d5d994322"
      },
      "outputs": [],
      "source": [
        ""
      ]
    }
  ],
  "metadata": {
    "kernelspec": {
      "display_name": "Python 3 (ipykernel)",
      "language": "python",
      "name": "python3"
    },
    "language_info": {
      "codemirror_mode": {
        "name": "ipython",
        "version": 3
      },
      "file_extension": ".py",
      "mimetype": "text/x-python",
      "name": "python",
      "nbconvert_exporter": "python",
      "pygments_lexer": "ipython3",
      "version": "3.10.2"
    },
    "colab": {
      "name": "2022-05-16-(11주차) 5월16일.ipynb",
      "provenance": []
    }
  },
  "nbformat": 4,
  "nbformat_minor": 5
}