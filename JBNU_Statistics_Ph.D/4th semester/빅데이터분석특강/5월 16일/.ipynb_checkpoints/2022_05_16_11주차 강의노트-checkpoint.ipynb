{
 "cells": [
  {
   "cell_type": "markdown",
   "id": "2fa2a175-6e8f-4f82-9261-5edb00541409",
   "metadata": {
    "id": "2fa2a175-6e8f-4f82-9261-5edb00541409"
   },
   "source": [
    "# (11주차) 5월16일 \n",
    "\n",
    "- toc:true\n",
    "- branch: master\n",
    "- badges: true\n",
    "- comments: true\n",
    "- author: 최규빈"
   ]
  },
  {
   "cell_type": "markdown",
   "id": "7918c1da-8764-48ff-b894-0e9d71dedcfc",
   "metadata": {
    "id": "7918c1da-8764-48ff-b894-0e9d71dedcfc"
   },
   "source": [
    "### 강의영상 "
   ]
  },
  {
   "cell_type": "markdown",
   "id": "509e902e-f2c9-4d73-a6c1-45e76c7a979a",
   "metadata": {
    "id": "509e902e-f2c9-4d73-a6c1-45e76c7a979a"
   },
   "source": [
    ">youtube: https://youtube.com/playlist?list=PLQqh36zP38-wlEuWT75L4hqGNEwoPpjWw"
   ]
  },
  {
   "cell_type": "markdown",
   "id": "16dc582e-8b7b-4713-858e-f0efdfd98b10",
   "metadata": {
    "id": "16dc582e-8b7b-4713-858e-f0efdfd98b10"
   },
   "source": [
    "### imports"
   ]
  },
  {
   "cell_type": "code",
   "execution_count": 1,
   "id": "1f9b3e9e-4af0-47b9-84c9-a82d1b7b9d31",
   "metadata": {
    "id": "1f9b3e9e-4af0-47b9-84c9-a82d1b7b9d31"
   },
   "outputs": [],
   "source": [
    "import tensorflow as tf \n",
    "import tensorflow.experimental.numpy as tnp \n",
    "import numpy as np \n",
    "import matplotlib.pyplot as plt"
   ]
  },
  {
   "cell_type": "code",
   "execution_count": 2,
   "id": "4aff778e-c93c-425d-8cbb-28652367c5b2",
   "metadata": {
    "id": "4aff778e-c93c-425d-8cbb-28652367c5b2"
   },
   "outputs": [],
   "source": [
    "tnp.experimental_enable_numpy_behavior()"
   ]
  },
  {
   "cell_type": "code",
   "execution_count": 3,
   "id": "7207e6aa-0a59-41e2-aac3-89d2efb5f6c1",
   "metadata": {
    "id": "7207e6aa-0a59-41e2-aac3-89d2efb5f6c1"
   },
   "outputs": [
    {
     "name": "stdout",
     "output_type": "stream",
     "text": [
      "Downloading data from https://storage.googleapis.com/tensorflow/tf-keras-datasets/train-labels-idx1-ubyte.gz\n",
      "32768/29515 [=================================] - 0s 0us/step\n",
      "40960/29515 [=========================================] - 0s 0us/step\n",
      "Downloading data from https://storage.googleapis.com/tensorflow/tf-keras-datasets/train-images-idx3-ubyte.gz\n",
      "26427392/26421880 [==============================] - 3s 0us/step\n",
      "26435584/26421880 [==============================] - 3s 0us/step\n",
      "Downloading data from https://storage.googleapis.com/tensorflow/tf-keras-datasets/t10k-labels-idx1-ubyte.gz\n",
      "16384/5148 [===============================================================================================] - 0s 0s/step\n",
      "Downloading data from https://storage.googleapis.com/tensorflow/tf-keras-datasets/t10k-images-idx3-ubyte.gz\n",
      "4423680/4422102 [==============================] - 0s 0us/step\n",
      "4431872/4422102 [==============================] - 0s 0us/step\n"
     ]
    }
   ],
   "source": [
    "(x_train, y_train), (x_test, y_test) = tf.keras.datasets.fashion_mnist.load_data()"
   ]
  },
  {
   "cell_type": "code",
   "execution_count": 4,
   "id": "da80b9e5-d7dc-40c9-8d00-65bba5638e30",
   "metadata": {
    "id": "da80b9e5-d7dc-40c9-8d00-65bba5638e30"
   },
   "outputs": [],
   "source": [
    "X = tf.constant(x_train.reshape(-1,28,28,1),dtype=tf.float64)\n",
    "y = tf.keras.utils.to_categorical(y_train)\n",
    "XX = tf.constant(x_test.reshape(-1,28,28,1),dtype=tf.float64)\n",
    "yy = tf.keras.utils.to_categorical(y_test)"
   ]
  },
  {
   "cell_type": "markdown",
   "id": "699b2db5-eb9a-443c-9924-b28056e24d99",
   "metadata": {
    "id": "699b2db5-eb9a-443c-9924-b28056e24d99"
   },
   "source": [
    "`-` 첫시도"
   ]
  },
  {
   "cell_type": "code",
   "execution_count": 5,
   "id": "d630e3e0-2574-4ad4-91d5-a05c73bf8fc5",
   "metadata": {
    "id": "d630e3e0-2574-4ad4-91d5-a05c73bf8fc5",
    "outputId": "6168d658-af46-40c3-d8a4-f36efb1ef14c"
   },
   "outputs": [
    {
     "name": "stdout",
     "output_type": "stream",
     "text": [
      "Epoch 1/5\n",
      "1875/1875 [==============================] - 13s 7ms/step - loss: 1.0583 - accuracy: 0.7899\n",
      "Epoch 2/5\n",
      "1875/1875 [==============================] - 24s 13ms/step - loss: 0.4426 - accuracy: 0.8429\n",
      "Epoch 3/5\n",
      "1875/1875 [==============================] - 19s 10ms/step - loss: 0.4131 - accuracy: 0.8529\n",
      "Epoch 4/5\n",
      "1875/1875 [==============================] - 18s 9ms/step - loss: 0.3915 - accuracy: 0.8602\n",
      "Epoch 5/5\n",
      "1875/1875 [==============================] - 16s 8ms/step - loss: 0.3769 - accuracy: 0.8649\n"
     ]
    },
    {
     "data": {
      "text/plain": [
       "<keras.callbacks.History at 0x18cfec09a00>"
      ]
     },
     "execution_count": 5,
     "metadata": {},
     "output_type": "execute_result"
    }
   ],
   "source": [
    "net1 = tf.keras.Sequential()\n",
    "net1.add(tf.keras.layers.Flatten())\n",
    "net1.add(tf.keras.layers.Dense(500,activation='relu'))\n",
    "net1.add(tf.keras.layers.Dense(500,activation='relu'))\n",
    "net1.add(tf.keras.layers.Dense(500,activation='relu'))\n",
    "net1.add(tf.keras.layers.Dense(500,activation='relu'))\n",
    "net1.add(tf.keras.layers.Dense(10,activation='softmax'))\n",
    "net1.compile(optimizer='adam', loss=tf.losses.categorical_crossentropy,metrics='accuracy')\n",
    "net1.fit(X,y,epochs=5)"
   ]
  },
  {
   "cell_type": "code",
   "execution_count": 6,
   "id": "2d5f021f-b06f-4cbb-875c-2eff3c2b2e2f",
   "metadata": {
    "id": "2d5f021f-b06f-4cbb-875c-2eff3c2b2e2f",
    "outputId": "026ec938-1c36-4cdb-9f86-cb2af8ad5659"
   },
   "outputs": [
    {
     "name": "stdout",
     "output_type": "stream",
     "text": [
      "313/313 [==============================] - 1s 4ms/step - loss: 0.4459 - accuracy: 0.8413\n"
     ]
    },
    {
     "data": {
      "text/plain": [
       "[0.44586020708084106, 0.8413000106811523]"
      ]
     },
     "execution_count": 6,
     "metadata": {},
     "output_type": "execute_result"
    }
   ],
   "source": [
    "net1.evaluate(XX,yy)"
   ]
  },
  {
   "cell_type": "code",
   "execution_count": 7,
   "id": "2222d929-7784-48d6-af5f-944682165714",
   "metadata": {
    "id": "2222d929-7784-48d6-af5f-944682165714",
    "outputId": "b26ba38b-e2ad-4c8b-e0d3-3b34606d130f"
   },
   "outputs": [
    {
     "name": "stdout",
     "output_type": "stream",
     "text": [
      "Model: \"sequential\"\n",
      "_________________________________________________________________\n",
      " Layer (type)                Output Shape              Param #   \n",
      "=================================================================\n",
      " flatten (Flatten)           (None, 784)               0         \n",
      "                                                                 \n",
      " dense (Dense)               (None, 500)               392500    \n",
      "                                                                 \n",
      " dense_1 (Dense)             (None, 500)               250500    \n",
      "                                                                 \n",
      " dense_2 (Dense)             (None, 500)               250500    \n",
      "                                                                 \n",
      " dense_3 (Dense)             (None, 500)               250500    \n",
      "                                                                 \n",
      " dense_4 (Dense)             (None, 10)                5010      \n",
      "                                                                 \n",
      "=================================================================\n",
      "Total params: 1,149,010\n",
      "Trainable params: 1,149,010\n",
      "Non-trainable params: 0\n",
      "_________________________________________________________________\n"
     ]
    }
   ],
   "source": [
    "net1.summary()"
   ]
  },
  {
   "cell_type": "markdown",
   "id": "9c1bfa66-e9eb-4702-be68-8cad97aca26f",
   "metadata": {
    "id": "9c1bfa66-e9eb-4702-be68-8cad97aca26f"
   },
   "source": [
    "`-` 두번째 시도"
   ]
  },
  {
   "cell_type": "code",
   "execution_count": 8,
   "id": "fbd22327-6b70-4294-b035-405747d5e32e",
   "metadata": {
    "id": "fbd22327-6b70-4294-b035-405747d5e32e",
    "outputId": "458d0e6e-ae79-4ca8-8add-35ac1ccf8f9d"
   },
   "outputs": [
    {
     "name": "stdout",
     "output_type": "stream",
     "text": [
      "Epoch 1/5\n",
      "1875/1875 [==============================] - 17s 9ms/step - loss: 0.7925 - accuracy: 0.8052\n",
      "Epoch 2/5\n",
      "1875/1875 [==============================] - 20s 11ms/step - loss: 0.3811 - accuracy: 0.8630\n",
      "Epoch 3/5\n",
      "1875/1875 [==============================] - 18s 10ms/step - loss: 0.3433 - accuracy: 0.8755\n",
      "Epoch 4/5\n",
      "1875/1875 [==============================] - 17s 9ms/step - loss: 0.3176 - accuracy: 0.8860\n",
      "Epoch 5/5\n",
      "1875/1875 [==============================] - 24s 13ms/step - loss: 0.3005 - accuracy: 0.8903\n"
     ]
    },
    {
     "data": {
      "text/plain": [
       "<keras.callbacks.History at 0x18cff40abe0>"
      ]
     },
     "execution_count": 8,
     "metadata": {},
     "output_type": "execute_result"
    }
   ],
   "source": [
    "net2 = tf.keras.Sequential()\n",
    "net2.add(tf.keras.layers.Conv2D(30,(2,2),activation='relu'))\n",
    "net2.add(tf.keras.layers.MaxPool2D()) \n",
    "net2.add(tf.keras.layers.Conv2D(30,(2,2),activation='relu'))\n",
    "net2.add(tf.keras.layers.MaxPool2D()) \n",
    "net2.add(tf.keras.layers.Flatten())\n",
    "#net2.add(tf.keras.layers.Dense(500,activation='relu'))\n",
    "net2.add(tf.keras.layers.Dense(10,activation='softmax'))\n",
    "net2.compile(optimizer='adam', loss=tf.losses.categorical_crossentropy,metrics='accuracy')\n",
    "net2.fit(X,y,epochs=5)"
   ]
  },
  {
   "cell_type": "code",
   "execution_count": 9,
   "id": "3e177600-bdb3-4752-b07c-d46b953b3bf7",
   "metadata": {
    "id": "3e177600-bdb3-4752-b07c-d46b953b3bf7",
    "outputId": "2bc69689-58fc-4d05-f4d0-d6d9960125cc"
   },
   "outputs": [
    {
     "name": "stdout",
     "output_type": "stream",
     "text": [
      "313/313 [==============================] - 1s 3ms/step - loss: 0.3442 - accuracy: 0.8771\n"
     ]
    },
    {
     "data": {
      "text/plain": [
       "[0.34419435262680054, 0.8770999908447266]"
      ]
     },
     "execution_count": 9,
     "metadata": {},
     "output_type": "execute_result"
    }
   ],
   "source": [
    "net2.evaluate(XX,yy)"
   ]
  },
  {
   "cell_type": "code",
   "execution_count": 10,
   "id": "9d4f313d-e8b1-44ab-9921-ffef5b34cfa7",
   "metadata": {
    "id": "9d4f313d-e8b1-44ab-9921-ffef5b34cfa7",
    "outputId": "fc247ea0-c0b0-43bc-8fb9-1fa2ae9d5283"
   },
   "outputs": [
    {
     "name": "stdout",
     "output_type": "stream",
     "text": [
      "Model: \"sequential_1\"\n",
      "_________________________________________________________________\n",
      " Layer (type)                Output Shape              Param #   \n",
      "=================================================================\n",
      " conv2d (Conv2D)             (None, 27, 27, 30)        150       \n",
      "                                                                 \n",
      " max_pooling2d (MaxPooling2D  (None, 13, 13, 30)       0         \n",
      " )                                                               \n",
      "                                                                 \n",
      " conv2d_1 (Conv2D)           (None, 12, 12, 30)        3630      \n",
      "                                                                 \n",
      " max_pooling2d_1 (MaxPooling  (None, 6, 6, 30)         0         \n",
      " 2D)                                                             \n",
      "                                                                 \n",
      " flatten_1 (Flatten)         (None, 1080)              0         \n",
      "                                                                 \n",
      " dense_5 (Dense)             (None, 10)                10810     \n",
      "                                                                 \n",
      "=================================================================\n",
      "Total params: 14,590\n",
      "Trainable params: 14,590\n",
      "Non-trainable params: 0\n",
      "_________________________________________________________________\n"
     ]
    }
   ],
   "source": [
    "net2.summary()"
   ]
  },
  {
   "cell_type": "code",
   "execution_count": 11,
   "id": "792c1fe0-c8cc-4887-83ca-fc644a69067e",
   "metadata": {
    "id": "792c1fe0-c8cc-4887-83ca-fc644a69067e",
    "outputId": "77f25005-e50e-404b-f4af-77decb69e029"
   },
   "outputs": [
    {
     "data": {
      "text/plain": [
       "0.012697887746842934"
      ]
     },
     "execution_count": 11,
     "metadata": {},
     "output_type": "execute_result"
    }
   ],
   "source": [
    "14590/ 1149010"
   ]
  },
  {
   "cell_type": "code",
   "execution_count": 12,
   "id": "21ce9fe2-f5f9-49aa-93c4-a51e5efec519",
   "metadata": {
    "id": "21ce9fe2-f5f9-49aa-93c4-a51e5efec519"
   },
   "outputs": [],
   "source": [
    "c1, m1, c2, m2, flttn, dns = net2.layers"
   ]
  },
  {
   "cell_type": "code",
   "execution_count": 13,
   "id": "9f35432b-20ae-4e8e-ae9c-36f5d4937793",
   "metadata": {
    "id": "9f35432b-20ae-4e8e-ae9c-36f5d4937793",
    "outputId": "7f77839e-b621-4ab9-8faf-0b6b34f66325"
   },
   "outputs": [
    {
     "name": "stdout",
     "output_type": "stream",
     "text": [
      "(60000, 28, 28, 1)\n",
      "(60000, 27, 27, 30)\n",
      "(60000, 13, 13, 30)\n",
      "(60000, 12, 12, 30)\n",
      "(60000, 6, 6, 30)\n",
      "(60000, 1080)\n",
      "(60000, 10)\n"
     ]
    }
   ],
   "source": [
    "print(X.shape) # 입력이미지 = 2D \n",
    "print(c1(X).shape) #2D \n",
    "print(m1(c1(X)).shape)  #2D\n",
    "print(c2(m1(c1(X))).shape) #2D\n",
    "print(m2(c2(m1(c1(X)))).shape) #2D\n",
    "print(flttn(m2(c2(m1(c1(X))))).shape)# 1D\n",
    "print(dns(flttn(m2(c2(m1(c1(X)))))).shape)# 1D"
   ]
  },
  {
   "cell_type": "markdown",
   "id": "839c0c6e-42c8-42f8-a95c-ec9dbf608f39",
   "metadata": {
    "id": "839c0c6e-42c8-42f8-a95c-ec9dbf608f39"
   },
   "source": [
    "### MaxPool2D"
   ]
  },
  {
   "cell_type": "markdown",
   "id": "71fa4575-d08b-4419-a8ec-9fe34dc74bf4",
   "metadata": {
    "id": "71fa4575-d08b-4419-a8ec-9fe34dc74bf4"
   },
   "source": [
    "#### 테스트1"
   ]
  },
  {
   "cell_type": "markdown",
   "id": "42f18227-357c-48ce-b98d-c6d418e3b9d1",
   "metadata": {
    "id": "42f18227-357c-48ce-b98d-c6d418e3b9d1"
   },
   "source": [
    "`-` 레이어생성 "
   ]
  },
  {
   "cell_type": "code",
   "execution_count": 14,
   "id": "7791681d-c677-41d9-81ff-d4b0e2d38760",
   "metadata": {
    "id": "7791681d-c677-41d9-81ff-d4b0e2d38760"
   },
   "outputs": [],
   "source": [
    "m=tf.keras.layers.MaxPool2D()"
   ]
  },
  {
   "cell_type": "markdown",
   "id": "eb74ca8a-0f15-47d9-b57e-0e6b6f5076fc",
   "metadata": {
    "id": "eb74ca8a-0f15-47d9-b57e-0e6b6f5076fc"
   },
   "source": [
    "`-` 입력데이터"
   ]
  },
  {
   "cell_type": "code",
   "execution_count": 15,
   "id": "01cb3396-d796-4182-8887-8ddda02b066d",
   "metadata": {
    "id": "01cb3396-d796-4182-8887-8ddda02b066d",
    "outputId": "121f975e-d336-4161-b1da-1c1eb897affd"
   },
   "outputs": [
    {
     "data": {
      "text/plain": [
       "<tf.Tensor: shape=(1, 4, 4), dtype=int32, numpy=\n",
       "array([[[ 0,  1,  2,  3],\n",
       "        [ 4,  5,  6,  7],\n",
       "        [ 8,  9, 10, 11],\n",
       "        [12, 13, 14, 15]]])>"
      ]
     },
     "execution_count": 15,
     "metadata": {},
     "output_type": "execute_result"
    }
   ],
   "source": [
    "XXX = tnp.arange(1*4*4*1).reshape(1,4,4,1)\n",
    "XXX.reshape(1,4,4)"
   ]
  },
  {
   "cell_type": "markdown",
   "id": "92ca3385-90a3-4c8d-8cde-5cc7b20fe743",
   "metadata": {
    "id": "92ca3385-90a3-4c8d-8cde-5cc7b20fe743"
   },
   "source": [
    "`-` 입력데이터가 레이어를 통과한 모습"
   ]
  },
  {
   "cell_type": "code",
   "execution_count": 16,
   "id": "f253fa29-e6f1-4e97-b9f2-5d1ecb7e3325",
   "metadata": {
    "id": "f253fa29-e6f1-4e97-b9f2-5d1ecb7e3325",
    "outputId": "e8878613-c296-4f7c-a2fb-a069830d37e2"
   },
   "outputs": [
    {
     "data": {
      "text/plain": [
       "<tf.Tensor: shape=(1, 2, 2), dtype=int32, numpy=\n",
       "array([[[ 5,  7],\n",
       "        [13, 15]]])>"
      ]
     },
     "execution_count": 16,
     "metadata": {},
     "output_type": "execute_result"
    }
   ],
   "source": [
    "m(XXX).reshape(1,2,2)"
   ]
  },
  {
   "cell_type": "markdown",
   "id": "3b70c614-a997-4d5c-8396-52cc18199d38",
   "metadata": {
    "id": "3b70c614-a997-4d5c-8396-52cc18199d38"
   },
   "source": [
    "`-` MaxPool2D layer의 역할: (2,2)윈도우를 만들고 (2,2)윈도우에서 max를 뽑아 값을 기록, 윈도우를 움직이면서 반복 "
   ]
  },
  {
   "cell_type": "markdown",
   "id": "f633e962-ae8c-4118-9b97-ca2f72b563c5",
   "metadata": {
    "id": "f633e962-ae8c-4118-9b97-ca2f72b563c5"
   },
   "source": [
    "#### 테스트2"
   ]
  },
  {
   "cell_type": "code",
   "execution_count": 17,
   "id": "a32cd4dc-5ee1-4b06-bfa2-4802662073dc",
   "metadata": {
    "id": "a32cd4dc-5ee1-4b06-bfa2-4802662073dc",
    "outputId": "bd5d6753-09ff-4d2b-9f5c-6b437d634086"
   },
   "outputs": [
    {
     "data": {
      "text/plain": [
       "<tf.Tensor: shape=(1, 6, 6), dtype=int32, numpy=\n",
       "array([[[ 0,  1,  2,  3,  4,  5],\n",
       "        [ 6,  7,  8,  9, 10, 11],\n",
       "        [12, 13, 14, 15, 16, 17],\n",
       "        [18, 19, 20, 21, 22, 23],\n",
       "        [24, 25, 26, 27, 28, 29],\n",
       "        [30, 31, 32, 33, 34, 35]]])>"
      ]
     },
     "execution_count": 17,
     "metadata": {},
     "output_type": "execute_result"
    }
   ],
   "source": [
    "XXX = tnp.arange(1*6*6*1).reshape(1,6,6,1)\n",
    "XXX.reshape(1,6,6)"
   ]
  },
  {
   "cell_type": "code",
   "execution_count": 18,
   "id": "d5022e2c-0ec3-4250-aa43-83f3e4fd0294",
   "metadata": {
    "id": "d5022e2c-0ec3-4250-aa43-83f3e4fd0294",
    "outputId": "d36b2782-7a42-41fb-beda-929dffd43ee3"
   },
   "outputs": [
    {
     "data": {
      "text/plain": [
       "<tf.Tensor: shape=(1, 3, 3), dtype=int32, numpy=\n",
       "array([[[ 7,  9, 11],\n",
       "        [19, 21, 23],\n",
       "        [31, 33, 35]]])>"
      ]
     },
     "execution_count": 18,
     "metadata": {},
     "output_type": "execute_result"
    }
   ],
   "source": [
    "m(XXX).reshape(1,3,3)"
   ]
  },
  {
   "cell_type": "markdown",
   "id": "0d2dd6b0-dbee-416b-8a34-546d383bdbad",
   "metadata": {
    "id": "0d2dd6b0-dbee-416b-8a34-546d383bdbad"
   },
   "source": [
    "#### 테스트3"
   ]
  },
  {
   "cell_type": "code",
   "execution_count": 19,
   "id": "db7eb3a2-c78c-49ab-a437-f771caecc0b5",
   "metadata": {
    "id": "db7eb3a2-c78c-49ab-a437-f771caecc0b5"
   },
   "outputs": [],
   "source": [
    "m=tf.keras.layers.MaxPool2D(pool_size=(3, 3))"
   ]
  },
  {
   "cell_type": "code",
   "execution_count": 20,
   "id": "85a7f0ca-435b-46b9-b8fb-423278d167b7",
   "metadata": {
    "id": "85a7f0ca-435b-46b9-b8fb-423278d167b7",
    "outputId": "0edd3b47-eadd-4267-99d8-c149862e144a"
   },
   "outputs": [
    {
     "data": {
      "text/plain": [
       "<tf.Tensor: shape=(1, 6, 6), dtype=int32, numpy=\n",
       "array([[[ 0,  1,  2,  3,  4,  5],\n",
       "        [ 6,  7,  8,  9, 10, 11],\n",
       "        [12, 13, 14, 15, 16, 17],\n",
       "        [18, 19, 20, 21, 22, 23],\n",
       "        [24, 25, 26, 27, 28, 29],\n",
       "        [30, 31, 32, 33, 34, 35]]])>"
      ]
     },
     "execution_count": 20,
     "metadata": {},
     "output_type": "execute_result"
    }
   ],
   "source": [
    "XXX = tnp.arange(1*6*6*1).reshape(1,6,6,1)\n",
    "XXX.reshape(1,6,6)"
   ]
  },
  {
   "cell_type": "code",
   "execution_count": 21,
   "id": "7e220b5d-b351-4364-8107-0ff98fd916da",
   "metadata": {
    "id": "7e220b5d-b351-4364-8107-0ff98fd916da",
    "outputId": "8d9c7107-6b09-45b0-9423-b84e757e4795"
   },
   "outputs": [
    {
     "data": {
      "text/plain": [
       "<tf.Tensor: shape=(1, 2, 2), dtype=int32, numpy=\n",
       "array([[[14, 17],\n",
       "        [32, 35]]])>"
      ]
     },
     "execution_count": 21,
     "metadata": {},
     "output_type": "execute_result"
    }
   ],
   "source": [
    "m(XXX).reshape(1,2,2)"
   ]
  },
  {
   "cell_type": "markdown",
   "id": "b5a12865-d4fb-4076-a0df-3276ab405566",
   "metadata": {
    "id": "b5a12865-d4fb-4076-a0df-3276ab405566"
   },
   "source": [
    "#### 테스트4"
   ]
  },
  {
   "cell_type": "code",
   "execution_count": 22,
   "id": "bdafc487-20d0-4c13-83c9-e13eb9e14d8a",
   "metadata": {
    "id": "bdafc487-20d0-4c13-83c9-e13eb9e14d8a"
   },
   "outputs": [],
   "source": [
    "m=tf.keras.layers.MaxPool2D(pool_size=(2, 2))"
   ]
  },
  {
   "cell_type": "code",
   "execution_count": 23,
   "id": "5fdc2953-de7c-4542-b7ff-e177581862da",
   "metadata": {
    "id": "5fdc2953-de7c-4542-b7ff-e177581862da",
    "outputId": "ff078a70-2bb9-44d5-bb5c-06da08eaa2b8"
   },
   "outputs": [
    {
     "data": {
      "text/plain": [
       "<tf.Tensor: shape=(1, 5, 5), dtype=int32, numpy=\n",
       "array([[[ 0,  1,  2,  3,  4],\n",
       "        [ 5,  6,  7,  8,  9],\n",
       "        [10, 11, 12, 13, 14],\n",
       "        [15, 16, 17, 18, 19],\n",
       "        [20, 21, 22, 23, 24]]])>"
      ]
     },
     "execution_count": 23,
     "metadata": {},
     "output_type": "execute_result"
    }
   ],
   "source": [
    "XXX = tnp.arange(1*5*5*1).reshape(1,5,5,1)\n",
    "XXX.reshape(1,5,5)"
   ]
  },
  {
   "cell_type": "code",
   "execution_count": 24,
   "id": "88423b66-9fd6-4a30-a4da-061cbe97017c",
   "metadata": {
    "id": "88423b66-9fd6-4a30-a4da-061cbe97017c",
    "outputId": "52260785-926c-4df8-e6fb-c77ae61d17d8"
   },
   "outputs": [
    {
     "data": {
      "text/plain": [
       "<tf.Tensor: shape=(1, 2, 2), dtype=int32, numpy=\n",
       "array([[[ 6,  8],\n",
       "        [16, 18]]])>"
      ]
     },
     "execution_count": 24,
     "metadata": {},
     "output_type": "execute_result"
    }
   ],
   "source": [
    "m(XXX).reshape(1,2,2)"
   ]
  },
  {
   "cell_type": "code",
   "execution_count": 25,
   "id": "34b07753-2418-40ca-ac27-870b571a807c",
   "metadata": {
    "id": "34b07753-2418-40ca-ac27-870b571a807c"
   },
   "outputs": [],
   "source": [
    "m=tf.keras.layers.MaxPool2D(pool_size=(2, 2),padding=\"same\")"
   ]
  },
  {
   "cell_type": "code",
   "execution_count": 26,
   "id": "bf7c74ae-1bf4-4f33-bab3-383d2d6f80be",
   "metadata": {
    "id": "bf7c74ae-1bf4-4f33-bab3-383d2d6f80be",
    "outputId": "e19ab525-218a-4356-e14d-a04e4f5b4805"
   },
   "outputs": [
    {
     "data": {
      "text/plain": [
       "<tf.Tensor: shape=(1, 5, 5), dtype=int32, numpy=\n",
       "array([[[ 0,  1,  2,  3,  4],\n",
       "        [ 5,  6,  7,  8,  9],\n",
       "        [10, 11, 12, 13, 14],\n",
       "        [15, 16, 17, 18, 19],\n",
       "        [20, 21, 22, 23, 24]]])>"
      ]
     },
     "execution_count": 26,
     "metadata": {},
     "output_type": "execute_result"
    }
   ],
   "source": [
    "XXX = tnp.arange(1*5*5*1).reshape(1,5,5,1)\n",
    "XXX.reshape(1,5,5)"
   ]
  },
  {
   "cell_type": "code",
   "execution_count": 27,
   "id": "3b485719-ff9d-49b0-a9b4-dbbb391f532e",
   "metadata": {
    "id": "3b485719-ff9d-49b0-a9b4-dbbb391f532e",
    "outputId": "d98c2402-f05b-41af-e00d-edb901298c4b"
   },
   "outputs": [
    {
     "data": {
      "text/plain": [
       "<tf.Tensor: shape=(1, 3, 3), dtype=int32, numpy=\n",
       "array([[[ 6,  8,  9],\n",
       "        [16, 18, 19],\n",
       "        [21, 23, 24]]])>"
      ]
     },
     "execution_count": 27,
     "metadata": {},
     "output_type": "execute_result"
    }
   ],
   "source": [
    "m(XXX).reshape(1,3,3)"
   ]
  },
  {
   "cell_type": "markdown",
   "id": "455d6c71-f73a-4bcd-a4d9-33fce216e073",
   "metadata": {
    "id": "455d6c71-f73a-4bcd-a4d9-33fce216e073"
   },
   "source": [
    "#### 테스트5 "
   ]
  },
  {
   "cell_type": "code",
   "execution_count": 28,
   "id": "e7fe1b09-07f7-4746-8bba-ba589b5603dd",
   "metadata": {
    "id": "e7fe1b09-07f7-4746-8bba-ba589b5603dd",
    "outputId": "a6957238-d9d7-496a-df82-5519ba98fc22"
   },
   "outputs": [
    {
     "data": {
      "text/plain": [
       "<tf.Tensor: shape=(2, 4, 4), dtype=int32, numpy=\n",
       "array([[[ 0,  1,  2,  3],\n",
       "        [ 4,  5,  6,  7],\n",
       "        [ 8,  9, 10, 11],\n",
       "        [12, 13, 14, 15]],\n",
       "\n",
       "       [[16, 17, 18, 19],\n",
       "        [20, 21, 22, 23],\n",
       "        [24, 25, 26, 27],\n",
       "        [28, 29, 30, 31]]])>"
      ]
     },
     "execution_count": 28,
     "metadata": {},
     "output_type": "execute_result"
    }
   ],
   "source": [
    "XXX = tnp.arange(2*4*4*1).reshape(2,4,4,1)\n",
    "XXX.reshape(2,4,4)"
   ]
  },
  {
   "cell_type": "code",
   "execution_count": 29,
   "id": "6a9dee7b-22cc-46b9-9d20-757f5c904b43",
   "metadata": {
    "id": "6a9dee7b-22cc-46b9-9d20-757f5c904b43",
    "outputId": "698df478-bb0a-4786-c010-addd8dae032d"
   },
   "outputs": [
    {
     "data": {
      "text/plain": [
       "<tf.Tensor: shape=(2, 2, 2), dtype=int32, numpy=\n",
       "array([[[ 5,  7],\n",
       "        [13, 15]],\n",
       "\n",
       "       [[21, 23],\n",
       "        [29, 31]]])>"
      ]
     },
     "execution_count": 29,
     "metadata": {},
     "output_type": "execute_result"
    }
   ],
   "source": [
    "m(XXX).reshape(2,2,2)"
   ]
  },
  {
   "cell_type": "markdown",
   "id": "0d23dad2-5e71-4f6b-986b-6f620c32b9ac",
   "metadata": {
    "id": "0d23dad2-5e71-4f6b-986b-6f620c32b9ac"
   },
   "source": [
    "#### 테스트6"
   ]
  },
  {
   "cell_type": "code",
   "execution_count": 30,
   "id": "feba1874-dc57-4fb1-8b4f-99896602cef9",
   "metadata": {
    "id": "feba1874-dc57-4fb1-8b4f-99896602cef9"
   },
   "outputs": [],
   "source": [
    "XXX = tnp.arange(1*4*4*3).reshape(1,4,4,3)"
   ]
  },
  {
   "cell_type": "code",
   "execution_count": 31,
   "id": "d9e57c14-10d4-405d-aa81-315474f0eedb",
   "metadata": {
    "id": "d9e57c14-10d4-405d-aa81-315474f0eedb",
    "outputId": "6eb4daf0-e6d2-4a0b-99cc-0af2c09c6907"
   },
   "outputs": [
    {
     "data": {
      "text/plain": [
       "<tf.Tensor: shape=(1, 4, 4), dtype=int32, numpy=\n",
       "array([[[ 0,  3,  6,  9],\n",
       "        [12, 15, 18, 21],\n",
       "        [24, 27, 30, 33],\n",
       "        [36, 39, 42, 45]]])>"
      ]
     },
     "execution_count": 31,
     "metadata": {},
     "output_type": "execute_result"
    }
   ],
   "source": [
    "XXX[...,0]"
   ]
  },
  {
   "cell_type": "code",
   "execution_count": 32,
   "id": "14d25cc5-4f2a-404c-9380-f5e9a11a51ed",
   "metadata": {
    "id": "14d25cc5-4f2a-404c-9380-f5e9a11a51ed",
    "outputId": "6fd30a12-8df9-4599-d620-ad026926adbb"
   },
   "outputs": [
    {
     "data": {
      "text/plain": [
       "<tf.Tensor: shape=(1, 2, 2), dtype=int32, numpy=\n",
       "array([[[15, 21],\n",
       "        [39, 45]]])>"
      ]
     },
     "execution_count": 32,
     "metadata": {},
     "output_type": "execute_result"
    }
   ],
   "source": [
    "m(XXX)[...,0]"
   ]
  },
  {
   "cell_type": "markdown",
   "id": "1e733af5-480e-4deb-95a3-7173592ff3b3",
   "metadata": {
    "id": "1e733af5-480e-4deb-95a3-7173592ff3b3"
   },
   "source": [
    "### Conv2D "
   ]
  },
  {
   "cell_type": "markdown",
   "id": "a75334b8-4153-48aa-82af-6188bb55b61f",
   "metadata": {
    "id": "a75334b8-4153-48aa-82af-6188bb55b61f"
   },
   "source": [
    "#### 테스트1"
   ]
  },
  {
   "cell_type": "markdown",
   "id": "ad28e8f6-8b8a-48a5-a955-15c9fc24fb60",
   "metadata": {
    "id": "ad28e8f6-8b8a-48a5-a955-15c9fc24fb60"
   },
   "source": [
    "`-` 레이어생성 "
   ]
  },
  {
   "cell_type": "code",
   "execution_count": 33,
   "id": "31abec64-855b-4a27-9299-35c9f78ce6ee",
   "metadata": {
    "id": "31abec64-855b-4a27-9299-35c9f78ce6ee"
   },
   "outputs": [],
   "source": [
    "cnv = tf.keras.layers.Conv2D(1,(2,2))"
   ]
  },
  {
   "cell_type": "markdown",
   "id": "17ee313a-15b7-4fbf-99b3-7fe5ba596256",
   "metadata": {
    "id": "17ee313a-15b7-4fbf-99b3-7fe5ba596256"
   },
   "source": [
    "`-` XXX생성 "
   ]
  },
  {
   "cell_type": "code",
   "execution_count": 34,
   "id": "1d6b3e52-b510-455c-b1dd-fe3f1a52c2c2",
   "metadata": {
    "id": "1d6b3e52-b510-455c-b1dd-fe3f1a52c2c2",
    "outputId": "5d84ec45-480e-4ead-e732-9b0798300c5c"
   },
   "outputs": [
    {
     "data": {
      "text/plain": [
       "<tf.Tensor: shape=(1, 4, 4), dtype=float64, numpy=\n",
       "array([[[ 0.,  1.,  2.,  3.],\n",
       "        [ 4.,  5.,  6.,  7.],\n",
       "        [ 8.,  9., 10., 11.],\n",
       "        [12., 13., 14., 15.]]])>"
      ]
     },
     "execution_count": 34,
     "metadata": {},
     "output_type": "execute_result"
    }
   ],
   "source": [
    "XXX = tnp.arange(1*4*4*1,dtype=tf.float64).reshape(1,4,4,1)\n",
    "XXX.reshape(1,4,4)"
   ]
  },
  {
   "cell_type": "code",
   "execution_count": 35,
   "id": "30114419-cafa-4278-b557-c64c4f20a1a7",
   "metadata": {
    "id": "30114419-cafa-4278-b557-c64c4f20a1a7",
    "outputId": "64d00af6-0300-4ff2-819c-1772d574709f"
   },
   "outputs": [
    {
     "data": {
      "text/plain": [
       "<tf.Tensor: shape=(1, 3, 3), dtype=float32, numpy=\n",
       "array([[[ 1.3178906 ,  1.012766  ,  0.70764136],\n",
       "        [ 0.09739208, -0.20773315, -0.5128577 ],\n",
       "        [-1.1231067 , -1.4282312 , -1.7333565 ]]], dtype=float32)>"
      ]
     },
     "execution_count": 35,
     "metadata": {},
     "output_type": "execute_result"
    }
   ],
   "source": [
    "cnv(XXX).reshape(1,3,3)"
   ]
  },
  {
   "cell_type": "markdown",
   "id": "9d6cf539-1d41-40a5-a692-ee19b9371ef1",
   "metadata": {
    "id": "9d6cf539-1d41-40a5-a692-ee19b9371ef1"
   },
   "source": [
    "- XXX에서 cnv(XXX)로 가는 맵핑을 찾는건 쉽지 않아보인다. \n",
    "- 심지어 랜덤으로 결정되는 부분도 있어보임 "
   ]
  },
  {
   "cell_type": "markdown",
   "id": "1d4167be-745e-42fa-bb2a-a2ea49aef019",
   "metadata": {
    "id": "1d4167be-745e-42fa-bb2a-a2ea49aef019"
   },
   "source": [
    "`-` 코드정리 + 시드통일"
   ]
  },
  {
   "cell_type": "code",
   "execution_count": 36,
   "id": "615584b9-7a3a-4064-9ebd-3687a2736bc6",
   "metadata": {
    "id": "615584b9-7a3a-4064-9ebd-3687a2736bc6"
   },
   "outputs": [],
   "source": [
    "tf.random.set_seed(43052)\n",
    "cnv = tf.keras.layers.Conv2D(1,(2,2))\n",
    "XXX = tnp.arange(1*4*4*1,dtype=tf.float64).reshape(1,4,4,1)"
   ]
  },
  {
   "cell_type": "markdown",
   "id": "d5662418-95c0-4321-8988-999292be75e5",
   "metadata": {
    "id": "d5662418-95c0-4321-8988-999292be75e5"
   },
   "source": [
    "`-` conv의 입출력"
   ]
  },
  {
   "cell_type": "code",
   "execution_count": 37,
   "id": "9cb0f4cb-3312-475c-a15c-30581e030e1e",
   "metadata": {
    "id": "9cb0f4cb-3312-475c-a15c-30581e030e1e",
    "outputId": "25f8a0d5-131f-4a57-a454-12cf503462d7"
   },
   "outputs": [
    {
     "name": "stdout",
     "output_type": "stream",
     "text": [
      "tf.Tensor(\n",
      "[[[ 0.  1.  2.  3.]\n",
      "  [ 4.  5.  6.  7.]\n",
      "  [ 8.  9. 10. 11.]\n",
      "  [12. 13. 14. 15.]]], shape=(1, 4, 4), dtype=float64)\n",
      "tf.Tensor(\n",
      "[[[ -4.125754   -5.312817   -6.4998803]\n",
      "  [ -8.874006  -10.0610695 -11.248133 ]\n",
      "  [-13.62226   -14.809322  -15.996386 ]]], shape=(1, 3, 3), dtype=float32)\n"
     ]
    }
   ],
   "source": [
    "print(XXX.reshape(1,4,4))\n",
    "print(cnv(XXX).reshape(1,3,3))"
   ]
  },
  {
   "cell_type": "markdown",
   "id": "e683e00e-3ace-45fc-a68d-29b7362dac79",
   "metadata": {
    "id": "e683e00e-3ace-45fc-a68d-29b7362dac79"
   },
   "source": [
    "`-` conv연산 추론"
   ]
  },
  {
   "cell_type": "code",
   "execution_count": 38,
   "id": "fb8240bc-4f38-4d35-9eed-b971503ab0e3",
   "metadata": {
    "id": "fb8240bc-4f38-4d35-9eed-b971503ab0e3",
    "outputId": "22d2fbaa-197a-4e45-dbc6-07bec62c4935"
   },
   "outputs": [
    {
     "data": {
      "text/plain": [
       "<tf.Tensor: shape=(2, 2), dtype=float32, numpy=\n",
       "array([[-0.13014299, -0.23927206],\n",
       "       [-0.20175874, -0.6158894 ]], dtype=float32)>"
      ]
     },
     "execution_count": 38,
     "metadata": {},
     "output_type": "execute_result"
    }
   ],
   "source": [
    "tf.reshape(cnv.weights[0],(2,2))"
   ]
  },
  {
   "cell_type": "code",
   "execution_count": 39,
   "id": "22a81c5d-6fb5-4b1f-8469-ac003c1d0997",
   "metadata": {
    "id": "22a81c5d-6fb5-4b1f-8469-ac003c1d0997",
    "outputId": "cdd59782-93c3-40e8-c139-e5ec640df679"
   },
   "outputs": [
    {
     "data": {
      "text/plain": [
       "-4.1257540200000005"
      ]
     },
     "execution_count": 39,
     "metadata": {},
     "output_type": "execute_result"
    }
   ],
   "source": [
    "0 * -0.13014299 + 1 * -0.23927206 + 4 * -0.20175874 + 5 * -0.6158894 + 0 "
   ]
  },
  {
   "cell_type": "markdown",
   "id": "01dd1fc6-0fec-46b8-aa6d-a5e0b8785e4b",
   "metadata": {
    "id": "01dd1fc6-0fec-46b8-aa6d-a5e0b8785e4b"
   },
   "source": [
    "`-` 내가 정의한 weights를 대입하여 conv 연산 확인"
   ]
  },
  {
   "cell_type": "code",
   "execution_count": 40,
   "id": "661a2dd8-6e85-4d0c-8d6f-d1e89d1221f5",
   "metadata": {
    "id": "661a2dd8-6e85-4d0c-8d6f-d1e89d1221f5",
    "outputId": "cd4f9e13-4f4a-4e74-da62-539630b43f6b"
   },
   "outputs": [
    {
     "data": {
      "text/plain": [
       "(2, 2, 1, 1)"
      ]
     },
     "execution_count": 40,
     "metadata": {},
     "output_type": "execute_result"
    }
   ],
   "source": [
    "cnv.get_weights()[0].shape"
   ]
  },
  {
   "cell_type": "code",
   "execution_count": 41,
   "id": "8a049192-d97f-40dd-845f-61bde27ee392",
   "metadata": {
    "id": "8a049192-d97f-40dd-845f-61bde27ee392"
   },
   "outputs": [],
   "source": [
    "w = np.array([1/4,1/4,1/4,1/4],dtype=np.float32).reshape(2, 2, 1, 1)\n",
    "b = np.array([3],dtype=np.float32)"
   ]
  },
  {
   "cell_type": "code",
   "execution_count": 42,
   "id": "3f691bc3-d9d2-4506-83ac-1ad69685d5b4",
   "metadata": {
    "id": "3f691bc3-d9d2-4506-83ac-1ad69685d5b4"
   },
   "outputs": [],
   "source": [
    "cnv.set_weights([w,b])"
   ]
  },
  {
   "cell_type": "code",
   "execution_count": 43,
   "id": "d0a02431-b115-4e72-8aac-c6ba035f2cdf",
   "metadata": {
    "id": "d0a02431-b115-4e72-8aac-c6ba035f2cdf",
    "outputId": "9f7e8b4e-0f6b-47e8-bec9-66ca26283cf0"
   },
   "outputs": [
    {
     "data": {
      "text/plain": [
       "<tf.Tensor: shape=(1, 4, 4), dtype=float64, numpy=\n",
       "array([[[ 0.,  1.,  2.,  3.],\n",
       "        [ 4.,  5.,  6.,  7.],\n",
       "        [ 8.,  9., 10., 11.],\n",
       "        [12., 13., 14., 15.]]])>"
      ]
     },
     "execution_count": 43,
     "metadata": {},
     "output_type": "execute_result"
    }
   ],
   "source": [
    "XXX.reshape(1,4,4)"
   ]
  },
  {
   "cell_type": "code",
   "execution_count": 44,
   "id": "d85618cb-e820-4fd4-a679-9708be4070d5",
   "metadata": {
    "id": "d85618cb-e820-4fd4-a679-9708be4070d5",
    "outputId": "0ae898ee-c089-4217-8d59-41f5bbd0620b"
   },
   "outputs": [
    {
     "data": {
      "text/plain": [
       "<tf.Tensor: shape=(1, 3, 3), dtype=float32, numpy=\n",
       "array([[[ 5.5,  6.5,  7.5],\n",
       "        [ 9.5, 10.5, 11.5],\n",
       "        [13.5, 14.5, 15.5]]], dtype=float32)>"
      ]
     },
     "execution_count": 44,
     "metadata": {},
     "output_type": "execute_result"
    }
   ],
   "source": [
    "cnv(XXX).reshape(1,3,3)"
   ]
  },
  {
   "cell_type": "code",
   "execution_count": 45,
   "id": "548b9b81-85dc-4008-82a5-f14eb3708a75",
   "metadata": {
    "id": "548b9b81-85dc-4008-82a5-f14eb3708a75",
    "outputId": "ad540449-c061-4a24-d36c-7f46945adc9e"
   },
   "outputs": [
    {
     "data": {
      "text/plain": [
       "(5.5, 6.5, 7.5)"
      ]
     },
     "execution_count": 45,
     "metadata": {},
     "output_type": "execute_result"
    }
   ],
   "source": [
    "np.mean([0,1,4,5])+3, np.mean([1,2,5,6])+3, np.mean([2,3,6,7])+3 "
   ]
  },
  {
   "cell_type": "markdown",
   "id": "19e4460f-9944-46dc-a017-6f4f056572e2",
   "metadata": {
    "id": "19e4460f-9944-46dc-a017-6f4f056572e2"
   },
   "source": [
    "#### tf.keras.layers.Conv2D(1,kernel_size=(2,2)) 요약"
   ]
  },
  {
   "cell_type": "markdown",
   "id": "02656331-13c4-43c3-a33b-5317c4866e9a",
   "metadata": {
    "id": "02656331-13c4-43c3-a33b-5317c4866e9a"
   },
   "source": [
    "`-` 요약"
   ]
  },
  {
   "cell_type": "markdown",
   "id": "c6575f7c-f2c5-4ebc-86df-66479b5d2bd2",
   "metadata": {
    "id": "c6575f7c-f2c5-4ebc-86df-66479b5d2bd2"
   },
   "source": [
    "(1) size=(2,2)인 윈도우를 만듬. \n",
    "\n",
    "(2) XXX에 윈도우를 통과시켜서 (2,2)크기의 sub XXX 를 얻음. sub XXX의 각 원소에 conv2d.weights[0]의 각 원소를 element-wise하게 곱한다. \n",
    "\n",
    "(3) (2)의 결과를 모두 더한다. 그리고 그 결과에 다시 conv2d.weights[1]을 수행 \n",
    "\n",
    "(4) 윈도우를 이동시키면서 반복!"
   ]
  },
  {
   "cell_type": "markdown",
   "id": "01c7db47-6485-4c37-a698-0efe6e480094",
   "metadata": {
    "id": "01c7db47-6485-4c37-a698-0efe6e480094",
    "tags": []
   },
   "source": [
    "#### 테스트2"
   ]
  },
  {
   "cell_type": "markdown",
   "id": "a587ea00-a382-45bf-9f95-5a1b14240251",
   "metadata": {
    "id": "a587ea00-a382-45bf-9f95-5a1b14240251"
   },
   "source": [
    "`-` 레이어와 XXX생성"
   ]
  },
  {
   "cell_type": "code",
   "execution_count": 46,
   "id": "7a669c76-4b8c-487c-b3cd-bad69c3537cf",
   "metadata": {
    "id": "7a669c76-4b8c-487c-b3cd-bad69c3537cf"
   },
   "outputs": [],
   "source": [
    "tf.random.set_seed(43052)\n",
    "cnv = tf.keras.layers.Conv2D(1,(3,3))\n",
    "XXX = tnp.arange(1*5*5*1,dtype=tf.float64).reshape(1,5,5,1)"
   ]
  },
  {
   "cell_type": "code",
   "execution_count": 47,
   "id": "e45c7cd8-23b4-4df2-b358-dd542d6c81b2",
   "metadata": {
    "id": "e45c7cd8-23b4-4df2-b358-dd542d6c81b2",
    "outputId": "d6cd0185-3315-44cd-8df8-91e64f5edf9c"
   },
   "outputs": [
    {
     "data": {
      "text/plain": [
       "<tf.Tensor: shape=(1, 5, 5), dtype=float64, numpy=\n",
       "array([[[ 0.,  1.,  2.,  3.,  4.],\n",
       "        [ 5.,  6.,  7.,  8.,  9.],\n",
       "        [10., 11., 12., 13., 14.],\n",
       "        [15., 16., 17., 18., 19.],\n",
       "        [20., 21., 22., 23., 24.]]])>"
      ]
     },
     "execution_count": 47,
     "metadata": {},
     "output_type": "execute_result"
    }
   ],
   "source": [
    "XXX.reshape(1,5,5) ## 입력: XXX"
   ]
  },
  {
   "cell_type": "code",
   "execution_count": 48,
   "id": "53796db5-e9b9-484b-8698-75b1fd4e894d",
   "metadata": {
    "id": "53796db5-e9b9-484b-8698-75b1fd4e894d",
    "outputId": "493f85a2-44ad-4794-9a56-39645545fe6b"
   },
   "outputs": [
    {
     "ename": "IndexError",
     "evalue": "list index out of range",
     "output_type": "error",
     "traceback": [
      "\u001b[1;31m---------------------------------------------------------------------------\u001b[0m",
      "\u001b[1;31mIndexError\u001b[0m                                Traceback (most recent call last)",
      "Input \u001b[1;32mIn [48]\u001b[0m, in \u001b[0;36m<module>\u001b[1;34m\u001b[0m\n\u001b[1;32m----> 1\u001b[0m tf\u001b[38;5;241m.\u001b[39mreshape(\u001b[43mcnv\u001b[49m\u001b[38;5;241;43m.\u001b[39;49m\u001b[43mweights\u001b[49m\u001b[43m[\u001b[49m\u001b[38;5;241;43m0\u001b[39;49m\u001b[43m]\u001b[49m,(\u001b[38;5;241m3\u001b[39m,\u001b[38;5;241m3\u001b[39m))\n",
      "\u001b[1;31mIndexError\u001b[0m: list index out of range"
     ]
    }
   ],
   "source": [
    "tf.reshape(cnv.weights[0],(3,3)) ## 커널의 가중치 "
   ]
  },
  {
   "cell_type": "code",
   "execution_count": 49,
   "id": "88b90786-2370-49c9-b02e-5cae590f1fc5",
   "metadata": {
    "id": "88b90786-2370-49c9-b02e-5cae590f1fc5",
    "outputId": "b4411d1c-d6f1-4db1-a56e-0d6f2c3543b3"
   },
   "outputs": [
    {
     "data": {
      "text/plain": [
       "<tf.Tensor: shape=(1, 3, 3), dtype=float32, numpy=\n",
       "array([[[ 2.7395773 ,  2.2492638 ,  1.7589507 ],\n",
       "        [ 0.2880106 , -0.20230293, -0.6926167 ],\n",
       "        [-2.163556  , -2.6538692 , -3.1441827 ]]], dtype=float32)>"
      ]
     },
     "execution_count": 49,
     "metadata": {},
     "output_type": "execute_result"
    }
   ],
   "source": [
    "cnv(XXX).reshape(1,3,3) ## 출력: conv(XXX)"
   ]
  },
  {
   "cell_type": "code",
   "execution_count": 50,
   "id": "67a4337a-4640-4a07-8622-c55c870ade0a",
   "metadata": {
    "id": "67a4337a-4640-4a07-8622-c55c870ade0a",
    "outputId": "a452e2d4-3a20-4e73-f9d0-18f30788acb0"
   },
   "outputs": [
    {
     "data": {
      "text/plain": [
       "<tf.Tensor: shape=(), dtype=float64, numpy=2.739577144384384>"
      ]
     },
     "execution_count": 50,
     "metadata": {},
     "output_type": "execute_result"
    }
   ],
   "source": [
    "tf.reduce_sum(XXX.reshape(1,5,5)[0,:3,:3] * tf.reshape(cnv.weights[0],(3,3)))"
   ]
  },
  {
   "cell_type": "markdown",
   "id": "028b335c-9542-4b20-9d4a-a9339409da18",
   "metadata": {
    "id": "028b335c-9542-4b20-9d4a-a9339409da18",
    "tags": []
   },
   "source": [
    "#### 테스트3"
   ]
  },
  {
   "cell_type": "markdown",
   "id": "b4f11523-6f72-4b0d-83bf-cba40d02f7f4",
   "metadata": {
    "id": "b4f11523-6f72-4b0d-83bf-cba40d02f7f4"
   },
   "source": [
    "![](https://github.com/guebin/2021BDA/blob/master/_notebooks/2021-11-04-conv.png?raw=true)"
   ]
  },
  {
   "cell_type": "code",
   "execution_count": 51,
   "id": "a30e90e8-aa36-4cc7-af7e-cc79647cc9dc",
   "metadata": {
    "id": "a30e90e8-aa36-4cc7-af7e-cc79647cc9dc",
    "outputId": "865ff72c-2f64-49fa-bec4-3a25fe98c117"
   },
   "outputs": [
    {
     "data": {
      "text/plain": [
       "<tf.Tensor: shape=(1, 5, 5), dtype=float64, numpy=\n",
       "array([[[3., 3., 2., 1., 0.],\n",
       "        [0., 0., 1., 3., 1.],\n",
       "        [3., 1., 2., 2., 3.],\n",
       "        [2., 0., 0., 2., 2.],\n",
       "        [2., 0., 0., 0., 1.]]])>"
      ]
     },
     "execution_count": 51,
     "metadata": {},
     "output_type": "execute_result"
    }
   ],
   "source": [
    "XXX = tf.constant([[3,3,2,1,0],[0,0,1,3,1],[3,1,2,2,3],[2,0,0,2,2],[2,0,0,0,1]],dtype=tf.float64).reshape(1,5,5,1)\n",
    "XXX.reshape(1,5,5)"
   ]
  },
  {
   "cell_type": "code",
   "execution_count": 52,
   "id": "411acaf9-6713-4a38-a4e1-92a917db70dc",
   "metadata": {
    "id": "411acaf9-6713-4a38-a4e1-92a917db70dc"
   },
   "outputs": [],
   "source": [
    "cnv = tf.keras.layers.Conv2D(1,(3,3))"
   ]
  },
  {
   "cell_type": "code",
   "execution_count": 53,
   "id": "6885e48b-4041-49fd-a070-dd6372c733fc",
   "metadata": {
    "id": "6885e48b-4041-49fd-a070-dd6372c733fc",
    "outputId": "a75e6af1-e927-4dd6-b78e-12ec58d0bec2"
   },
   "outputs": [
    {
     "data": {
      "text/plain": [
       "[]"
      ]
     },
     "execution_count": 53,
     "metadata": {},
     "output_type": "execute_result"
    }
   ],
   "source": [
    "cnv.weights"
   ]
  },
  {
   "cell_type": "code",
   "execution_count": 54,
   "id": "9f9d6290-d5a3-439e-b70e-3714b2928fbb",
   "metadata": {
    "id": "9f9d6290-d5a3-439e-b70e-3714b2928fbb",
    "outputId": "20317623-f9db-42d8-e124-ea84d6101d30"
   },
   "outputs": [
    {
     "data": {
      "text/plain": [
       "<tf.Tensor: shape=(1, 3, 3), dtype=float32, numpy=\n",
       "array([[[-0.6065799, -0.6914372, -1.1179221],\n",
       "        [ 2.2352955,  1.5314977,  1.8658442],\n",
       "        [ 0.7364181,  1.4419123,  1.2381717]]], dtype=float32)>"
      ]
     },
     "execution_count": 54,
     "metadata": {},
     "output_type": "execute_result"
    }
   ],
   "source": [
    "cnv(XXX).reshape(1,3,3)"
   ]
  },
  {
   "cell_type": "code",
   "execution_count": 55,
   "id": "77c800c1-773f-4c3c-a816-4b247684bfed",
   "metadata": {
    "id": "77c800c1-773f-4c3c-a816-4b247684bfed",
    "outputId": "1b738056-5e1e-45d0-b997-0188c75e3a0b"
   },
   "outputs": [
    {
     "data": {
      "text/plain": [
       "<tf.Variable 'conv2d_5/kernel:0' shape=(3, 3, 1, 1) dtype=float32, numpy=\n",
       "array([[[[-0.3444655 ]],\n",
       "\n",
       "        [[ 0.4521824 ]],\n",
       "\n",
       "        [[ 0.236296  ]]],\n",
       "\n",
       "\n",
       "       [[[ 0.54707503]],\n",
       "\n",
       "        [[ 0.19746327]],\n",
       "\n",
       "        [[ 0.20471048]]],\n",
       "\n",
       "\n",
       "       [[[-0.1245549 ]],\n",
       "\n",
       "        [[-0.25237298]],\n",
       "\n",
       "        [[-0.4904977 ]]]], dtype=float32)>"
      ]
     },
     "execution_count": 55,
     "metadata": {},
     "output_type": "execute_result"
    }
   ],
   "source": [
    "cnv.weights[0]"
   ]
  },
  {
   "cell_type": "code",
   "execution_count": 56,
   "id": "024913a8-7f7a-4556-8eac-e95e9fe9a335",
   "metadata": {
    "id": "024913a8-7f7a-4556-8eac-e95e9fe9a335"
   },
   "outputs": [],
   "source": [
    "_w = tf.constant([[0,1,2],[2,2,0],[0,1,2]],dtype=tf.float64).reshape(3,3,1,1)\n",
    "_b = tf.constant([0],dtype=tf.float64)"
   ]
  },
  {
   "cell_type": "code",
   "execution_count": 57,
   "id": "7a5c9991-d011-425c-8922-e27fbe915289",
   "metadata": {
    "id": "7a5c9991-d011-425c-8922-e27fbe915289"
   },
   "outputs": [],
   "source": [
    "cnv.set_weights([_w,_b])"
   ]
  },
  {
   "cell_type": "code",
   "execution_count": 58,
   "id": "ba1bddad-9bf5-4489-a730-db41cada6197",
   "metadata": {
    "id": "ba1bddad-9bf5-4489-a730-db41cada6197",
    "outputId": "b6c7ad3e-49f0-4a43-c264-a31e8be9ccdc"
   },
   "outputs": [
    {
     "data": {
      "text/plain": [
       "<tf.Tensor: shape=(1, 3, 3), dtype=float32, numpy=\n",
       "array([[[12., 12., 17.],\n",
       "        [10., 17., 19.],\n",
       "        [ 9.,  6., 14.]]], dtype=float32)>"
      ]
     },
     "execution_count": 58,
     "metadata": {},
     "output_type": "execute_result"
    }
   ],
   "source": [
    "cnv(XXX).reshape(1,3,3)"
   ]
  },
  {
   "cell_type": "markdown",
   "id": "c59c0c72-ba78-4259-bf8d-45ff9f9247b9",
   "metadata": {
    "id": "c59c0c72-ba78-4259-bf8d-45ff9f9247b9"
   },
   "source": [
    "#### 테스트4"
   ]
  },
  {
   "cell_type": "code",
   "execution_count": 59,
   "id": "d8c19f60-8f35-4cde-8b69-649d5d994322",
   "metadata": {
    "id": "d8c19f60-8f35-4cde-8b69-649d5d994322"
   },
   "outputs": [],
   "source": [
    "tf.random.set_seed(43052)\n",
    "cnv = tf.keras.layers.Conv2D(1,(2,2))\n",
    "XXX = tnp.arange(2*5*5*1,dtype=tf.float64).reshape(2,5,5,1)"
   ]
  },
  {
   "cell_type": "code",
   "execution_count": 60,
   "id": "493c58f5-4163-414b-a293-284882e303e8",
   "metadata": {
    "id": "493c58f5-4163-414b-a293-284882e303e8",
    "outputId": "799c2ede-6d07-4ac8-ef5c-07aac1da9aca"
   },
   "outputs": [
    {
     "name": "stdout",
     "output_type": "stream",
     "text": [
      "tf.Tensor(\n",
      "[[[ 0.  1.  2.  3.  4.]\n",
      "  [ 5.  6.  7.  8.  9.]\n",
      "  [10. 11. 12. 13. 14.]\n",
      "  [15. 16. 17. 18. 19.]\n",
      "  [20. 21. 22. 23. 24.]]\n",
      "\n",
      " [[25. 26. 27. 28. 29.]\n",
      "  [30. 31. 32. 33. 34.]\n",
      "  [35. 36. 37. 38. 39.]\n",
      "  [40. 41. 42. 43. 44.]\n",
      "  [45. 46. 47. 48. 49.]]], shape=(2, 5, 5), dtype=float64)\n",
      "tf.Tensor(\n",
      "[[[ 6.  7.  8.  9.]\n",
      "  [11. 12. 13. 14.]\n",
      "  [16. 17. 18. 19.]\n",
      "  [21. 22. 23. 24.]]\n",
      "\n",
      " [[31. 32. 33. 34.]\n",
      "  [36. 37. 38. 39.]\n",
      "  [41. 42. 43. 44.]\n",
      "  [46. 47. 48. 49.]]], shape=(2, 4, 4), dtype=float32)\n"
     ]
    }
   ],
   "source": [
    "print(XXX.reshape(2,5,5))\n",
    "cnv(XXX) # weights를 초기화 시키기 위해서 레이어를 1회 통과 \n",
    "cnv.set_weights([w,b])\n",
    "print(cnv(XXX).reshape(2,4,4))"
   ]
  },
  {
   "cell_type": "code",
   "execution_count": 61,
   "id": "b51b503e-740c-4699-a029-7ddc841fcb86",
   "metadata": {
    "id": "b51b503e-740c-4699-a029-7ddc841fcb86",
    "outputId": "6204c8c2-f537-4fd8-8660-91354bf76bd2"
   },
   "outputs": [
    {
     "data": {
      "text/plain": [
       "(6.0, 31.0)"
      ]
     },
     "execution_count": 61,
     "metadata": {},
     "output_type": "execute_result"
    }
   ],
   "source": [
    "np.mean([0,1,5,6])+3,np.mean([25,26,30,31])+3,"
   ]
  },
  {
   "cell_type": "markdown",
   "id": "36777d0c-eb19-452b-b835-70e068a3542d",
   "metadata": {
    "id": "36777d0c-eb19-452b-b835-70e068a3542d"
   },
   "source": [
    "#### 테스트5"
   ]
  },
  {
   "cell_type": "markdown",
   "id": "e7a6ba2b-4864-4bbe-b0e6-c6c39314b5e5",
   "metadata": {
    "id": "e7a6ba2b-4864-4bbe-b0e6-c6c39314b5e5"
   },
   "source": [
    "`-` "
   ]
  },
  {
   "cell_type": "code",
   "execution_count": 62,
   "id": "f3d31496-0191-4837-a0c5-4eeec53111b5",
   "metadata": {
    "id": "f3d31496-0191-4837-a0c5-4eeec53111b5"
   },
   "outputs": [],
   "source": [
    "tf.random.set_seed(43052)\n",
    "cnv = tf.keras.layers.Conv2D(4,(2,2),activation='relu')\n",
    "XXX = tnp.arange(1*2*2*1,dtype=tf.float64).reshape(1,2,2,1)"
   ]
  },
  {
   "cell_type": "code",
   "execution_count": 63,
   "id": "8d18d8aa-93d7-4e58-bc9a-171551fc144e",
   "metadata": {
    "id": "8d18d8aa-93d7-4e58-bc9a-171551fc144e",
    "outputId": "c6dea34b-007b-40f3-8b75-11b9e4492f50"
   },
   "outputs": [
    {
     "name": "stdout",
     "output_type": "stream",
     "text": [
      "tf.Tensor(\n",
      "[[[0. 1.]\n",
      "  [2. 3.]]], shape=(1, 2, 2), dtype=float64)\n"
     ]
    }
   ],
   "source": [
    "print(XXX.reshape(1,2,2))"
   ]
  },
  {
   "cell_type": "code",
   "execution_count": 64,
   "id": "59842396-9eea-4d17-b92b-82fdfdad144e",
   "metadata": {
    "id": "59842396-9eea-4d17-b92b-82fdfdad144e",
    "outputId": "1c7e4652-b117-44e2-b259-bf6218aa3b7b"
   },
   "outputs": [
    {
     "data": {
      "text/plain": [
       "<tf.Tensor: shape=(1, 1, 1, 4), dtype=float32, numpy=array([[[[1.048703, 0.      , 0.      , 0.      ]]]], dtype=float32)>"
      ]
     },
     "execution_count": 64,
     "metadata": {},
     "output_type": "execute_result"
    }
   ],
   "source": [
    "cnv(XXX)"
   ]
  },
  {
   "cell_type": "code",
   "execution_count": 65,
   "id": "aafcd364-c4b4-44b5-89df-20480f566b31",
   "metadata": {
    "id": "aafcd364-c4b4-44b5-89df-20480f566b31",
    "outputId": "4c3e2d4c-b106-4318-fab1-23016b39c5e2"
   },
   "outputs": [
    {
     "data": {
      "text/plain": [
       "<tf.Variable 'conv2d_7/kernel:0' shape=(2, 2, 1, 4) dtype=float32, numpy=\n",
       "array([[[[-0.08230966, -0.15132892, -0.12760344, -0.38952267]],\n",
       "\n",
       "        [[-0.36398047,  0.07347518, -0.08780673,  0.46633136]]],\n",
       "\n",
       "\n",
       "       [[[ 0.19759327, -0.46042526, -0.15406173, -0.34838456]],\n",
       "\n",
       "        [[ 0.33916563, -0.08248386,  0.11705655, -0.49948823]]]],\n",
       "      dtype=float32)>"
      ]
     },
     "execution_count": 65,
     "metadata": {},
     "output_type": "execute_result"
    }
   ],
   "source": [
    "cnv.weights[0] # (2,2) 커널의 크기 // 1은 XXX의 채널수 // 4는 conv(XXX)의 채널수 "
   ]
  },
  {
   "cell_type": "code",
   "execution_count": 66,
   "id": "6a8abf9a-a7d0-4dfd-b9f2-8c657f913683",
   "metadata": {
    "id": "6a8abf9a-a7d0-4dfd-b9f2-8c657f913683",
    "outputId": "4db327e3-cc5c-4f90-ac8d-f5b86a142490"
   },
   "outputs": [
    {
     "data": {
      "text/plain": [
       "<tf.Tensor: shape=(2, 2), dtype=float32, numpy=\n",
       "array([[-0.08230966, -0.36398047],\n",
       "       [ 0.19759327,  0.33916563]], dtype=float32)>"
      ]
     },
     "execution_count": 66,
     "metadata": {},
     "output_type": "execute_result"
    }
   ],
   "source": [
    "cnv.weights[0][...,0].reshape(2,2) ## conv(XXX)의 첫번째채널 출력을 얻기 위해 곱해지는 w "
   ]
  },
  {
   "cell_type": "code",
   "execution_count": 67,
   "id": "171f2ae5-06d9-450b-ac15-9723db067f63",
   "metadata": {
    "id": "171f2ae5-06d9-450b-ac15-9723db067f63",
    "outputId": "aa8cf2c9-f4f3-41fc-bc47-c071a0c952f3"
   },
   "outputs": [
    {
     "data": {
      "text/plain": [
       "<tf.Tensor: shape=(), dtype=float64, numpy=1.0487029552459717>"
      ]
     },
     "execution_count": 67,
     "metadata": {},
     "output_type": "execute_result"
    }
   ],
   "source": [
    "tf.reduce_sum(XXX.reshape(1,2,2) * cnv.weights[0][...,0].reshape(2,2)) ### conv(XXX)의 첫번째 채널 출력결과 "
   ]
  },
  {
   "cell_type": "markdown",
   "id": "f5a87294-c00c-4de3-ad54-05be7c683933",
   "metadata": {
    "id": "f5a87294-c00c-4de3-ad54-05be7c683933"
   },
   "source": [
    "`-` 계산결과를 확인하기 쉽게 하기 위한 약간의 트릭"
   ]
  },
  {
   "cell_type": "code",
   "execution_count": 68,
   "id": "4937eecd-dbdc-4d14-aac1-7e9583e36494",
   "metadata": {
    "id": "4937eecd-dbdc-4d14-aac1-7e9583e36494"
   },
   "outputs": [],
   "source": [
    "tf.random.set_seed(43052)\n",
    "cnv = tf.keras.layers.Conv2D(4,(2,2))\n",
    "XXX = tnp.array([1]*1*2*2*1,dtype=tf.float64).reshape(1,2,2,1)"
   ]
  },
  {
   "cell_type": "code",
   "execution_count": 69,
   "id": "f863a7f9-2b8a-4bbc-82fc-653b8b30aab4",
   "metadata": {
    "id": "f863a7f9-2b8a-4bbc-82fc-653b8b30aab4",
    "outputId": "dc823c45-62be-4f01-c1f7-39b04dd99355"
   },
   "outputs": [
    {
     "name": "stdout",
     "output_type": "stream",
     "text": [
      "tf.Tensor(\n",
      "[[[1. 1.]\n",
      "  [1. 1.]]], shape=(1, 2, 2), dtype=float64)\n"
     ]
    }
   ],
   "source": [
    "print(XXX.reshape(1,2,2))"
   ]
  },
  {
   "cell_type": "markdown",
   "id": "b165cd57-3ed1-43d0-bde9-1eca002b2843",
   "metadata": {
    "id": "b165cd57-3ed1-43d0-bde9-1eca002b2843"
   },
   "source": [
    "- 이렇게 XXX를 설정하면 cnv(XXX)의 결과는 단지 cnv의 weight들의 sum이 된다. "
   ]
  },
  {
   "cell_type": "code",
   "execution_count": 70,
   "id": "24b6931e-771b-4378-9400-c531a06e806e",
   "metadata": {
    "id": "24b6931e-771b-4378-9400-c531a06e806e",
    "outputId": "a5304f0a-e6e0-4736-9564-f8c2674c3fbe"
   },
   "outputs": [
    {
     "data": {
      "text/plain": [
       "<tf.Tensor: shape=(1, 1, 1, 4), dtype=float32, numpy=\n",
       "array([[[[ 0.09046876, -0.6207628 , -0.25241536, -0.7710641 ]]]],\n",
       "      dtype=float32)>"
      ]
     },
     "execution_count": 70,
     "metadata": {},
     "output_type": "execute_result"
    }
   ],
   "source": [
    "cnv(XXX)"
   ]
  },
  {
   "cell_type": "code",
   "execution_count": 71,
   "id": "149d1945-22f0-49c9-827f-8b7f2cfab22c",
   "metadata": {
    "id": "149d1945-22f0-49c9-827f-8b7f2cfab22c",
    "outputId": "e0e1dd7e-195a-4514-82fb-d929d6e1380f"
   },
   "outputs": [
    {
     "data": {
      "text/plain": [
       "<tf.Variable 'conv2d_8/kernel:0' shape=(2, 2, 1, 4) dtype=float32, numpy=\n",
       "array([[[[-0.08230966, -0.15132892, -0.12760344, -0.38952267]],\n",
       "\n",
       "        [[-0.36398047,  0.07347518, -0.08780673,  0.46633136]]],\n",
       "\n",
       "\n",
       "       [[[ 0.19759327, -0.46042526, -0.15406173, -0.34838456]],\n",
       "\n",
       "        [[ 0.33916563, -0.08248386,  0.11705655, -0.49948823]]]],\n",
       "      dtype=float32)>"
      ]
     },
     "execution_count": 71,
     "metadata": {},
     "output_type": "execute_result"
    }
   ],
   "source": [
    "cnv.weights[0] # (2,2) 커널의 크기 // 1은 XXX의 채널수 // 4는 conv(XXX)의 채널수 "
   ]
  },
  {
   "cell_type": "code",
   "execution_count": 72,
   "id": "8cbe2c4d-a2ac-4e39-8c1d-729cd67df45b",
   "metadata": {
    "id": "8cbe2c4d-a2ac-4e39-8c1d-729cd67df45b",
    "outputId": "78f020d9-909f-426c-d6ce-bbf3e563f749"
   },
   "outputs": [
    {
     "data": {
      "text/plain": [
       "<tf.Tensor: shape=(2, 2), dtype=float32, numpy=\n",
       "array([[-0.08230966, -0.36398047],\n",
       "       [ 0.19759327,  0.33916563]], dtype=float32)>"
      ]
     },
     "execution_count": 72,
     "metadata": {},
     "output_type": "execute_result"
    }
   ],
   "source": [
    "cnv.weights[0][...,0].reshape(2,2) ## conv(XXX)의 첫번째채널 출력을 얻기 위해 곱해지는 w "
   ]
  },
  {
   "cell_type": "code",
   "execution_count": 73,
   "id": "e856dd07-3bc6-4559-976a-41519708c305",
   "metadata": {
    "id": "e856dd07-3bc6-4559-976a-41519708c305",
    "outputId": "faa4afff-0bc2-459d-e73c-35cc9bde7b9e"
   },
   "outputs": [
    {
     "data": {
      "text/plain": [
       "<tf.Tensor: shape=(), dtype=float32, numpy=0.090468764>"
      ]
     },
     "execution_count": 73,
     "metadata": {},
     "output_type": "execute_result"
    }
   ],
   "source": [
    "tf.reduce_sum(cnv.weights[0][...,0])\n",
    "#tf.reduce_sum(XXX.reshape(1,2,2) * cnv.weights[0][...,0].reshape(2,2)) ### conv(XXX)의 첫번째 채널 출력결과 "
   ]
  },
  {
   "cell_type": "markdown",
   "id": "0d41505d-3b6d-452c-af0b-b00d973de695",
   "metadata": {
    "id": "0d41505d-3b6d-452c-af0b-b00d973de695"
   },
   "source": [
    "#### 테스트6"
   ]
  },
  {
   "cell_type": "markdown",
   "id": "5cb495db-bc84-4e9f-b2c7-3bf0a7170559",
   "metadata": {
    "id": "5cb495db-bc84-4e9f-b2c7-3bf0a7170559"
   },
   "source": [
    "`-` 결과확인을 쉽게하기 위해서 XXX를 1로 통일"
   ]
  },
  {
   "cell_type": "code",
   "execution_count": 74,
   "id": "f3f12488-e6af-477a-ba2b-5fe1dbb14e97",
   "metadata": {
    "id": "f3f12488-e6af-477a-ba2b-5fe1dbb14e97"
   },
   "outputs": [],
   "source": [
    "tf.random.set_seed(43052)\n",
    "cnv = tf.keras.layers.Conv2D(4,(2,2))\n",
    "XXX = tnp.array([1]*1*2*2*3,dtype=tf.float64).reshape(1,2,2,3)"
   ]
  },
  {
   "cell_type": "code",
   "execution_count": 75,
   "id": "c11e8203-092e-4970-89e6-c3183c6ae2b5",
   "metadata": {
    "id": "c11e8203-092e-4970-89e6-c3183c6ae2b5",
    "outputId": "f797d7d5-386e-495b-8c37-aa92a1befd3e"
   },
   "outputs": [
    {
     "data": {
      "text/plain": [
       "<tf.Tensor: shape=(1, 1, 1, 4), dtype=float32, numpy=\n",
       "array([[[[ 0.3297621 , -0.44983467, -1.0487392 , -1.5800949 ]]]],\n",
       "      dtype=float32)>"
      ]
     },
     "execution_count": 75,
     "metadata": {},
     "output_type": "execute_result"
    }
   ],
   "source": [
    "cnv(XXX)"
   ]
  },
  {
   "cell_type": "code",
   "execution_count": 76,
   "id": "92d999eb-148c-4bc5-a11d-a53e90c560c1",
   "metadata": {
    "id": "92d999eb-148c-4bc5-a11d-a53e90c560c1",
    "outputId": "782f7bb7-c47a-4757-e187-0ae2f3140b1e"
   },
   "outputs": [
    {
     "data": {
      "text/plain": [
       "<tf.Variable 'conv2d_9/kernel:0' shape=(2, 2, 3, 4) dtype=float32, numpy=\n",
       "array([[[[-0.06956434, -0.12789628, -0.10784459, -0.32920673],\n",
       "         [-0.30761963,  0.06209785, -0.07421023,  0.3941219 ],\n",
       "         [ 0.16699678, -0.38913035, -0.13020593, -0.29443866]],\n",
       "\n",
       "        [[ 0.28664726, -0.0697116 ,  0.09893084, -0.4221446 ],\n",
       "         [-0.23161241, -0.16410837, -0.36420006,  0.12424195],\n",
       "         [-0.14245945,  0.36286396, -0.10751781,  0.1733647 ]]],\n",
       "\n",
       "\n",
       "       [[[ 0.02764335,  0.15547717, -0.42024496, -0.31893867],\n",
       "         [ 0.22414821,  0.3619454 , -0.00282967, -0.3503708 ],\n",
       "         [ 0.4610079 , -0.17417148,  0.00401336, -0.29777044]],\n",
       "\n",
       "        [[-0.1620284 , -0.42066965, -0.01578814, -0.4240524 ],\n",
       "         [ 0.37925082,  0.24236053,  0.3949356 , -0.20996472],\n",
       "         [-0.30264795, -0.28889188, -0.3237777 ,  0.37506342]]]],\n",
       "      dtype=float32)>"
      ]
     },
     "execution_count": 76,
     "metadata": {},
     "output_type": "execute_result"
    }
   ],
   "source": [
    "cnv.weights[0] ## (2,2)는 커널의 사이즈 // 3은 XXX의채널 // 4는 cnv(XXX)의 채널 "
   ]
  },
  {
   "cell_type": "code",
   "execution_count": 77,
   "id": "c0bdec5e-4dfe-428a-bd34-03808c230243",
   "metadata": {
    "id": "c0bdec5e-4dfe-428a-bd34-03808c230243",
    "outputId": "3713348e-384e-4973-ed01-ad29ea527343"
   },
   "outputs": [
    {
     "data": {
      "text/plain": [
       "<tf.Tensor: shape=(2, 2, 3), dtype=float32, numpy=\n",
       "array([[[-0.06956434, -0.30761963,  0.16699678],\n",
       "        [ 0.28664726, -0.23161241, -0.14245945]],\n",
       "\n",
       "       [[ 0.02764335,  0.22414821,  0.4610079 ],\n",
       "        [-0.1620284 ,  0.37925082, -0.30264795]]], dtype=float32)>"
      ]
     },
     "execution_count": 77,
     "metadata": {},
     "output_type": "execute_result"
    }
   ],
   "source": [
    "cnv.weights[0][...,0] ## cnv(XXX)의 첫번째 채널결과를 얻기 위해서 사용하는 w "
   ]
  },
  {
   "cell_type": "code",
   "execution_count": 78,
   "id": "04d9bee0-6efc-48f0-aca9-6fe5b1eb9b68",
   "metadata": {
    "id": "04d9bee0-6efc-48f0-aca9-6fe5b1eb9b68",
    "outputId": "bb942e1e-2915-4283-996e-c38fc28d314a"
   },
   "outputs": [
    {
     "data": {
      "text/plain": [
       "<tf.Tensor: shape=(), dtype=float32, numpy=0.3297621>"
      ]
     },
     "execution_count": 78,
     "metadata": {},
     "output_type": "execute_result"
    }
   ],
   "source": [
    "tf.reduce_sum(cnv.weights[0][...,0]) ### cnv(XXX)의 첫번째 채널의 결과 "
   ]
  },
  {
   "cell_type": "code",
   "execution_count": 79,
   "id": "f45cb0dc-36c7-495d-a260-5134667ea78e",
   "metadata": {
    "id": "f45cb0dc-36c7-495d-a260-5134667ea78e",
    "outputId": "e5b60c39-14f6-4cb8-fdf5-392b0bc3a5ca"
   },
   "outputs": [
    {
     "name": "stdout",
     "output_type": "stream",
     "text": [
      "tf.Tensor(0.3297621, shape=(), dtype=float32)\n",
      "tf.Tensor(-0.4498347, shape=(), dtype=float32)\n",
      "tf.Tensor(-1.0487393, shape=(), dtype=float32)\n",
      "tf.Tensor(-1.5800952, shape=(), dtype=float32)\n"
     ]
    }
   ],
   "source": [
    "print(tf.reduce_sum(cnv.weights[0][...,0]))\n",
    "print(tf.reduce_sum(cnv.weights[0][...,1]))\n",
    "print(tf.reduce_sum(cnv.weights[0][...,2]))\n",
    "print(tf.reduce_sum(cnv.weights[0][...,3])) ### cnv(XXX)의 결과 "
   ]
  },
  {
   "cell_type": "code",
   "execution_count": 80,
   "id": "31045978-ddae-4bf4-9cc3-19b6dd1e521c",
   "metadata": {
    "id": "31045978-ddae-4bf4-9cc3-19b6dd1e521c"
   },
   "outputs": [],
   "source": [
    "w_red = cnv.weights[0][...,0][...,0] \n",
    "w_green = cnv.weights[0][...,0][...,1] \n",
    "w_blue = cnv.weights[0][...,0][...,2] "
   ]
  },
  {
   "cell_type": "code",
   "execution_count": 81,
   "id": "10923f38-bc02-4338-9a26-d2a49820e74c",
   "metadata": {
    "id": "10923f38-bc02-4338-9a26-d2a49820e74c",
    "outputId": "dd60343a-4971-4383-d482-adce7fc3dd0f"
   },
   "outputs": [
    {
     "data": {
      "text/plain": [
       "<tf.Tensor: shape=(), dtype=float64, numpy=0.32976213097572327>"
      ]
     },
     "execution_count": 81,
     "metadata": {},
     "output_type": "execute_result"
    }
   ],
   "source": [
    "tf.reduce_sum(XXX[...,0] * w_red + XXX[...,1] * w_green + XXX[...,2] * w_blue) ## cnv(XXX)의 첫채널 출력결과 "
   ]
  },
  {
   "cell_type": "markdown",
   "id": "bcb86f5c-dc63-479c-a2b9-472a906adfbf",
   "metadata": {
    "id": "bcb86f5c-dc63-479c-a2b9-472a906adfbf"
   },
   "source": [
    "### hw"
   ]
  },
  {
   "cell_type": "markdown",
   "id": "2609636a-d84a-4e3a-ba38-86a52d5fdb2e",
   "metadata": {
    "id": "2609636a-d84a-4e3a-ba38-86a52d5fdb2e"
   },
   "source": [
    "아래와 같은 흑백이미지가 있다고 하자. \n",
    "```\n",
    "0 0 0 1 1 1 \n",
    "0 0 0 1 1 1 \n",
    "0 0 0 1 1 1 \n",
    "0 0 0 1 1 1 \n",
    "0 0 0 1 1 1\n",
    "0 0 0 1 1 1 \n",
    "```\n",
    "\n",
    "위의 이미지에 아래와 같은 weight를 가진 필터를 적용하여 convolution한 결과를 계산하라. (bias는 0으로 가정한다) \n",
    "```\n",
    "-1 1 \n",
    "-1 1 \n",
    "```"
   ]
  },
  {
   "cell_type": "code",
   "execution_count": null,
   "id": "a69121bb",
   "metadata": {},
   "outputs": [],
   "source": []
  }
 ],
 "metadata": {
  "colab": {
   "name": "2022-05-16-(11주차) 5월16일.ipynb",
   "provenance": []
  },
  "kernelspec": {
   "display_name": "Python 3 (ipykernel)",
   "language": "python",
   "name": "python3"
  },
  "language_info": {
   "codemirror_mode": {
    "name": "ipython",
    "version": 3
   },
   "file_extension": ".py",
   "mimetype": "text/x-python",
   "name": "python",
   "nbconvert_exporter": "python",
   "pygments_lexer": "ipython3",
   "version": "3.8.12"
  }
 },
 "nbformat": 4,
 "nbformat_minor": 5
}
