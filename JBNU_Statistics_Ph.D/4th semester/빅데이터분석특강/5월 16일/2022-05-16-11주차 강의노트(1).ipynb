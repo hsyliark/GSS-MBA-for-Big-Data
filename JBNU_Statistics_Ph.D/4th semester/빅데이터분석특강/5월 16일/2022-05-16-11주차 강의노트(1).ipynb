{
  "nbformat": 4,
  "nbformat_minor": 0,
  "metadata": {
    "colab": {
      "name": "2022-05-16-11주차 강의노트.ipynb",
      "provenance": []
    },
    "kernelspec": {
      "name": "python3",
      "display_name": "Python 3"
    },
    "language_info": {
      "name": "python"
    }
  },
  "cells": [
    {
      "cell_type": "code",
      "execution_count": 1,
      "metadata": {
        "id": "whTVPNBfUyey"
      },
      "outputs": [],
      "source": [
        "import tensorflow as tf\n",
        "import matplotlib.pyplot as plt\n",
        "import numpy as np\n",
        "import tensorflow.experimental.numpy as tnp"
      ]
    },
    {
      "cell_type": "code",
      "source": [
        "tnp.experimental_enable_numpy_behavior()"
      ],
      "metadata": {
        "id": "eMH_vyPzWE6Z"
      },
      "execution_count": 2,
      "outputs": []
    },
    {
      "cell_type": "code",
      "source": [
        "(x_train, y_train), (x_test, y_test) = tf.keras.datasets.fashion_mnist.load_data()"
      ],
      "metadata": {
        "colab": {
          "base_uri": "https://localhost:8080/"
        },
        "id": "Nq4f9-EiWPLM",
        "outputId": "92f3771d-d542-4295-9642-8eec91b27b9f"
      },
      "execution_count": 3,
      "outputs": [
        {
          "output_type": "stream",
          "name": "stdout",
          "text": [
            "Downloading data from https://storage.googleapis.com/tensorflow/tf-keras-datasets/train-labels-idx1-ubyte.gz\n",
            "32768/29515 [=================================] - 0s 0us/step\n",
            "40960/29515 [=========================================] - 0s 0us/step\n",
            "Downloading data from https://storage.googleapis.com/tensorflow/tf-keras-datasets/train-images-idx3-ubyte.gz\n",
            "26427392/26421880 [==============================] - 0s 0us/step\n",
            "26435584/26421880 [==============================] - 0s 0us/step\n",
            "Downloading data from https://storage.googleapis.com/tensorflow/tf-keras-datasets/t10k-labels-idx1-ubyte.gz\n",
            "16384/5148 [===============================================================================================] - 0s 0us/step\n",
            "Downloading data from https://storage.googleapis.com/tensorflow/tf-keras-datasets/t10k-images-idx3-ubyte.gz\n",
            "4423680/4422102 [==============================] - 0s 0us/step\n",
            "4431872/4422102 [==============================] - 0s 0us/step\n"
          ]
        }
      ]
    },
    {
      "cell_type": "code",
      "source": [
        "x_train.shape"
      ],
      "metadata": {
        "colab": {
          "base_uri": "https://localhost:8080/"
        },
        "id": "6ACowFC7WQu7",
        "outputId": "c99f1f08-4464-4337-bb0c-a20424309341"
      },
      "execution_count": 4,
      "outputs": [
        {
          "output_type": "execute_result",
          "data": {
            "text/plain": [
              "(60000, 28, 28)"
            ]
          },
          "metadata": {},
          "execution_count": 4
        }
      ]
    },
    {
      "cell_type": "code",
      "source": [
        "28*28"
      ],
      "metadata": {
        "colab": {
          "base_uri": "https://localhost:8080/"
        },
        "id": "EGSYfMj3WWqb",
        "outputId": "f20a6d98-7a5c-4c68-adbf-994980e27e49"
      },
      "execution_count": 5,
      "outputs": [
        {
          "output_type": "execute_result",
          "data": {
            "text/plain": [
              "784"
            ]
          },
          "metadata": {},
          "execution_count": 5
        }
      ]
    },
    {
      "cell_type": "code",
      "source": [
        "X = tf.constant(x_train.reshape(-1,28,28,1),dtype=tf.float64)\n",
        "y = tf.keras.utils.to_categorical(y_train)\n",
        "XX = tf.constant(x_test.reshape(-1,28,28,1),dtype=tf.float64)\n",
        "yy = tf.keras.utils.to_categorical(y_test)"
      ],
      "metadata": {
        "id": "ki8ABNwsWYo8"
      },
      "execution_count": 7,
      "outputs": []
    },
    {
      "cell_type": "markdown",
      "source": [
        "`-` 첫시도"
      ],
      "metadata": {
        "id": "VYBAK1N5ZNKp"
      }
    },
    {
      "cell_type": "code",
      "source": [
        "net1 = tf.keras.Sequential()\n",
        "net1.add(tf.keras.layers.Flatten())\n",
        "net1.add(tf.keras.layers.Dense(500,activation='relu'))\n",
        "net1.add(tf.keras.layers.Dense(500,activation='relu'))\n",
        "net1.add(tf.keras.layers.Dense(500,activation='relu'))\n",
        "net1.add(tf.keras.layers.Dense(10,activation='softmax'))\n",
        "net1.compile(loss=tf.losses.categorical_crossentropy, optimizer='adam',metrics=['accuracy'])\n",
        "net1.fit(X,y,epochs=5)"
      ],
      "metadata": {
        "colab": {
          "base_uri": "https://localhost:8080/"
        },
        "id": "0q_eTpYzWYrr",
        "outputId": "6995f0b2-5d0d-410f-c8f4-85e842300809"
      },
      "execution_count": 13,
      "outputs": [
        {
          "output_type": "stream",
          "name": "stdout",
          "text": [
            "Epoch 1/5\n",
            "1875/1875 [==============================] - 17s 9ms/step - loss: 1.4113 - accuracy: 0.7825\n",
            "Epoch 2/5\n",
            "1875/1875 [==============================] - 18s 10ms/step - loss: 0.4573 - accuracy: 0.8363\n",
            "Epoch 3/5\n",
            "1875/1875 [==============================] - 18s 9ms/step - loss: 0.4169 - accuracy: 0.8508\n",
            "Epoch 4/5\n",
            "1875/1875 [==============================] - 17s 9ms/step - loss: 0.3969 - accuracy: 0.8595\n",
            "Epoch 5/5\n",
            "1875/1875 [==============================] - 20s 11ms/step - loss: 0.3754 - accuracy: 0.8649\n"
          ]
        },
        {
          "output_type": "execute_result",
          "data": {
            "text/plain": [
              "<keras.callbacks.History at 0x7f4a653a1a50>"
            ]
          },
          "metadata": {},
          "execution_count": 13
        }
      ]
    },
    {
      "cell_type": "code",
      "source": [
        "net1.evaluate(XX,yy)"
      ],
      "metadata": {
        "colab": {
          "base_uri": "https://localhost:8080/"
        },
        "id": "zcENn5TuWYuz",
        "outputId": "c742db9a-b1e1-457b-b37b-bc126171e9aa"
      },
      "execution_count": 14,
      "outputs": [
        {
          "output_type": "stream",
          "name": "stdout",
          "text": [
            "313/313 [==============================] - 1s 4ms/step - loss: 0.4110 - accuracy: 0.8567\n"
          ]
        },
        {
          "output_type": "execute_result",
          "data": {
            "text/plain": [
              "[0.411011278629303, 0.8567000031471252]"
            ]
          },
          "metadata": {},
          "execution_count": 14
        }
      ]
    },
    {
      "cell_type": "code",
      "source": [
        "net1.summary()"
      ],
      "metadata": {
        "colab": {
          "base_uri": "https://localhost:8080/"
        },
        "id": "3jCP2-5BYUeQ",
        "outputId": "dff0bcd0-62fa-48e2-b667-036889978a90"
      },
      "execution_count": 15,
      "outputs": [
        {
          "output_type": "stream",
          "name": "stdout",
          "text": [
            "Model: \"sequential_3\"\n",
            "_________________________________________________________________\n",
            " Layer (type)                Output Shape              Param #   \n",
            "=================================================================\n",
            " flatten_3 (Flatten)         (None, 784)               0         \n",
            "                                                                 \n",
            " dense_10 (Dense)            (None, 500)               392500    \n",
            "                                                                 \n",
            " dense_11 (Dense)            (None, 500)               250500    \n",
            "                                                                 \n",
            " dense_12 (Dense)            (None, 500)               250500    \n",
            "                                                                 \n",
            " dense_13 (Dense)            (None, 10)                5010      \n",
            "                                                                 \n",
            "=================================================================\n",
            "Total params: 898,510\n",
            "Trainable params: 898,510\n",
            "Non-trainable params: 0\n",
            "_________________________________________________________________\n"
          ]
        }
      ]
    },
    {
      "cell_type": "markdown",
      "source": [
        "`-` 두번째 시도"
      ],
      "metadata": {
        "id": "YbnOstmHZa_w"
      }
    },
    {
      "cell_type": "code",
      "source": [
        "tf.keras.layers.Conv2D"
      ],
      "metadata": {
        "id": "MYbuz97aY_cZ"
      },
      "execution_count": null,
      "outputs": []
    },
    {
      "cell_type": "code",
      "source": [
        "tf.keras.layers.MaxPool2D"
      ],
      "metadata": {
        "id": "rhT52VkaZG64"
      },
      "execution_count": null,
      "outputs": []
    },
    {
      "cell_type": "code",
      "source": [
        "net2 = tf.keras.Sequential()\n",
        "net2.add(tf.keras.layers.Conv2D(30,(2,2),activation='relu'))\n",
        "net2.add(tf.keras.layers.MaxPool2D())\n",
        "net2.add(tf.keras.layers.Conv2D(30,(2,2),activation='relu'))\n",
        "net2.add(tf.keras.layers.MaxPool2D())\n",
        "net2.add(tf.keras.layers.Flatten())\n",
        "net2.add(tf.keras.layers.Dense(10,activation='softmax'))\n",
        "net2.compile(loss=tf.losses.categorical_crossentropy, optimizer='adam',metrics=['accuracy'])\n",
        "net2.fit(X,y,epochs=5)"
      ],
      "metadata": {
        "colab": {
          "base_uri": "https://localhost:8080/"
        },
        "id": "vqZFUtcTZdYJ",
        "outputId": "90dc1106-57c8-47fa-adca-4b5374dac419"
      },
      "execution_count": 26,
      "outputs": [
        {
          "output_type": "stream",
          "name": "stdout",
          "text": [
            "Epoch 1/5\n",
            "1875/1875 [==============================] - 54s 29ms/step - loss: 0.7907 - accuracy: 0.8077\n",
            "Epoch 2/5\n",
            "1875/1875 [==============================] - 57s 30ms/step - loss: 0.3659 - accuracy: 0.8695\n",
            "Epoch 3/5\n",
            "1875/1875 [==============================] - 53s 28ms/step - loss: 0.3247 - accuracy: 0.8829\n",
            "Epoch 4/5\n",
            "1875/1875 [==============================] - 54s 29ms/step - loss: 0.3044 - accuracy: 0.8905\n",
            "Epoch 5/5\n",
            "1875/1875 [==============================] - 54s 29ms/step - loss: 0.2899 - accuracy: 0.8944\n"
          ]
        },
        {
          "output_type": "execute_result",
          "data": {
            "text/plain": [
              "<keras.callbacks.History at 0x7f4a651cf110>"
            ]
          },
          "metadata": {},
          "execution_count": 26
        }
      ]
    },
    {
      "cell_type": "code",
      "source": [
        "net2.evaluate(XX,yy)"
      ],
      "metadata": {
        "colab": {
          "base_uri": "https://localhost:8080/"
        },
        "id": "_Pt42ia5aAX5",
        "outputId": "0280bce2-d125-4e85-fecb-deed47160b54"
      },
      "execution_count": 27,
      "outputs": [
        {
          "output_type": "stream",
          "name": "stdout",
          "text": [
            "313/313 [==============================] - 2s 6ms/step - loss: 0.3451 - accuracy: 0.8743\n"
          ]
        },
        {
          "output_type": "execute_result",
          "data": {
            "text/plain": [
              "[0.3450699746608734, 0.8743000030517578]"
            ]
          },
          "metadata": {},
          "execution_count": 27
        }
      ]
    },
    {
      "cell_type": "code",
      "source": [
        "net2.summary()"
      ],
      "metadata": {
        "colab": {
          "base_uri": "https://localhost:8080/"
        },
        "id": "ZtvS2cfsaFNy",
        "outputId": "852aaf24-fdde-4590-d4b4-969a7ae89afe"
      },
      "execution_count": 28,
      "outputs": [
        {
          "output_type": "stream",
          "name": "stdout",
          "text": [
            "Model: \"sequential_6\"\n",
            "_________________________________________________________________\n",
            " Layer (type)                Output Shape              Param #   \n",
            "=================================================================\n",
            " conv2d_3 (Conv2D)           (None, 27, 27, 30)        150       \n",
            "                                                                 \n",
            " max_pooling2d_2 (MaxPooling  (None, 13, 13, 30)       0         \n",
            " 2D)                                                             \n",
            "                                                                 \n",
            " conv2d_4 (Conv2D)           (None, 12, 12, 30)        3630      \n",
            "                                                                 \n",
            " max_pooling2d_3 (MaxPooling  (None, 6, 6, 30)         0         \n",
            " 2D)                                                             \n",
            "                                                                 \n",
            " flatten_5 (Flatten)         (None, 1080)              0         \n",
            "                                                                 \n",
            " dense_15 (Dense)            (None, 10)                10810     \n",
            "                                                                 \n",
            "=================================================================\n",
            "Total params: 14,590\n",
            "Trainable params: 14,590\n",
            "Non-trainable params: 0\n",
            "_________________________________________________________________\n"
          ]
        }
      ]
    },
    {
      "cell_type": "code",
      "source": [
        "net2.layers"
      ],
      "metadata": {
        "colab": {
          "base_uri": "https://localhost:8080/"
        },
        "id": "lNMTIAdiaiNJ",
        "outputId": "77a67b8f-f60b-453b-dd3c-35b3e976a195"
      },
      "execution_count": 29,
      "outputs": [
        {
          "output_type": "execute_result",
          "data": {
            "text/plain": [
              "[<keras.layers.convolutional.Conv2D at 0x7f4a5d070790>,\n",
              " <keras.layers.pooling.MaxPooling2D at 0x7f4a5d0b42d0>,\n",
              " <keras.layers.convolutional.Conv2D at 0x7f4a5d077e10>,\n",
              " <keras.layers.pooling.MaxPooling2D at 0x7f4a5d077fd0>,\n",
              " <keras.layers.core.flatten.Flatten at 0x7f4a651e7610>,\n",
              " <keras.layers.core.dense.Dense at 0x7f4a62154510>]"
            ]
          },
          "metadata": {},
          "execution_count": 29
        }
      ]
    },
    {
      "cell_type": "code",
      "source": [
        "c1, m1, c2, m2, flttn, dns = net2.layers"
      ],
      "metadata": {
        "id": "3lMR8_z3aRfq"
      },
      "execution_count": 30,
      "outputs": []
    },
    {
      "cell_type": "code",
      "source": [
        "print(X.shape) # 입력이미지 = 2D\n",
        "print(c1(X).shape) # 2D\n",
        "print(m1(c1(X)).shape) # 2D\n",
        "print(c2(m1(c1(X))).shape) # 2D\n",
        "print(m2(c2(m1(c1(X)))).shape) # 2D\n",
        "print(flttn(m2(c2(m1(c1(X))))).shape) # 1D\n",
        "print(dns(flttn(m2(c2(m1(c1(X)))))).shape) # 1D"
      ],
      "metadata": {
        "colab": {
          "base_uri": "https://localhost:8080/"
        },
        "id": "ZoGiRUg0aklx",
        "outputId": "d257976d-56fb-4951-8eb6-6302e3aad52d"
      },
      "execution_count": 31,
      "outputs": [
        {
          "output_type": "stream",
          "name": "stdout",
          "text": [
            "(60000, 28, 28, 1)\n",
            "(60000, 27, 27, 30)\n",
            "(60000, 13, 13, 30)\n",
            "(60000, 12, 12, 30)\n",
            "(60000, 6, 6, 30)\n",
            "(60000, 1080)\n",
            "(60000, 10)\n"
          ]
        }
      ]
    },
    {
      "cell_type": "markdown",
      "source": [
        "### maxpooling"
      ],
      "metadata": {
        "id": "RPJn4Ysnd9je"
      }
    },
    {
      "cell_type": "markdown",
      "source": [
        "#### 테스트1"
      ],
      "metadata": {
        "id": "OSDclvoifjGd"
      }
    },
    {
      "cell_type": "markdown",
      "source": [
        "`-` 레이어생성"
      ],
      "metadata": {
        "id": "9lgHjJBRfHsn"
      }
    },
    {
      "cell_type": "code",
      "source": [
        "m=tf.keras.layers.MaxPool2D()"
      ],
      "metadata": {
        "id": "avDf_B32a4DB"
      },
      "execution_count": 32,
      "outputs": []
    },
    {
      "cell_type": "code",
      "source": [
        "m"
      ],
      "metadata": {
        "colab": {
          "base_uri": "https://localhost:8080/"
        },
        "id": "O5HTBOoqbEx5",
        "outputId": "847a4e79-e42d-4a9e-e156-d27dccbc2958"
      },
      "execution_count": 33,
      "outputs": [
        {
          "output_type": "execute_result",
          "data": {
            "text/plain": [
              "<keras.layers.pooling.MaxPooling2D at 0x7f4a5c7ad910>"
            ]
          },
          "metadata": {},
          "execution_count": 33
        }
      ]
    },
    {
      "cell_type": "markdown",
      "source": [
        "`-` 입력데이터"
      ],
      "metadata": {
        "id": "oWuAwyLRfMsy"
      }
    },
    {
      "cell_type": "code",
      "source": [
        "XXX = tnp.arange(1*4*4*1).reshape(1,4,4,1)\n",
        "XXX"
      ],
      "metadata": {
        "colab": {
          "base_uri": "https://localhost:8080/"
        },
        "id": "RSK5Vzs7bKfY",
        "outputId": "d0ffdf05-1d15-4f86-f126-1c5a3815bf6a"
      },
      "execution_count": 34,
      "outputs": [
        {
          "output_type": "execute_result",
          "data": {
            "text/plain": [
              "<tf.Tensor: shape=(1, 4, 4, 1), dtype=int64, numpy=\n",
              "array([[[[ 0],\n",
              "         [ 1],\n",
              "         [ 2],\n",
              "         [ 3]],\n",
              "\n",
              "        [[ 4],\n",
              "         [ 5],\n",
              "         [ 6],\n",
              "         [ 7]],\n",
              "\n",
              "        [[ 8],\n",
              "         [ 9],\n",
              "         [10],\n",
              "         [11]],\n",
              "\n",
              "        [[12],\n",
              "         [13],\n",
              "         [14],\n",
              "         [15]]]])>"
            ]
          },
          "metadata": {},
          "execution_count": 34
        }
      ]
    },
    {
      "cell_type": "code",
      "source": [
        "XXX.reshape(1,4,4)"
      ],
      "metadata": {
        "colab": {
          "base_uri": "https://localhost:8080/"
        },
        "id": "YHwoJFAPef-x",
        "outputId": "6bb7ff52-e9ed-4d56-e3a3-89962ffe78fa"
      },
      "execution_count": 35,
      "outputs": [
        {
          "output_type": "execute_result",
          "data": {
            "text/plain": [
              "<tf.Tensor: shape=(1, 4, 4), dtype=int64, numpy=\n",
              "array([[[ 0,  1,  2,  3],\n",
              "        [ 4,  5,  6,  7],\n",
              "        [ 8,  9, 10, 11],\n",
              "        [12, 13, 14, 15]]])>"
            ]
          },
          "metadata": {},
          "execution_count": 35
        }
      ]
    },
    {
      "cell_type": "markdown",
      "source": [
        "`-` 입력데이터가 레이어를 통과한 모습"
      ],
      "metadata": {
        "id": "pouusmPPfKkR"
      }
    },
    {
      "cell_type": "code",
      "source": [
        "m(XXX).reshape(1,2,2)"
      ],
      "metadata": {
        "colab": {
          "base_uri": "https://localhost:8080/"
        },
        "id": "M9wlK13MernA",
        "outputId": "08dcec95-0849-4d56-bd29-b936a77272ae"
      },
      "execution_count": 37,
      "outputs": [
        {
          "output_type": "execute_result",
          "data": {
            "text/plain": [
              "<tf.Tensor: shape=(1, 2, 2), dtype=int64, numpy=\n",
              "array([[[ 5,  7],\n",
              "        [13, 15]]])>"
            ]
          },
          "metadata": {},
          "execution_count": 37
        }
      ]
    },
    {
      "cell_type": "markdown",
      "source": [
        "`-` MaxPool2D layer의 역할 : (2,2) 윈도우를 만들고 (2,2) 윈도우에서 max를 뽑아 값을 기록, 윈도우를 움직이면서 반복"
      ],
      "metadata": {
        "id": "qZQL3qG6fT3q"
      }
    },
    {
      "cell_type": "markdown",
      "source": [
        "#### 테스트2"
      ],
      "metadata": {
        "id": "0y1iQXa5fmDh"
      }
    },
    {
      "cell_type": "code",
      "source": [
        "XXX = tnp.arange(1*6*6*1).reshape(1,6,6,1)\n",
        "XXX.reshape(1,6,6)"
      ],
      "metadata": {
        "colab": {
          "base_uri": "https://localhost:8080/"
        },
        "id": "pEUwuMlPeuMJ",
        "outputId": "adedf5fc-ad22-4c18-d37f-106751167886"
      },
      "execution_count": 38,
      "outputs": [
        {
          "output_type": "execute_result",
          "data": {
            "text/plain": [
              "<tf.Tensor: shape=(1, 6, 6), dtype=int64, numpy=\n",
              "array([[[ 0,  1,  2,  3,  4,  5],\n",
              "        [ 6,  7,  8,  9, 10, 11],\n",
              "        [12, 13, 14, 15, 16, 17],\n",
              "        [18, 19, 20, 21, 22, 23],\n",
              "        [24, 25, 26, 27, 28, 29],\n",
              "        [30, 31, 32, 33, 34, 35]]])>"
            ]
          },
          "metadata": {},
          "execution_count": 38
        }
      ]
    },
    {
      "cell_type": "code",
      "source": [
        "m(XXX).reshape(1,3,3)"
      ],
      "metadata": {
        "colab": {
          "base_uri": "https://localhost:8080/"
        },
        "id": "-ux_v85Jft8A",
        "outputId": "aa76946c-b69b-4a45-83c5-669f68039152"
      },
      "execution_count": 39,
      "outputs": [
        {
          "output_type": "execute_result",
          "data": {
            "text/plain": [
              "<tf.Tensor: shape=(1, 3, 3), dtype=int64, numpy=\n",
              "array([[[ 7,  9, 11],\n",
              "        [19, 21, 23],\n",
              "        [31, 33, 35]]])>"
            ]
          },
          "metadata": {},
          "execution_count": 39
        }
      ]
    },
    {
      "cell_type": "markdown",
      "source": [
        "#### 테스트3"
      ],
      "metadata": {
        "id": "pbUWKRizf9Z6"
      }
    },
    {
      "cell_type": "code",
      "source": [
        "m=tf.keras.layers.MaxPool2D(pool_size=(3,3))"
      ],
      "metadata": {
        "id": "sbR_8YWvfw8X"
      },
      "execution_count": 41,
      "outputs": []
    },
    {
      "cell_type": "code",
      "source": [
        "XXX = tnp.arange(1*6*6*1).reshape(1,6,6,1)\n",
        "XXX.reshape(1,6,6)"
      ],
      "metadata": {
        "colab": {
          "base_uri": "https://localhost:8080/"
        },
        "id": "n780c56xgC1Z",
        "outputId": "ab9af8d0-de9e-4b8f-d530-e1f44d970c08"
      },
      "execution_count": 42,
      "outputs": [
        {
          "output_type": "execute_result",
          "data": {
            "text/plain": [
              "<tf.Tensor: shape=(1, 6, 6), dtype=int64, numpy=\n",
              "array([[[ 0,  1,  2,  3,  4,  5],\n",
              "        [ 6,  7,  8,  9, 10, 11],\n",
              "        [12, 13, 14, 15, 16, 17],\n",
              "        [18, 19, 20, 21, 22, 23],\n",
              "        [24, 25, 26, 27, 28, 29],\n",
              "        [30, 31, 32, 33, 34, 35]]])>"
            ]
          },
          "metadata": {},
          "execution_count": 42
        }
      ]
    },
    {
      "cell_type": "code",
      "source": [
        "m(XXX).reshape(1,2,2)"
      ],
      "metadata": {
        "colab": {
          "base_uri": "https://localhost:8080/"
        },
        "id": "LcQDxo3zgNyA",
        "outputId": "47d5c80a-0074-466a-8f95-cfac3d0e1568"
      },
      "execution_count": 43,
      "outputs": [
        {
          "output_type": "execute_result",
          "data": {
            "text/plain": [
              "<tf.Tensor: shape=(1, 2, 2), dtype=int64, numpy=\n",
              "array([[[14, 17],\n",
              "        [32, 35]]])>"
            ]
          },
          "metadata": {},
          "execution_count": 43
        }
      ]
    },
    {
      "cell_type": "markdown",
      "source": [
        "#### 테스트4"
      ],
      "metadata": {
        "id": "1MuYGl8Bgkly"
      }
    },
    {
      "cell_type": "code",
      "source": [
        "m=tf.keras.layers.MaxPool2D(pool_size=(2,2))"
      ],
      "metadata": {
        "id": "puGThyMQgQyI"
      },
      "execution_count": 44,
      "outputs": []
    },
    {
      "cell_type": "code",
      "source": [
        "XXX = tnp.arange(1*5*5*1).reshape(1,5,5,1)\n",
        "XXX.reshape(1,5,5)"
      ],
      "metadata": {
        "colab": {
          "base_uri": "https://localhost:8080/"
        },
        "id": "nkWILhQXgqSR",
        "outputId": "0f551d58-affd-410b-9429-ec1a6ebfe803"
      },
      "execution_count": 45,
      "outputs": [
        {
          "output_type": "execute_result",
          "data": {
            "text/plain": [
              "<tf.Tensor: shape=(1, 5, 5), dtype=int64, numpy=\n",
              "array([[[ 0,  1,  2,  3,  4],\n",
              "        [ 5,  6,  7,  8,  9],\n",
              "        [10, 11, 12, 13, 14],\n",
              "        [15, 16, 17, 18, 19],\n",
              "        [20, 21, 22, 23, 24]]])>"
            ]
          },
          "metadata": {},
          "execution_count": 45
        }
      ]
    },
    {
      "cell_type": "code",
      "source": [
        "m(XXX).reshape(1,2,2)"
      ],
      "metadata": {
        "colab": {
          "base_uri": "https://localhost:8080/"
        },
        "id": "acpkYtKKgvGh",
        "outputId": "f04cb4da-ba33-4ee1-fcf5-9cd7c5f7754a"
      },
      "execution_count": 46,
      "outputs": [
        {
          "output_type": "execute_result",
          "data": {
            "text/plain": [
              "<tf.Tensor: shape=(1, 2, 2), dtype=int64, numpy=\n",
              "array([[[ 6,  8],\n",
              "        [16, 18]]])>"
            ]
          },
          "metadata": {},
          "execution_count": 46
        }
      ]
    },
    {
      "cell_type": "code",
      "source": [
        "m=tf.keras.layers.MaxPool2D(pool_size=(2,2),padding=\"same\")"
      ],
      "metadata": {
        "id": "qKJLfZXFgylJ"
      },
      "execution_count": 47,
      "outputs": []
    },
    {
      "cell_type": "code",
      "source": [
        "XXX = tnp.arange(1*5*5*1).reshape(1,5,5,1)\n",
        "XXX.reshape(1,5,5)"
      ],
      "metadata": {
        "colab": {
          "base_uri": "https://localhost:8080/"
        },
        "id": "WP48aBZihVbk",
        "outputId": "8947bab4-256a-48a2-edee-8b6399ca4828"
      },
      "execution_count": 48,
      "outputs": [
        {
          "output_type": "execute_result",
          "data": {
            "text/plain": [
              "<tf.Tensor: shape=(1, 5, 5), dtype=int64, numpy=\n",
              "array([[[ 0,  1,  2,  3,  4],\n",
              "        [ 5,  6,  7,  8,  9],\n",
              "        [10, 11, 12, 13, 14],\n",
              "        [15, 16, 17, 18, 19],\n",
              "        [20, 21, 22, 23, 24]]])>"
            ]
          },
          "metadata": {},
          "execution_count": 48
        }
      ]
    },
    {
      "cell_type": "code",
      "source": [
        "m(XXX).reshape(1,3,3)"
      ],
      "metadata": {
        "colab": {
          "base_uri": "https://localhost:8080/"
        },
        "id": "7dGrXbIvhVm6",
        "outputId": "11cdda1d-5a78-4060-8d73-5abb8f9323ef"
      },
      "execution_count": 49,
      "outputs": [
        {
          "output_type": "execute_result",
          "data": {
            "text/plain": [
              "<tf.Tensor: shape=(1, 3, 3), dtype=int64, numpy=\n",
              "array([[[ 6,  8,  9],\n",
              "        [16, 18, 19],\n",
              "        [21, 23, 24]]])>"
            ]
          },
          "metadata": {},
          "execution_count": 49
        }
      ]
    },
    {
      "cell_type": "markdown",
      "source": [
        "#### 테스트5"
      ],
      "metadata": {
        "id": "nzUCRasWiGQj"
      }
    },
    {
      "cell_type": "code",
      "source": [
        "XXX = tnp.arange(2*4*4*1).reshape(2,4,4,1)\n",
        "XXX.reshape(2,4,4)"
      ],
      "metadata": {
        "colab": {
          "base_uri": "https://localhost:8080/"
        },
        "id": "qqlIfdywhd5i",
        "outputId": "1a872e4d-4ca7-4ee9-c91c-b7519da1f3db"
      },
      "execution_count": 50,
      "outputs": [
        {
          "output_type": "execute_result",
          "data": {
            "text/plain": [
              "<tf.Tensor: shape=(2, 4, 4), dtype=int64, numpy=\n",
              "array([[[ 0,  1,  2,  3],\n",
              "        [ 4,  5,  6,  7],\n",
              "        [ 8,  9, 10, 11],\n",
              "        [12, 13, 14, 15]],\n",
              "\n",
              "       [[16, 17, 18, 19],\n",
              "        [20, 21, 22, 23],\n",
              "        [24, 25, 26, 27],\n",
              "        [28, 29, 30, 31]]])>"
            ]
          },
          "metadata": {},
          "execution_count": 50
        }
      ]
    },
    {
      "cell_type": "code",
      "source": [
        "m(XXX).reshape(2,2,2)"
      ],
      "metadata": {
        "colab": {
          "base_uri": "https://localhost:8080/"
        },
        "id": "IIZX65AKiQXP",
        "outputId": "4cc181b8-b70f-45f2-bebd-0755e35a19b5"
      },
      "execution_count": 51,
      "outputs": [
        {
          "output_type": "execute_result",
          "data": {
            "text/plain": [
              "<tf.Tensor: shape=(2, 2, 2), dtype=int64, numpy=\n",
              "array([[[ 5,  7],\n",
              "        [13, 15]],\n",
              "\n",
              "       [[21, 23],\n",
              "        [29, 31]]])>"
            ]
          },
          "metadata": {},
          "execution_count": 51
        }
      ]
    },
    {
      "cell_type": "markdown",
      "source": [
        "#### 테스트6"
      ],
      "metadata": {
        "id": "-x00ItuUibZy"
      }
    },
    {
      "cell_type": "code",
      "source": [
        "XXX = tnp.arange(1*4*4*3).reshape(1,4,4,3)\n",
        "XXX.reshape(1,4,4,3)"
      ],
      "metadata": {
        "colab": {
          "base_uri": "https://localhost:8080/"
        },
        "id": "vASGE1P5iXCq",
        "outputId": "c500eebb-35f8-4945-f192-bbdbe80753c2"
      },
      "execution_count": 52,
      "outputs": [
        {
          "output_type": "execute_result",
          "data": {
            "text/plain": [
              "<tf.Tensor: shape=(1, 4, 4, 3), dtype=int64, numpy=\n",
              "array([[[[ 0,  1,  2],\n",
              "         [ 3,  4,  5],\n",
              "         [ 6,  7,  8],\n",
              "         [ 9, 10, 11]],\n",
              "\n",
              "        [[12, 13, 14],\n",
              "         [15, 16, 17],\n",
              "         [18, 19, 20],\n",
              "         [21, 22, 23]],\n",
              "\n",
              "        [[24, 25, 26],\n",
              "         [27, 28, 29],\n",
              "         [30, 31, 32],\n",
              "         [33, 34, 35]],\n",
              "\n",
              "        [[36, 37, 38],\n",
              "         [39, 40, 41],\n",
              "         [42, 43, 44],\n",
              "         [45, 46, 47]]]])>"
            ]
          },
          "metadata": {},
          "execution_count": 52
        }
      ]
    },
    {
      "cell_type": "code",
      "source": [
        "XXX[:,:,:,0]"
      ],
      "metadata": {
        "colab": {
          "base_uri": "https://localhost:8080/"
        },
        "id": "rnt0ZIrzitQT",
        "outputId": "bad38b36-6dba-463d-9ee3-d7fe47525c6b"
      },
      "execution_count": 53,
      "outputs": [
        {
          "output_type": "execute_result",
          "data": {
            "text/plain": [
              "<tf.Tensor: shape=(1, 4, 4), dtype=int64, numpy=\n",
              "array([[[ 0,  3,  6,  9],\n",
              "        [12, 15, 18, 21],\n",
              "        [24, 27, 30, 33],\n",
              "        [36, 39, 42, 45]]])>"
            ]
          },
          "metadata": {},
          "execution_count": 53
        }
      ]
    },
    {
      "cell_type": "code",
      "source": [
        "XXX[...,0]"
      ],
      "metadata": {
        "colab": {
          "base_uri": "https://localhost:8080/"
        },
        "id": "9udRZ1Mjixvy",
        "outputId": "763baec6-2549-45c9-8d5a-0458b570cbdc"
      },
      "execution_count": 54,
      "outputs": [
        {
          "output_type": "execute_result",
          "data": {
            "text/plain": [
              "<tf.Tensor: shape=(1, 4, 4), dtype=int64, numpy=\n",
              "array([[[ 0,  3,  6,  9],\n",
              "        [12, 15, 18, 21],\n",
              "        [24, 27, 30, 33],\n",
              "        [36, 39, 42, 45]]])>"
            ]
          },
          "metadata": {},
          "execution_count": 54
        }
      ]
    },
    {
      "cell_type": "code",
      "source": [
        "m(XXX)"
      ],
      "metadata": {
        "colab": {
          "base_uri": "https://localhost:8080/"
        },
        "id": "dj55aV20i3zM",
        "outputId": "fcad252a-22aa-48f6-a6cf-3defedbbc3f3"
      },
      "execution_count": 56,
      "outputs": [
        {
          "output_type": "execute_result",
          "data": {
            "text/plain": [
              "<tf.Tensor: shape=(1, 2, 2, 3), dtype=int64, numpy=\n",
              "array([[[[15, 16, 17],\n",
              "         [21, 22, 23]],\n",
              "\n",
              "        [[39, 40, 41],\n",
              "         [45, 46, 47]]]])>"
            ]
          },
          "metadata": {},
          "execution_count": 56
        }
      ]
    },
    {
      "cell_type": "code",
      "source": [
        "m(XXX)[...,0]"
      ],
      "metadata": {
        "colab": {
          "base_uri": "https://localhost:8080/"
        },
        "id": "-U2EaL3likVL",
        "outputId": "ff74adc4-8c8b-4cef-c489-01e02f50627e"
      },
      "execution_count": 55,
      "outputs": [
        {
          "output_type": "execute_result",
          "data": {
            "text/plain": [
              "<tf.Tensor: shape=(1, 2, 2), dtype=int64, numpy=\n",
              "array([[[15, 21],\n",
              "        [39, 45]]])>"
            ]
          },
          "metadata": {},
          "execution_count": 55
        }
      ]
    },
    {
      "cell_type": "markdown",
      "source": [
        "### Convolution"
      ],
      "metadata": {
        "id": "PF0FTycmjHfr"
      }
    },
    {
      "cell_type": "markdown",
      "source": [
        "#### test1"
      ],
      "metadata": {
        "id": "Jv02wJRNmcfM"
      }
    },
    {
      "cell_type": "markdown",
      "source": [
        "`-` 레이어생성"
      ],
      "metadata": {
        "id": "xdipFTUbmf9b"
      }
    },
    {
      "cell_type": "code",
      "source": [
        "cnv=tf.keras.layers.Conv2D(1,(2,2))"
      ],
      "metadata": {
        "id": "-1FSA8mUi1_J"
      },
      "execution_count": 57,
      "outputs": []
    },
    {
      "cell_type": "code",
      "source": [
        "cnv"
      ],
      "metadata": {
        "colab": {
          "base_uri": "https://localhost:8080/"
        },
        "id": "LnKAzJtsjNxy",
        "outputId": "4c150f32-7401-4ee7-cc0f-9b1ece30da40"
      },
      "execution_count": 58,
      "outputs": [
        {
          "output_type": "execute_result",
          "data": {
            "text/plain": [
              "<keras.layers.convolutional.Conv2D at 0x7f4a5a553bd0>"
            ]
          },
          "metadata": {},
          "execution_count": 58
        }
      ]
    },
    {
      "cell_type": "markdown",
      "source": [
        "`-` XXX생성"
      ],
      "metadata": {
        "id": "C5NlRvQGmjDW"
      }
    },
    {
      "cell_type": "code",
      "source": [
        "XXX = tnp.arange(1*4*4*1,dtype=tf.float64).reshape(1,4,4,1) # type이 float여야 에러가 안남.\n",
        "XXX.reshape(1,4,4)"
      ],
      "metadata": {
        "colab": {
          "base_uri": "https://localhost:8080/"
        },
        "id": "3wfaxC7HjN6r",
        "outputId": "804ce5c3-9556-4283-92fc-5601c1a2d8cb"
      },
      "execution_count": 67,
      "outputs": [
        {
          "output_type": "execute_result",
          "data": {
            "text/plain": [
              "<tf.Tensor: shape=(1, 4, 4), dtype=float64, numpy=\n",
              "array([[[ 0.,  1.,  2.,  3.],\n",
              "        [ 4.,  5.,  6.,  7.],\n",
              "        [ 8.,  9., 10., 11.],\n",
              "        [12., 13., 14., 15.]]])>"
            ]
          },
          "metadata": {},
          "execution_count": 67
        }
      ]
    },
    {
      "cell_type": "code",
      "source": [
        "cnv(XXX).reshape(1,3,3)"
      ],
      "metadata": {
        "colab": {
          "base_uri": "https://localhost:8080/"
        },
        "id": "xYL5WOXgjODy",
        "outputId": "49eb5be6-4e64-4a43-dbc7-7dcb64c487cd"
      },
      "execution_count": 68,
      "outputs": [
        {
          "output_type": "execute_result",
          "data": {
            "text/plain": [
              "<tf.Tensor: shape=(1, 3, 3), dtype=float32, numpy=\n",
              "array([[[ 6.5743356,  8.77266  , 10.970985 ],\n",
              "        [15.367638 , 17.565962 , 19.764288 ],\n",
              "        [24.160938 , 26.359262 , 28.557589 ]]], dtype=float32)>"
            ]
          },
          "metadata": {},
          "execution_count": 68
        }
      ]
    },
    {
      "cell_type": "markdown",
      "source": [
        "- XXX에서 cnv(XXX)로 가는 맵핑을 찾는건 쉽지 않아보인다.\n",
        "- 심지어 랜덤으로 결정되는 부분도 있어보임"
      ],
      "metadata": {
        "id": "d1-oOlELnHec"
      }
    },
    {
      "cell_type": "markdown",
      "source": [
        "`-` 코드정리 + 시드통일"
      ],
      "metadata": {
        "id": "CIAwi9nWnRUD"
      }
    },
    {
      "cell_type": "code",
      "source": [
        "tf.random.set_seed(43052)\n",
        "cnv = tf.keras.layers.Conv2D(1,(2,2))\n",
        "XXX = tnp.arange(1*4*4*1,dtype=tf.float64).reshape(1,4,4,1) "
      ],
      "metadata": {
        "id": "O3zcLj9DjOGy"
      },
      "execution_count": 69,
      "outputs": []
    },
    {
      "cell_type": "code",
      "source": [
        "print(XXX.reshape(1,4,4))\n",
        "print(cnv(XXX).reshape(1,3,3))"
      ],
      "metadata": {
        "colab": {
          "base_uri": "https://localhost:8080/"
        },
        "id": "FiW65ybMjOJr",
        "outputId": "038c3e9e-c616-48cd-a821-edbf0a09dca3"
      },
      "execution_count": 70,
      "outputs": [
        {
          "output_type": "stream",
          "name": "stdout",
          "text": [
            "tf.Tensor(\n",
            "[[[ 0.  1.  2.  3.]\n",
            "  [ 4.  5.  6.  7.]\n",
            "  [ 8.  9. 10. 11.]\n",
            "  [12. 13. 14. 15.]]], shape=(1, 4, 4), dtype=float64)\n",
            "tf.Tensor(\n",
            "[[[ -4.125754   -5.312817   -6.4998803]\n",
            "  [ -8.874006  -10.0610695 -11.248133 ]\n",
            "  [-13.62226   -14.809322  -15.996386 ]]], shape=(1, 3, 3), dtype=float32)\n"
          ]
        }
      ]
    },
    {
      "cell_type": "code",
      "source": [
        "cnv.weights"
      ],
      "metadata": {
        "colab": {
          "base_uri": "https://localhost:8080/"
        },
        "id": "KbEYyr5ljOMa",
        "outputId": "925e55c3-b49c-40d5-a0dc-dd1faeebe961"
      },
      "execution_count": 71,
      "outputs": [
        {
          "output_type": "execute_result",
          "data": {
            "text/plain": [
              "[<tf.Variable 'conv2d_6/kernel:0' shape=(2, 2, 1, 1) dtype=float32, numpy=\n",
              " array([[[[-0.13014299]],\n",
              " \n",
              "         [[-0.23927206]]],\n",
              " \n",
              " \n",
              "        [[[-0.20175874]],\n",
              " \n",
              "         [[-0.6158894 ]]]], dtype=float32)>,\n",
              " <tf.Variable 'conv2d_6/bias:0' shape=(1,) dtype=float32, numpy=array([0.], dtype=float32)>]"
            ]
          },
          "metadata": {},
          "execution_count": 71
        }
      ]
    },
    {
      "cell_type": "code",
      "source": [
        "type(cnv.weights)"
      ],
      "metadata": {
        "colab": {
          "base_uri": "https://localhost:8080/"
        },
        "id": "jphWlWVcjOPF",
        "outputId": "8f3d1f94-cc3d-47ee-e047-d5ee3bccf108"
      },
      "execution_count": 72,
      "outputs": [
        {
          "output_type": "execute_result",
          "data": {
            "text/plain": [
              "list"
            ]
          },
          "metadata": {},
          "execution_count": 72
        }
      ]
    },
    {
      "cell_type": "code",
      "source": [
        "cnv.weights[0]"
      ],
      "metadata": {
        "colab": {
          "base_uri": "https://localhost:8080/"
        },
        "id": "kJ8A9qR6jOSD",
        "outputId": "1362b01f-441f-4ceb-d89b-299f29e0eff7"
      },
      "execution_count": 73,
      "outputs": [
        {
          "output_type": "execute_result",
          "data": {
            "text/plain": [
              "<tf.Variable 'conv2d_6/kernel:0' shape=(2, 2, 1, 1) dtype=float32, numpy=\n",
              "array([[[[-0.13014299]],\n",
              "\n",
              "        [[-0.23927206]]],\n",
              "\n",
              "\n",
              "       [[[-0.20175874]],\n",
              "\n",
              "        [[-0.6158894 ]]]], dtype=float32)>"
            ]
          },
          "metadata": {},
          "execution_count": 73
        }
      ]
    },
    {
      "cell_type": "code",
      "source": [
        "tf.reshape(cnv.weights[0],(2,2))"
      ],
      "metadata": {
        "colab": {
          "base_uri": "https://localhost:8080/"
        },
        "id": "13WfOrxxjOVj",
        "outputId": "dc4c7519-2704-4360-84c6-d599b43d7c56"
      },
      "execution_count": 74,
      "outputs": [
        {
          "output_type": "execute_result",
          "data": {
            "text/plain": [
              "<tf.Tensor: shape=(2, 2), dtype=float32, numpy=\n",
              "array([[-0.13014299, -0.23927206],\n",
              "       [-0.20175874, -0.6158894 ]], dtype=float32)>"
            ]
          },
          "metadata": {},
          "execution_count": 74
        }
      ]
    },
    {
      "cell_type": "code",
      "source": [
        "print(XXX.reshape(1,4,4))\n",
        "print(cnv(XXX).reshape(1,3,3))"
      ],
      "metadata": {
        "colab": {
          "base_uri": "https://localhost:8080/"
        },
        "id": "_CAX8P_IjOak",
        "outputId": "2e6afd13-8367-4e31-8929-15c551f5e031"
      },
      "execution_count": 75,
      "outputs": [
        {
          "output_type": "stream",
          "name": "stdout",
          "text": [
            "tf.Tensor(\n",
            "[[[ 0.  1.  2.  3.]\n",
            "  [ 4.  5.  6.  7.]\n",
            "  [ 8.  9. 10. 11.]\n",
            "  [12. 13. 14. 15.]]], shape=(1, 4, 4), dtype=float64)\n",
            "tf.Tensor(\n",
            "[[[ -4.125754   -5.312817   -6.4998803]\n",
            "  [ -8.874006  -10.0610695 -11.248133 ]\n",
            "  [-13.62226   -14.809322  -15.996386 ]]], shape=(1, 3, 3), dtype=float32)\n"
          ]
        }
      ]
    },
    {
      "cell_type": "code",
      "source": [
        "tf.reshape(cnv.weights[0],(2,2))"
      ],
      "metadata": {
        "colab": {
          "base_uri": "https://localhost:8080/"
        },
        "id": "R1z4wIFjjOf9",
        "outputId": "0b60ca87-830b-4c74-99bd-5e5aa4a69f69"
      },
      "execution_count": 76,
      "outputs": [
        {
          "output_type": "execute_result",
          "data": {
            "text/plain": [
              "<tf.Tensor: shape=(2, 2), dtype=float32, numpy=\n",
              "array([[-0.13014299, -0.23927206],\n",
              "       [-0.20175874, -0.6158894 ]], dtype=float32)>"
            ]
          },
          "metadata": {},
          "execution_count": 76
        }
      ]
    },
    {
      "cell_type": "code",
      "source": [
        "0 * (-0.13014299) + 1 * (-0.23927206) + 4 * (-0.20175874) + 5 * (-0.6158894) + 0"
      ],
      "metadata": {
        "colab": {
          "base_uri": "https://localhost:8080/"
        },
        "id": "kchKse6OjOia",
        "outputId": "77d606e9-a7c8-4572-8576-fd1571286b9b"
      },
      "execution_count": 81,
      "outputs": [
        {
          "output_type": "execute_result",
          "data": {
            "text/plain": [
              "-4.1257540200000005"
            ]
          },
          "metadata": {},
          "execution_count": 81
        }
      ]
    },
    {
      "cell_type": "code",
      "source": [
        "cnv.get_weights()"
      ],
      "metadata": {
        "colab": {
          "base_uri": "https://localhost:8080/"
        },
        "id": "40VnPjMHjOlS",
        "outputId": "4ffe5fe7-9eeb-4d33-98a6-e3e7a1d6e9a4"
      },
      "execution_count": 79,
      "outputs": [
        {
          "output_type": "execute_result",
          "data": {
            "text/plain": [
              "[array([[[[-0.13014299]],\n",
              " \n",
              "         [[-0.23927206]]],\n",
              " \n",
              " \n",
              "        [[[-0.20175874]],\n",
              " \n",
              "         [[-0.6158894 ]]]], dtype=float32), array([0.], dtype=float32)]"
            ]
          },
          "metadata": {},
          "execution_count": 79
        }
      ]
    },
    {
      "cell_type": "code",
      "source": [
        "cnv.weights"
      ],
      "metadata": {
        "colab": {
          "base_uri": "https://localhost:8080/"
        },
        "id": "PZNMZOlDjOn6",
        "outputId": "c76c45fc-a290-4268-d377-a845a7f3d47b"
      },
      "execution_count": 80,
      "outputs": [
        {
          "output_type": "execute_result",
          "data": {
            "text/plain": [
              "[<tf.Variable 'conv2d_6/kernel:0' shape=(2, 2, 1, 1) dtype=float32, numpy=\n",
              " array([[[[-0.13014299]],\n",
              " \n",
              "         [[-0.23927206]]],\n",
              " \n",
              " \n",
              "        [[[-0.20175874]],\n",
              " \n",
              "         [[-0.6158894 ]]]], dtype=float32)>,\n",
              " <tf.Variable 'conv2d_6/bias:0' shape=(1,) dtype=float32, numpy=array([0.], dtype=float32)>]"
            ]
          },
          "metadata": {},
          "execution_count": 80
        }
      ]
    },
    {
      "cell_type": "code",
      "source": [
        "cnv.get_weights()[0].shape"
      ],
      "metadata": {
        "colab": {
          "base_uri": "https://localhost:8080/"
        },
        "id": "-Z46cCJcjOqq",
        "outputId": "159d9ba0-8997-4a00-d949-8ea0116d32c8"
      },
      "execution_count": 82,
      "outputs": [
        {
          "output_type": "execute_result",
          "data": {
            "text/plain": [
              "(2, 2, 1, 1)"
            ]
          },
          "metadata": {},
          "execution_count": 82
        }
      ]
    },
    {
      "cell_type": "code",
      "source": [
        "w = np.array([1/4,1/4,1/4,1/4],dtype=np.float32).reshape(2,2,1,1)\n",
        "b = np.array([3],dtype=np.float32)"
      ],
      "metadata": {
        "id": "trV3_ugIjOti"
      },
      "execution_count": 89,
      "outputs": []
    },
    {
      "cell_type": "code",
      "source": [
        "[w,b]"
      ],
      "metadata": {
        "colab": {
          "base_uri": "https://localhost:8080/"
        },
        "id": "_uE0cuK1jOwT",
        "outputId": "07b6387f-aac0-4673-ee90-43a22f81f885"
      },
      "execution_count": 90,
      "outputs": [
        {
          "output_type": "execute_result",
          "data": {
            "text/plain": [
              "[array([[[[0.25]],\n",
              " \n",
              "         [[0.25]]],\n",
              " \n",
              " \n",
              "        [[[0.25]],\n",
              " \n",
              "         [[0.25]]]], dtype=float32), array([3.], dtype=float32)]"
            ]
          },
          "metadata": {},
          "execution_count": 90
        }
      ]
    },
    {
      "cell_type": "code",
      "source": [
        "cnv.set_weights([w,b])"
      ],
      "metadata": {
        "id": "gVdoTqe5pWH2"
      },
      "execution_count": 91,
      "outputs": []
    },
    {
      "cell_type": "code",
      "source": [
        "cnv(XXX).reshape(1,3,3)"
      ],
      "metadata": {
        "colab": {
          "base_uri": "https://localhost:8080/"
        },
        "id": "YGkdGfPspWKj",
        "outputId": "855cd92e-ef10-4b75-db0d-824e92d01aba"
      },
      "execution_count": 93,
      "outputs": [
        {
          "output_type": "execute_result",
          "data": {
            "text/plain": [
              "<tf.Tensor: shape=(1, 3, 3), dtype=float32, numpy=\n",
              "array([[[ 5.5,  6.5,  7.5],\n",
              "        [ 9.5, 10.5, 11.5],\n",
              "        [13.5, 14.5, 15.5]]], dtype=float32)>"
            ]
          },
          "metadata": {},
          "execution_count": 93
        }
      ]
    },
    {
      "cell_type": "code",
      "source": [
        "np.mean([0,1,4,5])+3, np.mean([1,2,5,6])+3, np.mean([2,3,6,7])+3  "
      ],
      "metadata": {
        "colab": {
          "base_uri": "https://localhost:8080/"
        },
        "id": "vN90VZmepWNl",
        "outputId": "fa1edfb1-cf43-451b-aec8-e3aefc33b2ec"
      },
      "execution_count": 95,
      "outputs": [
        {
          "output_type": "execute_result",
          "data": {
            "text/plain": [
              "(5.5, 6.5, 7.5)"
            ]
          },
          "metadata": {},
          "execution_count": 95
        }
      ]
    },
    {
      "cell_type": "markdown",
      "source": [
        "### conv2D의 동작 요약"
      ],
      "metadata": {
        "id": "_Y4pzFOTqUGb"
      }
    },
    {
      "cell_type": "markdown",
      "source": [
        "`-` 요약\n",
        "\n",
        "(1) size=(2,2)인 윈도우를 만듬.\n",
        "\n",
        "(2) XXX에 윈도우를 통과시켜서 (2,2)크기의 sub XXX를 얻음. sub XXX의 각 원소에 conv2d.weights[0]의 각 원소를 element-wise하게 곱한다.\n",
        "\n",
        "(3) (2)의 결과를 모두 더한다. 그리고 그 결과에 다시 conv2d.weights[1]을 수행\n",
        "\n",
        "(4) 윈도우를 이동시키면서 반복!"
      ],
      "metadata": {
        "id": "bv6lxPbwqmqc"
      }
    },
    {
      "cell_type": "markdown",
      "source": [
        "#### test2"
      ],
      "metadata": {
        "id": "_8_oRjKfrNv9"
      }
    },
    {
      "cell_type": "code",
      "source": [
        "tf.random.set_seed(43052)\n",
        "cnv = tf.keras.layers.Conv2D(1,(3,3))\n",
        "XXX = tnp.arange(1*5*5*1,dtype=tf.float64).reshape(1,5,5,1) "
      ],
      "metadata": {
        "id": "d7dI_hQspWTa"
      },
      "execution_count": 96,
      "outputs": []
    },
    {
      "cell_type": "code",
      "source": [
        "XXX.reshape(1,5,5)"
      ],
      "metadata": {
        "colab": {
          "base_uri": "https://localhost:8080/"
        },
        "id": "KmXEDSI0jOzS",
        "outputId": "3d0fcd48-3c0a-4dba-e432-aeb4654ec3b8"
      },
      "execution_count": 97,
      "outputs": [
        {
          "output_type": "execute_result",
          "data": {
            "text/plain": [
              "<tf.Tensor: shape=(1, 5, 5), dtype=float64, numpy=\n",
              "array([[[ 0.,  1.,  2.,  3.,  4.],\n",
              "        [ 5.,  6.,  7.,  8.,  9.],\n",
              "        [10., 11., 12., 13., 14.],\n",
              "        [15., 16., 17., 18., 19.],\n",
              "        [20., 21., 22., 23., 24.]]])>"
            ]
          },
          "metadata": {},
          "execution_count": 97
        }
      ]
    },
    {
      "cell_type": "code",
      "source": [
        "cnv(XXX).reshape(1,3,3)"
      ],
      "metadata": {
        "colab": {
          "base_uri": "https://localhost:8080/"
        },
        "id": "4jZBbk6UrV3y",
        "outputId": "bc0f7e2f-9e21-4c88-e408-8dac5584c244"
      },
      "execution_count": 98,
      "outputs": [
        {
          "output_type": "execute_result",
          "data": {
            "text/plain": [
              "<tf.Tensor: shape=(1, 3, 3), dtype=float32, numpy=\n",
              "array([[[ 2.7395773 ,  2.2492638 ,  1.7589507 ],\n",
              "        [ 0.2880106 , -0.20230293, -0.6926167 ],\n",
              "        [-2.163556  , -2.6538692 , -3.1441827 ]]], dtype=float32)>"
            ]
          },
          "metadata": {},
          "execution_count": 98
        }
      ]
    },
    {
      "cell_type": "code",
      "source": [
        "tf.reshape(cnv.weights[0],(3,3))"
      ],
      "metadata": {
        "colab": {
          "base_uri": "https://localhost:8080/"
        },
        "id": "MSgW-RyQrYzy",
        "outputId": "94f732ba-74ec-4ccf-c68d-7ce2f6e7a97d"
      },
      "execution_count": 99,
      "outputs": [
        {
          "output_type": "execute_result",
          "data": {
            "text/plain": [
              "<tf.Tensor: shape=(3, 3), dtype=float32, numpy=\n",
              "array([[-0.08676198, -0.1595147 , -0.13450584],\n",
              "       [-0.4105929 , -0.38366908,  0.07744962],\n",
              "       [-0.09255642,  0.4915564 ,  0.20828158]], dtype=float32)>"
            ]
          },
          "metadata": {},
          "execution_count": 99
        }
      ]
    },
    {
      "cell_type": "code",
      "source": [
        "XXX.reshape(1,5,5)[0,:3,:3]"
      ],
      "metadata": {
        "colab": {
          "base_uri": "https://localhost:8080/"
        },
        "id": "oBEG2khLrlQx",
        "outputId": "acc0fc37-b46c-4794-9dd5-96b26010e2a6"
      },
      "execution_count": 100,
      "outputs": [
        {
          "output_type": "execute_result",
          "data": {
            "text/plain": [
              "<tf.Tensor: shape=(3, 3), dtype=float64, numpy=\n",
              "array([[ 0.,  1.,  2.],\n",
              "       [ 5.,  6.,  7.],\n",
              "       [10., 11., 12.]])>"
            ]
          },
          "metadata": {},
          "execution_count": 100
        }
      ]
    },
    {
      "cell_type": "code",
      "source": [
        "cnv(XXX).reshape(1,3,3)"
      ],
      "metadata": {
        "colab": {
          "base_uri": "https://localhost:8080/"
        },
        "id": "v21X91TbsYwj",
        "outputId": "21e4aeb2-c99b-4639-a011-efcff77a1226"
      },
      "execution_count": 102,
      "outputs": [
        {
          "output_type": "execute_result",
          "data": {
            "text/plain": [
              "<tf.Tensor: shape=(1, 3, 3), dtype=float32, numpy=\n",
              "array([[[ 2.7395773 ,  2.2492638 ,  1.7589507 ],\n",
              "        [ 0.2880106 , -0.20230293, -0.6926167 ],\n",
              "        [-2.163556  , -2.6538692 , -3.1441827 ]]], dtype=float32)>"
            ]
          },
          "metadata": {},
          "execution_count": 102
        }
      ]
    },
    {
      "cell_type": "code",
      "source": [
        "tf.reduce_sum(XXX.reshape(1,5,5)[0,:3,:3] * tf.reshape(cnv.weights[0],(3,3)))"
      ],
      "metadata": {
        "colab": {
          "base_uri": "https://localhost:8080/"
        },
        "id": "6REvCDrXrrV5",
        "outputId": "3e2c2da7-60c5-44a7-fb78-97f310499483"
      },
      "execution_count": 101,
      "outputs": [
        {
          "output_type": "execute_result",
          "data": {
            "text/plain": [
              "<tf.Tensor: shape=(), dtype=float64, numpy=2.739577144384384>"
            ]
          },
          "metadata": {},
          "execution_count": 101
        }
      ]
    },
    {
      "cell_type": "markdown",
      "source": [
        "#### test3"
      ],
      "metadata": {
        "id": "EchImyuKslyU"
      }
    },
    {
      "cell_type": "code",
      "source": [
        "XXX = tf.constant([[3,3,2,1,0],[0,0,1,3,1],[3,1,2,2,3],[2,0,0,2,2],[2,0,0,1,1]],dtype=tf.float64).reshape(1,5,5,1)\n",
        "XXX.reshape(1,5,5)"
      ],
      "metadata": {
        "colab": {
          "base_uri": "https://localhost:8080/"
        },
        "id": "fMlGHqDrr7iB",
        "outputId": "08f91fc4-b79f-4d13-af4d-f906687f5bc7"
      },
      "execution_count": 109,
      "outputs": [
        {
          "output_type": "execute_result",
          "data": {
            "text/plain": [
              "<tf.Tensor: shape=(1, 5, 5), dtype=float64, numpy=\n",
              "array([[[3., 3., 2., 1., 0.],\n",
              "        [0., 0., 1., 3., 1.],\n",
              "        [3., 1., 2., 2., 3.],\n",
              "        [2., 0., 0., 2., 2.],\n",
              "        [2., 0., 0., 1., 1.]]])>"
            ]
          },
          "metadata": {},
          "execution_count": 109
        }
      ]
    },
    {
      "cell_type": "code",
      "source": [
        "cnv = tf.keras.layers.Conv2D(1,(3,3))"
      ],
      "metadata": {
        "id": "hXI3y3AYsnns"
      },
      "execution_count": 110,
      "outputs": []
    },
    {
      "cell_type": "code",
      "source": [
        "cnv.weights"
      ],
      "metadata": {
        "colab": {
          "base_uri": "https://localhost:8080/"
        },
        "id": "0uBtn9RAsnqs",
        "outputId": "1fec6ac0-ea46-45c5-9b45-6abde0ce15c1"
      },
      "execution_count": 111,
      "outputs": [
        {
          "output_type": "execute_result",
          "data": {
            "text/plain": [
              "[]"
            ]
          },
          "metadata": {},
          "execution_count": 111
        }
      ]
    },
    {
      "cell_type": "code",
      "source": [
        "cnv(XXX).reshape(1,3,3)"
      ],
      "metadata": {
        "colab": {
          "base_uri": "https://localhost:8080/"
        },
        "id": "ssCKfeQRsntk",
        "outputId": "d8356b9b-c1d2-4f82-af41-a803f7a04741"
      },
      "execution_count": 112,
      "outputs": [
        {
          "output_type": "execute_result",
          "data": {
            "text/plain": [
              "<tf.Tensor: shape=(1, 3, 3), dtype=float32, numpy=\n",
              "array([[[1.7157198, 2.9689512, 2.7728841],\n",
              "        [2.4162838, 1.8230928, 2.9890852],\n",
              "        [1.9408667, 0.9694788, 2.7528245]]], dtype=float32)>"
            ]
          },
          "metadata": {},
          "execution_count": 112
        }
      ]
    },
    {
      "cell_type": "code",
      "source": [
        "cnv.weights"
      ],
      "metadata": {
        "colab": {
          "base_uri": "https://localhost:8080/"
        },
        "id": "mjXndYnHsnwL",
        "outputId": "af179364-a3ec-43f8-dbd2-b28557ce9530"
      },
      "execution_count": 113,
      "outputs": [
        {
          "output_type": "execute_result",
          "data": {
            "text/plain": [
              "[<tf.Variable 'conv2d_9/kernel:0' shape=(3, 3, 1, 1) dtype=float32, numpy=\n",
              " array([[[[ 0.28270614]],\n",
              " \n",
              "         [[-0.13318631]],\n",
              " \n",
              "         [[ 0.21818542]]],\n",
              " \n",
              " \n",
              "        [[[ 0.23769057]],\n",
              " \n",
              "         [[ 0.40044254]],\n",
              " \n",
              "         [[ 0.38520074]]],\n",
              " \n",
              " \n",
              "        [[[ 0.15709132]],\n",
              " \n",
              "         [[ 0.48156905]],\n",
              " \n",
              "         [[-0.25362712]]]], dtype=float32)>,\n",
              " <tf.Variable 'conv2d_9/bias:0' shape=(1,) dtype=float32, numpy=array([0.], dtype=float32)>]"
            ]
          },
          "metadata": {},
          "execution_count": 113
        }
      ]
    },
    {
      "cell_type": "code",
      "source": [
        "_w = tf.constant([[0,1,2],[2,2,0],[0,1,2]],dtype=tf.float64).reshape(3,3,1,1)\n",
        "_b = tf.constant([0],dtype=tf.float64)"
      ],
      "metadata": {
        "id": "NiH0xp83x9t-"
      },
      "execution_count": 115,
      "outputs": []
    },
    {
      "cell_type": "code",
      "source": [
        "cnv.set_weights([_w,_b])"
      ],
      "metadata": {
        "id": "lSd9JmjysnzK"
      },
      "execution_count": 116,
      "outputs": []
    },
    {
      "cell_type": "code",
      "source": [
        "cnv(XXX).reshape(1,3,3)"
      ],
      "metadata": {
        "colab": {
          "base_uri": "https://localhost:8080/"
        },
        "id": "tR9YYVGOsoQE",
        "outputId": "c51c1781-854c-4424-9c1a-04b93860ef8f"
      },
      "execution_count": 117,
      "outputs": [
        {
          "output_type": "execute_result",
          "data": {
            "text/plain": [
              "<tf.Tensor: shape=(1, 3, 3), dtype=float32, numpy=\n",
              "array([[[12., 12., 17.],\n",
              "        [10., 17., 19.],\n",
              "        [ 9.,  8., 15.]]], dtype=float32)>"
            ]
          },
          "metadata": {},
          "execution_count": 117
        }
      ]
    },
    {
      "cell_type": "markdown",
      "source": [
        "#### test4"
      ],
      "metadata": {
        "id": "K90J1E2Ryq7s"
      }
    },
    {
      "cell_type": "code",
      "source": [
        "tf.random.set_seed(43052)\n",
        "cnv = tf.keras.layers.Conv2D(1,(2,2))\n",
        "XXX = tnp.arange(2*5*5*1,dtype=tf.float64).reshape(2,5,5,1) "
      ],
      "metadata": {
        "id": "FC7YOVkesoTA"
      },
      "execution_count": 118,
      "outputs": []
    },
    {
      "cell_type": "code",
      "source": [
        "XXX.reshape(2,5,5)"
      ],
      "metadata": {
        "colab": {
          "base_uri": "https://localhost:8080/"
        },
        "id": "t5EdimowsoWa",
        "outputId": "0620ce56-0819-460f-ce78-4ac1fee2c025"
      },
      "execution_count": 121,
      "outputs": [
        {
          "output_type": "execute_result",
          "data": {
            "text/plain": [
              "<tf.Tensor: shape=(2, 5, 5), dtype=float64, numpy=\n",
              "array([[[ 0.,  1.,  2.,  3.,  4.],\n",
              "        [ 5.,  6.,  7.,  8.,  9.],\n",
              "        [10., 11., 12., 13., 14.],\n",
              "        [15., 16., 17., 18., 19.],\n",
              "        [20., 21., 22., 23., 24.]],\n",
              "\n",
              "       [[25., 26., 27., 28., 29.],\n",
              "        [30., 31., 32., 33., 34.],\n",
              "        [35., 36., 37., 38., 39.],\n",
              "        [40., 41., 42., 43., 44.],\n",
              "        [45., 46., 47., 48., 49.]]])>"
            ]
          },
          "metadata": {},
          "execution_count": 121
        }
      ]
    },
    {
      "cell_type": "code",
      "source": [
        "w"
      ],
      "metadata": {
        "colab": {
          "base_uri": "https://localhost:8080/"
        },
        "id": "mDFj9Fuqzvgm",
        "outputId": "3a2a6421-7b46-4e30-bcb4-abec03966370"
      },
      "execution_count": 125,
      "outputs": [
        {
          "output_type": "execute_result",
          "data": {
            "text/plain": [
              "array([[[[0.25]],\n",
              "\n",
              "        [[0.25]]],\n",
              "\n",
              "\n",
              "       [[[0.25]],\n",
              "\n",
              "        [[0.25]]]], dtype=float32)"
            ]
          },
          "metadata": {},
          "execution_count": 125
        }
      ]
    },
    {
      "cell_type": "code",
      "source": [
        "b"
      ],
      "metadata": {
        "colab": {
          "base_uri": "https://localhost:8080/"
        },
        "id": "MAUhOylUzvpW",
        "outputId": "b363088a-2801-47d5-aed6-c69e3622424c"
      },
      "execution_count": 126,
      "outputs": [
        {
          "output_type": "execute_result",
          "data": {
            "text/plain": [
              "array([3.], dtype=float32)"
            ]
          },
          "metadata": {},
          "execution_count": 126
        }
      ]
    },
    {
      "cell_type": "code",
      "source": [
        "cnv(XXX) # weight를 초기화하기 위해서 레이어를 1회 통과\n",
        "cnv.set_weights([w,b])\n",
        "cnv(XXX).reshape(2,4,4)"
      ],
      "metadata": {
        "colab": {
          "base_uri": "https://localhost:8080/"
        },
        "id": "PkSNfqu6zAEt",
        "outputId": "ac1a652e-bf22-4d90-a8f5-4c65d9b5f71c"
      },
      "execution_count": 124,
      "outputs": [
        {
          "output_type": "execute_result",
          "data": {
            "text/plain": [
              "<tf.Tensor: shape=(2, 4, 4), dtype=float32, numpy=\n",
              "array([[[ 6.,  7.,  8.,  9.],\n",
              "        [11., 12., 13., 14.],\n",
              "        [16., 17., 18., 19.],\n",
              "        [21., 22., 23., 24.]],\n",
              "\n",
              "       [[31., 32., 33., 34.],\n",
              "        [36., 37., 38., 39.],\n",
              "        [41., 42., 43., 44.],\n",
              "        [46., 47., 48., 49.]]], dtype=float32)>"
            ]
          },
          "metadata": {},
          "execution_count": 124
        }
      ]
    },
    {
      "cell_type": "markdown",
      "source": [
        "#### test5"
      ],
      "metadata": {
        "id": "FHNLfKTaz2e-"
      }
    },
    {
      "cell_type": "code",
      "source": [
        "tf.random.set_seed(43052)\n",
        "cnv = tf.keras.layers.Conv2D(4,(2,2))\n",
        "XXX = tnp.arange(1*2*2*1,dtype=tf.float64).reshape(1,2,2,1) "
      ],
      "metadata": {
        "id": "bP5tOn0FsoY3"
      },
      "execution_count": 128,
      "outputs": []
    },
    {
      "cell_type": "code",
      "source": [
        "print(XXX.reshape(1,2,2))"
      ],
      "metadata": {
        "colab": {
          "base_uri": "https://localhost:8080/"
        },
        "id": "Dmnh1Qtrsod7",
        "outputId": "ebb10f39-f513-46c7-d103-3136763c5b22"
      },
      "execution_count": 129,
      "outputs": [
        {
          "output_type": "stream",
          "name": "stdout",
          "text": [
            "tf.Tensor(\n",
            "[[[0. 1.]\n",
            "  [2. 3.]]], shape=(1, 2, 2), dtype=float64)\n"
          ]
        }
      ]
    },
    {
      "cell_type": "code",
      "source": [
        "cnv(XXX)"
      ],
      "metadata": {
        "colab": {
          "base_uri": "https://localhost:8080/"
        },
        "id": "Z8IRdWrpsogs",
        "outputId": "4ce96205-73d5-4404-f706-6abb57f96145"
      },
      "execution_count": 130,
      "outputs": [
        {
          "output_type": "execute_result",
          "data": {
            "text/plain": [
              "<tf.Tensor: shape=(1, 1, 1, 4), dtype=float32, numpy=\n",
              "array([[[[ 1.048703  , -1.0948269 , -0.04476056, -1.7289025 ]]]],\n",
              "      dtype=float32)>"
            ]
          },
          "metadata": {},
          "execution_count": 130
        }
      ]
    },
    {
      "cell_type": "code",
      "source": [
        "cnv.weights[0] # (2,2) 커널의 크기 // 1은 XXX의 채널수 // 4는 cnv(XXX)의 채널수"
      ],
      "metadata": {
        "colab": {
          "base_uri": "https://localhost:8080/"
        },
        "id": "W7f0LrAGsojl",
        "outputId": "beb23b27-9902-413b-99fe-983a763651ab"
      },
      "execution_count": 131,
      "outputs": [
        {
          "output_type": "execute_result",
          "data": {
            "text/plain": [
              "<tf.Variable 'conv2d_12/kernel:0' shape=(2, 2, 1, 4) dtype=float32, numpy=\n",
              "array([[[[-0.08230966, -0.15132892, -0.12760344, -0.38952267]],\n",
              "\n",
              "        [[-0.36398047,  0.07347518, -0.08780673,  0.46633136]]],\n",
              "\n",
              "\n",
              "       [[[ 0.19759327, -0.46042526, -0.15406173, -0.34838456]],\n",
              "\n",
              "        [[ 0.33916563, -0.08248386,  0.11705655, -0.49948823]]]],\n",
              "      dtype=float32)>"
            ]
          },
          "metadata": {},
          "execution_count": 131
        }
      ]
    },
    {
      "cell_type": "code",
      "source": [
        "cnv.weights[1]"
      ],
      "metadata": {
        "colab": {
          "base_uri": "https://localhost:8080/"
        },
        "id": "yrSquKjwsomu",
        "outputId": "1ae632ea-bfc7-4973-d53d-4865a99a9238"
      },
      "execution_count": 132,
      "outputs": [
        {
          "output_type": "execute_result",
          "data": {
            "text/plain": [
              "<tf.Variable 'conv2d_12/bias:0' shape=(4,) dtype=float32, numpy=array([0., 0., 0., 0.], dtype=float32)>"
            ]
          },
          "metadata": {},
          "execution_count": 132
        }
      ]
    },
    {
      "cell_type": "code",
      "source": [
        "cnv.weights[0][...,0].reshape(2,2) # cnv(XXX)의 첫번째 채널 출력을 얻기 위해 곱해지는 w"
      ],
      "metadata": {
        "colab": {
          "base_uri": "https://localhost:8080/"
        },
        "id": "Jw8ctY3ksopW",
        "outputId": "136f9b8f-b2e8-498c-dddc-9771cbf2a85d"
      },
      "execution_count": 134,
      "outputs": [
        {
          "output_type": "execute_result",
          "data": {
            "text/plain": [
              "<tf.Tensor: shape=(2, 2), dtype=float32, numpy=\n",
              "array([[-0.08230966, -0.36398047],\n",
              "       [ 0.19759327,  0.33916563]], dtype=float32)>"
            ]
          },
          "metadata": {},
          "execution_count": 134
        }
      ]
    },
    {
      "cell_type": "code",
      "source": [
        "tf.reduce_sum(XXX.reshape(1,2,2) * cnv.weights[0][...,0].reshape(2,2)) # cnv(XXX)의 첫번째 채널 출력결과"
      ],
      "metadata": {
        "colab": {
          "base_uri": "https://localhost:8080/"
        },
        "id": "3l2avpOD02Mj",
        "outputId": "1bb54181-4464-4b20-cd53-9d0bf3085f57"
      },
      "execution_count": 135,
      "outputs": [
        {
          "output_type": "execute_result",
          "data": {
            "text/plain": [
              "<tf.Tensor: shape=(), dtype=float64, numpy=1.0487029552459717>"
            ]
          },
          "metadata": {},
          "execution_count": 135
        }
      ]
    },
    {
      "cell_type": "code",
      "source": [
        "cnv(XXX)"
      ],
      "metadata": {
        "colab": {
          "base_uri": "https://localhost:8080/"
        },
        "id": "-GmXvfic1JSh",
        "outputId": "bc3f386e-f61c-4d31-bd05-8fd9fbba62e4"
      },
      "execution_count": 136,
      "outputs": [
        {
          "output_type": "execute_result",
          "data": {
            "text/plain": [
              "<tf.Tensor: shape=(1, 1, 1, 4), dtype=float32, numpy=\n",
              "array([[[[ 1.048703  , -1.0948269 , -0.04476056, -1.7289025 ]]]],\n",
              "      dtype=float32)>"
            ]
          },
          "metadata": {},
          "execution_count": 136
        }
      ]
    },
    {
      "cell_type": "code",
      "source": [
        "tf.random.set_seed(43052)\n",
        "cnv = tf.keras.layers.Conv2D(4,(2,2))\n",
        "XXX = tnp.array([1]*1*2*2*1,dtype=tf.float64).reshape(1,2,2,1) "
      ],
      "metadata": {
        "id": "nKWxxYo81MFw"
      },
      "execution_count": 138,
      "outputs": []
    },
    {
      "cell_type": "code",
      "source": [
        "print(XXX.reshape(1,2,2))"
      ],
      "metadata": {
        "colab": {
          "base_uri": "https://localhost:8080/"
        },
        "id": "6tlAurc72chD",
        "outputId": "0ef0ecb7-96a0-4f8c-d270-6b4504438185"
      },
      "execution_count": 140,
      "outputs": [
        {
          "output_type": "stream",
          "name": "stdout",
          "text": [
            "tf.Tensor(\n",
            "[[[1. 1.]\n",
            "  [1. 1.]]], shape=(1, 2, 2), dtype=float64)\n"
          ]
        }
      ]
    },
    {
      "cell_type": "code",
      "source": [
        "cnv(XXX)"
      ],
      "metadata": {
        "colab": {
          "base_uri": "https://localhost:8080/"
        },
        "id": "_7ykM-Id2-RZ",
        "outputId": "5514c4db-db3e-4a8a-bb2b-9f18af3c46e7"
      },
      "execution_count": 142,
      "outputs": [
        {
          "output_type": "execute_result",
          "data": {
            "text/plain": [
              "<tf.Tensor: shape=(1, 1, 1, 4), dtype=float32, numpy=\n",
              "array([[[[ 0.09046876, -0.6207628 , -0.25241536, -0.7710641 ]]]],\n",
              "      dtype=float32)>"
            ]
          },
          "metadata": {},
          "execution_count": 142
        }
      ]
    },
    {
      "cell_type": "markdown",
      "source": [
        "`-` 이렇게 XXX를 설정하면 cnv(XXX)의 결과는 단지 cnv의 weight들의 sum이 된다."
      ],
      "metadata": {
        "id": "5kVoDjAh2miW"
      }
    },
    {
      "cell_type": "code",
      "source": [
        "tf.reduce_sum(XXX.reshape(1,2,2) * cnv.weights[0][...,0].reshape(2,2))"
      ],
      "metadata": {
        "colab": {
          "base_uri": "https://localhost:8080/"
        },
        "id": "mZONU7CT2gwT",
        "outputId": "ed13902f-8059-4ba3-91b7-913c02b4fa35"
      },
      "execution_count": 143,
      "outputs": [
        {
          "output_type": "execute_result",
          "data": {
            "text/plain": [
              "<tf.Tensor: shape=(), dtype=float64, numpy=0.09046876430511475>"
            ]
          },
          "metadata": {},
          "execution_count": 143
        }
      ]
    },
    {
      "cell_type": "code",
      "source": [
        "tf.reduce_sum(cnv.weights[0][...,0].reshape(2,2))"
      ],
      "metadata": {
        "colab": {
          "base_uri": "https://localhost:8080/"
        },
        "id": "12gtCu4n27sr",
        "outputId": "a8cf955b-8a63-4b04-da67-fe713bdbb03e"
      },
      "execution_count": 144,
      "outputs": [
        {
          "output_type": "execute_result",
          "data": {
            "text/plain": [
              "<tf.Tensor: shape=(), dtype=float32, numpy=0.090468764>"
            ]
          },
          "metadata": {},
          "execution_count": 144
        }
      ]
    },
    {
      "cell_type": "markdown",
      "source": [
        "#### test6"
      ],
      "metadata": {
        "id": "zd453uks3d9c"
      }
    },
    {
      "cell_type": "code",
      "source": [
        "tf.random.set_seed(43052)\n",
        "cnv = tf.keras.layers.Conv2D(4,(2,2))\n",
        "XXX = tnp.array([1]*1*2*2*3,dtype=tf.float64).reshape(1,2,2,3) "
      ],
      "metadata": {
        "id": "NGmC0_i03DI7"
      },
      "execution_count": 146,
      "outputs": []
    },
    {
      "cell_type": "code",
      "source": [
        "cnv(XXX)"
      ],
      "metadata": {
        "colab": {
          "base_uri": "https://localhost:8080/"
        },
        "id": "BwCzUU_O3L-D",
        "outputId": "c2299298-6982-42f3-a79e-58b5ca39c77c"
      },
      "execution_count": 147,
      "outputs": [
        {
          "output_type": "execute_result",
          "data": {
            "text/plain": [
              "<tf.Tensor: shape=(1, 1, 1, 4), dtype=float32, numpy=\n",
              "array([[[[ 0.3297621 , -0.44983467, -1.0487392 , -1.5800949 ]]]],\n",
              "      dtype=float32)>"
            ]
          },
          "metadata": {},
          "execution_count": 147
        }
      ]
    },
    {
      "cell_type": "code",
      "source": [
        "cnv.weights[0] # (2,2)는 커널의 사이즈 // 3은 XXX의 채널 // 4는 cnv(XXX)의 채널 "
      ],
      "metadata": {
        "colab": {
          "base_uri": "https://localhost:8080/"
        },
        "id": "pIeNf8aw3RHl",
        "outputId": "98735cc2-1a15-466c-a181-8410839f389c"
      },
      "execution_count": 148,
      "outputs": [
        {
          "output_type": "execute_result",
          "data": {
            "text/plain": [
              "<tf.Variable 'conv2d_15/kernel:0' shape=(2, 2, 3, 4) dtype=float32, numpy=\n",
              "array([[[[-0.06956434, -0.12789628, -0.10784459, -0.32920673],\n",
              "         [-0.30761963,  0.06209785, -0.07421023,  0.3941219 ],\n",
              "         [ 0.16699678, -0.38913035, -0.13020593, -0.29443866]],\n",
              "\n",
              "        [[ 0.28664726, -0.0697116 ,  0.09893084, -0.4221446 ],\n",
              "         [-0.23161241, -0.16410837, -0.36420006,  0.12424195],\n",
              "         [-0.14245945,  0.36286396, -0.10751781,  0.1733647 ]]],\n",
              "\n",
              "\n",
              "       [[[ 0.02764335,  0.15547717, -0.42024496, -0.31893867],\n",
              "         [ 0.22414821,  0.3619454 , -0.00282967, -0.3503708 ],\n",
              "         [ 0.4610079 , -0.17417148,  0.00401336, -0.29777044]],\n",
              "\n",
              "        [[-0.1620284 , -0.42066965, -0.01578814, -0.4240524 ],\n",
              "         [ 0.37925082,  0.24236053,  0.3949356 , -0.20996472],\n",
              "         [-0.30264795, -0.28889188, -0.3237777 ,  0.37506342]]]],\n",
              "      dtype=float32)>"
            ]
          },
          "metadata": {},
          "execution_count": 148
        }
      ]
    },
    {
      "cell_type": "code",
      "source": [
        "cnv.weights[0][...,0] # cnv(XXX)의 첫번째 채널결과를 얻기 위해서 사용하는 w"
      ],
      "metadata": {
        "colab": {
          "base_uri": "https://localhost:8080/"
        },
        "id": "qHoRB8Y33iJq",
        "outputId": "e70e17a6-99a5-4988-ec40-cbd265ba3866"
      },
      "execution_count": 149,
      "outputs": [
        {
          "output_type": "execute_result",
          "data": {
            "text/plain": [
              "<tf.Tensor: shape=(2, 2, 3), dtype=float32, numpy=\n",
              "array([[[-0.06956434, -0.30761963,  0.16699678],\n",
              "        [ 0.28664726, -0.23161241, -0.14245945]],\n",
              "\n",
              "       [[ 0.02764335,  0.22414821,  0.4610079 ],\n",
              "        [-0.1620284 ,  0.37925082, -0.30264795]]], dtype=float32)>"
            ]
          },
          "metadata": {},
          "execution_count": 149
        }
      ]
    },
    {
      "cell_type": "code",
      "source": [
        "tf.reduce_sum(cnv.weights[0][...,0]) # cnv(XXX)의 첫번째 채널의 결과"
      ],
      "metadata": {
        "colab": {
          "base_uri": "https://localhost:8080/"
        },
        "id": "lircWWR-34VS",
        "outputId": "ddf7eb27-df95-4d7e-9f38-3d393db3895f"
      },
      "execution_count": 150,
      "outputs": [
        {
          "output_type": "execute_result",
          "data": {
            "text/plain": [
              "<tf.Tensor: shape=(), dtype=float32, numpy=0.3297621>"
            ]
          },
          "metadata": {},
          "execution_count": 150
        }
      ]
    },
    {
      "cell_type": "code",
      "source": [
        "print(tf.reduce_sum(cnv.weights[0][...,0]))\n",
        "print(tf.reduce_sum(cnv.weights[0][...,1]))\n",
        "print(tf.reduce_sum(cnv.weights[0][...,2]))\n",
        "print(tf.reduce_sum(cnv.weights[0][...,3]))"
      ],
      "metadata": {
        "colab": {
          "base_uri": "https://localhost:8080/"
        },
        "id": "EzoFTk534Bi7",
        "outputId": "d2bdb2e3-b032-431a-a7c3-a14f1ced350f"
      },
      "execution_count": 154,
      "outputs": [
        {
          "output_type": "stream",
          "name": "stdout",
          "text": [
            "tf.Tensor(0.3297621, shape=(), dtype=float32)\n",
            "tf.Tensor(-0.44983464, shape=(), dtype=float32)\n",
            "tf.Tensor(-1.0487392, shape=(), dtype=float32)\n",
            "tf.Tensor(-1.5800952, shape=(), dtype=float32)\n"
          ]
        }
      ]
    },
    {
      "cell_type": "code",
      "source": [
        "cnv.weights[0][...,0]"
      ],
      "metadata": {
        "colab": {
          "base_uri": "https://localhost:8080/"
        },
        "id": "bUjemBxv5Y-l",
        "outputId": "7034dde4-b74f-4372-92c3-eb977562ba58"
      },
      "execution_count": 159,
      "outputs": [
        {
          "output_type": "execute_result",
          "data": {
            "text/plain": [
              "<tf.Tensor: shape=(2, 2, 3), dtype=float32, numpy=\n",
              "array([[[-0.06956434, -0.30761963,  0.16699678],\n",
              "        [ 0.28664726, -0.23161241, -0.14245945]],\n",
              "\n",
              "       [[ 0.02764335,  0.22414821,  0.4610079 ],\n",
              "        [-0.1620284 ,  0.37925082, -0.30264795]]], dtype=float32)>"
            ]
          },
          "metadata": {},
          "execution_count": 159
        }
      ]
    },
    {
      "cell_type": "code",
      "source": [
        "w_red = cnv.weights[0][...,0][...,0]\n",
        "w_green = cnv.weights[0][...,0][...,1]\n",
        "w_blue = cnv.weights[0][...,0][...,2]  "
      ],
      "metadata": {
        "id": "2tO043my4fTh"
      },
      "execution_count": 156,
      "outputs": []
    },
    {
      "cell_type": "code",
      "source": [
        "w_red"
      ],
      "metadata": {
        "colab": {
          "base_uri": "https://localhost:8080/"
        },
        "id": "_vWpf_tb4fWg",
        "outputId": "104a08c2-5370-49d6-98f6-69fb33e78ab2"
      },
      "execution_count": 157,
      "outputs": [
        {
          "output_type": "execute_result",
          "data": {
            "text/plain": [
              "<tf.Tensor: shape=(2, 2), dtype=float32, numpy=\n",
              "array([[-0.06956434,  0.28664726],\n",
              "       [ 0.02764335, -0.1620284 ]], dtype=float32)>"
            ]
          },
          "metadata": {},
          "execution_count": 157
        }
      ]
    },
    {
      "cell_type": "code",
      "source": [
        "XXX[...,0] # X_red"
      ],
      "metadata": {
        "colab": {
          "base_uri": "https://localhost:8080/"
        },
        "id": "mTD0z7cc4fbD",
        "outputId": "cb6f0d08-ac3c-4bf7-c747-f941ebef5aae"
      },
      "execution_count": 158,
      "outputs": [
        {
          "output_type": "execute_result",
          "data": {
            "text/plain": [
              "<tf.Tensor: shape=(1, 2, 2), dtype=float64, numpy=\n",
              "array([[[1., 1.],\n",
              "        [1., 1.]]])>"
            ]
          },
          "metadata": {},
          "execution_count": 158
        }
      ]
    },
    {
      "cell_type": "code",
      "source": [
        "tf.reduce_sum(XXX[...,0] * w_red + XXX[...,1] * w_green + XXX[...,2] * w_blue) # cnv(XXX)의 첫번째 채널출력 결과"
      ],
      "metadata": {
        "colab": {
          "base_uri": "https://localhost:8080/"
        },
        "id": "MNjn_BG95Suh",
        "outputId": "d0006542-9ad4-45b9-bffd-4aadc0bcfc23"
      },
      "execution_count": 160,
      "outputs": [
        {
          "output_type": "execute_result",
          "data": {
            "text/plain": [
              "<tf.Tensor: shape=(), dtype=float64, numpy=0.32976213097572327>"
            ]
          },
          "metadata": {},
          "execution_count": 160
        }
      ]
    },
    {
      "cell_type": "code",
      "source": [
        ""
      ],
      "metadata": {
        "id": "2kOA-XEx5p8N"
      },
      "execution_count": null,
      "outputs": []
    }
  ]
}