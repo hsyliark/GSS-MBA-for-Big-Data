{
 "cells": [
  {
   "cell_type": "markdown",
   "id": "e449e260",
   "metadata": {},
   "source": [
    "# 11주차 과제"
   ]
  },
  {
   "cell_type": "markdown",
   "id": "79f2a877",
   "metadata": {},
   "source": [
    "아래와 같은 흑백이미지가 있다고 하자. \n",
    "```\n",
    "0 0 0 1 1 1 \n",
    "0 0 0 1 1 1 \n",
    "0 0 0 1 1 1 \n",
    "0 0 0 1 1 1 \n",
    "0 0 0 1 1 1\n",
    "0 0 0 1 1 1 \n",
    "```\n",
    "\n",
    "위의 이미지에 아래와 같은 weight를 가진 필터를 적용하여 convolution한 결과를 계산하라. (bias는 0으로 가정한다) \n",
    "```\n",
    "-1 1 \n",
    "-1 1 \n",
    "```"
   ]
  },
  {
   "cell_type": "code",
   "execution_count": 1,
   "id": "c78c2edd",
   "metadata": {},
   "outputs": [],
   "source": [
    "import tensorflow as tf \n",
    "import tensorflow.experimental.numpy as tnp \n",
    "import numpy as np \n",
    "import matplotlib.pyplot as plt"
   ]
  },
  {
   "cell_type": "code",
   "execution_count": 2,
   "id": "8d8f363d",
   "metadata": {},
   "outputs": [],
   "source": [
    "tnp.experimental_enable_numpy_behavior()"
   ]
  },
  {
   "cell_type": "code",
   "execution_count": 24,
   "id": "71708ae2",
   "metadata": {},
   "outputs": [
    {
     "data": {
      "text/plain": [
       "<tf.Tensor: shape=(1, 6, 6), dtype=float64, numpy=\n",
       "array([[[0., 0., 0., 1., 1., 1.],\n",
       "        [0., 0., 0., 1., 1., 1.],\n",
       "        [0., 0., 0., 1., 1., 1.],\n",
       "        [0., 0., 0., 1., 1., 1.],\n",
       "        [0., 0., 0., 1., 1., 1.],\n",
       "        [0., 0., 0., 1., 1., 1.]]])>"
      ]
     },
     "execution_count": 24,
     "metadata": {},
     "output_type": "execute_result"
    }
   ],
   "source": [
    "XXX = tf.constant([[0,0,0,1,1,1],[0,0,0,1,1,1],[0,0,0,1,1,1],[0,0,0,1,1,1],[0,0,0,1,1,1],[0,0,0,1,1,1]],dtype=tf.float64).reshape(1,6,6,1)\n",
    "XXX.reshape(1,6,6)"
   ]
  },
  {
   "cell_type": "code",
   "execution_count": 25,
   "id": "63cbef9e",
   "metadata": {},
   "outputs": [],
   "source": [
    "cnv = tf.keras.layers.Conv2D(1,(2,2))"
   ]
  },
  {
   "cell_type": "code",
   "execution_count": 26,
   "id": "05864d83",
   "metadata": {},
   "outputs": [
    {
     "data": {
      "text/plain": [
       "[]"
      ]
     },
     "execution_count": 26,
     "metadata": {},
     "output_type": "execute_result"
    }
   ],
   "source": [
    "cnv.weights"
   ]
  },
  {
   "cell_type": "code",
   "execution_count": 27,
   "id": "bb7d7d27",
   "metadata": {},
   "outputs": [
    {
     "data": {
      "text/plain": [
       "<tf.Tensor: shape=(1, 5, 5), dtype=float32, numpy=\n",
       "array([[[0.       , 0.       , 0.2497356, 0.7505721, 0.7505721],\n",
       "        [0.       , 0.       , 0.2497356, 0.7505721, 0.7505721],\n",
       "        [0.       , 0.       , 0.2497356, 0.7505721, 0.7505721],\n",
       "        [0.       , 0.       , 0.2497356, 0.7505721, 0.7505721],\n",
       "        [0.       , 0.       , 0.2497356, 0.7505721, 0.7505721]]],\n",
       "      dtype=float32)>"
      ]
     },
     "execution_count": 27,
     "metadata": {},
     "output_type": "execute_result"
    }
   ],
   "source": [
    "cnv(XXX).reshape(1,5,5)"
   ]
  },
  {
   "cell_type": "code",
   "execution_count": 28,
   "id": "64b9e03c",
   "metadata": {},
   "outputs": [
    {
     "data": {
      "text/plain": [
       "[<tf.Variable 'conv2d_2/kernel:0' shape=(2, 2, 1, 1) dtype=float32, numpy=\n",
       " array([[[[ 0.81776005]],\n",
       " \n",
       "         [[ 0.25589293]]],\n",
       " \n",
       " \n",
       "        [[[-0.31692356]],\n",
       " \n",
       "         [[-0.00615734]]]], dtype=float32)>,\n",
       " <tf.Variable 'conv2d_2/bias:0' shape=(1,) dtype=float32, numpy=array([0.], dtype=float32)>]"
      ]
     },
     "execution_count": 28,
     "metadata": {},
     "output_type": "execute_result"
    }
   ],
   "source": [
    "cnv.weights"
   ]
  },
  {
   "cell_type": "code",
   "execution_count": 29,
   "id": "1e411325",
   "metadata": {},
   "outputs": [
    {
     "data": {
      "text/plain": [
       "<tf.Variable 'conv2d_2/kernel:0' shape=(2, 2, 1, 1) dtype=float32, numpy=\n",
       "array([[[[ 0.81776005]],\n",
       "\n",
       "        [[ 0.25589293]]],\n",
       "\n",
       "\n",
       "       [[[-0.31692356]],\n",
       "\n",
       "        [[-0.00615734]]]], dtype=float32)>"
      ]
     },
     "execution_count": 29,
     "metadata": {},
     "output_type": "execute_result"
    }
   ],
   "source": [
    "cnv.weights[0]"
   ]
  },
  {
   "cell_type": "code",
   "execution_count": 30,
   "id": "54792985",
   "metadata": {},
   "outputs": [],
   "source": [
    "_w = tf.constant([[-1,1],[-1,1]],dtype=tf.float64).reshape(2,2,1,1)\n",
    "_b = tf.constant([0],dtype=tf.float64)"
   ]
  },
  {
   "cell_type": "code",
   "execution_count": 31,
   "id": "5eba19e9",
   "metadata": {},
   "outputs": [],
   "source": [
    "cnv.set_weights([_w,_b])"
   ]
  },
  {
   "cell_type": "code",
   "execution_count": 32,
   "id": "f44c5f1e",
   "metadata": {},
   "outputs": [
    {
     "data": {
      "text/plain": [
       "[<tf.Variable 'conv2d_2/kernel:0' shape=(2, 2, 1, 1) dtype=float32, numpy=\n",
       " array([[[[-1.]],\n",
       " \n",
       "         [[ 1.]]],\n",
       " \n",
       " \n",
       "        [[[-1.]],\n",
       " \n",
       "         [[ 1.]]]], dtype=float32)>,\n",
       " <tf.Variable 'conv2d_2/bias:0' shape=(1,) dtype=float32, numpy=array([0.], dtype=float32)>]"
      ]
     },
     "execution_count": 32,
     "metadata": {},
     "output_type": "execute_result"
    }
   ],
   "source": [
    "cnv.weights"
   ]
  },
  {
   "cell_type": "code",
   "execution_count": 33,
   "id": "d1176dd7",
   "metadata": {},
   "outputs": [
    {
     "data": {
      "text/plain": [
       "<tf.Tensor: shape=(1, 5, 5), dtype=float32, numpy=\n",
       "array([[[0., 0., 2., 0., 0.],\n",
       "        [0., 0., 2., 0., 0.],\n",
       "        [0., 0., 2., 0., 0.],\n",
       "        [0., 0., 2., 0., 0.],\n",
       "        [0., 0., 2., 0., 0.]]], dtype=float32)>"
      ]
     },
     "execution_count": 33,
     "metadata": {},
     "output_type": "execute_result"
    }
   ],
   "source": [
    "cnv(XXX).reshape(1,5,5)"
   ]
  },
  {
   "cell_type": "code",
   "execution_count": null,
   "id": "41fb1c16",
   "metadata": {},
   "outputs": [],
   "source": []
  },
  {
   "cell_type": "code",
   "execution_count": null,
   "id": "7db37b49",
   "metadata": {},
   "outputs": [],
   "source": []
  }
 ],
 "metadata": {
  "kernelspec": {
   "display_name": "Python 3 (ipykernel)",
   "language": "python",
   "name": "python3"
  },
  "language_info": {
   "codemirror_mode": {
    "name": "ipython",
    "version": 3
   },
   "file_extension": ".py",
   "mimetype": "text/x-python",
   "name": "python",
   "nbconvert_exporter": "python",
   "pygments_lexer": "ipython3",
   "version": "3.8.12"
  }
 },
 "nbformat": 4,
 "nbformat_minor": 5
}
