{
 "cells": [
  {
   "cell_type": "markdown",
   "id": "ab68b31f-9790-4b22-a34a-aaab2bda66aa",
   "metadata": {
    "id": "ab68b31f-9790-4b22-a34a-aaab2bda66aa",
    "tags": []
   },
   "source": [
    "# (12주차) 5월23일\n",
    "\n",
    "- toc:true\n",
    "- branch: master\n",
    "- badges: true\n",
    "- comments: true\n",
    "- author: 최규빈"
   ]
  },
  {
   "cell_type": "markdown",
   "id": "bd402ae6-525e-4a12-8067-c22692830fee",
   "metadata": {
    "id": "bd402ae6-525e-4a12-8067-c22692830fee",
    "tags": []
   },
   "source": [
    "## 강의영상 "
   ]
  },
  {
   "cell_type": "markdown",
   "id": "4a066051-d0ac-4715-8320-1725fc53f257",
   "metadata": {
    "id": "4a066051-d0ac-4715-8320-1725fc53f257"
   },
   "source": [
    "> youtube: https://youtube.com/playlist?list=PLQqh36zP38-xOfpHJG0LrtYt4TUVgqUNy"
   ]
  },
  {
   "cell_type": "markdown",
   "id": "01c91214-7727-4442-8c08-87f1c0f2f93f",
   "metadata": {
    "id": "01c91214-7727-4442-8c08-87f1c0f2f93f",
    "tags": []
   },
   "source": [
    "## imports"
   ]
  },
  {
   "cell_type": "code",
   "execution_count": 1,
   "id": "d4454a23-3b9d-4483-8450-cc3275c5182f",
   "metadata": {
    "id": "d4454a23-3b9d-4483-8450-cc3275c5182f"
   },
   "outputs": [],
   "source": [
    "import tensorflow as tf\n",
    "import tensorflow.experimental.numpy as tnp"
   ]
  },
  {
   "cell_type": "code",
   "execution_count": 2,
   "id": "abbc26d9-195d-4792-b0a8-f702baca62ae",
   "metadata": {
    "id": "abbc26d9-195d-4792-b0a8-f702baca62ae"
   },
   "outputs": [],
   "source": [
    "tnp.experimental_enable_numpy_behavior()"
   ]
  },
  {
   "cell_type": "code",
   "execution_count": 3,
   "id": "b5a5824a-a616-42c2-b451-d9c73642cf1f",
   "metadata": {
    "id": "b5a5824a-a616-42c2-b451-d9c73642cf1f"
   },
   "outputs": [],
   "source": [
    "import matplotlib.pyplot as plt\n",
    "import numpy as np"
   ]
  },
  {
   "cell_type": "markdown",
   "id": "03ee0f3c-2093-41d2-b888-e5d925e6f7d8",
   "metadata": {
    "id": "03ee0f3c-2093-41d2-b888-e5d925e6f7d8"
   },
   "source": [
    "## CNN"
   ]
  },
  {
   "cell_type": "markdown",
   "id": "6133c4a9-1f32-41e9-b464-1a7457c47004",
   "metadata": {
    "id": "6133c4a9-1f32-41e9-b464-1a7457c47004"
   },
   "source": [
    "### CONV의 역할"
   ]
  },
  {
   "cell_type": "markdown",
   "id": "05fb71a9-8f1d-4fee-97c7-c61e1ce2b386",
   "metadata": {
    "id": "05fb71a9-8f1d-4fee-97c7-c61e1ce2b386"
   },
   "source": [
    "`-` 데이터생성 (그냥 흑백대비 데이터)"
   ]
  },
  {
   "cell_type": "code",
   "execution_count": 31,
   "id": "993b4d50-05f8-4c18-8da5-58d2c45e3de7",
   "metadata": {
    "colab": {
     "base_uri": "https://localhost:8080/"
    },
    "id": "993b4d50-05f8-4c18-8da5-58d2c45e3de7",
    "outputId": "887d9e43-e577-4b33-ac63-0a86f9198de4"
   },
   "outputs": [
    {
     "data": {
      "text/plain": [
       "<tf.Tensor: shape=(50, 25), dtype=float64, numpy=\n",
       "array([[10., 10., 10., ..., 10., 10., 10.],\n",
       "       [10., 10., 10., ..., 10., 10., 10.],\n",
       "       [10., 10., 10., ..., 10., 10., 10.],\n",
       "       ...,\n",
       "       [10., 10., 10., ..., 10., 10., 10.],\n",
       "       [10., 10., 10., ..., 10., 10., 10.],\n",
       "       [10., 10., 10., ..., 10., 10., 10.]])>"
      ]
     },
     "execution_count": 31,
     "metadata": {},
     "output_type": "execute_result"
    }
   ],
   "source": [
    "_X1 = tnp.ones([50,25])*10 \n",
    "_X1"
   ]
  },
  {
   "cell_type": "code",
   "execution_count": 32,
   "id": "399e901f-2871-47b6-b5ca-7d038a32af5e",
   "metadata": {
    "colab": {
     "base_uri": "https://localhost:8080/"
    },
    "id": "399e901f-2871-47b6-b5ca-7d038a32af5e",
    "outputId": "5ff5a881-45c5-4ca6-b546-6d7daf27c33c"
   },
   "outputs": [
    {
     "data": {
      "text/plain": [
       "<tf.Tensor: shape=(50, 25), dtype=float64, numpy=\n",
       "array([[0., 0., 0., ..., 0., 0., 0.],\n",
       "       [0., 0., 0., ..., 0., 0., 0.],\n",
       "       [0., 0., 0., ..., 0., 0., 0.],\n",
       "       ...,\n",
       "       [0., 0., 0., ..., 0., 0., 0.],\n",
       "       [0., 0., 0., ..., 0., 0., 0.],\n",
       "       [0., 0., 0., ..., 0., 0., 0.]])>"
      ]
     },
     "execution_count": 32,
     "metadata": {},
     "output_type": "execute_result"
    }
   ],
   "source": [
    "_X2 = tnp.zeros([50,25])*10 \n",
    "_X2"
   ]
  },
  {
   "cell_type": "code",
   "execution_count": 33,
   "id": "31c8005a-dd9e-40d2-a601-226328a641bd",
   "metadata": {
    "colab": {
     "base_uri": "https://localhost:8080/"
    },
    "id": "31c8005a-dd9e-40d2-a601-226328a641bd",
    "outputId": "7a5555b7-f7ae-46da-d1fd-732285cd104d"
   },
   "outputs": [
    {
     "data": {
      "text/plain": [
       "<tf.Tensor: shape=(50, 50), dtype=float64, numpy=\n",
       "array([[10., 10., 10., ...,  0.,  0.,  0.],\n",
       "       [10., 10., 10., ...,  0.,  0.,  0.],\n",
       "       [10., 10., 10., ...,  0.,  0.,  0.],\n",
       "       ...,\n",
       "       [10., 10., 10., ...,  0.,  0.,  0.],\n",
       "       [10., 10., 10., ...,  0.,  0.,  0.],\n",
       "       [10., 10., 10., ...,  0.,  0.,  0.]])>"
      ]
     },
     "execution_count": 33,
     "metadata": {},
     "output_type": "execute_result"
    }
   ],
   "source": [
    "tf.concat([_X1,_X2],axis=1)"
   ]
  },
  {
   "cell_type": "code",
   "execution_count": 34,
   "id": "74fe449c-3d77-4003-8bfd-96fa4c7539b3",
   "metadata": {
    "colab": {
     "base_uri": "https://localhost:8080/"
    },
    "id": "74fe449c-3d77-4003-8bfd-96fa4c7539b3",
    "outputId": "6e32b98d-7e47-4d12-eee7-926e9a6217d3"
   },
   "outputs": [
    {
     "data": {
      "text/plain": [
       "<tf.Tensor: shape=(50, 50), dtype=float64, numpy=\n",
       "array([[ 0.35732807,  1.6413663 , -1.54550608, ..., -0.99372603,\n",
       "        -0.80063882, -0.47603893],\n",
       "       [ 0.85670109,  0.46950772, -0.62311101, ..., -0.16400863,\n",
       "         0.25182769, -1.09861216],\n",
       "       [ 1.26690026, -1.82435465,  1.38913379, ...,  0.86919244,\n",
       "         1.01325465, -1.26078389],\n",
       "       ...,\n",
       "       [-0.09952044, -1.10685406, -0.38417712, ..., -0.86984483,\n",
       "         2.0524653 ,  0.04509691],\n",
       "       [-0.75945775, -0.17465888,  0.13909331, ...,  1.36400706,\n",
       "         1.63601326, -1.35901751],\n",
       "       [ 0.10619969, -0.65262368,  1.18958512, ...,  1.78584869,\n",
       "        -0.35470922,  1.61503584]])>"
      ]
     },
     "execution_count": 34,
     "metadata": {},
     "output_type": "execute_result"
    }
   ],
   "source": [
    "_noise = tnp.random.randn(50*50).reshape(50,50)\n",
    "_noise"
   ]
  },
  {
   "cell_type": "code",
   "execution_count": 35,
   "id": "2f660a0e-aebe-446b-b791-31de84c7f299",
   "metadata": {
    "id": "2f660a0e-aebe-446b-b791-31de84c7f299"
   },
   "outputs": [],
   "source": [
    "XXX = tf.concat([_X1,_X2],axis=1) + _noise"
   ]
  },
  {
   "cell_type": "code",
   "execution_count": 36,
   "id": "2478e82a-2f71-4770-a9cf-bc0d009723e4",
   "metadata": {
    "id": "2478e82a-2f71-4770-a9cf-bc0d009723e4"
   },
   "outputs": [],
   "source": [
    "XXX=XXX.reshape(1,50,50,1)"
   ]
  },
  {
   "cell_type": "code",
   "execution_count": 37,
   "id": "cd1ea97b-9eae-414a-b9d2-5848f0dbf376",
   "metadata": {
    "colab": {
     "base_uri": "https://localhost:8080/",
     "height": 285
    },
    "id": "cd1ea97b-9eae-414a-b9d2-5848f0dbf376",
    "outputId": "e1956680-7f26-4ff2-fd07-36a0916be81f"
   },
   "outputs": [
    {
     "data": {
      "text/plain": [
       "<matplotlib.image.AxesImage at 0x16b2fce3ac0>"
      ]
     },
     "execution_count": 37,
     "metadata": {},
     "output_type": "execute_result"
    },
    {
     "data": {
      "image/png": "[encoded data removed]",
      "text/plain": [
       "<Figure size 432x288 with 1 Axes>"
      ]
     },
     "metadata": {
      "needs_background": "light"
     },
     "output_type": "display_data"
    }
   ],
   "source": [
    "plt.imshow(XXX.reshape(50,50),cmap='gray')"
   ]
  },
  {
   "cell_type": "markdown",
   "id": "5e21163e-fbe4-46af-9127-ae3497c4481e",
   "metadata": {
    "id": "5e21163e-fbe4-46af-9127-ae3497c4481e"
   },
   "source": [
    "`-` conv layer 생성 "
   ]
  },
  {
   "cell_type": "code",
   "execution_count": 11,
   "id": "6c9f8d24-baf1-4453-89ab-c4adbc248a1a",
   "metadata": {
    "id": "6c9f8d24-baf1-4453-89ab-c4adbc248a1a"
   },
   "outputs": [],
   "source": [
    "conv = tf.keras.layers.Conv2D(2,(2,2)) "
   ]
  },
  {
   "cell_type": "code",
   "execution_count": 12,
   "id": "f990dcef-883f-49d4-a1ab-25f183799c10",
   "metadata": {
    "colab": {
     "base_uri": "https://localhost:8080/"
    },
    "id": "f990dcef-883f-49d4-a1ab-25f183799c10",
    "outputId": "6a28e6b5-97a6-4f12-a14c-1525a7862645"
   },
   "outputs": [
    {
     "data": {
      "text/plain": [
       "[]"
      ]
     },
     "execution_count": 12,
     "metadata": {},
     "output_type": "execute_result"
    }
   ],
   "source": [
    "conv.weights # 처음에는 가중치가 없음 "
   ]
  },
  {
   "cell_type": "code",
   "execution_count": 13,
   "id": "fb322af5-92b5-4d26-969b-ed570ecdfb0e",
   "metadata": {
    "colab": {
     "base_uri": "https://localhost:8080/"
    },
    "id": "fb322af5-92b5-4d26-969b-ed570ecdfb0e",
    "outputId": "0c8531a7-3d39-4e91-f1d9-885963f26112"
   },
   "outputs": [
    {
     "data": {
      "text/plain": [
       "<tf.Tensor: shape=(1, 49, 49, 2), dtype=float32, numpy=\n",
       "array([[[[ 8.56478   , 19.004282  ],\n",
       "         [ 7.574851  , 18.730434  ],\n",
       "         [ 7.974391  , 19.009115  ],\n",
       "         ...,\n",
       "         [ 0.19067329, -1.0568992 ],\n",
       "         [ 2.1192505 , -0.463604  ],\n",
       "         [ 0.32578397,  0.19156235]],\n",
       "\n",
       "        [[ 6.5009694 , 17.945038  ],\n",
       "         [ 7.373703  , 18.017208  ],\n",
       "         [ 6.3373337 , 17.757906  ],\n",
       "         ...,\n",
       "         [-2.3422227 , -2.4566412 ],\n",
       "         [-1.4740658 , -1.6281561 ],\n",
       "         [-0.22358713,  0.5996071 ]],\n",
       "\n",
       "        [[ 7.9080896 , 19.031002  ],\n",
       "         [ 7.6444087 , 19.674181  ],\n",
       "         [ 7.965529  , 20.407492  ],\n",
       "         ...,\n",
       "         [ 0.9321191 ,  1.265028  ],\n",
       "         [-0.14039274,  1.3051106 ],\n",
       "         [ 1.3274393 ,  0.5792097 ]],\n",
       "\n",
       "        ...,\n",
       "\n",
       "        [[ 7.7920923 , 20.0912    ],\n",
       "         [ 6.4217854 , 18.025333  ],\n",
       "         [ 7.180077  , 17.274769  ],\n",
       "         ...,\n",
       "         [ 0.4666239 ,  1.3974427 ],\n",
       "         [ 0.41347742,  1.1964546 ],\n",
       "         [ 0.1392313 , -0.07254589]],\n",
       "\n",
       "        [[ 7.927351  , 18.507263  ],\n",
       "         [ 8.197738  , 17.203016  ],\n",
       "         [ 7.2760806 , 17.838898  ],\n",
       "         ...,\n",
       "         [ 0.55843604,  1.5229124 ],\n",
       "         [ 0.03273544,  1.0962685 ],\n",
       "         [-0.5873555 ,  0.5474756 ]],\n",
       "\n",
       "        [[ 5.261737  , 17.213264  ],\n",
       "         [ 6.764644  , 17.04052   ],\n",
       "         [ 8.086988  , 19.95515   ],\n",
       "         ...,\n",
       "         [ 0.7288828 ,  1.5003512 ],\n",
       "         [ 1.4651308 ,  1.5435014 ],\n",
       "         [-0.14344735,  1.085621  ]]]], dtype=float32)>"
      ]
     },
     "execution_count": 13,
     "metadata": {},
     "output_type": "execute_result"
    }
   ],
   "source": [
    "conv(XXX) # 가중치를 만들기 위해서 XXX를 conv에 한번 통과시킴"
   ]
  },
  {
   "cell_type": "code",
   "execution_count": 15,
   "id": "3cea85d9",
   "metadata": {},
   "outputs": [
    {
     "data": {
      "text/plain": [
       "[<tf.Variable 'conv2d/kernel:0' shape=(2, 2, 1, 2) dtype=float32, numpy=\n",
       " array([[[[ 0.4852683 ,  0.65750855]],\n",
       " \n",
       "         [[ 0.37276834,  0.5606143 ]]],\n",
       " \n",
       " \n",
       "        [[[-0.43573418,  0.5255446 ]],\n",
       " \n",
       "         [[ 0.34414464,  0.17508322]]]], dtype=float32)>,\n",
       " <tf.Variable 'conv2d/bias:0' shape=(2,) dtype=float32, numpy=array([0., 0.], dtype=float32)>]"
      ]
     },
     "execution_count": 15,
     "metadata": {},
     "output_type": "execute_result"
    }
   ],
   "source": [
    "conv.weights # 이제 가중치가 생김"
   ]
  },
  {
   "cell_type": "markdown",
   "id": "779c9db6-442d-4d58-9453-a358952d30fb",
   "metadata": {
    "id": "779c9db6-442d-4d58-9453-a358952d30fb"
   },
   "source": [
    "`-` 가중치의 값을 확인해보자. "
   ]
  },
  {
   "cell_type": "code",
   "execution_count": 16,
   "id": "2dfeaf70-6df9-4f70-b1be-491b1877605a",
   "metadata": {
    "colab": {
     "base_uri": "https://localhost:8080/"
    },
    "id": "2dfeaf70-6df9-4f70-b1be-491b1877605a",
    "outputId": "3a816cc0-9d66-4ff1-eeb5-acf1b8df9af5"
   },
   "outputs": [
    {
     "data": {
      "text/plain": [
       "<tf.Variable 'conv2d/kernel:0' shape=(2, 2, 1, 2) dtype=float32, numpy=\n",
       "array([[[[ 0.4852683 ,  0.65750855]],\n",
       "\n",
       "        [[ 0.37276834,  0.5606143 ]]],\n",
       "\n",
       "\n",
       "       [[[-0.43573418,  0.5255446 ]],\n",
       "\n",
       "        [[ 0.34414464,  0.17508322]]]], dtype=float32)>"
      ]
     },
     "execution_count": 16,
     "metadata": {},
     "output_type": "execute_result"
    }
   ],
   "source": [
    "conv.weights[0] # kernel에 해당하는것 "
   ]
  },
  {
   "cell_type": "code",
   "execution_count": 17,
   "id": "2b4667f0-bc0a-4bcf-8027-7c73beb80dd3",
   "metadata": {
    "colab": {
     "base_uri": "https://localhost:8080/"
    },
    "id": "2b4667f0-bc0a-4bcf-8027-7c73beb80dd3",
    "outputId": "3b172a0c-14c3-4c17-cee4-9b74cb2e55d0"
   },
   "outputs": [
    {
     "data": {
      "text/plain": [
       "<tf.Variable 'conv2d/bias:0' shape=(2,) dtype=float32, numpy=array([0., 0.], dtype=float32)>"
      ]
     },
     "execution_count": 17,
     "metadata": {},
     "output_type": "execute_result"
    }
   ],
   "source": [
    "conv.weights[1] # bias에 해당하는것 "
   ]
  },
  {
   "cell_type": "markdown",
   "id": "8607b3db-5f60-428c-a604-fda7ed5e51eb",
   "metadata": {
    "id": "8607b3db-5f60-428c-a604-fda7ed5e51eb"
   },
   "source": [
    "`-` 필터값을 원하는 것으로 변경해보자. "
   ]
  },
  {
   "cell_type": "code",
   "execution_count": 16,
   "id": "08ee8240-b49c-46db-8beb-dfc5411f78ba",
   "metadata": {
    "id": "08ee8240-b49c-46db-8beb-dfc5411f78ba"
   },
   "outputs": [],
   "source": [
    "w0 = [[0.25,0.25],[0.25,0.25]] # 잡티를 제거하는 효과를 준다. \n",
    "w1 = [[-1.0,1.0],[-1.0,1.0]] # 경계를 찾기 좋아보이는 필터이다. (엣지검출)"
   ]
  },
  {
   "cell_type": "code",
   "execution_count": 17,
   "id": "c7e8586b-e922-45ab-8c0e-f6618c106625",
   "metadata": {
    "colab": {
     "base_uri": "https://localhost:8080/"
    },
    "id": "c7e8586b-e922-45ab-8c0e-f6618c106625",
    "outputId": "df7c2838-2e2f-48b2-a0c7-ce839e0467ff"
   },
   "outputs": [
    {
     "data": {
      "text/plain": [
       "array([[[[ 0.25, -1.  ]],\n",
       "\n",
       "        [[ 0.25,  1.  ]]],\n",
       "\n",
       "\n",
       "       [[[ 0.25, -1.  ]],\n",
       "\n",
       "        [[ 0.25,  1.  ]]]])"
      ]
     },
     "execution_count": 17,
     "metadata": {},
     "output_type": "execute_result"
    }
   ],
   "source": [
    "w=np.concatenate([np.array(w0).reshape(2,2,1,1),np.array(w1).reshape(2,2,1,1)],axis=-1)\n",
    "w"
   ]
  },
  {
   "cell_type": "code",
   "execution_count": 18,
   "id": "56124e71-a752-4a3e-9281-3ebfc8be94e8",
   "metadata": {
    "colab": {
     "base_uri": "https://localhost:8080/"
    },
    "id": "56124e71-a752-4a3e-9281-3ebfc8be94e8",
    "outputId": "98e3da1f-d91a-4bca-dcf7-6f031edb96e5"
   },
   "outputs": [
    {
     "data": {
      "text/plain": [
       "array([0., 0.])"
      ]
     },
     "execution_count": 18,
     "metadata": {},
     "output_type": "execute_result"
    }
   ],
   "source": [
    "b= np.array([0.0,0.0])\n",
    "b"
   ]
  },
  {
   "cell_type": "code",
   "execution_count": 19,
   "id": "7facc917-3ffb-4a36-a87f-cd62ed23aa6d",
   "metadata": {
    "colab": {
     "base_uri": "https://localhost:8080/"
    },
    "id": "7facc917-3ffb-4a36-a87f-cd62ed23aa6d",
    "outputId": "10828bbd-ea1c-4efe-e26c-a91df533e993"
   },
   "outputs": [
    {
     "data": {
      "text/plain": [
       "[array([[[[ 0.25, -1.  ]],\n",
       " \n",
       "         [[ 0.25,  1.  ]]],\n",
       " \n",
       " \n",
       "        [[[ 0.25, -1.  ]],\n",
       " \n",
       "         [[ 0.25,  1.  ]]]], dtype=float32), array([0., 0.], dtype=float32)]"
      ]
     },
     "execution_count": 19,
     "metadata": {},
     "output_type": "execute_result"
    }
   ],
   "source": [
    "conv.set_weights([w,b])\n",
    "conv.get_weights()"
   ]
  },
  {
   "cell_type": "markdown",
   "id": "e58ece36-91db-4967-8865-ce19b416cc28",
   "metadata": {
    "id": "e58ece36-91db-4967-8865-ce19b416cc28"
   },
   "source": [
    "- 첫번째는 평균을 구하는 필터, \n",
    "- 두번째는 엣지를 검출하는 필터 "
   ]
  },
  {
   "cell_type": "markdown",
   "id": "64a61c29-96b0-4b07-a54b-1221ddd9f28b",
   "metadata": {
    "id": "64a61c29-96b0-4b07-a54b-1221ddd9f28b"
   },
   "source": [
    "`-` 필터를 넣은 결과를 확인 "
   ]
  },
  {
   "cell_type": "code",
   "execution_count": 20,
   "id": "c6b1b6d7-c6a8-4b4b-9462-e4c1db692349",
   "metadata": {
    "colab": {
     "base_uri": "https://localhost:8080/"
    },
    "id": "c6b1b6d7-c6a8-4b4b-9462-e4c1db692349",
    "outputId": "3e450ffb-77c7-4626-8cc9-1f6e19ce12d5"
   },
   "outputs": [
    {
     "data": {
      "text/plain": [
       "<tf.Tensor: shape=(1, 49, 49), dtype=float32, numpy=\n",
       "array([[[ 9.686165  ,  9.821035  , 10.002783  , ...,  0.08007751,\n",
       "         -0.40035886, -0.7117615 ],\n",
       "        [ 9.636944  ,  9.790447  ,  9.583614  , ..., -0.23059136,\n",
       "         -1.0077691 , -0.48573163],\n",
       "        [10.31364   , 10.516742  ,  9.706322  , ...,  0.1841195 ,\n",
       "         -0.06590554,  0.22185218],\n",
       "        ...,\n",
       "        [ 9.621857  ,  9.550551  ,  9.497271  , ...,  0.6734947 ,\n",
       "         -0.08413357, -0.7168423 ],\n",
       "        [10.119719  ,  9.729369  ,  9.200346  , ...,  0.14961044,\n",
       "         -0.45019603, -0.5179433 ],\n",
       "        [10.44169   ,  9.835292  ,  8.760483  , ..., -0.8874421 ,\n",
       "         -0.80109036,  0.23252432]]], dtype=float32)>"
      ]
     },
     "execution_count": 20,
     "metadata": {},
     "output_type": "execute_result"
    }
   ],
   "source": [
    "XXX0=conv(XXX)[...,0] # 채널0\n",
    "XXX0"
   ]
  },
  {
   "cell_type": "code",
   "execution_count": 23,
   "id": "aff8cb87-6c85-4c62-b295-77e6d4dc9476",
   "metadata": {
    "colab": {
     "base_uri": "https://localhost:8080/"
    },
    "id": "aff8cb87-6c85-4c62-b295-77e6d4dc9476",
    "outputId": "3fd82d0b-41b2-4407-b1bf-a0466e256569"
   },
   "outputs": [
    {
     "data": {
      "text/plain": [
       "<tf.Tensor: shape=(1, 49, 49), dtype=float32, numpy=\n",
       "array([[[-2.8797626 ,  3.4192448 , -2.692257  , ..., -1.2208977 ,\n",
       "         -0.7008478 , -0.5447626 ],\n",
       "        [-1.874382  ,  2.4883957 , -3.3157272 , ..., -4.5279074 ,\n",
       "          1.4191961 ,  0.6689538 ],\n",
       "        [ 0.87922287, -0.06681442, -3.1748657 , ..., -3.3367229 ,\n",
       "          2.3366227 , -1.1855917 ],\n",
       "        ...,\n",
       "        [ 1.5189819 , -1.804203  ,  1.5910797 , ...,  1.1511078 ,\n",
       "         -4.1816206 ,  1.6507858 ],\n",
       "        [ 1.7114105 , -3.272808  ,  1.1567173 , ..., -0.8776298 ,\n",
       "         -1.521596  ,  1.2506067 ],\n",
       "        [ 1.5809326 , -4.006527  , -0.29271126, ..., -1.8408056 ,\n",
       "          2.1862125 ,  1.948246  ]]], dtype=float32)>"
      ]
     },
     "execution_count": 23,
     "metadata": {},
     "output_type": "execute_result"
    }
   ],
   "source": [
    "XXX1=conv(XXX)[...,1] # 채널1\n",
    "XXX1"
   ]
  },
  {
   "cell_type": "markdown",
   "id": "e9819779-4375-41d4-b581-222d9a048921",
   "metadata": {
    "id": "e9819779-4375-41d4-b581-222d9a048921"
   },
   "source": [
    "`-` 각 채널을 시각화 "
   ]
  },
  {
   "cell_type": "code",
   "execution_count": 24,
   "id": "5449fb3b-d8ef-4ac0-affe-d8aa9f91d1b7",
   "metadata": {
    "colab": {
     "base_uri": "https://localhost:8080/",
     "height": 269
    },
    "id": "5449fb3b-d8ef-4ac0-affe-d8aa9f91d1b7",
    "outputId": "893eb942-57d6-485a-a785-7bf1e0247411"
   },
   "outputs": [
    {
     "data": {
      "image/png": "[encoded data removed]",
      "text/plain": [
       "<Figure size 432x288 with 4 Axes>"
      ]
     },
     "metadata": {
      "needs_background": "light"
     },
     "output_type": "display_data"
    }
   ],
   "source": [
    "fig, ((ax1,ax2),(ax3,ax4)) = plt.subplots(2,2)"
   ]
  },
  {
   "cell_type": "code",
   "execution_count": 25,
   "id": "5c758ed5-8d64-4644-8ce6-894b6a20608f",
   "metadata": {
    "colab": {
     "base_uri": "https://localhost:8080/"
    },
    "id": "5c758ed5-8d64-4644-8ce6-894b6a20608f",
    "outputId": "f104bbce-215c-4686-d1c3-e7baf2325404"
   },
   "outputs": [
    {
     "data": {
      "text/plain": [
       "<matplotlib.image.AxesImage at 0x7f139b8eb6d0>"
      ]
     },
     "execution_count": 25,
     "metadata": {},
     "output_type": "execute_result"
    }
   ],
   "source": [
    "ax1.imshow(XXX.reshape(50,50),cmap='gray')"
   ]
  },
  {
   "cell_type": "code",
   "execution_count": 26,
   "id": "655b30d8-54f2-423f-b4e9-b6a2852ff43c",
   "metadata": {
    "colab": {
     "base_uri": "https://localhost:8080/"
    },
    "id": "655b30d8-54f2-423f-b4e9-b6a2852ff43c",
    "outputId": "a72b9d45-d702-4627-f934-7ae866a5237a"
   },
   "outputs": [
    {
     "data": {
      "text/plain": [
       "<matplotlib.image.AxesImage at 0x7f139ba88e50>"
      ]
     },
     "execution_count": 26,
     "metadata": {},
     "output_type": "execute_result"
    }
   ],
   "source": [
    "ax3.imshow(XXX0.reshape(49,49),cmap='gray')"
   ]
  },
  {
   "cell_type": "code",
   "execution_count": 27,
   "id": "f535fec2-a6a4-4de5-b0e0-1640f519de07",
   "metadata": {
    "colab": {
     "base_uri": "https://localhost:8080/"
    },
    "id": "f535fec2-a6a4-4de5-b0e0-1640f519de07",
    "outputId": "f953d27c-ac22-40ca-9f04-7391de30dd69"
   },
   "outputs": [
    {
     "data": {
      "text/plain": [
       "<matplotlib.image.AxesImage at 0x7f139b954810>"
      ]
     },
     "execution_count": 27,
     "metadata": {},
     "output_type": "execute_result"
    }
   ],
   "source": [
    "ax4.imshow(XXX1.reshape(49,49),cmap='gray')"
   ]
  },
  {
   "cell_type": "code",
   "execution_count": 28,
   "id": "5570686d-0b12-4c08-b2d9-59d961b82b1d",
   "metadata": {
    "colab": {
     "base_uri": "https://localhost:8080/",
     "height": 269
    },
    "id": "5570686d-0b12-4c08-b2d9-59d961b82b1d",
    "outputId": "65ba488e-4a39-4d6a-b18f-0f217a61d94c"
   },
   "outputs": [
    {
     "data": {
      "image/png": "[encoded data removed]",
      "text/plain": [
       "<Figure size 432x288 with 4 Axes>"
      ]
     },
     "execution_count": 28,
     "metadata": {},
     "output_type": "execute_result"
    }
   ],
   "source": [
    "fig"
   ]
  },
  {
   "cell_type": "markdown",
   "id": "fa27ea5d-167d-446b-91ed-2b6eb65f5d5b",
   "metadata": {
    "id": "fa27ea5d-167d-446b-91ed-2b6eb65f5d5b"
   },
   "source": [
    "- 2사분면: 원래이미지 \n",
    "- 3사분면: 원래이미지 -> 평균을 의미하는 conv적용 \n",
    "- 4사분면: 원래이미지 -> 엣지를 검출하는 conv적용"
   ]
  },
  {
   "cell_type": "markdown",
   "id": "d2e1b572-db56-4c3f-9d27-7e16a6afdeed",
   "metadata": {
    "id": "d2e1b572-db56-4c3f-9d27-7e16a6afdeed"
   },
   "source": [
    "`-` conv(XXX)의 각 채널에 한번더 conv를 통과시켜보자"
   ]
  },
  {
   "cell_type": "code",
   "execution_count": 29,
   "id": "d3b5a539-e7f5-4547-a0ac-41e2dd6d1930",
   "metadata": {
    "colab": {
     "base_uri": "https://localhost:8080/"
    },
    "id": "d3b5a539-e7f5-4547-a0ac-41e2dd6d1930",
    "outputId": "007779f4-907f-48e0-8d7b-1cca7f579848"
   },
   "outputs": [
    {
     "data": {
      "text/plain": [
       "<tf.Tensor: shape=(1, 48, 48), dtype=float32, numpy=\n",
       "array([[[ 10.661785  , -11.915625  ,   8.694088  , ...,  -8.103132  ,\n",
       "           6.4671535 ,  -0.59415716],\n",
       "        [  3.4167404 ,  -8.912174  ,  11.209547  , ..., -12.895272  ,\n",
       "          11.620449  ,  -4.2724566 ],\n",
       "        [ -2.6062584 ,  -1.1375389 ,   5.1270504 , ...,  -5.6994057 ,\n",
       "           1.0897017 ,   3.5527542 ],\n",
       "        ...,\n",
       "        [ -3.345789  ,   1.050684  ,  -1.4384975 , ...,   0.15103805,\n",
       "          -6.9143505 ,  10.635868  ],\n",
       "        [ -8.307404  ,   7.824808  ,   0.42079735, ...,  -1.5494564 ,\n",
       "          -5.9766946 ,   8.604609  ],\n",
       "        [-10.571678  ,   8.143341  ,   4.2809143 , ...,  -0.22970343,\n",
       "           3.383052  ,   2.534236  ]]], dtype=float32)>"
      ]
     },
     "execution_count": 29,
     "metadata": {},
     "output_type": "execute_result"
    }
   ],
   "source": [
    "conv(XXX0.reshape(1,49,49,1))[...,0] ### XXX0 -> 평균필터 <=> XXX -> 평균필터 -> 평균필터 \n",
    "conv(XXX0.reshape(1,49,49,1))[...,1] ### XXX0 -> 엣지필터 <=> XXX -> 평균필터 -> 엣지필터 \n",
    "conv(XXX1.reshape(1,49,49,1))[...,0] ### XXX1 -> 평균필터 <=> XXX -> 엣지필터 -> 평균필터 \n",
    "conv(XXX1.reshape(1,49,49,1))[...,1] ### XXX1 -> 엣지필터 <=> XXX -> 엣지필터 -> 엣지필터 "
   ]
  },
  {
   "cell_type": "code",
   "execution_count": 30,
   "id": "3df76478-b8f3-48dd-8d6a-d0dc832686b0",
   "metadata": {
    "colab": {
     "base_uri": "https://localhost:8080/",
     "height": 269
    },
    "id": "3df76478-b8f3-48dd-8d6a-d0dc832686b0",
    "outputId": "37483bcd-41ae-42d5-90bc-56826a8bbd63"
   },
   "outputs": [
    {
     "data": {
      "image/png": "[encoded data removed]",
      "text/plain": [
       "<Figure size 432x288 with 12 Axes>"
      ]
     },
     "metadata": {
      "needs_background": "light"
     },
     "output_type": "display_data"
    }
   ],
   "source": [
    "fig,ax =plt.subplots(3,4)"
   ]
  },
  {
   "cell_type": "code",
   "execution_count": 31,
   "id": "6b603ddc-e5b9-4187-be41-baa66c7dab9a",
   "metadata": {
    "colab": {
     "base_uri": "https://localhost:8080/"
    },
    "id": "6b603ddc-e5b9-4187-be41-baa66c7dab9a",
    "outputId": "ce888c9d-f78f-43e4-bde0-cd35c06c349e"
   },
   "outputs": [
    {
     "data": {
      "text/plain": [
       "<matplotlib.image.AxesImage at 0x7f139b5ebe50>"
      ]
     },
     "execution_count": 31,
     "metadata": {},
     "output_type": "execute_result"
    }
   ],
   "source": [
    "ax[0][0].imshow(XXX.reshape(50,50),cmap='gray') # 원래이미지"
   ]
  },
  {
   "cell_type": "code",
   "execution_count": 32,
   "id": "33bf9ee8-72d4-4ddf-8edd-7a6650fc49a3",
   "metadata": {
    "colab": {
     "base_uri": "https://localhost:8080/"
    },
    "id": "33bf9ee8-72d4-4ddf-8edd-7a6650fc49a3",
    "outputId": "815f206c-71e6-4912-c1d7-ccb837a23862"
   },
   "outputs": [
    {
     "data": {
      "text/plain": [
       "<matplotlib.image.AxesImage at 0x7f139b61f310>"
      ]
     },
     "execution_count": 32,
     "metadata": {},
     "output_type": "execute_result"
    }
   ],
   "source": [
    "ax[1][0].imshow(XXX0.reshape(49,49),cmap='gray') # 원래이미지 -> 평균필터 \n",
    "ax[1][2].imshow(XXX1.reshape(49,49),cmap='gray') # 원래이미지 -> 엣지필터"
   ]
  },
  {
   "cell_type": "code",
   "execution_count": 33,
   "id": "f1cea099-ec15-4ee8-8904-8106e3aa635c",
   "metadata": {
    "colab": {
     "base_uri": "https://localhost:8080/"
    },
    "id": "f1cea099-ec15-4ee8-8904-8106e3aa635c",
    "outputId": "9c06cd50-88f8-4738-d214-3a5f7df7898b"
   },
   "outputs": [
    {
     "data": {
      "text/plain": [
       "<matplotlib.image.AxesImage at 0x7f139b5d0250>"
      ]
     },
     "execution_count": 33,
     "metadata": {},
     "output_type": "execute_result"
    }
   ],
   "source": [
    "ax[2][0].imshow(conv(XXX0.reshape(1,49,49,1))[...,0].reshape(48,48),cmap='gray') # 원래이미지 -> 평균필터 -> 평균필터 \n",
    "ax[2][1].imshow(conv(XXX0.reshape(1,49,49,1))[...,1].reshape(48,48),cmap='gray') # 원래이미지 -> 평균필터 -> 엣지필터\n",
    "ax[2][2].imshow(conv(XXX1.reshape(1,49,49,1))[...,0].reshape(48,48),cmap='gray') # 원래이미지 -> 엣지필터 -> 평균필터 \n",
    "ax[2][3].imshow(conv(XXX1.reshape(1,49,49,1))[...,1].reshape(48,48),cmap='gray') # 원래이미지 -> 엣지필터 -> 엣지필터"
   ]
  },
  {
   "cell_type": "code",
   "execution_count": 34,
   "id": "e83b8c8f-27d0-437f-bb51-806d68d6923e",
   "metadata": {
    "colab": {
     "base_uri": "https://localhost:8080/",
     "height": 585
    },
    "id": "e83b8c8f-27d0-437f-bb51-806d68d6923e",
    "outputId": "48c42fda-d909-4a9e-801f-008e7659a6b5"
   },
   "outputs": [
    {
     "data": {
      "image/png": "[encoded data removed]",
      "text/plain": [
       "<Figure size 1152x576 with 12 Axes>"
      ]
     },
     "execution_count": 34,
     "metadata": {},
     "output_type": "execute_result"
    }
   ],
   "source": [
    "fig.set_figheight(8)\n",
    "fig.set_figwidth(16)\n",
    "fig.tight_layout()\n",
    "fig"
   ]
  },
  {
   "cell_type": "markdown",
   "id": "f981cbca-b7e9-457b-bc2c-21e2c0068288",
   "metadata": {
    "id": "f981cbca-b7e9-457b-bc2c-21e2c0068288"
   },
   "source": [
    "`-` 요약 \n",
    "- conv의 weight에 따라서 엣지를 검출하는 필터가 만들어지기도 하고 스무딩의 역할을 하는 필터가 만들어지기도 한다. 그리고 우리는 의미를 알 수 없지만 어떠한 역할을 하는 필터가 만들어질 것이다. \n",
    "- 이것들을 조합하다보면 우연히 이미지를 분류하기에 유리한 특징을 뽑아내는 weight가 맞춰질 수도 있겠다. \n",
    "- 채널수를 많이 만들고 다양한 웨이트조합을 실험하다보면 보다 복잡한 이미지의 특징을 추출할 수도 있을 것이다? \n",
    "- 컨볼루션 레이어의 역할 = 이미지의 특징을 추출하는 역할 "
   ]
  },
  {
   "cell_type": "markdown",
   "id": "afd9f35d-5a96-4c89-8aa5-f02b403bfff8",
   "metadata": {
    "id": "afd9f35d-5a96-4c89-8aa5-f02b403bfff8"
   },
   "source": [
    "`-` 참고: 스트라이드, 패딩\n",
    "- 스트라이드: 윈도우가 1칸씩 이동하는 것이 아니라 2~3칸씩 이동함 \n",
    "- 패딩: 이미지의 가장자리에 정당한 값을 넣어서 (예를들어 0) 컨볼루션을 수행. 따라서 컨볼루션 연산 이후에도 이미지의 크기가 줄어들지 않도록 방지한다. "
   ]
  },
  {
   "cell_type": "markdown",
   "id": "e6e05b29-a69d-44fc-a7db-00bf2205c186",
   "metadata": {
    "id": "e6e05b29-a69d-44fc-a7db-00bf2205c186"
   },
   "source": [
    "### MAXPOOL"
   ]
  },
  {
   "cell_type": "markdown",
   "id": "fe3fec66-2e0b-4c3b-a76f-87e1142a7071",
   "metadata": {
    "id": "fe3fec66-2e0b-4c3b-a76f-87e1142a7071"
   },
   "source": [
    "`-` 기본적역할: 이미지의 크기를 줄이는 것 \n",
    "- 이미지의의 크기를 줄여야하는 이유? 어차피 최종적으로 10차원으로 줄어야하므로 \n",
    "- 이미지의 크기를 줄이면서도 동시에 아주 크리티컬한 특징은 손실없이 유지하고 싶다~"
   ]
  },
  {
   "cell_type": "markdown",
   "id": "3a85f72b-e94e-4052-87ad-3bd7e6e91001",
   "metadata": {
    "id": "3a85f72b-e94e-4052-87ad-3bd7e6e91001"
   },
   "source": [
    "`-` 점점 작은 이미지가 되면서 중요한 특징들은 살아남지만 그렇지 않으면 죽는다. (캐리커쳐 느낌)"
   ]
  },
  {
   "cell_type": "markdown",
   "id": "0d9da22f-b315-4ada-8fb2-231fc580d459",
   "metadata": {
    "id": "0d9da22f-b315-4ada-8fb2-231fc580d459"
   },
   "source": [
    "`-` 평균이 아니라 max를 쓴 이유는? 그냥 평균보다 나을것이라고 생각했음.. \n",
    "- 그런데 사실은 꼭 그렇지만은 않아서 최근에는 꼭 맥스풀링을 고집하진 않는 추세 (평균풀링도 많이씀) "
   ]
  },
  {
   "cell_type": "markdown",
   "id": "5a008e45-d696-4cce-b7b4-12b1eec333ca",
   "metadata": {
    "id": "5a008e45-d696-4cce-b7b4-12b1eec333ca"
   },
   "source": [
    "### CNN 아키텍처의 표현방법"
   ]
  },
  {
   "cell_type": "markdown",
   "id": "98fc8c3f-6c05-4528-9ac3-31620598491d",
   "metadata": {
    "id": "98fc8c3f-6c05-4528-9ac3-31620598491d"
   },
   "source": [
    "`-` 아래와 같이 아키텍처의 다이어그램형태로 표현하고 굳이 노드별로 이미지를 그리진 않음"
   ]
  },
  {
   "cell_type": "markdown",
   "id": "44f67916-2529-4522-bdcb-c9c881016a49",
   "metadata": {
    "id": "44f67916-2529-4522-bdcb-c9c881016a49"
   },
   "source": [
    "![](https://upload.wikimedia.org/wikipedia/commons/thumb/c/cc/Comparison_image_neural_networks.svg/2560px-Comparison_image_neural_networks.svg.png)"
   ]
  },
  {
   "cell_type": "markdown",
   "id": "4ba5be91-17ed-4491-9783-95c70a245ded",
   "metadata": {
    "id": "4ba5be91-17ed-4491-9783-95c70a245ded"
   },
   "source": [
    "`-` 물론 아래와 같이 그리는 경우도 있음"
   ]
  },
  {
   "cell_type": "markdown",
   "id": "ccddca57-68d6-4748-b0f6-dedd296aeefa",
   "metadata": {
    "id": "ccddca57-68d6-4748-b0f6-dedd296aeefa"
   },
   "source": [
    "![](https://editor.analyticsvidhya.com/uploads/90650dnn2.jpeg)"
   ]
  },
  {
   "cell_type": "markdown",
   "id": "ea43974c-bd23-4fee-82db-3124e428fd8c",
   "metadata": {
    "id": "ea43974c-bd23-4fee-82db-3124e428fd8c"
   },
   "source": [
    "### Discussion about CNN "
   ]
  },
  {
   "cell_type": "markdown",
   "id": "aeab83b2-5173-4508-b099-e8a22f01e912",
   "metadata": {
    "id": "aeab83b2-5173-4508-b099-e8a22f01e912"
   },
   "source": [
    "`-` 격자형태로 배열된 자료를 처리하는데 특화된 신경망이다. \n",
    "- 시계열 (1차원격자), 이미지 (2차원격자)"
   ]
  },
  {
   "cell_type": "markdown",
   "id": "623c9d2f-5cc4-4771-8b6e-bdd743bf9867",
   "metadata": {
    "id": "623c9d2f-5cc4-4771-8b6e-bdd743bf9867"
   },
   "source": [
    "`-` 실제응용에서 엄청난 성공을 거두었다. "
   ]
  },
  {
   "cell_type": "markdown",
   "id": "15be8ed7-6df0-4097-a602-56e1c9c323dd",
   "metadata": {
    "id": "15be8ed7-6df0-4097-a602-56e1c9c323dd"
   },
   "source": [
    "`-` 이름의 유래는 컨볼루션이라는 수학적 연산을 사용했기 때문 \n",
    "- 컨볼루션은 조금 특별한 선형변환이다. "
   ]
  },
  {
   "cell_type": "markdown",
   "id": "3ad57856-2954-4bfb-9f5a-4c491b7244f0",
   "metadata": {
    "id": "3ad57856-2954-4bfb-9f5a-4c491b7244f0"
   },
   "source": [
    "`-` 신경과학의 원리가 심층학습에 영향을 미친 사례이다. "
   ]
  },
  {
   "cell_type": "markdown",
   "id": "989e025a-a12c-4cd9-9ed9-48f7b869c1c5",
   "metadata": {
    "id": "989e025a-a12c-4cd9-9ed9-48f7b869c1c5"
   },
   "source": [
    "### CNN의 모티브"
   ]
  },
  {
   "cell_type": "markdown",
   "id": "ac44b61f-7d8a-4429-9636-c5fa79404adc",
   "metadata": {
    "id": "ac44b61f-7d8a-4429-9636-c5fa79404adc"
   },
   "source": [
    "`-` 희소성 + 매개변수의 공유\n",
    "- 다소 철학적인 모티브임 \n",
    "- 희소성: 이미지를 분석하여 특징을 뽑아낼때 부분부분의 특징만 뽑으면 된다는 의미 \n",
    "- 매개변수의 공유: 한 채널에는 하나의 역할을 하는 커널을 설계하면 된다는 의미 (스무딩이든 엣징이든). 즉 어떤지역은 스무딩, 어떤지역은 엣징을 할 필요가 없이 한채널에서는 엣징만, 다른채널에서는 스무딩만 수행한뒤 여러채널을 조합해서 이해하면 된다. "
   ]
  },
  {
   "cell_type": "markdown",
   "id": "725d766b-bbd8-4f19-9649-621d3addcacf",
   "metadata": {
    "id": "725d766b-bbd8-4f19-9649-621d3addcacf"
   },
   "source": [
    "`-` 매개변수 공유효과로 인해서 파라메터가 확 줄어든다. "
   ]
  },
  {
   "cell_type": "markdown",
   "id": "f2db8e5a-7da7-4266-8e09-3a947894da30",
   "metadata": {
    "id": "f2db8e5a-7da7-4266-8e09-3a947894da30"
   },
   "source": [
    "(예시) (1,6,6,1) -> (1,5,5,2) \n",
    "- MLP방식이면 (36,50) 의 차원을 가진 매트릭스가 필요함 => 1800개의 매개변수 필요\n",
    "- CNN은 8개의 매개변수 필요"
   ]
  },
  {
   "cell_type": "markdown",
   "id": "2ccb7248-21d1-40f3-8d4b-af5f2de5ac15",
   "metadata": {
    "id": "2ccb7248-21d1-40f3-8d4b-af5f2de5ac15"
   },
   "source": [
    "### CNN 신경망의 기본구조 "
   ]
  },
  {
   "cell_type": "markdown",
   "id": "75710961-c900-4e87-970f-506d822fe9c7",
   "metadata": {
    "id": "75710961-c900-4e87-970f-506d822fe9c7"
   },
   "source": [
    "`-` 기본유닛 \n",
    "- conv - activation - pooling\n",
    "- conv - conv - activation - pooling"
   ]
  },
  {
   "cell_type": "markdown",
   "id": "66d3fc11-3adf-4656-bd9b-dfe10e7660d9",
   "metadata": {
    "id": "66d3fc11-3adf-4656-bd9b-dfe10e7660d9"
   },
   "source": [
    "## 모형의 성능을 올리기 위한 노력들 "
   ]
  },
  {
   "cell_type": "markdown",
   "id": "8cb9cb78-0704-46e5-b30e-879962d42fc7",
   "metadata": {
    "id": "8cb9cb78-0704-46e5-b30e-879962d42fc7"
   },
   "source": [
    "### dropout "
   ]
  },
  {
   "cell_type": "markdown",
   "id": "517f0bb9-641d-4fda-82b0-1be442dd0f33",
   "metadata": {
    "id": "517f0bb9-641d-4fda-82b0-1be442dd0f33"
   },
   "source": [
    "`-` 아래의 예제를 복습하자. "
   ]
  },
  {
   "cell_type": "code",
   "execution_count": 35,
   "id": "96f57243-d853-42d5-8d3f-9e5e32848819",
   "metadata": {
    "colab": {
     "base_uri": "https://localhost:8080/",
     "height": 283
    },
    "id": "96f57243-d853-42d5-8d3f-9e5e32848819",
    "outputId": "8acfc014-efe5-4e4f-e07d-73e587b26ba0"
   },
   "outputs": [
    {
     "data": {
      "text/plain": [
       "[<matplotlib.lines.Line2D at 0x7f1398c7de10>]"
      ]
     },
     "execution_count": 35,
     "metadata": {},
     "output_type": "execute_result"
    },
    {
     "data": {
      "image/png": "[encoded data removed]",
      "text/plain": [
       "<Figure size 432x288 with 1 Axes>"
      ]
     },
     "metadata": {
      "needs_background": "light"
     },
     "output_type": "display_data"
    }
   ],
   "source": [
    "np.random.seed(43052)\n",
    "x = np.linspace(0,1,100).reshape(100,1)\n",
    "y = np.random.normal(loc=0,scale=0.01,size=(100,1))\n",
    "plt.plot(x,y)"
   ]
  },
  {
   "cell_type": "code",
   "execution_count": 36,
   "id": "5cb694ab-eedf-4783-911c-3acb8ec88ceb",
   "metadata": {
    "colab": {
     "base_uri": "https://localhost:8080/"
    },
    "id": "5cb694ab-eedf-4783-911c-3acb8ec88ceb",
    "outputId": "c4cd61d4-d1e4-4174-e953-056c91fb22e8"
   },
   "outputs": [
    {
     "data": {
      "text/plain": [
       "<keras.callbacks.History at 0x7f13973bed90>"
      ]
     },
     "execution_count": 36,
     "metadata": {},
     "output_type": "execute_result"
    }
   ],
   "source": [
    "tf.random.set_seed(43052)\n",
    "net = tf.keras.Sequential()\n",
    "net.add(tf.keras.layers.Dense(2048,activation='relu'))\n",
    "net.add(tf.keras.layers.Dense(1))\n",
    "net.compile(loss='mse',optimizer='adam')\n",
    "net.fit(x,y,epochs=5000,verbose=0,batch_size=100)"
   ]
  },
  {
   "cell_type": "code",
   "execution_count": 37,
   "id": "68f7b197-9436-406c-91d5-9e78f800bd42",
   "metadata": {
    "colab": {
     "base_uri": "https://localhost:8080/",
     "height": 283
    },
    "id": "68f7b197-9436-406c-91d5-9e78f800bd42",
    "outputId": "737d2bc6-2580-47ba-8d2d-1ff4b872ae2b"
   },
   "outputs": [
    {
     "data": {
      "text/plain": [
       "[<matplotlib.lines.Line2D at 0x7f13973d7c90>]"
      ]
     },
     "execution_count": 37,
     "metadata": {},
     "output_type": "execute_result"
    },
    {
     "data": {
      "image/png": "[encoded data removed]",
      "text/plain": [
       "<Figure size 432x288 with 1 Axes>"
      ]
     },
     "metadata": {
      "needs_background": "light"
     },
     "output_type": "display_data"
    }
   ],
   "source": [
    "plt.plot(x,y)\n",
    "plt.plot(x,net(x),'--')"
   ]
  },
  {
   "cell_type": "markdown",
   "id": "b909d6cc-bd6b-45c1-b89c-29944f35e829",
   "metadata": {
    "id": "b909d6cc-bd6b-45c1-b89c-29944f35e829"
   },
   "source": [
    "`-` train/test로 나누어서 생각해보자."
   ]
  },
  {
   "cell_type": "code",
   "execution_count": 38,
   "id": "dd22f960-72b9-4b05-ad5b-94216e386cb4",
   "metadata": {
    "colab": {
     "base_uri": "https://localhost:8080/"
    },
    "id": "dd22f960-72b9-4b05-ad5b-94216e386cb4",
    "outputId": "5f2f25c2-b6da-47e9-cdf2-971805d8569e"
   },
   "outputs": [
    {
     "data": {
      "text/plain": [
       "<keras.callbacks.History at 0x7f1395ab6550>"
      ]
     },
     "execution_count": 38,
     "metadata": {},
     "output_type": "execute_result"
    }
   ],
   "source": [
    "tf.random.set_seed(43052)\n",
    "net = tf.keras.Sequential()\n",
    "net.add(tf.keras.layers.Dense(2048,activation='relu'))\n",
    "net.add(tf.keras.layers.Dense(1))\n",
    "net.compile(loss='mse',optimizer='adam')\n",
    "net.fit(x[:80],y[:80],epochs=5000,verbose=0,batch_size=80)"
   ]
  },
  {
   "cell_type": "code",
   "execution_count": 39,
   "id": "a0eae141-9479-4a37-aa53-4b447e291c4f",
   "metadata": {
    "colab": {
     "base_uri": "https://localhost:8080/",
     "height": 283
    },
    "id": "a0eae141-9479-4a37-aa53-4b447e291c4f",
    "outputId": "5eb8d0f3-39dd-43f5-d90b-670b57a6d48d"
   },
   "outputs": [
    {
     "data": {
      "text/plain": [
       "[<matplotlib.lines.Line2D at 0x7f13969be210>]"
      ]
     },
     "execution_count": 39,
     "metadata": {},
     "output_type": "execute_result"
    },
    {
     "data": {
      "image/png": "[encoded data removed]",
      "text/plain": [
       "<Figure size 432x288 with 1 Axes>"
      ]
     },
     "metadata": {
      "needs_background": "light"
     },
     "output_type": "display_data"
    }
   ],
   "source": [
    "plt.plot(x,y)\n",
    "plt.plot(x[:80],net(x[:80]),'--')"
   ]
  },
  {
   "cell_type": "code",
   "execution_count": 40,
   "id": "9a3cf108-77fe-4de2-a546-cd10af72c026",
   "metadata": {
    "colab": {
     "base_uri": "https://localhost:8080/",
     "height": 283
    },
    "id": "9a3cf108-77fe-4de2-a546-cd10af72c026",
    "outputId": "b5b8da4f-130a-4087-99be-410228bf7033"
   },
   "outputs": [
    {
     "data": {
      "text/plain": [
       "[<matplotlib.lines.Line2D at 0x7f1398d85250>]"
      ]
     },
     "execution_count": 40,
     "metadata": {},
     "output_type": "execute_result"
    },
    {
     "data": {
      "image/png": "[encoded data removed]",
      "text/plain": [
       "<Figure size 432x288 with 1 Axes>"
      ]
     },
     "metadata": {
      "needs_background": "light"
     },
     "output_type": "display_data"
    }
   ],
   "source": [
    "plt.plot(x,y)\n",
    "plt.plot(x[:80],net(x[:80]),'--') # train\n",
    "plt.plot(x[80:],net(x[80:]),'--') # test"
   ]
  },
  {
   "cell_type": "markdown",
   "id": "0cb1bf97-0176-439c-80aa-1d524848435f",
   "metadata": {
    "id": "0cb1bf97-0176-439c-80aa-1d524848435f"
   },
   "source": [
    "- train에서 추세를 따라가는게 좋은게 아니다 $\\to$ 그냥 직선으로 핏하는거 이외에는 다 오버핏이다. "
   ]
  },
  {
   "cell_type": "markdown",
   "id": "bd6e25e1-1e54-4086-b618-fe7465c0cd12",
   "metadata": {
    "id": "bd6e25e1-1e54-4086-b618-fe7465c0cd12"
   },
   "source": [
    "`-` 매 에폭마다 적당히 80%의 노드들을 빼고 학습하자 $\\to$ 너무 잘 학습되는 문제는 생기지 않을 것이다 (과적합이 방지될것이다?)"
   ]
  },
  {
   "cell_type": "code",
   "execution_count": 41,
   "id": "a41f9a62-8b22-44d1-bff0-be04dfc5f0c3",
   "metadata": {
    "colab": {
     "base_uri": "https://localhost:8080/"
    },
    "id": "a41f9a62-8b22-44d1-bff0-be04dfc5f0c3",
    "outputId": "bcaa4919-773f-41da-a8ee-8ad605671613"
   },
   "outputs": [
    {
     "data": {
      "text/plain": [
       "<keras.callbacks.History at 0x7f139ba72c50>"
      ]
     },
     "execution_count": 41,
     "metadata": {},
     "output_type": "execute_result"
    }
   ],
   "source": [
    "tf.random.set_seed(43052)\n",
    "net = tf.keras.Sequential()\n",
    "net.add(tf.keras.layers.Dense(2048,activation='relu'))\n",
    "net.add(tf.keras.layers.Dropout(0.8))\n",
    "net.add(tf.keras.layers.Dense(1))\n",
    "net.compile(loss='mse',optimizer='adam')\n",
    "net.fit(x[:80],y[:80],epochs=5000,verbose=0,batch_size=80)"
   ]
  },
  {
   "cell_type": "code",
   "execution_count": 42,
   "id": "029c0c55-ce78-4c78-a9ba-8070b2f5815b",
   "metadata": {
    "colab": {
     "base_uri": "https://localhost:8080/",
     "height": 283
    },
    "id": "029c0c55-ce78-4c78-a9ba-8070b2f5815b",
    "outputId": "79946a4f-ff12-4be9-f148-773c0477134d"
   },
   "outputs": [
    {
     "data": {
      "text/plain": [
       "[<matplotlib.lines.Line2D at 0x7f1396126050>]"
      ]
     },
     "execution_count": 42,
     "metadata": {},
     "output_type": "execute_result"
    },
    {
     "data": {
      "image/png": "[encoded data removed]",
      "text/plain": [
       "<Figure size 432x288 with 1 Axes>"
      ]
     },
     "metadata": {
      "needs_background": "light"
     },
     "output_type": "display_data"
    }
   ],
   "source": [
    "plt.plot(x,y)\n",
    "plt.plot(x[:80],net(x[:80]),'--')\n",
    "plt.plot(x[80:],net(x[80:]),'--')"
   ]
  },
  {
   "cell_type": "markdown",
   "id": "d53bfa89-8b05-49c6-97e5-d4049ba905cc",
   "metadata": {
    "id": "d53bfa89-8b05-49c6-97e5-d4049ba905cc"
   },
   "source": [
    "`-` 드랍아웃에 대한 summary\n",
    "- 직관: 특정노드를 랜덤으로 off시키면 학습이 방해되어 오히려 과적합이 방지되는 효과가 있다 (그렇지만 진짜 중요한 특징이라면 랜덤으로 off 되더라도 어느정도는 학습될 듯)\n",
    "- note: 드랍아웃을 쓰면 오버핏이 줄어드는건 맞지만 완전히 없어지는건 아니다. \n",
    "- note: 오버핏을 줄이는 유일한 방법이 드랍아웃만 있는것도 아니며, 드랍아웃이 오버핏을 줄이는 가장 효과적인 방법도 아니다 (최근에는 dropout보다 batch nomalization을 사용하는 추세임)"
   ]
  },
  {
   "cell_type": "markdown",
   "id": "9de29c6b-ad9d-427a-8ed3-c81d5e9dda98",
   "metadata": {
    "id": "9de29c6b-ad9d-427a-8ed3-c81d5e9dda98"
   },
   "source": [
    "### train / val / test "
   ]
  },
  {
   "cell_type": "markdown",
   "id": "774e8f74-0a2a-4fa1-839a-78e23c1e41f0",
   "metadata": {
    "id": "774e8f74-0a2a-4fa1-839a-78e23c1e41f0"
   },
   "source": [
    "`-` data"
   ]
  },
  {
   "cell_type": "code",
   "execution_count": 43,
   "id": "4ce7121f-6bb7-4b1d-bb39-f6249ba3cca2",
   "metadata": {
    "colab": {
     "base_uri": "https://localhost:8080/"
    },
    "id": "4ce7121f-6bb7-4b1d-bb39-f6249ba3cca2",
    "outputId": "27a456a8-1ddb-4d07-8453-23e574c2df01"
   },
   "outputs": [
    {
     "name": "stdout",
     "output_type": "stream",
     "text": [
      "Downloading data from https://storage.googleapis.com/tensorflow/tf-keras-datasets/train-labels-idx1-ubyte.gz\n",
      "32768/29515 [=================================] - 0s 0us/step\n",
      "40960/29515 [=========================================] - 0s 0us/step\n",
      "Downloading data from https://storage.googleapis.com/tensorflow/tf-keras-datasets/train-images-idx3-ubyte.gz\n",
      "26427392/26421880 [==============================] - 0s 0us/step\n",
      "26435584/26421880 [==============================] - 0s 0us/step\n",
      "Downloading data from https://storage.googleapis.com/tensorflow/tf-keras-datasets/t10k-labels-idx1-ubyte.gz\n",
      "16384/5148 [===============================================================================================] - 0s 0us/step\n",
      "Downloading data from https://storage.googleapis.com/tensorflow/tf-keras-datasets/t10k-images-idx3-ubyte.gz\n",
      "4423680/4422102 [==============================] - 0s 0us/step\n",
      "4431872/4422102 [==============================] - 0s 0us/step\n"
     ]
    }
   ],
   "source": [
    "(x_train, y_train), (x_test, y_test) = tf.keras.datasets.fashion_mnist.load_data()"
   ]
  },
  {
   "cell_type": "code",
   "execution_count": 44,
   "id": "8b5bf325-8eb1-4e9a-8da7-0d0d40ff439d",
   "metadata": {
    "id": "8b5bf325-8eb1-4e9a-8da7-0d0d40ff439d"
   },
   "outputs": [],
   "source": [
    "X= x_train.reshape(-1,28,28,1)/255 ## 입력이 0~255 -> 0~1로 표준화 시키는 효과 + float으로 자료형이 바뀜 \n",
    "y = tf.keras.utils.to_categorical(y_train)\n",
    "XX = x_test.reshape(-1,28,28,1)/255\n",
    "yy = tf.keras.utils.to_categorical(y_test)"
   ]
  },
  {
   "cell_type": "code",
   "execution_count": 45,
   "id": "c84c1fc4-1570-4ca8-b655-eb48c14bf50c",
   "metadata": {
    "id": "c84c1fc4-1570-4ca8-b655-eb48c14bf50c"
   },
   "outputs": [],
   "source": [
    "net = tf.keras.Sequential()\n",
    "net.add(tf.keras.layers.Flatten())\n",
    "net.add(tf.keras.layers.Dense(50,activation='relu'))\n",
    "net.add(tf.keras.layers.Dense(10,activation='softmax'))\n",
    "net.compile(optimizer='adam',loss=tf.losses.categorical_crossentropy,metrics='accuracy')"
   ]
  },
  {
   "cell_type": "code",
   "execution_count": 46,
   "id": "92ef5c24-396c-4617-b055-03f78f0d88e6",
   "metadata": {
    "colab": {
     "base_uri": "https://localhost:8080/"
    },
    "id": "92ef5c24-396c-4617-b055-03f78f0d88e6",
    "outputId": "a591a57b-2806-4269-cbe0-64433feb143b",
    "scrolled": true,
    "tags": []
   },
   "outputs": [
    {
     "name": "stdout",
     "output_type": "stream",
     "text": [
      "Epoch 1/200\n",
      "240/240 [==============================] - 2s 5ms/step - loss: 0.7013 - accuracy: 0.7664 - val_loss: 0.4974 - val_accuracy: 0.8318\n",
      "Epoch 2/200\n",
      "240/240 [==============================] - 1s 4ms/step - loss: 0.4706 - accuracy: 0.8397 - val_loss: 0.4831 - val_accuracy: 0.8321\n",
      "Epoch 3/200\n",
      "240/240 [==============================] - 1s 4ms/step - loss: 0.4293 - accuracy: 0.8514 - val_loss: 0.4371 - val_accuracy: 0.8522\n",
      "Epoch 4/200\n",
      "240/240 [==============================] - 1s 4ms/step - loss: 0.4065 - accuracy: 0.8593 - val_loss: 0.4087 - val_accuracy: 0.8576\n",
      "Epoch 5/200\n",
      "240/240 [==============================] - 1s 4ms/step - loss: 0.3864 - accuracy: 0.8654 - val_loss: 0.3983 - val_accuracy: 0.8606\n",
      "Epoch 6/200\n",
      "240/240 [==============================] - 1s 4ms/step - loss: 0.3727 - accuracy: 0.8691 - val_loss: 0.3904 - val_accuracy: 0.8616\n",
      "Epoch 7/200\n",
      "240/240 [==============================] - 1s 4ms/step - loss: 0.3619 - accuracy: 0.8738 - val_loss: 0.3873 - val_accuracy: 0.8659\n",
      "Epoch 8/200\n",
      "240/240 [==============================] - 1s 4ms/step - loss: 0.3503 - accuracy: 0.8761 - val_loss: 0.3699 - val_accuracy: 0.8712\n",
      "Epoch 9/200\n",
      "240/240 [==============================] - 1s 4ms/step - loss: 0.3435 - accuracy: 0.8789 - val_loss: 0.3727 - val_accuracy: 0.8680\n",
      "Epoch 10/200\n",
      "240/240 [==============================] - 1s 4ms/step - loss: 0.3345 - accuracy: 0.8801 - val_loss: 0.3612 - val_accuracy: 0.8738\n",
      "Epoch 11/200\n",
      "240/240 [==============================] - 1s 4ms/step - loss: 0.3242 - accuracy: 0.8836 - val_loss: 0.3628 - val_accuracy: 0.8715\n",
      "Epoch 12/200\n",
      "240/240 [==============================] - 1s 4ms/step - loss: 0.3191 - accuracy: 0.8849 - val_loss: 0.3581 - val_accuracy: 0.8758\n",
      "Epoch 13/200\n",
      "240/240 [==============================] - 1s 4ms/step - loss: 0.3130 - accuracy: 0.8880 - val_loss: 0.3552 - val_accuracy: 0.8727\n",
      "Epoch 14/200\n",
      "240/240 [==============================] - 1s 4ms/step - loss: 0.3049 - accuracy: 0.8905 - val_loss: 0.3551 - val_accuracy: 0.8733\n",
      "Epoch 15/200\n",
      "240/240 [==============================] - 1s 4ms/step - loss: 0.3012 - accuracy: 0.8931 - val_loss: 0.3500 - val_accuracy: 0.8768\n",
      "Epoch 16/200\n",
      "240/240 [==============================] - 1s 4ms/step - loss: 0.2972 - accuracy: 0.8932 - val_loss: 0.3815 - val_accuracy: 0.8621\n",
      "Epoch 17/200\n",
      "240/240 [==============================] - 1s 4ms/step - loss: 0.2926 - accuracy: 0.8945 - val_loss: 0.3424 - val_accuracy: 0.8792\n",
      "Epoch 18/200\n",
      "240/240 [==============================] - 1s 4ms/step - loss: 0.2846 - accuracy: 0.8967 - val_loss: 0.3474 - val_accuracy: 0.8775\n",
      "Epoch 19/200\n",
      "240/240 [==============================] - 1s 4ms/step - loss: 0.2810 - accuracy: 0.8984 - val_loss: 0.3499 - val_accuracy: 0.8763\n",
      "Epoch 20/200\n",
      "240/240 [==============================] - 1s 4ms/step - loss: 0.2770 - accuracy: 0.8999 - val_loss: 0.3393 - val_accuracy: 0.8801\n",
      "Epoch 21/200\n",
      "240/240 [==============================] - 1s 4ms/step - loss: 0.2731 - accuracy: 0.9007 - val_loss: 0.3353 - val_accuracy: 0.8817\n",
      "Epoch 22/200\n",
      "240/240 [==============================] - 1s 4ms/step - loss: 0.2668 - accuracy: 0.9028 - val_loss: 0.3376 - val_accuracy: 0.8808\n",
      "Epoch 23/200\n",
      "240/240 [==============================] - 1s 4ms/step - loss: 0.2643 - accuracy: 0.9044 - val_loss: 0.3391 - val_accuracy: 0.8773\n",
      "Epoch 24/200\n",
      "240/240 [==============================] - 1s 4ms/step - loss: 0.2601 - accuracy: 0.9066 - val_loss: 0.3411 - val_accuracy: 0.8809\n",
      "Epoch 25/200\n",
      "240/240 [==============================] - 1s 4ms/step - loss: 0.2561 - accuracy: 0.9074 - val_loss: 0.3323 - val_accuracy: 0.8817\n",
      "Epoch 26/200\n",
      "240/240 [==============================] - 1s 4ms/step - loss: 0.2524 - accuracy: 0.9098 - val_loss: 0.3367 - val_accuracy: 0.8827\n",
      "Epoch 27/200\n",
      "240/240 [==============================] - 1s 4ms/step - loss: 0.2507 - accuracy: 0.9099 - val_loss: 0.3340 - val_accuracy: 0.8847\n",
      "Epoch 28/200\n",
      "240/240 [==============================] - 1s 4ms/step - loss: 0.2459 - accuracy: 0.9128 - val_loss: 0.3421 - val_accuracy: 0.8809\n",
      "Epoch 29/200\n",
      "240/240 [==============================] - 1s 4ms/step - loss: 0.2451 - accuracy: 0.9116 - val_loss: 0.3364 - val_accuracy: 0.8820\n",
      "Epoch 30/200\n",
      "240/240 [==============================] - 1s 4ms/step - loss: 0.2423 - accuracy: 0.9121 - val_loss: 0.3331 - val_accuracy: 0.8847\n",
      "Epoch 31/200\n",
      "240/240 [==============================] - 1s 4ms/step - loss: 0.2398 - accuracy: 0.9133 - val_loss: 0.3440 - val_accuracy: 0.8789\n",
      "Epoch 32/200\n",
      "240/240 [==============================] - 1s 4ms/step - loss: 0.2381 - accuracy: 0.9149 - val_loss: 0.3386 - val_accuracy: 0.8822\n",
      "Epoch 33/200\n",
      "240/240 [==============================] - 1s 4ms/step - loss: 0.2337 - accuracy: 0.9168 - val_loss: 0.3422 - val_accuracy: 0.8822\n",
      "Epoch 34/200\n",
      "240/240 [==============================] - 1s 4ms/step - loss: 0.2310 - accuracy: 0.9175 - val_loss: 0.3475 - val_accuracy: 0.8829\n",
      "Epoch 35/200\n",
      "240/240 [==============================] - 1s 4ms/step - loss: 0.2290 - accuracy: 0.9182 - val_loss: 0.3386 - val_accuracy: 0.8831\n",
      "Epoch 36/200\n",
      "240/240 [==============================] - 1s 4ms/step - loss: 0.2274 - accuracy: 0.9187 - val_loss: 0.3428 - val_accuracy: 0.8834\n",
      "Epoch 37/200\n",
      "240/240 [==============================] - 1s 4ms/step - loss: 0.2288 - accuracy: 0.9182 - val_loss: 0.3475 - val_accuracy: 0.8818\n",
      "Epoch 38/200\n",
      "240/240 [==============================] - 1s 5ms/step - loss: 0.2271 - accuracy: 0.9188 - val_loss: 0.3416 - val_accuracy: 0.8826\n",
      "Epoch 39/200\n",
      "240/240 [==============================] - 1s 5ms/step - loss: 0.2212 - accuracy: 0.9213 - val_loss: 0.3309 - val_accuracy: 0.8868\n",
      "Epoch 40/200\n",
      "240/240 [==============================] - 2s 7ms/step - loss: 0.2171 - accuracy: 0.9226 - val_loss: 0.3338 - val_accuracy: 0.8872\n",
      "Epoch 41/200\n",
      "240/240 [==============================] - 2s 6ms/step - loss: 0.2141 - accuracy: 0.9235 - val_loss: 0.3441 - val_accuracy: 0.8836\n",
      "Epoch 42/200\n",
      "240/240 [==============================] - 1s 5ms/step - loss: 0.2171 - accuracy: 0.9226 - val_loss: 0.3425 - val_accuracy: 0.8868\n",
      "Epoch 43/200\n",
      "240/240 [==============================] - 1s 4ms/step - loss: 0.2128 - accuracy: 0.9243 - val_loss: 0.3397 - val_accuracy: 0.8865\n",
      "Epoch 44/200\n",
      "240/240 [==============================] - 1s 4ms/step - loss: 0.2103 - accuracy: 0.9247 - val_loss: 0.3446 - val_accuracy: 0.8828\n",
      "Epoch 45/200\n",
      "240/240 [==============================] - 1s 4ms/step - loss: 0.2076 - accuracy: 0.9251 - val_loss: 0.3395 - val_accuracy: 0.8880\n",
      "Epoch 46/200\n",
      "240/240 [==============================] - 1s 4ms/step - loss: 0.2057 - accuracy: 0.9268 - val_loss: 0.3573 - val_accuracy: 0.8793\n",
      "Epoch 47/200\n",
      "240/240 [==============================] - 1s 4ms/step - loss: 0.2072 - accuracy: 0.9257 - val_loss: 0.3563 - val_accuracy: 0.8818\n",
      "Epoch 48/200\n",
      "240/240 [==============================] - 1s 4ms/step - loss: 0.2014 - accuracy: 0.9283 - val_loss: 0.3442 - val_accuracy: 0.8867\n",
      "Epoch 49/200\n",
      "240/240 [==============================] - 1s 4ms/step - loss: 0.2022 - accuracy: 0.9276 - val_loss: 0.3663 - val_accuracy: 0.8780\n",
      "Epoch 50/200\n",
      "240/240 [==============================] - 1s 4ms/step - loss: 0.2010 - accuracy: 0.9290 - val_loss: 0.3520 - val_accuracy: 0.8823\n",
      "Epoch 51/200\n",
      "240/240 [==============================] - 1s 4ms/step - loss: 0.1988 - accuracy: 0.9293 - val_loss: 0.3491 - val_accuracy: 0.8842\n",
      "Epoch 52/200\n",
      "240/240 [==============================] - 1s 4ms/step - loss: 0.1959 - accuracy: 0.9304 - val_loss: 0.3664 - val_accuracy: 0.8808\n",
      "Epoch 53/200\n",
      "240/240 [==============================] - 1s 4ms/step - loss: 0.1963 - accuracy: 0.9300 - val_loss: 0.3528 - val_accuracy: 0.8825\n",
      "Epoch 54/200\n",
      "240/240 [==============================] - 1s 4ms/step - loss: 0.1944 - accuracy: 0.9307 - val_loss: 0.3591 - val_accuracy: 0.8839\n",
      "Epoch 55/200\n",
      "240/240 [==============================] - 1s 4ms/step - loss: 0.1952 - accuracy: 0.9313 - val_loss: 0.3602 - val_accuracy: 0.8824\n",
      "Epoch 56/200\n",
      "240/240 [==============================] - 1s 4ms/step - loss: 0.1913 - accuracy: 0.9333 - val_loss: 0.3630 - val_accuracy: 0.8826\n",
      "Epoch 57/200\n",
      "240/240 [==============================] - 1s 4ms/step - loss: 0.1880 - accuracy: 0.9331 - val_loss: 0.3555 - val_accuracy: 0.8837\n",
      "Epoch 58/200\n",
      "240/240 [==============================] - 1s 4ms/step - loss: 0.1848 - accuracy: 0.9341 - val_loss: 0.3554 - val_accuracy: 0.8838\n",
      "Epoch 59/200\n",
      "240/240 [==============================] - 1s 4ms/step - loss: 0.1864 - accuracy: 0.9345 - val_loss: 0.3566 - val_accuracy: 0.8842\n",
      "Epoch 60/200\n",
      "240/240 [==============================] - 1s 6ms/step - loss: 0.1839 - accuracy: 0.9355 - val_loss: 0.3659 - val_accuracy: 0.8821\n",
      "Epoch 61/200\n",
      "240/240 [==============================] - 2s 7ms/step - loss: 0.1820 - accuracy: 0.9356 - val_loss: 0.3573 - val_accuracy: 0.8837\n",
      "Epoch 62/200\n",
      "240/240 [==============================] - 1s 4ms/step - loss: 0.1786 - accuracy: 0.9362 - val_loss: 0.3648 - val_accuracy: 0.8844\n",
      "Epoch 63/200\n",
      "240/240 [==============================] - 1s 4ms/step - loss: 0.1804 - accuracy: 0.9357 - val_loss: 0.3634 - val_accuracy: 0.8832\n",
      "Epoch 64/200\n",
      "240/240 [==============================] - 1s 4ms/step - loss: 0.1782 - accuracy: 0.9369 - val_loss: 0.3679 - val_accuracy: 0.8822\n",
      "Epoch 65/200\n",
      "240/240 [==============================] - 2s 6ms/step - loss: 0.1770 - accuracy: 0.9376 - val_loss: 0.3726 - val_accuracy: 0.8831\n",
      "Epoch 66/200\n",
      "240/240 [==============================] - 1s 6ms/step - loss: 0.1757 - accuracy: 0.9379 - val_loss: 0.3751 - val_accuracy: 0.8829\n",
      "Epoch 67/200\n",
      "240/240 [==============================] - 1s 6ms/step - loss: 0.1735 - accuracy: 0.9387 - val_loss: 0.3665 - val_accuracy: 0.8850\n",
      "Epoch 68/200\n",
      "240/240 [==============================] - 2s 6ms/step - loss: 0.1726 - accuracy: 0.9384 - val_loss: 0.3836 - val_accuracy: 0.8808\n",
      "Epoch 69/200\n",
      "240/240 [==============================] - 1s 6ms/step - loss: 0.1717 - accuracy: 0.9394 - val_loss: 0.3720 - val_accuracy: 0.8827\n",
      "Epoch 70/200\n",
      "240/240 [==============================] - 1s 4ms/step - loss: 0.1708 - accuracy: 0.9398 - val_loss: 0.3730 - val_accuracy: 0.8834\n",
      "Epoch 71/200\n",
      "240/240 [==============================] - 1s 4ms/step - loss: 0.1713 - accuracy: 0.9398 - val_loss: 0.3779 - val_accuracy: 0.8802\n",
      "Epoch 72/200\n",
      "240/240 [==============================] - 1s 4ms/step - loss: 0.1703 - accuracy: 0.9400 - val_loss: 0.3887 - val_accuracy: 0.8802\n",
      "Epoch 73/200\n",
      "240/240 [==============================] - 1s 4ms/step - loss: 0.1650 - accuracy: 0.9419 - val_loss: 0.3835 - val_accuracy: 0.8826\n",
      "Epoch 74/200\n",
      "240/240 [==============================] - 1s 4ms/step - loss: 0.1654 - accuracy: 0.9411 - val_loss: 0.3881 - val_accuracy: 0.8811\n",
      "Epoch 75/200\n",
      "240/240 [==============================] - 1s 4ms/step - loss: 0.1622 - accuracy: 0.9425 - val_loss: 0.3816 - val_accuracy: 0.8841\n",
      "Epoch 76/200\n",
      "240/240 [==============================] - 1s 4ms/step - loss: 0.1642 - accuracy: 0.9414 - val_loss: 0.4081 - val_accuracy: 0.8794\n",
      "Epoch 77/200\n",
      "240/240 [==============================] - 1s 4ms/step - loss: 0.1620 - accuracy: 0.9436 - val_loss: 0.3813 - val_accuracy: 0.8842\n",
      "Epoch 78/200\n",
      "240/240 [==============================] - 1s 4ms/step - loss: 0.1631 - accuracy: 0.9419 - val_loss: 0.4154 - val_accuracy: 0.8746\n",
      "Epoch 79/200\n",
      "240/240 [==============================] - 1s 4ms/step - loss: 0.1623 - accuracy: 0.9419 - val_loss: 0.3909 - val_accuracy: 0.8825\n",
      "Epoch 80/200\n",
      "240/240 [==============================] - 1s 4ms/step - loss: 0.1607 - accuracy: 0.9422 - val_loss: 0.3956 - val_accuracy: 0.8822\n",
      "Epoch 81/200\n",
      "240/240 [==============================] - 1s 4ms/step - loss: 0.1576 - accuracy: 0.9443 - val_loss: 0.3869 - val_accuracy: 0.8833\n",
      "Epoch 82/200\n",
      "240/240 [==============================] - 1s 4ms/step - loss: 0.1563 - accuracy: 0.9449 - val_loss: 0.3961 - val_accuracy: 0.8799\n",
      "Epoch 83/200\n",
      "240/240 [==============================] - 1s 4ms/step - loss: 0.1554 - accuracy: 0.9444 - val_loss: 0.4193 - val_accuracy: 0.8782\n",
      "Epoch 84/200\n",
      "240/240 [==============================] - 1s 5ms/step - loss: 0.1542 - accuracy: 0.9452 - val_loss: 0.3912 - val_accuracy: 0.8844\n",
      "Epoch 85/200\n",
      "240/240 [==============================] - 1s 4ms/step - loss: 0.1524 - accuracy: 0.9463 - val_loss: 0.4084 - val_accuracy: 0.8802\n",
      "Epoch 86/200\n",
      "240/240 [==============================] - 1s 5ms/step - loss: 0.1529 - accuracy: 0.9460 - val_loss: 0.4029 - val_accuracy: 0.8816\n",
      "Epoch 87/200\n",
      "240/240 [==============================] - 1s 5ms/step - loss: 0.1509 - accuracy: 0.9468 - val_loss: 0.4168 - val_accuracy: 0.8799\n",
      "Epoch 88/200\n",
      "240/240 [==============================] - 1s 4ms/step - loss: 0.1506 - accuracy: 0.9461 - val_loss: 0.4096 - val_accuracy: 0.8823\n",
      "Epoch 89/200\n",
      "240/240 [==============================] - 1s 4ms/step - loss: 0.1511 - accuracy: 0.9460 - val_loss: 0.4027 - val_accuracy: 0.8823\n",
      "Epoch 90/200\n",
      "240/240 [==============================] - 1s 4ms/step - loss: 0.1515 - accuracy: 0.9466 - val_loss: 0.4089 - val_accuracy: 0.8793\n",
      "Epoch 91/200\n",
      "240/240 [==============================] - 1s 5ms/step - loss: 0.1468 - accuracy: 0.9492 - val_loss: 0.4030 - val_accuracy: 0.8849\n",
      "Epoch 92/200\n",
      "240/240 [==============================] - 1s 5ms/step - loss: 0.1499 - accuracy: 0.9463 - val_loss: 0.4120 - val_accuracy: 0.8817\n",
      "Epoch 93/200\n",
      "240/240 [==============================] - 1s 4ms/step - loss: 0.1459 - accuracy: 0.9489 - val_loss: 0.4098 - val_accuracy: 0.8815\n",
      "Epoch 94/200\n",
      "240/240 [==============================] - 1s 4ms/step - loss: 0.1454 - accuracy: 0.9472 - val_loss: 0.4179 - val_accuracy: 0.8822\n",
      "Epoch 95/200\n",
      "240/240 [==============================] - 1s 4ms/step - loss: 0.1476 - accuracy: 0.9481 - val_loss: 0.4163 - val_accuracy: 0.8812\n",
      "Epoch 96/200\n",
      "240/240 [==============================] - 1s 4ms/step - loss: 0.1429 - accuracy: 0.9495 - val_loss: 0.4125 - val_accuracy: 0.8834\n",
      "Epoch 97/200\n",
      "240/240 [==============================] - 1s 4ms/step - loss: 0.1424 - accuracy: 0.9499 - val_loss: 0.4122 - val_accuracy: 0.8820\n",
      "Epoch 98/200\n",
      "240/240 [==============================] - 1s 4ms/step - loss: 0.1399 - accuracy: 0.9505 - val_loss: 0.4195 - val_accuracy: 0.8781\n",
      "Epoch 99/200\n",
      "240/240 [==============================] - 1s 4ms/step - loss: 0.1407 - accuracy: 0.9504 - val_loss: 0.4296 - val_accuracy: 0.8792\n",
      "Epoch 100/200\n",
      "240/240 [==============================] - 1s 5ms/step - loss: 0.1410 - accuracy: 0.9501 - val_loss: 0.4230 - val_accuracy: 0.8783\n",
      "Epoch 101/200\n",
      "240/240 [==============================] - 1s 5ms/step - loss: 0.1359 - accuracy: 0.9528 - val_loss: 0.4331 - val_accuracy: 0.8789\n",
      "Epoch 102/200\n",
      "240/240 [==============================] - 1s 4ms/step - loss: 0.1398 - accuracy: 0.9501 - val_loss: 0.4311 - val_accuracy: 0.8804\n",
      "Epoch 103/200\n",
      "240/240 [==============================] - 1s 4ms/step - loss: 0.1361 - accuracy: 0.9524 - val_loss: 0.4260 - val_accuracy: 0.8806\n",
      "Epoch 104/200\n",
      "240/240 [==============================] - 1s 4ms/step - loss: 0.1393 - accuracy: 0.9507 - val_loss: 0.4415 - val_accuracy: 0.8790\n",
      "Epoch 105/200\n",
      "240/240 [==============================] - 1s 4ms/step - loss: 0.1393 - accuracy: 0.9507 - val_loss: 0.4750 - val_accuracy: 0.8712\n",
      "Epoch 106/200\n",
      "240/240 [==============================] - 1s 5ms/step - loss: 0.1351 - accuracy: 0.9532 - val_loss: 0.4424 - val_accuracy: 0.8799\n",
      "Epoch 107/200\n",
      "240/240 [==============================] - 1s 4ms/step - loss: 0.1349 - accuracy: 0.9525 - val_loss: 0.4338 - val_accuracy: 0.8783\n",
      "Epoch 108/200\n",
      "240/240 [==============================] - 1s 4ms/step - loss: 0.1326 - accuracy: 0.9537 - val_loss: 0.4478 - val_accuracy: 0.8783\n",
      "Epoch 109/200\n",
      "240/240 [==============================] - 1s 4ms/step - loss: 0.1326 - accuracy: 0.9527 - val_loss: 0.4413 - val_accuracy: 0.8751\n",
      "Epoch 110/200\n",
      "240/240 [==============================] - 1s 4ms/step - loss: 0.1319 - accuracy: 0.9543 - val_loss: 0.4467 - val_accuracy: 0.8795\n",
      "Epoch 111/200\n",
      "240/240 [==============================] - 1s 4ms/step - loss: 0.1316 - accuracy: 0.9542 - val_loss: 0.4526 - val_accuracy: 0.8798\n",
      "Epoch 112/200\n",
      "240/240 [==============================] - 1s 5ms/step - loss: 0.1313 - accuracy: 0.9547 - val_loss: 0.4365 - val_accuracy: 0.8794\n",
      "Epoch 113/200\n",
      "240/240 [==============================] - 1s 5ms/step - loss: 0.1309 - accuracy: 0.9536 - val_loss: 0.4563 - val_accuracy: 0.8811\n",
      "Epoch 114/200\n",
      "240/240 [==============================] - 1s 5ms/step - loss: 0.1280 - accuracy: 0.9557 - val_loss: 0.4490 - val_accuracy: 0.8783\n",
      "Epoch 115/200\n",
      "240/240 [==============================] - 1s 5ms/step - loss: 0.1277 - accuracy: 0.9552 - val_loss: 0.4447 - val_accuracy: 0.8796\n",
      "Epoch 116/200\n",
      "240/240 [==============================] - 1s 5ms/step - loss: 0.1288 - accuracy: 0.9544 - val_loss: 0.4536 - val_accuracy: 0.8806\n",
      "Epoch 117/200\n",
      "240/240 [==============================] - 1s 5ms/step - loss: 0.1253 - accuracy: 0.9563 - val_loss: 0.4535 - val_accuracy: 0.8784\n",
      "Epoch 118/200\n",
      "240/240 [==============================] - 1s 5ms/step - loss: 0.1289 - accuracy: 0.9538 - val_loss: 0.4636 - val_accuracy: 0.8789\n",
      "Epoch 119/200\n",
      "240/240 [==============================] - 1s 5ms/step - loss: 0.1260 - accuracy: 0.9563 - val_loss: 0.4567 - val_accuracy: 0.8796\n",
      "Epoch 120/200\n",
      "240/240 [==============================] - 1s 4ms/step - loss: 0.1257 - accuracy: 0.9551 - val_loss: 0.4573 - val_accuracy: 0.8777\n",
      "Epoch 121/200\n",
      "240/240 [==============================] - 1s 4ms/step - loss: 0.1208 - accuracy: 0.9582 - val_loss: 0.4645 - val_accuracy: 0.8759\n",
      "Epoch 122/200\n",
      "240/240 [==============================] - 1s 4ms/step - loss: 0.1217 - accuracy: 0.9581 - val_loss: 0.4692 - val_accuracy: 0.8746\n",
      "Epoch 123/200\n",
      "240/240 [==============================] - 1s 4ms/step - loss: 0.1235 - accuracy: 0.9563 - val_loss: 0.4661 - val_accuracy: 0.8796\n",
      "Epoch 124/200\n",
      "240/240 [==============================] - 1s 4ms/step - loss: 0.1235 - accuracy: 0.9569 - val_loss: 0.4966 - val_accuracy: 0.8710\n",
      "Epoch 125/200\n",
      "240/240 [==============================] - 1s 4ms/step - loss: 0.1226 - accuracy: 0.9563 - val_loss: 0.4761 - val_accuracy: 0.8758\n",
      "Epoch 126/200\n",
      "240/240 [==============================] - 1s 4ms/step - loss: 0.1204 - accuracy: 0.9575 - val_loss: 0.4842 - val_accuracy: 0.8774\n",
      "Epoch 127/200\n",
      "240/240 [==============================] - 1s 5ms/step - loss: 0.1214 - accuracy: 0.9574 - val_loss: 0.4879 - val_accuracy: 0.8761\n",
      "Epoch 128/200\n",
      "240/240 [==============================] - 1s 5ms/step - loss: 0.1181 - accuracy: 0.9592 - val_loss: 0.4708 - val_accuracy: 0.8774\n",
      "Epoch 129/200\n",
      "240/240 [==============================] - 1s 5ms/step - loss: 0.1194 - accuracy: 0.9574 - val_loss: 0.4785 - val_accuracy: 0.8761\n",
      "Epoch 130/200\n",
      "240/240 [==============================] - 1s 5ms/step - loss: 0.1171 - accuracy: 0.9589 - val_loss: 0.4737 - val_accuracy: 0.8768\n",
      "Epoch 131/200\n",
      "240/240 [==============================] - 1s 5ms/step - loss: 0.1158 - accuracy: 0.9604 - val_loss: 0.4850 - val_accuracy: 0.8717\n",
      "Epoch 132/200\n",
      "240/240 [==============================] - 1s 4ms/step - loss: 0.1175 - accuracy: 0.9584 - val_loss: 0.4778 - val_accuracy: 0.8774\n",
      "Epoch 133/200\n",
      "240/240 [==============================] - 1s 4ms/step - loss: 0.1170 - accuracy: 0.9592 - val_loss: 0.5100 - val_accuracy: 0.8703\n",
      "Epoch 134/200\n",
      "240/240 [==============================] - 1s 4ms/step - loss: 0.1128 - accuracy: 0.9609 - val_loss: 0.5077 - val_accuracy: 0.8732\n",
      "Epoch 135/200\n",
      "240/240 [==============================] - 1s 4ms/step - loss: 0.1157 - accuracy: 0.9600 - val_loss: 0.4983 - val_accuracy: 0.8737\n",
      "Epoch 136/200\n",
      "240/240 [==============================] - 1s 4ms/step - loss: 0.1138 - accuracy: 0.9601 - val_loss: 0.4901 - val_accuracy: 0.8793\n",
      "Epoch 137/200\n",
      "240/240 [==============================] - 1s 4ms/step - loss: 0.1137 - accuracy: 0.9594 - val_loss: 0.5005 - val_accuracy: 0.8771\n",
      "Epoch 138/200\n",
      "240/240 [==============================] - 1s 4ms/step - loss: 0.1137 - accuracy: 0.9603 - val_loss: 0.5031 - val_accuracy: 0.8761\n",
      "Epoch 139/200\n",
      "240/240 [==============================] - 1s 4ms/step - loss: 0.1100 - accuracy: 0.9620 - val_loss: 0.5037 - val_accuracy: 0.8737\n",
      "Epoch 140/200\n",
      "240/240 [==============================] - 1s 5ms/step - loss: 0.1094 - accuracy: 0.9614 - val_loss: 0.5026 - val_accuracy: 0.8749\n",
      "Epoch 141/200\n",
      "240/240 [==============================] - 1s 5ms/step - loss: 0.1113 - accuracy: 0.9610 - val_loss: 0.5030 - val_accuracy: 0.8753\n",
      "Epoch 142/200\n",
      "240/240 [==============================] - 1s 4ms/step - loss: 0.1140 - accuracy: 0.9587 - val_loss: 0.5191 - val_accuracy: 0.8742\n",
      "Epoch 143/200\n",
      "240/240 [==============================] - 1s 4ms/step - loss: 0.1112 - accuracy: 0.9600 - val_loss: 0.5219 - val_accuracy: 0.8728\n",
      "Epoch 144/200\n",
      "240/240 [==============================] - 1s 4ms/step - loss: 0.1077 - accuracy: 0.9618 - val_loss: 0.5176 - val_accuracy: 0.8748\n",
      "Epoch 145/200\n",
      "240/240 [==============================] - 1s 4ms/step - loss: 0.1068 - accuracy: 0.9627 - val_loss: 0.5025 - val_accuracy: 0.8786\n",
      "Epoch 146/200\n",
      "240/240 [==============================] - 1s 4ms/step - loss: 0.1078 - accuracy: 0.9624 - val_loss: 0.5061 - val_accuracy: 0.8743\n",
      "Epoch 147/200\n",
      "240/240 [==============================] - 1s 5ms/step - loss: 0.1076 - accuracy: 0.9618 - val_loss: 0.5091 - val_accuracy: 0.8764\n",
      "Epoch 148/200\n",
      "240/240 [==============================] - 1s 5ms/step - loss: 0.1075 - accuracy: 0.9625 - val_loss: 0.5164 - val_accuracy: 0.8762\n",
      "Epoch 149/200\n",
      "240/240 [==============================] - 1s 5ms/step - loss: 0.1079 - accuracy: 0.9627 - val_loss: 0.5278 - val_accuracy: 0.8745\n",
      "Epoch 150/200\n",
      "240/240 [==============================] - 1s 5ms/step - loss: 0.1059 - accuracy: 0.9631 - val_loss: 0.5213 - val_accuracy: 0.8751\n",
      "Epoch 151/200\n",
      "240/240 [==============================] - 1s 4ms/step - loss: 0.1035 - accuracy: 0.9642 - val_loss: 0.5193 - val_accuracy: 0.8761\n",
      "Epoch 152/200\n",
      "240/240 [==============================] - 1s 4ms/step - loss: 0.1035 - accuracy: 0.9636 - val_loss: 0.5167 - val_accuracy: 0.8765\n",
      "Epoch 153/200\n",
      "240/240 [==============================] - 1s 4ms/step - loss: 0.1037 - accuracy: 0.9641 - val_loss: 0.5716 - val_accuracy: 0.8695\n",
      "Epoch 154/200\n",
      "240/240 [==============================] - 1s 4ms/step - loss: 0.1041 - accuracy: 0.9630 - val_loss: 0.5187 - val_accuracy: 0.8763\n",
      "Epoch 155/200\n",
      "240/240 [==============================] - 1s 4ms/step - loss: 0.1042 - accuracy: 0.9630 - val_loss: 0.5294 - val_accuracy: 0.8781\n",
      "Epoch 156/200\n",
      "240/240 [==============================] - 1s 4ms/step - loss: 0.1039 - accuracy: 0.9640 - val_loss: 0.5354 - val_accuracy: 0.8742\n",
      "Epoch 157/200\n",
      "240/240 [==============================] - 1s 4ms/step - loss: 0.1049 - accuracy: 0.9633 - val_loss: 0.5417 - val_accuracy: 0.8750\n",
      "Epoch 158/200\n",
      "240/240 [==============================] - 1s 6ms/step - loss: 0.1022 - accuracy: 0.9639 - val_loss: 0.5346 - val_accuracy: 0.8767\n",
      "Epoch 159/200\n",
      "240/240 [==============================] - 1s 5ms/step - loss: 0.1013 - accuracy: 0.9654 - val_loss: 0.5651 - val_accuracy: 0.8700\n",
      "Epoch 160/200\n",
      "240/240 [==============================] - 1s 4ms/step - loss: 0.0975 - accuracy: 0.9664 - val_loss: 0.5517 - val_accuracy: 0.8729\n",
      "Epoch 161/200\n",
      "240/240 [==============================] - 1s 5ms/step - loss: 0.0996 - accuracy: 0.9661 - val_loss: 0.5552 - val_accuracy: 0.8737\n",
      "Epoch 162/200\n",
      "240/240 [==============================] - 1s 5ms/step - loss: 0.0956 - accuracy: 0.9676 - val_loss: 0.5394 - val_accuracy: 0.8755\n",
      "Epoch 163/200\n",
      "240/240 [==============================] - 1s 5ms/step - loss: 0.1003 - accuracy: 0.9647 - val_loss: 0.5441 - val_accuracy: 0.8737\n",
      "Epoch 164/200\n",
      "240/240 [==============================] - 1s 4ms/step - loss: 0.1012 - accuracy: 0.9647 - val_loss: 0.5576 - val_accuracy: 0.8708\n",
      "Epoch 165/200\n",
      "240/240 [==============================] - 1s 4ms/step - loss: 0.0948 - accuracy: 0.9678 - val_loss: 0.5459 - val_accuracy: 0.8761\n",
      "Epoch 166/200\n",
      "240/240 [==============================] - 1s 5ms/step - loss: 0.0963 - accuracy: 0.9670 - val_loss: 0.5562 - val_accuracy: 0.8724\n",
      "Epoch 167/200\n",
      "240/240 [==============================] - 1s 4ms/step - loss: 0.0946 - accuracy: 0.9672 - val_loss: 0.5747 - val_accuracy: 0.8715\n",
      "Epoch 168/200\n",
      "240/240 [==============================] - 1s 5ms/step - loss: 0.0971 - accuracy: 0.9664 - val_loss: 0.5610 - val_accuracy: 0.8725\n",
      "Epoch 169/200\n",
      "240/240 [==============================] - 1s 5ms/step - loss: 0.0968 - accuracy: 0.9668 - val_loss: 0.5538 - val_accuracy: 0.8751\n",
      "Epoch 170/200\n",
      "240/240 [==============================] - 1s 5ms/step - loss: 0.0944 - accuracy: 0.9678 - val_loss: 0.5616 - val_accuracy: 0.8714\n",
      "Epoch 171/200\n",
      "240/240 [==============================] - 1s 5ms/step - loss: 0.0969 - accuracy: 0.9667 - val_loss: 0.5639 - val_accuracy: 0.8749\n",
      "Epoch 172/200\n",
      "240/240 [==============================] - 1s 4ms/step - loss: 0.0941 - accuracy: 0.9672 - val_loss: 0.5655 - val_accuracy: 0.8735\n",
      "Epoch 173/200\n",
      "240/240 [==============================] - 1s 4ms/step - loss: 0.0937 - accuracy: 0.9673 - val_loss: 0.5756 - val_accuracy: 0.8735\n",
      "Epoch 174/200\n",
      "240/240 [==============================] - 1s 5ms/step - loss: 0.0913 - accuracy: 0.9688 - val_loss: 0.5543 - val_accuracy: 0.8741\n",
      "Epoch 175/200\n",
      "240/240 [==============================] - 1s 4ms/step - loss: 0.0919 - accuracy: 0.9689 - val_loss: 0.5578 - val_accuracy: 0.8749\n",
      "Epoch 176/200\n",
      "240/240 [==============================] - 1s 4ms/step - loss: 0.0889 - accuracy: 0.9694 - val_loss: 0.5848 - val_accuracy: 0.8712\n",
      "Epoch 177/200\n",
      "240/240 [==============================] - 1s 4ms/step - loss: 0.0966 - accuracy: 0.9654 - val_loss: 0.5778 - val_accuracy: 0.8724\n",
      "Epoch 178/200\n",
      "240/240 [==============================] - 1s 4ms/step - loss: 0.0910 - accuracy: 0.9691 - val_loss: 0.5785 - val_accuracy: 0.8740\n",
      "Epoch 179/200\n",
      "240/240 [==============================] - 1s 4ms/step - loss: 0.0920 - accuracy: 0.9676 - val_loss: 0.6032 - val_accuracy: 0.8685\n",
      "Epoch 180/200\n",
      "240/240 [==============================] - 1s 4ms/step - loss: 0.0974 - accuracy: 0.9652 - val_loss: 0.5786 - val_accuracy: 0.8743\n",
      "Epoch 181/200\n",
      "240/240 [==============================] - 1s 4ms/step - loss: 0.0905 - accuracy: 0.9688 - val_loss: 0.5723 - val_accuracy: 0.8742\n",
      "Epoch 182/200\n",
      "240/240 [==============================] - 1s 5ms/step - loss: 0.0884 - accuracy: 0.9693 - val_loss: 0.5821 - val_accuracy: 0.8752\n",
      "Epoch 183/200\n",
      "240/240 [==============================] - 1s 4ms/step - loss: 0.0907 - accuracy: 0.9681 - val_loss: 0.5838 - val_accuracy: 0.8719\n",
      "Epoch 184/200\n",
      "240/240 [==============================] - 1s 4ms/step - loss: 0.0850 - accuracy: 0.9718 - val_loss: 0.5791 - val_accuracy: 0.8740\n",
      "Epoch 185/200\n",
      "240/240 [==============================] - 1s 5ms/step - loss: 0.0889 - accuracy: 0.9690 - val_loss: 0.5933 - val_accuracy: 0.8719\n",
      "Epoch 186/200\n",
      "240/240 [==============================] - 1s 4ms/step - loss: 0.0881 - accuracy: 0.9697 - val_loss: 0.5897 - val_accuracy: 0.8720\n",
      "Epoch 187/200\n",
      "240/240 [==============================] - 1s 5ms/step - loss: 0.0913 - accuracy: 0.9675 - val_loss: 0.5897 - val_accuracy: 0.8722\n",
      "Epoch 188/200\n",
      "240/240 [==============================] - 1s 4ms/step - loss: 0.0866 - accuracy: 0.9703 - val_loss: 0.5988 - val_accuracy: 0.8735\n",
      "Epoch 189/200\n",
      "240/240 [==============================] - 1s 5ms/step - loss: 0.0894 - accuracy: 0.9690 - val_loss: 0.6047 - val_accuracy: 0.8714\n",
      "Epoch 190/200\n",
      "240/240 [==============================] - 1s 5ms/step - loss: 0.0844 - accuracy: 0.9706 - val_loss: 0.6069 - val_accuracy: 0.8738\n",
      "Epoch 191/200\n",
      "240/240 [==============================] - 1s 5ms/step - loss: 0.0836 - accuracy: 0.9714 - val_loss: 0.6094 - val_accuracy: 0.8732\n",
      "Epoch 192/200\n",
      "240/240 [==============================] - 1s 5ms/step - loss: 0.0861 - accuracy: 0.9705 - val_loss: 0.6257 - val_accuracy: 0.8713\n",
      "Epoch 193/200\n",
      "240/240 [==============================] - 1s 4ms/step - loss: 0.0821 - accuracy: 0.9721 - val_loss: 0.6026 - val_accuracy: 0.8752\n",
      "Epoch 194/200\n",
      "240/240 [==============================] - 1s 4ms/step - loss: 0.0854 - accuracy: 0.9703 - val_loss: 0.6056 - val_accuracy: 0.8713\n",
      "Epoch 195/200\n",
      "240/240 [==============================] - 1s 4ms/step - loss: 0.0849 - accuracy: 0.9709 - val_loss: 0.6326 - val_accuracy: 0.8688\n",
      "Epoch 196/200\n",
      "240/240 [==============================] - 1s 5ms/step - loss: 0.0824 - accuracy: 0.9711 - val_loss: 0.6162 - val_accuracy: 0.8720\n",
      "Epoch 197/200\n",
      "240/240 [==============================] - 1s 4ms/step - loss: 0.0848 - accuracy: 0.9703 - val_loss: 0.6336 - val_accuracy: 0.8692\n",
      "Epoch 198/200\n",
      "240/240 [==============================] - 1s 4ms/step - loss: 0.0835 - accuracy: 0.9713 - val_loss: 0.6041 - val_accuracy: 0.8744\n",
      "Epoch 199/200\n",
      "240/240 [==============================] - 1s 4ms/step - loss: 0.0790 - accuracy: 0.9740 - val_loss: 0.6325 - val_accuracy: 0.8690\n",
      "Epoch 200/200\n",
      "240/240 [==============================] - 1s 4ms/step - loss: 0.0812 - accuracy: 0.9715 - val_loss: 0.6181 - val_accuracy: 0.8752\n"
     ]
    },
    {
     "data": {
      "text/plain": [
       "<keras.callbacks.History at 0x7f139612d790>"
      ]
     },
     "execution_count": 46,
     "metadata": {},
     "output_type": "execute_result"
    }
   ],
   "source": [
    "#collapse_output\n",
    "cb1 = tf.keras.callbacks.TensorBoard()\n",
    "net.fit(X,y,epochs=200,batch_size=200,validation_split=0.2,callbacks=cb1,verbose=1) "
   ]
  },
  {
   "cell_type": "markdown",
   "id": "7b94e107-391d-41a1-9823-3cbd3f4a9748",
   "metadata": {
    "id": "7b94e107-391d-41a1-9823-3cbd3f4a9748"
   },
   "source": [
    "`-` 텐서보드 여는 방법1"
   ]
  },
  {
   "cell_type": "code",
   "execution_count": 47,
   "id": "244ffe75-75f9-40c1-8e91-0eb0160de4a1",
   "metadata": {
    "id": "244ffe75-75f9-40c1-8e91-0eb0160de4a1"
   },
   "outputs": [],
   "source": [
    "%load_ext tensorboard\n",
    "# 주피터노트북 (혹은 주피터랩)에서 텐서보드를 임베딩하여 넣을 수 있도록 도와주는 매직펑션"
   ]
  },
  {
   "cell_type": "code",
   "execution_count": null,
   "id": "0caf4156-9c41-4ead-b35e-e9b5525167aa",
   "metadata": {
    "id": "0caf4156-9c41-4ead-b35e-e9b5525167aa"
   },
   "outputs": [],
   "source": [
    "#\n",
    "# !rm -rf logs\n",
    "# !kill 313799\n",
    "# !taskkill /pid 313799 # <- 윈도우에서 사용할 때 쓰는 방법"
   ]
  },
  {
   "cell_type": "code",
   "execution_count": null,
   "id": "5d4a3fdc-68af-4578-ab46-ad1223858395",
   "metadata": {
    "id": "5d4a3fdc-68af-4578-ab46-ad1223858395"
   },
   "outputs": [],
   "source": [
    "#\n",
    "# %tensorboard --logdir logs --host 0.0.0.0\n",
    "# %tensorboard --logdir logs # <-- 실습에서는 이렇게 하면됩니다. "
   ]
  },
  {
   "cell_type": "code",
   "execution_count": 51,
   "id": "9o5s5gWpEbTZ",
   "metadata": {
    "id": "9o5s5gWpEbTZ"
   },
   "outputs": [],
   "source": [
    "%tensorboard --logdir logs"
   ]
  },
  {
   "cell_type": "code",
   "execution_count": 50,
   "id": "veiBszezEbg-",
   "metadata": {
    "id": "veiBszezEbg-"
   },
   "outputs": [],
   "source": [
    "!rm -rf logs\n",
    "!kill 1455"
   ]
  },
  {
   "cell_type": "markdown",
   "id": "813f099d-850f-4a88-b40b-46907e27c426",
   "metadata": {
    "id": "813f099d-850f-4a88-b40b-46907e27c426"
   },
   "source": [
    "(참고사항) 파이썬 3.10의 경우 아래의 수정이 필요\n",
    "\n",
    "`?/python3.10/site-packages/tensorboard/_vendor/html5lib/_trie/_base.py` 을 열고\n",
    "```python\n",
    "from collections import Mapping ### 수정전\n",
    "from collections.abc import Mapping ### 수정후 \n",
    "```\n",
    "와 같이 수정한다. "
   ]
  },
  {
   "cell_type": "markdown",
   "id": "a08cf376-2130-401a-a517-8a1ecef165b6",
   "metadata": {
    "id": "a08cf376-2130-401a-a517-8a1ecef165b6"
   },
   "source": [
    "- 왜냐하면 파이썬 3.10부터 `from collections import Mapping` 가 동작하지 않고 `from collections.abc import Mapping` 가 동작하도록 문법이 바뀜"
   ]
  },
  {
   "cell_type": "markdown",
   "id": "3fc22264-c3f3-4123-ab63-aa0670fff692",
   "metadata": {
    "id": "3fc22264-c3f3-4123-ab63-aa0670fff692"
   },
   "source": [
    "`-` 텐서보드를 실행하는 방법2"
   ]
  },
  {
   "cell_type": "code",
   "execution_count": null,
   "id": "59326423-ffe7-493b-a235-3e8ea16867ba",
   "metadata": {
    "id": "59326423-ffe7-493b-a235-3e8ea16867ba"
   },
   "outputs": [],
   "source": [
    "#\n",
    "# !tensorboard --logdir logs --host 0.0.0.0\n",
    "# !tensorboard --logdir logs # <-- 실습에서는 이렇게 하면됩니다. "
   ]
  },
  {
   "cell_type": "markdown",
   "id": "1cf3208f-2be7-458f-96f0-c059269a331e",
   "metadata": {
    "id": "1cf3208f-2be7-458f-96f0-c059269a331e"
   },
   "source": [
    "### 조기종료 "
   ]
  },
  {
   "cell_type": "markdown",
   "id": "9dbaad6d-da11-4b47-8651-ecee93293dbb",
   "metadata": {
    "id": "9dbaad6d-da11-4b47-8651-ecee93293dbb"
   },
   "source": [
    "`-` 텐서보드를 살펴보니 특정에폭 이후에는 오히려 과적합이 진행되는 듯 하다 (학습할수록 손해인듯 하다) $\\to$ 그 특정에폭까지만 학습해보자"
   ]
  },
  {
   "cell_type": "code",
   "execution_count": null,
   "id": "1797f22c-116e-48c3-a0ce-f42286656998",
   "metadata": {
    "id": "1797f22c-116e-48c3-a0ce-f42286656998"
   },
   "outputs": [],
   "source": [
    "tf.random.set_seed(43052)\n",
    "net = tf.keras.Sequential()\n",
    "net.add(tf.keras.layers.Flatten())\n",
    "net.add(tf.keras.layers.Dense(5000,activation='relu')) ## 과적합좀 시키려고 \n",
    "net.add(tf.keras.layers.Dense(5000,activation='relu')) ## 레이어를 2장만듬 + 레이어하나당 노드수도 증가 \n",
    "net.add(tf.keras.layers.Dense(10,activation='softmax'))\n",
    "net.compile(optimizer='adam',loss=tf.losses.categorical_crossentropy,metrics='accuracy')"
   ]
  },
  {
   "cell_type": "code",
   "execution_count": null,
   "id": "66f8f26d-5e3b-49ca-8e11-2ccfe3f3150e",
   "metadata": {
    "id": "66f8f26d-5e3b-49ca-8e11-2ccfe3f3150e",
    "outputId": "bb1e85e9-f87e-4145-d8ea-c879bb662983"
   },
   "outputs": [
    {
     "name": "stdout",
     "output_type": "stream",
     "text": [
      "Epoch 1/200\n",
      "240/240 [==============================] - 1s 4ms/step - loss: 0.5483 - accuracy: 0.8134 - val_loss: 0.4027 - val_accuracy: 0.8546\n",
      "Epoch 2/200\n",
      "240/240 [==============================] - 1s 3ms/step - loss: 0.3568 - accuracy: 0.8671 - val_loss: 0.3531 - val_accuracy: 0.8712\n",
      "Epoch 3/200\n",
      "240/240 [==============================] - 1s 3ms/step - loss: 0.3210 - accuracy: 0.8799 - val_loss: 0.3477 - val_accuracy: 0.8733\n",
      "Epoch 4/200\n",
      "240/240 [==============================] - 1s 3ms/step - loss: 0.2971 - accuracy: 0.8876 - val_loss: 0.3502 - val_accuracy: 0.8776\n"
     ]
    },
    {
     "data": {
      "text/plain": [
       "<keras.callbacks.History at 0x7f1b80086650>"
      ]
     },
     "execution_count": 21,
     "metadata": {},
     "output_type": "execute_result"
    }
   ],
   "source": [
    "#\n",
    "#cb1 = tf.keras.callbacks.TensorBoard()\n",
    "cb2 = tf.keras.callbacks.EarlyStopping(patience=1) # val-loss가 1회증가하면 멈추어라 \n",
    "net.fit(X,y,epochs=200,batch_size=200,validation_split=0.2,callbacks=cb2,verbose=1) "
   ]
  },
  {
   "cell_type": "code",
   "execution_count": null,
   "id": "14125cdd-2818-4086-85c0-e60e9bb1ae80",
   "metadata": {
    "id": "14125cdd-2818-4086-85c0-e60e9bb1ae80",
    "outputId": "b1b58cf0-02a4-49d1-939f-21a6cdfa40e2"
   },
   "outputs": [
    {
     "name": "stdout",
     "output_type": "stream",
     "text": [
      "Epoch 1/200\n",
      "240/240 [==============================] - 1s 3ms/step - loss: 0.2791 - accuracy: 0.8935 - val_loss: 0.3224 - val_accuracy: 0.8820\n",
      "Epoch 2/200\n",
      "240/240 [==============================] - 1s 3ms/step - loss: 0.2619 - accuracy: 0.8999 - val_loss: 0.3498 - val_accuracy: 0.8779\n"
     ]
    },
    {
     "data": {
      "text/plain": [
       "<keras.callbacks.History at 0x7f1b24290a90>"
      ]
     },
     "execution_count": 22,
     "metadata": {},
     "output_type": "execute_result"
    }
   ],
   "source": [
    "#\n",
    "#cb1 = tf.keras.callbacks.TensorBoard()\n",
    "cb2 = tf.keras.callbacks.EarlyStopping(patience=1) # val-loss가 1회증가하면 멈추어라 \n",
    "net.fit(X,y,epochs=200,batch_size=200,validation_split=0.2,callbacks=cb2,verbose=1) "
   ]
  },
  {
   "cell_type": "code",
   "execution_count": null,
   "id": "e77493a9-01ec-446f-ae11-c0eab3496aa9",
   "metadata": {
    "id": "e77493a9-01ec-446f-ae11-c0eab3496aa9",
    "outputId": "f3a179ba-e601-49e8-f9e2-37532f9b8e3a"
   },
   "outputs": [
    {
     "name": "stdout",
     "output_type": "stream",
     "text": [
      "Epoch 1/200\n",
      "240/240 [==============================] - 1s 3ms/step - loss: 0.2491 - accuracy: 0.9043 - val_loss: 0.3641 - val_accuracy: 0.8711\n",
      "Epoch 2/200\n",
      "240/240 [==============================] - 1s 3ms/step - loss: 0.2328 - accuracy: 0.9110 - val_loss: 0.3282 - val_accuracy: 0.8848\n",
      "Epoch 3/200\n",
      "240/240 [==============================] - 1s 3ms/step - loss: 0.2254 - accuracy: 0.9151 - val_loss: 0.3280 - val_accuracy: 0.8843\n",
      "Epoch 4/200\n",
      "240/240 [==============================] - 1s 3ms/step - loss: 0.2144 - accuracy: 0.9177 - val_loss: 0.3191 - val_accuracy: 0.8925\n",
      "Epoch 5/200\n",
      "240/240 [==============================] - 1s 3ms/step - loss: 0.2074 - accuracy: 0.9223 - val_loss: 0.3152 - val_accuracy: 0.8949\n",
      "Epoch 6/200\n",
      "240/240 [==============================] - 1s 3ms/step - loss: 0.1952 - accuracy: 0.9250 - val_loss: 0.3322 - val_accuracy: 0.8863\n"
     ]
    },
    {
     "data": {
      "text/plain": [
       "<keras.callbacks.History at 0x7f1b242c1660>"
      ]
     },
     "execution_count": 23,
     "metadata": {},
     "output_type": "execute_result"
    }
   ],
   "source": [
    "#\n",
    "#cb1 = tf.keras.callbacks.TensorBoard()\n",
    "cb2 = tf.keras.callbacks.EarlyStopping(patience=1) # val-loss가 1회증가하면 멈추어라 \n",
    "net.fit(X,y,epochs=200,batch_size=200,validation_split=0.2,callbacks=cb2,verbose=1) "
   ]
  },
  {
   "cell_type": "code",
   "execution_count": null,
   "id": "bd282760-81a7-4cba-a241-7bd8c709763f",
   "metadata": {
    "id": "bd282760-81a7-4cba-a241-7bd8c709763f",
    "outputId": "e2cda581-7227-4dcc-c6e9-a71c06c4f400"
   },
   "outputs": [
    {
     "name": "stdout",
     "output_type": "stream",
     "text": [
      "Epoch 1/200\n",
      "240/240 [==============================] - 1s 3ms/step - loss: 0.1908 - accuracy: 0.9257 - val_loss: 0.3513 - val_accuracy: 0.8836\n",
      "Epoch 2/200\n",
      "240/240 [==============================] - 1s 3ms/step - loss: 0.1799 - accuracy: 0.9304 - val_loss: 0.3376 - val_accuracy: 0.8901\n",
      "Epoch 3/200\n",
      "240/240 [==============================] - 1s 3ms/step - loss: 0.1712 - accuracy: 0.9346 - val_loss: 0.3568 - val_accuracy: 0.8894\n"
     ]
    },
    {
     "data": {
      "text/plain": [
       "<keras.callbacks.History at 0x7f1b24302230>"
      ]
     },
     "execution_count": 24,
     "metadata": {},
     "output_type": "execute_result"
    }
   ],
   "source": [
    "#\n",
    "#cb1 = tf.keras.callbacks.TensorBoard()\n",
    "cb2 = tf.keras.callbacks.EarlyStopping(patience=1) # val-loss가 1회증가하면 멈추어라 \n",
    "net.fit(X,y,epochs=200,batch_size=200,validation_split=0.2,callbacks=cb2,verbose=1) "
   ]
  },
  {
   "cell_type": "code",
   "execution_count": null,
   "id": "bf9455d7-c1b5-4022-a74b-97031b8b0401",
   "metadata": {
    "id": "bf9455d7-c1b5-4022-a74b-97031b8b0401",
    "outputId": "605c2132-a7e6-418a-88e1-89cf37ee339b"
   },
   "outputs": [
    {
     "name": "stdout",
     "output_type": "stream",
     "text": [
      "Epoch 1/200\n",
      "240/240 [==============================] - 1s 3ms/step - loss: 0.1591 - accuracy: 0.9367 - val_loss: 0.3995 - val_accuracy: 0.8780\n",
      "Epoch 2/200\n",
      "240/240 [==============================] - 1s 3ms/step - loss: 0.1552 - accuracy: 0.9398 - val_loss: 0.3469 - val_accuracy: 0.8917\n",
      "Epoch 3/200\n",
      "240/240 [==============================] - 1s 3ms/step - loss: 0.1481 - accuracy: 0.9423 - val_loss: 0.3726 - val_accuracy: 0.8853\n"
     ]
    },
    {
     "data": {
      "text/plain": [
       "<keras.callbacks.History at 0x7f1b24136e00>"
      ]
     },
     "execution_count": 25,
     "metadata": {},
     "output_type": "execute_result"
    }
   ],
   "source": [
    "#\n",
    "#cb1 = tf.keras.callbacks.TensorBoard()\n",
    "cb2 = tf.keras.callbacks.EarlyStopping(patience=1) # val-loss가 1회증가하면 멈추어라 \n",
    "net.fit(X,y,epochs=200,batch_size=200,validation_split=0.2,callbacks=cb2,verbose=1) "
   ]
  },
  {
   "cell_type": "markdown",
   "id": "777ce4cd-27f3-4aec-8795-6a161f6a6c29",
   "metadata": {
    "id": "777ce4cd-27f3-4aec-8795-6a161f6a6c29"
   },
   "source": [
    "`-` 몇 번 좀 참았다가 멈추면 좋겠다. "
   ]
  },
  {
   "cell_type": "code",
   "execution_count": 52,
   "id": "e1e29cab-1a0a-4cdc-b9d2-595dbc50c2e0",
   "metadata": {
    "id": "e1e29cab-1a0a-4cdc-b9d2-595dbc50c2e0"
   },
   "outputs": [],
   "source": [
    "tf.random.set_seed(43052)\n",
    "net = tf.keras.Sequential()\n",
    "net.add(tf.keras.layers.Flatten())\n",
    "net.add(tf.keras.layers.Dense(5000,activation='relu')) ## 과적합좀 시키려고 \n",
    "net.add(tf.keras.layers.Dense(5000,activation='relu')) ## 레이어를 2장만듬 + 레이어하나당 노드수도 증가 \n",
    "net.add(tf.keras.layers.Dense(10,activation='softmax'))\n",
    "net.compile(optimizer='adam',loss=tf.losses.categorical_crossentropy,metrics='accuracy')"
   ]
  },
  {
   "cell_type": "code",
   "execution_count": 53,
   "id": "14c8be6e-7a43-4eae-8a46-eed8cef26495",
   "metadata": {
    "colab": {
     "base_uri": "https://localhost:8080/"
    },
    "id": "14c8be6e-7a43-4eae-8a46-eed8cef26495",
    "outputId": "1e78223d-7445-4203-f811-f05f2f06b361"
   },
   "outputs": [
    {
     "name": "stdout",
     "output_type": "stream",
     "text": [
      "Epoch 1/200\n",
      "240/240 [==============================] - 230s 954ms/step - loss: 0.5503 - accuracy: 0.8114 - val_loss: 0.3909 - val_accuracy: 0.8570\n",
      "Epoch 2/200\n",
      "240/240 [==============================] - 227s 947ms/step - loss: 0.3571 - accuracy: 0.8674 - val_loss: 0.3671 - val_accuracy: 0.8667\n",
      "Epoch 3/200\n",
      "240/240 [==============================] - 226s 944ms/step - loss: 0.3225 - accuracy: 0.8796 - val_loss: 0.3484 - val_accuracy: 0.8761\n",
      "Epoch 4/200\n",
      "240/240 [==============================] - 226s 940ms/step - loss: 0.3017 - accuracy: 0.8867 - val_loss: 0.3448 - val_accuracy: 0.8778\n",
      "Epoch 5/200\n",
      "240/240 [==============================] - 225s 938ms/step - loss: 0.2813 - accuracy: 0.8951 - val_loss: 0.3313 - val_accuracy: 0.8787\n",
      "Epoch 6/200\n",
      "240/240 [==============================] - 225s 936ms/step - loss: 0.2620 - accuracy: 0.9008 - val_loss: 0.3286 - val_accuracy: 0.8822\n",
      "Epoch 7/200\n",
      "240/240 [==============================] - 224s 934ms/step - loss: 0.2469 - accuracy: 0.9074 - val_loss: 0.3392 - val_accuracy: 0.8773\n",
      "Epoch 8/200\n",
      "240/240 [==============================] - 224s 935ms/step - loss: 0.2399 - accuracy: 0.9085 - val_loss: 0.3128 - val_accuracy: 0.8909\n",
      "Epoch 9/200\n",
      "240/240 [==============================] - 224s 935ms/step - loss: 0.2288 - accuracy: 0.9135 - val_loss: 0.3125 - val_accuracy: 0.8913\n",
      "Epoch 10/200\n",
      "240/240 [==============================] - 224s 935ms/step - loss: 0.2137 - accuracy: 0.9191 - val_loss: 0.3327 - val_accuracy: 0.8872\n",
      "Epoch 11/200\n",
      "240/240 [==============================] - 224s 933ms/step - loss: 0.2083 - accuracy: 0.9191 - val_loss: 0.3240 - val_accuracy: 0.8874\n",
      "Epoch 12/200\n",
      "240/240 [==============================] - 225s 937ms/step - loss: 0.1972 - accuracy: 0.9237 - val_loss: 0.3286 - val_accuracy: 0.8957\n",
      "Epoch 13/200\n",
      "240/240 [==============================] - 224s 936ms/step - loss: 0.1916 - accuracy: 0.9260 - val_loss: 0.3311 - val_accuracy: 0.8917\n",
      "Epoch 14/200\n",
      "240/240 [==============================] - 224s 935ms/step - loss: 0.1844 - accuracy: 0.9300 - val_loss: 0.3456 - val_accuracy: 0.8933\n"
     ]
    },
    {
     "data": {
      "text/plain": [
       "<keras.callbacks.History at 0x7f1396317750>"
      ]
     },
     "execution_count": 53,
     "metadata": {},
     "output_type": "execute_result"
    }
   ],
   "source": [
    "#\n",
    "#cb1 = tf.keras.callbacks.TensorBoard()\n",
    "cb2 = tf.keras.callbacks.EarlyStopping(patience=5) # 좀더 참다가 멈추어라 \n",
    "net.fit(X,y,epochs=200,batch_size=200,validation_split=0.2,callbacks=cb2,verbose=1) "
   ]
  },
  {
   "cell_type": "markdown",
   "id": "d4891c40-60c7-4200-ba4e-1136d5886f90",
   "metadata": {
    "id": "d4891c40-60c7-4200-ba4e-1136d5886f90"
   },
   "source": [
    "`-` 텐서보드로 그려보자?"
   ]
  },
  {
   "cell_type": "code",
   "execution_count": null,
   "id": "f963092d-4779-46e0-9fb3-ad1110b84261",
   "metadata": {
    "id": "f963092d-4779-46e0-9fb3-ad1110b84261"
   },
   "outputs": [],
   "source": [
    "#\n",
    "#%tensorboard --logdir logs --host 0.0.0.0 \n",
    "# 아무것도 안나온다 -> 왜? cb1을 써야 텐서보드가 나옴"
   ]
  },
  {
   "cell_type": "code",
   "execution_count": 57,
   "id": "Lq4ZiNNiWa_F",
   "metadata": {
    "id": "Lq4ZiNNiWa_F"
   },
   "outputs": [],
   "source": [
    "#%tensorboard --logdir logs"
   ]
  },
  {
   "cell_type": "code",
   "execution_count": 56,
   "id": "qpIqfG1wWjuX",
   "metadata": {
    "id": "qpIqfG1wWjuX"
   },
   "outputs": [],
   "source": [
    "!rm -rf logs\n",
    "!kill 1679"
   ]
  },
  {
   "cell_type": "markdown",
   "id": "c85b8520-fb7e-489d-ac01-530a52cb9423",
   "metadata": {
    "id": "c85b8520-fb7e-489d-ac01-530a52cb9423"
   },
   "source": [
    "`-` 조기종료와 텐서보드를 같이 쓰려면?"
   ]
  },
  {
   "cell_type": "code",
   "execution_count": 58,
   "id": "5a8e7583-c664-468b-ab67-6f8b54df485b",
   "metadata": {
    "id": "5a8e7583-c664-468b-ab67-6f8b54df485b"
   },
   "outputs": [],
   "source": [
    "tf.random.set_seed(43052)\n",
    "net = tf.keras.Sequential()\n",
    "net.add(tf.keras.layers.Flatten())\n",
    "net.add(tf.keras.layers.Dense(50,activation='relu')) \n",
    "net.add(tf.keras.layers.Dense(10,activation='softmax'))\n",
    "net.compile(optimizer='adam',loss=tf.losses.categorical_crossentropy,metrics='accuracy')"
   ]
  },
  {
   "cell_type": "code",
   "execution_count": 59,
   "id": "85fbb75d-7c66-486d-8fd2-e37d8db0cbae",
   "metadata": {
    "colab": {
     "base_uri": "https://localhost:8080/"
    },
    "id": "85fbb75d-7c66-486d-8fd2-e37d8db0cbae",
    "outputId": "616f96f6-03fe-4a21-db63-0505c0896200"
   },
   "outputs": [
    {
     "name": "stdout",
     "output_type": "stream",
     "text": [
      "Epoch 1/200\n",
      "240/240 [==============================] - 2s 5ms/step - loss: 0.7184 - accuracy: 0.7581 - val_loss: 0.5077 - val_accuracy: 0.8276\n",
      "Epoch 2/200\n",
      "240/240 [==============================] - 1s 4ms/step - loss: 0.4752 - accuracy: 0.8386 - val_loss: 0.4786 - val_accuracy: 0.8347\n",
      "Epoch 3/200\n",
      "240/240 [==============================] - 1s 4ms/step - loss: 0.4305 - accuracy: 0.8513 - val_loss: 0.4376 - val_accuracy: 0.8497\n",
      "Epoch 4/200\n",
      "240/240 [==============================] - 1s 4ms/step - loss: 0.4047 - accuracy: 0.8587 - val_loss: 0.4033 - val_accuracy: 0.8597\n",
      "Epoch 5/200\n",
      "240/240 [==============================] - 1s 4ms/step - loss: 0.3833 - accuracy: 0.8670 - val_loss: 0.3939 - val_accuracy: 0.8620\n",
      "Epoch 6/200\n",
      "240/240 [==============================] - 1s 4ms/step - loss: 0.3701 - accuracy: 0.8699 - val_loss: 0.3836 - val_accuracy: 0.8652\n",
      "Epoch 7/200\n",
      "240/240 [==============================] - 1s 4ms/step - loss: 0.3572 - accuracy: 0.8755 - val_loss: 0.3815 - val_accuracy: 0.8669\n",
      "Epoch 8/200\n",
      "240/240 [==============================] - 1s 4ms/step - loss: 0.3483 - accuracy: 0.8778 - val_loss: 0.3684 - val_accuracy: 0.8706\n",
      "Epoch 9/200\n",
      "240/240 [==============================] - 1s 5ms/step - loss: 0.3387 - accuracy: 0.8802 - val_loss: 0.3606 - val_accuracy: 0.8712\n",
      "Epoch 10/200\n",
      "240/240 [==============================] - 1s 4ms/step - loss: 0.3302 - accuracy: 0.8826 - val_loss: 0.3601 - val_accuracy: 0.8750\n",
      "Epoch 11/200\n",
      "240/240 [==============================] - 1s 4ms/step - loss: 0.3223 - accuracy: 0.8862 - val_loss: 0.3564 - val_accuracy: 0.8717\n",
      "Epoch 12/200\n",
      "240/240 [==============================] - 1s 4ms/step - loss: 0.3153 - accuracy: 0.8883 - val_loss: 0.3556 - val_accuracy: 0.8758\n",
      "Epoch 13/200\n",
      "240/240 [==============================] - 1s 4ms/step - loss: 0.3097 - accuracy: 0.8897 - val_loss: 0.3529 - val_accuracy: 0.8762\n",
      "Epoch 14/200\n",
      "240/240 [==============================] - 1s 4ms/step - loss: 0.3036 - accuracy: 0.8921 - val_loss: 0.3470 - val_accuracy: 0.8768\n",
      "Epoch 15/200\n",
      "240/240 [==============================] - 1s 4ms/step - loss: 0.2989 - accuracy: 0.8935 - val_loss: 0.3445 - val_accuracy: 0.8793\n",
      "Epoch 16/200\n",
      "240/240 [==============================] - 1s 4ms/step - loss: 0.2971 - accuracy: 0.8947 - val_loss: 0.3700 - val_accuracy: 0.8727\n",
      "Epoch 17/200\n",
      "240/240 [==============================] - 1s 4ms/step - loss: 0.2905 - accuracy: 0.8962 - val_loss: 0.3447 - val_accuracy: 0.8769\n",
      "Epoch 18/200\n",
      "240/240 [==============================] - 1s 4ms/step - loss: 0.2860 - accuracy: 0.8974 - val_loss: 0.3373 - val_accuracy: 0.8824\n",
      "Epoch 19/200\n",
      "240/240 [==============================] - 1s 4ms/step - loss: 0.2807 - accuracy: 0.8994 - val_loss: 0.3393 - val_accuracy: 0.8815\n",
      "Epoch 20/200\n",
      "240/240 [==============================] - 1s 4ms/step - loss: 0.2768 - accuracy: 0.8994 - val_loss: 0.3420 - val_accuracy: 0.8790\n",
      "Epoch 21/200\n",
      "240/240 [==============================] - 1s 4ms/step - loss: 0.2735 - accuracy: 0.9030 - val_loss: 0.3320 - val_accuracy: 0.8832\n",
      "Epoch 22/200\n",
      "240/240 [==============================] - 1s 4ms/step - loss: 0.2674 - accuracy: 0.9035 - val_loss: 0.3326 - val_accuracy: 0.8833\n",
      "Epoch 23/200\n",
      "240/240 [==============================] - 1s 4ms/step - loss: 0.2660 - accuracy: 0.9039 - val_loss: 0.3354 - val_accuracy: 0.8817\n",
      "Epoch 24/200\n",
      "240/240 [==============================] - 1s 5ms/step - loss: 0.2628 - accuracy: 0.9060 - val_loss: 0.3387 - val_accuracy: 0.8829\n",
      "Epoch 25/200\n",
      "240/240 [==============================] - 1s 5ms/step - loss: 0.2575 - accuracy: 0.9075 - val_loss: 0.3352 - val_accuracy: 0.8830\n",
      "Epoch 26/200\n",
      "240/240 [==============================] - 1s 5ms/step - loss: 0.2566 - accuracy: 0.9067 - val_loss: 0.3392 - val_accuracy: 0.8803\n",
      "Epoch 27/200\n",
      "240/240 [==============================] - 1s 4ms/step - loss: 0.2535 - accuracy: 0.9090 - val_loss: 0.3353 - val_accuracy: 0.8842\n",
      "Epoch 28/200\n",
      "240/240 [==============================] - 1s 4ms/step - loss: 0.2490 - accuracy: 0.9106 - val_loss: 0.3465 - val_accuracy: 0.8808\n"
     ]
    },
    {
     "data": {
      "text/plain": [
       "<keras.callbacks.History at 0x7f14213e4cd0>"
      ]
     },
     "execution_count": 59,
     "metadata": {},
     "output_type": "execute_result"
    }
   ],
   "source": [
    "cb1 = tf.keras.callbacks.TensorBoard()\n",
    "cb2 = tf.keras.callbacks.EarlyStopping(patience=7) # 좀더 참다가 멈추어라 \n",
    "net.fit(X,y,epochs=200,batch_size=200,validation_split=0.2,callbacks=[cb1,cb2]) "
   ]
  },
  {
   "cell_type": "code",
   "execution_count": null,
   "id": "bc54043d-0df0-4e78-b1b0-1fa2c1c6940a",
   "metadata": {
    "id": "bc54043d-0df0-4e78-b1b0-1fa2c1c6940a"
   },
   "outputs": [],
   "source": [
    "# \n",
    "# 조기종료가 구현된 그림이 출력\n",
    "# %tensorboard --logdir logs --host 0.0.0.0 "
   ]
  },
  {
   "cell_type": "code",
   "execution_count": 63,
   "id": "Pp9OIOHUX8ti",
   "metadata": {
    "id": "Pp9OIOHUX8ti"
   },
   "outputs": [],
   "source": [
    "%tensorboard --logdir logs"
   ]
  },
  {
   "cell_type": "code",
   "execution_count": 62,
   "id": "409dCeMmX84y",
   "metadata": {
    "id": "409dCeMmX84y"
   },
   "outputs": [],
   "source": [
    "!rm -rf logs\n",
    "!kill 1952"
   ]
  },
  {
   "cell_type": "markdown",
   "id": "fa983e19-e107-4522-a0fb-798e61519d22",
   "metadata": {
    "id": "fa983e19-e107-4522-a0fb-798e61519d22"
   },
   "source": [
    "### 하이퍼파라메터 선택"
   ]
  },
  {
   "cell_type": "markdown",
   "id": "84afda09-5de1-41f2-aee2-252cbd93c355",
   "metadata": {
    "id": "84afda09-5de1-41f2-aee2-252cbd93c355"
   },
   "source": [
    "`-` 하이퍼파라메터 설정"
   ]
  },
  {
   "cell_type": "code",
   "execution_count": 64,
   "id": "e00a6c2b-6a25-4f0c-9a16-f23a9b364448",
   "metadata": {
    "id": "e00a6c2b-6a25-4f0c-9a16-f23a9b364448"
   },
   "outputs": [],
   "source": [
    "from tensorboard.plugins.hparams import api as hp"
   ]
  },
  {
   "cell_type": "code",
   "execution_count": 65,
   "id": "9e1e22b7-6859-4ab6-9626-eebb2f793740",
   "metadata": {
    "colab": {
     "base_uri": "https://localhost:8080/"
    },
    "id": "9e1e22b7-6859-4ab6-9626-eebb2f793740",
    "outputId": "d463cd4f-da33-43b8-d660-29bdb9905e90"
   },
   "outputs": [
    {
     "name": "stdout",
     "output_type": "stream",
     "text": [
      "313/313 [==============================] - 1s 2ms/step - loss: 0.3795 - accuracy: 0.8720\n"
     ]
    }
   ],
   "source": [
    "a=net.evaluate(XX,yy)"
   ]
  },
  {
   "cell_type": "code",
   "execution_count": 66,
   "id": "ff328d81-caac-46a1-af77-4d7ea5325815",
   "metadata": {
    "colab": {
     "base_uri": "https://localhost:8080/"
    },
    "id": "ff328d81-caac-46a1-af77-4d7ea5325815",
    "outputId": "3f9d06e2-70f0-4f0d-bea3-d6cb82a01da8"
   },
   "outputs": [
    {
     "name": "stdout",
     "output_type": "stream",
     "text": [
      "Epoch 1/3\n",
      "1875/1875 [==============================] - 5s 2ms/step - loss: 0.5255 - accuracy: 0.8181 - recall: 0.7546\n",
      "Epoch 2/3\n",
      "1875/1875 [==============================] - 4s 2ms/step - loss: 0.3996 - accuracy: 0.8582 - recall: 0.8286\n",
      "Epoch 3/3\n",
      "1875/1875 [==============================] - 4s 2ms/step - loss: 0.3642 - accuracy: 0.8701 - recall: 0.8450\n",
      "313/313 [==============================] - 1s 2ms/step - loss: 0.4039 - accuracy: 0.8538 - recall: 0.8318\n",
      "Epoch 1/3\n",
      "1875/1875 [==============================] - 4s 2ms/step - loss: 0.7744 - accuracy: 0.7503 - recall: 0.5797\n",
      "Epoch 2/3\n",
      "1875/1875 [==============================] - 4s 2ms/step - loss: 0.5204 - accuracy: 0.8223 - recall: 0.7565\n",
      "Epoch 3/3\n",
      "1875/1875 [==============================] - 3s 2ms/step - loss: 0.4742 - accuracy: 0.8369 - recall: 0.7859\n",
      "313/313 [==============================] - 1s 2ms/step - loss: 0.4899 - accuracy: 0.8304 - recall: 0.7831\n",
      "Epoch 1/3\n",
      "1875/1875 [==============================] - 5s 2ms/step - loss: 0.7502 - accuracy: 0.7356 - recall: 0.6115\n",
      "Epoch 2/3\n",
      "1875/1875 [==============================] - 4s 2ms/step - loss: 0.5738 - accuracy: 0.7923 - recall: 0.7133\n",
      "Epoch 3/3\n",
      "1875/1875 [==============================] - 4s 2ms/step - loss: 0.5473 - accuracy: 0.8037 - recall: 0.7321\n",
      "313/313 [==============================] - 1s 2ms/step - loss: 0.4319 - accuracy: 0.8448 - recall: 0.7919\n",
      "Epoch 1/3\n",
      "1875/1875 [==============================] - 4s 2ms/step - loss: 1.0932 - accuracy: 0.6228 - recall: 0.3971\n",
      "Epoch 2/3\n",
      "1875/1875 [==============================] - 4s 2ms/step - loss: 0.7616 - accuracy: 0.7388 - recall: 0.5956\n",
      "Epoch 3/3\n",
      "1875/1875 [==============================] - 4s 2ms/step - loss: 0.6828 - accuracy: 0.7684 - recall: 0.6478\n",
      "313/313 [==============================] - 1s 2ms/step - loss: 0.5265 - accuracy: 0.8180 - recall: 0.7353\n",
      "Epoch 1/3\n",
      "1875/1875 [==============================] - 54s 28ms/step - loss: 0.4783 - accuracy: 0.8287 - recall: 0.7886\n",
      "Epoch 2/3\n",
      "1875/1875 [==============================] - 53s 28ms/step - loss: 0.3597 - accuracy: 0.8678 - recall: 0.8419\n",
      "Epoch 3/3\n",
      "1875/1875 [==============================] - 53s 28ms/step - loss: 0.3177 - accuracy: 0.8826 - recall: 0.8613\n",
      "313/313 [==============================] - 3s 10ms/step - loss: 0.3756 - accuracy: 0.8667 - recall: 0.8456\n",
      "Epoch 1/3\n",
      "1875/1875 [==============================] - 40s 21ms/step - loss: 0.6685 - accuracy: 0.7883 - recall: 0.6444\n",
      "Epoch 2/3\n",
      "1875/1875 [==============================] - 39s 21ms/step - loss: 0.4815 - accuracy: 0.8372 - recall: 0.7780\n",
      "Epoch 3/3\n",
      "1875/1875 [==============================] - 38s 20ms/step - loss: 0.4408 - accuracy: 0.8498 - recall: 0.8021\n",
      "313/313 [==============================] - 3s 10ms/step - loss: 0.4634 - accuracy: 0.8393 - recall: 0.7960\n",
      "Epoch 1/3\n",
      "1875/1875 [==============================] - 56s 30ms/step - loss: 0.5713 - accuracy: 0.7984 - recall: 0.7545\n",
      "Epoch 2/3\n",
      "1875/1875 [==============================] - 56s 30ms/step - loss: 0.4441 - accuracy: 0.8387 - recall: 0.8053\n",
      "Epoch 3/3\n",
      "1875/1875 [==============================] - 56s 30ms/step - loss: 0.4069 - accuracy: 0.8506 - recall: 0.8210\n",
      "313/313 [==============================] - 3s 10ms/step - loss: 0.3802 - accuracy: 0.8613 - recall: 0.8256\n",
      "Epoch 1/3\n",
      "1875/1875 [==============================] - 44s 23ms/step - loss: 0.6930 - accuracy: 0.7753 - recall: 0.6337\n",
      "Epoch 2/3\n",
      "1875/1875 [==============================] - 44s 23ms/step - loss: 0.5048 - accuracy: 0.8274 - recall: 0.7654\n",
      "Epoch 3/3\n",
      "1875/1875 [==============================] - 44s 23ms/step - loss: 0.4608 - accuracy: 0.8416 - recall: 0.7911\n",
      "313/313 [==============================] - 4s 10ms/step - loss: 0.4625 - accuracy: 0.8394 - recall: 0.7953\n"
     ]
    }
   ],
   "source": [
    "!rm -rf logs\n",
    "for u in [50,5000]: \n",
    "    for d in [0.0,0.5]: \n",
    "        for o in ['adam','sgd']:\n",
    "            logdir = 'logs/hpguebin_{}_{}_{}'.format(u,d,o)\n",
    "            with tf.summary.create_file_writer(logdir).as_default():\n",
    "                net = tf.keras.Sequential()\n",
    "                net.add(tf.keras.layers.Flatten())\n",
    "                net.add(tf.keras.layers.Dense(u,activation='relu'))\n",
    "                net.add(tf.keras.layers.Dropout(d))\n",
    "                net.add(tf.keras.layers.Dense(10,activation='softmax'))\n",
    "                net.compile(optimizer=o,loss=tf.losses.categorical_crossentropy,metrics=['accuracy','Recall'])\n",
    "                cb3 = hp.KerasCallback(logdir, {'유닛수':u, '드랍아웃비율':d, '옵티마이저':o})\n",
    "                net.fit(X,y,epochs=3,callbacks=cb3)\n",
    "                _rslt=net.evaluate(XX,yy)\n",
    "                _mymetric=_rslt[1]*0.8 + _rslt[2]*0.2  \n",
    "                tf.summary.scalar('애큐러시와리컬의가중평균(테스트셋)', _mymetric, step=1) "
   ]
  },
  {
   "cell_type": "code",
   "execution_count": null,
   "id": "43419b69-c0a2-4968-9978-bd51c3028965",
   "metadata": {
    "id": "43419b69-c0a2-4968-9978-bd51c3028965"
   },
   "outputs": [],
   "source": [
    "#\n",
    "#%tensorboard --logdir logs --host 0.0.0.0"
   ]
  },
  {
   "cell_type": "code",
   "execution_count": 69,
   "id": "yeAU4_M6ZliI",
   "metadata": {
    "id": "yeAU4_M6ZliI"
   },
   "outputs": [],
   "source": [
    "%tensorboard --logdir logs"
   ]
  },
  {
   "cell_type": "code",
   "execution_count": 70,
   "id": "qLruSaw1ZltB",
   "metadata": {
    "id": "qLruSaw1ZltB"
   },
   "outputs": [],
   "source": [
    "!rm -rf logs\n",
    "!kill 2236"
   ]
  },
  {
   "cell_type": "markdown",
   "id": "32f8e532-65f9-49bf-bb16-d332bdd8b8d2",
   "metadata": {
    "id": "32f8e532-65f9-49bf-bb16-d332bdd8b8d2"
   },
   "source": [
    "## 숙제"
   ]
  },
  {
   "cell_type": "markdown",
   "id": "038d1f13-e0be-4c80-a532-c167c3e76528",
   "metadata": {
    "id": "038d1f13-e0be-4c80-a532-c167c3e76528"
   },
   "source": [
    "`-` 아래의 네트워크에서 옵티마이저를 adam, sgd를 선택하여 각각 적합시켜보고 testset의 loss를 성능비교를 하라. epoch은 5정도로 설정하라. \n",
    "```\n",
    "net = tf.keras.Sequential()\n",
    "net.add(tf.keras.layers.Flatten())\n",
    "net.add(tf.keras.layers.Dense(50,activation='relu'))\n",
    "net.add(tf.keras.layers.Dense(50,activation='relu'))\n",
    "net.add(tf.keras.layers.Dense(10,activation='softmax'))\n",
    "net.compile(optimizer=???,loss=tf.losses.categorical_crossentropy,metrics=['accuracy','Recall'])\n",
    "```"
   ]
  }
 ],
 "metadata": {
  "colab": {
   "name": "2022-05-23-(12주차) 5월23일.ipynb",
   "provenance": []
  },
  "kernelspec": {
   "display_name": "Python 3 (ipykernel)",
   "language": "python",
   "name": "python3"
  },
  "language_info": {
   "codemirror_mode": {
    "name": "ipython",
    "version": 3
   },
   "file_extension": ".py",
   "mimetype": "text/x-python",
   "name": "python",
   "nbconvert_exporter": "python",
   "pygments_lexer": "ipython3",
   "version": "3.8.12"
  }
 },
 "nbformat": 4,
 "nbformat_minor": 5
}
