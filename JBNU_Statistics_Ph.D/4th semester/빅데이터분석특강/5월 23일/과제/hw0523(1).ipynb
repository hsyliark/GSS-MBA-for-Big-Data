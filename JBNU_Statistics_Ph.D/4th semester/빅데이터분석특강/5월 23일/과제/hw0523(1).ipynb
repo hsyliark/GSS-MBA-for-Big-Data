{
 "cells": [
  {
   "cell_type": "code",
   "execution_count": 1,
   "id": "a292d4dd-656d-4f4e-8223-7dcb2048ffd4",
   "metadata": {
    "id": "bL5D0EJAzK4N"
   },
   "outputs": [],
   "source": [
    "import tensorflow as tf\n",
    "import tensorflow.experimental.numpy as tnp"
   ]
  },
  {
   "cell_type": "code",
   "execution_count": 4,
   "id": "6934361e-4e2e-4415-a1cc-c904f5544230",
   "metadata": {
    "colab": {
     "base_uri": "https://localhost:8080/"
    },
    "id": "70iLSeSjzQyN",
    "outputId": "56852818-01b6-42e6-d3b7-5caca90708d6"
   },
   "outputs": [],
   "source": [
    "(x_train, y_train), (x_test, y_test) = tf.keras.datasets.fashion_mnist.load_data()"
   ]
  },
  {
   "cell_type": "code",
   "execution_count": 5,
   "id": "68e916f2-b427-402f-b6d1-0be8d9903167",
   "metadata": {
    "id": "XKlOvPjEzSrT"
   },
   "outputs": [],
   "source": [
    "X= x_train.reshape(-1,28,28,1)/255 \n",
    "y = tf.keras.utils.to_categorical(y_train)\n",
    "XX = x_test.reshape(-1,28,28,1)/255\n",
    "yy = tf.keras.utils.to_categorical(y_test)"
   ]
  },
  {
   "cell_type": "code",
   "execution_count": 6,
   "id": "ce77bd7d-4371-4ee5-aa84-c27eb2b9d620",
   "metadata": {
    "id": "U-ZcwXVZzUeZ"
   },
   "outputs": [],
   "source": [
    "from tensorboard.plugins.hparams import api as hp"
   ]
  },
  {
   "cell_type": "code",
   "execution_count": 7,
   "id": "0dc0aefc-91c7-4f3e-bdf3-21374ad0a050",
   "metadata": {
    "id": "0YKKrdTf2_pT"
   },
   "outputs": [],
   "source": [
    "%load_ext tensorboard"
   ]
  },
  {
   "cell_type": "code",
   "execution_count": 8,
   "id": "cec22ca9-14a8-4743-a1b6-8966362974c6",
   "metadata": {
    "colab": {
     "base_uri": "https://localhost:8080/"
    },
    "id": "ZT8LVTwY3YA4",
    "outputId": "6b7ac020-0453-4820-b6bc-dd5f3516af07"
   },
   "outputs": [],
   "source": [
    "!rm -rf logs "
   ]
  },
  {
   "cell_type": "markdown",
   "id": "a307cc85-474e-4f82-92b0-a66fb862c53b",
   "metadata": {},
   "source": [
    "`-` 원래 의도한 정답"
   ]
  },
  {
   "cell_type": "code",
   "execution_count": 9,
   "id": "dbfcc985-13bb-4e6c-87a2-b2b5c9f12b4b",
   "metadata": {
    "id": "frc8lXADBuQv"
   },
   "outputs": [
    {
     "name": "stderr",
     "output_type": "stream",
     "text": [
      "2022-05-28 04:59:38.302582: I tensorflow/stream_executor/cuda/cuda_gpu_executor.cc:939] successful NUMA node read from SysFS had negative value (-1), but there must be at least one NUMA node, so returning NUMA node zero\n"
     ]
    },
    {
     "name": "stdout",
     "output_type": "stream",
     "text": [
      "Epoch 1/5\n",
      "1875/1875 [==============================] - 3s 1ms/step - loss: 0.5203 - accuracy: 0.8172 - recall: 0.7589\n",
      "Epoch 2/5\n",
      "1875/1875 [==============================] - 2s 1ms/step - loss: 0.3877 - accuracy: 0.8594 - recall: 0.8304\n",
      "Epoch 3/5\n",
      "1875/1875 [==============================] - 2s 1ms/step - loss: 0.3519 - accuracy: 0.8721 - recall: 0.8473\n",
      "Epoch 4/5\n",
      "1875/1875 [==============================] - 2s 1ms/step - loss: 0.3284 - accuracy: 0.8793 - recall: 0.8583\n",
      "Epoch 5/5\n",
      "1875/1875 [==============================] - 2s 1ms/step - loss: 0.3133 - accuracy: 0.8844 - recall: 0.8652\n",
      "Epoch 1/5\n",
      "1875/1875 [==============================] - 2s 1ms/step - loss: 0.7772 - accuracy: 0.7420 - recall: 0.5873\n",
      "Epoch 2/5\n",
      "1875/1875 [==============================] - 2s 1ms/step - loss: 0.5054 - accuracy: 0.8237 - recall: 0.7696\n",
      "Epoch 3/5\n",
      "1875/1875 [==============================] - 2s 1ms/step - loss: 0.4600 - accuracy: 0.8391 - recall: 0.7964\n",
      "Epoch 4/5\n",
      "1875/1875 [==============================] - 2s 1ms/step - loss: 0.4339 - accuracy: 0.8478 - recall: 0.8104\n",
      "Epoch 5/5\n",
      "1875/1875 [==============================] - 2s 1ms/step - loss: 0.4155 - accuracy: 0.8535 - recall: 0.8183\n"
     ]
    }
   ],
   "source": [
    "# 원래의도한 정답코드 \n",
    "for o in ['adam','sgd']:\n",
    "    logdir = 'logs/hp_{}'.format(o)\n",
    "    with tf.summary.create_file_writer(logdir).as_default():\n",
    "        net = tf.keras.Sequential()\n",
    "        net.add(tf.keras.layers.Flatten())\n",
    "        net.add(tf.keras.layers.Dense(50,activation='relu'))\n",
    "        net.add(tf.keras.layers.Dense(50,activation='relu'))\n",
    "        net.add(tf.keras.layers.Dense(10,activation='softmax'))\n",
    "        net.compile(optimizer=o,loss=tf.losses.categorical_crossentropy,metrics=['accuracy','Recall'])\n",
    "        cb3 = hp.KerasCallback(logdir, {'옵티마이저':o})\n",
    "        net.fit(X,y,epochs=5,callbacks=cb3)"
   ]
  },
  {
   "cell_type": "code",
   "execution_count": 12,
   "id": "ef173c38-e814-4c26-ba7d-50de82667feb",
   "metadata": {},
   "outputs": [],
   "source": [
    "%tensorboard --logdir logs --host 0.0.0.0"
   ]
  },
  {
   "cell_type": "markdown",
   "id": "4e6c1683-66f8-490c-bf28-bccdd990445e",
   "metadata": {},
   "source": [
    "`-` 코랩버전에 맞게 수정한 정답"
   ]
  },
  {
   "cell_type": "code",
   "execution_count": null,
   "id": "9cabf62f-75f0-42c1-b9ab-b0cd28568cb9",
   "metadata": {},
   "outputs": [],
   "source": [
    "# 수정한 정답코드 \n",
    "for o in ['adam','sgd']:\n",
    "    logdir = 'logs/hp_{}'.format(o)\n",
    "    with tf.summary.create_file_writer(logdir).as_default():\n",
    "        net = tf.keras.Sequential()\n",
    "        net.add(tf.keras.layers.Flatten())\n",
    "        net.add(tf.keras.layers.Dense(50,activation='relu'))\n",
    "        net.add(tf.keras.layers.Dense(50,activation='relu'))\n",
    "        net.add(tf.keras.layers.Dense(10,activation='softmax'))\n",
    "        net.compile(optimizer=o,loss=tf.losses.categorical_crossentropy,metrics=['accuracy','Recall'])\n",
    "        cb3 = hp.KerasCallback(logdir, {'옵티마이저':o})\n",
    "        net.fit(X,y,epochs=5,callbacks=cb3)\n",
    "        _rslt=net.evaluate(X,y)\n",
    "        tf.summary.scalar('loss', _rslt[0], step=1)\n",
    "        tf.summary.scalar('accuracy', _rslt[1], step=1)\n",
    "        tf.summary.scalar('recall', _rslt[2], step=1)        "
   ]
  },
  {
   "cell_type": "code",
   "execution_count": null,
   "id": "fa03e33b-e513-40f8-a341-cdb3f79a8ddc",
   "metadata": {},
   "outputs": [],
   "source": [
    "%tensorboard --logdir logs"
   ]
  }
 ],
 "metadata": {
  "kernelspec": {
   "display_name": "Python 3 (ipykernel)",
   "language": "python",
   "name": "python3"
  },
  "language_info": {
   "codemirror_mode": {
    "name": "ipython",
    "version": 3
   },
   "file_extension": ".py",
   "mimetype": "text/x-python",
   "name": "python",
   "nbconvert_exporter": "python",
   "pygments_lexer": "ipython3",
   "version": "3.8.12"
  }
 },
 "nbformat": 4,
 "nbformat_minor": 5
}
