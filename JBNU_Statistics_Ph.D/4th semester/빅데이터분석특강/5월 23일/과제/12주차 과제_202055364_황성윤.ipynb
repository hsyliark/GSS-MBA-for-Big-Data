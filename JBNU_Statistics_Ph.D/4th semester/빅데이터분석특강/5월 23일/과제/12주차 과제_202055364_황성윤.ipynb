{
  "cells": [
    {
      "cell_type": "markdown",
      "id": "03b279dc",
      "metadata": {
        "id": "03b279dc"
      },
      "source": [
        "`-` 아래의 네트워크에서 옵티마이저를 adam, sgd를 선택하여 각각 적합시켜보고 testset의 loss를 성능비교를 하라. epoch은 5정도로 설정하라. \n",
        "```\n",
        "net = tf.keras.Sequential()\n",
        "net.add(tf.keras.layers.Flatten())\n",
        "net.add(tf.keras.layers.Dense(50,activation='relu'))\n",
        "net.add(tf.keras.layers.Dense(50,activation='relu'))\n",
        "net.add(tf.keras.layers.Dense(10,activation='softmax'))\n",
        "net.compile(optimizer=???,loss=tf.losses.categorical_crossentropy,metrics=['accuracy','Recall'])\n",
        "```"
      ]
    },
    {
      "cell_type": "code",
      "execution_count": 1,
      "id": "c5e9261a",
      "metadata": {
        "id": "c5e9261a"
      },
      "outputs": [],
      "source": [
        "import tensorflow as tf\n",
        "import tensorflow.experimental.numpy as tnp"
      ]
    },
    {
      "cell_type": "code",
      "execution_count": 2,
      "id": "09b8ad67",
      "metadata": {
        "id": "09b8ad67"
      },
      "outputs": [],
      "source": [
        "tnp.experimental_enable_numpy_behavior()"
      ]
    },
    {
      "cell_type": "code",
      "execution_count": 3,
      "id": "01beacd1",
      "metadata": {
        "id": "01beacd1"
      },
      "outputs": [],
      "source": [
        "import matplotlib.pyplot as plt\n",
        "import numpy as np"
      ]
    },
    {
      "cell_type": "markdown",
      "id": "289dedc9",
      "metadata": {
        "id": "289dedc9"
      },
      "source": [
        "데이터는 MNIST data를 선택하도록 한다."
      ]
    },
    {
      "cell_type": "code",
      "execution_count": 4,
      "id": "3b1aa9a7",
      "metadata": {
        "colab": {
          "base_uri": "https://localhost:8080/"
        },
        "id": "3b1aa9a7",
        "outputId": "15440ddb-008c-495c-df66-280b87a7b4d3"
      },
      "outputs": [
        {
          "output_type": "stream",
          "name": "stdout",
          "text": [
            "Downloading data from https://storage.googleapis.com/tensorflow/tf-keras-datasets/train-labels-idx1-ubyte.gz\n",
            "32768/29515 [=================================] - 0s 0us/step\n",
            "40960/29515 [=========================================] - 0s 0us/step\n",
            "Downloading data from https://storage.googleapis.com/tensorflow/tf-keras-datasets/train-images-idx3-ubyte.gz\n",
            "26427392/26421880 [==============================] - 0s 0us/step\n",
            "26435584/26421880 [==============================] - 0s 0us/step\n",
            "Downloading data from https://storage.googleapis.com/tensorflow/tf-keras-datasets/t10k-labels-idx1-ubyte.gz\n",
            "16384/5148 [===============================================================================================] - 0s 0us/step\n",
            "Downloading data from https://storage.googleapis.com/tensorflow/tf-keras-datasets/t10k-images-idx3-ubyte.gz\n",
            "4423680/4422102 [==============================] - 0s 0us/step\n",
            "4431872/4422102 [==============================] - 0s 0us/step\n"
          ]
        }
      ],
      "source": [
        "(x_train, y_train), (x_test, y_test) = tf.keras.datasets.fashion_mnist.load_data()"
      ]
    },
    {
      "cell_type": "code",
      "execution_count": 5,
      "id": "9c21ba19",
      "metadata": {
        "id": "9c21ba19"
      },
      "outputs": [],
      "source": [
        "X= x_train.reshape(-1,28,28,1)/255 \n",
        "y = tf.keras.utils.to_categorical(y_train)\n",
        "XX = x_test.reshape(-1,28,28,1)/255\n",
        "yy = tf.keras.utils.to_categorical(y_test)"
      ]
    },
    {
      "cell_type": "code",
      "execution_count": 6,
      "id": "b9495f94",
      "metadata": {
        "id": "b9495f94"
      },
      "outputs": [],
      "source": [
        "from tensorboard.plugins.hparams import api as hp"
      ]
    },
    {
      "cell_type": "code",
      "execution_count": 7,
      "id": "a24c052c",
      "metadata": {
        "colab": {
          "base_uri": "https://localhost:8080/"
        },
        "id": "a24c052c",
        "outputId": "411e026b-6b72-4c64-94f3-600628bad389"
      },
      "outputs": [
        {
          "output_type": "stream",
          "name": "stdout",
          "text": [
            "Epoch 1/5\n",
            "1875/1875 [==============================] - 8s 4ms/step - loss: 0.5237 - accuracy: 0.8155 - recall: 0.7546\n",
            "Epoch 2/5\n",
            "1875/1875 [==============================] - 6s 3ms/step - loss: 0.3919 - accuracy: 0.8590 - recall: 0.8288\n",
            "Epoch 3/5\n",
            "1875/1875 [==============================] - 6s 3ms/step - loss: 0.3544 - accuracy: 0.8698 - recall: 0.8450\n",
            "Epoch 4/5\n",
            "1875/1875 [==============================] - 6s 3ms/step - loss: 0.3297 - accuracy: 0.8796 - recall: 0.8571\n",
            "Epoch 5/5\n",
            "1875/1875 [==============================] - 6s 3ms/step - loss: 0.3144 - accuracy: 0.8841 - recall: 0.8632\n",
            "313/313 [==============================] - 1s 2ms/step - loss: 0.3792 - accuracy: 0.8624 - recall: 0.8379\n",
            "Epoch 1/5\n",
            "1875/1875 [==============================] - 5s 3ms/step - loss: 0.7866 - accuracy: 0.7329 - recall: 0.5778\n",
            "Epoch 2/5\n",
            "1875/1875 [==============================] - 5s 3ms/step - loss: 0.5089 - accuracy: 0.8221 - recall: 0.7659\n",
            "Epoch 3/5\n",
            "1875/1875 [==============================] - 5s 3ms/step - loss: 0.4633 - accuracy: 0.8388 - recall: 0.7951\n",
            "Epoch 4/5\n",
            "1875/1875 [==============================] - 5s 3ms/step - loss: 0.4364 - accuracy: 0.8478 - recall: 0.8099\n",
            "Epoch 5/5\n",
            "1875/1875 [==============================] - 5s 2ms/step - loss: 0.4164 - accuracy: 0.8537 - recall: 0.8184\n",
            "313/313 [==============================] - 1s 2ms/step - loss: 0.4329 - accuracy: 0.8473 - recall: 0.8158\n"
          ]
        }
      ],
      "source": [
        "for o in ['adam','sgd']:\n",
        "    logdir = 'logs/hphsy_{}'.format(o)\n",
        "    with tf.summary.create_file_writer(logdir).as_default():\n",
        "        net = tf.keras.Sequential()\n",
        "        net.add(tf.keras.layers.Flatten())\n",
        "        net.add(tf.keras.layers.Dense(50,activation='relu'))\n",
        "        net.add(tf.keras.layers.Dense(50,activation='relu'))\n",
        "        net.add(tf.keras.layers.Dense(10,activation='softmax'))\n",
        "        net.compile(optimizer=o,loss=tf.losses.categorical_crossentropy,metrics=['accuracy','Recall'])\n",
        "        cb3 = hp.KerasCallback(logdir, {'optimizer':o})\n",
        "        net.fit(X,y,epochs=5,callbacks=cb3)\n",
        "        _rslt=net.evaluate(XX,yy)[0] # loss\n",
        "        tf.summary.scalar('loss', _rslt, step=1) "
      ]
    },
    {
      "cell_type": "code",
      "execution_count": 8,
      "id": "8d3f9988",
      "metadata": {
        "id": "8d3f9988"
      },
      "outputs": [],
      "source": [
        "%load_ext tensorboard"
      ]
    },
    {
      "cell_type": "code",
      "execution_count": 12,
      "id": "fd3385bd",
      "metadata": {
        "id": "fd3385bd"
      },
      "outputs": [],
      "source": [
        "%tensorboard --logdir logs"
      ]
    },
    {
      "cell_type": "markdown",
      "id": "7a35087d",
      "metadata": {
        "id": "7a35087d"
      },
      "source": [
        "`-` 결과적으로 loss의 측면에서 봤을 때 optimizer가 adam인 경우에는 loss=0.3792 이고 sgd인 경우에는 loss=0.4329 이므로 adam의 성능이 sgd보다 더 좋음을 확인할 수 있다."
      ]
    },
    {
      "cell_type": "code",
      "execution_count": 11,
      "id": "f06d746f",
      "metadata": {
        "id": "f06d746f"
      },
      "outputs": [],
      "source": [
        "!rm -rf logs\n",
        "!kill 172"
      ]
    },
    {
      "cell_type": "code",
      "source": [
        ""
      ],
      "metadata": {
        "id": "sqEQRS5EO9d5"
      },
      "id": "sqEQRS5EO9d5",
      "execution_count": null,
      "outputs": []
    }
  ],
  "metadata": {
    "kernelspec": {
      "display_name": "Python 3 (ipykernel)",
      "language": "python",
      "name": "python3"
    },
    "language_info": {
      "codemirror_mode": {
        "name": "ipython",
        "version": 3
      },
      "file_extension": ".py",
      "mimetype": "text/x-python",
      "name": "python",
      "nbconvert_exporter": "python",
      "pygments_lexer": "ipython3",
      "version": "3.8.12"
    },
    "colab": {
      "name": "12주차 과제_202055364 황성윤.ipynb",
      "provenance": []
    }
  },
  "nbformat": 4,
  "nbformat_minor": 5
}