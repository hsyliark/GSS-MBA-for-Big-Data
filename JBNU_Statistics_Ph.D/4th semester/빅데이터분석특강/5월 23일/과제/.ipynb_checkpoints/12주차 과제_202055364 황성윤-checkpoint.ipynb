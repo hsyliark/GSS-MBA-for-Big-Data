{
 "cells": [
  {
   "cell_type": "markdown",
   "id": "03b279dc",
   "metadata": {},
   "source": [
    "`-` 아래의 네트워크에서 옵티마이저를 adam, sgd를 선택하여 각각 적합시켜보고 testset의 loss를 성능비교를 하라. epoch은 5정도로 설정하라. \n",
    "```\n",
    "net = tf.keras.Sequential()\n",
    "net.add(tf.keras.layers.Flatten())\n",
    "net.add(tf.keras.layers.Dense(50,activation='relu'))\n",
    "net.add(tf.keras.layers.Dense(50,activation='relu'))\n",
    "net.add(tf.keras.layers.Dense(10,activation='softmax'))\n",
    "net.compile(optimizer=???,loss=tf.losses.categorical_crossentropy,metrics=['accuracy','Recall'])\n",
    "```"
   ]
  },
  {
   "cell_type": "code",
   "execution_count": 1,
   "id": "c5e9261a",
   "metadata": {},
   "outputs": [],
   "source": [
    "import tensorflow as tf\n",
    "import tensorflow.experimental.numpy as tnp"
   ]
  },
  {
   "cell_type": "code",
   "execution_count": 2,
   "id": "09b8ad67",
   "metadata": {},
   "outputs": [],
   "source": [
    "tnp.experimental_enable_numpy_behavior()"
   ]
  },
  {
   "cell_type": "code",
   "execution_count": 3,
   "id": "01beacd1",
   "metadata": {},
   "outputs": [],
   "source": [
    "import matplotlib.pyplot as plt\n",
    "import numpy as np"
   ]
  },
  {
   "cell_type": "markdown",
   "id": "289dedc9",
   "metadata": {},
   "source": [
    "데이터는 MNIST data를 선택하도록 한다."
   ]
  },
  {
   "cell_type": "code",
   "execution_count": 4,
   "id": "3b1aa9a7",
   "metadata": {},
   "outputs": [],
   "source": [
    "(x_train, y_train), (x_test, y_test) = tf.keras.datasets.fashion_mnist.load_data()"
   ]
  },
  {
   "cell_type": "code",
   "execution_count": 5,
   "id": "9c21ba19",
   "metadata": {},
   "outputs": [],
   "source": [
    "X= x_train.reshape(-1,28,28,1)/255 \n",
    "y = tf.keras.utils.to_categorical(y_train)\n",
    "XX = x_test.reshape(-1,28,28,1)/255\n",
    "yy = tf.keras.utils.to_categorical(y_test)"
   ]
  },
  {
   "cell_type": "code",
   "execution_count": 6,
   "id": "b9495f94",
   "metadata": {},
   "outputs": [],
   "source": [
    "from tensorboard.plugins.hparams import api as hp"
   ]
  },
  {
   "cell_type": "code",
   "execution_count": 7,
   "id": "a24c052c",
   "metadata": {},
   "outputs": [
    {
     "name": "stdout",
     "output_type": "stream",
     "text": [
      "Epoch 1/5\n",
      "1875/1875 [==============================] - 3s 1ms/step - loss: 0.5172 - accuracy: 0.8170 - recall: 0.7577\n",
      "Epoch 2/5\n",
      "1875/1875 [==============================] - 3s 1ms/step - loss: 0.3846 - accuracy: 0.8602 - recall: 0.8311\n",
      "Epoch 3/5\n",
      "1875/1875 [==============================] - 3s 1ms/step - loss: 0.3482 - accuracy: 0.8724 - recall: 0.8490\n",
      "Epoch 4/5\n",
      "1875/1875 [==============================] - 3s 1ms/step - loss: 0.3286 - accuracy: 0.8798 - recall: 0.8575\n",
      "Epoch 5/5\n",
      "1875/1875 [==============================] - 3s 1ms/step - loss: 0.3103 - accuracy: 0.8863 - recall: 0.8654\n",
      "313/313 [==============================] - 1s 1ms/step - loss: 0.3700 - accuracy: 0.8662 - recall: 0.8481\n",
      "Epoch 1/5\n",
      "1875/1875 [==============================] - 3s 1ms/step - loss: 0.7602 - accuracy: 0.7490 - recall: 0.6008\n",
      "Epoch 2/5\n",
      "1875/1875 [==============================] - 2s 1ms/step - loss: 0.5113 - accuracy: 0.8206 - recall: 0.7678\n",
      "Epoch 3/5\n",
      "1875/1875 [==============================] - 2s 1ms/step - loss: 0.4666 - accuracy: 0.8351 - recall: 0.7930\n",
      "Epoch 4/5\n",
      "1875/1875 [==============================] - 2s 1ms/step - loss: 0.4407 - accuracy: 0.8457 - recall: 0.8059\n",
      "Epoch 5/5\n",
      "1875/1875 [==============================] - 3s 2ms/step - loss: 0.4205 - accuracy: 0.8526 - recall: 0.8172\n",
      "313/313 [==============================] - 1s 2ms/step - loss: 0.4428 - accuracy: 0.8441 - recall: 0.8053\n"
     ]
    }
   ],
   "source": [
    "for o in ['adam','sgd']:\n",
    "    logdir = 'logs/hphsy_{}'.format(o)\n",
    "    with tf.summary.create_file_writer(logdir).as_default():\n",
    "        net = tf.keras.Sequential()\n",
    "        net.add(tf.keras.layers.Flatten())\n",
    "        net.add(tf.keras.layers.Dense(50,activation='relu'))\n",
    "        net.add(tf.keras.layers.Dense(50,activation='relu'))\n",
    "        net.add(tf.keras.layers.Dense(10,activation='softmax'))\n",
    "        net.compile(optimizer=o,loss=tf.losses.categorical_crossentropy,metrics=['accuracy','Recall'])\n",
    "        cb3 = hp.KerasCallback(logdir, {'optimizer':o})\n",
    "        net.fit(X,y,epochs=5,callbacks=cb3)\n",
    "        _rslt=net.evaluate(XX,yy)[0] # loss\n",
    "        tf.summary.scalar('loss', _rslt, step=1) "
   ]
  },
  {
   "cell_type": "code",
   "execution_count": 13,
   "id": "8d3f9988",
   "metadata": {},
   "outputs": [
    {
     "name": "stdout",
     "output_type": "stream",
     "text": [
      "The tensorboard extension is already loaded. To reload it, use:\n",
      "  %reload_ext tensorboard\n"
     ]
    }
   ],
   "source": [
    "%load_ext tensorboard"
   ]
  },
  {
   "cell_type": "code",
   "execution_count": 16,
   "id": "fd3385bd",
   "metadata": {},
   "outputs": [],
   "source": [
    "#%tensorboard --logdir logs --host 0.0.0.0"
   ]
  },
  {
   "cell_type": "markdown",
   "id": "7a35087d",
   "metadata": {},
   "source": [
    "`-` 결과적으로 loss의 측면에서 봤을 때 optimizer가 adam인 경우에는 loss=0.3616 이고 sgd인 경우에는 loss=0.4443 이므로 adam의 성능이 sgd보다 더 좋음을 확인할 수 있다."
   ]
  },
  {
   "cell_type": "code",
   "execution_count": null,
   "id": "f06d746f",
   "metadata": {},
   "outputs": [],
   "source": []
  }
 ],
 "metadata": {
  "kernelspec": {
   "display_name": "Python 3 (ipykernel)",
   "language": "python",
   "name": "python3"
  },
  "language_info": {
   "codemirror_mode": {
    "name": "ipython",
    "version": 3
   },
   "file_extension": ".py",
   "mimetype": "text/x-python",
   "name": "python",
   "nbconvert_exporter": "python",
   "pygments_lexer": "ipython3",
   "version": "3.8.12"
  }
 },
 "nbformat": 4,
 "nbformat_minor": 5
}
