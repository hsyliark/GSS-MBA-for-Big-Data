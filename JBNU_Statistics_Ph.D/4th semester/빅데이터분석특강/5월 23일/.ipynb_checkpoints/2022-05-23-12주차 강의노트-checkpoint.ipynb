{
 "cells": [
  {
   "cell_type": "markdown",
   "id": "ab68b31f-9790-4b22-a34a-aaab2bda66aa",
   "metadata": {
    "tags": []
   },
   "source": [
    "# (12주차) 5월23일\n",
    "\n",
    "- toc:true\n",
    "- branch: master\n",
    "- badges: true\n",
    "- comments: true\n",
    "- author: 최규빈"
   ]
  },
  {
   "cell_type": "markdown",
   "id": "bd402ae6-525e-4a12-8067-c22692830fee",
   "metadata": {
    "tags": []
   },
   "source": [
    "## 강의영상 "
   ]
  },
  {
   "cell_type": "markdown",
   "id": "01c91214-7727-4442-8c08-87f1c0f2f93f",
   "metadata": {
    "tags": []
   },
   "source": [
    "## imports"
   ]
  },
  {
   "cell_type": "code",
   "execution_count": 1,
   "id": "d4454a23-3b9d-4483-8450-cc3275c5182f",
   "metadata": {},
   "outputs": [],
   "source": [
    "import tensorflow as tf\n",
    "import tensorflow.experimental.numpy as tnp"
   ]
  },
  {
   "cell_type": "code",
   "execution_count": 2,
   "id": "abbc26d9-195d-4792-b0a8-f702baca62ae",
   "metadata": {},
   "outputs": [],
   "source": [
    "tnp.experimental_enable_numpy_behavior()"
   ]
  },
  {
   "cell_type": "code",
   "execution_count": 3,
   "id": "b5a5824a-a616-42c2-b451-d9c73642cf1f",
   "metadata": {},
   "outputs": [],
   "source": [
    "import matplotlib.pyplot as plt\n",
    "import numpy as np"
   ]
  },
  {
   "cell_type": "markdown",
   "id": "03ee0f3c-2093-41d2-b888-e5d925e6f7d8",
   "metadata": {},
   "source": [
    "## CNN"
   ]
  },
  {
   "cell_type": "markdown",
   "id": "6133c4a9-1f32-41e9-b464-1a7457c47004",
   "metadata": {},
   "source": [
    "### CONV의 역할"
   ]
  },
  {
   "cell_type": "markdown",
   "id": "05fb71a9-8f1d-4fee-97c7-c61e1ce2b386",
   "metadata": {},
   "source": [
    "`-` 데이터생성 (그냥 흑백대비 데이터)"
   ]
  },
  {
   "cell_type": "code",
   "execution_count": 4,
   "id": "993b4d50-05f8-4c18-8da5-58d2c45e3de7",
   "metadata": {},
   "outputs": [
    {
     "data": {
      "text/plain": [
       "<tf.Tensor: shape=(50, 25), dtype=float64, numpy=\n",
       "array([[10., 10., 10., ..., 10., 10., 10.],\n",
       "       [10., 10., 10., ..., 10., 10., 10.],\n",
       "       [10., 10., 10., ..., 10., 10., 10.],\n",
       "       ...,\n",
       "       [10., 10., 10., ..., 10., 10., 10.],\n",
       "       [10., 10., 10., ..., 10., 10., 10.],\n",
       "       [10., 10., 10., ..., 10., 10., 10.]])>"
      ]
     },
     "execution_count": 4,
     "metadata": {},
     "output_type": "execute_result"
    }
   ],
   "source": [
    "_X1 = tnp.ones([50,25])*10 \n",
    "_X1"
   ]
  },
  {
   "cell_type": "code",
   "execution_count": 5,
   "id": "399e901f-2871-47b6-b5ca-7d038a32af5e",
   "metadata": {},
   "outputs": [
    {
     "data": {
      "text/plain": [
       "<tf.Tensor: shape=(50, 25), dtype=float64, numpy=\n",
       "array([[0., 0., 0., ..., 0., 0., 0.],\n",
       "       [0., 0., 0., ..., 0., 0., 0.],\n",
       "       [0., 0., 0., ..., 0., 0., 0.],\n",
       "       ...,\n",
       "       [0., 0., 0., ..., 0., 0., 0.],\n",
       "       [0., 0., 0., ..., 0., 0., 0.],\n",
       "       [0., 0., 0., ..., 0., 0., 0.]])>"
      ]
     },
     "execution_count": 5,
     "metadata": {},
     "output_type": "execute_result"
    }
   ],
   "source": [
    "_X2 = tnp.zeros([50,25])*10 \n",
    "_X2"
   ]
  },
  {
   "cell_type": "code",
   "execution_count": 6,
   "id": "31c8005a-dd9e-40d2-a601-226328a641bd",
   "metadata": {},
   "outputs": [
    {
     "data": {
      "text/plain": [
       "<tf.Tensor: shape=(50, 50), dtype=float64, numpy=\n",
       "array([[10., 10., 10., ...,  0.,  0.,  0.],\n",
       "       [10., 10., 10., ...,  0.,  0.,  0.],\n",
       "       [10., 10., 10., ...,  0.,  0.,  0.],\n",
       "       ...,\n",
       "       [10., 10., 10., ...,  0.,  0.,  0.],\n",
       "       [10., 10., 10., ...,  0.,  0.,  0.],\n",
       "       [10., 10., 10., ...,  0.,  0.,  0.]])>"
      ]
     },
     "execution_count": 6,
     "metadata": {},
     "output_type": "execute_result"
    }
   ],
   "source": [
    "tf.concat([_X1,_X2],axis=1)"
   ]
  },
  {
   "cell_type": "code",
   "execution_count": 7,
   "id": "3c69e8eb",
   "metadata": {},
   "outputs": [
    {
     "data": {
      "text/plain": [
       "<matplotlib.image.AxesImage at 0x1fa87042670>"
      ]
     },
     "execution_count": 7,
     "metadata": {},
     "output_type": "execute_result"
    },
    {
     "data": {
      "image/png": "[encoded data removed]",
      "text/plain": [
       "<Figure size 432x288 with 1 Axes>"
      ]
     },
     "metadata": {
      "needs_background": "light"
     },
     "output_type": "display_data"
    }
   ],
   "source": [
    "plt.imshow(tf.concat([_X1,_X2],axis=1),cmap='gray')"
   ]
  },
  {
   "cell_type": "code",
   "execution_count": 8,
   "id": "74fe449c-3d77-4003-8bfd-96fa4c7539b3",
   "metadata": {},
   "outputs": [
    {
     "data": {
      "text/plain": [
       "<tf.Tensor: shape=(50, 50), dtype=float64, numpy=\n",
       "array([[ 0.51730525,  0.07694988,  1.22677364, ..., -0.31046167,\n",
       "         1.52519016,  2.27221739],\n",
       "       [ 1.66494253, -0.51561899,  0.03858895, ..., -2.11178982,\n",
       "        -1.51802433,  1.15911791],\n",
       "       [-1.20170706,  1.48813301, -0.12927152, ..., -1.41367403,\n",
       "        -0.19413063,  0.10694384],\n",
       "       ...,\n",
       "       [ 0.0093801 ,  0.80184024,  1.72899325, ...,  0.07247761,\n",
       "        -0.07355591,  0.532233  ],\n",
       "       [-0.07385945,  1.5448932 ,  0.77195279, ...,  0.48587956,\n",
       "         1.82283981,  0.70085066],\n",
       "       [ 0.7141636 , -1.44513812, -0.36517888, ...,  0.69253249,\n",
       "         2.3050572 , -1.91363495]])>"
      ]
     },
     "execution_count": 8,
     "metadata": {},
     "output_type": "execute_result"
    }
   ],
   "source": [
    "_noise = tnp.random.randn(50*50).reshape(50,50)\n",
    "_noise"
   ]
  },
  {
   "cell_type": "code",
   "execution_count": 9,
   "id": "2f660a0e-aebe-446b-b791-31de84c7f299",
   "metadata": {},
   "outputs": [],
   "source": [
    "XXX = tf.concat([_X1,_X2],axis=1) + _noise"
   ]
  },
  {
   "cell_type": "code",
   "execution_count": 10,
   "id": "2478e82a-2f71-4770-a9cf-bc0d009723e4",
   "metadata": {},
   "outputs": [],
   "source": [
    "XXX=XXX.reshape(1,50,50,1)"
   ]
  },
  {
   "cell_type": "code",
   "execution_count": 11,
   "id": "cd1ea97b-9eae-414a-b9d2-5848f0dbf376",
   "metadata": {},
   "outputs": [
    {
     "data": {
      "text/plain": [
       "<matplotlib.image.AxesImage at 0x1fa89141910>"
      ]
     },
     "execution_count": 11,
     "metadata": {},
     "output_type": "execute_result"
    },
    {
     "data": {
      "image/png": "[encoded data removed]",
      "text/plain": [
       "<Figure size 432x288 with 1 Axes>"
      ]
     },
     "metadata": {
      "needs_background": "light"
     },
     "output_type": "display_data"
    }
   ],
   "source": [
    "plt.imshow(XXX.reshape(50,50),cmap='gray')"
   ]
  },
  {
   "cell_type": "markdown",
   "id": "5e21163e-fbe4-46af-9127-ae3497c4481e",
   "metadata": {},
   "source": [
    "`-` conv layer 생성 "
   ]
  },
  {
   "cell_type": "code",
   "execution_count": 12,
   "id": "6c9f8d24-baf1-4453-89ab-c4adbc248a1a",
   "metadata": {},
   "outputs": [],
   "source": [
    "conv = tf.keras.layers.Conv2D(2,(2,2)) "
   ]
  },
  {
   "cell_type": "code",
   "execution_count": 13,
   "id": "f990dcef-883f-49d4-a1ab-25f183799c10",
   "metadata": {},
   "outputs": [
    {
     "data": {
      "text/plain": [
       "[]"
      ]
     },
     "execution_count": 13,
     "metadata": {},
     "output_type": "execute_result"
    }
   ],
   "source": [
    "conv.weights # 처음에는 가중치가 없음 "
   ]
  },
  {
   "cell_type": "code",
   "execution_count": 14,
   "id": "fb322af5-92b5-4d26-969b-ed570ecdfb0e",
   "metadata": {},
   "outputs": [
    {
     "data": {
      "text/plain": [
       "[<tf.Variable 'conv2d/kernel:0' shape=(2, 2, 1, 2) dtype=float32, numpy=\n",
       " array([[[[ 0.63039094, -0.23018837]],\n",
       " \n",
       "         [[ 0.24158895, -0.3031751 ]]],\n",
       " \n",
       " \n",
       "        [[[ 0.22453988, -0.54026055]],\n",
       " \n",
       "         [[-0.02953839, -0.42623934]]]], dtype=float32)>,\n",
       " <tf.Variable 'conv2d/bias:0' shape=(2,) dtype=float32, numpy=array([0., 0.], dtype=float32)>]"
      ]
     },
     "execution_count": 14,
     "metadata": {},
     "output_type": "execute_result"
    }
   ],
   "source": [
    "conv(XXX) # 가중치를 만들기 위해서 XXX를 conv에 한번 통과시킴\n",
    "conv.weights # 이제 가중치가 생김"
   ]
  },
  {
   "cell_type": "markdown",
   "id": "779c9db6-442d-4d58-9453-a358952d30fb",
   "metadata": {},
   "source": [
    "`-` 가중치의 값을 확인해보자. "
   ]
  },
  {
   "cell_type": "code",
   "execution_count": 15,
   "id": "2dfeaf70-6df9-4f70-b1be-491b1877605a",
   "metadata": {},
   "outputs": [
    {
     "data": {
      "text/plain": [
       "<tf.Variable 'conv2d/kernel:0' shape=(2, 2, 1, 2) dtype=float32, numpy=\n",
       "array([[[[ 0.63039094, -0.23018837]],\n",
       "\n",
       "        [[ 0.24158895, -0.3031751 ]]],\n",
       "\n",
       "\n",
       "       [[[ 0.22453988, -0.54026055]],\n",
       "\n",
       "        [[-0.02953839, -0.42623934]]]], dtype=float32)>"
      ]
     },
     "execution_count": 15,
     "metadata": {},
     "output_type": "execute_result"
    }
   ],
   "source": [
    "conv.weights[0] # kernel에 해당하는것 "
   ]
  },
  {
   "cell_type": "code",
   "execution_count": 16,
   "id": "2b4667f0-bc0a-4bcf-8027-7c73beb80dd3",
   "metadata": {},
   "outputs": [
    {
     "data": {
      "text/plain": [
       "<tf.Variable 'conv2d/bias:0' shape=(2,) dtype=float32, numpy=array([0., 0.], dtype=float32)>"
      ]
     },
     "execution_count": 16,
     "metadata": {},
     "output_type": "execute_result"
    }
   ],
   "source": [
    "conv.weights[1] # bias에 해당하는것 "
   ]
  },
  {
   "cell_type": "markdown",
   "id": "8607b3db-5f60-428c-a604-fda7ed5e51eb",
   "metadata": {},
   "source": [
    "`-` 필터값을 원하는 것으로 변경해보자. "
   ]
  },
  {
   "cell_type": "code",
   "execution_count": 17,
   "id": "08ee8240-b49c-46db-8beb-dfc5411f78ba",
   "metadata": {},
   "outputs": [],
   "source": [
    "w0 = [[0.25,0.25],[0.25,0.25]] # 잡티를 제거하는 효과를 준다. \n",
    "w1 = [[-1.0,1.0],[-1.0,1.0]] # 경계를 찾기 좋아보이는 필터이다. (엣지검출)"
   ]
  },
  {
   "cell_type": "code",
   "execution_count": 18,
   "id": "c7e8586b-e922-45ab-8c0e-f6618c106625",
   "metadata": {},
   "outputs": [
    {
     "data": {
      "text/plain": [
       "array([[[[ 0.25, -1.  ]],\n",
       "\n",
       "        [[ 0.25,  1.  ]]],\n",
       "\n",
       "\n",
       "       [[[ 0.25, -1.  ]],\n",
       "\n",
       "        [[ 0.25,  1.  ]]]])"
      ]
     },
     "execution_count": 18,
     "metadata": {},
     "output_type": "execute_result"
    }
   ],
   "source": [
    "w=np.concatenate([np.array(w0).reshape(2,2,1,1),np.array(w1).reshape(2,2,1,1)],axis=-1)\n",
    "w"
   ]
  },
  {
   "cell_type": "code",
   "execution_count": 19,
   "id": "56124e71-a752-4a3e-9281-3ebfc8be94e8",
   "metadata": {},
   "outputs": [
    {
     "data": {
      "text/plain": [
       "array([0., 0.])"
      ]
     },
     "execution_count": 19,
     "metadata": {},
     "output_type": "execute_result"
    }
   ],
   "source": [
    "b= np.array([0.0,0.0])\n",
    "b"
   ]
  },
  {
   "cell_type": "code",
   "execution_count": 20,
   "id": "7facc917-3ffb-4a36-a87f-cd62ed23aa6d",
   "metadata": {},
   "outputs": [
    {
     "data": {
      "text/plain": [
       "[array([[[[ 0.25, -1.  ]],\n",
       " \n",
       "         [[ 0.25,  1.  ]]],\n",
       " \n",
       " \n",
       "        [[[ 0.25, -1.  ]],\n",
       " \n",
       "         [[ 0.25,  1.  ]]]], dtype=float32),\n",
       " array([0., 0.], dtype=float32)]"
      ]
     },
     "execution_count": 20,
     "metadata": {},
     "output_type": "execute_result"
    }
   ],
   "source": [
    "conv.set_weights([w,b])\n",
    "conv.get_weights()"
   ]
  },
  {
   "cell_type": "markdown",
   "id": "e58ece36-91db-4967-8865-ce19b416cc28",
   "metadata": {},
   "source": [
    "- 첫번째는 평균을 구하는 필터, \n",
    "- 두번째는 엣지를 검출하는 필터 "
   ]
  },
  {
   "cell_type": "markdown",
   "id": "64a61c29-96b0-4b07-a54b-1221ddd9f28b",
   "metadata": {},
   "source": [
    "`-` 필터를 넣은 결과를 확인 "
   ]
  },
  {
   "cell_type": "code",
   "execution_count": 24,
   "id": "c6b1b6d7-c6a8-4b4b-9462-e4c1db692349",
   "metadata": {},
   "outputs": [
    {
     "data": {
      "text/plain": [
       "<tf.Tensor: shape=(1, 49, 49), dtype=float32, numpy=\n",
       "array([[[10.435894  , 10.206673  , 10.3875065 , ..., -1.0153903 ,\n",
       "         -0.60377145,  0.85962534],\n",
       "        [10.358938  , 10.220458  ,  9.437379  , ..., -0.54041296,\n",
       "         -1.3094046 , -0.1115233 ],\n",
       "        [10.3781395 , 10.316186  ,  9.284994  , ...,  0.01864368,\n",
       "         -1.1530788 , -0.8045907 ],\n",
       "        ...,\n",
       "        [10.110199  , 10.528177  ,  9.78008   , ..., -0.11356027,\n",
       "          0.07000414,  0.45334703],\n",
       "        [10.570563  , 11.21192   , 10.208612  , ...,  0.27052575,\n",
       "          0.57691026,  0.7455919 ],\n",
       "        [10.185015  , 10.126632  ,  9.846611  , ...,  0.92353654,\n",
       "          1.3265773 ,  0.72877824]]], dtype=float32)>"
      ]
     },
     "execution_count": 24,
     "metadata": {},
     "output_type": "execute_result"
    }
   ],
   "source": [
    "XXX0=conv(XXX)[...,0] # 채널0\n",
    "XXX0"
   ]
  },
  {
   "cell_type": "code",
   "execution_count": 25,
   "id": "aff8cb87-6c85-4c62-b295-77e6d4dc9476",
   "metadata": {},
   "outputs": [
    {
     "data": {
      "text/plain": [
       "<tf.Tensor: shape=(1, 49, 49), dtype=float32, numpy=\n",
       "array([[[-2.6209164 ,  1.704031  , -0.98069763, ..., -0.7829418 ,\n",
       "          2.4294171 ,  3.4241695 ],\n",
       "        [ 0.50927925, -1.0631981 , -2.0691185 , ..., -4.8892756 ,\n",
       "          1.8133086 ,  2.9782166 ],\n",
       "        [ 1.7393894 , -1.9872017 , -2.1375656 , ..., -5.4578457 ,\n",
       "          0.7709558 ,  0.6229967 ],\n",
       "        ...,\n",
       "        [-0.622818  ,  2.2947311 , -5.287121  , ...,  0.33346844,\n",
       "          0.40078923,  1.1325822 ],\n",
       "        [ 2.411213  ,  0.15421295, -4.1674404 , ...,  0.03461134,\n",
       "          1.1909268 , -0.5162002 ],\n",
       "        [-0.54055023,  0.30701828, -1.4271011 , ..., -1.3373219 ,\n",
       "          2.9494853 , -5.3406816 ]]], dtype=float32)>"
      ]
     },
     "execution_count": 25,
     "metadata": {},
     "output_type": "execute_result"
    }
   ],
   "source": [
    "XXX1=conv(XXX)[...,1] # 채널1\n",
    "XXX1"
   ]
  },
  {
   "cell_type": "markdown",
   "id": "e9819779-4375-41d4-b581-222d9a048921",
   "metadata": {},
   "source": [
    "`-` 각 채널을 시각화 "
   ]
  },
  {
   "cell_type": "code",
   "execution_count": 26,
   "id": "5449fb3b-d8ef-4ac0-affe-d8aa9f91d1b7",
   "metadata": {},
   "outputs": [
    {
     "data": {
      "image/png": "[encoded data removed]",
      "text/plain": [
       "<Figure size 432x288 with 4 Axes>"
      ]
     },
     "metadata": {
      "needs_background": "light"
     },
     "output_type": "display_data"
    }
   ],
   "source": [
    "fig, ((ax1,ax2),(ax3,ax4)) = plt.subplots(2,2)"
   ]
  },
  {
   "cell_type": "code",
   "execution_count": 27,
   "id": "5c758ed5-8d64-4644-8ce6-894b6a20608f",
   "metadata": {},
   "outputs": [
    {
     "data": {
      "text/plain": [
       "<matplotlib.image.AxesImage at 0x1fa89e12a90>"
      ]
     },
     "execution_count": 27,
     "metadata": {},
     "output_type": "execute_result"
    }
   ],
   "source": [
    "ax1.imshow(XXX.reshape(50,50),cmap='gray')"
   ]
  },
  {
   "cell_type": "code",
   "execution_count": 28,
   "id": "655b30d8-54f2-423f-b4e9-b6a2852ff43c",
   "metadata": {},
   "outputs": [
    {
     "data": {
      "text/plain": [
       "<matplotlib.image.AxesImage at 0x1fa89e07a00>"
      ]
     },
     "execution_count": 28,
     "metadata": {},
     "output_type": "execute_result"
    }
   ],
   "source": [
    "ax3.imshow(XXX0.reshape(49,49),cmap='gray')"
   ]
  },
  {
   "cell_type": "code",
   "execution_count": 29,
   "id": "f535fec2-a6a4-4de5-b0e0-1640f519de07",
   "metadata": {},
   "outputs": [
    {
     "data": {
      "text/plain": [
       "<matplotlib.image.AxesImage at 0x1fa89e07ca0>"
      ]
     },
     "execution_count": 29,
     "metadata": {},
     "output_type": "execute_result"
    }
   ],
   "source": [
    "ax4.imshow(XXX1.reshape(49,49),cmap='gray')"
   ]
  },
  {
   "cell_type": "code",
   "execution_count": 30,
   "id": "5570686d-0b12-4c08-b2d9-59d961b82b1d",
   "metadata": {},
   "outputs": [
    {
     "data": {
      "image/png": "[encoded data removed]",
      "text/plain": [
       "<Figure size 432x288 with 4 Axes>"
      ]
     },
     "execution_count": 30,
     "metadata": {},
     "output_type": "execute_result"
    }
   ],
   "source": [
    "fig"
   ]
  },
  {
   "cell_type": "markdown",
   "id": "fa27ea5d-167d-446b-91ed-2b6eb65f5d5b",
   "metadata": {},
   "source": [
    "- 2사분면: 원래이미지 \n",
    "- 3사분면: 원래이미지 -> 평균을 의미하는 conv적용 \n",
    "- 4사분면: 원래이미지 -> 엣지를 검출하는 conv적용"
   ]
  },
  {
   "cell_type": "markdown",
   "id": "d2e1b572-db56-4c3f-9d27-7e16a6afdeed",
   "metadata": {},
   "source": [
    "`-` conv(XXX)의 각 채널에 한번더 conv를 통과시켜보자"
   ]
  },
  {
   "cell_type": "code",
   "execution_count": 31,
   "id": "d3b5a539-e7f5-4547-a0ac-41e2dd6d1930",
   "metadata": {},
   "outputs": [
    {
     "data": {
      "text/plain": [
       "<tf.Tensor: shape=(1, 48, 48), dtype=float32, numpy=\n",
       "array([[[  2.75247   ,  -3.690649  ,   5.6150513 , ...,  -5.159498  ,\n",
       "           9.914944  ,   2.1596603 ],\n",
       "        [ -5.2990685 ,  -1.1562843 ,  12.943829  , ..., -15.929719  ,\n",
       "          12.931385  ,   1.0169492 ],\n",
       "        [ -3.7227058 ,   0.83244705,   8.7337265 , ..., -13.086485  ,\n",
       "           6.2273083 ,   2.8679993 ],\n",
       "        ...,\n",
       "        [  4.544401  , -14.93454   ,  16.779726  , ...,   6.8776507 ,\n",
       "          -1.9258891 ,   2.82421   ],\n",
       "        [  0.66054916, -11.903505  ,  18.71637   , ...,   1.6397325 ,\n",
       "           1.2236363 ,  -0.97533405],\n",
       "        [ -1.4094315 ,  -6.055773  ,  13.363379  , ...,  -5.757185  ,\n",
       "           5.443123  ,  -9.997293  ]]], dtype=float32)>"
      ]
     },
     "execution_count": 31,
     "metadata": {},
     "output_type": "execute_result"
    }
   ],
   "source": [
    "conv(XXX0.reshape(1,49,49,1))[...,0] ### XXX0 -> 평균필터 <=> XXX -> 평균필터 -> 평균필터 \n",
    "conv(XXX0.reshape(1,49,49,1))[...,1] ### XXX0 -> 엣지필터 <=> XXX -> 평균필터 -> 엣지필터 \n",
    "conv(XXX1.reshape(1,49,49,1))[...,0] ### XXX1 -> 평균필터 <=> XXX -> 엣지필터 -> 평균필터 \n",
    "conv(XXX1.reshape(1,49,49,1))[...,1] ### XXX1 -> 엣지필터 <=> XXX -> 엣지필터 -> 엣지필터 "
   ]
  },
  {
   "cell_type": "code",
   "execution_count": 32,
   "id": "3df76478-b8f3-48dd-8d6a-d0dc832686b0",
   "metadata": {},
   "outputs": [
    {
     "data": {
      "image/png": "[encoded data removed]",
      "text/plain": [
       "<Figure size 432x288 with 12 Axes>"
      ]
     },
     "metadata": {
      "needs_background": "light"
     },
     "output_type": "display_data"
    }
   ],
   "source": [
    "fig,ax =plt.subplots(3,4)"
   ]
  },
  {
   "cell_type": "code",
   "execution_count": 33,
   "id": "6b603ddc-e5b9-4187-be41-baa66c7dab9a",
   "metadata": {},
   "outputs": [
    {
     "data": {
      "text/plain": [
       "<matplotlib.image.AxesImage at 0x1fa8b0dfe20>"
      ]
     },
     "execution_count": 33,
     "metadata": {},
     "output_type": "execute_result"
    }
   ],
   "source": [
    "ax[0][0].imshow(XXX.reshape(50,50),cmap='gray') # 원래이미지"
   ]
  },
  {
   "cell_type": "code",
   "execution_count": 34,
   "id": "33bf9ee8-72d4-4ddf-8edd-7a6650fc49a3",
   "metadata": {},
   "outputs": [
    {
     "data": {
      "text/plain": [
       "<matplotlib.image.AxesImage at 0x1faedc7a4c0>"
      ]
     },
     "execution_count": 34,
     "metadata": {},
     "output_type": "execute_result"
    }
   ],
   "source": [
    "ax[1][0].imshow(XXX0.reshape(49,49),cmap='gray') # 원래이미지 -> 평균필터 \n",
    "ax[1][2].imshow(XXX1.reshape(49,49),cmap='gray') # 원래이미지 -> 엣지필터"
   ]
  },
  {
   "cell_type": "code",
   "execution_count": 35,
   "id": "f1cea099-ec15-4ee8-8904-8106e3aa635c",
   "metadata": {},
   "outputs": [
    {
     "data": {
      "text/plain": [
       "<matplotlib.image.AxesImage at 0x1fa8b0ffc10>"
      ]
     },
     "execution_count": 35,
     "metadata": {},
     "output_type": "execute_result"
    }
   ],
   "source": [
    "ax[2][0].imshow(conv(XXX0.reshape(1,49,49,1))[...,0].reshape(48,48),cmap='gray') # 원래이미지 -> 평균필터 \n",
    "ax[2][1].imshow(conv(XXX0.reshape(1,49,49,1))[...,1].reshape(48,48),cmap='gray') # 원래이미지 -> 엣지필터\n",
    "ax[2][2].imshow(conv(XXX1.reshape(1,49,49,1))[...,0].reshape(48,48),cmap='gray') # 원래이미지 -> 평균필터 \n",
    "ax[2][3].imshow(conv(XXX1.reshape(1,49,49,1))[...,1].reshape(48,48),cmap='gray') # 원래이미지 -> 엣지필터"
   ]
  },
  {
   "cell_type": "code",
   "execution_count": 36,
   "id": "e83b8c8f-27d0-437f-bb51-806d68d6923e",
   "metadata": {},
   "outputs": [
    {
     "data": {
      "image/png": "[encoded data removed]",
      "text/plain": [
       "<Figure size 1152x576 with 12 Axes>"
      ]
     },
     "execution_count": 36,
     "metadata": {},
     "output_type": "execute_result"
    }
   ],
   "source": [
    "fig.set_figheight(8)\n",
    "fig.set_figwidth(16)\n",
    "fig.tight_layout()\n",
    "fig"
   ]
  },
  {
   "cell_type": "markdown",
   "id": "f981cbca-b7e9-457b-bc2c-21e2c0068288",
   "metadata": {},
   "source": [
    "`-` 요약 \n",
    "- conv의 weight에 따라서 엣지를 검출하는 필터가 만들어지기도 하고 스무딩의 역할을 하는 필터가 만들어지기도 한다. 그리고 우리는 의미를 알 수 없지만 어떠한 역할을 하는 필터가 만들어질 것이다. \n",
    "- 이것들을 조합하다보면 우연히 이미지를 분류하기에 유리한 특징을 뽑아내는 weight가 맞춰질 수도 있겠다. \n",
    "- 채널수를 많이 만들고 다양한 웨이트조합을 실험하다보면 보다 복잡한 이미지의 특징을 추출할 수도 있을 것이다? \n",
    "- 컨볼루션 레이어의 역할 = 이미지의 특징을 추출하는 역할 "
   ]
  },
  {
   "cell_type": "markdown",
   "id": "afd9f35d-5a96-4c89-8aa5-f02b403bfff8",
   "metadata": {},
   "source": [
    "`-` 참고: 스트라이드, 패딩\n",
    "- 스트라이드: 윈도우가 1칸씩 이동하는 것이 아니라 2~3칸씩 이동함 \n",
    "- 패딩: 이미지의 가장자리에 적당한 값을 넣어서 (예를들어 0) 컨볼루션을 수행. 따라서 컨볼루션 연산 이후에도 이미지의 크기가 줄어들지 않도록 방지한다. "
   ]
  },
  {
   "cell_type": "markdown",
   "id": "e6e05b29-a69d-44fc-a7db-00bf2205c186",
   "metadata": {},
   "source": [
    "### MAXPOOL"
   ]
  },
  {
   "cell_type": "markdown",
   "id": "fe3fec66-2e0b-4c3b-a76f-87e1142a7071",
   "metadata": {},
   "source": [
    "`-` 기본적역할: 이미지의 크기를 줄이는 것 \n",
    "- 이미지의의 크기를 줄여야하는 이유? 어차피 최종적으로 10차원으로 줄어야하므로 \n",
    "- 이미지의 크기를 줄이면서도 동시에 아주 크리티컬한 특징은 손실없이 유지하고 싶다~"
   ]
  },
  {
   "cell_type": "markdown",
   "id": "3a85f72b-e94e-4052-87ad-3bd7e6e91001",
   "metadata": {},
   "source": [
    "`-` 점점 작은 이미지가 되면서 중요한 특징들은 살아남지만 그렇지 않으면 죽는다. (캐리커쳐 느낌)"
   ]
  },
  {
   "cell_type": "markdown",
   "id": "0d9da22f-b315-4ada-8fb2-231fc580d459",
   "metadata": {},
   "source": [
    "`-` 평균이 아니라 max를 쓴 이유는? 그냥 평균보다 나을것이라고 생각했음.. \n",
    "- 그런데 사실은 꼭 그렇지만은 않아서 최근에는 꼭 맥스풀링을 고집하진 않는 추세 (평균풀링도 많이씀) "
   ]
  },
  {
   "cell_type": "markdown",
   "id": "5a008e45-d696-4cce-b7b4-12b1eec333ca",
   "metadata": {},
   "source": [
    "### CNN 아키텍처의 표현방법"
   ]
  },
  {
   "cell_type": "markdown",
   "id": "98fc8c3f-6c05-4528-9ac3-31620598491d",
   "metadata": {},
   "source": [
    "`-` 아래와 같이 아키텍처의 다이어그램형태로 표현하고 굳이 노드별로 이미지를 그리진 않음"
   ]
  },
  {
   "cell_type": "markdown",
   "id": "44f67916-2529-4522-bdcb-c9c881016a49",
   "metadata": {},
   "source": [
    "![](https://upload.wikimedia.org/wikipedia/commons/thumb/c/cc/Comparison_image_neural_networks.svg/2560px-Comparison_image_neural_networks.svg.png)"
   ]
  },
  {
   "cell_type": "markdown",
   "id": "4ba5be91-17ed-4491-9783-95c70a245ded",
   "metadata": {},
   "source": [
    "`-` 물론 아래와 같이 그리는 경우도 있음"
   ]
  },
  {
   "cell_type": "markdown",
   "id": "ccddca57-68d6-4748-b0f6-dedd296aeefa",
   "metadata": {},
   "source": [
    "![](https://editor.analyticsvidhya.com/uploads/90650dnn2.jpeg)"
   ]
  },
  {
   "cell_type": "markdown",
   "id": "ea43974c-bd23-4fee-82db-3124e428fd8c",
   "metadata": {},
   "source": [
    "### Discussion about CNN "
   ]
  },
  {
   "cell_type": "markdown",
   "id": "aeab83b2-5173-4508-b099-e8a22f01e912",
   "metadata": {},
   "source": [
    "`-` 격자형태로 배열된 자료를 처리하는데 특화된 신경망이다. \n",
    "- 시계열 (1차원격자), 이미지 (2차원격자)"
   ]
  },
  {
   "cell_type": "markdown",
   "id": "623c9d2f-5cc4-4771-8b6e-bdd743bf9867",
   "metadata": {},
   "source": [
    "`-` 실제응용에서 엄청난 성공을 거두었다. "
   ]
  },
  {
   "cell_type": "markdown",
   "id": "15be8ed7-6df0-4097-a602-56e1c9c323dd",
   "metadata": {},
   "source": [
    "`-` 이름의 유래는 컨볼루션이라는 수학적 연산을 사용했기 때문 \n",
    "- 컨볼루션은 조금 특별한 선형변환이다. "
   ]
  },
  {
   "cell_type": "markdown",
   "id": "3ad57856-2954-4bfb-9f5a-4c491b7244f0",
   "metadata": {},
   "source": [
    "`-` 신경과학의 원리가 심층학습에 영향을 미친 사례이다. "
   ]
  },
  {
   "cell_type": "markdown",
   "id": "989e025a-a12c-4cd9-9ed9-48f7b869c1c5",
   "metadata": {},
   "source": [
    "### CNN의 모티브"
   ]
  },
  {
   "cell_type": "markdown",
   "id": "ac44b61f-7d8a-4429-9636-c5fa79404adc",
   "metadata": {},
   "source": [
    "`-` 희소성 + 매개변수의 공유\n",
    "- 다소 철학적인 모티브임 \n",
    "- 희소성: 이미지를 분석하여 특징을 뽑아낼때 부분부분의 특징만 뽑으면 된다는 의미 \n",
    "- 매개변수의 공유: 한 채널에는 하나의 역할을 하는 커널을 설계하면 된다는 의미 (스무딩이든 엣징이든). 즉 어떤지역은 스무딩, 어떤지역은 엣징을 할 필요가 없이 한채널에서는 엣징만, 다른채널에서는 스무딩만 수행한뒤 여러채널을 조합해서 이해하면 된다. "
   ]
  },
  {
   "cell_type": "markdown",
   "id": "725d766b-bbd8-4f19-9649-621d3addcacf",
   "metadata": {},
   "source": [
    "`-` 매개변수 공유효과로 인해서 파라메터가 확 줄어든다. "
   ]
  },
  {
   "cell_type": "markdown",
   "id": "f2db8e5a-7da7-4266-8e09-3a947894da30",
   "metadata": {},
   "source": [
    "(예시) (1,6,6,1) -> (1,5,5,2) \n",
    "- MLP방식이면 (36,50) 의 차원을 가진 매트릭스가 필요함 => 1800개의 매개변수 필요\n",
    "- CNN은 8개의 매개변수 필요"
   ]
  },
  {
   "cell_type": "markdown",
   "id": "2ccb7248-21d1-40f3-8d4b-af5f2de5ac15",
   "metadata": {},
   "source": [
    "### CNN 신경망의 기본구조 "
   ]
  },
  {
   "cell_type": "markdown",
   "id": "75710961-c900-4e87-970f-506d822fe9c7",
   "metadata": {},
   "source": [
    "`-` 기본유닛 \n",
    "- conv - activation - pooling\n",
    "- conv - conv - activation - pooling"
   ]
  },
  {
   "cell_type": "markdown",
   "id": "66d3fc11-3adf-4656-bd9b-dfe10e7660d9",
   "metadata": {},
   "source": [
    "## 모형의 성능을 올리기 위한 노력들 "
   ]
  },
  {
   "cell_type": "markdown",
   "id": "8cb9cb78-0704-46e5-b30e-879962d42fc7",
   "metadata": {},
   "source": [
    "### dropout "
   ]
  },
  {
   "cell_type": "markdown",
   "id": "517f0bb9-641d-4fda-82b0-1be442dd0f33",
   "metadata": {},
   "source": [
    "`-` 아래의 예제를 복습하자. "
   ]
  },
  {
   "cell_type": "code",
   "execution_count": 37,
   "id": "96f57243-d853-42d5-8d3f-9e5e32848819",
   "metadata": {},
   "outputs": [
    {
     "data": {
      "text/plain": [
       "[<matplotlib.lines.Line2D at 0x1fa8b134730>]"
      ]
     },
     "execution_count": 37,
     "metadata": {},
     "output_type": "execute_result"
    },
    {
     "data": {
      "image/png": "[encoded data removed]",
      "text/plain": [
       "<Figure size 432x288 with 1 Axes>"
      ]
     },
     "metadata": {
      "needs_background": "light"
     },
     "output_type": "display_data"
    }
   ],
   "source": [
    "np.random.seed(43052)\n",
    "x = np.linspace(0,1,100).reshape(100,1)\n",
    "y = np.random.normal(loc=0,scale=0.01,size=(100,1))\n",
    "plt.plot(x,y)"
   ]
  },
  {
   "cell_type": "code",
   "execution_count": 38,
   "id": "5cb694ab-eedf-4783-911c-3acb8ec88ceb",
   "metadata": {},
   "outputs": [
    {
     "data": {
      "text/plain": [
       "<keras.callbacks.History at 0x1fa8b208af0>"
      ]
     },
     "execution_count": 38,
     "metadata": {},
     "output_type": "execute_result"
    }
   ],
   "source": [
    "tf.random.set_seed(43052)\n",
    "net = tf.keras.Sequential()\n",
    "net.add(tf.keras.layers.Dense(2048,activation='relu'))\n",
    "net.add(tf.keras.layers.Dense(1))\n",
    "net.compile(loss='mse',optimizer='adam')\n",
    "net.fit(x,y,epochs=5000,verbose=0,batch_size=100)"
   ]
  },
  {
   "cell_type": "code",
   "execution_count": 39,
   "id": "68f7b197-9436-406c-91d5-9e78f800bd42",
   "metadata": {},
   "outputs": [
    {
     "data": {
      "text/plain": [
       "[<matplotlib.lines.Line2D at 0x1fa8c7d9e20>]"
      ]
     },
     "execution_count": 39,
     "metadata": {},
     "output_type": "execute_result"
    },
    {
     "data": {
      "image/png": "[encoded data removed]",
      "text/plain": [
       "<Figure size 432x288 with 1 Axes>"
      ]
     },
     "metadata": {
      "needs_background": "light"
     },
     "output_type": "display_data"
    }
   ],
   "source": [
    "plt.plot(x,y)\n",
    "plt.plot(x,net(x),'--')"
   ]
  },
  {
   "cell_type": "markdown",
   "id": "b909d6cc-bd6b-45c1-b89c-29944f35e829",
   "metadata": {},
   "source": [
    "`-` train/test로 나누어서 생각해보자."
   ]
  },
  {
   "cell_type": "code",
   "execution_count": 40,
   "id": "dd22f960-72b9-4b05-ad5b-94216e386cb4",
   "metadata": {},
   "outputs": [
    {
     "data": {
      "text/plain": [
       "<keras.callbacks.History at 0x1fa8c819910>"
      ]
     },
     "execution_count": 40,
     "metadata": {},
     "output_type": "execute_result"
    }
   ],
   "source": [
    "tf.random.set_seed(43052)\n",
    "net = tf.keras.Sequential()\n",
    "net.add(tf.keras.layers.Dense(2048,activation='relu'))\n",
    "net.add(tf.keras.layers.Dense(1))\n",
    "net.compile(loss='mse',optimizer='adam')\n",
    "net.fit(x[:80],y[:80],epochs=5000,verbose=0,batch_size=80)"
   ]
  },
  {
   "cell_type": "code",
   "execution_count": 41,
   "id": "a0eae141-9479-4a37-aa53-4b447e291c4f",
   "metadata": {},
   "outputs": [
    {
     "data": {
      "text/plain": [
       "[<matplotlib.lines.Line2D at 0x1fa8c9358b0>]"
      ]
     },
     "execution_count": 41,
     "metadata": {},
     "output_type": "execute_result"
    },
    {
     "data": {
      "image/png": "[encoded data removed]",
      "text/plain": [
       "<Figure size 432x288 with 1 Axes>"
      ]
     },
     "metadata": {
      "needs_background": "light"
     },
     "output_type": "display_data"
    }
   ],
   "source": [
    "plt.plot(x,y)\n",
    "plt.plot(x[:80],net(x[:80]),'--')"
   ]
  },
  {
   "cell_type": "code",
   "execution_count": 42,
   "id": "9a3cf108-77fe-4de2-a546-cd10af72c026",
   "metadata": {},
   "outputs": [
    {
     "data": {
      "text/plain": [
       "[<matplotlib.lines.Line2D at 0x1fa8c98dfa0>]"
      ]
     },
     "execution_count": 42,
     "metadata": {},
     "output_type": "execute_result"
    },
    {
     "data": {
      "image/png": "[encoded data removed]",
      "text/plain": [
       "<Figure size 432x288 with 1 Axes>"
      ]
     },
     "metadata": {
      "needs_background": "light"
     },
     "output_type": "display_data"
    }
   ],
   "source": [
    "plt.plot(x,y)\n",
    "plt.plot(x[:80],net(x[:80]),'--') # train\n",
    "plt.plot(x[80:],net(x[80:]),'--') # test"
   ]
  },
  {
   "cell_type": "markdown",
   "id": "0cb1bf97-0176-439c-80aa-1d524848435f",
   "metadata": {},
   "source": [
    "- train에서 추세를 따라가는게 좋은게 아니다 $\\to$ 그냥 직선으로 핏하는거 이외에는 다 오버핏이다. "
   ]
  },
  {
   "cell_type": "markdown",
   "id": "bd6e25e1-1e54-4086-b618-fe7465c0cd12",
   "metadata": {},
   "source": [
    "`-` 매 에폭마다 적당히 80%의 노드들을 빼고 학습하자 $\\to$ 너무 잘 학습되는 문제는 생기지 않을 것이다 (과적합이 방지될것이다?)"
   ]
  },
  {
   "cell_type": "code",
   "execution_count": 43,
   "id": "a41f9a62-8b22-44d1-bff0-be04dfc5f0c3",
   "metadata": {},
   "outputs": [
    {
     "data": {
      "text/plain": [
       "<keras.callbacks.History at 0x1fa8c9d03a0>"
      ]
     },
     "execution_count": 43,
     "metadata": {},
     "output_type": "execute_result"
    }
   ],
   "source": [
    "tf.random.set_seed(43052)\n",
    "net = tf.keras.Sequential()\n",
    "net.add(tf.keras.layers.Dense(2048,activation='relu'))\n",
    "net.add(tf.keras.layers.Dropout(0.8)) # dropout\n",
    "net.add(tf.keras.layers.Dense(1))\n",
    "net.compile(loss='mse',optimizer='adam')\n",
    "net.fit(x[:80],y[:80],epochs=5000,verbose=0,batch_size=80)"
   ]
  },
  {
   "cell_type": "code",
   "execution_count": 45,
   "id": "029c0c55-ce78-4c78-a9ba-8070b2f5815b",
   "metadata": {},
   "outputs": [
    {
     "data": {
      "text/plain": [
       "[<matplotlib.lines.Line2D at 0x1fa8db10430>]"
      ]
     },
     "execution_count": 45,
     "metadata": {},
     "output_type": "execute_result"
    },
    {
     "data": {
      "image/png": "[encoded data removed]",
      "text/plain": [
       "<Figure size 432x288 with 1 Axes>"
      ]
     },
     "metadata": {
      "needs_background": "light"
     },
     "output_type": "display_data"
    }
   ],
   "source": [
    "plt.plot(x,y)\n",
    "plt.plot(x[:80],net(x[:80]),'--') # train\n",
    "plt.plot(x[80:],net(x[80:]),'--') # test"
   ]
  },
  {
   "cell_type": "markdown",
   "id": "d53bfa89-8b05-49c6-97e5-d4049ba905cc",
   "metadata": {},
   "source": [
    "`-` 드랍아웃에 대한 summary\n",
    "- 직관: 특정노드를 랜덤으로 off시키면 학습이 방해되어 오히려 과적합이 방지되는 효과가 있다 (그렇지만 진짜 중요한 특징이라면 랜덤으로 off 되더라도 어느정도는 학습될 듯)\n",
    "- note: 드랍아웃을 쓰면 오버핏이 줄어드는건 맞지만 완전히 없어지는건 아니다. \n",
    "- note: 오버핏을 줄이는 유일한 방법이 드랍아웃만 있는것도 아니며, 드랍아웃이 오버핏을 줄이는 가장 효과적인 방법도 아니다 (최근에는 dropout보다 batch nomalization을 사용하는 추세임)"
   ]
  },
  {
   "cell_type": "markdown",
   "id": "9de29c6b-ad9d-427a-8ed3-c81d5e9dda98",
   "metadata": {},
   "source": [
    "### train / val / test "
   ]
  },
  {
   "cell_type": "markdown",
   "id": "774e8f74-0a2a-4fa1-839a-78e23c1e41f0",
   "metadata": {},
   "source": [
    "`-` data"
   ]
  },
  {
   "cell_type": "code",
   "execution_count": 59,
   "id": "4ce7121f-6bb7-4b1d-bb39-f6249ba3cca2",
   "metadata": {},
   "outputs": [],
   "source": [
    "(x_train, y_train), (x_test, y_test) = tf.keras.datasets.fashion_mnist.load_data()"
   ]
  },
  {
   "cell_type": "code",
   "execution_count": 60,
   "id": "8b5bf325-8eb1-4e9a-8da7-0d0d40ff439d",
   "metadata": {},
   "outputs": [],
   "source": [
    "X= x_train.reshape(-1,28,28,1)/255 ## 입력이 0~255 -> 0~1로 표준화 시키는 효과 + float으로 자료형이 바뀜 \n",
    "y = tf.keras.utils.to_categorical(y_train)\n",
    "XX = x_test.reshape(-1,28,28,1)/255\n",
    "yy = tf.keras.utils.to_categorical(y_test)"
   ]
  },
  {
   "cell_type": "code",
   "execution_count": 61,
   "id": "c84c1fc4-1570-4ca8-b655-eb48c14bf50c",
   "metadata": {},
   "outputs": [],
   "source": [
    "net = tf.keras.Sequential()\n",
    "net.add(tf.keras.layers.Flatten())\n",
    "net.add(tf.keras.layers.Dense(50,activation='relu'))\n",
    "net.add(tf.keras.layers.Dense(10,activation='softmax'))\n",
    "net.compile(optimizer='adam',loss=tf.losses.categorical_crossentropy,metrics='accuracy')"
   ]
  },
  {
   "cell_type": "code",
   "execution_count": 62,
   "id": "92ef5c24-396c-4617-b055-03f78f0d88e6",
   "metadata": {
    "scrolled": true,
    "tags": []
   },
   "outputs": [
    {
     "name": "stdout",
     "output_type": "stream",
     "text": [
      "Epoch 1/200\n",
      "240/240 [==============================] - 1s 3ms/step - loss: 0.6883 - accuracy: 0.7685 - val_loss: 0.4987 - val_accuracy: 0.8293\n",
      "Epoch 2/200\n",
      "240/240 [==============================] - 1s 2ms/step - loss: 0.4671 - accuracy: 0.8406 - val_loss: 0.4665 - val_accuracy: 0.8369\n",
      "Epoch 3/200\n",
      "240/240 [==============================] - 1s 2ms/step - loss: 0.4264 - accuracy: 0.8512 - val_loss: 0.4330 - val_accuracy: 0.8493\n",
      "Epoch 4/200\n",
      "240/240 [==============================] - 1s 2ms/step - loss: 0.4031 - accuracy: 0.8589 - val_loss: 0.4025 - val_accuracy: 0.8577\n",
      "Epoch 5/200\n",
      "240/240 [==============================] - 1s 2ms/step - loss: 0.3812 - accuracy: 0.8671 - val_loss: 0.3955 - val_accuracy: 0.8612\n",
      "Epoch 6/200\n",
      "240/240 [==============================] - 1s 2ms/step - loss: 0.3661 - accuracy: 0.8715 - val_loss: 0.3865 - val_accuracy: 0.8626\n",
      "Epoch 7/200\n",
      "240/240 [==============================] - 1s 2ms/step - loss: 0.3509 - accuracy: 0.8775 - val_loss: 0.3883 - val_accuracy: 0.8623\n",
      "Epoch 8/200\n",
      "240/240 [==============================] - 1s 2ms/step - loss: 0.3406 - accuracy: 0.8797 - val_loss: 0.3671 - val_accuracy: 0.8687\n",
      "Epoch 9/200\n",
      "240/240 [==============================] - 1s 2ms/step - loss: 0.3301 - accuracy: 0.8837 - val_loss: 0.3596 - val_accuracy: 0.8720\n",
      "Epoch 10/200\n",
      "240/240 [==============================] - 1s 2ms/step - loss: 0.3191 - accuracy: 0.8864 - val_loss: 0.3506 - val_accuracy: 0.8771\n",
      "Epoch 11/200\n",
      "240/240 [==============================] - 1s 2ms/step - loss: 0.3116 - accuracy: 0.8895 - val_loss: 0.3526 - val_accuracy: 0.8754\n",
      "Epoch 12/200\n",
      "240/240 [==============================] - 1s 2ms/step - loss: 0.3031 - accuracy: 0.8914 - val_loss: 0.3489 - val_accuracy: 0.8746\n",
      "Epoch 13/200\n",
      "240/240 [==============================] - 1s 2ms/step - loss: 0.2969 - accuracy: 0.8937 - val_loss: 0.3477 - val_accuracy: 0.8782\n",
      "Epoch 14/200\n",
      "240/240 [==============================] - 1s 2ms/step - loss: 0.2911 - accuracy: 0.8945 - val_loss: 0.3493 - val_accuracy: 0.8732\n",
      "Epoch 15/200\n",
      "240/240 [==============================] - 1s 2ms/step - loss: 0.2865 - accuracy: 0.8975 - val_loss: 0.3436 - val_accuracy: 0.8799\n",
      "Epoch 16/200\n",
      "240/240 [==============================] - 1s 2ms/step - loss: 0.2839 - accuracy: 0.8990 - val_loss: 0.3626 - val_accuracy: 0.8694\n",
      "Epoch 17/200\n",
      "240/240 [==============================] - 1s 2ms/step - loss: 0.2797 - accuracy: 0.8994 - val_loss: 0.3359 - val_accuracy: 0.8809\n",
      "Epoch 18/200\n",
      "240/240 [==============================] - 1s 2ms/step - loss: 0.2723 - accuracy: 0.9009 - val_loss: 0.3452 - val_accuracy: 0.8795\n",
      "Epoch 19/200\n",
      "240/240 [==============================] - 1s 2ms/step - loss: 0.2691 - accuracy: 0.9027 - val_loss: 0.3418 - val_accuracy: 0.8809\n",
      "Epoch 20/200\n",
      "240/240 [==============================] - 1s 2ms/step - loss: 0.2633 - accuracy: 0.9050 - val_loss: 0.3373 - val_accuracy: 0.8794\n",
      "Epoch 21/200\n",
      "240/240 [==============================] - 1s 2ms/step - loss: 0.2597 - accuracy: 0.9058 - val_loss: 0.3331 - val_accuracy: 0.8798\n",
      "Epoch 22/200\n",
      "240/240 [==============================] - 1s 3ms/step - loss: 0.2548 - accuracy: 0.9084 - val_loss: 0.3343 - val_accuracy: 0.8819\n",
      "Epoch 23/200\n",
      "240/240 [==============================] - 1s 3ms/step - loss: 0.2530 - accuracy: 0.9090 - val_loss: 0.3380 - val_accuracy: 0.8809\n",
      "Epoch 24/200\n",
      "240/240 [==============================] - 1s 4ms/step - loss: 0.2477 - accuracy: 0.9110 - val_loss: 0.3382 - val_accuracy: 0.8826\n",
      "Epoch 25/200\n",
      "240/240 [==============================] - 1s 4ms/step - loss: 0.2444 - accuracy: 0.9121 - val_loss: 0.3356 - val_accuracy: 0.8821\n",
      "Epoch 26/200\n",
      "240/240 [==============================] - 1s 4ms/step - loss: 0.2434 - accuracy: 0.9127 - val_loss: 0.3347 - val_accuracy: 0.8843\n",
      "Epoch 27/200\n",
      "240/240 [==============================] - 1s 4ms/step - loss: 0.2391 - accuracy: 0.9137 - val_loss: 0.3359 - val_accuracy: 0.8817\n",
      "Epoch 28/200\n",
      "240/240 [==============================] - 1s 4ms/step - loss: 0.2345 - accuracy: 0.9159 - val_loss: 0.3335 - val_accuracy: 0.8859\n",
      "Epoch 29/200\n",
      "240/240 [==============================] - 1s 4ms/step - loss: 0.2333 - accuracy: 0.9158 - val_loss: 0.3462 - val_accuracy: 0.8809\n",
      "Epoch 30/200\n",
      "240/240 [==============================] - 1s 4ms/step - loss: 0.2312 - accuracy: 0.9164 - val_loss: 0.3310 - val_accuracy: 0.8864\n",
      "Epoch 31/200\n",
      "240/240 [==============================] - 1s 4ms/step - loss: 0.2286 - accuracy: 0.9173 - val_loss: 0.3372 - val_accuracy: 0.8812\n",
      "Epoch 32/200\n",
      "240/240 [==============================] - 1s 4ms/step - loss: 0.2282 - accuracy: 0.9180 - val_loss: 0.3349 - val_accuracy: 0.8841\n",
      "Epoch 33/200\n",
      "240/240 [==============================] - 1s 4ms/step - loss: 0.2247 - accuracy: 0.9186 - val_loss: 0.3402 - val_accuracy: 0.8846\n",
      "Epoch 34/200\n",
      "240/240 [==============================] - 1s 4ms/step - loss: 0.2206 - accuracy: 0.9217 - val_loss: 0.3535 - val_accuracy: 0.8798\n",
      "Epoch 35/200\n",
      "240/240 [==============================] - 1s 4ms/step - loss: 0.2187 - accuracy: 0.9205 - val_loss: 0.3411 - val_accuracy: 0.8834\n",
      "Epoch 36/200\n",
      "240/240 [==============================] - 1s 4ms/step - loss: 0.2161 - accuracy: 0.9222 - val_loss: 0.3418 - val_accuracy: 0.8851\n",
      "Epoch 37/200\n",
      "240/240 [==============================] - 1s 3ms/step - loss: 0.2183 - accuracy: 0.9222 - val_loss: 0.3493 - val_accuracy: 0.8802\n",
      "Epoch 38/200\n",
      "240/240 [==============================] - 1s 3ms/step - loss: 0.2149 - accuracy: 0.9224 - val_loss: 0.3405 - val_accuracy: 0.8851\n",
      "Epoch 39/200\n",
      "240/240 [==============================] - 1s 3ms/step - loss: 0.2105 - accuracy: 0.9244 - val_loss: 0.3405 - val_accuracy: 0.8848\n",
      "Epoch 40/200\n",
      "240/240 [==============================] - 1s 3ms/step - loss: 0.2068 - accuracy: 0.9255 - val_loss: 0.3380 - val_accuracy: 0.8860\n",
      "Epoch 41/200\n",
      "240/240 [==============================] - 1s 3ms/step - loss: 0.2038 - accuracy: 0.9269 - val_loss: 0.3476 - val_accuracy: 0.8819\n",
      "Epoch 42/200\n",
      "240/240 [==============================] - 1s 3ms/step - loss: 0.2070 - accuracy: 0.9259 - val_loss: 0.3459 - val_accuracy: 0.8826\n",
      "Epoch 43/200\n",
      "240/240 [==============================] - 1s 3ms/step - loss: 0.2013 - accuracy: 0.9276 - val_loss: 0.3457 - val_accuracy: 0.8857\n",
      "Epoch 44/200\n",
      "240/240 [==============================] - 1s 3ms/step - loss: 0.1983 - accuracy: 0.9288 - val_loss: 0.3463 - val_accuracy: 0.8847\n",
      "Epoch 45/200\n",
      "240/240 [==============================] - 1s 3ms/step - loss: 0.1975 - accuracy: 0.9290 - val_loss: 0.3521 - val_accuracy: 0.8842\n",
      "Epoch 46/200\n",
      "240/240 [==============================] - 1s 3ms/step - loss: 0.1933 - accuracy: 0.9304 - val_loss: 0.3570 - val_accuracy: 0.8814\n",
      "Epoch 47/200\n",
      "240/240 [==============================] - 1s 3ms/step - loss: 0.1969 - accuracy: 0.9296 - val_loss: 0.3517 - val_accuracy: 0.8835\n",
      "Epoch 48/200\n",
      "240/240 [==============================] - 1s 3ms/step - loss: 0.1888 - accuracy: 0.9326 - val_loss: 0.3476 - val_accuracy: 0.8849\n",
      "Epoch 49/200\n",
      "240/240 [==============================] - 1s 3ms/step - loss: 0.1897 - accuracy: 0.9318 - val_loss: 0.3560 - val_accuracy: 0.8838\n",
      "Epoch 50/200\n",
      "240/240 [==============================] - 1s 3ms/step - loss: 0.1880 - accuracy: 0.9328 - val_loss: 0.3581 - val_accuracy: 0.8815\n",
      "Epoch 51/200\n",
      "240/240 [==============================] - 1s 3ms/step - loss: 0.1901 - accuracy: 0.9324 - val_loss: 0.3522 - val_accuracy: 0.8848\n",
      "Epoch 52/200\n",
      "240/240 [==============================] - 1s 3ms/step - loss: 0.1878 - accuracy: 0.9326 - val_loss: 0.3747 - val_accuracy: 0.8772\n",
      "Epoch 53/200\n",
      "240/240 [==============================] - 1s 3ms/step - loss: 0.1842 - accuracy: 0.9342 - val_loss: 0.3617 - val_accuracy: 0.8820\n",
      "Epoch 54/200\n",
      "240/240 [==============================] - 1s 3ms/step - loss: 0.1821 - accuracy: 0.9344 - val_loss: 0.3652 - val_accuracy: 0.8828\n",
      "Epoch 55/200\n",
      "240/240 [==============================] - 1s 3ms/step - loss: 0.1815 - accuracy: 0.9341 - val_loss: 0.3587 - val_accuracy: 0.8847\n",
      "Epoch 56/200\n",
      "240/240 [==============================] - 1s 3ms/step - loss: 0.1788 - accuracy: 0.9359 - val_loss: 0.3656 - val_accuracy: 0.8838\n",
      "Epoch 57/200\n",
      "240/240 [==============================] - 1s 2ms/step - loss: 0.1795 - accuracy: 0.9352 - val_loss: 0.3590 - val_accuracy: 0.8853\n"
     ]
    },
    {
     "name": "stdout",
     "output_type": "stream",
     "text": [
      "Epoch 58/200\n",
      "240/240 [==============================] - 1s 2ms/step - loss: 0.1752 - accuracy: 0.9373 - val_loss: 0.3617 - val_accuracy: 0.8848\n",
      "Epoch 59/200\n",
      "240/240 [==============================] - 1s 3ms/step - loss: 0.1732 - accuracy: 0.9376 - val_loss: 0.3717 - val_accuracy: 0.8818\n",
      "Epoch 60/200\n",
      "240/240 [==============================] - 1s 3ms/step - loss: 0.1730 - accuracy: 0.9379 - val_loss: 0.3767 - val_accuracy: 0.8814\n",
      "Epoch 61/200\n",
      "240/240 [==============================] - 1s 3ms/step - loss: 0.1720 - accuracy: 0.9385 - val_loss: 0.3715 - val_accuracy: 0.8820\n",
      "Epoch 62/200\n",
      "240/240 [==============================] - 1s 2ms/step - loss: 0.1713 - accuracy: 0.9383 - val_loss: 0.3706 - val_accuracy: 0.8840\n",
      "Epoch 63/200\n",
      "240/240 [==============================] - 1s 2ms/step - loss: 0.1688 - accuracy: 0.9400 - val_loss: 0.3695 - val_accuracy: 0.8846\n",
      "Epoch 64/200\n",
      "240/240 [==============================] - 1s 3ms/step - loss: 0.1681 - accuracy: 0.9401 - val_loss: 0.3763 - val_accuracy: 0.8840\n",
      "Epoch 65/200\n",
      "240/240 [==============================] - 1s 3ms/step - loss: 0.1658 - accuracy: 0.9409 - val_loss: 0.3775 - val_accuracy: 0.8852\n",
      "Epoch 66/200\n",
      "240/240 [==============================] - 1s 2ms/step - loss: 0.1630 - accuracy: 0.9422 - val_loss: 0.3725 - val_accuracy: 0.8862\n",
      "Epoch 67/200\n",
      "240/240 [==============================] - 1s 2ms/step - loss: 0.1626 - accuracy: 0.9420 - val_loss: 0.3811 - val_accuracy: 0.8822\n",
      "Epoch 68/200\n",
      "240/240 [==============================] - 1s 3ms/step - loss: 0.1635 - accuracy: 0.9414 - val_loss: 0.3863 - val_accuracy: 0.8822\n",
      "Epoch 69/200\n",
      "240/240 [==============================] - 1s 2ms/step - loss: 0.1590 - accuracy: 0.9431 - val_loss: 0.3795 - val_accuracy: 0.8849\n",
      "Epoch 70/200\n",
      "240/240 [==============================] - 1s 2ms/step - loss: 0.1590 - accuracy: 0.9429 - val_loss: 0.3803 - val_accuracy: 0.8847\n",
      "Epoch 71/200\n",
      "240/240 [==============================] - 1s 2ms/step - loss: 0.1593 - accuracy: 0.9434 - val_loss: 0.3773 - val_accuracy: 0.8874\n",
      "Epoch 72/200\n",
      "240/240 [==============================] - 1s 2ms/step - loss: 0.1581 - accuracy: 0.9432 - val_loss: 0.3843 - val_accuracy: 0.8843\n",
      "Epoch 73/200\n",
      "240/240 [==============================] - 1s 2ms/step - loss: 0.1550 - accuracy: 0.9441 - val_loss: 0.3963 - val_accuracy: 0.8813\n",
      "Epoch 74/200\n",
      "240/240 [==============================] - 1s 2ms/step - loss: 0.1544 - accuracy: 0.9444 - val_loss: 0.4007 - val_accuracy: 0.8810\n",
      "Epoch 75/200\n",
      "240/240 [==============================] - 1s 2ms/step - loss: 0.1535 - accuracy: 0.9449 - val_loss: 0.3906 - val_accuracy: 0.8839\n",
      "Epoch 76/200\n",
      "240/240 [==============================] - 1s 2ms/step - loss: 0.1528 - accuracy: 0.9453 - val_loss: 0.4067 - val_accuracy: 0.8780\n",
      "Epoch 77/200\n",
      "240/240 [==============================] - 1s 2ms/step - loss: 0.1512 - accuracy: 0.9467 - val_loss: 0.3941 - val_accuracy: 0.8827\n",
      "Epoch 78/200\n",
      "240/240 [==============================] - 1s 2ms/step - loss: 0.1509 - accuracy: 0.9460 - val_loss: 0.4043 - val_accuracy: 0.8799\n",
      "Epoch 79/200\n",
      "240/240 [==============================] - 1s 3ms/step - loss: 0.1478 - accuracy: 0.9471 - val_loss: 0.4011 - val_accuracy: 0.8801\n",
      "Epoch 80/200\n",
      "240/240 [==============================] - 1s 2ms/step - loss: 0.1471 - accuracy: 0.9483 - val_loss: 0.4021 - val_accuracy: 0.8835\n",
      "Epoch 81/200\n",
      "240/240 [==============================] - 1s 2ms/step - loss: 0.1474 - accuracy: 0.9472 - val_loss: 0.4023 - val_accuracy: 0.8818\n",
      "Epoch 82/200\n",
      "240/240 [==============================] - 1s 2ms/step - loss: 0.1453 - accuracy: 0.9479 - val_loss: 0.4085 - val_accuracy: 0.8815\n",
      "Epoch 83/200\n",
      "240/240 [==============================] - 1s 2ms/step - loss: 0.1406 - accuracy: 0.9504 - val_loss: 0.4227 - val_accuracy: 0.8817\n",
      "Epoch 84/200\n",
      "240/240 [==============================] - 1s 2ms/step - loss: 0.1419 - accuracy: 0.9499 - val_loss: 0.4004 - val_accuracy: 0.8831\n",
      "Epoch 85/200\n",
      "240/240 [==============================] - 1s 3ms/step - loss: 0.1423 - accuracy: 0.9489 - val_loss: 0.4077 - val_accuracy: 0.8812\n",
      "Epoch 86/200\n",
      "240/240 [==============================] - 1s 2ms/step - loss: 0.1439 - accuracy: 0.9484 - val_loss: 0.4237 - val_accuracy: 0.8766\n",
      "Epoch 87/200\n",
      "240/240 [==============================] - 1s 2ms/step - loss: 0.1396 - accuracy: 0.9506 - val_loss: 0.4262 - val_accuracy: 0.8795\n",
      "Epoch 88/200\n",
      "240/240 [==============================] - 1s 2ms/step - loss: 0.1377 - accuracy: 0.9509 - val_loss: 0.4130 - val_accuracy: 0.8843\n",
      "Epoch 89/200\n",
      "240/240 [==============================] - 1s 2ms/step - loss: 0.1394 - accuracy: 0.9505 - val_loss: 0.4137 - val_accuracy: 0.8830\n",
      "Epoch 90/200\n",
      "240/240 [==============================] - 1s 2ms/step - loss: 0.1372 - accuracy: 0.9515 - val_loss: 0.4250 - val_accuracy: 0.8810\n",
      "Epoch 91/200\n",
      "240/240 [==============================] - 1s 2ms/step - loss: 0.1357 - accuracy: 0.9516 - val_loss: 0.4165 - val_accuracy: 0.8834\n",
      "Epoch 92/200\n",
      "240/240 [==============================] - 1s 2ms/step - loss: 0.1361 - accuracy: 0.9508 - val_loss: 0.4300 - val_accuracy: 0.8781\n",
      "Epoch 93/200\n",
      "240/240 [==============================] - 1s 2ms/step - loss: 0.1358 - accuracy: 0.9517 - val_loss: 0.4233 - val_accuracy: 0.8821\n",
      "Epoch 94/200\n",
      "240/240 [==============================] - 1s 2ms/step - loss: 0.1335 - accuracy: 0.9530 - val_loss: 0.4235 - val_accuracy: 0.8848\n",
      "Epoch 95/200\n",
      "240/240 [==============================] - 1s 2ms/step - loss: 0.1317 - accuracy: 0.9535 - val_loss: 0.4320 - val_accuracy: 0.8812\n",
      "Epoch 96/200\n",
      "240/240 [==============================] - 1s 3ms/step - loss: 0.1317 - accuracy: 0.9528 - val_loss: 0.4400 - val_accuracy: 0.8816\n",
      "Epoch 97/200\n",
      "240/240 [==============================] - 1s 2ms/step - loss: 0.1312 - accuracy: 0.9537 - val_loss: 0.4363 - val_accuracy: 0.8802\n",
      "Epoch 98/200\n",
      "240/240 [==============================] - 1s 2ms/step - loss: 0.1261 - accuracy: 0.9551 - val_loss: 0.4361 - val_accuracy: 0.8813\n",
      "Epoch 99/200\n",
      "240/240 [==============================] - 1s 2ms/step - loss: 0.1265 - accuracy: 0.9549 - val_loss: 0.4304 - val_accuracy: 0.8842\n",
      "Epoch 100/200\n",
      "240/240 [==============================] - 1s 2ms/step - loss: 0.1282 - accuracy: 0.9544 - val_loss: 0.4373 - val_accuracy: 0.8849\n",
      "Epoch 101/200\n",
      "240/240 [==============================] - 1s 2ms/step - loss: 0.1242 - accuracy: 0.9562 - val_loss: 0.4368 - val_accuracy: 0.8813\n",
      "Epoch 102/200\n",
      "240/240 [==============================] - 1s 3ms/step - loss: 0.1268 - accuracy: 0.9553 - val_loss: 0.4534 - val_accuracy: 0.8779\n",
      "Epoch 103/200\n",
      "240/240 [==============================] - 1s 2ms/step - loss: 0.1245 - accuracy: 0.9555 - val_loss: 0.4455 - val_accuracy: 0.8814\n",
      "Epoch 104/200\n",
      "240/240 [==============================] - 1s 2ms/step - loss: 0.1250 - accuracy: 0.9559 - val_loss: 0.4557 - val_accuracy: 0.8837\n",
      "Epoch 105/200\n",
      "240/240 [==============================] - 1s 2ms/step - loss: 0.1245 - accuracy: 0.9556 - val_loss: 0.4542 - val_accuracy: 0.8799\n",
      "Epoch 106/200\n",
      "240/240 [==============================] - 1s 2ms/step - loss: 0.1220 - accuracy: 0.9570 - val_loss: 0.4467 - val_accuracy: 0.8838\n",
      "Epoch 107/200\n",
      "240/240 [==============================] - 1s 3ms/step - loss: 0.1205 - accuracy: 0.9575 - val_loss: 0.4611 - val_accuracy: 0.8803\n",
      "Epoch 108/200\n",
      "240/240 [==============================] - 1s 2ms/step - loss: 0.1209 - accuracy: 0.9574 - val_loss: 0.4541 - val_accuracy: 0.8806\n",
      "Epoch 109/200\n",
      "240/240 [==============================] - 1s 3ms/step - loss: 0.1196 - accuracy: 0.9572 - val_loss: 0.4722 - val_accuracy: 0.8773\n",
      "Epoch 110/200\n",
      "240/240 [==============================] - 1s 2ms/step - loss: 0.1204 - accuracy: 0.9567 - val_loss: 0.4746 - val_accuracy: 0.8768\n",
      "Epoch 111/200\n",
      "240/240 [==============================] - 1s 2ms/step - loss: 0.1174 - accuracy: 0.9590 - val_loss: 0.4675 - val_accuracy: 0.8846\n",
      "Epoch 112/200\n",
      "240/240 [==============================] - 1s 2ms/step - loss: 0.1179 - accuracy: 0.9583 - val_loss: 0.4580 - val_accuracy: 0.8828\n",
      "Epoch 113/200\n",
      "240/240 [==============================] - 1s 3ms/step - loss: 0.1179 - accuracy: 0.9579 - val_loss: 0.4672 - val_accuracy: 0.8827\n",
      "Epoch 114/200\n",
      "240/240 [==============================] - 1s 2ms/step - loss: 0.1157 - accuracy: 0.9596 - val_loss: 0.4822 - val_accuracy: 0.8779\n"
     ]
    },
    {
     "name": "stdout",
     "output_type": "stream",
     "text": [
      "Epoch 115/200\n",
      "240/240 [==============================] - 1s 2ms/step - loss: 0.1135 - accuracy: 0.9602 - val_loss: 0.4652 - val_accuracy: 0.8808\n",
      "Epoch 116/200\n",
      "240/240 [==============================] - 1s 2ms/step - loss: 0.1120 - accuracy: 0.9600 - val_loss: 0.4681 - val_accuracy: 0.8852\n",
      "Epoch 117/200\n",
      "240/240 [==============================] - 1s 2ms/step - loss: 0.1132 - accuracy: 0.9602 - val_loss: 0.4748 - val_accuracy: 0.8783\n",
      "Epoch 118/200\n",
      "240/240 [==============================] - 1s 3ms/step - loss: 0.1135 - accuracy: 0.9606 - val_loss: 0.4792 - val_accuracy: 0.8829\n",
      "Epoch 119/200\n",
      "240/240 [==============================] - 1s 3ms/step - loss: 0.1137 - accuracy: 0.9603 - val_loss: 0.4920 - val_accuracy: 0.8788\n",
      "Epoch 120/200\n",
      "240/240 [==============================] - 1s 3ms/step - loss: 0.1122 - accuracy: 0.9593 - val_loss: 0.4763 - val_accuracy: 0.8791\n",
      "Epoch 121/200\n",
      "240/240 [==============================] - 1s 2ms/step - loss: 0.1074 - accuracy: 0.9621 - val_loss: 0.4919 - val_accuracy: 0.8775\n",
      "Epoch 122/200\n",
      "240/240 [==============================] - 1s 2ms/step - loss: 0.1075 - accuracy: 0.9623 - val_loss: 0.5045 - val_accuracy: 0.8739\n",
      "Epoch 123/200\n",
      "240/240 [==============================] - 1s 3ms/step - loss: 0.1083 - accuracy: 0.9612 - val_loss: 0.4833 - val_accuracy: 0.8817\n",
      "Epoch 124/200\n",
      "240/240 [==============================] - 1s 3ms/step - loss: 0.1079 - accuracy: 0.9621 - val_loss: 0.4945 - val_accuracy: 0.8824\n",
      "Epoch 125/200\n",
      "240/240 [==============================] - 1s 2ms/step - loss: 0.1089 - accuracy: 0.9614 - val_loss: 0.4827 - val_accuracy: 0.8823\n",
      "Epoch 126/200\n",
      "240/240 [==============================] - 1s 2ms/step - loss: 0.1059 - accuracy: 0.9629 - val_loss: 0.5036 - val_accuracy: 0.8816\n",
      "Epoch 127/200\n",
      "240/240 [==============================] - 1s 2ms/step - loss: 0.1085 - accuracy: 0.9624 - val_loss: 0.4989 - val_accuracy: 0.8794\n",
      "Epoch 128/200\n",
      "240/240 [==============================] - 1s 2ms/step - loss: 0.1047 - accuracy: 0.9633 - val_loss: 0.5022 - val_accuracy: 0.8811\n",
      "Epoch 129/200\n",
      "240/240 [==============================] - 1s 2ms/step - loss: 0.1050 - accuracy: 0.9629 - val_loss: 0.5031 - val_accuracy: 0.8773\n",
      "Epoch 130/200\n",
      "240/240 [==============================] - 1s 2ms/step - loss: 0.1024 - accuracy: 0.9637 - val_loss: 0.4964 - val_accuracy: 0.8795\n",
      "Epoch 131/200\n",
      "240/240 [==============================] - 1s 2ms/step - loss: 0.1002 - accuracy: 0.9653 - val_loss: 0.5039 - val_accuracy: 0.8799\n",
      "Epoch 132/200\n",
      "240/240 [==============================] - 1s 2ms/step - loss: 0.1064 - accuracy: 0.9613 - val_loss: 0.5096 - val_accuracy: 0.8786\n",
      "Epoch 133/200\n",
      "240/240 [==============================] - 1s 2ms/step - loss: 0.1045 - accuracy: 0.9640 - val_loss: 0.5083 - val_accuracy: 0.8800\n",
      "Epoch 134/200\n",
      "240/240 [==============================] - 1s 2ms/step - loss: 0.0978 - accuracy: 0.9659 - val_loss: 0.5221 - val_accuracy: 0.8785\n",
      "Epoch 135/200\n",
      "240/240 [==============================] - 1s 2ms/step - loss: 0.1025 - accuracy: 0.9643 - val_loss: 0.5084 - val_accuracy: 0.8823\n",
      "Epoch 136/200\n",
      "240/240 [==============================] - 1s 2ms/step - loss: 0.0981 - accuracy: 0.9650 - val_loss: 0.5155 - val_accuracy: 0.8813\n",
      "Epoch 137/200\n",
      "240/240 [==============================] - 1s 2ms/step - loss: 0.0979 - accuracy: 0.9654 - val_loss: 0.5326 - val_accuracy: 0.8814\n",
      "Epoch 138/200\n",
      "240/240 [==============================] - 1s 2ms/step - loss: 0.0978 - accuracy: 0.9658 - val_loss: 0.5256 - val_accuracy: 0.8808\n",
      "Epoch 139/200\n",
      "240/240 [==============================] - 1s 2ms/step - loss: 0.0950 - accuracy: 0.9669 - val_loss: 0.5425 - val_accuracy: 0.8783\n",
      "Epoch 140/200\n",
      "240/240 [==============================] - 1s 2ms/step - loss: 0.0959 - accuracy: 0.9660 - val_loss: 0.5298 - val_accuracy: 0.8795\n",
      "Epoch 141/200\n",
      "240/240 [==============================] - 1s 2ms/step - loss: 0.0972 - accuracy: 0.9662 - val_loss: 0.5437 - val_accuracy: 0.8734\n",
      "Epoch 142/200\n",
      "240/240 [==============================] - 1s 2ms/step - loss: 0.0981 - accuracy: 0.9646 - val_loss: 0.5243 - val_accuracy: 0.8817\n",
      "Epoch 143/200\n",
      "240/240 [==============================] - 1s 2ms/step - loss: 0.0965 - accuracy: 0.9664 - val_loss: 0.5358 - val_accuracy: 0.8776\n",
      "Epoch 144/200\n",
      "240/240 [==============================] - 1s 3ms/step - loss: 0.0928 - accuracy: 0.9678 - val_loss: 0.5485 - val_accuracy: 0.8802\n",
      "Epoch 145/200\n",
      "240/240 [==============================] - 1s 2ms/step - loss: 0.0907 - accuracy: 0.9696 - val_loss: 0.5314 - val_accuracy: 0.8790\n",
      "Epoch 146/200\n",
      "240/240 [==============================] - 1s 2ms/step - loss: 0.0955 - accuracy: 0.9659 - val_loss: 0.5440 - val_accuracy: 0.8789\n",
      "Epoch 147/200\n",
      "240/240 [==============================] - 1s 2ms/step - loss: 0.0915 - accuracy: 0.9678 - val_loss: 0.5374 - val_accuracy: 0.8784\n",
      "Epoch 148/200\n",
      "240/240 [==============================] - 1s 2ms/step - loss: 0.0933 - accuracy: 0.9672 - val_loss: 0.5431 - val_accuracy: 0.8799\n",
      "Epoch 149/200\n",
      "240/240 [==============================] - 1s 2ms/step - loss: 0.0942 - accuracy: 0.9667 - val_loss: 0.5468 - val_accuracy: 0.8777\n",
      "Epoch 150/200\n",
      "240/240 [==============================] - 1s 2ms/step - loss: 0.0900 - accuracy: 0.9686 - val_loss: 0.5535 - val_accuracy: 0.8776\n",
      "Epoch 151/200\n",
      "240/240 [==============================] - 1s 2ms/step - loss: 0.0899 - accuracy: 0.9693 - val_loss: 0.5339 - val_accuracy: 0.8809\n",
      "Epoch 152/200\n",
      "240/240 [==============================] - 1s 2ms/step - loss: 0.0941 - accuracy: 0.9668 - val_loss: 0.5486 - val_accuracy: 0.8773\n",
      "Epoch 153/200\n",
      "240/240 [==============================] - 1s 2ms/step - loss: 0.0900 - accuracy: 0.9691 - val_loss: 0.6038 - val_accuracy: 0.8738\n",
      "Epoch 154/200\n",
      "240/240 [==============================] - 1s 2ms/step - loss: 0.0890 - accuracy: 0.9695 - val_loss: 0.5555 - val_accuracy: 0.8813\n",
      "Epoch 155/200\n",
      "240/240 [==============================] - 1s 2ms/step - loss: 0.0909 - accuracy: 0.9676 - val_loss: 0.5674 - val_accuracy: 0.8765\n",
      "Epoch 156/200\n",
      "240/240 [==============================] - 1s 2ms/step - loss: 0.0902 - accuracy: 0.9689 - val_loss: 0.5633 - val_accuracy: 0.8788\n",
      "Epoch 157/200\n",
      "240/240 [==============================] - 1s 2ms/step - loss: 0.0857 - accuracy: 0.9703 - val_loss: 0.5708 - val_accuracy: 0.8765\n",
      "Epoch 158/200\n",
      "240/240 [==============================] - 1s 2ms/step - loss: 0.0862 - accuracy: 0.9700 - val_loss: 0.5665 - val_accuracy: 0.8800\n",
      "Epoch 159/200\n",
      "240/240 [==============================] - 1s 2ms/step - loss: 0.0857 - accuracy: 0.9704 - val_loss: 0.5863 - val_accuracy: 0.8740\n",
      "Epoch 160/200\n",
      "240/240 [==============================] - 1s 2ms/step - loss: 0.0861 - accuracy: 0.9699 - val_loss: 0.5573 - val_accuracy: 0.8788\n",
      "Epoch 161/200\n",
      "240/240 [==============================] - 1s 2ms/step - loss: 0.0821 - accuracy: 0.9719 - val_loss: 0.5732 - val_accuracy: 0.8767\n",
      "Epoch 162/200\n",
      "240/240 [==============================] - 1s 3ms/step - loss: 0.0827 - accuracy: 0.9723 - val_loss: 0.5781 - val_accuracy: 0.8767\n",
      "Epoch 163/200\n",
      "240/240 [==============================] - 1s 2ms/step - loss: 0.0816 - accuracy: 0.9730 - val_loss: 0.5732 - val_accuracy: 0.8803\n",
      "Epoch 164/200\n",
      "240/240 [==============================] - 1s 2ms/step - loss: 0.0862 - accuracy: 0.9699 - val_loss: 0.5824 - val_accuracy: 0.8757\n",
      "Epoch 165/200\n",
      "240/240 [==============================] - 1s 2ms/step - loss: 0.0862 - accuracy: 0.9702 - val_loss: 0.6027 - val_accuracy: 0.8742\n",
      "Epoch 166/200\n",
      "240/240 [==============================] - 1s 2ms/step - loss: 0.0828 - accuracy: 0.9720 - val_loss: 0.5849 - val_accuracy: 0.8794\n",
      "Epoch 167/200\n",
      "240/240 [==============================] - 1s 2ms/step - loss: 0.0787 - accuracy: 0.9736 - val_loss: 0.6066 - val_accuracy: 0.8773\n",
      "Epoch 168/200\n",
      "240/240 [==============================] - 1s 2ms/step - loss: 0.0812 - accuracy: 0.9724 - val_loss: 0.5852 - val_accuracy: 0.8773\n",
      "Epoch 169/200\n",
      "240/240 [==============================] - 1s 3ms/step - loss: 0.0809 - accuracy: 0.9726 - val_loss: 0.5953 - val_accuracy: 0.8786\n",
      "Epoch 170/200\n",
      "240/240 [==============================] - 1s 3ms/step - loss: 0.0805 - accuracy: 0.9726 - val_loss: 0.5893 - val_accuracy: 0.8777\n",
      "Epoch 171/200\n"
     ]
    },
    {
     "name": "stdout",
     "output_type": "stream",
     "text": [
      "240/240 [==============================] - 1s 3ms/step - loss: 0.0786 - accuracy: 0.9731 - val_loss: 0.6019 - val_accuracy: 0.8797\n",
      "Epoch 172/200\n",
      "240/240 [==============================] - 1s 2ms/step - loss: 0.0796 - accuracy: 0.9728 - val_loss: 0.5951 - val_accuracy: 0.8785\n",
      "Epoch 173/200\n",
      "240/240 [==============================] - 1s 2ms/step - loss: 0.0803 - accuracy: 0.9719 - val_loss: 0.5922 - val_accuracy: 0.8789\n",
      "Epoch 174/200\n",
      "240/240 [==============================] - 1s 2ms/step - loss: 0.0762 - accuracy: 0.9743 - val_loss: 0.6094 - val_accuracy: 0.8807\n",
      "Epoch 175/200\n",
      "240/240 [==============================] - 1s 2ms/step - loss: 0.0798 - accuracy: 0.9716 - val_loss: 0.6066 - val_accuracy: 0.8767\n",
      "Epoch 176/200\n",
      "240/240 [==============================] - 1s 3ms/step - loss: 0.0789 - accuracy: 0.9722 - val_loss: 0.6132 - val_accuracy: 0.8782\n",
      "Epoch 177/200\n",
      "240/240 [==============================] - 1s 2ms/step - loss: 0.0787 - accuracy: 0.9729 - val_loss: 0.6022 - val_accuracy: 0.8796\n",
      "Epoch 178/200\n",
      "240/240 [==============================] - 1s 2ms/step - loss: 0.0756 - accuracy: 0.9743 - val_loss: 0.6040 - val_accuracy: 0.8792\n",
      "Epoch 179/200\n",
      "240/240 [==============================] - 1s 2ms/step - loss: 0.0732 - accuracy: 0.9754 - val_loss: 0.6287 - val_accuracy: 0.8758\n",
      "Epoch 180/200\n",
      "240/240 [==============================] - 1s 2ms/step - loss: 0.0779 - accuracy: 0.9726 - val_loss: 0.6154 - val_accuracy: 0.8770\n",
      "Epoch 181/200\n",
      "240/240 [==============================] - 1s 2ms/step - loss: 0.0750 - accuracy: 0.9752 - val_loss: 0.6272 - val_accuracy: 0.8723\n",
      "Epoch 182/200\n",
      "240/240 [==============================] - 1s 3ms/step - loss: 0.0746 - accuracy: 0.9746 - val_loss: 0.6314 - val_accuracy: 0.8742\n",
      "Epoch 183/200\n",
      "240/240 [==============================] - 1s 3ms/step - loss: 0.0726 - accuracy: 0.9750 - val_loss: 0.6345 - val_accuracy: 0.8728\n",
      "Epoch 184/200\n",
      "240/240 [==============================] - 1s 2ms/step - loss: 0.0727 - accuracy: 0.9747 - val_loss: 0.6290 - val_accuracy: 0.8765\n",
      "Epoch 185/200\n",
      "240/240 [==============================] - 1s 3ms/step - loss: 0.0741 - accuracy: 0.9741 - val_loss: 0.6559 - val_accuracy: 0.8715\n",
      "Epoch 186/200\n",
      "240/240 [==============================] - 1s 2ms/step - loss: 0.0770 - accuracy: 0.9740 - val_loss: 0.6404 - val_accuracy: 0.8777\n",
      "Epoch 187/200\n",
      "240/240 [==============================] - 1s 2ms/step - loss: 0.0773 - accuracy: 0.9730 - val_loss: 0.6489 - val_accuracy: 0.8741\n",
      "Epoch 188/200\n",
      "240/240 [==============================] - 1s 2ms/step - loss: 0.0729 - accuracy: 0.9747 - val_loss: 0.6330 - val_accuracy: 0.8775\n",
      "Epoch 189/200\n",
      "240/240 [==============================] - 1s 2ms/step - loss: 0.0741 - accuracy: 0.9751 - val_loss: 0.6506 - val_accuracy: 0.8733\n",
      "Epoch 190/200\n",
      "240/240 [==============================] - 1s 2ms/step - loss: 0.0718 - accuracy: 0.9753 - val_loss: 0.6397 - val_accuracy: 0.8817\n",
      "Epoch 191/200\n",
      "240/240 [==============================] - 1s 3ms/step - loss: 0.0698 - accuracy: 0.9768 - val_loss: 0.6385 - val_accuracy: 0.8763\n",
      "Epoch 192/200\n",
      "240/240 [==============================] - 1s 2ms/step - loss: 0.0697 - accuracy: 0.9765 - val_loss: 0.6408 - val_accuracy: 0.8778\n",
      "Epoch 193/200\n",
      "240/240 [==============================] - 1s 2ms/step - loss: 0.0686 - accuracy: 0.9766 - val_loss: 0.6640 - val_accuracy: 0.8731\n",
      "Epoch 194/200\n",
      "240/240 [==============================] - 1s 2ms/step - loss: 0.0729 - accuracy: 0.9748 - val_loss: 0.6568 - val_accuracy: 0.8773\n",
      "Epoch 195/200\n",
      "240/240 [==============================] - 1s 2ms/step - loss: 0.0717 - accuracy: 0.9753 - val_loss: 0.6605 - val_accuracy: 0.8771\n",
      "Epoch 196/200\n",
      "240/240 [==============================] - 1s 2ms/step - loss: 0.0698 - accuracy: 0.9764 - val_loss: 0.6595 - val_accuracy: 0.8763\n",
      "Epoch 197/200\n",
      "240/240 [==============================] - 1s 2ms/step - loss: 0.0691 - accuracy: 0.9764 - val_loss: 0.6961 - val_accuracy: 0.8664\n",
      "Epoch 198/200\n",
      "240/240 [==============================] - 1s 2ms/step - loss: 0.0705 - accuracy: 0.9753 - val_loss: 0.6710 - val_accuracy: 0.8711\n",
      "Epoch 199/200\n",
      "240/240 [==============================] - 1s 2ms/step - loss: 0.0659 - accuracy: 0.9782 - val_loss: 0.6671 - val_accuracy: 0.8737\n",
      "Epoch 200/200\n",
      "240/240 [==============================] - 1s 2ms/step - loss: 0.0704 - accuracy: 0.9760 - val_loss: 0.6672 - val_accuracy: 0.8752\n"
     ]
    },
    {
     "data": {
      "text/plain": [
       "<keras.callbacks.History at 0x1fab94c0be0>"
      ]
     },
     "execution_count": 62,
     "metadata": {},
     "output_type": "execute_result"
    }
   ],
   "source": [
    "#collapse \n",
    "cb1 = tf.keras.callbacks.TensorBoard()\n",
    "net.fit(X,y,epochs=200,batch_size=200,validation_split=0.2,callbacks=cb1,verbose=1) "
   ]
  },
  {
   "cell_type": "markdown",
   "id": "7b94e107-391d-41a1-9823-3cbd3f4a9748",
   "metadata": {},
   "source": [
    "`-` 텐서보드 여는 방법1"
   ]
  },
  {
   "cell_type": "code",
   "execution_count": 63,
   "id": "244ffe75-75f9-40c1-8e91-0eb0160de4a1",
   "metadata": {},
   "outputs": [
    {
     "name": "stdout",
     "output_type": "stream",
     "text": [
      "The tensorboard extension is already loaded. To reload it, use:\n",
      "  %reload_ext tensorboard\n"
     ]
    }
   ],
   "source": [
    "%load_ext tensorboard\n",
    "# 주피터노트북 (혹은 주피터랩)에서 텐서보드를 임베딩하여 넣을 수 있도록 도와주는 매직펑션"
   ]
  },
  {
   "cell_type": "code",
   "execution_count": 51,
   "id": "0caf4156-9c41-4ead-b35e-e9b5525167aa",
   "metadata": {},
   "outputs": [
    {
     "name": "stderr",
     "output_type": "stream",
     "text": [
      "'rm'은(는) 내부 또는 외부 명령, 실행할 수 있는 프로그램, 또는\n",
      "배치 파일이 아닙니다.\n",
      "'kill'은(는) 내부 또는 외부 명령, 실행할 수 있는 프로그램, 또는\n",
      "배치 파일이 아닙니다.\n"
     ]
    }
   ],
   "source": [
    "!rm -rf logs\n",
    "!kill 313799"
   ]
  },
  {
   "cell_type": "code",
   "execution_count": 65,
   "id": "5d4a3fdc-68af-4578-ab46-ad1223858395",
   "metadata": {},
   "outputs": [],
   "source": [
    "#\n",
    "#%tensorboard --logdir logs --host 0.0.0.\n",
    "# <-- 실습에서는 아래의 방법으로 하면됩니다. \n",
    "# %tensorboard --logdir logs "
   ]
  },
  {
   "cell_type": "markdown",
   "id": "813f099d-850f-4a88-b40b-46907e27c426",
   "metadata": {},
   "source": [
    "(참고사항) 파이썬 3.10의 경우 아래의 수정이 필요\n",
    "\n",
    "`?/python3.10/site-packages/tensorboard/_vendor/html5lib/_trie/_base.py` 을 열고\n",
    "```python\n",
    "from collections import Mapping ### 수정전\n",
    "from collections.abc import Mapping ### 수정후 \n",
    "```\n",
    "와 같이 수정한다. "
   ]
  },
  {
   "cell_type": "markdown",
   "id": "a08cf376-2130-401a-a517-8a1ecef165b6",
   "metadata": {},
   "source": [
    "- 왜냐하면 파이썬 3.10부터 `from collections import Mapping` 가 동작하지 않고 `from collections.abc import Mapping` 가 동작하도록 문법이 바뀜"
   ]
  },
  {
   "cell_type": "markdown",
   "id": "3fc22264-c3f3-4123-ab63-aa0670fff692",
   "metadata": {},
   "source": [
    "`-` 텐서보드를 실행하는 방법2"
   ]
  },
  {
   "cell_type": "code",
   "execution_count": 19,
   "id": "59326423-ffe7-493b-a235-3e8ea16867ba",
   "metadata": {},
   "outputs": [],
   "source": [
    "#\n",
    "# !tensorboard --logdir logs --host 0.0.0.0\n",
    "# <-- 실습에서는 아래의 방법으로 하면됩니다. \n",
    "# !tensorboard --logdir logs "
   ]
  },
  {
   "cell_type": "markdown",
   "id": "1cf3208f-2be7-458f-96f0-c059269a331e",
   "metadata": {},
   "source": [
    "### 조기종료 "
   ]
  },
  {
   "cell_type": "markdown",
   "id": "9dbaad6d-da11-4b47-8651-ecee93293dbb",
   "metadata": {},
   "source": [
    "`-` 텐서보드를 살펴보니 특정에폭 이후에는 오히려 과적합이 진행되는 듯 하다 (학습할수록 손해인듯 하다) $\\to$ 그 특정에폭까지만 학습해보자"
   ]
  },
  {
   "cell_type": "code",
   "execution_count": 53,
   "id": "1797f22c-116e-48c3-a0ce-f42286656998",
   "metadata": {},
   "outputs": [],
   "source": [
    "tf.random.set_seed(43052)\n",
    "net = tf.keras.Sequential()\n",
    "net.add(tf.keras.layers.Flatten())\n",
    "net.add(tf.keras.layers.Dense(5000,activation='relu')) ## 과적합좀 시키려고 \n",
    "net.add(tf.keras.layers.Dense(5000,activation='relu')) ## 레이어를 2장만듬 + 레이어하나당 노드수도 증가 \n",
    "net.add(tf.keras.layers.Dense(10,activation='softmax'))\n",
    "net.compile(optimizer='adam',loss=tf.losses.categorical_crossentropy,metrics='accuracy')"
   ]
  },
  {
   "cell_type": "code",
   "execution_count": 54,
   "id": "66f8f26d-5e3b-49ca-8e11-2ccfe3f3150e",
   "metadata": {},
   "outputs": [
    {
     "name": "stdout",
     "output_type": "stream",
     "text": [
      "Epoch 1/200\n",
      "240/240 [==============================] - 88s 365ms/step - loss: 0.5506 - accuracy: 0.8113 - val_loss: 0.4149 - val_accuracy: 0.8482\n",
      "Epoch 2/200\n",
      "240/240 [==============================] - 97s 405ms/step - loss: 0.3567 - accuracy: 0.8671 - val_loss: 0.3709 - val_accuracy: 0.8673\n",
      "Epoch 3/200\n",
      "240/240 [==============================] - 89s 369ms/step - loss: 0.3203 - accuracy: 0.8801 - val_loss: 0.3500 - val_accuracy: 0.8755\n",
      "Epoch 4/200\n",
      "240/240 [==============================] - 76s 318ms/step - loss: 0.2985 - accuracy: 0.8881 - val_loss: 0.3527 - val_accuracy: 0.8767\n"
     ]
    },
    {
     "data": {
      "text/plain": [
       "<keras.callbacks.History at 0x1fab997ddf0>"
      ]
     },
     "execution_count": 54,
     "metadata": {},
     "output_type": "execute_result"
    }
   ],
   "source": [
    "#\n",
    "#cb1 = tf.keras.callbacks.TensorBoard()\n",
    "cb2 = tf.keras.callbacks.EarlyStopping(patience=1) # val-loss가 1회증가하면 멈추어라 \n",
    "net.fit(X,y,epochs=200,batch_size=200,validation_split=0.2,callbacks=cb2,verbose=1) "
   ]
  },
  {
   "cell_type": "code",
   "execution_count": 55,
   "id": "14125cdd-2818-4086-85c0-e60e9bb1ae80",
   "metadata": {},
   "outputs": [
    {
     "name": "stdout",
     "output_type": "stream",
     "text": [
      "Epoch 1/200\n",
      "240/240 [==============================] - 76s 316ms/step - loss: 0.2783 - accuracy: 0.8954 - val_loss: 0.3171 - val_accuracy: 0.8817\n",
      "Epoch 2/200\n",
      "240/240 [==============================] - 79s 328ms/step - loss: 0.2594 - accuracy: 0.9017 - val_loss: 0.3346 - val_accuracy: 0.8835\n"
     ]
    },
    {
     "data": {
      "text/plain": [
       "<keras.callbacks.History at 0x1fab93f8f70>"
      ]
     },
     "execution_count": 55,
     "metadata": {},
     "output_type": "execute_result"
    }
   ],
   "source": [
    "#\n",
    "#cb1 = tf.keras.callbacks.TensorBoard()\n",
    "cb2 = tf.keras.callbacks.EarlyStopping(patience=1) # val-loss가 1회증가하면 멈추어라 \n",
    "net.fit(X,y,epochs=200,batch_size=200,validation_split=0.2,callbacks=cb2,verbose=1) "
   ]
  },
  {
   "cell_type": "code",
   "execution_count": 56,
   "id": "e77493a9-01ec-446f-ae11-c0eab3496aa9",
   "metadata": {},
   "outputs": [
    {
     "name": "stdout",
     "output_type": "stream",
     "text": [
      "Epoch 1/200\n",
      "240/240 [==============================] - 77s 322ms/step - loss: 0.2464 - accuracy: 0.9065 - val_loss: 0.3344 - val_accuracy: 0.8812\n",
      "Epoch 2/200\n",
      "240/240 [==============================] - 79s 329ms/step - loss: 0.2333 - accuracy: 0.9112 - val_loss: 0.3163 - val_accuracy: 0.8900\n",
      "Epoch 3/200\n",
      "240/240 [==============================] - 80s 333ms/step - loss: 0.2257 - accuracy: 0.9141 - val_loss: 0.3175 - val_accuracy: 0.8894\n"
     ]
    },
    {
     "data": {
      "text/plain": [
       "<keras.callbacks.History at 0x1fab93b2610>"
      ]
     },
     "execution_count": 56,
     "metadata": {},
     "output_type": "execute_result"
    }
   ],
   "source": [
    "#\n",
    "#cb1 = tf.keras.callbacks.TensorBoard()\n",
    "cb2 = tf.keras.callbacks.EarlyStopping(patience=1) # val-loss가 1회증가하면 멈추어라 \n",
    "net.fit(X,y,epochs=200,batch_size=200,validation_split=0.2,callbacks=cb2,verbose=1) "
   ]
  },
  {
   "cell_type": "code",
   "execution_count": 57,
   "id": "bd282760-81a7-4cba-a241-7bd8c709763f",
   "metadata": {},
   "outputs": [
    {
     "name": "stdout",
     "output_type": "stream",
     "text": [
      "Epoch 1/200\n",
      "240/240 [==============================] - 82s 342ms/step - loss: 0.2139 - accuracy: 0.9183 - val_loss: 0.3424 - val_accuracy: 0.8812\n",
      "Epoch 2/200\n",
      "240/240 [==============================] - 83s 346ms/step - loss: 0.2007 - accuracy: 0.9230 - val_loss: 0.3215 - val_accuracy: 0.8907\n",
      "Epoch 3/200\n",
      "240/240 [==============================] - 82s 343ms/step - loss: 0.1937 - accuracy: 0.9261 - val_loss: 0.3620 - val_accuracy: 0.8902\n"
     ]
    },
    {
     "data": {
      "text/plain": [
       "<keras.callbacks.History at 0x1fab9443ca0>"
      ]
     },
     "execution_count": 57,
     "metadata": {},
     "output_type": "execute_result"
    }
   ],
   "source": [
    "#\n",
    "#cb1 = tf.keras.callbacks.TensorBoard()\n",
    "cb2 = tf.keras.callbacks.EarlyStopping(patience=1) # val-loss가 1회증가하면 멈추어라 \n",
    "net.fit(X,y,epochs=200,batch_size=200,validation_split=0.2,callbacks=cb2,verbose=1) "
   ]
  },
  {
   "cell_type": "code",
   "execution_count": 58,
   "id": "bf9455d7-c1b5-4022-a74b-97031b8b0401",
   "metadata": {},
   "outputs": [
    {
     "name": "stdout",
     "output_type": "stream",
     "text": [
      "Epoch 1/200\n",
      "240/240 [==============================] - 82s 344ms/step - loss: 0.1865 - accuracy: 0.9266 - val_loss: 0.3650 - val_accuracy: 0.8832\n",
      "Epoch 2/200\n",
      "240/240 [==============================] - 79s 327ms/step - loss: 0.1789 - accuracy: 0.9313 - val_loss: 0.3268 - val_accuracy: 0.8938\n",
      "Epoch 3/200\n",
      "240/240 [==============================] - 81s 337ms/step - loss: 0.1664 - accuracy: 0.9357 - val_loss: 0.3748 - val_accuracy: 0.8873\n"
     ]
    },
    {
     "data": {
      "text/plain": [
       "<keras.callbacks.History at 0x1fab9477940>"
      ]
     },
     "execution_count": 58,
     "metadata": {},
     "output_type": "execute_result"
    }
   ],
   "source": [
    "#\n",
    "#cb1 = tf.keras.callbacks.TensorBoard()\n",
    "cb2 = tf.keras.callbacks.EarlyStopping(patience=1) # val-loss가 1회증가하면 멈추어라 \n",
    "net.fit(X,y,epochs=200,batch_size=200,validation_split=0.2,callbacks=cb2,verbose=1) "
   ]
  },
  {
   "cell_type": "markdown",
   "id": "777ce4cd-27f3-4aec-8795-6a161f6a6c29",
   "metadata": {},
   "source": [
    "`-` 몇 번 좀 참았다가 멈추면 좋겠다. "
   ]
  },
  {
   "cell_type": "code",
   "execution_count": 66,
   "id": "e1e29cab-1a0a-4cdc-b9d2-595dbc50c2e0",
   "metadata": {},
   "outputs": [],
   "source": [
    "tf.random.set_seed(43052)\n",
    "net = tf.keras.Sequential()\n",
    "net.add(tf.keras.layers.Flatten())\n",
    "net.add(tf.keras.layers.Dense(5000,activation='relu')) ## 과적합좀 시키려고 \n",
    "net.add(tf.keras.layers.Dense(5000,activation='relu')) ## 레이어를 2장만듬 + 레이어하나당 노드수도 증가 \n",
    "net.add(tf.keras.layers.Dense(10,activation='softmax'))\n",
    "net.compile(optimizer='adam',loss=tf.losses.categorical_crossentropy,metrics='accuracy')"
   ]
  },
  {
   "cell_type": "code",
   "execution_count": 67,
   "id": "14c8be6e-7a43-4eae-8a46-eed8cef26495",
   "metadata": {},
   "outputs": [
    {
     "name": "stdout",
     "output_type": "stream",
     "text": [
      "Epoch 1/200\n",
      "240/240 [==============================] - 86s 358ms/step - loss: 0.5506 - accuracy: 0.8113 - val_loss: 0.4149 - val_accuracy: 0.8482\n",
      "Epoch 2/200\n",
      "240/240 [==============================] - 79s 329ms/step - loss: 0.3567 - accuracy: 0.8671 - val_loss: 0.3709 - val_accuracy: 0.8673\n",
      "Epoch 3/200\n",
      "240/240 [==============================] - 82s 341ms/step - loss: 0.3203 - accuracy: 0.8801 - val_loss: 0.3500 - val_accuracy: 0.8755\n",
      "Epoch 4/200\n",
      "240/240 [==============================] - 83s 347ms/step - loss: 0.2985 - accuracy: 0.8881 - val_loss: 0.3527 - val_accuracy: 0.8767\n",
      "Epoch 5/200\n",
      "240/240 [==============================] - 80s 335ms/step - loss: 0.2773 - accuracy: 0.8961 - val_loss: 0.3200 - val_accuracy: 0.8851\n",
      "Epoch 6/200\n",
      "240/240 [==============================] - 80s 332ms/step - loss: 0.2600 - accuracy: 0.9013 - val_loss: 0.3285 - val_accuracy: 0.8829\n",
      "Epoch 7/200\n",
      "240/240 [==============================] - 80s 334ms/step - loss: 0.2474 - accuracy: 0.9069 - val_loss: 0.3143 - val_accuracy: 0.8905\n",
      "Epoch 8/200\n",
      "240/240 [==============================] - 81s 340ms/step - loss: 0.2332 - accuracy: 0.9115 - val_loss: 0.3155 - val_accuracy: 0.8892\n",
      "Epoch 9/200\n",
      "240/240 [==============================] - 81s 338ms/step - loss: 0.2252 - accuracy: 0.9144 - val_loss: 0.3081 - val_accuracy: 0.8922\n",
      "Epoch 10/200\n",
      "240/240 [==============================] - 82s 342ms/step - loss: 0.2129 - accuracy: 0.9187 - val_loss: 0.3157 - val_accuracy: 0.8925\n",
      "Epoch 11/200\n",
      "240/240 [==============================] - 85s 352ms/step - loss: 0.2063 - accuracy: 0.9206 - val_loss: 0.3227 - val_accuracy: 0.8909\n",
      "Epoch 12/200\n",
      "240/240 [==============================] - 88s 368ms/step - loss: 0.1967 - accuracy: 0.9253 - val_loss: 0.3069 - val_accuracy: 0.8954\n",
      "Epoch 13/200\n",
      "240/240 [==============================] - 90s 374ms/step - loss: 0.1852 - accuracy: 0.9288 - val_loss: 0.3460 - val_accuracy: 0.8885\n",
      "Epoch 14/200\n",
      "240/240 [==============================] - 92s 381ms/step - loss: 0.1804 - accuracy: 0.9307 - val_loss: 0.3342 - val_accuracy: 0.8953\n",
      "Epoch 15/200\n",
      "240/240 [==============================] - 92s 383ms/step - loss: 0.1746 - accuracy: 0.9335 - val_loss: 0.3416 - val_accuracy: 0.8905\n",
      "Epoch 16/200\n",
      "240/240 [==============================] - 89s 372ms/step - loss: 0.1652 - accuracy: 0.9356 - val_loss: 0.3711 - val_accuracy: 0.8866\n",
      "Epoch 17/200\n",
      "240/240 [==============================] - 90s 375ms/step - loss: 0.1586 - accuracy: 0.9385 - val_loss: 0.3295 - val_accuracy: 0.8942\n"
     ]
    },
    {
     "data": {
      "text/plain": [
       "<keras.callbacks.History at 0x1fa9fd1ac10>"
      ]
     },
     "execution_count": 67,
     "metadata": {},
     "output_type": "execute_result"
    }
   ],
   "source": [
    "#\n",
    "#cb1 = tf.keras.callbacks.TensorBoard()\n",
    "cb2 = tf.keras.callbacks.EarlyStopping(patience=5) # 좀더 참다가 멈추어라 \n",
    "net.fit(X,y,epochs=200,batch_size=200,validation_split=0.2,callbacks=cb2,verbose=1) "
   ]
  },
  {
   "cell_type": "markdown",
   "id": "d4891c40-60c7-4200-ba4e-1136d5886f90",
   "metadata": {},
   "source": [
    "`-` 텐서보드로 그려보자?"
   ]
  },
  {
   "cell_type": "code",
   "execution_count": 75,
   "id": "f963092d-4779-46e0-9fb3-ad1110b84261",
   "metadata": {},
   "outputs": [],
   "source": [
    "%tensorboard --logdir logs --host 0.0.0.0 \n",
    "# 아무것도 안나온다 -> 왜? cb1을 써야 텐서보드가 나옴"
   ]
  },
  {
   "cell_type": "code",
   "execution_count": 81,
   "id": "7de46560",
   "metadata": {},
   "outputs": [
    {
     "name": "stderr",
     "output_type": "stream",
     "text": [
      "'rm'은(는) 내부 또는 외부 명령, 실행할 수 있는 프로그램, 또는\n",
      "배치 파일이 아닙니다.\n",
      "'kill'은(는) 내부 또는 외부 명령, 실행할 수 있는 프로그램, 또는\n",
      "배치 파일이 아닙니다.\n"
     ]
    }
   ],
   "source": [
    "!rm -rf logs\n",
    "!kill 15876"
   ]
  },
  {
   "cell_type": "markdown",
   "id": "c85b8520-fb7e-489d-ac01-530a52cb9423",
   "metadata": {},
   "source": [
    "`-` 조기종료와 텐서보드를 같이 쓰려면?"
   ]
  },
  {
   "cell_type": "code",
   "execution_count": 76,
   "id": "5a8e7583-c664-468b-ab67-6f8b54df485b",
   "metadata": {},
   "outputs": [],
   "source": [
    "tf.random.set_seed(43052)\n",
    "net = tf.keras.Sequential()\n",
    "net.add(tf.keras.layers.Flatten())\n",
    "net.add(tf.keras.layers.Dense(50,activation='relu')) \n",
    "net.add(tf.keras.layers.Dense(10,activation='softmax'))\n",
    "net.compile(optimizer='adam',loss=tf.losses.categorical_crossentropy,metrics='accuracy')"
   ]
  },
  {
   "cell_type": "code",
   "execution_count": 77,
   "id": "85fbb75d-7c66-486d-8fd2-e37d8db0cbae",
   "metadata": {
    "scrolled": true
   },
   "outputs": [
    {
     "name": "stdout",
     "output_type": "stream",
     "text": [
      "Epoch 1/200\n",
      "240/240 [==============================] - 1s 3ms/step - loss: 0.7184 - accuracy: 0.7581 - val_loss: 0.5077 - val_accuracy: 0.8276\n",
      "Epoch 2/200\n",
      "240/240 [==============================] - 1s 2ms/step - loss: 0.4752 - accuracy: 0.8386 - val_loss: 0.4793 - val_accuracy: 0.8342\n",
      "Epoch 3/200\n",
      "240/240 [==============================] - 1s 2ms/step - loss: 0.4304 - accuracy: 0.8517 - val_loss: 0.4386 - val_accuracy: 0.8497\n",
      "Epoch 4/200\n",
      "240/240 [==============================] - 1s 2ms/step - loss: 0.4048 - accuracy: 0.8582 - val_loss: 0.4031 - val_accuracy: 0.8601\n",
      "Epoch 5/200\n",
      "240/240 [==============================] - 1s 2ms/step - loss: 0.3831 - accuracy: 0.8672 - val_loss: 0.3930 - val_accuracy: 0.8620\n",
      "Epoch 6/200\n",
      "240/240 [==============================] - 1s 2ms/step - loss: 0.3698 - accuracy: 0.8701 - val_loss: 0.3837 - val_accuracy: 0.8664\n",
      "Epoch 7/200\n",
      "240/240 [==============================] - 0s 2ms/step - loss: 0.3568 - accuracy: 0.8758 - val_loss: 0.3836 - val_accuracy: 0.8674\n",
      "Epoch 8/200\n",
      "240/240 [==============================] - 0s 2ms/step - loss: 0.3483 - accuracy: 0.8777 - val_loss: 0.3675 - val_accuracy: 0.8706\n",
      "Epoch 9/200\n",
      "240/240 [==============================] - 1s 2ms/step - loss: 0.3386 - accuracy: 0.8804 - val_loss: 0.3606 - val_accuracy: 0.8714\n",
      "Epoch 10/200\n",
      "240/240 [==============================] - 1s 2ms/step - loss: 0.3298 - accuracy: 0.8826 - val_loss: 0.3594 - val_accuracy: 0.8738\n",
      "Epoch 11/200\n",
      "240/240 [==============================] - 1s 2ms/step - loss: 0.3224 - accuracy: 0.8857 - val_loss: 0.3568 - val_accuracy: 0.8720\n",
      "Epoch 12/200\n",
      "240/240 [==============================] - 1s 2ms/step - loss: 0.3154 - accuracy: 0.8881 - val_loss: 0.3563 - val_accuracy: 0.8730\n",
      "Epoch 13/200\n",
      "240/240 [==============================] - 1s 2ms/step - loss: 0.3102 - accuracy: 0.8897 - val_loss: 0.3529 - val_accuracy: 0.8759\n",
      "Epoch 14/200\n",
      "240/240 [==============================] - 1s 2ms/step - loss: 0.3045 - accuracy: 0.8916 - val_loss: 0.3484 - val_accuracy: 0.8769\n",
      "Epoch 15/200\n",
      "240/240 [==============================] - 1s 2ms/step - loss: 0.3004 - accuracy: 0.8931 - val_loss: 0.3476 - val_accuracy: 0.8777\n",
      "Epoch 16/200\n",
      "240/240 [==============================] - 1s 2ms/step - loss: 0.2983 - accuracy: 0.8934 - val_loss: 0.3726 - val_accuracy: 0.8712\n",
      "Epoch 17/200\n",
      "240/240 [==============================] - 1s 2ms/step - loss: 0.2915 - accuracy: 0.8948 - val_loss: 0.3485 - val_accuracy: 0.8754\n",
      "Epoch 18/200\n",
      "240/240 [==============================] - 1s 2ms/step - loss: 0.2873 - accuracy: 0.8958 - val_loss: 0.3408 - val_accuracy: 0.8811\n",
      "Epoch 19/200\n",
      "240/240 [==============================] - 1s 2ms/step - loss: 0.2819 - accuracy: 0.8990 - val_loss: 0.3415 - val_accuracy: 0.8808\n",
      "Epoch 20/200\n",
      "240/240 [==============================] - 1s 2ms/step - loss: 0.2780 - accuracy: 0.8994 - val_loss: 0.3463 - val_accuracy: 0.8787\n",
      "Epoch 21/200\n",
      "240/240 [==============================] - 1s 2ms/step - loss: 0.2755 - accuracy: 0.9014 - val_loss: 0.3340 - val_accuracy: 0.8817\n",
      "Epoch 22/200\n",
      "240/240 [==============================] - 1s 2ms/step - loss: 0.2690 - accuracy: 0.9028 - val_loss: 0.3343 - val_accuracy: 0.8827\n",
      "Epoch 23/200\n",
      "240/240 [==============================] - 1s 2ms/step - loss: 0.2673 - accuracy: 0.9039 - val_loss: 0.3382 - val_accuracy: 0.8820\n",
      "Epoch 24/200\n",
      "240/240 [==============================] - 1s 2ms/step - loss: 0.2638 - accuracy: 0.9054 - val_loss: 0.3431 - val_accuracy: 0.8807\n",
      "Epoch 25/200\n",
      "240/240 [==============================] - 1s 2ms/step - loss: 0.2587 - accuracy: 0.9071 - val_loss: 0.3376 - val_accuracy: 0.8830\n",
      "Epoch 26/200\n",
      "240/240 [==============================] - 1s 2ms/step - loss: 0.2579 - accuracy: 0.9061 - val_loss: 0.3416 - val_accuracy: 0.8811\n",
      "Epoch 27/200\n",
      "240/240 [==============================] - 1s 2ms/step - loss: 0.2548 - accuracy: 0.9084 - val_loss: 0.3378 - val_accuracy: 0.8831\n",
      "Epoch 28/200\n",
      "240/240 [==============================] - 1s 2ms/step - loss: 0.2495 - accuracy: 0.9111 - val_loss: 0.3463 - val_accuracy: 0.8802\n"
     ]
    },
    {
     "data": {
      "text/plain": [
       "<keras.callbacks.History at 0x1fa95863be0>"
      ]
     },
     "execution_count": 77,
     "metadata": {},
     "output_type": "execute_result"
    }
   ],
   "source": [
    "cb1 = tf.keras.callbacks.TensorBoard()\n",
    "cb2 = tf.keras.callbacks.EarlyStopping(patience=7) # 좀더 참다가 멈추어라 \n",
    "net.fit(X,y,epochs=200,batch_size=200,validation_split=0.2,callbacks=[cb1,cb2]) "
   ]
  },
  {
   "cell_type": "code",
   "execution_count": 82,
   "id": "bc54043d-0df0-4e78-b1b0-1fa2c1c6940a",
   "metadata": {},
   "outputs": [],
   "source": [
    "# \n",
    "# 조기종료가 구현된 그림이 출력\n",
    "#%tensorboard --logdir logs --host 0.0.0.0 "
   ]
  },
  {
   "cell_type": "code",
   "execution_count": 80,
   "id": "1998bec1",
   "metadata": {
    "scrolled": true
   },
   "outputs": [
    {
     "name": "stderr",
     "output_type": "stream",
     "text": [
      "'kill'은(는) 내부 또는 외부 명령, 실행할 수 있는 프로그램, 또는\n",
      "배치 파일이 아닙니다.\n"
     ]
    }
   ],
   "source": [
    "!rm -rf logs\n",
    "!kill 15876"
   ]
  },
  {
   "cell_type": "markdown",
   "id": "fa983e19-e107-4522-a0fb-798e61519d22",
   "metadata": {},
   "source": [
    "### 하이퍼파라메터 선택"
   ]
  },
  {
   "cell_type": "markdown",
   "id": "84afda09-5de1-41f2-aee2-252cbd93c355",
   "metadata": {},
   "source": [
    "`-` 하이퍼파라메터 설정"
   ]
  },
  {
   "cell_type": "code",
   "execution_count": 83,
   "id": "e00a6c2b-6a25-4f0c-9a16-f23a9b364448",
   "metadata": {},
   "outputs": [],
   "source": [
    "from tensorboard.plugins.hparams import api as hp"
   ]
  },
  {
   "cell_type": "code",
   "execution_count": 84,
   "id": "9e1e22b7-6859-4ab6-9626-eebb2f793740",
   "metadata": {},
   "outputs": [
    {
     "name": "stdout",
     "output_type": "stream",
     "text": [
      "313/313 [==============================] - 1s 1ms/step - loss: 0.3780 - accuracy: 0.8709\n"
     ]
    }
   ],
   "source": [
    "a=net.evaluate(XX,yy)"
   ]
  },
  {
   "cell_type": "code",
   "execution_count": 34,
   "id": "ff328d81-caac-46a1-af77-4d7ea5325815",
   "metadata": {},
   "outputs": [
    {
     "name": "stdout",
     "output_type": "stream",
     "text": [
      "Epoch 1/3\n",
      "1875/1875 [==============================] - 2s 1ms/step - loss: 0.5255 - accuracy: 0.8180 - recall: 0.7546\n",
      "Epoch 2/3\n",
      "1875/1875 [==============================] - 2s 1ms/step - loss: 0.3993 - accuracy: 0.8588 - recall: 0.8294\n",
      "Epoch 3/3\n",
      "1875/1875 [==============================] - 2s 1ms/step - loss: 0.3648 - accuracy: 0.8698 - recall: 0.8443\n",
      "313/313 [==============================] - 0s 830us/step - loss: 0.4063 - accuracy: 0.8545 - recall: 0.8286\n",
      "Epoch 1/3\n",
      "1875/1875 [==============================] - 2s 1ms/step - loss: 0.7744 - accuracy: 0.7503 - recall: 0.5797\n",
      "Epoch 2/3\n",
      "1875/1875 [==============================] - 2s 1ms/step - loss: 0.5204 - accuracy: 0.8223 - recall: 0.7565\n",
      "Epoch 3/3\n",
      "1875/1875 [==============================] - 2s 1ms/step - loss: 0.4742 - accuracy: 0.8369 - recall: 0.7859\n",
      "313/313 [==============================] - 0s 828us/step - loss: 0.4899 - accuracy: 0.8304 - recall: 0.7831\n",
      "Epoch 1/3\n",
      "1875/1875 [==============================] - 2s 1ms/step - loss: 0.7502 - accuracy: 0.7356 - recall: 0.6115\n",
      "Epoch 2/3\n",
      "1875/1875 [==============================] - 2s 1ms/step - loss: 0.5738 - accuracy: 0.7923 - recall: 0.7133\n",
      "Epoch 3/3\n",
      "1875/1875 [==============================] - 2s 1ms/step - loss: 0.5473 - accuracy: 0.8037 - recall: 0.7321\n",
      "313/313 [==============================] - 0s 865us/step - loss: 0.4319 - accuracy: 0.8448 - recall: 0.7919\n",
      "Epoch 1/3\n",
      "1875/1875 [==============================] - 2s 1ms/step - loss: 1.0932 - accuracy: 0.6228 - recall: 0.3971\n",
      "Epoch 2/3\n",
      "1875/1875 [==============================] - 2s 1ms/step - loss: 0.7616 - accuracy: 0.7388 - recall: 0.5956\n",
      "Epoch 3/3\n",
      "1875/1875 [==============================] - 2s 1ms/step - loss: 0.6828 - accuracy: 0.7684 - recall: 0.6478\n",
      "313/313 [==============================] - 0s 894us/step - loss: 0.5265 - accuracy: 0.8180 - recall: 0.7353\n",
      "Epoch 1/3\n",
      "1875/1875 [==============================] - 2s 1ms/step - loss: 0.4777 - accuracy: 0.8292 - recall: 0.7890\n",
      "Epoch 2/3\n",
      "1875/1875 [==============================] - 2s 1ms/step - loss: 0.3603 - accuracy: 0.8682 - recall: 0.8427\n",
      "Epoch 3/3\n",
      "1875/1875 [==============================] - 2s 1ms/step - loss: 0.3197 - accuracy: 0.8817 - recall: 0.8605\n",
      "313/313 [==============================] - 0s 846us/step - loss: 0.3803 - accuracy: 0.8628 - recall: 0.8428\n",
      "Epoch 1/3\n",
      "1875/1875 [==============================] - 2s 1ms/step - loss: 0.6685 - accuracy: 0.7883 - recall: 0.6444\n",
      "Epoch 2/3\n",
      "1875/1875 [==============================] - 2s 1ms/step - loss: 0.4815 - accuracy: 0.8372 - recall: 0.7781\n",
      "Epoch 3/3\n",
      "1875/1875 [==============================] - 2s 1ms/step - loss: 0.4408 - accuracy: 0.8498 - recall: 0.8021\n",
      "313/313 [==============================] - 0s 859us/step - loss: 0.4634 - accuracy: 0.8390 - recall: 0.7962\n",
      "Epoch 1/3\n",
      "1875/1875 [==============================] - 2s 1ms/step - loss: 0.5708 - accuracy: 0.7991 - recall: 0.7556\n",
      "Epoch 2/3\n",
      "1875/1875 [==============================] - 2s 1ms/step - loss: 0.4418 - accuracy: 0.8393 - recall: 0.8057\n",
      "Epoch 3/3\n",
      "1875/1875 [==============================] - 2s 1ms/step - loss: 0.4091 - accuracy: 0.8514 - recall: 0.8211\n",
      "313/313 [==============================] - 0s 850us/step - loss: 0.3937 - accuracy: 0.8587 - recall: 0.8238\n",
      "Epoch 1/3\n",
      "1875/1875 [==============================] - 2s 1ms/step - loss: 0.6930 - accuracy: 0.7752 - recall: 0.6338\n",
      "Epoch 2/3\n",
      "1875/1875 [==============================] - 2s 1ms/step - loss: 0.5048 - accuracy: 0.8274 - recall: 0.7651\n",
      "Epoch 3/3\n",
      "1875/1875 [==============================] - 2s 1ms/step - loss: 0.4608 - accuracy: 0.8417 - recall: 0.7910\n",
      "313/313 [==============================] - 0s 854us/step - loss: 0.4625 - accuracy: 0.8396 - recall: 0.7957\n"
     ]
    }
   ],
   "source": [
    "!rm -rf logs\n",
    "for u in [50,5000]: \n",
    "    for d in [0.0,0.5]: \n",
    "        for o in ['adam','sgd']:\n",
    "            logdir = 'logs/hpguebin_{}_{}_{}'.format(u,d,o)\n",
    "            with tf.summary.create_file_writer(logdir).as_default():\n",
    "                net = tf.keras.Sequential()\n",
    "                net.add(tf.keras.layers.Flatten())\n",
    "                net.add(tf.keras.layers.Dense(u,activation='relu'))\n",
    "                net.add(tf.keras.layers.Dropout(d))\n",
    "                net.add(tf.keras.layers.Dense(10,activation='softmax'))\n",
    "                net.compile(optimizer=o,loss=tf.losses.categorical_crossentropy,metrics=['accuracy','Recall'])\n",
    "                cb3 = hp.KerasCallback(logdir, {'유닛수':u, '드랍아웃비율':d, '옵티마이저':o})\n",
    "                net.fit(X,y,epochs=3,callbacks=cb3)\n",
    "                _rslt=net.evaluate(XX,yy)\n",
    "                _mymetric=_rslt[1]*0.8 + _rslt[2]*0.2  \n",
    "                tf.summary.scalar('애큐러시와리컬의가중평균(테스트셋)', _mymetric, step=1) "
   ]
  },
  {
   "cell_type": "code",
   "execution_count": 35,
   "id": "43419b69-c0a2-4968-9978-bd51c3028965",
   "metadata": {},
   "outputs": [],
   "source": [
    "#\n",
    "#%tensorboard --logdir logs --host 0.0.0.0"
   ]
  },
  {
   "cell_type": "markdown",
   "id": "32f8e532-65f9-49bf-bb16-d332bdd8b8d2",
   "metadata": {},
   "source": [
    "## 숙제"
   ]
  },
  {
   "cell_type": "markdown",
   "id": "038d1f13-e0be-4c80-a532-c167c3e76528",
   "metadata": {},
   "source": [
    "`-` 아래의 네트워크에서 옵티마이저를 adam, sgd를 선택하여 각각 적합시켜보고 testset의 loss를 성능비교를 하라. epoch은 5정도로 설정하라. \n",
    "```\n",
    "net = tf.keras.Sequential()\n",
    "net.add(tf.keras.layers.Flatten())\n",
    "net.add(tf.keras.layers.Dense(50,activation='relu'))\n",
    "net.add(tf.keras.layers.Dense(50,activation='relu'))\n",
    "net.add(tf.keras.layers.Dense(10,activation='softmax'))\n",
    "net.compile(optimizer=???,loss=tf.losses.categorical_crossentropy,metrics=['accuracy','Recall'])\n",
    "```"
   ]
  }
 ],
 "metadata": {
  "kernelspec": {
   "display_name": "Python 3 (ipykernel)",
   "language": "python",
   "name": "python3"
  },
  "language_info": {
   "codemirror_mode": {
    "name": "ipython",
    "version": 3
   },
   "file_extension": ".py",
   "mimetype": "text/x-python",
   "name": "python",
   "nbconvert_exporter": "python",
   "pygments_lexer": "ipython3",
   "version": "3.8.12"
  }
 },
 "nbformat": 4,
 "nbformat_minor": 5
}
