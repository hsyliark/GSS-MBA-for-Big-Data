{
 "cells": [
  {
   "cell_type": "markdown",
   "id": "97beba88-9ac2-42a0-9650-047c21030bfb",
   "metadata": {
    "id": "97beba88-9ac2-42a0-9650-047c21030bfb",
    "tags": []
   },
   "source": [
    "# (10주차) 5월4일 -- draft\n",
    "\n",
    "- toc:true\n",
    "- branch: master\n",
    "- badges: true\n",
    "- comments: true\n",
    "- author: 최규빈"
   ]
  },
  {
   "cell_type": "markdown",
   "id": "ac2bb758-88bd-4d13-a44a-e26e31765c53",
   "metadata": {
    "id": "ac2bb758-88bd-4d13-a44a-e26e31765c53"
   },
   "source": [
    "### 강의영상 "
   ]
  },
  {
   "cell_type": "markdown",
   "id": "543249c1-4743-464d-8a79-064806977478",
   "metadata": {
    "id": "543249c1-4743-464d-8a79-064806977478"
   },
   "source": [
    "### imports"
   ]
  },
  {
   "cell_type": "code",
   "execution_count": 1,
   "id": "1edd3beb-83e4-4b0c-b983-af9088934041",
   "metadata": {
    "id": "1edd3beb-83e4-4b0c-b983-af9088934041"
   },
   "outputs": [],
   "source": [
    "import tensorflow as tf\n",
    "import matplotlib.pyplot as plt\n",
    "import numpy as np\n",
    "import tensorflow.experimental.numpy as tnp"
   ]
  },
  {
   "cell_type": "code",
   "execution_count": 2,
   "id": "e61bdf67-7ab5-4547-9543-866f90e35352",
   "metadata": {
    "colab": {
     "base_uri": "https://localhost:8080/"
    },
    "id": "e61bdf67-7ab5-4547-9543-866f90e35352",
    "outputId": "7e9878e4-8d7f-4458-e794-15a416a7c207"
   },
   "outputs": [
    {
     "data": {
      "text/plain": [
       "[PhysicalDevice(name='/physical_device:CPU:0', device_type='CPU')]"
      ]
     },
     "execution_count": 2,
     "metadata": {},
     "output_type": "execute_result"
    }
   ],
   "source": [
    "tf.config.experimental.list_physical_devices()"
   ]
  },
  {
   "cell_type": "code",
   "execution_count": 3,
   "id": "a9ce7f36-1c67-4073-b199-1f3de7575778",
   "metadata": {
    "id": "a9ce7f36-1c67-4073-b199-1f3de7575778"
   },
   "outputs": [],
   "source": [
    "import graphviz\n",
    "def gv(s): return graphviz.Source('digraph G{ rankdir=\"LR\"'+ s + ';}')"
   ]
  },
  {
   "cell_type": "markdown",
   "id": "286672c2-7f0e-4f36-91b0-38d32f5eed2d",
   "metadata": {
    "id": "286672c2-7f0e-4f36-91b0-38d32f5eed2d"
   },
   "source": [
    "### 로지스틱 모형 (1): 활성화함수로 sigmoid 선택"
   ]
  },
  {
   "cell_type": "markdown",
   "id": "a7374371-bce1-4524-904b-333aeb0df3ab",
   "metadata": {
    "id": "a7374371-bce1-4524-904b-333aeb0df3ab"
   },
   "source": [
    "`-` 기본버전은 아래와 같다 "
   ]
  },
  {
   "cell_type": "markdown",
   "id": "102f5a26-ebdd-47b1-8034-8d527756a242",
   "metadata": {
    "id": "102f5a26-ebdd-47b1-8034-8d527756a242"
   },
   "source": [
    "$$y_i \\approx \\text{sigmoid}(b + w_1 x_{1,i} + \\dots + w_{784}x_{784,i})= \\frac{\\exp(b + w_1 x_{1,i} + \\dots + w_{784}x_{784,i})}{1+\\exp(b + w_1 x_{1,i} + \\dots + w_{784}x_{784,i})}$$"
   ]
  },
  {
   "cell_type": "markdown",
   "id": "46df0568-2a7a-4ffc-a321-b56871b3aff4",
   "metadata": {
    "id": "46df0568-2a7a-4ffc-a321-b56871b3aff4"
   },
   "source": [
    "`-` 벡터버전은 아래와 같다. "
   ]
  },
  {
   "cell_type": "markdown",
   "id": "d56be9d3-f1b4-419a-bf77-d478f5feac0f",
   "metadata": {
    "id": "d56be9d3-f1b4-419a-bf77-d478f5feac0f"
   },
   "source": [
    "$${\\boldsymbol y} \\approx \\text{sigmoid}({\\bf X}{\\bf W} + b) = \\frac{\\exp({\\bf XW} +b)}{1+\\exp({\\bf XW} +b)}$$ "
   ]
  },
  {
   "cell_type": "markdown",
   "id": "054767b6-1053-495a-bd5d-3315b7f4bcb2",
   "metadata": {
    "id": "054767b6-1053-495a-bd5d-3315b7f4bcb2"
   },
   "source": [
    "`-` 벡터버전에 익숙해지도록 하자. 벡터버전에 사용된 차원 및 연산을 정리하면 아래와 같다. \n",
    "\n",
    "- ${\\bf X}$: (n,784) matrix \n",
    "\n",
    "- ${\\boldsymbol y}$: (n,1) matrix\n",
    "\n",
    "- ${\\bf W}$: (784,1) matrix\n",
    "\n",
    "- $b$: (1,1) matrix\n",
    "\n",
    "- `+`, `exp` 는 브로드캐스팅"
   ]
  },
  {
   "cell_type": "markdown",
   "id": "8903e561-1357-4e81-8b33-b69602a41ee2",
   "metadata": {
    "id": "8903e561-1357-4e81-8b33-b69602a41ee2"
   },
   "source": [
    "### 로지스틱 모형 (2): 활성화함수로 softmax 선택"
   ]
  },
  {
   "cell_type": "markdown",
   "id": "70b1e4f3-7493-470a-9146-10ad946bd877",
   "metadata": {
    "id": "70b1e4f3-7493-470a-9146-10ad946bd877"
   },
   "source": [
    "`-` $y_i=0 \\text{ or } 1$ 대신에 $\\boldsymbol{y}_i=[y_{i1},y_{i2}]= [1,0] \\text { or } [0,1]$와 같이 코딩하면 어떠할까? (즉 원핫인코딩을 한다면?) "
   ]
  },
  {
   "cell_type": "markdown",
   "id": "c8b05046-505d-4b93-8ef2-d023abf4ae49",
   "metadata": {
    "id": "c8b05046-505d-4b93-8ef2-d023abf4ae49"
   },
   "source": [
    "`-` 활성화 함수를 취하기 전의 버전은 아래와 같이 볼 수 있다. \n",
    "\n",
    "$$[{\\boldsymbol y}_1 ~ {\\boldsymbol y}_2] \\propto  [ {\\bf X}{\\bf W}_1  ~ {\\bf X}{\\bf W}_2] + [b_1 ~ b_2]= {\\bf X} [{\\bf W}_1 {\\bf W}_2] + [b_1 ~ b_2]= {\\bf X}{\\bf W} + {\\boldsymbol b}$$\n",
    "    \n",
    "여기에서 매트릭스 및 연산의 차원을 정리하면 아래와 같다. \n",
    "\n",
    "- ${\\bf X}$: (n,784) matrix \n",
    "\n",
    "- ${\\boldsymbol y}_1,{\\boldsymbol y}_2$: (n,1) matrix\n",
    "\n",
    "- ${\\boldsymbol y}:=[{\\boldsymbol y}_1~ {\\boldsymbol y}_2]$: (n,2) matrix\n",
    "\n",
    "- ${\\bf W}_1$, ${\\bf W}_2$: (784,1) matrix\n",
    "\n",
    "- ${\\bf W}:=[{\\bf W}_1~ {\\bf W}_2]$: (784,2) matrix\n",
    "\n",
    "- $b_1,b_2$: (1,1) matrix\n",
    "\n",
    "- $\\boldsymbol{b}:= [b_1 ~b_2] $: (1,2) matrix\n",
    "\n",
    "- `+` 는 브로드캐스팅\n",
    "\n"
   ]
  },
  {
   "cell_type": "markdown",
   "id": "e7cfddf1-c94a-40d0-b2d5-0a4cbb609e30",
   "metadata": {
    "id": "e7cfddf1-c94a-40d0-b2d5-0a4cbb609e30"
   },
   "source": [
    "`-` 즉 로지스틱 모형 (1)의 형태를 겹쳐놓은 형태로 해석할 수 있음. 따라서 ${\\bf X} {\\bf W}_1 + b_1$와 ${\\bf X} {\\bf W}_2 + b_2$의 row값이 클수록 ${\\boldsymbol y}_1$와 ${\\boldsymbol y}_2$의 row값이 1이어야 함 \n",
    "\n",
    "- ${\\boldsymbol y}_1 \\propto  {\\bf X} {\\bf W}_1 + b_1$ $\\to$ ${\\bf X} {\\bf W}_1 + b_1$의 row값이 클수록 $\\boldsymbol{y}_1$의 row 값이 1이라면 모형계수를 잘 추정한것 \n",
    "- ${\\boldsymbol y}_2 \\propto  {\\bf X} {\\bf W}_2 + b_2$ $\\to$ ${\\bf X} {\\bf W}_2 + b_2$의 row값이 클수록 $\\boldsymbol{y}_2$의 row 값이 1이라면 모형계수를 잘 추정한것\n"
   ]
  },
  {
   "cell_type": "markdown",
   "id": "423a3c13-ab35-4aad-af83-63961ba83608",
   "metadata": {
    "id": "423a3c13-ab35-4aad-af83-63961ba83608"
   },
   "source": [
    "`-` (문제) ${\\bf X}{\\bf W}_1 +b_1$의 값이 500, ${\\bf X}{\\bf W}_2 +b_2$의 값이 200 인 row가 있다고 하자. 대응하는 $\\boldsymbol{y}_1, \\boldsymbol{y}_2$의 row값은 얼마로 적합되어야 하는가? \n",
    "\n",
    "(1) $[0,0]$\n",
    "\n",
    "(2) $[0,1]$\n",
    "\n",
    "(3) $[1,0]$ <-- 이게 답이다!\n",
    "\n",
    "(4) $[1,1]$"
   ]
  },
  {
   "cell_type": "markdown",
   "id": "b4e2ab82-70c4-48c0-9f41-0d83709d3207",
   "metadata": {
    "id": "b4e2ab82-70c4-48c0-9f41-0d83709d3207"
   },
   "source": [
    "> note: 둘다 0 혹은 둘다 1로 적합할수는 없으니까 (1), (4)는 제외한다. ${\\bf X}{\\bf W}_1 +b_1$의 값이 ${\\bf X}{\\bf W}_2 +b_2$의 값보다 크므로 (3)번이 합리적임 "
   ]
  },
  {
   "cell_type": "markdown",
   "id": "8d7975f7-60ef-4be1-8bf1-22c59c923c90",
   "metadata": {
    "id": "8d7975f7-60ef-4be1-8bf1-22c59c923c90"
   },
   "source": [
    "`-` **목표:** 위와 같은 문제의 답을 유도해주는 활성화함수를 설계하자. 즉 합리적인 $\\hat{\\boldsymbol{y}}_1,\\hat{\\boldsymbol{y}}_2$를 구해주는 활성화 함수를 설계해보자. 이를 위해서는 아래의 사항들이 충족되어야 한다. \n",
    "\n",
    "(1) $\\hat{\\boldsymbol{y}}_1$, $\\hat{\\boldsymbol{y}}_2$의 각 원소는 0보다 크고 1보다 작아야 한다. (확률을 의미해야 하니까)\n",
    "\n",
    "(2) $\\hat{\\boldsymbol{y}}_1+\\hat{\\boldsymbol{y}}_2={\\bf 1}$ 이어야 한다. (확률의 총합은 1이니까!)\n",
    "\n",
    "(3) $\\hat{\\boldsymbol{y}}_1$와 $\\hat{\\boldsymbol{y}}_2$를 각각 따로해석하면 로지스틱처럼 되면 좋겠다. "
   ]
  },
  {
   "cell_type": "markdown",
   "id": "e0fb187f-3ad4-47e1-a427-14564f522110",
   "metadata": {
    "id": "e0fb187f-3ad4-47e1-a427-14564f522110"
   },
   "source": [
    "`-` 아래와 같은 활성화 함수를 도입하면 어떨까? "
   ]
  },
  {
   "cell_type": "markdown",
   "id": "57112571-e57c-4472-b240-d58f572813fa",
   "metadata": {
    "id": "57112571-e57c-4472-b240-d58f572813fa"
   },
   "source": [
    "$$\\hat{\\boldsymbol{y}}=[\\hat{\\boldsymbol y}_1 ~ \\hat{\\boldsymbol y}_2] =  \\big[ \\frac{\\exp({\\bf X}\\hat{\\bf W}_1+\\hat{b}_1)}{\\exp({\\bf X}\\hat{\\bf W}_1+\\hat{b}_1)+\\exp({\\bf X}\\hat{\\bf W}_2+\\hat{b}_2)}  ~~ \\frac{\\exp({\\bf X}\\hat{\\bf W}_2+\\hat{b}_2)}{\\exp({\\bf X}\\hat{\\bf W}_1+\\hat{b}_1)+\\exp({\\bf X}\\hat{\\bf W}_2+\\hat{b}_2)}  \\big]$$ "
   ]
  },
  {
   "cell_type": "markdown",
   "id": "9389d181-153d-4208-babe-fe98a71d15de",
   "metadata": {
    "id": "9389d181-153d-4208-babe-fe98a71d15de"
   },
   "source": [
    "`-` (1),(2)는 만족하는 듯 하다. (3)은 바로 이해되지는 않는다\n",
    "\n",
    "(1) $\\hat{\\boldsymbol{y}}_1$, $\\hat{\\boldsymbol{y}}_2$의 각 원소는 0보다 크고 1보다 작아야 한다. --> OK!\n",
    "\n",
    "(2) $\\hat{\\boldsymbol{y}}_1+\\hat{\\boldsymbol{y}}_2={\\bf 1}$ 이어야 한다. --> OK!\n",
    "\n",
    "(3) $\\hat{\\boldsymbol{y}}_1$와 $\\hat{\\boldsymbol{y}}_2$를 각각 따로해석하면 로지스틱처럼 되면 좋겠다.  --> ??? "
   ]
  },
  {
   "cell_type": "markdown",
   "id": "acc0dec8-25dc-4001-bce7-ffd9634b905d",
   "metadata": {
    "id": "acc0dec8-25dc-4001-bce7-ffd9634b905d"
   },
   "source": [
    "`-` 그런데 조금 따져보면 (3)도 만족된다는 것을 알 수 있다. (sigmoid, softmax Section 참고)"
   ]
  },
  {
   "cell_type": "markdown",
   "id": "0c9a7bfc-3cd6-4ccf-ab03-df1c049b93f6",
   "metadata": {
    "id": "0c9a7bfc-3cd6-4ccf-ab03-df1c049b93f6"
   },
   "source": [
    "`-` 위와 같은 함수를 softmax라고 하자. 즉 아래와 같이 정의하자. "
   ]
  },
  {
   "cell_type": "markdown",
   "id": "54e9c5b6-68f6-43b4-861f-860dcf66184c",
   "metadata": {
    "id": "54e9c5b6-68f6-43b4-861f-860dcf66184c"
   },
   "source": [
    "$$\n",
    "\\hat{\\boldsymbol y} = \\text{softmax}({\\bf X}\\hat{\\bf W} + {\\boldsymbol b}) \n",
    "= \\big[ \\frac{\\exp({\\bf X}\\hat{\\bf W}_1+\\hat{b}_1)}{\\exp({\\bf X}\\hat{\\bf W}_1+\\hat{b}_1)+\\exp({\\bf X}\\hat{\\bf W}_2+\\hat{b}_2)}  ~~ \\frac{\\exp({\\bf X}\\hat{\\bf W}_2+\\hat{b}_2)}{\\exp({\\bf X}\\hat{\\bf W}_1+\\hat{b}_1)+\\exp({\\bf X}\\hat{\\bf W}_2+\\hat{b}_2)}  \\big]\n",
    "$$"
   ]
  },
  {
   "cell_type": "markdown",
   "id": "fe0ee939-65ff-4a6d-b993-17b7f9fb151a",
   "metadata": {
    "id": "fe0ee939-65ff-4a6d-b993-17b7f9fb151a"
   },
   "source": [
    "### sigmoid, softmax "
   ]
  },
  {
   "cell_type": "markdown",
   "id": "91fea542-a675-461c-befa-54bd740e6596",
   "metadata": {
    "id": "91fea542-a675-461c-befa-54bd740e6596"
   },
   "source": [
    "#### **softmax는 sigmoid의 확장형**"
   ]
  },
  {
   "cell_type": "markdown",
   "id": "472e477f-1e23-4eb5-bce5-d351af1cacd8",
   "metadata": {
    "id": "472e477f-1e23-4eb5-bce5-d351af1cacd8"
   },
   "source": [
    "`-` 아래의 수식을 관찰하자. \n",
    "$$\\frac{\\exp(\\beta_0+\\beta_1 x_i)}{1+\\exp(\\beta_0+\\beta_1x_i)}=\\frac{\\exp(\\beta_0+\\beta_1 x_i)}{e^0+\\exp(\\beta_0+\\beta_1x_i)}$$"
   ]
  },
  {
   "cell_type": "markdown",
   "id": "4436ea56-c16b-4511-ba7f-4d06da30783f",
   "metadata": {
    "id": "4436ea56-c16b-4511-ba7f-4d06da30783f"
   },
   "source": [
    "`-` 1을 $e^0$로 해석하면 모형2의 해석을 아래와 같이 모형1의 해석으로 적용할수 있다. \n",
    "- 모형2: ${\\bf X}\\hat{\\bf W}_1 +\\hat{b}_1$ 와 ${\\bf X}\\hat{\\bf W}_2 +\\hat{b}_2$ 의 크기를 비교하고 확률 결정\n",
    "- 모형1: ${\\bf X}\\hat{\\bf W} +\\hat{b}$ 와 $0$의 크기를 비교하고 확률 결정 = ${\\bf X}\\hat{\\bf W} +\\hat{b}$의 row값이 양수이면 1로 예측하고 음수이면 0으로 예측"
   ]
  },
  {
   "cell_type": "markdown",
   "id": "97c4bf48-b5c2-4775-9827-bb16632323b2",
   "metadata": {
    "id": "97c4bf48-b5c2-4775-9827-bb16632323b2"
   },
   "source": [
    "`-` 이항분포를 차원이 2인 다항분포로 해석가능한 것처럼 sigmoid는 차원이 2인 softmax로 해석가능하다. 즉 다항분포가 이항분포의 확장형으로 해석가능한 것처럼 softmax도 sigmoid의 확장형으로 해석가능하다. "
   ]
  },
  {
   "cell_type": "markdown",
   "id": "b4217f33-bb5d-4cf5-b68b-01a55a8b2faa",
   "metadata": {
    "id": "b4217f33-bb5d-4cf5-b68b-01a55a8b2faa"
   },
   "source": [
    "#### **클래스의 수가 2인 경우 softmax vs sigmoid**"
   ]
  },
  {
   "cell_type": "markdown",
   "id": "e3d77d5b-06c6-498b-a043-efa67ba4945e",
   "metadata": {
    "id": "e3d77d5b-06c6-498b-a043-efa67ba4945e"
   },
   "source": [
    "`-` 언뜻 생각하면 클래스가 2인 경우에도 sigmoid 대신 softmax로 활성화함수를 이용해도 될 듯 하다. 즉 $y=0 \\text{ or } 1$와 같이 정리하지 않고 $y=[0,1] \\text{ or } [1,0]$ 와 같이 정리해도 무방할 듯 하다. "
   ]
  },
  {
   "cell_type": "markdown",
   "id": "15f430aa-a91e-4420-aa4e-79655afc1911",
   "metadata": {
    "id": "15f430aa-a91e-4420-aa4e-79655afc1911"
   },
   "source": [
    "`-` 하지만 sigmoid가 좀 더 좋은 선택이다. 즉 $y= 0 \\text{ or } 1$로 데이터를 정리하는 것이 더 좋은 선택이다. 왜냐하면 sigmoid는 softmax와 비교하여 파라메터의 수가 적지만 표현력은 동등하기 때문이다. "
   ]
  },
  {
   "cell_type": "markdown",
   "id": "b3d096cb-6cce-480e-83d4-ed31cd80d90b",
   "metadata": {
    "id": "b3d096cb-6cce-480e-83d4-ed31cd80d90b"
   },
   "source": [
    "`-` 표현력이 동등한 이유? 아래 수식을 관찰하자. "
   ]
  },
  {
   "cell_type": "markdown",
   "id": "7577cb65-71b0-45f2-ae0f-c4814990c523",
   "metadata": {
    "id": "7577cb65-71b0-45f2-ae0f-c4814990c523"
   },
   "source": [
    "$$\\big(\\frac{e^{300}}{e^{300}+e^{500}},\\frac{e^{500}}{e^{300}+e^{500}}\\big) =\\big( \\frac{e^{0}}{e^{0}+e^{200}}, \\frac{e^{200}}{e^{0}+e^{200}}\\big)$$"
   ]
  },
  {
   "cell_type": "markdown",
   "id": "568fa9e5-21b5-4613-b2ec-ea4099f5dbb8",
   "metadata": {
    "id": "568fa9e5-21b5-4613-b2ec-ea4099f5dbb8"
   },
   "source": [
    "- $\\big(\\frac{e^{300}}{e^{300}+e^{500}},\\frac{e^{500}}{e^{300}+e^{500}}\\big)$를 표현하기 위해서 300, 500 이라는 2개의 숫자가 필요한것이 아니고 따지고보면 200이라는 하나의 숫자만 필요하다. \n",
    "- $(\\hat{\\boldsymbol{y}}_1,\\hat{\\boldsymbol{y}}_2)$의 표현에서도 ${\\bf X}\\hat{\\bf W}_1 +\\hat{b}_1$ 와 ${\\bf X}\\hat{\\bf W}_2 +\\hat{b}_2$ 라는 숫자 각각이 필요한 것이 아니고 $({\\bf X}\\hat{\\bf W}_1 +\\hat{b}_1)-({\\bf X}\\hat{\\bf W}_2 +\\hat{b}_2)$의 값만 알면 된다. "
   ]
  },
  {
   "cell_type": "markdown",
   "id": "f9b4c10c-3e3c-4463-a51d-21bc203c5413",
   "metadata": {
    "id": "f9b4c10c-3e3c-4463-a51d-21bc203c5413"
   },
   "source": [
    "`-` 클래스의 수가 2개일 경우는 softmax가 sigmoid에 비하여 장점이 없다. 하지만 softmax는 클래스의 수가 3개 이상일 경우로 쉽게 확장할 수 있다는 점에서 매력적인 활성화 함수이다. "
   ]
  },
  {
   "cell_type": "markdown",
   "id": "39f74052-5108-47ed-a0df-92a304eab7a4",
   "metadata": {
    "id": "39f74052-5108-47ed-a0df-92a304eab7a4"
   },
   "source": [
    "### 분류할 클래스가 3개 이상일 경우 신경망 모형의 설계 "
   ]
  },
  {
   "cell_type": "markdown",
   "id": "8b9f1d0e-f7c5-467c-83c8-3c4ea48c781a",
   "metadata": {
    "id": "8b9f1d0e-f7c5-467c-83c8-3c4ea48c781a"
   },
   "source": [
    "`-` y의 모양: [0 1 0 0 0 0 0 0 0 0] "
   ]
  },
  {
   "cell_type": "markdown",
   "id": "4c47baef-ec59-40fb-82b9-243def01a1cc",
   "metadata": {
    "id": "4c47baef-ec59-40fb-82b9-243def01a1cc"
   },
   "source": [
    "`-` 활성화함수의 선택: softmax "
   ]
  },
  {
   "cell_type": "markdown",
   "id": "5ad22ed8-d048-49d6-aa2e-9e128e016a8f",
   "metadata": {
    "id": "5ad22ed8-d048-49d6-aa2e-9e128e016a8f"
   },
   "source": [
    "`-` 손실함수의 선택: cross entropy"
   ]
  },
  {
   "cell_type": "markdown",
   "id": "2617c64a-af9c-4611-98d1-930d80bcd02e",
   "metadata": {
    "id": "2617c64a-af9c-4611-98d1-930d80bcd02e"
   },
   "source": [
    "### Fashion_MNIST 다중분류 "
   ]
  },
  {
   "cell_type": "markdown",
   "id": "a0911d23-b18e-4f72-824b-7a122633ccf6",
   "metadata": {
    "id": "a0911d23-b18e-4f72-824b-7a122633ccf6"
   },
   "source": [
    "`-` 데이터정리 "
   ]
  },
  {
   "cell_type": "code",
   "execution_count": 4,
   "id": "62d7b2fc-93f6-4992-b12f-162daeedd802",
   "metadata": {
    "colab": {
     "base_uri": "https://localhost:8080/"
    },
    "id": "62d7b2fc-93f6-4992-b12f-162daeedd802",
    "outputId": "81204b97-3d3e-4f43-9881-53557e35cca5"
   },
   "outputs": [
    {
     "name": "stdout",
     "output_type": "stream",
     "text": [
      "Downloading data from https://storage.googleapis.com/tensorflow/tf-keras-datasets/train-labels-idx1-ubyte.gz\n",
      "32768/29515 [=================================] - 0s 0us/step\n",
      "40960/29515 [=========================================] - 0s 0us/step\n",
      "Downloading data from https://storage.googleapis.com/tensorflow/tf-keras-datasets/train-images-idx3-ubyte.gz\n",
      "26427392/26421880 [==============================] - 0s 0us/step\n",
      "26435584/26421880 [==============================] - 0s 0us/step\n",
      "Downloading data from https://storage.googleapis.com/tensorflow/tf-keras-datasets/t10k-labels-idx1-ubyte.gz\n",
      "16384/5148 [===============================================================================================] - 0s 0us/step\n",
      "Downloading data from https://storage.googleapis.com/tensorflow/tf-keras-datasets/t10k-images-idx3-ubyte.gz\n",
      "4423680/4422102 [==============================] - 0s 0us/step\n",
      "4431872/4422102 [==============================] - 0s 0us/step\n"
     ]
    }
   ],
   "source": [
    "(x_train, y_train), (x_test, y_test) = tf.keras.datasets.fashion_mnist.load_data()"
   ]
  },
  {
   "cell_type": "code",
   "execution_count": 5,
   "id": "02066a46-9e08-4daa-9c77-527959b0a8d8",
   "metadata": {
    "colab": {
     "base_uri": "https://localhost:8080/"
    },
    "id": "02066a46-9e08-4daa-9c77-527959b0a8d8",
    "outputId": "0af335a6-850d-45e6-c036-09b242e8d323"
   },
   "outputs": [
    {
     "data": {
      "text/plain": [
       "array([[0., 0., 0., ..., 0., 0., 1.],\n",
       "       [1., 0., 0., ..., 0., 0., 0.],\n",
       "       [1., 0., 0., ..., 0., 0., 0.],\n",
       "       ...,\n",
       "       [0., 0., 0., ..., 0., 0., 0.],\n",
       "       [1., 0., 0., ..., 0., 0., 0.],\n",
       "       [0., 0., 0., ..., 0., 0., 0.]], dtype=float32)"
      ]
     },
     "execution_count": 5,
     "metadata": {},
     "output_type": "execute_result"
    }
   ],
   "source": [
    "tf.keras.utils.to_categorical(y_train) # One Hot Encoding"
   ]
  },
  {
   "cell_type": "code",
   "execution_count": 6,
   "id": "2b136283-917f-46bb-a54d-6290601b2756",
   "metadata": {
    "id": "2b136283-917f-46bb-a54d-6290601b2756"
   },
   "outputs": [],
   "source": [
    "X=x_train.reshape(-1,784)\n",
    "y=tf.keras.utils.to_categorical(y_train)\n",
    "XX=x_test.reshape(-1,784)\n",
    "yy=tf.keras.utils.to_categorical(y_test)"
   ]
  },
  {
   "cell_type": "markdown",
   "id": "0b5948cc-79e9-4e50-bffd-ebbffe97218e",
   "metadata": {
    "id": "0b5948cc-79e9-4e50-bffd-ebbffe97218e"
   },
   "source": [
    "`-` 시도1: 간단한 신경망"
   ]
  },
  {
   "cell_type": "code",
   "execution_count": 7,
   "id": "a1b48353-a3ea-483e-9f87-f83e37e3b252",
   "metadata": {
    "colab": {
     "base_uri": "https://localhost:8080/",
     "height": 368
    },
    "id": "a1b48353-a3ea-483e-9f87-f83e37e3b252",
    "outputId": "3bb05f02-9ec1-4699-9e5a-0b8734634819"
   },
   "outputs": [
    {
     "data": {
      "image/svg+xml": [
       "<?xml version=\"1.0\" encoding=\"UTF-8\" standalone=\"no\"?>\n",
       "<!DOCTYPE svg PUBLIC \"-//W3C//DTD SVG 1.1//EN\"\n",
       " \"http://www.w3.org/Graphics/SVG/1.1/DTD/svg11.dtd\">\n",
       "<!-- Generated by graphviz version 2.40.1 (20161225.0304)\n",
       " -->\n",
       "<!-- Title: G Pages: 1 -->\n",
       "<svg width=\"341pt\" height=\"261pt\"\n",
       " viewBox=\"0.00 0.00 341.09 261.00\" xmlns=\"http://www.w3.org/2000/svg\" xmlns:xlink=\"http://www.w3.org/1999/xlink\">\n",
       "<g id=\"graph0\" class=\"graph\" transform=\"scale(1 1) rotate(0) translate(4 257)\">\n",
       "<title>G</title>\n",
       "<polygon fill=\"#ffffff\" stroke=\"transparent\" points=\"-4,4 -4,-257 337.0877,-257 337.0877,4 -4,4\"/>\n",
       "<g id=\"clust1\" class=\"cluster\">\n",
       "<title>cluster_1</title>\n",
       "<polygon fill=\"#d3d3d3\" stroke=\"#d3d3d3\" points=\"8,-8 8,-245 85.0946,-245 85.0946,-8 8,-8\"/>\n",
       "<text text-anchor=\"middle\" x=\"46.5473\" y=\"-229.8\" font-family=\"Times,serif\" font-size=\"14.00\" fill=\"#000000\">Layer 0</text>\n",
       "</g>\n",
       "<g id=\"clust2\" class=\"cluster\">\n",
       "<title>cluster_2</title>\n",
       "<polygon fill=\"#d3d3d3\" stroke=\"#d3d3d3\" points=\"105.0946,-8 105.0946,-245 199.0877,-245 199.0877,-8 105.0946,-8\"/>\n",
       "<text text-anchor=\"middle\" x=\"152.0911\" y=\"-229.8\" font-family=\"Times,serif\" font-size=\"14.00\" fill=\"#000000\">Layer 1: relu</text>\n",
       "</g>\n",
       "<g id=\"clust3\" class=\"cluster\">\n",
       "<title>cluster_3</title>\n",
       "<polygon fill=\"#d3d3d3\" stroke=\"#d3d3d3\" points=\"219.0877,-35 219.0877,-218 333.0877,-218 333.0877,-35 219.0877,-35\"/>\n",
       "<text text-anchor=\"middle\" x=\"276.0877\" y=\"-202.8\" font-family=\"Times,serif\" font-size=\"14.00\" fill=\"#000000\">Layer 2: softmax</text>\n",
       "</g>\n",
       "<!-- x1 -->\n",
       "<g id=\"node1\" class=\"node\">\n",
       "<title>x1</title>\n",
       "<ellipse fill=\"none\" stroke=\"#000000\" cx=\"46.5473\" cy=\"-196\" rx=\"27\" ry=\"18\"/>\n",
       "<text text-anchor=\"middle\" x=\"46.5473\" y=\"-192.3\" font-family=\"Times,serif\" font-size=\"14.00\" fill=\"#000000\">x1</text>\n",
       "</g>\n",
       "<!-- node1 -->\n",
       "<g id=\"node5\" class=\"node\">\n",
       "<title>node1</title>\n",
       "<ellipse fill=\"none\" stroke=\"#000000\" cx=\"152.0911\" cy=\"-196\" rx=\"34.394\" ry=\"18\"/>\n",
       "<text text-anchor=\"middle\" x=\"152.0911\" y=\"-192.3\" font-family=\"Times,serif\" font-size=\"14.00\" fill=\"#000000\">node1</text>\n",
       "</g>\n",
       "<!-- x1&#45;&gt;node1 -->\n",
       "<g id=\"edge1\" class=\"edge\">\n",
       "<title>x1&#45;&gt;node1</title>\n",
       "<path fill=\"none\" stroke=\"#000000\" d=\"M73.7274,-196C83.9217,-196 95.7972,-196 107.1744,-196\"/>\n",
       "<polygon fill=\"#000000\" stroke=\"#000000\" points=\"107.4202,-199.5001 117.4202,-196 107.4202,-192.5001 107.4202,-199.5001\"/>\n",
       "</g>\n",
       "<!-- node2 -->\n",
       "<g id=\"node6\" class=\"node\">\n",
       "<title>node2</title>\n",
       "<ellipse fill=\"none\" stroke=\"#000000\" cx=\"152.0911\" cy=\"-142\" rx=\"34.394\" ry=\"18\"/>\n",
       "<text text-anchor=\"middle\" x=\"152.0911\" y=\"-138.3\" font-family=\"Times,serif\" font-size=\"14.00\" fill=\"#000000\">node2</text>\n",
       "</g>\n",
       "<!-- x1&#45;&gt;node2 -->\n",
       "<g id=\"edge5\" class=\"edge\">\n",
       "<title>x1&#45;&gt;node2</title>\n",
       "<path fill=\"none\" stroke=\"#000000\" d=\"M68.1603,-184.942C82.4781,-177.6165 101.5634,-167.8518 117.9166,-159.4849\"/>\n",
       "<polygon fill=\"#000000\" stroke=\"#000000\" points=\"119.8644,-162.4199 127.1727,-154.7492 116.676,-156.1882 119.8644,-162.4199\"/>\n",
       "</g>\n",
       "<!-- ... -->\n",
       "<g id=\"node7\" class=\"node\">\n",
       "<title>...</title>\n",
       "<ellipse fill=\"none\" stroke=\"#000000\" cx=\"152.0911\" cy=\"-88\" rx=\"27\" ry=\"18\"/>\n",
       "<text text-anchor=\"middle\" x=\"152.0911\" y=\"-84.3\" font-family=\"Times,serif\" font-size=\"14.00\" fill=\"#000000\">...</text>\n",
       "</g>\n",
       "<!-- x1&#45;&gt;... -->\n",
       "<g id=\"edge9\" class=\"edge\">\n",
       "<title>x1&#45;&gt;...</title>\n",
       "<path fill=\"none\" stroke=\"#000000\" d=\"M61.6691,-180.5262C79.6401,-162.1371 109.7657,-131.3104 130.2622,-110.3369\"/>\n",
       "<polygon fill=\"#000000\" stroke=\"#000000\" points=\"132.8515,-112.6951 137.3376,-103.0969 127.8451,-107.8026 132.8515,-112.6951\"/>\n",
       "</g>\n",
       "<!-- node30 -->\n",
       "<g id=\"node8\" class=\"node\">\n",
       "<title>node30</title>\n",
       "<ellipse fill=\"none\" stroke=\"#000000\" cx=\"152.0911\" cy=\"-34\" rx=\"38.9931\" ry=\"18\"/>\n",
       "<text text-anchor=\"middle\" x=\"152.0911\" y=\"-30.3\" font-family=\"Times,serif\" font-size=\"14.00\" fill=\"#000000\">node30</text>\n",
       "</g>\n",
       "<!-- x1&#45;&gt;node30 -->\n",
       "<g id=\"edge13\" class=\"edge\">\n",
       "<title>x1&#45;&gt;node30</title>\n",
       "<path fill=\"none\" stroke=\"#000000\" d=\"M57.4448,-179.2733C75.8352,-151.0458 113.1612,-93.7539 135.0423,-60.1684\"/>\n",
       "<polygon fill=\"#000000\" stroke=\"#000000\" points=\"138.2495,-61.6573 140.7757,-51.3681 132.3844,-57.8362 138.2495,-61.6573\"/>\n",
       "</g>\n",
       "<!-- x2 -->\n",
       "<g id=\"node2\" class=\"node\">\n",
       "<title>x2</title>\n",
       "<ellipse fill=\"none\" stroke=\"#000000\" cx=\"46.5473\" cy=\"-142\" rx=\"27\" ry=\"18\"/>\n",
       "<text text-anchor=\"middle\" x=\"46.5473\" y=\"-138.3\" font-family=\"Times,serif\" font-size=\"14.00\" fill=\"#000000\">x2</text>\n",
       "</g>\n",
       "<!-- x2&#45;&gt;node1 -->\n",
       "<g id=\"edge2\" class=\"edge\">\n",
       "<title>x2&#45;&gt;node1</title>\n",
       "<path fill=\"none\" stroke=\"#000000\" d=\"M68.1603,-153.058C82.4781,-160.3835 101.5634,-170.1482 117.9166,-178.5151\"/>\n",
       "<polygon fill=\"#000000\" stroke=\"#000000\" points=\"116.676,-181.8118 127.1727,-183.2508 119.8644,-175.5801 116.676,-181.8118\"/>\n",
       "</g>\n",
       "<!-- x2&#45;&gt;node2 -->\n",
       "<g id=\"edge6\" class=\"edge\">\n",
       "<title>x2&#45;&gt;node2</title>\n",
       "<path fill=\"none\" stroke=\"#000000\" d=\"M73.7274,-142C83.9217,-142 95.7972,-142 107.1744,-142\"/>\n",
       "<polygon fill=\"#000000\" stroke=\"#000000\" points=\"107.4202,-145.5001 117.4202,-142 107.4202,-138.5001 107.4202,-145.5001\"/>\n",
       "</g>\n",
       "<!-- x2&#45;&gt;... -->\n",
       "<g id=\"edge10\" class=\"edge\">\n",
       "<title>x2&#45;&gt;...</title>\n",
       "<path fill=\"none\" stroke=\"#000000\" d=\"M68.1603,-130.942C83.5278,-123.0794 104.3876,-112.4068 121.4665,-103.6686\"/>\n",
       "<polygon fill=\"#000000\" stroke=\"#000000\" points=\"123.1987,-106.714 130.507,-99.0432 120.0103,-100.4822 123.1987,-106.714\"/>\n",
       "</g>\n",
       "<!-- x2&#45;&gt;node30 -->\n",
       "<g id=\"edge14\" class=\"edge\">\n",
       "<title>x2&#45;&gt;node30</title>\n",
       "<path fill=\"none\" stroke=\"#000000\" d=\"M61.6691,-126.5262C79.2339,-108.5527 108.4103,-78.6974 128.8581,-57.7737\"/>\n",
       "<polygon fill=\"#000000\" stroke=\"#000000\" points=\"131.4729,-60.1058 135.959,-50.5076 126.4665,-55.2133 131.4729,-60.1058\"/>\n",
       "</g>\n",
       "<!-- .. -->\n",
       "<g id=\"node3\" class=\"node\">\n",
       "<title>..</title>\n",
       "<ellipse fill=\"none\" stroke=\"#000000\" cx=\"46.5473\" cy=\"-88\" rx=\"27\" ry=\"18\"/>\n",
       "<text text-anchor=\"middle\" x=\"46.5473\" y=\"-84.3\" font-family=\"Times,serif\" font-size=\"14.00\" fill=\"#000000\">..</text>\n",
       "</g>\n",
       "<!-- ..&#45;&gt;node1 -->\n",
       "<g id=\"edge3\" class=\"edge\">\n",
       "<title>..&#45;&gt;node1</title>\n",
       "<path fill=\"none\" stroke=\"#000000\" d=\"M61.6691,-103.4738C79.3355,-121.5512 108.7479,-151.6482 129.2118,-172.5883\"/>\n",
       "<polygon fill=\"#000000\" stroke=\"#000000\" points=\"126.8155,-175.1439 136.308,-179.8496 131.8218,-170.2513 126.8155,-175.1439\"/>\n",
       "</g>\n",
       "<!-- ..&#45;&gt;node2 -->\n",
       "<g id=\"edge7\" class=\"edge\">\n",
       "<title>..&#45;&gt;node2</title>\n",
       "<path fill=\"none\" stroke=\"#000000\" d=\"M68.1603,-99.058C82.4781,-106.3835 101.5634,-116.1482 117.9166,-124.5151\"/>\n",
       "<polygon fill=\"#000000\" stroke=\"#000000\" points=\"116.676,-127.8118 127.1727,-129.2508 119.8644,-121.5801 116.676,-127.8118\"/>\n",
       "</g>\n",
       "<!-- ..&#45;&gt;... -->\n",
       "<g id=\"edge11\" class=\"edge\">\n",
       "<title>..&#45;&gt;...</title>\n",
       "<path fill=\"none\" stroke=\"#000000\" d=\"M73.7274,-88C86.2847,-88 101.3928,-88 114.9783,-88\"/>\n",
       "<polygon fill=\"#000000\" stroke=\"#000000\" points=\"115.0031,-91.5001 125.0031,-88 115.003,-84.5001 115.0031,-91.5001\"/>\n",
       "</g>\n",
       "<!-- ..&#45;&gt;node30 -->\n",
       "<g id=\"edge15\" class=\"edge\">\n",
       "<title>..&#45;&gt;node30</title>\n",
       "<path fill=\"none\" stroke=\"#000000\" d=\"M68.1603,-76.942C82.0748,-69.8229 100.4919,-60.4 116.5283,-52.1952\"/>\n",
       "<polygon fill=\"#000000\" stroke=\"#000000\" points=\"118.3348,-55.2025 125.6431,-47.5318 115.1464,-48.9708 118.3348,-55.2025\"/>\n",
       "</g>\n",
       "<!-- x784 -->\n",
       "<g id=\"node4\" class=\"node\">\n",
       "<title>x784</title>\n",
       "<ellipse fill=\"none\" stroke=\"#000000\" cx=\"46.5473\" cy=\"-34\" rx=\"30.5947\" ry=\"18\"/>\n",
       "<text text-anchor=\"middle\" x=\"46.5473\" y=\"-30.3\" font-family=\"Times,serif\" font-size=\"14.00\" fill=\"#000000\">x784</text>\n",
       "</g>\n",
       "<!-- x784&#45;&gt;node1 -->\n",
       "<g id=\"edge4\" class=\"edge\">\n",
       "<title>x784&#45;&gt;node1</title>\n",
       "<path fill=\"none\" stroke=\"#000000\" d=\"M57.6428,-51.0306C76.123,-79.396 113.3242,-136.4964 135.1169,-169.9461\"/>\n",
       "<polygon fill=\"#000000\" stroke=\"#000000\" points=\"132.4352,-172.2418 140.8266,-178.71 138.3003,-168.4207 132.4352,-172.2418\"/>\n",
       "</g>\n",
       "<!-- x784&#45;&gt;node2 -->\n",
       "<g id=\"edge8\" class=\"edge\">\n",
       "<title>x784&#45;&gt;node2</title>\n",
       "<path fill=\"none\" stroke=\"#000000\" d=\"M62.1206,-49.9358C79.7907,-68.0171 108.7821,-97.6831 129.0659,-118.439\"/>\n",
       "<polygon fill=\"#000000\" stroke=\"#000000\" points=\"126.6154,-120.9391 136.1079,-125.6448 131.6217,-116.0466 126.6154,-120.9391\"/>\n",
       "</g>\n",
       "<!-- x784&#45;&gt;... -->\n",
       "<g id=\"edge12\" class=\"edge\">\n",
       "<title>x784&#45;&gt;...</title>\n",
       "<path fill=\"none\" stroke=\"#000000\" d=\"M69.7093,-45.8505C84.8255,-53.5845 104.734,-63.7704 121.1932,-72.1915\"/>\n",
       "<polygon fill=\"#000000\" stroke=\"#000000\" points=\"119.9265,-75.4749 130.4232,-76.9139 123.115,-69.2432 119.9265,-75.4749\"/>\n",
       "</g>\n",
       "<!-- x784&#45;&gt;node30 -->\n",
       "<g id=\"edge16\" class=\"edge\">\n",
       "<title>x784&#45;&gt;node30</title>\n",
       "<path fill=\"none\" stroke=\"#000000\" d=\"M77.3587,-34C85.318,-34 94.0885,-34 102.7361,-34\"/>\n",
       "<polygon fill=\"#000000\" stroke=\"#000000\" points=\"102.7753,-37.5001 112.7753,-34 102.7752,-30.5001 102.7753,-37.5001\"/>\n",
       "</g>\n",
       "<!-- y10 -->\n",
       "<g id=\"node9\" class=\"node\">\n",
       "<title>y10</title>\n",
       "<ellipse fill=\"none\" stroke=\"#000000\" cx=\"276.0877\" cy=\"-61\" rx=\"27\" ry=\"18\"/>\n",
       "<text text-anchor=\"middle\" x=\"276.0877\" y=\"-57.3\" font-family=\"Times,serif\" font-size=\"14.00\" fill=\"#000000\">y10</text>\n",
       "</g>\n",
       "<!-- node1&#45;&gt;y10 -->\n",
       "<g id=\"edge17\" class=\"edge\">\n",
       "<title>node1&#45;&gt;y10</title>\n",
       "<path fill=\"none\" stroke=\"#000000\" d=\"M167.048,-179.7158C188.974,-155.8442 229.9424,-111.2402 254.9412,-84.023\"/>\n",
       "<polygon fill=\"#000000\" stroke=\"#000000\" points=\"257.657,-86.2403 261.8438,-76.5078 252.5015,-81.5051 257.657,-86.2403\"/>\n",
       "</g>\n",
       "<!-- y1 -->\n",
       "<g id=\"node10\" class=\"node\">\n",
       "<title>y1</title>\n",
       "<ellipse fill=\"none\" stroke=\"#000000\" cx=\"276.0877\" cy=\"-169\" rx=\"27\" ry=\"18\"/>\n",
       "<text text-anchor=\"middle\" x=\"276.0877\" y=\"-165.3\" font-family=\"Times,serif\" font-size=\"14.00\" fill=\"#000000\">y1</text>\n",
       "</g>\n",
       "<!-- node1&#45;&gt;y1 -->\n",
       "<g id=\"edge21\" class=\"edge\">\n",
       "<title>node1&#45;&gt;y1</title>\n",
       "<path fill=\"none\" stroke=\"#000000\" d=\"M184.0233,-189.0468C201.1787,-185.3113 222.3866,-180.6933 240.1217,-176.8315\"/>\n",
       "<polygon fill=\"#000000\" stroke=\"#000000\" points=\"241.0794,-180.2051 250.1057,-174.6575 239.59,-173.3654 241.0794,-180.2051\"/>\n",
       "</g>\n",
       "<!-- . -->\n",
       "<g id=\"node11\" class=\"node\">\n",
       "<title>.</title>\n",
       "<ellipse fill=\"none\" stroke=\"#000000\" cx=\"276.0877\" cy=\"-115\" rx=\"27\" ry=\"18\"/>\n",
       "<text text-anchor=\"middle\" x=\"276.0877\" y=\"-111.3\" font-family=\"Times,serif\" font-size=\"14.00\" fill=\"#000000\">.</text>\n",
       "</g>\n",
       "<!-- node1&#45;&gt;. -->\n",
       "<g id=\"edge25\" class=\"edge\">\n",
       "<title>node1&#45;&gt;.</title>\n",
       "<path fill=\"none\" stroke=\"#000000\" d=\"M173.6897,-181.8909C194.3939,-168.3659 225.7449,-147.8861 248.3008,-133.1516\"/>\n",
       "<polygon fill=\"#000000\" stroke=\"#000000\" points=\"250.3149,-136.0166 256.7728,-127.6173 246.4866,-130.1561 250.3149,-136.0166\"/>\n",
       "</g>\n",
       "<!-- node2&#45;&gt;y10 -->\n",
       "<g id=\"edge18\" class=\"edge\">\n",
       "<title>node2&#45;&gt;y10</title>\n",
       "<path fill=\"none\" stroke=\"#000000\" d=\"M173.6897,-127.8909C194.3939,-114.3659 225.7449,-93.8861 248.3008,-79.1516\"/>\n",
       "<polygon fill=\"#000000\" stroke=\"#000000\" points=\"250.3149,-82.0166 256.7728,-73.6173 246.4866,-76.1561 250.3149,-82.0166\"/>\n",
       "</g>\n",
       "<!-- node2&#45;&gt;y1 -->\n",
       "<g id=\"edge22\" class=\"edge\">\n",
       "<title>node2&#45;&gt;y1</title>\n",
       "<path fill=\"none\" stroke=\"#000000\" d=\"M184.0233,-148.9532C201.1787,-152.6887 222.3866,-157.3067 240.1217,-161.1685\"/>\n",
       "<polygon fill=\"#000000\" stroke=\"#000000\" points=\"239.59,-164.6346 250.1057,-163.3425 241.0794,-157.7949 239.59,-164.6346\"/>\n",
       "</g>\n",
       "<!-- node2&#45;&gt;. -->\n",
       "<g id=\"edge26\" class=\"edge\">\n",
       "<title>node2&#45;&gt;.</title>\n",
       "<path fill=\"none\" stroke=\"#000000\" d=\"M184.0233,-135.0468C201.1787,-131.3113 222.3866,-126.6933 240.1217,-122.8315\"/>\n",
       "<polygon fill=\"#000000\" stroke=\"#000000\" points=\"241.0794,-126.2051 250.1057,-120.6575 239.59,-119.3654 241.0794,-126.2051\"/>\n",
       "</g>\n",
       "<!-- ...&#45;&gt;y10 -->\n",
       "<g id=\"edge19\" class=\"edge\">\n",
       "<title>...&#45;&gt;y10</title>\n",
       "<path fill=\"none\" stroke=\"#000000\" d=\"M177.7833,-82.4056C195.7845,-78.4859 220.0905,-73.1933 240.0296,-68.8516\"/>\n",
       "<polygon fill=\"#000000\" stroke=\"#000000\" points=\"240.9755,-72.2277 250.0018,-66.6801 239.4861,-65.388 240.9755,-72.2277\"/>\n",
       "</g>\n",
       "<!-- ...&#45;&gt;y1 -->\n",
       "<g id=\"edge23\" class=\"edge\">\n",
       "<title>...&#45;&gt;y1</title>\n",
       "<path fill=\"none\" stroke=\"#000000\" d=\"M171.4656,-100.6563C192.0007,-114.0707 224.6276,-135.384 247.986,-150.6428\"/>\n",
       "<polygon fill=\"#000000\" stroke=\"#000000\" points=\"246.1539,-153.6265 256.44,-156.1653 249.9822,-147.7661 246.1539,-153.6265\"/>\n",
       "</g>\n",
       "<!-- ...&#45;&gt;. -->\n",
       "<g id=\"edge27\" class=\"edge\">\n",
       "<title>...&#45;&gt;.</title>\n",
       "<path fill=\"none\" stroke=\"#000000\" d=\"M177.7833,-93.5944C195.7845,-97.5141 220.0905,-102.8067 240.0296,-107.1484\"/>\n",
       "<polygon fill=\"#000000\" stroke=\"#000000\" points=\"239.4861,-110.612 250.0018,-109.3199 240.9755,-103.7723 239.4861,-110.612\"/>\n",
       "</g>\n",
       "<!-- node30&#45;&gt;y10 -->\n",
       "<g id=\"edge20\" class=\"edge\">\n",
       "<title>node30&#45;&gt;y10</title>\n",
       "<path fill=\"none\" stroke=\"#000000\" d=\"M187.6236,-41.7371C204.2174,-45.3504 223.9253,-49.6418 240.5232,-53.2559\"/>\n",
       "<polygon fill=\"#000000\" stroke=\"#000000\" points=\"239.8845,-56.6988 250.4002,-55.4066 241.3739,-49.859 239.8845,-56.6988\"/>\n",
       "</g>\n",
       "<!-- node30&#45;&gt;y1 -->\n",
       "<g id=\"edge24\" class=\"edge\">\n",
       "<title>node30&#45;&gt;y1</title>\n",
       "<path fill=\"none\" stroke=\"#000000\" d=\"M167.5447,-50.8249C189.6436,-74.8849 230.3354,-119.1877 255.1295,-146.182\"/>\n",
       "<polygon fill=\"#000000\" stroke=\"#000000\" points=\"252.6318,-148.6367 261.974,-153.6339 257.7872,-143.9015 252.6318,-148.6367\"/>\n",
       "</g>\n",
       "<!-- node30&#45;&gt;. -->\n",
       "<g id=\"edge28\" class=\"edge\">\n",
       "<title>node30&#45;&gt;.</title>\n",
       "<path fill=\"none\" stroke=\"#000000\" d=\"M174.834,-48.8566C195.4809,-62.3441 225.9951,-82.2774 248.1253,-96.7338\"/>\n",
       "<polygon fill=\"#000000\" stroke=\"#000000\" points=\"246.4611,-99.8272 256.7472,-102.366 250.2894,-93.9668 246.4611,-99.8272\"/>\n",
       "</g>\n",
       "</g>\n",
       "</svg>\n"
      ],
      "text/plain": [
       "<graphviz.files.Source at 0x7fe56925b8d0>"
      ]
     },
     "execution_count": 7,
     "metadata": {},
     "output_type": "execute_result"
    }
   ],
   "source": [
    "#collapse\n",
    "gv('''\n",
    "splines=line\n",
    "subgraph cluster_1{\n",
    "    style=filled;\n",
    "    color=lightgrey;\n",
    "    \"x1\"\n",
    "    \"x2\"\n",
    "    \"..\"\n",
    "    \"x784\"\n",
    "    label = \"Layer 0\"\n",
    "}\n",
    "subgraph cluster_2{\n",
    "    style=filled;\n",
    "    color=lightgrey;\n",
    "    \"x1\" -> \"node1\"\n",
    "    \"x2\" -> \"node1\"\n",
    "    \"..\" -> \"node1\"\n",
    "    \n",
    "    \"x784\" -> \"node1\"\n",
    "    \"x1\" -> \"node2\"\n",
    "    \"x2\" -> \"node2\"\n",
    "    \"..\" -> \"node2\"\n",
    "    \"x784\" -> \"node2\"\n",
    "    \n",
    "    \"x1\" -> \"...\"\n",
    "    \"x2\" -> \"...\"\n",
    "    \"..\" -> \"...\"\n",
    "    \"x784\" -> \"...\"\n",
    "\n",
    "    \"x1\" -> \"node30\"\n",
    "    \"x2\" -> \"node30\"\n",
    "    \"..\" -> \"node30\"\n",
    "    \"x784\" -> \"node30\"\n",
    "\n",
    "\n",
    "    label = \"Layer 1: relu\"\n",
    "}\n",
    "subgraph cluster_3{\n",
    "    style=filled;\n",
    "    color=lightgrey;\n",
    "\n",
    "    \"node1\" -> \"y10\"\n",
    "    \"node2\" -> \"y10\"\n",
    "    \"...\" -> \"y10\"\n",
    "    \"node30\" -> \"y10\"\n",
    "    \n",
    "    \"node1\" -> \"y1\"\n",
    "    \"node2\" -> \"y1\"\n",
    "    \"...\" -> \"y1\"\n",
    "    \"node30\" -> \"y1\"\n",
    "    \n",
    "    \"node1\" -> \".\"\n",
    "    \"node2\" -> \".\"\n",
    "    \"...\" -> \".\"\n",
    "    \"node30\" -> \".\"\n",
    "    \n",
    "    label = \"Layer 2: softmax\"\n",
    "}\n",
    "''')"
   ]
  },
  {
   "cell_type": "code",
   "execution_count": 14,
   "id": "6423ba78-67ab-4881-9363-80da28aceddc",
   "metadata": {
    "colab": {
     "base_uri": "https://localhost:8080/"
    },
    "id": "6423ba78-67ab-4881-9363-80da28aceddc",
    "outputId": "98804ae0-958a-4110-bb0f-5c45a1093449",
    "scrolled": true,
    "tags": []
   },
   "outputs": [
    {
     "name": "stdout",
     "output_type": "stream",
     "text": [
      "Epoch 1/20\n",
      "50/50 [==============================] - 1s 9ms/step - loss: 32.5636 - accuracy: 0.3732\n",
      "Epoch 2/20\n",
      "50/50 [==============================] - 0s 9ms/step - loss: 2.4426 - accuracy: 0.3876\n",
      "Epoch 3/20\n",
      "50/50 [==============================] - 0s 9ms/step - loss: 1.9157 - accuracy: 0.3830\n",
      "Epoch 4/20\n",
      "50/50 [==============================] - 0s 8ms/step - loss: 1.7747 - accuracy: 0.4075\n",
      "Epoch 5/20\n",
      "50/50 [==============================] - 0s 9ms/step - loss: 1.6499 - accuracy: 0.4506\n",
      "Epoch 6/20\n",
      "50/50 [==============================] - 0s 8ms/step - loss: 1.5429 - accuracy: 0.4854\n",
      "Epoch 7/20\n",
      "50/50 [==============================] - 0s 8ms/step - loss: 1.4646 - accuracy: 0.4987\n",
      "Epoch 8/20\n",
      "50/50 [==============================] - 0s 8ms/step - loss: 1.3988 - accuracy: 0.5224\n",
      "Epoch 9/20\n",
      "50/50 [==============================] - 0s 7ms/step - loss: 1.3393 - accuracy: 0.5462\n",
      "Epoch 10/20\n",
      "50/50 [==============================] - 0s 8ms/step - loss: 1.2876 - accuracy: 0.5537\n",
      "Epoch 11/20\n",
      "50/50 [==============================] - 0s 8ms/step - loss: 1.2507 - accuracy: 0.5610\n",
      "Epoch 12/20\n",
      "50/50 [==============================] - 0s 8ms/step - loss: 1.2187 - accuracy: 0.5704\n",
      "Epoch 13/20\n",
      "50/50 [==============================] - 0s 8ms/step - loss: 1.1909 - accuracy: 0.5724\n",
      "Epoch 14/20\n",
      "50/50 [==============================] - 1s 14ms/step - loss: 1.1661 - accuracy: 0.5767\n",
      "Epoch 15/20\n",
      "50/50 [==============================] - 1s 14ms/step - loss: 1.1448 - accuracy: 0.5807\n",
      "Epoch 16/20\n",
      "50/50 [==============================] - 1s 19ms/step - loss: 1.1248 - accuracy: 0.5847\n",
      "Epoch 17/20\n",
      "50/50 [==============================] - 1s 12ms/step - loss: 1.1038 - accuracy: 0.5895\n",
      "Epoch 18/20\n",
      "50/50 [==============================] - 1s 13ms/step - loss: 1.0868 - accuracy: 0.5917\n",
      "Epoch 19/20\n",
      "50/50 [==============================] - 1s 16ms/step - loss: 1.0720 - accuracy: 0.5945\n",
      "Epoch 20/20\n",
      "50/50 [==============================] - 1s 17ms/step - loss: 1.0525 - accuracy: 0.6013\n"
     ]
    },
    {
     "data": {
      "text/plain": [
       "<keras.callbacks.History at 0x7fe565253490>"
      ]
     },
     "execution_count": 14,
     "metadata": {},
     "output_type": "execute_result"
    }
   ],
   "source": [
    "#collapse_output\n",
    "tf.random.set_seed(43052)\n",
    "net1 = tf.keras.Sequential()\n",
    "net1.add(tf.keras.layers.Dense(30,activation='relu'))\n",
    "net1.add(tf.keras.layers.Dense(10,activation='softmax'))\n",
    "net1.compile(optimizer='adam',loss=tf.losses.categorical_crossentropy,metrics=['accuracy'])\n",
    "net1.fit(X,y,epochs=20,batch_size=1200)"
   ]
  },
  {
   "cell_type": "code",
   "execution_count": 15,
   "id": "7e9074fd-ffdd-440b-9094-20c370f61f4d",
   "metadata": {
    "colab": {
     "base_uri": "https://localhost:8080/"
    },
    "id": "7e9074fd-ffdd-440b-9094-20c370f61f4d",
    "outputId": "1264967c-9dee-4ca0-a60a-07c18692e772"
   },
   "outputs": [
    {
     "name": "stdout",
     "output_type": "stream",
     "text": [
      "313/313 [==============================] - 1s 1ms/step - loss: 1.0973 - accuracy: 0.6055\n"
     ]
    },
    {
     "data": {
      "text/plain": [
       "[1.0972778797149658, 0.6054999828338623]"
      ]
     },
     "execution_count": 15,
     "metadata": {},
     "output_type": "execute_result"
    }
   ],
   "source": [
    "net1.evaluate(XX,yy)"
   ]
  },
  {
   "cell_type": "code",
   "execution_count": 16,
   "id": "ZuA6ZfqtlgR0",
   "metadata": {
    "colab": {
     "base_uri": "https://localhost:8080/"
    },
    "id": "ZuA6ZfqtlgR0",
    "outputId": "e90249cc-0b9a-4cc6-c178-d2a83355ee7f"
   },
   "outputs": [
    {
     "name": "stdout",
     "output_type": "stream",
     "text": [
      "Model: \"sequential_2\"\n",
      "_________________________________________________________________\n",
      " Layer (type)                Output Shape              Param #   \n",
      "=================================================================\n",
      " dense_5 (Dense)             (None, 30)                23550     \n",
      "                                                                 \n",
      " dense_6 (Dense)             (None, 10)                310       \n",
      "                                                                 \n",
      "=================================================================\n",
      "Total params: 23,860\n",
      "Trainable params: 23,860\n",
      "Non-trainable params: 0\n",
      "_________________________________________________________________\n"
     ]
    }
   ],
   "source": [
    "net1.summary()"
   ]
  },
  {
   "cell_type": "markdown",
   "id": "4893636e-f568-4e17-8c12-b3825be71f4a",
   "metadata": {
    "id": "4893636e-f568-4e17-8c12-b3825be71f4a"
   },
   "source": [
    "`-` 시도2: 더 깊은 신경망 "
   ]
  },
  {
   "cell_type": "code",
   "execution_count": 10,
   "id": "dc34926c-9e70-4431-ae1b-2599e27cc172",
   "metadata": {
    "colab": {
     "base_uri": "https://localhost:8080/",
     "height": 368
    },
    "id": "dc34926c-9e70-4431-ae1b-2599e27cc172",
    "outputId": "1267d4cd-2e3d-41eb-d105-6655091ed0ed"
   },
   "outputs": [
    {
     "data": {
      "image/svg+xml": [
       "<?xml version=\"1.0\" encoding=\"UTF-8\" standalone=\"no\"?>\n",
       "<!DOCTYPE svg PUBLIC \"-//W3C//DTD SVG 1.1//EN\"\n",
       " \"http://www.w3.org/Graphics/SVG/1.1/DTD/svg11.dtd\">\n",
       "<!-- Generated by graphviz version 2.40.1 (20161225.0304)\n",
       " -->\n",
       "<!-- Title: G Pages: 1 -->\n",
       "<svg width=\"497pt\" height=\"261pt\"\n",
       " viewBox=\"0.00 0.00 496.68 261.00\" xmlns=\"http://www.w3.org/2000/svg\" xmlns:xlink=\"http://www.w3.org/1999/xlink\">\n",
       "<g id=\"graph0\" class=\"graph\" transform=\"scale(1 1) rotate(0) translate(4 257)\">\n",
       "<title>G</title>\n",
       "<polygon fill=\"#ffffff\" stroke=\"transparent\" points=\"-4,4 -4,-257 492.677,-257 492.677,4 -4,4\"/>\n",
       "<g id=\"clust1\" class=\"cluster\">\n",
       "<title>cluster_1</title>\n",
       "<polygon fill=\"#d3d3d3\" stroke=\"#d3d3d3\" points=\"8,-8 8,-245 85.0946,-245 85.0946,-8 8,-8\"/>\n",
       "<text text-anchor=\"middle\" x=\"46.5473\" y=\"-229.8\" font-family=\"Times,serif\" font-size=\"14.00\" fill=\"#000000\">Layer 0</text>\n",
       "</g>\n",
       "<g id=\"clust2\" class=\"cluster\">\n",
       "<title>cluster_2</title>\n",
       "<polygon fill=\"#d3d3d3\" stroke=\"#d3d3d3\" points=\"105.0946,-8 105.0946,-245 209.4867,-245 209.4867,-8 105.0946,-8\"/>\n",
       "<text text-anchor=\"middle\" x=\"157.2907\" y=\"-229.8\" font-family=\"Times,serif\" font-size=\"14.00\" fill=\"#000000\">Layer 1: relu</text>\n",
       "</g>\n",
       "<g id=\"clust3\" class=\"cluster\">\n",
       "<title>cluster_3</title>\n",
       "<polygon fill=\"#d3d3d3\" stroke=\"#d3d3d3\" points=\"229.4867,-8 229.4867,-245 354.677,-245 354.677,-8 229.4867,-8\"/>\n",
       "<text text-anchor=\"middle\" x=\"292.0819\" y=\"-229.8\" font-family=\"Times,serif\" font-size=\"14.00\" fill=\"#000000\">Layer 2: relu</text>\n",
       "</g>\n",
       "<g id=\"clust4\" class=\"cluster\">\n",
       "<title>cluster_4</title>\n",
       "<polygon fill=\"#d3d3d3\" stroke=\"#d3d3d3\" points=\"374.677,-35 374.677,-218 488.677,-218 488.677,-35 374.677,-35\"/>\n",
       "<text text-anchor=\"middle\" x=\"431.677\" y=\"-202.8\" font-family=\"Times,serif\" font-size=\"14.00\" fill=\"#000000\">Layer 3: softmax</text>\n",
       "</g>\n",
       "<!-- x1 -->\n",
       "<g id=\"node1\" class=\"node\">\n",
       "<title>x1</title>\n",
       "<ellipse fill=\"none\" stroke=\"#000000\" cx=\"46.5473\" cy=\"-196\" rx=\"27\" ry=\"18\"/>\n",
       "<text text-anchor=\"middle\" x=\"46.5473\" y=\"-192.3\" font-family=\"Times,serif\" font-size=\"14.00\" fill=\"#000000\">x1</text>\n",
       "</g>\n",
       "<!-- node1 -->\n",
       "<g id=\"node5\" class=\"node\">\n",
       "<title>node1</title>\n",
       "<ellipse fill=\"none\" stroke=\"#000000\" cx=\"157.2907\" cy=\"-196\" rx=\"34.394\" ry=\"18\"/>\n",
       "<text text-anchor=\"middle\" x=\"157.2907\" y=\"-192.3\" font-family=\"Times,serif\" font-size=\"14.00\" fill=\"#000000\">node1</text>\n",
       "</g>\n",
       "<!-- x1&#45;&gt;node1 -->\n",
       "<g id=\"edge1\" class=\"edge\">\n",
       "<title>x1&#45;&gt;node1</title>\n",
       "<path fill=\"none\" stroke=\"#000000\" d=\"M73.6382,-196C85.2593,-196 99.1523,-196 112.2465,-196\"/>\n",
       "<polygon fill=\"#000000\" stroke=\"#000000\" points=\"112.5179,-199.5001 122.5179,-196 112.5178,-192.5001 112.5179,-199.5001\"/>\n",
       "</g>\n",
       "<!-- node2 -->\n",
       "<g id=\"node6\" class=\"node\">\n",
       "<title>node2</title>\n",
       "<ellipse fill=\"none\" stroke=\"#000000\" cx=\"157.2907\" cy=\"-142\" rx=\"34.394\" ry=\"18\"/>\n",
       "<text text-anchor=\"middle\" x=\"157.2907\" y=\"-138.3\" font-family=\"Times,serif\" font-size=\"14.00\" fill=\"#000000\">node2</text>\n",
       "</g>\n",
       "<!-- x1&#45;&gt;node2 -->\n",
       "<g id=\"edge5\" class=\"edge\">\n",
       "<title>x1&#45;&gt;node2</title>\n",
       "<path fill=\"none\" stroke=\"#000000\" d=\"M68.4266,-185.3313C83.8505,-177.8104 104.8281,-167.5815 122.5283,-158.9506\"/>\n",
       "<polygon fill=\"#000000\" stroke=\"#000000\" points=\"124.5142,-161.8763 131.9685,-154.3474 121.4461,-155.5844 124.5142,-161.8763\"/>\n",
       "</g>\n",
       "<!-- ... -->\n",
       "<g id=\"node7\" class=\"node\">\n",
       "<title>...</title>\n",
       "<ellipse fill=\"none\" stroke=\"#000000\" cx=\"157.2907\" cy=\"-88\" rx=\"27\" ry=\"18\"/>\n",
       "<text text-anchor=\"middle\" x=\"157.2907\" y=\"-84.3\" font-family=\"Times,serif\" font-size=\"14.00\" fill=\"#000000\">...</text>\n",
       "</g>\n",
       "<!-- x1&#45;&gt;... -->\n",
       "<g id=\"edge9\" class=\"edge\">\n",
       "<title>x1&#45;&gt;...</title>\n",
       "<path fill=\"none\" stroke=\"#000000\" d=\"M61.9457,-180.9831C80.872,-162.5256 113.1397,-131.0572 134.8309,-109.9034\"/>\n",
       "<polygon fill=\"#000000\" stroke=\"#000000\" points=\"137.3075,-112.377 142.023,-102.8894 132.4202,-107.3655 137.3075,-112.377\"/>\n",
       "</g>\n",
       "<!-- node500 -->\n",
       "<g id=\"node8\" class=\"node\">\n",
       "<title>node500</title>\n",
       "<ellipse fill=\"none\" stroke=\"#000000\" cx=\"157.2907\" cy=\"-34\" rx=\"44.393\" ry=\"18\"/>\n",
       "<text text-anchor=\"middle\" x=\"157.2907\" y=\"-30.3\" font-family=\"Times,serif\" font-size=\"14.00\" fill=\"#000000\">node500</text>\n",
       "</g>\n",
       "<!-- x1&#45;&gt;node500 -->\n",
       "<g id=\"edge13\" class=\"edge\">\n",
       "<title>x1&#45;&gt;node500</title>\n",
       "<path fill=\"none\" stroke=\"#000000\" d=\"M57.7754,-179.5751C77.0579,-151.3678 116.6078,-93.5126 139.6182,-59.8521\"/>\n",
       "<polygon fill=\"#000000\" stroke=\"#000000\" points=\"142.6104,-61.6769 145.3644,-51.4462 136.8316,-57.7264 142.6104,-61.6769\"/>\n",
       "</g>\n",
       "<!-- x2 -->\n",
       "<g id=\"node2\" class=\"node\">\n",
       "<title>x2</title>\n",
       "<ellipse fill=\"none\" stroke=\"#000000\" cx=\"46.5473\" cy=\"-142\" rx=\"27\" ry=\"18\"/>\n",
       "<text text-anchor=\"middle\" x=\"46.5473\" y=\"-138.3\" font-family=\"Times,serif\" font-size=\"14.00\" fill=\"#000000\">x2</text>\n",
       "</g>\n",
       "<!-- x2&#45;&gt;node1 -->\n",
       "<g id=\"edge2\" class=\"edge\">\n",
       "<title>x2&#45;&gt;node1</title>\n",
       "<path fill=\"none\" stroke=\"#000000\" d=\"M68.4266,-152.6687C83.8505,-160.1896 104.8281,-170.4185 122.5283,-179.0494\"/>\n",
       "<polygon fill=\"#000000\" stroke=\"#000000\" points=\"121.4461,-182.4156 131.9685,-183.6526 124.5142,-176.1237 121.4461,-182.4156\"/>\n",
       "</g>\n",
       "<!-- x2&#45;&gt;node2 -->\n",
       "<g id=\"edge6\" class=\"edge\">\n",
       "<title>x2&#45;&gt;node2</title>\n",
       "<path fill=\"none\" stroke=\"#000000\" d=\"M73.6382,-142C85.2593,-142 99.1523,-142 112.2465,-142\"/>\n",
       "<polygon fill=\"#000000\" stroke=\"#000000\" points=\"112.5179,-145.5001 122.5179,-142 112.5178,-138.5001 112.5179,-145.5001\"/>\n",
       "</g>\n",
       "<!-- x2&#45;&gt;... -->\n",
       "<g id=\"edge10\" class=\"edge\">\n",
       "<title>x2&#45;&gt;...</title>\n",
       "<path fill=\"none\" stroke=\"#000000\" d=\"M68.4266,-131.3313C84.9596,-123.2696 107.8735,-112.0965 126.2923,-103.1152\"/>\n",
       "<polygon fill=\"#000000\" stroke=\"#000000\" points=\"128.0024,-106.1753 135.4568,-98.6465 124.9344,-99.8835 128.0024,-106.1753\"/>\n",
       "</g>\n",
       "<!-- x2&#45;&gt;node500 -->\n",
       "<g id=\"edge14\" class=\"edge\">\n",
       "<title>x2&#45;&gt;node500</title>\n",
       "<path fill=\"none\" stroke=\"#000000\" d=\"M61.9457,-126.9831C80.3404,-109.044 111.3375,-78.8148 132.9785,-57.7099\"/>\n",
       "<polygon fill=\"#000000\" stroke=\"#000000\" points=\"135.4914,-60.148 140.207,-50.6605 130.6041,-55.1366 135.4914,-60.148\"/>\n",
       "</g>\n",
       "<!-- .. -->\n",
       "<g id=\"node3\" class=\"node\">\n",
       "<title>..</title>\n",
       "<ellipse fill=\"none\" stroke=\"#000000\" cx=\"46.5473\" cy=\"-88\" rx=\"27\" ry=\"18\"/>\n",
       "<text text-anchor=\"middle\" x=\"46.5473\" y=\"-84.3\" font-family=\"Times,serif\" font-size=\"14.00\" fill=\"#000000\">..</text>\n",
       "</g>\n",
       "<!-- ..&#45;&gt;node1 -->\n",
       "<g id=\"edge3\" class=\"edge\">\n",
       "<title>..&#45;&gt;node1</title>\n",
       "<path fill=\"none\" stroke=\"#000000\" d=\"M61.9457,-103.0169C80.553,-121.1634 112.0558,-151.8858 133.7253,-173.0184\"/>\n",
       "<polygon fill=\"#000000\" stroke=\"#000000\" points=\"131.3398,-175.5808 140.9426,-180.057 136.2271,-170.5694 131.3398,-175.5808\"/>\n",
       "</g>\n",
       "<!-- ..&#45;&gt;node2 -->\n",
       "<g id=\"edge7\" class=\"edge\">\n",
       "<title>..&#45;&gt;node2</title>\n",
       "<path fill=\"none\" stroke=\"#000000\" d=\"M68.4266,-98.6687C83.8505,-106.1896 104.8281,-116.4185 122.5283,-125.0494\"/>\n",
       "<polygon fill=\"#000000\" stroke=\"#000000\" points=\"121.4461,-128.4156 131.9685,-129.6526 124.5142,-122.1237 121.4461,-128.4156\"/>\n",
       "</g>\n",
       "<!-- ..&#45;&gt;... -->\n",
       "<g id=\"edge11\" class=\"edge\">\n",
       "<title>..&#45;&gt;...</title>\n",
       "<path fill=\"none\" stroke=\"#000000\" d=\"M73.6382,-88C87.5816,-88 104.7955,-88 119.9761,-88\"/>\n",
       "<polygon fill=\"#000000\" stroke=\"#000000\" points=\"120.0957,-91.5001 130.0956,-88 120.0956,-84.5001 120.0957,-91.5001\"/>\n",
       "</g>\n",
       "<!-- ..&#45;&gt;node500 -->\n",
       "<g id=\"edge15\" class=\"edge\">\n",
       "<title>..&#45;&gt;node500</title>\n",
       "<path fill=\"none\" stroke=\"#000000\" d=\"M68.4266,-77.3313C82.9996,-70.2254 102.5302,-60.702 119.5702,-52.393\"/>\n",
       "<polygon fill=\"#000000\" stroke=\"#000000\" points=\"121.2789,-55.4538 128.7333,-47.925 118.2109,-49.162 121.2789,-55.4538\"/>\n",
       "</g>\n",
       "<!-- x784 -->\n",
       "<g id=\"node4\" class=\"node\">\n",
       "<title>x784</title>\n",
       "<ellipse fill=\"none\" stroke=\"#000000\" cx=\"46.5473\" cy=\"-34\" rx=\"30.5947\" ry=\"18\"/>\n",
       "<text text-anchor=\"middle\" x=\"46.5473\" y=\"-30.3\" font-family=\"Times,serif\" font-size=\"14.00\" fill=\"#000000\">x784</text>\n",
       "</g>\n",
       "<!-- x784&#45;&gt;node1 -->\n",
       "<g id=\"edge4\" class=\"edge\">\n",
       "<title>x784&#45;&gt;node1</title>\n",
       "<path fill=\"none\" stroke=\"#000000\" d=\"M57.9817,-50.7267C77.3605,-79.0748 116.7779,-136.7363 139.6954,-170.2609\"/>\n",
       "<polygon fill=\"#000000\" stroke=\"#000000\" points=\"136.885,-172.3517 145.4178,-178.6319 142.6638,-168.4013 136.885,-172.3517\"/>\n",
       "</g>\n",
       "<!-- x784&#45;&gt;node2 -->\n",
       "<g id=\"edge8\" class=\"edge\">\n",
       "<title>x784&#45;&gt;node2</title>\n",
       "<path fill=\"none\" stroke=\"#000000\" d=\"M62.4141,-49.4738C81.0321,-67.6305 112.0832,-97.9124 133.5662,-118.8633\"/>\n",
       "<polygon fill=\"#000000\" stroke=\"#000000\" points=\"131.1271,-121.3734 140.73,-125.8496 136.0144,-116.362 131.1271,-121.3734\"/>\n",
       "</g>\n",
       "<!-- x784&#45;&gt;... -->\n",
       "<g id=\"edge12\" class=\"edge\">\n",
       "<title>x784&#45;&gt;...</title>\n",
       "<path fill=\"none\" stroke=\"#000000\" d=\"M70.3045,-45.5844C86.6063,-53.5333 108.406,-64.1632 126.1036,-72.7928\"/>\n",
       "<polygon fill=\"#000000\" stroke=\"#000000\" points=\"124.9303,-76.1145 135.4527,-77.3515 127.9983,-69.8227 124.9303,-76.1145\"/>\n",
       "</g>\n",
       "<!-- x784&#45;&gt;node500 -->\n",
       "<g id=\"edge16\" class=\"edge\">\n",
       "<title>x784&#45;&gt;node500</title>\n",
       "<path fill=\"none\" stroke=\"#000000\" d=\"M77.1016,-34C85.0163,-34 93.784,-34 102.5313,-34\"/>\n",
       "<polygon fill=\"#000000\" stroke=\"#000000\" points=\"102.7383,-37.5001 112.7382,-34 102.7382,-30.5001 102.7383,-37.5001\"/>\n",
       "</g>\n",
       "<!-- node1(2) -->\n",
       "<g id=\"node9\" class=\"node\">\n",
       "<title>node1(2)</title>\n",
       "<ellipse fill=\"none\" stroke=\"#000000\" cx=\"292.0819\" cy=\"-196\" rx=\"44.6926\" ry=\"18\"/>\n",
       "<text text-anchor=\"middle\" x=\"292.0819\" y=\"-192.3\" font-family=\"Times,serif\" font-size=\"14.00\" fill=\"#000000\">node1(2)</text>\n",
       "</g>\n",
       "<!-- node1&#45;&gt;node1(2) -->\n",
       "<g id=\"edge17\" class=\"edge\">\n",
       "<title>node1&#45;&gt;node1(2)</title>\n",
       "<path fill=\"none\" stroke=\"#000000\" d=\"M192.0027,-196C205.6289,-196 221.607,-196 236.7459,-196\"/>\n",
       "<polygon fill=\"#000000\" stroke=\"#000000\" points=\"237.0535,-199.5001 247.0534,-196 237.0534,-192.5001 237.0535,-199.5001\"/>\n",
       "</g>\n",
       "<!-- node2(2) -->\n",
       "<g id=\"node10\" class=\"node\">\n",
       "<title>node2(2)</title>\n",
       "<ellipse fill=\"none\" stroke=\"#000000\" cx=\"292.0819\" cy=\"-142\" rx=\"44.6926\" ry=\"18\"/>\n",
       "<text text-anchor=\"middle\" x=\"292.0819\" y=\"-138.3\" font-family=\"Times,serif\" font-size=\"14.00\" fill=\"#000000\">node2(2)</text>\n",
       "</g>\n",
       "<!-- node1&#45;&gt;node2(2) -->\n",
       "<g id=\"edge21\" class=\"edge\">\n",
       "<title>node1&#45;&gt;node2(2)</title>\n",
       "<path fill=\"none\" stroke=\"#000000\" d=\"M184.8929,-184.942C203.8619,-177.3427 229.3832,-167.1183 250.7643,-158.5526\"/>\n",
       "<polygon fill=\"#000000\" stroke=\"#000000\" points=\"252.2771,-161.7171 260.2583,-154.7492 249.6739,-155.2191 252.2771,-161.7171\"/>\n",
       "</g>\n",
       "<!-- .... -->\n",
       "<g id=\"node11\" class=\"node\">\n",
       "<title>....</title>\n",
       "<ellipse fill=\"none\" stroke=\"#000000\" cx=\"292.0819\" cy=\"-88\" rx=\"27\" ry=\"18\"/>\n",
       "<text text-anchor=\"middle\" x=\"292.0819\" y=\"-84.3\" font-family=\"Times,serif\" font-size=\"14.00\" fill=\"#000000\">....</text>\n",
       "</g>\n",
       "<!-- node1&#45;&gt;.... -->\n",
       "<g id=\"edge25\" class=\"edge\">\n",
       "<title>node1&#45;&gt;....</title>\n",
       "<path fill=\"none\" stroke=\"#000000\" d=\"M176.3171,-180.7553C199.8906,-161.8672 240.1512,-129.6089 266.435,-108.5493\"/>\n",
       "<polygon fill=\"#000000\" stroke=\"#000000\" points=\"268.8232,-111.1207 274.4387,-102.1364 264.4462,-105.6579 268.8232,-111.1207\"/>\n",
       "</g>\n",
       "<!-- node500(2) -->\n",
       "<g id=\"node12\" class=\"node\">\n",
       "<title>node500(2)</title>\n",
       "<ellipse fill=\"none\" stroke=\"#000000\" cx=\"292.0819\" cy=\"-34\" rx=\"54.6905\" ry=\"18\"/>\n",
       "<text text-anchor=\"middle\" x=\"292.0819\" y=\"-30.3\" font-family=\"Times,serif\" font-size=\"14.00\" fill=\"#000000\">node500(2)</text>\n",
       "</g>\n",
       "<!-- node1&#45;&gt;node500(2) -->\n",
       "<g id=\"edge29\" class=\"edge\">\n",
       "<title>node1&#45;&gt;node500(2)</title>\n",
       "<path fill=\"none\" stroke=\"#000000\" d=\"M171.208,-179.2733C194.8953,-150.8046 243.1806,-92.7724 271.0208,-59.3125\"/>\n",
       "<polygon fill=\"#000000\" stroke=\"#000000\" points=\"273.9253,-61.2938 277.6309,-51.3681 268.5444,-56.8166 273.9253,-61.2938\"/>\n",
       "</g>\n",
       "<!-- node2&#45;&gt;node1(2) -->\n",
       "<g id=\"edge18\" class=\"edge\">\n",
       "<title>node2&#45;&gt;node1(2)</title>\n",
       "<path fill=\"none\" stroke=\"#000000\" d=\"M184.8929,-153.058C203.8619,-160.6573 229.3832,-170.8817 250.7643,-179.4474\"/>\n",
       "<polygon fill=\"#000000\" stroke=\"#000000\" points=\"249.6739,-182.7809 260.2583,-183.2508 252.2771,-176.2829 249.6739,-182.7809\"/>\n",
       "</g>\n",
       "<!-- node2&#45;&gt;node2(2) -->\n",
       "<g id=\"edge22\" class=\"edge\">\n",
       "<title>node2&#45;&gt;node2(2)</title>\n",
       "<path fill=\"none\" stroke=\"#000000\" d=\"M192.0027,-142C205.6289,-142 221.607,-142 236.7459,-142\"/>\n",
       "<polygon fill=\"#000000\" stroke=\"#000000\" points=\"237.0535,-145.5001 247.0534,-142 237.0534,-138.5001 237.0535,-145.5001\"/>\n",
       "</g>\n",
       "<!-- node2&#45;&gt;.... -->\n",
       "<g id=\"edge26\" class=\"edge\">\n",
       "<title>node2&#45;&gt;....</title>\n",
       "<path fill=\"none\" stroke=\"#000000\" d=\"M184.8929,-130.942C206.3626,-122.3408 236.2264,-110.3768 258.9803,-101.2611\"/>\n",
       "<polygon fill=\"#000000\" stroke=\"#000000\" points=\"260.5834,-104.3894 268.5645,-97.4215 257.9801,-97.8915 260.5834,-104.3894\"/>\n",
       "</g>\n",
       "<!-- node2&#45;&gt;node500(2) -->\n",
       "<g id=\"edge30\" class=\"edge\">\n",
       "<title>node2&#45;&gt;node500(2)</title>\n",
       "<path fill=\"none\" stroke=\"#000000\" d=\"M176.3171,-126.7553C198.8429,-108.7067 236.6054,-78.4499 262.8503,-57.4215\"/>\n",
       "<polygon fill=\"#000000\" stroke=\"#000000\" points=\"265.3173,-59.9298 270.9328,-50.9455 260.9403,-54.467 265.3173,-59.9298\"/>\n",
       "</g>\n",
       "<!-- ...&#45;&gt;node1(2) -->\n",
       "<g id=\"edge19\" class=\"edge\">\n",
       "<title>...&#45;&gt;node1(2)</title>\n",
       "<path fill=\"none\" stroke=\"#000000\" d=\"M174.6363,-101.898C197.1894,-119.9685 236.8732,-151.7647 263.8069,-173.345\"/>\n",
       "<polygon fill=\"#000000\" stroke=\"#000000\" points=\"261.7307,-176.1664 271.7232,-179.6878 266.1077,-170.7036 261.7307,-176.1664\"/>\n",
       "</g>\n",
       "<!-- ...&#45;&gt;node2(2) -->\n",
       "<g id=\"edge23\" class=\"edge\">\n",
       "<title>...&#45;&gt;node2(2)</title>\n",
       "<path fill=\"none\" stroke=\"#000000\" d=\"M180.4621,-97.2829C199.6939,-104.9876 227.5275,-116.1382 250.5887,-125.377\"/>\n",
       "<polygon fill=\"#000000\" stroke=\"#000000\" points=\"249.5565,-128.7339 260.1409,-129.2038 252.1598,-122.2359 249.5565,-128.7339\"/>\n",
       "</g>\n",
       "<!-- ...&#45;&gt;.... -->\n",
       "<g id=\"edge27\" class=\"edge\">\n",
       "<title>...&#45;&gt;....</title>\n",
       "<path fill=\"none\" stroke=\"#000000\" d=\"M184.5677,-88C204.7561,-88 232.4958,-88 254.7414,-88\"/>\n",
       "<polygon fill=\"#000000\" stroke=\"#000000\" points=\"254.8455,-91.5001 264.8454,-88 254.8454,-84.5001 254.8455,-91.5001\"/>\n",
       "</g>\n",
       "<!-- ...&#45;&gt;node500(2) -->\n",
       "<g id=\"edge31\" class=\"edge\">\n",
       "<title>...&#45;&gt;node500(2)</title>\n",
       "<path fill=\"none\" stroke=\"#000000\" d=\"M180.4621,-78.7171C198.9694,-71.3027 225.4426,-60.697 247.9629,-51.6749\"/>\n",
       "<polygon fill=\"#000000\" stroke=\"#000000\" points=\"249.3565,-54.8871 257.3376,-47.9192 246.7532,-48.3892 249.3565,-54.8871\"/>\n",
       "</g>\n",
       "<!-- node500&#45;&gt;node1(2) -->\n",
       "<g id=\"edge20\" class=\"edge\">\n",
       "<title>node500&#45;&gt;node1(2)</title>\n",
       "<path fill=\"none\" stroke=\"#000000\" d=\"M171.7157,-51.3368C195.6324,-80.0813 243.5914,-137.7212 271.2054,-170.9094\"/>\n",
       "<polygon fill=\"#000000\" stroke=\"#000000\" points=\"268.6741,-173.3393 277.7606,-178.7878 274.055,-168.8621 268.6741,-173.3393\"/>\n",
       "</g>\n",
       "<!-- node500&#45;&gt;node2(2) -->\n",
       "<g id=\"edge24\" class=\"edge\">\n",
       "<title>node500&#45;&gt;node2(2)</title>\n",
       "<path fill=\"none\" stroke=\"#000000\" d=\"M177.4703,-50.1687C200.3996,-68.5406 237.9821,-98.6532 263.8211,-119.3564\"/>\n",
       "<polygon fill=\"#000000\" stroke=\"#000000\" points=\"261.7718,-122.1993 271.7643,-125.7208 266.1488,-116.7365 261.7718,-122.1993\"/>\n",
       "</g>\n",
       "<!-- node500&#45;&gt;.... -->\n",
       "<g id=\"edge28\" class=\"edge\">\n",
       "<title>node500&#45;&gt;....</title>\n",
       "<path fill=\"none\" stroke=\"#000000\" d=\"M188.8932,-46.6606C210.0814,-55.149 237.9188,-66.3012 259.3399,-74.8829\"/>\n",
       "<polygon fill=\"#000000\" stroke=\"#000000\" points=\"258.0992,-78.1563 268.6836,-78.6262 260.7025,-71.6583 258.0992,-78.1563\"/>\n",
       "</g>\n",
       "<!-- node500&#45;&gt;node500(2) -->\n",
       "<g id=\"edge32\" class=\"edge\">\n",
       "<title>node500&#45;&gt;node500(2)</title>\n",
       "<path fill=\"none\" stroke=\"#000000\" d=\"M201.7999,-34C209.9571,-34 218.6218,-34 227.2311,-34\"/>\n",
       "<polygon fill=\"#000000\" stroke=\"#000000\" points=\"227.2784,-37.5001 237.2784,-34 227.2784,-30.5001 227.2784,-37.5001\"/>\n",
       "</g>\n",
       "<!-- y10 -->\n",
       "<g id=\"node13\" class=\"node\">\n",
       "<title>y10</title>\n",
       "<ellipse fill=\"none\" stroke=\"#000000\" cx=\"431.677\" cy=\"-61\" rx=\"27\" ry=\"18\"/>\n",
       "<text text-anchor=\"middle\" x=\"431.677\" y=\"-57.3\" font-family=\"Times,serif\" font-size=\"14.00\" fill=\"#000000\">y10</text>\n",
       "</g>\n",
       "<!-- node1(2)&#45;&gt;y10 -->\n",
       "<g id=\"edge33\" class=\"edge\">\n",
       "<title>node1(2)&#45;&gt;y10</title>\n",
       "<path fill=\"none\" stroke=\"#000000\" d=\"M309.4795,-179.1751C334.5988,-154.8826 381.0565,-109.9543 408.8864,-83.0404\"/>\n",
       "<polygon fill=\"#000000\" stroke=\"#000000\" points=\"411.4535,-85.4269 416.2088,-75.9591 406.5872,-80.395 411.4535,-85.4269\"/>\n",
       "</g>\n",
       "<!-- y1 -->\n",
       "<g id=\"node14\" class=\"node\">\n",
       "<title>y1</title>\n",
       "<ellipse fill=\"none\" stroke=\"#000000\" cx=\"431.677\" cy=\"-169\" rx=\"27\" ry=\"18\"/>\n",
       "<text text-anchor=\"middle\" x=\"431.677\" y=\"-165.3\" font-family=\"Times,serif\" font-size=\"14.00\" fill=\"#000000\">y1</text>\n",
       "</g>\n",
       "<!-- node1(2)&#45;&gt;y1 -->\n",
       "<g id=\"edge37\" class=\"edge\">\n",
       "<title>node1(2)&#45;&gt;y1</title>\n",
       "<path fill=\"none\" stroke=\"#000000\" d=\"M332.8339,-188.1179C352.7528,-184.2653 376.5129,-179.6696 395.7453,-175.9498\"/>\n",
       "<polygon fill=\"#000000\" stroke=\"#000000\" points=\"396.4741,-179.3738 405.6275,-174.0384 395.1448,-172.5012 396.4741,-179.3738\"/>\n",
       "</g>\n",
       "<!-- . -->\n",
       "<g id=\"node15\" class=\"node\">\n",
       "<title>.</title>\n",
       "<ellipse fill=\"none\" stroke=\"#000000\" cx=\"431.677\" cy=\"-115\" rx=\"27\" ry=\"18\"/>\n",
       "<text text-anchor=\"middle\" x=\"431.677\" y=\"-111.3\" font-family=\"Times,serif\" font-size=\"14.00\" fill=\"#000000\">.</text>\n",
       "</g>\n",
       "<!-- node1(2)&#45;&gt;. -->\n",
       "<g id=\"edge41\" class=\"edge\">\n",
       "<title>node1(2)&#45;&gt;.</title>\n",
       "<path fill=\"none\" stroke=\"#000000\" d=\"M317.6858,-181.1434C341.6606,-167.232 377.4532,-146.4633 402.5175,-131.9198\"/>\n",
       "<polygon fill=\"#000000\" stroke=\"#000000\" points=\"404.3317,-134.9137 411.2245,-126.8676 400.8186,-128.8591 404.3317,-134.9137\"/>\n",
       "</g>\n",
       "<!-- node2(2)&#45;&gt;y10 -->\n",
       "<g id=\"edge34\" class=\"edge\">\n",
       "<title>node2(2)&#45;&gt;y10</title>\n",
       "<path fill=\"none\" stroke=\"#000000\" d=\"M317.6858,-127.1434C341.6606,-113.232 377.4532,-92.4633 402.5175,-77.9198\"/>\n",
       "<polygon fill=\"#000000\" stroke=\"#000000\" points=\"404.3317,-80.9137 411.2245,-72.8676 400.8186,-74.8591 404.3317,-80.9137\"/>\n",
       "</g>\n",
       "<!-- node2(2)&#45;&gt;y1 -->\n",
       "<g id=\"edge38\" class=\"edge\">\n",
       "<title>node2(2)&#45;&gt;y1</title>\n",
       "<path fill=\"none\" stroke=\"#000000\" d=\"M332.8339,-149.8821C352.7528,-153.7347 376.5129,-158.3304 395.7453,-162.0502\"/>\n",
       "<polygon fill=\"#000000\" stroke=\"#000000\" points=\"395.1448,-165.4988 405.6275,-163.9616 396.4741,-158.6262 395.1448,-165.4988\"/>\n",
       "</g>\n",
       "<!-- node2(2)&#45;&gt;. -->\n",
       "<g id=\"edge42\" class=\"edge\">\n",
       "<title>node2(2)&#45;&gt;.</title>\n",
       "<path fill=\"none\" stroke=\"#000000\" d=\"M332.8339,-134.1179C352.7528,-130.2653 376.5129,-125.6696 395.7453,-121.9498\"/>\n",
       "<polygon fill=\"#000000\" stroke=\"#000000\" points=\"396.4741,-125.3738 405.6275,-120.0384 395.1448,-118.5012 396.4741,-125.3738\"/>\n",
       "</g>\n",
       "<!-- ....&#45;&gt;y10 -->\n",
       "<g id=\"edge35\" class=\"edge\">\n",
       "<title>....&#45;&gt;y10</title>\n",
       "<path fill=\"none\" stroke=\"#000000\" d=\"M318.3387,-82.9215C340.1764,-78.6977 371.4819,-72.6427 395.6605,-67.9662\"/>\n",
       "<polygon fill=\"#000000\" stroke=\"#000000\" points=\"396.3846,-71.3911 405.538,-66.0557 395.0553,-64.5185 396.3846,-71.3911\"/>\n",
       "</g>\n",
       "<!-- ....&#45;&gt;y1 -->\n",
       "<g id=\"edge39\" class=\"edge\">\n",
       "<title>....&#45;&gt;y1</title>\n",
       "<path fill=\"none\" stroke=\"#000000\" d=\"M312.6796,-99.9518C336.2888,-113.651 375.1784,-136.2167 402.0399,-151.8031\"/>\n",
       "<polygon fill=\"#000000\" stroke=\"#000000\" points=\"400.5888,-155.0076 410.9948,-156.9991 404.102,-148.953 400.5888,-155.0076\"/>\n",
       "</g>\n",
       "<!-- ....&#45;&gt;. -->\n",
       "<g id=\"edge43\" class=\"edge\">\n",
       "<title>....&#45;&gt;.</title>\n",
       "<path fill=\"none\" stroke=\"#000000\" d=\"M318.3387,-93.0785C340.1764,-97.3023 371.4819,-103.3573 395.6605,-108.0338\"/>\n",
       "<polygon fill=\"#000000\" stroke=\"#000000\" points=\"395.0553,-111.4815 405.538,-109.9443 396.3846,-104.6089 395.0553,-111.4815\"/>\n",
       "</g>\n",
       "<!-- node500(2)&#45;&gt;y10 -->\n",
       "<g id=\"edge36\" class=\"edge\">\n",
       "<title>node500(2)&#45;&gt;y10</title>\n",
       "<path fill=\"none\" stroke=\"#000000\" d=\"M339.3424,-43.141C357.683,-46.6883 378.3494,-50.6855 395.4732,-53.9976\"/>\n",
       "<polygon fill=\"#000000\" stroke=\"#000000\" points=\"395.1422,-57.4984 405.6249,-55.9611 396.4715,-50.6257 395.1422,-57.4984\"/>\n",
       "</g>\n",
       "<!-- node500(2)&#45;&gt;y1 -->\n",
       "<g id=\"edge40\" class=\"edge\">\n",
       "<title>node500(2)&#45;&gt;y1</title>\n",
       "<path fill=\"none\" stroke=\"#000000\" d=\"M309.7617,-51.0978C334.9765,-75.4826 381.2743,-120.2564 408.9888,-147.0586\"/>\n",
       "<polygon fill=\"#000000\" stroke=\"#000000\" points=\"406.6585,-149.674 416.28,-154.1098 411.5247,-144.6421 406.6585,-149.674\"/>\n",
       "</g>\n",
       "<!-- node500(2)&#45;&gt;. -->\n",
       "<g id=\"edge44\" class=\"edge\">\n",
       "<title>node500(2)&#45;&gt;.</title>\n",
       "<path fill=\"none\" stroke=\"#000000\" d=\"M319.3286,-49.8099C343.25,-63.6902 377.9542,-83.8273 402.4484,-98.0401\"/>\n",
       "<polygon fill=\"#000000\" stroke=\"#000000\" points=\"400.8864,-101.1802 411.2923,-103.1718 404.3995,-95.1257 400.8864,-101.1802\"/>\n",
       "</g>\n",
       "</g>\n",
       "</svg>\n"
      ],
      "text/plain": [
       "<graphviz.files.Source at 0x7fe56758ed90>"
      ]
     },
     "execution_count": 10,
     "metadata": {},
     "output_type": "execute_result"
    }
   ],
   "source": [
    "#collapse\n",
    "gv('''\n",
    "splines=line\n",
    "subgraph cluster_1{\n",
    "    style=filled;\n",
    "    color=lightgrey;\n",
    "    \"x1\"\n",
    "    \"x2\"\n",
    "    \"..\"\n",
    "    \"x784\"\n",
    "    label = \"Layer 0\"\n",
    "}\n",
    "subgraph cluster_2{\n",
    "    style=filled;\n",
    "    color=lightgrey;\n",
    "    \"x1\" -> \"node1\"\n",
    "    \"x2\" -> \"node1\"\n",
    "    \"..\" -> \"node1\"\n",
    "    \n",
    "    \"x784\" -> \"node1\"\n",
    "    \"x1\" -> \"node2\"\n",
    "    \"x2\" -> \"node2\"\n",
    "    \"..\" -> \"node2\"\n",
    "    \"x784\" -> \"node2\"\n",
    "    \n",
    "    \"x1\" -> \"...\"\n",
    "    \"x2\" -> \"...\"\n",
    "    \"..\" -> \"...\"\n",
    "    \"x784\" -> \"...\"\n",
    "\n",
    "    \"x1\" -> \"node500\"\n",
    "    \"x2\" -> \"node500\"\n",
    "    \"..\" -> \"node500\"\n",
    "    \"x784\" -> \"node500\"\n",
    "\n",
    "\n",
    "    label = \"Layer 1: relu\"\n",
    "}\n",
    "\n",
    "subgraph cluster_3{\n",
    "    style=filled;\n",
    "    color=lightgrey;\n",
    "\n",
    "    \"node1\" -> \"node1(2)\"\n",
    "    \"node2\" -> \"node1(2)\"\n",
    "    \"...\" -> \"node1(2)\"\n",
    "    \"node500\" -> \"node1(2)\"\n",
    "\n",
    "    \"node1\" -> \"node2(2)\"\n",
    "    \"node2\" -> \"node2(2)\"\n",
    "    \"...\" -> \"node2(2)\"\n",
    "    \"node500\" -> \"node2(2)\"\n",
    "    \n",
    "    \"node1\" -> \"....\"\n",
    "    \"node2\" -> \"....\"\n",
    "    \"...\" -> \"....\"\n",
    "    \"node500\" -> \"....\"\n",
    "    \n",
    "    \"node1\" -> \"node500(2)\"\n",
    "    \"node2\" -> \"node500(2)\"\n",
    "    \"...\" -> \"node500(2)\"\n",
    "    \"node500\" -> \"node500(2)\"\n",
    "\n",
    "    \n",
    "    label = \"Layer 2: relu\"\n",
    "}\n",
    "\n",
    "subgraph cluster_4{\n",
    "    style=filled;\n",
    "    color=lightgrey;\n",
    "\n",
    "    \"node1(2)\" -> \"y10\"\n",
    "    \"node2(2)\" -> \"y10\"\n",
    "    \"....\" -> \"y10\"\n",
    "    \"node500(2)\" -> \"y10\"\n",
    "    \n",
    "    \"node1(2)\" -> \"y1\"\n",
    "    \"node2(2)\" -> \"y1\"\n",
    "    \"....\" -> \"y1\"\n",
    "    \"node500(2)\" -> \"y1\"\n",
    "    \n",
    "    \"node1(2)\" -> \".\"\n",
    "    \"node2(2)\" -> \".\"\n",
    "    \"....\" -> \".\"\n",
    "    \"node500(2)\" -> \".\"\n",
    "    \n",
    "    label = \"Layer 3: softmax\"\n",
    "}\n",
    "''')"
   ]
  },
  {
   "cell_type": "code",
   "execution_count": 17,
   "id": "72c927be-1c1a-4f91-9690-bcdbf297023a",
   "metadata": {
    "colab": {
     "base_uri": "https://localhost:8080/"
    },
    "id": "72c927be-1c1a-4f91-9690-bcdbf297023a",
    "outputId": "3d42bb53-b1a9-4c67-9912-8ac277a0e16e",
    "scrolled": true,
    "tags": []
   },
   "outputs": [
    {
     "name": "stdout",
     "output_type": "stream",
     "text": [
      "Epoch 1/50\n",
      "50/50 [==============================] - 4s 71ms/step - loss: 21.5882 - accuracy: 0.6880\n",
      "Epoch 2/50\n",
      "50/50 [==============================] - 4s 84ms/step - loss: 1.9689 - accuracy: 0.8035\n",
      "Epoch 3/50\n",
      "50/50 [==============================] - 4s 81ms/step - loss: 1.2367 - accuracy: 0.8228\n",
      "Epoch 4/50\n",
      "50/50 [==============================] - 4s 70ms/step - loss: 0.9390 - accuracy: 0.8337\n",
      "Epoch 5/50\n",
      "50/50 [==============================] - 3s 70ms/step - loss: 0.7553 - accuracy: 0.8450\n",
      "Epoch 6/50\n",
      "50/50 [==============================] - 4s 70ms/step - loss: 0.6153 - accuracy: 0.8564\n",
      "Epoch 7/50\n",
      "50/50 [==============================] - 4s 71ms/step - loss: 0.5412 - accuracy: 0.8632\n",
      "Epoch 8/50\n",
      "50/50 [==============================] - 4s 71ms/step - loss: 0.4943 - accuracy: 0.8690\n",
      "Epoch 9/50\n",
      "50/50 [==============================] - 3s 70ms/step - loss: 0.4616 - accuracy: 0.8727\n",
      "Epoch 10/50\n",
      "50/50 [==============================] - 3s 70ms/step - loss: 0.3898 - accuracy: 0.8851\n",
      "Epoch 11/50\n",
      "50/50 [==============================] - 3s 69ms/step - loss: 0.3555 - accuracy: 0.8887\n",
      "Epoch 12/50\n",
      "50/50 [==============================] - 3s 69ms/step - loss: 0.3497 - accuracy: 0.8910\n",
      "Epoch 13/50\n",
      "50/50 [==============================] - 4s 70ms/step - loss: 0.3117 - accuracy: 0.8998\n",
      "Epoch 14/50\n",
      "50/50 [==============================] - 4s 70ms/step - loss: 0.2951 - accuracy: 0.9034\n",
      "Epoch 15/50\n",
      "50/50 [==============================] - 4s 71ms/step - loss: 0.2751 - accuracy: 0.9086\n",
      "Epoch 16/50\n",
      "50/50 [==============================] - 4s 71ms/step - loss: 0.2806 - accuracy: 0.9071\n",
      "Epoch 17/50\n",
      "50/50 [==============================] - 6s 116ms/step - loss: 0.2713 - accuracy: 0.9097\n",
      "Epoch 18/50\n",
      "50/50 [==============================] - 3s 70ms/step - loss: 0.2516 - accuracy: 0.9121\n",
      "Epoch 19/50\n",
      "50/50 [==============================] - 4s 71ms/step - loss: 0.2293 - accuracy: 0.9204\n",
      "Epoch 20/50\n",
      "50/50 [==============================] - 4s 70ms/step - loss: 0.2073 - accuracy: 0.9261\n",
      "Epoch 21/50\n",
      "50/50 [==============================] - 3s 70ms/step - loss: 0.2020 - accuracy: 0.9281\n",
      "Epoch 22/50\n",
      "50/50 [==============================] - 4s 71ms/step - loss: 0.2044 - accuracy: 0.9271\n",
      "Epoch 23/50\n",
      "50/50 [==============================] - 3s 69ms/step - loss: 0.1897 - accuracy: 0.9319\n",
      "Epoch 24/50\n",
      "50/50 [==============================] - 3s 68ms/step - loss: 0.1859 - accuracy: 0.9337\n",
      "Epoch 25/50\n",
      "50/50 [==============================] - 3s 69ms/step - loss: 0.1836 - accuracy: 0.9352\n",
      "Epoch 26/50\n",
      "50/50 [==============================] - 3s 69ms/step - loss: 0.1756 - accuracy: 0.9364\n",
      "Epoch 27/50\n",
      "50/50 [==============================] - 3s 69ms/step - loss: 0.1923 - accuracy: 0.9312\n",
      "Epoch 28/50\n",
      "50/50 [==============================] - 4s 74ms/step - loss: 0.1598 - accuracy: 0.9418\n",
      "Epoch 29/50\n",
      "50/50 [==============================] - 3s 69ms/step - loss: 0.1503 - accuracy: 0.9450\n",
      "Epoch 30/50\n",
      "50/50 [==============================] - 3s 69ms/step - loss: 0.1787 - accuracy: 0.9370\n",
      "Epoch 31/50\n",
      "50/50 [==============================] - 4s 70ms/step - loss: 0.1428 - accuracy: 0.9471\n",
      "Epoch 32/50\n",
      "50/50 [==============================] - 3s 70ms/step - loss: 0.1336 - accuracy: 0.9508\n",
      "Epoch 33/50\n",
      "50/50 [==============================] - 4s 70ms/step - loss: 0.1330 - accuracy: 0.9505\n",
      "Epoch 34/50\n",
      "50/50 [==============================] - 4s 72ms/step - loss: 0.1533 - accuracy: 0.9443\n",
      "Epoch 35/50\n",
      "50/50 [==============================] - 3s 70ms/step - loss: 0.1354 - accuracy: 0.9506\n",
      "Epoch 36/50\n",
      "50/50 [==============================] - 4s 70ms/step - loss: 0.1276 - accuracy: 0.9537\n",
      "Epoch 37/50\n",
      "50/50 [==============================] - 4s 70ms/step - loss: 0.1287 - accuracy: 0.9531\n",
      "Epoch 38/50\n",
      "50/50 [==============================] - 4s 70ms/step - loss: 0.1112 - accuracy: 0.9589\n",
      "Epoch 39/50\n",
      "50/50 [==============================] - 3s 70ms/step - loss: 0.1080 - accuracy: 0.9597\n",
      "Epoch 40/50\n",
      "50/50 [==============================] - 4s 70ms/step - loss: 0.1114 - accuracy: 0.9598\n",
      "Epoch 41/50\n",
      "50/50 [==============================] - 3s 70ms/step - loss: 0.1079 - accuracy: 0.9595\n",
      "Epoch 42/50\n",
      "50/50 [==============================] - 3s 70ms/step - loss: 0.1024 - accuracy: 0.9621\n",
      "Epoch 43/50\n",
      "50/50 [==============================] - 4s 80ms/step - loss: 0.1051 - accuracy: 0.9615\n",
      "Epoch 44/50\n",
      "50/50 [==============================] - 4s 71ms/step - loss: 0.1086 - accuracy: 0.9596\n",
      "Epoch 45/50\n",
      "50/50 [==============================] - 4s 71ms/step - loss: 0.1304 - accuracy: 0.9531\n",
      "Epoch 46/50\n",
      "50/50 [==============================] - 4s 70ms/step - loss: 0.1151 - accuracy: 0.9571\n",
      "Epoch 47/50\n",
      "50/50 [==============================] - 4s 70ms/step - loss: 0.1119 - accuracy: 0.9587\n",
      "Epoch 48/50\n",
      "50/50 [==============================] - 3s 70ms/step - loss: 0.1020 - accuracy: 0.9626\n",
      "Epoch 49/50\n",
      "50/50 [==============================] - 4s 70ms/step - loss: 0.0891 - accuracy: 0.9666\n",
      "Epoch 50/50\n",
      "50/50 [==============================] - 3s 69ms/step - loss: 0.0879 - accuracy: 0.9675\n"
     ]
    },
    {
     "data": {
      "text/plain": [
       "<keras.callbacks.History at 0x7fe565101710>"
      ]
     },
     "execution_count": 17,
     "metadata": {},
     "output_type": "execute_result"
    }
   ],
   "source": [
    "#collapse_output\n",
    "tf.random.set_seed(43052)\n",
    "net2 = tf.keras.Sequential()\n",
    "net2.add(tf.keras.layers.Dense(500,activation='relu'))\n",
    "net2.add(tf.keras.layers.Dense(500,activation='relu'))\n",
    "net2.add(tf.keras.layers.Dense(10,activation='softmax'))\n",
    "net2.compile(optimizer='adam',loss=tf.losses.categorical_crossentropy,metrics=['accuracy'])\n",
    "net2.fit(X,y,epochs=50,batch_size=1200)"
   ]
  },
  {
   "cell_type": "code",
   "execution_count": 18,
   "id": "76503d38-b943-4c51-a761-1fec495f1bf4",
   "metadata": {
    "colab": {
     "base_uri": "https://localhost:8080/"
    },
    "id": "76503d38-b943-4c51-a761-1fec495f1bf4",
    "outputId": "3abf8744-d38a-4ece-a501-17a43fcf16ba"
   },
   "outputs": [
    {
     "name": "stdout",
     "output_type": "stream",
     "text": [
      "313/313 [==============================] - 1s 3ms/step - loss: 0.7283 - accuracy: 0.8638\n"
     ]
    },
    {
     "data": {
      "text/plain": [
       "[0.7282978296279907, 0.8637999892234802]"
      ]
     },
     "execution_count": 18,
     "metadata": {},
     "output_type": "execute_result"
    }
   ],
   "source": [
    "net2.evaluate(XX,yy)"
   ]
  },
  {
   "cell_type": "code",
   "execution_count": 19,
   "id": "34deT1aVlkC3",
   "metadata": {
    "colab": {
     "base_uri": "https://localhost:8080/"
    },
    "id": "34deT1aVlkC3",
    "outputId": "9c0e7f9d-0c3d-43a5-cb71-18bed57bf6f6"
   },
   "outputs": [
    {
     "name": "stdout",
     "output_type": "stream",
     "text": [
      "Model: \"sequential_3\"\n",
      "_________________________________________________________________\n",
      " Layer (type)                Output Shape              Param #   \n",
      "=================================================================\n",
      " dense_7 (Dense)             (None, 500)               392500    \n",
      "                                                                 \n",
      " dense_8 (Dense)             (None, 500)               250500    \n",
      "                                                                 \n",
      " dense_9 (Dense)             (None, 10)                5010      \n",
      "                                                                 \n",
      "=================================================================\n",
      "Total params: 648,010\n",
      "Trainable params: 648,010\n",
      "Non-trainable params: 0\n",
      "_________________________________________________________________\n"
     ]
    }
   ],
   "source": [
    "net2.summary()"
   ]
  },
  {
   "cell_type": "markdown",
   "id": "d4837097-a35c-4f98-9adb-69e058bf59b5",
   "metadata": {
    "id": "d4837097-a35c-4f98-9adb-69e058bf59b5"
   },
   "source": [
    "### 숙제 "
   ]
  },
  {
   "cell_type": "markdown",
   "id": "5604f450-ffbf-4b9d-9b9f-cf428d26d5a4",
   "metadata": {
    "id": "5604f450-ffbf-4b9d-9b9f-cf428d26d5a4"
   },
   "source": [
    "`-` 시도1,2에서 사용된 모형에서 각각 추정해야할 파라메터의 수를 구하고 비교하라. "
   ]
  },
  {
   "cell_type": "markdown",
   "id": "fddfeefc-0c9a-465a-8d04-9d95517f9fc0",
   "metadata": {
    "id": "fddfeefc-0c9a-465a-8d04-9d95517f9fc0"
   },
   "source": [
    "**hint: `net.summary()` 이용**"
   ]
  },
  {
   "cell_type": "markdown",
   "id": "fe448424-3345-4536-9242-b6372d661334",
   "metadata": {
    "id": "fe448424-3345-4536-9242-b6372d661334",
    "tags": []
   },
   "source": [
    "## 평가지표"
   ]
  },
  {
   "cell_type": "markdown",
   "id": "1f89facc-0dd5-4056-bf77-52c5f3bdb48b",
   "metadata": {
    "id": "1f89facc-0dd5-4056-bf77-52c5f3bdb48b"
   },
   "source": [
    "### 다양한 평가지표들 "
   ]
  },
  {
   "cell_type": "markdown",
   "id": "b27ec6aa-af26-490f-8d25-7adedafa3084",
   "metadata": {
    "id": "b27ec6aa-af26-490f-8d25-7adedafa3084"
   },
   "source": [
    "`-` 의문: 왜 다양한 평가지표가 필요한가? (accuracy면 끝나는거 아닌가? 더 이상 뭐가 필요해?)"
   ]
  },
  {
   "cell_type": "markdown",
   "id": "5f937fe5-bcab-4bbd-9b23-427f0d076804",
   "metadata": {
    "id": "5f937fe5-bcab-4bbd-9b23-427f0d076804"
   },
   "source": [
    "`-` 여러가지 평가지표들: https://en.wikipedia.org/wiki/Positive_and_negative_predictive_values\n",
    "- 이걸 다 암기하는건 불가능함. \n",
    "- 몇 개만 뽑아서 암기하고 왜 쓰는지만 생각해보고 넘어가자!"
   ]
  },
  {
   "cell_type": "markdown",
   "id": "77a50d98-98ec-4b98-8b0a-1829fd69f6c3",
   "metadata": {
    "id": "77a50d98-98ec-4b98-8b0a-1829fd69f6c3"
   },
   "source": [
    "### confusion matrix의 이해 "
   ]
  },
  {
   "cell_type": "markdown",
   "id": "653a63e8-bab9-4fde-a375-eab4106fceb1",
   "metadata": {
    "id": "653a63e8-bab9-4fde-a375-eab4106fceb1"
   },
   "source": [
    "`-` 표1"
   ]
  },
  {
   "cell_type": "markdown",
   "id": "3b9ea126-d2d4-4a09-83e9-fc1739ca3176",
   "metadata": {
    "id": "3b9ea126-d2d4-4a09-83e9-fc1739ca3176"
   },
   "source": [
    "| |퇴사(예측)|안나감(예측)|\n",
    "|:-:|:-:|:-:|\n",
    "|퇴사(실제)|TP|FN|\n",
    "|안나감(실제)| FP| TN|"
   ]
  },
  {
   "cell_type": "markdown",
   "id": "0139ff6e-e0a1-4ba8-bce0-f6750e19b302",
   "metadata": {
    "id": "0139ff6e-e0a1-4ba8-bce0-f6750e19b302"
   },
   "source": [
    "`-` 표2 (책에없음) "
   ]
  },
  {
   "cell_type": "markdown",
   "id": "0f5895d8-7a2d-45f9-975c-a06ec0ebc528",
   "metadata": {
    "id": "0f5895d8-7a2d-45f9-975c-a06ec0ebc528"
   },
   "source": [
    "| |퇴사(예측)|안나감(예측)|\n",
    "|:-:|:-:|:-:|\n",
    "|퇴사(실제)|$(y,\\hat{y})= $ (O,O)|$(y,\\hat{y})= $(O,X)|\n",
    "|안나감(실제)| $(y,\\hat{y})= $(X,O)| $(y,\\hat{y})= $(X,X)|"
   ]
  },
  {
   "cell_type": "markdown",
   "id": "1a6c9ffc-0b8f-44c5-a8d5-d293c64b6b8c",
   "metadata": {
    "id": "1a6c9ffc-0b8f-44c5-a8d5-d293c64b6b8c"
   },
   "source": [
    "`-` 표3 (책에없음) "
   ]
  },
  {
   "cell_type": "markdown",
   "id": "22d1ff48-d8cf-4f9f-878f-094f7e0ed99e",
   "metadata": {
    "id": "22d1ff48-d8cf-4f9f-878f-094f7e0ed99e"
   },
   "source": [
    "| |퇴사(예측)|안나감(예측)|\n",
    "|:-:|:-:|:-:|\n",
    "|퇴사(실제)|TP, $\\# O/O$ |FN, $\\#O/X$|\n",
    "|안나감(실제)| FP, $\\#X/O$| TN, $\\#X/X$|"
   ]
  },
  {
   "cell_type": "markdown",
   "id": "7e154194-d522-4d9c-a263-0ee636af8714",
   "metadata": {
    "id": "7e154194-d522-4d9c-a263-0ee636af8714"
   },
   "source": [
    "- 암기법, (1) 두번째 글자를 그대로 쓴다 (2) 첫글자가 T이면 분류를 제대로한것, 첫글자가 F이면 분류를 잘못한것"
   ]
  },
  {
   "cell_type": "markdown",
   "id": "a2221656-6c3f-4e6c-97c2-95c4443f1d8d",
   "metadata": {
    "id": "a2221656-6c3f-4e6c-97c2-95c4443f1d8d"
   },
   "source": [
    "`-` 표4 (위키등에 있음) "
   ]
  },
  {
   "cell_type": "markdown",
   "id": "f3299682-ee0c-442e-a4d8-84e638815caf",
   "metadata": {
    "id": "f3299682-ee0c-442e-a4d8-84e638815caf"
   },
   "source": [
    "| |퇴사(예측)|안나감(예측)| |\n",
    "|:-:|:-:|:-:|:-:|\n",
    "|퇴사(실제)| TP, $\\# O/O$ |FN, $\\# O/X$| Sensitivity(민감도)=Recall(재현율)=$\\frac{TP}{TP+FN}$=$\\frac{\\#O/O}{\\# O/O+ \\#O/X}$|\n",
    "|안나감(실제)| FP, $\\# X/O$| TN, $\\# X/X$| |\n",
    "| |Precision(프리시즌)=$\\frac{TP}{TP+FP}$=$\\frac{\\# O/O}{\\# O/O+\\# X/O}$| |Accuracy(애큐러시)=$\\frac{TP+TN}{total}$=$\\frac{\\#O/O+\\# X/X}{total}$|"
   ]
  },
  {
   "cell_type": "markdown",
   "id": "cd051109-67cd-4eee-8216-d36e2a38e20e",
   "metadata": {
    "id": "cd051109-67cd-4eee-8216-d36e2a38e20e"
   },
   "source": [
    "### 상황극 "
   ]
  },
  {
   "cell_type": "markdown",
   "id": "cea133af-ae2b-4d1c-a5a6-fc6d898dcf20",
   "metadata": {
    "id": "cea133af-ae2b-4d1c-a5a6-fc6d898dcf20"
   },
   "source": [
    "`-` 최규빈은 입사하여 \"퇴사자 예측시스템\"의 개발에 들어갔다. "
   ]
  },
  {
   "cell_type": "markdown",
   "id": "eff2492e-4674-4645-b2dd-97d48b6e43f1",
   "metadata": {
    "id": "eff2492e-4674-4645-b2dd-97d48b6e43f1"
   },
   "source": [
    "`-` 자료의 특성상 대부분의 사람이 퇴사하지 않고 회사에 잘 다닌다. 즉 1000명이 있으면 10명정도 퇴사한다. "
   ]
  },
  {
   "cell_type": "markdown",
   "id": "6465b297-84f8-4238-8a45-4c9d706bd259",
   "metadata": {
    "id": "6465b297-84f8-4238-8a45-4c9d706bd259"
   },
   "source": [
    "### Accuracy"
   ]
  },
  {
   "cell_type": "markdown",
   "id": "290c759b-e134-471a-8ae5-a2d3972c65d2",
   "metadata": {
    "id": "290c759b-e134-471a-8ae5-a2d3972c65d2"
   },
   "source": [
    "`-` 정의: Accuracy(애큐러시)=$\\frac{TP+TN}{total}$=$\\frac{\\#O/O+ \\#X/X}{total}$\n",
    "- 한국말로는 정확도, 정분류율이라고 한다. \n",
    "- 한국말이 헷갈리므로 그냥 영어를 외우는게 좋다. (어차피 Keras에서 옵션도 영어로 넣음) "
   ]
  },
  {
   "cell_type": "markdown",
   "id": "388ca8bb-c8c4-450c-be70-7aa1cd894a24",
   "metadata": {
    "id": "388ca8bb-c8c4-450c-be70-7aa1cd894a24"
   },
   "source": [
    "*이탤릭체 텍스트*`-` (상황극 시점1) 왜 애큐러시는 불충분한가?\n",
    "- 회사: 퇴사자예측프로그램 개발해\n",
    "- 최규빈: 귀찮은데 다 나간다고 하자! -> 99퍼의 accuracy \n",
    "\n",
    "> 모델에 사용한 파라메터 = 0. 그런데 애큐러시 = 99! 이거 엄청 좋은 모형이다? \n"
   ]
  },
  {
   "cell_type": "markdown",
   "id": "4d1ac2af-8c35-47f2-87f8-265708ccb142",
   "metadata": {
    "id": "4d1ac2af-8c35-47f2-87f8-265708ccb142"
   },
   "source": [
    "### Sensitivity(민감도), Recall(재현율), True Positive Rate(TPR)"
   ]
  },
  {
   "cell_type": "markdown",
   "id": "ab12a73f-7521-439d-a84b-c0dbb69c41ff",
   "metadata": {
    "id": "ab12a73f-7521-439d-a84b-c0dbb69c41ff"
   },
   "source": [
    "`-` 정의: Sensitivity(민감도)=Recall(재현율)=$\\frac{TP}{TP+FN}$=$\\frac{\\# O/O}{\\# O/O+\\# O/X}$\n",
    "- 분모: 실제 O인 관측치 수 \n",
    "- 분자: 실제 O를 O라고 예측한 관측치 수 \n",
    "- 뜻: 실제 O를 O라고 예측한 비율"
   ]
  },
  {
   "cell_type": "markdown",
   "id": "006e04d8-b740-4483-b9e1-8f2195100d8f",
   "metadata": {
    "id": "006e04d8-b740-4483-b9e1-8f2195100d8f"
   },
   "source": [
    "`-` (상황극 시점2) recall을 봐야하는 이유\n",
    "- 인사팀: 실제 퇴사자를 퇴사자로 예측해야 의미가 있음! 우리는 퇴사할것 같은 10명을 찍어달란 의미였어요! (그래야 면담을 하든 할거아냐!) \n",
    "- 최규빈: 가볍고(=파라메터 적고) 잘 맞추는 모형 만들어 달라면서요?\n"
   ]
  },
  {
   "cell_type": "markdown",
   "id": "629ed9c8-455a-4b5f-ac4e-c0f6cebaa40a",
   "metadata": {
    "id": "629ed9c8-455a-4b5f-ac4e-c0f6cebaa40a"
   },
   "source": [
    "- 인사팀: (고민중..) 사실 생각해보니까 이 경우는 애큐러시는 의미가 없네. 실제 나간 사람 중 최규빈이 나간다고 한 사람이 몇인지 카운트 하는게 더 의미가 있겠다. 우리는 앞으로 리컬(혹은 민감도)를 보겠다! \n",
    "\n",
    "> 예시1: 실제로 퇴사한 10명중 최규빈이 나간다고 찍은 사람이 5명이면 리컬이 50% \n",
    "\n",
    "> 예시2: 최규빈이 아무도 나가지 않는다고 예측해버린다? 실제 10명중에서 최규빈이 나간다고 적중시킨사람은 0명이므로 이 경우 리컬은 0%"
   ]
  },
  {
   "cell_type": "markdown",
   "id": "b5adf5fa-84c4-4c61-8e50-f9e787d01a2e",
   "metadata": {
    "id": "b5adf5fa-84c4-4c61-8e50-f9e787d01a2e"
   },
   "source": [
    "- 결론: 우리가 필요한건 recall이니까 앞으로 recall을 가져와! accuracy는 큰 의미없어. (그래도 명색이 모델인데 accuracy가 90은 되면 좋겠다)"
   ]
  },
  {
   "cell_type": "markdown",
   "id": "641c2815-f6bb-4164-90a3-27619b10e397",
   "metadata": {
    "id": "641c2815-f6bb-4164-90a3-27619b10e397"
   },
   "source": [
    "### Precision"
   ]
  },
  {
   "cell_type": "markdown",
   "id": "ba4e791e-0325-4e33-ae5d-24a78192d961",
   "metadata": {
    "id": "ba4e791e-0325-4e33-ae5d-24a78192d961"
   },
   "source": [
    "`-` 정의: Precision(프리시즌)=$\\frac{TP}{TP+FP}$=$\\frac{\\# O/O}{\\# O/O+\\# X/O}$\n",
    "- 분모: O라고 예측한 관측치\n",
    "- 분자: O라고 예측한 관측치중 진짜 O인 관측치 \n",
    "- 뜻: O라고 예측한 관측치중 진짜 O인 비율"
   ]
  },
  {
   "cell_type": "markdown",
   "id": "19f6282b-c756-48ac-bd73-51a2ea13aebd",
   "metadata": {
    "id": "19f6282b-c756-48ac-bd73-51a2ea13aebd"
   },
   "source": [
    "`-` (상황극 시점3) recall 만으로 불충분한 이유\n",
    "\n",
    "- 최규빈: 에휴.. 귀찮은데 그냥 좀만 수틀리면 다 나갈것 같다고 해야겠다. -> 한 100명 나간다고 했음 -> 실제로 최규빈이 찍은 100명중에 10명이 다 나감!"
   ]
  },
  {
   "cell_type": "markdown",
   "id": "db57729c-ab11-4bc4-88b4-38801dad2e15",
   "metadata": {
    "id": "db57729c-ab11-4bc4-88b4-38801dad2e15"
   },
   "source": [
    "> 이 경우 애큐러시는 91%, 리컬은 100% (퇴사자 10명을 일단은 다 맞췄으므로). "
   ]
  },
  {
   "cell_type": "markdown",
   "id": "d615d224-2426-4e67-be9b-2252f11d10ad",
   "metadata": {
    "id": "d615d224-2426-4e67-be9b-2252f11d10ad"
   },
   "source": [
    "- 인사팀: (화가 많이 남) 멀쩡한 사람까지 다 퇴사할 것 같다고 하면 어떡해요? 최규빈 연구원이 나간다고 한 100명중에 실제로 10명만 나갔어요. \n",
    "\n",
    "- 인사팀: 마치 총으로 과녁중앙에 맞춰 달라고 했더니 기관총을 가져와서 한번 긁은것이랑 뭐가 달라요? 맞추는게 문제가 아니고 precision이 너무 낮아요. "
   ]
  },
  {
   "cell_type": "markdown",
   "id": "89abdb98-4041-459c-9a0a-6a435183a7e2",
   "metadata": {
    "id": "89abdb98-4041-459c-9a0a-6a435183a7e2"
   },
   "source": [
    "- 최규빈: accuracy 90% 이상, recall은 높을수록 좋다는게 주문 아니었나요? "
   ]
  },
  {
   "cell_type": "markdown",
   "id": "d3a0685e-4365-47fa-81c5-4e90e05a6574",
   "metadata": {
    "id": "d3a0685e-4365-47fa-81c5-4e90e05a6574"
   },
   "source": [
    "- 인사팀: (고민중..) 앞으로는 recall과 함께 precision도 같이 제출하세요. precision은 당신이 나간다고 한 사람중에 실제 나간사람의 비율을 의미해요. 이 경우는 $\\frac{10}{100}$이니까 precision이 10%입니다. (속마음: recall 올리겠다고 무작정 너무 많이 예측하지 말란 말이야!) "
   ]
  },
  {
   "cell_type": "markdown",
   "id": "77deb916-fa06-4125-9cd1-f2dd9a1be969",
   "metadata": {
    "id": "77deb916-fa06-4125-9cd1-f2dd9a1be969"
   },
   "source": [
    "### F1 score "
   ]
  },
  {
   "cell_type": "markdown",
   "id": "570f323c-a436-47bc-a9bc-da57fac689c7",
   "metadata": {
    "id": "570f323c-a436-47bc-a9bc-da57fac689c7"
   },
   "source": [
    "`-` 정의: recall과 precision의 조화평균 "
   ]
  },
  {
   "cell_type": "markdown",
   "id": "2b4e13e8-3cd4-4729-b881-748c1dc5bcec",
   "metadata": {
    "id": "2b4e13e8-3cd4-4729-b881-748c1dc5bcec"
   },
   "source": [
    "`-` (상황극 시점4) recall, precision을 모두 고려 "
   ]
  },
  {
   "cell_type": "markdown",
   "id": "4b397bb3-2ad9-498f-931b-01024fb0631f",
   "metadata": {
    "id": "4b397bb3-2ad9-498f-931b-01024fb0631f"
   },
   "source": [
    "- 최규빈: recall/precision을 같이 내는건 좋은데요, 둘은 trade off의 관계에 있습니다. 물론 둘다 올리는 모형이 있다면 좋지만 그게 쉽지는 않아요. 보통은 precision을 올리려면 recall이 희생되는 면이 있고요, recall을 올리려고 하면 precision이 다소 떨어집니다. \n",
    "\n",
    "- 최규빈: 평가기준이 애매하다는 의미입니다. 모형1,2가 있는데 모형1은 모형2보다 precision이 약간 좋고 대신 recall이 떨어진다면 모형1이 좋은것입니까? 아니면 모형2가 좋은것입니까? "
   ]
  },
  {
   "cell_type": "markdown",
   "id": "a593c22d-89e9-4397-bf67-952c183b3b6a",
   "metadata": {
    "id": "a593c22d-89e9-4397-bf67-952c183b3b6a"
   },
   "source": [
    "- 인사팀: 그렇다면 둘을 평균내서 F1score를 계산해서 제출해주세요. "
   ]
  },
  {
   "cell_type": "markdown",
   "id": "aec77bab-ba38-407f-9361-63c6971eff8f",
   "metadata": {
    "id": "aec77bab-ba38-407f-9361-63c6971eff8f"
   },
   "source": [
    "### Specificity(특이도), False Positive Rate(FPR) "
   ]
  },
  {
   "cell_type": "markdown",
   "id": "b8cc6102-3bef-4b9a-b102-81f857a07c06",
   "metadata": {
    "id": "b8cc6102-3bef-4b9a-b102-81f857a07c06"
   },
   "source": [
    "`-` 정의: \n",
    "\n",
    "(1) Specificity(특이도)=$\\frac{TN}{FP+TN}$=$\\frac{\\# X/X}{\\# X/O+\\# X/X}$\n",
    "\n",
    "(2) False Positive Rate (FPR) = 1-Specificity(특이도) = $\\frac{FP}{FP+TN}$=$\\frac{\\# X/O}{\\# X/O+\\# X/X}$"
   ]
  },
  {
   "cell_type": "markdown",
   "id": "76aa1105-6086-4943-9b13-ca306a9acde6",
   "metadata": {
    "id": "76aa1105-6086-4943-9b13-ca306a9acde6"
   },
   "source": [
    "`-` 의미: **FPR = 오해해서 미안해, recall(=TPR)을 올리려고 보니 어쩔 수 없었어 ㅠㅠ**\n",
    "- specificity는 안나간 사람을 안나갔다고 찾아낸 비율인데 별로 안중요하다. \n",
    "- FPR은 recall을 올리기 위해서 \"실제로는 회사 잘 다니고 있는 사람 중 최규빈이 나갈것 같다고 찍은 사람들\" 의 비율이다. "
   ]
  },
  {
   "cell_type": "markdown",
   "id": "b45df889-5873-4c42-b6a9-54e3ead3568e",
   "metadata": {
    "id": "b45df889-5873-4c42-b6a9-54e3ead3568e"
   },
   "source": [
    "> 즉 생사람잡은 비율.. 오해해서 미안한 사람의 비율.. "
   ]
  },
  {
   "cell_type": "markdown",
   "id": "63d41396-0b31-41fc-8979-14ffc135ebfd",
   "metadata": {
    "id": "63d41396-0b31-41fc-8979-14ffc135ebfd"
   },
   "source": [
    "### ROC curve "
   ]
  },
  {
   "cell_type": "markdown",
   "id": "7227c5ef-bdb8-42b5-b732-9e2fc8fea324",
   "metadata": {
    "id": "7227c5ef-bdb8-42b5-b732-9e2fc8fea324"
   },
   "source": [
    "`-` 정의: $x$축=FPR, $y$축=TPR 을 그린 커브 "
   ]
  },
  {
   "cell_type": "markdown",
   "id": "e30e72e4-f2a0-4a43-a4c4-3aa6555d410b",
   "metadata": {
    "id": "e30e72e4-f2a0-4a43-a4c4-3aa6555d410b"
   },
   "source": [
    "`-` 의미: \n",
    "- 결국 \"오해해서 미안해 vs recall\"을 그린 곡선이 ROC커브이다. \n",
    "- 생각해보면 오해하는 사람이 많을수록 당연히 recall은 올라간다. 따라서 우상향하는 곡선이다. \n",
    "- 오해한 사람이 매우 적은데 recall이 우수하면 매우 좋은 모형이다. 그래서 초반부터 ROC값이 급격하게 올라가면 좋은 모형이다. "
   ]
  },
  {
   "cell_type": "markdown",
   "id": "6bf15008-48ba-4786-9c03-a817f02a5f39",
   "metadata": {
    "id": "6bf15008-48ba-4786-9c03-a817f02a5f39"
   },
   "source": [
    "## fashion_mnist (revisit)"
   ]
  },
  {
   "cell_type": "code",
   "execution_count": 20,
   "id": "d554b4a3-2399-4387-b14b-214d423785bd",
   "metadata": {
    "id": "d554b4a3-2399-4387-b14b-214d423785bd"
   },
   "outputs": [],
   "source": [
    "import tensorflow as tf \n",
    "import tensorflow.experimental.numpy as tnp"
   ]
  },
  {
   "cell_type": "code",
   "execution_count": 21,
   "id": "e2dc6044-f9dd-45ab-a888-5d42b92f35e8",
   "metadata": {
    "id": "e2dc6044-f9dd-45ab-a888-5d42b92f35e8"
   },
   "outputs": [],
   "source": [
    "tnp.experimental_enable_numpy_behavior()"
   ]
  },
  {
   "cell_type": "code",
   "execution_count": 22,
   "id": "02eba375-dca7-4f72-93b9-582df1ff5bde",
   "metadata": {
    "id": "02eba375-dca7-4f72-93b9-582df1ff5bde"
   },
   "outputs": [],
   "source": [
    "import matplotlib.pyplot as plt"
   ]
  },
  {
   "cell_type": "markdown",
   "id": "55e30a0a-4165-42e3-960b-450ce00bf7b7",
   "metadata": {
    "id": "55e30a0a-4165-42e3-960b-450ce00bf7b7"
   },
   "source": [
    "`-` fashion mnist data 다시 불러오자 "
   ]
  },
  {
   "cell_type": "code",
   "execution_count": 23,
   "id": "963d6333-63bf-47e8-b0af-0748c513688e",
   "metadata": {
    "id": "963d6333-63bf-47e8-b0af-0748c513688e"
   },
   "outputs": [],
   "source": [
    "(x_train, y_train), (x_test, y_test) = tf.keras.datasets.fashion_mnist.load_data()"
   ]
  },
  {
   "cell_type": "code",
   "execution_count": 24,
   "id": "c02e32f4-f907-4a6e-a08e-f46e58cf4d09",
   "metadata": {
    "colab": {
     "base_uri": "https://localhost:8080/"
    },
    "id": "c02e32f4-f907-4a6e-a08e-f46e58cf4d09",
    "outputId": "ffb5dab8-6142-4600-8b5d-8a339bc568c7"
   },
   "outputs": [
    {
     "data": {
      "text/plain": [
       "(60000, 28, 28)"
      ]
     },
     "execution_count": 24,
     "metadata": {},
     "output_type": "execute_result"
    }
   ],
   "source": [
    "x_train.shape"
   ]
  },
  {
   "cell_type": "markdown",
   "id": "150a2a90-5633-450e-b381-22b4d98365d6",
   "metadata": {
    "id": "150a2a90-5633-450e-b381-22b4d98365d6"
   },
   "source": [
    "- 이미지는 원래 가로픽셀 * 세로픽셀 * 3 이어야 한다. (색을 표현하는 basis는 빨,녹,파)"
   ]
  },
  {
   "cell_type": "markdown",
   "id": "e2577cf7-19c0-4d38-b401-cc28ada5a67c",
   "metadata": {
    "id": "e2577cf7-19c0-4d38-b401-cc28ada5a67c"
   },
   "source": [
    "`-` 따라서 이미지의 차원이 단지 (28,28)이라는 것은 흑백이미지라는 뜻이다. "
   ]
  },
  {
   "cell_type": "code",
   "execution_count": 25,
   "id": "5bf96ab2-beef-49e4-9e44-e4d6c79972c0",
   "metadata": {
    "colab": {
     "base_uri": "https://localhost:8080/",
     "height": 283
    },
    "id": "5bf96ab2-beef-49e4-9e44-e4d6c79972c0",
    "outputId": "46bdbb70-a1ef-485e-b356-fcb3e14851ec"
   },
   "outputs": [
    {
     "data": {
      "text/plain": [
       "<matplotlib.image.AxesImage at 0x7fe564f487d0>"
      ]
     },
     "execution_count": 25,
     "metadata": {},
     "output_type": "execute_result"
    },
    {
     "data": {
      "image/png": "[encoded data removed]",
      "text/plain": [
       "<Figure size 432x288 with 1 Axes>"
      ]
     },
     "metadata": {
      "needs_background": "light"
     },
     "output_type": "display_data"
    }
   ],
   "source": [
    "plt.imshow(x_train[0]) "
   ]
  },
  {
   "cell_type": "markdown",
   "id": "23850233-8f2c-480d-817b-a64a77aaa03a",
   "metadata": {
    "id": "23850233-8f2c-480d-817b-a64a77aaa03a"
   },
   "source": [
    "- 아닌데요?! 칼라인데요?! -> 흑백이다. 그냥 밝을수록 노란색, 어두울수록 남색으로 표현한것 뿐임 (colormap이 viridis일 뿐임)"
   ]
  },
  {
   "cell_type": "markdown",
   "id": "76626a12-2321-43c5-b051-8e9fb212c410",
   "metadata": {
    "id": "76626a12-2321-43c5-b051-8e9fb212c410"
   },
   "source": [
    "`-` 일반적으로 분석할 이미지는 칼라를 의미하는 채널도 포함할테니 아래와 같이 자료형을 정리하는게 일반적으로 이미지 자료를 분석하는 정석적인 처리방법이다. "
   ]
  },
  {
   "cell_type": "code",
   "execution_count": 26,
   "id": "bfce4a51-4d04-40b6-8326-c4b6be0ea8ee",
   "metadata": {
    "id": "bfce4a51-4d04-40b6-8326-c4b6be0ea8ee"
   },
   "outputs": [],
   "source": [
    "X = tf.constant(x_train.reshape(-1,28,28,1),dtype=tf.float64)\n",
    "y = tf.keras.utils.to_categorical(y_train)\n",
    "XX = tf.constant(x_test.reshape(-1,28,28,1),dtype=tf.float64)\n",
    "yy = tf.keras.utils.to_categorical(y_test)"
   ]
  },
  {
   "cell_type": "code",
   "execution_count": 27,
   "id": "ce5a546e-5fb7-4dc9-90ac-107406ec2de0",
   "metadata": {
    "colab": {
     "base_uri": "https://localhost:8080/"
    },
    "id": "ce5a546e-5fb7-4dc9-90ac-107406ec2de0",
    "outputId": "ce9ef738-0a5e-4384-f900-f8a19fd681ee"
   },
   "outputs": [
    {
     "data": {
      "text/plain": [
       "(TensorShape([60000, 28, 28, 1]), TensorShape([10000, 28, 28, 1]))"
      ]
     },
     "execution_count": 27,
     "metadata": {},
     "output_type": "execute_result"
    }
   ],
   "source": [
    "X.shape, XX.shape"
   ]
  },
  {
   "cell_type": "markdown",
   "id": "37c3019e-4c84-45d5-ba9a-489ed4173a74",
   "metadata": {
    "id": "37c3019e-4c84-45d5-ba9a-489ed4173a74"
   },
   "source": [
    "- keras에서 이미지자료는 (관측치수,픽셀,픽셀,채널)과 같은 형식을 가진다. \n",
    "- 예를들어 256*256 size인 칼라이미지(채널수=3)가 10개 있다면 X.shape은 (10,256,256,3)이다. "
   ]
  },
  {
   "cell_type": "markdown",
   "id": "d4a0bb0b-aa16-4a98-8895-47ca63e01c7d",
   "metadata": {
    "id": "d4a0bb0b-aa16-4a98-8895-47ca63e01c7d"
   },
   "source": [
    "## X의 차원이 (관측치수,픽셀,픽셀,채널)일 경우 DNN 쓰기 "
   ]
  },
  {
   "cell_type": "markdown",
   "id": "33689897-1a7e-484d-b6ad-3c0047739d20",
   "metadata": {
    "id": "33689897-1a7e-484d-b6ad-3c0047739d20"
   },
   "source": [
    "### (예제1) X -> Dense(30,relu) -> Dense(10,softmax):=> y "
   ]
  },
  {
   "cell_type": "markdown",
   "id": "39d72534-22a2-47fd-945e-693a17985a1f",
   "metadata": {
    "id": "39d72534-22a2-47fd-945e-693a17985a1f"
   },
   "source": [
    "`-` 이러한 아키텍처를 돌리기 위해서는 X의 shape을 미리 바꿔야 했었다. 혹시 바꾸지 않는 방법도 있을까? "
   ]
  },
  {
   "cell_type": "markdown",
   "id": "840df6e2-48b2-41da-9611-457fdb283ee0",
   "metadata": {
    "id": "840df6e2-48b2-41da-9611-457fdb283ee0"
   },
   "source": [
    "`-` tf.keras.layers.Flatten()"
   ]
  },
  {
   "cell_type": "code",
   "execution_count": 28,
   "id": "d0972198-d8a2-4f13-80c4-45f72c0e22ef",
   "metadata": {
    "id": "d0972198-d8a2-4f13-80c4-45f72c0e22ef"
   },
   "outputs": [],
   "source": [
    "flttn = tf.keras.layers.Flatten()"
   ]
  },
  {
   "cell_type": "code",
   "execution_count": 29,
   "id": "c96fdfbc-3800-40f3-870f-54f00faadd91",
   "metadata": {
    "colab": {
     "base_uri": "https://localhost:8080/"
    },
    "id": "c96fdfbc-3800-40f3-870f-54f00faadd91",
    "outputId": "c63f938c-739c-4298-f81c-ea7c6eb2d295"
   },
   "outputs": [
    {
     "data": {
      "text/plain": [
       "<keras.layers.core.flatten.Flatten at 0x7fe564e9eb10>"
      ]
     },
     "execution_count": 29,
     "metadata": {},
     "output_type": "execute_result"
    }
   ],
   "source": [
    "flttn"
   ]
  },
  {
   "cell_type": "markdown",
   "id": "4b375517-fa63-419e-9c89-b93cee59a9c7",
   "metadata": {
    "id": "4b375517-fa63-419e-9c89-b93cee59a9c7"
   },
   "source": [
    "- type: flatten <- 머 어쩌란거야.."
   ]
  },
  {
   "cell_type": "code",
   "execution_count": 30,
   "id": "77359c46-7c95-4d9b-9447-ca96c41c6cde",
   "metadata": {
    "colab": {
     "base_uri": "https://localhost:8080/"
    },
    "id": "77359c46-7c95-4d9b-9447-ca96c41c6cde",
    "outputId": "bce7f4f1-aae5-41d3-dc0b-5e31dae2775b"
   },
   "outputs": [
    {
     "data": {
      "text/plain": [
       "{'__call__'}"
      ]
     },
     "execution_count": 30,
     "metadata": {},
     "output_type": "execute_result"
    }
   ],
   "source": [
    "set(dir(flttn)) & {'__call__'} # 함수처럼 쓸 수 있음."
   ]
  },
  {
   "cell_type": "markdown",
   "id": "f5cf8fca-e0ba-477a-a451-32ad7d1fec28",
   "metadata": {
    "id": "f5cf8fca-e0ba-477a-a451-32ad7d1fec28"
   },
   "source": [
    "- call이 있음 -> 써보자"
   ]
  },
  {
   "cell_type": "code",
   "execution_count": 31,
   "id": "993c1d20-49a3-46c4-bdb7-551cde5cb7b2",
   "metadata": {
    "colab": {
     "base_uri": "https://localhost:8080/"
    },
    "id": "993c1d20-49a3-46c4-bdb7-551cde5cb7b2",
    "outputId": "4677fd6d-fd15-4ade-b820-06b45b29a2b8"
   },
   "outputs": [
    {
     "data": {
      "text/plain": [
       "TensorShape([60000, 28, 28, 1])"
      ]
     },
     "execution_count": 31,
     "metadata": {},
     "output_type": "execute_result"
    }
   ],
   "source": [
    "X.shape"
   ]
  },
  {
   "cell_type": "code",
   "execution_count": 32,
   "id": "9122d096-8e29-4204-8ca7-a5c752555174",
   "metadata": {
    "colab": {
     "base_uri": "https://localhost:8080/"
    },
    "id": "9122d096-8e29-4204-8ca7-a5c752555174",
    "outputId": "b906ac0a-b42b-4593-f413-ce49a94d6245"
   },
   "outputs": [
    {
     "data": {
      "text/plain": [
       "<tf.Tensor: shape=(60000, 784), dtype=float32, numpy=\n",
       "array([[0., 0., 0., ..., 0., 0., 0.],\n",
       "       [0., 0., 0., ..., 0., 0., 0.],\n",
       "       [0., 0., 0., ..., 0., 0., 0.],\n",
       "       ...,\n",
       "       [0., 0., 0., ..., 0., 0., 0.],\n",
       "       [0., 0., 0., ..., 0., 0., 0.],\n",
       "       [0., 0., 0., ..., 0., 0., 0.]], dtype=float32)>"
      ]
     },
     "execution_count": 32,
     "metadata": {},
     "output_type": "execute_result"
    }
   ],
   "source": [
    "flttn(X) # 오..? "
   ]
  },
  {
   "cell_type": "markdown",
   "id": "342fad6b-cec6-41c0-8fe6-5735b10d4ec4",
   "metadata": {
    "id": "342fad6b-cec6-41c0-8fe6-5735b10d4ec4"
   },
   "source": [
    "펴진다? 즉 X.reshape(-1,784)와 같은 기능!"
   ]
  },
  {
   "cell_type": "markdown",
   "id": "15c88a50-7541-41f2-9145-ddc4f58d65a7",
   "metadata": {
    "id": "15c88a50-7541-41f2-9145-ddc4f58d65a7"
   },
   "source": [
    "`-` 근데 이거 레이어다? 즉 네트워크에 add 할 수 있다는 의미!"
   ]
  },
  {
   "cell_type": "markdown",
   "id": "7f8bf059-a67b-4144-a97b-4f05742b60a0",
   "metadata": {
    "id": "7f8bf059-a67b-4144-a97b-4f05742b60a0"
   },
   "source": [
    "`-` 그렇다면 아래와 같이 예제를 풀어도 괜찮겠다."
   ]
  },
  {
   "cell_type": "code",
   "execution_count": 33,
   "id": "31c2cc78-1972-4606-b948-948314d1f96c",
   "metadata": {
    "colab": {
     "base_uri": "https://localhost:8080/"
    },
    "id": "31c2cc78-1972-4606-b948-948314d1f96c",
    "outputId": "7baac725-75bb-4959-e190-79a89533704b",
    "tags": []
   },
   "outputs": [
    {
     "name": "stdout",
     "output_type": "stream",
     "text": [
      "Epoch 1/5\n",
      "1875/1875 [==============================] - 4s 2ms/step - loss: 2.5431 - accuracy: 0.4038\n",
      "Epoch 2/5\n",
      "1875/1875 [==============================] - 3s 2ms/step - loss: 1.2042 - accuracy: 0.5173\n",
      "Epoch 3/5\n",
      "1875/1875 [==============================] - 3s 2ms/step - loss: 1.0222 - accuracy: 0.5878\n",
      "Epoch 4/5\n",
      "1875/1875 [==============================] - 3s 2ms/step - loss: 0.9312 - accuracy: 0.6192\n",
      "Epoch 5/5\n",
      "1875/1875 [==============================] - 3s 2ms/step - loss: 0.8973 - accuracy: 0.6270\n"
     ]
    },
    {
     "data": {
      "text/plain": [
       "<keras.callbacks.History at 0x7fe564faced0>"
      ]
     },
     "execution_count": 33,
     "metadata": {},
     "output_type": "execute_result"
    }
   ],
   "source": [
    "tf.random.set_seed(43052)\n",
    "net1 = tf.keras.Sequential()\n",
    "net1.add(tf.keras.layers.Flatten())\n",
    "net1.add(tf.keras.layers.Dense(30,activation='relu'))\n",
    "net1.add(tf.keras.layers.Dense(10,activation='softmax'))\n",
    "net1.compile(loss=tf.losses.categorical_crossentropy, optimizer='adam',metrics=['accuracy'])\n",
    "net1.fit(X,y,epochs=5)"
   ]
  },
  {
   "cell_type": "markdown",
   "id": "d185d668-1fb4-42a4-aa03-a6bec77529c2",
   "metadata": {
    "id": "d185d668-1fb4-42a4-aa03-a6bec77529c2"
   },
   "source": [
    "`-` 관찰"
   ]
  },
  {
   "cell_type": "code",
   "execution_count": 34,
   "id": "62faee5a-3b7e-46d2-8737-fb943d5650af",
   "metadata": {
    "colab": {
     "base_uri": "https://localhost:8080/"
    },
    "id": "62faee5a-3b7e-46d2-8737-fb943d5650af",
    "outputId": "b35b17fc-7f0e-4996-9f9a-20570d26a5f2"
   },
   "outputs": [
    {
     "data": {
      "text/plain": [
       "[<keras.layers.core.flatten.Flatten at 0x7fe564fccc90>,\n",
       " <keras.layers.core.dense.Dense at 0x7fe564fcc310>,\n",
       " <keras.layers.core.dense.Dense at 0x7fe564fa3990>]"
      ]
     },
     "execution_count": 34,
     "metadata": {},
     "output_type": "execute_result"
    }
   ],
   "source": [
    "net1.layers"
   ]
  },
  {
   "cell_type": "code",
   "execution_count": 35,
   "id": "7b486e57-00ab-42e5-97b1-462cbdc5a339",
   "metadata": {
    "colab": {
     "base_uri": "https://localhost:8080/"
    },
    "id": "7b486e57-00ab-42e5-97b1-462cbdc5a339",
    "outputId": "25c99123-3e4b-4850-c768-135e2e22a202"
   },
   "outputs": [
    {
     "data": {
      "text/plain": [
       "<tf.Tensor: shape=(60000, 784), dtype=float32, numpy=\n",
       "array([[0., 0., 0., ..., 0., 0., 0.],\n",
       "       [0., 0., 0., ..., 0., 0., 0.],\n",
       "       [0., 0., 0., ..., 0., 0., 0.],\n",
       "       ...,\n",
       "       [0., 0., 0., ..., 0., 0., 0.],\n",
       "       [0., 0., 0., ..., 0., 0., 0.],\n",
       "       [0., 0., 0., ..., 0., 0., 0.]], dtype=float32)>"
      ]
     },
     "execution_count": 35,
     "metadata": {},
     "output_type": "execute_result"
    }
   ],
   "source": [
    "net1.layers[0](X) # 레이어를 통과하는 순간 전처리!"
   ]
  },
  {
   "cell_type": "code",
   "execution_count": 36,
   "id": "fd8e6bdf-a730-437a-8172-187c95fafe9b",
   "metadata": {
    "colab": {
     "base_uri": "https://localhost:8080/"
    },
    "id": "fd8e6bdf-a730-437a-8172-187c95fafe9b",
    "outputId": "49bde441-e996-4ce4-92a2-643305cc1c57"
   },
   "outputs": [
    {
     "data": {
      "text/plain": [
       "<tf.Tensor: shape=(60000, 30), dtype=float32, numpy=\n",
       "array([[0., 0., 0., ..., 0., 0., 0.],\n",
       "       [0., 0., 0., ..., 0., 0., 0.],\n",
       "       [0., 0., 0., ..., 0., 0., 0.],\n",
       "       ...,\n",
       "       [0., 0., 0., ..., 0., 0., 0.],\n",
       "       [0., 0., 0., ..., 0., 0., 0.],\n",
       "       [0., 0., 0., ..., 0., 0., 0.]], dtype=float32)>"
      ]
     },
     "execution_count": 36,
     "metadata": {},
     "output_type": "execute_result"
    }
   ],
   "source": [
    "net1.layers[1](net1.layers[0](X)) # 출력이 30이니까~ + 렐루를 거쳐서 0또는 양수인 모습!"
   ]
  },
  {
   "cell_type": "code",
   "execution_count": 37,
   "id": "8b8f12a8-64c0-4fc3-8d91-cbd7e589219d",
   "metadata": {
    "colab": {
     "base_uri": "https://localhost:8080/"
    },
    "id": "8b8f12a8-64c0-4fc3-8d91-cbd7e589219d",
    "outputId": "42b55a54-14aa-4ef3-a25e-917372887cec"
   },
   "outputs": [
    {
     "data": {
      "text/plain": [
       "<tf.Tensor: shape=(60000, 10), dtype=float32, numpy=\n",
       "array([[0.0000000e+00, 2.8076959e-37, 0.0000000e+00, ..., 3.8582063e-04,\n",
       "        0.0000000e+00, 9.9960333e-01],\n",
       "       [2.0941226e-01, 1.4367345e-03, 2.3821327e-01, ..., 5.0225304e-03,\n",
       "        2.5805481e-02, 3.0450234e-03],\n",
       "       [3.0291098e-01, 1.3899502e-02, 2.2462834e-02, ..., 2.5782569e-15,\n",
       "        2.1044535e-04, 2.6176517e-10],\n",
       "       ...,\n",
       "       [6.8422541e-02, 2.0148051e-01, 1.2838944e-05, ..., 0.0000000e+00,\n",
       "        5.6517130e-10, 8.8627344e-27],\n",
       "       [2.0941226e-01, 1.4367345e-03, 2.3821327e-01, ..., 5.0225304e-03,\n",
       "        2.5805481e-02, 3.0450234e-03],\n",
       "       [1.0189731e-34, 0.0000000e+00, 0.0000000e+00, ..., 1.7085880e-05,\n",
       "        2.8456826e-20, 5.3099287e-05]], dtype=float32)>"
      ]
     },
     "execution_count": 37,
     "metadata": {},
     "output_type": "execute_result"
    }
   ],
   "source": [
    "net1.layers[2](net1.layers[1](net1.layers[0](X))) # 최종출력 10차원, 각각은 확률을 의미하게 된다. "
   ]
  },
  {
   "cell_type": "markdown",
   "id": "fd1f064f-e853-4de7-92fa-15a23caa76af",
   "metadata": {
    "id": "fd1f064f-e853-4de7-92fa-15a23caa76af"
   },
   "source": [
    "`-` (참고) metrics=['accuracy'] 대신에 이렇게 해도된다~"
   ]
  },
  {
   "cell_type": "code",
   "execution_count": 38,
   "id": "f0de314c-954a-471a-899c-db7bc74a323d",
   "metadata": {
    "colab": {
     "base_uri": "https://localhost:8080/"
    },
    "id": "f0de314c-954a-471a-899c-db7bc74a323d",
    "outputId": "b3f77634-30bf-428d-ecef-fd4fb3615b8f",
    "tags": []
   },
   "outputs": [
    {
     "name": "stdout",
     "output_type": "stream",
     "text": [
      "Epoch 1/5\n",
      "1875/1875 [==============================] - 4s 2ms/step - loss: 2.5431 - categorical_accuracy: 0.4038\n",
      "Epoch 2/5\n",
      "1875/1875 [==============================] - 3s 2ms/step - loss: 1.2042 - categorical_accuracy: 0.5173\n",
      "Epoch 3/5\n",
      "1875/1875 [==============================] - 3s 2ms/step - loss: 1.0222 - categorical_accuracy: 0.5878\n",
      "Epoch 4/5\n",
      "1875/1875 [==============================] - 3s 2ms/step - loss: 0.9312 - categorical_accuracy: 0.6192\n",
      "Epoch 5/5\n",
      "1875/1875 [==============================] - 3s 2ms/step - loss: 0.8973 - categorical_accuracy: 0.6270\n"
     ]
    },
    {
     "data": {
      "text/plain": [
       "<keras.callbacks.History at 0x7fe564942490>"
      ]
     },
     "execution_count": 38,
     "metadata": {},
     "output_type": "execute_result"
    }
   ],
   "source": [
    "tf.random.set_seed(43052)\n",
    "net1 = tf.keras.Sequential()\n",
    "net1.add(tf.keras.layers.Flatten())\n",
    "net1.add(tf.keras.layers.Dense(30,activation='relu'))\n",
    "net1.add(tf.keras.layers.Dense(10,activation='softmax'))\n",
    "net1.compile(loss=tf.losses.categorical_crossentropy, optimizer='adam',metrics=[tf.metrics.CategoricalAccuracy()])\n",
    "net1.fit(X,y,epochs=5)"
   ]
  },
  {
   "cell_type": "code",
   "execution_count": 39,
   "id": "1dcbd423-4ea5-413d-b9d0-4b09c65d499f",
   "metadata": {
    "colab": {
     "base_uri": "https://localhost:8080/"
    },
    "id": "1dcbd423-4ea5-413d-b9d0-4b09c65d499f",
    "outputId": "979287ad-3cf0-4224-9cd0-61258c762418"
   },
   "outputs": [
    {
     "data": {
      "text/plain": [
       "(126023328, 126023328)"
      ]
     },
     "execution_count": 39,
     "metadata": {},
     "output_type": "execute_result"
    }
   ],
   "source": [
    "id(tf.metrics.CategoricalAccuracy), id(tf.keras.metrics.CategoricalAccuracy)"
   ]
  },
  {
   "cell_type": "markdown",
   "id": "7c80931d-4680-431a-a420-e38063733262",
   "metadata": {
    "id": "7c80931d-4680-431a-a420-e38063733262"
   },
   "source": [
    "- 주소가 똑같네요, 이게 무슨말인지 알죠?"
   ]
  },
  {
   "cell_type": "markdown",
   "id": "47ea0b83-8cb8-4e05-9e20-3c48b09797e0",
   "metadata": {
    "id": "47ea0b83-8cb8-4e05-9e20-3c48b09797e0"
   },
   "source": [
    "`-` 주의사항: tf.metrics.Accuracy() 말고 tf.metrics.CategoricalAccuracy() 를 써야함"
   ]
  },
  {
   "cell_type": "markdown",
   "id": "a5e6b499-3ba8-4e22-8888-7185c46cc759",
   "metadata": {
    "id": "a5e6b499-3ba8-4e22-8888-7185c46cc759"
   },
   "source": [
    "`-` (참고2) 메트릭을 추가할수도 있다 "
   ]
  },
  {
   "cell_type": "code",
   "execution_count": 40,
   "id": "d6d67ba7-f71a-4fd1-8ad6-a218d6938c7b",
   "metadata": {
    "colab": {
     "base_uri": "https://localhost:8080/"
    },
    "id": "d6d67ba7-f71a-4fd1-8ad6-a218d6938c7b",
    "outputId": "5f44d9ba-c6cf-4fb9-cab6-23ae63102e0e",
    "tags": []
   },
   "outputs": [
    {
     "name": "stdout",
     "output_type": "stream",
     "text": [
      "Epoch 1/5\n",
      "1875/1875 [==============================] - 4s 2ms/step - loss: 2.5431 - categorical_accuracy: 0.4038 - recall: 0.2949\n",
      "Epoch 2/5\n",
      "1875/1875 [==============================] - 3s 2ms/step - loss: 1.2042 - categorical_accuracy: 0.5173 - recall: 0.4078\n",
      "Epoch 3/5\n",
      "1875/1875 [==============================] - 3s 2ms/step - loss: 1.0222 - categorical_accuracy: 0.5878 - recall: 0.4774\n",
      "Epoch 4/5\n",
      "1875/1875 [==============================] - 3s 2ms/step - loss: 0.9312 - categorical_accuracy: 0.6192 - recall: 0.5059\n",
      "Epoch 5/5\n",
      "1875/1875 [==============================] - 3s 2ms/step - loss: 0.8973 - categorical_accuracy: 0.6270 - recall: 0.5128\n"
     ]
    },
    {
     "data": {
      "text/plain": [
       "<keras.callbacks.History at 0x7fe5648700d0>"
      ]
     },
     "execution_count": 40,
     "metadata": {},
     "output_type": "execute_result"
    }
   ],
   "source": [
    "tf.random.set_seed(43052)\n",
    "net1 = tf.keras.Sequential()\n",
    "net1.add(tf.keras.layers.Flatten())\n",
    "net1.add(tf.keras.layers.Dense(30,activation='relu'))\n",
    "net1.add(tf.keras.layers.Dense(10,activation='softmax'))\n",
    "net1.compile(loss=tf.losses.categorical_crossentropy, optimizer='adam',metrics=[tf.metrics.CategoricalAccuracy(),tf.metrics.Recall()])\n",
    "net1.fit(X,y,epochs=5)"
   ]
  },
  {
   "cell_type": "markdown",
   "id": "9f9bd230-6771-470d-b8bb-0dac1d1f217c",
   "metadata": {
    "id": "9f9bd230-6771-470d-b8bb-0dac1d1f217c"
   },
   "source": [
    "**굵은 텍스트**`-` 리콜을 추가하면 test set의 성능평가에도 리콜을 볼 수 있다."
   ]
  },
  {
   "cell_type": "code",
   "execution_count": 41,
   "id": "17d9d5c0-dad1-42a2-8540-8a43119ae811",
   "metadata": {
    "colab": {
     "base_uri": "https://localhost:8080/"
    },
    "id": "17d9d5c0-dad1-42a2-8540-8a43119ae811",
    "outputId": "4382b151-7463-49fd-969b-36d1906e8516"
   },
   "outputs": [
    {
     "name": "stdout",
     "output_type": "stream",
     "text": [
      "313/313 [==============================] - 1s 1ms/step - loss: 0.9399 - categorical_accuracy: 0.6308 - recall: 0.5122\n"
     ]
    },
    {
     "data": {
      "text/plain": [
       "[0.9398639798164368, 0.6308000087738037, 0.5121999979019165]"
      ]
     },
     "execution_count": 41,
     "metadata": {},
     "output_type": "execute_result"
    }
   ],
   "source": [
    "net1.evaluate(XX,yy)"
   ]
  },
  {
   "cell_type": "markdown",
   "id": "831589e0-7764-43d6-8eb6-c97f4fdc8660",
   "metadata": {
    "id": "831589e0-7764-43d6-8eb6-c97f4fdc8660"
   },
   "source": [
    "### (예제2) X -> Dense(500,relu) -> Dense(500,relu) -> Dense(10,softmax):=>y "
   ]
  },
  {
   "cell_type": "markdown",
   "id": "629bf125-ea0d-4f8f-9e71-5db116521445",
   "metadata": {
    "id": "629bf125-ea0d-4f8f-9e71-5db116521445"
   },
   "source": [
    "`-` 다른모형으로도 적합시켜보자. "
   ]
  },
  {
   "cell_type": "code",
   "execution_count": 42,
   "id": "8695c049-9a6a-4a91-8e34-9ce84b5301b6",
   "metadata": {
    "colab": {
     "base_uri": "https://localhost:8080/"
    },
    "id": "8695c049-9a6a-4a91-8e34-9ce84b5301b6",
    "outputId": "102b9fe4-dce7-49ff-c3d1-33282f1f8b7f"
   },
   "outputs": [
    {
     "name": "stdout",
     "output_type": "stream",
     "text": [
      "Epoch 1/5\n",
      "1875/1875 [==============================] - 13s 6ms/step - loss: 2.2713 - accuracy: 0.7542\n",
      "Epoch 2/5\n",
      "1875/1875 [==============================] - 12s 6ms/step - loss: 0.6264 - accuracy: 0.7955\n",
      "Epoch 3/5\n",
      "1875/1875 [==============================] - 11s 6ms/step - loss: 0.5365 - accuracy: 0.8209\n",
      "Epoch 4/5\n",
      "1875/1875 [==============================] - 11s 6ms/step - loss: 0.4477 - accuracy: 0.8425\n",
      "Epoch 5/5\n",
      "1875/1875 [==============================] - 12s 6ms/step - loss: 0.4127 - accuracy: 0.8548\n"
     ]
    },
    {
     "data": {
      "text/plain": [
       "<keras.callbacks.History at 0x7fe564531510>"
      ]
     },
     "execution_count": 42,
     "metadata": {},
     "output_type": "execute_result"
    }
   ],
   "source": [
    "tf.random.set_seed(43052)\n",
    "net2 = tf.keras.Sequential()\n",
    "net2.add(tf.keras.layers.Flatten())\n",
    "net2.add(tf.keras.layers.Dense(500,activation='relu'))\n",
    "net2.add(tf.keras.layers.Dense(500,activation='relu'))\n",
    "net2.add(tf.keras.layers.Dense(10,activation='softmax'))\n",
    "net2.compile(loss=tf.losses.categorical_crossentropy, optimizer='adam',metrics=['accuracy'])\n",
    "net2.fit(X,y,epochs=5)"
   ]
  },
  {
   "cell_type": "code",
   "execution_count": 43,
   "id": "502cff55-e1fa-488a-b386-e8ad247dbfa3",
   "metadata": {
    "colab": {
     "base_uri": "https://localhost:8080/"
    },
    "id": "502cff55-e1fa-488a-b386-e8ad247dbfa3",
    "outputId": "1922d705-ed87-4fcd-e658-504f7470acde"
   },
   "outputs": [
    {
     "name": "stdout",
     "output_type": "stream",
     "text": [
      "313/313 [==============================] - 2s 7ms/step - loss: 0.4584 - accuracy: 0.8366\n"
     ]
    },
    {
     "data": {
      "text/plain": [
       "<keras.callbacks.History at 0x7fe56454de10>"
      ]
     },
     "execution_count": 43,
     "metadata": {},
     "output_type": "execute_result"
    }
   ],
   "source": [
    "net2.fit(XX,yy)"
   ]
  },
  {
   "cell_type": "markdown",
   "id": "7ab60faf-ccce-4ed3-b1a4-177d9516705f",
   "metadata": {
    "id": "7ab60faf-ccce-4ed3-b1a4-177d9516705f"
   },
   "source": [
    "`-` 좀 더 돌려보자. "
   ]
  },
  {
   "cell_type": "code",
   "execution_count": 44,
   "id": "597cc989-4bb9-4801-8227-bdcee8284a8d",
   "metadata": {
    "colab": {
     "base_uri": "https://localhost:8080/"
    },
    "id": "597cc989-4bb9-4801-8227-bdcee8284a8d",
    "outputId": "42d5ce07-f03c-4955-c204-10b331a78059"
   },
   "outputs": [
    {
     "name": "stdout",
     "output_type": "stream",
     "text": [
      "Epoch 1/10\n",
      "1875/1875 [==============================] - 12s 6ms/step - loss: 2.2713 - accuracy: 0.7542\n",
      "Epoch 2/10\n",
      "1875/1875 [==============================] - 11s 6ms/step - loss: 0.6264 - accuracy: 0.7955\n",
      "Epoch 3/10\n",
      "1875/1875 [==============================] - 11s 6ms/step - loss: 0.5365 - accuracy: 0.8209\n",
      "Epoch 4/10\n",
      "1875/1875 [==============================] - 11s 6ms/step - loss: 0.4477 - accuracy: 0.8425\n",
      "Epoch 5/10\n",
      "1875/1875 [==============================] - 11s 6ms/step - loss: 0.4127 - accuracy: 0.8548\n",
      "Epoch 6/10\n",
      "1875/1875 [==============================] - 11s 6ms/step - loss: 0.3957 - accuracy: 0.8589\n",
      "Epoch 7/10\n",
      "1875/1875 [==============================] - 11s 6ms/step - loss: 0.3904 - accuracy: 0.8607\n",
      "Epoch 8/10\n",
      "1875/1875 [==============================] - 11s 6ms/step - loss: 0.3798 - accuracy: 0.8643\n",
      "Epoch 9/10\n",
      "1875/1875 [==============================] - 11s 6ms/step - loss: 0.3783 - accuracy: 0.8647\n",
      "Epoch 10/10\n",
      "1875/1875 [==============================] - 12s 6ms/step - loss: 0.3630 - accuracy: 0.8704\n"
     ]
    },
    {
     "data": {
      "text/plain": [
       "<keras.callbacks.History at 0x7fe56446d8d0>"
      ]
     },
     "execution_count": 44,
     "metadata": {},
     "output_type": "execute_result"
    }
   ],
   "source": [
    "tf.random.set_seed(43052)\n",
    "net2 = tf.keras.Sequential()\n",
    "net2.add(tf.keras.layers.Flatten())\n",
    "net2.add(tf.keras.layers.Dense(500,activation='relu'))\n",
    "net2.add(tf.keras.layers.Dense(500,activation='relu'))\n",
    "net2.add(tf.keras.layers.Dense(10,activation='softmax'))\n",
    "net2.compile(loss=tf.losses.categorical_crossentropy, optimizer='adam',metrics=['accuracy'])\n",
    "net2.fit(X,y,epochs=10)"
   ]
  },
  {
   "cell_type": "code",
   "execution_count": 45,
   "id": "393710b2-6581-4c91-b807-1ac98a9c93ae",
   "metadata": {
    "colab": {
     "base_uri": "https://localhost:8080/"
    },
    "id": "393710b2-6581-4c91-b807-1ac98a9c93ae",
    "outputId": "3f6166c4-b159-464e-a636-64136415261d"
   },
   "outputs": [
    {
     "name": "stdout",
     "output_type": "stream",
     "text": [
      "313/313 [==============================] - 2s 7ms/step - loss: 0.4505 - accuracy: 0.8458\n"
     ]
    },
    {
     "data": {
      "text/plain": [
       "<keras.callbacks.History at 0x7fe56438fc10>"
      ]
     },
     "execution_count": 45,
     "metadata": {},
     "output_type": "execute_result"
    }
   ],
   "source": [
    "net2.fit(XX,yy)"
   ]
  },
  {
   "cell_type": "markdown",
   "id": "79daea56-7173-4a60-993f-077570588146",
   "metadata": {
    "id": "79daea56-7173-4a60-993f-077570588146"
   },
   "source": [
    "`-` 이 이상은 비효율적인듯.. "
   ]
  },
  {
   "cell_type": "markdown",
   "id": "404e02ec-3380-46bd-8825-fe3b865db142",
   "metadata": {
    "id": "404e02ec-3380-46bd-8825-fe3b865db142"
   },
   "source": [
    "## 더 좋은 모형을 만들고 싶은데.. "
   ]
  },
  {
   "cell_type": "markdown",
   "id": "d94f53b4-77a9-4efe-bc8d-c03963e077e0",
   "metadata": {
    "id": "d94f53b4-77a9-4efe-bc8d-c03963e077e0"
   },
   "source": [
    "### (예제3) 아주 복잡한 DNN"
   ]
  },
  {
   "cell_type": "markdown",
   "id": "7aee32b0-4f60-4c3b-9bd2-947847e9a03d",
   "metadata": {
    "id": "7aee32b0-4f60-4c3b-9bd2-947847e9a03d"
   },
   "source": [
    "`-` 무지성: 아 몰라 딥러닝이 해주겠지"
   ]
  },
  {
   "cell_type": "code",
   "execution_count": 46,
   "id": "a50f3184-b9fd-45e9-a133-c0b31ade5263",
   "metadata": {
    "colab": {
     "base_uri": "https://localhost:8080/"
    },
    "id": "a50f3184-b9fd-45e9-a133-c0b31ade5263",
    "outputId": "ecdf3455-b4cb-4c07-c80a-f152473ea239"
   },
   "outputs": [
    {
     "name": "stdout",
     "output_type": "stream",
     "text": [
      "Epoch 1/10\n",
      "1875/1875 [==============================] - 27s 14ms/step - loss: 0.9820 - accuracy: 0.7955\n",
      "Epoch 2/10\n",
      "1875/1875 [==============================] - 25s 14ms/step - loss: 0.4518 - accuracy: 0.8384\n",
      "Epoch 3/10\n",
      "1875/1875 [==============================] - 25s 13ms/step - loss: 0.4163 - accuracy: 0.8536\n",
      "Epoch 4/10\n",
      "1875/1875 [==============================] - 26s 14ms/step - loss: 0.3869 - accuracy: 0.8636\n",
      "Epoch 5/10\n",
      "1875/1875 [==============================] - 27s 14ms/step - loss: 0.3759 - accuracy: 0.8677\n",
      "Epoch 6/10\n",
      "1875/1875 [==============================] - 25s 13ms/step - loss: 0.3616 - accuracy: 0.8737\n",
      "Epoch 7/10\n",
      "1875/1875 [==============================] - 25s 14ms/step - loss: 0.3443 - accuracy: 0.8794\n",
      "Epoch 8/10\n",
      "1875/1875 [==============================] - 27s 14ms/step - loss: 0.3355 - accuracy: 0.8816\n",
      "Epoch 9/10\n",
      "1875/1875 [==============================] - 26s 14ms/step - loss: 0.3335 - accuracy: 0.8831\n",
      "Epoch 10/10\n",
      "1875/1875 [==============================] - 25s 13ms/step - loss: 0.3182 - accuracy: 0.8866\n"
     ]
    },
    {
     "data": {
      "text/plain": [
       "<keras.callbacks.History at 0x7fe56429fb90>"
      ]
     },
     "execution_count": 46,
     "metadata": {},
     "output_type": "execute_result"
    }
   ],
   "source": [
    "tf.random.set_seed(43052)\n",
    "net3 = tf.keras.Sequential()\n",
    "net3.add(tf.keras.layers.Flatten())\n",
    "net3.add(tf.keras.layers.Dense(500,activation='relu'))\n",
    "net3.add(tf.keras.layers.Dense(500,activation='relu'))\n",
    "net3.add(tf.keras.layers.Dense(500,activation='relu'))\n",
    "net3.add(tf.keras.layers.Dense(500,activation='relu'))\n",
    "net3.add(tf.keras.layers.Dense(500,activation='relu'))\n",
    "net3.add(tf.keras.layers.Dense(10,activation='softmax'))\n",
    "net3.compile(loss=tf.losses.categorical_crossentropy, optimizer='adam',metrics=['accuracy'])\n",
    "net3.fit(X,y,epochs=10)"
   ]
  },
  {
   "cell_type": "code",
   "execution_count": 47,
   "id": "680db1f5-e8f2-4e97-be7b-96e7b473acba",
   "metadata": {
    "colab": {
     "base_uri": "https://localhost:8080/"
    },
    "id": "680db1f5-e8f2-4e97-be7b-96e7b473acba",
    "outputId": "bb4f4938-6ebe-4957-e5e9-760fa158e2a4"
   },
   "outputs": [
    {
     "name": "stdout",
     "output_type": "stream",
     "text": [
      "313/313 [==============================] - 2s 5ms/step - loss: 0.3748 - accuracy: 0.8718\n"
     ]
    },
    {
     "data": {
      "text/plain": [
       "[0.37482383847236633, 0.8718000054359436]"
      ]
     },
     "execution_count": 47,
     "metadata": {},
     "output_type": "execute_result"
    }
   ],
   "source": [
    "net3.evaluate(XX,yy)"
   ]
  },
  {
   "cell_type": "code",
   "execution_count": 48,
   "id": "1d967332-f54f-45b4-ad89-ef61692ea78b",
   "metadata": {
    "colab": {
     "base_uri": "https://localhost:8080/"
    },
    "id": "1d967332-f54f-45b4-ad89-ef61692ea78b",
    "outputId": "868cbccb-16c8-4680-febc-b86b230069f2"
   },
   "outputs": [
    {
     "name": "stdout",
     "output_type": "stream",
     "text": [
      "Model: \"sequential_8\"\n",
      "_________________________________________________________________\n",
      " Layer (type)                Output Shape              Param #   \n",
      "=================================================================\n",
      " flatten_5 (Flatten)         (None, 784)               0         \n",
      "                                                                 \n",
      " dense_19 (Dense)            (None, 500)               392500    \n",
      "                                                                 \n",
      " dense_20 (Dense)            (None, 500)               250500    \n",
      "                                                                 \n",
      " dense_21 (Dense)            (None, 10)                5010      \n",
      "                                                                 \n",
      "=================================================================\n",
      "Total params: 648,010\n",
      "Trainable params: 648,010\n",
      "Non-trainable params: 0\n",
      "_________________________________________________________________\n"
     ]
    }
   ],
   "source": [
    "net2.summary()"
   ]
  },
  {
   "cell_type": "code",
   "execution_count": 49,
   "id": "ea8ad058-5730-4ac7-886c-3d504bd614c5",
   "metadata": {
    "colab": {
     "base_uri": "https://localhost:8080/"
    },
    "id": "ea8ad058-5730-4ac7-886c-3d504bd614c5",
    "outputId": "d2f519cd-d4b6-495c-9a67-d4b1d99b8c8e"
   },
   "outputs": [
    {
     "name": "stdout",
     "output_type": "stream",
     "text": [
      "Model: \"sequential_9\"\n",
      "_________________________________________________________________\n",
      " Layer (type)                Output Shape              Param #   \n",
      "=================================================================\n",
      " flatten_6 (Flatten)         (None, 784)               0         \n",
      "                                                                 \n",
      " dense_22 (Dense)            (None, 500)               392500    \n",
      "                                                                 \n",
      " dense_23 (Dense)            (None, 500)               250500    \n",
      "                                                                 \n",
      " dense_24 (Dense)            (None, 500)               250500    \n",
      "                                                                 \n",
      " dense_25 (Dense)            (None, 500)               250500    \n",
      "                                                                 \n",
      " dense_26 (Dense)            (None, 500)               250500    \n",
      "                                                                 \n",
      " dense_27 (Dense)            (None, 10)                5010      \n",
      "                                                                 \n",
      "=================================================================\n",
      "Total params: 1,399,510\n",
      "Trainable params: 1,399,510\n",
      "Non-trainable params: 0\n",
      "_________________________________________________________________\n"
     ]
    }
   ],
   "source": [
    "net3.summary()"
   ]
  },
  {
   "cell_type": "markdown",
   "id": "27351f72-eb42-4532-adcd-937a603d1155",
   "metadata": {
    "id": "27351f72-eb42-4532-adcd-937a603d1155"
   },
   "source": [
    "`-` 파라메터 증가대비 그닥.. "
   ]
  },
  {
   "cell_type": "markdown",
   "id": "3db7f8c1-4e38-4868-9121-8a4d4e1486a0",
   "metadata": {
    "id": "3db7f8c1-4e38-4868-9121-8a4d4e1486a0"
   },
   "source": [
    "`-` 왠지 DNN계열로는 한계가 있어보인다. "
   ]
  },
  {
   "cell_type": "markdown",
   "id": "586645e8-f425-4239-8a2f-352c4056b43c",
   "metadata": {
    "id": "586645e8-f425-4239-8a2f-352c4056b43c"
   },
   "source": [
    "### 발상의 전환 "
   ]
  },
  {
   "cell_type": "markdown",
   "id": "f6f2d6be-9a51-4319-ae67-3180a2593300",
   "metadata": {
    "id": "f6f2d6be-9a51-4319-ae67-3180a2593300"
   },
   "source": [
    "`-` Flattne 레이어를 보면서 느낀점: 생각해보니까 $X \\to \\hat{y}$를 만드는 과정이 꼭 Full Linear Transform(Dense layer) + Activation(Activation layer)일 필요는 없잖아?  "
   ]
  },
  {
   "cell_type": "markdown",
   "id": "f19d3168-0670-4da0-9cb9-f11dc2a06921",
   "metadata": {
    "id": "f19d3168-0670-4da0-9cb9-f11dc2a06921"
   },
   "source": [
    "`-` 뭐가있지? "
   ]
  },
  {
   "cell_type": "code",
   "execution_count": 50,
   "id": "63c29bee-7705-43d0-a34e-3a3936f8d4f9",
   "metadata": {
    "colab": {
     "base_uri": "https://localhost:8080/"
    },
    "id": "63c29bee-7705-43d0-a34e-3a3936f8d4f9",
    "outputId": "c312c0d5-2ce9-4c31-edbc-5ea47c43e49f"
   },
   "outputs": [
    {
     "data": {
      "text/plain": [
       "['AbstractRNNCell',\n",
       " 'Activation',\n",
       " 'ActivityRegularization',\n",
       " 'Add',\n",
       " 'AdditiveAttention',\n",
       " 'AlphaDropout',\n",
       " 'Attention',\n",
       " 'Average',\n",
       " 'AveragePooling1D',\n",
       " 'AveragePooling2D',\n",
       " 'AveragePooling3D',\n",
       " 'AvgPool1D',\n",
       " 'AvgPool2D',\n",
       " 'AvgPool3D',\n",
       " 'BatchNormalization',\n",
       " 'Bidirectional',\n",
       " 'CategoryEncoding',\n",
       " 'CenterCrop',\n",
       " 'Concatenate',\n",
       " 'Conv1D',\n",
       " 'Conv1DTranspose',\n",
       " 'Conv2D',\n",
       " 'Conv2DTranspose',\n",
       " 'Conv3D',\n",
       " 'Conv3DTranspose',\n",
       " 'ConvLSTM1D',\n",
       " 'ConvLSTM2D',\n",
       " 'ConvLSTM3D',\n",
       " 'Convolution1D',\n",
       " 'Convolution1DTranspose',\n",
       " 'Convolution2D',\n",
       " 'Convolution2DTranspose',\n",
       " 'Convolution3D',\n",
       " 'Convolution3DTranspose',\n",
       " 'Cropping1D',\n",
       " 'Cropping2D',\n",
       " 'Cropping3D',\n",
       " 'Dense',\n",
       " 'DenseFeatures',\n",
       " 'DepthwiseConv1D',\n",
       " 'DepthwiseConv2D',\n",
       " 'Discretization',\n",
       " 'Dot',\n",
       " 'Dropout',\n",
       " 'ELU',\n",
       " 'Embedding',\n",
       " 'Flatten',\n",
       " 'GRU',\n",
       " 'GRUCell',\n",
       " 'GaussianDropout',\n",
       " 'GaussianNoise',\n",
       " 'GlobalAveragePooling1D',\n",
       " 'GlobalAveragePooling2D',\n",
       " 'GlobalAveragePooling3D',\n",
       " 'GlobalAvgPool1D',\n",
       " 'GlobalAvgPool2D',\n",
       " 'GlobalAvgPool3D',\n",
       " 'GlobalMaxPool1D',\n",
       " 'GlobalMaxPool2D',\n",
       " 'GlobalMaxPool3D',\n",
       " 'GlobalMaxPooling1D',\n",
       " 'GlobalMaxPooling2D',\n",
       " 'GlobalMaxPooling3D',\n",
       " 'Hashing',\n",
       " 'Input',\n",
       " 'InputLayer',\n",
       " 'InputSpec',\n",
       " 'IntegerLookup',\n",
       " 'LSTM',\n",
       " 'LSTMCell',\n",
       " 'Lambda',\n",
       " 'Layer',\n",
       " 'LayerNormalization',\n",
       " 'LeakyReLU',\n",
       " 'LocallyConnected1D',\n",
       " 'LocallyConnected2D',\n",
       " 'Masking',\n",
       " 'MaxPool1D',\n",
       " 'MaxPool2D',\n",
       " 'MaxPool3D',\n",
       " 'MaxPooling1D',\n",
       " 'MaxPooling2D',\n",
       " 'MaxPooling3D',\n",
       " 'Maximum',\n",
       " 'Minimum',\n",
       " 'MultiHeadAttention',\n",
       " 'Multiply',\n",
       " 'Normalization',\n",
       " 'PReLU',\n",
       " 'Permute',\n",
       " 'RNN',\n",
       " 'RandomContrast',\n",
       " 'RandomCrop',\n",
       " 'RandomFlip',\n",
       " 'RandomHeight',\n",
       " 'RandomRotation',\n",
       " 'RandomTranslation',\n",
       " 'RandomWidth',\n",
       " 'RandomZoom',\n",
       " 'ReLU',\n",
       " 'RepeatVector',\n",
       " 'Rescaling',\n",
       " 'Reshape',\n",
       " 'Resizing',\n",
       " 'SeparableConv1D',\n",
       " 'SeparableConv2D',\n",
       " 'SeparableConvolution1D',\n",
       " 'SeparableConvolution2D',\n",
       " 'SimpleRNN',\n",
       " 'SimpleRNNCell',\n",
       " 'Softmax',\n",
       " 'SpatialDropout1D',\n",
       " 'SpatialDropout2D',\n",
       " 'SpatialDropout3D',\n",
       " 'StackedRNNCells',\n",
       " 'StringLookup',\n",
       " 'Subtract',\n",
       " 'TextVectorization',\n",
       " 'ThresholdedReLU',\n",
       " 'TimeDistributed',\n",
       " 'UpSampling1D',\n",
       " 'UpSampling2D',\n",
       " 'UpSampling3D',\n",
       " 'Wrapper',\n",
       " 'ZeroPadding1D',\n",
       " 'ZeroPadding2D',\n",
       " 'ZeroPadding3D',\n",
       " '__builtins__',\n",
       " '__cached__',\n",
       " '__doc__',\n",
       " '__file__',\n",
       " '__loader__',\n",
       " '__name__',\n",
       " '__package__',\n",
       " '__path__',\n",
       " '__spec__',\n",
       " '_sys',\n",
       " 'add',\n",
       " 'average',\n",
       " 'concatenate',\n",
       " 'deserialize',\n",
       " 'dot',\n",
       " 'experimental',\n",
       " 'maximum',\n",
       " 'minimum',\n",
       " 'multiply',\n",
       " 'serialize',\n",
       " 'subtract']"
      ]
     },
     "execution_count": 50,
     "metadata": {},
     "output_type": "execute_result"
    }
   ],
   "source": [
    "dir(tf.keras.layers)"
   ]
  },
  {
   "cell_type": "markdown",
   "id": "bd1853a0-18e8-4a98-9dde-16e07668f1cb",
   "metadata": {
    "id": "bd1853a0-18e8-4a98-9dde-16e07668f1cb"
   },
   "source": [
    "`-` 엄청많아.. "
   ]
  },
  {
   "cell_type": "markdown",
   "id": "1fdc69b5-3c3c-4e59-b093-144e158e0d8b",
   "metadata": {
    "id": "1fdc69b5-3c3c-4e59-b093-144e158e0d8b"
   },
   "source": [
    "`-` 우리는 이중에서 2D conv, max pooling 에 관심이 있다! (이번수업은 max pooling 정도만)"
   ]
  },
  {
   "cell_type": "markdown",
   "id": "c8defffd-0010-49cc-9392-911c311f1b63",
   "metadata": {
    "id": "c8defffd-0010-49cc-9392-911c311f1b63"
   },
   "source": [
    "#### MaxPooling2D, MaxPool2D"
   ]
  },
  {
   "cell_type": "code",
   "execution_count": 51,
   "id": "169318ec-5798-4c0b-b935-9cc4e10cbf74",
   "metadata": {
    "colab": {
     "base_uri": "https://localhost:8080/"
    },
    "id": "169318ec-5798-4c0b-b935-9cc4e10cbf74",
    "outputId": "62738edb-e2e0-4ae2-8ea5-ee8a97e14cd2"
   },
   "outputs": [
    {
     "data": {
      "text/plain": [
       "(124933280, 124933280)"
      ]
     },
     "execution_count": 51,
     "metadata": {},
     "output_type": "execute_result"
    }
   ],
   "source": [
    "id(tf.keras.layers.MaxPooling2D), id(tf.keras.layers.MaxPool2D)"
   ]
  },
  {
   "cell_type": "markdown",
   "id": "a496d109-eedb-44aa-80ad-508b48e3baa5",
   "metadata": {
    "id": "a496d109-eedb-44aa-80ad-508b48e3baa5"
   },
   "source": [
    "`-` 테스트1: (2,2) 이미지"
   ]
  },
  {
   "cell_type": "code",
   "execution_count": 52,
   "id": "31d133e3-be73-4018-a164-e7f0d08de1bf",
   "metadata": {
    "id": "31d133e3-be73-4018-a164-e7f0d08de1bf"
   },
   "outputs": [],
   "source": [
    "mp = tf.keras.layers.MaxPool2D() # pool size의 디폴트는 (2,2)"
   ]
  },
  {
   "cell_type": "code",
   "execution_count": 53,
   "id": "a09234ac-188b-4e7a-a131-ccbe36c7543e",
   "metadata": {
    "colab": {
     "base_uri": "https://localhost:8080/"
    },
    "id": "a09234ac-188b-4e7a-a131-ccbe36c7543e",
    "outputId": "af53838a-4043-481b-acce-fda5653e1f51"
   },
   "outputs": [
    {
     "data": {
      "text/plain": [
       "<tf.Tensor: shape=(1, 2, 2, 1), dtype=int64, numpy=\n",
       "array([[[[0],\n",
       "         [1]],\n",
       "\n",
       "        [[2],\n",
       "         [3]]]])>"
      ]
     },
     "execution_count": 53,
     "metadata": {},
     "output_type": "execute_result"
    }
   ],
   "source": [
    "XXX = tnp.arange(1*2*2*1).reshape(1,2,2,1)\n",
    "XXX"
   ]
  },
  {
   "cell_type": "code",
   "execution_count": 54,
   "id": "4ce97738-d7e0-4d7a-b2d7-10f75ae163f4",
   "metadata": {
    "colab": {
     "base_uri": "https://localhost:8080/"
    },
    "id": "4ce97738-d7e0-4d7a-b2d7-10f75ae163f4",
    "outputId": "d9b7008d-9b0b-4d4e-cfce-503a16f12619"
   },
   "outputs": [
    {
     "data": {
      "text/plain": [
       "<tf.Tensor: shape=(1, 2, 2), dtype=int64, numpy=\n",
       "array([[[0, 1],\n",
       "        [2, 3]]])>"
      ]
     },
     "execution_count": 54,
     "metadata": {},
     "output_type": "execute_result"
    }
   ],
   "source": [
    "XXX.reshape(1,2,2) # 채널때문에 살짝 헷갈리지만 실제로는 이렇게 생긴 이미지! "
   ]
  },
  {
   "cell_type": "code",
   "execution_count": 55,
   "id": "995127f8-2f59-47aa-b396-29829bb9b2d5",
   "metadata": {
    "colab": {
     "base_uri": "https://localhost:8080/"
    },
    "id": "995127f8-2f59-47aa-b396-29829bb9b2d5",
    "outputId": "a9e7aeb7-402b-4a8d-c82c-50474148d3ee"
   },
   "outputs": [
    {
     "data": {
      "text/plain": [
       "<tf.Tensor: shape=(1, 1, 1, 1), dtype=int64, numpy=array([[[[3]]]])>"
      ]
     },
     "execution_count": 55,
     "metadata": {},
     "output_type": "execute_result"
    }
   ],
   "source": [
    "mp(XXX)"
   ]
  },
  {
   "cell_type": "markdown",
   "id": "718941d3-62d3-4dfa-8a59-df9f1dcfbbd5",
   "metadata": {
    "id": "718941d3-62d3-4dfa-8a59-df9f1dcfbbd5"
   },
   "source": [
    "`-` 테스트2: (4,4) 이미지로 변경"
   ]
  },
  {
   "cell_type": "code",
   "execution_count": 56,
   "id": "99048b7e-90b8-4a55-86f0-7199e175ca32",
   "metadata": {
    "id": "99048b7e-90b8-4a55-86f0-7199e175ca32"
   },
   "outputs": [],
   "source": [
    "mp = tf.keras.layers.MaxPool2D() # pool size의 디폴트는 (2,2)"
   ]
  },
  {
   "cell_type": "code",
   "execution_count": 57,
   "id": "166d2ea3-0cd1-42e7-bdc2-1c46760efa89",
   "metadata": {
    "colab": {
     "base_uri": "https://localhost:8080/"
    },
    "id": "166d2ea3-0cd1-42e7-bdc2-1c46760efa89",
    "outputId": "4e426fc7-f48d-4533-a179-a128b437b741"
   },
   "outputs": [
    {
     "data": {
      "text/plain": [
       "(<tf.Tensor: shape=(1, 4, 4, 1), dtype=int64, numpy=\n",
       " array([[[[ 0],\n",
       "          [ 1],\n",
       "          [ 2],\n",
       "          [ 3]],\n",
       " \n",
       "         [[ 4],\n",
       "          [ 5],\n",
       "          [ 6],\n",
       "          [ 7]],\n",
       " \n",
       "         [[ 8],\n",
       "          [ 9],\n",
       "          [10],\n",
       "          [11]],\n",
       " \n",
       "         [[12],\n",
       "          [13],\n",
       "          [14],\n",
       "          [15]]]])>, <tf.Tensor: shape=(1, 4, 4), dtype=int64, numpy=\n",
       " array([[[ 0,  1,  2,  3],\n",
       "         [ 4,  5,  6,  7],\n",
       "         [ 8,  9, 10, 11],\n",
       "         [12, 13, 14, 15]]])>)"
      ]
     },
     "execution_count": 57,
     "metadata": {},
     "output_type": "execute_result"
    }
   ],
   "source": [
    "XXX = tnp.arange(1*4*4*1).reshape(1,4,4,1)\n",
    "XXX,XXX.reshape(1,4,4)"
   ]
  },
  {
   "cell_type": "code",
   "execution_count": 58,
   "id": "2f5e95ac-c54d-44eb-a690-0da5b5b11efe",
   "metadata": {
    "colab": {
     "base_uri": "https://localhost:8080/"
    },
    "id": "2f5e95ac-c54d-44eb-a690-0da5b5b11efe",
    "outputId": "3782dd5f-5114-4000-b0dc-9b2e480cf53f"
   },
   "outputs": [
    {
     "data": {
      "text/plain": [
       "(<tf.Tensor: shape=(1, 2, 2, 1), dtype=int64, numpy=\n",
       " array([[[[ 5],\n",
       "          [ 7]],\n",
       " \n",
       "         [[13],\n",
       "          [15]]]])>, <tf.Tensor: shape=(1, 2, 2), dtype=int64, numpy=\n",
       " array([[[ 5,  7],\n",
       "         [13, 15]]])>)"
      ]
     },
     "execution_count": 58,
     "metadata": {},
     "output_type": "execute_result"
    }
   ],
   "source": [
    "mp(XXX),mp(XXX).reshape(1,2,2)"
   ]
  },
  {
   "cell_type": "markdown",
   "id": "aa63d848-43b3-4d12-b469-40000c0263b6",
   "metadata": {
    "id": "aa63d848-43b3-4d12-b469-40000c0263b6"
   },
   "source": [
    "`-` 테스트3: (6,6) 이미지"
   ]
  },
  {
   "cell_type": "code",
   "execution_count": 59,
   "id": "ce93ae8d-a4c9-401d-b15d-465040492196",
   "metadata": {
    "colab": {
     "base_uri": "https://localhost:8080/"
    },
    "id": "ce93ae8d-a4c9-401d-b15d-465040492196",
    "outputId": "89119b6a-b705-4b65-fcf4-07918e47bdaf"
   },
   "outputs": [
    {
     "data": {
      "text/plain": [
       "<tf.Tensor: shape=(1, 6, 6), dtype=int64, numpy=\n",
       "array([[[ 0,  1,  2,  3,  4,  5],\n",
       "        [ 6,  7,  8,  9, 10, 11],\n",
       "        [12, 13, 14, 15, 16, 17],\n",
       "        [18, 19, 20, 21, 22, 23],\n",
       "        [24, 25, 26, 27, 28, 29],\n",
       "        [30, 31, 32, 33, 34, 35]]])>"
      ]
     },
     "execution_count": 59,
     "metadata": {},
     "output_type": "execute_result"
    }
   ],
   "source": [
    "XXX = tnp.arange(1*6*6*1).reshape(1,6,6,1)\n",
    "XXX.reshape(1,6,6)"
   ]
  },
  {
   "cell_type": "markdown",
   "id": "b938f37f-1c0a-494a-a492-a5ff263f48eb",
   "metadata": {
    "id": "b938f37f-1c0a-494a-a492-a5ff263f48eb"
   },
   "source": [
    "`-` 테스트4: (6,6) 이미지 + pool_size=(3, 3) "
   ]
  },
  {
   "cell_type": "code",
   "execution_count": 60,
   "id": "bcdc5bdd-5a6b-4e54-bd72-3da71579bb02",
   "metadata": {
    "colab": {
     "base_uri": "https://localhost:8080/"
    },
    "id": "bcdc5bdd-5a6b-4e54-bd72-3da71579bb02",
    "outputId": "eaf1a42d-f713-4e3f-87f0-28e0c50b5e35"
   },
   "outputs": [
    {
     "data": {
      "text/plain": [
       "(<tf.Tensor: shape=(1, 3, 3, 1), dtype=int64, numpy=\n",
       " array([[[[ 7],\n",
       "          [ 9],\n",
       "          [11]],\n",
       " \n",
       "         [[19],\n",
       "          [21],\n",
       "          [23]],\n",
       " \n",
       "         [[31],\n",
       "          [33],\n",
       "          [35]]]])>, <tf.Tensor: shape=(1, 3, 3), dtype=int64, numpy=\n",
       " array([[[ 7,  9, 11],\n",
       "         [19, 21, 23],\n",
       "         [31, 33, 35]]])>)"
      ]
     },
     "execution_count": 60,
     "metadata": {},
     "output_type": "execute_result"
    }
   ],
   "source": [
    "mp(XXX),mp(XXX).reshape(1,3,3) # 왜 (2,2)씩...? "
   ]
  },
  {
   "cell_type": "code",
   "execution_count": 61,
   "id": "bcfb21c6-c6cd-4989-b170-32c08f2cf7a7",
   "metadata": {
    "colab": {
     "base_uri": "https://localhost:8080/"
    },
    "id": "bcfb21c6-c6cd-4989-b170-32c08f2cf7a7",
    "outputId": "abbfb8df-626b-4f66-99db-b89ddc62a78a"
   },
   "outputs": [
    {
     "data": {
      "text/plain": [
       "(<tf.Tensor: shape=(1, 2, 2, 1), dtype=int64, numpy=\n",
       " array([[[[14],\n",
       "          [17]],\n",
       " \n",
       "         [[32],\n",
       "          [35]]]])>, <tf.Tensor: shape=(1, 2, 2), dtype=int64, numpy=\n",
       " array([[[14, 17],\n",
       "         [32, 35]]])>)"
      ]
     },
     "execution_count": 61,
     "metadata": {},
     "output_type": "execute_result"
    }
   ],
   "source": [
    "mp3 = tf.keras.layers.MaxPool2D(pool_size=(3,3))\n",
    "mp3(XXX),mp3(XXX).reshape(1,2,2)"
   ]
  },
  {
   "cell_type": "code",
   "execution_count": null,
   "id": "WL2syIpIzej1",
   "metadata": {
    "id": "WL2syIpIzej1"
   },
   "outputs": [],
   "source": []
  }
 ],
 "metadata": {
  "colab": {
   "name": "2022-05-09-(10주차) 5월9일-- dr.ipynb",
   "provenance": []
  },
  "kernelspec": {
   "display_name": "Python 3 (ipykernel)",
   "language": "python",
   "name": "python3"
  },
  "language_info": {
   "codemirror_mode": {
    "name": "ipython",
    "version": 3
   },
   "file_extension": ".py",
   "mimetype": "text/x-python",
   "name": "python",
   "nbconvert_exporter": "python",
   "pygments_lexer": "ipython3",
   "version": "3.8.12"
  }
 },
 "nbformat": 4,
 "nbformat_minor": 5
}
