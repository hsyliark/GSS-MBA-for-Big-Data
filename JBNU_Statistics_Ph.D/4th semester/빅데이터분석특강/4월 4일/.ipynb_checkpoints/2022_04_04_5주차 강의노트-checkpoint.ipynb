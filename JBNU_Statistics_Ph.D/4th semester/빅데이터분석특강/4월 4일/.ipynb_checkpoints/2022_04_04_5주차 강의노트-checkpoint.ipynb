{
 "cells": [
  {
   "cell_type": "markdown",
   "id": "e8809dfd-9f28-4be3-ba52-822d297d777a",
   "metadata": {
    "id": "e8809dfd-9f28-4be3-ba52-822d297d777a"
   },
   "source": [
    "# (5주차) 4월4일 -- draft\n",
    "\n",
    "- toc:true\n",
    "- branch: master\n",
    "- badges: true\n",
    "- comments: true\n",
    "- author: 최규빈"
   ]
  },
  {
   "cell_type": "markdown",
   "id": "ea093d98-e476-4de2-9ff5-7b98f7d621e2",
   "metadata": {
    "id": "ea093d98-e476-4de2-9ff5-7b98f7d621e2",
    "tags": []
   },
   "source": [
    "### imports "
   ]
  },
  {
   "cell_type": "code",
   "execution_count": 1,
   "id": "58c42ff0-998c-4745-9791-d2344d2bd583",
   "metadata": {
    "id": "58c42ff0-998c-4745-9791-d2344d2bd583"
   },
   "outputs": [
    {
     "name": "stdout",
     "output_type": "stream",
     "text": [
      "Collecting package metadata (current_repodata.json): ...working... done\n",
      "Solving environment: ...working... done\n",
      "\n",
      "## Package Plan ##\n",
      "\n",
      "  environment location: C:\\ProgramData\\Anaconda3\\envs\\ba2022\n",
      "\n",
      "  added / updated specs:\n",
      "    - python-graphviz\n",
      "\n",
      "\n",
      "The following packages will be downloaded:\n",
      "\n",
      "    package                    |            build\n",
      "    ---------------------------|-----------------\n",
      "    certifi-2021.10.8          |   py38haa244fe_2         146 KB  conda-forge\n",
      "    graphviz-2.38              |       hfd603c8_2        29.3 MB\n",
      "    openssl-1.1.1n             |       h8ffe710_0         5.7 MB  conda-forge\n",
      "    python-graphviz-0.16       |     pyhd3eb1b0_1          20 KB\n",
      "    ------------------------------------------------------------\n",
      "                                           Total:        35.2 MB\n",
      "\n",
      "The following NEW packages will be INSTALLED:\n",
      "\n",
      "  graphviz           pkgs/main/win-64::graphviz-2.38-hfd603c8_2\n",
      "  python-graphviz    pkgs/main/noarch::python-graphviz-0.16-pyhd3eb1b0_1\n",
      "\n",
      "The following packages will be UPDATED:\n",
      "\n",
      "  certifi                          2021.10.8-py38haa244fe_1 --> 2021.10.8-py38haa244fe_2\n",
      "  openssl                                 1.1.1l-h8ffe710_0 --> 1.1.1n-h8ffe710_0\n",
      "\n",
      "\n",
      "\n",
      "Downloading and Extracting Packages\n",
      "\n",
      "certifi-2021.10.8    | 146 KB    |            |   0% \n",
      "certifi-2021.10.8    | 146 KB    | #          |  11% \n",
      "certifi-2021.10.8    | 146 KB    | ########## | 100% \n",
      "certifi-2021.10.8    | 146 KB    | ########## | 100% \n",
      "\n",
      "python-graphviz-0.16 | 20 KB     |            |   0% \n",
      "python-graphviz-0.16 | 20 KB     | #######8   |  78% \n",
      "python-graphviz-0.16 | 20 KB     | ########## | 100% \n",
      "\n",
      "graphviz-2.38        | 29.3 MB   |            |   0% \n",
      "graphviz-2.38        | 29.3 MB   | 1          |   2% \n",
      "graphviz-2.38        | 29.3 MB   | 4          |   4% \n",
      "graphviz-2.38        | 29.3 MB   | 7          |   8% \n",
      "graphviz-2.38        | 29.3 MB   | #          |  11% \n",
      "graphviz-2.38        | 29.3 MB   | #4         |  14% \n",
      "graphviz-2.38        | 29.3 MB   | #7         |  17% \n",
      "graphviz-2.38        | 29.3 MB   | ##         |  21% \n",
      "graphviz-2.38        | 29.3 MB   | ##3        |  24% \n",
      "graphviz-2.38        | 29.3 MB   | ##6        |  27% \n",
      "graphviz-2.38        | 29.3 MB   | ##9        |  30% \n",
      "graphviz-2.38        | 29.3 MB   | ###2       |  33% \n",
      "graphviz-2.38        | 29.3 MB   | ###6       |  36% \n",
      "graphviz-2.38        | 29.3 MB   | ###9       |  39% \n",
      "graphviz-2.38        | 29.3 MB   | ####2      |  43% \n",
      "graphviz-2.38        | 29.3 MB   | ####5      |  46% \n",
      "graphviz-2.38        | 29.3 MB   | ####8      |  49% \n",
      "graphviz-2.38        | 29.3 MB   | #####2     |  52% \n",
      "graphviz-2.38        | 29.3 MB   | #####5     |  55% \n",
      "graphviz-2.38        | 29.3 MB   | #####8     |  59% \n",
      "graphviz-2.38        | 29.3 MB   | ######1    |  62% \n",
      "graphviz-2.38        | 29.3 MB   | ######4    |  65% \n",
      "graphviz-2.38        | 29.3 MB   | ######8    |  68% \n",
      "graphviz-2.38        | 29.3 MB   | #######1   |  71% \n",
      "graphviz-2.38        | 29.3 MB   | #######4   |  75% \n",
      "graphviz-2.38        | 29.3 MB   | #######7   |  78% \n",
      "graphviz-2.38        | 29.3 MB   | ########1  |  81% \n",
      "graphviz-2.38        | 29.3 MB   | ########4  |  84% \n",
      "graphviz-2.38        | 29.3 MB   | ########7  |  88% \n",
      "graphviz-2.38        | 29.3 MB   | #########  |  91% \n",
      "graphviz-2.38        | 29.3 MB   | #########3 |  94% \n",
      "graphviz-2.38        | 29.3 MB   | #########7 |  97% \n",
      "graphviz-2.38        | 29.3 MB   | ########## | 100% \n",
      "graphviz-2.38        | 29.3 MB   | ########## | 100% \n",
      "\n",
      "openssl-1.1.1n       | 5.7 MB    |            |   0% \n",
      "openssl-1.1.1n       | 5.7 MB    | 3          |   4% \n",
      "openssl-1.1.1n       | 5.7 MB    | #3         |  14% \n",
      "openssl-1.1.1n       | 5.7 MB    | ##3        |  24% \n",
      "openssl-1.1.1n       | 5.7 MB    | ###3       |  33% \n",
      "openssl-1.1.1n       | 5.7 MB    | ####5      |  45% \n",
      "openssl-1.1.1n       | 5.7 MB    | ######2    |  62% \n",
      "openssl-1.1.1n       | 5.7 MB    | #######9   |  79% \n",
      "openssl-1.1.1n       | 5.7 MB    | #########4 |  94% \n",
      "openssl-1.1.1n       | 5.7 MB    | ########## | 100% \n",
      "Preparing transaction: ...working... done\n",
      "Verifying transaction: ...working... done\n",
      "Executing transaction: ...working... done\n"
     ]
    },
    {
     "name": "stderr",
     "output_type": "stream",
     "text": [
      "\n",
      "\n",
      "==> WARNING: A newer version of conda exists. <==\n",
      "  current version: 4.11.0\n",
      "  latest version: 4.12.0\n",
      "\n",
      "Please update conda by running\n",
      "\n",
      "    $ conda update -n base -c defaults conda\n",
      "\n",
      "\n"
     ]
    }
   ],
   "source": [
    "!conda install -c conda-forge python-graphviz -y"
   ]
  },
  {
   "cell_type": "code",
   "execution_count": 6,
   "id": "4ec7ad60-84d4-4b61-88d0-5f83872be0be",
   "metadata": {
    "id": "4ec7ad60-84d4-4b61-88d0-5f83872be0be"
   },
   "outputs": [],
   "source": [
    "import tensorflow as tf \n",
    "import numpy as np\n",
    "import matplotlib.pyplot as plt "
   ]
  },
  {
   "cell_type": "code",
   "execution_count": 7,
   "id": "9691fb34-384f-4317-9437-998e8219cf8a",
   "metadata": {
    "id": "9691fb34-384f-4317-9437-998e8219cf8a"
   },
   "outputs": [],
   "source": [
    "import tensorflow.experimental.numpy as tnp "
   ]
  },
  {
   "cell_type": "code",
   "execution_count": 8,
   "id": "2b368af7-2aac-4028-97e2-a83e7196c7dd",
   "metadata": {
    "id": "2b368af7-2aac-4028-97e2-a83e7196c7dd"
   },
   "outputs": [],
   "source": [
    "tnp.experimental_enable_numpy_behavior() "
   ]
  },
  {
   "cell_type": "markdown",
   "id": "3f4677a4-dba0-4274-96b5-a51a892026c9",
   "metadata": {
    "id": "3f4677a4-dba0-4274-96b5-a51a892026c9",
    "tags": []
   },
   "source": [
    "### 최적화의 문제 "
   ]
  },
  {
   "cell_type": "markdown",
   "id": "bc860b47-d266-4cbc-b7da-8a00d565f1d9",
   "metadata": {
    "id": "bc860b47-d266-4cbc-b7da-8a00d565f1d9"
   },
   "source": [
    "`-` $loss=(\\frac{1}{2}\\beta-1)^2$ "
   ]
  },
  {
   "cell_type": "markdown",
   "id": "320ac0cd-9a4d-4e31-a206-2d93581cacbb",
   "metadata": {
    "id": "320ac0cd-9a4d-4e31-a206-2d93581cacbb"
   },
   "source": [
    "`-` 기존에 했던 방법은 수식을 알고 있어야 한다는 단점이 있음 "
   ]
  },
  {
   "cell_type": "markdown",
   "id": "0acf255d-c030-4c91-b9e1-1cf62a09fb65",
   "metadata": {
    "id": "0acf255d-c030-4c91-b9e1-1cf62a09fb65"
   },
   "source": [
    "### tf.keras.optimizers를 이용한 최적화방법 "
   ]
  },
  {
   "cell_type": "markdown",
   "id": "1434f90f-3e99-4a2c-b526-768543c0348d",
   "metadata": {
    "id": "1434f90f-3e99-4a2c-b526-768543c0348d"
   },
   "source": [
    "#### 방법1: opt.apply_gradients()를 이용 "
   ]
  },
  {
   "cell_type": "code",
   "execution_count": 9,
   "id": "4b90eb16-a685-4422-bb52-06a6a887321c",
   "metadata": {
    "id": "4b90eb16-a685-4422-bb52-06a6a887321c"
   },
   "outputs": [],
   "source": [
    "alpha = 0.01/6"
   ]
  },
  {
   "cell_type": "code",
   "execution_count": 10,
   "id": "fb244ebf-e532-41fc-8cfa-df0aa705ef0d",
   "metadata": {
    "id": "fb244ebf-e532-41fc-8cfa-df0aa705ef0d"
   },
   "outputs": [],
   "source": [
    "opt = tf.keras.optimizers.SGD(learning_rate=alpha)"
   ]
  },
  {
   "cell_type": "code",
   "execution_count": 11,
   "id": "9061be6d-94d3-49f5-81d8-66e118d0795d",
   "metadata": {
    "colab": {
     "base_uri": "https://localhost:8080/"
    },
    "id": "9061be6d-94d3-49f5-81d8-66e118d0795d",
    "outputId": "d282e7a3-f041-47ae-f01d-41d01bf5e682"
   },
   "outputs": [
    {
     "data": {
      "text/plain": [
       "<tf.Variable 'learning_rate:0' shape=() dtype=float32, numpy=0.0016666667>"
      ]
     },
     "execution_count": 11,
     "metadata": {},
     "output_type": "execute_result"
    }
   ],
   "source": [
    "opt.lr"
   ]
  },
  {
   "cell_type": "markdown",
   "id": "269f108d-bb61-4d78-a089-5da78775fe2c",
   "metadata": {
    "id": "269f108d-bb61-4d78-a089-5da78775fe2c"
   },
   "source": [
    "`-` opt에 전달할 입력값을 정리해보자 "
   ]
  },
  {
   "cell_type": "code",
   "execution_count": 12,
   "id": "683a659e-73dd-4e85-a197-1c8384784b14",
   "metadata": {
    "colab": {
     "base_uri": "https://localhost:8080/"
    },
    "id": "683a659e-73dd-4e85-a197-1c8384784b14",
    "outputId": "61aa4913-c586-4ddc-dde0-61000586bc6c"
   },
   "outputs": [
    {
     "data": {
      "text/plain": [
       "<tf.Variable 'Variable:0' shape=() dtype=float32, numpy=-10.0>"
      ]
     },
     "execution_count": 12,
     "metadata": {},
     "output_type": "execute_result"
    }
   ],
   "source": [
    "beta = tf.Variable(-10.0) \n",
    "beta"
   ]
  },
  {
   "cell_type": "code",
   "execution_count": 13,
   "id": "a8da6d91-f373-44a7-923f-8b2356e5c846",
   "metadata": {
    "colab": {
     "base_uri": "https://localhost:8080/"
    },
    "id": "a8da6d91-f373-44a7-923f-8b2356e5c846",
    "outputId": "cd633dc2-372d-4fbb-b5d0-b5aaaa683c8a"
   },
   "outputs": [
    {
     "data": {
      "text/plain": [
       "<tf.Tensor: shape=(), dtype=float32, numpy=-6.0>"
      ]
     },
     "execution_count": 13,
     "metadata": {},
     "output_type": "execute_result"
    }
   ],
   "source": [
    "with tf.GradientTape(persistent=True) as tape:\n",
    "    loss = (beta/2-1)**2 \n",
    "tape.gradient(loss,beta)"
   ]
  },
  {
   "cell_type": "code",
   "execution_count": 14,
   "id": "36569468-0e6c-4bc3-804a-1761b87d8845",
   "metadata": {
    "id": "36569468-0e6c-4bc3-804a-1761b87d8845"
   },
   "outputs": [],
   "source": [
    "slope = tape.gradient(loss,beta)"
   ]
  },
  {
   "cell_type": "markdown",
   "id": "9bc02541-74a2-4a72-971f-f22eadce16ee",
   "metadata": {
    "id": "9bc02541-74a2-4a72-971f-f22eadce16ee"
   },
   "source": [
    "`-` iter1: opt.apply_gradients() 에 값을 전달하여 beta를 1회 업데이트\n",
    "- 주의점: `opt.apply_gradients()`의 입력으로 pair의 list를 전달해야함. "
   ]
  },
  {
   "cell_type": "code",
   "execution_count": 15,
   "id": "9be910d8-c0a2-43f9-9487-9ab98b20cad4",
   "metadata": {
    "colab": {
     "base_uri": "https://localhost:8080/"
    },
    "id": "9be910d8-c0a2-43f9-9487-9ab98b20cad4",
    "outputId": "af93e20e-8536-4e89-84fc-946dafd36d0f"
   },
   "outputs": [
    {
     "data": {
      "text/plain": [
       "<tf.Variable 'UnreadVariable' shape=() dtype=int64, numpy=1>"
      ]
     },
     "execution_count": 15,
     "metadata": {},
     "output_type": "execute_result"
    }
   ],
   "source": [
    "opt.apply_gradients([(slope,beta)])"
   ]
  },
  {
   "cell_type": "code",
   "execution_count": 16,
   "id": "b91fbd3f-7ae6-4bad-b6ea-3ed90ab86d59",
   "metadata": {
    "colab": {
     "base_uri": "https://localhost:8080/"
    },
    "id": "b91fbd3f-7ae6-4bad-b6ea-3ed90ab86d59",
    "outputId": "07b57f60-7fc4-45e2-b53e-7917ca4f74e1"
   },
   "outputs": [
    {
     "data": {
      "text/plain": [
       "<tf.Variable 'Variable:0' shape=() dtype=float32, numpy=-9.99>"
      ]
     },
     "execution_count": 16,
     "metadata": {},
     "output_type": "execute_result"
    }
   ],
   "source": [
    "beta"
   ]
  },
  {
   "cell_type": "markdown",
   "id": "485f4b15-c9ee-4651-9b0a-abbf1d60a57f",
   "metadata": {
    "id": "485f4b15-c9ee-4651-9b0a-abbf1d60a57f"
   },
   "source": [
    "`-` iter2 "
   ]
  },
  {
   "cell_type": "code",
   "execution_count": 17,
   "id": "f2c5114b-c1f9-441b-8ac5-3f3e4a5c287b",
   "metadata": {
    "id": "f2c5114b-c1f9-441b-8ac5-3f3e4a5c287b"
   },
   "outputs": [],
   "source": [
    "with tf.GradientTape(persistent=True) as tape:\n",
    "    loss = (beta/2-1)**2 \n",
    "slope = tape.gradient(loss,beta)"
   ]
  },
  {
   "cell_type": "code",
   "execution_count": 18,
   "id": "aebc1684-603a-44e0-aa8d-1442449dd63b",
   "metadata": {
    "colab": {
     "base_uri": "https://localhost:8080/"
    },
    "id": "aebc1684-603a-44e0-aa8d-1442449dd63b",
    "outputId": "43bbc84f-52d5-492a-c354-bcf4f047fee4"
   },
   "outputs": [
    {
     "data": {
      "text/plain": [
       "<tf.Variable 'Variable:0' shape=() dtype=float32, numpy=-9.980008>"
      ]
     },
     "execution_count": 18,
     "metadata": {},
     "output_type": "execute_result"
    }
   ],
   "source": [
    "opt.apply_gradients([(slope,beta)])\n",
    "beta"
   ]
  },
  {
   "cell_type": "markdown",
   "id": "c56da161-29d9-4f49-b222-590f2a20a612",
   "metadata": {
    "id": "c56da161-29d9-4f49-b222-590f2a20a612"
   },
   "source": [
    "`-` for문을 이용한 반복 (정리)"
   ]
  },
  {
   "cell_type": "code",
   "execution_count": 19,
   "id": "fd06ef4b-043d-4e2c-a5fb-8ebe1d7daa22",
   "metadata": {
    "id": "fd06ef4b-043d-4e2c-a5fb-8ebe1d7daa22"
   },
   "outputs": [],
   "source": [
    "alpha = 0.01/6\n",
    "opt = tf.keras.optimizers.SGD(alpha)\n",
    "beta = tf.Variable(-10.0) \n",
    "for epoc in range(10000):\n",
    "    with tf.GradientTape(persistent=True) as tape:\n",
    "        loss = (beta/2-1)**2 \n",
    "    slope = tape.gradient(loss,beta)\n",
    "    opt.apply_gradients([(slope,beta)])"
   ]
  },
  {
   "cell_type": "code",
   "execution_count": 20,
   "id": "553fbc43-468b-452f-a9b1-ae20f1e8a3c5",
   "metadata": {
    "colab": {
     "base_uri": "https://localhost:8080/"
    },
    "id": "553fbc43-468b-452f-a9b1-ae20f1e8a3c5",
    "outputId": "b55e4001-642f-40b3-cf43-8a48fd67aa95"
   },
   "outputs": [
    {
     "data": {
      "text/plain": [
       "<tf.Variable 'Variable:0' shape=() dtype=float32, numpy=1.9971251>"
      ]
     },
     "execution_count": 20,
     "metadata": {},
     "output_type": "execute_result"
    }
   ],
   "source": [
    "beta"
   ]
  },
  {
   "cell_type": "markdown",
   "id": "779dcb12-af26-47b3-a168-e3c87714106b",
   "metadata": {
    "id": "779dcb12-af26-47b3-a168-e3c87714106b"
   },
   "source": [
    "#### 방법2: opt.minimize()"
   ]
  },
  {
   "cell_type": "code",
   "execution_count": 21,
   "id": "b237f640-4433-4384-a56c-21ed6b3afe52",
   "metadata": {
    "id": "b237f640-4433-4384-a56c-21ed6b3afe52"
   },
   "outputs": [],
   "source": [
    "alpha = 0.01/6\n",
    "opt = tf.keras.optimizers.SGD(alpha)\n",
    "beta = tf.Variable(-10.0) "
   ]
  },
  {
   "cell_type": "code",
   "execution_count": 22,
   "id": "70d727ca-f09b-4536-8170-2a5aa0e054d7",
   "metadata": {
    "id": "70d727ca-f09b-4536-8170-2a5aa0e054d7"
   },
   "outputs": [],
   "source": [
    "loss_fn = lambda: (beta/2-1)**2 "
   ]
  },
  {
   "cell_type": "markdown",
   "id": "403f6c41-b53b-4f61-9c1d-53c83f1e3d0d",
   "metadata": {
    "id": "403f6c41-b53b-4f61-9c1d-53c83f1e3d0d"
   },
   "source": [
    "`-` iter1"
   ]
  },
  {
   "cell_type": "code",
   "execution_count": 23,
   "id": "7a63adfa-cbfa-4c1b-b223-1cf5b419be9e",
   "metadata": {
    "colab": {
     "base_uri": "https://localhost:8080/"
    },
    "id": "7a63adfa-cbfa-4c1b-b223-1cf5b419be9e",
    "outputId": "c6949c6b-d1f5-44a3-8a8e-b3e4b3acd1b2"
   },
   "outputs": [
    {
     "data": {
      "text/plain": [
       "<tf.Variable 'UnreadVariable' shape=() dtype=int64, numpy=1>"
      ]
     },
     "execution_count": 23,
     "metadata": {},
     "output_type": "execute_result"
    }
   ],
   "source": [
    "opt.minimize(loss_fn,beta)"
   ]
  },
  {
   "cell_type": "code",
   "execution_count": 24,
   "id": "d037e3fa-c4e8-4347-b9a6-b2330b6425ca",
   "metadata": {
    "colab": {
     "base_uri": "https://localhost:8080/"
    },
    "id": "d037e3fa-c4e8-4347-b9a6-b2330b6425ca",
    "outputId": "79359b11-fd75-43d5-9ebe-be0576be31e9"
   },
   "outputs": [
    {
     "data": {
      "text/plain": [
       "<tf.Variable 'Variable:0' shape=() dtype=float32, numpy=-9.99>"
      ]
     },
     "execution_count": 24,
     "metadata": {},
     "output_type": "execute_result"
    }
   ],
   "source": [
    "beta"
   ]
  },
  {
   "cell_type": "markdown",
   "id": "1bca7105-a17f-4ef0-9006-0155e8941cbf",
   "metadata": {
    "id": "1bca7105-a17f-4ef0-9006-0155e8941cbf"
   },
   "source": [
    "`-` iter2"
   ]
  },
  {
   "cell_type": "code",
   "execution_count": 25,
   "id": "13cfe40a-16d9-49da-8f5a-a94e9dcf7821",
   "metadata": {
    "colab": {
     "base_uri": "https://localhost:8080/"
    },
    "id": "13cfe40a-16d9-49da-8f5a-a94e9dcf7821",
    "outputId": "38777bd9-2fe7-4a76-db7d-421f0ebc5404"
   },
   "outputs": [
    {
     "data": {
      "text/plain": [
       "<tf.Variable 'Variable:0' shape=() dtype=float32, numpy=-9.980008>"
      ]
     },
     "execution_count": 25,
     "metadata": {},
     "output_type": "execute_result"
    }
   ],
   "source": [
    "opt.minimize(loss_fn,beta)\n",
    "beta"
   ]
  },
  {
   "cell_type": "markdown",
   "id": "089f58dd-f343-4788-bf72-3173a2ae36fc",
   "metadata": {
    "id": "089f58dd-f343-4788-bf72-3173a2ae36fc"
   },
   "source": [
    "`-` for문을 구하는 코드로 정리 "
   ]
  },
  {
   "cell_type": "code",
   "execution_count": 26,
   "id": "ab7e7398-85f1-432b-ba63-6649a1015de4",
   "metadata": {
    "id": "ab7e7398-85f1-432b-ba63-6649a1015de4"
   },
   "outputs": [],
   "source": [
    "alpha = 0.01/6\n",
    "opt = tf.keras.optimizers.SGD(alpha)\n",
    "beta = tf.Variable(-10.0) \n",
    "loss_fn = lambda: (beta/2-1)**2 \n",
    "for epoc in range(10000):\n",
    "    opt.minimize(loss_fn,beta)"
   ]
  },
  {
   "cell_type": "code",
   "execution_count": 27,
   "id": "235d4f65-b139-4535-aa9d-e24a07ddd19d",
   "metadata": {
    "colab": {
     "base_uri": "https://localhost:8080/"
    },
    "id": "235d4f65-b139-4535-aa9d-e24a07ddd19d",
    "outputId": "8f42eb77-b8c0-43e5-9f4c-e35d1ee07fff"
   },
   "outputs": [
    {
     "data": {
      "text/plain": [
       "<tf.Variable 'Variable:0' shape=() dtype=float32, numpy=1.9971251>"
      ]
     },
     "execution_count": 27,
     "metadata": {},
     "output_type": "execute_result"
    }
   ],
   "source": [
    "beta"
   ]
  },
  {
   "cell_type": "markdown",
   "id": "cd9c83a9-9a30-4d06-8704-4a4c42acb4f3",
   "metadata": {
    "id": "cd9c83a9-9a30-4d06-8704-4a4c42acb4f3"
   },
   "source": [
    "`-` `tf.keras.optimizers.SGD`와 `tf.optimizers.SGD`의 차이? 없음 "
   ]
  },
  {
   "cell_type": "markdown",
   "id": "2b018059-6854-4e74-affa-3c6939fdff0f",
   "metadata": {
    "id": "2b018059-6854-4e74-affa-3c6939fdff0f"
   },
   "source": [
    "(증거1) "
   ]
  },
  {
   "cell_type": "code",
   "execution_count": 28,
   "id": "232e6298-6bee-4f45-ab6a-e85afc94bc6b",
   "metadata": {
    "id": "232e6298-6bee-4f45-ab6a-e85afc94bc6b"
   },
   "outputs": [],
   "source": [
    "_opt1 = tf.keras.optimizers.SGD()"
   ]
  },
  {
   "cell_type": "code",
   "execution_count": 29,
   "id": "767c7edc-13f9-4c8b-8817-2f75ba82ce71",
   "metadata": {
    "id": "767c7edc-13f9-4c8b-8817-2f75ba82ce71"
   },
   "outputs": [],
   "source": [
    "_opt2 = tf.optimizers.SGD()"
   ]
  },
  {
   "cell_type": "code",
   "execution_count": 30,
   "id": "3b5c07e0-5c28-43e1-92cc-29fc638ebd96",
   "metadata": {
    "colab": {
     "base_uri": "https://localhost:8080/"
    },
    "id": "3b5c07e0-5c28-43e1-92cc-29fc638ebd96",
    "outputId": "19385845-7617-4fbe-cd8f-e60e36314aac"
   },
   "outputs": [
    {
     "data": {
      "text/plain": [
       "(keras.optimizer_v2.gradient_descent.SGD,\n",
       " keras.optimizer_v2.gradient_descent.SGD)"
      ]
     },
     "execution_count": 30,
     "metadata": {},
     "output_type": "execute_result"
    }
   ],
   "source": [
    "type(_opt1),type(_opt2)"
   ]
  },
  {
   "cell_type": "markdown",
   "id": "12491ba0-169b-4ec6-aaf2-7ba108aeb70a",
   "metadata": {
    "id": "12491ba0-169b-4ec6-aaf2-7ba108aeb70a"
   },
   "source": [
    "똑같다..? "
   ]
  },
  {
   "cell_type": "markdown",
   "id": "9fd87c2d-27d1-46f8-a12f-a20957025bba",
   "metadata": {
    "id": "9fd87c2d-27d1-46f8-a12f-a20957025bba"
   },
   "source": [
    "(증거2)"
   ]
  },
  {
   "cell_type": "code",
   "execution_count": 31,
   "id": "f2856801-e573-4bfd-a335-8612b9049b05",
   "metadata": {
    "id": "f2856801-e573-4bfd-a335-8612b9049b05"
   },
   "outputs": [],
   "source": [
    "alpha = 0.01/6\n",
    "opt = tf.optimizers.SGD(alpha)\n",
    "beta = tf.Variable(-10.0) \n",
    "loss_fn = lambda: (beta/2-1)**2 \n",
    "for epoc in range(10000):\n",
    "    opt.minimize(loss_fn,beta)"
   ]
  },
  {
   "cell_type": "code",
   "execution_count": 32,
   "id": "359b3e98-fd99-41dd-9576-9761b015735b",
   "metadata": {
    "colab": {
     "base_uri": "https://localhost:8080/"
    },
    "id": "359b3e98-fd99-41dd-9576-9761b015735b",
    "outputId": "f4dec68c-26ba-4d64-ce92-ef88cf61163a"
   },
   "outputs": [
    {
     "data": {
      "text/plain": [
       "<tf.Variable 'Variable:0' shape=() dtype=float32, numpy=1.9971251>"
      ]
     },
     "execution_count": 32,
     "metadata": {},
     "output_type": "execute_result"
    }
   ],
   "source": [
    "beta"
   ]
  },
  {
   "cell_type": "markdown",
   "id": "dbd78947-4cd6-4af3-9042-ab0fd209917a",
   "metadata": {
    "id": "dbd78947-4cd6-4af3-9042-ab0fd209917a"
   },
   "source": [
    "(증거3) 모듈위치가 같다. "
   ]
  },
  {
   "cell_type": "code",
   "execution_count": 33,
   "id": "89d6cbe4-e486-4329-861c-af7c27aeb35d",
   "metadata": {
    "id": "89d6cbe4-e486-4329-861c-af7c27aeb35d",
    "outputId": "5277efe0-f3bd-46e1-d949-94b01ff4a4f7"
   },
   "outputs": [],
   "source": [
    "tf.optimizers?"
   ]
  },
  {
   "cell_type": "code",
   "execution_count": 34,
   "id": "c6010398-a2d9-440e-9970-6a3825e0ef20",
   "metadata": {
    "id": "c6010398-a2d9-440e-9970-6a3825e0ef20",
    "outputId": "7680b6e5-b142-4e7b-e82e-a16cad909fa6"
   },
   "outputs": [],
   "source": [
    "tf.keras.optimizers?"
   ]
  },
  {
   "cell_type": "markdown",
   "id": "c72c9a7d-e1d7-472b-84c4-e2135b74e7e9",
   "metadata": {
    "id": "c72c9a7d-e1d7-472b-84c4-e2135b74e7e9",
    "tags": []
   },
   "source": [
    "### 회귀분석 문제"
   ]
  },
  {
   "cell_type": "markdown",
   "id": "c4bd3fe9-092a-4c8a-a4d0-b9abcfb4de6d",
   "metadata": {
    "id": "c4bd3fe9-092a-4c8a-a4d0-b9abcfb4de6d"
   },
   "source": [
    "`-` ${\\bf y} \\approx 2.5 + 4.0 {\\bf x}$"
   ]
  },
  {
   "cell_type": "code",
   "execution_count": 35,
   "id": "2c80d44c-7e99-4bb4-92ff-382b29999470",
   "metadata": {
    "id": "2c80d44c-7e99-4bb4-92ff-382b29999470"
   },
   "outputs": [],
   "source": [
    "tnp.random.seed(43052)\n",
    "N = 200\n",
    "x = tnp.linspace(0,1,N) \n",
    "epsilon = tnp.random.randn(N)*0.5\n",
    "y = 2.5 + 4*x + epsilon\n",
    "y_true = 2.5 + 4.0*x"
   ]
  },
  {
   "cell_type": "code",
   "execution_count": 36,
   "id": "af3a1e90-9370-4705-9be7-f321f7c2f856",
   "metadata": {
    "colab": {
     "base_uri": "https://localhost:8080/",
     "height": 283
    },
    "id": "af3a1e90-9370-4705-9be7-f321f7c2f856",
    "outputId": "c1f557ca-0b2d-4c7e-a93a-a606bac69cea"
   },
   "outputs": [
    {
     "data": {
      "text/plain": [
       "[<matplotlib.lines.Line2D at 0x1c3d9bf2e50>]"
      ]
     },
     "execution_count": 36,
     "metadata": {},
     "output_type": "execute_result"
    },
    {
     "data": {
      "image/png": "[encoded data removed]",
      "text/plain": [
       "<Figure size 432x288 with 1 Axes>"
      ]
     },
     "metadata": {
      "needs_background": "light"
     },
     "output_type": "display_data"
    }
   ],
   "source": [
    "plt.plot(x,y,'.')\n",
    "plt.plot(x,y_true,'r--')"
   ]
  },
  {
   "cell_type": "markdown",
   "id": "8031b7f3-8460-4804-8806-3615e0ce7ce4",
   "metadata": {
    "id": "8031b7f3-8460-4804-8806-3615e0ce7ce4"
   },
   "source": [
    "### 이론적 풀이"
   ]
  },
  {
   "cell_type": "markdown",
   "id": "726a27e8-8ccb-4432-a826-6848a682e4d6",
   "metadata": {
    "id": "726a27e8-8ccb-4432-a826-6848a682e4d6"
   },
   "source": [
    "#### 풀이1: 스칼라버전"
   ]
  },
  {
   "cell_type": "markdown",
   "id": "b5886ec9-ce8e-41b7-a6d2-7a4a1d4ddd96",
   "metadata": {
    "id": "b5886ec9-ce8e-41b7-a6d2-7a4a1d4ddd96"
   },
   "source": [
    "`-` 포인트 \n",
    "- $S_{xx}=$, $S_{xy}=$\n",
    "- $\\hat{\\beta}_0=$, $\\hat{\\beta}_1=$"
   ]
  },
  {
   "cell_type": "code",
   "execution_count": 37,
   "id": "94d36741-4d01-4878-ae2c-c3ea53a2eb71",
   "metadata": {
    "colab": {
     "base_uri": "https://localhost:8080/"
    },
    "id": "94d36741-4d01-4878-ae2c-c3ea53a2eb71",
    "outputId": "384fa3e6-0964-42db-a307-d3d7cdcfed51"
   },
   "outputs": [
    {
     "data": {
      "text/plain": [
       "(TensorShape([200]), TensorShape([200]))"
      ]
     },
     "execution_count": 37,
     "metadata": {},
     "output_type": "execute_result"
    }
   ],
   "source": [
    "x.shape,y.shape"
   ]
  },
  {
   "cell_type": "code",
   "execution_count": 38,
   "id": "3c3aba33-90b3-488c-b670-126a7d6bbd06",
   "metadata": {
    "id": "3c3aba33-90b3-488c-b670-126a7d6bbd06"
   },
   "outputs": [],
   "source": [
    "Sxx=sum((x-x.mean())**2)\n",
    "Sxy=sum((x-x.mean())*(y-y.mean()))"
   ]
  },
  {
   "cell_type": "code",
   "execution_count": 39,
   "id": "adacbb60-522d-490c-9152-fda73675bd8a",
   "metadata": {
    "id": "adacbb60-522d-490c-9152-fda73675bd8a"
   },
   "outputs": [],
   "source": [
    "beta1_hat = Sxy/Sxx\n",
    "beta0_hat = y.mean() - beta1_hat*x.mean()"
   ]
  },
  {
   "cell_type": "code",
   "execution_count": 40,
   "id": "39424356-6994-4e85-b7c9-8dcfcfc8fb68",
   "metadata": {
    "colab": {
     "base_uri": "https://localhost:8080/"
    },
    "id": "39424356-6994-4e85-b7c9-8dcfcfc8fb68",
    "outputId": "e861181d-6d08-428c-84dd-fa2e4d6ed1f6"
   },
   "outputs": [
    {
     "data": {
      "text/plain": [
       "(<tf.Tensor: shape=(), dtype=float64, numpy=2.583667211565867>,\n",
       " <tf.Tensor: shape=(), dtype=float64, numpy=3.9330345167331697>)"
      ]
     },
     "execution_count": 40,
     "metadata": {},
     "output_type": "execute_result"
    }
   ],
   "source": [
    "beta0_hat, beta1_hat"
   ]
  },
  {
   "cell_type": "markdown",
   "id": "15c2e0df-79cf-47bc-88fc-01511aede78f",
   "metadata": {
    "id": "15c2e0df-79cf-47bc-88fc-01511aede78f"
   },
   "source": [
    "#### 풀이2: 벡터버전"
   ]
  },
  {
   "cell_type": "markdown",
   "id": "304d3975-a8d7-4dc2-85e3-bdd79bf644b2",
   "metadata": {
    "id": "304d3975-a8d7-4dc2-85e3-bdd79bf644b2"
   },
   "source": [
    "`-` 포인트\n",
    "- $\\hat{\\beta}=(X'X)^{-1}X'y$"
   ]
  },
  {
   "cell_type": "code",
   "execution_count": 41,
   "id": "3383d00c-7bde-4a90-a61c-aaaeee021456",
   "metadata": {
    "id": "3383d00c-7bde-4a90-a61c-aaaeee021456"
   },
   "outputs": [],
   "source": [
    "X=tf.stack([tf.ones(N,dtype='float64'),x],axis=1)\n",
    "y=y.reshape(N,1) "
   ]
  },
  {
   "cell_type": "code",
   "execution_count": 42,
   "id": "522e07a4-c2a0-4410-80dc-b24458466f75",
   "metadata": {
    "colab": {
     "base_uri": "https://localhost:8080/"
    },
    "id": "522e07a4-c2a0-4410-80dc-b24458466f75",
    "outputId": "01e521a0-cc08-4edc-8e4f-7a4ed18d6530"
   },
   "outputs": [
    {
     "data": {
      "text/plain": [
       "(TensorShape([200, 2]), TensorShape([200, 1]))"
      ]
     },
     "execution_count": 42,
     "metadata": {},
     "output_type": "execute_result"
    }
   ],
   "source": [
    "X.shape,y.shape"
   ]
  },
  {
   "cell_type": "code",
   "execution_count": 43,
   "id": "2bec2a86-efbc-4a48-ab4a-20fbd6077afd",
   "metadata": {
    "colab": {
     "base_uri": "https://localhost:8080/"
    },
    "id": "2bec2a86-efbc-4a48-ab4a-20fbd6077afd",
    "outputId": "acd8b848-25ba-4e32-f7d9-0eab2491847d"
   },
   "outputs": [
    {
     "data": {
      "text/plain": [
       "<tf.Tensor: shape=(2, 1), dtype=float64, numpy=\n",
       "array([[2.58366721],\n",
       "       [3.93303452]])>"
      ]
     },
     "execution_count": 43,
     "metadata": {},
     "output_type": "execute_result"
    }
   ],
   "source": [
    "tf.linalg.inv(X.T @ X) @ X.T @ y"
   ]
  },
  {
   "cell_type": "markdown",
   "id": "0e3bc322-477e-4b86-b8f4-57c5b522f3ab",
   "metadata": {
    "id": "0e3bc322-477e-4b86-b8f4-57c5b522f3ab"
   },
   "source": [
    "#### 풀이3: 벡터버전, 손실함수의 도함수이용 "
   ]
  },
  {
   "cell_type": "markdown",
   "id": "c1755913-52f4-472d-bacf-bd282759e69e",
   "metadata": {
    "id": "c1755913-52f4-472d-bacf-bd282759e69e"
   },
   "source": [
    "`-` 포인트\n",
    "- $loss'(\\beta)=-2X'y +2X'X\\beta$\n",
    "- $\\beta_{new} = \\beta_{old} - \\alpha \\times loss'(\\beta_{old})$"
   ]
  },
  {
   "cell_type": "code",
   "execution_count": 44,
   "id": "b7ee2c33-7f7c-4c62-a39d-a4ac86a40a66",
   "metadata": {
    "colab": {
     "base_uri": "https://localhost:8080/"
    },
    "id": "b7ee2c33-7f7c-4c62-a39d-a4ac86a40a66",
    "outputId": "b67512e6-922f-4f68-aee5-72764359775b"
   },
   "outputs": [
    {
     "data": {
      "text/plain": [
       "(TensorShape([200, 2]), TensorShape([200, 1]))"
      ]
     },
     "execution_count": 44,
     "metadata": {},
     "output_type": "execute_result"
    }
   ],
   "source": [
    "y=y.reshape(N,1)\n",
    "X.shape,y.shape"
   ]
  },
  {
   "cell_type": "code",
   "execution_count": 45,
   "id": "7d605a85-faf0-4587-89b8-c2c4d0647524",
   "metadata": {
    "colab": {
     "base_uri": "https://localhost:8080/"
    },
    "id": "7d605a85-faf0-4587-89b8-c2c4d0647524",
    "outputId": "01e4ad13-da2b-408b-939e-6eb0e3ccd800"
   },
   "outputs": [
    {
     "data": {
      "text/plain": [
       "<tf.Tensor: shape=(2, 1), dtype=int32, numpy=\n",
       "array([[-5],\n",
       "       [10]])>"
      ]
     },
     "execution_count": 45,
     "metadata": {},
     "output_type": "execute_result"
    }
   ],
   "source": [
    "beta_hat = tnp.array([-5,10]).reshape(2,1)\n",
    "beta_hat"
   ]
  },
  {
   "cell_type": "code",
   "execution_count": 46,
   "id": "e4b3cc51-ce7c-4c5c-bc2c-98602e16a64d",
   "metadata": {
    "id": "e4b3cc51-ce7c-4c5c-bc2c-98602e16a64d"
   },
   "outputs": [],
   "source": [
    "alpha=0.1"
   ]
  },
  {
   "cell_type": "markdown",
   "id": "b60ab58c-a083-4837-b1d8-c6cbbd443f4b",
   "metadata": {
    "id": "b60ab58c-a083-4837-b1d8-c6cbbd443f4b"
   },
   "source": [
    "$loss'(\\beta) = -2X'y+2X'X\\beta$"
   ]
  },
  {
   "cell_type": "code",
   "execution_count": 47,
   "id": "3b983e74-3f5c-4844-b6fa-c2b87ce68b1e",
   "metadata": {
    "colab": {
     "base_uri": "https://localhost:8080/"
    },
    "id": "3b983e74-3f5c-4844-b6fa-c2b87ce68b1e",
    "outputId": "8ec37222-d015-48e2-d635-93d2441aef69"
   },
   "outputs": [
    {
     "data": {
      "text/plain": [
       "<tf.Tensor: shape=(2, 1), dtype=float64, numpy=\n",
       "array([[-1820.07378797],\n",
       "       [ -705.77222696]])>"
      ]
     },
     "execution_count": 47,
     "metadata": {},
     "output_type": "execute_result"
    }
   ],
   "source": [
    "slope = -2*X.T @ y + 2*X.T@ X @ beta_hat \n",
    "slope"
   ]
  },
  {
   "cell_type": "code",
   "execution_count": 48,
   "id": "3bf4a5ad-bbdc-4f55-8e18-dd83d695e136",
   "metadata": {
    "colab": {
     "base_uri": "https://localhost:8080/"
    },
    "id": "3bf4a5ad-bbdc-4f55-8e18-dd83d695e136",
    "outputId": "366527e3-7d34-4fae-e34d-62d406e55b7f"
   },
   "outputs": [
    {
     "data": {
      "text/plain": [
       "<tf.Tensor: shape=(2, 1), dtype=float64, numpy=\n",
       "array([[182.0073788],\n",
       "       [ 70.5772227]])>"
      ]
     },
     "execution_count": 48,
     "metadata": {},
     "output_type": "execute_result"
    }
   ],
   "source": [
    "step = - alpha*slope\n",
    "step "
   ]
  },
  {
   "cell_type": "code",
   "execution_count": 49,
   "id": "b63a1541-b924-4889-a4a8-2b2f292f59a9",
   "metadata": {
    "id": "b63a1541-b924-4889-a4a8-2b2f292f59a9"
   },
   "outputs": [],
   "source": [
    "for epoc in range(1000):\n",
    "    slope = (-2*X.T @ y + 2*X.T@ X @ beta_hat)/N\n",
    "    step = - alpha * slope\n",
    "    beta_hat = beta_hat + step "
   ]
  },
  {
   "cell_type": "code",
   "execution_count": 50,
   "id": "1f183f3d-a06b-4997-a22a-46486a763785",
   "metadata": {
    "colab": {
     "base_uri": "https://localhost:8080/"
    },
    "id": "1f183f3d-a06b-4997-a22a-46486a763785",
    "outputId": "216f2c78-e8e6-4666-cffb-c3351f68de4e"
   },
   "outputs": [
    {
     "data": {
      "text/plain": [
       "<tf.Tensor: shape=(2, 1), dtype=float64, numpy=\n",
       "array([[2.58366061],\n",
       "       [3.93304684]])>"
      ]
     },
     "execution_count": 50,
     "metadata": {},
     "output_type": "execute_result"
    }
   ],
   "source": [
    "beta_hat"
   ]
  },
  {
   "cell_type": "code",
   "execution_count": 51,
   "id": "dc55ab92-412f-46b9-9c3e-28bfc85f3b9c",
   "metadata": {
    "colab": {
     "base_uri": "https://localhost:8080/",
     "height": 283
    },
    "id": "dc55ab92-412f-46b9-9c3e-28bfc85f3b9c",
    "outputId": "5da44c2f-8f7c-4574-c733-369e86555caf"
   },
   "outputs": [
    {
     "data": {
      "text/plain": [
       "[<matplotlib.lines.Line2D at 0x1c3d9d01580>]"
      ]
     },
     "execution_count": 51,
     "metadata": {},
     "output_type": "execute_result"
    },
    {
     "data": {
      "image/png": "[encoded data removed]",
      "text/plain": [
       "<Figure size 432x288 with 1 Axes>"
      ]
     },
     "metadata": {
      "needs_background": "light"
     },
     "output_type": "display_data"
    }
   ],
   "source": [
    "plt.plot(x,y,'.') \n",
    "plt.plot(x,y_true,'r--')\n",
    "plt.plot(x,X@beta_hat,'b--')"
   ]
  },
  {
   "cell_type": "markdown",
   "id": "87d140c7-15f6-4cea-ae98-a2ec6bc82a41",
   "metadata": {
    "id": "87d140c7-15f6-4cea-ae98-a2ec6bc82a41"
   },
   "source": [
    "---"
   ]
  },
  {
   "cell_type": "markdown",
   "id": "8f5231a2-1872-497e-baf4-f463f0574757",
   "metadata": {
    "id": "8f5231a2-1872-497e-baf4-f463f0574757"
   },
   "source": [
    "### GradientTape를 이용 "
   ]
  },
  {
   "cell_type": "markdown",
   "id": "6a6f1c18-aff6-41fc-b346-aa184f5cddb4",
   "metadata": {
    "id": "6a6f1c18-aff6-41fc-b346-aa184f5cddb4"
   },
   "source": [
    "#### 풀이1: 벡터버전"
   ]
  },
  {
   "cell_type": "markdown",
   "id": "55ba7a20-43ec-40b3-90f6-5df6036bda89",
   "metadata": {
    "id": "55ba7a20-43ec-40b3-90f6-5df6036bda89"
   },
   "source": [
    "`-` 포인트\n",
    "```python\n",
    "## 포인트코드1: 그레디언트 테입  \n",
    "with tf.GradientTape() as tape: \n",
    "    loss = \n",
    "## 포인트코드2: 미분 \n",
    "slope = tape.gradient(loss,beta_hat) \n",
    "## 포인트코드3: update \n",
    "beta_hat.assign_sub(slope*alpha) \n",
    "```"
   ]
  },
  {
   "cell_type": "code",
   "execution_count": 52,
   "id": "7da48af9-0df9-4d7b-a2f1-980daac8fd31",
   "metadata": {
    "colab": {
     "base_uri": "https://localhost:8080/"
    },
    "id": "7da48af9-0df9-4d7b-a2f1-980daac8fd31",
    "outputId": "fd14c1d5-94e7-4e03-fb47-5bd6ee0f2d70",
    "scrolled": true
   },
   "outputs": [
    {
     "data": {
      "text/plain": [
       "(TensorShape([200, 2]), TensorShape([200, 1]))"
      ]
     },
     "execution_count": 52,
     "metadata": {},
     "output_type": "execute_result"
    }
   ],
   "source": [
    "y=y.reshape(N,1) # N=200 \n",
    "X.shape,y.shape"
   ]
  },
  {
   "cell_type": "code",
   "execution_count": 53,
   "id": "c489b112-6172-474e-923d-32a4ae398dca",
   "metadata": {
    "colab": {
     "base_uri": "https://localhost:8080/"
    },
    "id": "c489b112-6172-474e-923d-32a4ae398dca",
    "outputId": "8d876821-0de8-4b38-a41f-d494b3716c06"
   },
   "outputs": [
    {
     "data": {
      "text/plain": [
       "<tf.Variable 'Variable:0' shape=(2, 1) dtype=float64, numpy=\n",
       "array([[-5.],\n",
       "       [10.]])>"
      ]
     },
     "execution_count": 53,
     "metadata": {},
     "output_type": "execute_result"
    }
   ],
   "source": [
    "beta_hat = tf.Variable(tnp.array([-5.0,10.0]).reshape(2,1))\n",
    "beta_hat"
   ]
  },
  {
   "cell_type": "code",
   "execution_count": 54,
   "id": "f3e24fd5-84c5-4cf4-846a-01ff449ab9d7",
   "metadata": {
    "id": "f3e24fd5-84c5-4cf4-846a-01ff449ab9d7"
   },
   "outputs": [],
   "source": [
    "alpha=0.1"
   ]
  },
  {
   "cell_type": "code",
   "execution_count": 55,
   "id": "8e5e9ca1-7081-4605-bef5-2922823053b3",
   "metadata": {
    "id": "8e5e9ca1-7081-4605-bef5-2922823053b3"
   },
   "outputs": [],
   "source": [
    "for epoc in range(1000):   \n",
    "    with tf.GradientTape() as tape: \n",
    "        tape.watch(beta_hat)\n",
    "        yhat = X@beta_hat\n",
    "        loss = (y-yhat).T @ (y-yhat) / N \n",
    "    slope = tape.gradient(loss,beta_hat) \n",
    "    beta_hat.assign_sub(slope * alpha) "
   ]
  },
  {
   "cell_type": "code",
   "execution_count": 56,
   "id": "8987aee6-6b9a-43e1-b5ef-65e41e73f86c",
   "metadata": {
    "colab": {
     "base_uri": "https://localhost:8080/"
    },
    "id": "8987aee6-6b9a-43e1-b5ef-65e41e73f86c",
    "outputId": "073abe91-d450-42a9-e0fc-280e1ed1824a"
   },
   "outputs": [
    {
     "data": {
      "text/plain": [
       "<tf.Variable 'Variable:0' shape=(2, 1) dtype=float64, numpy=\n",
       "array([[2.58366061],\n",
       "       [3.93304684]])>"
      ]
     },
     "execution_count": 56,
     "metadata": {},
     "output_type": "execute_result"
    }
   ],
   "source": [
    "beta_hat"
   ]
  },
  {
   "cell_type": "markdown",
   "id": "45b5df07-64fd-4257-a8e5-1c55ffdc2172",
   "metadata": {
    "id": "45b5df07-64fd-4257-a8e5-1c55ffdc2172"
   },
   "source": [
    "#### 풀이2: 스칼라버전"
   ]
  },
  {
   "cell_type": "markdown",
   "id": "121291bf-c8b8-4a77-9c72-3b0f5540ef17",
   "metadata": {
    "id": "121291bf-c8b8-4a77-9c72-3b0f5540ef17"
   },
   "source": [
    "`-` 포인트\n",
    "```python\n",
    "## 포인트코드: 미분\n",
    "slope0,slope1 = tape.gradient(loss,[beta0_hat,beta1_hat])\n",
    "```"
   ]
  },
  {
   "cell_type": "code",
   "execution_count": 57,
   "id": "7a1789a2-f703-47f1-a0e8-653b73efa76a",
   "metadata": {
    "colab": {
     "base_uri": "https://localhost:8080/"
    },
    "id": "7a1789a2-f703-47f1-a0e8-653b73efa76a",
    "outputId": "d4752b3f-261d-4d92-a9e9-d31d9a016d3f"
   },
   "outputs": [
    {
     "data": {
      "text/plain": [
       "(TensorShape([200]), TensorShape([200]))"
      ]
     },
     "execution_count": 57,
     "metadata": {},
     "output_type": "execute_result"
    }
   ],
   "source": [
    "y=y.reshape(-1) # N=200 \n",
    "x.shape,y.shape"
   ]
  },
  {
   "cell_type": "code",
   "execution_count": 58,
   "id": "d4602a2b-fe45-4384-ad78-df4ba9f13dcb",
   "metadata": {
    "id": "d4602a2b-fe45-4384-ad78-df4ba9f13dcb"
   },
   "outputs": [],
   "source": [
    "beta0_hat = tf.Variable(-5.0)\n",
    "beta1_hat = tf.Variable(10.0)"
   ]
  },
  {
   "cell_type": "code",
   "execution_count": 59,
   "id": "d7c00a4c-6444-491c-8796-67e19f776cd5",
   "metadata": {
    "id": "d7c00a4c-6444-491c-8796-67e19f776cd5"
   },
   "outputs": [],
   "source": [
    "alpha=0.1 "
   ]
  },
  {
   "cell_type": "code",
   "execution_count": 60,
   "id": "91ab8e55-c02b-4ecf-a7cb-6e48a852d45e",
   "metadata": {
    "id": "91ab8e55-c02b-4ecf-a7cb-6e48a852d45e"
   },
   "outputs": [],
   "source": [
    "for epoc in range(1000):   \n",
    "    with tf.GradientTape() as tape: \n",
    "        yhat = beta0_hat + beta1_hat*x \n",
    "        loss = tf.reduce_sum((y-yhat)**2) / N  #loss = sum((y-yhat)**2) / N \n",
    "    slope0,slope1 = tape.gradient(loss,[beta0_hat,beta1_hat]) \n",
    "    beta0_hat.assign_sub(slope0 * alpha) \n",
    "    beta1_hat.assign_sub(slope1 * alpha) "
   ]
  },
  {
   "cell_type": "code",
   "execution_count": 61,
   "id": "47cbb7f9-a1e0-4eda-9152-16afd10dced4",
   "metadata": {
    "colab": {
     "base_uri": "https://localhost:8080/"
    },
    "id": "47cbb7f9-a1e0-4eda-9152-16afd10dced4",
    "outputId": "7740cbb0-2772-4c04-dc1e-f3e0735e990d"
   },
   "outputs": [
    {
     "data": {
      "text/plain": [
       "(<tf.Variable 'Variable:0' shape=() dtype=float32, numpy=2.58366>,\n",
       " <tf.Variable 'Variable:0' shape=() dtype=float32, numpy=3.933048>)"
      ]
     },
     "execution_count": 61,
     "metadata": {},
     "output_type": "execute_result"
    }
   ],
   "source": [
    "beta0_hat, beta1_hat "
   ]
  },
  {
   "cell_type": "markdown",
   "id": "febc6310-7669-4cfe-ba5f-70ae1853f605",
   "metadata": {
    "id": "febc6310-7669-4cfe-ba5f-70ae1853f605"
   },
   "source": [
    "### GradientTape + opt.apply_gradients"
   ]
  },
  {
   "cell_type": "markdown",
   "id": "5089a331-82aa-48cc-9f6f-5ea1a93bbd2f",
   "metadata": {
    "id": "5089a331-82aa-48cc-9f6f-5ea1a93bbd2f",
    "tags": []
   },
   "source": [
    "#### 풀이1: 벡터버전 "
   ]
  },
  {
   "cell_type": "markdown",
   "id": "ad963999-5fe2-429f-914a-b70bd3ad9235",
   "metadata": {
    "id": "ad963999-5fe2-429f-914a-b70bd3ad9235"
   },
   "source": [
    "`-` 포인트 \n",
    "```python\n",
    "## 포인트코드: 업데이트\n",
    "opt.apply_gradients([(slope,beta_hat)])  ## pair의 list가 입력 \n",
    "```"
   ]
  },
  {
   "cell_type": "code",
   "execution_count": 69,
   "id": "4a3a9fd7-f2aa-4fa6-91eb-1a3f675eb440",
   "metadata": {
    "colab": {
     "base_uri": "https://localhost:8080/"
    },
    "id": "4a3a9fd7-f2aa-4fa6-91eb-1a3f675eb440",
    "outputId": "3a91d5cf-6f9e-4ee2-a6d4-c047706f4dfc"
   },
   "outputs": [
    {
     "data": {
      "text/plain": [
       "(TensorShape([200, 2]), TensorShape([200, 1]))"
      ]
     },
     "execution_count": 69,
     "metadata": {},
     "output_type": "execute_result"
    }
   ],
   "source": [
    "y=y.reshape(N,1)\n",
    "X.shape,y.shape"
   ]
  },
  {
   "cell_type": "code",
   "execution_count": 70,
   "id": "0e77e852-0ec1-4614-8175-a1a87d57f1c3",
   "metadata": {
    "colab": {
     "base_uri": "https://localhost:8080/"
    },
    "id": "0e77e852-0ec1-4614-8175-a1a87d57f1c3",
    "outputId": "4b9312d9-b562-4c8c-e7d0-6a81c2456095"
   },
   "outputs": [
    {
     "data": {
      "text/plain": [
       "<tf.Variable 'Variable:0' shape=(2, 1) dtype=float64, numpy=\n",
       "array([[-5.],\n",
       "       [10.]])>"
      ]
     },
     "execution_count": 70,
     "metadata": {},
     "output_type": "execute_result"
    }
   ],
   "source": [
    "beta_hat = tf.Variable(tnp.array([-5.0,10.0]).reshape(2,1))\n",
    "beta_hat"
   ]
  },
  {
   "cell_type": "code",
   "execution_count": 71,
   "id": "bbc29cf2-7722-4554-b60c-d0db31f4cad5",
   "metadata": {
    "id": "bbc29cf2-7722-4554-b60c-d0db31f4cad5"
   },
   "outputs": [],
   "source": [
    "alpha=0.1"
   ]
  },
  {
   "cell_type": "code",
   "execution_count": 72,
   "id": "26afacef-aa73-409f-9bdf-d5cd1ed16d47",
   "metadata": {
    "id": "26afacef-aa73-409f-9bdf-d5cd1ed16d47"
   },
   "outputs": [],
   "source": [
    "opt = tf.optimizers.SGD(alpha) "
   ]
  },
  {
   "cell_type": "code",
   "execution_count": 73,
   "id": "6009eb05-7a29-403c-ae0e-8fa020c2289d",
   "metadata": {
    "id": "6009eb05-7a29-403c-ae0e-8fa020c2289d"
   },
   "outputs": [],
   "source": [
    "for epoc in range(1000): \n",
    "    with tf.GradientTape() as tape: \n",
    "        yhat = X@beta_hat\n",
    "        loss = (y-yhat).T @ (y-yhat) / N \n",
    "    slope = tape.gradient(loss,beta_hat)  \n",
    "    opt.apply_gradients( [(slope,beta_hat)] )"
   ]
  },
  {
   "cell_type": "code",
   "execution_count": 74,
   "id": "6da31d2c-3384-4dfa-a79d-d7dcdb7204d5",
   "metadata": {
    "colab": {
     "base_uri": "https://localhost:8080/"
    },
    "id": "6da31d2c-3384-4dfa-a79d-d7dcdb7204d5",
    "outputId": "f1a26981-2733-4181-e125-944f7a153b9b"
   },
   "outputs": [
    {
     "data": {
      "text/plain": [
       "<tf.Tensor: shape=(1, 1), dtype=float64, numpy=array([[0.25493942]])>"
      ]
     },
     "execution_count": 74,
     "metadata": {},
     "output_type": "execute_result"
    }
   ],
   "source": [
    "(y-yhat).T @ (y-yhat) / N "
   ]
  },
  {
   "cell_type": "code",
   "execution_count": 75,
   "id": "4b2a0c2b-3aa4-48d6-90db-21227458000a",
   "metadata": {
    "colab": {
     "base_uri": "https://localhost:8080/"
    },
    "id": "4b2a0c2b-3aa4-48d6-90db-21227458000a",
    "outputId": "b15435d5-1d20-42fa-c6e5-1f9514383e3c"
   },
   "outputs": [
    {
     "data": {
      "text/plain": [
       "<tf.Variable 'Variable:0' shape=(2, 1) dtype=float64, numpy=\n",
       "array([[2.58366061],\n",
       "       [3.93304684]])>"
      ]
     },
     "execution_count": 75,
     "metadata": {},
     "output_type": "execute_result"
    }
   ],
   "source": [
    "beta_hat"
   ]
  },
  {
   "cell_type": "markdown",
   "id": "544bb15a-9809-4bfb-abda-c7e84e20f8e4",
   "metadata": {
    "id": "544bb15a-9809-4bfb-abda-c7e84e20f8e4",
    "tags": []
   },
   "source": [
    "#### 풀이2: 스칼라버전 "
   ]
  },
  {
   "cell_type": "markdown",
   "id": "9e93cdf6-3ba5-4102-b325-33c98fa8010c",
   "metadata": {
    "id": "9e93cdf6-3ba5-4102-b325-33c98fa8010c"
   },
   "source": [
    "`-` 포인트\n",
    "```python\n",
    "## 포인트코드: 업데이트 \n",
    "opt.apply_gradients([(slope0,beta0_hat),(slope1,beta1_hat)]) ## pair의 list가 입력 \n",
    "```"
   ]
  },
  {
   "cell_type": "code",
   "execution_count": 76,
   "id": "a7a80a15-6195-43fa-be0e-a9dd3e558878",
   "metadata": {
    "colab": {
     "base_uri": "https://localhost:8080/"
    },
    "id": "a7a80a15-6195-43fa-be0e-a9dd3e558878",
    "outputId": "2a534ef3-3e64-4a2a-e8d5-edef45ffafbf"
   },
   "outputs": [
    {
     "data": {
      "text/plain": [
       "(TensorShape([200]), TensorShape([200]))"
      ]
     },
     "execution_count": 76,
     "metadata": {},
     "output_type": "execute_result"
    }
   ],
   "source": [
    "y=y.reshape(-1)\n",
    "x.shape,y.shape"
   ]
  },
  {
   "cell_type": "code",
   "execution_count": 77,
   "id": "546b3dc2-243c-496e-91ff-9393ace2b82c",
   "metadata": {
    "id": "546b3dc2-243c-496e-91ff-9393ace2b82c"
   },
   "outputs": [],
   "source": [
    "beta0_hat = tf.Variable(-5.0)\n",
    "beta1_hat = tf.Variable(10.0) "
   ]
  },
  {
   "cell_type": "code",
   "execution_count": 78,
   "id": "78c129bf-d7d9-4f6b-ac6a-4328b4778820",
   "metadata": {
    "id": "78c129bf-d7d9-4f6b-ac6a-4328b4778820"
   },
   "outputs": [],
   "source": [
    "alpha=0.1"
   ]
  },
  {
   "cell_type": "code",
   "execution_count": 79,
   "id": "59656bac-c560-4577-bf65-757559010e1b",
   "metadata": {
    "id": "59656bac-c560-4577-bf65-757559010e1b"
   },
   "outputs": [],
   "source": [
    "opt = tf.optimizers.SGD(alpha) "
   ]
  },
  {
   "cell_type": "code",
   "execution_count": 80,
   "id": "3fad65ed-8765-4c6d-91c6-1c777f2e1c5d",
   "metadata": {
    "id": "3fad65ed-8765-4c6d-91c6-1c777f2e1c5d"
   },
   "outputs": [],
   "source": [
    "for epoc in range(1000): \n",
    "    with tf.GradientTape() as tape: \n",
    "        yhat = beta0_hat + beta1_hat*x \n",
    "        loss = tf.reduce_sum((y-yhat)**2) / N \n",
    "    slope0,slope1 = tape.gradient(loss,[beta0_hat,beta1_hat])  \n",
    "    opt.apply_gradients( [(slope0,beta0_hat),(slope1,beta1_hat)] )"
   ]
  },
  {
   "cell_type": "code",
   "execution_count": 81,
   "id": "9f55c147-73a9-45b8-bdf8-3ead3fc0a0d3",
   "metadata": {
    "colab": {
     "base_uri": "https://localhost:8080/"
    },
    "id": "9f55c147-73a9-45b8-bdf8-3ead3fc0a0d3",
    "outputId": "2f6adc64-b7e0-47bd-d531-515997b6665d"
   },
   "outputs": [
    {
     "data": {
      "text/plain": [
       "(<tf.Variable 'Variable:0' shape=() dtype=float32, numpy=2.58366>,\n",
       " <tf.Variable 'Variable:0' shape=() dtype=float32, numpy=3.933048>)"
      ]
     },
     "execution_count": 81,
     "metadata": {},
     "output_type": "execute_result"
    }
   ],
   "source": [
    "beta0_hat,beta1_hat"
   ]
  },
  {
   "cell_type": "markdown",
   "id": "fbefd5c2-a97b-4cf6-9057-b6e64427cb1b",
   "metadata": {
    "id": "fbefd5c2-a97b-4cf6-9057-b6e64427cb1b"
   },
   "source": [
    "---"
   ]
  },
  {
   "cell_type": "markdown",
   "id": "08c010ea-0672-47da-a2ce-e731ccf6d6e0",
   "metadata": {
    "id": "08c010ea-0672-47da-a2ce-e731ccf6d6e0"
   },
   "source": [
    "### opt.minimize"
   ]
  },
  {
   "cell_type": "markdown",
   "id": "2d0207e6-a475-42bc-a1cc-36c7dd86e66d",
   "metadata": {
    "id": "2d0207e6-a475-42bc-a1cc-36c7dd86e66d",
    "tags": []
   },
   "source": [
    "#### 풀이1: 벡터버전, 사용자정의 손실함수 with lambda"
   ]
  },
  {
   "cell_type": "markdown",
   "id": "13f2be82-e50e-4798-9207-1d22daa26723",
   "metadata": {
    "id": "13f2be82-e50e-4798-9207-1d22daa26723"
   },
   "source": [
    "`-` 포인트\n",
    "```python\n",
    "## 포인트코드1: 손실함수 정의 \n",
    "loss_fn = lambda: ??\n",
    "\n",
    "## 포인트코드2: 옵티마이저 생성 \n",
    "opt = tf.optimizers.SGD(alpha)\n",
    "\n",
    "## 포인트코드3: 미분 & 업데이트 = minimize \n",
    "opt.minimize(loss_fn,beta_hat)\n",
    "```"
   ]
  },
  {
   "cell_type": "code",
   "execution_count": 82,
   "id": "5e5e43d2-c87d-4be8-b010-ff7a200dfabf",
   "metadata": {
    "colab": {
     "base_uri": "https://localhost:8080/"
    },
    "id": "5e5e43d2-c87d-4be8-b010-ff7a200dfabf",
    "outputId": "47d5edd9-552e-4e5e-cec8-e221b4a998c7"
   },
   "outputs": [
    {
     "data": {
      "text/plain": [
       "(TensorShape([200, 2]), TensorShape([200, 1]))"
      ]
     },
     "execution_count": 82,
     "metadata": {},
     "output_type": "execute_result"
    }
   ],
   "source": [
    "y=y.reshape(N,1)\n",
    "X.shape,y.shape"
   ]
  },
  {
   "cell_type": "code",
   "execution_count": 83,
   "id": "d147c398-8b8c-4a0c-9d57-3fa7c18aa006",
   "metadata": {
    "colab": {
     "base_uri": "https://localhost:8080/"
    },
    "id": "d147c398-8b8c-4a0c-9d57-3fa7c18aa006",
    "outputId": "37873fa6-f006-4a41-a814-bcc13ceb1a72"
   },
   "outputs": [
    {
     "data": {
      "text/plain": [
       "<tf.Variable 'Variable:0' shape=(2, 1) dtype=float64, numpy=\n",
       "array([[-5.],\n",
       "       [10.]])>"
      ]
     },
     "execution_count": 83,
     "metadata": {},
     "output_type": "execute_result"
    }
   ],
   "source": [
    "beta_hat = tf.Variable(tnp.array([-5.0,10.0]).reshape(2,1))\n",
    "beta_hat"
   ]
  },
  {
   "cell_type": "code",
   "execution_count": 84,
   "id": "c09df296-99e9-4d84-8d55-b3ae6f53d683",
   "metadata": {
    "id": "c09df296-99e9-4d84-8d55-b3ae6f53d683"
   },
   "outputs": [],
   "source": [
    "alpha=0.1"
   ]
  },
  {
   "cell_type": "code",
   "execution_count": 85,
   "id": "625b830a-225a-4695-8bb7-a8bf68ce98a0",
   "metadata": {
    "id": "625b830a-225a-4695-8bb7-a8bf68ce98a0"
   },
   "outputs": [],
   "source": [
    "opt = tf.optimizers.SGD(alpha) "
   ]
  },
  {
   "cell_type": "code",
   "execution_count": 86,
   "id": "b86456bb-5b5c-45ec-8c55-3b17fe201adc",
   "metadata": {
    "id": "b86456bb-5b5c-45ec-8c55-3b17fe201adc"
   },
   "outputs": [],
   "source": [
    "loss_fn = lambda: (y-X@beta_hat).T @ (y-X@beta_hat)/N"
   ]
  },
  {
   "cell_type": "markdown",
   "id": "565063c4-635e-429e-8446-24e137adc8ce",
   "metadata": {
    "id": "565063c4-635e-429e-8446-24e137adc8ce"
   },
   "source": [
    "- `lambda x: x**2` <=> `lambda(x) = x^2`\n",
    "- `lambda x,y : x+y` <=> `lambda(x,y)=x+y`\n",
    "- `lambda: y` <=> `lambda() = y ` "
   ]
  },
  {
   "cell_type": "code",
   "execution_count": 87,
   "id": "3f64d49e-fb88-4c24-b89b-b6c5bb55400b",
   "metadata": {
    "colab": {
     "base_uri": "https://localhost:8080/"
    },
    "id": "3f64d49e-fb88-4c24-b89b-b6c5bb55400b",
    "outputId": "471dea04-88a3-4cb5-f492-6138ef80650c"
   },
   "outputs": [
    {
     "data": {
      "text/plain": [
       "<tf.Tensor: shape=(1, 1), dtype=float64, numpy=array([[4811.45696758]])>"
      ]
     },
     "execution_count": 87,
     "metadata": {},
     "output_type": "execute_result"
    }
   ],
   "source": [
    "(y-X@beta_hat).T @ (y-X@beta_hat)"
   ]
  },
  {
   "cell_type": "code",
   "execution_count": 88,
   "id": "3df86d7f-96dd-4ea0-9207-d2943c8b5c9d",
   "metadata": {
    "colab": {
     "base_uri": "https://localhost:8080/"
    },
    "id": "3df86d7f-96dd-4ea0-9207-d2943c8b5c9d",
    "outputId": "d81b29be-3f2e-429d-8e5e-6c4957cbea49"
   },
   "outputs": [
    {
     "data": {
      "text/plain": [
       "<tf.Tensor: shape=(1, 1), dtype=float64, numpy=array([[24.05728484]])>"
      ]
     },
     "execution_count": 88,
     "metadata": {},
     "output_type": "execute_result"
    }
   ],
   "source": [
    "loss_fn()"
   ]
  },
  {
   "cell_type": "code",
   "execution_count": 89,
   "id": "cd3534db-b65b-4f0d-b57a-c5877e2dd687",
   "metadata": {
    "id": "cd3534db-b65b-4f0d-b57a-c5877e2dd687"
   },
   "outputs": [],
   "source": [
    "for epoc in range(1000):\n",
    "    opt.minimize(loss_fn,beta_hat) # 미분 + update "
   ]
  },
  {
   "cell_type": "code",
   "execution_count": 90,
   "id": "c3bc1d0a-5653-4481-9ac3-ad1caf623dc2",
   "metadata": {
    "colab": {
     "base_uri": "https://localhost:8080/"
    },
    "id": "c3bc1d0a-5653-4481-9ac3-ad1caf623dc2",
    "outputId": "bb09cc30-46c0-4be1-991c-56ab8d4d7914"
   },
   "outputs": [
    {
     "data": {
      "text/plain": [
       "<tf.Variable 'Variable:0' shape=(2, 1) dtype=float64, numpy=\n",
       "array([[2.58366061],\n",
       "       [3.93304684]])>"
      ]
     },
     "execution_count": 90,
     "metadata": {},
     "output_type": "execute_result"
    }
   ],
   "source": [
    "beta_hat"
   ]
  },
  {
   "cell_type": "markdown",
   "id": "f9f7739e-27b2-40e6-a60f-de806e7216f4",
   "metadata": {
    "id": "f9f7739e-27b2-40e6-a60f-de806e7216f4"
   },
   "source": [
    "#### 풀이2: 스칼라버전, 사용자정의 손실함수 with lambda"
   ]
  },
  {
   "cell_type": "markdown",
   "id": "cbd0e298-b04a-47dc-974c-4b72cebdfe55",
   "metadata": {
    "id": "cbd0e298-b04a-47dc-974c-4b72cebdfe55"
   },
   "source": [
    "`-` 포인트\n",
    "```python\n",
    "## 포인트코드: 미분 & 업데이트 = minimize \n",
    "opt.minimize(loss_fn,[beta0_hat,beta1_hat])\n",
    "```"
   ]
  },
  {
   "cell_type": "code",
   "execution_count": 91,
   "id": "7a741f14-6b22-4938-9a52-6941974e0a7e",
   "metadata": {
    "colab": {
     "base_uri": "https://localhost:8080/"
    },
    "id": "7a741f14-6b22-4938-9a52-6941974e0a7e",
    "outputId": "db9b26e1-3f9a-455b-cc07-9b5c372f64e9"
   },
   "outputs": [
    {
     "data": {
      "text/plain": [
       "(TensorShape([200]), TensorShape([200]))"
      ]
     },
     "execution_count": 91,
     "metadata": {},
     "output_type": "execute_result"
    }
   ],
   "source": [
    "y=y.reshape(-1)\n",
    "x.shape,y.shape"
   ]
  },
  {
   "cell_type": "code",
   "execution_count": 92,
   "id": "dd73b14f-8d70-4868-aae0-eabd672bebb0",
   "metadata": {
    "id": "dd73b14f-8d70-4868-aae0-eabd672bebb0"
   },
   "outputs": [],
   "source": [
    "beta0_hat = tf.Variable(-5.0)\n",
    "beta1_hat = tf.Variable(10.0) "
   ]
  },
  {
   "cell_type": "code",
   "execution_count": 93,
   "id": "51f8c16c-51ac-4e1d-a033-014dbe24fcfa",
   "metadata": {
    "id": "51f8c16c-51ac-4e1d-a033-014dbe24fcfa"
   },
   "outputs": [],
   "source": [
    "alpha=0.1"
   ]
  },
  {
   "cell_type": "code",
   "execution_count": 94,
   "id": "e1711f94-62be-414f-a5ff-e27c7edb0336",
   "metadata": {
    "id": "e1711f94-62be-414f-a5ff-e27c7edb0336"
   },
   "outputs": [],
   "source": [
    "opt = tf.optimizers.SGD(alpha) "
   ]
  },
  {
   "cell_type": "code",
   "execution_count": 95,
   "id": "1a8347dd-0609-403f-a437-630254347b80",
   "metadata": {
    "id": "1a8347dd-0609-403f-a437-630254347b80"
   },
   "outputs": [],
   "source": [
    "loss_fn = lambda: tf.reduce_sum((y-beta0_hat - beta1_hat*x)**2)/N"
   ]
  },
  {
   "cell_type": "code",
   "execution_count": 96,
   "id": "d896e242-9e35-4c5a-9b8a-d056830b4083",
   "metadata": {
    "id": "d896e242-9e35-4c5a-9b8a-d056830b4083"
   },
   "outputs": [],
   "source": [
    "for epoc in range(1000):\n",
    "    opt.minimize(loss_fn,[beta0_hat,beta1_hat]) # 미분 + update "
   ]
  },
  {
   "cell_type": "code",
   "execution_count": 97,
   "id": "03769ba1-a1f2-4edf-a535-2236ad3387d3",
   "metadata": {
    "colab": {
     "base_uri": "https://localhost:8080/"
    },
    "id": "03769ba1-a1f2-4edf-a535-2236ad3387d3",
    "outputId": "a46abeb7-3ee7-4f07-dab5-ad51b2134b20"
   },
   "outputs": [
    {
     "data": {
      "text/plain": [
       "(<tf.Variable 'Variable:0' shape=() dtype=float32, numpy=2.58366>,\n",
       " <tf.Variable 'Variable:0' shape=() dtype=float32, numpy=3.933048>)"
      ]
     },
     "execution_count": 97,
     "metadata": {},
     "output_type": "execute_result"
    }
   ],
   "source": [
    "beta0_hat, beta1_hat"
   ]
  },
  {
   "cell_type": "markdown",
   "id": "a1f09a4f-bdb9-440b-9d9e-623cd220baff",
   "metadata": {
    "id": "a1f09a4f-bdb9-440b-9d9e-623cd220baff"
   },
   "source": [
    "#### 풀이3: 벡터버전, 사용자정의 (짧은) 손실함수 "
   ]
  },
  {
   "cell_type": "markdown",
   "id": "f5031126-91a9-4d1f-a932-e0b67559776a",
   "metadata": {
    "id": "f5031126-91a9-4d1f-a932-e0b67559776a"
   },
   "source": [
    "`-` 포인트\n",
    "```python\n",
    "## 포인트코드: 손실함수정의 \n",
    "def loss_fn():\n",
    "    return ??\n",
    "```"
   ]
  },
  {
   "cell_type": "code",
   "execution_count": 98,
   "id": "8938383f-4d22-4dae-9bef-ef9980dd7382",
   "metadata": {
    "colab": {
     "base_uri": "https://localhost:8080/"
    },
    "id": "8938383f-4d22-4dae-9bef-ef9980dd7382",
    "outputId": "d733f33f-eba9-4285-8db9-3750e9b5a468"
   },
   "outputs": [
    {
     "data": {
      "text/plain": [
       "(TensorShape([200, 2]), TensorShape([200, 1]))"
      ]
     },
     "execution_count": 98,
     "metadata": {},
     "output_type": "execute_result"
    }
   ],
   "source": [
    "y=y.reshape(N,1)\n",
    "X.shape,y.shape"
   ]
  },
  {
   "cell_type": "code",
   "execution_count": 99,
   "id": "f687887a-dbc3-4ac7-914f-a2ccacdbdbc1",
   "metadata": {
    "colab": {
     "base_uri": "https://localhost:8080/"
    },
    "id": "f687887a-dbc3-4ac7-914f-a2ccacdbdbc1",
    "outputId": "a10373de-9cf6-407c-b739-3acd47105e8c"
   },
   "outputs": [
    {
     "data": {
      "text/plain": [
       "<tf.Variable 'Variable:0' shape=(2, 1) dtype=float64, numpy=\n",
       "array([[-5.],\n",
       "       [10.]])>"
      ]
     },
     "execution_count": 99,
     "metadata": {},
     "output_type": "execute_result"
    }
   ],
   "source": [
    "beta_hat = tf.Variable(tnp.array([-5.0,10.0]).reshape(2,1))\n",
    "beta_hat"
   ]
  },
  {
   "cell_type": "code",
   "execution_count": 100,
   "id": "73b9cf34-b946-437e-9f23-207235cf7876",
   "metadata": {
    "id": "73b9cf34-b946-437e-9f23-207235cf7876"
   },
   "outputs": [],
   "source": [
    "alpha=0.1"
   ]
  },
  {
   "cell_type": "code",
   "execution_count": 101,
   "id": "79790250-a0b7-4002-8115-2d848780022d",
   "metadata": {
    "id": "79790250-a0b7-4002-8115-2d848780022d"
   },
   "outputs": [],
   "source": [
    "opt = tf.optimizers.SGD(alpha) "
   ]
  },
  {
   "cell_type": "code",
   "execution_count": 102,
   "id": "8dd0af03-6340-4601-8556-bbfbcc7c46e9",
   "metadata": {
    "id": "8dd0af03-6340-4601-8556-bbfbcc7c46e9"
   },
   "outputs": [],
   "source": [
    "def loss_fn():\n",
    "    return (y-X@beta_hat).T @ (y-X@beta_hat)/N"
   ]
  },
  {
   "cell_type": "code",
   "execution_count": 103,
   "id": "f3d2294e-edc3-4afc-a173-e5df53dc5a88",
   "metadata": {
    "id": "f3d2294e-edc3-4afc-a173-e5df53dc5a88"
   },
   "outputs": [],
   "source": [
    "for epoc in range(1000):\n",
    "    opt.minimize(loss_fn,beta_hat) # 미분 + update "
   ]
  },
  {
   "cell_type": "code",
   "execution_count": 104,
   "id": "3399f3e6-5cd3-449c-b14e-9525e04d2e48",
   "metadata": {
    "colab": {
     "base_uri": "https://localhost:8080/"
    },
    "id": "3399f3e6-5cd3-449c-b14e-9525e04d2e48",
    "outputId": "2d94c7bb-dee0-4fe4-a974-3c5b650c854b"
   },
   "outputs": [
    {
     "data": {
      "text/plain": [
       "<tf.Variable 'Variable:0' shape=(2, 1) dtype=float64, numpy=\n",
       "array([[2.58366061],\n",
       "       [3.93304684]])>"
      ]
     },
     "execution_count": 104,
     "metadata": {},
     "output_type": "execute_result"
    }
   ],
   "source": [
    "beta_hat"
   ]
  },
  {
   "cell_type": "markdown",
   "id": "28e46453-92c4-4858-8feb-19597cf34e73",
   "metadata": {
    "id": "28e46453-92c4-4858-8feb-19597cf34e73"
   },
   "source": [
    "#### 풀이4: 벡터버전, 사용자정의 (긴) 손실함수 "
   ]
  },
  {
   "cell_type": "markdown",
   "id": "74a717fc-0e55-416c-aaa0-3d6dc5a60371",
   "metadata": {
    "id": "74a717fc-0e55-416c-aaa0-3d6dc5a60371"
   },
   "source": [
    "`-` 포인트\n",
    "```python\n",
    "## 포인트코드: 손실함수정의 \n",
    "def loss_fn():\n",
    "    ??\n",
    "    ??\n",
    "    return ??\n",
    "```"
   ]
  },
  {
   "cell_type": "code",
   "execution_count": 105,
   "id": "587c971e-3ff6-43ef-9621-c373fdd448ff",
   "metadata": {
    "colab": {
     "base_uri": "https://localhost:8080/"
    },
    "id": "587c971e-3ff6-43ef-9621-c373fdd448ff",
    "outputId": "59bf56a3-2b35-4c2b-a3a2-36e0aae81271"
   },
   "outputs": [
    {
     "data": {
      "text/plain": [
       "(TensorShape([200, 2]), TensorShape([200, 1]))"
      ]
     },
     "execution_count": 105,
     "metadata": {},
     "output_type": "execute_result"
    }
   ],
   "source": [
    "y=y.reshape(N,1)\n",
    "X.shape,y.shape"
   ]
  },
  {
   "cell_type": "code",
   "execution_count": 106,
   "id": "46c761fa-8393-416a-82cf-f3e86a4a5e17",
   "metadata": {
    "colab": {
     "base_uri": "https://localhost:8080/"
    },
    "id": "46c761fa-8393-416a-82cf-f3e86a4a5e17",
    "outputId": "38d324df-b34d-4d1a-84cf-b3c2d7c1b2a3"
   },
   "outputs": [
    {
     "data": {
      "text/plain": [
       "<tf.Variable 'Variable:0' shape=(2, 1) dtype=float64, numpy=\n",
       "array([[-5.],\n",
       "       [10.]])>"
      ]
     },
     "execution_count": 106,
     "metadata": {},
     "output_type": "execute_result"
    }
   ],
   "source": [
    "beta_hat = tf.Variable(tnp.array([-5.0,10.0]).reshape(2,1))\n",
    "beta_hat"
   ]
  },
  {
   "cell_type": "code",
   "execution_count": 107,
   "id": "1daf3bae-8b23-4963-9690-ffd1176df307",
   "metadata": {
    "id": "1daf3bae-8b23-4963-9690-ffd1176df307"
   },
   "outputs": [],
   "source": [
    "alpha=0.1"
   ]
  },
  {
   "cell_type": "code",
   "execution_count": 108,
   "id": "16bfd195-6b0b-452b-aff2-42488abba182",
   "metadata": {
    "id": "16bfd195-6b0b-452b-aff2-42488abba182"
   },
   "outputs": [],
   "source": [
    "opt = tf.optimizers.SGD(alpha) "
   ]
  },
  {
   "cell_type": "code",
   "execution_count": 109,
   "id": "72cdf4f9-29cd-4808-a6ec-a900d66efe32",
   "metadata": {
    "id": "72cdf4f9-29cd-4808-a6ec-a900d66efe32"
   },
   "outputs": [],
   "source": [
    "def loss_fn():\n",
    "    yhat = X@beta_hat \n",
    "    loss = (y-yhat).T @ (y-yhat) / N\n",
    "    return loss"
   ]
  },
  {
   "cell_type": "code",
   "execution_count": 110,
   "id": "b312819c-0d25-4887-8c9d-4a18563c835f",
   "metadata": {
    "id": "b312819c-0d25-4887-8c9d-4a18563c835f"
   },
   "outputs": [],
   "source": [
    "for epoc in range(1000):\n",
    "    opt.minimize(loss_fn,beta_hat) # 미분 + update "
   ]
  },
  {
   "cell_type": "code",
   "execution_count": 111,
   "id": "137a7975-705d-4543-a511-72c0205a51fa",
   "metadata": {
    "colab": {
     "base_uri": "https://localhost:8080/"
    },
    "id": "137a7975-705d-4543-a511-72c0205a51fa",
    "outputId": "82746f4b-ff27-40cd-b346-36a7a4d58541"
   },
   "outputs": [
    {
     "data": {
      "text/plain": [
       "<tf.Variable 'Variable:0' shape=(2, 1) dtype=float64, numpy=\n",
       "array([[2.58366061],\n",
       "       [3.93304684]])>"
      ]
     },
     "execution_count": 111,
     "metadata": {},
     "output_type": "execute_result"
    }
   ],
   "source": [
    "beta_hat"
   ]
  },
  {
   "cell_type": "markdown",
   "id": "07f15e8b-d947-4341-ad00-d2994d462eef",
   "metadata": {
    "id": "07f15e8b-d947-4341-ad00-d2994d462eef"
   },
   "source": [
    "#### 풀이5: 벡터버전, 사용자정의 손실함수 <- tf.losses.MSE "
   ]
  },
  {
   "cell_type": "markdown",
   "id": "016c6e35-1822-4973-a654-9ff28ac7be66",
   "metadata": {
    "id": "016c6e35-1822-4973-a654-9ff28ac7be66"
   },
   "source": [
    "`-` 포인트\n",
    "```python\n",
    "## 포인트코드: 미리구현되어있는 손실함수 이용 \n",
    "tf.losses.MSE(y,yhat)\n",
    "```"
   ]
  },
  {
   "cell_type": "code",
   "execution_count": 112,
   "id": "fce98e08-d929-4cec-a9c4-9dfea4a48df7",
   "metadata": {
    "colab": {
     "base_uri": "https://localhost:8080/"
    },
    "id": "fce98e08-d929-4cec-a9c4-9dfea4a48df7",
    "outputId": "a9d44353-a534-46cc-9aa9-f30a8a357416"
   },
   "outputs": [
    {
     "data": {
      "text/plain": [
       "(TensorShape([200, 2]), TensorShape([200, 1]))"
      ]
     },
     "execution_count": 112,
     "metadata": {},
     "output_type": "execute_result"
    }
   ],
   "source": [
    "y=y.reshape(N,1)\n",
    "X.shape,y.shape"
   ]
  },
  {
   "cell_type": "code",
   "execution_count": 113,
   "id": "3a3922d5-cdf7-4b4a-8116-8a8337eb60fd",
   "metadata": {
    "colab": {
     "base_uri": "https://localhost:8080/"
    },
    "id": "3a3922d5-cdf7-4b4a-8116-8a8337eb60fd",
    "outputId": "d8ca3d03-d2f6-45f5-c8c8-b1a3cc75c553"
   },
   "outputs": [
    {
     "data": {
      "text/plain": [
       "<tf.Variable 'Variable:0' shape=(2, 1) dtype=float64, numpy=\n",
       "array([[-5.],\n",
       "       [10.]])>"
      ]
     },
     "execution_count": 113,
     "metadata": {},
     "output_type": "execute_result"
    }
   ],
   "source": [
    "beta_hat = tf.Variable(tnp.array([-5.0,10.0]).reshape(2,1))\n",
    "beta_hat"
   ]
  },
  {
   "cell_type": "code",
   "execution_count": 114,
   "id": "b9708d26-8eb6-4426-bcdd-81fcc66a2cd5",
   "metadata": {
    "id": "b9708d26-8eb6-4426-bcdd-81fcc66a2cd5"
   },
   "outputs": [],
   "source": [
    "alpha=0.1"
   ]
  },
  {
   "cell_type": "code",
   "execution_count": 115,
   "id": "7216f213-9020-4b70-8920-feb46f06781b",
   "metadata": {
    "id": "7216f213-9020-4b70-8920-feb46f06781b"
   },
   "outputs": [],
   "source": [
    "opt = tf.optimizers.SGD(alpha) "
   ]
  },
  {
   "cell_type": "code",
   "execution_count": 116,
   "id": "6fafc725-14cb-4c56-8473-b5f27eefb69b",
   "metadata": {
    "id": "6fafc725-14cb-4c56-8473-b5f27eefb69b"
   },
   "outputs": [],
   "source": [
    "def loss_fn():\n",
    "    yhat= X@beta_hat\n",
    "    loss = tf.losses.MSE(y.reshape(-1),yhat.reshape(-1))\n",
    "    return loss"
   ]
  },
  {
   "cell_type": "code",
   "execution_count": 117,
   "id": "be5c8878-91c8-4a21-9267-2a097669b7a1",
   "metadata": {
    "id": "be5c8878-91c8-4a21-9267-2a097669b7a1"
   },
   "outputs": [],
   "source": [
    "for epoc in range(1000):\n",
    "    opt.minimize(loss_fn,beta_hat) # 미분 + update "
   ]
  },
  {
   "cell_type": "code",
   "execution_count": 118,
   "id": "eae70d53-87fd-4389-9393-e73870feb132",
   "metadata": {
    "colab": {
     "base_uri": "https://localhost:8080/"
    },
    "id": "eae70d53-87fd-4389-9393-e73870feb132",
    "outputId": "932d312e-7f00-4d42-9f91-01fc73e03175"
   },
   "outputs": [
    {
     "data": {
      "text/plain": [
       "<tf.Variable 'Variable:0' shape=(2, 1) dtype=float64, numpy=\n",
       "array([[2.58366061],\n",
       "       [3.93304684]])>"
      ]
     },
     "execution_count": 118,
     "metadata": {},
     "output_type": "execute_result"
    }
   ],
   "source": [
    "beta_hat"
   ]
  },
  {
   "cell_type": "markdown",
   "id": "1c725521-bfe4-431e-bf45-9eed25d2d83d",
   "metadata": {
    "id": "1c725521-bfe4-431e-bf45-9eed25d2d83d"
   },
   "source": [
    "#### 풀이6: 벡터버전, 사용자정의 손실함수 <- tf.losses.MeanSquaredError"
   ]
  },
  {
   "cell_type": "markdown",
   "id": "a16611c1-31ef-4ea4-acc5-5d259273b545",
   "metadata": {
    "id": "a16611c1-31ef-4ea4-acc5-5d259273b545"
   },
   "source": [
    "`-` 포인트\n",
    "```python\n",
    "## 포인트코드: 클래스로부터 손실함수 오브젝트 생성 (함수를 찍어내는 클래스) \n",
    "mse_fn = tf.losses.MeanSquaredError()\n",
    "mse_fn(y,yhat)\n",
    "```"
   ]
  },
  {
   "cell_type": "code",
   "execution_count": 119,
   "id": "169ccd7d-7153-41c6-912c-8df9fdad4c9e",
   "metadata": {
    "colab": {
     "base_uri": "https://localhost:8080/"
    },
    "id": "169ccd7d-7153-41c6-912c-8df9fdad4c9e",
    "outputId": "d72bea3d-cab1-45e0-fd10-182d4cdedf6c"
   },
   "outputs": [
    {
     "data": {
      "text/plain": [
       "(TensorShape([200, 2]), TensorShape([200, 1]))"
      ]
     },
     "execution_count": 119,
     "metadata": {},
     "output_type": "execute_result"
    }
   ],
   "source": [
    "y=y.reshape(N,1)\n",
    "X.shape,y.shape"
   ]
  },
  {
   "cell_type": "code",
   "execution_count": 120,
   "id": "570902dd-2e6a-4abf-8645-54de4a7bcc65",
   "metadata": {
    "colab": {
     "base_uri": "https://localhost:8080/"
    },
    "id": "570902dd-2e6a-4abf-8645-54de4a7bcc65",
    "outputId": "4d574034-381e-439c-f6be-afbae382f55a"
   },
   "outputs": [
    {
     "data": {
      "text/plain": [
       "<tf.Variable 'Variable:0' shape=(2, 1) dtype=float64, numpy=\n",
       "array([[-5.],\n",
       "       [10.]])>"
      ]
     },
     "execution_count": 120,
     "metadata": {},
     "output_type": "execute_result"
    }
   ],
   "source": [
    "beta_hat = tf.Variable(tnp.array([-5.0,10.0]).reshape(2,1))\n",
    "beta_hat"
   ]
  },
  {
   "cell_type": "code",
   "execution_count": 121,
   "id": "3a9f71d4-cfa5-430c-8aa5-4d649410dd4f",
   "metadata": {
    "id": "3a9f71d4-cfa5-430c-8aa5-4d649410dd4f"
   },
   "outputs": [],
   "source": [
    "alpha=0.1"
   ]
  },
  {
   "cell_type": "code",
   "execution_count": 122,
   "id": "b375b773-babc-44ca-a86b-65f9306396d2",
   "metadata": {
    "id": "b375b773-babc-44ca-a86b-65f9306396d2"
   },
   "outputs": [],
   "source": [
    "opt = tf.optimizers.SGD(alpha) "
   ]
  },
  {
   "cell_type": "code",
   "execution_count": 123,
   "id": "f06f9668-038d-4e88-954b-dd834000b2b9",
   "metadata": {
    "id": "f06f9668-038d-4e88-954b-dd834000b2b9"
   },
   "outputs": [],
   "source": [
    "mseloss_fn = tf.losses.MeanSquaredError()"
   ]
  },
  {
   "cell_type": "code",
   "execution_count": 124,
   "id": "680a0a97-b663-488e-8bfe-fc39d3dc1b9b",
   "metadata": {
    "colab": {
     "base_uri": "https://localhost:8080/"
    },
    "id": "680a0a97-b663-488e-8bfe-fc39d3dc1b9b",
    "outputId": "8e278ad3-e8e9-484e-84fe-ea8d7e62b53a"
   },
   "outputs": [
    {
     "data": {
      "text/plain": [
       "<tf.Tensor: shape=(), dtype=float64, numpy=0.25493940711021423>"
      ]
     },
     "execution_count": 124,
     "metadata": {},
     "output_type": "execute_result"
    }
   ],
   "source": [
    "mseloss_fn(y.reshape(-1),yhat.reshape(-1))"
   ]
  },
  {
   "cell_type": "code",
   "execution_count": 125,
   "id": "88cdb139-3a76-4745-8404-bcb4bd4751aa",
   "metadata": {
    "id": "88cdb139-3a76-4745-8404-bcb4bd4751aa"
   },
   "outputs": [],
   "source": [
    "def loss_fn():\n",
    "    yhat= X@beta_hat\n",
    "    loss = mseloss_fn(y.reshape(-1),yhat.reshape(-1))\n",
    "    return loss"
   ]
  },
  {
   "cell_type": "code",
   "execution_count": 126,
   "id": "90cabe50-6b57-45f4-8b48-451fb86504eb",
   "metadata": {
    "id": "90cabe50-6b57-45f4-8b48-451fb86504eb"
   },
   "outputs": [],
   "source": [
    "for epoc in range(1000):\n",
    "    opt.minimize(loss_fn,beta_hat) # 미분 + update "
   ]
  },
  {
   "cell_type": "code",
   "execution_count": 127,
   "id": "31d0a581-8db7-45ac-89e8-d48ba181a5bc",
   "metadata": {
    "colab": {
     "base_uri": "https://localhost:8080/"
    },
    "id": "31d0a581-8db7-45ac-89e8-d48ba181a5bc",
    "outputId": "cef18ce7-2703-4415-8b92-71f820b15639"
   },
   "outputs": [
    {
     "data": {
      "text/plain": [
       "<tf.Variable 'Variable:0' shape=(2, 1) dtype=float64, numpy=\n",
       "array([[2.58366061],\n",
       "       [3.93304684]])>"
      ]
     },
     "execution_count": 127,
     "metadata": {},
     "output_type": "execute_result"
    }
   ],
   "source": [
    "beta_hat"
   ]
  },
  {
   "cell_type": "markdown",
   "id": "bc382f53-9b01-44f7-b62c-08dd158132bb",
   "metadata": {
    "id": "bc382f53-9b01-44f7-b62c-08dd158132bb"
   },
   "source": [
    "### tf.keras.Sequential"
   ]
  },
  {
   "cell_type": "markdown",
   "id": "898fb22e-89bf-4e73-94d9-4370898e9592",
   "metadata": {
    "id": "898fb22e-89bf-4e73-94d9-4370898e9592"
   },
   "source": [
    "`-` $\\hat{y}_i=\\hat{\\beta}_0+\\hat{\\beta}_1x_i$ 의 서로다른 표현 "
   ]
  },
  {
   "cell_type": "code",
   "execution_count": 128,
   "id": "d6645006-7871-4cec-959f-4f77cbc7df06",
   "metadata": {
    "id": "d6645006-7871-4cec-959f-4f77cbc7df06"
   },
   "outputs": [],
   "source": [
    "import graphviz\n",
    "def gv(s): return graphviz.Source('digraph G{ rankdir=\"LR\"'+s + '; }')"
   ]
  },
  {
   "cell_type": "code",
   "execution_count": 129,
   "id": "912037ce-376d-4eac-9c01-7dfd2b681549",
   "metadata": {
    "id": "912037ce-376d-4eac-9c01-7dfd2b681549",
    "outputId": "f6555902-99bf-4ecc-af12-222db30aa320"
   },
   "outputs": [
    {
     "data": {
      "image/svg+xml": [
       "<?xml version=\"1.0\" encoding=\"UTF-8\" standalone=\"no\"?>\r\n",
       "<!DOCTYPE svg PUBLIC \"-//W3C//DTD SVG 1.1//EN\"\r\n",
       " \"http://www.w3.org/Graphics/SVG/1.1/DTD/svg11.dtd\">\r\n",
       "<!-- Generated by graphviz version 2.38.0 (20140413.2041)\r\n",
       " -->\r\n",
       "<!-- Title: G Pages: 1 -->\r\n",
       "<svg width=\"604pt\" height=\"98pt\"\r\n",
       " viewBox=\"0.00 0.00 603.87 98.00\" xmlns=\"http://www.w3.org/2000/svg\" xmlns:xlink=\"http://www.w3.org/1999/xlink\">\r\n",
       "<g id=\"graph0\" class=\"graph\" transform=\"scale(1 1) rotate(0) translate(4 94)\">\r\n",
       "<title>G</title>\r\n",
       "<polygon fill=\"white\" stroke=\"none\" points=\"-4,4 -4,-94 599.873,-94 599.873,4 -4,4\"/>\r\n",
       "<!-- 1 -->\r\n",
       "<g id=\"node1\" class=\"node\"><title>1</title>\r\n",
       "<ellipse fill=\"none\" stroke=\"black\" cx=\"27\" cy=\"-72\" rx=\"27\" ry=\"18\"/>\r\n",
       "<text text-anchor=\"middle\" x=\"27\" y=\"-68.3\" font-family=\"Times New Roman,serif\" font-size=\"14.00\">1</text>\r\n",
       "</g>\r\n",
       "<!-- beta0_hat + x*beta1_hat, &#160;&#160;&#160;bias=False -->\r\n",
       "<g id=\"node2\" class=\"node\"><title>beta0_hat + x*beta1_hat, &#160;&#160;&#160;bias=False</title>\r\n",
       "<ellipse fill=\"none\" stroke=\"black\" cx=\"306.437\" cy=\"-45\" rx=\"151.373\" ry=\"18\"/>\r\n",
       "<text text-anchor=\"middle\" x=\"306.437\" y=\"-41.3\" font-family=\"Times New Roman,serif\" font-size=\"14.00\">beta0_hat + x*beta1_hat, &#160;&#160;&#160;bias=False</text>\r\n",
       "</g>\r\n",
       "<!-- 1&#45;&gt;beta0_hat + x*beta1_hat, &#160;&#160;&#160;bias=False -->\r\n",
       "<g id=\"edge1\" class=\"edge\"><title>1&#45;&gt;beta0_hat + x*beta1_hat, &#160;&#160;&#160;bias=False</title>\r\n",
       "<path fill=\"none\" stroke=\"black\" d=\"M53.8514,-69.4842C82.7362,-66.6731 131.643,-61.9135 178.698,-57.3341\"/>\r\n",
       "<polygon fill=\"black\" stroke=\"black\" points=\"179.09,-60.8127 188.703,-56.3604 178.411,-53.8456 179.09,-60.8127\"/>\r\n",
       "<text text-anchor=\"middle\" x=\"104.5\" y=\"-70.8\" font-family=\"Times New Roman,serif\" font-size=\"14.00\">* beta0_hat</text>\r\n",
       "</g>\r\n",
       "<!-- yhat -->\r\n",
       "<g id=\"node4\" class=\"node\"><title>yhat</title>\r\n",
       "<ellipse fill=\"none\" stroke=\"black\" cx=\"568.873\" cy=\"-45\" rx=\"27\" ry=\"18\"/>\r\n",
       "<text text-anchor=\"middle\" x=\"568.873\" y=\"-41.3\" font-family=\"Times New Roman,serif\" font-size=\"14.00\">yhat</text>\r\n",
       "</g>\r\n",
       "<!-- beta0_hat + x*beta1_hat, &#160;&#160;&#160;bias=False&#45;&gt;yhat -->\r\n",
       "<g id=\"edge3\" class=\"edge\"><title>beta0_hat + x*beta1_hat, &#160;&#160;&#160;bias=False&#45;&gt;yhat</title>\r\n",
       "<path fill=\"none\" stroke=\"black\" d=\"M458.179,-45C485.641,-45 511.853,-45 531.764,-45\"/>\r\n",
       "<polygon fill=\"black\" stroke=\"black\" points=\"531.859,-48.5001 541.859,-45 531.859,-41.5001 531.859,-48.5001\"/>\r\n",
       "<text text-anchor=\"middle\" x=\"499.873\" y=\"-48.8\" font-family=\"Times New Roman,serif\" font-size=\"14.00\">indentity</text>\r\n",
       "</g>\r\n",
       "<!-- x -->\r\n",
       "<g id=\"node3\" class=\"node\"><title>x</title>\r\n",
       "<ellipse fill=\"none\" stroke=\"black\" cx=\"27\" cy=\"-18\" rx=\"27\" ry=\"18\"/>\r\n",
       "<text text-anchor=\"middle\" x=\"27\" y=\"-14.3\" font-family=\"Times New Roman,serif\" font-size=\"14.00\">x</text>\r\n",
       "</g>\r\n",
       "<!-- x&#45;&gt;beta0_hat + x*beta1_hat, &#160;&#160;&#160;bias=False -->\r\n",
       "<g id=\"edge2\" class=\"edge\"><title>x&#45;&gt;beta0_hat + x*beta1_hat, &#160;&#160;&#160;bias=False</title>\r\n",
       "<path fill=\"none\" stroke=\"black\" d=\"M53.8514,-20.5158C82.7362,-23.3269 131.643,-28.0865 178.698,-32.6659\"/>\r\n",
       "<polygon fill=\"black\" stroke=\"black\" points=\"178.411,-36.1544 188.703,-33.6396 179.09,-29.1873 178.411,-36.1544\"/>\r\n",
       "<text text-anchor=\"middle\" x=\"104.5\" y=\"-31.8\" font-family=\"Times New Roman,serif\" font-size=\"14.00\">* beta1_hat</text>\r\n",
       "</g>\r\n",
       "</g>\r\n",
       "</svg>\r\n"
      ],
      "text/plain": [
       "<graphviz.files.Source at 0x1c3bf7286a0>"
      ]
     },
     "execution_count": 129,
     "metadata": {},
     "output_type": "execute_result"
    }
   ],
   "source": [
    "gv(''' \n",
    "    \"1\" -> \"beta0_hat + x*beta1_hat,    bias=False\"[label=\"* beta0_hat\"]\n",
    "    \"x\" -> \"beta0_hat + x*beta1_hat,    bias=False\"[label=\"* beta1_hat\"]\n",
    "    \"beta0_hat + x*beta1_hat,    bias=False\" -> \"yhat\"[label=\"indentity\"]\n",
    "    ''')"
   ]
  },
  {
   "cell_type": "code",
   "execution_count": 130,
   "id": "a57cf1ac-1e13-488b-9d5e-dc9323b8864f",
   "metadata": {
    "id": "a57cf1ac-1e13-488b-9d5e-dc9323b8864f",
    "outputId": "e993c807-1aa2-4406-e6a5-a19dbcd401ac"
   },
   "outputs": [
    {
     "data": {
      "image/svg+xml": [
       "<?xml version=\"1.0\" encoding=\"UTF-8\" standalone=\"no\"?>\r\n",
       "<!DOCTYPE svg PUBLIC \"-//W3C//DTD SVG 1.1//EN\"\r\n",
       " \"http://www.w3.org/Graphics/SVG/1.1/DTD/svg11.dtd\">\r\n",
       "<!-- Generated by graphviz version 2.38.0 (20140413.2041)\r\n",
       " -->\r\n",
       "<!-- Title: G Pages: 1 -->\r\n",
       "<svg width=\"505pt\" height=\"44pt\"\r\n",
       " viewBox=\"0.00 0.00 504.98 44.00\" xmlns=\"http://www.w3.org/2000/svg\" xmlns:xlink=\"http://www.w3.org/1999/xlink\">\r\n",
       "<g id=\"graph0\" class=\"graph\" transform=\"scale(1 1) rotate(0) translate(4 40)\">\r\n",
       "<title>G</title>\r\n",
       "<polygon fill=\"white\" stroke=\"none\" points=\"-4,4 -4,-40 500.982,-40 500.982,4 -4,4\"/>\r\n",
       "<!-- x -->\r\n",
       "<g id=\"node1\" class=\"node\"><title>x</title>\r\n",
       "<ellipse fill=\"none\" stroke=\"black\" cx=\"27\" cy=\"-18\" rx=\"27\" ry=\"18\"/>\r\n",
       "<text text-anchor=\"middle\" x=\"27\" y=\"-14.3\" font-family=\"Times New Roman,serif\" font-size=\"14.00\">x</text>\r\n",
       "</g>\r\n",
       "<!-- x*beta1_hat, &#160;&#160;&#160;bias=True -->\r\n",
       "<g id=\"node2\" class=\"node\"><title>x*beta1_hat, &#160;&#160;&#160;bias=True</title>\r\n",
       "<ellipse fill=\"none\" stroke=\"black\" cx=\"254.991\" cy=\"-18\" rx=\"103.982\" ry=\"18\"/>\r\n",
       "<text text-anchor=\"middle\" x=\"254.991\" y=\"-14.3\" font-family=\"Times New Roman,serif\" font-size=\"14.00\">x*beta1_hat, &#160;&#160;&#160;bias=True</text>\r\n",
       "</g>\r\n",
       "<!-- x&#45;&gt;x*beta1_hat, &#160;&#160;&#160;bias=True -->\r\n",
       "<g id=\"edge1\" class=\"edge\"><title>x&#45;&gt;x*beta1_hat, &#160;&#160;&#160;bias=True</title>\r\n",
       "<path fill=\"none\" stroke=\"black\" d=\"M54.3663,-18C76.0502,-18 108.371,-18 140.722,-18\"/>\r\n",
       "<polygon fill=\"black\" stroke=\"black\" points=\"140.751,-21.5001 150.751,-18 140.751,-14.5001 140.751,-21.5001\"/>\r\n",
       "<text text-anchor=\"middle\" x=\"102.5\" y=\"-21.8\" font-family=\"Times New Roman,serif\" font-size=\"14.00\">*beta1_hat</text>\r\n",
       "</g>\r\n",
       "<!-- yhat -->\r\n",
       "<g id=\"node3\" class=\"node\"><title>yhat</title>\r\n",
       "<ellipse fill=\"none\" stroke=\"black\" cx=\"469.982\" cy=\"-18\" rx=\"27\" ry=\"18\"/>\r\n",
       "<text text-anchor=\"middle\" x=\"469.982\" y=\"-14.3\" font-family=\"Times New Roman,serif\" font-size=\"14.00\">yhat</text>\r\n",
       "</g>\r\n",
       "<!-- x*beta1_hat, &#160;&#160;&#160;bias=True&#45;&gt;yhat -->\r\n",
       "<g id=\"edge2\" class=\"edge\"><title>x*beta1_hat, &#160;&#160;&#160;bias=True&#45;&gt;yhat</title>\r\n",
       "<path fill=\"none\" stroke=\"black\" d=\"M359.055,-18C385.458,-18 412.143,-18 432.609,-18\"/>\r\n",
       "<polygon fill=\"black\" stroke=\"black\" points=\"432.71,-21.5001 442.71,-18 432.71,-14.5001 432.71,-21.5001\"/>\r\n",
       "<text text-anchor=\"middle\" x=\"400.982\" y=\"-21.8\" font-family=\"Times New Roman,serif\" font-size=\"14.00\">indentity</text>\r\n",
       "</g>\r\n",
       "</g>\r\n",
       "</svg>\r\n"
      ],
      "text/plain": [
       "<graphviz.files.Source at 0x1c3d9d58d60>"
      ]
     },
     "execution_count": 130,
     "metadata": {},
     "output_type": "execute_result"
    }
   ],
   "source": [
    "gv('''\n",
    "\"x\" -> \"x*beta1_hat,    bias=True\"[label=\"*beta1_hat\"] ;\n",
    "\"x*beta1_hat,    bias=True\" -> \"yhat\"[label=\"indentity\"] ''')\n"
   ]
  },
  {
   "cell_type": "code",
   "execution_count": 131,
   "id": "6b6cacce-e9e7-40cc-8481-0eaabbedb4dc",
   "metadata": {
    "id": "6b6cacce-e9e7-40cc-8481-0eaabbedb4dc",
    "outputId": "c4eac741-39d2-4a03-a974-6f3bf92d14ae"
   },
   "outputs": [
    {
     "data": {
      "image/svg+xml": [
       "<?xml version=\"1.0\" encoding=\"UTF-8\" standalone=\"no\"?>\r\n",
       "<!DOCTYPE svg PUBLIC \"-//W3C//DTD SVG 1.1//EN\"\r\n",
       " \"http://www.w3.org/Graphics/SVG/1.1/DTD/svg11.dtd\">\r\n",
       "<!-- Generated by graphviz version 2.38.0 (20140413.2041)\r\n",
       " -->\r\n",
       "<!-- Title: G Pages: 1 -->\r\n",
       "<svg width=\"537pt\" height=\"44pt\"\r\n",
       " viewBox=\"0.00 0.00 536.77 44.00\" xmlns=\"http://www.w3.org/2000/svg\" xmlns:xlink=\"http://www.w3.org/1999/xlink\">\r\n",
       "<g id=\"graph0\" class=\"graph\" transform=\"scale(1 1) rotate(0) translate(4 40)\">\r\n",
       "<title>G</title>\r\n",
       "<polygon fill=\"white\" stroke=\"none\" points=\"-4,4 -4,-40 532.774,-40 532.774,4 -4,4\"/>\r\n",
       "<!-- X=[1 x] -->\r\n",
       "<g id=\"node1\" class=\"node\"><title>X=[1 x]</title>\r\n",
       "<ellipse fill=\"none\" stroke=\"black\" cx=\"39.6465\" cy=\"-18\" rx=\"39.7935\" ry=\"18\"/>\r\n",
       "<text text-anchor=\"middle\" x=\"39.6465\" y=\"-14.3\" font-family=\"Times New Roman,serif\" font-size=\"14.00\">X=[1 x]</text>\r\n",
       "</g>\r\n",
       "<!-- X@beta_hat, &#160;&#160;&#160;bias=False -->\r\n",
       "<g id=\"node2\" class=\"node\"><title>X@beta_hat, &#160;&#160;&#160;bias=False</title>\r\n",
       "<ellipse fill=\"none\" stroke=\"black\" cx=\"283.533\" cy=\"-18\" rx=\"107.482\" ry=\"18\"/>\r\n",
       "<text text-anchor=\"middle\" x=\"283.533\" y=\"-14.3\" font-family=\"Times New Roman,serif\" font-size=\"14.00\">X@beta_hat, &#160;&#160;&#160;bias=False</text>\r\n",
       "</g>\r\n",
       "<!-- X=[1 x]&#45;&gt;X@beta_hat, &#160;&#160;&#160;bias=False -->\r\n",
       "<g id=\"edge1\" class=\"edge\"><title>X=[1 x]&#45;&gt;X@beta_hat, &#160;&#160;&#160;bias=False</title>\r\n",
       "<path fill=\"none\" stroke=\"black\" d=\"M79.5098,-18C103.189,-18 134.816,-18 166.047,-18\"/>\r\n",
       "<polygon fill=\"black\" stroke=\"black\" points=\"166.162,-21.5001 176.162,-18 166.162,-14.5001 166.162,-21.5001\"/>\r\n",
       "<text text-anchor=\"middle\" x=\"127.793\" y=\"-21.8\" font-family=\"Times New Roman,serif\" font-size=\"14.00\">@beta_hat</text>\r\n",
       "</g>\r\n",
       "<!-- yhat -->\r\n",
       "<g id=\"node3\" class=\"node\"><title>yhat</title>\r\n",
       "<ellipse fill=\"none\" stroke=\"black\" cx=\"501.774\" cy=\"-18\" rx=\"27\" ry=\"18\"/>\r\n",
       "<text text-anchor=\"middle\" x=\"501.774\" y=\"-14.3\" font-family=\"Times New Roman,serif\" font-size=\"14.00\">yhat</text>\r\n",
       "</g>\r\n",
       "<!-- X@beta_hat, &#160;&#160;&#160;bias=False&#45;&gt;yhat -->\r\n",
       "<g id=\"edge2\" class=\"edge\"><title>X@beta_hat, &#160;&#160;&#160;bias=False&#45;&gt;yhat</title>\r\n",
       "<path fill=\"none\" stroke=\"black\" d=\"M391.07,-18C417.578,-18 444.214,-18 464.601,-18\"/>\r\n",
       "<polygon fill=\"black\" stroke=\"black\" points=\"464.658,-21.5001 474.658,-18 464.658,-14.5001 464.658,-21.5001\"/>\r\n",
       "<text text-anchor=\"middle\" x=\"432.774\" y=\"-21.8\" font-family=\"Times New Roman,serif\" font-size=\"14.00\">indentity</text>\r\n",
       "</g>\r\n",
       "</g>\r\n",
       "</svg>\r\n"
      ],
      "text/plain": [
       "<graphviz.files.Source at 0x1c3d7b6a790>"
      ]
     },
     "execution_count": 131,
     "metadata": {},
     "output_type": "execute_result"
    }
   ],
   "source": [
    "gv('''\n",
    "\"X=[1 x]\" -> \"X@beta_hat,    bias=False\"[label=\"@beta_hat\"] ;\n",
    "\"X@beta_hat,    bias=False\" -> \"yhat\"[label=\"indentity\"] ''')\n"
   ]
  },
  {
   "cell_type": "markdown",
   "id": "755caa9d-a9d5-40b0-9006-bbc9bbb64800",
   "metadata": {
    "id": "755caa9d-a9d5-40b0-9006-bbc9bbb64800"
   },
   "source": [
    "#### 풀이1: 벡터버전, 사용자정의 손실함수 "
   ]
  },
  {
   "cell_type": "markdown",
   "id": "15875d56-087b-4ea5-abd7-1e7ce4225aad",
   "metadata": {
    "id": "15875d56-087b-4ea5-abd7-1e7ce4225aad"
   },
   "source": [
    "`-` 포인트\n",
    "```python\n",
    "## 포인트코드1: 네트워크 생성 \n",
    "net = tf.keras.Sequential()\n",
    "\n",
    "## 포인트코드2: 네트워크의 아키텍처 설계 \n",
    "net.add(tf.keras.layers.Dense(1,input_shape=(2,),use_bias=False)) \n",
    "\n",
    "## 포인트코드3: 네트워크 컴파일 = 아키텍처 + 손실함수 + 옵티마이저\n",
    "net.compile(opt,loss=loss_fn2)\n",
    "\n",
    "## 포인트코드4: 미분 & update \n",
    "net.fit(X,y,epochs=1000,verbose=0,batch_size=N) \n",
    "```"
   ]
  },
  {
   "cell_type": "code",
   "execution_count": 132,
   "id": "a62a7520-321c-4721-8c39-92c9d3bbdf27",
   "metadata": {
    "colab": {
     "base_uri": "https://localhost:8080/"
    },
    "id": "a62a7520-321c-4721-8c39-92c9d3bbdf27",
    "outputId": "ab36e0e4-1e34-4764-832a-5dba1c85046c"
   },
   "outputs": [
    {
     "data": {
      "text/plain": [
       "(TensorShape([200, 2]), TensorShape([200, 1]))"
      ]
     },
     "execution_count": 132,
     "metadata": {},
     "output_type": "execute_result"
    }
   ],
   "source": [
    "y=y.reshape(N,1)\n",
    "X.shape,y.shape"
   ]
  },
  {
   "cell_type": "code",
   "execution_count": 133,
   "id": "d2a1a727-65cd-45e3-9835-ea86a5496f34",
   "metadata": {
    "id": "d2a1a727-65cd-45e3-9835-ea86a5496f34"
   },
   "outputs": [],
   "source": [
    "net = tf.keras.Sequential() \n",
    "net.add(tf.keras.layers.Dense(units=1,input_shape=(2,),use_bias=False)) # 아키텍처 설계 = yhat을 만들계획 \n",
    "# dimension=p (여기에서는 y의 dimension이 1, X의 dimension이 2이다.) \n",
    "# net.add(tf.keras.layers.Dense(units=1,input_dim=2,use_bias=False))"
   ]
  },
  {
   "cell_type": "code",
   "execution_count": 122,
   "id": "61ceaec8-fdba-485f-b7d1-12c0f3d723e4",
   "metadata": {
    "id": "61ceaec8-fdba-485f-b7d1-12c0f3d723e4"
   },
   "outputs": [],
   "source": [
    "# def loss_fn2(y,yhat): ## 손실함수의 정의 \n",
    "#     return (y-yhat).T @ (y-yhat) / N  "
   ]
  },
  {
   "cell_type": "code",
   "execution_count": 134,
   "id": "0d1e1a1f-68ac-47c9-bf91-062e64039982",
   "metadata": {
    "id": "0d1e1a1f-68ac-47c9-bf91-062e64039982"
   },
   "outputs": [],
   "source": [
    "alpha=0.1"
   ]
  },
  {
   "cell_type": "code",
   "execution_count": 135,
   "id": "afda8f38-3de2-4c3f-80ab-547b7265183e",
   "metadata": {
    "id": "afda8f38-3de2-4c3f-80ab-547b7265183e"
   },
   "outputs": [],
   "source": [
    "opt=tf.optimizers.SGD(alpha) ## 옵티마이저의 선택 "
   ]
  },
  {
   "cell_type": "code",
   "execution_count": 136,
   "id": "1jo9PMoHmIJh",
   "metadata": {
    "id": "1jo9PMoHmIJh"
   },
   "outputs": [],
   "source": [
    "_w = net.get_weights() # 임의로 정해진 초기값"
   ]
  },
  {
   "cell_type": "code",
   "execution_count": 137,
   "id": "AumLfOWTmWB3",
   "metadata": {
    "colab": {
     "base_uri": "https://localhost:8080/"
    },
    "id": "AumLfOWTmWB3",
    "outputId": "c5822c53-aaa8-43b3-c2b3-73da0201b616"
   },
   "outputs": [
    {
     "data": {
      "text/plain": [
       "list"
      ]
     },
     "execution_count": 137,
     "metadata": {},
     "output_type": "execute_result"
    }
   ],
   "source": [
    "type(_w)"
   ]
  },
  {
   "cell_type": "code",
   "execution_count": 138,
   "id": "rTN4XtrEmeHS",
   "metadata": {
    "colab": {
     "base_uri": "https://localhost:8080/"
    },
    "id": "rTN4XtrEmeHS",
    "outputId": "5df6b9b4-d212-4ade-8c32-0ea0e23ad375"
   },
   "outputs": [
    {
     "data": {
      "text/plain": [
       "array([[-0.8437647],\n",
       "       [ 1.1076161]], dtype=float32)"
      ]
     },
     "execution_count": 138,
     "metadata": {},
     "output_type": "execute_result"
    }
   ],
   "source": [
    "_w[0]"
   ]
  },
  {
   "cell_type": "code",
   "execution_count": 139,
   "id": "zvkRDDU3mmYD",
   "metadata": {
    "colab": {
     "base_uri": "https://localhost:8080/"
    },
    "id": "zvkRDDU3mmYD",
    "outputId": "f2c0d062-caa2-44ed-c48d-41f98ffdcf9a"
   },
   "outputs": [
    {
     "data": {
      "text/plain": [
       "[array([[-5.],\n",
       "        [10.]], dtype=float32)]"
      ]
     },
     "execution_count": 139,
     "metadata": {},
     "output_type": "execute_result"
    }
   ],
   "source": [
    "_w = [np.array([[-5.0],[10.0]],dtype=np.float32)]\n",
    "_w"
   ]
  },
  {
   "cell_type": "code",
   "execution_count": 140,
   "id": "kBRj0i8TmMOP",
   "metadata": {
    "colab": {
     "base_uri": "https://localhost:8080/"
    },
    "id": "kBRj0i8TmMOP",
    "outputId": "f93bce67-9975-4781-bcc4-00cc3139c08e"
   },
   "outputs": [
    {
     "data": {
      "text/plain": [
       "[array([[-5.],\n",
       "        [10.]], dtype=float32)]"
      ]
     },
     "execution_count": 140,
     "metadata": {},
     "output_type": "execute_result"
    }
   ],
   "source": [
    "net.set_weights(_w) # 초기값 설정\n",
    "net.get_weights()"
   ]
  },
  {
   "cell_type": "code",
   "execution_count": 141,
   "id": "d642a625-1583-42bd-a2e5-7f41430b3664",
   "metadata": {
    "id": "d642a625-1583-42bd-a2e5-7f41430b3664"
   },
   "outputs": [],
   "source": [
    "# net.compile(opt,loss=loss_fn2) ## 컴파일 = 아키텍처 + 손실함수 + 옵티마이저 \n",
    "net.compile(opt,loss=tf.losses.MSE) # 함수 loss_fn2 와 동일한 효과"
   ]
  },
  {
   "cell_type": "code",
   "execution_count": 142,
   "id": "0a014d4b-8f4a-4f3a-aa99-103986e8cf3c",
   "metadata": {
    "colab": {
     "base_uri": "https://localhost:8080/"
    },
    "id": "0a014d4b-8f4a-4f3a-aa99-103986e8cf3c",
    "outputId": "8c42d8f3-bfa4-4a90-f524-f2e9c8962fdf"
   },
   "outputs": [
    {
     "data": {
      "text/plain": [
       "<keras.callbacks.History at 0x1c3d9e77f70>"
      ]
     },
     "execution_count": 142,
     "metadata": {},
     "output_type": "execute_result"
    }
   ],
   "source": [
    "net.fit(X,y,epochs=1000,verbose=0,batch_size=N) # 미분 & update 의 반복"
   ]
  },
  {
   "cell_type": "code",
   "execution_count": 143,
   "id": "e6103d8f-4dc9-48ec-9489-bdd1a6332bb9",
   "metadata": {
    "colab": {
     "base_uri": "https://localhost:8080/"
    },
    "id": "e6103d8f-4dc9-48ec-9489-bdd1a6332bb9",
    "outputId": "a7114c1e-932c-43d4-865c-2c4cf6cac057"
   },
   "outputs": [
    {
     "data": {
      "text/plain": [
       "[<tf.Variable 'dense/kernel:0' shape=(2, 1) dtype=float32, numpy=\n",
       " array([[2.58366 ],\n",
       "        [3.933048]], dtype=float32)>]"
      ]
     },
     "execution_count": 143,
     "metadata": {},
     "output_type": "execute_result"
    }
   ],
   "source": [
    "net.weights"
   ]
  },
  {
   "cell_type": "code",
   "execution_count": null,
   "id": "BcyLmFosoXzX",
   "metadata": {
    "id": "BcyLmFosoXzX"
   },
   "outputs": [],
   "source": []
  },
  {
   "cell_type": "code",
   "execution_count": null,
   "id": "uR4rxdRCpE-B",
   "metadata": {
    "id": "uR4rxdRCpE-B"
   },
   "outputs": [],
   "source": []
  }
 ],
 "metadata": {
  "colab": {
   "name": "2022-03-30-(5주차) 4월4일 - draft.ipynb",
   "provenance": []
  },
  "kernelspec": {
   "display_name": "Python 3 (ipykernel)",
   "language": "python",
   "name": "python3"
  },
  "language_info": {
   "codemirror_mode": {
    "name": "ipython",
    "version": 3
   },
   "file_extension": ".py",
   "mimetype": "text/x-python",
   "name": "python",
   "nbconvert_exporter": "python",
   "pygments_lexer": "ipython3",
   "version": "3.8.12"
  }
 },
 "nbformat": 4,
 "nbformat_minor": 5
}
