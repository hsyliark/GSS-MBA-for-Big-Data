{
 "cells": [
  {
   "cell_type": "markdown",
   "id": "904c2d8f-accf-4a4a-86b3-e9a6361ba29a",
   "metadata": {
    "id": "904c2d8f-accf-4a4a-86b3-e9a6361ba29a"
   },
   "source": [
    "# (2주차) 3월14일, draft\n",
    "\n",
    "- toc:true\n",
    "- branch: master\n",
    "- badges: true\n",
    "- comments: true\n",
    "- author: 최규빈"
   ]
  },
  {
   "cell_type": "code",
   "execution_count": 1,
   "id": "e18d4288-4668-45c2-a66f-5bb76f5b9ca2",
   "metadata": {
    "id": "e18d4288-4668-45c2-a66f-5bb76f5b9ca2"
   },
   "outputs": [],
   "source": [
    "import tensorflow as tf\n",
    "import numpy as np"
   ]
  },
  {
   "cell_type": "code",
   "execution_count": 2,
   "id": "c4a78936-73df-4a20-8041-0d76aa07fd0f",
   "metadata": {
    "colab": {
     "base_uri": "https://localhost:8080/"
    },
    "id": "c4a78936-73df-4a20-8041-0d76aa07fd0f",
    "outputId": "28169a0f-4799-4862-baff-d0831f845098"
   },
   "outputs": [
    {
     "data": {
      "text/plain": [
       "[]"
      ]
     },
     "execution_count": 2,
     "metadata": {},
     "output_type": "execute_result"
    }
   ],
   "source": [
    "tf.config.experimental.list_physical_devices('GPU')"
   ]
  },
  {
   "cell_type": "markdown",
   "id": "1f7d8172-8b82-4777-b922-aa46ea9e5a48",
   "metadata": {
    "id": "1f7d8172-8b82-4777-b922-aa46ea9e5a48"
   },
   "source": [
    "### tf.constant "
   ]
  },
  {
   "cell_type": "markdown",
   "id": "19d1b4f6-91ae-4638-b332-103dadaf6473",
   "metadata": {
    "id": "19d1b4f6-91ae-4638-b332-103dadaf6473"
   },
   "source": [
    "#### 예비학습: 중첩리스트 "
   ]
  },
  {
   "cell_type": "code",
   "execution_count": 3,
   "id": "4v69kwEM6y8D",
   "metadata": {
    "colab": {
     "base_uri": "https://localhost:8080/"
    },
    "id": "4v69kwEM6y8D",
    "outputId": "995e4562-24f5-451a-8bb1-0812e630bf95"
   },
   "outputs": [
    {
     "data": {
      "text/plain": [
       "[1, 2, 3, 4, 5, 6]"
      ]
     },
     "execution_count": 3,
     "metadata": {},
     "output_type": "execute_result"
    }
   ],
   "source": [
    "lst = [1,2,3,4,5,6]\n",
    "lst"
   ]
  },
  {
   "cell_type": "code",
   "execution_count": 4,
   "id": "qtTuRdh16y-z",
   "metadata": {
    "colab": {
     "base_uri": "https://localhost:8080/"
    },
    "id": "qtTuRdh16y-z",
    "outputId": "7d68ffde-2ec4-4150-fd66-be1e77336d07"
   },
   "outputs": [
    {
     "data": {
      "text/plain": [
       "1"
      ]
     },
     "execution_count": 4,
     "metadata": {},
     "output_type": "execute_result"
    }
   ],
   "source": [
    "lst[0] # 첫번째 원소"
   ]
  },
  {
   "cell_type": "code",
   "execution_count": 5,
   "id": "AYwbTlsK6zBi",
   "metadata": {
    "colab": {
     "base_uri": "https://localhost:8080/"
    },
    "id": "AYwbTlsK6zBi",
    "outputId": "ee65b586-c9af-4ba0-e636-5f8e787abbd5"
   },
   "outputs": [
    {
     "data": {
      "text/plain": [
       "2"
      ]
     },
     "execution_count": 5,
     "metadata": {},
     "output_type": "execute_result"
    }
   ],
   "source": [
    "lst[1] # 두번째 원소"
   ]
  },
  {
   "cell_type": "code",
   "execution_count": 6,
   "id": "-E1w2K_z6zET",
   "metadata": {
    "colab": {
     "base_uri": "https://localhost:8080/"
    },
    "id": "-E1w2K_z6zET",
    "outputId": "70d5acae-6102-4862-b03c-ac5a1642047e"
   },
   "outputs": [
    {
     "data": {
      "text/plain": [
       "6"
      ]
     },
     "execution_count": 6,
     "metadata": {},
     "output_type": "execute_result"
    }
   ],
   "source": [
    "lst[-1] # 마지막 원소"
   ]
  },
  {
   "cell_type": "markdown",
   "id": "sIpJ7OCq7qpz",
   "metadata": {
    "id": "sIpJ7OCq7qpz"
   },
   "source": [
    "`-` list의 특이한 점"
   ]
  },
  {
   "cell_type": "code",
   "execution_count": 7,
   "id": "_SatLlX47IZS",
   "metadata": {
    "colab": {
     "base_uri": "https://localhost:8080/"
    },
    "id": "_SatLlX47IZS",
    "outputId": "7d5e2faa-0222-4962-e5d6-18da212a1a98"
   },
   "outputs": [
    {
     "data": {
      "text/plain": [
       "[1, [1, 2, 3], [3, 4]]"
      ]
     },
     "execution_count": 7,
     "metadata": {},
     "output_type": "execute_result"
    }
   ],
   "source": [
    "lst = [1,[1,2,3],[3,4]]\n",
    "lst"
   ]
  },
  {
   "cell_type": "code",
   "execution_count": 8,
   "id": "DbCBDxwy7Ibz",
   "metadata": {
    "colab": {
     "base_uri": "https://localhost:8080/"
    },
    "id": "DbCBDxwy7Ibz",
    "outputId": "6557cc82-3cdd-4ad6-c975-8098c0e3bab9"
   },
   "outputs": [
    {
     "data": {
      "text/plain": [
       "[3, 4]"
      ]
     },
     "execution_count": 8,
     "metadata": {},
     "output_type": "execute_result"
    }
   ],
   "source": [
    "lst[2]"
   ]
  },
  {
   "cell_type": "code",
   "execution_count": 9,
   "id": "xKwXNld_7ebM",
   "metadata": {
    "colab": {
     "base_uri": "https://localhost:8080/"
    },
    "id": "xKwXNld_7ebM",
    "outputId": "3388eeae-302c-42fc-816a-dd5aab5eef5d"
   },
   "outputs": [
    {
     "data": {
      "text/plain": [
       "3"
      ]
     },
     "execution_count": 9,
     "metadata": {},
     "output_type": "execute_result"
    }
   ],
   "source": [
    "lst[2][0]"
   ]
  },
  {
   "cell_type": "code",
   "execution_count": 10,
   "id": "ptrvUepl7ed7",
   "metadata": {
    "colab": {
     "base_uri": "https://localhost:8080/"
    },
    "id": "ptrvUepl7ed7",
    "outputId": "2d0e9ccf-6b37-4786-ae04-9b29f2bb29af"
   },
   "outputs": [
    {
     "data": {
      "text/plain": [
       "[[1, 2], [3, 4]]"
      ]
     },
     "execution_count": 10,
     "metadata": {},
     "output_type": "execute_result"
    }
   ],
   "source": [
    "lst = [[1,2],[3,4]]\n",
    "lst"
   ]
  },
  {
   "cell_type": "markdown",
   "id": "StmANzev7ydM",
   "metadata": {
    "id": "StmANzev7ydM"
   },
   "source": [
    "위를 아래와 같은 매트릭스로 생각할 수 있다."
   ]
  },
  {
   "cell_type": "markdown",
   "id": "vNTJsFGD9NAb",
   "metadata": {
    "id": "vNTJsFGD9NAb"
   },
   "source": [
    "$$ \\left[\n",
    "\\begin{matrix}\n",
    "    1 & 2 \\\\\n",
    "    3 & 4 \\\\\n",
    "\\end{matrix}\n",
    "\\right] $$"
   ]
  },
  {
   "cell_type": "code",
   "execution_count": 11,
   "id": "tEFE3q1T7l6k",
   "metadata": {
    "colab": {
     "base_uri": "https://localhost:8080/"
    },
    "id": "tEFE3q1T7l6k",
    "outputId": "d89bee1d-9710-4abf-86c6-23b241dadbc0"
   },
   "outputs": [
    {
     "name": "stdout",
     "output_type": "stream",
     "text": [
      "1\n",
      "2\n",
      "3\n",
      "4\n"
     ]
    }
   ],
   "source": [
    "print(lst[0][0]) # (1,1)\n",
    "print(lst[0][1]) # (1,2)\n",
    "print(lst[1][0]) # (2,1)\n",
    "print(lst[1][1]) # (2,2)"
   ]
  },
  {
   "cell_type": "markdown",
   "id": "3kYek6_n8XKz",
   "metadata": {
    "id": "3kYek6_n8XKz"
   },
   "source": [
    "`-` (4,2) matrix 느낌의 lst"
   ]
  },
  {
   "cell_type": "code",
   "execution_count": 12,
   "id": "_4CWiel-7l9D",
   "metadata": {
    "colab": {
     "base_uri": "https://localhost:8080/"
    },
    "id": "_4CWiel-7l9D",
    "outputId": "7911685d-60d2-41c9-f751-69bc97cc806b"
   },
   "outputs": [
    {
     "data": {
      "text/plain": [
       "[[1, 2], [2, 3], [3, 4], [4, 5]]"
      ]
     },
     "execution_count": 12,
     "metadata": {},
     "output_type": "execute_result"
    }
   ],
   "source": [
    "lst = [[1,2],[2,3],[3,4],[4,5]]\n",
    "lst"
   ]
  },
  {
   "cell_type": "code",
   "execution_count": 13,
   "id": "oil_Txa27l_b",
   "metadata": {
    "colab": {
     "base_uri": "https://localhost:8080/"
    },
    "id": "oil_Txa27l_b",
    "outputId": "75e35bbc-02a4-416b-fa90-e91f91f3a8ae"
   },
   "outputs": [
    {
     "data": {
      "text/plain": [
       "array([[1, 2],\n",
       "       [2, 3],\n",
       "       [3, 4],\n",
       "       [4, 5]])"
      ]
     },
     "execution_count": 13,
     "metadata": {},
     "output_type": "execute_result"
    }
   ],
   "source": [
    "np.array(lst)"
   ]
  },
  {
   "cell_type": "markdown",
   "id": "c7o8CEnv81cL",
   "metadata": {
    "id": "c7o8CEnv81cL"
   },
   "source": [
    "`-` (1,4) matrix 느낌의 lst"
   ]
  },
  {
   "cell_type": "code",
   "execution_count": 14,
   "id": "II0u4A8-7mBu",
   "metadata": {
    "colab": {
     "base_uri": "https://localhost:8080/"
    },
    "id": "II0u4A8-7mBu",
    "outputId": "69dd8af7-f21f-41b8-adb3-dbf1488a5a5f"
   },
   "outputs": [
    {
     "data": {
      "text/plain": [
       "[[1, 2, 3, 4]]"
      ]
     },
     "execution_count": 14,
     "metadata": {},
     "output_type": "execute_result"
    }
   ],
   "source": [
    "lst = [[1,2,3,4]]\n",
    "lst"
   ]
  },
  {
   "cell_type": "code",
   "execution_count": 15,
   "id": "12oaRoBb7mD0",
   "metadata": {
    "colab": {
     "base_uri": "https://localhost:8080/"
    },
    "id": "12oaRoBb7mD0",
    "outputId": "881fb4bf-15cb-4d8c-8518-ba369bbc9ccf"
   },
   "outputs": [
    {
     "data": {
      "text/plain": [
       "(1, 4)"
      ]
     },
     "execution_count": 15,
     "metadata": {},
     "output_type": "execute_result"
    }
   ],
   "source": [
    "np.array(lst).shape"
   ]
  },
  {
   "cell_type": "markdown",
   "id": "6a4dd379-e9c5-4e5d-a3ec-c2383ae1ac56",
   "metadata": {
    "id": "6a4dd379-e9c5-4e5d-a3ec-c2383ae1ac56"
   },
   "source": [
    "#### 선언"
   ]
  },
  {
   "cell_type": "markdown",
   "id": "u06xvtq69REj",
   "metadata": {
    "id": "u06xvtq69REj"
   },
   "source": [
    "`-` 스칼라"
   ]
  },
  {
   "cell_type": "code",
   "execution_count": 16,
   "id": "6J-owmCb9TjF",
   "metadata": {
    "colab": {
     "base_uri": "https://localhost:8080/"
    },
    "id": "6J-owmCb9TjF",
    "outputId": "d97bd438-98ef-4ca5-da61-b3f43da9a4c3"
   },
   "outputs": [
    {
     "data": {
      "text/plain": [
       "<tf.Tensor: shape=(), dtype=float32, numpy=3.14>"
      ]
     },
     "execution_count": 16,
     "metadata": {},
     "output_type": "execute_result"
    }
   ],
   "source": [
    "tf.constant(3.14)"
   ]
  },
  {
   "cell_type": "code",
   "execution_count": 17,
   "id": "ek2jVSjo9Tlj",
   "metadata": {
    "colab": {
     "base_uri": "https://localhost:8080/"
    },
    "id": "ek2jVSjo9Tlj",
    "outputId": "de4d9772-7e83-4cdb-d0bc-76738dc2ace7"
   },
   "outputs": [
    {
     "data": {
      "text/plain": [
       "<tf.Tensor: shape=(), dtype=float32, numpy=6.28>"
      ]
     },
     "execution_count": 17,
     "metadata": {},
     "output_type": "execute_result"
    }
   ],
   "source": [
    "tf.constant(3.14) + tf.constant(3.14)"
   ]
  },
  {
   "cell_type": "markdown",
   "id": "-WLXkmLz9fC8",
   "metadata": {
    "id": "-WLXkmLz9fC8"
   },
   "source": [
    "`-` 벡터"
   ]
  },
  {
   "cell_type": "code",
   "execution_count": 18,
   "id": "yWDlrWpL9st8",
   "metadata": {
    "colab": {
     "base_uri": "https://localhost:8080/"
    },
    "id": "yWDlrWpL9st8",
    "outputId": "240f41c5-9852-49fa-c3bc-5897a065723f"
   },
   "outputs": [
    {
     "data": {
      "text/plain": [
       "tensorflow.python.framework.ops.EagerTensor"
      ]
     },
     "execution_count": 18,
     "metadata": {},
     "output_type": "execute_result"
    }
   ],
   "source": [
    "type(tf.constant(1))"
   ]
  },
  {
   "cell_type": "code",
   "execution_count": 19,
   "id": "_zLv_4ZD9Tn0",
   "metadata": {
    "colab": {
     "base_uri": "https://localhost:8080/"
    },
    "id": "_zLv_4ZD9Tn0",
    "outputId": "58dffaff-5c15-426b-ae4f-94d18da919b1"
   },
   "outputs": [
    {
     "data": {
      "text/plain": [
       "<tf.Tensor: shape=(3,), dtype=int32, numpy=array([1, 2, 3])>"
      ]
     },
     "execution_count": 19,
     "metadata": {},
     "output_type": "execute_result"
    }
   ],
   "source": [
    "tf.constant([1,2,3])"
   ]
  },
  {
   "cell_type": "code",
   "execution_count": 20,
   "id": "jzNqrDUc9TqV",
   "metadata": {
    "colab": {
     "base_uri": "https://localhost:8080/"
    },
    "id": "jzNqrDUc9TqV",
    "outputId": "47a14be2-657f-4716-c995-9bd92f19cfbf"
   },
   "outputs": [
    {
     "data": {
      "text/plain": [
       "<tf.Tensor: shape=(3,), dtype=int32, numpy=array([1, 2, 3])>"
      ]
     },
     "execution_count": 20,
     "metadata": {},
     "output_type": "execute_result"
    }
   ],
   "source": [
    "_vector = tf.constant([1,2,3])\n",
    "_vector"
   ]
  },
  {
   "cell_type": "code",
   "execution_count": 21,
   "id": "94gTsYb_9Tsk",
   "metadata": {
    "colab": {
     "base_uri": "https://localhost:8080/"
    },
    "id": "94gTsYb_9Tsk",
    "outputId": "4cd64c1a-07c3-4a29-cdbe-80ebabd389b8"
   },
   "outputs": [
    {
     "data": {
      "text/plain": [
       "<tf.Tensor: shape=(), dtype=int32, numpy=3>"
      ]
     },
     "execution_count": 21,
     "metadata": {},
     "output_type": "execute_result"
    }
   ],
   "source": [
    "_vector[-1]"
   ]
  },
  {
   "cell_type": "markdown",
   "id": "viYjxdwK-O-s",
   "metadata": {
    "id": "viYjxdwK-O-s"
   },
   "source": [
    "`-` 매트릭스"
   ]
  },
  {
   "cell_type": "code",
   "execution_count": 22,
   "id": "IdDmgLG09TvM",
   "metadata": {
    "colab": {
     "base_uri": "https://localhost:8080/"
    },
    "id": "IdDmgLG09TvM",
    "outputId": "c110b2fe-87a3-4555-b6a4-a114adb9e2e0"
   },
   "outputs": [
    {
     "data": {
      "text/plain": [
       "<tf.Tensor: shape=(2, 2), dtype=int32, numpy=\n",
       "array([[1, 0],\n",
       "       [0, 1]])>"
      ]
     },
     "execution_count": 22,
     "metadata": {},
     "output_type": "execute_result"
    }
   ],
   "source": [
    "_matrix = tf.constant([[1,0],[0,1]])\n",
    "_matrix"
   ]
  },
  {
   "cell_type": "markdown",
   "id": "XnFVTAmY-bMW",
   "metadata": {
    "id": "XnFVTAmY-bMW"
   },
   "source": [
    "`-` array"
   ]
  },
  {
   "cell_type": "code",
   "execution_count": 23,
   "id": "CLXWspX6-RQL",
   "metadata": {
    "colab": {
     "base_uri": "https://localhost:8080/"
    },
    "id": "CLXWspX6-RQL",
    "outputId": "4b4226b4-5248-4481-b570-50ee8bad8661"
   },
   "outputs": [
    {
     "data": {
      "text/plain": [
       "array([[[0, 1],\n",
       "        [1, 2]],\n",
       "\n",
       "       [[0, 1],\n",
       "        [1, 2]]])"
      ]
     },
     "execution_count": 23,
     "metadata": {},
     "output_type": "execute_result"
    }
   ],
   "source": [
    "np.array([[[0,1],[1,2]],[[0,1],[1,2]]])"
   ]
  },
  {
   "cell_type": "code",
   "execution_count": 24,
   "id": "EKZ14m79-zc8",
   "metadata": {
    "colab": {
     "base_uri": "https://localhost:8080/"
    },
    "id": "EKZ14m79-zc8",
    "outputId": "0f80277c-c804-4640-fe0c-03f7d605fb3a"
   },
   "outputs": [
    {
     "data": {
      "text/plain": [
       "array([[[ 0,  1,  1],\n",
       "        [ 1,  2, -1]],\n",
       "\n",
       "       [[ 0,  1,  1],\n",
       "        [ 1,  2, -1]]])"
      ]
     },
     "execution_count": 24,
     "metadata": {},
     "output_type": "execute_result"
    }
   ],
   "source": [
    "np.array([[[0,1,1],[1,2,-1]],[[0,1,1],[1,2,-1]]])"
   ]
  },
  {
   "cell_type": "code",
   "execution_count": 25,
   "id": "j4Z9-g3c-RTD",
   "metadata": {
    "colab": {
     "base_uri": "https://localhost:8080/"
    },
    "id": "j4Z9-g3c-RTD",
    "outputId": "6d42b93f-970e-4047-a34c-91d568eb2235"
   },
   "outputs": [
    {
     "data": {
      "text/plain": [
       "(2, 2, 3)"
      ]
     },
     "execution_count": 25,
     "metadata": {},
     "output_type": "execute_result"
    }
   ],
   "source": [
    "np.array([[[0,1,1],[1,2,-1]],[[0,1,1],[1,2,-1]]]).shape"
   ]
  },
  {
   "cell_type": "markdown",
   "id": "db79211f-706f-4388-9e10-6b057ec840fb",
   "metadata": {
    "id": "db79211f-706f-4388-9e10-6b057ec840fb"
   },
   "source": [
    "#### 타입"
   ]
  },
  {
   "cell_type": "code",
   "execution_count": 26,
   "id": "VBp71vga-4n2",
   "metadata": {
    "colab": {
     "base_uri": "https://localhost:8080/"
    },
    "id": "VBp71vga-4n2",
    "outputId": "661c7a9b-a9e9-420b-9325-24d147fc5ac4"
   },
   "outputs": [
    {
     "data": {
      "text/plain": [
       "tensorflow.python.framework.ops.EagerTensor"
      ]
     },
     "execution_count": 26,
     "metadata": {},
     "output_type": "execute_result"
    }
   ],
   "source": [
    "type(tf.constant(3.14))"
   ]
  },
  {
   "cell_type": "markdown",
   "id": "f06b1e19-16d1-4667-b881-5aabf63c84d9",
   "metadata": {
    "id": "f06b1e19-16d1-4667-b881-5aabf63c84d9"
   },
   "source": [
    "#### 인덱싱 "
   ]
  },
  {
   "cell_type": "code",
   "execution_count": 27,
   "id": "KadyV9cU-81s",
   "metadata": {
    "colab": {
     "base_uri": "https://localhost:8080/"
    },
    "id": "KadyV9cU-81s",
    "outputId": "1e9da68a-f0dc-4f0f-ac19-1786ade00497"
   },
   "outputs": [
    {
     "data": {
      "text/plain": [
       "<tf.Tensor: shape=(2, 2), dtype=int32, numpy=\n",
       "array([[1, 2],\n",
       "       [3, 4]])>"
      ]
     },
     "execution_count": 27,
     "metadata": {},
     "output_type": "execute_result"
    }
   ],
   "source": [
    "_matrix = tf.constant([[1,2],[3,4]])\n",
    "_matrix"
   ]
  },
  {
   "cell_type": "code",
   "execution_count": 28,
   "id": "Lr-hEOFg-862",
   "metadata": {
    "colab": {
     "base_uri": "https://localhost:8080/"
    },
    "id": "Lr-hEOFg-862",
    "outputId": "851446ec-1f5a-4cd0-b7eb-e9837327dbb1"
   },
   "outputs": [
    {
     "data": {
      "text/plain": [
       "<tf.Tensor: shape=(), dtype=int32, numpy=1>"
      ]
     },
     "execution_count": 28,
     "metadata": {},
     "output_type": "execute_result"
    }
   ],
   "source": [
    "_matrix[0][0]"
   ]
  },
  {
   "cell_type": "code",
   "execution_count": 29,
   "id": "15S4BEbN-89z",
   "metadata": {
    "colab": {
     "base_uri": "https://localhost:8080/"
    },
    "id": "15S4BEbN-89z",
    "outputId": "3681bd3c-3c9a-4850-ce17-108d99c5c8c6"
   },
   "outputs": [
    {
     "data": {
      "text/plain": [
       "<tf.Tensor: shape=(2,), dtype=int32, numpy=array([1, 2])>"
      ]
     },
     "execution_count": 29,
     "metadata": {},
     "output_type": "execute_result"
    }
   ],
   "source": [
    "_matrix[0]"
   ]
  },
  {
   "cell_type": "code",
   "execution_count": 30,
   "id": "6wULtprH-9Cz",
   "metadata": {
    "colab": {
     "base_uri": "https://localhost:8080/"
    },
    "id": "6wULtprH-9Cz",
    "outputId": "49d4a2d1-cc38-4557-f24b-a326105ba0b8"
   },
   "outputs": [
    {
     "data": {
      "text/plain": [
       "<tf.Tensor: shape=(2,), dtype=int32, numpy=array([1, 2])>"
      ]
     },
     "execution_count": 30,
     "metadata": {},
     "output_type": "execute_result"
    }
   ],
   "source": [
    "_matrix[0,:] # 첫번째 row"
   ]
  },
  {
   "cell_type": "code",
   "execution_count": 31,
   "id": "sRP3ZkcW-9Gl",
   "metadata": {
    "colab": {
     "base_uri": "https://localhost:8080/"
    },
    "id": "sRP3ZkcW-9Gl",
    "outputId": "20b6018a-547c-4377-b867-117fd6795834"
   },
   "outputs": [
    {
     "data": {
      "text/plain": [
       "<tf.Tensor: shape=(2,), dtype=int32, numpy=array([1, 3])>"
      ]
     },
     "execution_count": 31,
     "metadata": {},
     "output_type": "execute_result"
    }
   ],
   "source": [
    "_matrix[:,0] # 첫번째 column"
   ]
  },
  {
   "cell_type": "markdown",
   "id": "cebc2e49-6c71-47bf-a884-e8556c3198cf",
   "metadata": {
    "id": "cebc2e49-6c71-47bf-a884-e8556c3198cf"
   },
   "source": [
    "#### tf.constant는 불편하다. "
   ]
  },
  {
   "cell_type": "markdown",
   "id": "VdiWc2k2_t_G",
   "metadata": {
    "id": "VdiWc2k2_t_G"
   },
   "source": [
    "`-` 불편한점\n",
    "1. 모든 원소가 같은 dtype을 가지고 있어야 함.\n",
    "2. 원소 수정이 불가능함.\n",
    "3. 묵시적 형변환이 불가능하다."
   ]
  },
  {
   "cell_type": "markdown",
   "id": "UlaknrVtAORN",
   "metadata": {
    "id": "UlaknrVtAORN"
   },
   "source": [
    "`-` 원소 수정이 불가능함."
   ]
  },
  {
   "cell_type": "code",
   "execution_count": 32,
   "id": "jZYfxrlu_oHM",
   "metadata": {
    "colab": {
     "base_uri": "https://localhost:8080/"
    },
    "id": "jZYfxrlu_oHM",
    "outputId": "63ed7a59-039b-473f-bd2f-3b58a47105c9"
   },
   "outputs": [
    {
     "data": {
      "text/plain": [
       "<tf.Tensor: shape=(3,), dtype=int32, numpy=array([ 1, 22, 33])>"
      ]
     },
     "execution_count": 32,
     "metadata": {},
     "output_type": "execute_result"
    }
   ],
   "source": [
    "a = tf.constant([1,22,33])\n",
    "a"
   ]
  },
  {
   "cell_type": "code",
   "execution_count": 33,
   "id": "pDFWlwDM_oKU",
   "metadata": {
    "colab": {
     "base_uri": "https://localhost:8080/",
     "height": 174
    },
    "id": "pDFWlwDM_oKU",
    "outputId": "27dd2abb-6082-4ca1-ef05-5dc688d9cd24"
   },
   "outputs": [
    {
     "ename": "TypeError",
     "evalue": "'tensorflow.python.framework.ops.EagerTensor' object does not support item assignment",
     "output_type": "error",
     "traceback": [
      "\u001b[1;31m---------------------------------------------------------------------------\u001b[0m",
      "\u001b[1;31mTypeError\u001b[0m                                 Traceback (most recent call last)",
      "Input \u001b[1;32mIn [33]\u001b[0m, in \u001b[0;36m<module>\u001b[1;34m\u001b[0m\n\u001b[1;32m----> 1\u001b[0m a[\u001b[38;5;241m0\u001b[39m] \u001b[38;5;241m=\u001b[39m \u001b[38;5;241m11\u001b[39m\n",
      "\u001b[1;31mTypeError\u001b[0m: 'tensorflow.python.framework.ops.EagerTensor' object does not support item assignment"
     ]
    }
   ],
   "source": [
    "a[0] = 11"
   ]
  },
  {
   "cell_type": "markdown",
   "id": "h5Ir75mNAsVG",
   "metadata": {
    "id": "h5Ir75mNAsVG"
   },
   "source": [
    "`-` 묵시적 형변환이 불가능하다."
   ]
  },
  {
   "cell_type": "code",
   "execution_count": 34,
   "id": "LyGJTyJg_oOs",
   "metadata": {
    "colab": {
     "base_uri": "https://localhost:8080/"
    },
    "id": "LyGJTyJg_oOs",
    "outputId": "d3829815-63e5-44fe-d2d3-9a319638641a"
   },
   "outputs": [
    {
     "data": {
      "text/plain": [
       "4.140000000000001"
      ]
     },
     "execution_count": 34,
     "metadata": {},
     "output_type": "execute_result"
    }
   ],
   "source": [
    "1+3.14"
   ]
  },
  {
   "cell_type": "code",
   "execution_count": 35,
   "id": "J63Cnzrg_oRT",
   "metadata": {
    "colab": {
     "base_uri": "https://localhost:8080/",
     "height": 327
    },
    "id": "J63Cnzrg_oRT",
    "outputId": "822eac97-ad50-49dc-f145-4fdbd22fc909"
   },
   "outputs": [
    {
     "ename": "InvalidArgumentError",
     "evalue": "cannot compute AddV2 as input #1(zero-based) was expected to be a int32 tensor but is a float tensor [Op:AddV2]",
     "output_type": "error",
     "traceback": [
      "\u001b[1;31m---------------------------------------------------------------------------\u001b[0m",
      "\u001b[1;31mInvalidArgumentError\u001b[0m                      Traceback (most recent call last)",
      "Input \u001b[1;32mIn [35]\u001b[0m, in \u001b[0;36m<module>\u001b[1;34m\u001b[0m\n\u001b[1;32m----> 1\u001b[0m \u001b[43mtf\u001b[49m\u001b[38;5;241;43m.\u001b[39;49m\u001b[43mconstant\u001b[49m\u001b[43m(\u001b[49m\u001b[38;5;241;43m1\u001b[39;49m\u001b[43m)\u001b[49m\u001b[38;5;241;43m+\u001b[39;49m\u001b[43mtf\u001b[49m\u001b[38;5;241;43m.\u001b[39;49m\u001b[43mconstant\u001b[49m\u001b[43m(\u001b[49m\u001b[38;5;241;43m3.14\u001b[39;49m\u001b[43m)\u001b[49m\n",
      "File \u001b[1;32mC:\\ProgramData\\Anaconda3\\envs\\ba2022\\lib\\site-packages\\tensorflow\\python\\util\\traceback_utils.py:153\u001b[0m, in \u001b[0;36mfilter_traceback.<locals>.error_handler\u001b[1;34m(*args, **kwargs)\u001b[0m\n\u001b[0;32m    151\u001b[0m \u001b[38;5;28;01mexcept\u001b[39;00m \u001b[38;5;167;01mException\u001b[39;00m \u001b[38;5;28;01mas\u001b[39;00m e:\n\u001b[0;32m    152\u001b[0m   filtered_tb \u001b[38;5;241m=\u001b[39m _process_traceback_frames(e\u001b[38;5;241m.\u001b[39m__traceback__)\n\u001b[1;32m--> 153\u001b[0m   \u001b[38;5;28;01mraise\u001b[39;00m e\u001b[38;5;241m.\u001b[39mwith_traceback(filtered_tb) \u001b[38;5;28;01mfrom\u001b[39;00m \u001b[38;5;28mNone\u001b[39m\n\u001b[0;32m    154\u001b[0m \u001b[38;5;28;01mfinally\u001b[39;00m:\n\u001b[0;32m    155\u001b[0m   \u001b[38;5;28;01mdel\u001b[39;00m filtered_tb\n",
      "File \u001b[1;32mC:\\ProgramData\\Anaconda3\\envs\\ba2022\\lib\\site-packages\\tensorflow\\python\\framework\\ops.py:7186\u001b[0m, in \u001b[0;36mraise_from_not_ok_status\u001b[1;34m(e, name)\u001b[0m\n\u001b[0;32m   7184\u001b[0m \u001b[38;5;28;01mdef\u001b[39;00m \u001b[38;5;21mraise_from_not_ok_status\u001b[39m(e, name):\n\u001b[0;32m   7185\u001b[0m   e\u001b[38;5;241m.\u001b[39mmessage \u001b[38;5;241m+\u001b[39m\u001b[38;5;241m=\u001b[39m (\u001b[38;5;124m\"\u001b[39m\u001b[38;5;124m name: \u001b[39m\u001b[38;5;124m\"\u001b[39m \u001b[38;5;241m+\u001b[39m name \u001b[38;5;28;01mif\u001b[39;00m name \u001b[38;5;129;01mis\u001b[39;00m \u001b[38;5;129;01mnot\u001b[39;00m \u001b[38;5;28;01mNone\u001b[39;00m \u001b[38;5;28;01melse\u001b[39;00m \u001b[38;5;124m\"\u001b[39m\u001b[38;5;124m\"\u001b[39m)\n\u001b[1;32m-> 7186\u001b[0m   \u001b[38;5;28;01mraise\u001b[39;00m core\u001b[38;5;241m.\u001b[39m_status_to_exception(e) \u001b[38;5;28;01mfrom\u001b[39;00m \u001b[38;5;28mNone\u001b[39m\n",
      "\u001b[1;31mInvalidArgumentError\u001b[0m: cannot compute AddV2 as input #1(zero-based) was expected to be a int32 tensor but is a float tensor [Op:AddV2]"
     ]
    }
   ],
   "source": [
    "tf.constant(1)+tf.constant(3.14)"
   ]
  },
  {
   "cell_type": "code",
   "execution_count": 36,
   "id": "DRIAam2L_oUZ",
   "metadata": {
    "colab": {
     "base_uri": "https://localhost:8080/"
    },
    "id": "DRIAam2L_oUZ",
    "outputId": "5e1b5f69-6a3d-4a64-87ad-268fe80cdcd9"
   },
   "outputs": [
    {
     "data": {
      "text/plain": [
       "<tf.Tensor: shape=(), dtype=int32, numpy=1>"
      ]
     },
     "execution_count": 36,
     "metadata": {},
     "output_type": "execute_result"
    }
   ],
   "source": [
    "tf.constant(1)"
   ]
  },
  {
   "cell_type": "code",
   "execution_count": 37,
   "id": "lSPlI4Kv_oW9",
   "metadata": {
    "colab": {
     "base_uri": "https://localhost:8080/"
    },
    "id": "lSPlI4Kv_oW9",
    "outputId": "3c5f4a85-3467-4410-b594-86c95f8ab9b3"
   },
   "outputs": [
    {
     "data": {
      "text/plain": [
       "<tf.Tensor: shape=(), dtype=float32, numpy=3.14>"
      ]
     },
     "execution_count": 37,
     "metadata": {},
     "output_type": "execute_result"
    }
   ],
   "source": [
    "tf.constant(3.14)"
   ]
  },
  {
   "cell_type": "code",
   "execution_count": 38,
   "id": "7Yysgr3Z_oom",
   "metadata": {
    "colab": {
     "base_uri": "https://localhost:8080/"
    },
    "id": "7Yysgr3Z_oom",
    "outputId": "b6d92740-5180-4e5f-cb9a-8e4c70e38e5a"
   },
   "outputs": [
    {
     "data": {
      "text/plain": [
       "<tf.Tensor: shape=(), dtype=float32, numpy=4.1400003>"
      ]
     },
     "execution_count": 38,
     "metadata": {},
     "output_type": "execute_result"
    }
   ],
   "source": [
    "tf.constant(1.0)+tf.constant(3.14)"
   ]
  },
  {
   "cell_type": "markdown",
   "id": "FBnKuTVhBQrV",
   "metadata": {
    "id": "FBnKuTVhBQrV"
   },
   "source": [
    "`-` 같은 float도 안되는 경우가 있음."
   ]
  },
  {
   "cell_type": "code",
   "execution_count": 39,
   "id": "36sUt9AEBVHd",
   "metadata": {
    "colab": {
     "base_uri": "https://localhost:8080/"
    },
    "id": "36sUt9AEBVHd",
    "outputId": "919889fe-3c76-478b-8e8a-e6c4869a7c6d"
   },
   "outputs": [
    {
     "data": {
      "text/plain": [
       "<tf.Tensor: shape=(), dtype=float64, numpy=1.0>"
      ]
     },
     "execution_count": 39,
     "metadata": {},
     "output_type": "execute_result"
    }
   ],
   "source": [
    "tf.constant(1.0,dtype=tf.float64)"
   ]
  },
  {
   "cell_type": "code",
   "execution_count": 40,
   "id": "fXsJrLR8BVKU",
   "metadata": {
    "colab": {
     "base_uri": "https://localhost:8080/"
    },
    "id": "fXsJrLR8BVKU",
    "outputId": "68d45ea9-a853-4174-ae25-d970641bee24"
   },
   "outputs": [
    {
     "data": {
      "text/plain": [
       "<tf.Tensor: shape=(), dtype=float32, numpy=3.14>"
      ]
     },
     "execution_count": 40,
     "metadata": {},
     "output_type": "execute_result"
    }
   ],
   "source": [
    "tf.constant(3.14)"
   ]
  },
  {
   "cell_type": "code",
   "execution_count": 41,
   "id": "de51jYOmBVNg",
   "metadata": {
    "colab": {
     "base_uri": "https://localhost:8080/",
     "height": 327
    },
    "id": "de51jYOmBVNg",
    "outputId": "6f8e9a47-a2b5-4dba-dd61-f047159b530e"
   },
   "outputs": [
    {
     "ename": "InvalidArgumentError",
     "evalue": "cannot compute AddV2 as input #1(zero-based) was expected to be a double tensor but is a float tensor [Op:AddV2]",
     "output_type": "error",
     "traceback": [
      "\u001b[1;31m---------------------------------------------------------------------------\u001b[0m",
      "\u001b[1;31mInvalidArgumentError\u001b[0m                      Traceback (most recent call last)",
      "Input \u001b[1;32mIn [41]\u001b[0m, in \u001b[0;36m<module>\u001b[1;34m\u001b[0m\n\u001b[1;32m----> 1\u001b[0m \u001b[43mtf\u001b[49m\u001b[38;5;241;43m.\u001b[39;49m\u001b[43mconstant\u001b[49m\u001b[43m(\u001b[49m\u001b[38;5;241;43m1.0\u001b[39;49m\u001b[43m,\u001b[49m\u001b[43mdtype\u001b[49m\u001b[38;5;241;43m=\u001b[39;49m\u001b[43mtf\u001b[49m\u001b[38;5;241;43m.\u001b[39;49m\u001b[43mfloat64\u001b[49m\u001b[43m)\u001b[49m\u001b[38;5;241;43m+\u001b[39;49m\u001b[43mtf\u001b[49m\u001b[38;5;241;43m.\u001b[39;49m\u001b[43mconstant\u001b[49m\u001b[43m(\u001b[49m\u001b[38;5;241;43m3.14\u001b[39;49m\u001b[43m)\u001b[49m\n",
      "File \u001b[1;32mC:\\ProgramData\\Anaconda3\\envs\\ba2022\\lib\\site-packages\\tensorflow\\python\\util\\traceback_utils.py:153\u001b[0m, in \u001b[0;36mfilter_traceback.<locals>.error_handler\u001b[1;34m(*args, **kwargs)\u001b[0m\n\u001b[0;32m    151\u001b[0m \u001b[38;5;28;01mexcept\u001b[39;00m \u001b[38;5;167;01mException\u001b[39;00m \u001b[38;5;28;01mas\u001b[39;00m e:\n\u001b[0;32m    152\u001b[0m   filtered_tb \u001b[38;5;241m=\u001b[39m _process_traceback_frames(e\u001b[38;5;241m.\u001b[39m__traceback__)\n\u001b[1;32m--> 153\u001b[0m   \u001b[38;5;28;01mraise\u001b[39;00m e\u001b[38;5;241m.\u001b[39mwith_traceback(filtered_tb) \u001b[38;5;28;01mfrom\u001b[39;00m \u001b[38;5;28mNone\u001b[39m\n\u001b[0;32m    154\u001b[0m \u001b[38;5;28;01mfinally\u001b[39;00m:\n\u001b[0;32m    155\u001b[0m   \u001b[38;5;28;01mdel\u001b[39;00m filtered_tb\n",
      "File \u001b[1;32mC:\\ProgramData\\Anaconda3\\envs\\ba2022\\lib\\site-packages\\tensorflow\\python\\framework\\ops.py:7186\u001b[0m, in \u001b[0;36mraise_from_not_ok_status\u001b[1;34m(e, name)\u001b[0m\n\u001b[0;32m   7184\u001b[0m \u001b[38;5;28;01mdef\u001b[39;00m \u001b[38;5;21mraise_from_not_ok_status\u001b[39m(e, name):\n\u001b[0;32m   7185\u001b[0m   e\u001b[38;5;241m.\u001b[39mmessage \u001b[38;5;241m+\u001b[39m\u001b[38;5;241m=\u001b[39m (\u001b[38;5;124m\"\u001b[39m\u001b[38;5;124m name: \u001b[39m\u001b[38;5;124m\"\u001b[39m \u001b[38;5;241m+\u001b[39m name \u001b[38;5;28;01mif\u001b[39;00m name \u001b[38;5;129;01mis\u001b[39;00m \u001b[38;5;129;01mnot\u001b[39;00m \u001b[38;5;28;01mNone\u001b[39;00m \u001b[38;5;28;01melse\u001b[39;00m \u001b[38;5;124m\"\u001b[39m\u001b[38;5;124m\"\u001b[39m)\n\u001b[1;32m-> 7186\u001b[0m   \u001b[38;5;28;01mraise\u001b[39;00m core\u001b[38;5;241m.\u001b[39m_status_to_exception(e) \u001b[38;5;28;01mfrom\u001b[39;00m \u001b[38;5;28mNone\u001b[39m\n",
      "\u001b[1;31mInvalidArgumentError\u001b[0m: cannot compute AddV2 as input #1(zero-based) was expected to be a double tensor but is a float tensor [Op:AddV2]"
     ]
    }
   ],
   "source": [
    "tf.constant(1.0,dtype=tf.float64)+tf.constant(3.14)"
   ]
  },
  {
   "cell_type": "markdown",
   "id": "0f7a75ed-b984-4f27-9440-d57253cb89bd",
   "metadata": {
    "id": "0f7a75ed-b984-4f27-9440-d57253cb89bd"
   },
   "source": [
    "#### tf.constant $\\to$ 넘파이 "
   ]
  },
  {
   "cell_type": "code",
   "execution_count": 42,
   "id": "tkKeFELRBKr9",
   "metadata": {
    "colab": {
     "base_uri": "https://localhost:8080/"
    },
    "id": "tkKeFELRBKr9",
    "outputId": "36a2b624-d401-4114-d17f-c3c7c04bacfa"
   },
   "outputs": [
    {
     "data": {
      "text/plain": [
       "array(1)"
      ]
     },
     "execution_count": 42,
     "metadata": {},
     "output_type": "execute_result"
    }
   ],
   "source": [
    "np.array(tf.constant(1)) # 방법1"
   ]
  },
  {
   "cell_type": "code",
   "execution_count": 43,
   "id": "l-NMmpLoBKxy",
   "metadata": {
    "colab": {
     "base_uri": "https://localhost:8080/"
    },
    "id": "l-NMmpLoBKxy",
    "outputId": "1c42cbbb-b6a8-42bb-9d87-361f91d5aadf"
   },
   "outputs": [
    {
     "data": {
      "text/plain": [
       "tensorflow.python.framework.ops.EagerTensor"
      ]
     },
     "execution_count": 43,
     "metadata": {},
     "output_type": "execute_result"
    }
   ],
   "source": [
    "a=tf.constant([3.14,-3.14])\n",
    "type(a)"
   ]
  },
  {
   "cell_type": "code",
   "execution_count": 44,
   "id": "b9Qxk4RYBK1X",
   "metadata": {
    "colab": {
     "base_uri": "https://localhost:8080/"
    },
    "id": "b9Qxk4RYBK1X",
    "outputId": "778f5fed-23e2-44a8-fcd3-dd83e92ffe19"
   },
   "outputs": [
    {
     "data": {
      "text/plain": [
       "array([ 3.14, -3.14], dtype=float32)"
      ]
     },
     "execution_count": 44,
     "metadata": {},
     "output_type": "execute_result"
    }
   ],
   "source": [
    "a.numpy()"
   ]
  },
  {
   "cell_type": "markdown",
   "id": "b1e11f1e-122d-4de3-95e8-e8eda9dac045",
   "metadata": {
    "id": "b1e11f1e-122d-4de3-95e8-e8eda9dac045"
   },
   "source": [
    "#### 연산"
   ]
  },
  {
   "cell_type": "markdown",
   "id": "__t_70p3Ft7f",
   "metadata": {
    "id": "__t_70p3Ft7f"
   },
   "source": [
    "`-` 더하기"
   ]
  },
  {
   "cell_type": "code",
   "execution_count": 45,
   "id": "rtdFukYFC6gv",
   "metadata": {
    "colab": {
     "base_uri": "https://localhost:8080/"
    },
    "id": "rtdFukYFC6gv",
    "outputId": "e2b80281-a9f5-4ecb-fe02-a2503bd84978"
   },
   "outputs": [
    {
     "data": {
      "text/plain": [
       "<tf.Tensor: shape=(2,), dtype=int32, numpy=array([4, 6])>"
      ]
     },
     "execution_count": 45,
     "metadata": {},
     "output_type": "execute_result"
    }
   ],
   "source": [
    "a=tf.constant([1,2])\n",
    "b=tf.constant([3,4])\n",
    "a+b"
   ]
  },
  {
   "cell_type": "code",
   "execution_count": 46,
   "id": "vj53I9jRC6jc",
   "metadata": {
    "colab": {
     "base_uri": "https://localhost:8080/"
    },
    "id": "vj53I9jRC6jc",
    "outputId": "901f3943-7a11-4efc-f9f2-ec5ef9c4fb36"
   },
   "outputs": [
    {
     "data": {
      "text/plain": [
       "<tf.Tensor: shape=(2,), dtype=int32, numpy=array([4, 6])>"
      ]
     },
     "execution_count": 46,
     "metadata": {},
     "output_type": "execute_result"
    }
   ],
   "source": [
    "tf.add(a,b)"
   ]
  },
  {
   "cell_type": "markdown",
   "id": "Vs-rYgLTGHLQ",
   "metadata": {
    "id": "Vs-rYgLTGHLQ"
   },
   "source": [
    "`-` 곱하기"
   ]
  },
  {
   "cell_type": "code",
   "execution_count": 47,
   "id": "RZJViMNFC6rk",
   "metadata": {
    "colab": {
     "base_uri": "https://localhost:8080/"
    },
    "id": "RZJViMNFC6rk",
    "outputId": "9699236d-e783-4405-f66f-34d757aa9723"
   },
   "outputs": [
    {
     "data": {
      "text/plain": [
       "<tf.Tensor: shape=(2, 2), dtype=int32, numpy=\n",
       "array([[ 5, 12],\n",
       "       [21, 32]])>"
      ]
     },
     "execution_count": 47,
     "metadata": {},
     "output_type": "execute_result"
    }
   ],
   "source": [
    "a=tf.constant([[1,2],[3,4]])\n",
    "b=tf.constant([[5,6],[7,8]])\n",
    "a*b"
   ]
  },
  {
   "cell_type": "markdown",
   "id": "oWAR7EFsGcQ3",
   "metadata": {
    "id": "oWAR7EFsGcQ3"
   },
   "source": [
    "`-` 매트릭스의 곱"
   ]
  },
  {
   "cell_type": "code",
   "execution_count": 48,
   "id": "cM04-OpKGfTW",
   "metadata": {
    "colab": {
     "base_uri": "https://localhost:8080/"
    },
    "id": "cM04-OpKGfTW",
    "outputId": "f368a20c-c98f-4f1b-c4c8-70bbaa6ab27c"
   },
   "outputs": [
    {
     "data": {
      "text/plain": [
       "<tf.Tensor: shape=(2, 1), dtype=int32, numpy=\n",
       "array([[5],\n",
       "       [7]])>"
      ]
     },
     "execution_count": 48,
     "metadata": {},
     "output_type": "execute_result"
    }
   ],
   "source": [
    "a=tf.constant([[1,0],[0,1]]) # (2,2)\n",
    "b=tf.constant([[5],[7]]) # (2,1)\n",
    "a@b"
   ]
  },
  {
   "cell_type": "code",
   "execution_count": 49,
   "id": "mhyLjsznGfV1",
   "metadata": {
    "colab": {
     "base_uri": "https://localhost:8080/"
    },
    "id": "mhyLjsznGfV1",
    "outputId": "b2cabe1c-9d09-4f1d-cc0c-a0b4ceb42d8d"
   },
   "outputs": [
    {
     "data": {
      "text/plain": [
       "<tf.Tensor: shape=(2, 1), dtype=int32, numpy=\n",
       "array([[5],\n",
       "       [7]])>"
      ]
     },
     "execution_count": 49,
     "metadata": {},
     "output_type": "execute_result"
    }
   ],
   "source": [
    "tf.matmul(a,b)"
   ]
  },
  {
   "cell_type": "markdown",
   "id": "09lBySKhG1mg",
   "metadata": {
    "id": "09lBySKhG1mg"
   },
   "source": [
    "`-` 역행렬"
   ]
  },
  {
   "cell_type": "code",
   "execution_count": 50,
   "id": "1NE1tu5OG4WR",
   "metadata": {
    "colab": {
     "base_uri": "https://localhost:8080/"
    },
    "id": "1NE1tu5OG4WR",
    "outputId": "d72c48a6-5fca-421c-8370-04b9298d7f80"
   },
   "outputs": [
    {
     "data": {
      "text/plain": [
       "<tf.Tensor: shape=(2, 2), dtype=int32, numpy=\n",
       "array([[1, 0],\n",
       "       [0, 2]])>"
      ]
     },
     "execution_count": 50,
     "metadata": {},
     "output_type": "execute_result"
    }
   ],
   "source": [
    "a=tf.constant([[1,0],[0,2]])\n",
    "a"
   ]
  },
  {
   "cell_type": "code",
   "execution_count": 51,
   "id": "wyLPY3K2G4ZY",
   "metadata": {
    "colab": {
     "base_uri": "https://localhost:8080/",
     "height": 345
    },
    "id": "wyLPY3K2G4ZY",
    "outputId": "6d208663-0d09-44f1-8377-f92cadbf6b8d"
   },
   "outputs": [
    {
     "ename": "InvalidArgumentError",
     "evalue": "Value for attr 'T' of int32 is not in the list of allowed values: double, float, half, complex64, complex128\n\t; NodeDef: {{node MatrixInverse}}; Op<name=MatrixInverse; signature=input:T -> output:T; attr=adjoint:bool,default=false; attr=T:type,allowed=[DT_DOUBLE, DT_FLOAT, DT_HALF, DT_COMPLEX64, DT_COMPLEX128]> [Op:MatrixInverse]",
     "output_type": "error",
     "traceback": [
      "\u001b[1;31m---------------------------------------------------------------------------\u001b[0m",
      "\u001b[1;31mInvalidArgumentError\u001b[0m                      Traceback (most recent call last)",
      "Input \u001b[1;32mIn [51]\u001b[0m, in \u001b[0;36m<module>\u001b[1;34m\u001b[0m\n\u001b[1;32m----> 1\u001b[0m \u001b[43mtf\u001b[49m\u001b[38;5;241;43m.\u001b[39;49m\u001b[43mlinalg\u001b[49m\u001b[38;5;241;43m.\u001b[39;49m\u001b[43minv\u001b[49m\u001b[43m(\u001b[49m\u001b[43ma\u001b[49m\u001b[43m)\u001b[49m\n",
      "File \u001b[1;32mC:\\ProgramData\\Anaconda3\\envs\\ba2022\\lib\\site-packages\\tensorflow\\python\\ops\\gen_linalg_ops.py:1505\u001b[0m, in \u001b[0;36mmatrix_inverse\u001b[1;34m(input, adjoint, name)\u001b[0m\n\u001b[0;32m   1503\u001b[0m   \u001b[38;5;28;01mreturn\u001b[39;00m _result\n\u001b[0;32m   1504\u001b[0m \u001b[38;5;28;01mexcept\u001b[39;00m _core\u001b[38;5;241m.\u001b[39m_NotOkStatusException \u001b[38;5;28;01mas\u001b[39;00m e:\n\u001b[1;32m-> 1505\u001b[0m   \u001b[43m_ops\u001b[49m\u001b[38;5;241;43m.\u001b[39;49m\u001b[43mraise_from_not_ok_status\u001b[49m\u001b[43m(\u001b[49m\u001b[43me\u001b[49m\u001b[43m,\u001b[49m\u001b[43m \u001b[49m\u001b[43mname\u001b[49m\u001b[43m)\u001b[49m\n\u001b[0;32m   1506\u001b[0m \u001b[38;5;28;01mexcept\u001b[39;00m _core\u001b[38;5;241m.\u001b[39m_FallbackException:\n\u001b[0;32m   1507\u001b[0m   \u001b[38;5;28;01mpass\u001b[39;00m\n",
      "File \u001b[1;32mC:\\ProgramData\\Anaconda3\\envs\\ba2022\\lib\\site-packages\\tensorflow\\python\\framework\\ops.py:7186\u001b[0m, in \u001b[0;36mraise_from_not_ok_status\u001b[1;34m(e, name)\u001b[0m\n\u001b[0;32m   7184\u001b[0m \u001b[38;5;28;01mdef\u001b[39;00m \u001b[38;5;21mraise_from_not_ok_status\u001b[39m(e, name):\n\u001b[0;32m   7185\u001b[0m   e\u001b[38;5;241m.\u001b[39mmessage \u001b[38;5;241m+\u001b[39m\u001b[38;5;241m=\u001b[39m (\u001b[38;5;124m\"\u001b[39m\u001b[38;5;124m name: \u001b[39m\u001b[38;5;124m\"\u001b[39m \u001b[38;5;241m+\u001b[39m name \u001b[38;5;28;01mif\u001b[39;00m name \u001b[38;5;129;01mis\u001b[39;00m \u001b[38;5;129;01mnot\u001b[39;00m \u001b[38;5;28;01mNone\u001b[39;00m \u001b[38;5;28;01melse\u001b[39;00m \u001b[38;5;124m\"\u001b[39m\u001b[38;5;124m\"\u001b[39m)\n\u001b[1;32m-> 7186\u001b[0m   \u001b[38;5;28;01mraise\u001b[39;00m core\u001b[38;5;241m.\u001b[39m_status_to_exception(e) \u001b[38;5;28;01mfrom\u001b[39;00m \u001b[38;5;28mNone\u001b[39m\n",
      "\u001b[1;31mInvalidArgumentError\u001b[0m: Value for attr 'T' of int32 is not in the list of allowed values: double, float, half, complex64, complex128\n\t; NodeDef: {{node MatrixInverse}}; Op<name=MatrixInverse; signature=input:T -> output:T; attr=adjoint:bool,default=false; attr=T:type,allowed=[DT_DOUBLE, DT_FLOAT, DT_HALF, DT_COMPLEX64, DT_COMPLEX128]> [Op:MatrixInverse]"
     ]
    }
   ],
   "source": [
    "tf.linalg.inv(a) # int형으로 저장이 되어서 안됨."
   ]
  },
  {
   "cell_type": "code",
   "execution_count": 52,
   "id": "LZTrm8p3G4cS",
   "metadata": {
    "colab": {
     "base_uri": "https://localhost:8080/"
    },
    "id": "LZTrm8p3G4cS",
    "outputId": "ba6b6ab2-a1c6-4682-e317-75ac27252a1b"
   },
   "outputs": [
    {
     "data": {
      "text/plain": [
       "<tf.Tensor: shape=(2, 2), dtype=float32, numpy=\n",
       "array([[1. , 0. ],\n",
       "       [0. , 0.5]], dtype=float32)>"
      ]
     },
     "execution_count": 52,
     "metadata": {},
     "output_type": "execute_result"
    }
   ],
   "source": [
    "a=tf.constant([[1.0,0.0],[0.0,2.0]])\n",
    "tf.linalg.inv(a)"
   ]
  },
  {
   "cell_type": "code",
   "execution_count": 53,
   "id": "312J94KhG4hI",
   "metadata": {
    "colab": {
     "base_uri": "https://localhost:8080/"
    },
    "id": "312J94KhG4hI",
    "outputId": "46c56717-d9e2-4e0f-a2aa-dc36016b6136"
   },
   "outputs": [
    {
     "name": "stdout",
     "output_type": "stream",
     "text": [
      "tf.Tensor(\n",
      "[[1. 2.]\n",
      " [3. 4.]], shape=(2, 2), dtype=float32)\n"
     ]
    },
    {
     "data": {
      "text/plain": [
       "<tf.Tensor: shape=(), dtype=float32, numpy=-2.0>"
      ]
     },
     "execution_count": 53,
     "metadata": {},
     "output_type": "execute_result"
    }
   ],
   "source": [
    "a=tf.constant([[1.0,2.0],[3.0,4.0]])\n",
    "print(a)\n",
    "tf.linalg.det(a) # 판별식"
   ]
  },
  {
   "cell_type": "code",
   "execution_count": 54,
   "id": "QgKJkHAUG4lJ",
   "metadata": {
    "colab": {
     "base_uri": "https://localhost:8080/"
    },
    "id": "QgKJkHAUG4lJ",
    "outputId": "a60bda19-a0f9-45be-9d1e-afe90f606eea"
   },
   "outputs": [
    {
     "data": {
      "text/plain": [
       "<tf.Tensor: shape=(), dtype=float32, numpy=5.0>"
      ]
     },
     "execution_count": 54,
     "metadata": {},
     "output_type": "execute_result"
    }
   ],
   "source": [
    "tf.linalg.trace(a) # 궤적 (대각원소의 합)"
   ]
  },
  {
   "cell_type": "markdown",
   "id": "EYrQ4YHqIWUp",
   "metadata": {
    "id": "EYrQ4YHqIWUp"
   },
   "source": [
    "`-` `tf.linalg` + `tab` 을 누르면 유용한 연산들 많음."
   ]
  },
  {
   "cell_type": "markdown",
   "id": "36eb6964-8d92-469c-b4fd-5e9ae19bf9af",
   "metadata": {
    "id": "36eb6964-8d92-469c-b4fd-5e9ae19bf9af",
    "tags": []
   },
   "source": [
    "#### 형태변환"
   ]
  },
  {
   "cell_type": "markdown",
   "id": "X0-F2dtsI-au",
   "metadata": {
    "id": "X0-F2dtsI-au"
   },
   "source": [
    "`-` `tf.reshape()` 를 이용"
   ]
  },
  {
   "cell_type": "code",
   "execution_count": 55,
   "id": "kv229bTuI8Xe",
   "metadata": {
    "colab": {
     "base_uri": "https://localhost:8080/"
    },
    "id": "kv229bTuI8Xe",
    "outputId": "d13f058a-597b-4f14-8720-7bc414e0dbba"
   },
   "outputs": [
    {
     "data": {
      "text/plain": [
       "<tf.Tensor: shape=(4,), dtype=int32, numpy=array([1, 2, 3, 4])>"
      ]
     },
     "execution_count": 55,
     "metadata": {},
     "output_type": "execute_result"
    }
   ],
   "source": [
    "a=tf.constant([1,2,3,4])\n",
    "a"
   ]
  },
  {
   "cell_type": "code",
   "execution_count": 56,
   "id": "7rldQYenI8ae",
   "metadata": {
    "colab": {
     "base_uri": "https://localhost:8080/"
    },
    "id": "7rldQYenI8ae",
    "outputId": "b34134fe-5f4c-4e93-d760-9d4df230933e"
   },
   "outputs": [
    {
     "data": {
      "text/plain": [
       "<tf.Tensor: shape=(4, 1), dtype=int32, numpy=\n",
       "array([[1],\n",
       "       [2],\n",
       "       [3],\n",
       "       [4]])>"
      ]
     },
     "execution_count": 56,
     "metadata": {},
     "output_type": "execute_result"
    }
   ],
   "source": [
    "tf.reshape(a,(4,1))"
   ]
  },
  {
   "cell_type": "code",
   "execution_count": 57,
   "id": "_XHNzX4FJHnn",
   "metadata": {
    "colab": {
     "base_uri": "https://localhost:8080/"
    },
    "id": "_XHNzX4FJHnn",
    "outputId": "36c9fa04-725f-427d-a7ac-0f3a5c004eb5"
   },
   "outputs": [
    {
     "data": {
      "text/plain": [
       "<tf.Tensor: shape=(2, 2), dtype=int32, numpy=\n",
       "array([[1, 2],\n",
       "       [3, 4]])>"
      ]
     },
     "execution_count": 57,
     "metadata": {},
     "output_type": "execute_result"
    }
   ],
   "source": [
    "tf.reshape(a,(2,2))"
   ]
  },
  {
   "cell_type": "code",
   "execution_count": 58,
   "id": "oINDgm6PJHp-",
   "metadata": {
    "colab": {
     "base_uri": "https://localhost:8080/"
    },
    "id": "oINDgm6PJHp-",
    "outputId": "28f28ef1-9064-4c8e-99d3-866ca948b59e"
   },
   "outputs": [
    {
     "data": {
      "text/plain": [
       "<tf.Tensor: shape=(2, 2, 1), dtype=int32, numpy=\n",
       "array([[[1],\n",
       "        [2]],\n",
       "\n",
       "       [[3],\n",
       "        [4]]])>"
      ]
     },
     "execution_count": 58,
     "metadata": {},
     "output_type": "execute_result"
    }
   ],
   "source": [
    "tf.reshape(a,(2,2,1))"
   ]
  },
  {
   "cell_type": "markdown",
   "id": "WEPBx_CUJfJ-",
   "metadata": {
    "id": "WEPBx_CUJfJ-"
   },
   "source": [
    "`-` 다차원"
   ]
  },
  {
   "cell_type": "code",
   "execution_count": 59,
   "id": "PjKC5q6dJHsf",
   "metadata": {
    "colab": {
     "base_uri": "https://localhost:8080/"
    },
    "id": "PjKC5q6dJHsf",
    "outputId": "4fe891dc-a67c-4573-bf36-1d7d753c1202"
   },
   "outputs": [
    {
     "data": {
      "text/plain": [
       "<tf.Tensor: shape=(12,), dtype=int32, numpy=array([ 1,  2,  3,  4,  5,  6,  7,  8,  9, 10, 11, 12])>"
      ]
     },
     "execution_count": 59,
     "metadata": {},
     "output_type": "execute_result"
    }
   ],
   "source": [
    "a=tf.constant([1,2,3,4,5,6,7,8,9,10,11,12])\n",
    "a"
   ]
  },
  {
   "cell_type": "code",
   "execution_count": 60,
   "id": "_xKKprhtJHyX",
   "metadata": {
    "colab": {
     "base_uri": "https://localhost:8080/"
    },
    "id": "_xKKprhtJHyX",
    "outputId": "037556fe-30de-4c88-9a4f-14fe9ff19fc9"
   },
   "outputs": [
    {
     "data": {
      "text/plain": [
       "<tf.Tensor: shape=(2, 2, 3), dtype=int32, numpy=\n",
       "array([[[ 1,  2,  3],\n",
       "        [ 4,  5,  6]],\n",
       "\n",
       "       [[ 7,  8,  9],\n",
       "        [10, 11, 12]]])>"
      ]
     },
     "execution_count": 60,
     "metadata": {},
     "output_type": "execute_result"
    }
   ],
   "source": [
    "tf.reshape(a,(2,2,3))"
   ]
  },
  {
   "cell_type": "code",
   "execution_count": 61,
   "id": "6VdnzNOPI86p",
   "metadata": {
    "colab": {
     "base_uri": "https://localhost:8080/"
    },
    "id": "6VdnzNOPI86p",
    "outputId": "8915b544-a750-45dd-b01b-1b7e3fc83156"
   },
   "outputs": [
    {
     "data": {
      "text/plain": [
       "<tf.Tensor: shape=(4, 3), dtype=int32, numpy=\n",
       "array([[ 1,  2,  3],\n",
       "       [ 4,  5,  6],\n",
       "       [ 7,  8,  9],\n",
       "       [10, 11, 12]])>"
      ]
     },
     "execution_count": 61,
     "metadata": {},
     "output_type": "execute_result"
    }
   ],
   "source": [
    "tf.reshape(a,(4,3))"
   ]
  },
  {
   "cell_type": "markdown",
   "id": "qXn02jObJ5He",
   "metadata": {
    "id": "qXn02jObJ5He"
   },
   "source": [
    "`-` tf.reshape"
   ]
  },
  {
   "cell_type": "code",
   "execution_count": 62,
   "id": "QDx6D82GJy5o",
   "metadata": {
    "colab": {
     "base_uri": "https://localhost:8080/"
    },
    "id": "QDx6D82GJy5o",
    "outputId": "64e90879-6e6c-44f5-a899-e1e8ecc41e75"
   },
   "outputs": [
    {
     "data": {
      "text/plain": [
       "<tf.Tensor: shape=(4, 3), dtype=int32, numpy=\n",
       "array([[ 1,  2,  3],\n",
       "       [ 4,  5,  6],\n",
       "       [ 7,  8,  9],\n",
       "       [10, 11, 12]])>"
      ]
     },
     "execution_count": 62,
     "metadata": {},
     "output_type": "execute_result"
    }
   ],
   "source": [
    "tf.reshape(a,(4,-1)) # -1 : 알아서 차원 결정"
   ]
  },
  {
   "cell_type": "code",
   "execution_count": 63,
   "id": "Ax8u6vK_KJEZ",
   "metadata": {
    "colab": {
     "base_uri": "https://localhost:8080/"
    },
    "id": "Ax8u6vK_KJEZ",
    "outputId": "8d185447-7ea6-41c3-88ca-edc65a9d1277"
   },
   "outputs": [
    {
     "data": {
      "text/plain": [
       "<tf.Tensor: shape=(2, 2, 3), dtype=int32, numpy=\n",
       "array([[[ 1,  2,  3],\n",
       "        [ 4,  5,  6]],\n",
       "\n",
       "       [[ 7,  8,  9],\n",
       "        [10, 11, 12]]])>"
      ]
     },
     "execution_count": 63,
     "metadata": {},
     "output_type": "execute_result"
    }
   ],
   "source": [
    "b=tf.reshape(a,(2,2,-1))\n",
    "b"
   ]
  },
  {
   "cell_type": "code",
   "execution_count": 64,
   "id": "TVsIDjd9KVSf",
   "metadata": {
    "colab": {
     "base_uri": "https://localhost:8080/"
    },
    "id": "TVsIDjd9KVSf",
    "outputId": "0a4bdf28-e3ba-45bb-d8f8-2dcf1b4185fe"
   },
   "outputs": [
    {
     "data": {
      "text/plain": [
       "<tf.Tensor: shape=(12,), dtype=int32, numpy=array([ 1,  2,  3,  4,  5,  6,  7,  8,  9, 10, 11, 12])>"
      ]
     },
     "execution_count": 64,
     "metadata": {},
     "output_type": "execute_result"
    }
   ],
   "source": [
    "tf.reshape(b,-1)"
   ]
  },
  {
   "cell_type": "markdown",
   "id": "327eb735-9f41-40d5-8837-1ff630860b58",
   "metadata": {
    "id": "327eb735-9f41-40d5-8837-1ff630860b58"
   },
   "source": [
    "#### 선언고급 "
   ]
  },
  {
   "cell_type": "markdown",
   "id": "G_y2wVRfKky3",
   "metadata": {
    "id": "G_y2wVRfKky3"
   },
   "source": [
    "`-` 다른 자료형 (리스트나 넘파이)로 만들고 바꾸는것도 좋다."
   ]
  },
  {
   "cell_type": "code",
   "execution_count": 65,
   "id": "IDDaVjHRKjVm",
   "metadata": {
    "colab": {
     "base_uri": "https://localhost:8080/"
    },
    "id": "IDDaVjHRKjVm",
    "outputId": "b27885ff-e2d9-4166-a651-e9dc932bc658"
   },
   "outputs": [
    {
     "data": {
      "text/plain": [
       "array([[1, 0, 0, 0],\n",
       "       [0, 2, 0, 0],\n",
       "       [0, 0, 3, 0],\n",
       "       [0, 0, 0, 4]])"
      ]
     },
     "execution_count": 65,
     "metadata": {},
     "output_type": "execute_result"
    }
   ],
   "source": [
    "np.diag([1,2,3,4])"
   ]
  },
  {
   "cell_type": "code",
   "execution_count": 66,
   "id": "YYlBDG-tKvmA",
   "metadata": {
    "colab": {
     "base_uri": "https://localhost:8080/"
    },
    "id": "YYlBDG-tKvmA",
    "outputId": "229c0e97-c59a-40fc-dc8b-1d1edaf412bb"
   },
   "outputs": [
    {
     "data": {
      "text/plain": [
       "<tf.Tensor: shape=(4, 4), dtype=int32, numpy=\n",
       "array([[1, 0, 0, 0],\n",
       "       [0, 2, 0, 0],\n",
       "       [0, 0, 3, 0],\n",
       "       [0, 0, 0, 4]])>"
      ]
     },
     "execution_count": 66,
     "metadata": {},
     "output_type": "execute_result"
    }
   ],
   "source": [
    "tf.constant(np.diag([1,2,3,4]))"
   ]
  },
  {
   "cell_type": "markdown",
   "id": "X6zQi9qJK8Tn",
   "metadata": {
    "id": "X6zQi9qJK8Tn"
   },
   "source": [
    "`-` tf.ones, tf.zeros"
   ]
  },
  {
   "cell_type": "code",
   "execution_count": 67,
   "id": "uEyKhFJxKvol",
   "metadata": {
    "colab": {
     "base_uri": "https://localhost:8080/"
    },
    "id": "uEyKhFJxKvol",
    "outputId": "c046e1e0-7630-4959-9093-2bee2596214f"
   },
   "outputs": [
    {
     "data": {
      "text/plain": [
       "<tf.Tensor: shape=(3, 3), dtype=float32, numpy=\n",
       "array([[0., 0., 0.],\n",
       "       [0., 0., 0.],\n",
       "       [0., 0., 0.]], dtype=float32)>"
      ]
     },
     "execution_count": 67,
     "metadata": {},
     "output_type": "execute_result"
    }
   ],
   "source": [
    "tf.zeros([3,3])"
   ]
  },
  {
   "cell_type": "code",
   "execution_count": 68,
   "id": "ReL2MmHUKvrN",
   "metadata": {
    "colab": {
     "base_uri": "https://localhost:8080/"
    },
    "id": "ReL2MmHUKvrN",
    "outputId": "09f1d5da-ce2f-4ef3-f05e-8a64bf1b2bb0"
   },
   "outputs": [
    {
     "data": {
      "text/plain": [
       "<tf.Tensor: shape=(3, 3), dtype=int32, numpy=\n",
       "array([[0, 0, 0],\n",
       "       [0, 0, 0],\n",
       "       [0, 0, 0]])>"
      ]
     },
     "execution_count": 68,
     "metadata": {},
     "output_type": "execute_result"
    }
   ],
   "source": [
    "tf.reshape(tf.constant([0]*9),(3,3))"
   ]
  },
  {
   "cell_type": "markdown",
   "id": "kPM43TmZLYeg",
   "metadata": {
    "id": "kPM43TmZLYeg"
   },
   "source": [
    "`-` range(10)"
   ]
  },
  {
   "cell_type": "code",
   "execution_count": 69,
   "id": "r_S2I8IGKvwh",
   "metadata": {
    "colab": {
     "base_uri": "https://localhost:8080/"
    },
    "id": "r_S2I8IGKvwh",
    "outputId": "3e759b65-1154-4f82-ee47-6f933fadaafc"
   },
   "outputs": [
    {
     "data": {
      "text/plain": [
       "<tf.Tensor: shape=(12,), dtype=int32, numpy=array([ 0,  1,  2,  3,  4,  5,  6,  7,  8,  9, 10, 11])>"
      ]
     },
     "execution_count": 69,
     "metadata": {},
     "output_type": "execute_result"
    }
   ],
   "source": [
    "a=range(0,12)\n",
    "tf.constant(a)"
   ]
  },
  {
   "cell_type": "code",
   "execution_count": 70,
   "id": "IzNXdwWLLbXZ",
   "metadata": {
    "colab": {
     "base_uri": "https://localhost:8080/"
    },
    "id": "IzNXdwWLLbXZ",
    "outputId": "c55c5f50-4de2-4a29-efa6-11bb2523ee30"
   },
   "outputs": [
    {
     "data": {
      "text/plain": [
       "[0, 1, 2, 3, 4]"
      ]
     },
     "execution_count": 70,
     "metadata": {},
     "output_type": "execute_result"
    }
   ],
   "source": [
    "list(range(0,5)) # 0,1,2,3,4"
   ]
  },
  {
   "cell_type": "code",
   "execution_count": 71,
   "id": "39RTbFoCLbaR",
   "metadata": {
    "colab": {
     "base_uri": "https://localhost:8080/"
    },
    "id": "39RTbFoCLbaR",
    "outputId": "baaad29d-c3fa-41a5-fd7e-159365b2dcba"
   },
   "outputs": [
    {
     "data": {
      "text/plain": [
       "<tf.Tensor: shape=(7,), dtype=int32, numpy=array([ 1,  4,  7, 10, 13, 16, 19])>"
      ]
     },
     "execution_count": 71,
     "metadata": {},
     "output_type": "execute_result"
    }
   ],
   "source": [
    "tf.constant(range(1,20,3))"
   ]
  },
  {
   "cell_type": "markdown",
   "id": "Uoys9AyNMLhA",
   "metadata": {
    "id": "Uoys9AyNMLhA"
   },
   "source": [
    "`-` tf.linspace"
   ]
  },
  {
   "cell_type": "code",
   "execution_count": 72,
   "id": "1BswQ02JLbdO",
   "metadata": {
    "colab": {
     "base_uri": "https://localhost:8080/"
    },
    "id": "1BswQ02JLbdO",
    "outputId": "233d9662-9882-4ec8-8d2b-2150565f0e33"
   },
   "outputs": [
    {
     "data": {
      "text/plain": [
       "<tf.Tensor: shape=(10,), dtype=float64, numpy=\n",
       "array([0.        , 0.11111111, 0.22222222, 0.33333333, 0.44444444,\n",
       "       0.55555556, 0.66666667, 0.77777778, 0.88888889, 1.        ])>"
      ]
     },
     "execution_count": 72,
     "metadata": {},
     "output_type": "execute_result"
    }
   ],
   "source": [
    "tf.linspace(0,1,10)"
   ]
  },
  {
   "cell_type": "markdown",
   "id": "2d0f27b7-688e-437a-856a-7ebb6d6a4a27",
   "metadata": {
    "id": "2d0f27b7-688e-437a-856a-7ebb6d6a4a27"
   },
   "source": [
    "#### tf.concat "
   ]
  },
  {
   "cell_type": "code",
   "execution_count": 73,
   "id": "VII3XhTEMlY_",
   "metadata": {
    "colab": {
     "base_uri": "https://localhost:8080/"
    },
    "id": "VII3XhTEMlY_",
    "outputId": "82f6d9f3-69df-408f-ee4d-5010daed500a"
   },
   "outputs": [
    {
     "data": {
      "text/plain": [
       "(<tf.Tensor: shape=(2, 1), dtype=int32, numpy=\n",
       " array([[1],\n",
       "        [2]])>,\n",
       " <tf.Tensor: shape=(2, 1), dtype=int32, numpy=\n",
       " array([[3],\n",
       "        [4]])>)"
      ]
     },
     "execution_count": 73,
     "metadata": {},
     "output_type": "execute_result"
    }
   ],
   "source": [
    "a=tf.constant([[1],[2]])\n",
    "b=tf.constant([[3],[4]])\n",
    "a,b"
   ]
  },
  {
   "cell_type": "markdown",
   "id": "BfzudIsPPda4",
   "metadata": {
    "id": "BfzudIsPPda4"
   },
   "source": [
    "`-` (2,1) concat (2,1) => (4,1)\n",
    "- 첫번째 축이 바뀌었다. ==> axis=0\n"
   ]
  },
  {
   "cell_type": "code",
   "execution_count": 74,
   "id": "3NZSGl0dMlgy",
   "metadata": {
    "colab": {
     "base_uri": "https://localhost:8080/"
    },
    "id": "3NZSGl0dMlgy",
    "outputId": "ed4c9df8-184a-49db-c429-770fc7b5a96c"
   },
   "outputs": [
    {
     "data": {
      "text/plain": [
       "<tf.Tensor: shape=(4, 1), dtype=int32, numpy=\n",
       "array([[1],\n",
       "       [2],\n",
       "       [3],\n",
       "       [4]])>"
      ]
     },
     "execution_count": 74,
     "metadata": {},
     "output_type": "execute_result"
    }
   ],
   "source": [
    "tf.concat([a,b],axis=0)"
   ]
  },
  {
   "cell_type": "markdown",
   "id": "LWUm7_H-PgtQ",
   "metadata": {
    "id": "LWUm7_H-PgtQ"
   },
   "source": [
    "`-` (2,1) concat (2,1) => (2,2)\n",
    "- 두번째 축이 바뀌었다. ==> axis=1"
   ]
  },
  {
   "cell_type": "code",
   "execution_count": 75,
   "id": "C8g4xB4sMlkH",
   "metadata": {
    "colab": {
     "base_uri": "https://localhost:8080/"
    },
    "id": "C8g4xB4sMlkH",
    "outputId": "7c658194-293f-4073-d80a-2c38a99f8c74"
   },
   "outputs": [
    {
     "data": {
      "text/plain": [
       "<tf.Tensor: shape=(2, 2), dtype=int32, numpy=\n",
       "array([[1, 3],\n",
       "       [2, 4]])>"
      ]
     },
     "execution_count": 75,
     "metadata": {},
     "output_type": "execute_result"
    }
   ],
   "source": [
    "tf.concat([a,b],axis=1)"
   ]
  },
  {
   "cell_type": "markdown",
   "id": "dflAKwRNNzG3",
   "metadata": {
    "id": "dflAKwRNNzG3"
   },
   "source": [
    "`-` (1,2) concat (1,2) => (2,2)\n",
    "- 첫번째 ==> axis=0"
   ]
  },
  {
   "cell_type": "code",
   "execution_count": 76,
   "id": "ZP8UKn2ZMln_",
   "metadata": {
    "id": "ZP8UKn2ZMln_"
   },
   "outputs": [],
   "source": [
    "a=tf.constant([[1,2]])\n",
    "b=tf.constant([[3,4]])"
   ]
  },
  {
   "cell_type": "code",
   "execution_count": 77,
   "id": "VXY2f9vNMlx2",
   "metadata": {
    "colab": {
     "base_uri": "https://localhost:8080/"
    },
    "id": "VXY2f9vNMlx2",
    "outputId": "9ca90240-bf8b-4807-cdab-4ac4a170bf7b"
   },
   "outputs": [
    {
     "data": {
      "text/plain": [
       "<tf.Tensor: shape=(2, 2), dtype=int32, numpy=\n",
       "array([[1, 2],\n",
       "       [3, 4]])>"
      ]
     },
     "execution_count": 77,
     "metadata": {},
     "output_type": "execute_result"
    }
   ],
   "source": [
    "tf.concat([a,b],axis=0)"
   ]
  },
  {
   "cell_type": "markdown",
   "id": "dOiXDtCSOUxf",
   "metadata": {
    "id": "dOiXDtCSOUxf"
   },
   "source": [
    "`-` (1,2) concat (1,2) => (1,4)\n",
    "- 두번째 ==> axis=1"
   ]
  },
  {
   "cell_type": "code",
   "execution_count": 78,
   "id": "bp-smYibOdhn",
   "metadata": {
    "colab": {
     "base_uri": "https://localhost:8080/"
    },
    "id": "bp-smYibOdhn",
    "outputId": "360e4da9-5199-4d8a-eafe-6b9e1aab5333"
   },
   "outputs": [
    {
     "data": {
      "text/plain": [
       "<tf.Tensor: shape=(1, 4), dtype=int32, numpy=array([[1, 2, 3, 4]])>"
      ]
     },
     "execution_count": 78,
     "metadata": {},
     "output_type": "execute_result"
    }
   ],
   "source": [
    "tf.concat([a,b],axis=1)"
   ]
  },
  {
   "cell_type": "markdown",
   "id": "lF1Mn3TtRK8X",
   "metadata": {
    "id": "lF1Mn3TtRK8X"
   },
   "source": [
    "`-` (2,3,4,5) concat (2,3,4,5) => (4,3,4,5)"
   ]
  },
  {
   "cell_type": "code",
   "execution_count": 79,
   "id": "hGl4Y1AbOdmO",
   "metadata": {
    "id": "hGl4Y1AbOdmO"
   },
   "outputs": [],
   "source": [
    "a=tf.reshape(tf.constant(range(120)),(2,3,4,5))\n",
    "b=-a"
   ]
  },
  {
   "cell_type": "code",
   "execution_count": 80,
   "id": "H42XwCvrQ7lH",
   "metadata": {
    "colab": {
     "base_uri": "https://localhost:8080/"
    },
    "id": "H42XwCvrQ7lH",
    "outputId": "c01ea282-f65c-4bb8-9755-a899d0b92fb6"
   },
   "outputs": [
    {
     "data": {
      "text/plain": [
       "<tf.Tensor: shape=(4, 3, 4, 5), dtype=int32, numpy=\n",
       "array([[[[   0,    1,    2,    3,    4],\n",
       "         [   5,    6,    7,    8,    9],\n",
       "         [  10,   11,   12,   13,   14],\n",
       "         [  15,   16,   17,   18,   19]],\n",
       "\n",
       "        [[  20,   21,   22,   23,   24],\n",
       "         [  25,   26,   27,   28,   29],\n",
       "         [  30,   31,   32,   33,   34],\n",
       "         [  35,   36,   37,   38,   39]],\n",
       "\n",
       "        [[  40,   41,   42,   43,   44],\n",
       "         [  45,   46,   47,   48,   49],\n",
       "         [  50,   51,   52,   53,   54],\n",
       "         [  55,   56,   57,   58,   59]]],\n",
       "\n",
       "\n",
       "       [[[  60,   61,   62,   63,   64],\n",
       "         [  65,   66,   67,   68,   69],\n",
       "         [  70,   71,   72,   73,   74],\n",
       "         [  75,   76,   77,   78,   79]],\n",
       "\n",
       "        [[  80,   81,   82,   83,   84],\n",
       "         [  85,   86,   87,   88,   89],\n",
       "         [  90,   91,   92,   93,   94],\n",
       "         [  95,   96,   97,   98,   99]],\n",
       "\n",
       "        [[ 100,  101,  102,  103,  104],\n",
       "         [ 105,  106,  107,  108,  109],\n",
       "         [ 110,  111,  112,  113,  114],\n",
       "         [ 115,  116,  117,  118,  119]]],\n",
       "\n",
       "\n",
       "       [[[   0,   -1,   -2,   -3,   -4],\n",
       "         [  -5,   -6,   -7,   -8,   -9],\n",
       "         [ -10,  -11,  -12,  -13,  -14],\n",
       "         [ -15,  -16,  -17,  -18,  -19]],\n",
       "\n",
       "        [[ -20,  -21,  -22,  -23,  -24],\n",
       "         [ -25,  -26,  -27,  -28,  -29],\n",
       "         [ -30,  -31,  -32,  -33,  -34],\n",
       "         [ -35,  -36,  -37,  -38,  -39]],\n",
       "\n",
       "        [[ -40,  -41,  -42,  -43,  -44],\n",
       "         [ -45,  -46,  -47,  -48,  -49],\n",
       "         [ -50,  -51,  -52,  -53,  -54],\n",
       "         [ -55,  -56,  -57,  -58,  -59]]],\n",
       "\n",
       "\n",
       "       [[[ -60,  -61,  -62,  -63,  -64],\n",
       "         [ -65,  -66,  -67,  -68,  -69],\n",
       "         [ -70,  -71,  -72,  -73,  -74],\n",
       "         [ -75,  -76,  -77,  -78,  -79]],\n",
       "\n",
       "        [[ -80,  -81,  -82,  -83,  -84],\n",
       "         [ -85,  -86,  -87,  -88,  -89],\n",
       "         [ -90,  -91,  -92,  -93,  -94],\n",
       "         [ -95,  -96,  -97,  -98,  -99]],\n",
       "\n",
       "        [[-100, -101, -102, -103, -104],\n",
       "         [-105, -106, -107, -108, -109],\n",
       "         [-110, -111, -112, -113, -114],\n",
       "         [-115, -116, -117, -118, -119]]]])>"
      ]
     },
     "execution_count": 80,
     "metadata": {},
     "output_type": "execute_result"
    }
   ],
   "source": [
    "tf.concat([a,b],axis=0)"
   ]
  },
  {
   "cell_type": "markdown",
   "id": "rGbujCBESSuf",
   "metadata": {
    "id": "rGbujCBESSuf"
   },
   "source": [
    "`-` (2,3,4,5) concat (2,3,4,5) => (2,3,4,10)\n",
    "- 네번째 ==> axis=3 or axis=-1(마지막)"
   ]
  },
  {
   "cell_type": "code",
   "execution_count": 81,
   "id": "JDd-QX36Q7n6",
   "metadata": {
    "colab": {
     "base_uri": "https://localhost:8080/"
    },
    "id": "JDd-QX36Q7n6",
    "outputId": "702959cd-1491-4ed8-c14d-c2a134d40d3e"
   },
   "outputs": [
    {
     "data": {
      "text/plain": [
       "<tf.Tensor: shape=(2, 3, 4, 10), dtype=int32, numpy=\n",
       "array([[[[   0,    1,    2,    3,    4,    0,   -1,   -2,   -3,   -4],\n",
       "         [   5,    6,    7,    8,    9,   -5,   -6,   -7,   -8,   -9],\n",
       "         [  10,   11,   12,   13,   14,  -10,  -11,  -12,  -13,  -14],\n",
       "         [  15,   16,   17,   18,   19,  -15,  -16,  -17,  -18,  -19]],\n",
       "\n",
       "        [[  20,   21,   22,   23,   24,  -20,  -21,  -22,  -23,  -24],\n",
       "         [  25,   26,   27,   28,   29,  -25,  -26,  -27,  -28,  -29],\n",
       "         [  30,   31,   32,   33,   34,  -30,  -31,  -32,  -33,  -34],\n",
       "         [  35,   36,   37,   38,   39,  -35,  -36,  -37,  -38,  -39]],\n",
       "\n",
       "        [[  40,   41,   42,   43,   44,  -40,  -41,  -42,  -43,  -44],\n",
       "         [  45,   46,   47,   48,   49,  -45,  -46,  -47,  -48,  -49],\n",
       "         [  50,   51,   52,   53,   54,  -50,  -51,  -52,  -53,  -54],\n",
       "         [  55,   56,   57,   58,   59,  -55,  -56,  -57,  -58,  -59]]],\n",
       "\n",
       "\n",
       "       [[[  60,   61,   62,   63,   64,  -60,  -61,  -62,  -63,  -64],\n",
       "         [  65,   66,   67,   68,   69,  -65,  -66,  -67,  -68,  -69],\n",
       "         [  70,   71,   72,   73,   74,  -70,  -71,  -72,  -73,  -74],\n",
       "         [  75,   76,   77,   78,   79,  -75,  -76,  -77,  -78,  -79]],\n",
       "\n",
       "        [[  80,   81,   82,   83,   84,  -80,  -81,  -82,  -83,  -84],\n",
       "         [  85,   86,   87,   88,   89,  -85,  -86,  -87,  -88,  -89],\n",
       "         [  90,   91,   92,   93,   94,  -90,  -91,  -92,  -93,  -94],\n",
       "         [  95,   96,   97,   98,   99,  -95,  -96,  -97,  -98,  -99]],\n",
       "\n",
       "        [[ 100,  101,  102,  103,  104, -100, -101, -102, -103, -104],\n",
       "         [ 105,  106,  107,  108,  109, -105, -106, -107, -108, -109],\n",
       "         [ 110,  111,  112,  113,  114, -110, -111, -112, -113, -114],\n",
       "         [ 115,  116,  117,  118,  119, -115, -116, -117, -118, -119]]]])>"
      ]
     },
     "execution_count": 81,
     "metadata": {},
     "output_type": "execute_result"
    }
   ],
   "source": [
    "tf.concat([a,b],axis=3)"
   ]
  },
  {
   "cell_type": "code",
   "execution_count": 82,
   "id": "_UJRSxqZQ7qr",
   "metadata": {
    "colab": {
     "base_uri": "https://localhost:8080/"
    },
    "id": "_UJRSxqZQ7qr",
    "outputId": "de0d7d20-40b2-4148-b402-7da98af7ead6"
   },
   "outputs": [
    {
     "data": {
      "text/plain": [
       "<tf.Tensor: shape=(2, 3, 4, 10), dtype=int32, numpy=\n",
       "array([[[[   0,    1,    2,    3,    4,    0,   -1,   -2,   -3,   -4],\n",
       "         [   5,    6,    7,    8,    9,   -5,   -6,   -7,   -8,   -9],\n",
       "         [  10,   11,   12,   13,   14,  -10,  -11,  -12,  -13,  -14],\n",
       "         [  15,   16,   17,   18,   19,  -15,  -16,  -17,  -18,  -19]],\n",
       "\n",
       "        [[  20,   21,   22,   23,   24,  -20,  -21,  -22,  -23,  -24],\n",
       "         [  25,   26,   27,   28,   29,  -25,  -26,  -27,  -28,  -29],\n",
       "         [  30,   31,   32,   33,   34,  -30,  -31,  -32,  -33,  -34],\n",
       "         [  35,   36,   37,   38,   39,  -35,  -36,  -37,  -38,  -39]],\n",
       "\n",
       "        [[  40,   41,   42,   43,   44,  -40,  -41,  -42,  -43,  -44],\n",
       "         [  45,   46,   47,   48,   49,  -45,  -46,  -47,  -48,  -49],\n",
       "         [  50,   51,   52,   53,   54,  -50,  -51,  -52,  -53,  -54],\n",
       "         [  55,   56,   57,   58,   59,  -55,  -56,  -57,  -58,  -59]]],\n",
       "\n",
       "\n",
       "       [[[  60,   61,   62,   63,   64,  -60,  -61,  -62,  -63,  -64],\n",
       "         [  65,   66,   67,   68,   69,  -65,  -66,  -67,  -68,  -69],\n",
       "         [  70,   71,   72,   73,   74,  -70,  -71,  -72,  -73,  -74],\n",
       "         [  75,   76,   77,   78,   79,  -75,  -76,  -77,  -78,  -79]],\n",
       "\n",
       "        [[  80,   81,   82,   83,   84,  -80,  -81,  -82,  -83,  -84],\n",
       "         [  85,   86,   87,   88,   89,  -85,  -86,  -87,  -88,  -89],\n",
       "         [  90,   91,   92,   93,   94,  -90,  -91,  -92,  -93,  -94],\n",
       "         [  95,   96,   97,   98,   99,  -95,  -96,  -97,  -98,  -99]],\n",
       "\n",
       "        [[ 100,  101,  102,  103,  104, -100, -101, -102, -103, -104],\n",
       "         [ 105,  106,  107,  108,  109, -105, -106, -107, -108, -109],\n",
       "         [ 110,  111,  112,  113,  114, -110, -111, -112, -113, -114],\n",
       "         [ 115,  116,  117,  118,  119, -115, -116, -117, -118, -119]]]])>"
      ]
     },
     "execution_count": 82,
     "metadata": {},
     "output_type": "execute_result"
    }
   ],
   "source": [
    "tf.concat([a,b],axis=-1)"
   ]
  },
  {
   "cell_type": "markdown",
   "id": "U7sAm4Q2SzdZ",
   "metadata": {
    "id": "U7sAm4Q2SzdZ"
   },
   "source": [
    "`-` (4,) concat (4,) ==> (8,)"
   ]
  },
  {
   "cell_type": "code",
   "execution_count": 83,
   "id": "_ZxiQYB8Q7t6",
   "metadata": {
    "colab": {
     "base_uri": "https://localhost:8080/"
    },
    "id": "_ZxiQYB8Q7t6",
    "outputId": "b7aaa909-c2a4-4cc5-aadd-123cc73f1e71"
   },
   "outputs": [
    {
     "data": {
      "text/plain": [
       "(<tf.Tensor: shape=(4,), dtype=int32, numpy=array([1, 2, 3, 4])>,\n",
       " <tf.Tensor: shape=(4,), dtype=int32, numpy=array([-1, -2, -3, -4])>)"
      ]
     },
     "execution_count": 83,
     "metadata": {},
     "output_type": "execute_result"
    }
   ],
   "source": [
    "a=tf.constant([1,2,3,4])\n",
    "b=-a\n",
    "a,b"
   ]
  },
  {
   "cell_type": "code",
   "execution_count": 84,
   "id": "SDN39RBvQ70C",
   "metadata": {
    "colab": {
     "base_uri": "https://localhost:8080/"
    },
    "id": "SDN39RBvQ70C",
    "outputId": "e6427551-40cc-4bd9-de52-e96ae3bfa850"
   },
   "outputs": [
    {
     "data": {
      "text/plain": [
       "<tf.Tensor: shape=(8,), dtype=int32, numpy=array([ 1,  2,  3,  4, -1, -2, -3, -4])>"
      ]
     },
     "execution_count": 84,
     "metadata": {},
     "output_type": "execute_result"
    }
   ],
   "source": [
    "tf.concat([a,b],axis=0)"
   ]
  },
  {
   "cell_type": "markdown",
   "id": "h5EOtcI3TBdI",
   "metadata": {
    "id": "h5EOtcI3TBdI"
   },
   "source": [
    "`-` (4,) concat (4,) ==> (4,2) ==> 이런거 없다..."
   ]
  },
  {
   "cell_type": "code",
   "execution_count": 85,
   "id": "8X0hih38TH9Y",
   "metadata": {
    "colab": {
     "base_uri": "https://localhost:8080/",
     "height": 327
    },
    "id": "8X0hih38TH9Y",
    "outputId": "4a64a2f1-883e-4285-f73b-181e0a7199e5"
   },
   "outputs": [
    {
     "ename": "InvalidArgumentError",
     "evalue": "ConcatOp : Expected concatenating dimensions in the range [-1, 1), but got 1 [Op:ConcatV2] name: concat",
     "output_type": "error",
     "traceback": [
      "\u001b[1;31m---------------------------------------------------------------------------\u001b[0m",
      "\u001b[1;31mInvalidArgumentError\u001b[0m                      Traceback (most recent call last)",
      "Input \u001b[1;32mIn [85]\u001b[0m, in \u001b[0;36m<module>\u001b[1;34m\u001b[0m\n\u001b[1;32m----> 1\u001b[0m \u001b[43mtf\u001b[49m\u001b[38;5;241;43m.\u001b[39;49m\u001b[43mconcat\u001b[49m\u001b[43m(\u001b[49m\u001b[43m[\u001b[49m\u001b[43ma\u001b[49m\u001b[43m,\u001b[49m\u001b[43mb\u001b[49m\u001b[43m]\u001b[49m\u001b[43m,\u001b[49m\u001b[43maxis\u001b[49m\u001b[38;5;241;43m=\u001b[39;49m\u001b[38;5;241;43m1\u001b[39;49m\u001b[43m)\u001b[49m\n",
      "File \u001b[1;32mC:\\ProgramData\\Anaconda3\\envs\\ba2022\\lib\\site-packages\\tensorflow\\python\\util\\traceback_utils.py:153\u001b[0m, in \u001b[0;36mfilter_traceback.<locals>.error_handler\u001b[1;34m(*args, **kwargs)\u001b[0m\n\u001b[0;32m    151\u001b[0m \u001b[38;5;28;01mexcept\u001b[39;00m \u001b[38;5;167;01mException\u001b[39;00m \u001b[38;5;28;01mas\u001b[39;00m e:\n\u001b[0;32m    152\u001b[0m   filtered_tb \u001b[38;5;241m=\u001b[39m _process_traceback_frames(e\u001b[38;5;241m.\u001b[39m__traceback__)\n\u001b[1;32m--> 153\u001b[0m   \u001b[38;5;28;01mraise\u001b[39;00m e\u001b[38;5;241m.\u001b[39mwith_traceback(filtered_tb) \u001b[38;5;28;01mfrom\u001b[39;00m \u001b[38;5;28mNone\u001b[39m\n\u001b[0;32m    154\u001b[0m \u001b[38;5;28;01mfinally\u001b[39;00m:\n\u001b[0;32m    155\u001b[0m   \u001b[38;5;28;01mdel\u001b[39;00m filtered_tb\n",
      "File \u001b[1;32mC:\\ProgramData\\Anaconda3\\envs\\ba2022\\lib\\site-packages\\tensorflow\\python\\framework\\ops.py:7186\u001b[0m, in \u001b[0;36mraise_from_not_ok_status\u001b[1;34m(e, name)\u001b[0m\n\u001b[0;32m   7184\u001b[0m \u001b[38;5;28;01mdef\u001b[39;00m \u001b[38;5;21mraise_from_not_ok_status\u001b[39m(e, name):\n\u001b[0;32m   7185\u001b[0m   e\u001b[38;5;241m.\u001b[39mmessage \u001b[38;5;241m+\u001b[39m\u001b[38;5;241m=\u001b[39m (\u001b[38;5;124m\"\u001b[39m\u001b[38;5;124m name: \u001b[39m\u001b[38;5;124m\"\u001b[39m \u001b[38;5;241m+\u001b[39m name \u001b[38;5;28;01mif\u001b[39;00m name \u001b[38;5;129;01mis\u001b[39;00m \u001b[38;5;129;01mnot\u001b[39;00m \u001b[38;5;28;01mNone\u001b[39;00m \u001b[38;5;28;01melse\u001b[39;00m \u001b[38;5;124m\"\u001b[39m\u001b[38;5;124m\"\u001b[39m)\n\u001b[1;32m-> 7186\u001b[0m   \u001b[38;5;28;01mraise\u001b[39;00m core\u001b[38;5;241m.\u001b[39m_status_to_exception(e) \u001b[38;5;28;01mfrom\u001b[39;00m \u001b[38;5;28mNone\u001b[39m\n",
      "\u001b[1;31mInvalidArgumentError\u001b[0m: ConcatOp : Expected concatenating dimensions in the range [-1, 1), but got 1 [Op:ConcatV2] name: concat"
     ]
    }
   ],
   "source": [
    "tf.concat([a,b],axis=1) # 바꾸지 못함..."
   ]
  },
  {
   "cell_type": "markdown",
   "id": "fd8402bf-ccef-414e-a574-22524b02b593",
   "metadata": {
    "id": "fd8402bf-ccef-414e-a574-22524b02b593"
   },
   "source": [
    "#### tf.stack "
   ]
  },
  {
   "cell_type": "code",
   "execution_count": 86,
   "id": "UdX0AX2cMm14",
   "metadata": {
    "colab": {
     "base_uri": "https://localhost:8080/"
    },
    "id": "UdX0AX2cMm14",
    "outputId": "00f50476-f698-4513-9131-82c785fb1c67"
   },
   "outputs": [
    {
     "data": {
      "text/plain": [
       "(<tf.Tensor: shape=(4,), dtype=int32, numpy=array([1, 2, 3, 4])>,\n",
       " <tf.Tensor: shape=(4,), dtype=int32, numpy=array([-1, -2, -3, -4])>)"
      ]
     },
     "execution_count": 86,
     "metadata": {},
     "output_type": "execute_result"
    }
   ],
   "source": [
    "a=tf.constant([1,2,3,4])\n",
    "b=-a\n",
    "a,b"
   ]
  },
  {
   "cell_type": "code",
   "execution_count": 87,
   "id": "HVdpQvVUMm4v",
   "metadata": {
    "colab": {
     "base_uri": "https://localhost:8080/"
    },
    "id": "HVdpQvVUMm4v",
    "outputId": "7f131b67-2318-4f72-d13d-8643fff6020e"
   },
   "outputs": [
    {
     "data": {
      "text/plain": [
       "<tf.Tensor: shape=(2, 4), dtype=int32, numpy=\n",
       "array([[ 1,  2,  3,  4],\n",
       "       [-1, -2, -3, -4]])>"
      ]
     },
     "execution_count": 87,
     "metadata": {},
     "output_type": "execute_result"
    }
   ],
   "source": [
    "tf.stack([a,b])"
   ]
  },
  {
   "cell_type": "code",
   "execution_count": 88,
   "id": "VGbeCpekMm9W",
   "metadata": {
    "colab": {
     "base_uri": "https://localhost:8080/"
    },
    "id": "VGbeCpekMm9W",
    "outputId": "e10c8e86-8016-488f-92bd-a0ccba1618d9"
   },
   "outputs": [
    {
     "data": {
      "text/plain": [
       "<tf.Tensor: shape=(2, 4), dtype=int32, numpy=\n",
       "array([[ 1,  2,  3,  4],\n",
       "       [-1, -2, -3, -4]])>"
      ]
     },
     "execution_count": 88,
     "metadata": {},
     "output_type": "execute_result"
    }
   ],
   "source": [
    "tf.stack([a,b],axis=0) # default : axis=0"
   ]
  },
  {
   "cell_type": "code",
   "execution_count": 89,
   "id": "EeZJrIzpMnBL",
   "metadata": {
    "colab": {
     "base_uri": "https://localhost:8080/"
    },
    "id": "EeZJrIzpMnBL",
    "outputId": "90a33415-5687-48cf-f3a5-721c98c11138"
   },
   "outputs": [
    {
     "data": {
      "text/plain": [
       "<tf.Tensor: shape=(4, 2), dtype=int32, numpy=\n",
       "array([[ 1, -1],\n",
       "       [ 2, -2],\n",
       "       [ 3, -3],\n",
       "       [ 4, -4]])>"
      ]
     },
     "execution_count": 89,
     "metadata": {},
     "output_type": "execute_result"
    }
   ],
   "source": [
    "tf.stack([a,b],axis=1)"
   ]
  },
  {
   "cell_type": "markdown",
   "id": "d314cfb7-f3f1-496d-b5cb-ac6f57eaa503",
   "metadata": {
    "id": "d314cfb7-f3f1-496d-b5cb-ac6f57eaa503"
   },
   "source": [
    "### tnp"
   ]
  },
  {
   "cell_type": "markdown",
   "id": "n2Lt5oJRVubo",
   "metadata": {
    "id": "n2Lt5oJRVubo"
   },
   "source": [
    "`-` 텐서만들기가 너무 힘듬..."
   ]
  },
  {
   "cell_type": "code",
   "execution_count": 90,
   "id": "0m_Z50kNV7RQ",
   "metadata": {
    "colab": {
     "base_uri": "https://localhost:8080/"
    },
    "id": "0m_Z50kNV7RQ",
    "outputId": "f738fb1d-1b62-432a-9c57-ee0997aa89ad"
   },
   "outputs": [
    {
     "data": {
      "text/plain": [
       "array([[1, 0, 0],\n",
       "       [0, 2, 0],\n",
       "       [0, 0, 3]])"
      ]
     },
     "execution_count": 90,
     "metadata": {},
     "output_type": "execute_result"
    }
   ],
   "source": [
    "np.diag([1,2,3])"
   ]
  },
  {
   "cell_type": "code",
   "execution_count": 91,
   "id": "4FbUmd55V7h6",
   "metadata": {
    "colab": {
     "base_uri": "https://localhost:8080/"
    },
    "id": "4FbUmd55V7h6",
    "outputId": "f242d201-a3d2-4333-d6fc-3f4ff54c2697"
   },
   "outputs": [
    {
     "data": {
      "text/plain": [
       "array([1, 0, 0, 0, 2, 0, 0, 0, 3])"
      ]
     },
     "execution_count": 91,
     "metadata": {},
     "output_type": "execute_result"
    }
   ],
   "source": [
    "np.diag([1,2,3]).reshape(-1)"
   ]
  },
  {
   "cell_type": "markdown",
   "id": "RVp_yXKsV3aQ",
   "metadata": {
    "id": "RVp_yXKsV3aQ"
   },
   "source": [
    "#### tnp 사용방법 (불만해결방법)"
   ]
  },
  {
   "cell_type": "code",
   "execution_count": 92,
   "id": "QesPiuH6VRAP",
   "metadata": {
    "id": "QesPiuH6VRAP"
   },
   "outputs": [],
   "source": [
    "import tensorflow.experimental.numpy as tnp\n",
    "tnp.experimental_enable_numpy_behavior() # numpy 연산의 편리함을 그대로 사용가능..."
   ]
  },
  {
   "cell_type": "code",
   "execution_count": 93,
   "id": "SRna3BkCVqso",
   "metadata": {
    "colab": {
     "base_uri": "https://localhost:8080/"
    },
    "id": "SRna3BkCVqso",
    "outputId": "1a44eb18-39b0-447a-d0c8-d7959e26c168"
   },
   "outputs": [
    {
     "data": {
      "text/plain": [
       "<tf.Tensor: shape=(3,), dtype=int32, numpy=array([1, 2, 3])>"
      ]
     },
     "execution_count": 93,
     "metadata": {},
     "output_type": "execute_result"
    }
   ],
   "source": [
    "tnp.array([1,2,3])"
   ]
  },
  {
   "cell_type": "code",
   "execution_count": 94,
   "id": "_MhodPfaVRHu",
   "metadata": {
    "colab": {
     "base_uri": "https://localhost:8080/"
    },
    "id": "_MhodPfaVRHu",
    "outputId": "ecef0aae-848f-4805-b174-1b5d8224ae18"
   },
   "outputs": [
    {
     "data": {
      "text/plain": [
       "tensorflow.python.framework.ops.EagerTensor"
      ]
     },
     "execution_count": 94,
     "metadata": {},
     "output_type": "execute_result"
    }
   ],
   "source": [
    "type(tnp.array([1,2,3]))"
   ]
  },
  {
   "cell_type": "markdown",
   "id": "Yby6znVKWRb_",
   "metadata": {
    "id": "Yby6znVKWRb_"
   },
   "source": [
    "`-` int 와 float 을 더할 수 있음."
   ]
  },
  {
   "cell_type": "code",
   "execution_count": 95,
   "id": "N7m2hll7ViPl",
   "metadata": {
    "colab": {
     "base_uri": "https://localhost:8080/"
    },
    "id": "N7m2hll7ViPl",
    "outputId": "44783df3-387a-4759-e0a5-462946799fda"
   },
   "outputs": [
    {
     "data": {
      "text/plain": [
       "<tf.Tensor: shape=(3,), dtype=float64, numpy=array([2., 4., 6.])>"
      ]
     },
     "execution_count": 95,
     "metadata": {},
     "output_type": "execute_result"
    }
   ],
   "source": [
    "tnp.array([1,2,3]) + tnp.array([1.0,2.0,3.0])"
   ]
  },
  {
   "cell_type": "code",
   "execution_count": 96,
   "id": "LVjCUv2PWw-Z",
   "metadata": {
    "colab": {
     "base_uri": "https://localhost:8080/"
    },
    "id": "LVjCUv2PWw-Z",
    "outputId": "e0e39087-59a0-4678-97e0-3c81bc3e7bb9"
   },
   "outputs": [
    {
     "data": {
      "text/plain": [
       "<tf.Tensor: shape=(3,), dtype=int32, numpy=array([2, 4, 6])>"
      ]
     },
     "execution_count": 96,
     "metadata": {},
     "output_type": "execute_result"
    }
   ],
   "source": [
    "tf.constant([1,2,3]) + tf.constant([1,2,3])"
   ]
  },
  {
   "cell_type": "code",
   "execution_count": 97,
   "id": "RihISXB7WeXS",
   "metadata": {
    "colab": {
     "base_uri": "https://localhost:8080/"
    },
    "id": "RihISXB7WeXS",
    "outputId": "57e6c4ec-a703-4990-ee90-8c213c7318ef"
   },
   "outputs": [
    {
     "data": {
      "text/plain": [
       "<tf.Tensor: shape=(3,), dtype=float64, numpy=array([2., 3., 4.])>"
      ]
     },
     "execution_count": 97,
     "metadata": {},
     "output_type": "execute_result"
    }
   ],
   "source": [
    "tnp.array(1) + tnp.array([1.0,2.0,3.0])"
   ]
  },
  {
   "cell_type": "code",
   "execution_count": 98,
   "id": "VJkob94RXD4g",
   "metadata": {
    "colab": {
     "base_uri": "https://localhost:8080/"
    },
    "id": "VJkob94RXD4g",
    "outputId": "e022bb27-98d8-42a4-c954-c8f323984da4"
   },
   "outputs": [
    {
     "data": {
      "text/plain": [
       "tensorflow.python.framework.ops.EagerTensor"
      ]
     },
     "execution_count": 98,
     "metadata": {},
     "output_type": "execute_result"
    }
   ],
   "source": [
    "a=tnp.diag([1,2,3])\n",
    "type(a)"
   ]
  },
  {
   "cell_type": "code",
   "execution_count": 99,
   "id": "HAZpvL5uXIbX",
   "metadata": {
    "colab": {
     "base_uri": "https://localhost:8080/"
    },
    "id": "HAZpvL5uXIbX",
    "outputId": "74a56a10-e900-4a61-ccdf-b6fdfef1f8a0"
   },
   "outputs": [
    {
     "data": {
      "text/plain": [
       "<tf.Tensor: shape=(3, 1), dtype=int32, numpy=\n",
       "array([[1],\n",
       "       [2],\n",
       "       [3]])>"
      ]
     },
     "execution_count": 99,
     "metadata": {},
     "output_type": "execute_result"
    }
   ],
   "source": [
    "a=tf.constant([1,2,3])\n",
    "a.reshape(3,1)"
   ]
  },
  {
   "cell_type": "markdown",
   "id": "a7e4538a-52ff-4f84-8ac9-5381e0970fef",
   "metadata": {
    "id": "a7e4538a-52ff-4f84-8ac9-5381e0970fef"
   },
   "source": [
    "#### 선언, 선언고급"
   ]
  },
  {
   "cell_type": "code",
   "execution_count": 100,
   "id": "2GK561CZXVjY",
   "metadata": {
    "colab": {
     "base_uri": "https://localhost:8080/"
    },
    "id": "2GK561CZXVjY",
    "outputId": "7433e484-107c-44d3-fc2c-f46ceab6c1ab"
   },
   "outputs": [
    {
     "data": {
      "text/plain": [
       "array([ 0.31425732, -0.84331382,  0.26867129, -0.15982285, -0.65988322])"
      ]
     },
     "execution_count": 100,
     "metadata": {},
     "output_type": "execute_result"
    }
   ],
   "source": [
    "np.random.randn(5)"
   ]
  },
  {
   "cell_type": "code",
   "execution_count": 101,
   "id": "jwX-iAmtXfR4",
   "metadata": {
    "colab": {
     "base_uri": "https://localhost:8080/"
    },
    "id": "jwX-iAmtXfR4",
    "outputId": "566cd3a1-f715-4bd8-c824-92bc77980bd5"
   },
   "outputs": [
    {
     "data": {
      "text/plain": [
       "<tf.Tensor: shape=(5,), dtype=float64, numpy=array([ 1.30355384, -1.7205176 ,  0.17593862,  1.15795391,  0.79824986])>"
      ]
     },
     "execution_count": 101,
     "metadata": {},
     "output_type": "execute_result"
    }
   ],
   "source": [
    "tnp.random.randn(5)"
   ]
  },
  {
   "cell_type": "markdown",
   "id": "c1a84f81-fff4-4a5a-b8b2-8045ba3943fe",
   "metadata": {
    "id": "c1a84f81-fff4-4a5a-b8b2-8045ba3943fe"
   },
   "source": [
    "#### 타입"
   ]
  },
  {
   "cell_type": "code",
   "execution_count": 102,
   "id": "XTUpICTwXjZT",
   "metadata": {
    "colab": {
     "base_uri": "https://localhost:8080/"
    },
    "id": "XTUpICTwXjZT",
    "outputId": "ccf124c7-0b71-4974-833f-6a5799a79539"
   },
   "outputs": [
    {
     "data": {
      "text/plain": [
       "tensorflow.python.framework.ops.EagerTensor"
      ]
     },
     "execution_count": 102,
     "metadata": {},
     "output_type": "execute_result"
    }
   ],
   "source": [
    "type(tnp.random.randn(5)) # 타입은 그대로 유지"
   ]
  },
  {
   "cell_type": "markdown",
   "id": "bb759864-ef75-4ba0-9a11-d10cca6669f3",
   "metadata": {
    "id": "bb759864-ef75-4ba0-9a11-d10cca6669f3"
   },
   "source": [
    "#### tf.contant로 만들어도 마치 넘파이인듯 쓰는 기능들"
   ]
  },
  {
   "cell_type": "markdown",
   "id": "1Dfty81VXuYp",
   "metadata": {
    "id": "1Dfty81VXuYp"
   },
   "source": [
    "`-` 묵시적형변환이 가능.\n",
    "\n",
    "`-` 메소드를 쓸 수 있음."
   ]
  },
  {
   "cell_type": "code",
   "execution_count": 103,
   "id": "GeKkydOSX_vw",
   "metadata": {
    "colab": {
     "base_uri": "https://localhost:8080/"
    },
    "id": "GeKkydOSX_vw",
    "outputId": "4ff9e954-a054-4f54-b9f1-51ce0d39a2d6"
   },
   "outputs": [
    {
     "data": {
      "text/plain": [
       "<tf.Tensor: shape=(4, 1), dtype=int32, numpy=\n",
       "array([[1],\n",
       "       [2],\n",
       "       [3],\n",
       "       [4]])>"
      ]
     },
     "execution_count": 103,
     "metadata": {},
     "output_type": "execute_result"
    }
   ],
   "source": [
    "a=tnp.array([[1,2,3,4]])\n",
    "a.T"
   ]
  },
  {
   "cell_type": "markdown",
   "id": "8426767e-976c-4e35-a390-7f2943ec4e8d",
   "metadata": {
    "id": "8426767e-976c-4e35-a390-7f2943ec4e8d"
   },
   "source": [
    "#### 그렇지만 np.array는 아님 "
   ]
  },
  {
   "cell_type": "markdown",
   "id": "lDJ45hs-YQ0o",
   "metadata": {
    "id": "lDJ45hs-YQ0o"
   },
   "source": [
    "`-`"
   ]
  },
  {
   "cell_type": "code",
   "execution_count": 104,
   "id": "GuD1WW54YPi5",
   "metadata": {
    "id": "GuD1WW54YPi5"
   },
   "outputs": [],
   "source": [
    "a=tf.constant([1,2,3])"
   ]
  },
  {
   "cell_type": "code",
   "execution_count": 105,
   "id": "QCnAVRpiYY_g",
   "metadata": {
    "colab": {
     "base_uri": "https://localhost:8080/"
    },
    "id": "QCnAVRpiYY_g",
    "outputId": "1610afa7-38e4-4b0b-c20e-565c59d06f11"
   },
   "outputs": [
    {
     "data": {
      "text/plain": [
       "<tf.Tensor: shape=(3, 1), dtype=int32, numpy=\n",
       "array([[1],\n",
       "       [2],\n",
       "       [3]])>"
      ]
     },
     "execution_count": 105,
     "metadata": {},
     "output_type": "execute_result"
    }
   ],
   "source": [
    "a.reshape((3,1))"
   ]
  },
  {
   "cell_type": "code",
   "execution_count": 106,
   "id": "0iQB5HjlYZCi",
   "metadata": {
    "colab": {
     "base_uri": "https://localhost:8080/",
     "height": 174
    },
    "id": "0iQB5HjlYZCi",
    "outputId": "a4efaca2-4494-45ce-896a-e2bfb5e4e409"
   },
   "outputs": [
    {
     "ename": "TypeError",
     "evalue": "'tensorflow.python.framework.ops.EagerTensor' object does not support item assignment",
     "output_type": "error",
     "traceback": [
      "\u001b[1;31m---------------------------------------------------------------------------\u001b[0m",
      "\u001b[1;31mTypeError\u001b[0m                                 Traceback (most recent call last)",
      "Input \u001b[1;32mIn [106]\u001b[0m, in \u001b[0;36m<module>\u001b[1;34m\u001b[0m\n\u001b[1;32m----> 1\u001b[0m a[\u001b[38;5;241m0\u001b[39m]\u001b[38;5;241m=\u001b[39m\u001b[38;5;241m11\u001b[39m\n",
      "\u001b[1;31mTypeError\u001b[0m: 'tensorflow.python.framework.ops.EagerTensor' object does not support item assignment"
     ]
    }
   ],
   "source": [
    "a[0]=11 # 원소 변경은 불가능"
   ]
  },
  {
   "cell_type": "code",
   "execution_count": null,
   "id": "TKF0saowYZFv",
   "metadata": {
    "id": "TKF0saowYZFv"
   },
   "outputs": [],
   "source": []
  },
  {
   "cell_type": "code",
   "execution_count": null,
   "id": "KpuZjV1SYZL9",
   "metadata": {
    "id": "KpuZjV1SYZL9"
   },
   "outputs": [],
   "source": []
  },
  {
   "cell_type": "markdown",
   "id": "134e8dc9-4dcf-4802-b6c8-ca0178d2792d",
   "metadata": {
    "id": "134e8dc9-4dcf-4802-b6c8-ca0178d2792d"
   },
   "source": [
    "### tf.Variable"
   ]
  },
  {
   "cell_type": "markdown",
   "id": "da5a80db-9fe7-4c46-b210-dd10a07fef3b",
   "metadata": {
    "id": "da5a80db-9fe7-4c46-b210-dd10a07fef3b"
   },
   "source": [
    "#### 선언 "
   ]
  },
  {
   "cell_type": "markdown",
   "id": "e60dd0db-f157-4def-802d-613b2bd20804",
   "metadata": {
    "id": "e60dd0db-f157-4def-802d-613b2bd20804"
   },
   "source": [
    "#### 타입"
   ]
  },
  {
   "cell_type": "markdown",
   "id": "ea5946ae-2c9a-4d31-8720-5c136a024eca",
   "metadata": {
    "id": "ea5946ae-2c9a-4d31-8720-5c136a024eca"
   },
   "source": [
    "#### 인덱싱 "
   ]
  },
  {
   "cell_type": "markdown",
   "id": "7e469d06-98f9-4470-a654-299a97383706",
   "metadata": {
    "id": "7e469d06-98f9-4470-a654-299a97383706"
   },
   "source": [
    "#### tf.Variable $\\to$ 넘파이 "
   ]
  },
  {
   "cell_type": "markdown",
   "id": "065ea0b5-16ea-4884-b640-ac074d0c44ce",
   "metadata": {
    "id": "065ea0b5-16ea-4884-b640-ac074d0c44ce"
   },
   "source": [
    "#### tf.Variable 도 불편하다. "
   ]
  },
  {
   "cell_type": "markdown",
   "id": "6f802f8d-2562-4af8-b386-199fb01461c5",
   "metadata": {
    "id": "6f802f8d-2562-4af8-b386-199fb01461c5"
   },
   "source": [
    "#### 연산 "
   ]
  },
  {
   "cell_type": "markdown",
   "id": "5ae73107-074f-4c65-8ebb-4bf54e889b4c",
   "metadata": {
    "id": "5ae73107-074f-4c65-8ebb-4bf54e889b4c"
   },
   "source": [
    "#### 형태변환 "
   ]
  },
  {
   "cell_type": "markdown",
   "id": "a9b7e7eb-aeb9-491b-83d7-4a3d26334364",
   "metadata": {
    "id": "a9b7e7eb-aeb9-491b-83d7-4a3d26334364"
   },
   "source": [
    "#### 선언고급 "
   ]
  },
  {
   "cell_type": "markdown",
   "id": "ac9fb364-db20-4174-8b1d-5a476436fe77",
   "metadata": {
    "id": "ac9fb364-db20-4174-8b1d-5a476436fe77"
   },
   "source": [
    "#### tf.concat "
   ]
  },
  {
   "cell_type": "markdown",
   "id": "fc96fc7a-a57e-4eee-9931-88bca5d3e0f6",
   "metadata": {
    "id": "fc96fc7a-a57e-4eee-9931-88bca5d3e0f6"
   },
   "source": [
    "#### tf.stack"
   ]
  },
  {
   "cell_type": "markdown",
   "id": "43844a72-d627-49f1-8146-36859459a654",
   "metadata": {
    "id": "43844a72-d627-49f1-8146-36859459a654"
   },
   "source": [
    "#### 심지어 tf.Variable()로 만들어진 오브젝트는 tnp의 효과(은총)도 받지 못함"
   ]
  }
 ],
 "metadata": {
  "accelerator": "GPU",
  "colab": {
   "name": "2022-03-14-(2주차) 3월14일.ipynb",
   "provenance": []
  },
  "kernelspec": {
   "display_name": "Python 3 (ipykernel)",
   "language": "python",
   "name": "python3"
  },
  "language_info": {
   "codemirror_mode": {
    "name": "ipython",
    "version": 3
   },
   "file_extension": ".py",
   "mimetype": "text/x-python",
   "name": "python",
   "nbconvert_exporter": "python",
   "pygments_lexer": "ipython3",
   "version": "3.8.12"
  }
 },
 "nbformat": 4,
 "nbformat_minor": 5
}
