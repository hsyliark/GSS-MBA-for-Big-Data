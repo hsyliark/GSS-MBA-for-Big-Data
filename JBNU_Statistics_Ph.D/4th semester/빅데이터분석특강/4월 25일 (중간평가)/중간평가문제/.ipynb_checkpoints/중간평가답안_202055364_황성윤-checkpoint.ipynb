{
 "cells": [
  {
   "cell_type": "markdown",
   "id": "ada4c7d8",
   "metadata": {},
   "source": [
    "## 202055364 황성윤"
   ]
  },
  {
   "cell_type": "markdown",
   "id": "a649de31-52c1-433a-9f73-212ff720832a",
   "metadata": {
    "tags": []
   },
   "source": [
    "# 빅데이터분석 특강 중간고사"
   ]
  },
  {
   "cell_type": "code",
   "execution_count": 4,
   "id": "a05d1125-708a-4485-92a7-75d22b4a90fc",
   "metadata": {},
   "outputs": [],
   "source": [
    "import numpy as np\n",
    "import tensorflow as tf \n",
    "import tensorflow.experimental.numpy as tnp \n",
    "tnp.experimental_enable_numpy_behavior()"
   ]
  },
  {
   "cell_type": "code",
   "execution_count": 5,
   "id": "87906483-47e5-408e-bcb7-ce0bcb1fad5b",
   "metadata": {},
   "outputs": [],
   "source": [
    "import pandas as pd\n",
    "import matplotlib.pyplot as plt "
   ]
  },
  {
   "cell_type": "markdown",
   "id": "13f70088-339a-48c7-927b-1e039fe43b62",
   "metadata": {},
   "source": [
    "## `1`. 경사하강법과 tf.GradientTape()의 사용방법 (30점)"
   ]
  },
  {
   "cell_type": "markdown",
   "id": "1bf2e145-d18c-4006-93a0-c4e9f5f91d94",
   "metadata": {},
   "source": [
    "`(1)` 아래는 $X_i \\overset{iid}{\\sim} N(3,2^2)$ 를 생성하는 코드이다. "
   ]
  },
  {
   "cell_type": "code",
   "execution_count": 209,
   "id": "62c4c5bb-1c84-4d08-9a8c-0f56ac31fc7a",
   "metadata": {},
   "outputs": [
    {
     "data": {
      "text/plain": [
       "<tf.Tensor: shape=(10000,), dtype=float64, numpy=\n",
       "array([ 4.12539849,  5.46696729,  5.27243374, ...,  2.89712332,\n",
       "        5.01072291, -1.13050477])>"
      ]
     },
     "execution_count": 209,
     "metadata": {},
     "output_type": "execute_result"
    }
   ],
   "source": [
    "tf.random.set_seed(43052)\n",
    "x= tnp.random.randn(10000)*2+3\n",
    "x"
   ]
  },
  {
   "cell_type": "markdown",
   "id": "4266f989-9bc3-4bb6-ae0a-5bde6f7fa489",
   "metadata": {},
   "source": [
    "함수 $L(\\mu,\\sigma)$을 최대화하는 $(\\mu,\\sigma)$를 `tf.GradientTape()`를 활용하여 추정하라. (경사하강법 혹은 경사상승법을 사용하고 $\\mu$의 초기값은 2로 $\\sigma$의 초기값은 3으로 설정할 것) \n",
    "\n",
    "$$L(\\mu,\\sigma)=\\prod_{i=1}^{n}f(x_i), \\quad f(x_i)=\\frac{1}{\\sqrt{2\\pi}\\sigma}e^{-\\frac{1}{2}(\\frac{x_i-\\mu}{\\sigma})^2}$$"
   ]
  },
  {
   "cell_type": "code",
   "execution_count": 210,
   "id": "2f153780",
   "metadata": {},
   "outputs": [
    {
     "data": {
      "text/plain": [
       "(<tf.Tensor: shape=(), dtype=float64, numpy=3.0164017983287295>,\n",
       " <tf.Tensor: shape=(), dtype=float64, numpy=1.9869589700290096>)"
      ]
     },
     "execution_count": 210,
     "metadata": {},
     "output_type": "execute_result"
    }
   ],
   "source": [
    "tnp.mean(x), tnp.sqrt(tnp.var(x)*(9999/10000)) # MLE of mu and sigma"
   ]
  },
  {
   "cell_type": "code",
   "execution_count": 211,
   "id": "c63788f4",
   "metadata": {},
   "outputs": [],
   "source": [
    "mu = tf.Variable(2.0) \n",
    "sigma = tf.Variable(3.0)"
   ]
  },
  {
   "cell_type": "code",
   "execution_count": 212,
   "id": "f7685d7e",
   "metadata": {},
   "outputs": [],
   "source": [
    "alpha = 0.0001\n",
    "opt = tf.keras.optimizers.SGD(alpha)"
   ]
  },
  {
   "cell_type": "code",
   "execution_count": 213,
   "id": "839df09d",
   "metadata": {},
   "outputs": [],
   "source": [
    "for epoc in range(10000):\n",
    "    with tf.GradientTape() as tape:\n",
    "        # minimize minus log likelihood function\n",
    "        minus_logL = -tf.reduce_sum(tnp.log((1/tnp.sqrt(2*np.pi)/sigma)*tnp.exp(-(1/2)*((x-mu)/sigma)**2))) \n",
    "    slope0,slope1 = tape.gradient(minus_logL,[mu,sigma])\n",
    "    opt.apply_gradients([(slope0,mu),(slope1,sigma)])"
   ]
  },
  {
   "cell_type": "code",
   "execution_count": 214,
   "id": "b16b9246",
   "metadata": {},
   "outputs": [
    {
     "data": {
      "text/plain": [
       "(<tf.Variable 'Variable:0' shape=() dtype=float32, numpy=3.0164015>,\n",
       " <tf.Variable 'Variable:0' shape=() dtype=float32, numpy=1.9870584>)"
      ]
     },
     "execution_count": 214,
     "metadata": {},
     "output_type": "execute_result"
    }
   ],
   "source": [
    "mu, sigma"
   ]
  },
  {
   "cell_type": "markdown",
   "id": "d28337ea",
   "metadata": {},
   "source": [
    "$\\hat{\\mu}=3.0164015, \\hat{\\sigma}=1.9870584$"
   ]
  },
  {
   "cell_type": "markdown",
   "id": "22a89af4-8834-4b4a-b0bc-6d9782315e99",
   "metadata": {},
   "source": [
    "`(2)` 아래는 $X_i \\overset{iid}{\\sim} Ber(0.8)$을 생성하는 코드이다. "
   ]
  },
  {
   "cell_type": "code",
   "execution_count": 215,
   "id": "78dc1408-f4f7-4124-a073-c71296fcc249",
   "metadata": {},
   "outputs": [
    {
     "data": {
      "text/plain": [
       "<tf.Tensor: shape=(10000,), dtype=int32, numpy=array([0, 1, 1, ..., 1, 0, 1])>"
      ]
     },
     "execution_count": 215,
     "metadata": {},
     "output_type": "execute_result"
    }
   ],
   "source": [
    "tf.random.set_seed(43052)\n",
    "x= tf.constant(np.random.binomial(1,0.8,(10000,)))\n",
    "x"
   ]
  },
  {
   "cell_type": "markdown",
   "id": "56d3b31c-ac0a-4648-8663-5b74c2b2b051",
   "metadata": {},
   "source": [
    "함수 $L(p)$을 최대화하는 $p$를 `tf.GradientTape()`를 활용하여 추정하라. (경사하강법 혹은 경사상승법을 사용하고 $p$의 초기값은 0.3으로 설정할 것) \n",
    "\n",
    "\n",
    "$$L(p)=\\prod_{i=1}^{n}f(x_i), \\quad f(x_i)=p^{x_i}(1-p)^{1-x_i}$$"
   ]
  },
  {
   "cell_type": "code",
   "execution_count": 216,
   "id": "3af601bb",
   "metadata": {},
   "outputs": [
    {
     "data": {
      "text/plain": [
       "<tf.Tensor: shape=(), dtype=float64, numpy=0.8005>"
      ]
     },
     "execution_count": 216,
     "metadata": {},
     "output_type": "execute_result"
    }
   ],
   "source": [
    "tnp.mean(x) # MLE of mu and sigma"
   ]
  },
  {
   "cell_type": "code",
   "execution_count": 217,
   "id": "1264f435",
   "metadata": {},
   "outputs": [],
   "source": [
    "p = tf.Variable(0.3)"
   ]
  },
  {
   "cell_type": "code",
   "execution_count": 218,
   "id": "79bed4fa",
   "metadata": {},
   "outputs": [],
   "source": [
    "alpha = 0.000001\n",
    "opt = tf.keras.optimizers.SGD(alpha)"
   ]
  },
  {
   "cell_type": "code",
   "execution_count": 219,
   "id": "eba118dd",
   "metadata": {},
   "outputs": [],
   "source": [
    "for epoc in range(10000):\n",
    "    with tf.GradientTape() as tape:\n",
    "        # minimize minus log likelihood function\n",
    "        minus_logL = -tf.reduce_sum(x*tnp.log(p)+(1-x)*tnp.log(1-p)) \n",
    "    slope = tape.gradient(minus_logL,p)\n",
    "    opt.apply_gradients([(slope,p)])"
   ]
  },
  {
   "cell_type": "code",
   "execution_count": 220,
   "id": "c8213c89",
   "metadata": {},
   "outputs": [
    {
     "data": {
      "text/plain": [
       "<tf.Variable 'Variable:0' shape=() dtype=float32, numpy=0.80049956>"
      ]
     },
     "execution_count": 220,
     "metadata": {},
     "output_type": "execute_result"
    }
   ],
   "source": [
    "p"
   ]
  },
  {
   "cell_type": "markdown",
   "id": "ab582668",
   "metadata": {},
   "source": [
    "$\\hat{p}=0.80049956$"
   ]
  },
  {
   "cell_type": "markdown",
   "id": "af7d2663-4db7-4da1-b55c-acab57da3f9b",
   "metadata": {},
   "source": [
    "`(3)` 아래의 모형에 따라서 $\\{Y_i\\}_{i=1}^{10000}$를 생성하는 코드를 작성하라. \n",
    "- $Y_i \\overset{iid}{\\sim} N(\\mu_i,1)$ \n",
    "- $\\mu_i = \\beta_0 + \\beta_1 x_i = 0.5 + 2 x_i$ , where $x_i = \\frac{i}{10000}$"
   ]
  },
  {
   "cell_type": "markdown",
   "id": "da6536c1-15f4-4d5a-b119-2a9e4a9ee146",
   "metadata": {},
   "source": [
    "함수 $L(\\beta_0,\\beta_1)$을 최대화하는 $(\\beta_0,\\beta_1)$를 `tf.GradientTape()`를 활용하여 추정하라. (경사하강법 혹은 경사상승법을 사용하고 $\\beta_0,\\beta_1$의 초기값은 모두 1로 설정할 것) \n",
    "\n",
    "$$L(\\beta_0,\\beta_1)=\\prod_{i=1}^{n}f(y_i), \\quad f(y_i)=\\frac{1}{\\sqrt{2\\pi}}e^{-\\frac{1}{2}(y_i-\\mu_i)^2}, \\quad \\mu_i=\\beta_0+\\beta_1 x_i$$"
   ]
  },
  {
   "cell_type": "code",
   "execution_count": 221,
   "id": "f74bd1d7",
   "metadata": {},
   "outputs": [],
   "source": [
    "tf.random.set_seed(55364)\n",
    "x = (tnp.array(range(10000))+1)/10000\n",
    "mu = 0.5+2.0*x\n",
    "y = tf.constant(1*tnp.random.randn(1)+mu,dtype=tf.float64)\n",
    "n = 10000"
   ]
  },
  {
   "cell_type": "code",
   "execution_count": 222,
   "id": "6931e47d",
   "metadata": {},
   "outputs": [
    {
     "data": {
      "text/plain": [
       "<tf.Tensor: shape=(10000,), dtype=float64, numpy=\n",
       "array([1.000e-04, 2.000e-04, 3.000e-04, ..., 9.998e-01, 9.999e-01,\n",
       "       1.000e+00])>"
      ]
     },
     "execution_count": 222,
     "metadata": {},
     "output_type": "execute_result"
    }
   ],
   "source": [
    "x"
   ]
  },
  {
   "cell_type": "code",
   "execution_count": 223,
   "id": "7064674b",
   "metadata": {},
   "outputs": [
    {
     "data": {
      "text/plain": [
       "<tf.Tensor: shape=(10000,), dtype=float64, numpy=\n",
       "array([2.03309095, 2.03329095, 2.03349095, ..., 4.03249095, 4.03269095,\n",
       "       4.03289095])>"
      ]
     },
     "execution_count": 223,
     "metadata": {},
     "output_type": "execute_result"
    }
   ],
   "source": [
    "y"
   ]
  },
  {
   "cell_type": "code",
   "execution_count": 224,
   "id": "9dfafa42",
   "metadata": {},
   "outputs": [
    {
     "data": {
      "text/plain": [
       "(<tf.Tensor: shape=(), dtype=float64, numpy=2.0328909487904694>,\n",
       " <tf.Tensor: shape=(), dtype=float64, numpy=2.0>)"
      ]
     },
     "execution_count": 224,
     "metadata": {},
     "output_type": "execute_result"
    }
   ],
   "source": [
    "Sxx = sum((x-x.mean())**2)\n",
    "Sxy = sum((x-x.mean())*(y-y.mean()))\n",
    "beta1_hat = Sxy/Sxx \n",
    "beta0_hat = y.mean() - x.mean()*beta1_hat\n",
    "beta0_hat, beta1_hat # MLE of β0 and β1"
   ]
  },
  {
   "cell_type": "code",
   "execution_count": 225,
   "id": "16f40011",
   "metadata": {},
   "outputs": [],
   "source": [
    "beta0 = tf.Variable(1.0)\n",
    "beta1 = tf.Variable(1.0)"
   ]
  },
  {
   "cell_type": "code",
   "execution_count": 226,
   "id": "861bb318",
   "metadata": {},
   "outputs": [],
   "source": [
    "alpha = 0.0001\n",
    "opt = tf.keras.optimizers.SGD(alpha)"
   ]
  },
  {
   "cell_type": "code",
   "execution_count": 227,
   "id": "35a80a89",
   "metadata": {},
   "outputs": [],
   "source": [
    "for epoc in range(10000):\n",
    "    with tf.GradientTape() as tape:\n",
    "        # minimize minus log likelihood function\n",
    "        minus_logL = tf.reduce_sum((1/2)*tnp.log(2*np.pi)+(1/2)*(y-beta0-beta1*x)**2)   \n",
    "    slope0,slope1 = tape.gradient(minus_logL,[beta0,beta1])\n",
    "    opt.apply_gradients([(slope0,beta0),(slope1,beta1)])"
   ]
  },
  {
   "cell_type": "code",
   "execution_count": 228,
   "id": "9233ec47",
   "metadata": {},
   "outputs": [
    {
     "data": {
      "text/plain": [
       "(<tf.Variable 'Variable:0' shape=() dtype=float32, numpy=2.0328915>,\n",
       " <tf.Variable 'Variable:0' shape=() dtype=float32, numpy=1.999999>)"
      ]
     },
     "execution_count": 228,
     "metadata": {},
     "output_type": "execute_result"
    }
   ],
   "source": [
    "beta0, beta1"
   ]
  },
  {
   "cell_type": "markdown",
   "id": "823431b5",
   "metadata": {},
   "source": [
    "$\\hat{\\beta_{0}}=2.0328915, \\hat{\\beta_{1}}=1.999999$"
   ]
  },
  {
   "cell_type": "markdown",
   "id": "f702594a-236e-4e18-a409-c0d926897d2b",
   "metadata": {},
   "source": [
    "## `2`. 회귀분석의 이론적해와 tf.keras.optimizer 이용방법 (20점)"
   ]
  },
  {
   "cell_type": "markdown",
   "id": "3efebdc4-8086-43bb-a1fd-9a8b49d86b97",
   "metadata": {},
   "source": [
    "아래와 같은 선형모형을 고려하자. \n",
    "\n",
    "$$y_i = \\beta_0 + \\beta_1 x_i +\\epsilon_i.$$\n",
    "\n",
    "이때 오차항은 정규분포로 가정한다. 즉 $\\epsilon_i \\overset{iid}{\\sim} N(0,\\sigma^2)$라고 가정한다. \n",
    "\n",
    "관측데이터가 아래와 같을때 아래의 물음에 답하라. "
   ]
  },
  {
   "cell_type": "code",
   "execution_count": 229,
   "id": "eabac705-2792-40cd-9aef-c395ad3c0bb8",
   "metadata": {
    "tags": []
   },
   "outputs": [],
   "source": [
    "x= tnp.array([20.1, 22.2, 22.7, 23.3, 24.4, 25.1, 26.2, 27.3, 28.4, 30.4])\n",
    "y= tnp.array([55.4183651 , 58.19427589, 61.23082496, 62.31255873, 63.1070028 , \n",
    "              63.69569103, 67.24704918, 71.43650092, 73.10130336, 77.84988286])\n",
    "# X= tnp.array([[1.0, 20.1], [1.0, 22.2], [1.0, 22.7], [1.0, 23.3], [1.0, 24.4],\n",
    "#               [1.0, 25.1], [1.0, 26.2], [1.0, 27.3], [1.0, 28.4], [1.0, 30.4]])"
   ]
  },
  {
   "cell_type": "markdown",
   "id": "b9f5139e-1d1d-4644-a09d-04a7c9a24e22",
   "metadata": {},
   "source": [
    "`(1)` MSE loss를 최소화 하는 $\\beta_0,\\beta_1$의 해석해를 구하라. "
   ]
  },
  {
   "cell_type": "code",
   "execution_count": 230,
   "id": "1127e46e",
   "metadata": {},
   "outputs": [
    {
     "data": {
      "text/plain": [
       "(TensorShape([10, 1]), TensorShape([10, 2]))"
      ]
     },
     "execution_count": 230,
     "metadata": {},
     "output_type": "execute_result"
    }
   ],
   "source": [
    "X = tf.stack([tf.ones(10,dtype='float64'),x],axis=1)\n",
    "y = y.reshape(10,1)\n",
    "y.shape,X.shape"
   ]
  },
  {
   "cell_type": "code",
   "execution_count": 231,
   "id": "03d3eef3",
   "metadata": {},
   "outputs": [
    {
     "data": {
      "text/plain": [
       "<tf.Tensor: shape=(2, 1), dtype=float64, numpy=\n",
       "array([[9.94457323],\n",
       "       [2.21570461]])>"
      ]
     },
     "execution_count": 231,
     "metadata": {},
     "output_type": "execute_result"
    }
   ],
   "source": [
    "tf.linalg.inv(X.T@X)@X.T@y "
   ]
  },
  {
   "cell_type": "markdown",
   "id": "c439f824",
   "metadata": {},
   "source": [
    "$\\hat{\\beta_{0}}=9.94457323, \\hat{\\beta_{1}}=2.21570461$"
   ]
  },
  {
   "cell_type": "markdown",
   "id": "cbfabe4b-ffc2-40ef-ad4e-7df81174f0ce",
   "metadata": {},
   "source": [
    "`(2)` 경사하강법과 MSE loss의 도함수를 이용하여 $\\beta_0,\\beta_1$을 추정하라. \n",
    "\n",
    "**주의** tf.GradeintTape()를 이용하지 말고 MSE loss의 해석적 도함수를 사용할 것."
   ]
  },
  {
   "cell_type": "code",
   "execution_count": 232,
   "id": "8427a745",
   "metadata": {},
   "outputs": [],
   "source": [
    "beta_hat = tf.Variable(tnp.array([10.0,5.0]).reshape(2,1))\n",
    "alpha=0.0001"
   ]
  },
  {
   "cell_type": "code",
   "execution_count": 233,
   "id": "cdb71ef1",
   "metadata": {},
   "outputs": [],
   "source": [
    "for epoc in range(1000):\n",
    "    slope = -2*X.T@(y-X@beta_hat)\n",
    "    beta_hat.assign_sub(alpha*slope)"
   ]
  },
  {
   "cell_type": "code",
   "execution_count": 234,
   "id": "f4090cdd",
   "metadata": {},
   "outputs": [
    {
     "data": {
      "text/plain": [
       "<tf.Variable 'Variable:0' shape=(2, 1) dtype=float64, numpy=\n",
       "array([[9.89177719],\n",
       "       [2.21778641]])>"
      ]
     },
     "execution_count": 234,
     "metadata": {},
     "output_type": "execute_result"
    }
   ],
   "source": [
    "beta_hat"
   ]
  },
  {
   "cell_type": "markdown",
   "id": "ccaac1f3",
   "metadata": {},
   "source": [
    "$\\hat{\\beta_{0}}=9.89177719, \\hat{\\beta_{1}}=2.21778641$"
   ]
  },
  {
   "cell_type": "markdown",
   "id": "79cd50f2-b147-4203-8ae4-ae94e75a9e81",
   "metadata": {},
   "source": [
    "`(3)` `tf.keras.optimizers`의 `apply_gradients()`를 이용하여 $\\beta_0,\\beta_1$을 추정하라. "
   ]
  },
  {
   "cell_type": "code",
   "execution_count": 235,
   "id": "ee46c8b0",
   "metadata": {},
   "outputs": [],
   "source": [
    "N = 10\n",
    "beta_hat = tf.Variable(tnp.array([10.0,5.0]).reshape(2,1))\n",
    "alpha=0.0001\n",
    "opt = tf.keras.optimizers.SGD(alpha)"
   ]
  },
  {
   "cell_type": "code",
   "execution_count": 236,
   "id": "9deb4cb7",
   "metadata": {},
   "outputs": [],
   "source": [
    "for epoc in range(1000):\n",
    "    with tf.GradientTape(persistent=True) as tape: \n",
    "        tape.watch(beta_hat)\n",
    "        yhat= X@beta_hat\n",
    "        loss= (y-yhat).T @ (y-yhat) / N\n",
    "    slope = tape.gradient(loss,beta_hat)\n",
    "    opt.apply_gradients([(slope,beta_hat)])"
   ]
  },
  {
   "cell_type": "code",
   "execution_count": 237,
   "id": "e88b8b33",
   "metadata": {},
   "outputs": [
    {
     "data": {
      "text/plain": [
       "<tf.Variable 'Variable:0' shape=(2, 1) dtype=float64, numpy=\n",
       "array([[9.89044651],\n",
       "       [2.21783888]])>"
      ]
     },
     "execution_count": 237,
     "metadata": {},
     "output_type": "execute_result"
    }
   ],
   "source": [
    "beta_hat"
   ]
  },
  {
   "cell_type": "markdown",
   "id": "a4a7e510",
   "metadata": {},
   "source": [
    "$\\hat{\\beta_{0}}=9.89044651, \\hat{\\beta_{1}}=2.21783888$"
   ]
  },
  {
   "cell_type": "markdown",
   "id": "0c172474-11b5-41ae-84e8-538c8ac2af17",
   "metadata": {},
   "source": [
    "`(4)` `tf.keras.optimizers`의 `minimize()`를 이용하여 $\\beta_0,\\beta_1$을 추정하라. "
   ]
  },
  {
   "cell_type": "code",
   "execution_count": 238,
   "id": "7f4d572d",
   "metadata": {},
   "outputs": [],
   "source": [
    "N = 10\n",
    "beta_hat = tf.Variable(tnp.array([10.0,5.0]).reshape(2,1))\n",
    "loss_fn = lambda: (y-X@beta_hat).T @ (y-X@beta_hat) / N \n",
    "alpha=0.0001 \n",
    "opt = tf.keras.optimizers.SGD(alpha)"
   ]
  },
  {
   "cell_type": "code",
   "execution_count": 239,
   "id": "84aa5122",
   "metadata": {},
   "outputs": [],
   "source": [
    "for epoc in range(1000): \n",
    "    opt.minimize(loss_fn,beta_hat)"
   ]
  },
  {
   "cell_type": "code",
   "execution_count": 240,
   "id": "14c9df24",
   "metadata": {},
   "outputs": [
    {
     "data": {
      "text/plain": [
       "<tf.Variable 'Variable:0' shape=(2, 1) dtype=float64, numpy=\n",
       "array([[9.89044651],\n",
       "       [2.21783888]])>"
      ]
     },
     "execution_count": 240,
     "metadata": {},
     "output_type": "execute_result"
    }
   ],
   "source": [
    "beta_hat"
   ]
  },
  {
   "cell_type": "markdown",
   "id": "c78a65cd",
   "metadata": {},
   "source": [
    "$\\hat{\\beta_{0}}=9.89044651, \\hat{\\beta_{1}}=2.21783888$"
   ]
  },
  {
   "cell_type": "markdown",
   "id": "4c5fe083-f319-4381-bc21-5bf18ae531cf",
   "metadata": {},
   "source": [
    "## `3`. keras를 이용한 풀이 (30점)"
   ]
  },
  {
   "cell_type": "markdown",
   "id": "5d15790d-6f7e-4ecd-9b9d-27d809ff8a0d",
   "metadata": {},
   "source": [
    "`(1)` 아래와 같은 모형을 고려하자. \n",
    "\n",
    "$$y_i= \\beta_0 + \\sum_{k=1}^{5} \\beta_k \\cos(k t_i)+\\epsilon_i, \\quad i=0,1,\\dots, 999$$\n",
    "\n",
    "여기에서 $t_i=\\frac{2\\pi i}{1000}$ 이다. 그리고 $\\epsilon_i \\sim i.i.d~ N(0,\\sigma^2)$, 즉 서로 독립인 표준정규분포에서 추출된 샘플이다. 위의 모형에서 아래와 같은 데이터를 관측했다고 가정하자. "
   ]
  },
  {
   "cell_type": "code",
   "execution_count": 241,
   "id": "d136550f-c5de-49c2-9592-d5727132eeae",
   "metadata": {},
   "outputs": [
    {
     "data": {
      "text/plain": [
       "[<matplotlib.lines.Line2D at 0x13f82729e80>]"
      ]
     },
     "execution_count": 241,
     "metadata": {},
     "output_type": "execute_result"
    },
    {
     "data": {
      "image/png": "[encoded data removed]",
      "text/plain": [
       "<Figure size 432x288 with 1 Axes>"
      ]
     },
     "metadata": {
      "needs_background": "light"
     },
     "output_type": "display_data"
    }
   ],
   "source": [
    "np.random.seed(43052)\n",
    "t= np.array(range(1000))* np.pi/1000\n",
    "y = -2+ 3*np.cos(t) + 1*np.cos(2*t) + 0.5*np.cos(5*t) + np.random.randn(1000)*0.2\n",
    "plt.plot(t,y,'.',alpha=0.2)"
   ]
  },
  {
   "cell_type": "markdown",
   "id": "eeab60d2-c405-4d7b-9cc7-49d887f414bc",
   "metadata": {},
   "source": [
    "tf.keras를 이용하여 $\\beta_0,\\dots,\\beta_5$를 추정하라. ($\\beta_0,\\dots,\\beta_5$의 참값은 각각 -2,3,1,0,0,0.5 이다) "
   ]
  },
  {
   "cell_type": "code",
   "execution_count": 242,
   "id": "9965ce2f",
   "metadata": {},
   "outputs": [
    {
     "data": {
      "text/plain": [
       "(TensorShape([1000, 1]), TensorShape([1000, 6]))"
      ]
     },
     "execution_count": 242,
     "metadata": {},
     "output_type": "execute_result"
    }
   ],
   "source": [
    "y = tnp.array(y.reshape(1000,1))\n",
    "X = tf.stack([tf.ones(1000,dtype='float64'),tnp.array(np.cos(t)),tnp.array(np.cos(2*t)),tnp.array(np.cos(3*t)),\n",
    "              tnp.array(np.cos(4*t)),tnp.array(np.cos(5*t))],axis=1)\n",
    "y.shape, X.shape"
   ]
  },
  {
   "cell_type": "code",
   "execution_count": 243,
   "id": "6faf2ccf",
   "metadata": {},
   "outputs": [
    {
     "data": {
      "text/plain": [
       "<keras.callbacks.History at 0x13f82c903a0>"
      ]
     },
     "execution_count": 243,
     "metadata": {},
     "output_type": "execute_result"
    }
   ],
   "source": [
    "tf.random.set_seed(55364) \n",
    "## 1단계\n",
    "net1 = tf.keras.Sequential() \n",
    "## 2단계\n",
    "net1.add(tf.keras.layers.Dense(100,activation='relu')) \n",
    "net1.add(tf.keras.layers.Dense(1))\n",
    "## 3단계 \n",
    "net1.compile(optimizer=tf.optimizers.SGD(0.01),loss='mse')\n",
    "## 4단계 \n",
    "net1.fit(X,y,epochs=1000,verbose=0,batch_size=1000)"
   ]
  },
  {
   "cell_type": "code",
   "execution_count": 244,
   "id": "a672af84",
   "metadata": {},
   "outputs": [
    {
     "data": {
      "text/plain": [
       "[<matplotlib.lines.Line2D at 0x13f82757a30>]"
      ]
     },
     "execution_count": 244,
     "metadata": {},
     "output_type": "execute_result"
    },
    {
     "data": {
      "image/png": "[encoded data removed]",
      "text/plain": [
       "<Figure size 432x288 with 1 Axes>"
      ]
     },
     "metadata": {
      "needs_background": "light"
     },
     "output_type": "display_data"
    }
   ],
   "source": [
    "plt.plot(t,y,'.',alpha=0.2)\n",
    "plt.plot(t,net1(X),'--r')"
   ]
  },
  {
   "cell_type": "code",
   "execution_count": 245,
   "id": "6446c708",
   "metadata": {},
   "outputs": [],
   "source": [
    "N = 1000\n",
    "beta_hat = tf.Variable(tnp.array([0.0,4.0,2.0,1.0,1.0,0.0]).reshape(6,1))\n",
    "alpha=0.01\n",
    "opt = tf.keras.optimizers.SGD(alpha)\n",
    "for epoc in range(1000):\n",
    "    with tf.GradientTape() as tape: \n",
    "        yhat= X@beta_hat\n",
    "        loss= (y-yhat).T @ (y-yhat) / N\n",
    "    slope = tape.gradient(loss,beta_hat)\n",
    "    opt.apply_gradients([(slope,beta_hat)])"
   ]
  },
  {
   "cell_type": "code",
   "execution_count": 246,
   "id": "7b2ed82f",
   "metadata": {},
   "outputs": [
    {
     "data": {
      "text/plain": [
       "<tf.Variable 'Variable:0' shape=(6, 1) dtype=float64, numpy=\n",
       "array([[-2.01226553e+00],\n",
       "       [ 3.00103784e+00],\n",
       "       [ 1.00674977e+00],\n",
       "       [ 1.88070818e-03],\n",
       "       [-3.84802712e-03],\n",
       "       [ 4.97089344e-01]])>"
      ]
     },
     "execution_count": 246,
     "metadata": {},
     "output_type": "execute_result"
    }
   ],
   "source": [
    "beta_hat"
   ]
  },
  {
   "cell_type": "markdown",
   "id": "fe4cfab8",
   "metadata": {},
   "source": [
    "$\\hat{\\beta_{0}}=-2.01226553, \\hat{\\beta_{1}}=3.00103784, \\hat{\\beta_{2}}=1.00674977, \\hat{\\beta_{3}}=0.00188070818, \\hat{\\beta_{4}}=-0.00384802712, \\hat{\\beta_{5}}=0.497089344$   "
   ]
  },
  {
   "cell_type": "markdown",
   "id": "85e44a28-4970-40ba-92ad-821134f8cb79",
   "metadata": {},
   "source": [
    "`(2)` 아래와 같은 모형을 고려하자. \n",
    "\n",
    "$$y_i \\sim Ber(\\pi_i), ~ \\text{where} ~ \\pi_i=\\frac{\\exp(w_0+w_1x_i)}{1+\\exp(w_0+w_1x_i)}$$\n"
   ]
  },
  {
   "cell_type": "markdown",
   "id": "f7caedd8-176b-4b04-8632-729c376ee521",
   "metadata": {},
   "source": [
    "위의 모형에서 관측한 데이터는 아래와 같다. "
   ]
  },
  {
   "cell_type": "code",
   "execution_count": 247,
   "id": "f4761787-1e6b-49f0-b8bf-a11e8332bab6",
   "metadata": {
    "tags": []
   },
   "outputs": [
    {
     "data": {
      "text/plain": [
       "[<matplotlib.lines.Line2D at 0x13f827c57c0>]"
      ]
     },
     "execution_count": 247,
     "metadata": {},
     "output_type": "execute_result"
    },
    {
     "data": {
      "image/png": "[encoded data removed]",
      "text/plain": [
       "<Figure size 432x288 with 1 Axes>"
      ]
     },
     "metadata": {
      "needs_background": "light"
     },
     "output_type": "display_data"
    }
   ],
   "source": [
    "tf.random.set_seed(43052)\n",
    "x = tnp.linspace(-1,1,2000) \n",
    "y = tf.constant(np.random.binomial(1, tf.nn.sigmoid(-1+5*x)),dtype=tf.float64) \n",
    "plt.plot(x,y,'.',alpha=0.05)"
   ]
  },
  {
   "cell_type": "markdown",
   "id": "d449924f-1bb3-460b-bfd5-5a68ae2de894",
   "metadata": {},
   "source": [
    "tf.keras를 이용하여 $w_0,w_1$을 추정하라. (참고: $w_0, w_1$에 대한 참값은 -1과 5이다.) "
   ]
  },
  {
   "cell_type": "code",
   "execution_count": 248,
   "id": "22a0eb39",
   "metadata": {},
   "outputs": [
    {
     "data": {
      "text/plain": [
       "(TensorShape([2000, 1]), TensorShape([2000, 1]))"
      ]
     },
     "execution_count": 248,
     "metadata": {},
     "output_type": "execute_result"
    }
   ],
   "source": [
    "N = 2000\n",
    "x = x.reshape(2000,1)\n",
    "y = y.reshape(2000,1)\n",
    "y.shape, x.shape"
   ]
  },
  {
   "cell_type": "code",
   "execution_count": 249,
   "id": "293b55ce",
   "metadata": {},
   "outputs": [
    {
     "data": {
      "text/plain": [
       "<keras.callbacks.History at 0x13f828057c0>"
      ]
     },
     "execution_count": 249,
     "metadata": {},
     "output_type": "execute_result"
    }
   ],
   "source": [
    "tf.random.set_seed(55364)\n",
    "net2 = tf.keras.Sequential() \n",
    "net2.add(tf.keras.layers.Dense(1,activation='sigmoid'))\n",
    "bceloss_fn = lambda y,yhat: -tf.reduce_mean(y*tnp.log(yhat) + (1-y)*tnp.log(1-yhat))\n",
    "net2.compile(loss=bceloss_fn, optimizer=tf.keras.optimizers.SGD(0.1))\n",
    "net2.fit(x,y,epochs=1000,verbose=0,batch_size=N) "
   ]
  },
  {
   "cell_type": "code",
   "execution_count": 250,
   "id": "2d7877c4",
   "metadata": {},
   "outputs": [
    {
     "data": {
      "text/plain": [
       "[<tf.Variable 'dense_17/kernel:0' shape=(1, 1) dtype=float32, numpy=array([[4.2755685]], dtype=float32)>,\n",
       " <tf.Variable 'dense_17/bias:0' shape=(1,) dtype=float32, numpy=array([-0.9174792], dtype=float32)>]"
      ]
     },
     "execution_count": 250,
     "metadata": {},
     "output_type": "execute_result"
    }
   ],
   "source": [
    "net2.weights"
   ]
  },
  {
   "cell_type": "markdown",
   "id": "e4f171f6",
   "metadata": {},
   "source": [
    "$\\hat{w_{0}}=-0.9174792, \\hat{w_{1}}=4.2755685$"
   ]
  },
  {
   "cell_type": "code",
   "execution_count": 251,
   "id": "75a59206",
   "metadata": {},
   "outputs": [
    {
     "data": {
      "text/plain": [
       "[<matplotlib.lines.Line2D at 0x13f828d0f70>]"
      ]
     },
     "execution_count": 251,
     "metadata": {},
     "output_type": "execute_result"
    },
    {
     "data": {
      "image/png": "[encoded data removed]",
      "text/plain": [
       "<Figure size 432x288 with 1 Axes>"
      ]
     },
     "metadata": {
      "needs_background": "light"
     },
     "output_type": "display_data"
    }
   ],
   "source": [
    "v = tf.nn.sigmoid(-1+5*x)\n",
    "plt.plot(x,y,'.',alpha=0.05)\n",
    "plt.plot(x,v,'--r')\n",
    "plt.plot(x,net2(x),'--g')"
   ]
  },
  {
   "cell_type": "markdown",
   "id": "6d234980-2466-4209-a6a1-190475ffec6d",
   "metadata": {},
   "source": [
    "## `4`. Piecewise-linear regression (15점) "
   ]
  },
  {
   "cell_type": "markdown",
   "id": "413d267a-10c6-405b-90dc-edfdd9f42e5a",
   "metadata": {},
   "source": [
    "아래의 모형을 고려하자. \n",
    "\n",
    "model: $y_i=\\begin{cases} x_i +0.3\\epsilon_i & x\\leq 0 \\\\ 3.5x_i +0.3\\epsilon_i & x>0 \\end{cases}$ "
   ]
  },
  {
   "cell_type": "markdown",
   "id": "e7f1c5db-e8cc-4518-9c8e-0e5a44b570fa",
   "metadata": {},
   "source": [
    "아래는 위의 모형에서 생성한 샘플이다. "
   ]
  },
  {
   "cell_type": "code",
   "execution_count": 252,
   "id": "908224ae-65a2-414a-95c2-2f3f62e18da0",
   "metadata": {},
   "outputs": [],
   "source": [
    "## data \n",
    "np.random.seed(43052)\n",
    "N=100\n",
    "x= np.linspace(-1,1,N).reshape(N,1)\n",
    "y= np.array(list(map(lambda x: x*1+np.random.normal()*0.3 if x<0 else x*3.5+np.random.normal()*0.3,x))).reshape(N,1)"
   ]
  },
  {
   "cell_type": "markdown",
   "id": "908a20cf-96ca-448e-a19e-a0f24792f6b2",
   "metadata": {},
   "source": [
    "`(1)` 다음은 $(x_i,y_i)$를 아래와 같은 아키텍처로 적합시키는 코드이다. \n",
    "\n",
    "- $\\hat{y} =  \\hat{\\beta}_0+\\hat{\\beta}_1x $"
   ]
  },
  {
   "cell_type": "code",
   "execution_count": 253,
   "id": "8ed0488d-ad21-4f0b-81ec-6317ce3257ee",
   "metadata": {},
   "outputs": [
    {
     "data": {
      "text/plain": [
       "<keras.callbacks.History at 0x13f828057f0>"
      ]
     },
     "execution_count": 253,
     "metadata": {},
     "output_type": "execute_result"
    }
   ],
   "source": [
    "tf.random.set_seed(43054) \n",
    "net = tf.keras.Sequential()\n",
    "net.add(tf.keras.layers.Dense(1)) \n",
    "net.compile(optimizer=tf.optimizers.SGD(0.1),loss='mse')\n",
    "net.fit(x,y,batch_size=N,epochs=1000,verbose=0) # numpy로 해도 돌아감"
   ]
  },
  {
   "cell_type": "markdown",
   "id": "2aafce5a-c3c4-4102-8b24-40d345f47c91",
   "metadata": {},
   "source": [
    "케라스에 의해 추정된 $\\hat{\\beta}_0,\\hat{\\beta}_1$을 구하라. "
   ]
  },
  {
   "cell_type": "code",
   "execution_count": 254,
   "id": "11416e62",
   "metadata": {},
   "outputs": [
    {
     "data": {
      "text/plain": [
       "[<tf.Variable 'dense_18/kernel:0' shape=(1, 1) dtype=float32, numpy=array([[2.2616348]], dtype=float32)>,\n",
       " <tf.Variable 'dense_18/bias:0' shape=(1,) dtype=float32, numpy=array([0.6069048], dtype=float32)>]"
      ]
     },
     "execution_count": 254,
     "metadata": {},
     "output_type": "execute_result"
    }
   ],
   "source": [
    "net.weights"
   ]
  },
  {
   "cell_type": "markdown",
   "id": "b6f8fc8b",
   "metadata": {},
   "source": [
    "$\\hat{\\beta}_0=0.6069048,\\hat{\\beta}_1=2.2616348$"
   ]
  },
  {
   "cell_type": "markdown",
   "id": "5899c1fc-0b60-4eed-9732-3fe7b14c1e81",
   "metadata": {},
   "source": [
    "`(2)` 다음은 $(x_i,y_i)$를 아래와 같은 아키텍처로 적합시키는 코드이다. \n",
    "\n",
    "- $\\boldsymbol{u}= x\\boldsymbol{W}^{(1)}+\\boldsymbol{b}^{(1)}$\n",
    "- $\\boldsymbol{v}= \\text{relu}(u)$ \n",
    "- $y= \\boldsymbol{v}\\boldsymbol{W}^{(2)}+b^{(2)}$"
   ]
  },
  {
   "cell_type": "code",
   "execution_count": 255,
   "id": "7763ed76-b80a-4e87-b03b-054e49cfed69",
   "metadata": {},
   "outputs": [
    {
     "data": {
      "text/plain": [
       "<keras.callbacks.History at 0x13f8299faf0>"
      ]
     },
     "execution_count": 255,
     "metadata": {},
     "output_type": "execute_result"
    }
   ],
   "source": [
    "tf.random.set_seed(43056) \n",
    "## 1단계\n",
    "net = tf.keras.Sequential() \n",
    "net.add(tf.keras.layers.Dense(2))\n",
    "net.add(tf.keras.layers.Activation('relu')) \n",
    "net.add(tf.keras.layers.Dense(1))\n",
    "net.compile(optimizer=tf.optimizers.SGD(0.1),loss='mse')\n",
    "net.fit(x,y,epochs=1000,verbose=0,batch_size=N)"
   ]
  },
  {
   "cell_type": "markdown",
   "id": "e33d6f7e-aa2e-4fb3-b2c8-dfab5e675de7",
   "metadata": {},
   "source": [
    "${\\boldsymbol u}$를 이용하여 ${\\boldsymbol v}$를 만드는 코드와 ${\\boldsymbol v}$를 이용하여 $y$를 만드는 코드를 작성하라. "
   ]
  },
  {
   "cell_type": "code",
   "execution_count": 256,
   "id": "8cdb106a",
   "metadata": {},
   "outputs": [],
   "source": [
    "l1,a1,l2 = net.layers"
   ]
  },
  {
   "cell_type": "code",
   "execution_count": 257,
   "id": "cf267f6d",
   "metadata": {},
   "outputs": [],
   "source": [
    "u = l1(x)\n",
    "v = a1(u)\n",
    "yhat = l2(v)"
   ]
  },
  {
   "cell_type": "code",
   "execution_count": 258,
   "id": "a9e5e249",
   "metadata": {},
   "outputs": [
    {
     "data": {
      "text/plain": [
       "[<tf.Variable 'dense_19/kernel:0' shape=(1, 2) dtype=float32, numpy=array([[1.9178677 , 0.72507745]], dtype=float32)>,\n",
       " <tf.Variable 'dense_19/bias:0' shape=(2,) dtype=float32, numpy=array([ 0.33402318, -0.7268469 ], dtype=float32)>,\n",
       " <tf.Variable 'dense_20/kernel:0' shape=(2, 1) dtype=float32, numpy=\n",
       " array([[ 1.8141522],\n",
       "        [-0.6783507]], dtype=float32)>,\n",
       " <tf.Variable 'dense_20/bias:0' shape=(1,) dtype=float32, numpy=array([-0.60076195], dtype=float32)>]"
      ]
     },
     "execution_count": 258,
     "metadata": {},
     "output_type": "execute_result"
    }
   ],
   "source": [
    "net.weights"
   ]
  },
  {
   "cell_type": "code",
   "execution_count": 259,
   "id": "f86c82cf",
   "metadata": {},
   "outputs": [],
   "source": [
    "W1= tf.Variable(tnp.array([[1.9178677 , 0.72507745]]))\n",
    "b1= tf.Variable(tnp.array([0.33402318, -0.7268469]))\n",
    "W2= tf.Variable(tnp.array([[1.8141522],[-0.6783507]]))\n",
    "b2= tf.Variable(tnp.array([-0.60076195])) "
   ]
  },
  {
   "cell_type": "code",
   "execution_count": 260,
   "id": "bf5a4811",
   "metadata": {},
   "outputs": [],
   "source": [
    "with tf.GradientTape() as tape: \n",
    "    u = tf.constant(x)@W1+b1 \n",
    "    v = tf.nn.relu(u) \n",
    "    yhat = v@W2 + b2 \n",
    "    loss = tf.losses.mse(y,yhat) "
   ]
  },
  {
   "cell_type": "code",
   "execution_count": 261,
   "id": "4efcd1a0",
   "metadata": {},
   "outputs": [
    {
     "data": {
      "text/plain": [
       "[<tf.Tensor: shape=(1, 2), dtype=float64, numpy=array([[-5.41232427e-05,  0.00000000e+00]])>,\n",
       " <tf.Tensor: shape=(2,), dtype=float64, numpy=array([-1.66788716e-06,  0.00000000e+00])>,\n",
       " <tf.Tensor: shape=(2, 1), dtype=float64, numpy=\n",
       " array([[-5.75245737e-05],\n",
       "        [ 0.00000000e+00]])>,\n",
       " <tf.Tensor: shape=(1,), dtype=float64, numpy=array([-2.69155698e-05])>]"
      ]
     },
     "execution_count": 261,
     "metadata": {},
     "output_type": "execute_result"
    }
   ],
   "source": [
    "tape.gradient(loss,[W1,b1,W2,b2])"
   ]
  },
  {
   "cell_type": "markdown",
   "id": "baa588e0-03dd-4f33-aff2-19e09ab69f6d",
   "metadata": {},
   "source": [
    "`(3)` 아래는 `(1)-(2)`번 모형에 대한 discussion이다. 올바른 것을 모두 골라라. \n",
    "\n",
    "**(곤이)** (2) 모형은 활성화함수로 relu를 사용하였다. -> TRUE \n",
    "\n",
    "**(철용)** (1) 모형에서 추정해야할 파라메터의 수는 2개이다. -> TRUE \n",
    "\n",
    "**(아귀)** (2) 모형이 (1) 모형보다 복잡한 모형이다. -> TRUE \n",
    "\n",
    "**(짝귀)** (1) 의 모형은 오버피팅의 위험이 있다. -> FALSE "
   ]
  },
  {
   "cell_type": "markdown",
   "id": "1fbe974e-1a43-4281-bfd0-84c09e00ead4",
   "metadata": {},
   "source": [
    "## `5`. 다음을 잘 읽고 참과 거짓을 판단하라. (5점)"
   ]
  },
  {
   "cell_type": "markdown",
   "id": "6a972202-b9ef-4e37-9561-41bb58c3df17",
   "metadata": {},
   "source": [
    "`(1)` 적절한 학습률이 선택된다면, 경사하강법은 손실함수가 convex일때 언제 전역최소해를 찾을 수 있다. -> TRUE"
   ]
  },
  {
   "cell_type": "markdown",
   "id": "99bcd77d-c751-4cb9-ac24-ba15f5f01d01",
   "metadata": {},
   "source": [
    "`(2)` `tf.GradientTape()`는 경사하강법을 이용하여 최적점을 찾아주는 tool이다. -> TRUE "
   ]
  },
  {
   "cell_type": "markdown",
   "id": "9ce0ca2f-39c7-441f-ac28-4d2647f42049",
   "metadata": {},
   "source": [
    "`(3)` 학습률이 크다는 것은 파라메터는 1회 업데이트 하는 양이 크다는 것을 의미한다. -> TRUE "
   ]
  },
  {
   "cell_type": "markdown",
   "id": "00e49702-9cfc-4148-bbd9-d90c61299cfb",
   "metadata": {},
   "source": [
    "`(4)` 학습률이 크면 학습파라메터의 수렴속도가 빨라지지만 때때로 과적합에 빠질 수도 있다. -> TRUE "
   ]
  },
  {
   "cell_type": "markdown",
   "id": "7520eafe-392a-4b37-b117-add58f81f74e",
   "metadata": {},
   "source": [
    "`(5)` 단순회귀분석에서 MSE loss를 최소화 하는 해는 경사하강법을 이용하지 않아도 해석적으로 구할 수 있다. -> TRUE "
   ]
  },
  {
   "cell_type": "code",
   "execution_count": null,
   "id": "b4a7c5b0",
   "metadata": {},
   "outputs": [],
   "source": []
  }
 ],
 "metadata": {
  "kernelspec": {
   "display_name": "Python 3 (ipykernel)",
   "language": "python",
   "name": "python3"
  },
  "language_info": {
   "codemirror_mode": {
    "name": "ipython",
    "version": 3
   },
   "file_extension": ".py",
   "mimetype": "text/x-python",
   "name": "python",
   "nbconvert_exporter": "python",
   "pygments_lexer": "ipython3",
   "version": "3.8.12"
  }
 },
 "nbformat": 4,
 "nbformat_minor": 5
}
