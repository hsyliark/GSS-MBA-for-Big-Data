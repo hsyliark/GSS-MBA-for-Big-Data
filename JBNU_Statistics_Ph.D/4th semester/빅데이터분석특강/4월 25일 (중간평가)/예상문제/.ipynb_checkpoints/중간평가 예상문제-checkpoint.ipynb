{
 "cells": [
  {
   "cell_type": "markdown",
   "id": "de95d384-976e-48f3-8c2e-9d9d2fb777cc",
   "metadata": {
    "id": "de95d384-976e-48f3-8c2e-9d9d2fb777cc",
    "tags": []
   },
   "source": [
    "# 중간고사 예상문제 "
   ]
  },
  {
   "cell_type": "code",
   "execution_count": 50,
   "id": "5969fb87-91ed-4581-bc76-8bcff884177e",
   "metadata": {
    "id": "5969fb87-91ed-4581-bc76-8bcff884177e"
   },
   "outputs": [],
   "source": [
    "import numpy as np\n",
    "import tensorflow as tf \n",
    "import tensorflow.experimental.numpy as tnp \n",
    "tnp.experimental_enable_numpy_behavior()"
   ]
  },
  {
   "cell_type": "code",
   "execution_count": 51,
   "id": "42b1dfe1-30a6-40a1-9ecb-bb448c529b0c",
   "metadata": {
    "id": "42b1dfe1-30a6-40a1-9ecb-bb448c529b0c"
   },
   "outputs": [],
   "source": [
    "import pandas as pd\n",
    "import matplotlib.pyplot as plt "
   ]
  },
  {
   "cell_type": "markdown",
   "id": "9ec7a960-880b-4e27-8527-3c55b899141d",
   "metadata": {
    "id": "9ec7a960-880b-4e27-8527-3c55b899141d"
   },
   "source": [
    "## `1`. 경사하강법과 tf.GradientTape()의 사용방법 (30점)"
   ]
  },
  {
   "cell_type": "markdown",
   "id": "ba1efbdf-a7a7-4fe9-bde5-1e3926c02e52",
   "metadata": {
    "id": "ba1efbdf-a7a7-4fe9-bde5-1e3926c02e52"
   },
   "source": [
    "`(1)` 아래는 $X_i \\overset{iid}{\\sim} N(3,2^2)$ 를 생성하는 코드이다. (10점)"
   ]
  },
  {
   "cell_type": "code",
   "execution_count": 52,
   "id": "9cf5a708-4524-44b8-8fc1-0ce5449ad0a4",
   "metadata": {
    "id": "9cf5a708-4524-44b8-8fc1-0ce5449ad0a4",
    "outputId": "495bb3e4-9679-470c-d42f-cf6075ab5482"
   },
   "outputs": [
    {
     "data": {
      "text/plain": [
       "<tf.Tensor: shape=(10000,), dtype=float64, numpy=\n",
       "array([ 4.12539849,  5.46696729,  5.27243374, ...,  2.89712332,\n",
       "        5.01072291, -1.13050477])>"
      ]
     },
     "execution_count": 52,
     "metadata": {},
     "output_type": "execute_result"
    }
   ],
   "source": [
    "tf.random.set_seed(43052)\n",
    "x= tnp.random.randn(10000)*2+3\n",
    "x"
   ]
  },
  {
   "cell_type": "markdown",
   "id": "76605c29-cfd0-41f5-9ae1-7888c72c3196",
   "metadata": {
    "id": "76605c29-cfd0-41f5-9ae1-7888c72c3196"
   },
   "source": [
    "함수 $L(\\mu,\\sigma)$을 최대화하는 $(\\mu,\\sigma)$를 `tf.GradeintTape()`를 활용하여 추정하라. (경사하강법 혹은 경사상승법을 사용하고 $\\mu$의 초기값은 2로 $\\sigma$의 초기값은 3으로 설정할 것) \n",
    "\n",
    "$$L(\\mu,\\sigma)=\\prod_{i=1}^{n}f(x_i), \\quad f(x_i)=\\frac{1}{\\sqrt{2\\pi}\\sigma}e^{-\\frac{1}{2}(\\frac{x_i-\\mu}{\\sigma})^2}$$\n",
    "\n",
    "**hint**: $L(\\mu,\\sigma)$를 최대화하는 $(\\mu,\\sigma)$는 $\\log L(\\mu,\\sigma)$를 역시 최대화한다는 사실을 이용할 것. "
   ]
  },
  {
   "cell_type": "markdown",
   "id": "306b4d87-6e43-4c42-a64e-7b09c8ba4eda",
   "metadata": {
    "id": "306b4d87-6e43-4c42-a64e-7b09c8ba4eda"
   },
   "source": [
    "**hint:** $\\mu$의 참값은 3, $\\sigma$의 참값은 2이다. (따라서 $\\mu$와 $\\sigma$는 각각 3과 2근처로 추정되어야 한다.) "
   ]
  },
  {
   "cell_type": "code",
   "execution_count": 53,
   "id": "e496c3af",
   "metadata": {},
   "outputs": [
    {
     "data": {
      "text/plain": [
       "(<tf.Tensor: shape=(), dtype=float64, numpy=3.0164017983287295>,\n",
       " <tf.Tensor: shape=(), dtype=float64, numpy=1.9869589700290096>)"
      ]
     },
     "execution_count": 53,
     "metadata": {},
     "output_type": "execute_result"
    }
   ],
   "source": [
    "tnp.mean(x), tnp.sqrt(tnp.var(x)*(9999/10000)) # MLE of mu and sigma"
   ]
  },
  {
   "cell_type": "code",
   "execution_count": 54,
   "id": "d20354a6",
   "metadata": {},
   "outputs": [],
   "source": [
    "mu = tf.Variable(2.0) \n",
    "sigma = tf.Variable(3.0)"
   ]
  },
  {
   "cell_type": "code",
   "execution_count": 55,
   "id": "b177e106",
   "metadata": {},
   "outputs": [],
   "source": [
    "import math"
   ]
  },
  {
   "cell_type": "code",
   "execution_count": 56,
   "id": "9bf60781",
   "metadata": {},
   "outputs": [],
   "source": [
    "alpha = 0.0001\n",
    "opt = tf.keras.optimizers.SGD(alpha)"
   ]
  },
  {
   "cell_type": "code",
   "execution_count": 57,
   "id": "33ace88a",
   "metadata": {},
   "outputs": [],
   "source": [
    "for epoc in range(1000):\n",
    "    with tf.GradientTape() as tape: \n",
    "        minus_logL = -tf.reduce_sum(tnp.log((1/tnp.sqrt(2*math.pi)/sigma)*tnp.exp(-(1/2)*((x-mu)/sigma)**2)))\n",
    "    slope0,slope1 = tape.gradient(minus_logL,[mu,sigma])\n",
    "    opt.apply_gradients([(slope0,mu),(slope1,sigma)])"
   ]
  },
  {
   "cell_type": "code",
   "execution_count": 58,
   "id": "6de7ae56",
   "metadata": {},
   "outputs": [
    {
     "data": {
      "text/plain": [
       "(<tf.Variable 'Variable:0' shape=() dtype=float32, numpy=3.0164015>,\n",
       " <tf.Variable 'Variable:0' shape=() dtype=float32, numpy=1.9870584>)"
      ]
     },
     "execution_count": 58,
     "metadata": {},
     "output_type": "execute_result"
    }
   ],
   "source": [
    "mu, sigma"
   ]
  },
  {
   "cell_type": "markdown",
   "id": "7a6563bd-b7cf-4c9f-8371-6896f8796f7b",
   "metadata": {
    "id": "7a6563bd-b7cf-4c9f-8371-6896f8796f7b"
   },
   "source": [
    "`(2)` "
   ]
  },
  {
   "cell_type": "markdown",
   "id": "812c984e-92c1-4a7a-86b1-6b8f850699d6",
   "metadata": {
    "id": "812c984e-92c1-4a7a-86b1-6b8f850699d6"
   },
   "source": [
    "`(3)`"
   ]
  },
  {
   "cell_type": "markdown",
   "id": "a442ee36-3e02-4894-8205-b06dbec79d81",
   "metadata": {
    "id": "a442ee36-3e02-4894-8205-b06dbec79d81"
   },
   "source": [
    "## `2`. 회귀분석의 이론적해와 tf.keras.optimizer 이용방법 (20점)"
   ]
  },
  {
   "cell_type": "markdown",
   "id": "bf3556b3-4e5e-4351-9ebe-b61a565e8998",
   "metadata": {
    "id": "bf3556b3-4e5e-4351-9ebe-b61a565e8998"
   },
   "source": [
    "아래와 같은 선형모형을 고려하자. \n",
    "\n",
    "$$y_i = \\beta_0 + \\beta_1 x_i +\\epsilon_i.$$\n",
    "\n",
    "이때 오차항은 정규분포로 가정한다. 즉 $\\epsilon_i \\overset{iid}{\\sim} N(0,\\sigma^2)$라고 가정한다. \n",
    "\n",
    "관측데이터가 아래와 같을때 아래의 물음에 답하라. "
   ]
  },
  {
   "cell_type": "code",
   "execution_count": 59,
   "id": "45cf9cd7-5fb4-46df-97a2-8f897e0274c4",
   "metadata": {
    "id": "45cf9cd7-5fb4-46df-97a2-8f897e0274c4"
   },
   "outputs": [],
   "source": [
    "x= tnp.array([20.1, 22.2, 22.7, 23.3, 24.4, 25.1, 26.2, 27.3, 28.4, 30.4])\n",
    "y= tnp.array([55.4183651 , 58.19427589, 61.23082496, 62.31255873, 63.1070028 , \n",
    "              63.69569103, 67.24704918, 71.43650092, 73.10130336, 77.84988286])\n",
    "# X= tnp.array([[1.0, 20.1], [1.0, 22.2], [1.0, 22.7], [1.0, 23.3], [1.0, 24.4],\n",
    "#               [1.0, 25.1], [1.0, 26.2], [1.0, 27.3], [1.0, 28.4], [1.0, 30.4]])"
   ]
  },
  {
   "cell_type": "markdown",
   "id": "4b577089-ed00-4e28-bf8f-524161c7e164",
   "metadata": {
    "id": "4b577089-ed00-4e28-bf8f-524161c7e164"
   },
   "source": [
    "`(1)` MSE loss를 최소화 하는 $\\beta_0,\\beta_1$의 해석해를 구하라. "
   ]
  },
  {
   "cell_type": "code",
   "execution_count": 60,
   "id": "7a1ba482",
   "metadata": {},
   "outputs": [
    {
     "data": {
      "text/plain": [
       "(TensorShape([10, 1]), TensorShape([10, 2]))"
      ]
     },
     "execution_count": 60,
     "metadata": {},
     "output_type": "execute_result"
    }
   ],
   "source": [
    "X = tf.stack([tf.ones(10,dtype='float64'),x],axis=1)\n",
    "y = y.reshape(10,1)\n",
    "y.shape,X.shape"
   ]
  },
  {
   "cell_type": "code",
   "execution_count": 61,
   "id": "3c5caed0",
   "metadata": {},
   "outputs": [
    {
     "data": {
      "text/plain": [
       "<tf.Tensor: shape=(2, 1), dtype=float64, numpy=\n",
       "array([[9.94457323],\n",
       "       [2.21570461]])>"
      ]
     },
     "execution_count": 61,
     "metadata": {},
     "output_type": "execute_result"
    }
   ],
   "source": [
    "tf.linalg.inv(X.T @ X ) @ X.T @ y "
   ]
  },
  {
   "cell_type": "markdown",
   "id": "33474142-8d95-4544-8d31-7817a4d531fc",
   "metadata": {
    "id": "33474142-8d95-4544-8d31-7817a4d531fc"
   },
   "source": [
    "`(2)` 경사하강법과 MSE loss의 도함수를 이용하여 $\\beta_0,\\beta_1$을 추정하라. \n",
    "\n",
    "**주의** tf.GradeintTape()를 이용하지 말고 MSE loss의 해석적 도함수를 사용할 것."
   ]
  },
  {
   "cell_type": "code",
   "execution_count": 62,
   "id": "f7cf6117",
   "metadata": {},
   "outputs": [],
   "source": [
    "beta_hat = tf.Variable(tnp.array([10.0,5.0]).reshape(2,1))\n",
    "alpha=0.0001"
   ]
  },
  {
   "cell_type": "code",
   "execution_count": 63,
   "id": "46a6baad",
   "metadata": {},
   "outputs": [],
   "source": [
    "for epoc in range(1000):\n",
    "    slope = -2*X.T@(y-X@beta_hat)\n",
    "    beta_hat.assign_sub(alpha*slope)"
   ]
  },
  {
   "cell_type": "code",
   "execution_count": 64,
   "id": "cd2507fd",
   "metadata": {},
   "outputs": [
    {
     "data": {
      "text/plain": [
       "<tf.Variable 'Variable:0' shape=(2, 1) dtype=float64, numpy=\n",
       "array([[9.89177719],\n",
       "       [2.21778641]])>"
      ]
     },
     "execution_count": 64,
     "metadata": {},
     "output_type": "execute_result"
    }
   ],
   "source": [
    "beta_hat"
   ]
  },
  {
   "cell_type": "markdown",
   "id": "ba0c4ce3-f3bd-4087-b6c4-45f71aa01c6a",
   "metadata": {
    "id": "ba0c4ce3-f3bd-4087-b6c4-45f71aa01c6a"
   },
   "source": [
    "`(3)` `tf.keras.optimizers`의 `apply_gradients()`를 이용하여 $\\beta_0,\\beta_1$을 추정하라. "
   ]
  },
  {
   "cell_type": "code",
   "execution_count": 65,
   "id": "60ce5843",
   "metadata": {},
   "outputs": [],
   "source": [
    "N = 10\n",
    "beta_hat = tf.Variable(tnp.array([10.0,5.0]).reshape(2,1))\n",
    "alpha=0.0001\n",
    "opt = tf.keras.optimizers.SGD(alpha)"
   ]
  },
  {
   "cell_type": "code",
   "execution_count": 66,
   "id": "08ee207f",
   "metadata": {},
   "outputs": [],
   "source": [
    "for epoc in range(1000):\n",
    "    with tf.GradientTape(persistent=True) as tape: \n",
    "        tape.watch(beta_hat)\n",
    "        yhat= X@beta_hat\n",
    "        loss= (y-yhat).T @ (y-yhat) / N\n",
    "    slope = tape.gradient(loss,beta_hat)\n",
    "    opt.apply_gradients([(slope,beta_hat)])"
   ]
  },
  {
   "cell_type": "code",
   "execution_count": 67,
   "id": "3314b730",
   "metadata": {},
   "outputs": [
    {
     "data": {
      "text/plain": [
       "<tf.Variable 'Variable:0' shape=(2, 1) dtype=float64, numpy=\n",
       "array([[9.89044651],\n",
       "       [2.21783888]])>"
      ]
     },
     "execution_count": 67,
     "metadata": {},
     "output_type": "execute_result"
    }
   ],
   "source": [
    "beta_hat"
   ]
  },
  {
   "cell_type": "markdown",
   "id": "2001be03-0c7f-4ef3-b537-147cf4563d86",
   "metadata": {
    "id": "2001be03-0c7f-4ef3-b537-147cf4563d86"
   },
   "source": [
    "`(4)` `tf.keras.optimizers`의 `minimize()`를 이용하여 $\\beta_0,\\beta_1$을 추정하라. "
   ]
  },
  {
   "cell_type": "code",
   "execution_count": 68,
   "id": "0a54875f",
   "metadata": {},
   "outputs": [],
   "source": [
    "N = 10\n",
    "beta_hat = tf.Variable(tnp.array([10.0,5.0]).reshape(2,1))\n",
    "loss_fn = lambda: (y-X@beta_hat).T @ (y-X@beta_hat) / N \n",
    "alpha=0.0001 \n",
    "opt = tf.optimizers.SGD(alpha)"
   ]
  },
  {
   "cell_type": "code",
   "execution_count": 69,
   "id": "4eace9f1",
   "metadata": {},
   "outputs": [],
   "source": [
    "for epoc in range(1000): \n",
    "    opt.minimize(loss_fn,beta_hat)"
   ]
  },
  {
   "cell_type": "code",
   "execution_count": 70,
   "id": "28a56eed",
   "metadata": {},
   "outputs": [
    {
     "data": {
      "text/plain": [
       "<tf.Variable 'Variable:0' shape=(2, 1) dtype=float64, numpy=\n",
       "array([[9.89044651],\n",
       "       [2.21783888]])>"
      ]
     },
     "execution_count": 70,
     "metadata": {},
     "output_type": "execute_result"
    }
   ],
   "source": [
    "beta_hat"
   ]
  },
  {
   "cell_type": "markdown",
   "id": "7326952d-fce0-4b89-9de2-a66bf05c3960",
   "metadata": {
    "id": "7326952d-fce0-4b89-9de2-a66bf05c3960"
   },
   "source": [
    "## `3`. keras를 이용한 풀이 (30점)"
   ]
  },
  {
   "cell_type": "markdown",
   "id": "0e8a3f28-199e-4ba4-b30e-64f3adff17c9",
   "metadata": {
    "id": "0e8a3f28-199e-4ba4-b30e-64f3adff17c9"
   },
   "source": [
    "`(1)` 아래와 같은 모형을 고려하자. \n",
    "\n",
    "$$y_i= \\beta_0 + \\sum_{k=1}^{5} \\beta_k \\cos(k t_i)+\\epsilon_i, \\quad i=0,1,\\dots, 999$$\n",
    "\n",
    "여기에서 $t_i=\\frac{2\\pi i}{1000}$ 이다. 그리고 $\\epsilon_i \\sim i.i.d~ N(0,\\sigma^2)$, 즉 서로 독립인 표준정규분포에서 추출된 샘플이다. 위의 모형에서 아래와 같은 데이터를 관측했다고 가정하자. "
   ]
  },
  {
   "cell_type": "code",
   "execution_count": 83,
   "id": "bc94cb8e-2348-4779-a254-a322c47c40f5",
   "metadata": {
    "id": "bc94cb8e-2348-4779-a254-a322c47c40f5",
    "outputId": "6527d971-a066-4d32-d969-96c27b26b6d7"
   },
   "outputs": [
    {
     "data": {
      "text/plain": [
       "[<matplotlib.lines.Line2D at 0x2010d359460>]"
      ]
     },
     "execution_count": 83,
     "metadata": {},
     "output_type": "execute_result"
    },
    {
     "data": {
      "image/png": "[encoded data removed]",
      "text/plain": [
       "<Figure size 432x288 with 1 Axes>"
      ]
     },
     "metadata": {
      "needs_background": "light"
     },
     "output_type": "display_data"
    }
   ],
   "source": [
    "np.random.seed(43052)\n",
    "t= np.array(range(1000))* np.pi/1000\n",
    "y = -2+ 3*np.cos(t) + 1*np.cos(2*t) + 0.5*np.cos(5*t) + np.random.randn(1000)*0.2\n",
    "plt.plot(t,y,'.',alpha=0.2)"
   ]
  },
  {
   "cell_type": "markdown",
   "id": "6b27ae75-90e2-405f-a325-baaf8edb5cd4",
   "metadata": {
    "id": "6b27ae75-90e2-405f-a325-baaf8edb5cd4"
   },
   "source": [
    "tf.keras를 이용하여 $\\beta_0,\\dots,\\beta_5$를 추정하라. ($\\beta_0,\\dots,\\beta_5$의 참값은 각각 -2,3,1,0,0,0.5 이다) "
   ]
  },
  {
   "cell_type": "code",
   "execution_count": 88,
   "id": "9055cf66",
   "metadata": {},
   "outputs": [
    {
     "data": {
      "text/plain": [
       "(TensorShape([1000, 1]), TensorShape([1000, 6]))"
      ]
     },
     "execution_count": 88,
     "metadata": {},
     "output_type": "execute_result"
    }
   ],
   "source": [
    "y = tnp.array(y.reshape(1000,1))\n",
    "X = tf.stack([tf.ones(1000,dtype='float64'),tnp.array(np.cos(t)),tnp.array(np.cos(2*t)),tnp.array(np.cos(3*t)),\n",
    "              tnp.array(np.cos(4*t)),tnp.array(np.cos(5*t))],axis=1)\n",
    "y.shape, X.shape"
   ]
  },
  {
   "cell_type": "code",
   "execution_count": 90,
   "id": "2957adbc",
   "metadata": {},
   "outputs": [
    {
     "data": {
      "text/plain": [
       "<keras.callbacks.History at 0x2010e4ac550>"
      ]
     },
     "execution_count": 90,
     "metadata": {},
     "output_type": "execute_result"
    }
   ],
   "source": [
    "tf.random.set_seed(55364) \n",
    "## 1단계\n",
    "net1 = tf.keras.Sequential() \n",
    "## 2단계\n",
    "net1.add(tf.keras.layers.Dense(100,activation='relu')) \n",
    "net1.add(tf.keras.layers.Dense(1))\n",
    "## 3단계 \n",
    "net1.compile(optimizer=tf.optimizers.SGD(0.01),loss='mse')\n",
    "## 4단계 \n",
    "net1.fit(X,y,epochs=2000,verbose=0,batch_size=1000)"
   ]
  },
  {
   "cell_type": "code",
   "execution_count": 91,
   "id": "b7dfaedb",
   "metadata": {},
   "outputs": [
    {
     "data": {
      "text/plain": [
       "[<tf.Variable 'dense_10/kernel:0' shape=(6, 100) dtype=float32, numpy=\n",
       " array([[ 9.29337069e-02,  8.83206055e-02,  1.76556647e-01,\n",
       "          3.49996686e-01,  1.86043307e-01, -1.68421969e-01,\n",
       "         -6.99460581e-02,  3.73722240e-03,  1.23709597e-01,\n",
       "         -1.43318921e-01,  9.53809097e-02, -1.57887727e-01,\n",
       "         -5.04633354e-04,  1.61634743e-01, -2.68289238e-01,\n",
       "         -1.20679684e-01, -2.14168593e-01, -1.70596331e-01,\n",
       "          2.17968494e-01,  3.61430869e-02,  9.18481722e-02,\n",
       "         -1.07091544e-02,  2.28126630e-01, -1.49402902e-01,\n",
       "         -6.88688532e-02,  4.04630490e-02, -5.16775483e-03,\n",
       "         -1.73319161e-01,  6.67793527e-02,  6.71653375e-02,\n",
       "         -9.05515105e-02,  2.19093889e-01, -1.23943679e-01,\n",
       "         -5.15225269e-02, -8.08295086e-02,  1.71104059e-01,\n",
       "         -9.06774104e-02,  1.25751086e-02,  2.49479964e-01,\n",
       "          2.65520155e-01, -6.88092262e-02, -1.42815724e-01,\n",
       "         -4.44781035e-02, -1.82620406e-01, -4.66658585e-02,\n",
       "          2.39735514e-01,  1.48797512e-01,  2.17540950e-01,\n",
       "         -1.98312476e-01, -1.49568662e-01,  2.20336780e-01,\n",
       "          2.14642331e-01, -9.00303200e-03,  2.03730553e-01,\n",
       "         -7.33041838e-02,  1.40650030e-02,  6.56738952e-02,\n",
       "          2.35793591e-01, -2.28021324e-01, -1.15086436e-01,\n",
       "         -1.13371134e-01,  1.77201435e-01, -1.17823929e-01,\n",
       "         -1.15942650e-01,  2.56911993e-01,  2.16025516e-01,\n",
       "          1.25761196e-01, -1.04788944e-01, -1.45579636e-01,\n",
       "         -1.57200247e-02,  6.32606596e-02,  3.46417248e-01,\n",
       "          2.82675866e-02,  1.30432889e-01, -1.96470350e-01,\n",
       "         -1.52250677e-01, -2.32262537e-01,  2.40552798e-02,\n",
       "          1.92779571e-01, -1.21023767e-01, -1.35644749e-01,\n",
       "          7.28886425e-02,  5.16493525e-03,  9.43567231e-02,\n",
       "          2.04003334e-01,  1.27551496e-01,  3.95202279e-01,\n",
       "          9.52528939e-02, -7.06101581e-02,  2.93866033e-03,\n",
       "         -2.11322740e-01, -2.05484703e-01, -1.14009209e-01,\n",
       "         -1.54522553e-01, -2.00675786e-01,  2.43221670e-01,\n",
       "          1.09374382e-01, -1.53708130e-01, -2.02833235e-01,\n",
       "         -1.12640835e-01],\n",
       "        [-2.72023290e-01, -8.85875616e-03, -2.18159899e-01,\n",
       "         -5.80934405e-01,  1.94298372e-01,  1.55889187e-02,\n",
       "         -8.11429322e-02,  1.34088874e-01, -6.14888594e-02,\n",
       "          1.79028705e-01,  3.67659479e-01,  1.05763160e-01,\n",
       "          1.95769846e-01,  5.98092601e-02,  1.55821934e-01,\n",
       "         -1.81399643e-01, -6.47398233e-02, -1.49210542e-01,\n",
       "         -1.92941669e-02, -5.38098719e-03,  3.22553843e-01,\n",
       "         -4.84248735e-02,  2.40827754e-01,  1.52743980e-01,\n",
       "         -4.65422422e-02,  2.32552722e-01,  5.25999479e-02,\n",
       "         -2.80125067e-03,  2.87336051e-01,  3.48143458e-01,\n",
       "          4.71442426e-03, -8.38468149e-02,  1.18591502e-01,\n",
       "         -1.98026478e-01,  2.54470166e-02, -2.77083218e-01,\n",
       "          1.57415181e-01, -2.49100104e-01, -2.19265938e-01,\n",
       "         -1.69883460e-01, -2.98136901e-02,  1.42235398e-01,\n",
       "          2.54860133e-01,  3.43163381e-04,  6.00371398e-02,\n",
       "         -1.58372864e-01,  3.31006736e-01, -1.75712705e-02,\n",
       "         -1.11756429e-01, -2.19393939e-01, -4.49592501e-01,\n",
       "         -1.63225293e-01,  1.70832589e-01,  1.43655892e-02,\n",
       "         -1.43530071e-01, -5.65505289e-02,  2.08190024e-01,\n",
       "         -2.17092037e-01, -1.71331495e-01, -7.34466240e-02,\n",
       "         -1.55715495e-01,  1.33731812e-01, -2.40003750e-01,\n",
       "         -2.03978643e-01,  2.97547042e-01,  6.32291511e-02,\n",
       "          1.81437448e-01, -9.90007967e-02,  5.12772389e-02,\n",
       "         -1.76209435e-01,  1.37356460e-01, -4.82654572e-01,\n",
       "          3.90801430e-02, -4.75611128e-02, -8.03545117e-03,\n",
       "         -1.96898550e-01,  1.19264036e-01,  7.71017373e-02,\n",
       "         -5.10763675e-02,  4.00845297e-02,  2.34073773e-02,\n",
       "         -2.94517457e-01, -1.80569023e-01,  2.08882615e-01,\n",
       "          2.55885422e-01,  1.07866526e-01, -3.96579951e-01,\n",
       "         -2.64157236e-01,  1.45867348e-01, -1.34091631e-01,\n",
       "         -1.28871605e-01,  2.12236747e-01,  1.28489107e-01,\n",
       "          2.11451817e-02,  1.07350864e-01, -3.27164501e-01,\n",
       "         -1.40098318e-01,  8.16806406e-02, -3.23825255e-02,\n",
       "          2.60852128e-01],\n",
       "        [ 1.91747978e-01,  1.19446419e-01, -4.15987857e-02,\n",
       "         -1.86105981e-01,  5.69663569e-02, -5.82298972e-02,\n",
       "          1.19925462e-01, -1.29902318e-01, -3.36846799e-01,\n",
       "         -6.67764843e-02,  2.86707848e-01, -1.51524171e-01,\n",
       "         -6.28676340e-02, -1.79126248e-01,  1.24852724e-01,\n",
       "          2.14888334e-01,  3.01293787e-02,  1.09135984e-02,\n",
       "         -1.91241547e-01, -1.02754824e-01,  1.26313522e-01,\n",
       "         -1.58133507e-01, -8.14432353e-02, -1.59603819e-01,\n",
       "         -2.14905981e-02,  7.98302814e-02,  1.08456083e-01,\n",
       "         -2.64386293e-02,  1.48093373e-01,  9.27508995e-02,\n",
       "         -2.45050892e-01, -2.04748183e-01, -1.13154024e-01,\n",
       "         -1.14530079e-01,  3.09863295e-02,  7.71780089e-02,\n",
       "          2.55365610e-01,  4.65542898e-02, -1.85500652e-01,\n",
       "         -1.86322525e-01, -3.32158171e-02,  6.21452518e-02,\n",
       "         -1.61858931e-01, -2.19970539e-01, -4.67727184e-02,\n",
       "          1.67535633e-01,  2.07803205e-01, -2.22051769e-01,\n",
       "         -1.48740888e-01, -1.90278172e-01,  9.46036875e-02,\n",
       "          6.07096329e-02, -2.69196570e-01,  2.19606534e-01,\n",
       "         -2.47767031e-01, -1.66833401e-01,  2.37481996e-01,\n",
       "         -2.41300359e-01, -7.73521438e-02,  1.60896525e-01,\n",
       "          1.60914421e-01, -1.45063410e-02, -1.58345059e-01,\n",
       "         -7.33110169e-03,  2.42524162e-01,  6.31798431e-02,\n",
       "          1.33994535e-01, -1.90783352e-01,  5.82147017e-02,\n",
       "         -1.43175617e-01, -2.28267133e-01,  1.06346875e-01,\n",
       "         -1.95483983e-01, -2.13846669e-01,  4.64424044e-02,\n",
       "          1.63113903e-02, -2.24242687e-01,  5.94939366e-02,\n",
       "         -2.68262643e-02,  1.32787541e-01,  7.69688413e-02,\n",
       "          9.83327031e-02, -1.90365091e-01,  2.15938285e-01,\n",
       "         -4.26215678e-02,  1.11676522e-01, -2.41866767e-01,\n",
       "          2.38110751e-01, -1.48956642e-01,  3.65211777e-02,\n",
       "          1.38250053e-01,  5.21262689e-03, -1.90790650e-03,\n",
       "          7.83953741e-02,  1.74812108e-01,  3.33949625e-02,\n",
       "          2.06368938e-01, -1.59552813e-01, -1.10430807e-01,\n",
       "         -8.39070976e-02],\n",
       "        [ 1.76741943e-01,  6.34140298e-02,  1.20331414e-01,\n",
       "          1.74385399e-01,  1.15191154e-02,  2.06701066e-02,\n",
       "          5.48630022e-02, -2.01418564e-01,  2.44411230e-01,\n",
       "          1.41102880e-01,  6.69355839e-02,  2.20079437e-01,\n",
       "          2.31903955e-01,  1.81600645e-01, -4.20162044e-02,\n",
       "          1.41949698e-01, -1.13313623e-01,  1.17581770e-01,\n",
       "         -3.75952572e-02, -6.21652938e-02,  1.61041722e-01,\n",
       "          1.71727002e-01, -2.14746267e-01, -1.78244144e-01,\n",
       "          1.69633225e-01, -2.77242698e-02,  8.03224221e-02,\n",
       "          1.68018952e-01,  1.76312223e-01, -2.27896590e-03,\n",
       "          1.96020082e-01, -8.65682289e-02,  1.52523324e-01,\n",
       "         -2.13700622e-01, -2.22806707e-01, -2.04088688e-01,\n",
       "         -6.46289159e-03, -5.06065935e-02,  2.14449707e-02,\n",
       "         -4.22926322e-02, -4.93736267e-02, -1.91990454e-02,\n",
       "         -2.06255302e-01,  1.84307933e-01, -8.00743178e-02,\n",
       "         -1.50663152e-01,  2.26586640e-01,  2.19234422e-01,\n",
       "         -1.95076570e-01, -1.17232218e-01, -9.63341147e-02,\n",
       "         -1.68488413e-01,  2.39141539e-01,  4.37247679e-02,\n",
       "          1.76493511e-01, -1.47141874e-01,  1.00033749e-02,\n",
       "          1.06835060e-01, -1.61080480e-01,  6.74788328e-03,\n",
       "         -2.33150989e-01,  4.22749631e-02, -3.53564583e-02,\n",
       "          2.04112694e-01, -9.36016366e-02,  2.05002278e-01,\n",
       "         -7.31290132e-02,  2.00502932e-01, -1.25148520e-01,\n",
       "          8.24361295e-02, -2.12574407e-01, -7.51591176e-02,\n",
       "          1.51451200e-01,  8.44677389e-02, -1.00064561e-01,\n",
       "          1.31388336e-01,  1.61302760e-01, -1.95897326e-01,\n",
       "          1.18912637e-01, -8.88161920e-03, -9.68338829e-03,\n",
       "         -8.57222974e-02,  7.15312436e-02, -1.84802279e-01,\n",
       "         -9.16231573e-02, -8.70126262e-02, -1.51136309e-01,\n",
       "         -1.47524476e-01, -1.55158881e-02, -1.25831291e-01,\n",
       "          2.31176671e-02,  2.55523264e-01, -1.47484383e-02,\n",
       "         -9.30672139e-03,  1.36707900e-02, -1.08308814e-01,\n",
       "          7.09922835e-02,  8.08881372e-02,  1.80142656e-01,\n",
       "         -2.44348854e-01],\n",
       "        [ 8.57611373e-02, -2.06080556e-01,  5.52911349e-02,\n",
       "         -1.46341678e-02, -2.59521641e-02,  9.29086879e-02,\n",
       "          8.11247677e-02, -8.17369297e-02, -2.03217909e-01,\n",
       "          1.13969944e-01,  1.87593415e-01,  2.05375955e-01,\n",
       "          2.16399908e-01, -2.34403107e-02, -7.80733898e-02,\n",
       "         -1.38769746e-01,  7.47206733e-02,  1.01219267e-02,\n",
       "         -5.97798228e-02,  4.11232077e-02,  1.38220981e-01,\n",
       "         -1.60324603e-01, -1.24019623e-01,  1.16641380e-01,\n",
       "         -5.10371774e-02,  5.70405498e-02, -2.39349365e-01,\n",
       "         -8.01580474e-02, -1.51926912e-02,  7.86501216e-04,\n",
       "          6.29135594e-02, -1.89836800e-01, -2.29921237e-01,\n",
       "          1.55845374e-01, -1.12809137e-01, -1.19139418e-01,\n",
       "          4.28150669e-02,  1.68177441e-01,  3.92180942e-02,\n",
       "         -1.31724507e-01, -8.13495144e-02, -4.91033569e-02,\n",
       "         -1.08621523e-01, -1.05612256e-01,  2.01422945e-01,\n",
       "          2.95829568e-02,  1.34469151e-01, -2.06844211e-02,\n",
       "          1.33695498e-01, -2.02465400e-01, -4.23377119e-02,\n",
       "          2.37232238e-01, -7.46380612e-02, -5.95679767e-02,\n",
       "          2.00186700e-01, -1.41817316e-01,  2.98444601e-03,\n",
       "         -9.33362320e-02,  9.37005356e-02, -1.97232932e-01,\n",
       "         -1.29639298e-01,  2.13470966e-01,  1.53735369e-01,\n",
       "          1.73019338e-02,  8.36803094e-02, -1.47138247e-02,\n",
       "          1.44032221e-02,  7.20691904e-02,  1.00936703e-01,\n",
       "         -1.21099755e-01, -2.28556305e-01, -1.53820351e-01,\n",
       "         -1.16444014e-01,  1.28410354e-01, -1.11505806e-01,\n",
       "          5.44660948e-02, -1.59137100e-02, -2.36253798e-01,\n",
       "          7.75148645e-02,  3.12837362e-02,  3.32452543e-02,\n",
       "          3.56674157e-02,  1.25409707e-01,  1.59353033e-01,\n",
       "          3.93741243e-02, -5.08670099e-02,  1.24899544e-01,\n",
       "         -8.90733525e-02, -1.91924244e-01, -1.89998493e-01,\n",
       "         -4.76448145e-03,  9.05612856e-02,  2.14685783e-01,\n",
       "         -2.10767031e-01, -2.26827979e-01,  9.83759835e-02,\n",
       "          1.85209826e-01, -1.61288798e-01,  1.49768710e-01,\n",
       "         -2.67330885e-01],\n",
       "        [-2.33534314e-02, -2.15123259e-02, -1.38261214e-01,\n",
       "         -9.28373486e-02, -1.46660894e-01,  7.75874630e-02,\n",
       "          2.18418434e-01, -6.44684881e-02, -1.56142205e-01,\n",
       "          5.83523810e-02,  1.98567390e-01, -2.64772713e-01,\n",
       "         -1.04049832e-01, -6.25164583e-02,  1.59185171e-01,\n",
       "          1.05785139e-01, -1.96185097e-01, -9.77962278e-03,\n",
       "          1.75913393e-01,  8.09179693e-02,  7.78016374e-02,\n",
       "          1.58801496e-01,  1.27700751e-03,  1.74116656e-01,\n",
       "          2.22749040e-01,  4.97009009e-02, -8.18682462e-02,\n",
       "          6.08526878e-02,  1.06657669e-01, -1.45752832e-01,\n",
       "          2.99583524e-02,  6.67351708e-02, -6.23935089e-02,\n",
       "          1.70696750e-01,  1.96141645e-01,  2.22543925e-01,\n",
       "         -1.37823924e-01, -1.55327678e-01,  1.94484852e-02,\n",
       "         -2.70228963e-02, -1.59509882e-01,  1.48884177e-01,\n",
       "          1.50890797e-01,  2.12161005e-01,  2.59555597e-02,\n",
       "         -1.91903234e-01,  1.86212435e-01,  1.47419930e-01,\n",
       "          7.15546831e-02, -5.52691966e-02, -2.75670295e-03,\n",
       "         -2.50978708e-01,  1.38994649e-01, -1.34316282e-02,\n",
       "          4.41372208e-02, -4.74331416e-02,  1.97993323e-01,\n",
       "          1.64682433e-01, -1.95856788e-03, -1.28314719e-01,\n",
       "          8.34259465e-02,  2.22315416e-01, -2.06110016e-01,\n",
       "          5.10545485e-02, -1.31533919e-02,  1.96403310e-01,\n",
       "         -7.04770684e-02, -7.30975941e-02,  1.02333769e-01,\n",
       "          1.62035733e-01,  6.55394047e-02, -6.51988462e-02,\n",
       "          5.90781197e-02, -3.90070528e-02, -6.33890927e-03,\n",
       "         -4.04482111e-02,  2.21204102e-01,  1.82140082e-01,\n",
       "         -2.33431965e-01,  2.20655963e-01,  1.93188339e-01,\n",
       "          1.70115814e-01,  1.14609051e-04, -1.61998868e-01,\n",
       "         -1.37229264e-01, -1.09966755e-01, -1.11168280e-01,\n",
       "          1.03844143e-01,  1.95763633e-01,  2.06631854e-01,\n",
       "         -2.52244532e-01,  2.41240993e-01,  7.20283017e-02,\n",
       "          8.63443166e-02,  5.05036041e-02, -4.67270836e-02,\n",
       "         -2.10848480e-01,  2.10726768e-01,  1.33729190e-01,\n",
       "         -5.91654889e-02]], dtype=float32)>,\n",
       " <tf.Variable 'dense_10/bias:0' shape=(100,) dtype=float32, numpy=\n",
       " array([ 1.56421419e-02, -6.68137614e-03,  4.42492031e-02,  1.85824275e-01,\n",
       "        -2.23753080e-02, -9.57315229e-03, -1.54911447e-02,  2.20500715e-02,\n",
       "         4.35128771e-02, -3.79208289e-02,  6.34410977e-02, -2.50992291e-02,\n",
       "        -1.80904506e-04, -1.09114293e-02, -4.95762490e-02, -3.21555845e-02,\n",
       "         8.96338187e-03, -1.85830798e-02,  1.70709882e-02, -3.36969495e-02,\n",
       "         7.57880211e-02,  4.70701456e-02,  4.68010595e-03, -4.88411542e-03,\n",
       "        -3.22446115e-02,  7.87059516e-02,  1.22600533e-02, -1.86914820e-02,\n",
       "         2.88436804e-02,  6.95261508e-02,  4.80303466e-02, -4.59371740e-03,\n",
       "         1.85042538e-03,  7.01791197e-02, -1.92519219e-03,  3.96460444e-02,\n",
       "         2.76250076e-02,  1.30027249e-01,  6.82447329e-02,  1.15516424e-01,\n",
       "        -6.80022985e-02, -2.63823383e-02,  2.18879171e-02, -2.49387287e-02,\n",
       "         3.53184133e-03,  3.84728536e-02,  6.09551147e-02,  1.15341078e-02,\n",
       "        -2.18847208e-02, -1.20076472e-02,  1.42144799e-01,  5.91289029e-02,\n",
       "         2.03582328e-02, -4.22213087e-03,  5.50775267e-02, -9.77734104e-02,\n",
       "         1.61701143e-02,  4.95878123e-02, -4.76426482e-02, -4.68614921e-02,\n",
       "         2.13119704e-02,  1.03863310e-02,  4.48885225e-02,  5.47851659e-02,\n",
       "         3.08525637e-02,  9.22314543e-03,  3.75191644e-02,  5.55041656e-02,\n",
       "         4.91102831e-03, -1.03394337e-01,  4.92977584e-03,  1.21794187e-01,\n",
       "         2.76760701e-02,  1.85944047e-02,  0.00000000e+00, -6.51254132e-02,\n",
       "        -2.64327944e-04,  2.32505170e-03, -1.60158973e-03, -7.59057561e-03,\n",
       "        -2.04946660e-02,  1.10726040e-02,  1.17237754e-01,  1.50128752e-02,\n",
       "         8.65356904e-03,  5.91737265e-03,  1.58623084e-01,  5.82702495e-02,\n",
       "        -3.48678753e-02, -3.25431526e-02,  2.17467621e-02,  2.58829352e-02,\n",
       "        -1.48121268e-02, -3.30054909e-02,  5.83393325e-04,  4.59186323e-02,\n",
       "        -2.97327172e-02,  1.61861572e-02,  1.39974814e-03,  6.04217425e-02],\n",
       "       dtype=float32)>,\n",
       " <tf.Variable 'dense_11/kernel:0' shape=(100, 1) dtype=float32, numpy=\n",
       " array([[-0.14737786],\n",
       "        [ 0.00594154],\n",
       "        [-0.23611863],\n",
       "        [-0.7200588 ],\n",
       "        [ 0.19205011],\n",
       "        [ 0.10197565],\n",
       "        [ 0.08331519],\n",
       "        [ 0.12833259],\n",
       "        [-0.3806553 ],\n",
       "        [-0.15419367],\n",
       "        [ 0.47069162],\n",
       "        [-0.2266252 ],\n",
       "        [ 0.00219358],\n",
       "        [-0.0878091 ],\n",
       "        [-0.19136992],\n",
       "        [ 0.03400264],\n",
       "        [-0.06585617],\n",
       "        [ 0.20408219],\n",
       "        [-0.12185212],\n",
       "        [ 0.09664506],\n",
       "        [ 0.32637402],\n",
       "        [-0.2343086 ],\n",
       "        [ 0.26213646],\n",
       "        [-0.20511554],\n",
       "        [ 0.12918743],\n",
       "        [ 0.31475055],\n",
       "        [-0.10633712],\n",
       "        [ 0.06713957],\n",
       "        [ 0.32457846],\n",
       "        [ 0.3129149 ],\n",
       "        [-0.15539809],\n",
       "        [-0.07605124],\n",
       "        [-0.04076711],\n",
       "        [-0.24114203],\n",
       "        [ 0.01961567],\n",
       "        [-0.18105659],\n",
       "        [ 0.16051288],\n",
       "        [-0.2838256 ],\n",
       "        [-0.3201388 ],\n",
       "        [-0.3209532 ],\n",
       "        [ 0.20987743],\n",
       "        [-0.07315474],\n",
       "        [ 0.20466582],\n",
       "        [ 0.03970024],\n",
       "        [-0.10147594],\n",
       "        [-0.17961048],\n",
       "        [ 0.46559173],\n",
       "        [-0.21131352],\n",
       "        [ 0.14683041],\n",
       "        [ 0.02603604],\n",
       "        [-0.53147423],\n",
       "        [-0.34055775],\n",
       "        [-0.12148354],\n",
       "        [ 0.03655067],\n",
       "        [-0.21145786],\n",
       "        [ 0.1918431 ],\n",
       "        [ 0.11652164],\n",
       "        [-0.3093939 ],\n",
       "        [ 0.15654516],\n",
       "        [ 0.20628591],\n",
       "        [-0.13600151],\n",
       "        [ 0.28553337],\n",
       "        [-0.13732187],\n",
       "        [-0.16466412],\n",
       "        [ 0.26964647],\n",
       "        [ 0.02512867],\n",
       "        [ 0.24530579],\n",
       "        [-0.18400417],\n",
       "        [ 0.05827855],\n",
       "        [ 0.09660408],\n",
       "        [ 0.05712663],\n",
       "        [-0.52338123],\n",
       "        [-0.19941245],\n",
       "        [-0.15171447],\n",
       "        [-0.06667018],\n",
       "        [ 0.14748888],\n",
       "        [-0.05997242],\n",
       "        [ 0.0041815 ],\n",
       "        [-0.09721491],\n",
       "        [ 0.15698318],\n",
       "        [ 0.22533667],\n",
       "        [-0.17743666],\n",
       "        [-0.2773973 ],\n",
       "        [ 0.10696725],\n",
       "        [ 0.11211193],\n",
       "        [ 0.05039635],\n",
       "        [-0.5911612 ],\n",
       "        [-0.34128252],\n",
       "        [ 0.20526527],\n",
       "        [ 0.04994527],\n",
       "        [-0.10999085],\n",
       "        [ 0.16622804],\n",
       "        [-0.1198974 ],\n",
       "        [ 0.22983542],\n",
       "        [ 0.00505956],\n",
       "        [-0.30830497],\n",
       "        [-0.02147028],\n",
       "        [-0.08498355],\n",
       "        [ 0.01843442],\n",
       "        [ 0.27345923]], dtype=float32)>,\n",
       " <tf.Variable 'dense_11/bias:0' shape=(1,) dtype=float32, numpy=array([-0.40363023], dtype=float32)>]"
      ]
     },
     "execution_count": 91,
     "metadata": {},
     "output_type": "execute_result"
    }
   ],
   "source": [
    "net1.weights"
   ]
  },
  {
   "cell_type": "code",
   "execution_count": 92,
   "id": "063862f6",
   "metadata": {},
   "outputs": [
    {
     "data": {
      "text/plain": [
       "[<matplotlib.lines.Line2D at 0x2010e56a790>]"
      ]
     },
     "execution_count": 92,
     "metadata": {},
     "output_type": "execute_result"
    },
    {
     "data": {
      "image/png": "[encoded data removed]",
      "text/plain": [
       "<Figure size 432x288 with 1 Axes>"
      ]
     },
     "metadata": {
      "needs_background": "light"
     },
     "output_type": "display_data"
    }
   ],
   "source": [
    "plt.plot(t,y,'.',alpha=0.2)\n",
    "plt.plot(t,net1(X),'--r')"
   ]
  },
  {
   "cell_type": "code",
   "execution_count": 76,
   "id": "5ae005ec",
   "metadata": {},
   "outputs": [],
   "source": [
    "N = 1000\n",
    "beta_hat = tf.Variable(tnp.array([0.0,4.0,2.0,1.0,1.0,0.0]).reshape(6,1))\n",
    "alpha=0.01\n",
    "opt = tf.keras.optimizers.SGD(alpha)\n",
    "for epoc in range(2000):\n",
    "    with tf.GradientTape() as tape: \n",
    "        yhat= X@beta_hat\n",
    "        loss= (y-yhat).T @ (y-yhat) / N\n",
    "    slope = tape.gradient(loss,beta_hat)\n",
    "    opt.apply_gradients([(slope,beta_hat)])"
   ]
  },
  {
   "cell_type": "code",
   "execution_count": 77,
   "id": "757540cd",
   "metadata": {},
   "outputs": [
    {
     "data": {
      "text/plain": [
       "<tf.Variable 'Variable:0' shape=(6, 1) dtype=float64, numpy=\n",
       "array([[-2.01226542e+00],\n",
       "       [ 3.00099660e+00],\n",
       "       [ 1.00670813e+00],\n",
       "       [ 1.83950584e-03],\n",
       "       [-3.89011792e-03],\n",
       "       [ 4.97112691e-01]])>"
      ]
     },
     "execution_count": 77,
     "metadata": {},
     "output_type": "execute_result"
    }
   ],
   "source": [
    "beta_hat"
   ]
  },
  {
   "cell_type": "markdown",
   "id": "36332c6f-4e55-4d4b-8a3a-e3c4aff35298",
   "metadata": {
    "id": "36332c6f-4e55-4d4b-8a3a-e3c4aff35298"
   },
   "source": [
    "`(2)` 아래와 같은 모형을 고려하자. \n",
    "\n",
    "$$y_i \\sim Ber(\\pi_i), ~ \\text{where} ~ \\pi_i=\\frac{\\exp(w_0+w_1x_i)}{1+\\exp(w_0+w_1x_i)}$$\n"
   ]
  },
  {
   "cell_type": "markdown",
   "id": "eac5206a-027a-4526-81c7-c98674808e24",
   "metadata": {
    "id": "eac5206a-027a-4526-81c7-c98674808e24"
   },
   "source": [
    "위의 모형에서 관측한 데이터는 아래와 같다. "
   ]
  },
  {
   "cell_type": "code",
   "execution_count": 93,
   "id": "fcc33c1b-4873-44da-859a-7db528ca6e10",
   "metadata": {
    "id": "fcc33c1b-4873-44da-859a-7db528ca6e10",
    "outputId": "6ccb5088-10fe-478b-8783-3042c59a6e3f"
   },
   "outputs": [
    {
     "data": {
      "text/plain": [
       "[<matplotlib.lines.Line2D at 0x2010e5df640>]"
      ]
     },
     "execution_count": 93,
     "metadata": {},
     "output_type": "execute_result"
    },
    {
     "data": {
      "image/png": "[encoded data removed]",
      "text/plain": [
       "<Figure size 432x288 with 1 Axes>"
      ]
     },
     "metadata": {
      "needs_background": "light"
     },
     "output_type": "display_data"
    }
   ],
   "source": [
    "tf.random.set_seed(43052)\n",
    "x = tnp.linspace(-1,1,2000) \n",
    "y = tf.constant(np.random.binomial(1, tf.nn.sigmoid(-1+5*x)),dtype=tf.float64) \n",
    "plt.plot(x,y,'.',alpha=0.05)"
   ]
  },
  {
   "cell_type": "markdown",
   "id": "66309733-c374-4b15-aebe-e7b651f94080",
   "metadata": {
    "id": "66309733-c374-4b15-aebe-e7b651f94080"
   },
   "source": [
    "tf.keras를 이용하여 $w_0,w_1$을 추정하라. (참고: $w_0, w_1$에 대한 참값은 -1과 5이다.) "
   ]
  },
  {
   "cell_type": "code",
   "execution_count": 94,
   "id": "ee9fdc8a",
   "metadata": {},
   "outputs": [
    {
     "data": {
      "text/plain": [
       "(TensorShape([2000, 1]), TensorShape([2000, 1]))"
      ]
     },
     "execution_count": 94,
     "metadata": {},
     "output_type": "execute_result"
    }
   ],
   "source": [
    "N = 2000\n",
    "x = x.reshape(2000,1)\n",
    "y = y.reshape(2000,1)\n",
    "y.shape, x.shape"
   ]
  },
  {
   "cell_type": "code",
   "execution_count": 95,
   "id": "4b24c371",
   "metadata": {},
   "outputs": [
    {
     "data": {
      "text/plain": [
       "<keras.callbacks.History at 0x2010e620be0>"
      ]
     },
     "execution_count": 95,
     "metadata": {},
     "output_type": "execute_result"
    }
   ],
   "source": [
    "tf.random.set_seed(55364)\n",
    "net2 = tf.keras.Sequential() \n",
    "net2.add(tf.keras.layers.Dense(1,activation='sigmoid'))\n",
    "bceloss_fn = lambda y,yhat: -tf.reduce_mean(y*tnp.log(yhat) + (1-y)*tnp.log(1-yhat))\n",
    "net2.compile(loss=bceloss_fn, optimizer=tf.keras.optimizers.SGD(0.1))\n",
    "net2.fit(x,y,epochs=2000,verbose=0,batch_size=N) "
   ]
  },
  {
   "cell_type": "code",
   "execution_count": 96,
   "id": "e5ceabe1",
   "metadata": {},
   "outputs": [
    {
     "data": {
      "text/plain": [
       "[<tf.Variable 'dense_12/kernel:0' shape=(1, 1) dtype=float32, numpy=array([[4.823104]], dtype=float32)>,\n",
       " <tf.Variable 'dense_12/bias:0' shape=(1,) dtype=float32, numpy=array([-1.036515], dtype=float32)>]"
      ]
     },
     "execution_count": 96,
     "metadata": {},
     "output_type": "execute_result"
    }
   ],
   "source": [
    "net2.weights"
   ]
  },
  {
   "cell_type": "code",
   "execution_count": 97,
   "id": "10d3b4f1",
   "metadata": {},
   "outputs": [
    {
     "data": {
      "text/plain": [
       "[<matplotlib.lines.Line2D at 0x2010e70b100>]"
      ]
     },
     "execution_count": 97,
     "metadata": {},
     "output_type": "execute_result"
    },
    {
     "data": {
      "image/png": "[encoded data removed]",
      "text/plain": [
       "<Figure size 432x288 with 1 Axes>"
      ]
     },
     "metadata": {
      "needs_background": "light"
     },
     "output_type": "display_data"
    }
   ],
   "source": [
    "v = tf.nn.sigmoid(-1+5*x)\n",
    "plt.plot(x,y,'.',alpha=0.05)\n",
    "plt.plot(x,v,'--r')\n",
    "plt.plot(x,net(x),'--g')"
   ]
  },
  {
   "cell_type": "markdown",
   "id": "75e6e697-04cf-4022-8ca4-b7d94875f1e4",
   "metadata": {
    "id": "75e6e697-04cf-4022-8ca4-b7d94875f1e4"
   },
   "source": [
    "## `4`. Piecewise-linear regression (15점) "
   ]
  },
  {
   "cell_type": "markdown",
   "id": "e80e5f88-bcec-477f-98a3-3c616cb35046",
   "metadata": {
    "id": "e80e5f88-bcec-477f-98a3-3c616cb35046"
   },
   "source": [
    "## `5`. 다음을 잘 읽고 참과 거짓을 판단하라. (5점)"
   ]
  },
  {
   "cell_type": "markdown",
   "id": "93e43a1a-fcfa-4a7e-a87a-0464434a6c01",
   "metadata": {
    "id": "93e43a1a-fcfa-4a7e-a87a-0464434a6c01"
   },
   "source": [
    "`(1)` 적절한 학습률이 선택된다면, 경사하강법은 손실함수가 convex일때 언제 전역최소해를 찾을 수 있다. -> TRUE"
   ]
  },
  {
   "cell_type": "markdown",
   "id": "9d360389-0708-4a69-9965-7d27bd287596",
   "metadata": {
    "id": "9d360389-0708-4a69-9965-7d27bd287596"
   },
   "source": [
    "`(2)`"
   ]
  },
  {
   "cell_type": "markdown",
   "id": "b3feb8fc-5e08-48ff-a7fb-f54060f980bb",
   "metadata": {
    "id": "b3feb8fc-5e08-48ff-a7fb-f54060f980bb"
   },
   "source": [
    "`(3)`"
   ]
  },
  {
   "cell_type": "markdown",
   "id": "4433ca8f-50af-4ca5-a9bd-60386c5c89f9",
   "metadata": {
    "id": "4433ca8f-50af-4ca5-a9bd-60386c5c89f9"
   },
   "source": [
    "`(4)`"
   ]
  },
  {
   "cell_type": "markdown",
   "id": "985252b2-9148-455f-b2fb-6c03fd0124f6",
   "metadata": {
    "id": "985252b2-9148-455f-b2fb-6c03fd0124f6"
   },
   "source": [
    "`(5)`"
   ]
  },
  {
   "cell_type": "markdown",
   "id": "2f54760f-159f-448a-b677-9c0f4ff4a6c6",
   "metadata": {
    "id": "2f54760f-159f-448a-b677-9c0f4ff4a6c6"
   },
   "source": [
    "### some notes "
   ]
  },
  {
   "cell_type": "markdown",
   "id": "7196afe7-94aa-46af-9c84-f3daeac2050d",
   "metadata": {
    "id": "7196afe7-94aa-46af-9c84-f3daeac2050d"
   },
   "source": [
    "`-` 용어를 모르겠는 분은 질문하시기 바랍니다. \n",
    "\n",
    "`-` 풀다가 에러나는 코드 질문하면 에러 수정해드립니다. "
   ]
  }
 ],
 "metadata": {
  "colab": {
   "name": "2022-04-23-중간고사예상문제.ipynb",
   "provenance": []
  },
  "kernelspec": {
   "display_name": "Python 3 (ipykernel)",
   "language": "python",
   "name": "python3"
  },
  "language_info": {
   "codemirror_mode": {
    "name": "ipython",
    "version": 3
   },
   "file_extension": ".py",
   "mimetype": "text/x-python",
   "name": "python",
   "nbconvert_exporter": "python",
   "pygments_lexer": "ipython3",
   "version": "3.8.12"
  }
 },
 "nbformat": 4,
 "nbformat_minor": 5
}
