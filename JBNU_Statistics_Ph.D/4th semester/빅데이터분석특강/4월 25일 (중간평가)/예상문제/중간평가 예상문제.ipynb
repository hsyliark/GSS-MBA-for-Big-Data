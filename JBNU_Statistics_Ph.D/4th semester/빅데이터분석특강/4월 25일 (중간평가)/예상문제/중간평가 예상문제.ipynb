{
 "cells": [
  {
   "cell_type": "markdown",
   "id": "de95d384-976e-48f3-8c2e-9d9d2fb777cc",
   "metadata": {
    "id": "de95d384-976e-48f3-8c2e-9d9d2fb777cc",
    "tags": []
   },
   "source": [
    "# 중간평가 예상문제 "
   ]
  },
  {
   "cell_type": "code",
   "execution_count": 1,
   "id": "5969fb87-91ed-4581-bc76-8bcff884177e",
   "metadata": {
    "id": "5969fb87-91ed-4581-bc76-8bcff884177e"
   },
   "outputs": [],
   "source": [
    "import numpy as np\n",
    "import tensorflow as tf \n",
    "import tensorflow.experimental.numpy as tnp \n",
    "tnp.experimental_enable_numpy_behavior()"
   ]
  },
  {
   "cell_type": "code",
   "execution_count": 2,
   "id": "42b1dfe1-30a6-40a1-9ecb-bb448c529b0c",
   "metadata": {
    "id": "42b1dfe1-30a6-40a1-9ecb-bb448c529b0c"
   },
   "outputs": [],
   "source": [
    "import pandas as pd\n",
    "import matplotlib.pyplot as plt "
   ]
  },
  {
   "cell_type": "markdown",
   "id": "9ec7a960-880b-4e27-8527-3c55b899141d",
   "metadata": {
    "id": "9ec7a960-880b-4e27-8527-3c55b899141d"
   },
   "source": [
    "## `1`. 경사하강법과 tf.GradientTape()의 사용방법 (30점)"
   ]
  },
  {
   "cell_type": "markdown",
   "id": "ba1efbdf-a7a7-4fe9-bde5-1e3926c02e52",
   "metadata": {
    "id": "ba1efbdf-a7a7-4fe9-bde5-1e3926c02e52"
   },
   "source": [
    "`(1)` 아래는 $X_i \\overset{iid}{\\sim} N(3,2^2)$ 를 생성하는 코드이다. (10점)"
   ]
  },
  {
   "cell_type": "code",
   "execution_count": 3,
   "id": "9cf5a708-4524-44b8-8fc1-0ce5449ad0a4",
   "metadata": {
    "id": "9cf5a708-4524-44b8-8fc1-0ce5449ad0a4",
    "outputId": "495bb3e4-9679-470c-d42f-cf6075ab5482"
   },
   "outputs": [
    {
     "data": {
      "text/plain": [
       "<tf.Tensor: shape=(10000,), dtype=float64, numpy=\n",
       "array([ 4.12539849,  5.46696729,  5.27243374, ...,  2.89712332,\n",
       "        5.01072291, -1.13050477])>"
      ]
     },
     "execution_count": 3,
     "metadata": {},
     "output_type": "execute_result"
    }
   ],
   "source": [
    "tf.random.set_seed(43052)\n",
    "x= tnp.random.randn(10000)*2+3\n",
    "x"
   ]
  },
  {
   "cell_type": "markdown",
   "id": "76605c29-cfd0-41f5-9ae1-7888c72c3196",
   "metadata": {
    "id": "76605c29-cfd0-41f5-9ae1-7888c72c3196"
   },
   "source": [
    "함수 $L(\\mu,\\sigma)$을 최대화하는 $(\\mu,\\sigma)$를 `tf.GradientTape()`를 활용하여 추정하라. (경사하강법 혹은 경사상승법을 사용하고 $\\mu$의 초기값은 2로 $\\sigma$의 초기값은 3으로 설정할 것) \n",
    "\n",
    "$$L(\\mu,\\sigma)=\\prod_{i=1}^{n}f(x_i), \\quad f(x_i)=\\frac{1}{\\sqrt{2\\pi}\\sigma}e^{-\\frac{1}{2}(\\frac{x_i-\\mu}{\\sigma})^2}$$\n",
    "\n",
    "**hint**: $L(\\mu,\\sigma)$를 최대화하는 $(\\mu,\\sigma)$는 $\\log L(\\mu,\\sigma)$를 역시 최대화한다는 사실을 이용할 것. "
   ]
  },
  {
   "cell_type": "markdown",
   "id": "306b4d87-6e43-4c42-a64e-7b09c8ba4eda",
   "metadata": {
    "id": "306b4d87-6e43-4c42-a64e-7b09c8ba4eda"
   },
   "source": [
    "**hint:** $\\mu$의 참값은 3, $\\sigma$의 참값은 2이다. (따라서 $\\mu$와 $\\sigma$는 각각 3과 2근처로 추정되어야 한다.) "
   ]
  },
  {
   "cell_type": "code",
   "execution_count": 4,
   "id": "e496c3af",
   "metadata": {},
   "outputs": [
    {
     "data": {
      "text/plain": [
       "(<tf.Tensor: shape=(), dtype=float64, numpy=3.0164017983287295>,\n",
       " <tf.Tensor: shape=(), dtype=float64, numpy=1.9869589700290096>)"
      ]
     },
     "execution_count": 4,
     "metadata": {},
     "output_type": "execute_result"
    }
   ],
   "source": [
    "tnp.mean(x), tnp.sqrt(tnp.var(x)*(9999/10000)) # MLE of mu and sigma"
   ]
  },
  {
   "cell_type": "code",
   "execution_count": 5,
   "id": "d20354a6",
   "metadata": {},
   "outputs": [],
   "source": [
    "mu = tf.Variable(2.0) \n",
    "sigma = tf.Variable(3.0)"
   ]
  },
  {
   "cell_type": "code",
   "execution_count": 6,
   "id": "b177e106",
   "metadata": {},
   "outputs": [],
   "source": [
    "import math"
   ]
  },
  {
   "cell_type": "code",
   "execution_count": 7,
   "id": "9bf60781",
   "metadata": {},
   "outputs": [],
   "source": [
    "alpha = 0.0001\n",
    "opt = tf.keras.optimizers.SGD(alpha)"
   ]
  },
  {
   "cell_type": "code",
   "execution_count": 8,
   "id": "33ace88a",
   "metadata": {},
   "outputs": [],
   "source": [
    "for epoc in range(10000):\n",
    "    with tf.GradientTape() as tape:\n",
    "        # minimize minus log likelihood function\n",
    "        minus_logL = -tf.reduce_sum(tnp.log((1/tnp.sqrt(2*math.pi)/sigma)*tnp.exp(-(1/2)*((x-mu)/sigma)**2))) \n",
    "    slope0,slope1 = tape.gradient(minus_logL,[mu,sigma])\n",
    "    opt.apply_gradients([(slope0,mu),(slope1,sigma)])"
   ]
  },
  {
   "cell_type": "code",
   "execution_count": 9,
   "id": "6de7ae56",
   "metadata": {},
   "outputs": [
    {
     "data": {
      "text/plain": [
       "(<tf.Variable 'Variable:0' shape=() dtype=float32, numpy=3.0164015>,\n",
       " <tf.Variable 'Variable:0' shape=() dtype=float32, numpy=1.9870584>)"
      ]
     },
     "execution_count": 9,
     "metadata": {},
     "output_type": "execute_result"
    }
   ],
   "source": [
    "mu, sigma"
   ]
  },
  {
   "cell_type": "markdown",
   "id": "7a6563bd-b7cf-4c9f-8371-6896f8796f7b",
   "metadata": {
    "id": "7a6563bd-b7cf-4c9f-8371-6896f8796f7b"
   },
   "source": [
    "`(2)` "
   ]
  },
  {
   "cell_type": "markdown",
   "id": "812c984e-92c1-4a7a-86b1-6b8f850699d6",
   "metadata": {
    "id": "812c984e-92c1-4a7a-86b1-6b8f850699d6"
   },
   "source": [
    "`(3)`"
   ]
  },
  {
   "cell_type": "markdown",
   "id": "a442ee36-3e02-4894-8205-b06dbec79d81",
   "metadata": {
    "id": "a442ee36-3e02-4894-8205-b06dbec79d81"
   },
   "source": [
    "## `2`. 회귀분석의 이론적해와 tf.keras.optimizer 이용방법 (20점)"
   ]
  },
  {
   "cell_type": "markdown",
   "id": "bf3556b3-4e5e-4351-9ebe-b61a565e8998",
   "metadata": {
    "id": "bf3556b3-4e5e-4351-9ebe-b61a565e8998"
   },
   "source": [
    "아래와 같은 선형모형을 고려하자. \n",
    "\n",
    "$$y_i = \\beta_0 + \\beta_1 x_i +\\epsilon_i.$$\n",
    "\n",
    "이때 오차항은 정규분포로 가정한다. 즉 $\\epsilon_i \\overset{iid}{\\sim} N(0,\\sigma^2)$라고 가정한다. \n",
    "\n",
    "관측데이터가 아래와 같을때 아래의 물음에 답하라. "
   ]
  },
  {
   "cell_type": "markdown",
   "id": "29562a53",
   "metadata": {},
   "source": [
    "`hint1` alpha=0.0015로 설정할 것\n",
    "\n",
    "`hint2` epoc은 10000번정도 반복실행하며 적당한 횟수를 찾을 것\n",
    "\n",
    "`hint3` (1)의 최적값에 반드시 정확히 수렴시킬 필요는 없음 (너무 많은 에폭이 소모됨)\n",
    "\n",
    "`hint4` 초기값으로 [5,10] 정도 이용할 것"
   ]
  },
  {
   "cell_type": "code",
   "execution_count": 10,
   "id": "45cf9cd7-5fb4-46df-97a2-8f897e0274c4",
   "metadata": {
    "id": "45cf9cd7-5fb4-46df-97a2-8f897e0274c4"
   },
   "outputs": [],
   "source": [
    "x= tnp.array([20.1, 22.2, 22.7, 23.3, 24.4, 25.1, 26.2, 27.3, 28.4, 30.4])\n",
    "y= tnp.array([55.4183651 , 58.19427589, 61.23082496, 62.31255873, 63.1070028 , \n",
    "              63.69569103, 67.24704918, 71.43650092, 73.10130336, 77.84988286])\n",
    "# X= tnp.array([[1.0, 20.1], [1.0, 22.2], [1.0, 22.7], [1.0, 23.3], [1.0, 24.4],\n",
    "#               [1.0, 25.1], [1.0, 26.2], [1.0, 27.3], [1.0, 28.4], [1.0, 30.4]])"
   ]
  },
  {
   "cell_type": "markdown",
   "id": "4b577089-ed00-4e28-bf8f-524161c7e164",
   "metadata": {
    "id": "4b577089-ed00-4e28-bf8f-524161c7e164"
   },
   "source": [
    "`(1)` MSE loss를 최소화 하는 $\\beta_0,\\beta_1$의 해석해를 구하라. "
   ]
  },
  {
   "cell_type": "code",
   "execution_count": 11,
   "id": "7a1ba482",
   "metadata": {},
   "outputs": [
    {
     "data": {
      "text/plain": [
       "(TensorShape([10, 1]), TensorShape([10, 2]))"
      ]
     },
     "execution_count": 11,
     "metadata": {},
     "output_type": "execute_result"
    }
   ],
   "source": [
    "X = tf.stack([tf.ones(10,dtype='float64'),x],axis=1)\n",
    "y = y.reshape(10,1)\n",
    "y.shape,X.shape"
   ]
  },
  {
   "cell_type": "code",
   "execution_count": 12,
   "id": "3c5caed0",
   "metadata": {},
   "outputs": [
    {
     "data": {
      "text/plain": [
       "<tf.Tensor: shape=(2, 1), dtype=float64, numpy=\n",
       "array([[9.94457323],\n",
       "       [2.21570461]])>"
      ]
     },
     "execution_count": 12,
     "metadata": {},
     "output_type": "execute_result"
    }
   ],
   "source": [
    "tf.linalg.inv(X.T@X)@X.T@y "
   ]
  },
  {
   "cell_type": "markdown",
   "id": "33474142-8d95-4544-8d31-7817a4d531fc",
   "metadata": {
    "id": "33474142-8d95-4544-8d31-7817a4d531fc"
   },
   "source": [
    "`(2)` 경사하강법과 MSE loss의 도함수를 이용하여 $\\beta_0,\\beta_1$을 추정하라. \n",
    "\n",
    "**주의** tf.GradientTape()를 이용하지 말고 MSE loss의 해석적 도함수를 사용할 것."
   ]
  },
  {
   "cell_type": "code",
   "execution_count": 31,
   "id": "f7cf6117",
   "metadata": {},
   "outputs": [],
   "source": [
    "beta_hat = tf.Variable(tnp.array([10.0,5.0]).reshape(2,1))\n",
    "alpha=0.0001"
   ]
  },
  {
   "cell_type": "code",
   "execution_count": 32,
   "id": "46a6baad",
   "metadata": {},
   "outputs": [],
   "source": [
    "for epoc in range(1000):\n",
    "    slope = -2*X.T@(y-X@beta_hat)\n",
    "    beta_hat.assign_sub(alpha*slope)"
   ]
  },
  {
   "cell_type": "code",
   "execution_count": 33,
   "id": "cd2507fd",
   "metadata": {},
   "outputs": [
    {
     "data": {
      "text/plain": [
       "<tf.Variable 'Variable:0' shape=(2, 1) dtype=float64, numpy=\n",
       "array([[9.89177719],\n",
       "       [2.21778641]])>"
      ]
     },
     "execution_count": 33,
     "metadata": {},
     "output_type": "execute_result"
    }
   ],
   "source": [
    "beta_hat"
   ]
  },
  {
   "cell_type": "markdown",
   "id": "ba0c4ce3-f3bd-4087-b6c4-45f71aa01c6a",
   "metadata": {
    "id": "ba0c4ce3-f3bd-4087-b6c4-45f71aa01c6a"
   },
   "source": [
    "`(3)` `tf.keras.optimizers`의 `apply_gradients()`를 이용하여 $\\beta_0,\\beta_1$을 추정하라. "
   ]
  },
  {
   "cell_type": "code",
   "execution_count": 34,
   "id": "60ce5843",
   "metadata": {},
   "outputs": [],
   "source": [
    "N = 10\n",
    "beta_hat = tf.Variable(tnp.array([10.0,5.0]).reshape(2,1))\n",
    "alpha=0.0001\n",
    "opt = tf.keras.optimizers.SGD(alpha)"
   ]
  },
  {
   "cell_type": "code",
   "execution_count": 35,
   "id": "08ee207f",
   "metadata": {},
   "outputs": [],
   "source": [
    "for epoc in range(1000):\n",
    "    with tf.GradientTape(persistent=True) as tape: \n",
    "        tape.watch(beta_hat)\n",
    "        yhat= X@beta_hat\n",
    "        loss= (y-yhat).T @ (y-yhat) / N\n",
    "    slope = tape.gradient(loss,beta_hat)\n",
    "    opt.apply_gradients([(slope,beta_hat)])"
   ]
  },
  {
   "cell_type": "code",
   "execution_count": 36,
   "id": "3314b730",
   "metadata": {},
   "outputs": [
    {
     "data": {
      "text/plain": [
       "<tf.Variable 'Variable:0' shape=(2, 1) dtype=float64, numpy=\n",
       "array([[9.89044651],\n",
       "       [2.21783888]])>"
      ]
     },
     "execution_count": 36,
     "metadata": {},
     "output_type": "execute_result"
    }
   ],
   "source": [
    "beta_hat"
   ]
  },
  {
   "cell_type": "markdown",
   "id": "2001be03-0c7f-4ef3-b537-147cf4563d86",
   "metadata": {
    "id": "2001be03-0c7f-4ef3-b537-147cf4563d86"
   },
   "source": [
    "`(4)` `tf.keras.optimizers`의 `minimize()`를 이용하여 $\\beta_0,\\beta_1$을 추정하라. "
   ]
  },
  {
   "cell_type": "code",
   "execution_count": 37,
   "id": "0a54875f",
   "metadata": {},
   "outputs": [],
   "source": [
    "N = 10\n",
    "beta_hat = tf.Variable(tnp.array([10.0,5.0]).reshape(2,1))\n",
    "loss_fn = lambda: (y-X@beta_hat).T @ (y-X@beta_hat) / N \n",
    "alpha=0.0001 \n",
    "opt = tf.keras.optimizers.SGD(alpha)"
   ]
  },
  {
   "cell_type": "code",
   "execution_count": 38,
   "id": "4eace9f1",
   "metadata": {},
   "outputs": [],
   "source": [
    "for epoc in range(1000): \n",
    "    opt.minimize(loss_fn,beta_hat)"
   ]
  },
  {
   "cell_type": "code",
   "execution_count": 39,
   "id": "28a56eed",
   "metadata": {},
   "outputs": [
    {
     "data": {
      "text/plain": [
       "<tf.Variable 'Variable:0' shape=(2, 1) dtype=float64, numpy=\n",
       "array([[9.89044651],\n",
       "       [2.21783888]])>"
      ]
     },
     "execution_count": 39,
     "metadata": {},
     "output_type": "execute_result"
    }
   ],
   "source": [
    "beta_hat"
   ]
  },
  {
   "cell_type": "markdown",
   "id": "7326952d-fce0-4b89-9de2-a66bf05c3960",
   "metadata": {
    "id": "7326952d-fce0-4b89-9de2-a66bf05c3960"
   },
   "source": [
    "## `3`. keras를 이용한 풀이 (30점)"
   ]
  },
  {
   "cell_type": "markdown",
   "id": "0e8a3f28-199e-4ba4-b30e-64f3adff17c9",
   "metadata": {
    "id": "0e8a3f28-199e-4ba4-b30e-64f3adff17c9"
   },
   "source": [
    "`(1)` 아래와 같은 모형을 고려하자. \n",
    "\n",
    "$$y_i= \\beta_0 + \\sum_{k=1}^{5} \\beta_k \\cos(k t_i)+\\epsilon_i, \\quad i=0,1,\\dots, 999$$\n",
    "\n",
    "여기에서 $t_i=\\frac{2\\pi i}{1000}$ 이다. 그리고 $\\epsilon_i \\sim i.i.d~ N(0,\\sigma^2)$, 즉 서로 독립인 표준정규분포에서 추출된 샘플이다. 위의 모형에서 아래와 같은 데이터를 관측했다고 가정하자. "
   ]
  },
  {
   "cell_type": "code",
   "execution_count": 40,
   "id": "bc94cb8e-2348-4779-a254-a322c47c40f5",
   "metadata": {
    "id": "bc94cb8e-2348-4779-a254-a322c47c40f5",
    "outputId": "6527d971-a066-4d32-d969-96c27b26b6d7"
   },
   "outputs": [
    {
     "data": {
      "text/plain": [
       "[<matplotlib.lines.Line2D at 0x20cff87ddf0>]"
      ]
     },
     "execution_count": 40,
     "metadata": {},
     "output_type": "execute_result"
    },
    {
     "data": {
      "image/png": "[encoded data removed]",
      "text/plain": [
       "<Figure size 432x288 with 1 Axes>"
      ]
     },
     "metadata": {
      "needs_background": "light"
     },
     "output_type": "display_data"
    }
   ],
   "source": [
    "np.random.seed(43052)\n",
    "t= np.array(range(1000))* np.pi/1000\n",
    "y = -2+ 3*np.cos(t) + 1*np.cos(2*t) + 0.5*np.cos(5*t) + np.random.randn(1000)*0.2\n",
    "plt.plot(t,y,'.',alpha=0.2)"
   ]
  },
  {
   "cell_type": "markdown",
   "id": "6b27ae75-90e2-405f-a325-baaf8edb5cd4",
   "metadata": {
    "id": "6b27ae75-90e2-405f-a325-baaf8edb5cd4"
   },
   "source": [
    "tf.keras를 이용하여 $\\beta_0,\\dots,\\beta_5$를 추정하라. ($\\beta_0,\\dots,\\beta_5$의 참값은 각각 -2,3,1,0,0,0.5 이다) "
   ]
  },
  {
   "cell_type": "code",
   "execution_count": 41,
   "id": "9055cf66",
   "metadata": {},
   "outputs": [
    {
     "data": {
      "text/plain": [
       "(TensorShape([1000, 1]), TensorShape([1000, 6]))"
      ]
     },
     "execution_count": 41,
     "metadata": {},
     "output_type": "execute_result"
    }
   ],
   "source": [
    "y = tnp.array(y.reshape(1000,1))\n",
    "X = tf.stack([tf.ones(1000,dtype='float64'),tnp.array(np.cos(t)),tnp.array(np.cos(2*t)),tnp.array(np.cos(3*t)),\n",
    "              tnp.array(np.cos(4*t)),tnp.array(np.cos(5*t))],axis=1)\n",
    "y.shape, X.shape"
   ]
  },
  {
   "cell_type": "code",
   "execution_count": 42,
   "id": "2957adbc",
   "metadata": {},
   "outputs": [
    {
     "data": {
      "text/plain": [
       "<keras.callbacks.History at 0x20cff7db070>"
      ]
     },
     "execution_count": 42,
     "metadata": {},
     "output_type": "execute_result"
    }
   ],
   "source": [
    "tf.random.set_seed(55364) \n",
    "## 1단계\n",
    "net1 = tf.keras.Sequential() \n",
    "## 2단계\n",
    "net1.add(tf.keras.layers.Dense(100,activation='relu')) \n",
    "net1.add(tf.keras.layers.Dense(1))\n",
    "## 3단계 \n",
    "net1.compile(optimizer=tf.optimizers.SGD(0.01),loss='mse')\n",
    "## 4단계 \n",
    "net1.fit(X,y,epochs=1000,verbose=0,batch_size=1000)"
   ]
  },
  {
   "cell_type": "code",
   "execution_count": 43,
   "id": "063862f6",
   "metadata": {},
   "outputs": [
    {
     "data": {
      "text/plain": [
       "[<matplotlib.lines.Line2D at 0x20cffc41280>]"
      ]
     },
     "execution_count": 43,
     "metadata": {},
     "output_type": "execute_result"
    },
    {
     "data": {
      "image/png": "[encoded data removed]",
      "text/plain": [
       "<Figure size 432x288 with 1 Axes>"
      ]
     },
     "metadata": {
      "needs_background": "light"
     },
     "output_type": "display_data"
    }
   ],
   "source": [
    "plt.plot(t,y,'.',alpha=0.2)\n",
    "plt.plot(t,net1(X),'--r')"
   ]
  },
  {
   "cell_type": "code",
   "execution_count": 44,
   "id": "5ae005ec",
   "metadata": {},
   "outputs": [],
   "source": [
    "N = 1000\n",
    "beta_hat = tf.Variable(tnp.array([0.0,4.0,2.0,1.0,1.0,0.0]).reshape(6,1))\n",
    "alpha=0.01\n",
    "opt = tf.keras.optimizers.SGD(alpha)\n",
    "for epoc in range(1000):\n",
    "    with tf.GradientTape() as tape: \n",
    "        yhat= X@beta_hat\n",
    "        loss= (y-yhat).T @ (y-yhat) / N\n",
    "    slope = tape.gradient(loss,beta_hat)\n",
    "    opt.apply_gradients([(slope,beta_hat)])"
   ]
  },
  {
   "cell_type": "code",
   "execution_count": 45,
   "id": "757540cd",
   "metadata": {},
   "outputs": [
    {
     "data": {
      "text/plain": [
       "<tf.Variable 'Variable:0' shape=(6, 1) dtype=float64, numpy=\n",
       "array([[-2.01226553e+00],\n",
       "       [ 3.00103784e+00],\n",
       "       [ 1.00674977e+00],\n",
       "       [ 1.88070818e-03],\n",
       "       [-3.84802712e-03],\n",
       "       [ 4.97089344e-01]])>"
      ]
     },
     "execution_count": 45,
     "metadata": {},
     "output_type": "execute_result"
    }
   ],
   "source": [
    "beta_hat"
   ]
  },
  {
   "cell_type": "markdown",
   "id": "36332c6f-4e55-4d4b-8a3a-e3c4aff35298",
   "metadata": {
    "id": "36332c6f-4e55-4d4b-8a3a-e3c4aff35298"
   },
   "source": [
    "`(2)` 아래와 같은 모형을 고려하자. \n",
    "\n",
    "$$y_i \\sim Ber(\\pi_i), ~ \\text{where} ~ \\pi_i=\\frac{\\exp(w_0+w_1x_i)}{1+\\exp(w_0+w_1x_i)}$$\n"
   ]
  },
  {
   "cell_type": "markdown",
   "id": "eac5206a-027a-4526-81c7-c98674808e24",
   "metadata": {
    "id": "eac5206a-027a-4526-81c7-c98674808e24"
   },
   "source": [
    "위의 모형에서 관측한 데이터는 아래와 같다. "
   ]
  },
  {
   "cell_type": "code",
   "execution_count": 47,
   "id": "fcc33c1b-4873-44da-859a-7db528ca6e10",
   "metadata": {
    "id": "fcc33c1b-4873-44da-859a-7db528ca6e10",
    "outputId": "6ccb5088-10fe-478b-8783-3042c59a6e3f"
   },
   "outputs": [
    {
     "data": {
      "text/plain": [
       "[<matplotlib.lines.Line2D at 0x20cffd41e20>]"
      ]
     },
     "execution_count": 47,
     "metadata": {},
     "output_type": "execute_result"
    },
    {
     "data": {
      "image/png": "[encoded data removed]",
      "text/plain": [
       "<Figure size 432x288 with 1 Axes>"
      ]
     },
     "metadata": {
      "needs_background": "light"
     },
     "output_type": "display_data"
    }
   ],
   "source": [
    "tf.random.set_seed(43052)\n",
    "x = tnp.linspace(-1,1,2000) \n",
    "y = tf.constant(np.random.binomial(1, tf.nn.sigmoid(-1+5*x)),dtype=tf.float64) \n",
    "plt.plot(x,y,'.',alpha=0.05)"
   ]
  },
  {
   "cell_type": "markdown",
   "id": "66309733-c374-4b15-aebe-e7b651f94080",
   "metadata": {
    "id": "66309733-c374-4b15-aebe-e7b651f94080"
   },
   "source": [
    "tf.keras를 이용하여 $w_0,w_1$을 추정하라. (참고: $w_0, w_1$에 대한 참값은 -1과 5이다.) "
   ]
  },
  {
   "cell_type": "code",
   "execution_count": 48,
   "id": "ee9fdc8a",
   "metadata": {},
   "outputs": [
    {
     "data": {
      "text/plain": [
       "(TensorShape([2000, 1]), TensorShape([2000, 1]))"
      ]
     },
     "execution_count": 48,
     "metadata": {},
     "output_type": "execute_result"
    }
   ],
   "source": [
    "N = 2000\n",
    "x = x.reshape(2000,1)\n",
    "y = y.reshape(2000,1)\n",
    "y.shape, x.shape"
   ]
  },
  {
   "cell_type": "code",
   "execution_count": 49,
   "id": "4b24c371",
   "metadata": {},
   "outputs": [
    {
     "data": {
      "text/plain": [
       "<keras.callbacks.History at 0x20cffd93e20>"
      ]
     },
     "execution_count": 49,
     "metadata": {},
     "output_type": "execute_result"
    }
   ],
   "source": [
    "tf.random.set_seed(55364)\n",
    "net2 = tf.keras.Sequential() \n",
    "net2.add(tf.keras.layers.Dense(1,activation='sigmoid'))\n",
    "bceloss_fn = lambda y,yhat: -tf.reduce_mean(y*tnp.log(yhat) + (1-y)*tnp.log(1-yhat))\n",
    "net2.compile(loss=bceloss_fn, optimizer=tf.keras.optimizers.SGD(0.1))\n",
    "net2.fit(x,y,epochs=1000,verbose=0,batch_size=N) "
   ]
  },
  {
   "cell_type": "code",
   "execution_count": 50,
   "id": "e5ceabe1",
   "metadata": {},
   "outputs": [
    {
     "data": {
      "text/plain": [
       "[<tf.Variable 'dense_2/kernel:0' shape=(1, 1) dtype=float32, numpy=array([[4.093329]], dtype=float32)>,\n",
       " <tf.Variable 'dense_2/bias:0' shape=(1,) dtype=float32, numpy=array([-0.66782784], dtype=float32)>]"
      ]
     },
     "execution_count": 50,
     "metadata": {},
     "output_type": "execute_result"
    }
   ],
   "source": [
    "net2.weights"
   ]
  },
  {
   "cell_type": "code",
   "execution_count": 52,
   "id": "10d3b4f1",
   "metadata": {},
   "outputs": [
    {
     "data": {
      "text/plain": [
       "[<matplotlib.lines.Line2D at 0x20c8499a3d0>]"
      ]
     },
     "execution_count": 52,
     "metadata": {},
     "output_type": "execute_result"
    },
    {
     "data": {
      "image/png": "[encoded data removed]",
      "text/plain": [
       "<Figure size 432x288 with 1 Axes>"
      ]
     },
     "metadata": {
      "needs_background": "light"
     },
     "output_type": "display_data"
    }
   ],
   "source": [
    "v = tf.nn.sigmoid(-1+5*x)\n",
    "plt.plot(x,y,'.',alpha=0.05)\n",
    "plt.plot(x,v,'--r')\n",
    "plt.plot(x,net2(x),'--g')"
   ]
  },
  {
   "cell_type": "markdown",
   "id": "75e6e697-04cf-4022-8ca4-b7d94875f1e4",
   "metadata": {
    "id": "75e6e697-04cf-4022-8ca4-b7d94875f1e4"
   },
   "source": [
    "## `4`. Piecewise-linear regression (15점) "
   ]
  },
  {
   "cell_type": "markdown",
   "id": "e80e5f88-bcec-477f-98a3-3c616cb35046",
   "metadata": {
    "id": "e80e5f88-bcec-477f-98a3-3c616cb35046"
   },
   "source": [
    "## `5`. 다음을 잘 읽고 참과 거짓을 판단하라. (5점)"
   ]
  },
  {
   "cell_type": "markdown",
   "id": "93e43a1a-fcfa-4a7e-a87a-0464434a6c01",
   "metadata": {
    "id": "93e43a1a-fcfa-4a7e-a87a-0464434a6c01"
   },
   "source": [
    "`(1)` 적절한 학습률이 선택된다면, 경사하강법은 손실함수가 convex일때 언제 전역최소해를 찾을 수 있다. -> TRUE"
   ]
  },
  {
   "cell_type": "markdown",
   "id": "9d360389-0708-4a69-9965-7d27bd287596",
   "metadata": {
    "id": "9d360389-0708-4a69-9965-7d27bd287596"
   },
   "source": [
    "`(2)`"
   ]
  },
  {
   "cell_type": "markdown",
   "id": "b3feb8fc-5e08-48ff-a7fb-f54060f980bb",
   "metadata": {
    "id": "b3feb8fc-5e08-48ff-a7fb-f54060f980bb"
   },
   "source": [
    "`(3)`"
   ]
  },
  {
   "cell_type": "markdown",
   "id": "4433ca8f-50af-4ca5-a9bd-60386c5c89f9",
   "metadata": {
    "id": "4433ca8f-50af-4ca5-a9bd-60386c5c89f9"
   },
   "source": [
    "`(4)`"
   ]
  },
  {
   "cell_type": "markdown",
   "id": "985252b2-9148-455f-b2fb-6c03fd0124f6",
   "metadata": {
    "id": "985252b2-9148-455f-b2fb-6c03fd0124f6"
   },
   "source": [
    "`(5)`"
   ]
  },
  {
   "cell_type": "markdown",
   "id": "2f54760f-159f-448a-b677-9c0f4ff4a6c6",
   "metadata": {
    "id": "2f54760f-159f-448a-b677-9c0f4ff4a6c6"
   },
   "source": [
    "### some notes "
   ]
  },
  {
   "cell_type": "markdown",
   "id": "7196afe7-94aa-46af-9c84-f3daeac2050d",
   "metadata": {
    "id": "7196afe7-94aa-46af-9c84-f3daeac2050d"
   },
   "source": [
    "`-` 용어를 모르겠는 분은 질문하시기 바랍니다. \n",
    "\n",
    "`-` 풀다가 에러나는 코드 질문하면 에러 수정해드립니다. "
   ]
  }
 ],
 "metadata": {
  "colab": {
   "name": "2022-04-23-중간고사예상문제.ipynb",
   "provenance": []
  },
  "kernelspec": {
   "display_name": "Python 3 (ipykernel)",
   "language": "python",
   "name": "python3"
  },
  "language_info": {
   "codemirror_mode": {
    "name": "ipython",
    "version": 3
   },
   "file_extension": ".py",
   "mimetype": "text/x-python",
   "name": "python",
   "nbconvert_exporter": "python",
   "pygments_lexer": "ipython3",
   "version": "3.8.12"
  }
 },
 "nbformat": 4,
 "nbformat_minor": 5
}
