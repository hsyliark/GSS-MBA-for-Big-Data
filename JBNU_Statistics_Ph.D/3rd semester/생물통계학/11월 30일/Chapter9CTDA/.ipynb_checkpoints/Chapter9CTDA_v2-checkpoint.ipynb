{
 "cells": [
  {
   "cell_type": "markdown",
   "metadata": {},
   "source": [
    "\n",
    "<div style=\"text-align: right\"> <small> <i>Clinical Trial Data Analysis Using R and SAS</i> </small> </div>"
   ]
  },
  {
   "cell_type": "markdown",
   "metadata": {},
   "source": [
    "# 9 Bayesian Methods in Clinical Trials"
   ]
  },
  {
   "cell_type": "markdown",
   "metadata": {},
   "source": [
    "## Contents\n",
    " \n",
    "* [9.1 Bayesian Models](#9.1-Bayesian-Models)\n",
    "   * [9.1.1 Bayes' Theorem](#9.1.1-Bayes'-Theorem)\n",
    "   * [9.1.2 Posterior Distributions for Some Standard Distributions](#9.1.2-Posterior-Distributions-for-Some-Standard-Distributions) \n",
    "   * [9.1.3 Simulation from the Posterior Distribution](#9.1.3-Simulation-from-the-Posterior-Distribution)\n",
    "\n",
    "* [9.2 R Packages in Bayesian Modeling](#9.2-R-Packages-in-Bayesian-Modeling)\n",
    "   * [9.2.1 Introduction](#9.2.1-Introduction)\n",
    "   * [9.2.2 R Packages using WinBUGS](#9.2.2-R-Packages-using-WinBUGS)\n",
    "   * [9.2.3 MCMCpack](#9.2.3-MCMCpack)\n",
    "\n",
    "* [9.3 MCMC Simulations ](#9.3-MCMC-Simulations)    \n",
    "   * [9.3.1 Normal-Normal Model](#9.3.1-Normal-Normal-Model)\n",
    "   * [9.3.2 Beta-Binomial Model](#9.3.2-Beta-Binomial-Model)\n",
    "\n",
    "* [9.4 Bayesian Data Analysis](#9.4-Bayesian-Data-Analysis)\n",
    "   * [9.4.1 Blood Pressure Data: Bayesian Linear Regression](#9.4.1-Blood-Pressure-Data:-Bayesian-Linear-Regression)\n",
    "   * [9.4.2 Binomial Data: Bayesian Logistic Regression](#9.4.2-Binomial-Data:-Bayesian-Logistic-Regression)\n",
    "   * [9.4.3 Count Data: Bayesian Poisson Regression](#9.4.3-Count-Data:-Bayesian-Poisson-Regression)\n",
    "   * [9.4.4 Comparing Two Treatments](#9.4.4-Comparing-Two-Treatments)\n",
    "         \n",
    "* [9.5 Summary and Discussion](#9.5-Summary-and-Discussion)         \n",
    "* [9.6 Appendix: SAS Programs](#9.6-Appendix:-SAS-Programs)         "
   ]
  },
  {
   "cell_type": "markdown",
   "metadata": {},
   "source": [
    "## 9.1 Bayesian Models"
   ]
  },
  {
   "cell_type": "markdown",
   "metadata": {},
   "source": [
    "### 9.1.1 Bayes' Theorem"
   ]
  },
  {
   "cell_type": "markdown",
   "metadata": {},
   "source": [
    "  $$P(H \\mid E) = \\frac{P(E \\mid H)P(H)}{P(E)} = \\frac{P(E \\mid H)P(H)}{P(E \\mid H)P(H)+P(E \\mid H^{c})P(H^{c})}$$"
   ]
  },
  {
   "cell_type": "markdown",
   "metadata": {},
   "source": [
    "* $P(H)$: estimated as the proportion of patients having breast cancer ( $0.01$ ) \n",
    "* $P(E)$: could be estimated as the proportion of patients with a positive mammogram"
   ]
  },
  {
   "cell_type": "markdown",
   "metadata": {},
   "source": [
    "가정 \n",
    "  * $P(E \\mid H) = 0.95$ (실제 유방암 환자가 유방암 양성 진단을 받을 확률)\n",
    "  * $P(E^{c} \\mid H^{c}) = 0.99$ (실제 정상인이 유방암 음성 진단을 받을 확률)\n",
    "  \\begin{align*}\n",
    "      P(H \\mid E) & = \\frac{P(E \\mid H)P(H)}{P(E)} = \\frac{P(E \\mid H)P(H)}{P(E \\mid H)P(H)+P(E \\mid H^{c})P(H^{c})} \n",
    "               = \\frac{0.95 \\times 0.01}{0.95\\times 0.01 + (1-0.99)\\times(1-0.01)} = 0.49\\\\\n",
    "      P(H^{c} \\mid E^{c})& = \\frac{P(E^c \\mid H^c)P(H^c)}{P(E^c)} = \\frac{P(E^c \\mid H^c)P(H^c)}{P(E^c \\mid H^c)P(H^c)+P(E^c \\mid  H^{c})P(H^{c})} \n",
    "               = \\frac{0.99 \\times (1-0.01)}{0.99\\times (1-0.01) + (1-0.95)\\times 0.01} = 0.999\n",
    "  \\end{align*}\n",
    "  \n",
    "     "
   ]
  },
  {
   "cell_type": "markdown",
   "metadata": {},
   "source": [
    "참고\n",
    " * $P(E \\mid H)$: 관측치 $y$, 모수 $\\theta$ 가능도 함수(likelihood function) $L(\\theta) = L(\\theta \\mid y)$\n",
    " * $P(H)$: 모수 $\\theta$에 대한 사전 분포(prior distribution) $\\pi(\\theta)$\n",
    " * $P(H|E)$ : 사후분포 (posterior ditribution)  $\\displaystyle p(\\theta \\mid y) = \\frac{L(\\theta) \\pi(\\theta)}{\\int L(\\theta) \\pi(\\theta) d\\theta} \\propto L(\\theta)\\pi(\\theta)$ (posterior $\\propto$ likelihood $\\times$ prior)\n",
    "    > $\\int L(\\theta) \\pi(\\theta) d\\theta$: 정규화 상수(normalization constant)"
   ]
  },
  {
   "cell_type": "markdown",
   "metadata": {},
   "source": [
    "### 9.1.2 Posterior Distributions for Some Standard Distributions"
   ]
  },
  {
   "cell_type": "markdown",
   "metadata": {},
   "source": [
    "#### 9.1.2.1 Normal Distribution with Known Variance"
   ]
  },
  {
   "cell_type": "markdown",
   "metadata": {},
   "source": [
    "* $Y_i \\sim N(\\theta, \\sigma^2)$, $\\sigma$ known\n",
    "  1. Noninformative or reference prior ($\\pi(\\theta)=1$)\n",
    "      * $p(\\theta \\mid y) =  N(\\bar{y}, \\sigma^2 / n)$\n",
    "      * $100(1-\\alpha)\\%$ credible interval: $\\bar{y} \\pm z_{\\alpha/2}\\frac{\\sigma}{\\sqrt{n}}$\n",
    "  2. conjugate prior ($\\pi(\\theta) = N(\\theta_0, \\tau^2)$)\n",
    "      * $p(\\theta \\mid y) \\propto  N(\\mu_P, \\sigma_{P}^2)$\n",
    "      * $\\mu_P = w\\bar{y} + (1-w)\\theta_0$, $\\sigma_P^2 = \\frac{1}{\\frac{n}{\\sigma^2}+{1}{\\tau^2}}$\n",
    "      * $w=\\frac{n/\\sigma^2}{(1/\\tau^2 + n/\\sigma^2)}$"
   ]
  },
  {
   "cell_type": "markdown",
   "metadata": {},
   "source": [
    "#### 9.1.2.2 Normal Distribution with Unknown Variance"
   ]
  },
  {
   "cell_type": "markdown",
   "metadata": {},
   "source": [
    "* $Y_i \\sim N(\\theta, \\sigma^2)$, $\\sigma$ unknown\n",
    "  1. Noninformative or reference prior \n",
    "      * $\\pi(\\mu, \\sigma) \\propto 1/\\sigma$\n",
    "      * $p(\\mu, \\sigma \\mid y) = p(\\sigma \\mid y)p(\\mu \\mid \\sigma, y)$     \n",
    "      * $\\sigma \\mid y \\sim (n-1)s^2/\\chi_{n-1}^2$, $\\mu \\mid \\sigma, y \\sim N(\\bar{y}, \\sigma^2/n)$\n",
    "      * $\\sigma$에 대해 integrate $\\displaystyle \\rightarrow \\mu = \\bar{y} + \\frac{s}{\\sqrt{n}}T_{n-1}$, $T_{n-1} \\sim t_{n-1}$\n",
    "      * $100(1-\\alpha)\\%$ credit interval: $\\displaystyle \\bar{y} \\pm t_{n-1, \\alpha/2}\\frac{s}{\\sqrt{n}}$"
   ]
  },
  {
   "cell_type": "markdown",
   "metadata": {},
   "source": [
    "#### 9.1.2.3 Normal Regression"
   ]
  },
  {
   "cell_type": "markdown",
   "metadata": {},
   "source": [
    "* simple linear regression model:\n",
    "  * $\\epsilon \\sim N(0, \\sigma^2)$ with 관측치 $(y_i, x_{1i},...,x_{pi})$\n",
    "  * $\\beta=(\\beta_0, \\beta_1,...,\\beta_p) \\rightarrow \\hat{\\beta}= (X^{T}X)^{-1}{X^T}Y\\quad (\\widehat{\\sigma}^2 = s^2 = \\frac{SSR}{n-p-1}$)\n",
    "* Bayesian inference, \n",
    "  * noninformative or usual reference prior: $\\pi(\\beta, \\sigma) \\propto \\sigma^{-1}$\n",
    "  * $\\sigma^2 \\mid \\text{data} \\sim (n-p-1)s^2/\\chi_{n-p-1}^2$\n",
    "  * $\\beta_i \\sim \\hat{\\beta_i} + s_iT_{n-p-1}, \\mbox{ where }s_i^2 = s^2(X^{T}X)^{-1}_{ii}$\n",
    "  * $100(1-\\alpha)\\%$ credit interval: $\\hat{\\beta}_i \\pm t_{\\alpha/2}s_i$"
   ]
  },
  {
   "cell_type": "markdown",
   "metadata": {},
   "source": [
    "#### 9.1.2.4 Binomial Distribution"
   ]
  },
  {
   "cell_type": "markdown",
   "metadata": {},
   "source": [
    "* $y \\sim Bin(n, \\theta)$, $\\sigma$ unknown\n",
    "  1. Noninformative or reference prior \n",
    "    * $p(\\theta \\mid y) = Beta(y+1, n-y+1)$\n",
    "      > $Beta(a,b) = \\frac{\\Gamma(a+b)}{\\Gamma(a)\\Gamma(b)}x^{a-1}(1-x)^{b-1}dx$\n",
    "  2. conjugate prior $\\pi(\\theta) \\propto \\theta^{a-1}(1-\\theta)^{b-1}$\n",
    "    * $p(\\theta \\mid y) = Beta(a+y, b+n-y)$"
   ]
  },
  {
   "cell_type": "markdown",
   "metadata": {},
   "source": [
    "#### 9.1.2.5 Multinomial Distribution"
   ]
  },
  {
   "cell_type": "markdown",
   "metadata": {},
   "source": [
    "* $y \\sim Multinomial(n, \\theta)$, $y=(y_1,...,y_p), \\theta=(\\theta_1,...,\\theta_p)$\n",
    "  1. Noninformative or reference prior $\\pi(\\theta) \\propto 1$\n",
    "    * $p(\\theta \\mid y) = \\theta_1^{y_1} \\cdots \\theta_p^{y_p}$\n",
    "  2. conjugate prior $\\pi(\\theta) \\propto \\theta_1^{\\alpha_1-1} \\cdots \\theta_p^{\\alpha_p-1}$, $Dirichlet(\\alpha_1, ..., \\alpha_p)$\n",
    "    * $p(\\theta \\mid y)= Dir(\\alpha_1 + y_1, ..., \\alpha_p +y_p)$"
   ]
  },
  {
   "cell_type": "markdown",
   "metadata": {},
   "source": [
    "  "
   ]
  },
  {
   "cell_type": "markdown",
   "metadata": {},
   "source": [
    "### 9.1.3 Simulation from the Posterior Distribution\n",
    "\n",
    "**Statistical inferences on $g(\\theta)$** from a posterior distribution through **simulation**\n",
    "- draw random sample of size $N$ as $\\theta_1,\\dots,\\theta_N$ from the posterior distribution $p(\\theta|y)$\n",
    "- estimate $E[g(\\theta)|y]$  by $\\displaystyle \\frac{\\sum_i g(\\theta_i)}{N}$ \n",
    "- approximate the posterior distribution for $g(\\theta)$ by a histogram of the values $g(\\theta_1),\\dots, g(\\theta_N)$\n",
    "- make statistical inferences from this sample.\n",
    "\n",
    "**Challenge for the simulation approch** : to draw samples from $p(\\theta|y)$\n",
    "\n",
    "**common four methods**\n",
    "- direct simulation\n",
    "- importance sampling\n",
    "- Gibbs sampling\n",
    "- Metropolis-Hastings sampling\n"
   ]
  },
  {
   "cell_type": "markdown",
   "metadata": {},
   "source": [
    "#### 9.1.3.1 Direct Simulation"
   ]
  },
  {
   "cell_type": "markdown",
   "metadata": {},
   "source": [
    "`directly simulate` from the posterior distribution\n",
    "> provided it can be linked to known distributions  that can be easily simulated\n",
    "\n",
    "**Example** : a simple two-treatment randomized clinical trial setting with $n$ patients from treatment 1 and $m$ from treatment 2\n",
    "\n",
    "* **Data** \n",
    "  - treatment 1: $n$, $X_1,...,X_n \\sim N(\\mu_X, \\sigma_X^2)$ <br>\n",
    "  - treatment 2: $m$, $Y_1,...,Y_m \\sim N(\\mu_Y, \\sigma_Y^2)$\n",
    "* **Prior**\n",
    "  - noninformative or reference prior($\\pi(\\mu_X, \\mu_Y, \\sigma_X, \\sigma_Y) \\propto  \\frac{1}{\\sigma_X \\sigma_Y}$)\n",
    "* **Interest** in a clinical trial\n",
    "  - mean treatment difference $\\delta = \\mu_X - \\mu_Y$\n",
    "  - posterior distribution $\\pi(\\delta \\mid \\text{data})$\n",
    "* **marginal posterior distribution** $p(\\mu_X,\\mu_Y|data)$ \n",
    "  - derived by multiplying the likelihood by the posterior distribution and integrating out $\\sigma_X$ and $\\sigma_Y$\n",
    "  - $\\mu_X$ and $\\mu_Y$ are independent\n",
    "  \\begin{align*}\n",
    "      \\mu_X &\\sim \\bar{x} + \\frac{s_x}{\\sqrt{n}}T_{n-1}\\\\\n",
    "      \\mu_Y &\\sim \\bar{y} + \\frac{s_y}{\\sqrt{m}}T_{m-1}\n",
    "  \\end{align*}\n",
    "  - $t$-distribution is common and can be easily simulated\n",
    "* **Direct Simulation**\n",
    "  * Step 1: Randomly draw samples \n",
    "      $$T_X^1, \\dots, T_X^N \\mbox{ from } t_{n−1},\\quad T_Y^1, \\dots, T_Y^N\\mbox{ from } t_{m−1}$$,\n",
    "  * Step 2: Calculate \n",
    "      $$\\mu_X^i = \\bar{x} + \\frac{s_x}{\\sqrt{n}}T_X^i,\\quad \\mu_Y^i = \\bar{y} + \\frac{s_y}{\\sqrt{m}}T_Y^i$$,\n",
    "  * Step 3: Calculate \n",
    "      $$\\delta_i = \\mu_X^i - \\mu_Y^i, i=1,...,N$$\n",
    " \n",
    "* $\\delta_i$ from Step 3  \n",
    "  - samples from the posteriror distribution $\\pi(\\delta|data)$\n",
    "  - use to estimate the posterior mean and a credible interval and to provide any other Bayesian inference"
   ]
  },
  {
   "cell_type": "markdown",
   "metadata": {},
   "source": [
    "#### 9.1.3.2 Importance Sampling"
   ]
  },
  {
   "cell_type": "markdown",
   "metadata": {},
   "source": [
    "In the case that direct simulation is not feasible, *Importance sampling* with Monte Carlo simulation may be used.\n",
    "\n",
    "\n",
    "**Example** : the posterior distribution $f(\\theta)=p(\\theta|y)\\propto L(\\theta)\\pi(\\theta)$ \n",
    "* too difficult to simulate from $f$\n",
    "* randomly draw samples $\\theta_1,\\dots, \\theta_N$ instead from an *importance* density $s$\n",
    "  > $s(z)$ : importance function\n",
    "  > - another density function\n",
    "  > - close to $f$ in form\n",
    "  > - eacy to simulate\n",
    "  > - $\\displaystyle E[g(Z)] = \\int g(z) f(z) dz =\\int \\frac{g(z)f(z)}{s(z)} s(z) dz \\approx \\frac{1}\n",
    "      {N}\\sum_i\\frac{g(z_i)f(z_i)}{s(z_i)}$\n",
    "* $\\displaystyle E[g(\\theta) \\mid y] \\approx \\frac{\\sum_i \\frac{g(\\theta_i)\\times L(\\theta_i)\\pi(\\theta_i)}{s(\\theta_i)}}{\\sum_i \\frac{L(\\theta_i)\\pi(\\theta_i)}{s(\\theta_i)}}$"
   ]
  },
  {
   "cell_type": "markdown",
   "metadata": {},
   "source": [
    "**Direct simulation and importance sampling**\n",
    "- useful when the number of parameters is small\n",
    "- but intractable when it is large."
   ]
  },
  {
   "cell_type": "markdown",
   "metadata": {},
   "source": [
    "#### 9.1.3.3 Gibbs Sampling"
   ]
  },
  {
   "cell_type": "markdown",
   "metadata": {},
   "source": [
    "* proposed in the landmark paper by Geman and Geman (1984)\n",
    "* popularized by Gelfand and Smith (1990) \n",
    "* easily generalized to any number of parameters as long as their conditional distribution.\n",
    "\n",
    "**Basic idea** : randomly sample from the conditional distributions\n",
    "\n",
    "**Example** : wish to draw samples from a bivariate density function $f(x,y)$ \n",
    "\n",
    "* start by obtaining $x_0$ and $y_0$\n",
    "* proceed iteratively in the following fashion\n",
    "  * at the $t^{th}$ iteration, randomly draw\n",
    "  $$x_t \\sim f(x \\mid y_{t-1})$$\n",
    "  $$y_t \\sim f(y \\mid x_t)$$\n",
    "  * repeat $N$ times\n",
    "* regard $(x_1, y_1),...,(x_N, y_N)$ as an approximate sample from $f(x,y)$\n",
    "* `burn-in` : discard the first $m$ pairs because the sample pairs are dependent in the begining.\n",
    "* Estimate $f(x)$\n",
    "  $$f(x) = \\int f(x,y) dy  = \\int f(x \\mid y) f(y) dy  \\approx \\frac{\\sum_i f(x \\mid y_i)}{N}$$\n",
    "\n",
    "**Gibbs sampling** in Bayesian modeling\n",
    "- choose $f(\\theta_1, \\theta_2)$ as the posterior distribution, i.e.$f(\\theta_1, \\theta_2)= p(\\theta_1, \\theta_2 \\mid y)$"
   ]
  },
  {
   "cell_type": "markdown",
   "metadata": {},
   "source": [
    "#### 9.1.3.4 Metapolis-Hastings Algorithm"
   ]
  },
  {
   "cell_type": "markdown",
   "metadata": {},
   "source": [
    "- similar to Gibbs sampling\n",
    "- utilise a Markov-chain (MC) to generate correlated Monte-Carlo (MC) samples\n",
    "- referred to as one of the general Markov-chain Monte-Carlo (MCMC) algorithms\n",
    "- initially proposed by Metropolis et al. (1953)\n",
    "- generated by Hastings (1970)\n",
    "- used to generate samples from a distribution $p(\\theta)$\n",
    "  - only known up to a constant $p(\\theta)=h(\\theta)/C,\\ C=\\int h(\\theta)d\\theta$\n",
    "  - link to Bayesian modeling where $p(\\theta)$ is a posterior and $h(\\theta)=L(\\theta)\\pi(\\theta)$\n",
    "\n",
    "The **essence of MH algorithm**\n",
    "- `choose a working Markov chain` with easily simulated kernel $q(\\psi|\\theta)$ (the probability of jumping into state $\\psi$ from state $\\theta$) \n",
    "- `modify the chain` to approximate the posterior $p(\\theta)$\n",
    "\n",
    "**Modification of MC**\n",
    "  - start the selected chain $q$ at an arbitrary point $\\theta^{(0)}$\n",
    "  -  for $i=1,...,M$ repeat:\n",
    "     - draw a candidate value $\\psi\\sim q(\\psi|\\theta^{(i)})$ from the selected arbitrary chain $q$\n",
    "     obtain $\\theta^{(i+1)}$\n",
    "     $$\n",
    "     \\theta^{(i+1)}=\\left\\{\\begin{array}{lll}\n",
    "         \\psi\\quad &\\mbox{with probability } \\alpha,&\\\\\n",
    "         \\theta^{(i)}&\\mbox{with probability} 1-\\alpha& \\qquad  \\mbox{ where } \\alpha = \\text{min}\\left\\{\\frac{h(\\psi)}{h\\left(\\theta^{(i)}\\right)}\\frac{q\\left(\\theta^{(i)}\\mid \\psi\\right)}{q\\left(\\psi \\mid \\theta^{(i)}\\right)},1\\right\\}\n",
    "     \\end{array}\\right.\n",
    "     $$\n",
    "     That is\n",
    "     - $\\alpha \\ge 1$ : accept $\\psi$ and set $\\theta^{(i+1)} \\leftarrow \\psi$ <br>\n",
    "     - $0 < \\alpha < 1$ : accept $\\psi$ and set $\\theta^{(i+1)} \\leftarrow \\psi$ with probability $\\alpha$ <br>\n",
    "$\\ \\quad\\quad \\;\\;\\;\\quad$reject $\\psi$ and set $\\theta^{(i+1)} \\leftarrow \\theta^{(i)}$ with probability $1-\\alpha$ <br>\n",
    "    \n",
    "> **Note** the constant $C$ canceled out in the formula $\\alpha$ so that $\\int h(\\theta)d\\theta$ not necessary to be evaluated.\n"
   ]
  },
  {
   "cell_type": "markdown",
   "metadata": {},
   "source": [
    "**Choice of the initial MC $q(\\psi|\\theta)$ kernel**\n",
    "- Independent MH\n",
    "\\begin{align*}\n",
    "    q(\\psi \\mid \\theta)& = q(\\psi)\\quad\\mbox{(i.e. independent of the present state of the chain)}\\\\\n",
    "    \\alpha&=\\text{min}\\left\\{ \\frac{h(\\psi)}{h\\left(\\theta^{(i)}\\right)}\\frac{q\\left(\\theta^{(i)}\\right)}{q(\\psi)},1 \\right\\}\n",
    "\\end{align*}\n",
    "- Random Walk\n",
    "  - take into account the MC value previously simulated in generating the next value in the chain\n",
    "  $$\n",
    "     \\theta^{i+1} = \\theta^i + \\epsilon_i\\quad (\\epsilon_i: \\mbox{ random perturbation})\n",
    "  $$\n",
    "  > ex) *normal random walk chain* \n",
    "  > - most common choice of distribution for the MC kernel is $N(0,1)$\n",
    "  > $$\n",
    "      \\psi|\\theta^{(i)}\\sim N(\\theta^{(i)}, \\sigma^2_0), \\quad \\mbox{ where $\\sigma_0$ is some fixed number}\n",
    "  $$\n",
    "  $$\n",
    "      \\alpha=\\min\\left\\{\\frac{h(\\psi)}{h(\\theta^{(i)})},1\\right\\},\\quad \\mbox{ which is independent of $q$}\n",
    "  $$\n",
    "  > - candidate value $\\psi$ is drawn from $N(\\theta^{(i)},\\sigma^2_0)$\n",
    "  > - $\\displaystyle \\alpha=\\min\\left\\{\\frac{h(\\psi)}{h(\\theta^{(i)})},1\\right\\}$\n",
    "  > - next value $\\theta^{(i+1)}$ = $\\psi$ with probability $\\alpha$, $\\theta^{(i)}$ with probability $1-\\alpha$"
   ]
  },
  {
   "cell_type": "markdown",
   "metadata": {},
   "source": [
    "## 9.2 R Packages in Bayesian Modeling"
   ]
  },
  {
   "cell_type": "markdown",
   "metadata": {},
   "source": [
    "### 9.2.1 Introduction"
   ]
  },
  {
   "cell_type": "markdown",
   "metadata": {},
   "source": [
    "* 1990년대, 컴퓨터의 발전으로 MCMC 기법 사용 $\\uparrow$"
   ]
  },
  {
   "cell_type": "markdown",
   "metadata": {},
   "source": [
    "### 9.2.2 R Packages using `WinBUGS`"
   ]
  },
  {
   "cell_type": "markdown",
   "metadata": {},
   "source": [
    "#### 9.2.2.1 `R2WinBUGS`"
   ]
  },
  {
   "cell_type": "markdown",
   "metadata": {},
   "source": [
    "* the Windows version of **B**ayesian inference **U**sing **G**ibbs **S**ampling (Spiegelhalter et al.(2003))"
   ]
  },
  {
   "cell_type": "code",
   "execution_count": 26,
   "metadata": {},
   "outputs": [],
   "source": [
    "#install.packages('R2WinBUGS')\n",
    "#library(R2WinBUGS)\n",
    "#library(help=R2WinBUGS)"
   ]
  },
  {
   "cell_type": "markdown",
   "metadata": {},
   "source": [
    "#### 9.2.2.2 `BRugs`"
   ]
  },
  {
   "cell_type": "code",
   "execution_count": 24,
   "metadata": {},
   "outputs": [],
   "source": [
    "#install.packages('BRugs')\n",
    "#library(BRugs) "
   ]
  },
  {
   "cell_type": "markdown",
   "metadata": {},
   "source": [
    "#### 9.2.2.3 `rbugs`"
   ]
  },
  {
   "cell_type": "code",
   "execution_count": 25,
   "metadata": {},
   "outputs": [],
   "source": [
    "#install.packages('rbugs')\n",
    "#library(rbugs)"
   ]
  },
  {
   "cell_type": "markdown",
   "metadata": {},
   "source": [
    "#### 9.2.2.4 Typical Usage"
   ]
  },
  {
   "cell_type": "markdown",
   "metadata": {},
   "source": [
    "* The model file is written by the user with syntax from WinBUGS, which is basically R code. \n",
    "* The user needs to be good at **programming** in both **R and WinBUGS**."
   ]
  },
  {
   "cell_type": "markdown",
   "metadata": {},
   "source": [
    "### 9.2.3 `MCMCpack`"
   ]
  },
  {
   "cell_type": "code",
   "execution_count": 29,
   "metadata": {
    "scrolled": true
   },
   "outputs": [
    {
     "name": "stderr",
     "output_type": "stream",
     "text": [
      "Warning message:\n",
      "\"package 'MCMCpack' was built under R version 3.6.3\""
     ]
    },
    {
     "ename": "ERROR",
     "evalue": "Error: package or namespace load failed for 'MCMCpack' in loadNamespace(j <- i[[1L]], c(lib.loc, .libPaths()), versionCheck = vI[[j]]):\n namespace 'Rcpp' 1.0.1 is already loaded, but >= 1.0.3 is required\n",
     "output_type": "error",
     "traceback": [
      "Error: package or namespace load failed for 'MCMCpack' in loadNamespace(j <- i[[1L]], c(lib.loc, .libPaths()), versionCheck = vI[[j]]):\n namespace 'Rcpp' 1.0.1 is already loaded, but >= 1.0.3 is required\nTraceback:\n",
      "1. library(MCMCpack)",
      "2. tryCatch({\n .     attr(package, \"LibPath\") <- which.lib.loc\n .     ns <- loadNamespace(package, lib.loc)\n .     env <- attachNamespace(ns, pos = pos, deps, exclude, include.only)\n . }, error = function(e) {\n .     P <- if (!is.null(cc <- conditionCall(e))) \n .         paste(\" in\", deparse(cc)[1L])\n .     else \"\"\n .     msg <- gettextf(\"package or namespace load failed for %s%s:\\n %s\", \n .         sQuote(package), P, conditionMessage(e))\n .     if (logical.return) \n .         message(paste(\"Error:\", msg), domain = NA)\n .     else stop(msg, call. = FALSE, domain = NA)\n . })",
      "3. tryCatchList(expr, classes, parentenv, handlers)",
      "4. tryCatchOne(expr, names, parentenv, handlers[[1L]])",
      "5. value[[3L]](cond)",
      "6. stop(msg, call. = FALSE, domain = NA)"
     ]
    }
   ],
   "source": [
    "#install.packages(\"MCMCpack\")\n",
    "library(MCMCpack)"
   ]
  },
  {
   "cell_type": "markdown",
   "metadata": {},
   "source": [
    "## 9.3 MCMC Simulations\n",
    "### 9.3.1 Normal-Normal Model"
   ]
  },
  {
   "cell_type": "markdown",
   "metadata": {},
   "source": [
    "* Normal Distribution with Known Variance인 경우.\n",
    "* $n=30, \\mu=3, \\sigma=2$"
   ]
  },
  {
   "cell_type": "code",
   "execution_count": 30,
   "metadata": {
    "scrolled": true
   },
   "outputs": [
    {
     "data": {
      "text/html": [
       "2.90579248793639"
      ],
      "text/latex": [
       "2.90579248793639"
      ],
      "text/markdown": [
       "2.90579248793639"
      ],
      "text/plain": [
       "[1] 2.905792"
      ]
     },
     "metadata": {},
     "output_type": "display_data"
    },
    {
     "data": {
      "text/html": [
       "3.84968498055034"
      ],
      "text/latex": [
       "3.84968498055034"
      ],
      "text/markdown": [
       "3.84968498055034"
      ],
      "text/plain": [
       "[1] 3.849685"
      ]
     },
     "metadata": {},
     "output_type": "display_data"
    }
   ],
   "source": [
    "# set seed to 123\n",
    "set.seed(123)\n",
    "# n=30 patients\n",
    "n = 30\n",
    "# known sigma\n",
    "sigma = 2\n",
    "# population mean\n",
    "mu = 3\n",
    "# simulate data\n",
    "y =  rnorm(n, mu,sigma)\n",
    "# print the data\n",
    "# the mean and variance of the simulated data\n",
    "mean(y)\n",
    "var(y)"
   ]
  },
  {
   "cell_type": "markdown",
   "metadata": {},
   "source": [
    "* reasonable to assume that the prior distribution is normal with prior mean $\\mu_0=2$ and prior standard deviation $\\tau_0 = 0.5$\n",
    "* 사후 분포: $\\mu_P = w\\bar{y}+(1-w)\\theta_0$, $\\sigma^2_P = \\frac{1}{\\frac{n}{\\sigma^2}+\\frac{1}{\\tau^2}}, \\text{where }w=\\frac{\\tau^2}{\\tau^2+\\sigma^2/n}$"
   ]
  },
  {
   "cell_type": "code",
   "execution_count": 31,
   "metadata": {},
   "outputs": [],
   "source": [
    "# the prior parameters\n",
    "mu0 = 2; tau0 = .5 \n",
    "# the weight\n",
    "w           =  tau0^2/(tau0^2+sigma^2/n)\n",
    "# the posterior mean\n",
    "muP       =  w*mean(y) + (1-w)*mu0\n",
    "# the posterior standard deviation\n",
    "sigmaP = sqrt(1/(1/tau0^2+n/sigma^2))\n",
    "# direct simulation of posterior normal\n",
    "Bayes1.norm2norm = rnorm(10000, muP,sigmaP)"
   ]
  },
  {
   "cell_type": "markdown",
   "metadata": {},
   "source": [
    "* `Bayes1.norm2norm`에 사후 분포에서 추출한 10000개의 데이터를 저장한다."
   ]
  },
  {
   "cell_type": "code",
   "execution_count": 32,
   "metadata": {},
   "outputs": [
    {
     "data": {
      "text/html": [
       "<dl class=dl-horizontal>\n",
       "\t<dt>2.5%</dt>\n",
       "\t\t<dd>2.00766874596771</dd>\n",
       "\t<dt>25%</dt>\n",
       "\t\t<dd>2.39394199331621</dd>\n",
       "\t<dt>50%</dt>\n",
       "\t\t<dd>2.58737098807356</dd>\n",
       "\t<dt>75%</dt>\n",
       "\t\t<dd>2.78952402073896</dd>\n",
       "\t<dt>97.5%</dt>\n",
       "\t\t<dd>3.16684229122375</dd>\n",
       "</dl>\n"
      ],
      "text/latex": [
       "\\begin{description*}\n",
       "\\item[2.5\\textbackslash{}\\%] 2.00766874596771\n",
       "\\item[25\\textbackslash{}\\%] 2.39394199331621\n",
       "\\item[50\\textbackslash{}\\%] 2.58737098807356\n",
       "\\item[75\\textbackslash{}\\%] 2.78952402073896\n",
       "\\item[97.5\\textbackslash{}\\%] 3.16684229122375\n",
       "\\end{description*}\n"
      ],
      "text/markdown": [
       "2.5%\n",
       ":   2.0076687459677125%\n",
       ":   2.3939419933162150%\n",
       ":   2.5873709880735675%\n",
       ":   2.7895240207389697.5%\n",
       ":   3.16684229122375\n",
       "\n"
      ],
      "text/plain": [
       "    2.5%      25%      50%      75%    97.5% \n",
       "2.007669 2.393942 2.587371 2.789524 3.166842 "
      ]
     },
     "metadata": {},
     "output_type": "display_data"
    }
   ],
   "source": [
    "quantile(Bayes1.norm2norm, c(0.025,0.25,0.5,0.75,0.975))"
   ]
  },
  {
   "cell_type": "markdown",
   "metadata": {},
   "source": [
    "* `MCnormalnormal()` 함수를 이용하여 사전 정보를 입력한 후, `Bayes2.norm2norm`에 10000개의 추출한 데이터를 저장한다.\n",
    "* `MCnormalnormal()`: Monte Carlo Simulation from a Normal Likelihood (with known variance) with a Normal Prior"
   ]
  },
  {
   "cell_type": "code",
   "execution_count": 33,
   "metadata": {},
   "outputs": [
    {
     "ename": "ERROR",
     "evalue": "Error in MCnormalnormal(y, sigma^2, mu0, tau0^2, 10000): 함수 \"MCnormalnormal\"를 찾을 수 없습니다\n",
     "output_type": "error",
     "traceback": [
      "Error in MCnormalnormal(y, sigma^2, mu0, tau0^2, 10000): 함수 \"MCnormalnormal\"를 찾을 수 없습니다\nTraceback:\n"
     ]
    }
   ],
   "source": [
    "###################################################\n",
    "# call the function\n",
    "Bayes2.norm2norm = MCnormalnormal(y, sigma^2, mu0, tau0^2, 10000)\n",
    "# print the summary\n",
    "summary(Bayes2.norm2norm)"
   ]
  },
  {
   "cell_type": "code",
   "execution_count": 79,
   "metadata": {},
   "outputs": [
    {
     "data": {
      "image/png": "[encoded data removed]",
      "text/plain": [
       "plot without title"
      ]
     },
     "metadata": {
      "image/png": {
       "height": 420,
       "width": 420
      }
     },
     "output_type": "display_data"
    }
   ],
   "source": [
    "par(mfrow=c(1,2))\n",
    "\n",
    "x     = seq(0,6,0.01)\n",
    "plot(x, dnorm(x, mu0,tau0), type=\"l\", lwd=1,las=1, ylim=c(0,1.4),\n",
    "     xlab=\"mu\", ylab=\"density\")\n",
    "lines(x, dnorm(x, mean(y), sigma/sqrt(n)), lty=8, lwd=1)\n",
    "lines(density(Bayes1.norm2norm), lty=8, lwd=3)\n",
    "legend(\"topright\", c(\"Prior\",\"Likelihood\", \"Posterior\"), lwd=c(1,1,3), \n",
    "       lty=c(1,5,4))\n",
    "\n",
    "x     = seq(0,6,0.01)\n",
    "plot(x, dnorm(x, mu0,tau0), type=\"l\", lwd=1,las=1, ylim=c(0,1.4),\n",
    "     xlab=\"mu\", ylab=\"density\")\n",
    "lines(x, dnorm(x, mean(y), sigma/sqrt(n)), lty=8, lwd=1)\n",
    "lines(density(Bayes2.norm2norm), lty=8, lwd=3)\n",
    "legend(\"topright\", c(\"Prior\",\"Likelihood\", \"Posterior\"), lwd=c(1,1,3), \n",
    "       lty=c(1,5,4))"
   ]
  },
  {
   "cell_type": "markdown",
   "metadata": {},
   "source": [
    "* `Bayes2.norm2norm`와 `Bayes1.norm2norm`으로 각각 그래프를 그려보면 동일한 결과가 나오는 것을 확인할 수 있다."
   ]
  },
  {
   "cell_type": "markdown",
   "metadata": {},
   "source": [
    "### 9.3.2 Beta-Binomial Model"
   ]
  },
  {
   "cell_type": "markdown",
   "metadata": {},
   "source": [
    "* Binomial likelihood + Beta prior = Beta Posterior\n",
    "* 800mg의 약 처방이 가장 효율적일 때, 각각 0mg, 400mg, 800mg, 1600mg을 투여한 4개의 집단의 대상자 수는 168, 182, 165, 188\n",
    "* 조사 종료 시점인 4주 후 치료된 환자 수는 69, 113, 120 ,145 이다.\n",
    "* $\\hat{p} = x_3/n_3 = 120/165 = 0.73$"
   ]
  },
  {
   "cell_type": "code",
   "execution_count": 28,
   "metadata": {
    "scrolled": true
   },
   "outputs": [
    {
     "data": {
      "text/html": [
       "<style>\n",
       ".list-inline {list-style: none; margin:0; padding: 0}\n",
       ".list-inline>li {display: inline-block}\n",
       ".list-inline>li:not(:last-child)::after {content: \"\\00b7\"; padding: 0 .5ex}\n",
       "</style>\n",
       "<ol class=list-inline><li>0.410714285714286</li><li>0.620879120879121</li><li>0.727272727272727</li><li>0.771276595744681</li></ol>\n"
      ],
      "text/latex": [
       "\\begin{enumerate*}\n",
       "\\item 0.410714285714286\n",
       "\\item 0.620879120879121\n",
       "\\item 0.727272727272727\n",
       "\\item 0.771276595744681\n",
       "\\end{enumerate*}\n"
      ],
      "text/markdown": [
       "1. 0.410714285714286\n",
       "2. 0.620879120879121\n",
       "3. 0.727272727272727\n",
       "4. 0.771276595744681\n",
       "\n",
       "\n"
      ],
      "text/plain": [
       "[1] 0.4107143 0.6208791 0.7272727 0.7712766"
      ]
     },
     "metadata": {},
     "output_type": "display_data"
    }
   ],
   "source": [
    "# total patients for each treatment\n",
    "n  = c(168, 182, 165,188)\n",
    "# number healed\n",
    "x = c(69, 113, 120, 145)\n",
    "# the observed proportion\n",
    "p = x/n\n",
    "p"
   ]
  },
  {
   "cell_type": "markdown",
   "metadata": {},
   "source": [
    "* $$L(p) \\propto p^{x_3}(1-p)^{n_3-x_3}$$\n",
    "* Suppose that results from prior, smaller trials suggest that the median of the distribution of p is about 0.75 and the 95 percentile is 0.85 for this treatment. \n",
    "* prior parameter인 $a$와 $b$에 대한 함수 `obj()`를 생성한다."
   ]
  },
  {
   "cell_type": "code",
   "execution_count": 29,
   "metadata": {},
   "outputs": [],
   "source": [
    "# the objective function\n",
    "obj = function(parm){\n",
    "a = parm[1]; b = parm[2]\n",
    "( pbeta(0.50,a,b) -0.75)^2 +( pbeta(0.95,a,b)- 0.85)^2\n",
    "}"
   ]
  },
  {
   "cell_type": "markdown",
   "metadata": {},
   "source": [
    "* `optim()`함수를 이용해 최적의 parameter를 구한다. $\\rightarrow a=0.062, b=0.183$"
   ]
  },
  {
   "cell_type": "code",
   "execution_count": 80,
   "metadata": {},
   "outputs": [
    {
     "name": "stderr",
     "output_type": "stream",
     "text": [
      "Warning message in pbeta(0.5, a, b):\n",
      "\"NaN이 생성되었습니다\"\n",
      "Warning message in pbeta(0.95, a, b):\n",
      "\"NaN이 생성되었습니다\"\n",
      "Warning message in pbeta(0.5, a, b):\n",
      "\"NaN이 생성되었습니다\"\n",
      "Warning message in pbeta(0.95, a, b):\n",
      "\"NaN이 생성되었습니다\"\n"
     ]
    },
    {
     "name": "stdout",
     "output_type": "stream",
     "text": [
      "$par\n",
      "[1] 0.06211388 0.18292668\n",
      "\n",
      "$value\n",
      "[1] 2.571625e-10\n",
      "\n",
      "$counts\n",
      "function gradient \n",
      "     119       NA \n",
      "\n",
      "$convergence\n",
      "[1] 0\n",
      "\n",
      "$message\n",
      "NULL\n",
      "\n"
     ]
    }
   ],
   "source": [
    "# call optim to search the root with initial values at (3,3)\n",
    "out = optim(c(3,3), obj)\n",
    "print(out)"
   ]
  },
  {
   "cell_type": "code",
   "execution_count": 81,
   "metadata": {},
   "outputs": [
    {
     "data": {
      "text/html": [
       "0.749984148498536"
      ],
      "text/latex": [
       "0.749984148498536"
      ],
      "text/markdown": [
       "0.749984148498536"
      ],
      "text/plain": [
       "[1] 0.7499841"
      ]
     },
     "metadata": {},
     "output_type": "display_data"
    },
    {
     "data": {
      "text/html": [
       "0.850002427422975"
      ],
      "text/latex": [
       "0.850002427422975"
      ],
      "text/markdown": [
       "0.850002427422975"
      ],
      "text/plain": [
       "[1] 0.8500024"
      ]
     },
     "metadata": {},
     "output_type": "display_data"
    }
   ],
   "source": [
    "pbeta(0.5,out$par[1], out$par[2])\n",
    "pbeta(0.95,out$par[1], out$par[2])"
   ]
  },
  {
   "cell_type": "markdown",
   "metadata": {},
   "source": [
    "* $p(p \\mid n_3,x_3) \\propto L(p) \\times \\pi(p) \\\\\n",
    "= p^{x_3}(1-p)^{n_3-x_3} \\times p^{a-1}(1-p)^{b-1} \\\\\n",
    "= p^{x_3+a-1}(1-p)^{n_3-x_3+b-1}$\n",
    "* $beta(x_3 + a, n_3-x_3+b) = beta(120 + 0.062, 165-120+0.183) = beta(120.062,45.183)$"
   ]
  },
  {
   "cell_type": "code",
   "execution_count": 32,
   "metadata": {},
   "outputs": [
    {
     "data": {
      "text/html": [
       "<style>\n",
       ".dl-inline {width: auto; margin:0; padding: 0}\n",
       ".dl-inline>dt, .dl-inline>dd {float: none; width: auto; display: inline-block}\n",
       ".dl-inline>dt::after {content: \":\\0020\"; padding-right: .5ex}\n",
       ".dl-inline>dt:not(:first-of-type) {padding-left: .5ex}\n",
       "</style><dl class=dl-inline><dt>2.5%</dt><dd>0.656108064765255</dd><dt>25%</dt><dd>0.703219299444704</dd><dt>50%</dt><dd>0.7269275314242</dd><dt>75%</dt><dd>0.749954607036942</dd><dt>97.5%</dt><dd>0.791084787806042</dd></dl>\n"
      ],
      "text/latex": [
       "\\begin{description*}\n",
       "\\item[2.5\\textbackslash{}\\%] 0.656108064765255\n",
       "\\item[25\\textbackslash{}\\%] 0.703219299444704\n",
       "\\item[50\\textbackslash{}\\%] 0.7269275314242\n",
       "\\item[75\\textbackslash{}\\%] 0.749954607036942\n",
       "\\item[97.5\\textbackslash{}\\%] 0.791084787806042\n",
       "\\end{description*}\n"
      ],
      "text/markdown": [
       "2.5%\n",
       ":   0.65610806476525525%\n",
       ":   0.70321929944470450%\n",
       ":   0.726927531424275%\n",
       ":   0.74995460703694297.5%\n",
       ":   0.791084787806042\n",
       "\n"
      ],
      "text/plain": [
       "     2.5%       25%       50%       75%     97.5% \n",
       "0.6561081 0.7032193 0.7269275 0.7499546 0.7910848 "
      ]
     },
     "metadata": {},
     "output_type": "display_data"
    }
   ],
   "source": [
    "# direct simulation\n",
    "Bayes1.betabin = rbeta(10000, 120.062, 45.183)\n",
    "# print the quantiles\n",
    "quantile(Bayes1.betabin, c(0.025,0.25,0.5,0.75,0.975))"
   ]
  },
  {
   "cell_type": "markdown",
   "metadata": {},
   "source": [
    "* `MCbinomialbeta()` 함수를 이용하여 사전 정보를 입력한 후, `Bayes2.Bayes2.betabin`에 10000개의 추출한 데이터를 저장한다.\n",
    "* `MCbinomialbeta()`: Monte Carlo Simulation from a Binomial Likelihood with a Beta Prior"
   ]
  },
  {
   "cell_type": "code",
   "execution_count": 33,
   "metadata": {},
   "outputs": [
    {
     "data": {
      "text/plain": [
       "\n",
       "Iterations = 1:10000\n",
       "Thinning interval = 1 \n",
       "Number of chains = 1 \n",
       "Sample size per chain = 10000 \n",
       "\n",
       "1. Empirical mean and standard deviation for each variable,\n",
       "   plus standard error of the mean:\n",
       "\n",
       "          Mean             SD       Naive SE Time-series SE \n",
       "     0.7264082      0.0346317      0.0003463      0.0003463 \n",
       "\n",
       "2. Quantiles for each variable:\n",
       "\n",
       "  2.5%    25%    50%    75%  97.5% \n",
       "0.6558 0.7035 0.7275 0.7502 0.7913 \n"
      ]
     },
     "metadata": {},
     "output_type": "display_data"
    }
   ],
   "source": [
    "# keep the parameters\n",
    "x3 = 120; n3 =165; a = 0.062; b=0.183\n",
    "# call the MCbinomialbeta function for 10000 simulation \n",
    "Bayes2.betabin = MCbinomialbeta(x3, n3, a, b, mc=10000)\n",
    "# print the summary\n",
    "summary(Bayes2.betabin)"
   ]
  },
  {
   "cell_type": "code",
   "execution_count": 34,
   "metadata": {},
   "outputs": [
    {
     "data": {
      "image/png": "[encoded data removed]",
      "text/plain": [
       "plot without title"
      ]
     },
     "metadata": {
      "image/png": {
       "height": 420,
       "width": 420
      }
     },
     "output_type": "display_data"
    }
   ],
   "source": [
    "p = seq(0,1,0.01)\n",
    "plot(p, dbeta(p,a, b),  lwd=3, type=\"l\",ylim=c(0,13),\n",
    "  xlab=\"Healing Rate\", ylab=\"density\")\n",
    "lines(density(Bayes1.betabin), lty=4, lwd=3)\n",
    "lines(density(Bayes2.betabin), lty=8, lwd=3)\n",
    "legend(\"topleft\", c(\"Prior\", \"Direct Simulation\",\"MCbinomialbeta\"), \n",
    "lwd=3, lty=c(1,4,8))"
   ]
  },
  {
   "cell_type": "markdown",
   "metadata": {},
   "source": [
    "* Direct Simulation과 Monte Carlo Simulation 두 방법이 거의 동일한 결과를 가져오는 것을 확인할 수 있다."
   ]
  },
  {
   "cell_type": "markdown",
   "metadata": {},
   "source": [
    "## 9.4 Bayesian Data Analysis\n",
    "### 9.4.1 Blood Pressure Data: Bayesian Linear Regression"
   ]
  },
  {
   "cell_type": "markdown",
   "metadata": {},
   "source": [
    "* $y_i = x'_i \\beta + \\epsilon_i$\n",
    "* $\\beta \\sim N(b_0, B_0^{-1})$\n",
    "* $\\sigma^{-2} \\sim Gamma(c_0/2, d_0/2)$"
   ]
  },
  {
   "cell_type": "code",
   "execution_count": 35,
   "metadata": {},
   "outputs": [],
   "source": [
    "dat = read.csv(\"DBP.csv\",header=T)\n",
    "# we are interested in the blood pressure change\n",
    "dat$diff = dat$DBP5-dat$DBP1"
   ]
  },
  {
   "cell_type": "code",
   "execution_count": 36,
   "metadata": {},
   "outputs": [
    {
     "data": {
      "text/plain": [
       "\n",
       "Iterations = 1001:11000\n",
       "Thinning interval = 1 \n",
       "Number of chains = 1 \n",
       "Sample size per chain = 10000 \n",
       "\n",
       "1. Empirical mean and standard deviation for each variable,\n",
       "   plus standard error of the mean:\n",
       "\n",
       "               Mean      SD  Naive SE Time-series SE\n",
       "(Intercept) -6.8126 3.04021 0.0304021      0.0307719\n",
       "TRTB        10.1195 0.81085 0.0081085      0.0081085\n",
       "Age         -0.1726 0.06139 0.0006139      0.0006189\n",
       "sigma2       6.4835 1.60148 0.0160148      0.0173175\n",
       "\n",
       "2. Quantiles for each variable:\n",
       "\n",
       "                2.5%     25%    50%    75%    97.5%\n",
       "(Intercept) -12.7037 -8.8381 -6.823 -4.792 -0.79152\n",
       "TRTB          8.5432  9.5751 10.119 10.648 11.73873\n",
       "Age          -0.2954 -0.2131 -0.172 -0.132 -0.05422\n",
       "sigma2        4.0855  5.3289  6.225  7.329 10.23392\n"
      ]
     },
     "metadata": {},
     "output_type": "display_data"
    }
   ],
   "source": [
    "# fit the Bayes regression model with 1000 burn-in\n",
    "BayesMod  = MCMCregress(diff~TRT+Age, dat)\n",
    "# print the MCMC result\n",
    "summary(BayesMod)"
   ]
  },
  {
   "cell_type": "code",
   "execution_count": 37,
   "metadata": {},
   "outputs": [
    {
     "data": {
      "image/png": "[encoded data removed]",
      "text/plain": [
       "Plot with title \"Density of sigma2\""
      ]
     },
     "metadata": {
      "image/png": {
       "height": 420,
       "width": 420
      }
     },
     "output_type": "display_data"
    }
   ],
   "source": [
    "# make the margin\n",
    "par(mar = c(3,2,1.5,1))\n",
    "# make the MCMC plot\n",
    "plot(BayesMod)"
   ]
  },
  {
   "cell_type": "markdown",
   "metadata": {},
   "source": [
    "* 각각의 회귀계수의 신뢰구간에 0이 표함되지 않는 것을 보아 통계적으로 유의하다고 할 수 있으며,\n",
    "* 각 회귀계수들의 정규분포를 띄는 것을 알 수 있다."
   ]
  },
  {
   "cell_type": "markdown",
   "metadata": {},
   "source": [
    "### 9.4.2 Binomial Data: Bayesian Logistic Regression"
   ]
  },
  {
   "cell_type": "markdown",
   "metadata": {},
   "source": [
    "* `betablocker` data: 심근경색 발생 후 사망률 감소를 위한 베타 차단제의 22개 센터의 임상 시험 결과\n",
    "  * Deaths: 사망자 수\n",
    "  * Total: 환자 수\n",
    "  * Center: 센터 일련번호\n",
    "  * Treatment: Control/Treated"
   ]
  },
  {
   "cell_type": "code",
   "execution_count": 39,
   "metadata": {},
   "outputs": [],
   "source": [
    "library(flexmix)\n",
    "data(\"betablocker\")  \n",
    "betablocker$Center = as.factor(betablocker$Center)"
   ]
  },
  {
   "cell_type": "code",
   "execution_count": 40,
   "metadata": {},
   "outputs": [
    {
     "data": {
      "text/html": [
       "<table>\n",
       "<caption>A data.frame: 2 × 3</caption>\n",
       "<thead>\n",
       "\t<tr><th></th><th scope=col>Deaths</th><th scope=col>Total</th><th scope=col>Treatment</th></tr>\n",
       "\t<tr><th></th><th scope=col>&lt;dbl&gt;</th><th scope=col>&lt;dbl&gt;</th><th scope=col>&lt;fct&gt;</th></tr>\n",
       "</thead>\n",
       "<tbody>\n",
       "\t<tr><th scope=row>1</th><td>3</td><td>39</td><td>Control</td></tr>\n",
       "\t<tr><th scope=row>23</th><td>3</td><td>38</td><td>Treated</td></tr>\n",
       "</tbody>\n",
       "</table>\n"
      ],
      "text/latex": [
       "A data.frame: 2 × 3\n",
       "\\begin{tabular}{r|lll}\n",
       "  & Deaths & Total & Treatment\\\\\n",
       "  & <dbl> & <dbl> & <fct>\\\\\n",
       "\\hline\n",
       "\t1 & 3 & 39 & Control\\\\\n",
       "\t23 & 3 & 38 & Treated\\\\\n",
       "\\end{tabular}\n"
      ],
      "text/markdown": [
       "\n",
       "A data.frame: 2 × 3\n",
       "\n",
       "| <!--/--> | Deaths &lt;dbl&gt; | Total &lt;dbl&gt; | Treatment &lt;fct&gt; |\n",
       "|---|---|---|---|\n",
       "| 1 | 3 | 39 | Control |\n",
       "| 23 | 3 | 38 | Treated |\n",
       "\n"
      ],
      "text/plain": [
       "   Deaths Total Treatment\n",
       "1  3      39    Control  \n",
       "23 3      38    Treated  "
      ]
     },
     "metadata": {},
     "output_type": "display_data"
    }
   ],
   "source": [
    "# extract center 1\n",
    "beta1 = betablocker[betablocker$Center == 1,c(\"Deaths\",\"Total\",\"Treatment\")]\n",
    "# print the center 1 data\n",
    "beta1 "
   ]
  },
  {
   "cell_type": "markdown",
   "metadata": {},
   "source": [
    "* 1번 center는 대조군 39명 중 사망자 수는 3명\n",
    "    * 환자군 38명 중 사망자 수는 3명이다. $\\rightarrow$ 새로운 데이터셋 `beta1` 생성"
   ]
  },
  {
   "cell_type": "code",
   "execution_count": 82,
   "metadata": {},
   "outputs": [
    {
     "data": {
      "text/html": [
       "<table>\n",
       "<caption>A data.frame: 6 × 2</caption>\n",
       "<thead>\n",
       "\t<tr><th></th><th scope=col>trt</th><th scope=col>death</th></tr>\n",
       "\t<tr><th></th><th scope=col>&lt;chr&gt;</th><th scope=col>&lt;dbl&gt;</th></tr>\n",
       "</thead>\n",
       "<tbody>\n",
       "\t<tr><th scope=row>1</th><td>TRT</td><td>1</td></tr>\n",
       "\t<tr><th scope=row>2</th><td>TRT</td><td>1</td></tr>\n",
       "\t<tr><th scope=row>3</th><td>TRT</td><td>1</td></tr>\n",
       "\t<tr><th scope=row>4</th><td>TRT</td><td>0</td></tr>\n",
       "\t<tr><th scope=row>5</th><td>TRT</td><td>0</td></tr>\n",
       "\t<tr><th scope=row>6</th><td>TRT</td><td>0</td></tr>\n",
       "</tbody>\n",
       "</table>\n"
      ],
      "text/latex": [
       "A data.frame: 6 × 2\n",
       "\\begin{tabular}{r|ll}\n",
       "  & trt & death\\\\\n",
       "  & <chr> & <dbl>\\\\\n",
       "\\hline\n",
       "\t1 & TRT & 1\\\\\n",
       "\t2 & TRT & 1\\\\\n",
       "\t3 & TRT & 1\\\\\n",
       "\t4 & TRT & 0\\\\\n",
       "\t5 & TRT & 0\\\\\n",
       "\t6 & TRT & 0\\\\\n",
       "\\end{tabular}\n"
      ],
      "text/markdown": [
       "\n",
       "A data.frame: 6 × 2\n",
       "\n",
       "| <!--/--> | trt &lt;chr&gt; | death &lt;dbl&gt; |\n",
       "|---|---|---|\n",
       "| 1 | TRT | 1 |\n",
       "| 2 | TRT | 1 |\n",
       "| 3 | TRT | 1 |\n",
       "| 4 | TRT | 0 |\n",
       "| 5 | TRT | 0 |\n",
       "| 6 | TRT | 0 |\n",
       "\n"
      ],
      "text/plain": [
       "  trt death\n",
       "1 TRT 1    \n",
       "2 TRT 1    \n",
       "3 TRT 1    \n",
       "4 TRT 0    \n",
       "5 TRT 0    \n",
       "6 TRT 0    "
      ]
     },
     "metadata": {},
     "output_type": "display_data"
    }
   ],
   "source": [
    "# make a dataframe\n",
    "beta1 = data.frame(trt = c(rep(\"TRT\", 38),rep(\"Cont\",39)),\n",
    "                   death = c(rep(1,3), rep(0,38-3), rep(1,3), rep(0,39-3))) \n",
    "# print the first 6 observations\n",
    "head(beta1)"
   ]
  },
  {
   "cell_type": "code",
   "execution_count": 83,
   "metadata": {},
   "outputs": [
    {
     "data": {
      "text/plain": [
       "\n",
       "Call:\n",
       "glm(formula = death ~ trt, family = binomial, data = beta1)\n",
       "\n",
       "Deviance Residuals: \n",
       "    Min       1Q   Median       3Q      Max  \n",
       "-0.4056  -0.4056  -0.4001  -0.4001   2.2649  \n",
       "\n",
       "Coefficients:\n",
       "            Estimate Std. Error z value Pr(>|z|)    \n",
       "(Intercept) -2.48491    0.60092  -4.135 3.55e-05 ***\n",
       "trtTRT       0.02817    0.85030   0.033    0.974    \n",
       "---\n",
       "Signif. codes:  0 '***' 0.001 '**' 0.01 '*' 0.05 '.' 0.1 ' ' 1\n",
       "\n",
       "(Dispersion parameter for binomial family taken to be 1)\n",
       "\n",
       "    Null deviance: 42.144  on 76  degrees of freedom\n",
       "Residual deviance: 42.143  on 75  degrees of freedom\n",
       "AIC: 46.143\n",
       "\n",
       "Number of Fisher Scoring iterations: 5\n"
      ]
     },
     "metadata": {},
     "output_type": "display_data"
    }
   ],
   "source": [
    "# fit logistic regression\n",
    "glm.beta = glm(death ~trt,family=binomial,beta1)\n",
    "# print the result\n",
    "summary(glm.beta)"
   ]
  },
  {
   "cell_type": "markdown",
   "metadata": {},
   "source": [
    "* $\\hat{\\beta} = (-2.485, 0.028), p-value=0.974$\n",
    "* 대조군(control)에 비했을때 환자군(trt)에 통계적인 차이가 있다고 할 수 없다.\n",
    "* `MCMClogit()`: Markov Chain Monte Carlo for Logistic Regression"
   ]
  },
  {
   "cell_type": "markdown",
   "metadata": {},
   "source": [
    "* $y_i \\sim Bernoulli(p_i)$\n",
    "* $p_i = \\frac{exp(x'_i\\beta)}{1+exp(x'_i\\beta)}$\n",
    "* multivariate normal prior: $\\beta \\sim N(b_0, B_0^{-1})$, $B_0$(prior precision)\n",
    "* noninformative prior의 경우 $B_0=0$이다."
   ]
  },
  {
   "cell_type": "code",
   "execution_count": 43,
   "metadata": {
    "scrolled": true
   },
   "outputs": [
    {
     "data": {
      "text/plain": [
       "\n",
       "Iterations = 1001:11000\n",
       "Thinning interval = 1 \n",
       "Number of chains = 1 \n",
       "Sample size per chain = 10000 \n",
       "\n",
       "1. Empirical mean and standard deviation for each variable,\n",
       "   plus standard error of the mean:\n",
       "\n",
       "                Mean     SD Naive SE Time-series SE\n",
       "(Intercept) -2.65158 0.6516 0.006516        0.02067\n",
       "trtTRT       0.04217 0.9095 0.009095        0.02826\n",
       "\n",
       "2. Quantiles for each variable:\n",
       "\n",
       "              2.5%     25%      50%     75%  97.5%\n",
       "(Intercept) -4.103 -3.0425 -2.59693 -2.1935 -1.545\n",
       "trtTRT      -1.746 -0.5575  0.02502  0.6467  1.784\n"
      ]
     },
     "metadata": {},
     "output_type": "display_data"
    }
   ],
   "source": [
    " ## Call MCMClogit with default \n",
    "Bayes1.beta = MCMClogit(death~trt, data=beta1)  #B0=0(default)\n",
    "# print the summary for MCMC\n",
    "summary(Bayes1.beta)"
   ]
  },
  {
   "cell_type": "markdown",
   "metadata": {},
   "source": [
    "* $\\hat{\\beta} = (-2.652, 0.042)$\n",
    "* `trtTRT` $95\\%$ 신용구간 : (-1.746,1.784) $\\rightarrow$ 통계적으로 유의하지 않음"
   ]
  },
  {
   "cell_type": "code",
   "execution_count": 44,
   "metadata": {},
   "outputs": [
    {
     "data": {
      "image/png": "[encoded data removed]",
      "text/plain": [
       "Plot with title \"Density of trtTRT\""
      ]
     },
     "metadata": {
      "image/png": {
       "height": 420,
       "width": 420
      }
     },
     "output_type": "display_data"
    }
   ],
   "source": [
    "plot(Bayes1.beta)"
   ]
  },
  {
   "cell_type": "markdown",
   "metadata": {},
   "source": [
    "* 정밀도를 0.001로 지정한 후 MCMC를 통한 로지스틱 분석을 실시하여 결과를 `Bayes2.beta`에 저장한다."
   ]
  },
  {
   "cell_type": "code",
   "execution_count": 45,
   "metadata": {},
   "outputs": [
    {
     "data": {
      "text/plain": [
       "\n",
       "Iterations = 1001:11000\n",
       "Thinning interval = 1 \n",
       "Number of chains = 1 \n",
       "Sample size per chain = 10000 \n",
       "\n",
       "1. Empirical mean and standard deviation for each variable,\n",
       "   plus standard error of the mean:\n",
       "\n",
       "                Mean     SD Naive SE Time-series SE\n",
       "(Intercept) -2.65404 0.6532 0.006532        0.02076\n",
       "trtTRT       0.04366 0.9056 0.009056        0.02824\n",
       "\n",
       "2. Quantiles for each variable:\n",
       "\n",
       "              2.5%     25%      50%     75%  97.5%\n",
       "(Intercept) -4.114 -3.0437 -2.59442 -2.1970 -1.544\n",
       "trtTRT      -1.707 -0.5697  0.04557  0.6311  1.790\n"
      ]
     },
     "metadata": {},
     "output_type": "display_data"
    }
   ],
   "source": [
    "# fit the Bayesian logistic regression with multivariate normal prior\n",
    "Bayes2.beta = MCMClogit(death~trt, B0=.001,data=beta1) \n",
    "# print the fit\n",
    "summary(Bayes2.beta)"
   ]
  },
  {
   "cell_type": "markdown",
   "metadata": {},
   "source": [
    "* $\\hat{\\beta} = (-2.654, 0.044)$\n",
    "* `trtTRT` $95\\%$ 신용구간 : (-1.71,1.790) $\\rightarrow$ 통계적으로 유의하지 않음"
   ]
  },
  {
   "cell_type": "markdown",
   "metadata": {},
   "source": [
    "### 9.4.3 Count Data: Bayesian Poisson Regression"
   ]
  },
  {
   "cell_type": "markdown",
   "metadata": {},
   "source": [
    "* We re-use these data to illustrate the `MCMCpoisson` function in the `MCMCpack` package for Bayesian Poisson regression.\n",
    "* `MCMCpoisson()`: This function generates a sample from the posterior distribution of a Poisson regression model using a random walk Metropolis algorithm.\n",
    "* $y_i \\sim Poisson(\\mu_i)$\n",
    "  * $\\mu_i = exp(x'_i\\beta)$\n",
    "  * $\\beta \\sim N(b_0, B_0^{-1})$"
   ]
  },
  {
   "cell_type": "code",
   "execution_count": 48,
   "metadata": {},
   "outputs": [],
   "source": [
    "#install.packages(\"HSAUR\")\n",
    "library(HSAUR)\n",
    "data(polyps)"
   ]
  },
  {
   "cell_type": "code",
   "execution_count": 49,
   "metadata": {},
   "outputs": [
    {
     "data": {
      "text/plain": [
       "\n",
       "Iterations = 1001:11000\n",
       "Thinning interval = 1 \n",
       "Number of chains = 1 \n",
       "Sample size per chain = 10000 \n",
       "\n",
       "1. Empirical mean and standard deviation for each variable,\n",
       "   plus standard error of the mean:\n",
       "\n",
       "                Mean      SD  Naive SE Time-series SE\n",
       "(Intercept)  4.53434 0.14788 0.0014788      0.0047939\n",
       "treatdrug   -1.36115 0.12006 0.0012006      0.0039972\n",
       "age         -0.03924 0.00604 0.0000604      0.0001958\n",
       "\n",
       "2. Quantiles for each variable:\n",
       "\n",
       "                2.5%     25%      50%      75%    97.5%\n",
       "(Intercept)  4.23876  4.4372  4.53602  4.63074  4.82741\n",
       "treatdrug   -1.60911 -1.4388 -1.36072 -1.28113 -1.12356\n",
       "age         -0.05116 -0.0432 -0.03938 -0.03516 -0.02721\n"
      ]
     },
     "metadata": {},
     "output_type": "display_data"
    }
   ],
   "source": [
    " ## Call MCMCpoissont with default \n",
    "Bayes.polyps <- MCMCpoisson(number ~ treat+age, polyps)  #b0=0: noninformative prior\n",
    "# print the summary for MCMC\n",
    "summary(Bayes.polyps)"
   ]
  },
  {
   "cell_type": "markdown",
   "metadata": {},
   "source": [
    "* $\\hat{\\beta} = (4.534, -1.361, -0.039)$ <br>\n",
    "  $\\rightarrow$ `treatdrug` 95% 신용구간 (-1.609, -1.124) / `age` 95% 신용구간(-0.051, -0.027) <br>\n",
    "  $\\rightarrow$ 둘다 통계적으로 유의"
   ]
  },
  {
   "cell_type": "code",
   "execution_count": 50,
   "metadata": {},
   "outputs": [
    {
     "data": {
      "image/png": "[encoded data removed]",
      "text/plain": [
       "Plot with title \"Density of age\""
      ]
     },
     "metadata": {
      "image/png": {
       "height": 420,
       "width": 420
      }
     },
     "output_type": "display_data"
    }
   ],
   "source": [
    "# set a beta margin for plotting\n",
    "par(mar = c(3,2,1.5,1))\n",
    "# plot the MCMC\n",
    "plot(Bayes.polyps)"
   ]
  },
  {
   "cell_type": "markdown",
   "metadata": {},
   "source": [
    "### 9.4.4 Comparing Two Treatments"
   ]
  },
  {
   "cell_type": "markdown",
   "metadata": {},
   "source": [
    "* $X \\sim Beta(u_X, v_X)$ <br>\n",
    "  $Y \\sim Beta(u_Y, v_Y)$\n",
    "* $P(X>Y) = \\int^{1}_{0}\\frac{x^{s_X-1}(1-x)^{t_X-1}}{B(S_x,t_X)}\\left( \\int^{x}_{0}\\frac{y^{S_Y-1}(1-y)^{t_Y-1}}{B(S_Y, t_Y)}dy \\right)dx \\\\\n",
    "=\\frac{B(S_X+S_Y,t_X+t_Y)}{B(s_X,s_Y)B(s_Y,t_Y)S_Y}{_{3}\\mathrm{F}_{2}}\\left(\\begin{matrix} s_X + s_Y, S_Y+t_Y,1  \\\\ S_Y+1, S_X+t_X+S_Y+t_Y \\end{matrix}\\mid 1 \\right)$\n",
    "  * $B(s,t)$ is the usual beta function defined as $B(s,t)=\\frac{\\Gamma(s) \\Gamma(t)}{\\Gamma{(s+t)}}$\n",
    "  * ${_{3}\\mathrm{F}_{2}}$ is the hypergeometric function with upper parameters $(s_X+s_Y, s_Y+t_Y,1)$ and lower parameter $(s_Y+1+s_X+t_X+s_Y+t_Y)$"
   ]
  },
  {
   "cell_type": "code",
   "execution_count": 84,
   "metadata": {},
   "outputs": [],
   "source": [
    "# call the hypergeo library\n",
    "#install.packages(\"hypergeo\")\n",
    "library(hypergeo)\n",
    "# make a function call \n",
    "pXgtY = function(sx,tx,sy,ty){\n",
    "tmp1 = beta(sx+sy,tx+ty)/(beta(sx,tx)*beta(sy,ty)*sy)\n",
    "tmp2 = genhypergeo(U=c(sx+sy,sy+ty,1),L=c(sy+1,sx+tx+sy+ty), check_mod=FALSE,z=1)\n",
    "tmp1*tmp2\n",
    "}"
   ]
  },
  {
   "cell_type": "markdown",
   "metadata": {},
   "source": [
    "* 무정보 사전 정보(noninformative prior)를 이용한다.\n",
    "*  As previously noted, this leads to a beta posterior distribution which is the same as the likelihood."
   ]
  },
  {
   "cell_type": "code",
   "execution_count": 56,
   "metadata": {
    "scrolled": true
   },
   "outputs": [
    {
     "data": {
      "text/html": [
       "0.983085338052568"
      ],
      "text/latex": [
       "0.983085338052568"
      ],
      "text/markdown": [
       "0.983085338052568"
      ],
      "text/plain": [
       "[1] 0.9830853"
      ]
     },
     "metadata": {},
     "output_type": "display_data"
    },
    {
     "data": {
      "text/html": [
       "0.999999998236493"
      ],
      "text/latex": [
       "0.999999998236493"
      ],
      "text/markdown": [
       "0.999999998236493"
      ],
      "text/plain": [
       "[1] 1"
      ]
     },
     "metadata": {},
     "output_type": "display_data"
    },
    {
     "data": {
      "text/html": [
       "0.829985464168743"
      ],
      "text/latex": [
       "0.829985464168743"
      ],
      "text/markdown": [
       "0.829985464168743"
      ],
      "text/plain": [
       "[1] 0.8299855"
      ]
     },
     "metadata": {},
     "output_type": "display_data"
    },
    {
     "data": {
      "text/html": [
       "0.999233022311116"
      ],
      "text/latex": [
       "0.999233022311116"
      ],
      "text/markdown": [
       "0.999233022311116"
      ],
      "text/plain": [
       "[1] 0.999233"
      ]
     },
     "metadata": {},
     "output_type": "display_data"
    }
   ],
   "source": [
    "# compare 800 mg C to 400 mg C\n",
    "p800to400 = pXgtY(x[3], n[3]-x[3], x[2],n[2]-x[2])\n",
    "p800to400\n",
    "# compare 800 mg C to 0 mg C\n",
    "p800to0 = pXgtY(x[3], n[3]-x[3], x[1],n[1]-x[1])\n",
    "p800to0\n",
    "# compare 1600 mg C to 800 mg C\n",
    "p1600to800 = pXgtY(x[4], n[4]-x[4], x[3],n[3]-x[3])\n",
    "p1600to800\n",
    "# compare 1600 mg C to 400 mg C\n",
    "p1600to400 = pXgtY(x[4], n[4]-x[4], x[2],n[2]-x[2])\n",
    "p1600to400"
   ]
  },
  {
   "cell_type": "markdown",
   "metadata": {},
   "source": [
    "1. 400mg 투여보다 800mg 투여의 효과가 더 좋을 확률 0.983\n",
    "2. 0mg 투여보다 800mg 투여의 효과가 더 좋을 확률 0.999\n",
    "3. 800mg 투여보다 1600mg 투여의 효과가 더 좋을 확률 0.830\n",
    "4. 400mg 투여보다 1600mg 투여의 효과가 더 좋을 확률 0.999\n",
    "\n",
    "* 0.95 이상일 때 차이에 대해 유효하다고 하면 1600mg과 800mg의 효과에 대한 차이는 없다고 할 수 있다."
   ]
  },
  {
   "cell_type": "code",
   "execution_count": 57,
   "metadata": {},
   "outputs": [
    {
     "data": {
      "image/png": "[encoded data removed]",
      "text/plain": [
       "plot without title"
      ]
     },
     "metadata": {
      "image/png": {
       "height": 420,
       "width": 420
      }
     },
     "output_type": "display_data"
    }
   ],
   "source": [
    "#  make p from 0.3 to 0.9 by 100 points \n",
    "n.pts =100\n",
    "p      = seq(0.3,0.9,length=n.pts)\n",
    "# the prior and the distributions from 4 treatments\n",
    "pb0  = dbeta(p,1,1)\n",
    "pb1  = dbeta(p,x[1],n[1]-x[1])\n",
    "pb2  = dbeta(p,x[2],n[2]-x[2])\n",
    "pb3  = dbeta(p,x[3],n[3]-x[3])\n",
    "pb4  = dbeta(p,x[4],n[4]-x[4])\n",
    "\n",
    "# the maximum to set the yaxis limit\n",
    "ymax= max(pb1,pb2,pb3,pb4)\n",
    "# plot the prior and posterior\n",
    "plot(p,pb0, lwd=1, lty=8, las=1,type=\"l\",xlab=\"Healing Probability\",\n",
    " ylab=\"Density\",ylim=c(0,ymax))\n",
    "lines(p,pb1, lwd=3, lty=1)\n",
    "lines(p,pb2, lwd=3, lty=2)\n",
    "lines(p,pb3, lwd=3, lty=3)\n",
    "lines(p,pb4, lwd=3, lty=4)\n",
    "legend(\"topleft\", c(\"0 mg C\",\"400 mg C\", \"800 mg C\",\"1600 mg C\"), \n",
    "lwd=c(3,3,3,3), lty=c(1,2,3,4))"
   ]
  }
 ],
 "metadata": {
  "kernelspec": {
   "display_name": "R",
   "language": "R",
   "name": "ir"
  },
  "language_info": {
   "codemirror_mode": "r",
   "file_extension": ".r",
   "mimetype": "text/x-r-source",
   "name": "R",
   "pygments_lexer": "r",
   "version": "3.6.1"
  }
 },
 "nbformat": 4,
 "nbformat_minor": 5
}
