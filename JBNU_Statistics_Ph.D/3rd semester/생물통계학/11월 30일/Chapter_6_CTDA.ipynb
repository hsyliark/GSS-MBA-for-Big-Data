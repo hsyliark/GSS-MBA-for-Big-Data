{
 "cells": [
  {
   "cell_type": "markdown",
   "metadata": {
    "id": "ud6vOGJLDrC7"
   },
   "source": [
    "## **Chapter 6  Analysis of Data from Longitudinal Clinical Trials**\n",
    "### 6.1 Clinical Trials    \n",
    " > 6.1.1 Diastolic Blood Pressure Data\n",
    "\n",
    " > 6.1.2 Clinical Trial on Duodenal Ulcer Healing\n",
    "### 6.2 Statistical Models\n",
    " > 6.2.1 Linear Mixed Models\n",
    " \n",
    " > 6.2.2 Generalized Linear Mixed Models\n",
    "\n",
    " > 6.2.3 Generalized Estimation Equation\n",
    "### 6.3 Analysis of Data from Longitudinal Clinical Trials\n",
    " > 6.3.1 Analysis of the DBP Data\n",
    "           \n",
    " > 6.3.1.1 Preliminary Data Analysis\n",
    " \n",
    " > 6.3.1.2 Longitudinal Modeling\n",
    "            \n",
    " > 6.3.2 Analysis of Cimetidine Duodenal Ulcer Trial\n",
    " > - 6.3.2.1 Preliminary Analysis\n",
    " > - 6.3.2.2 Fit Logistic Regression to Binomial Data\n",
    " > - 6.3.2.3 Fit Generalized Linear Mixed Model\n",
    " > - 6.3.2.4 Fit GEE\n",
    "### 6.4 Concluding Remarks\n",
    "    "
   ]
  },
  {
   "cell_type": "markdown",
   "metadata": {
    "id": "RnoKYrKy_rZe"
   },
   "source": [
    "## **Chapter 6  Analysis of Data from Longitudinal Clinical Trials**"
   ]
  },
  {
   "cell_type": "markdown",
   "metadata": {
    "id": "v-usscBMQcuk"
   },
   "source": [
    "**Analysis of data from longitudinal clinical trials**\n",
    "    \n",
    "  - Measured over time on each clinical trial participant along with baseline covariates\n",
    "  - Objective : modelling its change over time with the effects of treatment and covariates incorporating the correlation. \n",
    "  - Datasets\n",
    "      - Diastolic blood pressure data\n",
    "      - Clinical trial on duodenal ulcer healing"
   ]
  },
  {
   "cell_type": "markdown",
   "metadata": {
    "id": "vQVCatcnQnRS"
   },
   "source": [
    "### 6.1 Clinical Trials"
   ]
  },
  {
   "cell_type": "markdown",
   "metadata": {
    "id": "mQ7Baz-fVsCl"
   },
   "source": [
    "**Diastolic Blood Pressure Data**\n",
    "  - To illustrate the longitudinal modelling for *continuous* data (`DBP1`~`DBP5`)\n",
    "  - Re-analyze the DBP data in Table 3.1\n",
    "  - Objective \n",
    "      - primary : test whether new drug is effective in lowering DBP as compared to placebo  (`TRT`)       \n",
    "      - secondary : test for longitudinal effects and assess the effect of the two covariates (`age`, `sex`)"
   ]
  },
  {
   "cell_type": "markdown",
   "metadata": {
    "id": "a5mK31DXK6wT"
   },
   "source": [
    "**Duodenal Ulcer Healing Trial**\n",
    " - To illustrate the longitudinal modelling for *categorical* data\n",
    " - Patients were followed at week 1, week 2, and week 4\n",
    " - Primary efficacy data : Ulcer healing at week 1, 2, or 4\n",
    " - Primary efficacy endpoint : Cumulative ulcer healing by week 4"
   ]
  },
  {
   "cell_type": "markdown",
   "metadata": {
    "id": "4NfTmi4KWVob"
   },
   "source": [
    "### 6.2 Statistical Models "
   ]
  },
  {
   "cell_type": "markdown",
   "metadata": {
    "id": "r8pNYPD_WbQN"
   },
   "source": [
    "#### 6.2.1 Linear Mixed Models"
   ]
  },
  {
   "cell_type": "markdown",
   "metadata": {
    "id": "XIFtZrzkcXct"
   },
   "source": [
    "**fixed-effects model**\n",
    "- $y\\sim N(X\\beta ,\\sigma^2 I)$ \n",
    "- *treatment effect* is usually assumed to be *fixed* in the modeling process, \n",
    "- *patient effects* are considered to be *random*"
   ]
  },
  {
   "cell_type": "markdown",
   "metadata": {
    "id": "pbHOjFg1c6Sl"
   },
   "source": [
    "**mixed-effects model**\n",
    "- $y  | \\gamma \\sim N(X\\beta + Z\\gamma, \\sigma^2 I)$ \n",
    "    - $\\gamma$ :  term for random-effects \n",
    "- $\\gamma\\sim N(0,\\sigma^2 D)$\n",
    "\n",
    "*NOTE* : $var(y)=var(Z\\gamma)+var(\\epsilon)=\\sigma^2 ZDZ'+\\sigma^2 I=\\sigma^2 (ZDZ'+I)$\n",
    "$\\Leftrightarrow y\\sim N(X\\beta, \\sigma^2 (ZDZ'+I))$ "
   ]
  },
  {
   "cell_type": "markdown",
   "metadata": {
    "id": "oIOU4ASXWM_0"
   },
   "source": [
    "**general mixed-effects model**\n",
    "- $y  | \\gamma \\sim N(X\\beta + Z\\gamma ,\\sigma^2\\Lambda)$ \n",
    "- longitudinal trials : repeated measurements are taken over time on each patient\n",
    "- measurements taken *repeatedly over time* would be *correlated*\n",
    "    - correlation structure($\\Lambda$)\n",
    "- fixed-effects of treatment, covariates, random-effects (such as patient effects, etc.)\n",
    "\n",
    "*NOTE* :  $var(y)=var(Z\\gamma)+var(\\epsilon)=\\sigma^2 ZDZ'+\\sigma^2 \\Lambda=\\sigma^2 (ZDZ'+\\Lambda)\\Leftrightarrow y\\sim N(X\\beta, \\sigma^2 (ZDZ'+\\Lambda))$ "
   ]
  },
  {
   "cell_type": "markdown",
   "metadata": {
    "id": "fjEZzeYF_rZj"
   },
   "source": [
    "**Statistical Inference for general mixed-effect model**\n",
    "\n",
    "- Estimate $\\beta$ by classical MLE\n",
    "$$\n",
    "  \\mbox{maximize}\\  l(\\beta,\\sigma,D,\\Lambda)\\propto -\\log |\\sigma^2 V|-\\frac{1}{\\sigma^2}(y-X\\beta)'V^{-1}(y-X\\beta)\n",
    "$$\n",
    "- Estimate $V$ by restricted MLE (REML)\n",
    "  - For a vector $k$ satisfying $k'X=0$\n",
    "     - $k'y\\sim N(0,k'Vk)$ \n",
    "     - eliminating the fixed-effects $X\\beta$ from the estimation \n",
    "  - Estimate the parameters associated with $V$ only from maximizing the likelihood\n",
    "  - REML less biasd than MLE"
   ]
  },
  {
   "cell_type": "markdown",
   "metadata": {
    "id": "m_UnIERP_rZk"
   },
   "source": [
    "**R packages** :  *nlme, lme4, lmerTest*"
   ]
  },
  {
   "cell_type": "markdown",
   "metadata": {
    "id": "sqKFi5bmdc6d"
   },
   "source": [
    "#### 6.2.2 Generalized Linear Mixed Models"
   ]
  },
  {
   "cell_type": "markdown",
   "metadata": {
    "id": "C1s21df7djNO"
   },
   "source": [
    "**GLMM**\n",
    "- extending linear mixed-effect models to GLMMs, we can analyze non-normal repeated endpoints from longitudinal clinical trials\n",
    "- clinical response/endpoint is a random variable following a distribution from an exponential family\n",
    "$$\n",
    "  f(y|\\theta,\\phi)=\\exp\\bigg[\\frac{y\\theta-b(\\theta)}{a(\\phi)}+c(y,\\phi)\\bigg]\n",
    "$$\n",
    "- $\\eta=g(\\mu)$ : a link function of the mean $E(Y)=\\mu=\\theta$\n",
    "> ex) a linear predictor : $\\eta=X\\beta+Z\\gamma$\n",
    "- the likelihood function\n",
    "$$\n",
    "    L(\\beta,\\phi,V|y)=\\prod_{i=1}^n\\int f(y_i|\\beta,\\phi,\\gamma)h(\\gamma|V)d\\gamma\n",
    "$$\n",
    "$h(\\gamma|V)$ : the random-effects $\\gamma$ with parameter $V$\n",
    "- Maximizing the likelihood is difficult $\\rightarrow$ approximation approaches are used\n",
    "  - R package *MASS*(Penalized Quasi-Likelihood method)\n",
    "  - R packages *lme4, nlme*\n",
    "\n"
   ]
  },
  {
   "cell_type": "markdown",
   "metadata": {
    "id": "W4k5yYMVeF5t"
   },
   "source": [
    "#### 6.2.3 Generalized Estimating Equation"
   ]
  },
  {
   "cell_type": "markdown",
   "metadata": {
    "id": "1pvxp997eALN"
   },
   "source": [
    "**GEE**\n",
    "- version of quasi-likelihood approach for repeated measures when no distributional assumptions are made\n",
    "- essentially the multivariate extension of the generalized linear model and the quasi-likelihood method\n",
    "- the quasi-likelihood approach requires only the link function and the variance\n",
    "$$\n",
    "    \\sum_i\\bigg(\\frac{\\partial\\mu_i}{\\partial\\beta}\\bigg)'\\frac{Y_i-\\mu_i}{var(Y_i)}=0\n",
    "$$\n",
    "- R package *gee*"
   ]
  },
  {
   "cell_type": "markdown",
   "metadata": {
    "id": "3T7Lk0Adeg9V"
   },
   "source": [
    "### 6.3 Analysis of Data from LCTs"
   ]
  },
  {
   "cell_type": "markdown",
   "metadata": {
    "id": "8mymN9kDemQu"
   },
   "source": [
    "#### 6.3.1 Analysis of DBP Data"
   ]
  },
  {
   "cell_type": "markdown",
   "metadata": {
    "id": "8pJVFStveaKG"
   },
   "source": [
    "**Data**\n"
   ]
  },
  {
   "cell_type": "code",
   "execution_count": 1,
   "metadata": {
    "id": "g-z-y0pv_rZm"
   },
   "outputs": [
    {
     "name": "stderr",
     "output_type": "stream",
     "text": [
      "Warning message:\n",
      "\"package 'tidyverse' was built under R version 3.6.3\"\n",
      "-- \u001b[1mAttaching packages\u001b[22m --------------------------------------- tidyverse 1.3.0 --\n",
      "\n",
      "\u001b[32m√\u001b[39m \u001b[34mggplot2\u001b[39m 3.3.2     \u001b[32m√\u001b[39m \u001b[34mpurrr  \u001b[39m 0.3.3\n",
      "\u001b[32m√\u001b[39m \u001b[34mtibble \u001b[39m 3.0.1     \u001b[32m√\u001b[39m \u001b[34mdplyr  \u001b[39m 0.8.3\n",
      "\u001b[32m√\u001b[39m \u001b[34mtidyr  \u001b[39m 1.0.2     \u001b[32m√\u001b[39m \u001b[34mstringr\u001b[39m 1.4.0\n",
      "\u001b[32m√\u001b[39m \u001b[34mreadr  \u001b[39m 1.3.1     \u001b[32m√\u001b[39m \u001b[34mforcats\u001b[39m 0.5.0\n",
      "\n",
      "Warning message:\n",
      "\"package 'ggplot2' was built under R version 3.6.3\"\n",
      "Warning message:\n",
      "\"package 'tibble' was built under R version 3.6.3\"\n",
      "Warning message:\n",
      "\"package 'tidyr' was built under R version 3.6.2\"\n",
      "Warning message:\n",
      "\"package 'readr' was built under R version 3.6.2\"\n",
      "Warning message:\n",
      "\"package 'purrr' was built under R version 3.6.2\"\n",
      "Warning message:\n",
      "\"package 'dplyr' was built under R version 3.6.2\"\n",
      "Warning message:\n",
      "\"package 'stringr' was built under R version 3.6.2\"\n",
      "Warning message:\n",
      "\"package 'forcats' was built under R version 3.6.3\"\n",
      "-- \u001b[1mConflicts\u001b[22m ------------------------------------------ tidyverse_conflicts() --\n",
      "\u001b[31mx\u001b[39m \u001b[34mdplyr\u001b[39m::\u001b[32mfilter()\u001b[39m masks \u001b[34mstats\u001b[39m::filter()\n",
      "\u001b[31mx\u001b[39m \u001b[34mdplyr\u001b[39m::\u001b[32mlag()\u001b[39m    masks \u001b[34mstats\u001b[39m::lag()\n",
      "\n",
      "Warning message:\n",
      "\"package 'ggExtra' was built under R version 3.6.3\"\n"
     ]
    }
   ],
   "source": [
    "#install.packages('ggExtra')\n",
    "library(tidyverse)\n",
    "library(lattice)\n",
    "library(ggExtra)"
   ]
  },
  {
   "cell_type": "code",
   "execution_count": 2,
   "metadata": {
    "id": "XhsSV7sJ_rZn",
    "outputId": "ed9e0369-3bed-46e3-ee08-58b697b1f94a"
   },
   "outputs": [
    {
     "data": {
      "text/html": [
       "<table>\n",
       "<caption>A data.frame: 6 × 9</caption>\n",
       "<thead>\n",
       "\t<tr><th></th><th scope=col>Subject</th><th scope=col>TRT</th><th scope=col>DBP1</th><th scope=col>DBP2</th><th scope=col>DBP3</th><th scope=col>DBP4</th><th scope=col>DBP5</th><th scope=col>Age</th><th scope=col>Sex</th></tr>\n",
       "\t<tr><th></th><th scope=col>&lt;int&gt;</th><th scope=col>&lt;fct&gt;</th><th scope=col>&lt;int&gt;</th><th scope=col>&lt;int&gt;</th><th scope=col>&lt;int&gt;</th><th scope=col>&lt;int&gt;</th><th scope=col>&lt;int&gt;</th><th scope=col>&lt;int&gt;</th><th scope=col>&lt;fct&gt;</th></tr>\n",
       "</thead>\n",
       "<tbody>\n",
       "\t<tr><th scope=row>1</th><td>1</td><td>A</td><td>114</td><td>115</td><td>113</td><td>109</td><td>105</td><td>43</td><td>F</td></tr>\n",
       "\t<tr><th scope=row>2</th><td>2</td><td>A</td><td>116</td><td>113</td><td>112</td><td>103</td><td>101</td><td>51</td><td>M</td></tr>\n",
       "\t<tr><th scope=row>3</th><td>3</td><td>A</td><td>119</td><td>115</td><td>113</td><td>104</td><td> 98</td><td>48</td><td>F</td></tr>\n",
       "\t<tr><th scope=row>4</th><td>4</td><td>A</td><td>115</td><td>113</td><td>112</td><td>109</td><td>101</td><td>42</td><td>F</td></tr>\n",
       "\t<tr><th scope=row>5</th><td>5</td><td>A</td><td>116</td><td>112</td><td>107</td><td>104</td><td>105</td><td>49</td><td>M</td></tr>\n",
       "\t<tr><th scope=row>6</th><td>6</td><td>A</td><td>117</td><td>112</td><td>113</td><td>104</td><td>102</td><td>47</td><td>M</td></tr>\n",
       "</tbody>\n",
       "</table>\n"
      ],
      "text/latex": [
       "A data.frame: 6 × 9\n",
       "\\begin{tabular}{r|lllllllll}\n",
       "  & Subject & TRT & DBP1 & DBP2 & DBP3 & DBP4 & DBP5 & Age & Sex\\\\\n",
       "  & <int> & <fct> & <int> & <int> & <int> & <int> & <int> & <int> & <fct>\\\\\n",
       "\\hline\n",
       "\t1 & 1 & A & 114 & 115 & 113 & 109 & 105 & 43 & F\\\\\n",
       "\t2 & 2 & A & 116 & 113 & 112 & 103 & 101 & 51 & M\\\\\n",
       "\t3 & 3 & A & 119 & 115 & 113 & 104 &  98 & 48 & F\\\\\n",
       "\t4 & 4 & A & 115 & 113 & 112 & 109 & 101 & 42 & F\\\\\n",
       "\t5 & 5 & A & 116 & 112 & 107 & 104 & 105 & 49 & M\\\\\n",
       "\t6 & 6 & A & 117 & 112 & 113 & 104 & 102 & 47 & M\\\\\n",
       "\\end{tabular}\n"
      ],
      "text/markdown": [
       "\n",
       "A data.frame: 6 × 9\n",
       "\n",
       "| <!--/--> | Subject &lt;int&gt; | TRT &lt;fct&gt; | DBP1 &lt;int&gt; | DBP2 &lt;int&gt; | DBP3 &lt;int&gt; | DBP4 &lt;int&gt; | DBP5 &lt;int&gt; | Age &lt;int&gt; | Sex &lt;fct&gt; |\n",
       "|---|---|---|---|---|---|---|---|---|---|\n",
       "| 1 | 1 | A | 114 | 115 | 113 | 109 | 105 | 43 | F |\n",
       "| 2 | 2 | A | 116 | 113 | 112 | 103 | 101 | 51 | M |\n",
       "| 3 | 3 | A | 119 | 115 | 113 | 104 |  98 | 48 | F |\n",
       "| 4 | 4 | A | 115 | 113 | 112 | 109 | 101 | 42 | F |\n",
       "| 5 | 5 | A | 116 | 112 | 107 | 104 | 105 | 49 | M |\n",
       "| 6 | 6 | A | 117 | 112 | 113 | 104 | 102 | 47 | M |\n",
       "\n"
      ],
      "text/plain": [
       "  Subject TRT DBP1 DBP2 DBP3 DBP4 DBP5 Age Sex\n",
       "1 1       A   114  115  113  109  105  43  F  \n",
       "2 2       A   116  113  112  103  101  51  M  \n",
       "3 3       A   119  115  113  104   98  48  F  \n",
       "4 4       A   115  113  112  109  101  42  F  \n",
       "5 5       A   116  112  107  104  105  49  M  \n",
       "6 6       A   117  112  113  104  102  47  M  "
      ]
     },
     "metadata": {},
     "output_type": "display_data"
    },
    {
     "data": {
      "text/plain": [
       "    Subject      TRT         DBP1            DBP2            DBP3      \n",
       " Min.   : 1.00   A:20   Min.   :114.0   Min.   :111.0   Min.   :100.0  \n",
       " 1st Qu.:10.75   B:20   1st Qu.:115.0   1st Qu.:113.0   1st Qu.:112.0  \n",
       " Median :20.50          Median :116.5   Median :115.0   Median :113.0  \n",
       " Mean   :20.50          Mean   :116.7   Mean   :114.3   Mean   :112.4  \n",
       " 3rd Qu.:30.25          3rd Qu.:118.0   3rd Qu.:115.0   3rd Qu.:113.0  \n",
       " Max.   :40.00          Max.   :121.0   Max.   :119.0   Max.   :118.0  \n",
       "      DBP4            DBP5            Age        Sex   \n",
       " Min.   :102.0   Min.   : 97.0   Min.   :38.00   F:18  \n",
       " 1st Qu.:106.8   1st Qu.:101.8   1st Qu.:42.00   M:22  \n",
       " Median :109.0   Median :106.5   Median :48.00         \n",
       " Mean   :109.3   Mean   :106.7   Mean   :47.83         \n",
       " 3rd Qu.:113.2   3rd Qu.:112.0   3rd Qu.:51.25         \n",
       " Max.   :117.0   Max.   :115.0   Max.   :63.00         "
      ]
     },
     "metadata": {},
     "output_type": "display_data"
    }
   ],
   "source": [
    "dat  = read.csv(\"C:\\\\Users\\\\USER\\\\Desktop\\\\2021fall\\\\생물통계학\\\\R&SAS4CTDA2\\\\DBP.csv\",header=T)\n",
    "\n",
    "head(dat)\n",
    "summary(dat)"
   ]
  },
  {
   "cell_type": "markdown",
   "metadata": {
    "id": "ajqhAyh2_rZo"
   },
   "source": [
    "**6.3.1.1 Data Graphics and Response Feature Analysis**"
   ]
  },
  {
   "cell_type": "markdown",
   "metadata": {
    "id": "4cI1M990kP9N"
   },
   "source": [
    "- preliminary data analysis\n",
    "- extract fundamental features from each patient for simple and preliminary data exploration and summarization\n",
    "\n",
    "\n",
    "\n"
   ]
  },
  {
   "cell_type": "markdown",
   "metadata": {
    "id": "lgK6u55ntsf0"
   },
   "source": [
    "**Transformation of *wide* form dataframe dat  into  *long* form**"
   ]
  },
  {
   "cell_type": "code",
   "execution_count": 3,
   "metadata": {
    "id": "cDb57nK7_rZo",
    "outputId": "f5975c47-23b4-4d19-ee0d-7985c037f6a1"
   },
   "outputs": [
    {
     "data": {
      "text/html": [
       "<table>\n",
       "<caption>A tibble: 6 × 6</caption>\n",
       "<thead>\n",
       "\t<tr><th scope=col>Subject</th><th scope=col>TRT</th><th scope=col>Age</th><th scope=col>Sex</th><th scope=col>Time</th><th scope=col>DBP</th></tr>\n",
       "\t<tr><th scope=col>&lt;int&gt;</th><th scope=col>&lt;fct&gt;</th><th scope=col>&lt;int&gt;</th><th scope=col>&lt;fct&gt;</th><th scope=col>&lt;chr&gt;</th><th scope=col>&lt;int&gt;</th></tr>\n",
       "</thead>\n",
       "<tbody>\n",
       "\t<tr><td>1</td><td>A</td><td>43</td><td>F</td><td>1</td><td>114</td></tr>\n",
       "\t<tr><td>1</td><td>A</td><td>43</td><td>F</td><td>2</td><td>115</td></tr>\n",
       "\t<tr><td>1</td><td>A</td><td>43</td><td>F</td><td>3</td><td>113</td></tr>\n",
       "\t<tr><td>1</td><td>A</td><td>43</td><td>F</td><td>4</td><td>109</td></tr>\n",
       "\t<tr><td>1</td><td>A</td><td>43</td><td>F</td><td>5</td><td>105</td></tr>\n",
       "\t<tr><td>2</td><td>A</td><td>51</td><td>M</td><td>1</td><td>116</td></tr>\n",
       "</tbody>\n",
       "</table>\n"
      ],
      "text/latex": [
       "A tibble: 6 × 6\n",
       "\\begin{tabular}{llllll}\n",
       " Subject & TRT & Age & Sex & Time & DBP\\\\\n",
       " <int> & <fct> & <int> & <fct> & <chr> & <int>\\\\\n",
       "\\hline\n",
       "\t 1 & A & 43 & F & 1 & 114\\\\\n",
       "\t 1 & A & 43 & F & 2 & 115\\\\\n",
       "\t 1 & A & 43 & F & 3 & 113\\\\\n",
       "\t 1 & A & 43 & F & 4 & 109\\\\\n",
       "\t 1 & A & 43 & F & 5 & 105\\\\\n",
       "\t 2 & A & 51 & M & 1 & 116\\\\\n",
       "\\end{tabular}\n"
      ],
      "text/markdown": [
       "\n",
       "A tibble: 6 × 6\n",
       "\n",
       "| Subject &lt;int&gt; | TRT &lt;fct&gt; | Age &lt;int&gt; | Sex &lt;fct&gt; | Time &lt;chr&gt; | DBP &lt;int&gt; |\n",
       "|---|---|---|---|---|---|\n",
       "| 1 | A | 43 | F | 1 | 114 |\n",
       "| 1 | A | 43 | F | 2 | 115 |\n",
       "| 1 | A | 43 | F | 3 | 113 |\n",
       "| 1 | A | 43 | F | 4 | 109 |\n",
       "| 1 | A | 43 | F | 5 | 105 |\n",
       "| 2 | A | 51 | M | 1 | 116 |\n",
       "\n"
      ],
      "text/plain": [
       "  Subject TRT Age Sex Time DBP\n",
       "1 1       A   43  F   1    114\n",
       "2 1       A   43  F   2    115\n",
       "3 1       A   43  F   3    113\n",
       "4 1       A   43  F   4    109\n",
       "5 1       A   43  F   5    105\n",
       "6 2       A   51  M   1    116"
      ]
     },
     "metadata": {},
     "output_type": "display_data"
    }
   ],
   "source": [
    "# reshape the data into \"long\" direction\n",
    "Dat <- dat %>%\n",
    "      pivot_longer(cols = starts_with('DBP'),   # 변환할 변수 열  지정, DBP1:DBP5  \n",
    "               names_to = \"Time\",               # 변환할 변수명을 값으로 하는 열 이름\n",
    "               values_to = \"DBP\",               # 변환할 변수들의 값을 저장할 열 이름\n",
    "               names_prefix='DBP')              # 접두사제거(prefix)\n",
    "head(Dat)"
   ]
  },
  {
   "cell_type": "code",
   "execution_count": 4,
   "metadata": {
    "id": "rPPEMW2m_rZo",
    "outputId": "4d11d500-2e73-42fa-ec08-fa0213a2b0a4"
   },
   "outputs": [
    {
     "name": "stdout",
     "output_type": "stream",
     "text": [
      "Rows: 200\n",
      "Columns: 6\n",
      "$ Subject \u001b[3m\u001b[90m<int>\u001b[39m\u001b[23m 1, 1, 1, 1, 1, 2, 2, 2, 2, 2, 3, 3, 3, 3, 3, 4, 4, 4, 4, 4,...\n",
      "$ TRT     \u001b[3m\u001b[90m<fct>\u001b[39m\u001b[23m A, A, A, A, A, A, A, A, A, A, A, A, A, A, A, A, A, A, A, A,...\n",
      "$ Age     \u001b[3m\u001b[90m<int>\u001b[39m\u001b[23m 43, 43, 43, 43, 43, 51, 51, 51, 51, 51, 48, 48, 48, 48, 48,...\n",
      "$ Sex     \u001b[3m\u001b[90m<fct>\u001b[39m\u001b[23m F, F, F, F, F, M, M, M, M, M, F, F, F, F, F, F, F, F, F, F,...\n",
      "$ Time    \u001b[3m\u001b[90m<chr>\u001b[39m\u001b[23m \"1\", \"2\", \"3\", \"4\", \"5\", \"1\", \"2\", \"3\", \"4\", \"5\", \"1\", \"2\",...\n",
      "$ DBP     \u001b[3m\u001b[90m<int>\u001b[39m\u001b[23m 114, 115, 113, 109, 105, 116, 113, 112, 103, 101, 119, 115,...\n"
     ]
    }
   ],
   "source": [
    "glimpse(Dat)"
   ]
  },
  {
   "cell_type": "markdown",
   "metadata": {
    "id": "Gtma6v7alPpM"
   },
   "source": [
    "Start with data graphics to illustrate the data and reveal the data trend longitudinally\n",
    "\n",
    "**Plot of the DBP as a function of time points for each patient**\n",
    "  - the first 20 patients from treatment A\n",
    "  - the first 20 patients from treatment B"
   ]
  },
  {
   "cell_type": "code",
   "execution_count": 5,
   "metadata": {
    "id": "TtSXKcdV_rZp",
    "outputId": "a198dc44-d8d5-4c59-f76a-2a378c252a69"
   },
   "outputs": [
    {
     "data": {
      "image/png": "[encoded data removed]",
      "text/plain": [
       "plot without title"
      ]
     },
     "metadata": {
      "image/png": {
       "height": 420,
       "width": 420
      }
     },
     "output_type": "display_data"
    }
   ],
   "source": [
    "ggplot(Dat,aes(x=Time, y=DBP, group=Subject,color = TRT)) + \n",
    "    geom_line() + \n",
    "    facet_wrap( ~ Subject, ncol=10)\n",
    "# xyplot(DBP~Time|as.factor(Subject),type=\"l\", groups=TRT,lty=c(1,8),lwd=2,layout=c(10,4), Dat)"
   ]
  },
  {
   "cell_type": "markdown",
   "metadata": {
    "id": "f-rsXXnklaE1"
   },
   "source": [
    "**Plot of DBP as a function of time grouped for all paiteints**"
   ]
  },
  {
   "cell_type": "code",
   "execution_count": 6,
   "metadata": {
    "id": "jE_jUW1U_rZp",
    "outputId": "1cd8611a-71c1-414a-de04-9fb9a94c26e4"
   },
   "outputs": [
    {
     "data": {
      "image/png": "[encoded data removed]",
      "text/plain": [
       "plot without title"
      ]
     },
     "metadata": {
      "image/png": {
       "height": 420,
       "width": 420
      }
     },
     "output_type": "display_data"
    }
   ],
   "source": [
    "ggplot(Dat,aes(x=Time, y=DBP,group=Subject)) + \n",
    "    geom_line()+\n",
    "    facet_grid(~TRT)\n",
    "# xyplot(DBP~Time|as.factor(Subject),type=\"l\", groups=TRT,lty=c(1,8),lwd=2,layout=c(10,4), Dat)"
   ]
  },
  {
   "cell_type": "markdown",
   "metadata": {
    "id": "CR-sxhSznjAd"
   },
   "source": [
    "- revealed trends \n",
    "  - on average DBP declines at a faster rate in treatment A than in treatment B\n",
    "  - the magnitude of the decline in treatment A is greater than that in treatment B\n",
    "  - the rate and extent of decline varies across the 40 pateints"
   ]
  },
  {
   "cell_type": "markdown",
   "metadata": {
    "id": "Q-X-DpkWoEBs"
   },
   "source": [
    "**Boxplot**"
   ]
  },
  {
   "cell_type": "code",
   "execution_count": 7,
   "metadata": {
    "id": "R-aKDPiL_rZp",
    "outputId": "ab17750c-bf46-4a42-944d-89e129e63ed1"
   },
   "outputs": [
    {
     "data": {
      "image/png": "[encoded data removed]",
      "text/plain": [
       "plot without title"
      ]
     },
     "metadata": {
      "image/png": {
       "height": 420,
       "width": 420
      }
     },
     "output_type": "display_data"
    }
   ],
   "source": [
    "ggplot(Dat,aes(x=Time, y=DBP)) +\n",
    "         geom_boxplot()+\n",
    "         facet_wrap( ~ TRT)"
   ]
  },
  {
   "cell_type": "markdown",
   "metadata": {
    "id": "JQWFrEzzoi2E"
   },
   "source": [
    "- the rate and extent of the decline in DBP is greater in treatment A than in treatment B"
   ]
  },
  {
   "cell_type": "markdown",
   "metadata": {
    "id": "bcHyZTXmo5Uc"
   },
   "source": [
    "**Further investigation of the declining trend**\n",
    "- by estimating the slope and intercept for each patient"
   ]
  },
  {
   "cell_type": "code",
   "execution_count": 8,
   "metadata": {
    "id": "9uhTBR3U_rZp",
    "outputId": "59618c2b-3162-4f22-c021-332d04f55f1a"
   },
   "outputs": [
    {
     "data": {
      "text/html": [
       "<style>\n",
       ".dl-inline {width: auto; margin:0; padding: 0}\n",
       ".dl-inline>dt, .dl-inline>dd {float: none; width: auto; display: inline-block}\n",
       ".dl-inline>dt::after {content: \":\\0020\"; padding-right: .5ex}\n",
       ".dl-inline>dt:not(:first-of-type) {padding-left: .5ex}\n",
       "</style><dl class=dl-inline><dt>(Intercept)</dt><dd>114</dd><dt>Time2</dt><dd>1.00000000000002</dd><dt>Time3</dt><dd>-0.999999999999986</dd><dt>Time4</dt><dd>-4.99999999999999</dd><dt>Time5</dt><dd>-8.99999999999999</dd></dl>\n"
      ],
      "text/latex": [
       "\\begin{description*}\n",
       "\\item[(Intercept)] 114\n",
       "\\item[Time2] 1.00000000000002\n",
       "\\item[Time3] -0.999999999999986\n",
       "\\item[Time4] -4.99999999999999\n",
       "\\item[Time5] -8.99999999999999\n",
       "\\end{description*}\n"
      ],
      "text/markdown": [
       "(Intercept)\n",
       ":   114Time2\n",
       ":   1.00000000000002Time3\n",
       ":   -0.999999999999986Time4\n",
       ":   -4.99999999999999Time5\n",
       ":   -8.99999999999999\n",
       "\n"
      ],
      "text/plain": [
       "(Intercept)       Time2       Time3       Time4       Time5 \n",
       "        114           1          -1          -5          -9 "
      ]
     },
     "metadata": {},
     "output_type": "display_data"
    }
   ],
   "source": [
    "lm(DBP~Time, Dat[Dat$Subject==1,])$coefficients"
   ]
  },
  {
   "cell_type": "markdown",
   "metadata": {
    "id": "e9payb7ypWCl"
   },
   "source": [
    "Note the type of `Time` is `character` so that its type need to be changed into `numeric` first. "
   ]
  },
  {
   "cell_type": "code",
   "execution_count": 9,
   "metadata": {
    "id": "WNyvO5W0p3us"
   },
   "outputs": [],
   "source": [
    "num.Subj <- 40\n",
    "intercept <- slope <- numeric(num.Subj) # initiate the intercept and slope\n",
    "\n",
    "Dat$Time <- as.numeric(Dat$Time)  #character -> numeric\n"
   ]
  },
  {
   "cell_type": "code",
   "execution_count": 10,
   "metadata": {
    "id": "HHbA0jpc_rZq",
    "outputId": "214cc058-1846-43b8-8c1d-03babce96894"
   },
   "outputs": [
    {
     "data": {
      "text/html": [
       "<table>\n",
       "<caption>A data.frame: 6 × 4</caption>\n",
       "<thead>\n",
       "\t<tr><th></th><th scope=col>Subject</th><th scope=col>TRT</th><th scope=col>Intercept</th><th scope=col>Slope</th></tr>\n",
       "\t<tr><th></th><th scope=col>&lt;int&gt;</th><th scope=col>&lt;fct&gt;</th><th scope=col>&lt;dbl&gt;</th><th scope=col>&lt;dbl&gt;</th></tr>\n",
       "</thead>\n",
       "<tbody>\n",
       "\t<tr><th scope=row>1</th><td>1</td><td>A</td><td>118.4</td><td>-2.4</td></tr>\n",
       "\t<tr><th scope=row>2</th><td>2</td><td>A</td><td>121.0</td><td>-4.0</td></tr>\n",
       "\t<tr><th scope=row>3</th><td>3</td><td>A</td><td>125.7</td><td>-5.3</td></tr>\n",
       "\t<tr><th scope=row>4</th><td>4</td><td>A</td><td>119.6</td><td>-3.2</td></tr>\n",
       "\t<tr><th scope=row>5</th><td>5</td><td>A</td><td>117.8</td><td>-3.0</td></tr>\n",
       "\t<tr><th scope=row>6</th><td>6</td><td>A</td><td>121.0</td><td>-3.8</td></tr>\n",
       "</tbody>\n",
       "</table>\n"
      ],
      "text/latex": [
       "A data.frame: 6 × 4\n",
       "\\begin{tabular}{r|llll}\n",
       "  & Subject & TRT & Intercept & Slope\\\\\n",
       "  & <int> & <fct> & <dbl> & <dbl>\\\\\n",
       "\\hline\n",
       "\t1 & 1 & A & 118.4 & -2.4\\\\\n",
       "\t2 & 2 & A & 121.0 & -4.0\\\\\n",
       "\t3 & 3 & A & 125.7 & -5.3\\\\\n",
       "\t4 & 4 & A & 119.6 & -3.2\\\\\n",
       "\t5 & 5 & A & 117.8 & -3.0\\\\\n",
       "\t6 & 6 & A & 121.0 & -3.8\\\\\n",
       "\\end{tabular}\n"
      ],
      "text/markdown": [
       "\n",
       "A data.frame: 6 × 4\n",
       "\n",
       "| <!--/--> | Subject &lt;int&gt; | TRT &lt;fct&gt; | Intercept &lt;dbl&gt; | Slope &lt;dbl&gt; |\n",
       "|---|---|---|---|---|\n",
       "| 1 | 1 | A | 118.4 | -2.4 |\n",
       "| 2 | 2 | A | 121.0 | -4.0 |\n",
       "| 3 | 3 | A | 125.7 | -5.3 |\n",
       "| 4 | 4 | A | 119.6 | -3.2 |\n",
       "| 5 | 5 | A | 117.8 | -3.0 |\n",
       "| 6 | 6 | A | 121.0 | -3.8 |\n",
       "\n"
      ],
      "text/plain": [
       "  Subject TRT Intercept Slope\n",
       "1 1       A   118.4     -2.4 \n",
       "2 2       A   121.0     -4.0 \n",
       "3 3       A   125.7     -5.3 \n",
       "4 4       A   119.6     -3.2 \n",
       "5 5       A   117.8     -3.0 \n",
       "6 6       A   121.0     -3.8 "
      ]
     },
     "metadata": {},
     "output_type": "display_data"
    }
   ],
   "source": [
    "\n",
    "for(i in 1:num.Subj){\n",
    "    mod <- lm(DBP~Time, Dat[Dat$Subject==i,]) # fit regression model\n",
    "    \n",
    "    intercept[i]<- coef(mod)[1]   # extract the intercept and slope\n",
    "    slope[i] <-  coef(mod)[2]\n",
    "}\n",
    "\n",
    "dat.coef <- data.frame(Subject=dat$Subject,TRT=dat$TRT, Intercept = intercept, Slope=slope) # make a dataframe \"dat.coef\" \n",
    "head(dat.coef)"
   ]
  },
  {
   "cell_type": "markdown",
   "metadata": {
    "id": "CB9I4giRp-nE"
   },
   "source": [
    "Note that the intercepts vary about 12mmHg with a slope of about -2.5 mmHg/month"
   ]
  },
  {
   "cell_type": "markdown",
   "metadata": {
    "id": "oPvx3_E3qNMt"
   },
   "source": [
    "**Bivariate plot of the intercept and slope from the 40 patients**"
   ]
  },
  {
   "cell_type": "code",
   "execution_count": 11,
   "metadata": {
    "id": "wcytEvxv_rZq",
    "outputId": "401c9093-ae16-4f01-9b0f-39cbaa35a945"
   },
   "outputs": [
    {
     "data": {
      "image/png": "[encoded data removed]",
      "text/plain": [
       "plot without title"
      ]
     },
     "metadata": {
      "image/png": {
       "height": 420,
       "width": 420
      }
     },
     "output_type": "display_data"
    }
   ],
   "source": [
    "p <- ggplot(dat.coef, aes(x=Intercept, y=Slope, color=TRT))+ \n",
    "        geom_point()+ \n",
    "        theme(legend.position=c(0.9,0.9))\n",
    "ggMarginal(p, type='histogram',  fill = \"slateblue\", xparams=list(bins=8), yparams=list(bins=8))"
   ]
  },
  {
   "cell_type": "markdown",
   "metadata": {
    "id": "R8SiZU7gqcR1"
   },
   "source": [
    "- the declining trend by treatment group shown\n",
    "  - the slope declines faster in treatment group A in treatment group B\n",
    "  - the average baseline DBP is about 120 mmHg as characterized by the intercept.\n",
    "  - the variation embedded in the intercepts and slopes illustrate the modeling of *random-effects* for both intercept and slope"
   ]
  },
  {
   "cell_type": "markdown",
   "metadata": {
    "id": "aepHIqLrrTz0"
   },
   "source": [
    "**Modeling the slope and intercept relationship by a linear regression**"
   ]
  },
  {
   "cell_type": "code",
   "execution_count": 12,
   "metadata": {
    "id": "iCf8CLFbrwPD"
   },
   "outputs": [
    {
     "data": {
      "text/plain": [
       "\n",
       "Call:\n",
       "lm(formula = Slope ~ Intercept * TRT, data = dat.coef)\n",
       "\n",
       "Residuals:\n",
       "     Min       1Q   Median       3Q      Max \n",
       "-0.66359 -0.29475 -0.03143  0.34701  0.75317 \n",
       "\n",
       "Coefficients:\n",
       "               Estimate Std. Error t value Pr(>|t|)    \n",
       "(Intercept)    28.33737    4.68741   6.045 6.04e-07 ***\n",
       "Intercept      -0.26539    0.03874  -6.850 5.17e-08 ***\n",
       "TRTB           -8.29639    7.37956  -1.124    0.268    \n",
       "Intercept:TRTB  0.08475    0.06198   1.367    0.180    \n",
       "---\n",
       "Signif. codes:  0 '***' 0.001 '**' 0.01 '*' 0.05 '.' 0.1 ' ' 1\n",
       "\n",
       "Residual standard error: 0.4293 on 36 degrees of freedom\n",
       "Multiple R-squared:  0.919,\tAdjusted R-squared:  0.9122 \n",
       "F-statistic: 136.1 on 3 and 36 DF,  p-value: < 2.2e-16\n"
      ]
     },
     "metadata": {},
     "output_type": "display_data"
    }
   ],
   "source": [
    "# fit model 1 with interation\n",
    "mod1.coef = lm(Slope~Intercept*TRT, dat.coef)\n",
    "summary(mod1.coef)"
   ]
  },
  {
   "cell_type": "code",
   "execution_count": 13,
   "metadata": {
    "id": "4RP7lxEEr0_k"
   },
   "outputs": [
    {
     "data": {
      "text/plain": [
       "\n",
       "Call:\n",
       "lm(formula = Slope ~ Intercept + TRT, data = dat.coef)\n",
       "\n",
       "Residuals:\n",
       "     Min       1Q   Median       3Q      Max \n",
       "-0.73316 -0.38494  0.02806  0.33483  0.87272 \n",
       "\n",
       "Coefficients:\n",
       "            Estimate Std. Error t value Pr(>|t|)    \n",
       "(Intercept) 24.33216    3.70220   6.572 1.06e-07 ***\n",
       "Intercept   -0.23228    0.03059  -7.592 4.68e-09 ***\n",
       "TRTB         1.79136    0.16831  10.643 8.16e-13 ***\n",
       "---\n",
       "Signif. codes:  0 '***' 0.001 '**' 0.01 '*' 0.05 '.' 0.1 ' ' 1\n",
       "\n",
       "Residual standard error: 0.4343 on 37 degrees of freedom\n",
       "Multiple R-squared:  0.9147,\tAdjusted R-squared:  0.9101 \n",
       "F-statistic: 198.5 on 2 and 37 DF,  p-value: < 2.2e-16\n"
      ]
     },
     "metadata": {},
     "output_type": "display_data"
    }
   ],
   "source": [
    "# fit model 2 without interaction\n",
    "mod2.coef = lm(Slope~Intercept+TRT, dat.coef)\n",
    "summary(mod2.coef)"
   ]
  },
  {
   "cell_type": "markdown",
   "metadata": {
    "id": "cpBLyYJur4is"
   },
   "source": [
    "- Model 1 \n",
    "  -   the interaction (Inercept: TRTB) is not statistically significant\n",
    "- Model2 \n",
    "  -  there is a significant difference between the two treatments (TRT B)"
   ]
  },
  {
   "cell_type": "markdown",
   "metadata": {
    "id": "M-OEx5hhscuk"
   },
   "source": [
    "**Further analysis of the difference between treatments by `t-test`**"
   ]
  },
  {
   "cell_type": "code",
   "execution_count": 14,
   "metadata": {
    "id": "KaA59jfJsnTy"
   },
   "outputs": [
    {
     "data": {
      "text/plain": [
       "\n",
       "\tWelch Two Sample t-test\n",
       "\n",
       "data:  Slope by TRT\n",
       "t = -11.673, df = 35.556, p-value = 1.019e-13\n",
       "alternative hypothesis: true difference in means is not equal to 0\n",
       "95 percent confidence interval:\n",
       " -2.96976 -2.09024\n",
       "sample estimates:\n",
       "mean in group A mean in group B \n",
       "         -3.765          -1.235 \n"
      ]
     },
     "metadata": {},
     "output_type": "display_data"
    }
   ],
   "source": [
    "t.test(Slope~TRT, dat.coef)   # test slope difference"
   ]
  },
  {
   "cell_type": "code",
   "execution_count": 15,
   "metadata": {
    "id": "9nXTXppRs0b0"
   },
   "outputs": [
    {
     "data": {
      "text/plain": [
       "\n",
       "\tWelch Two Sample t-test\n",
       "\n",
       "data:  Intercept by TRT\n",
       "t = 4.3669, df = 36.266, p-value = 0.0001008\n",
       "alternative hypothesis: true difference in means is not equal to 0\n",
       "95 percent confidence interval:\n",
       " 1.703495 4.656505\n",
       "sample estimates:\n",
       "mean in group A mean in group B \n",
       "        120.965         117.785 \n"
      ]
     },
     "metadata": {},
     "output_type": "display_data"
    }
   ],
   "source": [
    "t.test(Intercept~TRT, dat.coef) # test intercept difference"
   ]
  },
  {
   "cell_type": "markdown",
   "metadata": {
    "id": "LMWN8O3is1Ec"
   },
   "source": [
    "**6.3.1.2 Longitudinal Modeling**\n",
    "\n",
    "- fit a series models to help in determining the best model using Rpackage `lme4`\n"
   ]
  },
  {
   "cell_type": "code",
   "execution_count": 16,
   "metadata": {
    "id": "u0EMJzjSwOGM"
   },
   "outputs": [
    {
     "name": "stderr",
     "output_type": "stream",
     "text": [
      "Warning message:\n",
      "\"package 'lmerTest' was built under R version 3.6.3\"\n",
      "Loading required package: lme4\n",
      "\n",
      "Warning message:\n",
      "\"package 'lme4' was built under R version 3.6.3\"\n",
      "Loading required package: Matrix\n",
      "\n",
      "\n",
      "Attaching package: 'Matrix'\n",
      "\n",
      "\n",
      "The following objects are masked from 'package:tidyr':\n",
      "\n",
      "    expand, pack, unpack\n",
      "\n",
      "\n",
      "\n",
      "Attaching package: 'lmerTest'\n",
      "\n",
      "\n",
      "The following object is masked from 'package:lme4':\n",
      "\n",
      "    lmer\n",
      "\n",
      "\n",
      "The following object is masked from 'package:stats':\n",
      "\n",
      "    step\n",
      "\n",
      "\n"
     ]
    }
   ],
   "source": [
    "#install.packages(\"lmerTest\")\n",
    "library(lmerTest)  # load the library lme4"
   ]
  },
  {
   "cell_type": "markdown",
   "metadata": {
    "id": "aNk-8BE4ude8"
   },
   "source": [
    "**Model 1** with TRT-by-Time interaction and random-effects on the intercept and slope on Time \n",
    "\n",
    "**Model 2** with with TRT-by-Time interaction and random-intercept \n",
    "only\n",
    "\n",
    "comparison of two models\n"
   ]
  },
  {
   "cell_type": "code",
   "execution_count": 17,
   "metadata": {
    "id": "6oz1ZvhAv_E0"
   },
   "outputs": [
    {
     "name": "stderr",
     "output_type": "stream",
     "text": [
      "refitting model(s) with ML (instead of REML)\n",
      "\n"
     ]
    },
    {
     "data": {
      "text/html": [
       "<table>\n",
       "<caption>A anova: 2 × 8</caption>\n",
       "<thead>\n",
       "\t<tr><th></th><th scope=col>npar</th><th scope=col>AIC</th><th scope=col>BIC</th><th scope=col>logLik</th><th scope=col>deviance</th><th scope=col>Chisq</th><th scope=col>Df</th><th scope=col>Pr(&gt;Chisq)</th></tr>\n",
       "\t<tr><th></th><th scope=col>&lt;dbl&gt;</th><th scope=col>&lt;dbl&gt;</th><th scope=col>&lt;dbl&gt;</th><th scope=col>&lt;dbl&gt;</th><th scope=col>&lt;dbl&gt;</th><th scope=col>&lt;dbl&gt;</th><th scope=col>&lt;dbl&gt;</th><th scope=col>&lt;dbl&gt;</th></tr>\n",
       "</thead>\n",
       "<tbody>\n",
       "\t<tr><th scope=row>mod2DBP</th><td>6</td><td>884.5423</td><td>904.3322</td><td>-436.2711</td><td>872.5423</td><td>      NA</td><td>NA</td><td>       NA</td></tr>\n",
       "\t<tr><th scope=row>mod1DBP</th><td>8</td><td>886.4223</td><td>912.8088</td><td>-435.2111</td><td>870.4223</td><td>2.119995</td><td> 2</td><td>0.3464567</td></tr>\n",
       "</tbody>\n",
       "</table>\n"
      ],
      "text/latex": [
       "A anova: 2 × 8\n",
       "\\begin{tabular}{r|llllllll}\n",
       "  & npar & AIC & BIC & logLik & deviance & Chisq & Df & Pr(>Chisq)\\\\\n",
       "  & <dbl> & <dbl> & <dbl> & <dbl> & <dbl> & <dbl> & <dbl> & <dbl>\\\\\n",
       "\\hline\n",
       "\tmod2DBP & 6 & 884.5423 & 904.3322 & -436.2711 & 872.5423 &       NA & NA &        NA\\\\\n",
       "\tmod1DBP & 8 & 886.4223 & 912.8088 & -435.2111 & 870.4223 & 2.119995 &  2 & 0.3464567\\\\\n",
       "\\end{tabular}\n"
      ],
      "text/markdown": [
       "\n",
       "A anova: 2 × 8\n",
       "\n",
       "| <!--/--> | npar &lt;dbl&gt; | AIC &lt;dbl&gt; | BIC &lt;dbl&gt; | logLik &lt;dbl&gt; | deviance &lt;dbl&gt; | Chisq &lt;dbl&gt; | Df &lt;dbl&gt; | Pr(&gt;Chisq) &lt;dbl&gt; |\n",
       "|---|---|---|---|---|---|---|---|---|\n",
       "| mod2DBP | 6 | 884.5423 | 904.3322 | -436.2711 | 872.5423 |       NA | NA |        NA |\n",
       "| mod1DBP | 8 | 886.4223 | 912.8088 | -435.2111 | 870.4223 | 2.119995 |  2 | 0.3464567 |\n",
       "\n"
      ],
      "text/plain": [
       "        npar AIC      BIC      logLik    deviance Chisq    Df Pr(>Chisq)\n",
       "mod2DBP 6    884.5423 904.3322 -436.2711 872.5423       NA NA        NA \n",
       "mod1DBP 8    886.4223 912.8088 -435.2111 870.4223 2.119995  2 0.3464567 "
      ]
     },
     "metadata": {},
     "output_type": "display_data"
    }
   ],
   "source": [
    "mod1DBP =  lmer(DBP~TRT*Time+(Time|Subject), Dat)  # Fit Model 1\n",
    "\n",
    "mod2DBP =  lmer(DBP~TRT*Time+(1|Subject), Dat)  # Fit Model 2\n",
    "   \n",
    "anova(mod1DBP, mod2DBP)  # model comparison\n"
   ]
  },
  {
   "cell_type": "markdown",
   "metadata": {
    "id": "HAc4ayRKwaAC"
   },
   "source": [
    "anova test for model comparison\n",
    "- *p*-value=0.35 $\\rightarrow$ two models are not significantly different\n",
    "- simpler `Model 2` is recommended"
   ]
  },
  {
   "cell_type": "code",
   "execution_count": 18,
   "metadata": {
    "id": "a2YXOkqKw6rr"
   },
   "outputs": [
    {
     "data": {
      "text/plain": [
       "Linear mixed model fit by REML. t-tests use Satterthwaite's method [\n",
       "lmerModLmerTest]\n",
       "Formula: DBP ~ TRT * Time + (1 | Subject)\n",
       "   Data: Dat\n",
       "\n",
       "REML criterion at convergence: 877.6\n",
       "\n",
       "Scaled residuals: \n",
       "    Min      1Q  Median      3Q     Max \n",
       "-4.2031 -0.5418 -0.0512  0.5541  2.3326 \n",
       "\n",
       "Random effects:\n",
       " Groups   Name        Variance Std.Dev.\n",
       " Subject  (Intercept) 1.377    1.174   \n",
       " Residual             3.815    1.953   \n",
       "Number of obs: 200, groups:  Subject, 40\n",
       "\n",
       "Fixed effects:\n",
       "            Estimate Std. Error       df t value Pr(>|t|)    \n",
       "(Intercept) 120.9650     0.5279 159.1764  229.15  < 2e-16 ***\n",
       "TRTB         -3.1800     0.7466 159.1764   -4.26 3.49e-05 ***\n",
       "Time         -3.7650     0.1381 158.0000  -27.26  < 2e-16 ***\n",
       "TRTB:Time     2.5300     0.1953 158.0000   12.95  < 2e-16 ***\n",
       "---\n",
       "Signif. codes:  0 '***' 0.001 '**' 0.01 '*' 0.05 '.' 0.1 ' ' 1\n",
       "\n",
       "Correlation of Fixed Effects:\n",
       "          (Intr) TRTB   Time  \n",
       "TRTB      -0.707              \n",
       "Time      -0.785  0.555       \n",
       "TRTB:Time  0.555 -0.785 -0.707"
      ]
     },
     "metadata": {},
     "output_type": "display_data"
    }
   ],
   "source": [
    "summary(mod2DBP)"
   ]
  },
  {
   "cell_type": "markdown",
   "metadata": {
    "id": "w2rotzTCw6FM"
   },
   "source": [
    "**Further investigation of the interaction effect between TRT and Time**\n",
    "\n",
    "**Model 3** : remove the interaction but keep the random effects for both intercept and slope to contrast with Model 2\n",
    "\n",
    "**Model 4** : simplified version of Model3 with intercept as the only random-effects"
   ]
  },
  {
   "cell_type": "code",
   "execution_count": 19,
   "metadata": {
    "id": "gpSM-h6Px7x0"
   },
   "outputs": [
    {
     "name": "stderr",
     "output_type": "stream",
     "text": [
      "Warning message in checkConv(attr(opt, \"derivs\"), opt$par, ctrl = control$checkConv, :\n",
      "\"Model failed to converge with max|grad| = 0.00421966 (tol = 0.002, component 1)\"\n",
      "refitting model(s) with ML (instead of REML)\n",
      "\n"
     ]
    },
    {
     "data": {
      "text/html": [
       "<table>\n",
       "<caption>A anova: 2 × 8</caption>\n",
       "<thead>\n",
       "\t<tr><th></th><th scope=col>npar</th><th scope=col>AIC</th><th scope=col>BIC</th><th scope=col>logLik</th><th scope=col>deviance</th><th scope=col>Chisq</th><th scope=col>Df</th><th scope=col>Pr(&gt;Chisq)</th></tr>\n",
       "\t<tr><th></th><th scope=col>&lt;dbl&gt;</th><th scope=col>&lt;dbl&gt;</th><th scope=col>&lt;dbl&gt;</th><th scope=col>&lt;dbl&gt;</th><th scope=col>&lt;dbl&gt;</th><th scope=col>&lt;dbl&gt;</th><th scope=col>&lt;dbl&gt;</th><th scope=col>&lt;dbl&gt;</th></tr>\n",
       "</thead>\n",
       "<tbody>\n",
       "\t<tr><th scope=row>mod4DBP</th><td>5</td><td>998.3321</td><td>1014.8236</td><td>-494.1660</td><td>988.3321</td><td>      NA</td><td>NA</td><td>          NA</td></tr>\n",
       "\t<tr><th scope=row>mod3DBP</th><td>7</td><td>945.3403</td><td> 968.4286</td><td>-465.6702</td><td>931.3403</td><td>56.99172</td><td> 2</td><td>4.211191e-13</td></tr>\n",
       "</tbody>\n",
       "</table>\n"
      ],
      "text/latex": [
       "A anova: 2 × 8\n",
       "\\begin{tabular}{r|llllllll}\n",
       "  & npar & AIC & BIC & logLik & deviance & Chisq & Df & Pr(>Chisq)\\\\\n",
       "  & <dbl> & <dbl> & <dbl> & <dbl> & <dbl> & <dbl> & <dbl> & <dbl>\\\\\n",
       "\\hline\n",
       "\tmod4DBP & 5 & 998.3321 & 1014.8236 & -494.1660 & 988.3321 &       NA & NA &           NA\\\\\n",
       "\tmod3DBP & 7 & 945.3403 &  968.4286 & -465.6702 & 931.3403 & 56.99172 &  2 & 4.211191e-13\\\\\n",
       "\\end{tabular}\n"
      ],
      "text/markdown": [
       "\n",
       "A anova: 2 × 8\n",
       "\n",
       "| <!--/--> | npar &lt;dbl&gt; | AIC &lt;dbl&gt; | BIC &lt;dbl&gt; | logLik &lt;dbl&gt; | deviance &lt;dbl&gt; | Chisq &lt;dbl&gt; | Df &lt;dbl&gt; | Pr(&gt;Chisq) &lt;dbl&gt; |\n",
       "|---|---|---|---|---|---|---|---|---|\n",
       "| mod4DBP | 5 | 998.3321 | 1014.8236 | -494.1660 | 988.3321 |       NA | NA |           NA |\n",
       "| mod3DBP | 7 | 945.3403 |  968.4286 | -465.6702 | 931.3403 | 56.99172 |  2 | 4.211191e-13 |\n",
       "\n"
      ],
      "text/plain": [
       "        npar AIC      BIC       logLik    deviance Chisq    Df Pr(>Chisq)  \n",
       "mod4DBP 5    998.3321 1014.8236 -494.1660 988.3321       NA NA           NA\n",
       "mod3DBP 7    945.3403  968.4286 -465.6702 931.3403 56.99172  2 4.211191e-13"
      ]
     },
     "metadata": {},
     "output_type": "display_data"
    }
   ],
   "source": [
    "mod3DBP =  lmer(DBP~TRT+Time+(Time|Subject), Dat)  # Fit Model 3 \n",
    "\n",
    "mod4DBP =  lmer(DBP~TRT+Time+(1|Subject), Dat)   # Fit Model 4\n",
    "\n",
    "anova(mod3DBP, mod4DBP)   # model comparison"
   ]
  },
  {
   "cell_type": "markdown",
   "metadata": {
    "id": "KmFpJBBcyS55"
   },
   "source": [
    "- Model 3 is statistically significantly different from Model 4 (*p*-value< 0.0001) \n",
    "- $\\rightarrow$ utilize Model 3 further to investigate the effects from the covariates "
   ]
  },
  {
   "cell_type": "code",
   "execution_count": 20,
   "metadata": {
    "id": "dPSXgCGuys-y"
   },
   "outputs": [
    {
     "data": {
      "text/plain": [
       "Linear mixed model fit by REML. t-tests use Satterthwaite's method [\n",
       "lmerModLmerTest]\n",
       "Formula: DBP ~ TRT + Time + (Time | Subject)\n",
       "   Data: Dat\n",
       "\n",
       "REML criterion at convergence: 933.4\n",
       "\n",
       "Scaled residuals: \n",
       "    Min      1Q  Median      3Q     Max \n",
       "-4.3319 -0.5517 -0.0048  0.5203  2.5241 \n",
       "\n",
       "Random effects:\n",
       " Groups   Name        Variance Std.Dev. Corr \n",
       " Subject  (Intercept) 12.629   3.554         \n",
       "          Time         1.747   1.322    -0.95\n",
       " Residual              3.534   1.880         \n",
       "Number of obs: 200, groups:  Subject, 40\n",
       "\n",
       "Fixed effects:\n",
       "            Estimate Std. Error       df t value Pr(>|t|)    \n",
       "(Intercept) 117.6478     0.6817  26.8837 172.572  < 2e-16 ***\n",
       "TRTB          3.4543     0.4555  37.9782   7.584 4.05e-09 ***\n",
       "Time         -2.5000     0.2291  38.9696 -10.910 2.07e-13 ***\n",
       "---\n",
       "Signif. codes:  0 '***' 0.001 '**' 0.01 '*' 0.05 '.' 0.1 ' ' 1\n",
       "\n",
       "Correlation of Fixed Effects:\n",
       "     (Intr) TRTB  \n",
       "TRTB -0.334       \n",
       "Time -0.881  0.000\n",
       "convergence code: 0\n",
       "Model failed to converge with max|grad| = 0.00421966 (tol = 0.002, component 1)\n"
      ]
     },
     "metadata": {},
     "output_type": "display_data"
    }
   ],
   "source": [
    "summary(mod3DBP)"
   ]
  },
  {
   "cell_type": "markdown",
   "metadata": {
    "id": "k_DO6zmiyvXL"
   },
   "source": [
    "**Model 3** \n",
    "$$\n",
    "  DBP_{ijk}=(\\beta_0+\\gamma_{0k})+(\\beta_1+\\gamma_{1k})\\times Time_j+\\beta_2\\times TRT_i+\\epsilon_{ijk}\n",
    "$$\n",
    "where $i$ for treatment A or B, $j$ for time from 1 to 5 and $k$ for patient from 1 to 40.\n",
    "\n",
    "- Fixed-effects \n",
    "   - $\\widehat{\\beta}_0=117.6$\n",
    "   - $\\widehat{\\beta}_1=-2.5$ indicating the DBP declines at a rate 2.5mmHg per month\n",
    "   - $\\widehat{\\beta}_2$=3.454 : estimated difference between the rates of decine f treatment B and A=3.454mmHg/month\n",
    "   - all parameters are statistically significant\n",
    "\n",
    "- Random-effects\n",
    "  - estimated $\\widehat{\\sigma}=3.54,\\quad \\widehat{D}=\\begin{pmatrix}\n",
    "12.62 & -4.44\\\\\n",
    "-4.44 & 1.75\n",
    "\\end{pmatrix}$   "
   ]
  },
  {
   "cell_type": "markdown",
   "metadata": {
    "id": "I1pmSrdZ4f4L"
   },
   "source": [
    "**Model diagnostics** using the residuals\n",
    "1. normal assumption for the random-effects : Q-Q plot\n"
   ]
  },
  {
   "cell_type": "code",
   "execution_count": 21,
   "metadata": {
    "id": "oZCly4Ey44z8"
   },
   "outputs": [
    {
     "data": {
      "image/png": "[encoded data removed]",
      "text/plain": [
       "plot without title"
      ]
     },
     "metadata": {
      "image/png": {
       "height": 420,
       "width": 420
      }
     },
     "output_type": "display_data"
    }
   ],
   "source": [
    "print(qqmath(~resid(mod3DBP)|TRT,Dat, \n",
    "             xlab=\"Theoretical Normal\", ylab=\"Residuals\"))"
   ]
  },
  {
   "cell_type": "markdown",
   "metadata": {
    "id": "Y9pNhlX547nL"
   },
   "source": [
    "the Q-Q plot exhibits\n",
    "- a straight line for each treatment indicating no violation of the normality assumption"
   ]
  },
  {
   "cell_type": "markdown",
   "metadata": {
    "id": "L36XQoMB5QIL"
   },
   "source": [
    "2. plot the residulas as a function of time by treatment group, which indicated tha tmOdel 3 is reasonable"
   ]
  },
  {
   "cell_type": "code",
   "execution_count": 22,
   "metadata": {
    "id": "vxm10aWf5kMj"
   },
   "outputs": [
    {
     "data": {
      "image/png": "[encoded data removed]",
      "text/plain": [
       "plot without title"
      ]
     },
     "metadata": {
      "image/png": {
       "height": 420,
       "width": 420
      }
     },
     "output_type": "display_data"
    }
   ],
   "source": [
    "print(bwplot(resid(mod3DBP)~as.factor(Time)|TRT,Dat, \n",
    "\txlab=\"Time\",ylim=c(-5,5), ylab=\"Residuals\"))"
   ]
  },
  {
   "cell_type": "markdown",
   "metadata": {
    "id": "2c0poWWG5sL7"
   },
   "source": [
    "**Investigation of the effects of the covariates of `Age` and `Sex`**\n",
    "\n",
    "**Model 5** : Model 3 with the `Age`"
   ]
  },
  {
   "cell_type": "code",
   "execution_count": 23,
   "metadata": {
    "id": "ht8VARB85r0j"
   },
   "outputs": [
    {
     "name": "stderr",
     "output_type": "stream",
     "text": [
      "boundary (singular) fit: see ?isSingular\n",
      "\n",
      "Warning message:\n",
      "\"Model failed to converge with 1 negative eigenvalue: -3.5e+01\"\n",
      "refitting model(s) with ML (instead of REML)\n",
      "\n"
     ]
    },
    {
     "data": {
      "text/html": [
       "<table>\n",
       "<caption>A anova: 2 × 8</caption>\n",
       "<thead>\n",
       "\t<tr><th></th><th scope=col>npar</th><th scope=col>AIC</th><th scope=col>BIC</th><th scope=col>logLik</th><th scope=col>deviance</th><th scope=col>Chisq</th><th scope=col>Df</th><th scope=col>Pr(&gt;Chisq)</th></tr>\n",
       "\t<tr><th></th><th scope=col>&lt;dbl&gt;</th><th scope=col>&lt;dbl&gt;</th><th scope=col>&lt;dbl&gt;</th><th scope=col>&lt;dbl&gt;</th><th scope=col>&lt;dbl&gt;</th><th scope=col>&lt;dbl&gt;</th><th scope=col>&lt;dbl&gt;</th><th scope=col>&lt;dbl&gt;</th></tr>\n",
       "</thead>\n",
       "<tbody>\n",
       "\t<tr><th scope=row>mod3DBP</th><td>7</td><td>945.3403</td><td>968.4286</td><td>-465.6702</td><td>931.3403</td><td>      NA</td><td>NA</td><td>        NA</td></tr>\n",
       "\t<tr><th scope=row>mod5DBP</th><td>8</td><td>943.9820</td><td>970.3686</td><td>-463.9910</td><td>927.9820</td><td>3.358303</td><td> 1</td><td>0.06686695</td></tr>\n",
       "</tbody>\n",
       "</table>\n"
      ],
      "text/latex": [
       "A anova: 2 × 8\n",
       "\\begin{tabular}{r|llllllll}\n",
       "  & npar & AIC & BIC & logLik & deviance & Chisq & Df & Pr(>Chisq)\\\\\n",
       "  & <dbl> & <dbl> & <dbl> & <dbl> & <dbl> & <dbl> & <dbl> & <dbl>\\\\\n",
       "\\hline\n",
       "\tmod3DBP & 7 & 945.3403 & 968.4286 & -465.6702 & 931.3403 &       NA & NA &         NA\\\\\n",
       "\tmod5DBP & 8 & 943.9820 & 970.3686 & -463.9910 & 927.9820 & 3.358303 &  1 & 0.06686695\\\\\n",
       "\\end{tabular}\n"
      ],
      "text/markdown": [
       "\n",
       "A anova: 2 × 8\n",
       "\n",
       "| <!--/--> | npar &lt;dbl&gt; | AIC &lt;dbl&gt; | BIC &lt;dbl&gt; | logLik &lt;dbl&gt; | deviance &lt;dbl&gt; | Chisq &lt;dbl&gt; | Df &lt;dbl&gt; | Pr(&gt;Chisq) &lt;dbl&gt; |\n",
       "|---|---|---|---|---|---|---|---|---|\n",
       "| mod3DBP | 7 | 945.3403 | 968.4286 | -465.6702 | 931.3403 |       NA | NA |         NA |\n",
       "| mod5DBP | 8 | 943.9820 | 970.3686 | -463.9910 | 927.9820 | 3.358303 |  1 | 0.06686695 |\n",
       "\n"
      ],
      "text/plain": [
       "        npar AIC      BIC      logLik    deviance Chisq    Df Pr(>Chisq)\n",
       "mod3DBP 7    945.3403 968.4286 -465.6702 931.3403       NA NA         NA\n",
       "mod5DBP 8    943.9820 970.3686 -463.9910 927.9820 3.358303  1 0.06686695"
      ]
     },
     "metadata": {},
     "output_type": "display_data"
    }
   ],
   "source": [
    "mod5DBP =  lmer(DBP~TRT+Time+Age+(Time|Subject), Dat)  # fit Model 5 include ``Age\" effect\n",
    "\n",
    "anova(mod3DBP, mod5DBP)  # call anova to test ``Age\" effect"
   ]
  },
  {
   "cell_type": "markdown",
   "metadata": {
    "id": "Ne2A0fBi6QAb"
   },
   "source": [
    "- anova test *p*-value< 0.0001 $\\rightarrow$ `Age` effect is statistically significant\n",
    "\n",
    "**Model 6** : Model 5 with `Sex`"
   ]
  },
  {
   "cell_type": "code",
   "execution_count": 24,
   "metadata": {
    "id": "ccpqekjM6siz"
   },
   "outputs": [
    {
     "name": "stderr",
     "output_type": "stream",
     "text": [
      "boundary (singular) fit: see ?isSingular\n",
      "\n",
      "refitting model(s) with ML (instead of REML)\n",
      "\n"
     ]
    },
    {
     "data": {
      "text/html": [
       "<table>\n",
       "<caption>A anova: 2 × 8</caption>\n",
       "<thead>\n",
       "\t<tr><th></th><th scope=col>npar</th><th scope=col>AIC</th><th scope=col>BIC</th><th scope=col>logLik</th><th scope=col>deviance</th><th scope=col>Chisq</th><th scope=col>Df</th><th scope=col>Pr(&gt;Chisq)</th></tr>\n",
       "\t<tr><th></th><th scope=col>&lt;dbl&gt;</th><th scope=col>&lt;dbl&gt;</th><th scope=col>&lt;dbl&gt;</th><th scope=col>&lt;dbl&gt;</th><th scope=col>&lt;dbl&gt;</th><th scope=col>&lt;dbl&gt;</th><th scope=col>&lt;dbl&gt;</th><th scope=col>&lt;dbl&gt;</th></tr>\n",
       "</thead>\n",
       "<tbody>\n",
       "\t<tr><th scope=row>mod5DBP</th><td>8</td><td>943.9820</td><td>970.3686</td><td>-463.9910</td><td>927.9820</td><td>      NA</td><td>NA</td><td>          NA</td></tr>\n",
       "\t<tr><th scope=row>mod6DBP</th><td>9</td><td>912.3291</td><td>942.0139</td><td>-447.1645</td><td>894.3291</td><td>33.65297</td><td> 1</td><td>6.587432e-09</td></tr>\n",
       "</tbody>\n",
       "</table>\n"
      ],
      "text/latex": [
       "A anova: 2 × 8\n",
       "\\begin{tabular}{r|llllllll}\n",
       "  & npar & AIC & BIC & logLik & deviance & Chisq & Df & Pr(>Chisq)\\\\\n",
       "  & <dbl> & <dbl> & <dbl> & <dbl> & <dbl> & <dbl> & <dbl> & <dbl>\\\\\n",
       "\\hline\n",
       "\tmod5DBP & 8 & 943.9820 & 970.3686 & -463.9910 & 927.9820 &       NA & NA &           NA\\\\\n",
       "\tmod6DBP & 9 & 912.3291 & 942.0139 & -447.1645 & 894.3291 & 33.65297 &  1 & 6.587432e-09\\\\\n",
       "\\end{tabular}\n"
      ],
      "text/markdown": [
       "\n",
       "A anova: 2 × 8\n",
       "\n",
       "| <!--/--> | npar &lt;dbl&gt; | AIC &lt;dbl&gt; | BIC &lt;dbl&gt; | logLik &lt;dbl&gt; | deviance &lt;dbl&gt; | Chisq &lt;dbl&gt; | Df &lt;dbl&gt; | Pr(&gt;Chisq) &lt;dbl&gt; |\n",
       "|---|---|---|---|---|---|---|---|---|\n",
       "| mod5DBP | 8 | 943.9820 | 970.3686 | -463.9910 | 927.9820 |       NA | NA |           NA |\n",
       "| mod6DBP | 9 | 912.3291 | 942.0139 | -447.1645 | 894.3291 | 33.65297 |  1 | 6.587432e-09 |\n",
       "\n"
      ],
      "text/plain": [
       "        npar AIC      BIC      logLik    deviance Chisq    Df Pr(>Chisq)  \n",
       "mod5DBP 8    943.9820 970.3686 -463.9910 927.9820       NA NA           NA\n",
       "mod6DBP 9    912.3291 942.0139 -447.1645 894.3291 33.65297  1 6.587432e-09"
      ]
     },
     "metadata": {},
     "output_type": "display_data"
    }
   ],
   "source": [
    "mod6DBP =  lmer(DBP~TRT+Time+Age+Sex+(Time|Subject), Dat)  # fit Model 6 including ``Age\" and ``Sex\"\n",
    "\n",
    "anova(mod5DBP, mod6DBP)  # test the ``Sex\" effect"
   ]
  },
  {
   "cell_type": "markdown",
   "metadata": {
    "id": "OSVgeKka6xYz"
   },
   "source": [
    "- *p*-value=0.41 $\\rightarrow$ `Sex` is not a statistically significant effect\n",
    "\n",
    "The conclusion coincides with the conclusions in Section 4.3.1.2 of Chapter 4"
   ]
  },
  {
   "cell_type": "markdown",
   "metadata": {
    "id": "l0HiseEt_rZq"
   },
   "source": [
    "#### 6.3.2 Ananlysis of Cimetidine Duodenal Ulcer Trial"
   ]
  },
  {
   "cell_type": "markdown",
   "metadata": {
    "id": "c5V42W1I_rZq"
   },
   "source": [
    "**6.3.2.1 Preliminary Anlysis**"
   ]
  },
  {
   "cell_type": "code",
   "execution_count": 25,
   "metadata": {
    "id": "mXkU9FLO_rZr",
    "outputId": "ad25ed04-c41d-48b5-ef2d-288f5e4ac245"
   },
   "outputs": [
    {
     "data": {
      "text/html": [
       "<table>\n",
       "<caption>A data.frame: 6 × 7</caption>\n",
       "<thead>\n",
       "\t<tr><th></th><th scope=col>Subject</th><th scope=col>TRT</th><th scope=col>WeekH</th><th scope=col>Time0</th><th scope=col>Time1</th><th scope=col>Time2</th><th scope=col>Time4</th></tr>\n",
       "\t<tr><th></th><th scope=col>&lt;int&gt;</th><th scope=col>&lt;int&gt;</th><th scope=col>&lt;int&gt;</th><th scope=col>&lt;int&gt;</th><th scope=col>&lt;int&gt;</th><th scope=col>&lt;int&gt;</th><th scope=col>&lt;int&gt;</th></tr>\n",
       "</thead>\n",
       "<tbody>\n",
       "\t<tr><th scope=row>1</th><td>1</td><td>3</td><td>0</td><td>0</td><td>0</td><td>0</td><td>0</td></tr>\n",
       "\t<tr><th scope=row>2</th><td>2</td><td>4</td><td>2</td><td>0</td><td>0</td><td>1</td><td>1</td></tr>\n",
       "\t<tr><th scope=row>3</th><td>3</td><td>2</td><td>2</td><td>0</td><td>0</td><td>1</td><td>1</td></tr>\n",
       "\t<tr><th scope=row>4</th><td>4</td><td>3</td><td>2</td><td>0</td><td>0</td><td>1</td><td>1</td></tr>\n",
       "\t<tr><th scope=row>5</th><td>5</td><td>4</td><td>1</td><td>0</td><td>1</td><td>1</td><td>1</td></tr>\n",
       "\t<tr><th scope=row>6</th><td>6</td><td>1</td><td>0</td><td>0</td><td>0</td><td>0</td><td>0</td></tr>\n",
       "</tbody>\n",
       "</table>\n"
      ],
      "text/latex": [
       "A data.frame: 6 × 7\n",
       "\\begin{tabular}{r|lllllll}\n",
       "  & Subject & TRT & WeekH & Time0 & Time1 & Time2 & Time4\\\\\n",
       "  & <int> & <int> & <int> & <int> & <int> & <int> & <int>\\\\\n",
       "\\hline\n",
       "\t1 & 1 & 3 & 0 & 0 & 0 & 0 & 0\\\\\n",
       "\t2 & 2 & 4 & 2 & 0 & 0 & 1 & 1\\\\\n",
       "\t3 & 3 & 2 & 2 & 0 & 0 & 1 & 1\\\\\n",
       "\t4 & 4 & 3 & 2 & 0 & 0 & 1 & 1\\\\\n",
       "\t5 & 5 & 4 & 1 & 0 & 1 & 1 & 1\\\\\n",
       "\t6 & 6 & 1 & 0 & 0 & 0 & 0 & 0\\\\\n",
       "\\end{tabular}\n"
      ],
      "text/markdown": [
       "\n",
       "A data.frame: 6 × 7\n",
       "\n",
       "| <!--/--> | Subject &lt;int&gt; | TRT &lt;int&gt; | WeekH &lt;int&gt; | Time0 &lt;int&gt; | Time1 &lt;int&gt; | Time2 &lt;int&gt; | Time4 &lt;int&gt; |\n",
       "|---|---|---|---|---|---|---|---|\n",
       "| 1 | 1 | 3 | 0 | 0 | 0 | 0 | 0 |\n",
       "| 2 | 2 | 4 | 2 | 0 | 0 | 1 | 1 |\n",
       "| 3 | 3 | 2 | 2 | 0 | 0 | 1 | 1 |\n",
       "| 4 | 4 | 3 | 2 | 0 | 0 | 1 | 1 |\n",
       "| 5 | 5 | 4 | 1 | 0 | 1 | 1 | 1 |\n",
       "| 6 | 6 | 1 | 0 | 0 | 0 | 0 | 0 |\n",
       "\n"
      ],
      "text/plain": [
       "  Subject TRT WeekH Time0 Time1 Time2 Time4\n",
       "1 1       3   0     0     0     0     0    \n",
       "2 2       4   2     0     0     1     1    \n",
       "3 3       2   2     0     0     1     1    \n",
       "4 4       3   2     0     0     1     1    \n",
       "5 5       4   1     0     1     1     1    \n",
       "6 6       1   0     0     0     0     0    "
      ]
     },
     "metadata": {},
     "output_type": "display_data"
    },
    {
     "data": {
      "text/plain": [
       "    Subject         TRT            WeekH           Time0       Time1      \n",
       " Min.   :  1   Min.   :1.000   Min.   :0.000   Min.   :0   Min.   :0.000  \n",
       " 1st Qu.: 85   1st Qu.:2.000   1st Qu.:0.000   1st Qu.:0   1st Qu.:0.000  \n",
       " Median :169   Median :3.000   Median :1.000   Median :0   Median :0.000  \n",
       " Mean   :169   Mean   :2.579   Mean   :1.555   Mean   :0   Mean   :0.184  \n",
       " 3rd Qu.:253   3rd Qu.:4.000   3rd Qu.:2.000   3rd Qu.:0   3rd Qu.:0.000  \n",
       " Max.   :337   Max.   :4.000   Max.   :4.000   Max.   :0   Max.   :1.000  \n",
       "     Time2            Time4       \n",
       " Min.   :0.0000   Min.   :0.0000  \n",
       " 1st Qu.:0.0000   1st Qu.:0.0000  \n",
       " Median :0.0000   Median :1.0000  \n",
       " Mean   :0.3887   Mean   :0.6291  \n",
       " 3rd Qu.:1.0000   3rd Qu.:1.0000  \n",
       " Max.   :1.0000   Max.   :1.0000  "
      ]
     },
     "metadata": {},
     "output_type": "display_data"
    }
   ],
   "source": [
    "dat  = read.csv(\"C:\\\\Users\\\\USER\\\\Desktop\\\\2021fall\\\\생물통계학\\\\R&SAS4CTDA2\\\\Ulcer.csv\",header=T)\n",
    "\n",
    "head(dat)\n",
    "summary(dat)"
   ]
  },
  {
   "cell_type": "markdown",
   "metadata": {
    "id": "OXgXrNH47ZlK"
   },
   "source": [
    "**Summary** informationin Table 6.1 for the four treatment groups and four time points"
   ]
  },
  {
   "cell_type": "code",
   "execution_count": 26,
   "metadata": {
    "id": "VLuXru_57o98"
   },
   "outputs": [
    {
     "name": "stdout",
     "output_type": "stream",
     "text": [
      "    1  2  3  4\n",
      "n  76 83 85 93\n",
      "n1 14 15 14 19\n",
      "n2 22 31 33 45\n",
      "n4 31 51 62 68\n"
     ]
    }
   ],
   "source": [
    "\n",
    "n  = tapply(rep(1, dim(dat)[1]),dat$TRT,sum)  # total n for each TRT\n",
    "n1 = tapply(dat$Time1,dat$TRT,sum)  # number for time 1\n",
    "n2 = tapply(dat$Time2,dat$TRT,sum)  # number for time 2\n",
    "n4 = tapply(dat$Time4,dat$TRT,sum)  # number for time 4\n",
    "\n",
    "print(rbind(n,n1,n2,n4))"
   ]
  },
  {
   "cell_type": "code",
   "execution_count": 27,
   "metadata": {
    "id": "0ZDh7fUa75Gz"
   },
   "outputs": [
    {
     "name": "stdout",
     "output_type": "stream",
     "text": [
      "        1    2    3    4\n",
      "[1,] 0.18 0.18 0.16 0.20\n",
      "[2,] 0.29 0.37 0.39 0.48\n",
      "[3,] 0.41 0.61 0.73 0.73\n"
     ]
    }
   ],
   "source": [
    "print( round(rbind(n1/n,n2/n,n4/n),2))  # proportions"
   ]
  },
  {
   "cell_type": "markdown",
   "metadata": {
    "id": "Xed8J_8H77Lj"
   },
   "source": [
    "**6.3.2.2. Fit Logistic Regression to Binomial Data**\n",
    "\n",
    "- reshape the data into `long` format"
   ]
  },
  {
   "cell_type": "code",
   "execution_count": 28,
   "metadata": {
    "id": "tZhgAaWP8hq7"
   },
   "outputs": [
    {
     "data": {
      "text/html": [
       "<table>\n",
       "<caption>A tibble: 6 × 5</caption>\n",
       "<thead>\n",
       "\t<tr><th scope=col>Subject</th><th scope=col>TRT</th><th scope=col>WeekH</th><th scope=col>Time</th><th scope=col>Heal</th></tr>\n",
       "\t<tr><th scope=col>&lt;int&gt;</th><th scope=col>&lt;int&gt;</th><th scope=col>&lt;int&gt;</th><th scope=col>&lt;chr&gt;</th><th scope=col>&lt;int&gt;</th></tr>\n",
       "</thead>\n",
       "<tbody>\n",
       "\t<tr><td>1</td><td>3</td><td>0</td><td>0</td><td>0</td></tr>\n",
       "\t<tr><td>1</td><td>3</td><td>0</td><td>1</td><td>0</td></tr>\n",
       "\t<tr><td>1</td><td>3</td><td>0</td><td>2</td><td>0</td></tr>\n",
       "\t<tr><td>1</td><td>3</td><td>0</td><td>4</td><td>0</td></tr>\n",
       "\t<tr><td>2</td><td>4</td><td>2</td><td>0</td><td>0</td></tr>\n",
       "\t<tr><td>2</td><td>4</td><td>2</td><td>1</td><td>0</td></tr>\n",
       "</tbody>\n",
       "</table>\n"
      ],
      "text/latex": [
       "A tibble: 6 × 5\n",
       "\\begin{tabular}{lllll}\n",
       " Subject & TRT & WeekH & Time & Heal\\\\\n",
       " <int> & <int> & <int> & <chr> & <int>\\\\\n",
       "\\hline\n",
       "\t 1 & 3 & 0 & 0 & 0\\\\\n",
       "\t 1 & 3 & 0 & 1 & 0\\\\\n",
       "\t 1 & 3 & 0 & 2 & 0\\\\\n",
       "\t 1 & 3 & 0 & 4 & 0\\\\\n",
       "\t 2 & 4 & 2 & 0 & 0\\\\\n",
       "\t 2 & 4 & 2 & 1 & 0\\\\\n",
       "\\end{tabular}\n"
      ],
      "text/markdown": [
       "\n",
       "A tibble: 6 × 5\n",
       "\n",
       "| Subject &lt;int&gt; | TRT &lt;int&gt; | WeekH &lt;int&gt; | Time &lt;chr&gt; | Heal &lt;int&gt; |\n",
       "|---|---|---|---|---|\n",
       "| 1 | 3 | 0 | 0 | 0 |\n",
       "| 1 | 3 | 0 | 1 | 0 |\n",
       "| 1 | 3 | 0 | 2 | 0 |\n",
       "| 1 | 3 | 0 | 4 | 0 |\n",
       "| 2 | 4 | 2 | 0 | 0 |\n",
       "| 2 | 4 | 2 | 1 | 0 |\n",
       "\n"
      ],
      "text/plain": [
       "  Subject TRT WeekH Time Heal\n",
       "1 1       3   0     0    0   \n",
       "2 1       3   0     1    0   \n",
       "3 1       3   0     2    0   \n",
       "4 1       3   0     4    0   \n",
       "5 2       4   2     0    0   \n",
       "6 2       4   2     1    0   "
      ]
     },
     "metadata": {},
     "output_type": "display_data"
    }
   ],
   "source": [
    "# reshape the data into \"long\" direction\n",
    "Dat <- dat %>%\n",
    "      pivot_longer(cols = starts_with('Time'),   # 변환할 변수 열  지정, DBP1:DBP5  \n",
    "               names_to = \"Time\",               # 변환할 변수명을 값으로 하는 열 이름\n",
    "               values_to = \"Heal\",               # 변환할 변수들의 값을 저장할 열 이름\n",
    "               names_prefix='Time')              # 접두사제거(prefix)\n",
    "head(Dat)"
   ]
  },
  {
   "cell_type": "code",
   "execution_count": 29,
   "metadata": {
    "id": "s5YYP_Tw8S2j"
   },
   "outputs": [
    {
     "data": {
      "text/html": [
       "<table>\n",
       "<caption>A tibble: 6 × 5</caption>\n",
       "<thead>\n",
       "\t<tr><th scope=col>Subject</th><th scope=col>TRT</th><th scope=col>WeekH</th><th scope=col>Time</th><th scope=col>Heal</th></tr>\n",
       "\t<tr><th scope=col>&lt;int&gt;</th><th scope=col>&lt;fct&gt;</th><th scope=col>&lt;int&gt;</th><th scope=col>&lt;fct&gt;</th><th scope=col>&lt;int&gt;</th></tr>\n",
       "</thead>\n",
       "<tbody>\n",
       "\t<tr><td>1</td><td>3</td><td>0</td><td>1</td><td>0</td></tr>\n",
       "\t<tr><td>1</td><td>3</td><td>0</td><td>2</td><td>0</td></tr>\n",
       "\t<tr><td>1</td><td>3</td><td>0</td><td>4</td><td>0</td></tr>\n",
       "\t<tr><td>2</td><td>4</td><td>2</td><td>1</td><td>0</td></tr>\n",
       "\t<tr><td>2</td><td>4</td><td>2</td><td>2</td><td>1</td></tr>\n",
       "\t<tr><td>2</td><td>4</td><td>2</td><td>4</td><td>1</td></tr>\n",
       "</tbody>\n",
       "</table>\n"
      ],
      "text/latex": [
       "A tibble: 6 × 5\n",
       "\\begin{tabular}{lllll}\n",
       " Subject & TRT & WeekH & Time & Heal\\\\\n",
       " <int> & <fct> & <int> & <fct> & <int>\\\\\n",
       "\\hline\n",
       "\t 1 & 3 & 0 & 1 & 0\\\\\n",
       "\t 1 & 3 & 0 & 2 & 0\\\\\n",
       "\t 1 & 3 & 0 & 4 & 0\\\\\n",
       "\t 2 & 4 & 2 & 1 & 0\\\\\n",
       "\t 2 & 4 & 2 & 2 & 1\\\\\n",
       "\t 2 & 4 & 2 & 4 & 1\\\\\n",
       "\\end{tabular}\n"
      ],
      "text/markdown": [
       "\n",
       "A tibble: 6 × 5\n",
       "\n",
       "| Subject &lt;int&gt; | TRT &lt;fct&gt; | WeekH &lt;int&gt; | Time &lt;fct&gt; | Heal &lt;int&gt; |\n",
       "|---|---|---|---|---|\n",
       "| 1 | 3 | 0 | 1 | 0 |\n",
       "| 1 | 3 | 0 | 2 | 0 |\n",
       "| 1 | 3 | 0 | 4 | 0 |\n",
       "| 2 | 4 | 2 | 1 | 0 |\n",
       "| 2 | 4 | 2 | 2 | 1 |\n",
       "| 2 | 4 | 2 | 4 | 1 |\n",
       "\n"
      ],
      "text/plain": [
       "  Subject TRT WeekH Time Heal\n",
       "1 1       3   0     1    0   \n",
       "2 1       3   0     2    0   \n",
       "3 1       3   0     4    0   \n",
       "4 2       4   2     1    0   \n",
       "5 2       4   2     2    1   \n",
       "6 2       4   2     4    1   "
      ]
     },
     "metadata": {},
     "output_type": "display_data"
    }
   ],
   "source": [
    "Dat   <- Dat %>% \n",
    "            arrange(Subject) %>%   # sort the data by Subject: very important for gee\n",
    "            filter(Time != '0')  %>%  # Remove the baseline for model fitting\n",
    "            mutate( TRT=as.factor(TRT), Time=as.factor(Time))  # make the TRT and Time as factors\n",
    "head(Dat)"
   ]
  },
  {
   "cell_type": "markdown",
   "metadata": {
    "id": "2aMnunsn-_XD"
   },
   "source": [
    "**Preliminary analysis** using `glm` \n",
    "\n",
    "**Model 1** : logistic regression models with interaction \n",
    "\n",
    "**Model 2** : logistic regression models without interaction "
   ]
  },
  {
   "cell_type": "code",
   "execution_count": 30,
   "metadata": {
    "id": "KayN5mqC_VcL"
   },
   "outputs": [
    {
     "data": {
      "text/html": [
       "<table>\n",
       "<caption>A anova: 2 × 5</caption>\n",
       "<thead>\n",
       "\t<tr><th></th><th scope=col>Resid. Df</th><th scope=col>Resid. Dev</th><th scope=col>Df</th><th scope=col>Deviance</th><th scope=col>Pr(&gt;Chi)</th></tr>\n",
       "\t<tr><th></th><th scope=col>&lt;dbl&gt;</th><th scope=col>&lt;dbl&gt;</th><th scope=col>&lt;dbl&gt;</th><th scope=col>&lt;dbl&gt;</th><th scope=col>&lt;dbl&gt;</th></tr>\n",
       "</thead>\n",
       "<tbody>\n",
       "\t<tr><th scope=row>1</th><td> 999</td><td>1185.762</td><td>NA</td><td>       NA</td><td>       NA</td></tr>\n",
       "\t<tr><th scope=row>2</th><td>1005</td><td>1195.513</td><td>-6</td><td>-9.751716</td><td>0.1355047</td></tr>\n",
       "</tbody>\n",
       "</table>\n"
      ],
      "text/latex": [
       "A anova: 2 × 5\n",
       "\\begin{tabular}{r|lllll}\n",
       "  & Resid. Df & Resid. Dev & Df & Deviance & Pr(>Chi)\\\\\n",
       "  & <dbl> & <dbl> & <dbl> & <dbl> & <dbl>\\\\\n",
       "\\hline\n",
       "\t1 &  999 & 1185.762 & NA &        NA &        NA\\\\\n",
       "\t2 & 1005 & 1195.513 & -6 & -9.751716 & 0.1355047\\\\\n",
       "\\end{tabular}\n"
      ],
      "text/markdown": [
       "\n",
       "A anova: 2 × 5\n",
       "\n",
       "| <!--/--> | Resid. Df &lt;dbl&gt; | Resid. Dev &lt;dbl&gt; | Df &lt;dbl&gt; | Deviance &lt;dbl&gt; | Pr(&gt;Chi) &lt;dbl&gt; |\n",
       "|---|---|---|---|---|---|\n",
       "| 1 |  999 | 1185.762 | NA |        NA |        NA |\n",
       "| 2 | 1005 | 1195.513 | -6 | -9.751716 | 0.1355047 |\n",
       "\n"
      ],
      "text/plain": [
       "  Resid. Df Resid. Dev Df Deviance  Pr(>Chi) \n",
       "1  999      1185.762   NA        NA        NA\n",
       "2 1005      1195.513   -6 -9.751716 0.1355047"
      ]
     },
     "metadata": {},
     "output_type": "display_data"
    }
   ],
   "source": [
    "mod1glm = glm(Heal~TRT*Time, family=binomial, Dat)    # fit Model 1: with interaction\n",
    "mod2glm = glm(Heal~TRT+Time, family=binomial, data=Dat)  # fit Model 2: without interaction\n",
    "\n",
    "anova(mod1glm,mod2glm, test=\"Chi\")   # test these two model using Chi-Square test"
   ]
  },
  {
   "cell_type": "markdown",
   "metadata": {
    "id": "eleCYlzI_d6b"
   },
   "source": [
    "TRT-by-Time interaction effect is not statistically significant (*p*-value =0.1355) $\\rightarrow$ Model 2 selected "
   ]
  },
  {
   "cell_type": "code",
   "execution_count": 31,
   "metadata": {
    "id": "XDgRX6IXEglj"
   },
   "outputs": [
    {
     "data": {
      "text/plain": [
       "\n",
       "Call:\n",
       "glm(formula = Heal ~ TRT + Time, family = binomial, data = Dat)\n",
       "\n",
       "Deviance Residuals: \n",
       "    Min       1Q   Median       3Q      Max  \n",
       "-1.5732  -0.9694  -0.6155   0.9758   2.0883  \n",
       "\n",
       "Coefficients:\n",
       "            Estimate Std. Error z value Pr(>|z|)    \n",
       "(Intercept)  -2.0606     0.2048 -10.060  < 2e-16 ***\n",
       "TRT2          0.4929     0.2095   2.353  0.01862 *  \n",
       "TRT3          0.6762     0.2076   3.257  0.00112 ** \n",
       "TRT4          0.8929     0.2036   4.386 1.15e-05 ***\n",
       "Time2         1.0564     0.1813   5.825 5.69e-09 ***\n",
       "Time4         2.0625     0.1829  11.277  < 2e-16 ***\n",
       "---\n",
       "Signif. codes:  0 '***' 0.001 '**' 0.01 '*' 0.05 '.' 0.1 ' ' 1\n",
       "\n",
       "(Dispersion parameter for binomial family taken to be 1)\n",
       "\n",
       "    Null deviance: 1361.3  on 1010  degrees of freedom\n",
       "Residual deviance: 1195.5  on 1005  degrees of freedom\n",
       "AIC: 1207.5\n",
       "\n",
       "Number of Fisher Scoring iterations: 4\n"
      ]
     },
     "metadata": {},
     "output_type": "display_data"
    }
   ],
   "source": [
    "summary(mod2glm)"
   ]
  },
  {
   "cell_type": "markdown",
   "metadata": {
    "id": "Fi3yJ0cEEkMC"
   },
   "source": [
    "- `Time` and `TRT` are statistically significant.\n",
    "\n",
    "**Multiple comparison** using `Tukey`-test"
   ]
  },
  {
   "cell_type": "code",
   "execution_count": 40,
   "metadata": {
    "id": "XCHq0zM6E8a6"
   },
   "outputs": [],
   "source": [
    "library(multcomp) # load the ``multcomp\" library"
   ]
  },
  {
   "cell_type": "code",
   "execution_count": 33,
   "metadata": {
    "id": "aU_HgvASE4AK"
   },
   "outputs": [
    {
     "data": {
      "text/plain": [
       "\n",
       "\t Simultaneous Tests for General Linear Hypotheses\n",
       "\n",
       "Multiple Comparisons of Means: Tukey Contrasts\n",
       "\n",
       "\n",
       "Fit: glm(formula = Heal ~ TRT + Time, family = binomial, data = Dat)\n",
       "\n",
       "Linear Hypotheses:\n",
       "                 Estimate Std. Error z value Pr(>|z|)    \n",
       "TRT: 2 - 1 == 0    0.4929     0.2095   2.353  0.13040    \n",
       "TRT: 3 - 1 == 0    0.6762     0.2076   3.257  0.00954 ** \n",
       "TRT: 4 - 1 == 0    0.8929     0.2036   4.386  < 0.001 ***\n",
       "TRT: 3 - 2 == 0    0.1833     0.1961   0.935  0.91780    \n",
       "TRT: 4 - 2 == 0    0.4000     0.1915   2.089  0.23360    \n",
       "TRT: 4 - 3 == 0    0.2167     0.1889   1.147  0.82418    \n",
       "Time: 2 - 1 == 0   1.0564     0.1813   5.825  < 0.001 ***\n",
       "Time: 4 - 1 == 0   2.0625     0.1829  11.277  < 0.001 ***\n",
       "Time: 4 - 2 == 0   1.0061     0.1611   6.246  < 0.001 ***\n",
       "---\n",
       "Signif. codes:  0 '***' 0.001 '**' 0.01 '*' 0.05 '.' 0.1 ' ' 1\n",
       "(Adjusted p values reported -- single-step method)\n"
      ]
     },
     "metadata": {},
     "output_type": "display_data"
    }
   ],
   "source": [
    "# multiple comparisons\n",
    "glht.mod2glm = glht(mod2glm, mcp(TRT=\"Tukey\", Time=\"Tukey\"))\n",
    "summary(glht.mod2glm)"
   ]
  },
  {
   "cell_type": "markdown",
   "metadata": {
    "id": "xU-2pz-mFFHy"
   },
   "source": [
    "- the healing rates differ across time poitns in a statistically significant manner\n",
    "> $\\rightarrow$ ulcer healing is significant between weeks 2 and 1 (*p*-value< 0.001), weeks 4 and 1 (*p*-value< 0.001), and weeks 4 and 2 (*p*-value< 0.001)\n",
    "- statistically significant differences between treatments 3 and 1 (*p*-value=0.0094) and between treatments 4 to 1 (*p*-value< 0.001)only \n",
    "> $\\rightarrow$ 800 mg C and 1600 mg C are statistically more effective than Placebo in ulcer healing\n",
    "\n",
    "- no statistically significant difference exists for other treatment comparison."
   ]
  },
  {
   "cell_type": "markdown",
   "metadata": {
    "id": "GAZ_D0uuGQgi"
   },
   "source": [
    "**6.3.2.3 Fit Genralized Linear Mixed Model**\n",
    "- variability among patients in terms of ulcer healing\n",
    "\n",
    "**Model 3** : the generalized mixed effects model (GLMM)\n",
    "\n",
    "- penalized quasi-likelihood methods in R using `MASS` library for illustration"
   ]
  },
  {
   "cell_type": "code",
   "execution_count": 34,
   "metadata": {
    "id": "BVWyDwsqGwuY"
   },
   "outputs": [],
   "source": [
    "library(MASS)   # load MASS library"
   ]
  },
  {
   "cell_type": "code",
   "execution_count": 35,
   "metadata": {
    "id": "F-079vcPG1X6"
   },
   "outputs": [
    {
     "name": "stderr",
     "output_type": "stream",
     "text": [
      "iteration 1\n",
      "\n",
      "iteration 2\n",
      "\n",
      "iteration 3\n",
      "\n",
      "iteration 4\n",
      "\n",
      "iteration 5\n",
      "\n"
     ]
    },
    {
     "data": {
      "text/plain": [
       "Linear mixed-effects model fit by maximum likelihood\n",
       " Data: Dat \n",
       "  AIC BIC logLik\n",
       "   NA  NA     NA\n",
       "\n",
       "Random effects:\n",
       " Formula: ~1 | Subject\n",
       "        (Intercept)  Residual\n",
       "StdDev:    1.634956 0.8121881\n",
       "\n",
       "Variance function:\n",
       " Structure: fixed weights\n",
       " Formula: ~invwt \n",
       "Fixed effects: Heal ~ TRT \n",
       "                 Value Std.Error  DF   t-value p-value\n",
       "(Intercept) -1.1920566 0.2458200 674 -4.849307  0.0000\n",
       "TRT2         0.6026542 0.3318616 333  1.815981  0.0703\n",
       "TRT3         0.8273113 0.3273104 333  2.527605  0.0119\n",
       "TRT4         1.0471522 0.3212941 333  3.259170  0.0012\n",
       " Correlation: \n",
       "     (Intr) TRT2   TRT3  \n",
       "TRT2 -0.741              \n",
       "TRT3 -0.751  0.556       \n",
       "TRT4 -0.765  0.567  0.575\n",
       "\n",
       "Standardized Within-Group Residuals:\n",
       "       Min         Q1        Med         Q3        Max \n",
       "-1.5590734 -0.4933567 -0.3896715  0.6307607  1.8648790 \n",
       "\n",
       "Number of Observations: 1011\n",
       "Number of Groups: 337 "
      ]
     },
     "metadata": {},
     "output_type": "display_data"
    }
   ],
   "source": [
    "mod3glm = glmmPQL(Heal~TRT, random=~1|Subject, family=binomial, Dat)  # fit the Model 3\n",
    "summary(mod3glm)"
   ]
  },
  {
   "cell_type": "markdown",
   "metadata": {
    "id": "KXGFJiY-G7f6"
   },
   "source": [
    "Model 3 \n",
    "- fit treatment effect incorporating the longitudinal nature (i.e. Time) of the data with a generalized linear model\n",
    "- statistically significant treatment effect \n",
    "- estimated standard deviation \n",
    "  - due to patients= 1.635  \n",
    "  - due to residuals =  0.812"
   ]
  },
  {
   "cell_type": "markdown",
   "metadata": {
    "id": "y2vvEUbsHxFL"
   },
   "source": [
    "**Model 4** : binomial logistic regression "
   ]
  },
  {
   "cell_type": "code",
   "execution_count": 36,
   "metadata": {
    "id": "XGzK0xs6H3_a"
   },
   "outputs": [
    {
     "data": {
      "text/plain": [
       "\n",
       "Call:\n",
       "glm(formula = Heal ~ TRT, family = binomial, data = Dat)\n",
       "\n",
       "Deviance Residuals: \n",
       "    Min       1Q   Median       3Q      Max  \n",
       "-1.1321  -1.0561  -0.8342   1.3038   1.5650  \n",
       "\n",
       "Coefficients:\n",
       "            Estimate Std. Error z value Pr(>|z|)    \n",
       "(Intercept)  -0.8767     0.1454  -6.030 1.64e-09 ***\n",
       "TRT2          0.4275     0.1950   2.193  0.02834 *  \n",
       "TRT3          0.5845     0.1928   3.032  0.00243 ** \n",
       "TRT4          0.7691     0.1885   4.081 4.48e-05 ***\n",
       "---\n",
       "Signif. codes:  0 '***' 0.001 '**' 0.01 '*' 0.05 '.' 0.1 ' ' 1\n",
       "\n",
       "(Dispersion parameter for binomial family taken to be 1)\n",
       "\n",
       "    Null deviance: 1361.3  on 1010  degrees of freedom\n",
       "Residual deviance: 1343.2  on 1007  degrees of freedom\n",
       "AIC: 1351.2\n",
       "\n",
       "Number of Fisher Scoring iterations: 4\n"
      ]
     },
     "metadata": {},
     "output_type": "display_data"
    }
   ],
   "source": [
    "mod4glm = glm(Heal~TRT, family=binomial, Dat)\n",
    "summary(mod4glm)"
   ]
  },
  {
   "cell_type": "markdown",
   "metadata": {
    "id": "gAtq3eofH6y6"
   },
   "source": [
    "- the same conclusion for treatment effect\n",
    "- residual deviation = 1343.2 with df=1007 $\\rightarrow$ estimated standard deviation for residuals =$\\sqrt{1343.2/1007}=1.155$ > 0.812 from GLMM"
   ]
  },
  {
   "cell_type": "markdown",
   "metadata": {
    "id": "hc3RabnNIb5i"
   },
   "source": [
    "**6.3.2.4 Fit GEE**\n",
    "\n",
    "The generalized estimation equation using R library `gee`\n",
    "\n",
    "**independence model** ( *fit.gee1*)\n",
    "  - assume that responsed are independent over time (binomial logistic regression in *mod4glm*)\n",
    "  -  the *GEE* assuming independent patient effects to reproduce the binomial logistic regression\n"
   ]
  },
  {
   "cell_type": "code",
   "execution_count": 41,
   "metadata": {
    "id": "aS7LG54_I1si"
   },
   "outputs": [],
   "source": [
    "#install.packages('gee')\n",
    "library(gee)  # load the ``gee\" library"
   ]
  },
  {
   "cell_type": "code",
   "execution_count": 38,
   "metadata": {
    "id": "Bo-KWvoDI7Ii"
   },
   "outputs": [
    {
     "name": "stderr",
     "output_type": "stream",
     "text": [
      "Beginning Cgee S-function, @(#) geeformula.q 4.13 98/01/27\n",
      "\n",
      "running glm to get initial regression estimate\n",
      "\n"
     ]
    },
    {
     "name": "stdout",
     "output_type": "stream",
     "text": [
      "(Intercept)        TRT2        TRT3        TRT4 \n",
      " -0.8767117   0.4275422   0.5844530   0.7690811 \n"
     ]
    },
    {
     "data": {
      "text/plain": [
       "\n",
       " GEE:  GENERALIZED LINEAR MODELS FOR DEPENDENT DATA\n",
       " gee S-function, version 4.13 modified 98/01/27 (1998) \n",
       "\n",
       "Model:\n",
       " Link:                      Logit \n",
       " Variance to Mean Relation: Binomial \n",
       " Correlation Structure:     Independent \n",
       "\n",
       "Call:\n",
       "gee(formula = Heal ~ TRT, id = Subject, data = Dat, family = binomial, \n",
       "    corstr = \"independence\", scale.fix = T)\n",
       "\n",
       "Summary of Residuals:\n",
       "       Min         1Q     Median         3Q        Max \n",
       "-0.4731183 -0.4274510 -0.2938596  0.5725490  0.7061404 \n",
       "\n",
       "\n",
       "Coefficients:\n",
       "              Estimate Naive S.E.   Naive z Robust S.E.  Robust z\n",
       "(Intercept) -0.8767117  0.1453842 -6.030311   0.2195906 -3.992483\n",
       "TRT2         0.4275422  0.1949994  2.192530   0.2799097  1.527429\n",
       "TRT3         0.5844530  0.1927698  3.031871   0.2676607  2.183559\n",
       "TRT4         0.7690811  0.1884543  4.080995   0.2666362  2.884383\n",
       "\n",
       "Estimated Scale Parameter:  1\n",
       "Number of Iterations:  1\n",
       "\n",
       "Working Correlation\n",
       "     [,1] [,2] [,3]\n",
       "[1,]    1    0    0\n",
       "[2,]    0    1    0\n",
       "[3,]    0    0    1"
      ]
     },
     "metadata": {},
     "output_type": "display_data"
    }
   ],
   "source": [
    " # fit the gee model with independent patient effect\n",
    "fit.gee1 = gee(Heal~TRT,id=Subject,family=binomial, data=Dat,corstr=\"independence\", scale.fix=T) \n",
    "summary(fit.gee1)"
   ]
  },
  {
   "cell_type": "markdown",
   "metadata": {
    "id": "kvhZDx8yJLnS"
   },
   "source": [
    "- comparison of  *fit.gee1* and *mod4glm*\n",
    "  - model estimates and Naive SE are reproduced\n",
    "- `Robust SE` and `Robust z` are adjusted using *sandwich estimator*\n",
    "- `Robust Standard Errors` are larger than those from the GLMs $\\rightarrow$ indepdence assumption is not reasonable\n",
    "\n",
    "**Model 2** : **exchangeable correlation structure** assumed "
   ]
  },
  {
   "cell_type": "code",
   "execution_count": 39,
   "metadata": {
    "id": "dRbjW3xJLD_q"
   },
   "outputs": [
    {
     "name": "stderr",
     "output_type": "stream",
     "text": [
      "Beginning Cgee S-function, @(#) geeformula.q 4.13 98/01/27\n",
      "\n",
      "running glm to get initial regression estimate\n",
      "\n"
     ]
    },
    {
     "name": "stdout",
     "output_type": "stream",
     "text": [
      "(Intercept)        TRT2        TRT3        TRT4 \n",
      " -0.8767117   0.4275422   0.5844530   0.7690811 \n"
     ]
    },
    {
     "data": {
      "text/plain": [
       "\n",
       " GEE:  GENERALIZED LINEAR MODELS FOR DEPENDENT DATA\n",
       " gee S-function, version 4.13 modified 98/01/27 (1998) \n",
       "\n",
       "Model:\n",
       " Link:                      Logit \n",
       " Variance to Mean Relation: Binomial \n",
       " Correlation Structure:     Exchangeable \n",
       "\n",
       "Call:\n",
       "gee(formula = Heal ~ TRT, id = Subject, data = Dat, family = binomial, \n",
       "    corstr = \"exchangeable\", scale.fix = T)\n",
       "\n",
       "Summary of Residuals:\n",
       "       Min         1Q     Median         3Q        Max \n",
       "-0.4731183 -0.4274510 -0.2938596  0.5725490  0.7061404 \n",
       "\n",
       "\n",
       "Coefficients:\n",
       "              Estimate Naive S.E.   Naive z Robust S.E.  Robust z\n",
       "(Intercept) -0.8767117  0.1929618 -4.543447   0.2195906 -3.992483\n",
       "TRT2         0.4275422  0.2588139  1.651929   0.2799097  1.527429\n",
       "TRT3         0.5844530  0.2558546  2.284317   0.2676607  2.183559\n",
       "TRT4         0.7690811  0.2501269  3.074764   0.2666362  2.884383\n",
       "\n",
       "Estimated Scale Parameter:  1\n",
       "Number of Iterations:  1\n",
       "\n",
       "Working Correlation\n",
       "          [,1]      [,2]      [,3]\n",
       "[1,] 1.0000000 0.3808025 0.3808025\n",
       "[2,] 0.3808025 1.0000000 0.3808025\n",
       "[3,] 0.3808025 0.3808025 1.0000000"
      ]
     },
     "metadata": {},
     "output_type": "display_data"
    }
   ],
   "source": [
    "fit.gee2 = gee(Heal~TRT,id=Subject,family=binomial, data=Dat,corstr=\"exchangeable\", scale.fix=T)\n",
    "summary(fit.gee2)"
   ]
  },
  {
   "cell_type": "markdown",
   "metadata": {
    "id": "edpw0FppLHeA"
   },
   "source": [
    "- correlation structure : compound symmetry structure\n",
    "  - naive  and robust SEs are quite close\n",
    "  > $\\rightarrow$ exchangeable structure assumption is adequate for the repeated measurements in this dataset\n",
    "  - estmated correlation=0.38\n",
    "- Naive $z$-values for TRT2 (400 mg C) = 1.652\n",
    "- Robust $z$-values for TRT2 (400 mg C) = 1.527\n",
    "- statisically significant difference between 800 mg C and Placebo 1600 mg C from both Naive and Robust $z$-values"
   ]
  }
 ],
 "metadata": {
  "colab": {
   "collapsed_sections": [],
   "name": "CTDA_Chapter 6.ipynb",
   "provenance": []
  },
  "kernelspec": {
   "display_name": "R",
   "language": "R",
   "name": "ir"
  },
  "language_info": {
   "codemirror_mode": "r",
   "file_extension": ".r",
   "mimetype": "text/x-r-source",
   "name": "R",
   "pygments_lexer": "r",
   "version": "3.6.1"
  }
 },
 "nbformat": 4,
 "nbformat_minor": 1
}
