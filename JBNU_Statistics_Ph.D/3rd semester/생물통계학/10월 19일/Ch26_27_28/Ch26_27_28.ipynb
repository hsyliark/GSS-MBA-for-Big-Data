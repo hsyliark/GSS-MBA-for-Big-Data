{
 "cells": [
  {
   "cell_type": "markdown",
   "id": "89deddfe",
   "metadata": {
    "id": "89deddfe"
   },
   "source": [
    "# Part 5 기초적인 자료분석 방법"
   ]
  },
  {
   "cell_type": "markdown",
   "id": "c73fd2ef",
   "metadata": {
    "id": "c73fd2ef"
   },
   "source": [
    "## Chapter 26 상관"
   ]
  },
  {
   "cell_type": "markdown",
   "id": "89ad2147",
   "metadata": {
    "id": "89ad2147"
   },
   "source": [
    "### 서론"
   ]
  },
  {
   "cell_type": "markdown",
   "id": "968af94e",
   "metadata": {
    "id": "968af94e"
   },
   "source": [
    "`-` 상관분석(correlation analysis): 두 **연속형** 변수 $x$와 $y$ 간의 관련성 크기를 평가하기 위한 분석 방법\n",
    "- n명의 사람들을 대상으로 측정된, 짝을 이룬 값 $(x, y)$가 있다고 가정하면, **산점도(scatter diagram)**을 이용하면 이차원 평면에서 표시 가능\n",
    "- 산점도를 이용하면 두 변수 간의 관련성을 한 눈에 파악 가능\n"
   ]
  },
  {
   "cell_type": "markdown",
   "id": "8fc2f144",
   "metadata": {
    "id": "8fc2f144"
   },
   "source": [
    "### 피어슨 상관계수(Pearson correlation coefficient)"
   ]
  },
  {
   "cell_type": "markdown",
   "id": "6bddac17",
   "metadata": {
    "id": "6bddac17"
   },
   "source": [
    "`-` **선형 관계(linear relationship)**: 산점도에 표시된 점들의 중간을 가로지르는 직선이 변수 $x$와 $y$ 간의 관계를 가장 잘 표현해주는 상황일 때 변수 $x$와 $y$는 선형 관계를 가진다고 말함"
   ]
  },
  {
   "cell_type": "markdown",
   "id": "4be03292",
   "metadata": {
    "id": "4be03292"
   },
   "source": [
    "`-` **피어슨 적률상관계수(Pearson product moment correlation coefficient, 피어슨 상관계수)**: 관찰값들이 두 변수들 간 선형적인 관계를 설명해주는 직선에 얼마나 가까운지를 나타내 주는 척도\n",
    "- 모집단에서는 $\\rho$로, 표본의 상관계수는 $r$로 표현\n",
    "$$r~=~\\frac{\\Sigma(x-\\bar{x})(x-\\bar{y})}{\\sqrt{\\Sigma{(x-\\bar{x})^2(x-\\bar{y})^2}}}$$"
   ]
  },
  {
   "cell_type": "markdown",
   "id": "70ce1d65",
   "metadata": {
    "id": "70ce1d65"
   },
   "source": [
    "`-` 특성\n",
    "- $r$의 범위는 -1에서 +1 사이\n",
    "- $r$의 **부호(sign)**가 양수이면 한 변수가 증가함에 따라 다른 변수도 증가함을, 음수이면 한 변수가 증가함에 따라 다른 변수는 감소함을 의미함\n",
    "- $r$의 **크기(magnitude)**는 점들이 직선에 얼마나 가까운지 나타냄. \n",
    "  - 만일 $r$ = +1이거나 -1이면 두 변수 x와 y가 완전한 상관(perfect correlation)관계에 있음을 의미함. 만일 $r$ = 0이면 두 변수 간 선형적인 관계가 없다는 것을 의미\n",
    "  - $r$값이 -1이나 +1에 가까우면 가까울수록 $x$와 $y$간의 선형적인 관련성 정도는 더 커지게 된다. \n",
    "\n",
    "![](img1.png)\n",
    "\n",
    "- $r$은 측정 단위(measurement unit)가 없음\n",
    "- $r$은 변수 $x$와 $y$의 표본들이 취하는 범위 내에서 의미.\n",
    "- 변수 $x$와 $y$의 역할을 바꿔도 $r$의 값은 변하지 않음\n",
    "- 변수 $x$와 $y$간의 상관이 반드시 이들 두 변수 간의 '인과관계'를 의미하지는 않음\n",
    "- $r^2$은 변수 $y$가 취하는 변동량 중 $x$와 $y$간의 선형관계로 설명될 수 있는 비율 의미"
   ]
  },
  {
   "cell_type": "markdown",
   "id": "6fc367c2",
   "metadata": {
    "id": "6fc367c2"
   },
   "source": [
    "`-` $r$값을 계산해서는 안 되는 상황들\n",
    "- 두 변수 간 비선형적 관계가 존재하는 경우 (26.2a)\n",
    "- 한 사람에게서 하나 이상의 관찰값들을 관찰한 경우\n",
    "- 하나 이상의 이상값이 존재하는 경우 (26.2b)\n",
    "- 자료가 두 개 이상의 부집단들로 구성되어 있으며, 두 변수 중 최소 하나에서 각 부집단 내 관찰값들의 평균이 서로 다른 경우 (26.2c)\n",
    "\n",
    "![](img2.png)"
   ]
  },
  {
   "cell_type": "markdown",
   "id": "15723cce",
   "metadata": {
    "id": "15723cce"
   },
   "source": [
    "`-` 피어슨 상관계수에 대한 가설검정\n",
    "- 가정: 서로 독립적인 $n$개의 $x$와 $y$값들 짝으로 이루어지고, 두 변수 중 최소한 하나는 정규분포를 띈다고 가정\n",
    "1. 해당 연구에 관한 귀무가설과 대립가설을 설정\n",
    "  - $H_0$: 모집단에서 두 변수 간에 선형적인 관계가 없다. (즉, $\\rho$ = 0)\n",
    "  - $H_1$: 모집단에서 두 변수 간에 선형적인 관계가 있다. (즉, $\\rho \\not= $ 0)\n",
    "2. 표본으로부터 자료를 수집하고 적절한 통계량들을 계산\n",
    "  - 자료로부터 검정에 필요한 통계량들($n, r$)을 계산한다.\n",
    "3. $H_0$에 해당하는 검정통계량 값을 계산\n",
    "  - $n$ ≤ 150 :  $r$\n",
    "  - $n$ > 150 :   $t~=~r\\sqrt{\\frac{n-2}{1-r^2}}\\sim$자유도 $n - 2$인 $t$-분포 ($H_0$하에서).\n",
    "4. 검정통계량 값을 알려진 확률분포의 값과 비교\n",
    "5. $P$-value를 해석하고 결론을 내림\n",
    "  \n",
    "- $\\rho$에 대한 95% 신뢰구간\n",
    "  - 두 변수 $x$와 $y$ 모두 근사적으로 정규분포를 하고 있는 경우\n",
    "$$\\bigg(\\frac{e^{2z_1}-1}{e^{2z_1}+1},~\\frac{e^{2z_2}-1}{e^{2z_2}+1}\\bigg)$$\n",
    "    - 여기서 $z_1 = z - \\frac{1.96}{\\sqrt{n-3}},~z_2 = z + \\frac{1.96}{\\sqrt{n-3}}$, 그리고 $z=\\frac{1}{2}\\ln(\\frac{1+r}{1-r})$이다.\n",
    "  \n",
    "- 표본 수가 크면, 비록 $r$이 0에 아주 가깝다고 할지라도, $H_0$는 기각 될 수 있다.\n",
    "- 표본 수가 작으면, $r$이 큰 경우에도, $H_0$는 기각되지 않을 수 있다.\n",
    "- 따라서 상관분석 시, $r^2$(한 변수의 전체 분산 중 다른 변수와의 선형관계로 인해 설명될 수 있는 비율)을 계산해보는 것은 중요하다.\n",
    "> 예를 들어, $r$ = 0.4, $n$ = 25이면 $r$이 크지 않아도 $P$ < 0.05가 됨. 하지만 두 변수 간 선형적인 관계는 한 변수의 변동량 중 단지 16%($0.4^2$ X 100%)만을 설명"
   ]
  },
  {
   "cell_type": "markdown",
   "id": "fdb0d7e5",
   "metadata": {
    "id": "fdb0d7e5"
   },
   "source": [
    "### 스페어만의 순위상관계수(Spearman's rank correlation coefficient)"
   ]
  },
  {
   "cell_type": "markdown",
   "id": "72362af4",
   "metadata": {
    "id": "72362af4"
   },
   "source": [
    "`-` 다음 경우에는 비모수적 방법인 **스페어만의 순위상관계수**이용.\n",
    "- 변수 $x$와 $y$ 중 최소한 하나가 순서형 척도(ordinal scale)로 측정된 경우\n",
    "- 변수 $x$와 $y$ 둘 다 정규분포를 하지 않은 경우\n",
    "- 표본 수가 적은 경우\n",
    "- 두 변수 간 관계가 선형적인지 아닌 상태에서 두 변수 간의 관련성을 측정하고 싶을 때"
   ]
  },
  {
   "cell_type": "markdown",
   "id": "f700a9cd",
   "metadata": {
    "id": "f700a9cd"
   },
   "source": [
    "`-` 계산방법\n",
    "1. 변수 $x$의 값을 크기 순으로 정렬한 뒤 순위를 매김. 동일 순위는 평균 순위 할당.\n",
    "2. 변수 $y$의 값들에 대해서도 동일한 방식 적용.\n",
    "3. $x$와 $y$ 짝의 순위들을 사용해 피어슨 상관계수를 계산"
   ]
  },
  {
   "cell_type": "markdown",
   "id": "7f78e173",
   "metadata": {
    "id": "7f78e173"
   },
   "source": [
    "`-` 특성 및 가설검정\n",
    "\n",
    "- 아래의 경우를 제외하고는 피어슨 상관계수에 관한 특성 및 가설검정 방법이 스페어만의 순위상관계수에 대해서도 동일하게 적용됨\n",
    "  - $r_s$는 단지 $x$와 $y$간의 관련성만을 나타내는 척도. 즉, 반드시 선형적인 관령성일 필요는 없다.\n",
    "  - $\\rho_s$ = 0에 관한 가설검정 시, 만일 표본 수가 10보다 작거나 같으면 부록 표 A11을 사용\n",
    "  - $\\rho_s^2$은 계산할 필요가 없다 (이 값은 더 이상 한 변수의 전체 변동량 중 다른 변수와의 선형 관계로 인해 설명될 수 있는 비율을 의미하지 않음)"
   ]
  },
  {
   "cell_type": "markdown",
   "id": "781c24af",
   "metadata": {
    "id": "781c24af"
   },
   "source": [
    "![](img3.png)"
   ]
  },
  {
   "cell_type": "markdown",
   "id": "25bf8186",
   "metadata": {
    "id": "25bf8186"
   },
   "source": [
    "## Chapter 27 선형회귀 이론"
   ]
  },
  {
   "cell_type": "markdown",
   "id": "331be05d",
   "metadata": {
    "id": "331be05d"
   },
   "source": [
    "### 선형회귀(linear regression)"
   ]
  },
  {
   "cell_type": "markdown",
   "id": "825fe6d8",
   "metadata": {
    "id": "825fe6d8"
   },
   "source": [
    "`-` **선형회귀직선(linear regression line)**: 앞 챕터에서 말했던 두 변수 간 선형적 관계를 가장 잘 설명해주는 직선, **$x$에 대한 $y$의 회귀(the regression of $y$ on $x$)**라 함"
   ]
  },
  {
   "cell_type": "markdown",
   "id": "e85df75e",
   "metadata": {
    "id": "e85df75e"
   },
   "source": [
    "`-` **단변수(univarate), 단순(simple)**: 한 개의 $x$만 사용하는 분석"
   ]
  },
  {
   "cell_type": "markdown",
   "id": "daf2e455",
   "metadata": {
    "id": "daf2e455"
   },
   "source": [
    "`-` **다변수(multivarate), 다중(multiple)**: 두 개 이상의 $x$를 사용하는 분석"
   ]
  },
  {
   "cell_type": "markdown",
   "id": "4a515ab6",
   "metadata": {
    "id": "4a515ab6"
   },
   "source": [
    "### 회귀직선(regression line)"
   ]
  },
  {
   "cell_type": "markdown",
   "id": "548c19ea",
   "metadata": {
    "id": "548c19ea"
   },
   "source": [
    "`-` **단순 선형회귀(simple linear regression)** 직선을 추정하기 위한 수학적인 등식은 다음과 같다\n",
    "$$Y = a + bx$$\n",
    "\n",
    "- $x$는 **독립변수(independent variable), 예측변수(predictor variable) 또는 설명변수(explanatory variable)**이라 함\n",
    "- $Y$는 **종속변수(dependent variable), 결과변수(outcome variable) 또는 반응변수(response variable)**라 함.\n",
    "  - $Y$ = $x$를 사용해 선형회귀식으로 예측한 $y$의 추정값, 추정된 직선 상에 있는 값\n",
    "  - $Y$는 $x$값을 알고 있는 경우에 우리가 기대할 수 있는 $y$의 추정값을 의미, 이를 $y$에 대한 **적합값(fitted value)**라 함.\n",
    "- $a$ **절편(intercept)**; $x = 0$일 때의 $Y$값을 의미\n",
    "- $b$ **기울기(slope)**;  $x$가 한 단위 증가하는 경우에 변화하는 $Y$의 평균적인 증가(혹은 감소)량\n",
    "\n",
    "![](img4.png)"
   ]
  },
  {
   "cell_type": "markdown",
   "id": "74b2593c",
   "metadata": {
    "id": "74b2593c"
   },
   "source": [
    "`-` **회귀계수(regression coefficient)**: $a$와 $b$를 회귀추정식의 회귀계수라 부르며, 때로는 $b$만 회귀계수라 하기도 함 (28장)"
   ]
  },
  {
   "cell_type": "markdown",
   "id": "1ef4cc6f",
   "metadata": {
    "id": "1ef4cc6f"
   },
   "source": [
    "`-` **단변수 선형회귀(univariable linear regression), 단순 선형회귀(simple linear regression)**: 설명 변수가 하나인 경우 (29장)"
   ]
  },
  {
   "cell_type": "markdown",
   "id": "e0fc3fe2",
   "metadata": {
    "id": "e0fc3fe2"
   },
   "source": [
    "`-` **다변수 선형회귀(multivarable linear regression), 다중 선형회귀(multiple linear regression)**: 두 개 이상의 설명변수가 사용되는 경우"
   ]
  },
  {
   "cell_type": "markdown",
   "id": "9ff7b7ae",
   "metadata": {
    "id": "9ff7b7ae"
   },
   "source": [
    "### 최소제곱법(method of least squares)"
   ]
  },
  {
   "cell_type": "markdown",
   "id": "36231b92",
   "metadata": {
    "id": "36231b92"
   },
   "source": [
    "`-` 표본을 사용해 회귀분석을 실시, 따라서 $a$와 $b$는 실제 모수, 즉, 모집단에서의 선형회귀직선을 나타내는 $\\alpha$와 $\\beta$에 대한 추정값"
   ]
  },
  {
   "cell_type": "markdown",
   "id": "9fa05c92",
   "metadata": {
    "id": "9fa05c92"
   },
   "source": [
    "`-` $a$와 $b$는 산점도 위의 점들에 직선 $Y = a + bx$를 가장 최적으로 '적합(fit)'시키는 방법인 **최소제곱법**을 사용해서 추정\n",
    "- **보통 최소제곱법(ordinary least squares, OLS)** 라고 부름\n",
    "- 최소제곱법을 수행하는 방법\n",
    "  1. 잔차(residual, 각 점에서 직선까지의 수직거리, **잔차 = 관찰된 $y$ - 적합된 $Y$)** 를 계산\n",
    "  2. **가장 적합이 잘된 직선(line of best fit)** 이란 이 잔차들의 제곱의 합(sum of squares)을 최소화 해 주는 직선\n",
    "\n",
    "![](img5.png)"
   ]
  },
  {
   "cell_type": "markdown",
   "id": "fd0df150",
   "metadata": {
    "id": "fd0df150"
   },
   "source": [
    "### 필요한 가정들"
   ]
  },
  {
   "cell_type": "markdown",
   "id": "6cfc8b41",
   "metadata": {
    "id": "6cfc8b41"
   },
   "source": [
    "1. **$x$와 $y$간에는 선형적인 관계가 있다.**\n",
    "2. **표본 내에서 관찰값들은 서로 독립**. \n",
    "> 예를 들어, 각 개인 별 하나의 관찰값 짝($x$와 $y$)만을 관찰했다면 관찰값들은 서로 독립\n",
    "3. **각 $x$값 별로 모집단 내 $y$값들은 분포를 가지고 있으며, 이 분포는 정규분포임**, 그리고 $y$값들 분포의 평균 $\\mu$는 모집단 회귀직선 위에 위치\n",
    "4. **모집단에서 $y$값들 분포의 변동은 모든 $x$ 값들에 대해 동일함, 즉, 분산 $\\sigma^2$의 크기는 $x$값들에 상관없이 일정(constant)**\n",
    "5. 변수 y는 정규분포에 따르는 확률변수이지만, **변수 $x$는 오차 없이 측정된 값**, 따라서 변수 $x$의 분포에 대한 가정은 하지 않음\n",
    "\n",
    "![](img6.png)\n",
    "\n",
    "`-` 회귀분석이 요구하는 가정: 특정 $x$값에 대한 모집단 $y$ 값들의 분포와 관련이 있는 가정, 이 가정들은 잔차들을 사용해 검토 가능 (28장)"
   ]
  },
  {
   "cell_type": "markdown",
   "id": "825dc8bc",
   "metadata": {
    "id": "825dc8bc"
   },
   "source": [
    "### 분산분석표(analysis of variance table)"
   ]
  },
  {
   "cell_type": "markdown",
   "id": "4409bd17",
   "metadata": {
    "id": "4409bd17"
   },
   "source": [
    "`-` 설명\n",
    "- **회귀에 의한 변동(variation due to the regression), 회귀로 설명되는 변동(variation explained by the regression)**: 변수 $x$로 인해 발생하는 $y$의 변동\n",
    "  - **모형 변동(model variation), 회귀 변동(regression variation)**이라고 하기도함\n",
    "- **잔차로 인한 변동(variation due to residual), 설명이 불가능한 변동(unexplained variation)**: $y$의 전체 변동 중 나머지 변동 \n",
    "  - **잔차 변동(residual variation), 오차 변동(error variation)**이라고 하기도함\n",
    "  - 잔차 변동은 가능한 한 작을 수록 좋음: 잔차 변동이 작으면 $y$값의 변동량 대부분이 회귀직선에 의해 설명됨, 이는 점들이 직선에 가깝거나 또는 직선 상에 놓여 있다는 의미\n",
    "  - 이런 경우를 **적합이 잘된(good fit)** 직선이라 한다."
   ]
  },
  {
   "cell_type": "markdown",
   "id": "f23aeb46",
   "metadata": {
    "id": "f23aeb46"
   },
   "source": [
    "`-` 목적\n",
    "1. 회귀직선이 자료를 잘 적합 시켜주는 평가 가능\n",
    "  - **결정계수(coefficient)**: $y$의 전체 변동 중 회귀로 설명되는 변동이 차지하는 비율($R^2$으로 표시)\n",
    "  - $R^2$은 회귀직선인 **적합도(goodness of fit)**를 객관적 평가할 수 있는 척도임(백분율 형태로 제시함)\n",
    "\n",
    "2. 모집단 내 회귀직선의 기울기 $\\beta$가 0이라는 **귀무가설($H_0 : \\beta = 0$)**을 검정 할 수 있다\n",
    "  - 검정 결과가 유의 -> 모집단에서 $x$와 $y$간 선형적인 관계가 존재\n",
    "\n",
    "3. **오차분산(error variance)**에 관한 추정값을 얻을 수 있다.\n",
    "  - 절편($H_0 : \\alpha = 0$) or 기울기($H_0 : \\beta = 0$)에 관한 가설검정을 실시 할 때 사용\n",
    "  - 기울기, 절편, 혹은 $y$의 예측값(prediction value, $Y$)에 대한 신뢰구간을 계산할 때에도 사용"
   ]
  },
  {
   "cell_type": "markdown",
   "id": "44dfa808",
   "metadata": {
    "id": "44dfa808"
   },
   "source": [
    "### 평균으로의 회귀(regression to the mean)"
   ]
  },
  {
   "cell_type": "markdown",
   "id": "6fb5d145",
   "metadata": {
    "id": "6fb5d145"
   },
   "source": [
    "`-` **평균으로의 회귀**: 통계학에서 '회귀(回歸, regression)'라는 용어를 사용하게 된 것은 1889년 프란시스 갈튼 경(Sir Francis Galton)이 특정 현상을 설명하기 위해 해당 용어를 사용하면서부터임, 내용은 책 참고"
   ]
  },
  {
   "cell_type": "markdown",
   "id": "e56182b8",
   "metadata": {
    "id": "e56182b8"
   },
   "source": [
    "`-` 평균으로의 회귀현상은 **선별검사(screening, 38장), 임상시험(clinical trial, 14장)** 등에서 쉽게 관찰\n",
    "- 콜레스테롤 수치가 높(낮)은 부집단의 경우, 시간이 지난 후 콜레스테롤 수치의 평균은 처음 측정되었던 평균보다 낮(높)게 나타나게 된다.\n",
    "  - 일반인과 다른 측정치를 보였던 집단은 특별한 중재 없이 연령, 성별이 동일한 일반 인구집단의 평균 값으로 향하게 되는 경향을 보임"
   ]
  },
  {
   "cell_type": "markdown",
   "id": "7cfa8c3a",
   "metadata": {
    "id": "7cfa8c3a"
   },
   "source": [
    "## Chapter 28 선형회귀분석의 실시"
   ]
  },
  {
   "cell_type": "markdown",
   "id": "fdab2ae9",
   "metadata": {
    "id": "fdab2ae9"
   },
   "source": [
    "### 선형회귀직선"
   ]
  },
  {
   "cell_type": "markdown",
   "id": "8d3c4fab",
   "metadata": {
    "id": "8d3c4fab"
   },
   "source": [
    "`-` $x$에 대한 $y$의 회귀선을 추정한다.\n",
    "$$Y = a + bx$$\n",
    "- $Y$는 $y$의 추정된 적합값(fitted value) 또는 예측값(predicted value)\n",
    "- $a$는 추정된 절편, $b$는 추정된 기울기\n",
    "- 기울기 $b$는 $x$의 단위 변화 당 증가(혹은 감소)하는 $Y$의 평균 변화량을 의미"
   ]
  },
  {
   "cell_type": "markdown",
   "id": "0e6eb5f6",
   "metadata": {
    "id": "0e6eb5f6"
   },
   "source": [
    "### 직선 그리기"
   ]
  },
  {
   "cell_type": "markdown",
   "id": "20f4b8fe",
   "metadata": {
    "id": "20f4b8fe"
   },
   "source": [
    "- $Y = a + bx$\n",
    "  1. $x$의 범위 안 값 중 임의로 3개($x_1, x_2, x_3$)를 선택\n",
    "  2. $x_1$에 대응하는 $Y$값, 즉, $Y_1 = a + bx_1$을 구함, 이 때 $Y_1$은 $x_1$에 대한 추정된 적합값, 또한 관찰값인 $y_1$에 대응하는 값임\n",
    "  3. 같은 작업을 반복 후 이들 $Y_1, Y_2, Y_3$ 점들을 연결하면 추정된 회귀직선을 얻음"
   ]
  },
  {
   "cell_type": "markdown",
   "id": "ff9b2856",
   "metadata": {
    "id": "ff9b2856"
   },
   "source": [
    "### 필요한 가정들"
   ]
  },
  {
   "cell_type": "markdown",
   "id": "4730323a",
   "metadata": {
    "id": "4730323a"
   },
   "source": [
    "`-` **잔차(residual)**(=관찰값 $y$ - 적합값 $Y$)를 이용하여  다음 가정 검토.\n",
    "\n",
    "1. **$x$와 $y$의 선형성, linearity**: $x - y$ 그림(근사적으로 직선적인 관계) 또는 $x - residual$ 그림 (특정 패턴없이 무작위로 흩어짐)\n",
    "2. **관찰값들의 독립성, independence**\n",
    "3. **잔차가 평균이 0인 정규성, normality**\n",
    "  - 잔차들에 대한 히스토그램, 줄기와 잎 그림, 상자와 수염 그림 등을 사용: 잔차들의 좌우대칭성 여부\n",
    "  - 정규 그림(normal plot): 정규성 여부 확인\n",
    "4. **잔차들이 $y$의 등분산성, homoscedasticity, constant variance**\n",
    "  - $residual - y$ 그림, 잔차($x$-축) - $y$의 적합값인 $Y$ ($y$-축) 그림.\n",
    "  - 만일 잔차들의 흩어진 형태가 $Y$값이 증가함에 따라 증가 or 감소 시 등분산성 가정은 만족되지 않은 것으로 판단\n",
    "5. **변수 $x$는 오차 없이 측정되었다**고 가정."
   ]
  },
  {
   "cell_type": "markdown",
   "id": "e6526161",
   "metadata": {
    "id": "e6526161"
   },
   "source": [
    "### 가정이 만족되지 않은 경우"
   ]
  },
  {
   "cell_type": "markdown",
   "id": "71f84808",
   "metadata": {
    "id": "71f84808"
   },
   "source": [
    "`-` 선형성, 정규성, 등분산성 가정 등을 만족하지 않을 시 $x$나 $y$ 값들을 변환 후 회귀분석 재실시"
   ]
  },
  {
   "cell_type": "markdown",
   "id": "c73136ea",
   "metadata": {
    "id": "c73136ea"
   },
   "source": [
    "`-` 이중 중요한 것은 선형성, 독립성 가정이다."
   ]
  },
  {
   "cell_type": "markdown",
   "id": "54cb35fd",
   "metadata": {
    "id": "54cb35fd"
   },
   "source": [
    "`-` 정규성, 등분산성 가정이 의심스러운 경우 무시하고 회귀 분석을 진행할 수 있음\n",
    "- 가설에 대한 $P$-value나 표준오차의 추정값들이 영향을 받음"
   ]
  },
  {
   "cell_type": "markdown",
   "id": "38f58095",
   "metadata": {
    "id": "38f58095"
   },
   "source": [
    "`-` $x$는 결과에 미치는 영향력이 미미하여 그냥 받아들이는 가정임"
   ]
  },
  {
   "cell_type": "markdown",
   "id": "5b67d99a",
   "metadata": {
    "id": "5b67d99a"
   },
   "source": [
    "### 이상값(outlier)과 영향값(influential observation)"
   ]
  },
  {
   "cell_type": "markdown",
   "id": "c2d46400",
   "metadata": {
    "id": "c2d46400"
   },
   "source": [
    "`-` **영향값**: 해당 값이 없어지는 경우, 모수 추정값이 다른 값으로 바뀌는 관찰값 (29장)"
   ]
  },
  {
   "cell_type": "markdown",
   "id": "73119a6f",
   "metadata": {
    "id": "73119a6f"
   },
   "source": [
    "`-` **이상값**: 자료 내 대부분의 값들과는 다른 형태를 보이는 값\n",
    "- 이상값은 영향값일 수도 아닐수도 있음\n",
    "- 주로 산점도나 잔차 그림(residual plot) 등을 사용해 파악"
   ]
  },
  {
   "cell_type": "markdown",
   "id": "28c447ed",
   "metadata": {
    "id": "28c447ed"
   },
   "source": [
    "`-` 이상값, 영향값으로 의심되는 관찰값들을 모형에 포함, 제외 후 회귀모형에 적합하여 추정값들의 효과가 변화 여부를 확인\n",
    "- 결과에 영향이 생김\n",
    "- 자료에 관한 정보를 포함, 무분별하게 제외 X, 원인 조사 및 결과 보고 필요"
   ]
  },
  {
   "cell_type": "markdown",
   "id": "4d7ab449",
   "metadata": {
    "id": "4d7ab449"
   },
   "source": [
    "### 적합도(goodness-of-fit) 평가"
   ]
  },
  {
   "cell_type": "markdown",
   "id": "9e17df1d",
   "metadata": {
    "id": "9e17df1d"
   },
   "source": [
    "`-` **$R^2$(결정계수)**: 회귀직선이 자료를 얼마나 잘 적합시켜 주는지 평가 위해 사용\n",
    "- 주로 백분율로 표시, 상관계수의 제곱과 같음\n",
    "- $y$의 변동량 중 $x$와 $y$간 선형적 관련성으로 인해 **설명될 수 있는(explained)** 비율\n",
    "- $100 - R^2$: $y$의 변동량 중 해당 관련성으로는 **설명될 수 없는(unexplained)** 백분율\n",
    "- $R^2$의 유의성 평가 검정방법은 없음\n",
    "  - 회귀직선의 적합도 평가 위해 주관적 판단 필요"
   ]
  },
  {
   "cell_type": "markdown",
   "id": "8cb123b6",
   "metadata": {
    "id": "8cb123b6"
   },
   "source": [
    "### 기울기의 평가"
   ]
  },
  {
   "cell_type": "markdown",
   "id": "e9f9ccd5",
   "metadata": {
    "id": "e9f9ccd5"
   },
   "source": [
    "`-` 직선의 기울기 0: $x$와 $y$간 선형적인 관계가 없다"
   ]
  },
  {
   "cell_type": "markdown",
   "id": "69154213",
   "metadata": {
    "id": "69154213"
   },
   "source": [
    "`-` **모집단의 기울기 $\\beta$가 0이라는 귀무가설을 검정**하는 방법\n",
    "- 분산분석 표의 $F$-비 [Explained 평균제곱(mean squares) / Unexplained 평균제곱]를 확인\n",
    "  - 분모 자유도: 1\n",
    "  - 분자 자유도: $n - 2$\n",
    "  - 분포: $F$-분포\n",
    "- 왈드(Wald) 검정통계량 $\\frac{b}{SE(b)}$를 계산\n",
    "  - $SE(b)$: 기울기 $b$의 표준오차\n",
    "  - 자유도: $n - 2$\n",
    "  - 분포: $t$-분포\n",
    "- $P$ < 0.05이면 유의한 결과로 간주 귀무가설 기각"
   ]
  },
  {
   "cell_type": "markdown",
   "id": "961cc4fa",
   "metadata": {
    "id": "961cc4fa"
   },
   "source": [
    "`-` $\\beta$의 **95% 신뢰구간**: $b \\pm t_{0.05} \\times SE(b)$\n",
    "- $t_{0.05}$\n",
    "  - 자유도가 $n - 2$\n",
    "  - 양쪽 꼬리확률 면적이 5%가 되는 $t$-분포의 백분위점\n",
    "- 이 신뢰구간은 95% 확신으로 해당 구간이 실제 기울기를 포함하고 있다고 보는 구간\n",
    "- $n ≥ 100$인 경우 정규분포의 백분위점 1.96을 사용"
   ]
  },
  {
   "cell_type": "markdown",
   "id": "c4c1bdaf",
   "metadata": {
    "id": "c4c1bdaf"
   },
   "source": [
    "### 예측(prediction)을 위한 회귀직선의 사용"
   ]
  },
  {
   "cell_type": "markdown",
   "id": "b5d7bd2d",
   "metadata": {
    "id": "b5d7bd2d"
   },
   "source": [
    "`-` 회귀직선을 사용하여 **관찰값들의 범위 내**에서 $x$값에 대한 $y$의 예측값을 구함"
   ]
  },
  {
   "cell_type": "markdown",
   "id": "072b53d0",
   "metadata": {
    "id": "072b53d0"
   },
   "source": [
    "`-` $y$의 평균값을 예측하기 위해선 추정된 회귀직선에 $x$값을 대입\n",
    "-  $y$의 예측값: $Y_0 = a + bx_0$ (If, $x = x_0$)\n",
    "- 추정된 예측값, 예측값의 표준오차를 사용해 $x = x_0$인 경우 $y$값들의 평균에 대한 신뢰구간 계산\n",
    "  - 모든 $x$값에 반복시 추정된 회귀직선에 대한 신뢰한계들을 구할 수 있음"
   ]
  },
  {
   "cell_type": "markdown",
   "id": "b46ce0a2",
   "metadata": {
    "id": "b46ce0a2"
   },
   "source": [
    "`-` **신뢰띠(confidence band), 신뢰역(confidence region)**: 95% 신뢰수준 하 모집단의 회귀직선을 포함하고 있을 것으로 믿는 면적"
   ]
  },
  {
   "cell_type": "markdown",
   "id": "8d32b12e",
   "metadata": {
    "id": "8d32b12e"
   },
   "source": [
    "`-` **예측역(prediction region)**: $x$들의 범위 내 모든 관찰값들이 대부분 존재할 것으로 기대되는 좀 더 넓은 역"
   ]
  },
  {
   "cell_type": "markdown",
   "id": "523efbf5",
   "metadata": {
    "id": "523efbf5"
   },
   "source": [
    "`-` 계산기를 사용하는 경우에 도움이 되는 공식들\n",
    "$$\\bar{x} = \\frac{1}{n}\\Sigma{x},~\\bar{y} = \\frac{1}{n}\\Sigma{y}$$\n",
    "\n",
    "$$a = \\bar{y} - b\\bar{x}$$\n",
    "\n",
    "$$b = \\frac{\\Sigma{(x-\\bar{x})(y-\\bar{y})}}{\\Sigma{(x-\\bar{x})^2}}$$\n",
    "\n",
    "$$s_{residual}^2 = \\frac{\\Sigma{(y-Y)^2}}{n-2}, 잔차 분산 추정값$$\n",
    "\n",
    "$$SE(b) = \\frac{s_{residual}}{\\sqrt{\\Sigma{(x-\\bar{x})^2}}}$$"
   ]
  },
  {
   "cell_type": "markdown",
   "id": "223e151c",
   "metadata": {
    "id": "223e151c"
   },
   "source": [
    "### 모형의 해석을 용이하게 해주는 방법들"
   ]
  },
  {
   "cell_type": "markdown",
   "id": "d7d58b4c",
   "metadata": {
    "id": "d7d58b4c"
   },
   "source": [
    "`-` 회귀모형에서 설명변수를 **중심화(centering), 척도화(scaling), 재척도화(rescaling)**하면 모수에 대한 해석이 좀 더 쉬움\n",
    "- 중심화: 설명변수에서 적절한 상수를 빼는 것\n",
    "- 척도화: 설명변수를 적절한 상수로 나누는 것"
   ]
  },
  {
   "cell_type": "markdown",
   "id": "937c1249",
   "metadata": {
    "id": "937c1249"
   },
   "source": [
    "`-` **중심화(centering)**: 모형의 절편이 주요 설명변수의 유의미한 예측값을 알려주지 못할 시 해당 설명변수에 대한 중심화 실시\n",
    "> 키(cm)로 수축기 혈압(SBP, mmHg)를 예측하는 단순선형회귀 모형일 때, $y$-절편 $\\alpha$는 키가 0cm인 사람의 모집단 평균 SBP를 의미\n",
    "- 회귀모형의 $\\alpha$ (상수값 = 설명변수의 최소값): 해당 설명변수의 최소값에 대한 결과변수의 예측값\n",
    "- 회귀모형의 $\\alpha$ (상수값 = 설명변수의 평균값, 주로 사용): 해당 설명변수의 값이 **표본 평균일 때의 결과변수 예측값(모평균)**"
   ]
  },
  {
   "cell_type": "markdown",
   "id": "bb9a97c1",
   "metadata": {
    "id": "bb9a97c1"
   },
   "source": [
    "`-` **척도화(scaling)**: 설명변수의 계수가 임상/보건학적으로 측정 단위의 의미 있는 변화 정도를 반영 못할 시, 해당 설명변수의 척도를 바꿈\n",
    "> 키가 cm아닌 mm로 측정되면, 기울기는 키가 1mm 변할 때의 평균 SBP 변화량이고 따라서 작은 회귀계수가 추정됨\n",
    "- 적절한 상수로 해당 설명변수 값들을 척도화하면 더 의미 있는 회귀계수를 얻음\n",
    "> 키/10으로 변환하면(mm -> cm), 추정되는 회귀계수가 10배가 커지게 되고 이는 곧 키가 1cm 변할 때의 평균 SBP 변화량을 의미함"
   ]
  },
  {
   "cell_type": "markdown",
   "id": "7ee8fbea",
   "metadata": {
    "id": "7ee8fbea"
   },
   "source": [
    "`-` 설명변수의 중심화는 회귀계수 추정값에는 영향 X, 절편에만 영향 O"
   ]
  },
  {
   "cell_type": "markdown",
   "id": "e4ce29ed",
   "metadata": {
    "id": "e4ce29ed"
   },
   "source": [
    "`-` 설명변수의 척도화는 절편 추정값에는 영향 X, 회귀계수 추정값에만 영향 O"
   ]
  },
  {
   "cell_type": "markdown",
   "id": "21a1446a",
   "metadata": {
    "id": "21a1446a"
   },
   "source": [
    "`-` 중심화, 척도화 모두 유의성 여부나 모형의 적합도 여부에는 영향 X"
   ]
  },
  {
   "cell_type": "markdown",
   "id": "ec050c2e",
   "metadata": {
    "id": "ec050c2e"
   },
   "source": [
    "![](img7.png)\n",
    "![](img8.png)"
   ]
  }
 ],
 "metadata": {
  "colab": {
   "collapsed_sections": [
    "825dc8bc",
    "44dfa808"
   ],
   "name": "Ch26_27_28_김장현(202150752).ipynb",
   "provenance": []
  },
  "kernelspec": {
   "display_name": "R",
   "language": "R",
   "name": "ir"
  },
  "language_info": {
   "codemirror_mode": "r",
   "file_extension": ".r",
   "mimetype": "text/x-r-source",
   "name": "R",
   "pygments_lexer": "r",
   "version": "3.6.1"
  }
 },
 "nbformat": 4,
 "nbformat_minor": 5
}
