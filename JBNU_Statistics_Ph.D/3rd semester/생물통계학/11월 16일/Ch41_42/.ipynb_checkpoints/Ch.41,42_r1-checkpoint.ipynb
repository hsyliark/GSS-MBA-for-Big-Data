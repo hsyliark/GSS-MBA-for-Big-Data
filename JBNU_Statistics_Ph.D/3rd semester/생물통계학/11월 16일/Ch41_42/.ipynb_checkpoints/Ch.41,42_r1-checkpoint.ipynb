{
 "cells": [
  {
   "cell_type": "markdown",
   "id": "3bbdbe3d",
   "metadata": {},
   "source": [
    "## Ch.41 집락 자료(반복측정 자료)의 분석"
   ]
  },
  {
   "cell_type": "markdown",
   "id": "0c1d0425",
   "metadata": {},
   "source": [
    "**집락 자료(clustered data)** \n",
    "\n",
    "계층적인(hierarchical) 또는 가지치기된(내포된, 지분된, nested) 형태로 이루어진 자료\n",
    "\n",
    "- 단변수 2-수준 구조(two-level structure)\n",
    "    - 서로 다른 집단 또는 집락(수준 2 단위, level 2 unit)내에 단일 반응변수로 측정된 값(수준 1 단위, level 1 unit)들이 포함된 형태\n",
    "    - 가장 단순한 형태 \n",
    "    \n",
    "> 예) **`수준 2 단위`** + 수준 1 단위 구성 \n",
    "> - [**`구강`** 내 치아들], \n",
    "> - [**`환자`**의 두 무릎], \n",
    "> - [**`병원`** 내 환자들], \n",
    "> - [**`지역`** 내 병원들], \n",
    "> - [**`반`**의 학생들], \n",
    "> - [**`환자`**의 연속적인 방문시점들(종적자료;longitudinal data)]\n",
    "\n",
    "- 반복측정 자료(repeated measures data) \n",
    "- 집락(cluster) 내 각 관찰값들이 상관되어있음 (not independent but correlated) \n",
    ">  - $\\rightarrow$ 관심 추정값에 대한 표준오차가 과소추정(underestimate), \n",
    ">  - $\\rightarrow$ 해당 신뢰구간이 지나치게 좁아짐, p-value 지나치게 작아짐 $\\rightarrow$ 제1종 오류의 증가\n",
    "\n",
    "![img](img_41_1.png)"
   ]
  },
  {
   "cell_type": "markdown",
   "id": "223375c8",
   "metadata": {},
   "source": [
    "> `참고`<br>\n",
    "> 자료의 특성을 나타내는 용어를 좀 더 구체적으로 구분\n",
    "> - 집락 자료(clustered data), 내포자료(nested data) :  자료가 계층적인 구조를 가지고 있다는 점에 주안점을 두는 단어\n",
    "> - 반복측정 자료(repeated masures data) : 개인을 대상으로 동일 변수를 반복적으로 측정해서 얻어진 자료\n",
    "> - 종적 자료(longitudinal data, 혹은 경시적 자료), 패널 자료(panel data) : 시간의 흐름에 따라 개인 혹은 집단의 특성을 여러번 측정한 자료\n",
    "> <br><br>\n",
    "> - 서로 조금씩은 다른 특성을 가지고 있으나 계층적인 구조라는 동일한 성격의 자료\n",
    ">   - 동일 계층 내 측정값들은 서로 독립적이지 않고 상관되어 있음 $\\rightarrow$ 모두 상관된 자료(correlated data) \n",
    "> - 통계분석 방법록 측면에서 아주 복잡한 분석은 하지 않는 한 이들 자료의 형태 또는 용어들을 굳이 엄격하게 구분할 필요 없음"
   ]
  },
  {
   "cell_type": "markdown",
   "id": "10ca3922",
   "metadata": {},
   "source": [
    "이 장에서는 종적자료, 즉 각 개인 별로 관심변수의 값을 여러시점에서 측정한 반복측정자료의 형태, 예를 들어 설명\n",
    "- 개인이 집락이 되는 자료 \n",
    "- 각 개인별 반복측정된 값들의 패턴 요약\n",
    "- 이 패턴이 군 간에 다른지 여부 평가 "
   ]
  },
  {
   "cell_type": "markdown",
   "id": "68b7fde9",
   "metadata": {},
   "source": [
    "### 자료의 제시"
   ]
  },
  {
   "cell_type": "markdown",
   "id": "863a44cd",
   "metadata": {},
   "source": [
    "- 각 개인 별로 얻어진 측정값들을 시간에 따라 도식화 $\\rightarrow$ 측정값들의 시간별 패턴을 시각적으로 평가 가능\n",
    "- 표본이 적은 경우 모든 사람의 값 표현 가능, \n",
    "- 표본이 클 경우 패턴을 `대표`하는 일부 사람들의 자료를 선택해 표현\n",
    "- 주의) 각 시점 별 모든 사람들의 평균 표현 $\\ne$ 개인별 패턴"
   ]
  },
  {
   "cell_type": "markdown",
   "id": "7ff9e7bf",
   "metadata": {},
   "source": [
    "![img](img_41_3.png)"
   ]
  },
  {
   "cell_type": "markdown",
   "id": "2e47c109",
   "metadata": {},
   "source": [
    "### 군 간 비교: 부적절한 분석"
   ]
  },
  {
   "cell_type": "markdown",
   "id": "6fc18488",
   "metadata": {},
   "source": [
    "if) repeated design, Randomized Clinical Trials\n",
    "- 각 처리군의 모든 측정값 -> 선형회귀직선 적합 : 부적절(inappropriate)\n",
    "- 군 간 비교 -> One-way ANOVA : 부적절(inappropriate)\n",
    " - *동일한 사람에 대해 반복적인 측정값들이 얻어졌다는 점  미반영*\n",
    " \n",
    " \n",
    "- 각 시점별 독립표본 t-검정 여러번 실시 : 틀림(incorrect)\n",
    "- 각 시점별 One-way ANOVA 여러번 실시 : 틀림(incorrect)\n",
    " - *동일한 사람에 대해 각 시점에서 측정한 값은 서로 독립적이지 않음*\n",
    " - *여러번의 검정의 실시로 인한 제1종 오류의 증가*\n",
    " - *개인-내(within-subject) 변화량에 대한 정보 미활용*"
   ]
  },
  {
   "cell_type": "markdown",
   "id": "514e7e57",
   "metadata": {},
   "source": [
    "### 군 간 비교: 적절한 분석"
   ]
  },
  {
   "cell_type": "markdown",
   "id": "1a46ab5b",
   "metadata": {},
   "source": [
    "#### 요약값(summary measure)의 사용"
   ]
  },
  {
   "cell_type": "markdown",
   "id": "2633ecbe",
   "metadata": {},
   "source": [
    "자료의 특징이 잘 반영된 개인 별 요약값을 계산한 뒤, 요약값들을 사용해 분석\n",
    "- 요약값으로 자주 사용되는 값들:\n",
    "  - 기저 시점에서 미리 지정된 시점까지의 값 변화량(change)\n",
    "  - 최대 도달값(최고점, peak) 또는 최소값(최저점, nadir)\n",
    "  - 최대값(또는 최소값)에 도달하는 데까지 걸린 시간\n",
    "  - 미리 지정된 값에 도달하는 데까지 걸린 시간\n",
    "  - 평균\n",
    "  - 곡선 아래 면적(area under the curve, AUC; 그림 41.4)\n",
    "  - 측정 시간을 독립변수로 사용한 개인 별 선형회귀직선의 절편 또는 기울기 (측정 값들과 시간 간의 관계가 반영된 지표)"
   ]
  },
  {
   "cell_type": "markdown",
   "id": "5e8f9316",
   "metadata": {},
   "source": [
    "- 연구의 주된 관심이 무엇인가에 따라 요약값을 선택, 반드시 자료 수집 전에 연구계획서 상에 명시 되어야 함\n",
    "  > 예) 두 치료요법의 약물 농도 비교 \n",
    "  > - 약물 투여 후 혈중 최대 약물 농도(maximum drug concentration, $C_{max}$)에 도달하는 시간 또는 AUC 사용\n",
    "  \n",
    "  > 예) 백신접종 후 생성된 항체역가(antibody titer) \n",
    "  > - 항체 역가가 특정 탐지수준 이하로 떨어질 때까지의 시간"
   ]
  },
  {
   "cell_type": "markdown",
   "id": "9986defb",
   "metadata": {},
   "source": [
    "- 개인 별로 반복측정된 자료의 수가 다를 경우\n",
    "    - 정밀성 크기가 반영된 분석 필요 $\\rightarrow$ 더 정밀하게 추정된 요약값에 더 큰 가중값을 부여하는 분석\n",
    "      > 예) 개인의 모수 추정값(평균이나 기울기 등)에 대한 정밀성(표준오차)이 다름 \n",
    "      > $\\rightarrow$ 표준오차의 역수를 가중값으로 사용하여 분석\n",
    "\n",
    "> `참고`<br>\n",
    "> 통계량의 정밀성에 관한 척도들은 표본 수에 영향을 받음(예; 통계량의 표준오차는 표본수 제곱근의 역수에 비례)\n",
    "> - 위 예) 반복측정된 자료의 수 =  개인별 요약값(통계량)을 계산하기 위해 사용된 표본 수"
   ]
  },
  {
   "cell_type": "markdown",
   "id": "59d74744",
   "metadata": {},
   "source": [
    "- 요약값 사용 군 간 비교\n",
    "  - 요약값은 개인 간 서로 독립적인 값\n",
    "  - 일반적인 가설검정 방법 사용\n",
    "    > 예) 윌콕슨 순위합 검정, 크루스칼-왈리스 검정 등 \n",
    "  - 장점 \n",
    "    - 분석이 간단해짐\n",
    "  - 단점\n",
    "    - 자료의 특성을 잘 반영하는 요약값을 찾기 어려움\n",
    "    - 상황에 따라 두 개 이상의 요약값이 필요\n",
    "    - 모든 자료를 사용하지 않아 효율적인 분석 방법은 아님 "
   ]
  },
  {
   "cell_type": "markdown",
   "id": "2691b7fe",
   "metadata": {},
   "source": [
    "#### 반복측정 분산분석 RM ANOVA  (`r`epeated `m`easures  `ANOVA`)"
   ]
  },
  {
   "cell_type": "markdown",
   "id": "07e698ab",
   "metadata": {},
   "source": [
    "- paired t test의 확장형\n",
    "- 서로 관련이 있는 세 개 이상의 집단들 간 모평균을 비교하는 방법\n",
    "- One-way RM ANOVA  \n",
    "    - 수준 1 단위 3집단 이상 \n",
    "- Two-way RM ANOVA (계층적 반복측정 분산분석;hierarchical repeated measures ANOVA 또는 지분된 반복측정 분산분석;nested repeated measures ANOVA)\n",
    "    - 수준 2 단위 2집단 이상 + 수준 1단위 3집단 이상 : \n",
    " \n",
    "- 분석 내용\n",
    "   - 군 간에 모평균 동일 여부 평가\n",
    "   - 시점들 간에 모평균 동일 여부 평가 \n",
    "   - 집단과 시점 간 상호작용 효과 평가\n",
    " \n",
    "![img](img_41_2.png)\n",
    "<br>\n",
    "    - 상호작용 효과\n",
    "![img](img_refer.png)\n",
    "  <br>\n",
    "  \n",
    "- 반복측정 분산분석의 한계점\n",
    "   - 분석이 어려움\n",
    "   - 결과 해석이 어려움\n",
    "   - 모든 사람의 측정시점이 동일, 균형된 설계(balanced design)\n",
    "    \n",
    "> `참고`<br>\n",
    "> - 자료의 균형이 어려움 \n",
    ">    - 자료중 일부가 특정시점에서 결측이면 해당 개인의 전체 자료는 분석에서 제외 $\\rightarrow$ 분석결과의 타당도에 영향\n",
    ">    - 연구계획서에 결측자료 처리방법을 명시하여 결측자료 대처방안 마련<br>\n",
    "> - 정규성 가정(잔차의 정규성 확인), 구형성 가정(sphericity assumption;분산-공분산 행렬이 구형적) 필요\n"
   ]
  },
  {
   "cell_type": "markdown",
   "id": "29384afb",
   "metadata": {},
   "source": [
    "#### 회귀방법들"
   ]
  },
  {
   "cell_type": "markdown",
   "id": "29d5fed2",
   "metadata": {},
   "source": [
    "- 강건한 표준오차(robust standard error: robust SE)를 가지는 모수 추정값을 사용하는 회귀방법\n",
    "- 일반화 추정방정식 (generalized estimating equation :  GEE)을 사용하는 회귀방법\n",
    "- 변량효과 (random effect)가 포함된 선형혼합모형 (linear mixed model, LMM)을 사용하는 회귀방법"
   ]
  },
  {
   "cell_type": "markdown",
   "id": "085b7de6",
   "metadata": {},
   "source": [
    "#### 주의"
   ]
  },
  {
   "cell_type": "markdown",
   "id": "6b6bfd82",
   "metadata": {},
   "source": [
    "집락 자료가 포함된 연구결과들을 해석할 때에는 생태학적 오류(ecological fallacy)를 범하지 않도록 주의(34장)."
   ]
  },
  {
   "cell_type": "markdown",
   "id": "6dcc3061",
   "metadata": {},
   "source": [
    "**`예제`**"
   ]
  },
  {
   "cell_type": "markdown",
   "id": "354093d8",
   "metadata": {},
   "source": [
    "**목적** 흡입용 기관지 확장제인 `브롬화수소산 페노테롤(fenoterol hydrobromide)`과 `브롬화 이프라트로피움(ipratropium bromide)`의 효능을 비교하기 위한 연구\n",
    "\n",
    "**설계** 의대생 99명 / 두 약물 투여군(각 33명), 위약군(33명) / RCT / 학생들로 하여금 각자 실이 연결된 바느질 바늘 5개가 박힌 코르크를 잡은 상태에서 흡입제를 빠르게 4번 흡입하도록 한 뒤, 실들이 떨리는 전체 시간(초)를 측정/ 흡입제 사용전, 사용 5분, 15분, 30분, 45분 및 60분후 총 6회 측정\n",
    "\n",
    "**결과**\n",
    " - 각 처리군 별로 대표적인 측정값 변화 양상 (그림 41.3)\n",
    " ![img](img_41_3.png)\n",
    "<br>\n",
    " - '곡선 아래 면적'(AUC)을 요약값으로 세 군간 비교 중 한 학생의 자료 (그림 41.4)\n",
    " ![img](img_41_4.png)\n",
    "<br>\n",
    " - `fenoterol 군`, `ipratropium 군`, `위약군`의 AUC 중앙값(범위) 는 각각 1552.5(417.5, 3857)초, 1215(457.5, 2500)초, 1130(547.5, 2625)초, P=0.008(크루스칼-왈리스)\n",
    " - 다중검정을 보정한 비모수적 사후 비교(post-hoc comparison) 결과 `fenoterol 군`> `나머지 군` 통계적으로 유의함\n",
    " - 이는 곧 브롬화수소산 페노테롤이 골격근 내 베타-2 아드레날린수용체($\\beta_{2}$-adrenoceptor)를 자극해서 골격근의 떨림 현상을 나타나게 하는 베타-2 아드레날린수용체 항진제($\\beta_{2}$-adrenoceptor agonist)로써의 약리작용을 확인시켜 주는 결과\n",
    " "
   ]
  },
  {
   "cell_type": "markdown",
   "id": "3b1a72a0",
   "metadata": {},
   "source": [
    "## Ch.42 집락 자료(반복측정 자료)에 대한 회귀방법들"
   ]
  },
  {
   "cell_type": "markdown",
   "id": "f90dc4ce",
   "metadata": {},
   "source": [
    "각 분석방법의 장단점"
   ]
  },
  {
   "cell_type": "markdown",
   "id": "bff81b34",
   "metadata": {},
   "source": [
    "|  방 법  |  장 점  |  단 점  |\n",
    "|:---------|:---------------------------|:---------------------------|\n",
    "| 요약값을 사용하는 회귀분석  | - 분석방법이 간단<br>- 단순 소프트웨어로도 쉽게 분석  | - 수준 1 단위의 공변량 효과 평가 불가<br>- 집락 간 크기 차이 및 각 집락 별 요약값의 정밀성 미반영<br>-적절한 요약값 선택하기 어려움 |\n",
    "| 집락을 허용하는 강건한 표준오차를 사용하는 회귀분석  | - 분석방법이 상대적으로 간단<br>- 수준 1 단위가 변하는 공변량들을 분석에 포함 가능<br>- 집락의 효과가 반영된, 보정된 표준오차, 보정된 신뢰구간 및 보정된 P-value등 계산 가능<br>- 집락들 간에 수준 1 단위의 개수가 달라도 분석 가능 | - 각 집락의 크기가 어느정도 커야 신뢰 가능<br>- 집락 효과에 관한 보정된 모수 추정값 얻지 못함 |\n",
    "| 변량효과 모형  | - 집락-간 변동과 집락-내 변동이 모형에 고려되기 때문에 집락의 효과가 명확히 명시<br>- 집락에 관한 모든 정보가 적절하게 배분된 집락 추정값이 계산<br>- 집락의 효과가 반영된, 보정된 모수 추정값, 보정된 표준오차, 보정된 신뢰구간 및 보정된 P-value 등 계산 가능<br>- 수준 1 단위가 변하는 공변량들을 모형에 포함 가능<br>- 집락들 간에 수준 1 단위의 개수가 달라도 분석 가능<br>- 계층적 구조가 2-수준에서 다수준으로 확장된 모형에 대해서도 분석 가능<br>- 다양한 형태의 일반화 선형모형 사용 가능(예; Poisson GLM)  | - 집락의 크기가 충분히 크지 않는 한 신뢰할 만한 결과 엊지 못함<br>- 모수 추정값이 편향(biased) 될 수 있음<br>- 확장된 모형을 다루기 위해서는 고도의 모형화 능력이 필요<br>- 로지스틱 모형의 경우, 변량효과를 추정하고 해석하기 어려움  |\n",
    "| 일반화 추정방정식(GEE) | - 분석방법이 상대적으로 간단<br>- (집락으로 인한) 변량효과에 대한 분포 가정 불필요<br>- 수준 1 단위가 변하는 공변량들을 모형에 포함 가능<br>- 집락들 간에 수준 1 단위의 개수가 달라도 분석 가능<br>- 집락의 효과가 반영된, 보정된 모수 추정값, 보정된 표준오차, 보정된 신뢰구간 및 보정된 P-value 등 계산 가능 | -각 집락의 크기가 어느 정도 커야 신뢰 가능<br>- 집락을 내재적인 분석 관심대상이 아닌 장애요인으로 간주$*$<br>- 작업 상관구조에 대한 명시가 필요$*$<br>- 모수 추정값은 집단-평균적인 값이며, 모집단에 있는 각각의 집락과 관련된 추정값이 아님$*$ |\n",
    "\n",
    "$*$ 이 사항들은 관점에 따라 장점으로도 볼 수 있음"
   ]
  },
  {
   "cell_type": "markdown",
   "id": "1dc5f90e",
   "metadata": {},
   "source": [
    "*요약값을 사용하는 분석을 제외한 모든 방법들은 집락의 수가 충분히 크지 않는 한 신뢰할 만한 결과를 얻기 힘들다. 또한 방법들이 매우 복잡해서 분석하기 쉽지 않고 결과의 해석 또한 난해하기 때문에 통계학자의 조언을 받기를 추천한다.*"
   ]
  },
  {
   "cell_type": "markdown",
   "id": "33a99e24",
   "metadata": {},
   "source": [
    "> 2-수준 계층구조의 예) 류마티스성 관절염에 관한 연구 - 각 환자(수준 2)의 좌우 무릎 (수준 1) 굽힘 각도 측정"
   ]
  },
  {
   "cell_type": "markdown",
   "id": "8ff2b562",
   "metadata": {},
   "source": [
    "### 요약값을 사용하는 분석"
   ]
  },
  {
   "cell_type": "markdown",
   "id": "43eb4a72",
   "metadata": {},
   "source": [
    "- 자료의 특성 및 연구하고자 하는 가설의 형태에 맞춰 요약값의 종류 결정 \n",
    "- $\\rightarrow$ 각 집락 내 값들을 요약값으로 변환 후 분석\n",
    "- 집락을 관찰단위로, 요약값을 결과변수에 대한 관찰값으로 사용해서 `보통 최소제곱법(ordinary least  squares method, OLS)`을 사용한 다중 선형회귀분석 실시\n",
    " - 집락이 여러 집단으로 나뉠 경우 집락 수준의 다른 공변량들과 함께 '중재 방법'에 관한 가변수 또는 집단이 여러개인 경우 일련의 가변수들을 회귀모형에 설명변수로 포함\n",
    "> 예) 관절염 연구의 경우 환자들이 두 가지 중재 - 운동요법을 실시하는/하지않는 경우 "
   ]
  },
  {
   "cell_type": "markdown",
   "id": "2061e4c5",
   "metadata": {},
   "source": [
    "###  강건한 표준오차(robust standard error)를 사용하는 분석"
   ]
  },
  {
   "cell_type": "markdown",
   "id": "6dd729ac",
   "metadata": {},
   "source": [
    "- 표준오차 대신  강건한 표준오차(robust SE)를 계산해서 자료 내 변동량에 관한 지표로 사용\n",
    "- 집락에 관한 정보를 무시 : 관찰값들은 서로 독립이라는 가정이 위배 $\\rightarrow$ 모수 추정값에 대한 표준오차가 과소평가되게 되어 유의하지 않은 결과가 유의한 것으로 해석될 위험\n",
    " \n",
    "\n",
    " - 강건한 표준오차를 사용한 다중 선형회귀분석 : 회귀게수의 추정값은 OLS 선형회귀의 계수 추정값과 일치, 계수 추정값의 표준오차는 독립성이 만족하지 않아도 크게 영향 받지 않음 $\\rightarrow$ 관찰값들이 서로 독립적이지 않다는 집락 자료가 가진 문제점 해결"
   ]
  },
  {
   "cell_type": "markdown",
   "id": "5db0c1f3",
   "metadata": {},
   "source": [
    "###  변량효과 모형(random effects model)을 사용하는 분석"
   ]
  },
  {
   "cell_type": "markdown",
   "id": "5158fb93",
   "metadata": {},
   "source": [
    "- 계층적 모형(hierarchical model), 다수준 모형(multilevel model), 혼합 모형(mixed model), 집락-중심적 모형(cluster-specific model)이라고도 불리며, 자료가 종적 자료인 경우에는 단면적 시계열 모형(cross-sectional time series model), 패널 모형(panel model), 반복측정 모형(repeated measures model) 등으로 불림\n",
    "\n",
    "- R, SAS, Stata, MLwinN(www.cmm.bristol.ac.uk) 등을 사용하여 분석 - 최대가능도 추정법(MLE)를 사용해 자료를 적합\n",
    "\n",
    "- 각 집락 별 관심효과는 해당 집락의 정보와 다른 집락들의 정보를 함께 사용해 추정하므로 집락들 간 정보가 공유된다는 장점\n",
    "  - 관심효과에 대한 각 집락별 추정값으로 해당 추정값 자체가 아닌 이 값을 어떤 적절한 축소 인자(shrinkage factor)를 이용해 전체 평균 추정값 방향으로 '축소시킨(shrunk)' 축소 추정값(shrinkage estimate)을 사용\n",
    "  - 축소의 크기는 집락의 개수 및 자료의 변동량에 의해 결정\n",
    "> 통계에서 shrinkage(축소)fksms eksdjsms '표본추출로 인한 변동(sampling variation)의 영향을 감소시킨다'라는 의미로 사용\n",
    ">\n",
    "> $SE=SD/\\sqrt{N}$, 즉, 통계량의 정밀성 척도인 표준오차(SE)는 자료의 변동인 표준편차(SD)와 비례하고 자료의 크기인 표본 수(n)와는 반비례한다는 점과 일맥상통<br>\n",
    ">*$*$집락의 수가 적으면 집락을 구성한 효과(clustering effect)를 평가하기 어려워질 것이고, 집락-내 변동이 크면 집락 간 차이를 평가하는 것이 힘들어질 것이다. 집락 자료 분석결과에 이러한 점이 반영되기 위해서는 각 집락 별 관심효과에 대한 추정값이 집락들의 전체 평균효과 쪽으로 (즉, 집락 간 차이가 없는 방향으로) 많이 축소되어야 한다. 반면에 집락의 수가 많거나 집락-내 변동이 적으면 집락 효과를 평가하기가 쉬워지고, 따라서 집락 별 관심효과 추정값이 전체 평균효과 방향으로 축소되는 크기는 적어져야 할 것이다.*$*$\n",
    "\n",
    "- 변량효과 모형은 관찰된 집락을 실제 또는 가상의 집락 모집단(population of clusters)에서 추출된 표본으로 간주하는 모형 $\\rightarrow$ 표본에서 서로 다르게  나타난 이유는 무작위 변동 때문이거나, 아니면 성별이나 연령 등과 같은 어떤 다른 '고정 요인(fixed factor)'들의 차이 때문으로 가정\n",
    "\n",
    "- 집락을 고려하지 않는 일반적인 변량 효과 모형(random effects model)은 자료 간 변동을 단지 수준 1 단위 간 변동(집락-내 분산, within-cluster variance; $\\sigma^{2}_{\\epsilon}$)으로 인해 발생하는 무작위 오차(random error) 또는 설명 불가능한 오차(unexplained error)로 간주\n",
    "\n",
    "- 2-수준 변량효과 모형(two-level random effects model)은 자료들 간에 변도이 나타난 이유가 수준 1 단위 간 변동으로 인한 무작위 오차와 더불어 수준 2 단위 간 변동(집락-간 분산, between-clusters variance, $\\sigma^{2}_{c}$)으로 인한 무작위 오차도 추가적으로 반영되었기 때문인 것으로 간주"
   ]
  },
  {
   "cell_type": "markdown",
   "id": "f8d12223",
   "metadata": {},
   "source": [
    "###  여러 모형들"
   ]
  },
  {
   "cell_type": "markdown",
   "id": "f77ef458",
   "metadata": {},
   "source": [
    "![img](img_42_1.png)"
   ]
  },
  {
   "cell_type": "markdown",
   "id": "ae36d191",
   "metadata": {},
   "source": [
    "- 단순 변량 절편 선형 2-수준 모형(simple random intercepts linear two-level model),  변량 절편 모형(random intercepts model) (그림 42.1a): 각 집락 내에서 $x$와 $y$간의 관계는 선형적이며 집락별 모든 회귀직선들은 공통 기울기인 $\\beta$를 가지고 있으나 절편은 각기 다르다고 가정하는 모형\n",
    "  - 무작위 오차(잔차, residual) : 해당 집락의 절편이 전체 평균 절편으로부터 떨어진 수직 거리, residual $\\sim$ $N(0, \\sigma^{2}_{c})$\n",
    " \n",
    "- 변량 기울기 모형(random slopes model) (그림 42.1b): 회귀직선 절편 $\\alpha$는 동일하나  기울기 $\\beta$가 집락별로 각기 다른 모형\n",
    "\n",
    "- 변량 절편 및 기울기 모형(random intercepts and slopes model)(그림 42.1b): 회귀직선 절편 $\\alpha$, 기울기 $\\beta$가 집락별로 각기 다른 모형\n",
    "\n",
    "  - 두 모형 모두 집락 별 회귀직선은 평균 회귀직선과 평행하지 않게 됨\n",
    "\n",
    " \n",
    " "
   ]
  },
  {
   "cell_type": "markdown",
   "id": "1a3de17d",
   "metadata": {},
   "source": [
    ">`참고` <br>\n",
    ">변량 절편 모형(random intercepts model)을 임의 절편 모형이라고도 한다.\n",
    ">\n",
    ">변량 기울기 모형(random slopes model)을 임의 기울기 모형, 그리고 변량 절편 및 기울기 모형(random intercepts and slopes model)을 임의 절편 및 기울기 모형이라고 한다. 연구자에 따라서 random slopes model과 random intercepts and slopes model을 특별히 구분하지 않고 둘 다 random slopes model이라고 하거나, 또는 random intercepts and slopes model 만을 random slopes model이라고 부르기도 한다. 따라서 연구자들이 이 용어를 어떤 측면에서 사용하고 있는지에 대해서는 주의 깊게 살펴보는 것이 좋다."
   ]
  },
  {
   "cell_type": "markdown",
   "id": "1ef0cd1e",
   "metadata": {},
   "source": [
    "### 집락 효과(clustering effect)의 평가"
   ]
  },
  {
   "cell_type": "markdown",
   "id": "220aef7c",
   "metadata": {},
   "source": [
    "연구설계 내에 집락을 고려함으로 인해서 얻어지는 효과의 크기의 평가\n",
    "- 2-수준 구조의 경우, 무작위로 추출된 한 개의 집락(수준 2 단위) 내 역시 무작위로 선택된 두 개의 개체(수준 1 단위)들 간 상관성을 나타내는 급내상관계수(intraclass correlation coeefficient, ICC, 때로는 이를 $\\rho$로 표시하기도 한다; 39장도 참조)를 계산<br>\n",
    "$\\displaystyle ICC= \\frac{\\sigma^{2}_{c}}{\\sigma^{2}_{c}+\\sigma^{2}_{\\epsilon}}$<br>\n",
    "이 ICC는 자료의 전체 변동량 중 집락들 간의 변동량이 차지하는 비율을 의미하며, 보통은 백분율로 표현. 집락 내에는 변동이 없고, 따라서 자료의 모든 변동이 오로지 집락들간의 가치에만 기인한다면 ICC = 1이 됨. 반면에 ICC = 0은 집락들 간에 변동이 없다는 의미. ICC는 집락의 중요성 여부에 대한 주관적인 판단기준으로 사용될 수 있음.\n",
    "\n",
    "\n",
    "- 다음 두 개의 모형을 서로 비교: 한 모형은 집락의 효과를 고려한 변량효과 모형이고, 다른 하나는 이 변량효과 모형과 동일한 설명변수들을 사용하지만 집락의 효과는 고려하지 않은 회귀모형. 이들 두 모형을 비교할 수 있는 적절한 통계검정 방법은, 검정통계량으로 두 모형의 로그-가능도 비 통계량 차이를 사용하는, 가능도 비 검정(likelihood ration test) (32장). 이 검정통계량은 자유도가 1인 카이제곱 분포에 따름."
   ]
  },
  {
   "cell_type": "markdown",
   "id": "87b101cc",
   "metadata": {},
   "source": [
    "### 일반화 추정방정식(generalized estimating equation, GEE)을 사용하는 분석"
   ]
  },
  {
   "cell_type": "markdown",
   "id": "7d61b2e4",
   "metadata": {},
   "source": [
    "- 2-수준 구조를 가진 자료에서 일반화 추정방정식(GEE)을 사용해 모수를 추정하면 일반화 선형모형(generalized linear model, GLM)의 모수 추정값과 해당 표준오차 모두에 대해 집락의 효과가 반영된 보정된 추정값(adjusted estimate)들을 얻을 수 있음.\n",
    "\n",
    "- 집락-간 잔차들의 정규분포 가정 불필요\n",
    "\n",
    "- 내재적인 관심요인 $\\ne$ 집락 = 장애요인(nuisance factor)\n",
    "\n",
    "- 집락내에 있는  관찰값들 간의 상관구조에 관한 '작업구조(working structure)'를 가정해서 분석 진행(= 작업상관행렬(working correlation matrix)\n",
    "  - GEE는, 만일 집락의 수가 어느 정도 충분히 크기만 하다면, 초기에 지정하는 작업상관행렬의 정확성 여부에 강건한 표준오차와 모수 추정값을 얻을 수 있기 때문에 형태는 정확하지 않아도 됨; 자료에 알맞는 작업상관행렬을 사용하면 더 좋은 추정값 얻을 수 있음\n",
    "  - 교환가능한 상관구조(exchangeable correlation structure); 집락 내 두 개의 수준 1 단위들을 서로 바꾸어도 상관구조는 변하지 않고 추정값에도 영향을 미치지 않는다고 가정하는 구조; 자주 사용되는 형태\n",
    "  \n",
    "- 얻어진  모수  추정값은 집락들 간 평균 효과를 대표하는 추정값; 집단-평균적 추정값(population-averaged estimate), 주변 추정값(marginal estimate)\n",
    "\n",
    "- 집락 자료에 연속형 반응변수를 사용하는 선형회귀 방법을 적용; 변량효과 모형에 기초한 선형혼합모형(linear mixed model, LMM)\n",
    "\n",
    "- 집락  자료에 두 범주 반응변수를 사용하는 로지스틱 회귀나 계수 혹은 율 자료 반응변수를 사용하는 포아송 회귀 방법 적용 시 변량효과 모형의 형태가 매우 복잡해 짐(일반화 선형혼합모형(generalized linear mixed model, GLMM); GEE적 접근방식이 편리, 교환가능한 상관구조를 사용하는 것은  적절치 못함."
   ]
  },
  {
   "cell_type": "markdown",
   "id": "baeeca17",
   "metadata": {},
   "source": [
    ">`참고`<br>\n",
    ">GEE 방법을 분석 측면에서 간단히 설명하자면, 먼저 집락 내 관찰값들 간의 상호 관련성에 관한 상관행렬 형태 및 이 행렬의 각 원소에 대한 초기값을 설정한 뒤, 이를 토대로 해당 상관행렬의 추정값이 안정될 때까지 (즉, 추정값의 변화량이 매우 작을 때까지) 반복계산(computer interation)을 실시해서 모형 내 회귀계수 추정값과 신뢰구간을 추정하는 방법. 이때 사용되는 (즉, 반복계산을 하기 위해 연구자가 초기에 지정하는) 상관행렬이 working correlation matrix(작업상관행렬 또는 가상관행렬). 따라서 '작업'상관행렬이란 지정된 상관행렬의 형태를 사용해서 작업을 수행한다는 의미의 단어\n",
    ">\n",
    ">교환가능한(exchangealbe, EXCH) 상관구조를 복합대칭성(compound symmetry, CS) 구조. 상관구조의 종류는 매우 많으나, 의학/보건학 자료 분석 시 주로 사용되는 상관구조들로는, CS구조 외에도, 퇴플리츠(혹은 토플리츠, Toeplitz, TOEP) 구조, 제1차 자기상관(first-order auto-correlation, AR(1)) 구조, 그리고 비구조적(unstructured, UN) 구조 등이 있음.\n",
    ">\n",
    ">GEE 분석은 집단-평균적(population-averaged) 추정값을 계산하는 방법인 반면, 변량효과를 사용하는 회귀방법은 집락-중심적(cluster-specific, 또는 개체-중심적, suvject-specific) 추정값을 계산하는 방법. 이들 두 추정값의 개념적 차이를 간단히 설명하면, 집단-평균적 추정값은 집락 효과에 대한 모수추정값을 모집단에 존재하는 모든 집락들의 평균 효과를 대표하는 값으로 간주하는데 반해, 개체(집락)-중심적 추정값은 해당 값을 모집단에 존재하는 집락들 각각의 효과를 대표하는 추정값으로 간주. 즉, 추론 대상에 관한 관점 및 정의의 차이."
   ]
  },
  {
   "cell_type": "markdown",
   "id": "297d5e55",
   "metadata": {},
   "source": [
    "`예제`"
   ]
  },
  {
   "cell_type": "markdown",
   "id": "7a72d4ce",
   "metadata": {},
   "source": [
    "![img](ex_42.png)\n",
    "![img](table_42_2.png)"
   ]
  }
 ],
 "metadata": {
  "kernelspec": {
   "display_name": "Python 3 (ipykernel)",
   "language": "python",
   "name": "python3"
  },
  "language_info": {
   "codemirror_mode": {
    "name": "ipython",
    "version": 3
   },
   "file_extension": ".py",
   "mimetype": "text/x-python",
   "name": "python",
   "nbconvert_exporter": "python",
   "pygments_lexer": "ipython3",
   "version": "3.9.6"
  }
 },
 "nbformat": 4,
 "nbformat_minor": 5
}
