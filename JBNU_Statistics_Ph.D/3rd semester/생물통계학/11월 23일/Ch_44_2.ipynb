{
 "cells": [
  {
   "cell_type": "markdown",
   "metadata": {},
   "source": [
    "### 회귀모형(regression model)"
   ]
  },
  {
   "cell_type": "markdown",
   "metadata": {},
   "source": [
    "* 하나 이상의 관심요인들과 생존시간 간의 관계를 정량화 하거나 생존에 영향을 미치는 다른 교란요인들의 효과를 보정하면서 집단들 간 누적생존확률을 비교하고자 할때 사용\n",
    " * 위험(hazard): $h_i(t)$, 해당 시점 $t$에서 개인 $i$가 관심사건을 경험할 순간위험(instantaneous risk) (단, 주어진 시점 $t$ 이전까지는 개인 $i$에게 관심사건(종료점)이 발생하지 않았다는 조건)\n",
    "   > 예) 사망이 관심사건인 경우, 위험이란 한 개인이 시점 $t$에서 사망하게 될 순간위험\n",
    " \n",
    " * 위험함수(hazard function)  \n",
    "   * 생존함수와 반대되는 개념으로 시점 $t$에서 생존한 조건하에 사건이 발생할 확률(조건부 확률)\n",
    "   \\begin{align*}\n",
    "        h(t)&=\\lim_{\\delta{t}\\to{0}}\\frac{P(t\\leq{T}\\lt{t}+\\delta{t}|T\\geq{t})}{\\delta{t}}\\\\\n",
    "        &=\\frac{f(t)}{S(t)}=\\frac{{\\frac{d}{dt}}F(t)}{S(t)}=\\frac{{\\frac{d}{dt}}(1-S(t))}{S(t)}=\\frac{-S'(t)}{S(t)}=-d\\log[S(t)]\n",
    "   \\end{align*}\n",
    "  \n",
    "   \n",
    "<img src=\"//user-images.githubusercontent.com/91745915/142721568-5fc1a41d-6a08-414b-8e5f-2f35d1618d89.jpg\" width=500>\n",
    " * 누적위험함수(cumulative hazard function)   \n",
    "   * 시간 $t$까지 누적위험률  \n",
    "   $H(t)=\\int_{0}^{t}h(t)du=-\\log S(t)$  \n",
    "   \n",
    "   <img src=\"//user-images.githubusercontent.com/91745915/142722461-96ce2d19-878a-491f-b2bc-595a644eb06b.jpg\" width=500>"
   ]
  },
  {
   "cell_type": "markdown",
   "metadata": {},
   "source": [
    "+ 콕스의 비례위험 회귀모형(Cox's proportional hazard regression model, Cox's PH model)  \n",
    "  * 위험에 대한 설명변수들(요인들)의 독립적인 효과를 검정하기 위한 방법\n",
    "  * 비교하고자 하는 집단들 간의 위험은 추적조사 기간 동안 일정하게 비례한다는 `비례위험 가정(proportional hazard assumption)`하에서 설정된 회귀모형\n",
    "\n",
    "      ### $h_i(t)=h_0(t)e^{\\beta_{1}x_{1}+\\beta_{2}x_{2}+...+\\beta_{k}x_{k}}$  \n",
    "  \n",
    "   * $h_{i}(t)$: $i$번째 개인의 $t$시점에서의 위험\n",
    "   * $h_{0}(t)$: 임의의 기준시점에서의 위험(기저위험(baseline hazard))\n",
    "   * $x_{1}, x_{2},..., x_{k}$: 모형 내 설명변수들\n",
    "   * $\\beta_{1}, \\beta_{2},..., \\beta_{k}$: 각 설명변수에 대한 회귀계수\n",
    "   * $b_{1}, b_{2},..., b_{k}$: 회귀계수들의 추정값, `편가능도(partial likelihood)`라 부르는 최대가능도(maximum likelihood)의 형태를 사용해 추정  \n",
    "   * $\\exp(b_{1})(e^b_{1})$: `상대위험(relative hazard)` 추정값 혹은 `위험비(hazard ratio, HR)` 추정값  \n",
    "   * 특정 변수 $x$에 대한 `위험비(HR) 추정값`: 모형 내 모든 다른 변수들의 효과가 보정된 상태에서 해당 변수의 값이 $x=x_{1}$일 때의 질병발생 추정위험에 비해 $x=x_{1}+1$일 때의 질병발생 추정위험이 상대적으로 몇 배나 더 높은지를 알려주는 값  \n",
    "     * 위험비(HR)의 추정값이 1보다 크면 위험이 증가  \n",
    "     * 위험비의 추정값이 1보다 작으면 위험이 감소\n",
    "     * HR=1은 사건발생 위험이 변수 $x$의 값에 따라 변하지 않음  \n"
   ]
  },
  {
   "cell_type": "markdown",
   "metadata": {},
   "source": [
    "+ 비례위험 가정 검토방법  \n",
    "  * 그림 이용:\n",
    "   - Kaplan-Meier 생존분석에서 단일 공변량의 각 범주 별 생존곡선들이 시간이 지남에 따라 점진적으로 서로 떨어지는지를 눈으로 확인하는 것  \n",
    "   - 해당 공변량의 각 범주 별로 $x$-축으로는 $\\ln (t)$를, $y$-축으로는 $\\ln[-\\ln(\\hat{S}(t))]$ 를 사용한 그림(로그-로그 그림(log-minus-log plot))을 그려 선들이 대략적으로 평행한지의 여부를 검토  \n",
    "   - 만일 선들이 서로 교차하면 비례위험 가정은 심각하게 위배된 것으로 간주  \n",
    "  * 모형에 공변량과 $\\ln(t)$간의 상호작용 항을 포함시켜 분석, 만일 이 항이 유의하면 비례위험 가정이 성립되지 않음  \n",
    "  * 쉔펠드 잔차(Schoenfeld residual)를 사용한 전반적 카이제곱 검정 등과 같은 통계 검정 실시  \n",
    "  ref: https://3months.tistory.com/357  \n",
    "  https://stats.idre.ucla.edu/other/examples/asa2/testing-the-proportional-hazard-assumption-in-cox-models/"
   ]
  },
  {
   "cell_type": "markdown",
   "metadata": {},
   "source": [
    "+ 비례위험 가정이 만족되지 않을 때  \n",
    " 1. 관찰기간을 나누어 각 관찰기간 별로 Cox의 비례위험 회귀분석 실시\n",
    " 2. 비례위험 가정이 만족되지 않는 설명변수(들)의 수준 조합 별 층화분석(Stratified Cox's PH analysis) 실시\n",
    " 3. 생존분석 대신 로지스틱 회귀분석 실시\n",
    " 4. 비례위험 가정을 반영하는 시간-의존 Cox 회귀분석 실시\n",
    " 5. 비례위험 가정을 요구하지 않는 모수적 생존분석 실시\n",
    " 6. 시간-의존 Cox 회귀분석을 실시\n",
    " 7. 모수적 회귀분석 방법을 사용 ※ Cox의 비례위험 회귀분석은 비모수적 방법  \n",
    "   * `지수 모형(exponential model)`, `웨이블 모형(Weibull model)`, `곰페르츠 모형(Gompertz model)` 등과 같은 분포를 가정하는 모형 사용"
   ]
  },
  {
   "cell_type": "markdown",
   "metadata": {},
   "source": [
    "***"
   ]
  },
  {
   "cell_type": "markdown",
   "metadata": {},
   "source": [
    "## 생존분석에서 마주치는 문제들"
   ]
  },
  {
   "cell_type": "markdown",
   "metadata": {},
   "source": [
    "### 종속적 중도절단(informative censoring)"
   ]
  },
  {
   "cell_type": "markdown",
   "metadata": {},
   "source": [
    "* 모든 생존분석은 한 개인이 중도절단될 확률과 관심사건을 관찰할 확률은 서로 독립적이라고 가정  \n",
    " * 독립적 중도절단(independent censoring): 비-정보적 중도절단(Non-informative censoring)  \n",
    " > 이사를 가거나 연락이 두절되는 등의 이유로 인해 추적기간이 중도절단된 사람의 경우, 그가 중도절단된 시점에서 질병에 걸리게 될 확률은 그가 중도절단되지 않았다 할지라도 동일 시점에서 질병에 걸리게 될 확률과 같다는 가정  \n",
    " * 종속적 중도절단(dependent censoring): 정보적 중도절단(informative censoring)\n",
    " > 급성 간기능 상실 환자들의 생존기간에 관한 연구를 하는 경우, 간이식술을 받은 환자들이 연구에서 조기에 탈락된다면 이들의 추적기간은 중도절단  \n",
    " > 만일 이 중도절단된 환자들의 예후가 간이식술을 받지 않은 환자들과 다르다면 중도절단된 환자들의 추적기간은 종속적 중도절단 자료에 해당 (단, 일반적으로 연구가 종료됨으로 인해 중도절단되는 `행정적 중도절단(administrative censoring)`은 종속적 중도절단으로 간주하지 않음) "
   ]
  },
  {
   "cell_type": "markdown",
   "metadata": {},
   "source": [
    "### 경쟁위험(competing risk)"
   ]
  },
  {
   "cell_type": "markdown",
   "metadata": {},
   "source": [
    "* 서로 다른 여러 개의 결과변수들 중 일부가 발생함으로 인해 다른 결과변수들이 발생하지 않는 것\n",
    "> 만성 콩팥병(chronic kidney disease, CKD) 환자는 심혈관계 질환을 포함한 여러 임상적 사건들의 발생에 매우 취약한 것으로 알려져 있는데, CKD로 진단을 받은 환자가 말기 신질환으로 사망할 위험요인들을 평가하고자 하는 연구 시행 가정.  \n",
    "환자가 말기 신질환이 아닌 다른 질환(예를 들어 치명적 심근경색)으로 인해 사망하게 된다면 이 환자는 더이상 말기 신질환으로 인한 사망위험에 노출되지 않게 됨. 이 경우 치명적 심근경색은 중도절단 사건이 아닌 경쟁위험 사건으로 간주  \n",
    "\n",
    "* 경쟁위험이 포함된 자료를 분석하기 위한 전략  \n",
    " 1. 서로 다른 원인에 의한 사건발생 가능성을 고려하는 잠재 실패시간 모형을 이용하는 방법  \n",
    " 2. 다-상태 모형(multi-state model)에 기초한 사망시간과 사망원인 간의 결합분포를 이용하는 방법  \n",
    "    ※ 결합분포를 이용해 사밍위험을 계산하는 방법- 원인-중심 위험함수(cause-specitic hazard function)를 사용하는 방법, 원인-중심 누적발생함수(cause-specific cumulative incidence function)를 사용하는 방법"
   ]
  },
  {
   "cell_type": "markdown",
   "metadata": {},
   "source": [
    "***"
   ]
  },
  {
   "cell_type": "markdown",
   "metadata": {},
   "source": [
    "#### 예제\n",
    "* 배경: 췌장암이 주로 동양보다 서양에서 많이 발병하며, 소위 선진국에서 흔하게 발생하는 질환으로 진단 후 생존기간이 길지 않은 편으로써 간문맥 절제를 병용하는 췌십이지장절제술(pancreaticoduodenectomy with portal vein resection, PDVR)은 표준적인 췌십이지장절제술(PD)이나 표준적인 외과적 우회술(surgical bypass, SB)에 비해 환자의 생존기간을 늘려준다는 보고들이 발표되어 옴\n",
    "* 방법: 진행성 췌장암을 진단받은 환자 1588명의 수술경과를 평가하기 위한 후향적 자료분석  \n",
    "* 연구 정보:\n",
    "  > * 사망관련 정보가 확인된 환자: 1358명  \n",
    "  > * PDVR 시술을 받은 환자: 218명\n",
    "  > * PD 시술을 받은 환자: 719명  \n",
    "  > * SB 시술을 받은 환자: 418명  \n",
    "  > * 수술 후 환자들의 중앙 추적기간은 1.1년\n",
    "  > * 최대 11년까지 추적된 전체 추적기간 동안 총 1058명의 환자가 사망"
   ]
  },
  {
   "cell_type": "markdown",
   "metadata": {},
   "source": [
    "* `Kaplan-Meier 누적생존곡선` 및 `로그-순위 검정` 사용\n",
    "* 결과:\n",
    "  * 그림 44.1- 사망관련 정보가 확인된 환자 1385명 중 50명을 무작위추출해서 생존시간을 그린 그림\n",
    "  * 그림 44.2- PD, PDVR, SB 세 수술법 별로 기저시험 이후 추적시점 별 Kaplan-Meier 누적생존곡선 그림\n",
    "  * 수술법들 간 중앙 생존확률을 비교하기 위한 로그-순위 검정 결과, 세 수술법 간 중앙 생존시간은 유의한 차이가 있다(p<0.0001).\n",
    "  * SB 수술을 받은 환자는 34%만 수술 후 1년 동안 생존한 반면, PDVR 수술은 67.3%, PD 수술은 67.1%가 1년 생존율을 보임"
   ]
  },
  {
   "cell_type": "markdown",
   "metadata": {},
   "source": [
    "<img src=\"//user-images.githubusercontent.com/91745915/142722503-7d90b08c-f52c-4d13-9b9d-746f92d70dfe.jpg\" width=1200>"
   ]
  },
  {
   "cell_type": "markdown",
   "metadata": {},
   "source": [
    "<img src=\"//user-images.githubusercontent.com/91745915/142722548-c948d3db-1239-45da-a595-200518744f3a.jpg\" width=\"800\">,<img src=\"//user-images.githubusercontent.com/91745915/142722573-1de9f65a-4f99-475d-8882-c959dfb19171.jpg\" width=\"700\">"
   ]
  },
  {
   "cell_type": "markdown",
   "metadata": {},
   "source": [
    "* `Cox의 비례위험 회귀모형`을 사용하여 세 수술법 간 생존시간 차이가 환자의 성별, 수술 시 연령, 또는 수술연도 등으로 인해 발생한 것은 아닌지 평가\n",
    "* 결과:\n",
    " - 로그-로그 그림 및 각 설명변수에 대한 Schoenfeld 잔차 그림을 사용해 세 군 간 비례위험 가정을 평가한 결과, 군들 간 비례위험 가정이 만족되는 것으로 확인\n",
    " - Cox 회귀분석결과, 수술 결과에 영향을 줄 것으로 보이는 다른 요인들의 효과를 보정한 상태에서 간문맥 절제 여부와 상관없이 췌십이지장절제술(PD 및 PDVR)이 외과적 우회술(SB)보다 사망위험을 유의하게 줄여주는 것으로 나타남\n",
    " - PDVR 수술을 받은 환자는 SB 수술을 받은 환자에 비해 사망위험이 0.41배(=$e^{-0.89}$) 높음(즉, 2.42배(=1/0/41) 낮음. 또는 사망위험을 59% 줄임, P<0.0001)\n",
    " - PD 수술을 받은 환자는 SB 수술을 받은 환자에 비해 보정 사망위험이 0.40배(=$e^{-0.92}$) 더 높음(즉, 사망위험을 60%줄임, P<0.0001)\n",
    " - 수술 후 사망위험 증가와 관련이 있는 요인들은 고연령(사망위험이 5세 당 4%씩 증가) 및 2003년 이전에 수술은 받았는지의 여부(2006-2007년 수술환자에 비해 사망위험이 31% 증가)"
   ]
  },
  {
   "cell_type": "markdown",
   "metadata": {},
   "source": [
    "<img src=\"//user-images.githubusercontent.com/91745915/142722603-764ee7e6-70c4-4f7c-97dc-9f82e6daec74.jpg\" width=1200>"
   ]
  },
  {
   "cell_type": "markdown",
   "metadata": {},
   "source": []
  }
 ],
 "metadata": {
  "kernelspec": {
   "display_name": "R",
   "language": "R",
   "name": "ir"
  },
  "language_info": {
   "codemirror_mode": "r",
   "file_extension": ".r",
   "mimetype": "text/x-r-source",
   "name": "R",
   "pygments_lexer": "r",
   "version": "3.6.1"
  }
 },
 "nbformat": 4,
 "nbformat_minor": 4
}
