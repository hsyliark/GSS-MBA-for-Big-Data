{
 "cells": [
  {
   "cell_type": "markdown",
   "metadata": {},
   "source": [
    "# Chapter 4 Treatment Comparisons in Clinical Trials with Covariates\n",
    "\n",
    "## 1. Analysis of Covariance (ANCOVA)\n",
    "\n",
    "- Combination of analysis of variance and regression\n",
    "\n",
    "### Analysis of Variance (ANOVA)\n",
    "\n",
    "#### One-way ANOVA\n",
    "- $y _{ij} = \\mu + \\alpha  _{i} + \\epsilon  _{ij}$ \n",
    "- $i=1,\\dots,I$ // $j=1,\\dots,n_{j}$\n",
    "- $H_{0}$ : $\\alpha_{i}=0, i=1,\\dots,I$\n",
    "- $H_{1}$ : At least one of the $\\alpha_{i}$ is not zero \n",
    "\n",
    "#### Multiple Comparisons (Tukey's honest significant difference(HSD))\n",
    "- ${\\hat{\\alpha }} _{i} - {\\hat{\\alpha }} _{j} \\pm \\frac {q _{\\alpha ,df _{1} ,df _{2}}} {\\sqrt {2}} se( {\\hat{\\alpha }} _{i} - {\\hat{\\alpha }} _{j} )$ ($df_{1}=I, df_{2}=\\sum _{i=1} ^{I} n _{i} -I$)\n",
    "\n",
    "#### Multi-Way ANOVA\n",
    "- $y_{ijk} = \\mu + \\alpha_{i} + \\beta_{j} + (\\alpha\\beta)_{ij} + \\epsilon_{ijk}$\n",
    "- $i=1,\\dots,I$ // $j=1,\\dots,J$ // $k=1,\\dots,n_{ij}$\n",
    "\n",
    "#### Multivariate Analysis of Variance (MANOVA)\n",
    "- Wilk's Lambda\n",
    "- Hotelling-Lawley's trace\n",
    "- Pillai-Bartlett's criterion\n",
    "- Roy's greatest root\n",
    "\n",
    "### Regression Analysis\n",
    "\n",
    "#### Linear Regression model\n",
    "- $y = X\\beta + \\epsilon$\n",
    "\n",
    "#### Logistic Regression model\n",
    "- $Y \\sim B(n,p) \\rightarrow P(Y=y) = $$n \\choose x$$p^{y}(1-p)^{n-y}$, $y=0,1,\\dots,n$\n",
    "- $\\log_ {} \\frac {p} {1-p}$$= \\beta_{0} + \\beta_{1} x_{1} + \\dots + \\beta_{q} x_{q} = X\\beta$\n",
    "\n",
    "#### Poisson Regression model\n",
    "- $Y \\sim Poisson(\\mu) \\rightarrow P(Y=y) = $$\\frac {e^{-\\mu} \\mu^{y}} {y!}$, $y=0,1,\\dots$\n",
    "- $log_ {} {\\mu_{i}} = X\\beta$\n",
    "\n",
    "#### Overdispersion in generalized linear regression\n",
    "- If the deviance from the fitted model is too large...\n",
    "  - 1. Estimate and Adjust the Dispersion Parameter\n",
    "  - 2. Using Quasi-Likelihood\n",
    "  - 3. Fit Negative Binomial Regression ( $ N \\sim NB(k,p) \\rightarrow P(N=n) = $${n-1} \\choose {k-1}$$p^{k}(1-p)^{n-k}$, $n=k,k+1,\\dots$ )"
   ]
  },
  {
   "cell_type": "markdown",
   "metadata": {},
   "source": [
    "## 2. Data Analysis in R\n",
    "\n",
    "### 2.1 Analysis of diastolic blood pressure(DBP) trial\n",
    "- 이완기 혈압 측정과 관련한 데이터\n",
    "-  treatment A (new drug), treatment B (placebo)\n",
    "- 약물을 투여했을 때 이완기 혈압이 유의하게 낮아지는지 확인하고자 함.\n",
    "- DBP1 ~ DBP5 : 최초에 DBP1을 측정하고 이후 4주간 주마다 DBP 측정\n",
    "- 4주 이후 측정된 DBP5와 최초 측정된 DPB1의 차이를 분석\n",
    "\n",
    "#### 2.1.1 Analysis of Baseline data"
   ]
  },
  {
   "cell_type": "code",
   "execution_count": 1,
   "metadata": {},
   "outputs": [
    {
     "name": "stderr",
     "output_type": "stream",
     "text": [
      "Warning message:\n",
      "\"package 'lattice' was built under R version 3.6.3\""
     ]
    }
   ],
   "source": [
    "### R code from vignette source 'R4ANCOVA.rnw'\n",
    "\n",
    "###################################################\n",
    "### code chunk number 1: R4ANCOVA.rnw:11-34\n",
    "###################################################\n",
    "options(continue=\" \") # from Ross Ihaka to remove the \"+\" continution\n",
    "rm(list=ls())\n",
    "badfonts = FALSE\n",
    ".detach.stuff = function() {\n",
    "s1 = grep(\"package|Autoloads\",search())\n",
    "nattach = length(search())\n",
    "xattach = search()[c(-1,-s1)]\n",
    "for (i in xattach)\n",
    "eval(substitute(detach(i),list(i=i)))\n",
    "}\n",
    ".detach.stuff()\n",
    "## ps.options(family=\"NimbusSan\")\n",
    "ps.options(colormodel=\"cmyk\")\n",
    "options(width=53, digits=3)\n",
    "## palette(gray((0:8)/8))\n",
    "# lattice setting\n",
    "library(lattice)\n",
    "#trellis.par.set(canonical.theme(color=FALSE))\n",
    "ltheme = canonical.theme(color = FALSE) # in-built B&W theme\n",
    "ltheme$strip.background$col = \"transparent \" # change strip bg\n",
    "lattice.options(default.theme=ltheme) # set as default\n",
    "# random seed\n",
    "set.seed(12345678)"
   ]
  },
  {
   "cell_type": "code",
   "execution_count": 2,
   "metadata": {},
   "outputs": [
    {
     "ename": "ERROR",
     "evalue": "Error in eval(expr, envir, enclos): 객체 'DBP'를 찾을 수 없습니다\n",
     "output_type": "error",
     "traceback": [
      "Error in eval(expr, envir, enclos): 객체 'DBP'를 찾을 수 없습니다\nTraceback:\n"
     ]
    }
   ],
   "source": [
    "###################################################\n",
    "### code chunk number 2: R4ANCOVA.rnw:334-337\n",
    "###################################################\n",
    "dat <- read.csv(\"C:/Users/HSY/Desktop/DBP.csv\",header=T,sep=',')\n",
    "# creat the difference\n",
    "dat$diff = dat$DBP5-dat$DBP1\n",
    "DBP"
   ]
  },
  {
   "cell_type": "code",
   "execution_count": null,
   "metadata": {},
   "outputs": [],
   "source": []
  }
 ],
 "metadata": {
  "kernelspec": {
   "display_name": "R",
   "language": "R",
   "name": "ir"
  },
  "language_info": {
   "codemirror_mode": "r",
   "file_extension": ".r",
   "mimetype": "text/x-r-source",
   "name": "R",
   "pygments_lexer": "r",
   "version": "3.6.1"
  }
 },
 "nbformat": 4,
 "nbformat_minor": 2
}
