{
 "cells": [
  {
   "cell_type": "markdown",
   "metadata": {},
   "source": [
    "# Chapter 4 Treatment Comparisons in Clinical Trials with Covariates\n",
    "\n",
    "## 1. Analysis of Covariance (ANCOVA)\n",
    "\n",
    "- Combination of analysis of variance and regression\n",
    "\n",
    "### Analysis of Variance (ANOVA)\n",
    "\n",
    "#### One-way ANOVA\n",
    "- $y _{ij} = \\mu + \\alpha  _{i} + \\epsilon  _{ij}$ \n",
    "- $i=1,\\dots,I$ // $j=1,\\dots,n_{j}$\n",
    "- $H_{0}$ : $\\alpha_{i}=0, i=1,\\dots,I$\n",
    "- $H_{1}$ : At least one of the $\\alpha_{i}$ is not zero \n",
    "\n",
    "#### Multiple Comparisons (Tukey's honest significant difference(HSD))\n",
    "- ${\\hat{\\alpha }} _{i} - {\\hat{\\alpha }} _{j} \\pm \\frac {q _{\\alpha ,df _{1} ,df _{2}}} {\\sqrt {2}} se( {\\hat{\\alpha }} _{i} - {\\hat{\\alpha }} _{j} )$ ($df_{1}=I, df_{2}=\\sum _{i=1} ^{I} n _{i} -I$)\n",
    "\n",
    "#### Multi-Way ANOVA\n",
    "- $y_{ijk} = \\mu + \\alpha_{i} + \\beta_{j} + (\\alpha\\beta)_{ij} + \\epsilon_{ijk}$\n",
    "- $i=1,\\dots,I$ // $j=1,\\dots,J$ // $k=1,\\dots,n_{ij}$\n",
    "\n",
    "#### Multivariate Analysis of Variance (MANOVA)\n",
    "- Wilk's Lambda\n",
    "- Hotelling-Lawley's trace\n",
    "- Pillai-Bartlett's criterion\n",
    "- Roy's greatest root\n",
    "\n",
    "### Regression Analysis\n",
    "\n",
    "#### Linear Regression model\n",
    "- $y = X\\beta + \\epsilon$\n",
    "\n",
    "#### Logistic Regression model\n",
    "- $Y \\sim B(n,p) \\rightarrow P(Y=y) = $$n \\choose x$$p^{y}(1-p)^{n-y}$, $y=0,1,\\dots,n$\n",
    "- $\\log_ {} \\frac {p} {1-p}$$= \\beta_{0} + \\beta_{1} x_{1} + \\dots + \\beta_{q} x_{q} = X\\beta$\n",
    "\n",
    "#### Poisson Regression model\n",
    "- $Y \\sim Poisson(\\mu) \\rightarrow P(Y=y) = $$\\frac {e^{-\\mu} \\mu^{y}} {y!}$, $y=0,1,\\dots$\n",
    "- $log_ {} {\\mu_{i}} = X\\beta$\n",
    "\n",
    "#### Overdispersion in generalized linear regression\n",
    "- If the deviance from the fitted model is too large...\n",
    "  - 1. Estimate and Adjust the Dispersion Parameter\n",
    "  - 2. Using Quasi-Likelihood\n",
    "  - 3. Fit Negative Binomial Regression ( $ N \\sim NB(k,p) \\rightarrow P(N=n) = $${n-1} \\choose {k-1}$$p^{k}(1-p)^{n-k}$, $n=k,k+1,\\dots$ )"
   ]
  },
  {
   "cell_type": "markdown",
   "metadata": {},
   "source": [
    "## 2. Data Analysis in R\n",
    "\n",
    "### 2.1 Analysis of diastolic blood pressure(DBP) trial\n",
    "- 이완기 혈압 측정과 관련한 데이터\n",
    "-  treatment A (new drug), treatment B (placebo)\n",
    "- 약물을 투여했을 때 이완기 혈압이 유의하게 낮아지는지 확인하고자 함.\n",
    "- DBP1 ~ DBP5 : 최초에 DBP1을 측정하고 이후 4주간 주마다 DBP 측정\n",
    "- 4주 이후 측정된 DBP5와 최초 측정된 DPB1의 차이를 분석\n",
    "\n",
    "#### 2.1.1 Analysis of Baseline data"
   ]
  },
  {
   "cell_type": "code",
   "execution_count": 51,
   "metadata": {},
   "outputs": [
    {
     "data": {
      "text/html": [
       "<table>\n",
       "<thead><tr><th scope=col>Subject</th><th scope=col>TRT</th><th scope=col>DBP1</th><th scope=col>DBP2</th><th scope=col>DBP3</th><th scope=col>DBP4</th><th scope=col>DBP5</th><th scope=col>Age</th><th scope=col>Sex</th><th scope=col>diff</th></tr></thead>\n",
       "<tbody>\n",
       "\t<tr><td>1  </td><td>A  </td><td>114</td><td>115</td><td>113</td><td>109</td><td>105</td><td>43 </td><td>F  </td><td> -9</td></tr>\n",
       "\t<tr><td>2  </td><td>A  </td><td>116</td><td>113</td><td>112</td><td>103</td><td>101</td><td>51 </td><td>M  </td><td>-15</td></tr>\n",
       "\t<tr><td>3  </td><td>A  </td><td>119</td><td>115</td><td>113</td><td>104</td><td> 98</td><td>48 </td><td>F  </td><td>-21</td></tr>\n",
       "\t<tr><td>4  </td><td>A  </td><td>115</td><td>113</td><td>112</td><td>109</td><td>101</td><td>42 </td><td>F  </td><td>-14</td></tr>\n",
       "\t<tr><td>5  </td><td>A  </td><td>116</td><td>112</td><td>107</td><td>104</td><td>105</td><td>49 </td><td>M  </td><td>-11</td></tr>\n",
       "\t<tr><td>6  </td><td>A  </td><td>117</td><td>112</td><td>113</td><td>104</td><td>102</td><td>47 </td><td>M  </td><td>-15</td></tr>\n",
       "</tbody>\n",
       "</table>\n"
      ],
      "text/latex": [
       "\\begin{tabular}{r|llllllllll}\n",
       " Subject & TRT & DBP1 & DBP2 & DBP3 & DBP4 & DBP5 & Age & Sex & diff\\\\\n",
       "\\hline\n",
       "\t 1   & A   & 114 & 115 & 113 & 109 & 105 & 43  & F   &  -9\\\\\n",
       "\t 2   & A   & 116 & 113 & 112 & 103 & 101 & 51  & M   & -15\\\\\n",
       "\t 3   & A   & 119 & 115 & 113 & 104 &  98 & 48  & F   & -21\\\\\n",
       "\t 4   & A   & 115 & 113 & 112 & 109 & 101 & 42  & F   & -14\\\\\n",
       "\t 5   & A   & 116 & 112 & 107 & 104 & 105 & 49  & M   & -11\\\\\n",
       "\t 6   & A   & 117 & 112 & 113 & 104 & 102 & 47  & M   & -15\\\\\n",
       "\\end{tabular}\n"
      ],
      "text/markdown": [
       "\n",
       "| Subject | TRT | DBP1 | DBP2 | DBP3 | DBP4 | DBP5 | Age | Sex | diff |\n",
       "|---|---|---|---|---|---|---|---|---|---|\n",
       "| 1   | A   | 114 | 115 | 113 | 109 | 105 | 43  | F   |  -9 |\n",
       "| 2   | A   | 116 | 113 | 112 | 103 | 101 | 51  | M   | -15 |\n",
       "| 3   | A   | 119 | 115 | 113 | 104 |  98 | 48  | F   | -21 |\n",
       "| 4   | A   | 115 | 113 | 112 | 109 | 101 | 42  | F   | -14 |\n",
       "| 5   | A   | 116 | 112 | 107 | 104 | 105 | 49  | M   | -11 |\n",
       "| 6   | A   | 117 | 112 | 113 | 104 | 102 | 47  | M   | -15 |\n",
       "\n"
      ],
      "text/plain": [
       "  Subject TRT DBP1 DBP2 DBP3 DBP4 DBP5 Age Sex diff\n",
       "1 1       A   114  115  113  109  105  43  F    -9 \n",
       "2 2       A   116  113  112  103  101  51  M   -15 \n",
       "3 3       A   119  115  113  104   98  48  F   -21 \n",
       "4 4       A   115  113  112  109  101  42  F   -14 \n",
       "5 5       A   116  112  107  104  105  49  M   -11 \n",
       "6 6       A   117  112  113  104  102  47  M   -15 "
      ]
     },
     "metadata": {},
     "output_type": "display_data"
    }
   ],
   "source": [
    "###################################################\n",
    "### code chunk number 2: R4ANCOVA.rnw:334-337\n",
    "###################################################\n",
    "dat <- read.csv(\"DBP.csv\",header=T,sep=',')\n",
    "# creat the difference\n",
    "dat$diff = dat$DBP5-dat$DBP1\n",
    "head(dat)"
   ]
  },
  {
   "cell_type": "code",
   "execution_count": 52,
   "metadata": {},
   "outputs": [
    {
     "data": {
      "image/png": "[encoded data removed]",
      "text/plain": [
       "plot without title"
      ]
     },
     "metadata": {},
     "output_type": "display_data"
    }
   ],
   "source": [
    "###################################################\n",
    "### code chunk number 3: ANCOVA.BaseDBP\n",
    "###################################################\n",
    "boxplot(DBP1~TRT, dat, las=1, \n",
    "    xlab=\"Treatment\", ylab=\"DBP at Baseline\")"
   ]
  },
  {
   "cell_type": "markdown",
   "metadata": {},
   "source": [
    "- 최초 측정된 이완기 혈압에 대한 boxplot을 통해 아직 약물 처리 여부에 따른 혈압의 차이가 거의 없다고 보여진다. 이에 대한 통계적인 분석을 t-test를 통해 수행하면 다음과 같다. "
   ]
  },
  {
   "cell_type": "code",
   "execution_count": 53,
   "metadata": {},
   "outputs": [
    {
     "data": {
      "text/plain": [
       "\n",
       "\tWelch Two Sample t-test\n",
       "\n",
       "data:  DBP1 by TRT\n",
       "t = -0.30755, df = 37.829, p-value = 0.7601\n",
       "alternative hypothesis: true difference in means is not equal to 0\n",
       "95 percent confidence interval:\n",
       " -1.516666  1.116666\n",
       "sample estimates:\n",
       "mean in group A mean in group B \n",
       "         116.55          116.75 \n"
      ]
     },
     "metadata": {},
     "output_type": "display_data"
    }
   ],
   "source": [
    "###################################################\n",
    "### code chunk number 5: R4ANCOVA.rnw:360-361\n",
    "###################################################\n",
    "t.test(DBP1~TRT, dat)"
   ]
  },
  {
   "cell_type": "markdown",
   "metadata": {},
   "source": [
    "- 검정결과 유의확률 p-value의 값이 0.7601로서 유의수준 0.05보다 매우 큰 값이다. 이에 따라 최초 측정된 이완기 혈압의 경우 약물 처리 여부에 따른 혈압의 차이가 없다는 귀무가설을 받아들이게 된다. 그러므로 본 실험을 통해 약물 처리 여부의 효과를 가려내기에 충분하다고 판단할 수 있다.\n",
    "- 다음으로 DBP 데이터에 있는 40명의 피실험자에 대한 약물 처리 여부, 성별에 따른 $2 \\times 2$ 테이블을 살펴보고 이에 대한 비율검정을 실시한다. 이에 대한 결과는 다음과 같다."
   ]
  },
  {
   "cell_type": "code",
   "execution_count": 54,
   "metadata": {},
   "outputs": [
    {
     "data": {
      "text/plain": [
       "   \n",
       "     F  M\n",
       "  A  8 12\n",
       "  B 10 10"
      ]
     },
     "metadata": {},
     "output_type": "display_data"
    },
    {
     "data": {
      "text/plain": [
       "\n",
       "\t2-sample test for equality of proportions with continuity correction\n",
       "\n",
       "data:  SexbyTRT\n",
       "X-squared = 0.10101, df = 1, p-value = 0.7506\n",
       "alternative hypothesis: two.sided\n",
       "95 percent confidence interval:\n",
       " -0.4567829  0.2567829\n",
       "sample estimates:\n",
       "prop 1 prop 2 \n",
       "   0.4    0.5 \n"
      ]
     },
     "metadata": {},
     "output_type": "display_data"
    }
   ],
   "source": [
    "###################################################\n",
    "### code chunk number 6: R4ANCOVA.rnw:368-374\n",
    "###################################################\n",
    "# call function table to make the 2 by 2 table \n",
    "SexbyTRT = table(dat$TRT,dat$Sex)\n",
    "# print it\n",
    "SexbyTRT\n",
    "# call prop.test to test the difference\n",
    "prop.test(SexbyTRT)"
   ]
  },
  {
   "cell_type": "markdown",
   "metadata": {},
   "source": [
    "- $2 \\times 2$ 테이블을 통해 약물처리그룹 A는 8명의 여자와 12명의 남자로(여자비율 40%), 대조그룹 B는 남자와 여자 모두 각각 10명(여자비율 50%)으로 구성되어 있음을 확인 가능하다.\n",
    "- 이에 대해 비율검정을 실시한 결과 유의확률 p-value의 값이 0.7506으로서 유의수준 0.05보다 매우 큼을 알 수 있다. 이에 따라 두 그룹의 여자비율의 차이가 없다는 귀무가설을 받아들이게 된다. 즉, 두 그룹이 성별 기준으로 균형되게 구성되어 있다고 판단할 수 있다.\n",
    "- 이제 최초 측정 혈압 DBP1과 공변량 Sex, Age 사이의 관계를 확인해보기 위한 회귀모형을 구축해보도록 한다."
   ]
  },
  {
   "cell_type": "code",
   "execution_count": 55,
   "metadata": {},
   "outputs": [
    {
     "data": {
      "text/plain": [
       "\n",
       "Call:\n",
       "lm(formula = DBP1 ~ Sex + Age, data = dat)\n",
       "\n",
       "Residuals:\n",
       "    Min      1Q  Median      3Q     Max \n",
       "-2.1988 -0.5601  0.1693  0.5245  1.9506 \n",
       "\n",
       "Coefficients:\n",
       "             Estimate Std. Error t value Pr(>|t|)    \n",
       "(Intercept) 104.38337    1.12876  92.477  < 2e-16 ***\n",
       "SexM         -0.64220    0.30158  -2.129   0.0399 *  \n",
       "Age           0.26388    0.02284  11.552 7.79e-14 ***\n",
       "---\n",
       "Signif. codes:  0 '***' 0.001 '**' 0.01 '*' 0.05 '.' 0.1 ' ' 1\n",
       "\n",
       "Residual standard error: 0.9454 on 37 degrees of freedom\n",
       "Multiple R-squared:  0.7947,\tAdjusted R-squared:  0.7836 \n",
       "F-statistic: 71.62 on 2 and 37 DF,  p-value: 1.9e-13\n"
      ]
     },
     "metadata": {},
     "output_type": "display_data"
    }
   ],
   "source": [
    "###################################################\n",
    "### code chunk number 7: R4ANCOVA.rnw:381-385\n",
    "###################################################\n",
    "# Fit the main effect model on \"Sex\" and \"Age\"\n",
    "bm1=lm(DBP1~Sex+Age, dat)\n",
    "# Show the result\n",
    "summary(bm1)"
   ]
  },
  {
   "cell_type": "markdown",
   "metadata": {},
   "source": [
    "- 분석결과 성별과 나이 모두 유의수준 0.05 하에서 최초 측정 이완기 혈압과 유의미한 관계가 있다고 보여진다. 이에 대한 결과를 그래프로 표현해보면 다음과 같다."
   ]
  },
  {
   "cell_type": "code",
   "execution_count": 56,
   "metadata": {},
   "outputs": [
    {
     "data": {
      "image/png": "[encoded data removed]",
      "text/plain": [
       "plot without title"
      ]
     },
     "metadata": {},
     "output_type": "display_data"
    }
   ],
   "source": [
    "###################################################\n",
    "### code chunk number 8: ANCOVA.fig4Baseline\n",
    "###################################################\n",
    "# plot the ``Age\" to ``DBP1\"\n",
    "plot(DBP1~Age,las=1,pch=as.character(Sex), dat, \n",
    "\txlab=\"Age\", ylab=\"Baseline DBP\")\n",
    "# add the regression lines using ``abline\"\n",
    "abline(bm1$coef[1], bm1$coef[3],lwd=2, lty=1)\n",
    "abline(bm1$coef[1]+bm1$coef[2], bm1$coef[3],lwd=2, lty=4)"
   ]
  },
  {
   "cell_type": "markdown",
   "metadata": {},
   "source": [
    "- 위의 그래프에서 직선은 여자, 점선은 남자와 관련이 있다. 즉 나이에 따라 측정 혈압이 높아지는 경향이 있고 남자보다 여자가 측정 혈압이 높다고 판단할 수 있다.\n",
    "\n",
    "#### 2.1.2 ANCOVA of DBP Change from Baseline\n",
    "\n",
    "- 이제부터는 공변량분석(ANCOVA)를 통해 약물 처리 여부(TRT)에 따른 이완기 혈압의 차이(diff)에 대한 분석을 실시해보겠다. 우선 데이터 내의 모든 공변량인 TRT, Age, Sex를 모두 포함하고 이들의 교호작용(interactions)까지 포함한 full model을 구축하고, stepwise model selection을 통해 복잡한 모형을 단순화할 것이다."
   ]
  },
  {
   "cell_type": "code",
   "execution_count": 57,
   "metadata": {},
   "outputs": [
    {
     "name": "stdout",
     "output_type": "stream",
     "text": [
      "Start:  AIC=79.52\n",
      "diff ~ TRT * Age * Sex\n",
      "\n",
      "              Df Sum of Sq    RSS   AIC\n",
      "- TRT:Age:Sex  1    2.7059 198.47 78.07\n",
      "<none>                     195.76 79.52\n",
      "\n",
      "Step:  AIC=78.07\n",
      "diff ~ TRT + Age + Sex + TRT:Age + TRT:Sex + Age:Sex\n",
      "\n",
      "          Df Sum of Sq    RSS    AIC\n",
      "- TRT:Sex  1    1.3256 199.79 76.336\n",
      "- TRT:Age  1    9.5638 208.03 77.952\n",
      "<none>                 198.47 78.070\n",
      "- Age:Sex  1   17.0694 215.53 79.370\n",
      "\n",
      "Step:  AIC=76.34\n",
      "diff ~ TRT + Age + Sex + TRT:Age + Age:Sex\n",
      "\n",
      "          Df Sum of Sq    RSS    AIC\n",
      "<none>                 199.79 76.336\n",
      "- TRT:Age  1    10.272 210.06 76.341\n",
      "- Age:Sex  1    16.164 215.96 77.448\n"
     ]
    },
    {
     "data": {
      "text/html": [
       "<table>\n",
       "<thead><tr><th></th><th scope=col>Df</th><th scope=col>Sum Sq</th><th scope=col>Mean Sq</th><th scope=col>F value</th><th scope=col>Pr(&gt;F)</th></tr></thead>\n",
       "<tbody>\n",
       "\t<tr><th scope=row>TRT</th><td> 1          </td><td>1081.60000  </td><td>1081.600000 </td><td>184.0638195 </td><td>2.797907e-15</td></tr>\n",
       "\t<tr><th scope=row>Age</th><td> 1          </td><td>  51.06922  </td><td>  51.069217 </td><td>  8.6908239 </td><td>5.745652e-03</td></tr>\n",
       "\t<tr><th scope=row>Sex</th><td> 1          </td><td>   1.05506  </td><td>   1.055060 </td><td>  0.1795472 </td><td>6.744314e-01</td></tr>\n",
       "\t<tr><th scope=row>TRT:Age</th><td> 1          </td><td>  10.31989  </td><td>  10.319888 </td><td>  1.7562112 </td><td>1.939349e-01</td></tr>\n",
       "\t<tr><th scope=row>Age:Sex</th><td> 1          </td><td>  16.16426  </td><td>  16.164263 </td><td>  2.7507913 </td><td>1.064052e-01</td></tr>\n",
       "\t<tr><th scope=row>Residuals</th><td>34          </td><td> 199.79157  </td><td>   5.876223 </td><td>         NA </td><td>          NA</td></tr>\n",
       "</tbody>\n",
       "</table>\n"
      ],
      "text/latex": [
       "\\begin{tabular}{r|lllll}\n",
       "  & Df & Sum Sq & Mean Sq & F value & Pr(>F)\\\\\n",
       "\\hline\n",
       "\tTRT &  1           & 1081.60000   & 1081.600000  & 184.0638195  & 2.797907e-15\\\\\n",
       "\tAge &  1           &   51.06922   &   51.069217  &   8.6908239  & 5.745652e-03\\\\\n",
       "\tSex &  1           &    1.05506   &    1.055060  &   0.1795472  & 6.744314e-01\\\\\n",
       "\tTRT:Age &  1           &   10.31989   &   10.319888  &   1.7562112  & 1.939349e-01\\\\\n",
       "\tAge:Sex &  1           &   16.16426   &   16.164263  &   2.7507913  & 1.064052e-01\\\\\n",
       "\tResiduals & 34           &  199.79157   &    5.876223  &          NA  &           NA\\\\\n",
       "\\end{tabular}\n"
      ],
      "text/markdown": [
       "\n",
       "| <!--/--> | Df | Sum Sq | Mean Sq | F value | Pr(>F) |\n",
       "|---|---|---|---|---|---|\n",
       "| TRT |  1           | 1081.60000   | 1081.600000  | 184.0638195  | 2.797907e-15 |\n",
       "| Age |  1           |   51.06922   |   51.069217  |   8.6908239  | 5.745652e-03 |\n",
       "| Sex |  1           |    1.05506   |    1.055060  |   0.1795472  | 6.744314e-01 |\n",
       "| TRT:Age |  1           |   10.31989   |   10.319888  |   1.7562112  | 1.939349e-01 |\n",
       "| Age:Sex |  1           |   16.16426   |   16.164263  |   2.7507913  | 1.064052e-01 |\n",
       "| Residuals | 34           |  199.79157   |    5.876223  |          NA  |           NA |\n",
       "\n"
      ],
      "text/plain": [
       "          Df Sum Sq     Mean Sq     F value     Pr(>F)      \n",
       "TRT        1 1081.60000 1081.600000 184.0638195 2.797907e-15\n",
       "Age        1   51.06922   51.069217   8.6908239 5.745652e-03\n",
       "Sex        1    1.05506    1.055060   0.1795472 6.744314e-01\n",
       "TRT:Age    1   10.31989   10.319888   1.7562112 1.939349e-01\n",
       "Age:Sex    1   16.16426   16.164263   2.7507913 1.064052e-01\n",
       "Residuals 34  199.79157    5.876223          NA           NA"
      ]
     },
     "metadata": {},
     "output_type": "display_data"
    }
   ],
   "source": [
    "###################################################\n",
    "### code chunk number 10: R4ANCOVA.rnw:415-421\n",
    "###################################################\n",
    "# start with full model\n",
    "m0 = lm(diff~TRT*Age*Sex, dat)\n",
    "# stepwise model selection\n",
    "m1 = step(m0)\n",
    "# output the ANOVA\n",
    "anova(m1)"
   ]
  },
  {
   "cell_type": "markdown",
   "metadata": {},
   "source": [
    "- stepwise model selection을 통해 모형을 선택한 결과를 보면 두가지 교호작용 TRT:Age, Age:Sex 가 포함되어 있다. 하지만 이 두가지 교호작용은 유의수준 0.05 하에서 통계적으로 유의미하지 않으며 이는 주효과(main effect)인 성별(Sex)도 마찬가지이다. 이에 따라 이들을 모두 포함하지 않는 reduced model을 구축하면 다음과 같다."
   ]
  },
  {
   "cell_type": "code",
   "execution_count": 58,
   "metadata": {},
   "outputs": [
    {
     "data": {
      "text/html": [
       "<table>\n",
       "<thead><tr><th></th><th scope=col>Df</th><th scope=col>Sum Sq</th><th scope=col>Mean Sq</th><th scope=col>F value</th><th scope=col>Pr(&gt;F)</th></tr></thead>\n",
       "<tbody>\n",
       "\t<tr><th scope=row>TRT</th><td> 1          </td><td>1081.60000  </td><td>1081.600000 </td><td>176.039512  </td><td>1.228111e-15</td></tr>\n",
       "\t<tr><th scope=row>Age</th><td> 1          </td><td>  51.06922  </td><td>  51.069217 </td><td>  8.311945  </td><td>6.525182e-03</td></tr>\n",
       "\t<tr><th scope=row>Residuals</th><td>37          </td><td> 227.33078  </td><td>   6.144075 </td><td>        NA  </td><td>          NA</td></tr>\n",
       "</tbody>\n",
       "</table>\n"
      ],
      "text/latex": [
       "\\begin{tabular}{r|lllll}\n",
       "  & Df & Sum Sq & Mean Sq & F value & Pr(>F)\\\\\n",
       "\\hline\n",
       "\tTRT &  1           & 1081.60000   & 1081.600000  & 176.039512   & 1.228111e-15\\\\\n",
       "\tAge &  1           &   51.06922   &   51.069217  &   8.311945   & 6.525182e-03\\\\\n",
       "\tResiduals & 37           &  227.33078   &    6.144075  &         NA   &           NA\\\\\n",
       "\\end{tabular}\n"
      ],
      "text/markdown": [
       "\n",
       "| <!--/--> | Df | Sum Sq | Mean Sq | F value | Pr(>F) |\n",
       "|---|---|---|---|---|---|\n",
       "| TRT |  1           | 1081.60000   | 1081.600000  | 176.039512   | 1.228111e-15 |\n",
       "| Age |  1           |   51.06922   |   51.069217  |   8.311945   | 6.525182e-03 |\n",
       "| Residuals | 37           |  227.33078   |    6.144075  |         NA   |           NA |\n",
       "\n"
      ],
      "text/plain": [
       "          Df Sum Sq     Mean Sq     F value    Pr(>F)      \n",
       "TRT        1 1081.60000 1081.600000 176.039512 1.228111e-15\n",
       "Age        1   51.06922   51.069217   8.311945 6.525182e-03\n",
       "Residuals 37  227.33078    6.144075         NA           NA"
      ]
     },
     "metadata": {},
     "output_type": "display_data"
    },
    {
     "data": {
      "text/plain": [
       "\n",
       "Call:\n",
       "lm(formula = diff ~ TRT + Age, data = dat)\n",
       "\n",
       "Residuals:\n",
       "    Min      1Q  Median      3Q     Max \n",
       "-5.9039 -1.6516 -0.0091  1.1557  5.2299 \n",
       "\n",
       "Coefficients:\n",
       "            Estimate Std. Error t value Pr(>|t|)    \n",
       "(Intercept) -6.78086    2.97236  -2.281  0.02838 *  \n",
       "TRTB        10.13149    0.78936  12.835 3.38e-15 ***\n",
       "Age         -0.17323    0.06009  -2.883  0.00653 ** \n",
       "---\n",
       "Signif. codes:  0 '***' 0.001 '**' 0.01 '*' 0.05 '.' 0.1 ' ' 1\n",
       "\n",
       "Residual standard error: 2.479 on 37 degrees of freedom\n",
       "Multiple R-squared:  0.8328,\tAdjusted R-squared:  0.8238 \n",
       "F-statistic: 92.18 on 2 and 37 DF,  p-value: 4.243e-15\n"
      ]
     },
     "metadata": {},
     "output_type": "display_data"
    }
   ],
   "source": [
    "###################################################\n",
    "### code chunk number 11: R4ANCOVA.rnw:425-431\n",
    "###################################################\n",
    "# fit the reduced model\n",
    "m2 = lm(diff~TRT+Age, dat)\n",
    "# output the anova\n",
    "anova(m2)\n",
    "# output the model fit\n",
    "summary(m2)"
   ]
  },
  {
   "cell_type": "markdown",
   "metadata": {},
   "source": [
    "- reduced model을 구축한 결과 TRT와 Age에 대한 효과가 유의수준 0.05 하에서 모두 통계적으로 의미가 있음을 알 수 있다. 이 모형에 대한 F 통계량 p-value는 $4.24 \\times 10^{-5}$, 결정계수는 $R^{2} = 0.8328$로서 모형이 의미있게 구축되었음을 확인 가능하다. \n",
    "- final model : $DBP Change = − 6.78 − 0.173 × Age + 10.132 × TRTplacebo$\n",
    "- 이 모형에 대한 그래프를 그려보면 다음과 같다."
   ]
  },
  {
   "cell_type": "code",
   "execution_count": 59,
   "metadata": {},
   "outputs": [
    {
     "data": {
      "image/png": "[encoded data removed]",
      "text/plain": [
       "plot without title"
      ]
     },
     "metadata": {},
     "output_type": "display_data"
    }
   ],
   "source": [
    "###################################################\n",
    "### code chunk number 12: ANCOVA.fig4diff\n",
    "###################################################\n",
    "plot(diff~Age,las=1,pch=as.character(TRT), dat, \n",
    "xlab=\"Age\", ylab=\"DBP Change\")\n",
    "abline(m2$coef[1], m2$coef[3],lwd=2, lty=1)\n",
    "abline(m2$coef[1]+m2$coef[2], m2$coef[3],lwd=2, lty=4)"
   ]
  },
  {
   "cell_type": "markdown",
   "metadata": {},
   "source": [
    "- 그래프를 통해 약물을 투여한 경우(A) 그렇지 않은 경우(B)에 비해 혈압이 약 10mmHg 더 떨어지고, 두 그룹 모두 나이가 많을수록 혈압의 변화가 더 커짐을 확인 가능하다.\n",
    "\n",
    "#### 2.1.3 MANCOVA for DBP Change from Baseline \n",
    "\n",
    "- 다음으로 다변량 공변량분석(MANCOVA)를 통해 1주후, 2주후, 3주후, 4주후의 이완기 혈압의 차이가 약물 처리 여부(TRT)와 나이(Age)에 따라 전체적으로 유의미한 차이가 있는지 분석해보도록 한다. 분석은 다음의 4가지 기준을 모두 살펴볼 것이다. \n",
    "  - Wilk's Lambda\n",
    "  - Hotelling-Lawley's trace\n",
    "  - Pillai-Bartlett's criterion\n",
    "  - Roy's greatest root"
   ]
  },
  {
   "cell_type": "code",
   "execution_count": 60,
   "metadata": {},
   "outputs": [
    {
     "name": "stderr",
     "output_type": "stream",
     "text": [
      "The following objects are masked from dat (pos = 3):\n",
      "\n",
      "    Age, DBP1, DBP2, DBP3, DBP4, DBP5, diff, Sex, Subject, TRT\n",
      "\n",
      "The following objects are masked from dat (pos = 9):\n",
      "\n",
      "    Age, DBP1, DBP2, DBP3, DBP4, DBP5, diff, Sex, Subject, TRT\n",
      "\n"
     ]
    }
   ],
   "source": [
    "###################################################\n",
    "### code chunk number 14: R4ANCOVA.rnw:466-473\n",
    "###################################################\n",
    "# attached the data into this R session\n",
    "attach(dat)\n",
    "# create the changes from baseline\n",
    "diff2to1 = DBP2-DBP1\n",
    "diff3to1 = DBP3-DBP1\n",
    "diff4to1 = DBP4-DBP1\n",
    "diff5to1 = DBP5-DBP1\n",
    "###################################################\n",
    "### code chunk number 15: R4ANCOVA.rnw:479-490\n",
    "###################################################\n",
    "# call \"manova\" to fit a manova adjusting for \"Age\"\n",
    "macov1=manova(cbind(diff2to1,diff3to1,diff4to1,\n",
    "\t\t\tdiff5to1)~TRT+Age,dat)"
   ]
  },
  {
   "cell_type": "code",
   "execution_count": 61,
   "metadata": {},
   "outputs": [
    {
     "data": {
      "text/plain": [
       "          Df  Pillai approx F num Df den Df    Pr(>F)    \n",
       "TRT        1 0.83576   43.255      4     34 6.999e-13 ***\n",
       "Age        1 0.28748    3.430      4     34   0.01851 *  \n",
       "Residuals 37                                             \n",
       "---\n",
       "Signif. codes:  0 '***' 0.001 '**' 0.01 '*' 0.05 '.' 0.1 ' ' 1"
      ]
     },
     "metadata": {},
     "output_type": "display_data"
    }
   ],
   "source": [
    "# then F-test with Pillai (default in R)\n",
    "summary(macov1)"
   ]
  },
  {
   "cell_type": "code",
   "execution_count": 62,
   "metadata": {},
   "outputs": [
    {
     "data": {
      "text/plain": [
       "          Df Hotelling-Lawley approx F num Df den Df    Pr(>F)    \n",
       "TRT        1           5.0888   43.255      4     34 6.999e-13 ***\n",
       "Age        1           0.4035    3.430      4     34   0.01851 *  \n",
       "Residuals 37                                                      \n",
       "---\n",
       "Signif. codes:  0 '***' 0.001 '**' 0.01 '*' 0.05 '.' 0.1 ' ' 1"
      ]
     },
     "metadata": {},
     "output_type": "display_data"
    }
   ],
   "source": [
    "# F-test with Hotelling-Lawley\n",
    "summary(macov1, test=\"Hotelling-Lawley\")"
   ]
  },
  {
   "cell_type": "code",
   "execution_count": 63,
   "metadata": {},
   "outputs": [
    {
     "data": {
      "text/plain": [
       "          Df   Wilks approx F num Df den Df    Pr(>F)    \n",
       "TRT        1 0.16424   43.255      4     34 6.999e-13 ***\n",
       "Age        1 0.71252    3.430      4     34   0.01851 *  \n",
       "Residuals 37                                             \n",
       "---\n",
       "Signif. codes:  0 '***' 0.001 '**' 0.01 '*' 0.05 '.' 0.1 ' ' 1"
      ]
     },
     "metadata": {},
     "output_type": "display_data"
    }
   ],
   "source": [
    "# F-test with Wilks\n",
    "summary(macov1, test=\"Wilks\")"
   ]
  },
  {
   "cell_type": "code",
   "execution_count": 64,
   "metadata": {},
   "outputs": [
    {
     "data": {
      "text/plain": [
       "          Df    Roy approx F num Df den Df    Pr(>F)    \n",
       "TRT        1 5.0888   43.255      4     34 6.999e-13 ***\n",
       "Age        1 0.4035    3.430      4     34   0.01851 *  \n",
       "Residuals 37                                            \n",
       "---\n",
       "Signif. codes:  0 '***' 0.001 '**' 0.01 '*' 0.05 '.' 0.1 ' ' 1"
      ]
     },
     "metadata": {},
     "output_type": "display_data"
    }
   ],
   "source": [
    "# F-test with Roy\n",
    "summary(macov1, test=\"Roy\")"
   ]
  },
  {
   "cell_type": "markdown",
   "metadata": {},
   "source": [
    "- 분석결과 4가지 기준 모두 유의수준 0.05 하에서 TRT와 Age 모두 혈압의 변화에 유의미한 영향력이 있음을 알 수 있다.\n",
    "\n",
    "### 2.2 Analysis of Betablocker Trial\n",
    "- 22곳의 치료센터에서 측정된 사망률과 관련한 데이터\n",
    "- 베타차단제가 심근경색증으로 인한 사망률을 효과적으로 낮추는지에 대한 연구가 주된 목적임"
   ]
  },
  {
   "cell_type": "code",
   "execution_count": 65,
   "metadata": {},
   "outputs": [
    {
     "data": {
      "text/html": [
       "<table>\n",
       "<thead><tr><th scope=col>Deaths</th><th scope=col>Total</th><th scope=col>Center</th><th scope=col>Treatment</th></tr></thead>\n",
       "<tbody>\n",
       "\t<tr><td>  3    </td><td>  39   </td><td>1      </td><td>Control</td></tr>\n",
       "\t<tr><td> 14    </td><td> 116   </td><td>2      </td><td>Control</td></tr>\n",
       "\t<tr><td> 11    </td><td>  93   </td><td>3      </td><td>Control</td></tr>\n",
       "\t<tr><td>127    </td><td>1520   </td><td>4      </td><td>Control</td></tr>\n",
       "\t<tr><td> 27    </td><td> 365   </td><td>5      </td><td>Control</td></tr>\n",
       "\t<tr><td>  6    </td><td>  52   </td><td>6      </td><td>Control</td></tr>\n",
       "</tbody>\n",
       "</table>\n"
      ],
      "text/latex": [
       "\\begin{tabular}{r|llll}\n",
       " Deaths & Total & Center & Treatment\\\\\n",
       "\\hline\n",
       "\t   3     &   39    & 1       & Control\\\\\n",
       "\t  14     &  116    & 2       & Control\\\\\n",
       "\t  11     &   93    & 3       & Control\\\\\n",
       "\t 127     & 1520    & 4       & Control\\\\\n",
       "\t  27     &  365    & 5       & Control\\\\\n",
       "\t   6     &   52    & 6       & Control\\\\\n",
       "\\end{tabular}\n"
      ],
      "text/markdown": [
       "\n",
       "| Deaths | Total | Center | Treatment |\n",
       "|---|---|---|---|\n",
       "|   3     |   39    | 1       | Control |\n",
       "|  14     |  116    | 2       | Control |\n",
       "|  11     |   93    | 3       | Control |\n",
       "| 127     | 1520    | 4       | Control |\n",
       "|  27     |  365    | 5       | Control |\n",
       "|   6     |   52    | 6       | Control |\n",
       "\n"
      ],
      "text/plain": [
       "  Deaths Total Center Treatment\n",
       "1   3      39  1      Control  \n",
       "2  14     116  2      Control  \n",
       "3  11      93  3      Control  \n",
       "4 127    1520  4      Control  \n",
       "5  27     365  5      Control  \n",
       "6   6      52  6      Control  "
      ]
     },
     "metadata": {},
     "output_type": "display_data"
    }
   ],
   "source": [
    "###################################################\n",
    "### code chunk number 16: R4ANCOVA.rnw:502-506\n",
    "###################################################\n",
    "library(flexmix)\n",
    "betablocker = read.csv(\"betablocker.csv\",header=T,sep=\",\")\n",
    "betablocker$Center = as.factor(betablocker$Center)\n",
    "head(betablocker)"
   ]
  },
  {
   "cell_type": "markdown",
   "metadata": {},
   "source": [
    "- 먼저 본 데이터에 대해 logistic regression model을 구축해보도록 한다."
   ]
  },
  {
   "cell_type": "code",
   "execution_count": 66,
   "metadata": {},
   "outputs": [
    {
     "data": {
      "text/html": [
       "<table>\n",
       "<thead><tr><th></th><th scope=col>Df</th><th scope=col>Deviance</th><th scope=col>Resid. Df</th><th scope=col>Resid. Dev</th></tr></thead>\n",
       "<tbody>\n",
       "\t<tr><th scope=row>NULL</th><td>NA       </td><td>       NA</td><td>43       </td><td>332.99279</td></tr>\n",
       "\t<tr><th scope=row>Treatment</th><td> 1       </td><td> 27.23208</td><td>42       </td><td>305.76071</td></tr>\n",
       "\t<tr><th scope=row>Center</th><td>21       </td><td>282.14015</td><td>21       </td><td> 23.62057</td></tr>\n",
       "</tbody>\n",
       "</table>\n"
      ],
      "text/latex": [
       "\\begin{tabular}{r|llll}\n",
       "  & Df & Deviance & Resid. Df & Resid. Dev\\\\\n",
       "\\hline\n",
       "\tNULL & NA        &        NA & 43        & 332.99279\\\\\n",
       "\tTreatment &  1        &  27.23208 & 42        & 305.76071\\\\\n",
       "\tCenter & 21        & 282.14015 & 21        &  23.62057\\\\\n",
       "\\end{tabular}\n"
      ],
      "text/markdown": [
       "\n",
       "| <!--/--> | Df | Deviance | Resid. Df | Resid. Dev |\n",
       "|---|---|---|---|---|\n",
       "| NULL | NA        |        NA | 43        | 332.99279 |\n",
       "| Treatment |  1        |  27.23208 | 42        | 305.76071 |\n",
       "| Center | 21        | 282.14015 | 21        |  23.62057 |\n",
       "\n"
      ],
      "text/plain": [
       "          Df Deviance  Resid. Df Resid. Dev\n",
       "NULL      NA        NA 43        332.99279 \n",
       "Treatment  1  27.23208 42        305.76071 \n",
       "Center    21 282.14015 21         23.62057 "
      ]
     },
     "metadata": {},
     "output_type": "display_data"
    },
    {
     "data": {
      "text/plain": [
       "\n",
       "Call:\n",
       "glm(formula = cbind(Deaths, Total - Deaths) ~ Treatment + Center, \n",
       "    family = binomial, data = betablocker)\n",
       "\n",
       "Deviance Residuals: \n",
       "     Min        1Q    Median        3Q       Max  \n",
       "-1.82826  -0.61775   0.00396   0.53502   1.92138  \n",
       "\n",
       "Coefficients:\n",
       "                 Estimate Std. Error z value Pr(>|z|)    \n",
       "(Intercept)      -2.34930    0.42597  -5.515 3.48e-08 ***\n",
       "TreatmentTreated -0.26097    0.04994  -5.225 1.74e-07 ***\n",
       "Center2           0.17389    0.48316   0.360   0.7189    \n",
       "Center3           0.24281    0.50043   0.485   0.6275    \n",
       "Center4          -0.03907    0.43093  -0.091   0.9278    \n",
       "Center5          -0.02168    0.44797  -0.048   0.9614    \n",
       "Center6           0.16851    0.53947   0.312   0.7548    \n",
       "Center7           0.59662    0.43080   1.385   0.1661    \n",
       "Center8           0.27148    0.43734   0.621   0.5348    \n",
       "Center9           0.38877    0.44625   0.871   0.3836    \n",
       "Center10          0.09580    0.42933   0.223   0.8234    \n",
       "Center11          0.05200    0.43632   0.119   0.9051    \n",
       "Center12          0.91535    0.44064   2.077   0.0378 *  \n",
       "Center13         -0.63570    0.47200  -1.347   0.1780    \n",
       "Center14         -0.30645    0.43749  -0.700   0.4836    \n",
       "Center15          1.00157    0.45052   2.223   0.0262 *  \n",
       "Center16          0.87990    0.44493   1.978   0.0480 *  \n",
       "Center17          0.39967    0.45728   0.874   0.3821    \n",
       "Center18         -0.56348    0.50586  -1.114   0.2653    \n",
       "Center19         -1.01443    0.54359  -1.866   0.0620 .  \n",
       "Center20          0.87595    0.44465   1.970   0.0488 *  \n",
       "Center21          0.19660    0.44355   0.443   0.6576    \n",
       "Center22         -0.58122    0.44514  -1.306   0.1917    \n",
       "---\n",
       "Signif. codes:  0 '***' 0.001 '**' 0.01 '*' 0.05 '.' 0.1 ' ' 1\n",
       "\n",
       "(Dispersion parameter for binomial family taken to be 1)\n",
       "\n",
       "    Null deviance: 332.993  on 43  degrees of freedom\n",
       "Residual deviance:  23.621  on 21  degrees of freedom\n",
       "AIC: 287.05\n",
       "\n",
       "Number of Fisher Scoring iterations: 4\n"
      ]
     },
     "metadata": {},
     "output_type": "display_data"
    }
   ],
   "source": [
    "###################################################\n",
    "### code chunk number 18: beta.glm\n",
    "###################################################\n",
    "# fit a logistic regression using glm\n",
    "beta.glm = glm(cbind(Deaths,Total-Deaths)~Treatment+Center,\n",
    "\t\tfamily=binomial,data=betablocker)\n",
    "# print the model fitting\n",
    "anova(beta.glm)\n",
    "###################################################\n",
    "### code chunk number 19: R4ANCOVA.rnw:522-523\n",
    "###################################################\n",
    "summary(beta.glm)"
   ]
  },
  {
   "cell_type": "markdown",
   "metadata": {},
   "source": [
    "- 모형을 구축해본 결과, Treatment와 Center 모두 유의수준 0.05 하에서 환자의 사망률에 유의미한 영향력이 있음을 알 수 있다. 그리고 residual deviance는 자유도 21에 23.621로서 모형이 유의미하게 구축되었고 overdispersion의 위험은 적은 것으로 보여진다. 만약 overdispersion의 위험이 있다고 가정했을 때 Pearson residual을 통해 dispersion parameter를 추정하면 다음과 같다."
   ]
  },
  {
   "cell_type": "code",
   "execution_count": 67,
   "metadata": {},
   "outputs": [
    {
     "data": {
      "text/html": [
       "1.12187088094558"
      ],
      "text/latex": [
       "1.12187088094558"
      ],
      "text/markdown": [
       "1.12187088094558"
      ],
      "text/plain": [
       "[1] 1.121871"
      ]
     },
     "metadata": {},
     "output_type": "display_data"
    }
   ],
   "source": [
    "###################################################\n",
    "### code chunk number 20: R4ANCOVA.rnw:529-531\n",
    "###################################################\n",
    "est.dp = sum(resid(beta.glm, type=\"pearson\")^2)/beta.glm$df.res\n",
    "est.dp"
   ]
  },
  {
   "cell_type": "markdown",
   "metadata": {},
   "source": [
    "- 위의 결과를 통해 dispersion parameter의 추정값은 약 1.122임을 알 수 있다. 이를 바탕으로 모형을 다시 구축하면 다음과 같다."
   ]
  },
  {
   "cell_type": "code",
   "execution_count": 68,
   "metadata": {},
   "outputs": [
    {
     "data": {
      "text/plain": [
       "\n",
       "Call:\n",
       "glm(formula = cbind(Deaths, Total - Deaths) ~ Treatment + Center, \n",
       "    family = binomial, data = betablocker)\n",
       "\n",
       "Deviance Residuals: \n",
       "     Min        1Q    Median        3Q       Max  \n",
       "-1.82826  -0.61775   0.00396   0.53502   1.92138  \n",
       "\n",
       "Coefficients:\n",
       "                 Estimate Std. Error z value Pr(>|z|)    \n",
       "(Intercept)      -2.34930    0.45118  -5.207 1.92e-07 ***\n",
       "TreatmentTreated -0.26097    0.05290  -4.933 8.09e-07 ***\n",
       "Center2           0.17389    0.51176   0.340   0.7340    \n",
       "Center3           0.24281    0.53005   0.458   0.6469    \n",
       "Center4          -0.03907    0.45643  -0.086   0.9318    \n",
       "Center5          -0.02168    0.47448  -0.046   0.9636    \n",
       "Center6           0.16851    0.57140   0.295   0.7681    \n",
       "Center7           0.59662    0.45630   1.308   0.1910    \n",
       "Center8           0.27148    0.46322   0.586   0.5578    \n",
       "Center9           0.38877    0.47266   0.823   0.4108    \n",
       "Center10          0.09580    0.45474   0.211   0.8331    \n",
       "Center11          0.05200    0.46215   0.113   0.9104    \n",
       "Center12          0.91535    0.46672   1.961   0.0498 *  \n",
       "Center13         -0.63570    0.49994  -1.272   0.2035    \n",
       "Center14         -0.30645    0.46338  -0.661   0.5084    \n",
       "Center15          1.00157    0.47718   2.099   0.0358 *  \n",
       "Center16          0.87990    0.47126   1.867   0.0619 .  \n",
       "Center17          0.39967    0.48434   0.825   0.4093    \n",
       "Center18         -0.56348    0.53579  -1.052   0.2930    \n",
       "Center19         -1.01443    0.57576  -1.762   0.0781 .  \n",
       "Center20          0.87595    0.47097   1.860   0.0629 .  \n",
       "Center21          0.19660    0.46980   0.418   0.6756    \n",
       "Center22         -0.58122    0.47148  -1.233   0.2177    \n",
       "---\n",
       "Signif. codes:  0 '***' 0.001 '**' 0.01 '*' 0.05 '.' 0.1 ' ' 1\n",
       "\n",
       "(Dispersion parameter for binomial family taken to be 1.121871)\n",
       "\n",
       "    Null deviance: 332.993  on 43  degrees of freedom\n",
       "Residual deviance:  23.621  on 21  degrees of freedom\n",
       "AIC: 287.05\n",
       "\n",
       "Number of Fisher Scoring iterations: 4\n"
      ]
     },
     "metadata": {},
     "output_type": "display_data"
    }
   ],
   "source": [
    "###################################################\n",
    "### code chunk number 21: R4ANCOVA.rnw:535-536\n",
    "###################################################\n",
    "summary(beta.glm, dispersion=est.dp)"
   ]
  },
  {
   "cell_type": "markdown",
   "metadata": {},
   "source": [
    "- 다시 구축한 모형도 원래의 모형과 같음을 확인 가능하다. 이 두가지 절차를 quasi-likelihood의 방법을 적용한다면 한번에 해결할 수 있다."
   ]
  },
  {
   "cell_type": "code",
   "execution_count": 69,
   "metadata": {},
   "outputs": [
    {
     "data": {
      "text/plain": [
       "\n",
       "Call:\n",
       "glm(formula = cbind(Deaths, Total - Deaths) ~ Treatment + Center, \n",
       "    family = quasibinomial, data = betablocker)\n",
       "\n",
       "Deviance Residuals: \n",
       "     Min        1Q    Median        3Q       Max  \n",
       "-1.82826  -0.61775   0.00396   0.53502   1.92138  \n",
       "\n",
       "Coefficients:\n",
       "                 Estimate Std. Error t value Pr(>|t|)    \n",
       "(Intercept)      -2.34930    0.45118  -5.207 3.68e-05 ***\n",
       "TreatmentTreated -0.26097    0.05290  -4.933 7.02e-05 ***\n",
       "Center2           0.17389    0.51176   0.340   0.7374    \n",
       "Center3           0.24281    0.53005   0.458   0.6516    \n",
       "Center4          -0.03907    0.45643  -0.086   0.9326    \n",
       "Center5          -0.02168    0.47448  -0.046   0.9640    \n",
       "Center6           0.16851    0.57140   0.295   0.7710    \n",
       "Center7           0.59662    0.45630   1.308   0.2052    \n",
       "Center8           0.27148    0.46322   0.586   0.5641    \n",
       "Center9           0.38877    0.47266   0.823   0.4200    \n",
       "Center10          0.09580    0.45474   0.211   0.8352    \n",
       "Center11          0.05200    0.46215   0.113   0.9115    \n",
       "Center12          0.91535    0.46672   1.961   0.0632 .  \n",
       "Center13         -0.63570    0.49994  -1.272   0.2174    \n",
       "Center14         -0.30645    0.46338  -0.661   0.5156    \n",
       "Center15          1.00157    0.47718   2.099   0.0481 *  \n",
       "Center16          0.87990    0.47126   1.867   0.0759 .  \n",
       "Center17          0.39967    0.48434   0.825   0.4185    \n",
       "Center18         -0.56348    0.53579  -1.052   0.3049    \n",
       "Center19         -1.01443    0.57576  -1.762   0.0926 .  \n",
       "Center20          0.87595    0.47097   1.860   0.0770 .  \n",
       "Center21          0.19660    0.46980   0.418   0.6799    \n",
       "Center22         -0.58122    0.47148  -1.233   0.2313    \n",
       "---\n",
       "Signif. codes:  0 '***' 0.001 '**' 0.01 '*' 0.05 '.' 0.1 ' ' 1\n",
       "\n",
       "(Dispersion parameter for quasibinomial family taken to be 1.121871)\n",
       "\n",
       "    Null deviance: 332.993  on 43  degrees of freedom\n",
       "Residual deviance:  23.621  on 21  degrees of freedom\n",
       "AIC: NA\n",
       "\n",
       "Number of Fisher Scoring iterations: 4\n"
      ]
     },
     "metadata": {},
     "output_type": "display_data"
    }
   ],
   "source": [
    "###################################################\n",
    "### code chunk number 22: R4ANCOVA.rnw:540-545\n",
    "###################################################\n",
    "# fit quasi-likelihood for binomial data\n",
    "beta.glm2 = glm(cbind(Deaths,Total- Deaths)~Treatment+Center,\n",
    "\tfamily=quasibinomial,data=betablocker)\n",
    "# print the model fit\n",
    "summary(beta.glm2)"
   ]
  },
  {
   "cell_type": "markdown",
   "metadata": {},
   "source": [
    "- 위의 결과를 통해 추정된 dispersion parameter는 약 1.122이다. 주효과 Treatment에 대한 p-value의 값이 이전에 구축된 모형과 비교했을 때 약간의 차이만 있을뿐 결과는 동일함을 확인할 수 있다.\n",
    "\n",
    "### 2.3 Analysis of Data from Familial Adenomatous Ployposis Trial\n",
    "- non-steroidal anti-inflammatory drug (NSAID) in treating familial adenomatous polyposis (FAP) 의 치료효과를 알아보기 위한 데이터"
   ]
  },
  {
   "cell_type": "code",
   "execution_count": 70,
   "metadata": {},
   "outputs": [
    {
     "data": {
      "text/html": [
       "<table>\n",
       "<thead><tr><th scope=col>number</th><th scope=col>treat</th><th scope=col>age</th></tr></thead>\n",
       "<tbody>\n",
       "\t<tr><td>63     </td><td>placebo</td><td>20     </td></tr>\n",
       "\t<tr><td> 2     </td><td>drug   </td><td>16     </td></tr>\n",
       "\t<tr><td>28     </td><td>placebo</td><td>18     </td></tr>\n",
       "\t<tr><td>17     </td><td>drug   </td><td>22     </td></tr>\n",
       "\t<tr><td>61     </td><td>placebo</td><td>13     </td></tr>\n",
       "\t<tr><td> 1     </td><td>drug   </td><td>23     </td></tr>\n",
       "</tbody>\n",
       "</table>\n"
      ],
      "text/latex": [
       "\\begin{tabular}{r|lll}\n",
       " number & treat & age\\\\\n",
       "\\hline\n",
       "\t 63      & placebo & 20     \\\\\n",
       "\t  2      & drug    & 16     \\\\\n",
       "\t 28      & placebo & 18     \\\\\n",
       "\t 17      & drug    & 22     \\\\\n",
       "\t 61      & placebo & 13     \\\\\n",
       "\t  1      & drug    & 23     \\\\\n",
       "\\end{tabular}\n"
      ],
      "text/markdown": [
       "\n",
       "| number | treat | age |\n",
       "|---|---|---|\n",
       "| 63      | placebo | 20      |\n",
       "|  2      | drug    | 16      |\n",
       "| 28      | placebo | 18      |\n",
       "| 17      | drug    | 22      |\n",
       "| 61      | placebo | 13      |\n",
       "|  1      | drug    | 23      |\n",
       "\n"
      ],
      "text/plain": [
       "  number treat   age\n",
       "1 63     placebo 20 \n",
       "2  2     drug    16 \n",
       "3 28     placebo 18 \n",
       "4 17     drug    22 \n",
       "5 61     placebo 13 \n",
       "6  1     drug    23 "
      ]
     },
     "metadata": {},
     "output_type": "display_data"
    }
   ],
   "source": [
    "###################################################\n",
    "### code chunk number 23: R4ANCOVA.rnw:554-556\n",
    "###################################################\n",
    "library(HSAUR)\n",
    "data(polyps)\n",
    "head(polyps)"
   ]
  },
  {
   "cell_type": "markdown",
   "metadata": {},
   "source": [
    "- 본 데이터의 변수 number는 환자의 수로서 counting variable이다. 이에 따라 Poisson Regression model을 적용하면 다음과 같다."
   ]
  },
  {
   "cell_type": "code",
   "execution_count": 71,
   "metadata": {},
   "outputs": [
    {
     "data": {
      "text/plain": [
       "\n",
       "Call:\n",
       "glm(formula = number ~ treat * age, family = poisson(), data = polyps)\n",
       "\n",
       "Deviance Residuals: \n",
       "    Min       1Q   Median       3Q      Max  \n",
       "-4.2406  -3.0403  -0.0865   1.4392   5.8490  \n",
       "\n",
       "Coefficients:\n",
       "               Estimate Std. Error z value Pr(>|z|)    \n",
       "(Intercept)    4.519119   0.153362  29.467  < 2e-16 ***\n",
       "treatdrug     -1.257258   0.471626  -2.666  0.00768 ** \n",
       "age           -0.038403   0.006245  -6.149  7.8e-10 ***\n",
       "treatdrug:age -0.004631   0.020823  -0.222  0.82402    \n",
       "---\n",
       "Signif. codes:  0 '***' 0.001 '**' 0.01 '*' 0.05 '.' 0.1 ' ' 1\n",
       "\n",
       "(Dispersion parameter for poisson family taken to be 1)\n",
       "\n",
       "    Null deviance: 378.66  on 19  degrees of freedom\n",
       "Residual deviance: 179.49  on 16  degrees of freedom\n",
       "AIC: 275.83\n",
       "\n",
       "Number of Fisher Scoring iterations: 5\n"
      ]
     },
     "metadata": {},
     "output_type": "display_data"
    }
   ],
   "source": [
    "###################################################\n",
    "### code chunk number 25: R4ANCOVA.rnw:566-570\n",
    "###################################################\n",
    "# Poisson Regression\n",
    "m0.polyps = glm(number~treat*age, polyps, family=poisson())\n",
    "# print the model fit\n",
    "summary(m0.polyps)"
   ]
  },
  {
   "cell_type": "markdown",
   "metadata": {},
   "source": [
    "- 모형을 구축한 결과 표면적으로 주효과 treatment와 age는 number에 대해 통계적으로 유의미한 영향력이 있다. 하지만 residual deviance는 자유도 16에 대해 179.49로 산출되어 overdispersion의 위험성이 크다고 판단된다. "
   ]
  },
  {
   "cell_type": "code",
   "execution_count": 72,
   "metadata": {},
   "outputs": [
    {
     "data": {
      "text/html": [
       "11.3753686333989"
      ],
      "text/latex": [
       "11.3753686333989"
      ],
      "text/markdown": [
       "11.3753686333989"
      ],
      "text/plain": [
       "[1] 11.37537"
      ]
     },
     "metadata": {},
     "output_type": "display_data"
    }
   ],
   "source": [
    "###################################################\n",
    "### code chunk number 26: R4ANCOVA.rnw:574-576\n",
    "###################################################\n",
    "est.dp = sum(resid(m0.polyps, type=\"pearson\")^2)/m0.polyps$df.res\n",
    "est.dp"
   ]
  },
  {
   "cell_type": "markdown",
   "metadata": {},
   "source": [
    "- Pearson residual을 통해 추정된 dispersion parameter는 약 11.375이다. 이를 이용하여 모형을 다시 구축하면 다음과 같다."
   ]
  },
  {
   "cell_type": "code",
   "execution_count": 73,
   "metadata": {},
   "outputs": [
    {
     "data": {
      "text/plain": [
       "\n",
       "Call:\n",
       "glm(formula = number ~ treat * age, family = poisson(), data = polyps)\n",
       "\n",
       "Deviance Residuals: \n",
       "    Min       1Q   Median       3Q      Max  \n",
       "-4.2406  -3.0403  -0.0865   1.4392   5.8490  \n",
       "\n",
       "Coefficients:\n",
       "               Estimate Std. Error z value Pr(>|z|)    \n",
       "(Intercept)    4.519119   0.517251   8.737   <2e-16 ***\n",
       "treatdrug     -1.257258   1.590673  -0.790   0.4293    \n",
       "age           -0.038403   0.021064  -1.823   0.0683 .  \n",
       "treatdrug:age -0.004631   0.070230  -0.066   0.9474    \n",
       "---\n",
       "Signif. codes:  0 '***' 0.001 '**' 0.01 '*' 0.05 '.' 0.1 ' ' 1\n",
       "\n",
       "(Dispersion parameter for poisson family taken to be 11.37537)\n",
       "\n",
       "    Null deviance: 378.66  on 19  degrees of freedom\n",
       "Residual deviance: 179.49  on 16  degrees of freedom\n",
       "AIC: 275.83\n",
       "\n",
       "Number of Fisher Scoring iterations: 5\n"
      ]
     },
     "metadata": {},
     "output_type": "display_data"
    }
   ],
   "source": [
    "###################################################\n",
    "### code chunk number 27: R4ANCOVA.rnw:579-580\n",
    "###################################################\n",
    "summary(m0.polyps, dispersion=est.dp)"
   ]
  },
  {
   "cell_type": "markdown",
   "metadata": {},
   "source": [
    "- 새로 구축한 모형에서는 treatment와 age도 모두 유의한 영향력이 없다는 결과를 보여주고 있다. 하지만, 교호작용은 처음 구축한 모형에서도 유의성이 없었으므로 이를 제외하고 모형을 구축해보도록 한다."
   ]
  },
  {
   "cell_type": "code",
   "execution_count": 74,
   "metadata": {},
   "outputs": [
    {
     "data": {
      "text/html": [
       "10.7278293740154"
      ],
      "text/latex": [
       "10.7278293740154"
      ],
      "text/markdown": [
       "10.7278293740154"
      ],
      "text/plain": [
       "[1] 10.72783"
      ]
     },
     "metadata": {},
     "output_type": "display_data"
    },
    {
     "data": {
      "text/plain": [
       "\n",
       "Call:\n",
       "glm(formula = number ~ treat + age, family = poisson(), data = polyps)\n",
       "\n",
       "Deviance Residuals: \n",
       "    Min       1Q   Median       3Q      Max  \n",
       "-4.2212  -3.0536  -0.1802   1.4459   5.8301  \n",
       "\n",
       "Coefficients:\n",
       "            Estimate Std. Error z value Pr(>|z|)    \n",
       "(Intercept)  4.52902    0.48106   9.415  < 2e-16 ***\n",
       "treatdrug   -1.35908    0.38532  -3.527  0.00042 ***\n",
       "age         -0.03883    0.01951  -1.991  0.04651 *  \n",
       "---\n",
       "Signif. codes:  0 '***' 0.001 '**' 0.01 '*' 0.05 '.' 0.1 ' ' 1\n",
       "\n",
       "(Dispersion parameter for poisson family taken to be 10.72783)\n",
       "\n",
       "    Null deviance: 378.66  on 19  degrees of freedom\n",
       "Residual deviance: 179.54  on 17  degrees of freedom\n",
       "AIC: 273.88\n",
       "\n",
       "Number of Fisher Scoring iterations: 5\n"
      ]
     },
     "metadata": {},
     "output_type": "display_data"
    }
   ],
   "source": [
    "###################################################\n",
    "### code chunk number 28: R4ANCOVA.rnw:584-592\n",
    "###################################################\n",
    "# refit the model without interaction\n",
    "m1.polyps = glm(number~treat+age, polyps, family=poisson())\n",
    "# estimate the dispersion parameter\n",
    "est.dp = sum(resid(m1.polyps, type=\"pearson\")^2)/m1.polyps$df.res\n",
    "# print the estimated dispersion parameter\n",
    "est.dp\n",
    "# print the model fit adjusting the over dispersion\n",
    "summary(m1.polyps, dispersion=est.dp)"
   ]
  },
  {
   "cell_type": "markdown",
   "metadata": {},
   "source": [
    "- 모형을 구축한 결과 추정된 dispersion parameter는 약 10.728이고 treatment와 age 모두 유의미한 영향력이 있다는 결론을 주고 있다. quasi-likelihood의 방법을 적용하면 dispersion parameter를 추정하는 과정까지 한번에 해결할 수 있다."
   ]
  },
  {
   "cell_type": "code",
   "execution_count": 75,
   "metadata": {},
   "outputs": [
    {
     "data": {
      "text/plain": [
       "\n",
       "Call:\n",
       "glm(formula = number ~ treat + age, family = quasipoisson(), \n",
       "    data = polyps)\n",
       "\n",
       "Deviance Residuals: \n",
       "    Min       1Q   Median       3Q      Max  \n",
       "-4.2212  -3.0536  -0.1802   1.4459   5.8301  \n",
       "\n",
       "Coefficients:\n",
       "            Estimate Std. Error t value Pr(>|t|)    \n",
       "(Intercept)  4.52902    0.48106   9.415 3.72e-08 ***\n",
       "treatdrug   -1.35908    0.38533  -3.527  0.00259 ** \n",
       "age         -0.03883    0.01951  -1.991  0.06284 .  \n",
       "---\n",
       "Signif. codes:  0 '***' 0.001 '**' 0.01 '*' 0.05 '.' 0.1 ' ' 1\n",
       "\n",
       "(Dispersion parameter for quasipoisson family taken to be 10.72805)\n",
       "\n",
       "    Null deviance: 378.66  on 19  degrees of freedom\n",
       "Residual deviance: 179.54  on 17  degrees of freedom\n",
       "AIC: NA\n",
       "\n",
       "Number of Fisher Scoring iterations: 5\n"
      ]
     },
     "metadata": {},
     "output_type": "display_data"
    }
   ],
   "source": [
    "###################################################\n",
    "### code chunk number 29: R4ANCOVA.rnw:597-601\n",
    "###################################################\n",
    "# fit the quasi Poisson\n",
    "m2.polyps = glm(number~treat+age, polyps, family=quasipoisson())\n",
    "# print the model fit\n",
    "summary(m2.polyps)"
   ]
  },
  {
   "cell_type": "markdown",
   "metadata": {},
   "source": [
    "- 분석결과 age에 대한 p-value의 값이 약 0.062로서 유의수준 0.05보다 크기는 하지만 영향력이 없다고 보기에는 무리가 있다. 결과적으로 두가지 단계를 모두 거치는 과정과 비교했을 때 동일한 결과를 주고 있음을 알 수 있다.\n",
    "- 또다른 접근법으로서 negative binomial model을 다음과 같이 구축할 수 있다."
   ]
  },
  {
   "cell_type": "code",
   "execution_count": 76,
   "metadata": {},
   "outputs": [
    {
     "data": {
      "text/plain": [
       "\n",
       "Call:\n",
       "glm.nb(formula = number ~ treat + age, data = polyps, init.theta = 1.719491, \n",
       "    link = log)\n",
       "\n",
       "Deviance Residuals: \n",
       "     Min        1Q    Median        3Q       Max  \n",
       "-1.83270  -1.13898  -0.08851   0.33637   1.89785  \n",
       "\n",
       "Coefficients:\n",
       "            Estimate Std. Error z value Pr(>|z|)    \n",
       "(Intercept)  4.52603    0.59466   7.611 2.72e-14 ***\n",
       "treatdrug   -1.36812    0.36903  -3.707 0.000209 ***\n",
       "age         -0.03856    0.02095  -1.840 0.065751 .  \n",
       "---\n",
       "Signif. codes:  0 '***' 0.001 '**' 0.01 '*' 0.05 '.' 0.1 ' ' 1\n",
       "\n",
       "(Dispersion parameter for Negative Binomial(1.7195) family taken to be 1)\n",
       "\n",
       "    Null deviance: 36.734  on 19  degrees of freedom\n",
       "Residual deviance: 22.002  on 17  degrees of freedom\n",
       "AIC: 164.88\n",
       "\n",
       "Number of Fisher Scoring iterations: 1\n",
       "\n",
       "\n",
       "              Theta:  1.719 \n",
       "          Std. Err.:  0.607 \n",
       "\n",
       " 2 x log-likelihood:  -156.880 "
      ]
     },
     "metadata": {},
     "output_type": "display_data"
    }
   ],
   "source": [
    "###################################################\n",
    "### code chunk number 30: R4ANCOVA.rnw:607-613\n",
    "###################################################\n",
    "# load the MASS library\n",
    "library(MASS)\n",
    "# fit the negative binomial model\n",
    "m3.polyps = glm.nb(number~treat+age, polyps)\n",
    "# print the model fit\n",
    "summary(m3.polyps)"
   ]
  },
  {
   "cell_type": "markdown",
   "metadata": {},
   "source": [
    "- 모형을 구축한 결과 음이항분포에 대한 모수의 추정값은 $k=1.719$이고 이에 대한 표준오차는 $0.607$이다. 그리고 주효과 treatment에 대한 p-value의 값은 약 0.0002로서 유의수준 0.05 하에서 매우 유의미한 영향력이 있음을 확인 가능하다. 이 결과는 Poisson regression model에 대한 quasi-likelihood 접근법을 적용한 경우와 거의 비슷하다."
   ]
  }
 ],
 "metadata": {
  "kernelspec": {
   "display_name": "R",
   "language": "R",
   "name": "ir"
  },
  "language_info": {
   "codemirror_mode": "r",
   "file_extension": ".r",
   "mimetype": "text/x-r-source",
   "name": "R",
   "pygments_lexer": "r",
   "version": "3.6.1"
  }
 },
 "nbformat": 4,
 "nbformat_minor": 2
}
