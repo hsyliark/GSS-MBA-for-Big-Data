{
 "cells": [
  {
   "cell_type": "markdown",
   "metadata": {},
   "source": [
    "# (Chapter 5) Analysis of Clinical Trials with Time-to-Event Endpoints\n",
    "\n",
    "\n",
    "## 1. Statistical models\n",
    "\n",
    "### 1) Primary Functions and Definitions\n",
    "\n",
    "#### 1-1) The Hazard Function\n",
    "- The definition of hazard function $h(t)$ is...\n",
    "- $h(t)= lim _{\\Delta t \\rightarrow 0} \\frac{P(t \\leq T \\leq t+ \\Delta t|T \\geq t)} {\\Delta t}$\n",
    "- Integrated or cumulative hazard function $H(t)$ is...\n",
    "- $H(t)= \\int _{0} ^{t} {h(u)du}$\n",
    "\n",
    "#### 1-2) The Survival Function\n",
    "- The mathematical definition of the survival function $S(t)$ is...\n",
    "- $S(t)=P(T \\geq t)$\n",
    "\n",
    "#### 1-3) The Death Density Function\n",
    "- The mathematical definition of the death density function $f(t)$ is...\n",
    "- $f(t)= lim _{\\Delta t \\rightarrow 0} \\frac{P(t \\leq T \\leq t+ \\Delta t)} {\\Delta t}$\n",
    "- Associated with this death density function, $f(t)$, the cumulative death distribution function $F(t)$, which is the complement of the survival function...\n",
    "- $F(t)=1-S(t)$\n",
    "\n",
    "#### 1-4) Relationships between These Functions\n",
    "- The hazard, density, survival, and cumulative death distribution functions\n",
    "are interrelated...\n",
    "- $f(t)=- \\frac {d[S(t)]}{dt}$\n",
    "- $h(t)=\\frac {f(t)}{S(t)}=- \\frac {d[lnS(t)]}{dt}$\n",
    "- $S(t)=exp[-\\int _{0} ^{t} {h(u)du}]=exp[-H(t)]$\n",
    "\n",
    "\n",
    "### 2) Parametric Models\n",
    "\n",
    "#### 2-1) The Exponential Model\n",
    "-  constant hazard function : $h(t)=\\lambda_{0} > 0$\n",
    "- $f(t)=\\lambda_{0} exp(-\\lambda_{0} t)$\n",
    "- $S(t)=exp(-\\lambda_{0} t)$\n",
    "- $F(t)=1-exp(-\\lambda_{0} t)$\n",
    "\n",
    "#### 2-2) The Weibull Model\n",
    "- power law hazard function : $h(t)=\\lambda_{0} \\lambda_{1} t^{\\lambda_{1} -1}$, $\\lambda_{0} > 0$ and $\\lambda_{1} > 0$\n",
    "- It may be noted that $\\lambda_{1} > 1$ guarantees that $h(t)$ is monotone increasing.\n",
    "- $f(t)=\\lambda_{0} \\lambda_{1} t^{\\lambda_{1} -1} exp(-\\lambda_{0} t^{\\lambda_{1}})$\n",
    "- $S(t)=exp(-\\lambda_{0} t^{\\lambda_{1}})$\n",
    "- $F(t)=1-exp(-\\lambda_{0} t^{\\lambda_{1}})$\n",
    "\n",
    "#### 2-3) The Rayleigh Model\n",
    "-  linear hazard function : $h(t)=\\lambda_{0} + 2 \\lambda_{1} t$, $\\lambda_{0} > 0$ and $\\lambda_{1} \\geq 0$\n",
    "-  It may be noted that if $\\lambda_{1} > 0$ then $h(t)$ is monotone increasing.\n",
    "- $f(t)=(\\lambda_{0} + 2 \\lambda_{1} t) exp[-(\\lambda_{0} t + \\lambda_{1} t^{2})]$\n",
    "- $S(t)=exp[-(\\lambda_{0} t + \\lambda_{1} t^{2})]$\n",
    "- $F(t)=1-exp[-(\\lambda_{0} t + \\lambda_{1} t^{2})]$\n",
    "\n",
    "#### 2-4) The Gompertz Model\n",
    "- exponential hazard function : $h(t)=exp(\\lambda_{0} + \\lambda_{1} t)$\n",
    "- Note that if $\\lambda_{1} > 0$ then $h(t)$ is monotone increasing.\n",
    "- $f(t)=exp(\\lambda_{0} + \\lambda_{1} t) exp[\\frac {1}{\\lambda_{1}} [exp(\\lambda_{0}) - exp(\\lambda_{0} + \\lambda_{1} t)]]$\n",
    "- $S(t)=exp[\\frac {1}{\\lambda_{1}} [exp(\\lambda_{0}) - exp(\\lambda_{0} + \\lambda_{1} t)]]$\n",
    "- $F(t)=1-exp[\\frac {1}{\\lambda_{1}} [exp(\\lambda_{0}) - exp(\\lambda_{0} + \\lambda_{1} t)]]$\n",
    "\n",
    "#### 2-5) The Lognormal Model\n",
    "- $f(t)=\\frac {1}{\\sqrt {2 \\pi } \\sigma t} exp[-\\frac {(log(t)- \\mu )^{2}} {2 \\sigma^{2}} ]$\n",
    "- $S(t)=1-\\Phi[\\frac {log(t)- \\mu}{\\sigma}]$\n",
    "- $\\Phi$ : standard cumulative normal distribution\n",
    "- $h(t)=\\frac {f(t)}{S(t)}$\n",
    "- $F(t)=\\Phi[\\frac {log(t)- \\mu}{\\sigma}]$\n",
    "\n",
    "\n",
    "### 3) Statistical Methods for Right-Censored Data\n",
    "\n",
    "#### 3-1) Nonparametric Models : Kaplan-Meier Estimator\n",
    "- $t_{(1)} \\leq t_{(2)} \\leq \\dots \\leq t_{(n)}$, $t_{(j)}$ : the $j$th ordered survival time\n",
    "- Kaplan-Meier Estimator : $\\hat{S}(t)=\\Pi_{R(j)} (1- \\frac {e_{j}}{r_{j}})$\n",
    "- $r_{j}$ : the dimension of the risk set of $R(j)=\\{j : t_{j} \\leq t \\}$\n",
    "- $e_{j}$ : the number of patients who die at time $t_{(j)}$\n",
    "- $Var[\\hat{S}(t)]=[\\hat{S}(t)]^{2} \\Pi_{R(j)} \\frac {e_{j}}{r_{j}(r_{j}-e_{j})}$\n",
    "\n",
    "#### 3-2) Cox Proportion Hazards Regression\n",
    "- $h(t|X)=h_{0}(t) exp(X\\beta)$\n",
    "- $\\frac {h(t|X_{1})}{h(t|X_{2})} = \\frac {exp(X_{1}\\beta)}{exp(X_{2}\\beta)}$\n",
    "- $S(t|X)=exp[-\\int _{0} ^{t} h(u|X)du]=\\{exp[-H_{0}(t)]\\}^{exp(X\\beta)}$\n",
    "\n",
    "### 4) Statistical Methods for Interval-Censored Data\n",
    "\n",
    "#### 4-1) Turnbull's Nonparametric Estimator\n",
    "-  $0 = \\tau_{0} < \\tau_{1} < \\tau_{2} < \\dots < \\tau_{m}$ be the ordered time points including all left $t_{L_{i}}$ and right $t_{U_{i}}$ time points in all intervals of $(t_{L_{i}}, t_{U_{i}})$, $i = 1, 2, \\dots , n$, from $n$ patients\n",
    "- $I_{ij}=I( (\\tau_{j−1}, \\tau_{j} ) \\in (t_{L_{i}}, t_{U_{i}}])$\n",
    "- 1. Make an initial guess at $S(\\tau_{j})$ and compute $p_{j}=S(\\tau_{j-1})-S(\\tau_{j})$, $j=1,2,\\dots,m$\n",
    "- 2. Compute the number of events occurred at $\\tau_{j}$ using $e_{j}=\\sum _{i=1} ^{n} \\frac {p_{j}I_{ij}} {\\sum _{k=1} ^{m} p_{k}I_{ik}}$, $j=1,2,\\dots,m$\n",
    "- 3. Compute the estimated number at risk at time $\\tau_{j}$ using $r_{j}=\\sum _{k=j} ^{m} e_{k}$\n",
    "- 4. Compute the updated product-limit estimator $S(\\tau_{j})$ using the constructed pseudo-data from Steps 2 to 3.\n",
    "- 5. Iterate Steps 1 to 4 and update $S_{new}(\\tau_{j})$ from the previous step. If $S(\\tau_{j})$ is close to its value in the previous step for all $\\tau$’s, stop the iterative process. The convergence of the iterative approach depends on the initial guess of $S(\\tau_{j})$, which are typically estimated using the Kaplan-Meier estimator.\n",
    "\n",
    "#### 4-2) Parametric Likelihood Estimation with Covariates\n",
    "- $S(t|X)=\\{S_{0}(t)\\}^{exp(\\beta^{T}X)}=\\{1-F_{0}(t)\\}^{exp(\\beta^{T}X)}=1-F(t|X)$\n",
    "- Log-Likelihood function is...\n",
    "- $logL(F_{0},\\beta,\\theta)=\\sum _{i=1} ^{n} log \\{[1-F_{0}(t_{L_{i}},\\theta)]^{exp(\\beta^{T}X)}-[1-F_{0}(t_{U_{i}},\\theta)]^{exp(\\beta^{T}X)}$\n",
    "\n",
    "#### 4-3) Semiparametric Estimation : the IntCox\n",
    "- Since the parameter vector $\\theta$ associated with $F_{0}(t)$ is eliminated, the log-likelihood function becomes...\n",
    "- $logL(F_{0},\\beta)=\\sum _{i=1} ^{n} log \\{[1-F_{0}(t_{L_{i}})]^{exp(\\beta^{T}X)}-[1-F_{0}(t_{U_{i}})]^{exp(\\beta^{T}X)}$ \n",
    "- Using Newton-Raphson Algorithm...\n"
   ]
  },
  {
   "cell_type": "markdown",
   "metadata": {},
   "source": [
    "## 2. R program\n",
    "\n",
    "### 1) Stage-2 Breast Carcimona\n",
    "\n",
    "#### 1-1) Fit Kaplan-Meier"
   ]
  },
  {
   "cell_type": "code",
   "execution_count": 1,
   "metadata": {},
   "outputs": [
    {
     "data": {
      "text/html": [
       "<table>\n",
       "<thead><tr><th scope=col>TRT</th><th scope=col>Time</th><th scope=col>Status</th><th scope=col>Age</th></tr></thead>\n",
       "<tbody>\n",
       "\t<tr><td>S+CT</td><td> 48 </td><td>1   </td><td>26  </td></tr>\n",
       "\t<tr><td>S+CT</td><td> 55 </td><td>0   </td><td>65  </td></tr>\n",
       "\t<tr><td>S+CT</td><td> 58 </td><td>1   </td><td>48  </td></tr>\n",
       "\t<tr><td>S+CT</td><td> 63 </td><td>0   </td><td>53  </td></tr>\n",
       "\t<tr><td>S+CT</td><td>102 </td><td>0   </td><td>55  </td></tr>\n",
       "\t<tr><td>S+CT</td><td>133 </td><td>0   </td><td>63  </td></tr>\n",
       "</tbody>\n",
       "</table>\n"
      ],
      "text/latex": [
       "\\begin{tabular}{r|llll}\n",
       " TRT & Time & Status & Age\\\\\n",
       "\\hline\n",
       "\t S+CT &  48  & 1    & 26  \\\\\n",
       "\t S+CT &  55  & 0    & 65  \\\\\n",
       "\t S+CT &  58  & 1    & 48  \\\\\n",
       "\t S+CT &  63  & 0    & 53  \\\\\n",
       "\t S+CT & 102  & 0    & 55  \\\\\n",
       "\t S+CT & 133  & 0    & 63  \\\\\n",
       "\\end{tabular}\n"
      ],
      "text/markdown": [
       "\n",
       "| TRT | Time | Status | Age |\n",
       "|---|---|---|---|\n",
       "| S+CT |  48  | 1    | 26   |\n",
       "| S+CT |  55  | 0    | 65   |\n",
       "| S+CT |  58  | 1    | 48   |\n",
       "| S+CT |  63  | 0    | 53   |\n",
       "| S+CT | 102  | 0    | 55   |\n",
       "| S+CT | 133  | 0    | 63   |\n",
       "\n"
      ],
      "text/plain": [
       "  TRT  Time Status Age\n",
       "1 S+CT  48  1      26 \n",
       "2 S+CT  55  0      65 \n",
       "3 S+CT  58  1      48 \n",
       "4 S+CT  63  0      53 \n",
       "5 S+CT 102  0      55 \n",
       "6 S+CT 133  0      63 "
      ]
     },
     "metadata": {},
     "output_type": "display_data"
    }
   ],
   "source": [
    "###################################################\n",
    "### code chunk number 2: Surv.dat1\n",
    "###################################################\n",
    "dat <- read.csv(\"CTCarcinoma.csv\", header=T)\n",
    "# show first 6 observations using R function \"head\"\n",
    "head(dat)"
   ]
  },
  {
   "cell_type": "markdown",
   "metadata": {},
   "source": [
    "- 유방암 환자와 관련한 자료 (TRT : 치료방법, Time : 생존시간, Status : 중도절단여부, Age : 연령)"
   ]
  },
  {
   "cell_type": "code",
   "execution_count": 2,
   "metadata": {},
   "outputs": [
    {
     "data": {
      "text/plain": [
       "Call: survfit(formula = Surv(Time, Status == 0) ~ TRT, data = dat, \n",
       "    type = c(\"kaplan-meier\"))\n",
       "\n",
       "             n events median 0.95LCL 0.95UCL\n",
       "TRT=S+CT    11      6    144     102      NA\n",
       "TRT=S+CT+IT 10      3     NA     158      NA\n",
       "TRT=S+IT    10      5    192     144      NA"
      ]
     },
     "metadata": {},
     "output_type": "display_data"
    }
   ],
   "source": [
    "###################################################\n",
    "### code chunk number 3: Surv.km\n",
    "###################################################\n",
    "# load the R library\n",
    "library(survival)\n",
    "# fit Kaplan-Meier \n",
    "fit.km <- survfit(Surv(Time,Status==0)~TRT,\n",
    "\t\ttype=c(\"kaplan-meier\"),dat)\n",
    "# print the model fitting\n",
    "fit.km"
   ]
  },
  {
   "cell_type": "markdown",
   "metadata": {},
   "source": [
    "- Kaplan-Meier 추정방법을 통하여 각 치료방법에 대한 환자의 수와 사망자의 수, 생존시간의 중앙값, 생존시간의 95% 신뢰구간을 확인할 수 있다. 이 결과를 그래프로 그려보면 다음과 같다."
   ]
  },
  {
   "cell_type": "code",
   "execution_count": 3,
   "metadata": {},
   "outputs": [
    {
     "data": {
      "image/png": "[encoded data removed]",
      "text/plain": [
       "plot without title"
      ]
     },
     "metadata": {},
     "output_type": "display_data"
    }
   ],
   "source": [
    "###################################################\n",
    "### code chunk number 4: Surv.fig4dat1\n",
    "###################################################\n",
    "plot(fit.km, lty=c(1,4,8),lwd=2,xlab=\"Time in Weeks\",ylab=\"S(t)\")\n",
    "legend(\"bottomleft\",title=\"Line Types\",\n",
    "c(\"S+CT\",\"S+CT+IT\",\"S+IT\"),lty=c(1,4,8), lwd=2)"
   ]
  },
  {
   "cell_type": "markdown",
   "metadata": {},
   "source": [
    "- 각 치료방법을 구분하기 위해 선의 모양을 다르게 적용하였다. 그래프를 그려본 결과 생존시간 그래프가 교차하고 있기 때문에 어느 치료방법이 우수하다고 바로 단정짓기는 어려운 것으로 보인다. "
   ]
  },
  {
   "cell_type": "code",
   "execution_count": 4,
   "metadata": {},
   "outputs": [
    {
     "data": {
      "image/png": "[encoded data removed]",
      "text/plain": [
       "plot without title"
      ]
     },
     "metadata": {},
     "output_type": "display_data"
    }
   ],
   "source": [
    "###################################################\n",
    "### code chunk number 6: Surv.fig4hazard1\n",
    "###################################################\n",
    "fit.fleming <- survfit(Surv(Time,Status==0)~TRT,\n",
    "\t\tdat,type='fleming') \n",
    "plot(fit.fleming,lty=c(1,4,8),lwd=2,fun=\"cumhaz\", \n",
    "xlab=\"Time in Weeks\", ylab=\"Cumulative Hazard\") \n",
    "legend(\"topleft\",title=\"Line Types\",\n",
    "c(\"S+CT\",\"S+CT+IT\",\"S+IT\"),lty=c(1,4,8),lwd=2) "
   ]
  },
  {
   "cell_type": "markdown",
   "metadata": {},
   "source": [
    "- Cumulative Hazard Function을 그려보아도 결과는 마찬가지이다. 그러므로 Log-Rank test 방법을 적용하여 각 치료방법에 따른 생존시간의 차이가 유의미한지 검정해볼 필요가 있겠다. 이는 다음과 같이 할 수 있다. "
   ]
  },
  {
   "cell_type": "code",
   "execution_count": 5,
   "metadata": {},
   "outputs": [
    {
     "data": {
      "text/plain": [
       "Call:\n",
       "survdiff(formula = Surv(Time, Status == 0) ~ TRT, data = dat)\n",
       "\n",
       "             N Observed Expected (O-E)^2/E (O-E)^2/V\n",
       "TRT=S+CT    11        6     3.64   1.52842   2.12654\n",
       "TRT=S+CT+IT 10        3     5.19   0.92444   1.51837\n",
       "TRT=S+IT    10        5     5.17   0.00549   0.00887\n",
       "\n",
       " Chisq= 2.5  on 2 degrees of freedom, p= 0.3 "
      ]
     },
     "metadata": {},
     "output_type": "display_data"
    }
   ],
   "source": [
    "###################################################\n",
    "### code chunk number 8: R4Surv2.rnw:620-623\n",
    "###################################################\n",
    "# use \"survdiff\" to test difference\n",
    "fit.diff <- survdiff(Surv(Time, Status==0)~TRT,data=dat)\n",
    "fit.diff"
   ]
  },
  {
   "cell_type": "markdown",
   "metadata": {},
   "source": [
    "- $H_{0}$ : 각 치료방법에 따른 생존시간의 차이는 없다. v.s $H_{1}$ : not $H_{0}$\n",
    "- 분석결과, $\\chi^{2}$ test에 대한 유의확률은 $p.value=0.3$으로 산출되었다. 이는 유의수준 $\\alpha=0.05$보다 큰 값이므로 $H_{0}$를 기각하지 못한다. 이에 따라 각 치료방법에 따른 생존시간의 차이는 유의미하지 않다고 결론내리게 된다.\n",
    "\n",
    "#### 1-2) Fit Weibull Parametric Model\n",
    "- 같은 유방암 데이터에 대해 지수모형과 Weibull모형을 적합하면 다음과 같다."
   ]
  },
  {
   "cell_type": "code",
   "execution_count": 6,
   "metadata": {},
   "outputs": [
    {
     "data": {
      "text/plain": [
       "\n",
       "Call:\n",
       "survreg(formula = Surv(Time, Status == 0) ~ TRT, data = dat, \n",
       "    dist = \"exponential\")\n",
       "            Value Std. Error     z      p\n",
       "(Intercept) 5.449      0.408 13.35 <2e-16\n",
       "TRTS+CT+IT  0.919      0.707  1.30   0.19\n",
       "TRTS+IT     0.401      0.606  0.66   0.51\n",
       "\n",
       "Scale fixed at 1 \n",
       "\n",
       "Exponential distribution\n",
       "Loglik(model)= -95   Loglik(intercept only)= -96\n",
       "\tChisq= 1.81 on 2 degrees of freedom, p= 0.4 \n",
       "Number of Newton-Raphson Iterations: 4 \n",
       "n= 31 \n"
      ]
     },
     "metadata": {},
     "output_type": "display_data"
    },
    {
     "data": {
      "text/plain": [
       "\n",
       "Call:\n",
       "survreg(formula = Surv(Time, Status == 0) ~ TRT, data = dat)\n",
       "             Value Std. Error     z      p\n",
       "(Intercept)  5.263      0.221 23.84 <2e-16\n",
       "TRTS+CT+IT   0.611      0.388  1.57 0.1156\n",
       "TRTS+IT      0.293      0.326  0.90 0.3678\n",
       "Log(scale)  -0.627      0.234 -2.68 0.0074\n",
       "\n",
       "Scale= 0.534 \n",
       "\n",
       "Weibull distribution\n",
       "Loglik(model)= -92.2   Loglik(intercept only)= -93.6\n",
       "\tChisq= 2.77 on 2 degrees of freedom, p= 0.25 \n",
       "Number of Newton-Raphson Iterations: 5 \n",
       "n= 31 \n"
      ]
     },
     "metadata": {},
     "output_type": "display_data"
    }
   ],
   "source": [
    "###################################################\n",
    "### code chunk number 9: R4Surv2.rnw:634-641\n",
    "###################################################\n",
    "# fit exponential model\n",
    "fit.exp <- survreg(Surv(Time, Status==0)~TRT,dat,\n",
    "\t\tdist=\"exponential\")\n",
    "summary(fit.exp)\n",
    "# fit Weibull model\n",
    "fit.Weibull <- survreg(Surv(Time, Status==0)~TRT,dat)\n",
    "summary(fit.Weibull)"
   ]
  },
  {
   "cell_type": "markdown",
   "metadata": {},
   "source": [
    "- 분석결과를 통해 Weibull모형에 대한 로그가능도함수의 값(-92.2)이 지수모형에 대한 값(-95)보다 크기 때문에 본 데이터에 대해서는 Weibull모형이 더 적합하다고 판단할 수 있다. 그리고 두 모형 모두 치료효과의 차이가 유의미하지 않다는 결과를 주고 있는데 이는 각 치료방법에 대한 p-value 값으로 해석할 수 있다. 추가적으로 연령(Age)이 생존시간에 대해 유의한 영향을 주고 있는지 알아보기위해 다음과 같이 모형을 적합하도록 한다."
   ]
  },
  {
   "cell_type": "code",
   "execution_count": 7,
   "metadata": {},
   "outputs": [
    {
     "data": {
      "text/plain": [
       "\n",
       "Call:\n",
       "survreg(formula = Surv(Time, Status == 0) ~ TRT + Age, data = dat, \n",
       "    dist = \"exponential\")\n",
       "              Value Std. Error     z       p\n",
       "(Intercept) 11.0560     2.2253  4.97 6.8e-07\n",
       "TRTS+CT+IT   0.7334     0.7072  1.04  0.2998\n",
       "TRTS+IT      0.2329     0.6068  0.38  0.7011\n",
       "Age         -0.0966     0.0366 -2.64  0.0084\n",
       "\n",
       "Scale fixed at 1 \n",
       "\n",
       "Exponential distribution\n",
       "Loglik(model)= -91   Loglik(intercept only)= -96\n",
       "\tChisq= 9.91 on 3 degrees of freedom, p= 0.019 \n",
       "Number of Newton-Raphson Iterations: 5 \n",
       "n= 31 \n"
      ]
     },
     "metadata": {},
     "output_type": "display_data"
    },
    {
     "data": {
      "text/plain": [
       "\n",
       "Call:\n",
       "survreg(formula = Surv(Time, Status == 0) ~ TRT + Age, data = dat)\n",
       "              Value Std. Error     z      p\n",
       "(Intercept)  8.5885     1.3214  6.50  8e-11\n",
       "TRTS+CT+IT   0.3899     0.3505  1.11 0.2660\n",
       "TRTS+IT      0.1038     0.2947  0.35 0.7248\n",
       "Age         -0.0569     0.0217 -2.62 0.0088\n",
       "Log(scale)  -0.7294     0.2291 -3.18 0.0015\n",
       "\n",
       "Scale= 0.482 \n",
       "\n",
       "Weibull distribution\n",
       "Loglik(model)= -87.2   Loglik(intercept only)= -93.6\n",
       "\tChisq= 12.79 on 3 degrees of freedom, p= 0.0051 \n",
       "Number of Newton-Raphson Iterations: 7 \n",
       "n= 31 \n"
      ]
     },
     "metadata": {},
     "output_type": "display_data"
    }
   ],
   "source": [
    "###################################################\n",
    "### code chunk number 10: R4Surv2.rnw:669-676\n",
    "###################################################\n",
    "# fit exponential model +Age\n",
    "fit.exp.age <- survreg(Surv(Time, Status==0)~TRT+Age,\n",
    "\t\tdat,dist=\"exponential\")\n",
    "summary(fit.exp.age)\n",
    "# fit Weibull model+Age\n",
    "fit.Weibull.age <- survreg(Surv(Time,Status==0)~TRT+Age,dat)\n",
    "summary(fit.Weibull.age)"
   ]
  },
  {
   "cell_type": "markdown",
   "metadata": {},
   "source": [
    "- 분석결과, 두 모형 모두 연령이 생존시간에 유의한 영향을 주고 있다는 결과를 보여주고 있다.\n",
    "\n",
    "#### 1-3) Fit Cox Regression Model\n",
    "- 같은 유방암 데이터에 대해 Cox 회귀모형을 적합한 결과는 다음과 같다."
   ]
  },
  {
   "cell_type": "code",
   "execution_count": 8,
   "metadata": {},
   "outputs": [
    {
     "data": {
      "text/plain": [
       "Call:\n",
       "coxph(formula = Surv(Time, Status == 0) ~ TRT, data = dat)\n",
       "\n",
       "  n= 31, number of events= 14 \n",
       "\n",
       "              coef exp(coef) se(coef)      z Pr(>|z|)\n",
       "TRTS+CT+IT -1.0855    0.3377   0.7156 -1.517    0.129\n",
       "TRTS+IT    -0.5482    0.5780   0.6082 -0.901    0.367\n",
       "\n",
       "           exp(coef) exp(-coef) lower .95 upper .95\n",
       "TRTS+CT+IT    0.3377      2.961   0.08308     1.373\n",
       "TRTS+IT       0.5780      1.730   0.17547     1.904\n",
       "\n",
       "Concordance= 0.599  (se = 0.086 )\n",
       "Likelihood ratio test= 2.49  on 2 df,   p=0.3\n",
       "Wald test            = 2.41  on 2 df,   p=0.3\n",
       "Score (logrank) test = 2.57  on 2 df,   p=0.3\n"
      ]
     },
     "metadata": {},
     "output_type": "display_data"
    },
    {
     "data": {
      "text/plain": [
       "Call:\n",
       "coxph(formula = Surv(Time, Status == 0) ~ TRT + Age, data = dat)\n",
       "\n",
       "  n= 31, number of events= 14 \n",
       "\n",
       "               coef exp(coef) se(coef)      z Pr(>|z|)   \n",
       "TRTS+CT+IT -0.86214   0.42226  0.71845 -1.200  0.23014   \n",
       "TRTS+IT    -0.29422   0.74511  0.61201 -0.481  0.63070   \n",
       "Age         0.11251   1.11908  0.04125  2.728  0.00638 **\n",
       "---\n",
       "Signif. codes:  0 '***' 0.001 '**' 0.01 '*' 0.05 '.' 0.1 ' ' 1\n",
       "\n",
       "           exp(coef) exp(-coef) lower .95 upper .95\n",
       "TRTS+CT+IT    0.4223     2.3682    0.1033     1.726\n",
       "TRTS+IT       0.7451     1.3421    0.2245     2.473\n",
       "Age           1.1191     0.8936    1.0322     1.213\n",
       "\n",
       "Concordance= 0.769  (se = 0.064 )\n",
       "Likelihood ratio test= 11.68  on 3 df,   p=0.009\n",
       "Wald test            = 9.13  on 3 df,   p=0.03\n",
       "Score (logrank) test = 9.72  on 3 df,   p=0.02\n"
      ]
     },
     "metadata": {},
     "output_type": "display_data"
    }
   ],
   "source": [
    "###################################################\n",
    "### code chunk number 11: R4Surv2.rnw:684-690\n",
    "###################################################\n",
    "# fit Cox\n",
    "fit.Cox <- coxph(Surv(Time, Status==0)~TRT,dat)\n",
    "summary(fit.Cox)\n",
    "# fit Cox +Age\n",
    "fit.Cox.age <- coxph(Surv(Time, Status==0)~TRT+Age,dat)\n",
    "summary(fit.Cox.age)"
   ]
  },
  {
   "cell_type": "markdown",
   "metadata": {},
   "source": [
    "- 분석결과, 마찬가지로 치료방법은 생존시간에 유의미한 영향력이 없으나 연령은 유의미한 영향이 확실이 있다는 결론을 내릴 수 있다.\n",
    "\n",
    "### 2) Breast Cancer with Interval-Censored data\n",
    "- 구간중도절단이 있는 유방암 자료 (tL : 중도절단 구간에 대한 하한, tU : 중도절단 구간에 대한 상한, TRT : 치료방법, Status : 중도절단여부)"
   ]
  },
  {
   "cell_type": "code",
   "execution_count": 9,
   "metadata": {},
   "outputs": [
    {
     "data": {
      "text/html": [
       "<table>\n",
       "<thead><tr><th scope=col>tL</th><th scope=col>tU</th><th scope=col>TRT</th><th scope=col>Status</th></tr></thead>\n",
       "<tbody>\n",
       "\t<tr><td>0 </td><td> 7</td><td>1 </td><td>1 </td></tr>\n",
       "\t<tr><td>0 </td><td> 8</td><td>1 </td><td>1 </td></tr>\n",
       "\t<tr><td>0 </td><td> 5</td><td>1 </td><td>1 </td></tr>\n",
       "\t<tr><td>4 </td><td>11</td><td>1 </td><td>1 </td></tr>\n",
       "\t<tr><td>5 </td><td>12</td><td>1 </td><td>1 </td></tr>\n",
       "\t<tr><td>5 </td><td>11</td><td>1 </td><td>1 </td></tr>\n",
       "</tbody>\n",
       "</table>\n"
      ],
      "text/latex": [
       "\\begin{tabular}{r|llll}\n",
       " tL & tU & TRT & Status\\\\\n",
       "\\hline\n",
       "\t 0  &  7 & 1  & 1 \\\\\n",
       "\t 0  &  8 & 1  & 1 \\\\\n",
       "\t 0  &  5 & 1  & 1 \\\\\n",
       "\t 4  & 11 & 1  & 1 \\\\\n",
       "\t 5  & 12 & 1  & 1 \\\\\n",
       "\t 5  & 11 & 1  & 1 \\\\\n",
       "\\end{tabular}\n"
      ],
      "text/markdown": [
       "\n",
       "| tL | tU | TRT | Status |\n",
       "|---|---|---|---|\n",
       "| 0  |  7 | 1  | 1  |\n",
       "| 0  |  8 | 1  | 1  |\n",
       "| 0  |  5 | 1  | 1  |\n",
       "| 4  | 11 | 1  | 1  |\n",
       "| 5  | 12 | 1  | 1  |\n",
       "| 5  | 11 | 1  | 1  |\n",
       "\n"
      ],
      "text/plain": [
       "  tL tU TRT Status\n",
       "1 0   7 1   1     \n",
       "2 0   8 1   1     \n",
       "3 0   5 1   1     \n",
       "4 4  11 1   1     \n",
       "5 5  12 1   1     \n",
       "6 5  11 1   1     "
      ]
     },
     "metadata": {},
     "output_type": "display_data"
    }
   ],
   "source": [
    "###################################################\n",
    "### code chunk number 12: R4Surv2.rnw:705-707\n",
    "###################################################\n",
    "dat <- read.csv(\"BreastCancer.csv\", header=T)\n",
    "head(dat)"
   ]
  },
  {
   "cell_type": "markdown",
   "metadata": {},
   "source": [
    "#### 2-1) Fit Turnbull's Nonparametric Estimator\n",
    "- 본 자료에 대해 Turnbull의 비모수적 추정방법을 적용해보도록 한다. 먼저 주어진 자료에 있는 중도절단구간의 상한과 하한에 대해 정렬하는 함수를 만든다."
   ]
  },
  {
   "cell_type": "code",
   "execution_count": 10,
   "metadata": {},
   "outputs": [],
   "source": [
    "###################################################\n",
    "### code chunk number 13: R4Surv2.rnw:720-726\n",
    "###################################################\n",
    "cria.tau = function(data){\n",
    "l   = data$tL;r = data$tU\n",
    "# sort all the time points\n",
    "tau = sort(unique(c(l,r[is.finite(r)])))\n",
    "return(tau)\n",
    "}"
   ]
  },
  {
   "cell_type": "markdown",
   "metadata": {},
   "source": [
    "- 그 다음, 각각에 대해 Kaplan-Meier 추정량을 구하는 함수를 만든다."
   ]
  },
  {
   "cell_type": "code",
   "execution_count": 11,
   "metadata": {},
   "outputs": [],
   "source": [
    "###################################################\n",
    "### code chunk number 14: R4Surv2.rnw:730-741\n",
    "###################################################\n",
    "S.ini = function(tau){\n",
    "# take the ordered time\n",
    "m    = length(tau)\n",
    "# fit the Kaplan-Meier\n",
    "ekm  = survfit(Surv(tau[1:m-1],rep(1,m-1))~1)\n",
    "# Output the estimated Survival\n",
    "So   = c(1,ekm$surv)\n",
    "# estimate the step\n",
    "p    = -diff(So)\n",
    "return(p)\n",
    "}"
   ]
  },
  {
   "cell_type": "markdown",
   "metadata": {},
   "source": [
    "- 이를 바탕으로 하여 Turnbull의 비모수적 추정량을 구하는 함수를 다음과 같이 정의할 수 있다."
   ]
  },
  {
   "cell_type": "code",
   "execution_count": 12,
   "metadata": {},
   "outputs": [],
   "source": [
    "###################################################\n",
    "### code chunk number 15: R4Surv2.rnw:745-778\n",
    "###################################################\n",
    "cria.A = function(data,tau){\n",
    "tau12  = cbind(tau[-length(tau)],tau[-1])\n",
    "interv = function(x,inf,sup) \n",
    "\t\tifelse(x[1]>=inf & x[2]<=sup,1,0)\n",
    "A      = apply(tau12,1,interv,inf=data$tL,sup=data$tU)\n",
    "id.lin.zero = which(apply(A==0, 1, all))\n",
    "if(length(id.lin.zero)>0) A = A[-id.lin.zero, ]\n",
    "return(A)\n",
    "}\n",
    "# Turnbull function\n",
    "Turnbull = function(p, A, data, eps=1e-3, \n",
    "\titer.max=200, verbose=FALSE){\n",
    "n =nrow(A);m=ncol(A);Q=matrix(1,m)\n",
    "iter    = 0\n",
    "repeat {\n",
    "iter = iter + 1; diff = (Q-p)\n",
    "maxdiff = max(abs(as.vector(diff)))\n",
    "if (verbose) print(maxdiff)\n",
    "if (maxdiff<eps | iter>=iter.max) break\n",
    "Q  = p; C  = A%*%p; p=p*((t(A)%*%(1/C))/n)\n",
    "}\n",
    "cat(\"Iterations = \", iter,\"\\n\")\n",
    "cat(\"Max difference = \", maxdiff,\"\\n\")\n",
    "cat(\"Convergence criteria: Max difference < 1e-3\",\"\\n\")\n",
    "dimnames(p) = list(NULL,c(\"P Estimate\"))\n",
    "surv        = round(c(1,1-cumsum(p)),digits=5)\n",
    "right       = data$tU\n",
    "if(any(!(is.finite(right)))){\n",
    "t = max(right[is.finite(right)])\n",
    "return(list(time=tau[tau<t],surv=surv[tau<t]))\n",
    "}\n",
    "else return(list(time=tau,surv=surv))\n",
    "}"
   ]
  },
  {
   "cell_type": "markdown",
   "metadata": {},
   "source": [
    "- 먼저 TRT=1 (the treatment of “Radiation Only”) 인 경우에 대해 적합하면 다음과 같다."
   ]
  },
  {
   "cell_type": "code",
   "execution_count": 13,
   "metadata": {},
   "outputs": [
    {
     "name": "stdout",
     "output_type": "stream",
     "text": [
      "Iterations =  40 \n",
      "Max difference =  0.0009817423 \n",
      "Convergence criteria: Max difference < 1e-3 \n"
     ]
    },
    {
     "data": {
      "text/html": [
       "<dl>\n",
       "\t<dt>$time</dt>\n",
       "\t\t<dd><ol class=list-inline>\n",
       "\t<li>0</li>\n",
       "\t<li>4</li>\n",
       "\t<li>5</li>\n",
       "\t<li>6</li>\n",
       "\t<li>7</li>\n",
       "\t<li>8</li>\n",
       "\t<li>10</li>\n",
       "\t<li>11</li>\n",
       "\t<li>12</li>\n",
       "\t<li>14</li>\n",
       "\t<li>15</li>\n",
       "\t<li>16</li>\n",
       "\t<li>17</li>\n",
       "\t<li>18</li>\n",
       "\t<li>19</li>\n",
       "\t<li>22</li>\n",
       "\t<li>24</li>\n",
       "\t<li>25</li>\n",
       "\t<li>26</li>\n",
       "\t<li>27</li>\n",
       "\t<li>32</li>\n",
       "\t<li>33</li>\n",
       "\t<li>34</li>\n",
       "\t<li>35</li>\n",
       "\t<li>36</li>\n",
       "\t<li>37</li>\n",
       "\t<li>38</li>\n",
       "\t<li>40</li>\n",
       "\t<li>44</li>\n",
       "\t<li>45</li>\n",
       "\t<li>46</li>\n",
       "</ol>\n",
       "</dd>\n",
       "\t<dt>$surv</dt>\n",
       "\t\t<dd><ol class=list-inline>\n",
       "\t<li>1</li>\n",
       "\t<li>0.9998</li>\n",
       "\t<li>0.95388</li>\n",
       "\t<li>0.95387</li>\n",
       "\t<li>0.91976</li>\n",
       "\t<li>0.83197</li>\n",
       "\t<li>0.83164</li>\n",
       "\t<li>0.83164</li>\n",
       "\t<li>0.76144</li>\n",
       "\t<li>0.76088</li>\n",
       "\t<li>0.76088</li>\n",
       "\t<li>0.76088</li>\n",
       "\t<li>0.76088</li>\n",
       "\t<li>0.76085</li>\n",
       "\t<li>0.76085</li>\n",
       "\t<li>0.75863</li>\n",
       "\t<li>0.7511</li>\n",
       "\t<li>0.66889</li>\n",
       "\t<li>0.66889</li>\n",
       "\t<li>0.66889</li>\n",
       "\t<li>0.665</li>\n",
       "\t<li>0.64957</li>\n",
       "\t<li>0.58838</li>\n",
       "\t<li>0.58838</li>\n",
       "\t<li>0.58838</li>\n",
       "\t<li>0.58665</li>\n",
       "\t<li>0.56757</li>\n",
       "\t<li>0.47375</li>\n",
       "\t<li>0.46776</li>\n",
       "\t<li>0.46776</li>\n",
       "\t<li>0.46776</li>\n",
       "</ol>\n",
       "</dd>\n",
       "</dl>\n"
      ],
      "text/latex": [
       "\\begin{description}\n",
       "\\item[\\$time] \\begin{enumerate*}\n",
       "\\item 0\n",
       "\\item 4\n",
       "\\item 5\n",
       "\\item 6\n",
       "\\item 7\n",
       "\\item 8\n",
       "\\item 10\n",
       "\\item 11\n",
       "\\item 12\n",
       "\\item 14\n",
       "\\item 15\n",
       "\\item 16\n",
       "\\item 17\n",
       "\\item 18\n",
       "\\item 19\n",
       "\\item 22\n",
       "\\item 24\n",
       "\\item 25\n",
       "\\item 26\n",
       "\\item 27\n",
       "\\item 32\n",
       "\\item 33\n",
       "\\item 34\n",
       "\\item 35\n",
       "\\item 36\n",
       "\\item 37\n",
       "\\item 38\n",
       "\\item 40\n",
       "\\item 44\n",
       "\\item 45\n",
       "\\item 46\n",
       "\\end{enumerate*}\n",
       "\n",
       "\\item[\\$surv] \\begin{enumerate*}\n",
       "\\item 1\n",
       "\\item 0.9998\n",
       "\\item 0.95388\n",
       "\\item 0.95387\n",
       "\\item 0.91976\n",
       "\\item 0.83197\n",
       "\\item 0.83164\n",
       "\\item 0.83164\n",
       "\\item 0.76144\n",
       "\\item 0.76088\n",
       "\\item 0.76088\n",
       "\\item 0.76088\n",
       "\\item 0.76088\n",
       "\\item 0.76085\n",
       "\\item 0.76085\n",
       "\\item 0.75863\n",
       "\\item 0.7511\n",
       "\\item 0.66889\n",
       "\\item 0.66889\n",
       "\\item 0.66889\n",
       "\\item 0.665\n",
       "\\item 0.64957\n",
       "\\item 0.58838\n",
       "\\item 0.58838\n",
       "\\item 0.58838\n",
       "\\item 0.58665\n",
       "\\item 0.56757\n",
       "\\item 0.47375\n",
       "\\item 0.46776\n",
       "\\item 0.46776\n",
       "\\item 0.46776\n",
       "\\end{enumerate*}\n",
       "\n",
       "\\end{description}\n"
      ],
      "text/markdown": [
       "$time\n",
       ":   1. 0\n",
       "2. 4\n",
       "3. 5\n",
       "4. 6\n",
       "5. 7\n",
       "6. 8\n",
       "7. 10\n",
       "8. 11\n",
       "9. 12\n",
       "10. 14\n",
       "11. 15\n",
       "12. 16\n",
       "13. 17\n",
       "14. 18\n",
       "15. 19\n",
       "16. 22\n",
       "17. 24\n",
       "18. 25\n",
       "19. 26\n",
       "20. 27\n",
       "21. 32\n",
       "22. 33\n",
       "23. 34\n",
       "24. 35\n",
       "25. 36\n",
       "26. 37\n",
       "27. 38\n",
       "28. 40\n",
       "29. 44\n",
       "30. 45\n",
       "31. 46\n",
       "\n",
       "\n",
       "\n",
       "$surv\n",
       ":   1. 1\n",
       "2. 0.9998\n",
       "3. 0.95388\n",
       "4. 0.95387\n",
       "5. 0.91976\n",
       "6. 0.83197\n",
       "7. 0.83164\n",
       "8. 0.83164\n",
       "9. 0.76144\n",
       "10. 0.76088\n",
       "11. 0.76088\n",
       "12. 0.76088\n",
       "13. 0.76088\n",
       "14. 0.76085\n",
       "15. 0.76085\n",
       "16. 0.75863\n",
       "17. 0.7511\n",
       "18. 0.66889\n",
       "19. 0.66889\n",
       "20. 0.66889\n",
       "21. 0.665\n",
       "22. 0.64957\n",
       "23. 0.58838\n",
       "24. 0.58838\n",
       "25. 0.58838\n",
       "26. 0.58665\n",
       "27. 0.56757\n",
       "28. 0.47375\n",
       "29. 0.46776\n",
       "30. 0.46776\n",
       "31. 0.46776\n",
       "\n",
       "\n",
       "\n",
       "\n",
       "\n"
      ],
      "text/plain": [
       "$time\n",
       " [1]  0  4  5  6  7  8 10 11 12 14 15 16 17 18 19 22 24 25 26 27 32 33 34 35 36\n",
       "[26] 37 38 40 44 45 46\n",
       "\n",
       "$surv\n",
       " [1] 1.00000 0.99980 0.95388 0.95387 0.91976 0.83197 0.83164 0.83164 0.76144\n",
       "[10] 0.76088 0.76088 0.76088 0.76088 0.76085 0.76085 0.75863 0.75110 0.66889\n",
       "[19] 0.66889 0.66889 0.66500 0.64957 0.58838 0.58838 0.58838 0.58665 0.56757\n",
       "[28] 0.47375 0.46776 0.46776 0.46776\n"
      ]
     },
     "metadata": {},
     "output_type": "display_data"
    }
   ],
   "source": [
    "###################################################\n",
    "### code chunk number 16: R4Surv2.rnw:782-794\n",
    "###################################################\n",
    "# get the data for TRT=1\n",
    "dat1 = dat[dat$TRT==1,]\n",
    "dat1$tU[is.na(dat1$tU)] = Inf\n",
    "# sort the time points\n",
    "tau  = cria.tau(dat1)\n",
    "# Estimate the initial Survival\n",
    "p    = S.ini(tau=tau)\n",
    "# run Turnbull and name it as \"mb1\"\n",
    "A    = cria.A(data=dat1,tau=tau)\n",
    "mb1  = Turnbull(p,A,dat1)\n",
    "# print the estimates\n",
    "mb1"
   ]
  },
  {
   "cell_type": "markdown",
   "metadata": {},
   "source": [
    "- 마찬가지로 TRT=0 (the treatment of “Radiation+Chemotherapy”) 인 경우에 대해 적합해보면 다음과 같다."
   ]
  },
  {
   "cell_type": "code",
   "execution_count": 14,
   "metadata": {},
   "outputs": [
    {
     "name": "stdout",
     "output_type": "stream",
     "text": [
      "Iterations =  30 \n",
      "Max difference =  0.0009723028 \n",
      "Convergence criteria: Max difference < 1e-3 \n"
     ]
    },
    {
     "data": {
      "text/html": [
       "<dl>\n",
       "\t<dt>$time</dt>\n",
       "\t\t<dd><ol class=list-inline>\n",
       "\t<li>0</li>\n",
       "\t<li>4</li>\n",
       "\t<li>5</li>\n",
       "\t<li>8</li>\n",
       "\t<li>9</li>\n",
       "\t<li>10</li>\n",
       "\t<li>11</li>\n",
       "\t<li>12</li>\n",
       "\t<li>13</li>\n",
       "\t<li>14</li>\n",
       "\t<li>15</li>\n",
       "\t<li>16</li>\n",
       "\t<li>17</li>\n",
       "\t<li>18</li>\n",
       "\t<li>19</li>\n",
       "\t<li>20</li>\n",
       "\t<li>21</li>\n",
       "\t<li>22</li>\n",
       "\t<li>23</li>\n",
       "\t<li>24</li>\n",
       "\t<li>25</li>\n",
       "\t<li>26</li>\n",
       "\t<li>27</li>\n",
       "\t<li>30</li>\n",
       "\t<li>31</li>\n",
       "\t<li>32</li>\n",
       "\t<li>34</li>\n",
       "\t<li>35</li>\n",
       "\t<li>36</li>\n",
       "\t<li>39</li>\n",
       "\t<li>40</li>\n",
       "\t<li>44</li>\n",
       "\t<li>48</li>\n",
       "</ol>\n",
       "</dd>\n",
       "\t<dt>$surv</dt>\n",
       "\t\t<dd><ol class=list-inline>\n",
       "\t<li>1</li>\n",
       "\t<li>1</li>\n",
       "\t<li>0.95672</li>\n",
       "\t<li>0.91343</li>\n",
       "\t<li>0.91343</li>\n",
       "\t<li>0.91343</li>\n",
       "\t<li>0.91343</li>\n",
       "\t<li>0.84423</li>\n",
       "\t<li>0.84421</li>\n",
       "\t<li>0.84421</li>\n",
       "\t<li>0.84416</li>\n",
       "\t<li>0.84381</li>\n",
       "\t<li>0.69885</li>\n",
       "\t<li>0.69732</li>\n",
       "\t<li>0.55875</li>\n",
       "\t<li>0.44368</li>\n",
       "\t<li>0.443</li>\n",
       "\t<li>0.44234</li>\n",
       "\t<li>0.44082</li>\n",
       "\t<li>0.44031</li>\n",
       "\t<li>0.3532</li>\n",
       "\t<li>0.34111</li>\n",
       "\t<li>0.33921</li>\n",
       "\t<li>0.33894</li>\n",
       "\t<li>0.28117</li>\n",
       "\t<li>0.27511</li>\n",
       "\t<li>0.26653</li>\n",
       "\t<li>0.26632</li>\n",
       "\t<li>0.11699</li>\n",
       "\t<li>0.11059</li>\n",
       "\t<li>0.11058</li>\n",
       "\t<li>0.11058</li>\n",
       "\t<li>0.05529</li>\n",
       "</ol>\n",
       "</dd>\n",
       "</dl>\n"
      ],
      "text/latex": [
       "\\begin{description}\n",
       "\\item[\\$time] \\begin{enumerate*}\n",
       "\\item 0\n",
       "\\item 4\n",
       "\\item 5\n",
       "\\item 8\n",
       "\\item 9\n",
       "\\item 10\n",
       "\\item 11\n",
       "\\item 12\n",
       "\\item 13\n",
       "\\item 14\n",
       "\\item 15\n",
       "\\item 16\n",
       "\\item 17\n",
       "\\item 18\n",
       "\\item 19\n",
       "\\item 20\n",
       "\\item 21\n",
       "\\item 22\n",
       "\\item 23\n",
       "\\item 24\n",
       "\\item 25\n",
       "\\item 26\n",
       "\\item 27\n",
       "\\item 30\n",
       "\\item 31\n",
       "\\item 32\n",
       "\\item 34\n",
       "\\item 35\n",
       "\\item 36\n",
       "\\item 39\n",
       "\\item 40\n",
       "\\item 44\n",
       "\\item 48\n",
       "\\end{enumerate*}\n",
       "\n",
       "\\item[\\$surv] \\begin{enumerate*}\n",
       "\\item 1\n",
       "\\item 1\n",
       "\\item 0.95672\n",
       "\\item 0.91343\n",
       "\\item 0.91343\n",
       "\\item 0.91343\n",
       "\\item 0.91343\n",
       "\\item 0.84423\n",
       "\\item 0.84421\n",
       "\\item 0.84421\n",
       "\\item 0.84416\n",
       "\\item 0.84381\n",
       "\\item 0.69885\n",
       "\\item 0.69732\n",
       "\\item 0.55875\n",
       "\\item 0.44368\n",
       "\\item 0.443\n",
       "\\item 0.44234\n",
       "\\item 0.44082\n",
       "\\item 0.44031\n",
       "\\item 0.3532\n",
       "\\item 0.34111\n",
       "\\item 0.33921\n",
       "\\item 0.33894\n",
       "\\item 0.28117\n",
       "\\item 0.27511\n",
       "\\item 0.26653\n",
       "\\item 0.26632\n",
       "\\item 0.11699\n",
       "\\item 0.11059\n",
       "\\item 0.11058\n",
       "\\item 0.11058\n",
       "\\item 0.05529\n",
       "\\end{enumerate*}\n",
       "\n",
       "\\end{description}\n"
      ],
      "text/markdown": [
       "$time\n",
       ":   1. 0\n",
       "2. 4\n",
       "3. 5\n",
       "4. 8\n",
       "5. 9\n",
       "6. 10\n",
       "7. 11\n",
       "8. 12\n",
       "9. 13\n",
       "10. 14\n",
       "11. 15\n",
       "12. 16\n",
       "13. 17\n",
       "14. 18\n",
       "15. 19\n",
       "16. 20\n",
       "17. 21\n",
       "18. 22\n",
       "19. 23\n",
       "20. 24\n",
       "21. 25\n",
       "22. 26\n",
       "23. 27\n",
       "24. 30\n",
       "25. 31\n",
       "26. 32\n",
       "27. 34\n",
       "28. 35\n",
       "29. 36\n",
       "30. 39\n",
       "31. 40\n",
       "32. 44\n",
       "33. 48\n",
       "\n",
       "\n",
       "\n",
       "$surv\n",
       ":   1. 1\n",
       "2. 1\n",
       "3. 0.95672\n",
       "4. 0.91343\n",
       "5. 0.91343\n",
       "6. 0.91343\n",
       "7. 0.91343\n",
       "8. 0.84423\n",
       "9. 0.84421\n",
       "10. 0.84421\n",
       "11. 0.84416\n",
       "12. 0.84381\n",
       "13. 0.69885\n",
       "14. 0.69732\n",
       "15. 0.55875\n",
       "16. 0.44368\n",
       "17. 0.443\n",
       "18. 0.44234\n",
       "19. 0.44082\n",
       "20. 0.44031\n",
       "21. 0.3532\n",
       "22. 0.34111\n",
       "23. 0.33921\n",
       "24. 0.33894\n",
       "25. 0.28117\n",
       "26. 0.27511\n",
       "27. 0.26653\n",
       "28. 0.26632\n",
       "29. 0.11699\n",
       "30. 0.11059\n",
       "31. 0.11058\n",
       "32. 0.11058\n",
       "33. 0.05529\n",
       "\n",
       "\n",
       "\n",
       "\n",
       "\n"
      ],
      "text/plain": [
       "$time\n",
       " [1]  0  4  5  8  9 10 11 12 13 14 15 16 17 18 19 20 21 22 23 24 25 26 27 30 31\n",
       "[26] 32 34 35 36 39 40 44 48\n",
       "\n",
       "$surv\n",
       " [1] 1.00000 1.00000 0.95672 0.91343 0.91343 0.91343 0.91343 0.84423 0.84421\n",
       "[10] 0.84421 0.84416 0.84381 0.69885 0.69732 0.55875 0.44368 0.44300 0.44234\n",
       "[19] 0.44082 0.44031 0.35320 0.34111 0.33921 0.33894 0.28117 0.27511 0.26653\n",
       "[28] 0.26632 0.11699 0.11059 0.11058 0.11058 0.05529\n"
      ]
     },
     "metadata": {},
     "output_type": "display_data"
    }
   ],
   "source": [
    "###################################################\n",
    "### code chunk number 17: R4Surv2.rnw:799-806\n",
    "###################################################\n",
    "dat0  = dat[dat$TRT==0,]\n",
    "dat0$tU[is.na(dat0$tU)] = Inf\n",
    "tau   = cria.tau(dat0)\n",
    "p     = S.ini(tau=tau)\n",
    "A     = cria.A(data=dat0,tau=tau)\n",
    "mb0   = Turnbull(p,A,dat0)\n",
    "mb0"
   ]
  },
  {
   "cell_type": "markdown",
   "metadata": {},
   "source": [
    "- 각 치료방법에 따라 추정된 생존시간을 그래프로 나타내보면 다음과 같다."
   ]
  },
  {
   "cell_type": "code",
   "execution_count": 15,
   "metadata": {},
   "outputs": [
    {
     "data": {
      "image/png": "[encoded data removed]",
      "text/plain": [
       "plot without title"
      ]
     },
     "metadata": {},
     "output_type": "display_data"
    }
   ],
   "source": [
    "###################################################\n",
    "### code chunk number 18: figSurv.Turnbull1\n",
    "###################################################\n",
    "# plot the TRT=1\n",
    "plot(mb1$time,mb1$surv,lty=1,lwd=2,type=\"s\", ylim=c(0,1),\n",
    "xlim=range(c(0,60)),xlab=\"Time in Months\",ylab=\"S(t)\")\n",
    "# add a line for TRT=0\n",
    "lines(mb0$time,mb0$surv,lty=4,lwd=2,type=\"s\")\n",
    "# put a legend\n",
    "legend(\"topright\",title=\"Line Types\",lty=c(1,4),lwd=2,\n",
    "c(\"Radiation Only\",\"Radiation+Chemotherapy\"))"
   ]
  },
  {
   "cell_type": "markdown",
   "metadata": {},
   "source": [
    "- 그래프를 통해서 볼 때 초기 20개월의 기간에는 두 치료방법에 대한 생존시간이 크게 차이가 없지만, 그 이후 20개월이 지나면 그 차이가 커짐을 알 수 있다. 보통 이러한 구간중도절단이 포함된 자료를 분석시에는 다음과 같이 구간에 대한 중심점을 잡아서 Kaplan-Meier 추정량을 구하기도 한다."
   ]
  },
  {
   "cell_type": "code",
   "execution_count": 16,
   "metadata": {},
   "outputs": [
    {
     "data": {
      "text/plain": [
       "Call: survfit(formula = Surv(time, Status) ~ TRT, data = dat, type = c(\"kaplan-meier\"))\n",
       "\n",
       "       n events median 0.95LCL 0.95UCL\n",
       "TRT=0 48     35   21.5      20    27.5\n",
       "TRT=1 46     21   40.5      31      NA"
      ]
     },
     "metadata": {},
     "output_type": "display_data"
    }
   ],
   "source": [
    "###################################################\n",
    "### code chunk number 20: Surv.midpoint\n",
    "###################################################\n",
    "# get the midpoint\n",
    "time   = dat$tL+((dat$tU-dat$tL)/2)\n",
    "# get the censorship\n",
    "Status = ifelse(is.finite(time),1,0)\n",
    "# replace the NA with left-time\n",
    "time   = ifelse(is.finite(time),time,dat$tL)\n",
    "# fit Kaplan-Meier model\n",
    "ekm    = survfit(Surv(time, Status)~TRT,\n",
    "\t\ttype=c(\"kaplan-meier\"),dat)\n",
    "# print the output\n",
    "ekm"
   ]
  },
  {
   "cell_type": "markdown",
   "metadata": {},
   "source": [
    "- 이 결과를 Turnbull 방법을 통해서 구한 추정량과 같이 그래프에 나타내면 다음과 같다."
   ]
  },
  {
   "cell_type": "code",
   "execution_count": 17,
   "metadata": {},
   "outputs": [
    {
     "data": {
      "image/png": "[encoded data removed]",
      "text/plain": [
       "plot without title"
      ]
     },
     "metadata": {},
     "output_type": "display_data"
    }
   ],
   "source": [
    "###################################################\n",
    "### code chunk number 21: figSurv.midpoint\n",
    "###################################################\n",
    "plot(mb1$time,mb1$surv,lty=1,lwd=3,type=\"s\",ylim=c(0,1),\n",
    "xlim=range(c(0,50)), xlab=\"Time in Months\",ylab=\"S(t)\")\n",
    "legend(\"bottomleft\",title=\"Line Types\",lty=c(1,4),lwd=3,\n",
    "c(\"Radiotherapy Only\",\"Radiotherapy+Chemotherapy\"))\n",
    "lines(mb0$time,mb0$surv,lty=4,lwd=3,type=\"s\")\n",
    "lines(ekm[1]$time,ekm[1]$surv,type=\"s\",lty=4,lwd=1)\n",
    "lines(ekm[2]$time,ekm[2]$surv,type=\"s\",lty=1,lwd=1)"
   ]
  },
  {
   "cell_type": "markdown",
   "metadata": {},
   "source": [
    "- 그래프를 통해 비교해보면 중심점을 이용하여 Kaplan-Meier 방법을 적용했을 때의 결과과 Turnbull의 방법을 적용했을 때의 결과가 대체적으로 비슷하기는 하지만 약간의 편향이 있음을 알 수 있다.\n",
    "\n",
    "#### 2-2) Fit Turnbull's Nonparametric Estimator Using R Package interval\n",
    "- 사실 Turnbull의 방법은 R의 'interval' 패키지를 이용하여 구현할 수 있다."
   ]
  },
  {
   "cell_type": "code",
   "execution_count": 24,
   "metadata": {},
   "outputs": [
    {
     "name": "stderr",
     "output_type": "stream",
     "text": [
      "Warning message:\n",
      "\"dependency 'Icens' is not available\""
     ]
    },
    {
     "name": "stdout",
     "output_type": "stream",
     "text": [
      "\n",
      "  There is a binary version available but the source version is later:\n",
      "          binary  source needs_compilation\n",
      "interval 1.1-0.7 1.1-0.8             FALSE\n",
      "\n"
     ]
    },
    {
     "name": "stderr",
     "output_type": "stream",
     "text": [
      "installing the source package 'interval'\n",
      "\n",
      "Warning message in install.packages(\"interval\"):\n",
      "\"installation of package 'interval' had non-zero exit status\""
     ]
    },
    {
     "ename": "ERROR",
     "evalue": "Error in library(interval): there is no package called 'interval'\n",
     "output_type": "error",
     "traceback": [
      "Error in library(interval): there is no package called 'interval'\nTraceback:\n",
      "1. library(interval)"
     ]
    }
   ],
   "source": [
    "###################################################\n",
    "### code chunk number 23: R4Surv2.rnw:883-889\n",
    "###################################################\n",
    "# load the library\n",
    "install.packages(\"interval\")\n",
    "library(interval)\n",
    "# fit the NPMLE by calling \"icfit\" and name it as \"fit\n",
    "fit.Int <- icfit(Surv(tL,tU,type=\"interval2\")~TRT,data=dat)\n",
    "# print the summary\n",
    "summary(fit.Int)"
   ]
  },
  {
   "cell_type": "markdown",
   "metadata": {},
   "source": [
    "- 이를 그래프로 표현해보면 다음과 같다."
   ]
  },
  {
   "cell_type": "code",
   "execution_count": 19,
   "metadata": {},
   "outputs": [
    {
     "ename": "ERROR",
     "evalue": "Error in plot(fit.Int, XLAB = \"Time in Months\", YLAB = \"Survival Probability\", : 객체 'fit.Int'를 찾을 수 없습니다\n",
     "output_type": "error",
     "traceback": [
      "Error in plot(fit.Int, XLAB = \"Time in Months\", YLAB = \"Survival Probability\", : 객체 'fit.Int'를 찾을 수 없습니다\nTraceback:\n",
      "1. plot(fit.Int, XLAB = \"Time in Months\", YLAB = \"Survival Probability\", \n .     col = c(\"lightblue\", \"pink\"), LEGEND = F, estpar = list(col = c(\"blue\", \n .         \"red\"), lwd = 3, lty = 1))"
     ]
    }
   ],
   "source": [
    "###################################################\n",
    "### code chunk number 24: figSurv.Int\n",
    "###################################################\n",
    "plot(fit.Int, XLAB=\"Time in Months\", YLAB=\"Survival Probability\",\n",
    " col=c(\"lightblue\",\"pink\"), LEGEND=F,estpar=list(col=c(\"blue\",\"red\"),lwd=3,lty=1))\n",
    "legend(\"bottomleft\", legend=c(\"Radiotherapy Only\",\"Radiotherapy+Chemotherapy\"),\n",
    "   col=c(\"red\",\"blue\"),lwd=2)"
   ]
  },
  {
   "cell_type": "markdown",
   "metadata": {},
   "source": [
    "- 위의 그래프에서 짙은 그림자 모양의 직사각형은 구간중도절단 데이터에서 나타나는 구간의 차이를 나타내고, 나머지는 직접 함수를 만들어서 분석한 결과와 동일하다.\n",
    "\n",
    "#### 2-3) Fitting Parametric Models\n",
    "- 다음으로는 구간중도절단 데이터에 대해 모수적 모형을 적합해보고자 한다. 이를 위해 데이터를 다음과 같이 바꾸도록 한다. 이는 survreg 함수가 구간의 왼쪽값이 0인 경우를 처리하지 못하기 때문이다."
   ]
  },
  {
   "cell_type": "code",
   "execution_count": 20,
   "metadata": {},
   "outputs": [
    {
     "data": {
      "text/html": [
       "<table>\n",
       "<thead><tr><th scope=col>tL</th><th scope=col>tU</th><th scope=col>TRT</th><th scope=col>Status</th></tr></thead>\n",
       "<tbody>\n",
       "\t<tr><td>NA</td><td> 7</td><td>1 </td><td>1 </td></tr>\n",
       "\t<tr><td>NA</td><td> 8</td><td>1 </td><td>1 </td></tr>\n",
       "\t<tr><td>NA</td><td> 5</td><td>1 </td><td>1 </td></tr>\n",
       "\t<tr><td> 4</td><td>11</td><td>1 </td><td>1 </td></tr>\n",
       "\t<tr><td> 5</td><td>12</td><td>1 </td><td>1 </td></tr>\n",
       "\t<tr><td> 5</td><td>11</td><td>1 </td><td>1 </td></tr>\n",
       "</tbody>\n",
       "</table>\n"
      ],
      "text/latex": [
       "\\begin{tabular}{r|llll}\n",
       " tL & tU & TRT & Status\\\\\n",
       "\\hline\n",
       "\t NA &  7 & 1  & 1 \\\\\n",
       "\t NA &  8 & 1  & 1 \\\\\n",
       "\t NA &  5 & 1  & 1 \\\\\n",
       "\t  4 & 11 & 1  & 1 \\\\\n",
       "\t  5 & 12 & 1  & 1 \\\\\n",
       "\t  5 & 11 & 1  & 1 \\\\\n",
       "\\end{tabular}\n"
      ],
      "text/markdown": [
       "\n",
       "| tL | tU | TRT | Status |\n",
       "|---|---|---|---|\n",
       "| NA |  7 | 1  | 1  |\n",
       "| NA |  8 | 1  | 1  |\n",
       "| NA |  5 | 1  | 1  |\n",
       "|  4 | 11 | 1  | 1  |\n",
       "|  5 | 12 | 1  | 1  |\n",
       "|  5 | 11 | 1  | 1  |\n",
       "\n"
      ],
      "text/plain": [
       "  tL tU TRT Status\n",
       "1 NA  7 1   1     \n",
       "2 NA  8 1   1     \n",
       "3 NA  5 1   1     \n",
       "4  4 11 1   1     \n",
       "5  5 12 1   1     \n",
       "6  5 11 1   1     "
      ]
     },
     "metadata": {},
     "output_type": "display_data"
    }
   ],
   "source": [
    "###################################################\n",
    "### code chunk number 26: R4Surv2.rnw:921-927\n",
    "###################################################\n",
    "# create a new dataset \"breast\" and keep \"dat\" for future use\n",
    "breast = dat\n",
    "# replace 0's with NA as left-censored\n",
    "breast$tL[breast$tL==0]= NA\n",
    "# print the first a few observations\n",
    "head(breast)"
   ]
  },
  {
   "cell_type": "markdown",
   "metadata": {},
   "source": [
    "- 이 데이터에 대해 지수모형과 Weibull모형을 다음과 같이 적합시킬 수 있다."
   ]
  },
  {
   "cell_type": "code",
   "execution_count": 21,
   "metadata": {},
   "outputs": [
    {
     "data": {
      "text/plain": [
       "\n",
       "Call:\n",
       "survreg(formula = Surv(tL, tU, type = \"interval2\") ~ TRT, data = breast, \n",
       "    dist = \"exponential\")\n",
       "            Value Std. Error     z      p\n",
       "(Intercept) 3.376      0.170 19.84 <2e-16\n",
       "TRT         0.742      0.277  2.68 0.0074\n",
       "\n",
       "Scale fixed at 1 \n",
       "\n",
       "Exponential distribution\n",
       "Loglik(model)= -149.6   Loglik(intercept only)= -153.3\n",
       "\tChisq= 7.46 on 1 degrees of freedom, p= 0.0063 \n",
       "Number of Newton-Raphson Iterations: 4 \n",
       "n= 94 \n"
      ]
     },
     "metadata": {},
     "output_type": "display_data"
    },
    {
     "data": {
      "text/plain": [
       "\n",
       "Call:\n",
       "survreg(formula = Surv(tL, tU, type = \"interval2\") ~ TRT, data = breast)\n",
       "             Value Std. Error     z       p\n",
       "(Intercept)  3.331      0.106 31.29 < 2e-16\n",
       "TRT          0.568      0.176  3.23  0.0012\n",
       "Log(scale)  -0.479      0.120 -3.99 6.5e-05\n",
       "\n",
       "Scale= 0.619 \n",
       "\n",
       "Weibull distribution\n",
       "Loglik(model)= -143   Loglik(intercept only)= -148.5\n",
       "\tChisq= 10.95 on 1 degrees of freedom, p= 0.00093 \n",
       "Number of Newton-Raphson Iterations: 5 \n",
       "n= 94 \n"
      ]
     },
     "metadata": {},
     "output_type": "display_data"
    }
   ],
   "source": [
    "###################################################\n",
    "### code chunk number 27: R4Surv2.rnw:932-939\n",
    "###################################################\n",
    "# fit exponential\n",
    "fit.exp=survreg(Surv(tL,tU,type=\"interval2\")~TRT,\n",
    "\t\tbreast,dist=\"exponential\")\n",
    "summary(fit.exp)\n",
    "# fit Weibull\n",
    "fit.Weibull=survreg(Surv(tL,tU,type=\"interval2\")~TRT,data=breast)\n",
    "summary(fit.Weibull)"
   ]
  },
  {
   "cell_type": "markdown",
   "metadata": {},
   "source": [
    "- 분석결과, 두 모형 모두 치료방법에 따라 생존시간에 유의미한 영향을 준다는 결론을 주고 있다.\n",
    "\n",
    "#### 2-4) Testing Treatment Effect Using Semiparametric Estimation : IntCox\n",
    "- 치료방법의 효과에 대해 검증할 경우에는 다음과 같은 방법으로 실시할 수 있다."
   ]
  },
  {
   "cell_type": "code",
   "execution_count": 22,
   "metadata": {},
   "outputs": [
    {
     "name": "stderr",
     "output_type": "stream",
     "text": [
      "Warning message:\n",
      "\"package 'intcox' is not available (for R version 3.6.1)\""
     ]
    },
    {
     "ename": "ERROR",
     "evalue": "Error in library(intcox): there is no package called 'intcox'\n",
     "output_type": "error",
     "traceback": [
      "Error in library(intcox): there is no package called 'intcox'\nTraceback:\n",
      "1. library(intcox)"
     ]
    }
   ],
   "source": [
    "install.packages(\"intcox\")\n",
    "library(intcox)\n",
    "fit.IntCox = intcox(Surv(tL,tU,type=\"interval2\")~TRT,data=dat)\n",
    "fit.IntCox"
   ]
  },
  {
   "cell_type": "markdown",
   "metadata": {},
   "source": [
    "- 이에 대해 치료방법의 효과의 차이가 어떤 분포의 형태를 띄고 있는지 알아보고자 한다. 이를 위해 다음과 같이 bootstrap 방법을 통하여 원자료 dat에서 복원추출을 통해 여러개의 샘플을 뽑고 각각에 대하여 intcox 함수를 이용하여 검증을 실시한다. "
   ]
  },
  {
   "cell_type": "code",
   "execution_count": null,
   "metadata": {},
   "outputs": [],
   "source": [
    "set.seed(12345678)\n",
    "# number of bootstrapping=1000\n",
    "num.boot = 1000\n",
    "boot.intcox = numeric(num.boot)\n",
    "# the for-loop\n",
    "for(b in 1:num.boot){\n",
    "#sample with replacement\n",
    "boot.ID=sample(1:dim(dat)[1],replace=T)\n",
    "# fit intcox for the bootstrap sample\n",
    "boot.fit = intcox(Surv(tL,tU,type=\"interval2\")~TRT,\n",
    "dat[boot.ID,],no.warnings = TRUE)\n",
    "# keep track the coefficient\n",
    "boot.intcox[b] = coef(boot.fit)\n",
    "} # end of b-loop"
   ]
  },
  {
   "cell_type": "code",
   "execution_count": null,
   "metadata": {},
   "outputs": [],
   "source": [
    "bias.IntCox =c(mean.bias=coef(fit.IntCox)-mean(boot.intcox),\n",
    "median.bias=coef(fit.IntCox)-median(boot.intcox))\n",
    "bias.IntCox"
   ]
  },
  {
   "cell_type": "markdown",
   "metadata": {},
   "source": [
    "- 이 결과를 히스토그램을 이용하여 그려보면 다음과 같다."
   ]
  },
  {
   "cell_type": "code",
   "execution_count": null,
   "metadata": {},
   "outputs": [],
   "source": [
    "# Histogram from bootstrap sample\n",
    "hist(boot.intcox,prob=T,las=1,\n",
    "xlab=\"Treatment Difference\",ylab=\"Prob\", main=\"\")\n",
    "# put vertical lines for\n",
    "abline(v=c(Boot.CI[1],fit.IntCox$coef,mean(boot.intcox),\n",
    "median(boot.intcox),Boot.CI[2]), lwd=c(2,3,3,3,2),\n",
    "lty=c(4,1,2,3,4))"
   ]
  },
  {
   "cell_type": "markdown",
   "metadata": {},
   "source": [
    "#### 2-5) Testing Treatment Effect Using Semiparametric Estimation : ictest\n",
    "- IntCox 이외의 방법으로는 함수 ictest를 이용하는 방법이 있다."
   ]
  },
  {
   "cell_type": "code",
   "execution_count": 23,
   "metadata": {},
   "outputs": [
    {
     "ename": "ERROR",
     "evalue": "Error in ictest(Surv(tL, tU, type = \"interval2\") ~ TRT, data = dat): 함수 \"ictest\"를 찾을 수 없습니다\n",
     "output_type": "error",
     "traceback": [
      "Error in ictest(Surv(tL, tU, type = \"interval2\") ~ TRT, data = dat): 함수 \"ictest\"를 찾을 수 없습니다\nTraceback:\n"
     ]
    }
   ],
   "source": [
    "###################################################\n",
    "### code chunk number 28: R4Surv2.rnw:959-963\n",
    "###################################################\n",
    "# call \"ictest\" to test \"TRT\" difference\n",
    "test.Int = ictest(Surv(tL,tU,type=\"interval2\")~TRT,data=dat)\n",
    "# print the summary\n",
    "test.Int"
   ]
  },
  {
   "cell_type": "markdown",
   "metadata": {},
   "source": [
    "- 결과적으로 유의확률의 값이 매우 작기 때문에 치료방법에 따른 생존시간의 차이는 유의미하다는 통계적인 근거가 있음을 다시한번 확인할 수 있다. "
   ]
  }
 ],
 "metadata": {
  "kernelspec": {
   "display_name": "R",
   "language": "R",
   "name": "ir"
  },
  "language_info": {
   "codemirror_mode": "r",
   "file_extension": ".r",
   "mimetype": "text/x-r-source",
   "name": "R",
   "pygments_lexer": "r",
   "version": "3.6.1"
  }
 },
 "nbformat": 4,
 "nbformat_minor": 2
}
