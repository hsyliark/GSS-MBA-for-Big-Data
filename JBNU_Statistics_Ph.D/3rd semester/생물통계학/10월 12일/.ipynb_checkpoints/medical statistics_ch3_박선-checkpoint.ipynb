{
 "cells": [
  {
   "cell_type": "markdown",
   "metadata": {},
   "source": [
    "\n",
    "<div style=\"text-align: right\"> <small> <i>Clinical Trial Data Analysis Using R and SAS</i> </small> </div>"
   ]
  },
  {
   "cell_type": "markdown",
   "metadata": {},
   "source": [
    "## 3 Treatment Comparisons in Clinical Trials"
   ]
  },
  {
   "cell_type": "markdown",
   "metadata": {},
   "source": [
    "### Contents\n",
    " \n",
    "* [3.1 Data from Clinical Trials](#3.1-Data-from-Clinical-Trials)\n",
    "   * [3.1.1 Diastolic Blood Pressure](#3.1.1-Diastolic-Blood-Pressure-(DBP,-이완계-혈압))\n",
    "   * [3.1.2 Clinical Trial on Duodenal Ulcer Healing](#3.1.2-Clinical-Trial-on-Duodenal-Ulcer-Healing-(십이지장-궤양-치료))\n",
    " \n",
    "* [3.2 Statistical Models for Treatment Comparisons](#3.2-Statistical-Models-for-Treatment-Comparisons)\n",
    "   * [3.2.1 Models for Continuous Endpoints](#3.2.1-Models-for-Continuous-Endpoints)\n",
    "      * [3.2.1.1 Student's t-Tests](#3.2.1.1-Student's-t-Tests)\n",
    "      * [3.2.1.2 One-Way Analysis of Variance (ANOVA)](#3.2.1.2-One-Way-Analysis-of-Variance-(ANOVA))\n",
    "      * [3.2.1.3 Multi-Way ANOVA: Factorial Design](#3.2.1.3-Multi-Way-ANOVA:-Factorial-Design)\n",
    "      * [3.2.1.4 Multivariate Analysis of Variance (MANOVA)](#3.2.1.4-Multivariate-Analysis-of-Variance-(MANOVA))\n",
    "   * [3.2.2 Models for Categorical Endpoints: Pearson's $\\chi^2$-test](#3.2.2-Models-for-Categorical-Endpoints:-Pearson's-$\\chi^2$-test)\n",
    "   \n",
    "* [3.3 Data Analysis in R](#3.3-Data-Analysis-in-R)\n",
    "   * [3.3.1 Analysis of the DBP Trial](#3.3.1-Analysis-of-the-DBP-Trial)\n",
    "      * [3.3.1.1 Preliminary Data analysis](#3.3.1.1-Preliminary-Data-analysis)\n",
    "      * [3.3.1.2 t-test](#3.3.1.2-t-test)\n",
    "      * [3.3.1.3 Bootstrapping Method](#3.3.1.3-Bootstrapping-Method)\n",
    "      * [3.3.1.4 One-Way ANOVA for Time Changes](#3.3.1.4-One-Way-ANOVA-for-Time-Changes)\n",
    "      * [3.3.1.5 Two-Way ANOVA for Interaction](#3.3.1.5-Two-Way-ANOVA-for-Interaction)\n",
    "      * [3.3.1.6 MANOVA for Treatment Difference](#3.3.1.6-MANOVA-for-Treatment-Difference)     \n",
    "   * [3.3.2 Analysis of Duodenal Ulcer Healing Trial](#3.3.2-Analysis-of-Duodenal-Ulcer-Healing-Trial) \n",
    "      * [3.3.2.1 Using Pearson's $\\chi^2$-test](#3.3.2.1-Using-Pearson's-$\\chi^2$-test)\n",
    "      * [3.3.2.2 Using Contingency Table](#3.3.2.2-Using-Contingency-Table)\n",
    "      \n",
    "* [3.4 Summary and Conclusions](#3.4-Summary-and-Conclusions)\n",
    "\n",
    "* [3.5 Appendix: SAS Programs](#3.5-Appendix:-SAS-Programs)\n"
   ]
  },
  {
   "cell_type": "markdown",
   "metadata": {},
   "source": [
    "  "
   ]
  },
  {
   "cell_type": "markdown",
   "metadata": {},
   "source": [
    "### 3.1 Data from Clinical Trials"
   ]
  },
  {
   "cell_type": "markdown",
   "metadata": {},
   "source": [
    "#### 3.1.1 Diastolic Blood Pressure (DBP, 이완계 혈압)"
   ]
  },
  {
   "cell_type": "markdown",
   "metadata": {},
   "source": [
    "* 1960 중후반, 약 10년간 고혈압과 관련한 소규모 임상 실험으로 측정된 이완계 혈압 데이터셋\n",
    "* **목적**: 고혈압 치료 신약이 실제로 혈압을 낮추는 효과가 있는지 알아보기 위함\n",
    "* 1967년에 Antihypertensive Agents의 Veterans Administration Cooperative Study Group가 보고한 연구의 데이터셋\n",
    "* cf1.과거: DBP > 95 mmHg / 현재: DBP > 80 mmHg\n",
    "* cf2. 수축기 혈압 (systolic blood pressur, SBP), 이완계 혈압(Diastolic Blood Pressure, DBP)"
   ]
  },
  {
   "cell_type": "code",
   "execution_count": 4,
   "metadata": {},
   "outputs": [
    {
     "data": {
      "text/html": [
       "<table>\n",
       "<caption>A data.frame: 6 × 9</caption>\n",
       "<thead>\n",
       "\t<tr><th></th><th scope=col>Subject</th><th scope=col>TRT</th><th scope=col>DBP1</th><th scope=col>DBP2</th><th scope=col>DBP3</th><th scope=col>DBP4</th><th scope=col>DBP5</th><th scope=col>Age</th><th scope=col>Sex</th></tr>\n",
       "\t<tr><th></th><th scope=col>&lt;int&gt;</th><th scope=col>&lt;chr&gt;</th><th scope=col>&lt;int&gt;</th><th scope=col>&lt;int&gt;</th><th scope=col>&lt;int&gt;</th><th scope=col>&lt;int&gt;</th><th scope=col>&lt;int&gt;</th><th scope=col>&lt;int&gt;</th><th scope=col>&lt;chr&gt;</th></tr>\n",
       "</thead>\n",
       "<tbody>\n",
       "\t<tr><th scope=row>1</th><td>1</td><td>A</td><td>114</td><td>115</td><td>113</td><td>109</td><td>105</td><td>43</td><td>F</td></tr>\n",
       "\t<tr><th scope=row>2</th><td>2</td><td>A</td><td>116</td><td>113</td><td>112</td><td>103</td><td>101</td><td>51</td><td>M</td></tr>\n",
       "\t<tr><th scope=row>3</th><td>3</td><td>A</td><td>119</td><td>115</td><td>113</td><td>104</td><td> 98</td><td>48</td><td>F</td></tr>\n",
       "\t<tr><th scope=row>4</th><td>4</td><td>A</td><td>115</td><td>113</td><td>112</td><td>109</td><td>101</td><td>42</td><td>F</td></tr>\n",
       "\t<tr><th scope=row>5</th><td>5</td><td>A</td><td>116</td><td>112</td><td>107</td><td>104</td><td>105</td><td>49</td><td>M</td></tr>\n",
       "\t<tr><th scope=row>6</th><td>6</td><td>A</td><td>117</td><td>112</td><td>113</td><td>104</td><td>102</td><td>47</td><td>M</td></tr>\n",
       "</tbody>\n",
       "</table>\n"
      ],
      "text/latex": [
       "A data.frame: 6 × 9\n",
       "\\begin{tabular}{r|lllllllll}\n",
       "  & Subject & TRT & DBP1 & DBP2 & DBP3 & DBP4 & DBP5 & Age & Sex\\\\\n",
       "  & <int> & <chr> & <int> & <int> & <int> & <int> & <int> & <int> & <chr>\\\\\n",
       "\\hline\n",
       "\t1 & 1 & A & 114 & 115 & 113 & 109 & 105 & 43 & F\\\\\n",
       "\t2 & 2 & A & 116 & 113 & 112 & 103 & 101 & 51 & M\\\\\n",
       "\t3 & 3 & A & 119 & 115 & 113 & 104 &  98 & 48 & F\\\\\n",
       "\t4 & 4 & A & 115 & 113 & 112 & 109 & 101 & 42 & F\\\\\n",
       "\t5 & 5 & A & 116 & 112 & 107 & 104 & 105 & 49 & M\\\\\n",
       "\t6 & 6 & A & 117 & 112 & 113 & 104 & 102 & 47 & M\\\\\n",
       "\\end{tabular}\n"
      ],
      "text/markdown": [
       "\n",
       "A data.frame: 6 × 9\n",
       "\n",
       "| <!--/--> | Subject &lt;int&gt; | TRT &lt;chr&gt; | DBP1 &lt;int&gt; | DBP2 &lt;int&gt; | DBP3 &lt;int&gt; | DBP4 &lt;int&gt; | DBP5 &lt;int&gt; | Age &lt;int&gt; | Sex &lt;chr&gt; |\n",
       "|---|---|---|---|---|---|---|---|---|---|\n",
       "| 1 | 1 | A | 114 | 115 | 113 | 109 | 105 | 43 | F |\n",
       "| 2 | 2 | A | 116 | 113 | 112 | 103 | 101 | 51 | M |\n",
       "| 3 | 3 | A | 119 | 115 | 113 | 104 |  98 | 48 | F |\n",
       "| 4 | 4 | A | 115 | 113 | 112 | 109 | 101 | 42 | F |\n",
       "| 5 | 5 | A | 116 | 112 | 107 | 104 | 105 | 49 | M |\n",
       "| 6 | 6 | A | 117 | 112 | 113 | 104 | 102 | 47 | M |\n",
       "\n"
      ],
      "text/plain": [
       "  Subject TRT DBP1 DBP2 DBP3 DBP4 DBP5 Age Sex\n",
       "1 1       A   114  115  113  109  105  43  F  \n",
       "2 2       A   116  113  112  103  101  51  M  \n",
       "3 3       A   119  115  113  104   98  48  F  \n",
       "4 4       A   115  113  112  109  101  42  F  \n",
       "5 5       A   116  112  107  104  105  49  M  \n",
       "6 6       A   117  112  113  104  102  47  M  "
      ]
     },
     "metadata": {},
     "output_type": "display_data"
    }
   ],
   "source": [
    "dat = read.csv(\"DBP.csv\",header=T)\n",
    "head(dat)"
   ]
  },
  {
   "cell_type": "markdown",
   "metadata": {},
   "source": [
    "* `Subject`: 대상자\n",
    "* `TRT`: **A**(신약) **B**(플라시보)\n",
    "* `DBP1`: 앙와위 자세로 측정한 이완계 혈압(baseline) \n",
    "* `DBP2`: 1개월 후 측정한 이완계 혈압\n",
    "* `DBP3`: 2개월 후 측정한 이완계 혈압\n",
    "* `DBP4`: 3개월 후 측정한 이완계 혈압\n",
    "* `DBP5`: 4개월 후 측정한 이완계 혈압\n",
    "* `AGE`: 대상자의 나이\n",
    "* `Sex`: 대상자의 성별"
   ]
  },
  {
   "cell_type": "markdown",
   "metadata": {},
   "source": [
    "#### 3.1.2 Clinical Trial on Duodenal Ulcer Healing (십이지장 궤양 치료)"
   ]
  },
  {
   "cell_type": "markdown",
   "metadata": {},
   "source": [
    "* 시메티딘(Cimetidine): 십이지장 궤양의 치료제, 위장 내에서 위산의 분비를 억제하는 약물\n",
    "* **1970년 후반**\n",
    "  - 십이지장 궤양 치료제로 시메티딘 개발\n",
    "  - 영국: 최대 4주 동안 하루 1000mg 투여 /아침(200mg) 점심(200mg) 저녁(200mg) 취침전(400mg)\n",
    "  - 미국: 최대 4주 동안 하루 1200mg 투여 (300mg 씩 4번 투여)\n",
    "\n",
    "* **1980년 중반**\n",
    "  - gastric acid antisecretory studies\n",
    "  - 최대 4주 동안 야간 1회 800mg 투여\n",
    "  - **목적**:  800mg 투여가 최적의 효과를 가져오는지 확인하기 위함\n",
    "    1. 0 mg Cimetidine(C) 그룹: 4개의 400mg 플라시보(Placebo)\n",
    "    2. 400 mg Cimetidine(C) 그룹: 1개의 400mg 시메티딘약+3개의 400mg 플라시보(Placebo)\n",
    "    3. 800 mg Cimetidine(C) 그룹: 3개의 400mg 시메티딘약+1개의 400mg 플라시보(Placebo)\n",
    "    4. 1600 mg Cimetidine(C) 그룹: 4개의 400mg 시메티딘약"
   ]
  },
  {
   "cell_type": "markdown",
   "metadata": {},
   "source": [
    "<img src=\"table32.png\">"
   ]
  },
  {
   "cell_type": "markdown",
   "metadata": {},
   "source": [
    "* 십이지장 궤양 치료 환자 수: $n$\n",
    "* 십이지장 궤양 (누적)치료율: $p$\n",
    "* 4주차 치료율\n",
    "   * 800mg C 그룹 - 플라시보 그룹 효과 차이: $p\\text{-value} < 10^{-8}$ $\\rightarrow$ 효과 있음\n",
    "   * 800mg C 그룹 - 400mg C 그룹 효과 차이: $p\\text{-value} < 0.05$ $\\rightarrow$ 효과 있음\n",
    "   * 800mg C 그룹 - 1600mg C 그룹 효과 차이: $p\\text{-value} = 0.42$, 95% CI $[-0.14, 0.05]$ $\\rightarrow$ 효과 없음"
   ]
  },
  {
   "cell_type": "markdown",
   "metadata": {},
   "source": [
    "  "
   ]
  },
  {
   "cell_type": "markdown",
   "metadata": {},
   "source": [
    "### 3.2 Statistical Models for Treatment Comparisons"
   ]
  },
  {
   "cell_type": "markdown",
   "metadata": {},
   "source": [
    "#### 3.2.1 Models for Continuous Endpoints"
   ]
  },
  {
   "cell_type": "markdown",
   "metadata": {},
   "source": [
    "* Endpoints: \n",
    "* 연속형 Endpoints\n",
    "  1. 2가지 처리 그룹에 대한 비교 $\\rightarrow$ $t$-test \n",
    "  2. 다중 처리 그룹에 대한 비교 $\\rightarrow$ ANOVA(Analysis of variance) 방식"
   ]
  },
  {
   "cell_type": "markdown",
   "metadata": {},
   "source": [
    "##### 3.2.1.1 Student's $t$-Tests"
   ]
  },
  {
   "cell_type": "markdown",
   "metadata": {},
   "source": [
    "* 목적: 임상 시험에서의 <u>endpoint가 연속형</u>이고 <u>정규분포를 따른다는 가정</u>하에서 <u>2개의 처리 그룹에 대한 비교</u>를 위함\n",
    "* 두 처리 그룹의 환자수가 각각 $n_1$ $n_2$이고 임상 시험 종료 시점에서 endpoint가 $x_{1i}$, $x_{2i}$($i=1,\\cdots,n_i$)일 때,\n",
    "  1. 가설 설정\n",
    "    * $H_0: \\mu_1 = \\mu_2$\n",
    "    * $H_a: \\mu_1 = \\mu_2$(two-sided) 또는 $H_a: \\mu_1 >(\\text{or} <) \\mu_2$(one-sided)\n",
    "  2. 검정 통계량 계산\n",
    "  $$t = \\frac{\\bar{y_1}-\\bar{y_2}}{s\\sqrt{1/n_1 + 1/n_2}} $$\n",
    "    * 각 처리 그룹의 표본평균: $\\bar{y_i}=\\frac{\\sum_{j=1}^{n_i}y_{ij}}{n_i}$\n",
    "    * 결합표준편차(=합동표준편차, pooled standard error):  $s=\\sqrt{\\frac{(n_1-1)s_1^2+(n_2-1)s_2^2}{n_1+n_2-2}}$ ($s_1$, $s_2$: 각 처리 그룹의 표본표준편차)\n",
    "  3. 의사결정\n",
    "    * $H_0$가 true라는 가정하에서, 검정통계량 $t$는 자유도가 $n_1+n_2-1$인 Student's $t$-분포를 따르게 된다.\n",
    "    * 방법1. 양측 검정일 때, 유의수준 $\\alpha$%에서 $\\vert t \\vert < t_{\\alpha/2, n_1+n_2-2}$이면 $H_0$를 기각하지 못한다.\n",
    "    * 방법2. 양측 검정일 때, 유의수준 $\\alpha$%에서 $100(1-\\alpha)$% 신뢰구간 $\\bar{y_1}-\\bar{y_2} \\pm t_{\\alpha/2,n_1+n_2-2}s\\sqrt{n_1^{-1}+n_2^{-1}}$에 0이 포함되면 귀무가설을 기각할 충분한 증거가 있다고 할 수 없다."
   ]
  },
  {
   "cell_type": "markdown",
   "metadata": {},
   "source": [
    "* 가정: 관측된 임상 시험 endpoint인 $x_1$, $x_2$는 서로 독립이며 분산이 $\\sigma^2$로 동일한 정규분포를 따른다.\n",
    "* 가정이 위배된 경우\n",
    "   1. 이분산(Unequal variance) $\\rightarrow$ **웰치의 t 검정**\n",
    "    * Welch test as in Welch (1947)\n",
    "    * 검정통계량: $t=\\frac{\\bar{y_1}-\\bar{y_2}}{\\sqrt{s_1^2/n_1+s^2_2/n_2}}$\n",
    "    * 자유도: $\\nu = \\left[ \\frac{c^2}{n_1-1} +\\frac{(1-c)^2}{n_2-1} \\right]^{-1}, \\qquad c=\\frac{s_1^2/n_1}{s_1^2/n_1+s^2_2/n_2}$ \n",
    "    * R: `t.test()`함수<br><br>\n",
    "  \n",
    "   2. 정규성 위배 $\\rightarrow$ 비모수 검정: **맨-휘트니-윌콕슨(MWW) U 검정**\n",
    "    * Wilcoxon rank-sum test, or Wilcoxon-Mann-Whitney test로도 불림\n",
    "    * 표본수가 적거나, 자료가 정규성을 가지지 않을 때 비모수 검정 수행\n",
    "    * 비모수 검정: 모수에 대한 가정을 하지 않고 자료만으로 확률 계산\n",
    "       * 두개의 독립된 표본이 동일한 분포로부터 관측되는지 검정\n",
    "       * Wilcoxon (1945): 동일한 표본 크기에 한해 비모수 방법 제안\n",
    "       * Mann-Whitney (1947): 임의의 표본 크기와 다른 방식으로 비모수 방법 제안\n",
    "    * 방법 \n",
    "       * 순위합 검정: 두 그룹의 자료를 혼합한 뒤 순위를 매기고(동점인 경우 평균 사용), 그것의 통계적 차이가 유의한지를 파악한다.(두 그룹의 평균과 표준편차는 상관 $\\times$, 정규분포 가정 필요없음)\n",
    "       * 두 그룹이 동일(비슷)한 분포를 따를 경우, 두 집단 간 표본 수 차이의 효과를 보정한 경우 순위들의 합도 서로 비슷해야 할 것이다. \n",
    "    * 단점: t-검정에 비해 검정력이 낮으며, 순위만 비교한 것이기 때문에 두 그룹의 크기의 차이(평균의 차이)를 언급할 수 없다.\n",
    "    * 장점: 정규분포에 대한 가정을 하지 않기 때문에 크기 순서가 있는 경우에는 어떠한 경우에도 적용할 수 있다. \n",
    "    * R: `wilcox.text()`함수 <br><br>\n",
    "     \n",
    "   3. Bootstrap resampling: t-검정의 validity(유효성)을 뒷받침할 가정이 만족되지 않는 경우(정규성 위배 등) 사용\n",
    "    * Bootstrap: 반복된 복원추출 $\\rightarrow$ 표본 통계량 계산 $\\rightarrow$ 재표본 분포 생성\n",
    "   * R: `bootstrap()`함수 <br><br>"
   ]
  },
  {
   "cell_type": "markdown",
   "metadata": {},
   "source": [
    "##### 3.2.1.2 One-Way Analysis of Variance (ANOVA)\n"
   ]
  },
  {
   "cell_type": "markdown",
   "metadata": {},
   "source": [
    "* 목적: 3개 이상의 처리 그룹에 대한 비교를 위함\n",
    "* 원리: 총 변동을 요인 간 변동과 잔차 변동으로 분할\n",
    "  * $ Y_{ij} - \\bar{Y} = (\\bar{Y_i}-\\bar{Y}) + (\\bar{Y_{ij}}-\\bar{Y_i})$\n",
    "  * 참고: https://rfriend.tistory.com/131\n",
    "* 모형: 자료의 요인 $\\alpha$(factor)가 $I$개의 수준(level)과 $n_i$개의 관측치를 가질 때,\n",
    "$$y_{ij} = \\mu + \\alpha_i + \\epsilon_{ij}$$\n",
    " * $\\mu=0$ 이고 $I$개의 서로 다른 더비 변수 $\\rightarrow$ 각 처리 효과와 전체 평균을 비교\n",
    " * $\\alpha_1=0$ $\\rightarrow$ baseline level인 $\\alpha_1$과 다른 처리의 효과를 비교\n",
    "* 가설 설정\n",
    " * $H_0: \\alpha_i =0, i=1,...,I$\n",
    " * $H_1: \\text{at least one of the }\\alpha_i \\text{ is not zero}$\n",
    "* 다중 비교(multiple comparisons)\n",
    " * <u>$H_0$를 기각</u>하여, 어느 한 그룹이라도 효과의 차이가 있다고 판단했을 때 시행\n",
    " * 목적: 어떤 그룹에서 효과의 차이가 존재하는가 확인하기 위함\n",
    " * $t$-test(pair-wise comparison)가 아닌 다중 비교를 하는 이유 $\\rightarrow$ 1종 오류율\n",
    "    * $I$개 처리 그룹의 비교시 t-test: $2^I$번 검정 시행 $\\rightarrow$ 설정한 유의수준 $\\alpha$가 아닌 1종 오류율이 점점 $\\uparrow$ \n",
    " * Tukey의 사후검정(Tukey's honest significant difference, Tukey's HSD)\n",
    "    * studentized range distribution(스튜던트 범위 분포)을 이용해 모든 가능한 수준들의 평균간 차이가 있는지 검정\n",
    "    * 유의수준 $\\alpha$이고 자유도 $df_1=I$, $df_2=\\sum_{i=1}^{I}n_i-I$인 검정 통계량 $q_{\\alpha, df_1, df_2}$일 때 두 수준의 평균 차에 대한 신뢰구간은 아래와 같다.\n",
    " $$\\hat{\\alpha_i}-\\hat{\\alpha_j} \\pm \\frac{q_{\\alpha, df_1, df_2}}{\\sqrt{2}}se(\\hat{\\alpha_i}-\\hat{\\alpha_j})$$\n",
    "* R: `aov()`함수, `TukeyHSD()`함수 \n",
    " "
   ]
  },
  {
   "cell_type": "markdown",
   "metadata": {},
   "source": [
    "##### 3.2.1.3 Multi-Way ANOVA: Factorial Design"
   ]
  },
  {
   "cell_type": "markdown",
   "metadata": {},
   "source": [
    "* 비교하려는 요인(factor)이 여러개일 경우: <small>*2개의 요인 비교 two-way ANOVA*</small>\n",
    "* 예) two-way ANOVA\n",
    "  * 전체 관측치 수 $n_{ij}$, 요인 $\\alpha$($I$개 수준), 요인 $\\beta$($J$개 수준)\n",
    "  * 모형\n",
    "  $$y_{ijk} = \\mu + \\alpha_i + \\beta_j + (\\alpha\\beta)_{ij} + \\epsilon_{ijk}, k=1,...,n_{ij}$$\n",
    "    * $\\alpha_i$, $\\beta_j$: 주효과(main effects)\n",
    "    * $(\\alpha\\beta)_{ij}$: $\\alpha$와 $\\beta$의 교호작용(interaction effect)\n",
    "    * 교호작용효과가 통계적으로 유의하지 않을 경우,\n",
    "    $$y_{ijk} = \\mu + \\alpha_i + \\beta_j+ \\epsilon_{ijk}, k=1,...,n_{ij}$$\n",
    "* R: `aov()`함수    "
   ]
  },
  {
   "cell_type": "markdown",
   "metadata": {},
   "source": [
    "##### 3.2.1.4 Multivariate Analysis of Variance (MANOVA)"
   ]
  },
  {
   "cell_type": "markdown",
   "metadata": {
    "collapsed": true
   },
   "source": [
    "* ANOVA: 하나의 종속변수를 갖는 그룹간의 차이 비교\n",
    "* MANOVA: 2개 이상의 종속변수를 갖는 그룹간의 차이 비교\n",
    "* 예: **DBP data**\n",
    "   * 요인 `trt`(수준: 2개 `A`,`B`)간의 `DBP1` 평균 차이 비교 $\\rightarrow$ **one-way ANOVA**\n",
    "   * 요인 `trt`(수준: 2개 `A`,`B`)간의 `DBP1`,`DBP2`,`DBP3`,`DBP4`,`DBP5` 평균 차이 비교 $\\rightarrow$ **one-way MANOVA**\n",
    "* 원리: 여러개의 종속 변수를 그룹차가 최대화되는 새로운 종속변수를 생성한다. 그러면 그 새로운 종속변수는 여러개의 종속변수의 선형결합으로 이루어져있다.\n",
    "* 참고: Hand and Taylor (1987), krzanowski (1988) and Anderson (1994)"
   ]
  },
  {
   "cell_type": "markdown",
   "metadata": {},
   "source": [
    "#### 3.2.2 Models for Categorical Endpoints: Pearson's $\\chi^2$-test"
   ]
  },
  {
   "cell_type": "markdown",
   "metadata": {},
   "source": [
    "* 범주형 Endpoints $\\rightarrow$ Pearson's $\\chi^2$-test\n",
    "* Pearson's $\\chi^2$-test\n",
    "  * categorical or cotingency table data 분석에 주로 사용되는 검정\n",
    "  * 방법\n",
    "    1. 가설 설정: $H_0$:각 처리 그룹간의 차이가 없다.\n",
    "    2. 검정통계량 계산\n",
    "      * 분할표 생성\n",
    "      * 관측도수($O_i$), 기대도수($E_i$)일 때, $\\chi^2 = \\sum_{i}\\frac{(O_i-E_i)^2}{E_i}$\n",
    "      * 자유도 결정\n",
    "    3. 각 셀의 기대빈도가 너무 $\\downarrow$(보통 5 미만) $\\rightarrow$ 예이츠 보정(Yate's correction for lack of continuity)\n",
    "* R: `prop.test()`함수    "
   ]
  },
  {
   "cell_type": "markdown",
   "metadata": {},
   "source": [
    "### 3.3 Data Analysis in R"
   ]
  },
  {
   "cell_type": "markdown",
   "metadata": {},
   "source": [
    "#### 3.3.1 Analysis of the DBP Trial"
   ]
  },
  {
   "cell_type": "markdown",
   "metadata": {},
   "source": [
    "##### 3.3.1.1 Preliminary Data analysis"
   ]
  },
  {
   "cell_type": "markdown",
   "metadata": {},
   "source": [
    "* `read.csv()`함수로 예제 파일을 불러온 후 `dat`에 저장.\n",
    "* `DBP5`와 `DBP1`의 차를 의미하는 새로운 변수 `diff`를 생성 후 `dat`에 저장."
   ]
  },
  {
   "cell_type": "code",
   "execution_count": 1,
   "metadata": {},
   "outputs": [
    {
     "data": {
      "text/html": [
       "<table>\n",
       "<caption>A data.frame: 6 × 10</caption>\n",
       "<thead>\n",
       "\t<tr><th></th><th scope=col>Subject</th><th scope=col>TRT</th><th scope=col>DBP1</th><th scope=col>DBP2</th><th scope=col>DBP3</th><th scope=col>DBP4</th><th scope=col>DBP5</th><th scope=col>Age</th><th scope=col>Sex</th><th scope=col>diff</th></tr>\n",
       "\t<tr><th></th><th scope=col>&lt;int&gt;</th><th scope=col>&lt;chr&gt;</th><th scope=col>&lt;int&gt;</th><th scope=col>&lt;int&gt;</th><th scope=col>&lt;int&gt;</th><th scope=col>&lt;int&gt;</th><th scope=col>&lt;int&gt;</th><th scope=col>&lt;int&gt;</th><th scope=col>&lt;chr&gt;</th><th scope=col>&lt;int&gt;</th></tr>\n",
       "</thead>\n",
       "<tbody>\n",
       "\t<tr><th scope=row>1</th><td>1</td><td>A</td><td>114</td><td>115</td><td>113</td><td>109</td><td>105</td><td>43</td><td>F</td><td> -9</td></tr>\n",
       "\t<tr><th scope=row>2</th><td>2</td><td>A</td><td>116</td><td>113</td><td>112</td><td>103</td><td>101</td><td>51</td><td>M</td><td>-15</td></tr>\n",
       "\t<tr><th scope=row>3</th><td>3</td><td>A</td><td>119</td><td>115</td><td>113</td><td>104</td><td> 98</td><td>48</td><td>F</td><td>-21</td></tr>\n",
       "\t<tr><th scope=row>4</th><td>4</td><td>A</td><td>115</td><td>113</td><td>112</td><td>109</td><td>101</td><td>42</td><td>F</td><td>-14</td></tr>\n",
       "\t<tr><th scope=row>5</th><td>5</td><td>A</td><td>116</td><td>112</td><td>107</td><td>104</td><td>105</td><td>49</td><td>M</td><td>-11</td></tr>\n",
       "\t<tr><th scope=row>6</th><td>6</td><td>A</td><td>117</td><td>112</td><td>113</td><td>104</td><td>102</td><td>47</td><td>M</td><td>-15</td></tr>\n",
       "</tbody>\n",
       "</table>\n"
      ],
      "text/latex": [
       "A data.frame: 6 × 10\n",
       "\\begin{tabular}{r|llllllllll}\n",
       "  & Subject & TRT & DBP1 & DBP2 & DBP3 & DBP4 & DBP5 & Age & Sex & diff\\\\\n",
       "  & <int> & <chr> & <int> & <int> & <int> & <int> & <int> & <int> & <chr> & <int>\\\\\n",
       "\\hline\n",
       "\t1 & 1 & A & 114 & 115 & 113 & 109 & 105 & 43 & F &  -9\\\\\n",
       "\t2 & 2 & A & 116 & 113 & 112 & 103 & 101 & 51 & M & -15\\\\\n",
       "\t3 & 3 & A & 119 & 115 & 113 & 104 &  98 & 48 & F & -21\\\\\n",
       "\t4 & 4 & A & 115 & 113 & 112 & 109 & 101 & 42 & F & -14\\\\\n",
       "\t5 & 5 & A & 116 & 112 & 107 & 104 & 105 & 49 & M & -11\\\\\n",
       "\t6 & 6 & A & 117 & 112 & 113 & 104 & 102 & 47 & M & -15\\\\\n",
       "\\end{tabular}\n"
      ],
      "text/markdown": [
       "\n",
       "A data.frame: 6 × 10\n",
       "\n",
       "| <!--/--> | Subject &lt;int&gt; | TRT &lt;chr&gt; | DBP1 &lt;int&gt; | DBP2 &lt;int&gt; | DBP3 &lt;int&gt; | DBP4 &lt;int&gt; | DBP5 &lt;int&gt; | Age &lt;int&gt; | Sex &lt;chr&gt; | diff &lt;int&gt; |\n",
       "|---|---|---|---|---|---|---|---|---|---|---|\n",
       "| 1 | 1 | A | 114 | 115 | 113 | 109 | 105 | 43 | F |  -9 |\n",
       "| 2 | 2 | A | 116 | 113 | 112 | 103 | 101 | 51 | M | -15 |\n",
       "| 3 | 3 | A | 119 | 115 | 113 | 104 |  98 | 48 | F | -21 |\n",
       "| 4 | 4 | A | 115 | 113 | 112 | 109 | 101 | 42 | F | -14 |\n",
       "| 5 | 5 | A | 116 | 112 | 107 | 104 | 105 | 49 | M | -11 |\n",
       "| 6 | 6 | A | 117 | 112 | 113 | 104 | 102 | 47 | M | -15 |\n",
       "\n"
      ],
      "text/plain": [
       "  Subject TRT DBP1 DBP2 DBP3 DBP4 DBP5 Age Sex diff\n",
       "1 1       A   114  115  113  109  105  43  F    -9 \n",
       "2 2       A   116  113  112  103  101  51  M   -15 \n",
       "3 3       A   119  115  113  104   98  48  F   -21 \n",
       "4 4       A   115  113  112  109  101  42  F   -14 \n",
       "5 5       A   116  112  107  104  105  49  M   -11 \n",
       "6 6       A   117  112  113  104  102  47  M   -15 "
      ]
     },
     "metadata": {},
     "output_type": "display_data"
    }
   ],
   "source": [
    "# read the data into R\n",
    "dat  = read.csv(\"DBP.csv\",header=T)\n",
    "\n",
    "# create the difference\n",
    "dat$diff = dat$DBP5-dat$DBP1\n",
    "\n",
    "# print the first a few observation\n",
    "head(dat)"
   ]
  },
  {
   "cell_type": "markdown",
   "metadata": {},
   "source": [
    "* EDA: box plot 생성\n",
    "  1. 두 그룹 모두 비교적 대칭적(symmetric)인 분포를 따른다. $\\rightarrow$ 이상치 $\\times$\n",
    "  2. 신약 A가 플라시보 B 보다 더 효과적인 것으로 예측된다. $\\rightarrow$ 통계적 검증 필요"
   ]
  },
  {
   "cell_type": "code",
   "execution_count": 4,
   "metadata": {},
   "outputs": [
    {
     "data": {
      "image/png": "[encoded data removed]",
      "text/plain": [
       "plot without title"
      ]
     },
     "metadata": {
      "image/png": {
       "height": 420,
       "width": 420
      }
     },
     "output_type": "display_data"
    }
   ],
   "source": [
    "# call boxplot\n",
    "boxplot(diff~TRT, dat, xlab=\"Treatment\", ylab=\"DBP Changes\", las=1)"
   ]
  },
  {
   "cell_type": "markdown",
   "metadata": {},
   "source": [
    "##### 3.3.1.2 t-test    "
   ]
  },
  {
   "cell_type": "markdown",
   "metadata": {},
   "source": [
    "* 두 그룹의 평균 차이를 비교하기 위해 `t-test()`함수를 이용해 $t$-test를 수행한다."
   ]
  },
  {
   "cell_type": "markdown",
   "metadata": {},
   "source": [
    "**상황1) 등분산 가정 만족**\n",
    "* *등분산 가정*이 만족된다는 의미인 `var.equal=T`옵션을 추가한다."
   ]
  },
  {
   "cell_type": "code",
   "execution_count": 5,
   "metadata": {},
   "outputs": [
    {
     "data": {
      "text/plain": [
       "\n",
       "\tTwo Sample t-test\n",
       "\n",
       "data:  diff by TRT\n",
       "t = -12.15, df = 38, p-value = 1.169e-14\n",
       "alternative hypothesis: true difference in means is not equal to 0\n",
       "95 percent confidence interval:\n",
       " -12.132758  -8.667242\n",
       "sample estimates:\n",
       "mean in group A mean in group B \n",
       "          -15.2            -4.8 \n"
      ]
     },
     "metadata": {},
     "output_type": "display_data"
    }
   ],
   "source": [
    "# call t-test with equal variance \n",
    "t.test(diff~TRT, dat, var.equal=T)"
   ]
  },
  {
   "cell_type": "markdown",
   "metadata": {},
   "source": [
    "* $t$-통계량: -12.15 (자유도=38)\n",
    "* $p$-value: 1.169e-14\n",
    "* 두 그룹 표본 평균차: -4.8-(-15.2)=10.4\n",
    "* 유의수준 0.05하에서 $p$-value는 1.169e-14로 0.05보다 작으므로 귀무가설을 기각한다.\n",
    "* 두 그룹간의 평균은 같다고 할 수 없으므로, 두 그룹간의 효과에 대한 차이는 존재한다고 할 수 있다. 근데 DBP5(마지막 측정 혈압)-DBP1(최초 측정 혈압) 차의 평균을 살펴봤을 때 A신약을 투여한 A집단의 혈압 감소 평균이 -15.2로 더 크므로, A 신약에 대한 혈압 감소 효과가 존재한다고 판단할 수 있다.\n"
   ]
  },
  {
   "cell_type": "markdown",
   "metadata": {},
   "source": [
    "**상황2) 등분산 가정 위배**"
   ]
  },
  {
   "cell_type": "markdown",
   "metadata": {},
   "source": [
    "* 두 그룹의 분산이 같지 않다는 의미인 `var.equal=F`옵션을 추가한다.\n",
    "* Welch의 $t$-검정 수행"
   ]
  },
  {
   "cell_type": "code",
   "execution_count": 7,
   "metadata": {
    "scrolled": true
   },
   "outputs": [
    {
     "data": {
      "text/plain": [
       "\n",
       "\tWelch Two Sample t-test\n",
       "\n",
       "data:  diff by TRT\n",
       "t = -12.15, df = 36.522, p-value = 2.149e-14\n",
       "alternative hypothesis: true difference in means is not equal to 0\n",
       "95 percent confidence interval:\n",
       " -12.135063  -8.664937\n",
       "sample estimates:\n",
       "mean in group A mean in group B \n",
       "          -15.2            -4.8 \n"
      ]
     },
     "metadata": {},
     "output_type": "display_data"
    }
   ],
   "source": [
    "t.test(diff~TRT, dat, var.equal=F)"
   ]
  },
  {
   "cell_type": "markdown",
   "metadata": {},
   "source": [
    "* $t$-통계량: -12.15 (자유도=36.522)\n",
    "* $p$-value: 2.149e-14\n",
    "* 실제로 두 그룹의 분산이 같지 않은지 확인하기 위해 F-검정을 수행한다."
   ]
  },
  {
   "cell_type": "code",
   "execution_count": 8,
   "metadata": {
    "scrolled": true
   },
   "outputs": [
    {
     "data": {
      "text/plain": [
       "\n",
       "\tF test to compare two variances\n",
       "\n",
       "data:  diff by TRT\n",
       "F = 1.5036, num df = 19, denom df = 19, p-value = 0.3819\n",
       "alternative hypothesis: true ratio of variances is not equal to 1\n",
       "95 percent confidence interval:\n",
       " 0.595142 3.798764\n",
       "sample estimates:\n",
       "ratio of variances \n",
       "          1.503597 \n"
      ]
     },
     "metadata": {},
     "output_type": "display_data"
    }
   ],
   "source": [
    "var.test(diff~TRT, dat)"
   ]
  },
  {
   "cell_type": "markdown",
   "metadata": {},
   "source": [
    "* $F$-통계량: 1.5036 (자유도=19,19)\n",
    "* $p$-value: 0.3819\n",
    "* 유의수준 0.05하에서 $p$-value가 0.3819로 0.05보다 크기 때문에 두 그룹의 분산이 같다는 귀무가설을 기각할 수 없다. 즉, 두 그룹의 분산은 동일하다고 할수 있다."
   ]
  },
  {
   "cell_type": "markdown",
   "metadata": {},
   "source": [
    "**상황3) 정규성 가정 위배**"
   ]
  },
  {
   "cell_type": "markdown",
   "metadata": {},
   "source": [
    "* 정규성과 등분산 가정이 위배될 경우 `wilcox.text()`함수를 이용하여 비모수 검정인 윌콕슨 순위합 검정(Wilcoxon rank-sum test)를 수행한다."
   ]
  },
  {
   "cell_type": "code",
   "execution_count": 9,
   "metadata": {
    "scrolled": true
   },
   "outputs": [
    {
     "name": "stderr",
     "output_type": "stream",
     "text": [
      "Warning message in wilcox.test.default(x = c(-9L, -15L, -21L, -14L, -11L, -15L, :\n",
      "\"cannot compute exact p-value with ties\"\n"
     ]
    },
    {
     "data": {
      "text/plain": [
       "\n",
       "\tWilcoxon rank sum test with continuity correction\n",
       "\n",
       "data:  diff by TRT\n",
       "W = 0, p-value = 6.286e-08\n",
       "alternative hypothesis: true location shift is not equal to 0\n"
      ]
     },
     "metadata": {},
     "output_type": "display_data"
    }
   ],
   "source": [
    "wilcox.test(diff~TRT, dat)"
   ]
  },
  {
   "cell_type": "markdown",
   "metadata": {},
   "source": [
    "* $W$-통계량: 0\n",
    "* $p$-value: 6.286e-08\n",
    "* 유의수준 0.05하에서 $p$-value가 6.286e-08로 0.05보다 크기 때문에 두 그룹의 평균은 같다는 귀무가설을 기각한다. 즉, 두 그룹의 평균은 차이가 있다고 할 수 있다."
   ]
  },
  {
   "cell_type": "markdown",
   "metadata": {},
   "source": [
    "**상황4) 단측 검정**"
   ]
  },
  {
   "cell_type": "markdown",
   "metadata": {},
   "source": [
    "* 대립 가설: $\\mu_A$(신약A 의 혈압 감소 효과) > $\\mu_B$(플라시보B 의 혈압 감소 효과)\n",
    "* 단측 검정을 위해 `alternative=\"less\"` 옵션을 추가하여 t-test를 실시한다."
   ]
  },
  {
   "cell_type": "code",
   "execution_count": 10,
   "metadata": {},
   "outputs": [
    {
     "data": {
      "text/plain": [
       "\n",
       "\tWelch Two Sample t-test\n",
       "\n",
       "data:  diff.A and diff.B\n",
       "t = -12.15, df = 36.522, p-value = 1.074e-14\n",
       "alternative hypothesis: true difference in means is less than 0\n",
       "95 percent confidence interval:\n",
       "      -Inf -8.955466\n",
       "sample estimates:\n",
       "mean of x mean of y \n",
       "    -15.2      -4.8 \n"
      ]
     },
     "metadata": {},
     "output_type": "display_data"
    }
   ],
   "source": [
    "# data from treatment A\n",
    "diff.A = dat[dat$TRT==\"A\",]$diff\n",
    "# data from treatment B\n",
    "diff.B = dat[dat$TRT==\"B\",]$diff\n",
    "# call t.test for one-sided test\n",
    "t.test(diff.A, diff.B,alternative=\"less\")"
   ]
  },
  {
   "cell_type": "markdown",
   "metadata": {},
   "source": [
    "* $t$-통계량: -12.15 (자유도=36.522)\n",
    "* $p$-value: 1.074e-14\n",
    "* 유의수준 0.05하에서 $p$-value가 1.074e-14으로 0.05보다 작으므로 귀무가설을 기각한다. $\\rightarrow$ 신약 A의 효과가 존재한다.\n",
    "* 95% 단측 신뢰구간: [$-\\infty$, -8.955]로 0을 포함하지 않는다."
   ]
  },
  {
   "cell_type": "markdown",
   "metadata": {},
   "source": [
    "##### 3.3.1.3 Bootstrapping Method"
   ]
  },
  {
   "cell_type": "markdown",
   "metadata": {},
   "source": [
    "* 부스트랩 기법을 사용하기 위해 `bootstrap` 패키지를 불러온다.\n",
    "* 두 처리 그룹의 평균의 차이를 계산하는 사용자 함수 `mean.diff()`를 정의한다.\n",
    "* 참고: https://cran.r-project.org/web/packages/bootstrap/bootstrap.pdf"
   ]
  },
  {
   "cell_type": "code",
   "execution_count": 76,
   "metadata": {},
   "outputs": [
    {
     "data": {
      "text/plain": [
       "               Length Class  Mode   \n",
       "thetastar      1000   -none- numeric\n",
       "func.thetastar    0   -none- NULL   \n",
       "jack.boot.val     0   -none- NULL   \n",
       "jack.boot.se      0   -none- NULL   \n",
       "call              5   -none- call   "
      ]
     },
     "metadata": {},
     "output_type": "display_data"
    }
   ],
   "source": [
    "summary(boot.mean)"
   ]
  },
  {
   "cell_type": "code",
   "execution_count": 61,
   "metadata": {},
   "outputs": [],
   "source": [
    "# load the library \"bootstrap\"\n",
    "#i nstall.packages(\"bootstrap\")\n",
    "library(bootstrap)\n",
    "# define a function to calculate the mean difference \n",
    "# between treatment groups A to B:\n",
    "mean.diff = function(bn,dat) \n",
    "  diff(tapply(dat[bn,]$diff, dat[bn,]$TRT,mean))"
   ]
  },
  {
   "cell_type": "markdown",
   "metadata": {},
   "source": [
    "* 부스트랩 반복 횟수 `nboot`를 1000으로 지정하고 `diff`에 대해 `boostrap()`함수를 이용하여 부스트랩 샘플을 생성하여 `boot.mean`에 저장한다."
   ]
  },
  {
   "cell_type": "code",
   "execution_count": 69,
   "metadata": {},
   "outputs": [],
   "source": [
    "# number of bootstrap\n",
    "nboot     = 1000\n",
    "# call \"bootstrap\" function\n",
    "boot.mean = bootstrap(1:dim(dat)[1], nboot, mean.diff,dat) #defualt"
   ]
  },
  {
   "cell_type": "markdown",
   "metadata": {},
   "source": [
    "* `boot.mean$thetastar`에는 부스트랩 표본 생성 후 `mean.diff()` 로 계산된 각 처리 그룹(A그룹, B그룹)간의 차이의 평균을 확인할 수 있다.\n",
    "* 부스트랩 표본 분포를 확인하기 위하여 히스토그램을 그리면 아래와 같다."
   ]
  },
  {
   "cell_type": "code",
   "execution_count": 18,
   "metadata": {},
   "outputs": [
    {
     "name": "stdout",
     "output_type": "stream",
     "text": [
      "     2.5%       50%     97.5% \n",
      " 8.781843 10.400000 12.000448 \n"
     ]
    },
    {
     "data": {
      "image/png": "[encoded data removed]",
      "text/plain": [
       "Plot with title \"\""
      ]
     },
     "metadata": {
      "image/png": {
       "height": 420,
       "width": 420
      }
     },
     "output_type": "display_data"
    }
   ],
   "source": [
    "# extract the mean differences  \n",
    "x = boot.mean$thetastar\n",
    "# calcualte the bootstrap quantiles\n",
    "x.quantile = quantile(x, c(0.025,0.5, 0.975))\n",
    "# show the quantiles\n",
    "print(x.quantile)\n",
    "# make a histogram\n",
    "hist(boot.mean$thetastar, xlab=\"Mean Differences\", main=\"\")\n",
    "# add the vertical lines for the quantiles \n",
    "abline(v=x.quantile,lwd=2, lty=c(4,1,4)) "
   ]
  },
  {
   "cell_type": "markdown",
   "metadata": {},
   "source": [
    "##### 3.3.1.4 One-Way ANOVA for Time Changes"
   ]
  },
  {
   "cell_type": "markdown",
   "metadata": {},
   "source": [
    "* 목적: 신약A에 대해 시간 경과(월별, 5개 수준)에 따른 고혈압 치료 효과 확인을 위함\n",
    "* 최초 측정 혈압(`DBP1`): baseline \n",
    "* 그 후 1개월 단위로 측정: `DBP2`, `DMP3`, `DMP4`, `DMP5`\n",
    "* 처리그룹별/월별 평균 혈압 변화량을 확인하기 위해 `aggreate()`함수를 이용하여 계산"
   ]
  },
  {
   "cell_type": "code",
   "execution_count": 19,
   "metadata": {},
   "outputs": [
    {
     "data": {
      "text/html": [
       "<table>\n",
       "<caption>A data.frame: 2 × 6</caption>\n",
       "<thead>\n",
       "\t<tr><th scope=col>TRT</th><th scope=col>DBP1</th><th scope=col>DBP2</th><th scope=col>DBP3</th><th scope=col>DBP4</th><th scope=col>DBP5</th></tr>\n",
       "\t<tr><th scope=col>&lt;chr&gt;</th><th scope=col>&lt;dbl&gt;</th><th scope=col>&lt;dbl&gt;</th><th scope=col>&lt;dbl&gt;</th><th scope=col>&lt;dbl&gt;</th><th scope=col>&lt;dbl&gt;</th></tr>\n",
       "</thead>\n",
       "<tbody>\n",
       "\t<tr><td>A</td><td>116.55</td><td>113.5</td><td>110.70</td><td>106.25</td><td>101.35</td></tr>\n",
       "\t<tr><td>B</td><td>116.75</td><td>115.2</td><td>114.05</td><td>112.45</td><td>111.95</td></tr>\n",
       "</tbody>\n",
       "</table>\n"
      ],
      "text/latex": [
       "A data.frame: 2 × 6\n",
       "\\begin{tabular}{llllll}\n",
       " TRT & DBP1 & DBP2 & DBP3 & DBP4 & DBP5\\\\\n",
       " <chr> & <dbl> & <dbl> & <dbl> & <dbl> & <dbl>\\\\\n",
       "\\hline\n",
       "\t A & 116.55 & 113.5 & 110.70 & 106.25 & 101.35\\\\\n",
       "\t B & 116.75 & 115.2 & 114.05 & 112.45 & 111.95\\\\\n",
       "\\end{tabular}\n"
      ],
      "text/markdown": [
       "\n",
       "A data.frame: 2 × 6\n",
       "\n",
       "| TRT &lt;chr&gt; | DBP1 &lt;dbl&gt; | DBP2 &lt;dbl&gt; | DBP3 &lt;dbl&gt; | DBP4 &lt;dbl&gt; | DBP5 &lt;dbl&gt; |\n",
       "|---|---|---|---|---|---|\n",
       "| A | 116.55 | 113.5 | 110.70 | 106.25 | 101.35 |\n",
       "| B | 116.75 | 115.2 | 114.05 | 112.45 | 111.95 |\n",
       "\n"
      ],
      "text/plain": [
       "  TRT DBP1   DBP2  DBP3   DBP4   DBP5  \n",
       "1 A   116.55 113.5 110.70 106.25 101.35\n",
       "2 B   116.75 115.2 114.05 112.45 111.95"
      ]
     },
     "metadata": {},
     "output_type": "display_data"
    }
   ],
   "source": [
    "aggregate(dat[,3:7], list(TRT=dat$TRT), mean)"
   ]
  },
  {
   "cell_type": "markdown",
   "metadata": {},
   "source": [
    "* One-way ANOVA를 수행하기앞서 `reshape()`함수를 이용해 데이터 프레임 구조를 변경한다."
   ]
  },
  {
   "cell_type": "code",
   "execution_count": 23,
   "metadata": {
    "scrolled": true
   },
   "outputs": [
    {
     "data": {
      "text/html": [
       "<table>\n",
       "<caption>A data.frame: 6 × 7</caption>\n",
       "<thead>\n",
       "\t<tr><th></th><th scope=col>Subject</th><th scope=col>TRT</th><th scope=col>Age</th><th scope=col>Sex</th><th scope=col>diff</th><th scope=col>Time</th><th scope=col>DBP</th></tr>\n",
       "\t<tr><th></th><th scope=col>&lt;int&gt;</th><th scope=col>&lt;chr&gt;</th><th scope=col>&lt;int&gt;</th><th scope=col>&lt;chr&gt;</th><th scope=col>&lt;int&gt;</th><th scope=col>&lt;fct&gt;</th><th scope=col>&lt;int&gt;</th></tr>\n",
       "</thead>\n",
       "<tbody>\n",
       "\t<tr><th scope=row>1.A.43.F.-9.1</th><td>1</td><td>A</td><td>43</td><td>F</td><td> -9</td><td>1</td><td>114</td></tr>\n",
       "\t<tr><th scope=row>2.A.51.M.-15.1</th><td>2</td><td>A</td><td>51</td><td>M</td><td>-15</td><td>1</td><td>116</td></tr>\n",
       "\t<tr><th scope=row>3.A.48.F.-21.1</th><td>3</td><td>A</td><td>48</td><td>F</td><td>-21</td><td>1</td><td>119</td></tr>\n",
       "\t<tr><th scope=row>4.A.42.F.-14.1</th><td>4</td><td>A</td><td>42</td><td>F</td><td>-14</td><td>1</td><td>115</td></tr>\n",
       "\t<tr><th scope=row>5.A.49.M.-11.1</th><td>5</td><td>A</td><td>49</td><td>M</td><td>-11</td><td>1</td><td>116</td></tr>\n",
       "\t<tr><th scope=row>6.A.47.M.-15.1</th><td>6</td><td>A</td><td>47</td><td>M</td><td>-15</td><td>1</td><td>117</td></tr>\n",
       "</tbody>\n",
       "</table>\n"
      ],
      "text/latex": [
       "A data.frame: 6 × 7\n",
       "\\begin{tabular}{r|lllllll}\n",
       "  & Subject & TRT & Age & Sex & diff & Time & DBP\\\\\n",
       "  & <int> & <chr> & <int> & <chr> & <int> & <fct> & <int>\\\\\n",
       "\\hline\n",
       "\t1.A.43.F.-9.1 & 1 & A & 43 & F &  -9 & 1 & 114\\\\\n",
       "\t2.A.51.M.-15.1 & 2 & A & 51 & M & -15 & 1 & 116\\\\\n",
       "\t3.A.48.F.-21.1 & 3 & A & 48 & F & -21 & 1 & 119\\\\\n",
       "\t4.A.42.F.-14.1 & 4 & A & 42 & F & -14 & 1 & 115\\\\\n",
       "\t5.A.49.M.-11.1 & 5 & A & 49 & M & -11 & 1 & 116\\\\\n",
       "\t6.A.47.M.-15.1 & 6 & A & 47 & M & -15 & 1 & 117\\\\\n",
       "\\end{tabular}\n"
      ],
      "text/markdown": [
       "\n",
       "A data.frame: 6 × 7\n",
       "\n",
       "| <!--/--> | Subject &lt;int&gt; | TRT &lt;chr&gt; | Age &lt;int&gt; | Sex &lt;chr&gt; | diff &lt;int&gt; | Time &lt;fct&gt; | DBP &lt;int&gt; |\n",
       "|---|---|---|---|---|---|---|---|\n",
       "| 1.A.43.F.-9.1 | 1 | A | 43 | F |  -9 | 1 | 114 |\n",
       "| 2.A.51.M.-15.1 | 2 | A | 51 | M | -15 | 1 | 116 |\n",
       "| 3.A.48.F.-21.1 | 3 | A | 48 | F | -21 | 1 | 119 |\n",
       "| 4.A.42.F.-14.1 | 4 | A | 42 | F | -14 | 1 | 115 |\n",
       "| 5.A.49.M.-11.1 | 5 | A | 49 | M | -11 | 1 | 116 |\n",
       "| 6.A.47.M.-15.1 | 6 | A | 47 | M | -15 | 1 | 117 |\n",
       "\n"
      ],
      "text/plain": [
       "               Subject TRT Age Sex diff Time DBP\n",
       "1.A.43.F.-9.1  1       A   43  F    -9  1    114\n",
       "2.A.51.M.-15.1 2       A   51  M   -15  1    116\n",
       "3.A.48.F.-21.1 3       A   48  F   -21  1    119\n",
       "4.A.42.F.-14.1 4       A   42  F   -14  1    115\n",
       "5.A.49.M.-11.1 5       A   49  M   -11  1    116\n",
       "6.A.47.M.-15.1 6       A   47  M   -15  1    117"
      ]
     },
     "metadata": {},
     "output_type": "display_data"
    },
    {
     "data": {
      "text/html": [
       "<table>\n",
       "<caption>A data.frame: 6 × 7</caption>\n",
       "<thead>\n",
       "\t<tr><th></th><th scope=col>Subject</th><th scope=col>TRT</th><th scope=col>Age</th><th scope=col>Sex</th><th scope=col>diff</th><th scope=col>Time</th><th scope=col>DBP</th></tr>\n",
       "\t<tr><th></th><th scope=col>&lt;int&gt;</th><th scope=col>&lt;chr&gt;</th><th scope=col>&lt;int&gt;</th><th scope=col>&lt;chr&gt;</th><th scope=col>&lt;int&gt;</th><th scope=col>&lt;fct&gt;</th><th scope=col>&lt;int&gt;</th></tr>\n",
       "</thead>\n",
       "<tbody>\n",
       "\t<tr><th scope=row>35.B.52.M.-6.5</th><td>35</td><td>B</td><td>52</td><td>M</td><td>-6</td><td>5</td><td>112</td></tr>\n",
       "\t<tr><th scope=row>36.B.55.F.-8.5</th><td>36</td><td>B</td><td>55</td><td>F</td><td>-8</td><td>5</td><td>111</td></tr>\n",
       "\t<tr><th scope=row>37.B.45.F.-7.5</th><td>37</td><td>B</td><td>45</td><td>F</td><td>-7</td><td>5</td><td>109</td></tr>\n",
       "\t<tr><th scope=row>38.B.42.M.-4.5</th><td>38</td><td>B</td><td>42</td><td>M</td><td>-4</td><td>5</td><td>112</td></tr>\n",
       "\t<tr><th scope=row>39.B.49.F.-2.5</th><td>39</td><td>B</td><td>49</td><td>F</td><td>-2</td><td>5</td><td>115</td></tr>\n",
       "\t<tr><th scope=row>40.B.50.F.-3.5</th><td>40</td><td>B</td><td>50</td><td>F</td><td>-3</td><td>5</td><td>115</td></tr>\n",
       "</tbody>\n",
       "</table>\n"
      ],
      "text/latex": [
       "A data.frame: 6 × 7\n",
       "\\begin{tabular}{r|lllllll}\n",
       "  & Subject & TRT & Age & Sex & diff & Time & DBP\\\\\n",
       "  & <int> & <chr> & <int> & <chr> & <int> & <fct> & <int>\\\\\n",
       "\\hline\n",
       "\t35.B.52.M.-6.5 & 35 & B & 52 & M & -6 & 5 & 112\\\\\n",
       "\t36.B.55.F.-8.5 & 36 & B & 55 & F & -8 & 5 & 111\\\\\n",
       "\t37.B.45.F.-7.5 & 37 & B & 45 & F & -7 & 5 & 109\\\\\n",
       "\t38.B.42.M.-4.5 & 38 & B & 42 & M & -4 & 5 & 112\\\\\n",
       "\t39.B.49.F.-2.5 & 39 & B & 49 & F & -2 & 5 & 115\\\\\n",
       "\t40.B.50.F.-3.5 & 40 & B & 50 & F & -3 & 5 & 115\\\\\n",
       "\\end{tabular}\n"
      ],
      "text/markdown": [
       "\n",
       "A data.frame: 6 × 7\n",
       "\n",
       "| <!--/--> | Subject &lt;int&gt; | TRT &lt;chr&gt; | Age &lt;int&gt; | Sex &lt;chr&gt; | diff &lt;int&gt; | Time &lt;fct&gt; | DBP &lt;int&gt; |\n",
       "|---|---|---|---|---|---|---|---|\n",
       "| 35.B.52.M.-6.5 | 35 | B | 52 | M | -6 | 5 | 112 |\n",
       "| 36.B.55.F.-8.5 | 36 | B | 55 | F | -8 | 5 | 111 |\n",
       "| 37.B.45.F.-7.5 | 37 | B | 45 | F | -7 | 5 | 109 |\n",
       "| 38.B.42.M.-4.5 | 38 | B | 42 | M | -4 | 5 | 112 |\n",
       "| 39.B.49.F.-2.5 | 39 | B | 49 | F | -2 | 5 | 115 |\n",
       "| 40.B.50.F.-3.5 | 40 | B | 50 | F | -3 | 5 | 115 |\n",
       "\n"
      ],
      "text/plain": [
       "               Subject TRT Age Sex diff Time DBP\n",
       "35.B.52.M.-6.5 35      B   52  M   -6   5    112\n",
       "36.B.55.F.-8.5 36      B   55  F   -8   5    111\n",
       "37.B.45.F.-7.5 37      B   45  F   -7   5    109\n",
       "38.B.42.M.-4.5 38      B   42  M   -4   5    112\n",
       "39.B.49.F.-2.5 39      B   49  F   -2   5    115\n",
       "40.B.50.F.-3.5 40      B   50  F   -3   5    115"
      ]
     },
     "metadata": {},
     "output_type": "display_data"
    }
   ],
   "source": [
    "# call reshpae\n",
    "Dat = reshape(dat, direction=\"long\", \n",
    "              varying=c(\"DBP1\",\"DBP2\",\"DBP3\",\"DBP4\",\"DBP5\"),\n",
    "              idvar = c(\"Subject\",\"TRT\",\"Age\",\"Sex\",\"diff\"),sep=\"\")\n",
    "            colnames(Dat) = c(\"Subject\",\"TRT\",\"Age\",\"Sex\",\"diff\",\"Time\",\"DBP\")\n",
    "Dat$Time = as.factor(Dat$Time)\n",
    "\n",
    "# show the first 6 observations\n",
    "head(Dat); tail(Dat)"
   ]
  },
  {
   "cell_type": "markdown",
   "metadata": {},
   "source": [
    "* $H_0$: $\\mu_1 = \\mu_2 = \\mu_3 = \\mu_4 = \\mu_5$\n",
    "* $H_a$: $\\text{Not all means are equal}$\n",
    "* `aov()`함수를 이용하여 one-way ANOVA를 수행한다."
   ]
  },
  {
   "cell_type": "markdown",
   "metadata": {},
   "source": [
    "**A집단의 월별 변화량 비교**"
   ]
  },
  {
   "cell_type": "code",
   "execution_count": 25,
   "metadata": {},
   "outputs": [
    {
     "data": {
      "text/plain": [
       "            Df Sum Sq Mean Sq F value Pr(>F)    \n",
       "Time         4 2879.7   719.9     127 <2e-16 ***\n",
       "Residuals   95  538.4     5.7                   \n",
       "---\n",
       "Signif. codes:  0 '***' 0.001 '**' 0.01 '*' 0.05 '.' 0.1 ' ' 1"
      ]
     },
     "metadata": {},
     "output_type": "display_data"
    }
   ],
   "source": [
    "# test treatment \"A\"\n",
    "datA   = Dat[Dat$TRT==\"A\",]\n",
    "test.A = aov(DBP~Time, datA)\n",
    "summary(test.A)"
   ]
  },
  {
   "cell_type": "markdown",
   "metadata": {},
   "source": [
    "* $F$-value: 127 (df=4,95)\n",
    "* $p$-value: <2e-16\n",
    "* 유의수준 0.05하에서 $p$-value가 <2e-16이므로 귀무가설을 기각한다. 즉, A집단의 월별 평균은 차이가 있다고 할 수 있다."
   ]
  },
  {
   "cell_type": "markdown",
   "metadata": {},
   "source": [
    "**B집단의 월별 변화량 비교**"
   ]
  },
  {
   "cell_type": "code",
   "execution_count": 26,
   "metadata": {},
   "outputs": [
    {
     "data": {
      "text/plain": [
       "            Df Sum Sq Mean Sq F value  Pr(>F)    \n",
       "Time         4  311.6   77.89   17.63 7.5e-11 ***\n",
       "Residuals   95  419.8    4.42                    \n",
       "---\n",
       "Signif. codes:  0 '***' 0.001 '**' 0.01 '*' 0.05 '.' 0.1 ' ' 1"
      ]
     },
     "metadata": {},
     "output_type": "display_data"
    }
   ],
   "source": [
    "# test treatment \"B\"\n",
    "datB   = Dat[Dat$TRT==\"B\",]\n",
    "test.B = aov(DBP~Time, datB)\n",
    "summary(test.B)"
   ]
  },
  {
   "cell_type": "markdown",
   "metadata": {},
   "source": [
    "* $F$-value: 17.63 (df=4,95)\n",
    "* $p$-value: 7.5e-11\n",
    "* 유의수준 0.05하에서 $p$-value가 7.5e-11이므로 귀무가설을 기각한다. 즉, B집단 역시 월별 평균은 차이가 있다고 할 수 있다."
   ]
  },
  {
   "cell_type": "markdown",
   "metadata": {},
   "source": [
    "* one-way ANOVA 실시 결과 A집단, B집단 모두 월별 평균이 모두 같지는 않다고 할 수 있다.\n",
    "* 그렇다면, 어떤 그룹(월)간의 차이가 존재하는지 확인하기 위해 다중 비교를 실시한다.\n",
    "* `TukeyHSD()`함수를 이용하여 다중 비교를 실시한다."
   ]
  },
  {
   "cell_type": "code",
   "execution_count": 28,
   "metadata": {},
   "outputs": [
    {
     "data": {
      "text/plain": [
       "  Tukey multiple comparisons of means\n",
       "    95% family-wise confidence level\n",
       "\n",
       "Fit: aov(formula = DBP ~ Time, data = datA)\n",
       "\n",
       "$Time\n",
       "      diff        lwr         upr     p adj\n",
       "2-1  -3.05  -5.143586  -0.9564144 0.0009687\n",
       "3-1  -5.85  -7.943586  -3.7564144 0.0000000\n",
       "4-1 -10.30 -12.393586  -8.2064144 0.0000000\n",
       "5-1 -15.20 -17.293586 -13.1064144 0.0000000\n",
       "3-2  -2.80  -4.893586  -0.7064144 0.0030529\n",
       "4-2  -7.25  -9.343586  -5.1564144 0.0000000\n",
       "5-2 -12.15 -14.243586 -10.0564144 0.0000000\n",
       "4-3  -4.45  -6.543586  -2.3564144 0.0000005\n",
       "5-3  -9.35 -11.443586  -7.2564144 0.0000000\n",
       "5-4  -4.90  -6.993586  -2.8064144 0.0000000\n"
      ]
     },
     "metadata": {},
     "output_type": "display_data"
    }
   ],
   "source": [
    "TukeyHSD(test.A)"
   ]
  },
  {
   "cell_type": "markdown",
   "metadata": {},
   "source": [
    "* A집단의 다중 비교 결과, 모든 level(월별)에서 평균이 통계적으로 같지 않다는 결과가 나왔다."
   ]
  },
  {
   "cell_type": "code",
   "execution_count": 29,
   "metadata": {},
   "outputs": [
    {
     "data": {
      "text/plain": [
       "  Tukey multiple comparisons of means\n",
       "    95% family-wise confidence level\n",
       "\n",
       "Fit: aov(formula = DBP ~ Time, data = datB)\n",
       "\n",
       "$Time\n",
       "     diff       lwr        upr     p adj\n",
       "2-1 -1.55 -3.398584  0.2985843 0.1440046\n",
       "3-1 -2.70 -4.548584 -0.8514157 0.0009333\n",
       "4-1 -4.30 -6.148584 -2.4514157 0.0000000\n",
       "5-1 -4.80 -6.648584 -2.9514157 0.0000000\n",
       "3-2 -1.15 -2.998584  0.6985843 0.4207789\n",
       "4-2 -2.75 -4.598584 -0.9014157 0.0007122\n",
       "5-2 -3.25 -5.098584 -1.4014157 0.0000400\n",
       "4-3 -1.60 -3.448584  0.2485843 0.1223788\n",
       "5-3 -2.10 -3.948584 -0.2514157 0.0176793\n",
       "5-4 -0.50 -2.348584  1.3485843 0.9433857\n"
      ]
     },
     "metadata": {},
     "output_type": "display_data"
    }
   ],
   "source": [
    "TukeyHSD(test.B)"
   ]
  },
  {
   "cell_type": "markdown",
   "metadata": {},
   "source": [
    "* B집단의 다중 비교 결과, 아래의 level에서 차이가 있음을 확인했다.\n",
    "   * Time 3(2개월 후)-Time 1(baseline): p-value(0.0009333)\n",
    "   * Time 4(3개월 후)-Time 1(baseline): p-value(0.0000000)\n",
    "   * Time 5(4개월 후)-Time 1(baseline): p-value(0.0000000)\n",
    "   * Time 4(3개월 후)-Time 2(1개월 후): p-value(0.0007122)\n",
    "   * Time 5(4개월 후)-Time 2(1개월 후): p-value(0.0000400)\n",
    "   * Time 5(4개월 후)-Time 3(2개월 후): p-value(0.0176793)"
   ]
  },
  {
   "cell_type": "markdown",
   "metadata": {},
   "source": [
    "##### 3.3.1.5 Two-Way ANOVA for Interaction"
   ]
  },
  {
   "cell_type": "markdown",
   "metadata": {},
   "source": [
    "* 목적: 처리(A/B, 2개 수준)와 시간(월별, 5개 수준)의 주효과 및 교호작용효과도 확인하기 위함\n",
    "* `aov()`함수를 이용하되, 교호작용효과를 확인하고 싶은 변수는 `*`를 이용한다."
   ]
  },
  {
   "cell_type": "code",
   "execution_count": 30,
   "metadata": {},
   "outputs": [
    {
     "data": {
      "text/plain": [
       "             Df Sum Sq Mean Sq F value Pr(>F)    \n",
       "TRT           1  972.4   972.4  192.81 <2e-16 ***\n",
       "Time          4 2514.1   628.5  124.62 <2e-16 ***\n",
       "TRT:Time      4  677.1   169.3   33.56 <2e-16 ***\n",
       "Residuals   190  958.3     5.0                   \n",
       "---\n",
       "Signif. codes:  0 '***' 0.001 '**' 0.01 '*' 0.05 '.' 0.1 ' ' 1"
      ]
     },
     "metadata": {},
     "output_type": "display_data"
    }
   ],
   "source": [
    "mod2 = aov(DBP~ TRT*Time, Dat)\n",
    "summary(mod2)"
   ]
  },
  {
   "cell_type": "markdown",
   "metadata": {},
   "source": [
    "* `trt` 주효과: F(192.81) p(<2e-16) $\\rightarrow$ $H_0$ 기각 $\\rightarrow$ `trt`별 차이 존재\n",
    "* `time` 주효과: F(124.62) p(<2e-16) $\\rightarrow$ $H_0$ 기각 $\\rightarrow$ `time`별 차이 존재\n",
    "* `trt*time` 교호작용효과: F(33.56) p(<2e-16) $\\rightarrow$ $H_0$ 기각 $\\rightarrow$ **`trt*time`별 차이 존재**"
   ]
  },
  {
   "cell_type": "markdown",
   "metadata": {},
   "source": [
    "* `trt`와 `time`간의 교호작용효과를 파악하기 위하여 `interaction.plot()`함수를 이용하여 그래프를 그린다."
   ]
  },
  {
   "cell_type": "code",
   "execution_count": 31,
   "metadata": {},
   "outputs": [
    {
     "data": {
      "image/png": "[encoded data removed]",
      "text/plain": [
       "plot without title"
      ]
     },
     "metadata": {
      "image/png": {
       "height": 420,
       "width": 420
      }
     },
     "output_type": "display_data"
    }
   ],
   "source": [
    "par(mfrow=c(2,1),mar=c(5,3,1,1))\n",
    "with(Dat,interaction.plot(Time,TRT,DBP,las=1,legend=T))\n",
    "with(Dat,interaction.plot(TRT,Time,DBP,las=1,legend=T))"
   ]
  },
  {
   "cell_type": "markdown",
   "metadata": {},
   "source": [
    "* A집단이 B집단보다 평균 혈압이 낮다.\n",
    "* 시간의 경과에 따라 평균 혈압이 낮아진다.\n",
    "* B집단(플라시보)보다 A집단이 시간의 경과에 따라 <u>평균 혈압이 더 크게 감소</u>하는 것을 확인할 수 있다. $\\rightarrow$ `trt`와 `time`의 교호작용효과 "
   ]
  },
  {
   "cell_type": "markdown",
   "metadata": {},
   "source": [
    "* 교호작용효과를 확인하기 위한 다른 방법 $\\rightarrow$ Duncan (1957) 참고"
   ]
  },
  {
   "cell_type": "code",
   "execution_count": 32,
   "metadata": {},
   "outputs": [
    {
     "data": {
      "text/plain": [
       "  Tukey multiple comparisons of means\n",
       "    95% family-wise confidence level\n",
       "\n",
       "Fit: aov(formula = DBP ~ TRT * Time, data = Dat)\n",
       "\n",
       "$TRT\n",
       "    diff      lwr      upr p adj\n",
       "B-A 4.41 3.783529 5.036471     0\n",
       "\n",
       "$Time\n",
       "       diff        lwr        upr     p adj\n",
       "2-1  -2.300  -3.683042 -0.9169576 0.0000816\n",
       "3-1  -4.275  -5.658042 -2.8919576 0.0000000\n",
       "4-1  -7.300  -8.683042 -5.9169576 0.0000000\n",
       "5-1 -10.000 -11.383042 -8.6169576 0.0000000\n",
       "3-2  -1.975  -3.358042 -0.5919576 0.0011017\n",
       "4-2  -5.000  -6.383042 -3.6169576 0.0000000\n",
       "5-2  -7.700  -9.083042 -6.3169576 0.0000000\n",
       "4-3  -3.025  -4.408042 -1.6419576 0.0000001\n",
       "5-3  -5.725  -7.108042 -4.3419576 0.0000000\n",
       "5-4  -2.700  -4.083042 -1.3169576 0.0000022\n",
       "\n",
       "$`TRT:Time`\n",
       "          diff         lwr         upr     p adj\n",
       "B:1-A:1   0.20  -2.0737649   2.4737649 0.9999998\n",
       "A:2-A:1  -3.05  -5.3237649  -0.7762351 0.0011351\n",
       "B:2-A:1  -1.35  -3.6237649   0.9237649 0.6684315\n",
       "A:3-A:1  -5.85  -8.1237649  -3.5762351 0.0000000\n",
       "B:3-A:1  -2.50  -4.7737649  -0.2262351 0.0188264\n",
       "A:4-A:1 -10.30 -12.5737649  -8.0262351 0.0000000\n",
       "B:4-A:1  -4.10  -6.3737649  -1.8262351 0.0000014\n",
       "A:5-A:1 -15.20 -17.4737649 -12.9262351 0.0000000\n",
       "B:5-A:1  -4.60  -6.8737649  -2.3262351 0.0000000\n",
       "A:2-B:1  -3.25  -5.5237649  -0.9762351 0.0003579\n",
       "B:2-B:1  -1.55  -3.8237649   0.7237649 0.4723958\n",
       "A:3-B:1  -6.05  -8.3237649  -3.7762351 0.0000000\n",
       "B:3-B:1  -2.70  -4.9737649  -0.4262351 0.0072480\n",
       "A:4-B:1 -10.50 -12.7737649  -8.2262351 0.0000000\n",
       "B:4-B:1  -4.30  -6.5737649  -2.0262351 0.0000003\n",
       "A:5-B:1 -15.40 -17.6737649 -13.1262351 0.0000000\n",
       "B:5-B:1  -4.80  -7.0737649  -2.5262351 0.0000000\n",
       "B:2-A:2   1.70  -0.5737649   3.9737649 0.3355035\n",
       "A:3-A:2  -2.80  -5.0737649  -0.5262351 0.0043660\n",
       "B:3-A:2   0.55  -1.7237649   2.8237649 0.9988534\n",
       "A:4-A:2  -7.25  -9.5237649  -4.9762351 0.0000000\n",
       "B:4-A:2  -1.05  -3.3237649   1.2237649 0.8990806\n",
       "A:5-A:2 -12.15 -14.4237649  -9.8762351 0.0000000\n",
       "B:5-A:2  -1.55  -3.8237649   0.7237649 0.4723958\n",
       "A:3-B:2  -4.50  -6.7737649  -2.2262351 0.0000001\n",
       "B:3-B:2  -1.15  -3.4237649   1.1237649 0.8372192\n",
       "A:4-B:2  -8.95 -11.2237649  -6.6762351 0.0000000\n",
       "B:4-B:2  -2.75  -5.0237649  -0.4762351 0.0056388\n",
       "A:5-B:2 -13.85 -16.1237649 -11.5762351 0.0000000\n",
       "B:5-B:2  -3.25  -5.5237649  -0.9762351 0.0003579\n",
       "B:3-A:3   3.35   1.0762351   5.6237649 0.0001963\n",
       "A:4-A:3  -4.45  -6.7237649  -2.1762351 0.0000001\n",
       "B:4-A:3   1.75  -0.5237649   4.0237649 0.2948066\n",
       "A:5-A:3  -9.35 -11.6237649  -7.0762351 0.0000000\n",
       "B:5-A:3   1.25  -1.0237649   3.5237649 0.7590918\n",
       "A:4-B:3  -7.80 -10.0737649  -5.5262351 0.0000000\n",
       "B:4-B:3  -1.60  -3.8737649   0.6737649 0.4247400\n",
       "A:5-B:3 -12.70 -14.9737649 -10.4262351 0.0000000\n",
       "B:5-B:3  -2.10  -4.3737649   0.1737649 0.0975920\n",
       "B:4-A:4   6.20   3.9262351   8.4737649 0.0000000\n",
       "A:5-A:4  -4.90  -7.1737649  -2.6262351 0.0000000\n",
       "B:5-A:4   5.70   3.4262351   7.9737649 0.0000000\n",
       "A:5-B:4 -11.10 -13.3737649  -8.8262351 0.0000000\n",
       "B:5-B:4  -0.50  -2.7737649   1.7737649 0.9994658\n",
       "B:5-A:5  10.60   8.3262351  12.8737649 0.0000000\n"
      ]
     },
     "metadata": {},
     "output_type": "display_data"
    }
   ],
   "source": [
    "TukeyHSD(aov(DBP ~ TRT*Time,Dat)) "
   ]
  },
  {
   "cell_type": "markdown",
   "metadata": {},
   "source": [
    "* interaction을 살폈을 때 각 쌍의 비교에서 통계적으로 유의하지 않은 경우는 plot에서도 확인할 수 있다."
   ]
  },
  {
   "cell_type": "markdown",
   "metadata": {},
   "source": [
    "##### 3.3.1.6 MANOVA for Treatment Difference"
   ]
  },
  {
   "cell_type": "markdown",
   "metadata": {},
   "source": [
    "* 목적: 모든 수준에서 기준(`DBP1`)과의 차이를 확인하기 위함 \n",
    "* 기준으로부터 차이를 의미하는 새로운 변수 `diff2to1`, `diff3to1`, `diff4to1`, `diff5to1`를 생성한다."
   ]
  },
  {
   "cell_type": "code",
   "execution_count": 33,
   "metadata": {},
   "outputs": [],
   "source": [
    "# attached the data into this R session\n",
    "attach(dat)\n",
    "# create the changes from baseline\n",
    "diff2to1 = DBP2-DBP1\n",
    "diff3to1 = DBP3-DBP1\n",
    "diff4to1 = DBP4-DBP1\n",
    "diff5to1 = DBP5-DBP1"
   ]
  },
  {
   "cell_type": "markdown",
   "metadata": {},
   "source": [
    "* 기준이 되는 `DBP1`과의 차이를 의미하는 변수간 상관계수를 확인하면, 전반적으로 양의 상관관계를 띈다."
   ]
  },
  {
   "cell_type": "code",
   "execution_count": 34,
   "metadata": {
    "scrolled": true
   },
   "outputs": [
    {
     "data": {
      "text/html": [
       "<table>\n",
       "<caption>A matrix: 4 × 4 of type dbl</caption>\n",
       "<thead>\n",
       "\t<tr><th></th><th scope=col>diff2to1</th><th scope=col>diff3to1</th><th scope=col>diff4to1</th><th scope=col>diff5to1</th></tr>\n",
       "</thead>\n",
       "<tbody>\n",
       "\t<tr><th scope=row>diff2to1</th><td>1.0000000</td><td>0.7356903</td><td>0.6225526</td><td>0.5787446</td></tr>\n",
       "\t<tr><th scope=row>diff3to1</th><td>0.7356903</td><td>1.0000000</td><td>0.5783117</td><td>0.5987645</td></tr>\n",
       "\t<tr><th scope=row>diff4to1</th><td>0.6225526</td><td>0.5783117</td><td>1.0000000</td><td>0.8350658</td></tr>\n",
       "\t<tr><th scope=row>diff5to1</th><td>0.5787446</td><td>0.5987645</td><td>0.8350658</td><td>1.0000000</td></tr>\n",
       "</tbody>\n",
       "</table>\n"
      ],
      "text/latex": [
       "A matrix: 4 × 4 of type dbl\n",
       "\\begin{tabular}{r|llll}\n",
       "  & diff2to1 & diff3to1 & diff4to1 & diff5to1\\\\\n",
       "\\hline\n",
       "\tdiff2to1 & 1.0000000 & 0.7356903 & 0.6225526 & 0.5787446\\\\\n",
       "\tdiff3to1 & 0.7356903 & 1.0000000 & 0.5783117 & 0.5987645\\\\\n",
       "\tdiff4to1 & 0.6225526 & 0.5783117 & 1.0000000 & 0.8350658\\\\\n",
       "\tdiff5to1 & 0.5787446 & 0.5987645 & 0.8350658 & 1.0000000\\\\\n",
       "\\end{tabular}\n"
      ],
      "text/markdown": [
       "\n",
       "A matrix: 4 × 4 of type dbl\n",
       "\n",
       "| <!--/--> | diff2to1 | diff3to1 | diff4to1 | diff5to1 |\n",
       "|---|---|---|---|---|\n",
       "| diff2to1 | 1.0000000 | 0.7356903 | 0.6225526 | 0.5787446 |\n",
       "| diff3to1 | 0.7356903 | 1.0000000 | 0.5783117 | 0.5987645 |\n",
       "| diff4to1 | 0.6225526 | 0.5783117 | 1.0000000 | 0.8350658 |\n",
       "| diff5to1 | 0.5787446 | 0.5987645 | 0.8350658 | 1.0000000 |\n",
       "\n"
      ],
      "text/plain": [
       "         diff2to1  diff3to1  diff4to1  diff5to1 \n",
       "diff2to1 1.0000000 0.7356903 0.6225526 0.5787446\n",
       "diff3to1 0.7356903 1.0000000 0.5783117 0.5987645\n",
       "diff4to1 0.6225526 0.5783117 1.0000000 0.8350658\n",
       "diff5to1 0.5787446 0.5987645 0.8350658 1.0000000"
      ]
     },
     "metadata": {},
     "output_type": "display_data"
    }
   ],
   "source": [
    "# calculate the correlations\n",
    "cor(cbind(diff2to1,diff3to1,diff4to1,diff5to1))"
   ]
  },
  {
   "cell_type": "markdown",
   "metadata": {},
   "source": [
    "* `affregate()`함수를 이용하여 각 처리(A/B)별 기간별혈압차(diffnto1)의 평균을 확인해보면 다음과 같다."
   ]
  },
  {
   "cell_type": "code",
   "execution_count": 37,
   "metadata": {},
   "outputs": [
    {
     "name": "stdout",
     "output_type": "stream",
     "text": [
      "  TRT diff2to1 diff3to1 diff4to1 diff5to1\n",
      "1   A    -3.05    -5.85    -10.3    -15.2\n",
      "2   B    -1.55    -2.70     -4.3     -4.8\n"
     ]
    }
   ],
   "source": [
    "# calculate the mean changes\n",
    "MCh =aggregate(cbind(diff2to1,diff3to1,diff4to1,diff5to1), list(TRT=TRT), mean)\n",
    "# print the chanhe\n",
    "print(MCh)"
   ]
  },
  {
   "cell_type": "markdown",
   "metadata": {},
   "source": [
    "* A,B 모두 시간이 경과함에 따라 최초 측정 혈압부터 차이가 커진다.\n",
    "* A집단보다 B집단의 혈압 감소 차가 작다."
   ]
  },
  {
   "cell_type": "markdown",
   "metadata": {},
   "source": [
    "*  MONOVA를 통해 기간별(최초 측정 혈압 기준),처리별 효과 평균차이를 알아보고자 `manova()`함수를 이용한다.\n",
    "* MONOVA에서 사용할 수 있는 검정통계량은 Pillai(필라이 대각합), Hotelling-Lawley(호텔링대각합), Wilks(윌키스람다), Roy(로이의 최대근) 이다."
   ]
  },
  {
   "cell_type": "code",
   "execution_count": 39,
   "metadata": {},
   "outputs": [],
   "source": [
    "# call \"manova\" to fit a manova\n",
    "maov1=manova(cbind(diff2to1,diff3to1,diff4to1,diff5to1)~TRT,dat)"
   ]
  },
  {
   "cell_type": "code",
   "execution_count": 40,
   "metadata": {},
   "outputs": [
    {
     "data": {
      "text/plain": [
       "          Df  Pillai approx F num Df den Df    Pr(>F)    \n",
       "TRT        1 0.82098   40.128      4     35 1.295e-12 ***\n",
       "Residuals 38                                             \n",
       "---\n",
       "Signif. codes:  0 '***' 0.001 '**' 0.01 '*' 0.05 '.' 0.1 ' ' 1"
      ]
     },
     "metadata": {},
     "output_type": "display_data"
    }
   ],
   "source": [
    "# then F-test with Pillai (default in R)\n",
    "summary(maov1)"
   ]
  },
  {
   "cell_type": "markdown",
   "metadata": {},
   "source": [
    "* 필라이 대각합으로 판단할 때, $F$=40.128 (df=4, 35), $p$-value는 1.295e-12으로 $H_0$ 기각 $\\rightarrow$ 처리별/기간별 차이가 있다."
   ]
  },
  {
   "cell_type": "code",
   "execution_count": 41,
   "metadata": {},
   "outputs": [
    {
     "data": {
      "text/plain": [
       "          Df Hotelling-Lawley approx F num Df den Df    Pr(>F)    \n",
       "TRT        1            4.586   40.128      4     35 1.295e-12 ***\n",
       "Residuals 38                                                      \n",
       "---\n",
       "Signif. codes:  0 '***' 0.001 '**' 0.01 '*' 0.05 '.' 0.1 ' ' 1"
      ]
     },
     "metadata": {},
     "output_type": "display_data"
    }
   ],
   "source": [
    "# F-test with Hotelling-Lawley\n",
    "summary(maov1, test=\"Hotelling-Lawley\")"
   ]
  },
  {
   "cell_type": "markdown",
   "metadata": {},
   "source": [
    "* 호텔링 대각합으로 판단할 때, $F$=40.128 (df=4, 35), $p$-value는 1.295e-12으로 $H_0$ 기각 $\\rightarrow$ 처리별/기간별 차이가 있다."
   ]
  },
  {
   "cell_type": "code",
   "execution_count": 43,
   "metadata": {},
   "outputs": [
    {
     "data": {
      "text/plain": [
       "          Df   Wilks approx F num Df den Df    Pr(>F)    \n",
       "TRT        1 0.17902   40.128      4     35 1.295e-12 ***\n",
       "Residuals 38                                             \n",
       "---\n",
       "Signif. codes:  0 '***' 0.001 '**' 0.01 '*' 0.05 '.' 0.1 ' ' 1"
      ]
     },
     "metadata": {},
     "output_type": "display_data"
    }
   ],
   "source": [
    "# F-test with Wilks\n",
    "summary(maov1, test=\"Wilks\")"
   ]
  },
  {
   "cell_type": "markdown",
   "metadata": {},
   "source": [
    "* 윌키스람다로 판단할 때, $F$=40.128 (df=4, 35), $p$-value는 1.295e-12으로 $H_0$ 기각 $\\rightarrow$ 처리별/기간별 차이가 있다."
   ]
  },
  {
   "cell_type": "code",
   "execution_count": 44,
   "metadata": {},
   "outputs": [
    {
     "data": {
      "text/plain": [
       "          Df   Roy approx F num Df den Df    Pr(>F)    \n",
       "TRT        1 4.586   40.128      4     35 1.295e-12 ***\n",
       "Residuals 38                                           \n",
       "---\n",
       "Signif. codes:  0 '***' 0.001 '**' 0.01 '*' 0.05 '.' 0.1 ' ' 1"
      ]
     },
     "metadata": {},
     "output_type": "display_data"
    }
   ],
   "source": [
    "# F-test with Roy\n",
    "summary(maov1, test=\"Roy\")"
   ]
  },
  {
   "cell_type": "markdown",
   "metadata": {},
   "source": [
    "* 로이의 최대근으로 판단할 때, $F$=40.128 (df=4, 35), $p$-value는 1.295e-12으로 $H_0$ 기각 $\\rightarrow$ 처리별/기간별 차이가 있다."
   ]
  },
  {
   "cell_type": "markdown",
   "metadata": {},
   "source": [
    "#### 3.3.2 Analysis of Duodenal Ulcer Healing Trial"
   ]
  },
  {
   "cell_type": "markdown",
   "metadata": {},
   "source": [
    "**목적**: 시메티딘의 최적의 투여량과 투여횟수를 검정하기 위함(투여 1일 1회 800mg 투여)"
   ]
  },
  {
   "cell_type": "markdown",
   "metadata": {},
   "source": [
    "**데이터 생성**\n",
    "  * 4개 그룹\n",
    "    1. 0 mg Cimetidine(C) 그룹: 4개의 400mg 플라시보(Placebo)\n",
    "    2. 400 mg Cimetidine(C) 그룹: 1개의 400mg 시메티딘약+3개의 400mg 플라시보(Placebo)\n",
    "    3. 800 mg Cimetidine(C) 그룹: 3개의 400mg 시메티딘약+1개의 400mg 플라시보(Placebo)\n",
    "    4. 1600 mg Cimetidine(C) 그룹: 4개의 400mg 시메티딘약\n",
    "  * 1주차, 2주차, 4주차에 완치 유무를 기록"
   ]
  },
  {
   "cell_type": "markdown",
   "metadata": {},
   "source": [
    "<img src=\"table32.png\">"
   ]
  },
  {
   "cell_type": "code",
   "execution_count": 50,
   "metadata": {},
   "outputs": [],
   "source": [
    "n  = c(168,  182,  165,  188)   # 환자수\n",
    "p4 = c(0.41, 0.62, 0.73, 0.77)  # 4주차 누적 치료율\n",
    "x4 = c(69,   113,  120,  145)   # 4주차 누적 치료 환자수"
   ]
  },
  {
   "cell_type": "markdown",
   "metadata": {},
   "source": [
    "##### 3.3.2.1 Using Pearson's $\\chi^2$-test"
   ]
  },
  {
   "cell_type": "markdown",
   "metadata": {},
   "source": [
    "* 4개 그룹에 대해 4주차 누적 치료율이 동일한지 검증하기 위해 `prop.test()`함수를 이용한다."
   ]
  },
  {
   "cell_type": "code",
   "execution_count": 49,
   "metadata": {},
   "outputs": [
    {
     "data": {
      "text/plain": [
       "\n",
       "\t4-sample test for equality of proportions without continuity\n",
       "\tcorrection\n",
       "\n",
       "data:  x4 out of n\n",
       "X-squared = 57.799, df = 3, p-value = 1.735e-12\n",
       "alternative hypothesis: two.sided\n",
       "sample estimates:\n",
       "   prop 1    prop 2    prop 3    prop 4 \n",
       "0.4107143 0.6208791 0.7272727 0.7712766 \n"
      ]
     },
     "metadata": {},
     "output_type": "display_data"
    }
   ],
   "source": [
    "prop.test(x4, n)"
   ]
  },
  {
   "cell_type": "markdown",
   "metadata": {},
   "source": [
    "  * $\\chi^2$ 검정통계량: 57.799 (df=3)\n",
    "  * $p$-value: 1.735e-12\n",
    "  * 유의수준 0.05하에서 $p$-value가 1.735e-12으로 귀무가설을 기각한다. 즉, 시메티딘의 투여량에 따라 4주차 시메티딘 치료율은 다르다고 할 수 있다.\n",
    "  * 각 투여량별 평균 치료율은 플라시보(0.411),400mg(0.621), 800mg(0.727), 1600mg(0.771)이다. "
   ]
  },
  {
   "cell_type": "markdown",
   "metadata": {},
   "source": [
    "* 플라시보 그룹과 800mg 시메티딘 투여 그룹의 평균 치료율 차이를 검증하기 위해 마찬가지로 `prop.test()` 함수를 이용한다."
   ]
  },
  {
   "cell_type": "code",
   "execution_count": 51,
   "metadata": {},
   "outputs": [
    {
     "data": {
      "text/plain": [
       "\n",
       "\t2-sample test for equality of proportions with continuity correction\n",
       "\n",
       "data:  x4[c(1, 3)] out of n[c(1, 3)]\n",
       "X-squared = 32.71, df = 1, p-value = 1.07e-08\n",
       "alternative hypothesis: two.sided\n",
       "95 percent confidence interval:\n",
       " -0.4233221 -0.2097948\n",
       "sample estimates:\n",
       "   prop 1    prop 2 \n",
       "0.4107143 0.7272727 \n"
      ]
     },
     "metadata": {},
     "output_type": "display_data"
    }
   ],
   "source": [
    "prop.test(x4[c(1,3)], n[c(1,3)])"
   ]
  },
  {
   "cell_type": "markdown",
   "metadata": {},
   "source": [
    "  * $\\chi^2$ 검정통계량: 32.71 (df=1)\n",
    "  * $p$-value: 1.07e-08\n",
    "  * 유의수준 0.05하에서 $p$-value가 1.07e-08으로 귀무가설을 기각한다. 즉, 시메티딘을 800mg 투여한 그룹과 플라시보 그룹의 4주차 시메티딘 치료율은 다르다고 할 수 있다.\n",
    "  * 평균 치료율은 플라시보(0.411), 800mg(0.727)로 시메티딘을 800mg 투여한 그룹의 치료율이 더 높다."
   ]
  },
  {
   "cell_type": "markdown",
   "metadata": {},
   "source": [
    "* 400mg 시메티딘 투여 그룹과 800mg 시메티딘 투여 그룹의 평균 치료율 차이를 검증하기 위해 마찬가지로 `prop.test()` 함수를 이용한다."
   ]
  },
  {
   "cell_type": "code",
   "execution_count": 52,
   "metadata": {
    "scrolled": true
   },
   "outputs": [
    {
     "data": {
      "text/plain": [
       "\n",
       "\t2-sample test for equality of proportions with continuity correction\n",
       "\n",
       "data:  x4[c(2, 3)] out of n[c(2, 3)]\n",
       "X-squared = 3.9715, df = 1, p-value = 0.04628\n",
       "alternative hypothesis: two.sided\n",
       "95 percent confidence interval:\n",
       " -0.210080057 -0.002707156\n",
       "sample estimates:\n",
       "   prop 1    prop 2 \n",
       "0.6208791 0.7272727 \n"
      ]
     },
     "metadata": {},
     "output_type": "display_data"
    }
   ],
   "source": [
    "prop.test(x4[c(2,3)], n[c(2,3)])"
   ]
  },
  {
   "cell_type": "markdown",
   "metadata": {},
   "source": [
    "  * $\\chi^2$ 검정통계량: 3.9715 (df=1)\n",
    "  * $p$-value: 0.04628\n",
    "  * 유의수준 0.05하에서 $p$-value가 0.04628으로 귀무가설을 기각한다. 즉, 시메티딘을 800mg 투여한 그룹과 시메티딘을 400mg 투여한 그룹의 4주차 시메티딘 치료율은 다르다고 할 수 있다.\n",
    "  * 평균 치료율은 400mg(0.621), 800mg(0.727)로 시메티딘을 800mg 투여한 그룹의 치료율이 더 높다."
   ]
  },
  {
   "cell_type": "markdown",
   "metadata": {},
   "source": [
    "* 800mg 시메티딘 투여 그룹과 1600mg 시메티딘 투여 그룹의 평균 치료율 차이를 검증하기 위해 마찬가지로 `prop.test()` 함수를 이용한다."
   ]
  },
  {
   "cell_type": "code",
   "execution_count": 53,
   "metadata": {
    "scrolled": true
   },
   "outputs": [
    {
     "data": {
      "text/plain": [
       "\n",
       "\t2-sample test for equality of proportions with continuity correction\n",
       "\n",
       "data:  x4[c(3, 4)] out of n[c(3, 4)]\n",
       "X-squared = 0.68929, df = 1, p-value = 0.4064\n",
       "alternative hypothesis: two.sided\n",
       "95 percent confidence interval:\n",
       " -0.14037146  0.05236373\n",
       "sample estimates:\n",
       "   prop 1    prop 2 \n",
       "0.7272727 0.7712766 \n"
      ]
     },
     "metadata": {},
     "output_type": "display_data"
    }
   ],
   "source": [
    "prop.test(x4[c(3,4)], n[c(3,4)])"
   ]
  },
  {
   "cell_type": "markdown",
   "metadata": {},
   "source": [
    "  * $\\chi^2$ 검정통계량: 0.68929 (df=1)\n",
    "  * $p$-value: 0.4064\n",
    "  * 유의수준 0.05하에서 $p$-value가 0.4064으로 귀무가설을 기각할 수 없다. 즉, 시메티딘을 1600mg 투여한 그룹과 시메티딘을 800mg 투여한 그룹의 4주차 시메티딘 치료율은 다르다고 할 수 없다.\n",
    "  * 평균 치료율은 800mg(0.727), 1600mg(0.771)로 시메티딘을 1600mg 투여한 그룹의 치료율이 더 높지만 그 차이에 대한 통계적인 증거를 제시할 수 없다."
   ]
  },
  {
   "cell_type": "markdown",
   "metadata": {},
   "source": [
    "##### 3.3.2.2 Using Contingency Table"
   ]
  },
  {
   "cell_type": "markdown",
   "metadata": {},
   "source": [
    "**분할표 생성**"
   ]
  },
  {
   "cell_type": "code",
   "execution_count": 55,
   "metadata": {
    "scrolled": true
   },
   "outputs": [
    {
     "data": {
      "text/html": [
       "<table>\n",
       "<caption>A data.frame: 8 × 3</caption>\n",
       "<thead>\n",
       "\t<tr><th scope=col>trt</th><th scope=col>Heal</th><th scope=col>y</th></tr>\n",
       "\t<tr><th scope=col>&lt;fct&gt;</th><th scope=col>&lt;chr&gt;</th><th scope=col>&lt;dbl&gt;</th></tr>\n",
       "</thead>\n",
       "<tbody>\n",
       "\t<tr><td>0 mg C   </td><td>Yes</td><td> 69</td></tr>\n",
       "\t<tr><td>0 mg C   </td><td>No </td><td> 99</td></tr>\n",
       "\t<tr><td>400 mg C </td><td>Yes</td><td>113</td></tr>\n",
       "\t<tr><td>400 mg C </td><td>No </td><td> 69</td></tr>\n",
       "\t<tr><td>800 mg C </td><td>Yes</td><td>120</td></tr>\n",
       "\t<tr><td>800 mg C </td><td>No </td><td> 45</td></tr>\n",
       "\t<tr><td>1600 mg C</td><td>Yes</td><td>145</td></tr>\n",
       "\t<tr><td>1600 mg C</td><td>No </td><td> 43</td></tr>\n",
       "</tbody>\n",
       "</table>\n"
      ],
      "text/latex": [
       "A data.frame: 8 × 3\n",
       "\\begin{tabular}{lll}\n",
       " trt & Heal & y\\\\\n",
       " <fct> & <chr> & <dbl>\\\\\n",
       "\\hline\n",
       "\t 0 mg C    & Yes &  69\\\\\n",
       "\t 0 mg C    & No  &  99\\\\\n",
       "\t 400 mg C  & Yes & 113\\\\\n",
       "\t 400 mg C  & No  &  69\\\\\n",
       "\t 800 mg C  & Yes & 120\\\\\n",
       "\t 800 mg C  & No  &  45\\\\\n",
       "\t 1600 mg C & Yes & 145\\\\\n",
       "\t 1600 mg C & No  &  43\\\\\n",
       "\\end{tabular}\n"
      ],
      "text/markdown": [
       "\n",
       "A data.frame: 8 × 3\n",
       "\n",
       "| trt &lt;fct&gt; | Heal &lt;chr&gt; | y &lt;dbl&gt; |\n",
       "|---|---|---|\n",
       "| 0 mg C    | Yes |  69 |\n",
       "| 0 mg C    | No  |  99 |\n",
       "| 400 mg C  | Yes | 113 |\n",
       "| 400 mg C  | No  |  69 |\n",
       "| 800 mg C  | Yes | 120 |\n",
       "| 800 mg C  | No  |  45 |\n",
       "| 1600 mg C | Yes | 145 |\n",
       "| 1600 mg C | No  |  43 |\n",
       "\n"
      ],
      "text/plain": [
       "  trt       Heal y  \n",
       "1 0 mg C    Yes   69\n",
       "2 0 mg C    No    99\n",
       "3 400 mg C  Yes  113\n",
       "4 400 mg C  No    69\n",
       "5 800 mg C  Yes  120\n",
       "6 800 mg C  No    45\n",
       "7 1600 mg C Yes  145\n",
       "8 1600 mg C No    43"
      ]
     },
     "metadata": {},
     "output_type": "display_data"
    }
   ],
   "source": [
    "# create a dataframe for the Ulcer trial\n",
    "Ulcer = data.frame(\n",
    "            # use ``factor\" to create the treatment factor\n",
    "            trt   = factor(rep(c(\"0 mg C\",\"400 mg C\",\"800 mg C\",\"1600 mg C\"), each=2),\n",
    "                           levels=c(\"0 mg C\",\"400 mg C\",\"800 mg C\",\"1600 mg C\") ), \n",
    "            Heal  = c(\"Yes\",\"No\",\"Yes\",\"No\",\"Yes\",\"No\",\"Yes\",\"No\"), \n",
    "            y     = c(x4[1],n[1]-x4[1],x4[2],n[2]-x4[2],x4[3],n[3]-x4[3],x4[4],n[4]-x4[4]))\n",
    "Ulcer"
   ]
  },
  {
   "cell_type": "markdown",
   "metadata": {},
   "source": [
    "* `xtabs()`함수를 이용하여 분할표 형태로 변환해준다."
   ]
  },
  {
   "cell_type": "code",
   "execution_count": 56,
   "metadata": {},
   "outputs": [
    {
     "data": {
      "text/plain": [
       "           Heal\n",
       "trt          No Yes\n",
       "  0 mg C     99  69\n",
       "  400 mg C   69 113\n",
       "  800 mg C   45 120\n",
       "  1600 mg C  43 145"
      ]
     },
     "metadata": {},
     "output_type": "display_data"
    }
   ],
   "source": [
    "tab.Ulcer = xtabs(y~trt+Heal,Ulcer)\n",
    "tab.Ulcer"
   ]
  },
  {
   "cell_type": "markdown",
   "metadata": {},
   "source": [
    "* 위의 분할표를 `dotchart()`함수와 `mosaicplot()`함수를 이용하여 dot chart와 모자이크 plot으로 그릴 수 있다."
   ]
  },
  {
   "cell_type": "code",
   "execution_count": 59,
   "metadata": {},
   "outputs": [
    {
     "data": {
      "image/png": "[encoded data removed]",
      "text/plain": [
       "Plot with title \" \""
      ]
     },
     "metadata": {
      "image/png": {
       "height": 420,
       "width": 420
      }
     },
     "output_type": "display_data"
    }
   ],
   "source": [
    "# layout for the plot\n",
    "par(mfrow=c(1,2), mar=c(4,2,1,1))\n",
    "# call ``dotchart\"\n",
    "dotchart(tab.Ulcer)\n",
    "# call ``mosaicplot\"\n",
    "mosaicplot(tab.Ulcer,color=T,las=1, main=\" \", xlab=\"Treatment\",ylab=\"Heal Status\" )"
   ]
  },
  {
   "cell_type": "markdown",
   "metadata": {},
   "source": [
    "* `margin.table()`함수를 이용하면 분할표 내 행별로 합계(=그룹별 전체 환자수)를 구할 수 있다."
   ]
  },
  {
   "cell_type": "code",
   "execution_count": 58,
   "metadata": {},
   "outputs": [
    {
     "data": {
      "text/plain": [
       "trt\n",
       "   0 mg C  400 mg C  800 mg C 1600 mg C \n",
       "      168       182       165       188 "
      ]
     },
     "metadata": {},
     "output_type": "display_data"
    }
   ],
   "source": [
    "margin.table(tab.Ulcer,1)"
   ]
  },
  {
   "cell_type": "markdown",
   "metadata": {},
   "source": [
    "* `summary()`함수를 이용하여 Pearson's $\\chi^2$-test 결과를 확인할 수 있다."
   ]
  },
  {
   "cell_type": "code",
   "execution_count": 60,
   "metadata": {},
   "outputs": [
    {
     "data": {
      "text/plain": [
       "Call: xtabs(formula = y ~ trt + Heal, data = Ulcer)\n",
       "Number of cases in table: 703 \n",
       "Number of factors: 2 \n",
       "Test for independence of all factors:\n",
       "\tChisq = 57.8, df = 3, p-value = 1.735e-12"
      ]
     },
     "metadata": {},
     "output_type": "display_data"
    }
   ],
   "source": [
    "summary(tab.Ulcer)"
   ]
  },
  {
   "cell_type": "markdown",
   "metadata": {},
   "source": [
    "* $\\chi^2$ 검정통계량: 57.8 (df=3)\n",
    "* $p$-value: 1.735e-12\n",
    "* 유의수준 0.05하에서 $p$-value가 1.735e-12으로 귀무가설을 기각한다. 즉, 전체 4개 그룹의 4주차 누적 치료율은 같다고 할 수 없다. "
   ]
  },
  {
   "cell_type": "markdown",
   "metadata": {},
   "source": [
    "### 3.4 Summary and Conclusions"
   ]
  },
  {
   "cell_type": "markdown",
   "metadata": {},
   "source": [
    "* endpoint 유형에 따라 분석 방법이 다르다.\n",
    "    * 수치형 \n",
    "       * t-test: 2개의 처리 그룹의 평균 비교\n",
    "       * ANOVA, MANOVA: 3개 이상의 처리 그룹 비교, 교호작용효과 확인 가능\n",
    "    * 범주형: \n",
    "       * Pearson's $\\chi^2$ 검정"
   ]
  },
  {
   "cell_type": "markdown",
   "metadata": {},
   "source": [
    "### 3.5 Appendix: SAS Programs\n",
    "교재 참고"
   ]
  }
 ],
 "metadata": {
  "kernelspec": {
   "display_name": "R",
   "language": "R",
   "name": "ir"
  },
  "language_info": {
   "codemirror_mode": "r",
   "file_extension": ".r",
   "mimetype": "text/x-r-source",
   "name": "R",
   "pygments_lexer": "r",
   "version": "3.6.1"
  }
 },
 "nbformat": 4,
 "nbformat_minor": 5
}
