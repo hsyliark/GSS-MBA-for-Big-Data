{
 "cells": [
  {
   "cell_type": "markdown",
   "metadata": {
    "id": "YW99I1P33ed0"
   },
   "source": [
    "The researchers have conducted a clinical trial to investigate the effects of two oral treatments for *toenail dermatophyte onychomycosis*, a common infection of the toenail. Here is some background.\n",
    "\n",
    "Onychomycosis, known popularly as toenail fungus, is a fairly common condition that not only can disfigure and sometimes destroy the nail but that also can lead to social and self-image issues for sufferers. It has been estimated that between 2% and 18% of of people world-wide and up to 5% of people in the United States are afflicted by some form of onychomycosis. The likelihood of affliction is rare among children under 18 but increases with age, and it is estimated that up to\n",
    "48% of people have had at least one episode by the age of 70. The big toe and little toe are the most likely to be afflicted. Tight-fitting shoes or hosiery, the sharing of common facilities such as showers and locker rooms, and toenail polish are all thought to be implicated in the development of onychomycosis.\n",
    "\n",
    "Onychomycosis is distinguished by discoloration of the toenail, which itself becomes thick, overgrown, and crusted with debris. This condition is often accompanied by a foul-smelling odor\n",
    "caused by accumulation of debris under the nails. In various versions of the disease, the nail may crumble and gradually fall off, become so thick that wearing shoes causes extreme discomfort, or develop a soft, powdery surface.\n",
    "\n",
    "Onychomycosis can be caused by several types of fungi known as dermatophytes, as well as by nondermatophytic yeasts or molds. The study conducted by the researchers involved sufferers of\n",
    "the particular type caused by dermatophytes.\n",
    "\n",
    "The standard approach to treatment of toenail dermatophyte onychomycosis involves removal of as much of the afflicted part of the nail as possible, followed by application of a topical antifungal ointment or by a course of treatment with an oral antifungal medication, for which better outcomes are generally obtained than with ointments. The study conducted by the researchers was focused on comparison of two oral medications, terbinane (given as 250 mg/day, denoted as treatment 1\n",
    "below) and itraconazole (given as 200 mg/day, denoted as treatment 2 below).\n",
    "\n",
    "The trial was conducted as follows. 200 sufferers of advanced toenail dermatophyte onychomycosis in the big toe were recruited, and each saw a physician, who removed the afflicted nail as described above. Each subject was then randomly assigned to treatment with either terbinane\n",
    "(treatment 1) or itraconazole (treatment 2). Immediately prior to beginning treatment, the length of the unafflicted part of the toenail (which was hence not removed) was recorded (in millimeters). Then at 1 month, 2 months, 3 months, 6 months, and 12 months, each subject returned, and the length of the unafflicted part of the nail was measured again. Intuitively, as the nail grows out (hopefully without signs of onychomycosis, due to the eects of treatment), this length is likely to\n",
    "increase if the treatments are working, with the better treatment resulting in longer unafflicted nail\n",
    "lengths on average.\n",
    "\n",
    "Also recorded on each subject was gender and an indictor of the frequency with which the subject visited a gym or health club (and hence might use shared locker rooms and/or showers).\n",
    "\n",
    "The data are available in the file `toenail.txt`. The data are presented in the form of one data record per observation; the columns of the data set are as follows:\n",
    "\n",
    "1. Subject id\n",
    "2. Health club frequency indicator (= 0 if once a week or less, = 1 if more than once a week)\n",
    "3. Gender indicator (= 0 if female, = 1 if male)\n",
    "4. Month\n",
    "5. Unafflicted nail length (the response, mm)\n",
    "6. Treatment indicator (= 1 if terbinane, = 2 if itraconazole)\n",
    "\n",
    "The researchers had several questions, which they stated to you as follows:\n",
    "\n",
    "- Is there evidence to suggest that these two oral medications differ in their effects on toenail\n",
    "dermatophyte onychomycosis, as reflected by the lengths of the unafflicted part of the nail?\n",
    "- Is there a difference in the pattern of change of lengths of the unafflicted part of the nail between subjects receiving terbinane and itraconazole over a 12 month period? Does one\n",
    "treatment show results more quickly?\n",
    "\n",
    "- What is the difference in lengths of the unafflicted part of the nail at the end of the study? Is there evidence to suggest that one of the treatments produces longer lengths on average\n",
    "than the other after 12 months?\n",
    "- Recent literature reports have suggested that males tend to have more serious cases of onychomycosis than females. This would be reflected by an association between lengths of the\n",
    "unafficted part of the nail and gender in this population at the beginning of the study (before\n",
    "treatment), with lengths being shorter on average for males than for females (meaning that\n",
    "the disease a icts more of the nail in males). Is there evidence to suggest that this is the\n",
    "case?\n",
    "- As noted above, the time spent in shared locker rooms and showers is thought to be associated with developing onychomycosis. A recent report has further hypothesized that the severity of the disease is also associated with this practice. Is there evidence in these data that subjects in this population who spend more than one day per week at a gym or health club have\n",
    "nail lengths different from those who spend less time at the beginning of the study (before\n",
    "treatment)? (One might expect that shorter lengths would be seen in those who spend more\n",
    "time if this were true.)\n",
    "- Is there an association between the pattern of change of nail lengths and gender and/or health club frequency in subjects taking terbinane? This might indicate that this drug brings about\n",
    "relief more swiftly in some kinds of subject versus others.\n",
    "- Is there an association between the pattern of change of nail lengths and gender and/or health club frequency in subjects taking itraconazole? This might indicate that this drug\n",
    "brings about relief more swiftly in some kinds of subject versus others.\n",
    "\n",
    "\n",
    "\n",
    "\n"
   ]
  }
 ],
 "metadata": {
  "colab": {
   "name": "dataanalysis.ipynb",
   "provenance": []
  },
  "kernelspec": {
   "display_name": "Python 3",
   "language": "python",
   "name": "python3"
  },
  "language_info": {
   "codemirror_mode": {
    "name": "ipython",
    "version": 3
   },
   "file_extension": ".py",
   "mimetype": "text/x-python",
   "name": "python",
   "nbconvert_exporter": "python",
   "pygments_lexer": "ipython3",
   "version": "3.7.3"
  }
 },
 "nbformat": 4,
 "nbformat_minor": 1
}
