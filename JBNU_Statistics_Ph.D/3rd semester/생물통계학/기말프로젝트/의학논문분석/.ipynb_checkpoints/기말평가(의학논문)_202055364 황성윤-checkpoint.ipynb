{
 "cells": [
  {
   "cell_type": "markdown",
   "metadata": {},
   "source": [
    "# 기말평가(의학논문)\n",
    "## 202055364 황성윤"
   ]
  },
  {
   "cell_type": "markdown",
   "metadata": {},
   "source": [
    "### 분석논문\n",
    "- 제목 : Trends in End-of-Life Resource Utilization and Costs among Prostate Cancer Patients from 2006 to 2015: A Nationwide Population-Based Study \n",
    "- 논문 DOI : Published online Nov 16, 2020.  https://doi.org/10.5534/wjmh.200113"
   ]
  },
  {
   "cell_type": "markdown",
   "metadata": {},
   "source": [
    "### A. Title and Abstract\n",
    "- 본 논문에서는 전립선암 환자에 대해 지출되는 사회적 비용이 어떠한 요인에 영향을 받는지를 알아보고자 실시한 연구에 대한 내용을 담고 있다. 제목을 통해서 구체적인 조사기간(2006년부터 2015년까지)을 명시하였으며 이 기간에 해당하는 전립선암 환자를 지속적으로 관찰하여 정리한 데이터를 사용하고 있다는 점에서 코호트 연구(cohort study)라는 사실을 명확하게 확인할 수 있다.\n",
    "- 또한 초록을 통해서도 어떠한 기준을 통하여 연구의 대상이 되는 환자를 선별하였는지, 어떠한 통계적인 방법을 사용하여 분석하였는지, 최종적인 결과는 어떠한지 등을 간략하게 정리하였음을 확인하였다. "
   ]
  },
  {
   "cell_type": "markdown",
   "metadata": {},
   "source": [
    "### B. Introduction\n",
    "- 본 논문에서는 introduction part를 통하여 이전에 실시된 연구를 통하여 암이라는 질병이 사회적으로 지출되는 비용을 증가시켰으며, 특히 대한민국에서는 암으로 인한 사망률이 $27.9%$로서 매우 높은 수준이라는 사실을 적절히 기술함으로써 실시한 연구의 당위성을 입증하고 있다.\n",
    "- 또한 본 논문의 핵심주제인 전립선암이 5번째로 대한민국의 남성 암 환자에게서 많이 발생하고 있고, 미국에서도 전립선암으로 인하여 많은 사회적 비용을 감당하고 있음에도 불구하고 이러한 전립선암에 대한 사회적 비용에 대한 연구가 거의 없다는 사실을 통하여 본 연구를 실시하는 것이 큰 의미가 있음을 밝히고 있다.  "
   ]
  },
  {
   "cell_type": "markdown",
   "metadata": {},
   "source": [
    "### C. Methods\n",
    "#### 1. Study design\n",
    "-\n",
    "#### 2. Participants\n",
    "- \n",
    "#### 3. Variables\n",
    "-\n",
    "#### 4. Bias\n",
    "-\n",
    "#### 5. Sample size\n",
    "-\n",
    "#### 6. Statistical methods\n",
    "- \n"
   ]
  },
  {
   "cell_type": "markdown",
   "metadata": {},
   "source": [
    "### D. Results\n",
    "#### 1. Participant numbers and dates\n",
    "-\n",
    "#### 2. Descriptive data\n",
    "-\n",
    "#### 3. Main results\n",
    "-\n",
    "#### 4. Other analyses\n",
    "- "
   ]
  },
  {
   "cell_type": "code",
   "execution_count": null,
   "metadata": {},
   "outputs": [],
   "source": []
  },
  {
   "cell_type": "code",
   "execution_count": null,
   "metadata": {},
   "outputs": [],
   "source": []
  },
  {
   "cell_type": "markdown",
   "metadata": {},
   "source": []
  }
 ],
 "metadata": {
  "kernelspec": {
   "display_name": "R",
   "language": "R",
   "name": "ir"
  },
  "language_info": {
   "codemirror_mode": "r",
   "file_extension": ".r",
   "mimetype": "text/x-r-source",
   "name": "R",
   "pygments_lexer": "r",
   "version": "3.6.1"
  }
 },
 "nbformat": 4,
 "nbformat_minor": 2
}
