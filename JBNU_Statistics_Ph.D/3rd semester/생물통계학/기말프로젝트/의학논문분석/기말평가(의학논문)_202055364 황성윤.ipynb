{
 "cells": [
  {
   "cell_type": "markdown",
   "metadata": {},
   "source": [
    "# 기말평가(의학논문)\n",
    "## 202055364 황성윤"
   ]
  },
  {
   "cell_type": "markdown",
   "metadata": {},
   "source": [
    "### 분석논문\n",
    "- 제목 : Trends in End-of-Life Resource Utilization and Costs among Prostate Cancer Patients from 2006 to 2015: A Nationwide Population-Based Study \n",
    "- 논문 DOI : Published online Nov 16, 2020.  https://doi.org/10.5534/wjmh.200113"
   ]
  },
  {
   "cell_type": "markdown",
   "metadata": {},
   "source": [
    "### A. Title and Abstract\n",
    "- 본 논문에서는 전립선암 환자에 대해 지출되는 사회적 비용이 어떠한 요인에 영향을 받는지를 알아보고자 실시한 연구에 대한 내용을 담고 있다. 제목을 통해서 구체적인 조사기간(2006년부터 2015년까지)을 명시하였으며 이 기간에 해당하는 전립선암 환자를 지속적으로 관찰하여 정리한 데이터를 사용하고 있다는 점에서 코호트 연구(cohort study)라는 사실을 명확하게 확인할 수 있다.\n",
    "- 또한 초록을 통해서도 어떠한 기준을 통하여 연구의 대상이 되는 환자를 선별하였는지, 어떠한 통계적인 방법을 사용하여 분석하였는지, 최종적인 결과는 어떠한지 등을 간략하게 정리하였음을 확인하였다. "
   ]
  },
  {
   "cell_type": "markdown",
   "metadata": {},
   "source": [
    "### B. Introduction\n",
    "- 본 논문에서는 introduction part를 통하여 이전에 실시된 연구를 통하여 암이라는 질병이 사회적으로 지출되는 비용을 증가시켰으며, 특히 대한민국에서는 암으로 인한 사망률이 $27.9%$로서 매우 높은 수준이라는 사실을 적절히 기술함으로써 실시한 연구의 당위성을 입증하고 있다.\n",
    "- 또한 본 논문의 핵심주제인 전립선암이 5번째로 대한민국의 남성 암 환자에게서 많이 발생하고 있고, 미국에서도 전립선암으로 인하여 많은 사회적 비용을 감당하고 있음에도 불구하고 이러한 전립선암에 대한 사회적 비용에 대한 연구가 거의 없다는 사실을 통하여 본 연구를 실시하는 것이 큰 의미가 있음을 밝히고 있다.  "
   ]
  },
  {
   "cell_type": "markdown",
   "metadata": {},
   "source": [
    "### C. Methods\n",
    "\n",
    "#### 1. Study design, Participants and Sample size\n",
    "- 본 논문에서는 연구를 진행하기 위하여 'National Health Information Database (NHIS-2017-4-031)'에 있는 데이터를 조사하였으며 기본적으로는 2002년부터 2015년까지 조사된 데이터를 수집하였다. 그런 다음 2002년 이후로 전립선암에 대한 치료를 한번도 받지 않은 경우, 치료를 받은 최초시점이 불명확한 경우, 일부의 androgen deprivation therapy (ADT) 치료만 받은 경우, 한번도 병원을 방문하지 않은 경우, 거주지가 불명확한 경우는 충분한 정보가 없다고 판단하여 제외하였다. 이러한 과정을 통하여 2006년부터 2015년까지 조사된 총 18,419명의 환자에 대한 데이터를 수집하였음을 명확히 밝히고 있다.\n",
    "\n",
    "#### 2. Variables\n",
    "- 전립선암으로 인하여 지출되는 사회적 비용에 대한 조사를 실시하기 위해 본 논문에서는 다음과 같은 변수들을 고려하였다.\n",
    "\n",
    "> Year of Death : 2006, $\\dots$, 2015 \\\n",
    "Time before Death (month) : 1, $\\dots$, 12 \\\n",
    "Age (year) : <65, 65-74, 75-84, >=85 \\\n",
    "Residential area : Metropolitan, Urban, Rural, Unknown \\\n",
    "Insurance premium, quantile : Below poverty line (lowest), I, II, III, IV, V(highest) \\\n",
    "Charlson comorbidity index : 0, 1-2, 3-4, >=5 \\\n",
    "Primary treatment at prostate cancer diagnosis : Surgery only, Surgery+ADT, Surgery+RT, Surgery+ADT+RT, RT only, ADT only, ADT+RT \\\n",
    "Survival time (year) : <2, 2-5, 5-10, >=10 \\\n",
    "Hospice facility use : yes, no \\\n",
    "Emergency department use : yes, no \\\n",
    "Cancer care-related visit : yes, no\n",
    "\n",
    "- 여기에서 ADT는 androgen deprivation therapy, RT는 radiotherapy를 의미하고, Charlson comorbidity index는 질병에 걸린 이후 환자에게 동반되어 나타나는 질환에 대한 상대적인 위험도를 나타내는 지표이다. 이러한 변수들을 연구에 사용하였다는 것을 명확하게 밝히고 있으며 각 변수에 대한 설명도 간략하게 제시하고 있는 것을 확인할 수 있었다. \n",
    "\n",
    "#### 3. Statistical methods\n",
    "- 본 논문에서는 어떠한 요인이 전립선암으로 인하여 지출되는 사회적 비용에 영향을 미치는지 조사하기 위하여 Descriptive analysis와 Multiple regression analysis를 실시하였음을 명시하고 있다. \n"
   ]
  },
  {
   "cell_type": "markdown",
   "metadata": {},
   "source": [
    "### D. Results\n",
    "\n",
    "#### 1. Participant numbers and dates, Descriptive data\n",
    "- `C`의 `1`에서 설명한 내용과 동일하다. 즉 연구를 위한 정보가 부족한 경우를 모두 제외하는 과정을 통하여 총 18,419명의 전립선암 환자에 대한 데이터를 수집하였고 이 데이터의 조사기간은 2006년부터 2015년까지이다. \n",
    "\n",
    "#### 2. Main results\n",
    "- 본 연구에서는 어떠한 요인이 전립선암으로 인하여 지출되는 사회적 비용에 영향을 미치는지 조사하기 위하여 Descriptive analysis를 통해 `2`에서 설명한 각 변수들의 범주에 해당하는 환자가 몇 명인지, 그리고 사회적 비용의 평균과 표준편차는 어떤지를 분석하여 제시하였다. 이를 통해 전체적으로 전립선암 발병 후 시간이 지날수록, 연령이 높을수록, 도시와 가까운 곳에 거주하는 환자일수록, 동반 질환에 대한 위험도가 높을수록, 다양한 치료를 받은 환자일수록, 의료시설을 자주 이용하는 환자일수록 지출하는 비용이 높아진다는 사실을 확인할 수 있었다.\n",
    "- 그리고 Multiple regression analysis에서는 다음과 같은 설명변수들을 고려하였으며, 분석결과 모든 변수가 지출되는 비용에 유의미한 영향을 준다는 사실을 입증하고 있다.\n",
    "\n",
    "> Year of Death : 2006, $\\dots$, 2015 \\\n",
    "Age (year) : <65, 65-74, 75-84, >=85 \\\n",
    "Residential area : Metropolitan, Urban, Rural \\\n",
    "Insurance premium, quantile : Below poverty line (lowest), I, II, III, IV, V(highest) \\\n",
    "Charlson comorbidity index : 0, 1-2, 3-4, >=5 \\\n",
    "Survival time (year) : <2, 2-5, 5-10, >=10 \\\n",
    "Emergency department use : yes, no \\\n",
    "Healthcare utilization : Inpatient days, Outpatient days, CT use, PET/CT use, MRI use \n",
    "\n",
    "- 하지만 Adjusted linear regression analysis를 적용한 경우에는 Survival time과 Year of Death가 지출되는 비용에 대한 영향력이 없다는 결과를 제시하기 때문에 전립선암 환자에 대한 더 자세한 조사가 필요함을 언급하고 있다.   \n",
    "\n",
    "#### 3. Other analyses\n",
    "- 이외의 다른 분석결과로써 설명변수 Age, Insurance premium, Survival time에 대한 범주에 따라 전립선암 환자들이 어떤 치료를 받았는지에 대한 비율조사표를 제시하고 있다. 이를 통해 환자의 연령대, 수입의 정도, 생존시간에 따라 받게 되는 치료법의 비율이 약간씩 차이가 있음을 밝히고 있다.  "
   ]
  },
  {
   "cell_type": "markdown",
   "metadata": {},
   "source": [
    "### E. Discussion\n",
    "\n",
    "#### 1. Summary of key results\n",
    "- 본 논문에서는 데이터에 대한 통계적인 분석결과를 제시한 이후 다시한번 전체적으로 정리를 하여 본 연구를 통해 어떠한 사실을 파악할 수 있었는지 자세하게 제시하고 있다. 그리고 기존에 수행되었던 연구의 결과와 본 연구를 통해서 얻은 결과를 비교함으로써 앞으로 전립선암 환자에 의하여 발생하는 사회적 비용에 대한 지출을 줄이기 위해 어떠한 노력을 해야하는지 설명하고 있으며 이와 관련한 최신의 연구의 동향은 어떠한지도 파악하고 있다.\n",
    "\n",
    "#### 2. Limitations\n",
    "- 본 논문에서는 수행한 연구의 한계점으로써 임상 및 병리학적 단계에 대한 정보가 부족하여 이러한 사항을 고려하지 못했다는 사실을 명시하고 있다. 이를 통해 향후 진행할 연구에 대해서는 이러한 점들도 모두 반영할 수 있는 충분한 데이터를 확보해야 함을 주장하고 있다."
   ]
  },
  {
   "cell_type": "markdown",
   "metadata": {},
   "source": [
    "### F. Other information\n",
    "\n",
    "#### 1. Funding\n",
    "- 본 논문에서는 말미에 본 연구에 대한 지원을 Basic Science Research Program through the National Research Foundation of Korea (NRF) funded by the Ministry of Education 과 Osong Medical Innovation foundation 을 통해 받았음을 명시하고 있다.\n",
    " \n",
    "#### 2. Conflict of interest\n",
    "- 하지만 연구를 진행함에 있어서 발생한 이해상충관계에 대해서는 언급하지 않고 있다. "
   ]
  },
  {
   "cell_type": "markdown",
   "metadata": {},
   "source": []
  }
 ],
 "metadata": {
  "kernelspec": {
   "display_name": "R",
   "language": "R",
   "name": "ir"
  },
  "language_info": {
   "codemirror_mode": "r",
   "file_extension": ".r",
   "mimetype": "text/x-r-source",
   "name": "R",
   "pygments_lexer": "r",
   "version": "3.6.1"
  }
 },
 "nbformat": 4,
 "nbformat_minor": 2
}
