{
 "cells": [
  {
   "cell_type": "markdown",
   "metadata": {},
   "source": [
    "# 기말평가(자료분석)\n",
    "## 202055364 황성윤"
   ]
  },
  {
   "cell_type": "markdown",
   "metadata": {},
   "source": [
    "### 1. 본 연구의 목적\n",
    "\n",
    " 본 연구는 발톱의 흔한 감염인 *발톱 피부사상균 손발톱진균증*에 대한 서로 다른 두 가지 경구 치료방법의 효과를 알아보기 위해 실시되었다. 이 질병은 손톱을 손상시키는 특성이 있어서 환자의 건강에도 영향을 미치지만 환자 본인의 이미지에도 큰 타격을 줄 수 있다. 이전에 진행되었던 조사에 따르면 전 세계 인구의 2~18%, 그리고 미국 인구의 최대 5% 정도의 사람이 손발톱진균증에 시달리는 것으로 추정된다.\n",
    " \n",
    " 손발톱진균증에 걸리게 되면 보통 손발톱이 두꺼워지게 되고 딱딱해지며 변색이 되는데 그 이유는 피부사상균으로 알려진 여러 유형의 진균과 비피부사상균 효모 또는 곰팡이 때문이다. 이 질병은 헬스장에 자주 다니는 경우에도 타인에게 영향을 받아 나타날 가능성이 있다. 이 질병에 대한 치료는 보통 가능한 한 많은 발톱의 감염된 부분을 제거한 후 국소 항진균성 연고를 바르거나 경구 항진균제를 사용하는 것인데 일반적으로 후자가 전자보다 더 나은 효과가 있다고 알려져있다. 이에 따라 본 연구에서는 두 가지 경구 약물인 terbinane(250mg/day로 제공, 치료 1로 표시됨)와 itraconazole(200mg/일로 제공, 아래 치료 2로 표시됨)의 효과를 비교하는 것에 주된 목적을 두었다.\n",
    " \n",
    " 연구의 진행을 위하여 엄지발가락에 진행성 발톱 피부사상균 손발톱진균증이 있는 200명의 환자를 선별한 뒤 이들을 무작위로 terbinane(치료 1) 또는 itraconazole(치료 2)에 배정하였다. 치료를 시작하기 직전에 발톱의 손상되지 않은 부분(제거되지 않은 부분)의 길이를 기록하고(mm) 1개월, 2개월, 3개월, 6개월, 12개월 후에 발톱의 손상되지 않은 부분의 길이를 다시 측정했다. 경구치료제의 효과가 좋은 경우에는 손상되지 않은 발톱의 길이가 길어지기 때문에 이 발톱의 길이를 치료효과 판정 시 사용할 수 있겠다.\n"
   ]
  },
  {
   "cell_type": "markdown",
   "metadata": {},
   "source": [
    "### 2. 사용 데이터 및 분석\n",
    "\n",
    " 본 연구에 의하여 수집된 데이터의 최초 12번째까지의 관측치는 다음과 같으며 포함된 변수는 다음과 같다.\n",
    " \n",
    "1. ID : Subject id \n",
    "2. health : Health club frequency indicator (= 0 if once a week or less, = 1 if more than once a week)\n",
    "3. gender : Gender indicator (= 0 if female, = 1 if male)\n",
    "4. month : Month\n",
    "5. nail : Unafflicted nail length (the response, mm)\n",
    "6. treat : Treatment indicator (= 1 if terbinane, = 2 if itraconazole)\n",
    "\n",
    "그리고 수집된 데이터의 최초 6번째까지의 관측치를 살펴보면 다음과 같다."
   ]
  },
  {
   "cell_type": "code",
   "execution_count": 2,
   "metadata": {},
   "outputs": [
    {
     "data": {
      "text/html": [
       "<table>\n",
       "<thead><tr><th scope=col>ID</th><th scope=col>health</th><th scope=col>gender</th><th scope=col>month</th><th scope=col>nail</th><th scope=col>treat</th></tr></thead>\n",
       "<tbody>\n",
       "\t<tr><td>1  </td><td>0  </td><td>1  </td><td>0  </td><td>7.3</td><td>1  </td></tr>\n",
       "\t<tr><td>1  </td><td>0  </td><td>1  </td><td>1  </td><td>6.2</td><td>1  </td></tr>\n",
       "\t<tr><td>1  </td><td>0  </td><td>1  </td><td>2  </td><td>8.0</td><td>1  </td></tr>\n",
       "\t<tr><td>1  </td><td>0  </td><td>1  </td><td>3  </td><td>7.9</td><td>1  </td></tr>\n",
       "\t<tr><td>1  </td><td>0  </td><td>1  </td><td>6  </td><td>7.6</td><td>1  </td></tr>\n",
       "\t<tr><td>1  </td><td>0  </td><td>1  </td><td>12 </td><td>8.1</td><td>1  </td></tr>\n",
       "</tbody>\n",
       "</table>\n"
      ],
      "text/latex": [
       "\\begin{tabular}{r|llllll}\n",
       " ID & health & gender & month & nail & treat\\\\\n",
       "\\hline\n",
       "\t 1   & 0   & 1   & 0   & 7.3 & 1  \\\\\n",
       "\t 1   & 0   & 1   & 1   & 6.2 & 1  \\\\\n",
       "\t 1   & 0   & 1   & 2   & 8.0 & 1  \\\\\n",
       "\t 1   & 0   & 1   & 3   & 7.9 & 1  \\\\\n",
       "\t 1   & 0   & 1   & 6   & 7.6 & 1  \\\\\n",
       "\t 1   & 0   & 1   & 12  & 8.1 & 1  \\\\\n",
       "\\end{tabular}\n"
      ],
      "text/markdown": [
       "\n",
       "| ID | health | gender | month | nail | treat |\n",
       "|---|---|---|---|---|---|\n",
       "| 1   | 0   | 1   | 0   | 7.3 | 1   |\n",
       "| 1   | 0   | 1   | 1   | 6.2 | 1   |\n",
       "| 1   | 0   | 1   | 2   | 8.0 | 1   |\n",
       "| 1   | 0   | 1   | 3   | 7.9 | 1   |\n",
       "| 1   | 0   | 1   | 6   | 7.6 | 1   |\n",
       "| 1   | 0   | 1   | 12  | 8.1 | 1   |\n",
       "\n"
      ],
      "text/plain": [
       "  ID health gender month nail treat\n",
       "1 1  0      1      0     7.3  1    \n",
       "2 1  0      1      1     6.2  1    \n",
       "3 1  0      1      2     8.0  1    \n",
       "4 1  0      1      3     7.9  1    \n",
       "5 1  0      1      6     7.6  1    \n",
       "6 1  0      1      12    8.1  1    "
      ]
     },
     "metadata": {},
     "output_type": "display_data"
    }
   ],
   "source": [
    "toenail <- read.csv(\"toenail.csv\", header=TRUE, sep=\",\")\n",
    "toenail$ID <- as.factor(toenail$ID)\n",
    "toenail$health <- as.factor(toenail$health)\n",
    "toenail$gender <- as.factor(toenail$gender)\n",
    "toenail$month <- as.factor(toenail$month)\n",
    "toenail$treat <- as.factor(toenail$treat)\n",
    "head(toenail)"
   ]
  },
  {
   "cell_type": "markdown",
   "metadata": {},
   "source": [
    "우선 두가지 경구치료제인 terbinane과 itraconazole 사이에 치료효과의 차이가 있는지 알아봤다. 이를 위해 경구치료제에 따른 손상되지 않은 발톱의 길이에 대한 boxplot을 다음과 같이 그려봤다. 각 치료경구제에 대하여 전체적인 효과의 분포를 살펴보는 것이 목적이므로 일단 몇개월이 지났는지에 대한 여부는 무시하였다.  "
   ]
  },
  {
   "cell_type": "code",
   "execution_count": 4,
   "metadata": {},
   "outputs": [
    {
     "data": {
      "image/png": "[encoded data removed]",
      "text/plain": [
       "plot without title"
      ]
     },
     "metadata": {},
     "output_type": "display_data"
    }
   ],
   "source": [
    "library(ggplot2)\n",
    "ggplot(toenail, aes(x=treat, y=nail, color=treat)) + geom_boxplot()"
   ]
  },
  {
   "cell_type": "markdown",
   "metadata": {},
   "source": [
    "위의 boxplot을 통해 단순하게 판단해본다면 경구치료제에 따른 효과가 그렇게 유의하지는 않은 것으로 보이고 itraconazole을 투여했을 때 치료효과가 약간 더 좋아지는 것으로 판단된다. 이에 따라 통계적인 검정을 실시해보도록 하자. 먼저 각 경구치료제에 따른 환자의 발톱의 길이에 대해 정규성 검정인 Shapiro-Wilk normality test를 실시해본 결과 각각의 유의확률의 값이 모두 유의수준 $\\alpha=0.05$보다 굉장히 작음을 확인할 수 있다. 이에 따라 발톱길이의 분포가 정규성을 따르지 않는다고 판단할 수 있고 이에 따라 비모수적 방법인 Wilcoxon test를 실시하였다. 참고로 두 집단에 대한 QQ-plot은 아래 그림을 확인하기 바란다.   "
   ]
  },
  {
   "cell_type": "code",
   "execution_count": 5,
   "metadata": {},
   "outputs": [
    {
     "data": {
      "text/plain": [
       "\n",
       "\tShapiro-Wilk normality test\n",
       "\n",
       "data:  toenail$nail[toenail$treat == \"1\"]\n",
       "W = 0.97463, p-value = 1.105e-08\n"
      ]
     },
     "metadata": {},
     "output_type": "display_data"
    },
    {
     "data": {
      "text/plain": [
       "\n",
       "\tShapiro-Wilk normality test\n",
       "\n",
       "data:  toenail$nail[toenail$treat == \"2\"]\n",
       "W = 0.91859, p-value < 2.2e-16\n"
      ]
     },
     "metadata": {},
     "output_type": "display_data"
    },
    {
     "data": {
      "image/png": "[encoded data removed]",
      "text/plain": [
       "Plot with title \"Normal Q-Q Plot\""
      ]
     },
     "metadata": {},
     "output_type": "display_data"
    }
   ],
   "source": [
    "shapiro.test(toenail$nail[toenail$treat=='1']) ; shapiro.test(toenail$nail[toenail$treat=='2'])\n",
    "par(mfrow=c(1,2))\n",
    "qqnorm(toenail$nail[toenail$treat=='1']) ; qqline(toenail$nail[toenail$treat=='1'])\n",
    "qqnorm(toenail$nail[toenail$treat=='2']) ; qqline(toenail$nail[toenail$treat=='2'])\n",
    "par(mfrow=c(1,1))"
   ]
  },
  {
   "cell_type": "markdown",
   "metadata": {},
   "source": [
    "두 집단에 대해 Wilcoxon test를 실시한 결과 유의확률은 $p-value=0.0001801$로써 유의확률 $\\alpha=0.05$보다 매우 작은 값이다. 이에 따라 경구치료제에 따른 치료효과의 차이는 통계적으로 유의미하다고 볼 수 있다. boxplot을 통해서 주관적으로 판단한 결과와는 상반된 결과이다. 결국 주관적인 판단보다는 통계적인 검정을 통해서 판단하는 것이 분석에 대한 오류를 막아줄 수 있다는 사실에 대한 적절한 사례라고 필자는 생각한다. "
   ]
  },
  {
   "cell_type": "code",
   "execution_count": 6,
   "metadata": {},
   "outputs": [
    {
     "data": {
      "text/plain": [
       "\n",
       "\tWilcoxon rank sum test with continuity correction\n",
       "\n",
       "data:  nail by treat\n",
       "W = 157520, p-value = 0.0001801\n",
       "alternative hypothesis: true location shift is not equal to 0\n"
      ]
     },
     "metadata": {},
     "output_type": "display_data"
    }
   ],
   "source": [
    "wilcox.test(nail~treat,data=toenail)"
   ]
  },
  {
   "cell_type": "markdown",
   "metadata": {},
   "source": [
    "이와 비슷한 방법을 적용한다면 헬스장을 자주 사용하는지의 여부나 성별에 따라 손발톱진균증이 환자에게 미치는 영향이 유의미하게 다른지에 대해서도 판단해볼 수 있다. 헬스장을 자주 사용하는지의 여부와 성별에 따라 각각 발톱의 길이에 대한 boxplot과 QQ-plot을 그려보면 아래와 같다.   "
   ]
  },
  {
   "cell_type": "code",
   "execution_count": 59,
   "metadata": {},
   "outputs": [
    {
     "name": "stderr",
     "output_type": "stream",
     "text": [
      "Warning message:\n",
      "\"package 'gridExtra' was built under R version 3.6.3\""
     ]
    },
    {
     "data": {
      "image/png": "[encoded data removed]",
      "text/plain": [
       "plot without title"
      ]
     },
     "metadata": {},
     "output_type": "display_data"
    }
   ],
   "source": [
    "library(gridExtra)\n",
    "p1 <- ggplot(toenail, aes(x=health, y=nail, color=health)) + geom_boxplot()\n",
    "p2 <- ggplot(toenail, aes(x=gender, y=nail, color=gender)) + geom_boxplot()\n",
    "grid.arrange(p1,p2, nrow=1, ncol=2)"
   ]
  },
  {
   "cell_type": "code",
   "execution_count": 60,
   "metadata": {},
   "outputs": [
    {
     "data": {
      "text/plain": [
       "\n",
       "\tShapiro-Wilk normality test\n",
       "\n",
       "data:  toenail$nail[toenail$health == \"0\"]\n",
       "W = 0.95515, p-value = 1.033e-09\n"
      ]
     },
     "metadata": {},
     "output_type": "display_data"
    },
    {
     "data": {
      "text/plain": [
       "\n",
       "\tShapiro-Wilk normality test\n",
       "\n",
       "data:  toenail$nail[toenail$health == \"1\"]\n",
       "W = 0.92838, p-value < 2.2e-16\n"
      ]
     },
     "metadata": {},
     "output_type": "display_data"
    },
    {
     "data": {
      "image/png": "[encoded data removed]",
      "text/plain": [
       "Plot with title \"Normal Q-Q Plot\""
      ]
     },
     "metadata": {},
     "output_type": "display_data"
    }
   ],
   "source": [
    "shapiro.test(toenail$nail[toenail$health=='0'])\n",
    "shapiro.test(toenail$nail[toenail$health=='1'])\n",
    "par(mfrow=c(1,2))\n",
    "qqnorm(toenail$nail[toenail$health=='0']) ; qqline(toenail$nail[toenail$health=='0'])\n",
    "qqnorm(toenail$nail[toenail$health=='1']) ; qqline(toenail$nail[toenail$health=='1'])\n",
    "par(mfrow=c(1,1))"
   ]
  },
  {
   "cell_type": "code",
   "execution_count": 61,
   "metadata": {},
   "outputs": [
    {
     "data": {
      "text/plain": [
       "\n",
       "\tShapiro-Wilk normality test\n",
       "\n",
       "data:  toenail$nail[toenail$gender == \"0\"]\n",
       "W = 0.93398, p-value = 1.548e-15\n"
      ]
     },
     "metadata": {},
     "output_type": "display_data"
    },
    {
     "data": {
      "text/plain": [
       "\n",
       "\tShapiro-Wilk normality test\n",
       "\n",
       "data:  toenail$nail[toenail$gender == \"1\"]\n",
       "W = 0.95471, p-value = 1.078e-12\n"
      ]
     },
     "metadata": {},
     "output_type": "display_data"
    },
    {
     "data": {
      "image/png": "[encoded data removed]",
      "text/plain": [
       "Plot with title \"Normal Q-Q Plot\""
      ]
     },
     "metadata": {},
     "output_type": "display_data"
    }
   ],
   "source": [
    "shapiro.test(toenail$nail[toenail$gender=='0'])\n",
    "shapiro.test(toenail$nail[toenail$gender=='1'])\n",
    "par(mfrow=c(1,2))\n",
    "qqnorm(toenail$nail[toenail$gender=='0']) ; qqline(toenail$nail[toenail$gender=='0'])\n",
    "qqnorm(toenail$nail[toenail$gender=='1']) ; qqline(toenail$nail[toenail$gender=='1'])\n",
    "par(mfrow=c(1,1))"
   ]
  },
  {
   "cell_type": "markdown",
   "metadata": {},
   "source": [
    "위에 있는 boxplot을 통해 헬스장에 자주 다니는 경우 질병에 걸릴 가능성이 높아짐을 알 수 있다. 하지만 성별에 따라서는 그다지 분포의 차이가 유의미하게 드러나지는 않는 것 같다. 그리고 QQ-plot을 통해 이 두가지 변수에 대해서는 모두 비모수적 검정인 Wilcoxon test를 실시해야 함을 알 수 있으며 Shapiro-Wilk normality test에 대한 유의확률 $p-value$도 모든 경우에 대해 굉장히 작은 값으로 산출되었다. 이를 바탕으로 각 변수에 대해 Wilcoxon test를 실시하여 다음과 같은 유의확률을 산출할 수 있었다.\n",
    "\n",
    "> health : $<2.2 \\times 10^{-16}$  \n",
    "> gender : $0.6935$\n",
    "\n",
    "결과적으로 헬스장을 자주 사용하는지의 여부에 대해서는 질병의 영향력이 유의미한 차이가 있지만, 성별에 대해서는 그렇지 않음을 확인할 수 있었다."
   ]
  },
  {
   "cell_type": "code",
   "execution_count": 62,
   "metadata": {},
   "outputs": [
    {
     "data": {
      "text/plain": [
       "\n",
       "\tWilcoxon rank sum test with continuity correction\n",
       "\n",
       "data:  nail by health\n",
       "W = 210881, p-value < 2.2e-16\n",
       "alternative hypothesis: true location shift is not equal to 0\n"
      ]
     },
     "metadata": {},
     "output_type": "display_data"
    }
   ],
   "source": [
    "wilcox.test(nail~health,data=toenail)"
   ]
  },
  {
   "cell_type": "code",
   "execution_count": 63,
   "metadata": {},
   "outputs": [
    {
     "data": {
      "text/plain": [
       "\n",
       "\tWilcoxon rank sum test with continuity correction\n",
       "\n",
       "data:  nail by gender\n",
       "W = 177617, p-value = 0.6935\n",
       "alternative hypothesis: true location shift is not equal to 0\n"
      ]
     },
     "metadata": {},
     "output_type": "display_data"
    }
   ],
   "source": [
    "wilcox.test(nail~gender,data=toenail)"
   ]
  },
  {
   "cell_type": "markdown",
   "metadata": {},
   "source": [
    "그렇다면 여기에서 드는 의문점이 하나 있다. 과연 시간이 지남에 따라 각 경구치료제의 효과는 차이가 있을까? 즉, 1,2,3,6,12개월 이후에 측정된 환자의 발톱의 길이가 전체적으로 치료제에 따라 통계적인 차이가 있는지 알고싶다. 이를 위해 각 환자에 대하여 최초 측정한 발톱의 길이를 기준으로 하여 1,2,3,6,12개월 이후 손상되지 않은 발톱의 길이가 어떻게 변했는지를 계산하였으며 이를 이용하여 다변량 공분산분석인 MANCOVA를 실시한 결과 각 통계량에 대한 유의확률 $p-value$는 다음과 같이 계산되었다.\n",
    "\n",
    "> Pillai's trace : $0.04339$\\\n",
    "> Hotelling-Lawley's trace : $0.04339$\\\n",
    "> Wilk's Lambda : $0.04339$\\\n",
    "> Roy's greatest root : $0.04339$\n",
    "\n",
    "결국 4가지 통계량 모두 유의확률의 값이 유의수준 $\\alpha=0.05$보다 작으므로 전체적인 기간동안의 치료효과는 경구치료제에 따라 유의미한 차이가 있다고 해석할 수 있겠다. "
   ]
  },
  {
   "cell_type": "code",
   "execution_count": 49,
   "metadata": {},
   "outputs": [
    {
     "name": "stderr",
     "output_type": "stream",
     "text": [
      "The following objects are masked _by_ .GlobalEnv:\n",
      "\n",
      "    nail0, nail1, nail12, nail2, nail3, nail6\n",
      "\n",
      "The following objects are masked from toenail_ver1 (pos = 3):\n",
      "\n",
      "    gender, health, ID, nail0, nail1, nail12, nail2, nail3, nail6,\n",
      "    treat\n",
      "\n",
      "The following objects are masked from toenail_ver1 (pos = 4):\n",
      "\n",
      "    gender, health, ID, nail0, nail1, nail12, nail2, nail3, nail6,\n",
      "    treat\n",
      "\n",
      "The following objects are masked from toenail_ver1 (pos = 5):\n",
      "\n",
      "    gender, health, ID, nail0, nail1, nail12, nail2, nail3, nail6,\n",
      "    treat\n",
      "\n",
      "The following objects are masked from toenail_ver1 (pos = 6):\n",
      "\n",
      "    gender, health, ID, nail0, nail1, nail12, nail2, nail3, nail6,\n",
      "    treat\n",
      "\n"
     ]
    },
    {
     "data": {
      "text/html": [
       "<table>\n",
       "<thead><tr><th></th><th scope=col>ID</th><th scope=col>health</th><th scope=col>gender</th><th scope=col>treat</th><th scope=col>nail0</th><th scope=col>nail1</th><th scope=col>nail2</th><th scope=col>nail3</th><th scope=col>nail6</th><th scope=col>nail12</th><th scope=col>diff1</th><th scope=col>diff2</th><th scope=col>diff3</th><th scope=col>diff6</th><th scope=col>diff12</th></tr></thead>\n",
       "<tbody>\n",
       "\t<tr><th scope=row>1</th><td>1   </td><td>0   </td><td>1   </td><td>1   </td><td>7.3 </td><td>6.2 </td><td>8.0 </td><td>7.9 </td><td>7.6 </td><td> 8.1</td><td>-1.1</td><td>0.7 </td><td> 0.6</td><td>0.3 </td><td>0.8 </td></tr>\n",
       "\t<tr><th scope=row>7</th><td>2   </td><td>0   </td><td>0   </td><td>1   </td><td>5.3 </td><td>7.5 </td><td>6.9 </td><td>7.3 </td><td>7.2 </td><td> 9.3</td><td> 2.2</td><td>1.6 </td><td> 2.0</td><td>1.9 </td><td>4.0 </td></tr>\n",
       "\t<tr><th scope=row>13</th><td>3   </td><td>0   </td><td>1   </td><td>1   </td><td>5.8 </td><td>6.0 </td><td>6.5 </td><td>7.0 </td><td>9.1 </td><td> 7.9</td><td> 0.2</td><td>0.7 </td><td> 1.2</td><td>3.3 </td><td>2.1 </td></tr>\n",
       "\t<tr><th scope=row>19</th><td>4   </td><td>1   </td><td>0   </td><td>1   </td><td>3.3 </td><td>4.9 </td><td>4.2 </td><td>6.4 </td><td>5.7 </td><td>10.0</td><td> 1.6</td><td>0.9 </td><td> 3.1</td><td>2.4 </td><td>6.7 </td></tr>\n",
       "\t<tr><th scope=row>25</th><td>5   </td><td>1   </td><td>0   </td><td>1   </td><td>4.2 </td><td>5.0 </td><td>6.8 </td><td>4.0 </td><td>6.5 </td><td> 7.7</td><td> 0.8</td><td>2.6 </td><td>-0.2</td><td>2.3 </td><td>3.5 </td></tr>\n",
       "\t<tr><th scope=row>31</th><td>6   </td><td>1   </td><td>1   </td><td>1   </td><td>6.6 </td><td>7.8 </td><td>8.3 </td><td>9.9 </td><td>7.4 </td><td>13.6</td><td> 1.2</td><td>1.7 </td><td> 3.3</td><td>0.8 </td><td>7.0 </td></tr>\n",
       "</tbody>\n",
       "</table>\n"
      ],
      "text/latex": [
       "\\begin{tabular}{r|lllllllllllllll}\n",
       "  & ID & health & gender & treat & nail0 & nail1 & nail2 & nail3 & nail6 & nail12 & diff1 & diff2 & diff3 & diff6 & diff12\\\\\n",
       "\\hline\n",
       "\t1 & 1    & 0    & 1    & 1    & 7.3  & 6.2  & 8.0  & 7.9  & 7.6  &  8.1 & -1.1 & 0.7  &  0.6 & 0.3  & 0.8 \\\\\n",
       "\t7 & 2    & 0    & 0    & 1    & 5.3  & 7.5  & 6.9  & 7.3  & 7.2  &  9.3 &  2.2 & 1.6  &  2.0 & 1.9  & 4.0 \\\\\n",
       "\t13 & 3    & 0    & 1    & 1    & 5.8  & 6.0  & 6.5  & 7.0  & 9.1  &  7.9 &  0.2 & 0.7  &  1.2 & 3.3  & 2.1 \\\\\n",
       "\t19 & 4    & 1    & 0    & 1    & 3.3  & 4.9  & 4.2  & 6.4  & 5.7  & 10.0 &  1.6 & 0.9  &  3.1 & 2.4  & 6.7 \\\\\n",
       "\t25 & 5    & 1    & 0    & 1    & 4.2  & 5.0  & 6.8  & 4.0  & 6.5  &  7.7 &  0.8 & 2.6  & -0.2 & 2.3  & 3.5 \\\\\n",
       "\t31 & 6    & 1    & 1    & 1    & 6.6  & 7.8  & 8.3  & 9.9  & 7.4  & 13.6 &  1.2 & 1.7  &  3.3 & 0.8  & 7.0 \\\\\n",
       "\\end{tabular}\n"
      ],
      "text/markdown": [
       "\n",
       "| <!--/--> | ID | health | gender | treat | nail0 | nail1 | nail2 | nail3 | nail6 | nail12 | diff1 | diff2 | diff3 | diff6 | diff12 |\n",
       "|---|---|---|---|---|---|---|---|---|---|---|---|---|---|---|---|\n",
       "| 1 | 1    | 0    | 1    | 1    | 7.3  | 6.2  | 8.0  | 7.9  | 7.6  |  8.1 | -1.1 | 0.7  |  0.6 | 0.3  | 0.8  |\n",
       "| 7 | 2    | 0    | 0    | 1    | 5.3  | 7.5  | 6.9  | 7.3  | 7.2  |  9.3 |  2.2 | 1.6  |  2.0 | 1.9  | 4.0  |\n",
       "| 13 | 3    | 0    | 1    | 1    | 5.8  | 6.0  | 6.5  | 7.0  | 9.1  |  7.9 |  0.2 | 0.7  |  1.2 | 3.3  | 2.1  |\n",
       "| 19 | 4    | 1    | 0    | 1    | 3.3  | 4.9  | 4.2  | 6.4  | 5.7  | 10.0 |  1.6 | 0.9  |  3.1 | 2.4  | 6.7  |\n",
       "| 25 | 5    | 1    | 0    | 1    | 4.2  | 5.0  | 6.8  | 4.0  | 6.5  |  7.7 |  0.8 | 2.6  | -0.2 | 2.3  | 3.5  |\n",
       "| 31 | 6    | 1    | 1    | 1    | 6.6  | 7.8  | 8.3  | 9.9  | 7.4  | 13.6 |  1.2 | 1.7  |  3.3 | 0.8  | 7.0  |\n",
       "\n"
      ],
      "text/plain": [
       "   ID health gender treat nail0 nail1 nail2 nail3 nail6 nail12 diff1 diff2\n",
       "1  1  0      1      1     7.3   6.2   8.0   7.9   7.6    8.1   -1.1  0.7  \n",
       "7  2  0      0      1     5.3   7.5   6.9   7.3   7.2    9.3    2.2  1.6  \n",
       "13 3  0      1      1     5.8   6.0   6.5   7.0   9.1    7.9    0.2  0.7  \n",
       "19 4  1      0      1     3.3   4.9   4.2   6.4   5.7   10.0    1.6  0.9  \n",
       "25 5  1      0      1     4.2   5.0   6.8   4.0   6.5    7.7    0.8  2.6  \n",
       "31 6  1      1      1     6.6   7.8   8.3   9.9   7.4   13.6    1.2  1.7  \n",
       "   diff3 diff6 diff12\n",
       "1   0.6  0.3   0.8   \n",
       "7   2.0  1.9   4.0   \n",
       "13  1.2  3.3   2.1   \n",
       "19  3.1  2.4   6.7   \n",
       "25 -0.2  2.3   3.5   \n",
       "31  3.3  0.8   7.0   "
      ]
     },
     "metadata": {},
     "output_type": "display_data"
    }
   ],
   "source": [
    "nail0 <- toenail[toenail$month=='0',]$nail\n",
    "nail1 <- toenail[toenail$month=='1',]$nail\n",
    "nail2 <- toenail[toenail$month=='2',]$nail\n",
    "nail3 <- toenail[toenail$month=='3',]$nail\n",
    "nail6 <- toenail[toenail$month=='6',]$nail\n",
    "nail12 <- toenail[toenail$month=='12',]$nail\n",
    "toenail_ver1 <- toenail[toenail$month=='0',c(1,2,3,6)]\n",
    "toenail_ver1$nail0 <- nail0 ; toenail_ver1$nail1 <- nail1 ; toenail_ver1$nail2 <- nail2 ; toenail_ver1$nail3 <- nail3 \n",
    "toenail_ver1$nail6 <- nail6 ; toenail_ver1$nail12 <- nail12 \n",
    "attach(toenail_ver1)\n",
    "toenail_ver1$diff1 <- nail1-nail0\n",
    "toenail_ver1$diff2 <- nail2-nail0\n",
    "toenail_ver1$diff3 <- nail3-nail0\n",
    "toenail_ver1$diff6 <- nail6-nail0\n",
    "toenail_ver1$diff12 <- nail12-nail0\n",
    "head(toenail_ver1)"
   ]
  },
  {
   "cell_type": "code",
   "execution_count": 74,
   "metadata": {},
   "outputs": [
    {
     "data": {
      "text/plain": [
       "           Df   Pillai approx F num Df den Df  Pr(>F)  \n",
       "treat       1 0.056821   2.3375      5    194 0.04339 *\n",
       "Residuals 198                                          \n",
       "---\n",
       "Signif. codes:  0 '***' 0.001 '**' 0.01 '*' 0.05 '.' 0.1 ' ' 1"
      ]
     },
     "metadata": {},
     "output_type": "display_data"
    },
    {
     "data": {
      "text/plain": [
       "           Df Hotelling-Lawley approx F num Df den Df  Pr(>F)  \n",
       "treat       1         0.060244   2.3375      5    194 0.04339 *\n",
       "Residuals 198                                                  \n",
       "---\n",
       "Signif. codes:  0 '***' 0.001 '**' 0.01 '*' 0.05 '.' 0.1 ' ' 1"
      ]
     },
     "metadata": {},
     "output_type": "display_data"
    },
    {
     "data": {
      "text/plain": [
       "           Df   Wilks approx F num Df den Df  Pr(>F)  \n",
       "treat       1 0.94318   2.3375      5    194 0.04339 *\n",
       "Residuals 198                                         \n",
       "---\n",
       "Signif. codes:  0 '***' 0.001 '**' 0.01 '*' 0.05 '.' 0.1 ' ' 1"
      ]
     },
     "metadata": {},
     "output_type": "display_data"
    },
    {
     "data": {
      "text/plain": [
       "           Df      Roy approx F num Df den Df  Pr(>F)  \n",
       "treat       1 0.060244   2.3375      5    194 0.04339 *\n",
       "Residuals 198                                          \n",
       "---\n",
       "Signif. codes:  0 '***' 0.001 '**' 0.01 '*' 0.05 '.' 0.1 ' ' 1"
      ]
     },
     "metadata": {},
     "output_type": "display_data"
    }
   ],
   "source": [
    "macov1 <- manova(cbind(diff1,diff2,diff3,diff6,diff12)~treat,data=toenail_ver1)\n",
    "summary(macov1, test=\"Pillai\")\n",
    "summary(macov1, test=\"Hotelling-Lawley\")\n",
    "summary(macov1, test=\"Wilks\")\n",
    "summary(macov1, test=\"Roy\")"
   ]
  },
  {
   "cell_type": "markdown",
   "metadata": {},
   "source": [
    "이외에도 어떤 경구치료제(terbinane or itraconazole)를 사용했는지에 따라 헬스장을 자주 사용하는지의 여부와 성별이 질병 발생에 유의미한 영향을 미치는지를 알아보기 위해 위와 비슷한 방법을 통하여 각 경구치료제에 따라 데이터를 나누고 설명변수를 health와 gender로 두고 MANCOVA 를 실시하면 다음과 같다.  "
   ]
  },
  {
   "cell_type": "code",
   "execution_count": 67,
   "metadata": {},
   "outputs": [],
   "source": [
    "toenail_terb <- toenail_ver1[toenail_ver1$treat=='1',]\n",
    "toenail_itra <- toenail_ver1[toenail_ver1$treat=='2',]"
   ]
  },
  {
   "cell_type": "code",
   "execution_count": 76,
   "metadata": {},
   "outputs": [
    {
     "data": {
      "text/plain": [
       "          Df   Pillai approx F num Df den Df Pr(>F)\n",
       "health     1 0.036911  0.71285      5     93 0.6153\n",
       "gender     1 0.033556  0.64581      5     93 0.6653\n",
       "Residuals 97                                       "
      ]
     },
     "metadata": {},
     "output_type": "display_data"
    },
    {
     "data": {
      "text/plain": [
       "          Df Hotelling-Lawley approx F num Df den Df Pr(>F)\n",
       "health     1         0.038325  0.71285      5     93 0.6153\n",
       "gender     1         0.034721  0.64581      5     93 0.6653\n",
       "Residuals 97                                               "
      ]
     },
     "metadata": {},
     "output_type": "display_data"
    },
    {
     "data": {
      "text/plain": [
       "          Df   Wilks approx F num Df den Df Pr(>F)\n",
       "health     1 0.96309  0.71285      5     93 0.6153\n",
       "gender     1 0.96644  0.64581      5     93 0.6653\n",
       "Residuals 97                                      "
      ]
     },
     "metadata": {},
     "output_type": "display_data"
    },
    {
     "data": {
      "text/plain": [
       "          Df      Roy approx F num Df den Df Pr(>F)\n",
       "health     1 0.038325  0.71285      5     93 0.6153\n",
       "gender     1 0.034721  0.64581      5     93 0.6653\n",
       "Residuals 97                                       "
      ]
     },
     "metadata": {},
     "output_type": "display_data"
    }
   ],
   "source": [
    "macov2 <- manova(cbind(diff1,diff2,diff3,diff6,diff12)~health+gender,data=toenail_terb)\n",
    "summary(macov2, test=\"Pillai\")\n",
    "summary(macov2, test=\"Hotelling-Lawley\")\n",
    "summary(macov2, test=\"Wilks\")\n",
    "summary(macov2, test=\"Roy\")"
   ]
  },
  {
   "cell_type": "code",
   "execution_count": 75,
   "metadata": {},
   "outputs": [
    {
     "data": {
      "text/plain": [
       "          Df   Pillai approx F num Df den Df  Pr(>F)  \n",
       "health     1 0.136102  2.93032      5     93 0.01678 *\n",
       "gender     1 0.014386  0.27148      5     93 0.92766  \n",
       "Residuals 97                                          \n",
       "---\n",
       "Signif. codes:  0 '***' 0.001 '**' 0.01 '*' 0.05 '.' 0.1 ' ' 1"
      ]
     },
     "metadata": {},
     "output_type": "display_data"
    },
    {
     "data": {
      "text/plain": [
       "          Df Hotelling-Lawley approx F num Df den Df  Pr(>F)  \n",
       "health     1         0.157544  2.93032      5     93 0.01678 *\n",
       "gender     1         0.014596  0.27148      5     93 0.92766  \n",
       "Residuals 97                                                  \n",
       "---\n",
       "Signif. codes:  0 '***' 0.001 '**' 0.01 '*' 0.05 '.' 0.1 ' ' 1"
      ]
     },
     "metadata": {},
     "output_type": "display_data"
    },
    {
     "data": {
      "text/plain": [
       "          Df   Wilks approx F num Df den Df  Pr(>F)  \n",
       "health     1 0.86390  2.93032      5     93 0.01678 *\n",
       "gender     1 0.98561  0.27148      5     93 0.92766  \n",
       "Residuals 97                                         \n",
       "---\n",
       "Signif. codes:  0 '***' 0.001 '**' 0.01 '*' 0.05 '.' 0.1 ' ' 1"
      ]
     },
     "metadata": {},
     "output_type": "display_data"
    },
    {
     "data": {
      "text/plain": [
       "          Df      Roy approx F num Df den Df  Pr(>F)  \n",
       "health     1 0.157544  2.93032      5     93 0.01678 *\n",
       "gender     1 0.014596  0.27148      5     93 0.92766  \n",
       "Residuals 97                                          \n",
       "---\n",
       "Signif. codes:  0 '***' 0.001 '**' 0.01 '*' 0.05 '.' 0.1 ' ' 1"
      ]
     },
     "metadata": {},
     "output_type": "display_data"
    }
   ],
   "source": [
    "macov3 <- manova(cbind(diff1,diff2,diff3,diff6,diff12)~health+gender,data=toenail_itra)\n",
    "summary(macov3, test=\"Pillai\")\n",
    "summary(macov3, test=\"Hotelling-Lawley\")\n",
    "summary(macov3, test=\"Wilks\")\n",
    "summary(macov3, test=\"Roy\")"
   ]
  },
  {
   "cell_type": "markdown",
   "metadata": {},
   "source": [
    "두 결과를 비교해보면 많은 차이가 있음을 알 수 있다. terbinane을 사용한 경우에는 health나 gender 모두 손상되지 않은 발톱의 길이에 대한 변화에 유의미한 영향을 미지치 못하고 있지만, itraconazole을 사용한 경우에는 health는 유의미한 영향을 미치고 있는데 반해 gender는 그렇지 못함을 알 수 있다. 이 결과는 전체 자료를 사용하여 분석한 경우와 비교했을 때 많은 차이가 있다. 애초에 경구치료제의 종류에 따라 치료효과가 유의미하게 다르다는 결과가 나왔기 때문에 이러한 결과와 맞물려서 나타난 현상이라고 보여진다. "
   ]
  },
  {
   "cell_type": "markdown",
   "metadata": {},
   "source": [
    "이제까지 분석한 결과를 전체적으로 살펴보기 위해 반응변수를 nail, 즉 손상되지 않은 발톱의 길이로 두고 다중회귀모형을 간단하게 적합해보면 다음과 같다."
   ]
  },
  {
   "cell_type": "code",
   "execution_count": 90,
   "metadata": {},
   "outputs": [
    {
     "data": {
      "text/plain": [
       "\n",
       "Call:\n",
       "lm(formula = nail ~ health + gender + treat, data = toenail)\n",
       "\n",
       "Residuals:\n",
       "    Min      1Q  Median      3Q     Max \n",
       "-6.5268 -1.7295 -0.3198  1.1767 12.8718 \n",
       "\n",
       "Coefficients:\n",
       "            Estimate Std. Error t value Pr(>|t|)    \n",
       "(Intercept)  7.24757    0.16394  44.209  < 2e-16 ***\n",
       "health1     -1.28458    0.16205  -7.927 5.10e-15 ***\n",
       "gender1      0.07928    0.15297   0.518    0.604    \n",
       "treat2       0.68595    0.15136   4.532 6.43e-06 ***\n",
       "---\n",
       "Signif. codes:  0 '***' 0.001 '**' 0.01 '*' 0.05 '.' 0.1 ' ' 1\n",
       "\n",
       "Residual standard error: 2.621 on 1196 degrees of freedom\n",
       "Multiple R-squared:  0.066,\tAdjusted R-squared:  0.06366 \n",
       "F-statistic: 28.17 on 3 and 1196 DF,  p-value: < 2.2e-16\n"
      ]
     },
     "metadata": {},
     "output_type": "display_data"
    }
   ],
   "source": [
    "lin1 <- lm(nail~health+gender+treat,data=toenail)\n",
    "summary(lin1)"
   ]
  },
  {
   "cell_type": "markdown",
   "metadata": {},
   "source": [
    "결과적으로 이제까지 실시한 분석의 결과와 동일한 결과를 주고 있음을 확인할 수 있다. 즉, 헬스장을 자주 사용하는지의 여부와 경구치료제의 종류는 손발톱진균증의 발병에 유의미한 영향을 미치고 있지만 성별은 그렇지 않음을 알 수 있다. 필자가 판단하기에 현재 분석하고 있는 데이터는 longitudinal data이고 연구를 진행하면서 조사한 200명의 환자는 무작위로 선발되었기 때문에 환자에 대한 식별번호인 ID는 random effect일 가능성이 높은 것 같다. 이에 따라 변수 ID를 random effect로 두고 linear mixed-effects model (LMM) 을 적합해보면 다음과 같다."
   ]
  },
  {
   "cell_type": "code",
   "execution_count": 96,
   "metadata": {},
   "outputs": [
    {
     "name": "stderr",
     "output_type": "stream",
     "text": [
      "Warning message:\n",
      "\"package 'lmerTest' was built under R version 3.6.3\"Loading required package: lme4\n",
      "Warning message:\n",
      "\"package 'lme4' was built under R version 3.6.3\"\n",
      "Attaching package: 'lmerTest'\n",
      "\n",
      "The following object is masked from 'package:lme4':\n",
      "\n",
      "    lmer\n",
      "\n",
      "The following object is masked from 'package:stats':\n",
      "\n",
      "    step\n",
      "\n"
     ]
    }
   ],
   "source": [
    "library(lmerTest)"
   ]
  },
  {
   "cell_type": "code",
   "execution_count": 100,
   "metadata": {},
   "outputs": [
    {
     "data": {
      "text/plain": [
       "Linear mixed model fit by REML. t-tests use Satterthwaite's method [\n",
       "lmerModLmerTest]\n",
       "Formula: nail ~ health + gender + treat + (1 | ID)\n",
       "   Data: toenail\n",
       "\n",
       "REML criterion at convergence: 5642.6\n",
       "\n",
       "Scaled residuals: \n",
       "    Min      1Q  Median      3Q     Max \n",
       "-2.2959 -0.5635 -0.1410  0.3583  4.8065 \n",
       "\n",
       "Random effects:\n",
       " Groups   Name        Variance Std.Dev.\n",
       " ID       (Intercept) 1.356    1.164   \n",
       " Residual             5.539    2.353   \n",
       "Number of obs: 1200, groups:  ID, 200\n",
       "\n",
       "Fixed effects:\n",
       "             Estimate Std. Error        df t value Pr(>|t|)    \n",
       "(Intercept)   7.24757    0.23124 196.00000  31.342  < 2e-16 ***\n",
       "health1      -1.28458    0.22857 196.00000  -5.620 6.49e-08 ***\n",
       "gender1       0.07928    0.21578 196.00000   0.367  0.71372    \n",
       "treat2        0.68595    0.21350 196.00000   3.213  0.00154 ** \n",
       "---\n",
       "Signif. codes:  0 '***' 0.001 '**' 0.01 '*' 0.05 '.' 0.1 ' ' 1\n",
       "\n",
       "Correlation of Fixed Effects:\n",
       "        (Intr) helth1 gendr1\n",
       "health1 -0.593              \n",
       "gender1 -0.380 -0.145       \n",
       "treat2  -0.472  0.009  0.009"
      ]
     },
     "metadata": {},
     "output_type": "display_data"
    }
   ],
   "source": [
    "lmm1 <- lmer(nail~health+gender+treat+(1|ID), data=toenail)\n",
    "summary(lmm1)"
   ]
  },
  {
   "cell_type": "markdown",
   "metadata": {},
   "source": [
    "LMM 적합결과 이제까지의 분석과 동일한 결과를 주고 있음을 확인할 수 있었다. 이에 따라 헬스장을 자주 사용하는지의 여부와 경구치료제의 종류가 손발톱진균증에 유의미한 영향을 주지만 성별은 그렇지 않다는 것이 본 연구데이터를 분석해서 얻은 최종적인 결과임을 명시하며 글을 마치도록 하겠다."
   ]
  }
 ],
 "metadata": {
  "kernelspec": {
   "display_name": "R",
   "language": "R",
   "name": "ir"
  },
  "language_info": {
   "codemirror_mode": "r",
   "file_extension": ".r",
   "mimetype": "text/x-r-source",
   "name": "R",
   "pygments_lexer": "r",
   "version": "3.6.1"
  }
 },
 "nbformat": 4,
 "nbformat_minor": 2
}
