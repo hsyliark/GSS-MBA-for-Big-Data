{
 "cells": [
  {
   "cell_type": "markdown",
   "metadata": {},
   "source": [
    "# 기말평가(자료분석)\n",
    "## 202055364 황성윤"
   ]
  },
  {
   "cell_type": "markdown",
   "metadata": {},
   "source": [
    "### 1. 본 연구의 목적\n",
    "\n",
    " 본 연구는 발톱의 흔한 감염인 *발톱 피부사상균 손발톱진균증*에 대한 서로 다른 두 가지 경구 치료방법의 효과를 알아보기 위해 실시되었다. 이 질병은 손톱을 손상시키는 특성이 있어서 환자의 건강에도 영향을 미치지만 환자 본인의 이미지에도 큰 타격을 줄 수 있다. 이전에 진행되었던 조사에 따르면 전 세계 인구의 2~18%, 그리고 미국 인구의 최대 5% 정도의 사람이 손발톱진균증에 시달리는 것으로 추정된다.\n",
    " \n",
    " 손발톱진균증에 걸리게 되면 보통 손발톱이 두꺼워지게 되고 딱딱해지며 변색이 되는데 그 이유는 피부사상균으로 알려진 여러 유형의 진균과 비피부사상균 효모 또는 곰팡이 때문이다. 이 질병은 헬스장에 자주 다니는 경우에도 타인에게 영향을 받아 나타날 가능성이 있다. 이 질병에 대한 치료는 보통 가능한 한 많은 발톱의 감염된 부분을 제거한 후 국소 항진균성 연고를 바르거나 경구 항진균제를 사용하는 것인데 일반적으로 후자가 전자보다 더 나은 효과가 있다고 알려져있다. 이에 따라 본 연구에서는 두 가지 경구 약물인 terbinane(250mg/day로 제공, 치료 1로 표시됨)와 itraconazole(200mg/일로 제공, 아래 치료 2로 표시됨)의 효과를 비교하는 것에 주된 목적을 두었다.\n",
    " \n",
    " 연구의 진행을 위하여 엄지발가락에 진행성 발톱 피부사상균 손발톱진균증이 있는 200명의 환자를 선별한 뒤 이들을 무작위로 terbinane(치료 1) 또는 itraconazole(치료 2)에 배정하였다. 치료를 시작하기 직전에 발톱의 손상되지 않은 부분(제거되지 않은 부분)의 길이를 기록하고(mm) 1개월, 2개월, 3개월, 6개월, 12개월 후에 발톱의 손상되지 않은 부분의 길이를 다시 측정했다. 경구치료제의 효과가 좋은 경우에는 손상되지 않은 발톱의 길이가 길어지기 때문에 이 발톱의 길이를 치료효과 판정 시 사용할 수 있겠다."
   ]
  },
  {
   "cell_type": "markdown",
   "metadata": {},
   "source": [
    "### 2. 사용 데이터 및 분석\n",
    "\n",
    " 본 연구에 의하여 수집된 데이터의 최초 12번째까지의 관측치는 다음과 같으며 포함된 변수는 다음과 같다.\n",
    " \n",
    "1. ID : Subject id \n",
    "2. health : Health club frequency indicator (= 0 if once a week or less, = 1 if more than once a week)\n",
    "3. gender : Gender indicator (= 0 if female, = 1 if male)\n",
    "4. month : Month\n",
    "5. nail : Unafflicted nail length (the response, mm)\n",
    "6. treat : Treatment indicator (= 1 if terbinane, = 2 if itraconazole)\n",
    "\n",
    "그리고 수집된 데이터의 최초 6번째까지의 관측치를 살펴보면 다음과 같다."
   ]
  },
  {
   "cell_type": "markdown",
   "metadata": {},
   "source": [
    "|ID|health|gender|month|nail|treat|\n",
    "|:---:|:---:|:---:|:---:|:---:|:---:|\n",
    "|1|0|1|0|7.3|1|\n",
    "|1|0|1|1|6.2|1|\n",
    "|1|0|1|2|8.0|1|\n",
    "|1|0|1|3|7.9|1|\n",
    "|1|0|1|6|7.6|1|\n",
    "|1|0|1|12|8.1|1|"
   ]
  },
  {
   "cell_type": "markdown",
   "metadata": {},
   "source": [
    "우선 두가지 경구치료제인 terbinane과 itraconazole 사이에 치료효과의 차이가 있는지 알아봤다. 이를 위해 경구치료제에 따른 손상되지 않은 발톱의 길이에 대한 boxplot을 다음과 같이 그려봤다. 각 치료경구제에 대하여 전체적인 효과의 분포를 살펴보는 것이 목적이므로 일단 몇개월이 지났는지에 대한 여부는 무시하였다.  "
   ]
  },
  {
   "cell_type": "markdown",
   "metadata": {},
   "source": [
    "![img](그림1.png)"
   ]
  },
  {
   "cell_type": "markdown",
   "metadata": {},
   "source": [
    "위의 boxplot을 통해 단순하게 판단해본다면 경구치료제에 따른 효과가 그렇게 유의하지는 않은 것으로 보이고 itraconazole을 투여했을 때 치료효과가 약간 더 좋아지는 것으로 판단된다. 이에 따라 통계적인 검정을 실시해보도록 하자. 먼저 각 경구치료제에 따른 환자의 발톱의 길이에 대해 정규성 검정인 Shapiro-Wilk normality test를 실시해본 결과 각각의 유의확률의 값이 모두 유의수준 $\\alpha=0.05$보다 굉장히 작음을 확인할 수 있다. 이에 따라 발톱길이의 분포가 정규성을 따르지 않는다고 판단할 수 있고 이에 따라 비모수적 방법인 Wilcoxon test를 실시하였다. 참고로 두 집단에 대한 Shapiro-Wilk normality test의 결과와 QQ-plot은 다음과 같다.   "
   ]
  },
  {
   "cell_type": "markdown",
   "metadata": {},
   "source": [
    "Shapiro-Wilk normality test\n",
    "``` \n",
    "1. terbinane\n",
    "data:  toenail$nail[toenail$treat == \"1\"]\n",
    "W = 0.97463, p-value = 1.105e-08\n",
    "\n",
    "2. itraconazloe\n",
    "data:  toenail$nail[toenail$treat == \"2\"]\n",
    "W = 0.91859, p-value < 2.2e-16\n",
    "```"
   ]
  },
  {
   "cell_type": "markdown",
   "metadata": {},
   "source": [
    "![img](그림2.png)"
   ]
  },
  {
   "cell_type": "markdown",
   "metadata": {},
   "source": [
    "두 집단에 대해 Wilcoxon test를 실시한 결과 유의확률은 $p-value=0.0001801$로써 유의확률 $\\alpha=0.05$보다 매우 작은 값이다. 이에 따라 경구치료제에 따른 치료효과의 차이는 통계적으로 유의미하다고 볼 수 있다. boxplot을 통해서 주관적으로 판단한 결과와는 상반된 결과이다. 결국 주관적인 판단보다는 통계적인 검정을 통해서 판단하는 것이 분석에 대한 오류를 막아줄 수 있다는 사실에 대한 적절한 사례라고 필자는 생각한다. "
   ]
  },
  {
   "cell_type": "markdown",
   "metadata": {},
   "source": [
    "```\n",
    "Wilcoxon rank sum test with continuity correction\n",
    "\n",
    "data:  nail by treat\n",
    "W = 157520, p-value = 0.0001801\n",
    "alternative hypothesis: true location shift is not equal to 0\n",
    "```"
   ]
  },
  {
   "cell_type": "markdown",
   "metadata": {},
   "source": [
    "이와 비슷한 방법을 적용한다면 헬스장을 자주 사용하는지의 여부나 성별에 따라 손발톱진균증이 환자에게 미치는 영향이 유의미하게 다른지에 대해서도 판단해볼 수 있다. 헬스장을 자주 사용하는지의 여부와 성별에 따라 각각 발톱의 길이에 대한 boxplot과 QQ-plot을 그려보면 아래와 같다.   "
   ]
  },
  {
   "cell_type": "markdown",
   "metadata": {},
   "source": [
    "![img](그림3.png)"
   ]
  },
  {
   "cell_type": "markdown",
   "metadata": {},
   "source": [
    "```\n",
    "Shapiro-Wilk normality test with health variable\n",
    "\n",
    "data:  toenail$nail[toenail$health == \"0\"]\n",
    "W = 0.95515, p-value = 1.033e-09\n",
    "\n",
    "\tShapiro-Wilk normality test\n",
    "\n",
    "data:  toenail$nail[toenail$health == \"1\"]\n",
    "W = 0.92838, p-value < 2.2e-16\n",
    "```"
   ]
  },
  {
   "cell_type": "markdown",
   "metadata": {},
   "source": [
    "![img](그림4.png)"
   ]
  },
  {
   "cell_type": "markdown",
   "metadata": {},
   "source": [
    "```\n",
    "Shapiro-Wilk normality test with gender variable\n",
    "\n",
    "data:  toenail$nail[toenail$gender == \"0\"]\n",
    "W = 0.93398, p-value = 1.548e-15\n",
    "\n",
    "\tShapiro-Wilk normality test\n",
    "\n",
    "data:  toenail$nail[toenail$gender == \"1\"]\n",
    "W = 0.95471, p-value = 1.078e-12\n",
    "```"
   ]
  },
  {
   "cell_type": "markdown",
   "metadata": {},
   "source": [
    "![img](그림5.png)"
   ]
  },
  {
   "cell_type": "markdown",
   "metadata": {},
   "source": [
    "위에 있는 boxplot을 통해 헬스장에 자주 다니는 경우 질병에 걸릴 가능성이 높아짐을 알 수 있다. 하지만 성별에 따라서는 그다지 분포의 차이가 유의미하게 드러나지는 않는 것 같다. 그리고 QQ-plot을 통해 이 두가지 변수에 대해서는 모두 비모수적 검정인 Wilcoxon test를 실시해야 함을 알 수 있으며 Shapiro-Wilk normality test에 대한 유의확률 $p-value$도 모든 경우에 대해 굉장히 작은 값으로 산출되었다. 이를 바탕으로 각 변수에 대해 Wilcoxon test를 실시하여 다음과 같은 유의확률을 산출할 수 있었다.\n",
    "\n",
    "> health : $<2.2 \\times 10^{-16}$  \n",
    "> gender : $0.6935$\n",
    "\n",
    "결과적으로 헬스장을 자주 사용하는지의 여부에 대해서는 질병의 영향력이 유의미한 차이가 있지만, 성별에 대해서는 그렇지 않음을 확인할 수 있었다."
   ]
  },
  {
   "cell_type": "markdown",
   "metadata": {},
   "source": [
    "```\n",
    "Wilcoxon rank sum test with continuity correction\n",
    "\n",
    "data:  nail by health\n",
    "W = 210881, p-value < 2.2e-16\n",
    "alternative hypothesis: true location shift is not equal to 0\n",
    "```"
   ]
  },
  {
   "cell_type": "markdown",
   "metadata": {},
   "source": [
    "```\n",
    "Wilcoxon rank sum test with continuity correction\n",
    "\n",
    "data:  nail by gender\n",
    "W = 177617, p-value = 0.6935\n",
    "alternative hypothesis: true location shift is not equal to 0\n",
    "```"
   ]
  },
  {
   "cell_type": "markdown",
   "metadata": {},
   "source": [
    "그렇다면 여기에서 드는 의문점이 하나 있다. 과연 시간이 지남에 따라 각 경구치료제의 효과는 차이가 있을까? 즉, 1,2,3,6,12개월 이후에 측정된 환자의 발톱의 길이가 전체적으로 치료제에 따라 통계적인 차이가 있는지 알고싶다. 이를 위해 데이터를 적절히 처리하여 각 환자에 대하여 최초 측정한 발톱의 길이를 기준으로 하여 1,2,3,6,12개월 이후 손상되지 않은 발톱의 길이가 어떻게 변했는지를 계산하였으며 이를 이용하여 다변량 공분산분석인 MANCOVA를 실시한 결과 각 통계량에 대한 유의확률 $p-value$는 다음과 같이 계산되었다.\n",
    "\n",
    "> Pillai's trace : $0.04339$\\\n",
    "> Hotelling-Lawley's trace : $0.04339$\\\n",
    "> Wilk's Lambda : $0.04339$\\\n",
    "> Roy's greatest root : $0.04339$\n",
    "\n",
    "결국 4가지 통계량 모두 유의확률의 값이 유의수준 $\\alpha=0.05$보다 작으므로 전체적인 기간동안의 치료효과는 경구치료제에 따라 유의미한 차이가 있다고 해석할 수 있겠다. "
   ]
  },
  {
   "cell_type": "markdown",
   "metadata": {},
   "source": [
    "```\n",
    "1. Pillai's trace\n",
    "           Df   Pillai approx F num Df den Df  Pr(>F)  \n",
    "treat       1 0.056821   2.3375      5    194 0.04339 *\n",
    "Residuals 198                                          \n",
    "\n",
    "Signif. codes:  0 '***' 0.001 '**' 0.01 '*' 0.05 '.' 0.1 ' ' 1\n",
    "\n",
    "2. Hotelling-Lawley's trace\n",
    "           Df Hotelling-Lawley approx F num Df den Df  Pr(>F)  \n",
    "treat       1         0.060244   2.3375      5    194 0.04339 *\n",
    "Residuals 198                                                  \n",
    "\n",
    "Signif. codes:  0 '***' 0.001 '**' 0.01 '*' 0.05 '.' 0.1 ' ' 1\n",
    "\n",
    "3. Wilk's Lambda\n",
    "           Df   Wilks approx F num Df den Df  Pr(>F)  \n",
    "treat       1 0.94318   2.3375      5    194 0.04339 *\n",
    "Residuals 198                                         \n",
    "\n",
    "Signif. codes:  0 '***' 0.001 '**' 0.01 '*' 0.05 '.' 0.1 ' ' 1\n",
    "\n",
    "4. Roy's greatest root\n",
    "           Df      Roy approx F num Df den Df  Pr(>F)  \n",
    "treat       1 0.060244   2.3375      5    194 0.04339 *\n",
    "Residuals 198                                          \n",
    "\n",
    "Signif. codes:  0 '***' 0.001 '**' 0.01 '*' 0.05 '.' 0.1 ' ' 1\n",
    "```"
   ]
  },
  {
   "cell_type": "markdown",
   "metadata": {},
   "source": [
    "이외에도 어떤 경구치료제(terbinane or itraconazole)를 사용했는지에 따라 헬스장을 자주 사용하는지의 여부와 성별이 질병 발생에 유의미한 영향을 미치는지를 알아보기 위해 위와 비슷한 방법을 통하여 각 경구치료제에 따라 데이터를 나누고 설명변수를 health와 gender로 두고 MANCOVA 를 실시하면 다음과 같다.  "
   ]
  },
  {
   "cell_type": "markdown",
   "metadata": {},
   "source": [
    "- 1. terbinane\n",
    "\n",
    "```\n",
    "1. Pillai's trace\n",
    "          Df   Pillai approx F num Df den Df Pr(>F)\n",
    "health     1 0.036911  0.71285      5     93 0.6153\n",
    "gender     1 0.033556  0.64581      5     93 0.6653\n",
    "Residuals 97                     \n",
    "\n",
    "2. Hotelling-Lawley's trace\n",
    "          Df Hotelling-Lawley approx F num Df den Df Pr(>F)\n",
    "health     1         0.038325  0.71285      5     93 0.6153\n",
    "gender     1         0.034721  0.64581      5     93 0.6653\n",
    "Residuals 97        \n",
    "\n",
    "3. Wilk's Lambda\n",
    "          Df   Wilks approx F num Df den Df Pr(>F)\n",
    "health     1 0.96309  0.71285      5     93 0.6153\n",
    "gender     1 0.96644  0.64581      5     93 0.6653\n",
    "Residuals 97   \n",
    "\n",
    "4. Roy's greatest root\n",
    "          Df      Roy approx F num Df den Df Pr(>F)\n",
    "health     1 0.038325  0.71285      5     93 0.6153\n",
    "gender     1 0.034721  0.64581      5     93 0.6653\n",
    "Residuals 97       \n",
    "```"
   ]
  },
  {
   "cell_type": "markdown",
   "metadata": {},
   "source": [
    "- 2. itraconazole\n",
    "\n",
    "```\n",
    "1. Pillai's trace\n",
    "          Df   Pillai approx F num Df den Df  Pr(>F)  \n",
    "health     1 0.136102  2.93032      5     93 0.01678 *\n",
    "gender     1 0.014386  0.27148      5     93 0.92766  \n",
    "Residuals 97                                          \n",
    "\n",
    "Signif. codes:  0 '***' 0.001 '**' 0.01 '*' 0.05 '.' 0.1 ' ' 1\n",
    "\n",
    "2. Hotelling-Lawley's trace\n",
    "          Df Hotelling-Lawley approx F num Df den Df  Pr(>F)  \n",
    "health     1         0.157544  2.93032      5     93 0.01678 *\n",
    "gender     1         0.014596  0.27148      5     93 0.92766  \n",
    "Residuals 97                                                  \n",
    "\n",
    "Signif. codes:  0 '***' 0.001 '**' 0.01 '*' 0.05 '.' 0.1 ' ' 1\n",
    "\n",
    "3. Wilk's Lambda\n",
    "          Df   Wilks approx F num Df den Df  Pr(>F)  \n",
    "health     1 0.86390  2.93032      5     93 0.01678 *\n",
    "gender     1 0.98561  0.27148      5     93 0.92766  \n",
    "Residuals 97                                         \n",
    "\n",
    "Signif. codes:  0 '***' 0.001 '**' 0.01 '*' 0.05 '.' 0.1 ' ' 1\n",
    "\n",
    "4. Roy's greatest root\n",
    "          Df      Roy approx F num Df den Df  Pr(>F)  \n",
    "health     1 0.157544  2.93032      5     93 0.01678 *\n",
    "gender     1 0.014596  0.27148      5     93 0.92766  \n",
    "Residuals 97                                          \n",
    "\n",
    "Signif. codes:  0 '***' 0.001 '**' 0.01 '*' 0.05 '.' 0.1 ' ' 1\n",
    "```"
   ]
  },
  {
   "cell_type": "markdown",
   "metadata": {},
   "source": [
    "두 결과를 비교해보면 많은 차이가 있음을 알 수 있다. terbinane을 사용한 경우에는 health나 gender 모두 손상되지 않은 발톱의 길이에 대한 변화에 유의미한 영향을 미지치 못하고 있지만, itraconazole을 사용한 경우에는 health는 유의미한 영향을 미치고 있는데 반해 gender는 그렇지 못함을 알 수 있다. 이 결과는 전체 자료를 사용하여 분석한 경우와 비교했을 때 많은 차이가 있다. 애초에 경구치료제의 종류에 따라 치료효과가 유의미하게 다르다는 결과가 나왔기 때문에 이러한 결과와 맞물려서 나타난 현상이라고 보여진다. "
   ]
  },
  {
   "cell_type": "markdown",
   "metadata": {},
   "source": [
    "이제까지 분석한 결과를 전체적으로 살펴보기 위해 반응변수를 nail, 즉 손상되지 않은 발톱의 길이로 두고 다중회귀모형을 간단하게 적합해보면 다음과 같다."
   ]
  },
  {
   "cell_type": "markdown",
   "metadata": {},
   "source": [
    "```\n",
    "Call:\n",
    "lm(formula = nail ~ health + gender + treat, data = toenail)\n",
    "\n",
    "Residuals:\n",
    "    Min      1Q  Median      3Q     Max \n",
    "-6.5268 -1.7295 -0.3198  1.1767 12.8718 \n",
    "\n",
    "Coefficients:\n",
    "            Estimate Std. Error t value Pr(>|t|)    \n",
    "(Intercept)  7.24757    0.16394  44.209  < 2e-16 ***\n",
    "health1     -1.28458    0.16205  -7.927 5.10e-15 ***\n",
    "gender1      0.07928    0.15297   0.518    0.604    \n",
    "treat2       0.68595    0.15136   4.532 6.43e-06 ***\n",
    "---\n",
    "Signif. codes:  0 '***' 0.001 '**' 0.01 '*' 0.05 '.' 0.1 ' ' 1\n",
    "\n",
    "Residual standard error: 2.621 on 1196 degrees of freedom\n",
    "Multiple R-squared:  0.066,\tAdjusted R-squared:  0.06366 \n",
    "F-statistic: 28.17 on 3 and 1196 DF,  p-value: < 2.2e-16\n",
    "```"
   ]
  },
  {
   "cell_type": "markdown",
   "metadata": {},
   "source": [
    "결과적으로 이제까지 실시한 분석의 결과와 동일한 결과를 주고 있음을 확인할 수 있다. 즉, 헬스장을 자주 사용하는지의 여부와 경구치료제의 종류는 손발톱진균증의 발병에 유의미한 영향을 미치고 있지만 성별은 그렇지 않음을 알 수 있다. 필자가 판단하기에 현재 분석하고 있는 데이터는 longitudinal data이고 연구를 진행하면서 조사한 200명의 환자는 무작위로 선발되었기 때문에 환자에 대한 식별번호인 ID는 random effect일 가능성이 높은 것 같다. 이에 따라 변수 ID를 random effect로 두고 linear mixed-effects model (LMM) 을 적합해보면 다음과 같다."
   ]
  },
  {
   "cell_type": "markdown",
   "metadata": {},
   "source": [
    "```\n",
    "Linear mixed model fit by REML. t-tests use Satterthwaite's method [lmerModLmerTest]\n",
    "Formula: nail ~ health + gender + treat + (1 | ID)\n",
    "   Data: toenail\n",
    "\n",
    "REML criterion at convergence: 5642.6\n",
    "\n",
    "Scaled residuals: \n",
    "    Min      1Q  Median      3Q     Max \n",
    "-2.2959 -0.5635 -0.1410  0.3583  4.8065 \n",
    "\n",
    "Random effects:\n",
    " Groups   Name        Variance Std.Dev.\n",
    " ID       (Intercept) 1.356    1.164   \n",
    " Residual             5.539    2.353   \n",
    "Number of obs: 1200, groups:  ID, 200\n",
    "\n",
    "Fixed effects:\n",
    "             Estimate Std. Error        df t value Pr(>|t|)    \n",
    "(Intercept)   7.24757    0.23124 196.00000  31.342  < 2e-16 ***\n",
    "health1      -1.28458    0.22857 196.00000  -5.620 6.49e-08 ***\n",
    "gender1       0.07928    0.21578 196.00000   0.367  0.71372    \n",
    "treat2        0.68595    0.21350 196.00000   3.213  0.00154 ** \n",
    "---\n",
    "Signif. codes:  0 '***' 0.001 '**' 0.01 '*' 0.05 '.' 0.1 ' ' 1\n",
    "\n",
    "Correlation of Fixed Effects:\n",
    "        (Intr) helth1 gendr1\n",
    "health1 -0.593              \n",
    "gender1 -0.380 -0.145       \n",
    "treat2  -0.472  0.009  0.009\n",
    "```"
   ]
  },
  {
   "cell_type": "markdown",
   "metadata": {},
   "source": [
    "LMM 적합결과 이제까지의 분석과 동일한 결과를 주고 있음을 확인할 수 있었다. 이에 따라 헬스장을 자주 사용하는지의 여부와 경구치료제의 종류가 손발톱진균증에 유의미한 영향을 주지만 성별은 그렇지 않다는 것이 본 연구데이터를 분석해서 얻은 최종적인 결과임을 명시하며 글을 마치도록 하겠다."
   ]
  },
  {
   "cell_type": "code",
   "execution_count": null,
   "metadata": {},
   "outputs": [],
   "source": []
  },
  {
   "cell_type": "code",
   "execution_count": null,
   "metadata": {},
   "outputs": [],
   "source": []
  }
 ],
 "metadata": {
  "kernelspec": {
   "display_name": "Python 3",
   "language": "python",
   "name": "python3"
  },
  "language_info": {
   "codemirror_mode": {
    "name": "ipython",
    "version": 3
   },
   "file_extension": ".py",
   "mimetype": "text/x-python",
   "name": "python",
   "nbconvert_exporter": "python",
   "pygments_lexer": "ipython3",
   "version": "3.7.3"
  }
 },
 "nbformat": 4,
 "nbformat_minor": 2
}
