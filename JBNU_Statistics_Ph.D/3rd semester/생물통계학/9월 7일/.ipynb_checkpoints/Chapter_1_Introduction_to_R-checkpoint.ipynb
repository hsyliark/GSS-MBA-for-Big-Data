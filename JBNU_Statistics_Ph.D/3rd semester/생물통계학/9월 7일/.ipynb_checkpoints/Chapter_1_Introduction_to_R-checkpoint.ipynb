{
 "cells": [
  {
   "cell_type": "markdown",
   "metadata": {},
   "source": [
    "## Chapter 1 Introduction to R\n",
    "\n",
    "### 1. 1 What is ${\\textsf R}$ ?\n",
    "    \n",
    "- go to the official [home page](http://www.R-project.org)\n",
    "- ${\\textsf R}$ consists of two parts\n",
    "    - base system : the core ${\\textsf R}$ language and associated fundamental libraries\n",
    "    - package : more specialized applications contributed by advanced ${\\textsf R}$ user experts  in their\n",
    "        fields       \n",
    "\n",
    "### 1.3 ${\\textsf R}$ for Clinical Trials\n",
    "\n",
    "#### ${\\textsf R}$ : Regulatory Compliance and Validation Issues\n",
    "- a [guidance document](http://www.r-project.org/doc/R-FDA.pdf) for the use of ${\\textsf R}$ in regulated clinical trial environments\n",
    "   - the use of R for human clinical trials conducted by the pharmaceutical industry in compliance with regulations of the  the United States Food and Drug Administration (FDA) and the Iternational Conference on Harmonisation (ICH) of Technical Requirements for Registration of Pharmaceuticals in Human Use.\n",
    "\n",
    "#### CRAN Task View  \n",
    "- http://cran.r-project.org/web/views/ClinicalTrials.html : specific packages for design, monitoring and analysis of data from clinical trials : \n",
    "       \n",
    "### 1.4 A Simple Simulated Clinical Trial\n",
    "\n",
    "a simulated simple two-arm clinical trial to compare a new drug to placebo on reducing diastolic blood pressure in hypertensive adult men\n",
    "- $n=100$ for both groups,  *drug* vs. *placebo*\n",
    "- variables\n",
    " - age : an important risk factor linked to blood pressure\n",
    " - baseline diastolic blood pressure just before randomization\n",
    " - blood pressure measured at the end of the trial\n",
    "   "
   ]
  },
  {
   "cell_type": "markdown",
   "metadata": {},
   "source": [
    "#### 1.4.1 Data Simulation\n",
    "\n",
    "**${\\textsf R}$ Functions**\n",
    "- density function, cumulative distribution function, quantile function, random number generation for `normal,` `Poisson`, `binomial`, `t`,`Beta`, etc\n",
    "\n",
    "    - dnorm(x, mean=0, sd=1, log=F)                 # x : vector of quantiles\n",
    "    - pnorm(q, mean=0, sd=1, lower.tail=T, log.p=F) # q : vector of quatiles\n",
    "    - qnorm(p, mean=0, sd=1, lower.tail=T, log.p=F) # p : vector of probabilities\n",
    "    - rnorm(n, mean=0, sd=1)                        # n :  number of observations"
   ]
  },
  {
   "cell_type": "markdown",
   "metadata": {},
   "source": [
    "**Data Generation and Manipulation**\n",
    "Simulate $n$\n",
    "- baseline diastolic blood pressure `bp.base` $\\sim N(\\mu=100, sd=10)$ (mmHg)\n",
    "- `age` $\\sim N(age.mu=50, age.sd=10)$ (year)\n",
    "- diastolic blood pressure decreased by the new drug $mu.d=20$"
   ]
  },
  {
   "cell_type": "code",
   "execution_count": null,
   "metadata": {},
   "outputs": [],
   "source": [
    "# simulated input values\n",
    "n      = 100\n",
    "mu     = 100\n",
    "sd     = 10\n",
    "mu.d   = 20\n",
    "age.mu = 50\n",
    "age.sd = 10"
   ]
  },
  {
   "cell_type": "markdown",
   "metadata": {},
   "source": [
    "- $n$=100 **placebo** participants with \n",
    "    - `age`, \n",
    "    - `bp.base` (baseline blood pressure), \n",
    "    - `bp.end` (endpoint blood pressure) \n",
    "    - `bp.diff=bp.end-bp.base` (change in blood pressure from baseline to endpoint)"
   ]
  },
  {
   "cell_type": "code",
   "execution_count": null,
   "metadata": {},
   "outputs": [],
   "source": [
    "set.seed(123)                     # fix the seed for random number generation \n",
    "\n",
    "# use \"rnorm\" to generate random normal\n",
    "age         = rnorm(n, age.mu, age.sd)\n",
    "bp.base     = rnorm(n,mu,sd)\n",
    "bp.end      = rnorm(n,mu,sd)\n",
    "\n",
    "bp.diff     = bp.end-bp.base    # take the difference between endpoint and baseline\n",
    "\n",
    "dat4placebo = round(cbind(age,bp.base,bp.end,bp.diff))  # put the data together using \"cbind\" to column-bind"
   ]
  },
  {
   "cell_type": "code",
   "execution_count": null,
   "metadata": {},
   "outputs": [],
   "source": [
    "head(dat4placebo)"
   ]
  },
  {
   "cell_type": "markdown",
   "metadata": {},
   "source": [
    "- $n$=100 **new drug** participants\n",
    "    - `mean` for the `bp.end`=`mu`-`mu.d` "
   ]
  },
  {
   "cell_type": "code",
   "execution_count": null,
   "metadata": {},
   "outputs": [],
   "source": [
    "age      = rnorm(n, age.mu, age.sd)\n",
    "bp.base  = rnorm(n,mu,sd)\n",
    "bp.end   = rnorm(n,mu-mu.d,sd)\n",
    "bp.diff  = bp.end-bp.base\n",
    "dat4drug = round(cbind(age,bp.base,bp.end,bp.diff))"
   ]
  },
  {
   "cell_type": "markdown",
   "metadata": {},
   "source": [
    "- make a dataframe to hold all data\n",
    "- make `trt` as a factor for treatment."
   ]
  },
  {
   "cell_type": "code",
   "execution_count": null,
   "metadata": {},
   "outputs": [],
   "source": [
    "dat     = data.frame(rbind(dat4placebo,dat4drug))\n",
    "dat[c(1:4, 101:104),]"
   ]
  },
  {
   "cell_type": "code",
   "execution_count": null,
   "metadata": {},
   "outputs": [],
   "source": [
    "dat$trt = as.factor(rep(c(\"Placebo\", \"Drug\"), each=n))"
   ]
  },
  {
   "cell_type": "code",
   "execution_count": null,
   "metadata": {},
   "outputs": [],
   "source": [
    "# check the data dimension\n",
    "dim(dat)\n",
    "# print the first 6 obervations to see the variable names\n",
    "head(dat)"
   ]
  },
  {
   "cell_type": "markdown",
   "metadata": {},
   "source": [
    "**Basic ${\\textsf R}$ Graphic**\n",
    "- `boxplot`"
   ]
  },
  {
   "cell_type": "code",
   "execution_count": null,
   "metadata": {},
   "outputs": [],
   "source": [
    "boxplot(dat4placebo, las=1, main=\"Placebo\")"
   ]
  },
  {
   "cell_type": "code",
   "execution_count": null,
   "metadata": {},
   "outputs": [],
   "source": [
    "boxplot(dat4drug, las=1, main=\"Drug\")"
   ]
  },
  {
   "cell_type": "markdown",
   "metadata": {},
   "source": [
    "- `xyplot` in `lattice` library"
   ]
  },
  {
   "cell_type": "code",
   "execution_count": null,
   "metadata": {},
   "outputs": [],
   "source": [
    "library(lattice)"
   ]
  },
  {
   "cell_type": "code",
   "execution_count": null,
   "metadata": {},
   "outputs": [],
   "source": [
    "# call xyplot function and print it\n",
    "print(xyplot(bp.diff~age|trt, data=dat,\n",
    "            xlab=\"Age\", strip=strip.custom(bg=\"white\"), \n",
    "            ylab=\"Blood Pressure Difference\",lwd=3,cex=1.3,pch=20,type=c(\"p\", \"r\")))"
   ]
  },
  {
   "cell_type": "markdown",
   "metadata": {},
   "source": [
    "**Data Analysis**\n",
    "- model \n",
    "$$\n",
    "    y=\\beta_0+\\beta_1\\times trt+\\beta_2\\times age+\\beta_3\\times age\\times trt +\\epsilon,\\quad \\epsilon\\stackrel{iid}{\\sim} N(0,\\sigma^2)\n",
    "$$"
   ]
  },
  {
   "cell_type": "code",
   "execution_count": null,
   "metadata": {},
   "outputs": [],
   "source": [
    "lm1 = lm(bp.diff~trt*age, data=dat)\n",
    "summary(lm1)"
   ]
  },
  {
   "cell_type": "markdown",
   "metadata": {},
   "source": [
    "- `xtable` in `xtable` library"
   ]
  },
  {
   "cell_type": "code",
   "execution_count": null,
   "metadata": {},
   "outputs": [],
   "source": [
    "library(xtable)"
   ]
  },
  {
   "cell_type": "code",
   "execution_count": null,
   "metadata": {},
   "outputs": [],
   "source": [
    "print(xtable(lm1, caption=\"ANOVA Table for Simulated  Clinical Trial Data\", label = \"tab4RI.coef\"),\n",
    "        table.placement = \"htbp\",caption.placement = \"top\")"
   ]
  },
  {
   "cell_type": "code",
   "execution_count": null,
   "metadata": {},
   "outputs": [],
   "source": [
    "layout(matrix(1:4, nrow=2))\n",
    "plot(lm1)\n"
   ]
  }
 ],
 "metadata": {
  "kernelspec": {
   "display_name": "R",
   "language": "R",
   "name": "ir"
  },
  "language_info": {
   "codemirror_mode": "r",
   "file_extension": ".r",
   "mimetype": "text/x-r-source",
   "name": "R",
   "pygments_lexer": "r",
   "version": "3.6.1"
  }
 },
 "nbformat": 4,
 "nbformat_minor": 5
}
