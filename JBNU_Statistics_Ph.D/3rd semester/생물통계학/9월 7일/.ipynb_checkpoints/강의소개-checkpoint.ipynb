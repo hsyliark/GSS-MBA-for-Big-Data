{
 "cells": [
  {
   "cell_type": "markdown",
   "metadata": {},
   "source": [
    "## 생물통계학 강의 계획\n",
    "**강의 시간** 화 19:00-22:00\n",
    "\n",
    "**담당교수** 최혜미  \n",
    "\n",
    "**질문 및 상담** 이메일 (hchoi@jbnu.ac.kr)이나 LMS 쪽지 이용 , \n",
    "연구실 방문 가능 (화 18:30-19:00, 수 14:00-15:00 선호)\n",
    "\n",
    "\n",
    "**주교재** \n",
    "1. 한눈에 알 수 있는 보건의학통계학 (2021) by A. Patrie, C. Sabin (이준영 역), 범문에듀케이션\n",
    "2. Clinical Trial Data Analysis Using R and SAS (2020) by Din Chen, Karl E. Peace, Pinggao Zhang , CRC Press \n",
    "\n",
    "**참고문헌**\n",
    "1. 생명과학연구를 위한 통계적 방법 (저자:이재원, 박미라, 유한나), 자유 아카데미\n",
    "\n",
    "**평가 계획**\n",
    "- 기말프로젝트 50% (12월 14일 화)\n",
    "- 과제 45% (LMS 레포트를 통해 공지된 과제 기한 내 업로드 및 실시간 수업시 발표)\n",
    "- 출석 5% (실시간 수업 출석과 녹화영상 시청 반영)\n",
    "\n",
    "**수업운영방향**\n",
    "1. 한눈에 알 수 있는 보건의학통계학의 각 단원 내용 정리 발표 (석사과정 학생)\n",
    "2. R과 SAS를 이용하여  Clinical Trial Data Analysis Using R and SAS의 각 단원 자료분석 예제 정리 발표 (박사과정학생)\n",
    "3. Jupyter Notebook을 사용하여 수업진행 \n",
    "4. 발표자는 발표자료를 미리 준비해서 (발표 전주 일요일까지) 강사 확인 받기 바람 \n"
   ]
  },
  {
   "cell_type": "markdown",
   "metadata": {},
   "source": [
    "**주별강의내용**\n",
    "\n",
    "|주|주제|내용|\n",
    "|---|:---:|:---:|\n",
    "|1| 자료다루기|자료의 종류, 자료입력, 오류검토 및 이상값, 그림으로 자료표현하기, 자료의 기술, 이론적 분포들, 자료의 변환|\n",
    "|2|표본추출과 추정, 연구설계, 가설검정|표본추출과 표본추출분포, 신뢰구간, 연구설계, 임상시험, 코호트연구, 사례-대조연구, 가설검정|\n",
    "|3|기초적인 자료분석방법|수치형 자료와 범주형 자료|\n",
    "|4|Two Treatment Comparisons in Clinical Trials |Statistical models for treatment comparisons|\n",
    "| |Multi-Arm Comparisons in Clinical Trials (ANOVA)|Data analysis in R and SAS|\n",
    "|5|기초적인 자료분석방법|회귀와 상관|\n",
    "|6| 기초적인 자료분석방법|중요한 고려 사항들|\n",
    "| | Treatment Comparisons Incorporating Covariates in Clinical Trials (ANCOVA)| Statistical Models Incorporating Covariates|\n",
    "| | | Data Analysis in R and SAS|\n",
    "|7| 추가주제들|진단도구들, 일치도 평가, 근거-기반 의학, 집락자료 (반복측정자료)의 분석, 집락 자료 (반복측정자료)에 대한 회귀방법들|\n",
    "|8|Clinical Trials with Repeated Measures| Statistical Models for Repeated measures|\n",
    "| |체계적 고찰 및 메타분석| |\n",
    "|9|Meta-Analysis in Clinical Trials|Statistical Models for Meta-Analysis|\n",
    "| |생존분석| |\n",
    "|10|Clinical Trials with Time-to-Events Endpoints.|Statistical Methods for Right-Censored Data|\n",
    "| | |Statistical Methods for Interval-Censored Data|\n",
    "| | |Step-by-Step Implementations in R|\n",
    "| |베이지안 방법| |\n",
    "|11|Bayesian Methods in Clinical Trials|Bayesian Models|\n",
    "| | |R Packages in Bayesian Modeling|\n",
    "| | |MCMC Simulations|\n",
    "| | | Bayesian Data Analysis|\n",
    "| |예후점수 개발| |\n",
    "|12|Bioequivalence Clinical Trials|Bioequivalence Clinical Trial Endpoints|\n",
    "| | |Statistical Methods to Analyze Bioequivalence|\n",
    "| | |Step-by-Step Implementation in R|\n",
    "|13|Group Sequential Designs and Monitoring in Clinical Trials.|Group Sequential Designs and Monitoring in Clinical Trials|\n",
    "| |Monitoring Clinical Trials for Adverse Events.| Monitoring Clinical Trials for Adverse Events.|\n",
    "|14|보강||\n",
    "|15|기말프로젝트|12월 14일|"
   ]
  }
 ],
 "metadata": {
  "kernelspec": {
   "display_name": "R",
   "language": "R",
   "name": "ir"
  },
  "language_info": {
   "codemirror_mode": "r",
   "file_extension": ".r",
   "mimetype": "text/x-r-source",
   "name": "R",
   "pygments_lexer": "r",
   "version": "3.6.1"
  }
 },
 "nbformat": 4,
 "nbformat_minor": 5
}
