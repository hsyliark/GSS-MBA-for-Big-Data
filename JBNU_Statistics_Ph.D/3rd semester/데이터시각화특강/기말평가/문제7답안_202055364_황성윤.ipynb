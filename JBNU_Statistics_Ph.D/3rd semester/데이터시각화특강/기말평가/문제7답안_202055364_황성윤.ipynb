{
 "cells": [
  {
   "cell_type": "markdown",
   "id": "a519af4e",
   "metadata": {},
   "source": [
    "# 데이터시각화특강 기말평가 답안 (문제7)\n",
    "## 202055364 황성윤"
   ]
  },
  {
   "cell_type": "markdown",
   "id": "0b10af89",
   "metadata": {},
   "source": [
    "## 7. 대한민국 출산율 (20점)\n",
    "\n",
    "다음을 잘 읽고 적절한 시각화 플랏을 제시하라. (판다스 backend를 이용하여 시각화 하며, backend 엔진은 `matplotlib`, `plotly` 중 택하여 시각화)"
   ]
  },
  {
   "cell_type": "markdown",
   "id": "30aa3eb6",
   "metadata": {},
   "source": [
    "`(1)` 아래는 \"2020년 행정구역별 출생아 수, 출생률, 출산율 통계\"를 나타낸 표이다. 행정구역별 출생자수를 pie chart로 시각화하라."
   ]
  },
  {
   "cell_type": "code",
   "execution_count": 1,
   "id": "fd44d076",
   "metadata": {},
   "outputs": [],
   "source": [
    "import pandas as pd\n",
    "import numpy as np\n",
    "import folium\n",
    "import json\n",
    "import requests\n",
    "import plotly.express as px\n",
    "from IPython.display import HTML"
   ]
  },
  {
   "cell_type": "code",
   "execution_count": 2,
   "id": "5681cb6f",
   "metadata": {},
   "outputs": [
    {
     "data": {
      "text/html": [
       "<div>\n",
       "<style scoped>\n",
       "    .dataframe tbody tr th:only-of-type {\n",
       "        vertical-align: middle;\n",
       "    }\n",
       "\n",
       "    .dataframe tbody tr th {\n",
       "        vertical-align: top;\n",
       "    }\n",
       "\n",
       "    .dataframe thead th {\n",
       "        text-align: right;\n",
       "    }\n",
       "</style>\n",
       "<table border=\"1\" class=\"dataframe\">\n",
       "  <thead>\n",
       "    <tr style=\"text-align: right;\">\n",
       "      <th></th>\n",
       "      <th>지역</th>\n",
       "      <th>출생아 수(천명)</th>\n",
       "      <th>조출생률</th>\n",
       "      <th>합계출산율</th>\n",
       "      <th>거주인구(2021년 주민등록 인구)</th>\n",
       "    </tr>\n",
       "  </thead>\n",
       "  <tbody>\n",
       "    <tr>\n",
       "      <th>0</th>\n",
       "      <td>서울</td>\n",
       "      <td>47.4</td>\n",
       "      <td>5.0</td>\n",
       "      <td>0.64</td>\n",
       "      <td>9588711</td>\n",
       "    </tr>\n",
       "    <tr>\n",
       "      <th>1</th>\n",
       "      <td>부산</td>\n",
       "      <td>15.1</td>\n",
       "      <td>4.5</td>\n",
       "      <td>0.75</td>\n",
       "      <td>3369704</td>\n",
       "    </tr>\n",
       "    <tr>\n",
       "      <th>2</th>\n",
       "      <td>대구</td>\n",
       "      <td>11.2</td>\n",
       "      <td>4.6</td>\n",
       "      <td>0.81</td>\n",
       "      <td>2406296</td>\n",
       "    </tr>\n",
       "    <tr>\n",
       "      <th>3</th>\n",
       "      <td>대전</td>\n",
       "      <td>7.5</td>\n",
       "      <td>5.1</td>\n",
       "      <td>0.81</td>\n",
       "      <td>1457619</td>\n",
       "    </tr>\n",
       "    <tr>\n",
       "      <th>4</th>\n",
       "      <td>광주</td>\n",
       "      <td>7.3</td>\n",
       "      <td>5.1</td>\n",
       "      <td>0.81</td>\n",
       "      <td>1444787</td>\n",
       "    </tr>\n",
       "    <tr>\n",
       "      <th>5</th>\n",
       "      <td>인천</td>\n",
       "      <td>16.0</td>\n",
       "      <td>5.5</td>\n",
       "      <td>0.83</td>\n",
       "      <td>2936214</td>\n",
       "    </tr>\n",
       "    <tr>\n",
       "      <th>6</th>\n",
       "      <td>경기도</td>\n",
       "      <td>77.8</td>\n",
       "      <td>5.9</td>\n",
       "      <td>0.88</td>\n",
       "      <td>13479798</td>\n",
       "    </tr>\n",
       "    <tr>\n",
       "      <th>7</th>\n",
       "      <td>전라북도</td>\n",
       "      <td>8.2</td>\n",
       "      <td>4.5</td>\n",
       "      <td>0.91</td>\n",
       "      <td>1796331</td>\n",
       "    </tr>\n",
       "    <tr>\n",
       "      <th>8</th>\n",
       "      <td>경상남도</td>\n",
       "      <td>16.8</td>\n",
       "      <td>5.1</td>\n",
       "      <td>0.95</td>\n",
       "      <td>3329623</td>\n",
       "    </tr>\n",
       "    <tr>\n",
       "      <th>9</th>\n",
       "      <td>충청북도</td>\n",
       "      <td>8.6</td>\n",
       "      <td>5.4</td>\n",
       "      <td>0.98</td>\n",
       "      <td>1596303</td>\n",
       "    </tr>\n",
       "    <tr>\n",
       "      <th>10</th>\n",
       "      <td>울산</td>\n",
       "      <td>6.6</td>\n",
       "      <td>5.8</td>\n",
       "      <td>0.99</td>\n",
       "      <td>1128163</td>\n",
       "    </tr>\n",
       "    <tr>\n",
       "      <th>11</th>\n",
       "      <td>경상북도</td>\n",
       "      <td>12.9</td>\n",
       "      <td>4.9</td>\n",
       "      <td>1.00</td>\n",
       "      <td>2635896</td>\n",
       "    </tr>\n",
       "    <tr>\n",
       "      <th>12</th>\n",
       "      <td>제주도</td>\n",
       "      <td>4.0</td>\n",
       "      <td>6.0</td>\n",
       "      <td>1.02</td>\n",
       "      <td>674484</td>\n",
       "    </tr>\n",
       "    <tr>\n",
       "      <th>13</th>\n",
       "      <td>충청남도</td>\n",
       "      <td>11.9</td>\n",
       "      <td>5.7</td>\n",
       "      <td>1.03</td>\n",
       "      <td>2116452</td>\n",
       "    </tr>\n",
       "    <tr>\n",
       "      <th>14</th>\n",
       "      <td>강원도</td>\n",
       "      <td>7.8</td>\n",
       "      <td>5.1</td>\n",
       "      <td>1.04</td>\n",
       "      <td>1536175</td>\n",
       "    </tr>\n",
       "    <tr>\n",
       "      <th>15</th>\n",
       "      <td>전라남도</td>\n",
       "      <td>9.7</td>\n",
       "      <td>5.3</td>\n",
       "      <td>1.15</td>\n",
       "      <td>1844148</td>\n",
       "    </tr>\n",
       "    <tr>\n",
       "      <th>16</th>\n",
       "      <td>세종</td>\n",
       "      <td>3.5</td>\n",
       "      <td>10.0</td>\n",
       "      <td>1.28</td>\n",
       "      <td>361396</td>\n",
       "    </tr>\n",
       "    <tr>\n",
       "      <th>17</th>\n",
       "      <td>대한민국(전체)</td>\n",
       "      <td>272.4</td>\n",
       "      <td>5.3</td>\n",
       "      <td>0.84</td>\n",
       "      <td>51702100</td>\n",
       "    </tr>\n",
       "  </tbody>\n",
       "</table>\n",
       "</div>"
      ],
      "text/plain": [
       "          지역  출생아 수(천명)  조출생률  합계출산율  거주인구(2021년 주민등록 인구)\n",
       "0         서울       47.4   5.0   0.64              9588711\n",
       "1         부산       15.1   4.5   0.75              3369704\n",
       "2         대구       11.2   4.6   0.81              2406296\n",
       "3         대전        7.5   5.1   0.81              1457619\n",
       "4         광주        7.3   5.1   0.81              1444787\n",
       "5         인천       16.0   5.5   0.83              2936214\n",
       "6        경기도       77.8   5.9   0.88             13479798\n",
       "7       전라북도        8.2   4.5   0.91              1796331\n",
       "8       경상남도       16.8   5.1   0.95              3329623\n",
       "9       충청북도        8.6   5.4   0.98              1596303\n",
       "10        울산        6.6   5.8   0.99              1128163\n",
       "11      경상북도       12.9   4.9   1.00              2635896\n",
       "12       제주도        4.0   6.0   1.02               674484\n",
       "13      충청남도       11.9   5.7   1.03              2116452\n",
       "14       강원도        7.8   5.1   1.04              1536175\n",
       "15      전라남도        9.7   5.3   1.15              1844148\n",
       "16        세종        3.5  10.0   1.28               361396\n",
       "17  대한민국(전체)      272.4   5.3   0.84             51702100"
      ]
     },
     "execution_count": 2,
     "metadata": {},
     "output_type": "execute_result"
    }
   ],
   "source": [
    "df1=pd.read_html('https://ko.wikipedia.org/wiki/%EB%8C%80%ED%95%9C%EB%AF%BC%EA%B5%AD%EC%9D%98_%EC%9D%B8%EA%B5%AC')[17]\n",
    "df1"
   ]
  },
  {
   "cell_type": "code",
   "execution_count": 3,
   "id": "225ccee5",
   "metadata": {},
   "outputs": [
    {
     "data": {
      "text/plain": [
       "0           서울\n",
       "1           부산\n",
       "2           대구\n",
       "3           대전\n",
       "4           광주\n",
       "5           인천\n",
       "6          경기도\n",
       "7         전라북도\n",
       "8         경상남도\n",
       "9         충청북도\n",
       "10          울산\n",
       "11        경상북도\n",
       "12         제주도\n",
       "13        충청남도\n",
       "14         강원도\n",
       "15        전라남도\n",
       "16          세종\n",
       "17    대한민국(전체)\n",
       "Name: 지역, dtype: object"
      ]
     },
     "execution_count": 3,
     "metadata": {},
     "output_type": "execute_result"
    }
   ],
   "source": [
    "df1['지역']"
   ]
  },
  {
   "cell_type": "code",
   "execution_count": 4,
   "id": "3b37134f",
   "metadata": {},
   "outputs": [],
   "source": [
    "df1['province']=['Seoul','Busan','Daegu','Daejeon','Gwangju','Incheon','Gyeonggi-do','Jeollabuk-do',\n",
    " 'Gyeongsangnam-do','Chungcheongbuk-do','Ulsan','Gyeongsangbuk-do','Jeju-do','Chungcheongnam-do',\n",
    " 'Gangwon-do','Jeollanam-do','Sejongsi','Total']"
   ]
  },
  {
   "cell_type": "code",
   "execution_count": 5,
   "id": "3ea14dab",
   "metadata": {},
   "outputs": [
    {
     "data": {
      "text/html": [
       "<div>\n",
       "<style scoped>\n",
       "    .dataframe tbody tr th:only-of-type {\n",
       "        vertical-align: middle;\n",
       "    }\n",
       "\n",
       "    .dataframe tbody tr th {\n",
       "        vertical-align: top;\n",
       "    }\n",
       "\n",
       "    .dataframe thead th {\n",
       "        text-align: right;\n",
       "    }\n",
       "</style>\n",
       "<table border=\"1\" class=\"dataframe\">\n",
       "  <thead>\n",
       "    <tr style=\"text-align: right;\">\n",
       "      <th></th>\n",
       "      <th>birth</th>\n",
       "    </tr>\n",
       "    <tr>\n",
       "      <th>province</th>\n",
       "      <th></th>\n",
       "    </tr>\n",
       "  </thead>\n",
       "  <tbody>\n",
       "    <tr>\n",
       "      <th>Seoul</th>\n",
       "      <td>47.4</td>\n",
       "    </tr>\n",
       "    <tr>\n",
       "      <th>Busan</th>\n",
       "      <td>15.1</td>\n",
       "    </tr>\n",
       "    <tr>\n",
       "      <th>Daegu</th>\n",
       "      <td>11.2</td>\n",
       "    </tr>\n",
       "    <tr>\n",
       "      <th>Daejeon</th>\n",
       "      <td>7.5</td>\n",
       "    </tr>\n",
       "    <tr>\n",
       "      <th>Gwangju</th>\n",
       "      <td>7.3</td>\n",
       "    </tr>\n",
       "    <tr>\n",
       "      <th>Incheon</th>\n",
       "      <td>16.0</td>\n",
       "    </tr>\n",
       "    <tr>\n",
       "      <th>Gyeonggi-do</th>\n",
       "      <td>77.8</td>\n",
       "    </tr>\n",
       "    <tr>\n",
       "      <th>Jeollabuk-do</th>\n",
       "      <td>8.2</td>\n",
       "    </tr>\n",
       "    <tr>\n",
       "      <th>Gyeongsangnam-do</th>\n",
       "      <td>16.8</td>\n",
       "    </tr>\n",
       "    <tr>\n",
       "      <th>Chungcheongbuk-do</th>\n",
       "      <td>8.6</td>\n",
       "    </tr>\n",
       "    <tr>\n",
       "      <th>Ulsan</th>\n",
       "      <td>6.6</td>\n",
       "    </tr>\n",
       "    <tr>\n",
       "      <th>Gyeongsangbuk-do</th>\n",
       "      <td>12.9</td>\n",
       "    </tr>\n",
       "    <tr>\n",
       "      <th>Jeju-do</th>\n",
       "      <td>4.0</td>\n",
       "    </tr>\n",
       "    <tr>\n",
       "      <th>Chungcheongnam-do</th>\n",
       "      <td>11.9</td>\n",
       "    </tr>\n",
       "    <tr>\n",
       "      <th>Gangwon-do</th>\n",
       "      <td>7.8</td>\n",
       "    </tr>\n",
       "    <tr>\n",
       "      <th>Jeollanam-do</th>\n",
       "      <td>9.7</td>\n",
       "    </tr>\n",
       "    <tr>\n",
       "      <th>Sejongsi</th>\n",
       "      <td>3.5</td>\n",
       "    </tr>\n",
       "  </tbody>\n",
       "</table>\n",
       "</div>"
      ],
      "text/plain": [
       "                   birth\n",
       "province                \n",
       "Seoul               47.4\n",
       "Busan               15.1\n",
       "Daegu               11.2\n",
       "Daejeon              7.5\n",
       "Gwangju              7.3\n",
       "Incheon             16.0\n",
       "Gyeonggi-do         77.8\n",
       "Jeollabuk-do         8.2\n",
       "Gyeongsangnam-do    16.8\n",
       "Chungcheongbuk-do    8.6\n",
       "Ulsan                6.6\n",
       "Gyeongsangbuk-do    12.9\n",
       "Jeju-do              4.0\n",
       "Chungcheongnam-do   11.9\n",
       "Gangwon-do           7.8\n",
       "Jeollanam-do         9.7\n",
       "Sejongsi             3.5"
      ]
     },
     "execution_count": 5,
     "metadata": {},
     "output_type": "execute_result"
    }
   ],
   "source": [
    "df1.iloc[:17,:].iloc[:,[1,5]].rename(columns={'출생아 수(천명)':'birth'}).set_index('province')"
   ]
  },
  {
   "cell_type": "code",
   "execution_count": 6,
   "id": "6e3da468",
   "metadata": {},
   "outputs": [
    {
     "data": {
      "text/plain": [
       "<AxesSubplot:ylabel='birth'>"
      ]
     },
     "execution_count": 6,
     "metadata": {},
     "output_type": "execute_result"
    },
    {
     "data": {
      "image/png": "[encoded data removed]",
      "text/plain": [
       "<Figure size 432x288 with 1 Axes>"
      ]
     },
     "metadata": {},
     "output_type": "display_data"
    }
   ],
   "source": [
    "df1.iloc[:17,:].iloc[:,[1,5]].rename(columns={'출생아 수(천명)':'birth'}).set_index('province').\\\n",
    "plot.pie(y='birth',legend=False)"
   ]
  },
  {
   "cell_type": "markdown",
   "id": "aa15a257",
   "metadata": {},
   "source": [
    "`(2)` 아래는 \"2001-2019 지역별 합계출산율\"을 정리한 데이터이다. (1)의 데이터프레임과 결합하여 \"2001-2020 지역별 합계출산율\" 데이터를 만들고 lineplot을 이용하여 시각화하라. (x축은 년도, y축은 합계출산율, 지역은 색깔로 구분하여 시각화할 것)"
   ]
  },
  {
   "cell_type": "code",
   "execution_count": 7,
   "id": "8678ac33",
   "metadata": {},
   "outputs": [
    {
     "data": {
      "text/html": [
       "<div>\n",
       "<style scoped>\n",
       "    .dataframe tbody tr th:only-of-type {\n",
       "        vertical-align: middle;\n",
       "    }\n",
       "\n",
       "    .dataframe tbody tr th {\n",
       "        vertical-align: top;\n",
       "    }\n",
       "\n",
       "    .dataframe thead th {\n",
       "        text-align: right;\n",
       "    }\n",
       "</style>\n",
       "<table border=\"1\" class=\"dataframe\">\n",
       "  <thead>\n",
       "    <tr style=\"text-align: right;\">\n",
       "      <th></th>\n",
       "      <th>Unnamed: 0</th>\n",
       "      <th>2019</th>\n",
       "      <th>2018</th>\n",
       "      <th>2017</th>\n",
       "      <th>2016</th>\n",
       "      <th>2015</th>\n",
       "      <th>2014</th>\n",
       "      <th>2013</th>\n",
       "      <th>2012</th>\n",
       "      <th>2011</th>\n",
       "      <th>2010</th>\n",
       "      <th>2009</th>\n",
       "      <th>2008</th>\n",
       "      <th>2007</th>\n",
       "      <th>2006</th>\n",
       "      <th>2005</th>\n",
       "      <th>2004</th>\n",
       "      <th>2003</th>\n",
       "      <th>2002</th>\n",
       "      <th>2001</th>\n",
       "    </tr>\n",
       "  </thead>\n",
       "  <tbody>\n",
       "    <tr>\n",
       "      <th>0</th>\n",
       "      <td>전국</td>\n",
       "      <td>0.918</td>\n",
       "      <td>0.977</td>\n",
       "      <td>1.052</td>\n",
       "      <td>1.172</td>\n",
       "      <td>1.239</td>\n",
       "      <td>1.205</td>\n",
       "      <td>1.187</td>\n",
       "      <td>1.297</td>\n",
       "      <td>1.244</td>\n",
       "      <td>1.226</td>\n",
       "      <td>1.149</td>\n",
       "      <td>1.192</td>\n",
       "      <td>1.259</td>\n",
       "      <td>1.132</td>\n",
       "      <td>1.085</td>\n",
       "      <td>1.164</td>\n",
       "      <td>1.191</td>\n",
       "      <td>1.178</td>\n",
       "      <td>1.309</td>\n",
       "    </tr>\n",
       "    <tr>\n",
       "      <th>1</th>\n",
       "      <td>서울특별시</td>\n",
       "      <td>0.717</td>\n",
       "      <td>0.761</td>\n",
       "      <td>0.836</td>\n",
       "      <td>0.940</td>\n",
       "      <td>1.001</td>\n",
       "      <td>0.983</td>\n",
       "      <td>0.968</td>\n",
       "      <td>1.059</td>\n",
       "      <td>1.014</td>\n",
       "      <td>1.015</td>\n",
       "      <td>0.962</td>\n",
       "      <td>1.010</td>\n",
       "      <td>1.068</td>\n",
       "      <td>0.980</td>\n",
       "      <td>0.932</td>\n",
       "      <td>1.015</td>\n",
       "      <td>1.014</td>\n",
       "      <td>1.006</td>\n",
       "      <td>1.111</td>\n",
       "    </tr>\n",
       "    <tr>\n",
       "      <th>2</th>\n",
       "      <td>부산광역시</td>\n",
       "      <td>0.827</td>\n",
       "      <td>0.899</td>\n",
       "      <td>0.976</td>\n",
       "      <td>1.095</td>\n",
       "      <td>1.139</td>\n",
       "      <td>1.090</td>\n",
       "      <td>1.049</td>\n",
       "      <td>1.135</td>\n",
       "      <td>1.078</td>\n",
       "      <td>1.045</td>\n",
       "      <td>0.940</td>\n",
       "      <td>0.980</td>\n",
       "      <td>1.024</td>\n",
       "      <td>0.915</td>\n",
       "      <td>0.887</td>\n",
       "      <td>0.953</td>\n",
       "      <td>0.988</td>\n",
       "      <td>0.975</td>\n",
       "      <td>1.103</td>\n",
       "    </tr>\n",
       "    <tr>\n",
       "      <th>3</th>\n",
       "      <td>대구광역시</td>\n",
       "      <td>0.932</td>\n",
       "      <td>0.987</td>\n",
       "      <td>1.067</td>\n",
       "      <td>1.186</td>\n",
       "      <td>1.216</td>\n",
       "      <td>1.169</td>\n",
       "      <td>1.127</td>\n",
       "      <td>1.217</td>\n",
       "      <td>1.146</td>\n",
       "      <td>1.109</td>\n",
       "      <td>1.029</td>\n",
       "      <td>1.072</td>\n",
       "      <td>1.137</td>\n",
       "      <td>1.011</td>\n",
       "      <td>1.001</td>\n",
       "      <td>1.087</td>\n",
       "      <td>1.116</td>\n",
       "      <td>1.076</td>\n",
       "      <td>1.216</td>\n",
       "    </tr>\n",
       "    <tr>\n",
       "      <th>4</th>\n",
       "      <td>인천광역시</td>\n",
       "      <td>0.940</td>\n",
       "      <td>1.006</td>\n",
       "      <td>1.007</td>\n",
       "      <td>1.144</td>\n",
       "      <td>1.216</td>\n",
       "      <td>1.212</td>\n",
       "      <td>1.195</td>\n",
       "      <td>1.301</td>\n",
       "      <td>1.232</td>\n",
       "      <td>1.214</td>\n",
       "      <td>1.143</td>\n",
       "      <td>1.186</td>\n",
       "      <td>1.257</td>\n",
       "      <td>1.116</td>\n",
       "      <td>1.075</td>\n",
       "      <td>1.158</td>\n",
       "      <td>1.213</td>\n",
       "      <td>1.185</td>\n",
       "      <td>1.324</td>\n",
       "    </tr>\n",
       "    <tr>\n",
       "      <th>5</th>\n",
       "      <td>광주광역시</td>\n",
       "      <td>0.913</td>\n",
       "      <td>0.972</td>\n",
       "      <td>1.053</td>\n",
       "      <td>1.168</td>\n",
       "      <td>1.207</td>\n",
       "      <td>1.199</td>\n",
       "      <td>1.170</td>\n",
       "      <td>1.295</td>\n",
       "      <td>1.234</td>\n",
       "      <td>1.223</td>\n",
       "      <td>1.137</td>\n",
       "      <td>1.198</td>\n",
       "      <td>1.262</td>\n",
       "      <td>1.152</td>\n",
       "      <td>1.105</td>\n",
       "      <td>1.203</td>\n",
       "      <td>1.278</td>\n",
       "      <td>1.264</td>\n",
       "      <td>1.421</td>\n",
       "    </tr>\n",
       "    <tr>\n",
       "      <th>6</th>\n",
       "      <td>대전광역시</td>\n",
       "      <td>0.883</td>\n",
       "      <td>0.952</td>\n",
       "      <td>1.075</td>\n",
       "      <td>1.192</td>\n",
       "      <td>1.277</td>\n",
       "      <td>1.250</td>\n",
       "      <td>1.234</td>\n",
       "      <td>1.315</td>\n",
       "      <td>1.261</td>\n",
       "      <td>1.205</td>\n",
       "      <td>1.156</td>\n",
       "      <td>1.215</td>\n",
       "      <td>1.274</td>\n",
       "      <td>1.158</td>\n",
       "      <td>1.107</td>\n",
       "      <td>1.181</td>\n",
       "      <td>1.221</td>\n",
       "      <td>1.207</td>\n",
       "      <td>1.330</td>\n",
       "    </tr>\n",
       "    <tr>\n",
       "      <th>7</th>\n",
       "      <td>울산광역시</td>\n",
       "      <td>1.084</td>\n",
       "      <td>1.131</td>\n",
       "      <td>1.261</td>\n",
       "      <td>1.418</td>\n",
       "      <td>1.486</td>\n",
       "      <td>1.437</td>\n",
       "      <td>1.391</td>\n",
       "      <td>1.481</td>\n",
       "      <td>1.393</td>\n",
       "      <td>1.369</td>\n",
       "      <td>1.308</td>\n",
       "      <td>1.338</td>\n",
       "      <td>1.403</td>\n",
       "      <td>1.242</td>\n",
       "      <td>1.186</td>\n",
       "      <td>1.241</td>\n",
       "      <td>1.280</td>\n",
       "      <td>1.242</td>\n",
       "      <td>1.423</td>\n",
       "    </tr>\n",
       "    <tr>\n",
       "      <th>8</th>\n",
       "      <td>세종특별자치시</td>\n",
       "      <td>1.472</td>\n",
       "      <td>1.566</td>\n",
       "      <td>1.668</td>\n",
       "      <td>1.821</td>\n",
       "      <td>1.893</td>\n",
       "      <td>1.354</td>\n",
       "      <td>1.435</td>\n",
       "      <td>1.597</td>\n",
       "      <td>-</td>\n",
       "      <td>-</td>\n",
       "      <td>-</td>\n",
       "      <td>-</td>\n",
       "      <td>-</td>\n",
       "      <td>-</td>\n",
       "      <td>-</td>\n",
       "      <td>-</td>\n",
       "      <td>-</td>\n",
       "      <td>-</td>\n",
       "      <td>-</td>\n",
       "    </tr>\n",
       "    <tr>\n",
       "      <th>9</th>\n",
       "      <td>경기도</td>\n",
       "      <td>0.943</td>\n",
       "      <td>1.002</td>\n",
       "      <td>1.069</td>\n",
       "      <td>1.194</td>\n",
       "      <td>1.272</td>\n",
       "      <td>1.241</td>\n",
       "      <td>1.226</td>\n",
       "      <td>1.355</td>\n",
       "      <td>1.314</td>\n",
       "      <td>1.309</td>\n",
       "      <td>1.226</td>\n",
       "      <td>1.285</td>\n",
       "      <td>1.361</td>\n",
       "      <td>1.239</td>\n",
       "      <td>1.183</td>\n",
       "      <td>1.280</td>\n",
       "      <td>1.321</td>\n",
       "      <td>1.305</td>\n",
       "      <td>1.437</td>\n",
       "    </tr>\n",
       "    <tr>\n",
       "      <th>10</th>\n",
       "      <td>강원도</td>\n",
       "      <td>1.082</td>\n",
       "      <td>1.067</td>\n",
       "      <td>1.123</td>\n",
       "      <td>1.237</td>\n",
       "      <td>1.311</td>\n",
       "      <td>1.248</td>\n",
       "      <td>1.249</td>\n",
       "      <td>1.374</td>\n",
       "      <td>1.338</td>\n",
       "      <td>1.313</td>\n",
       "      <td>1.248</td>\n",
       "      <td>1.253</td>\n",
       "      <td>1.356</td>\n",
       "      <td>1.202</td>\n",
       "      <td>1.188</td>\n",
       "      <td>1.261</td>\n",
       "      <td>1.279</td>\n",
       "      <td>1.317</td>\n",
       "      <td>1.413</td>\n",
       "    </tr>\n",
       "    <tr>\n",
       "      <th>11</th>\n",
       "      <td>충청북도</td>\n",
       "      <td>1.050</td>\n",
       "      <td>1.172</td>\n",
       "      <td>1.235</td>\n",
       "      <td>1.358</td>\n",
       "      <td>1.414</td>\n",
       "      <td>1.363</td>\n",
       "      <td>1.365</td>\n",
       "      <td>1.485</td>\n",
       "      <td>1.428</td>\n",
       "      <td>1.402</td>\n",
       "      <td>1.317</td>\n",
       "      <td>1.319</td>\n",
       "      <td>1.398</td>\n",
       "      <td>1.233</td>\n",
       "      <td>1.195</td>\n",
       "      <td>1.272</td>\n",
       "      <td>1.270</td>\n",
       "      <td>1.294</td>\n",
       "      <td>1.426</td>\n",
       "    </tr>\n",
       "    <tr>\n",
       "      <th>12</th>\n",
       "      <td>충청남도</td>\n",
       "      <td>1.112</td>\n",
       "      <td>1.186</td>\n",
       "      <td>1.276</td>\n",
       "      <td>1.395</td>\n",
       "      <td>1.480</td>\n",
       "      <td>1.421</td>\n",
       "      <td>1.442</td>\n",
       "      <td>1.571</td>\n",
       "      <td>1.496</td>\n",
       "      <td>1.479</td>\n",
       "      <td>1.408</td>\n",
       "      <td>1.444</td>\n",
       "      <td>1.506</td>\n",
       "      <td>1.356</td>\n",
       "      <td>1.267</td>\n",
       "      <td>1.357</td>\n",
       "      <td>1.358</td>\n",
       "      <td>1.361</td>\n",
       "      <td>1.532</td>\n",
       "    </tr>\n",
       "    <tr>\n",
       "      <th>13</th>\n",
       "      <td>전라북도</td>\n",
       "      <td>0.971</td>\n",
       "      <td>1.044</td>\n",
       "      <td>1.151</td>\n",
       "      <td>1.251</td>\n",
       "      <td>1.352</td>\n",
       "      <td>1.329</td>\n",
       "      <td>1.320</td>\n",
       "      <td>1.440</td>\n",
       "      <td>1.405</td>\n",
       "      <td>1.374</td>\n",
       "      <td>1.279</td>\n",
       "      <td>1.305</td>\n",
       "      <td>1.380</td>\n",
       "      <td>1.213</td>\n",
       "      <td>1.184</td>\n",
       "      <td>1.239</td>\n",
       "      <td>1.274</td>\n",
       "      <td>1.275</td>\n",
       "      <td>1.426</td>\n",
       "    </tr>\n",
       "    <tr>\n",
       "      <th>14</th>\n",
       "      <td>전라남도</td>\n",
       "      <td>1.234</td>\n",
       "      <td>1.240</td>\n",
       "      <td>1.325</td>\n",
       "      <td>1.466</td>\n",
       "      <td>1.549</td>\n",
       "      <td>1.497</td>\n",
       "      <td>1.518</td>\n",
       "      <td>1.642</td>\n",
       "      <td>1.568</td>\n",
       "      <td>1.537</td>\n",
       "      <td>1.445</td>\n",
       "      <td>1.449</td>\n",
       "      <td>1.542</td>\n",
       "      <td>1.337</td>\n",
       "      <td>1.290</td>\n",
       "      <td>1.360</td>\n",
       "      <td>1.389</td>\n",
       "      <td>1.391</td>\n",
       "      <td>1.566</td>\n",
       "    </tr>\n",
       "    <tr>\n",
       "      <th>15</th>\n",
       "      <td>경상북도</td>\n",
       "      <td>1.089</td>\n",
       "      <td>1.167</td>\n",
       "      <td>1.256</td>\n",
       "      <td>1.396</td>\n",
       "      <td>1.464</td>\n",
       "      <td>1.408</td>\n",
       "      <td>1.379</td>\n",
       "      <td>1.489</td>\n",
       "      <td>1.434</td>\n",
       "      <td>1.377</td>\n",
       "      <td>1.274</td>\n",
       "      <td>1.313</td>\n",
       "      <td>1.369</td>\n",
       "      <td>1.208</td>\n",
       "      <td>1.173</td>\n",
       "      <td>1.203</td>\n",
       "      <td>1.253</td>\n",
       "      <td>1.232</td>\n",
       "      <td>1.402</td>\n",
       "    </tr>\n",
       "    <tr>\n",
       "      <th>16</th>\n",
       "      <td>경상남도</td>\n",
       "      <td>1.046</td>\n",
       "      <td>1.122</td>\n",
       "      <td>1.227</td>\n",
       "      <td>1.358</td>\n",
       "      <td>1.437</td>\n",
       "      <td>1.409</td>\n",
       "      <td>1.367</td>\n",
       "      <td>1.503</td>\n",
       "      <td>1.446</td>\n",
       "      <td>1.413</td>\n",
       "      <td>1.323</td>\n",
       "      <td>1.368</td>\n",
       "      <td>1.434</td>\n",
       "      <td>1.254</td>\n",
       "      <td>1.189</td>\n",
       "      <td>1.266</td>\n",
       "      <td>1.290</td>\n",
       "      <td>1.272</td>\n",
       "      <td>1.417</td>\n",
       "    </tr>\n",
       "    <tr>\n",
       "      <th>17</th>\n",
       "      <td>제주특별자치도</td>\n",
       "      <td>1.145</td>\n",
       "      <td>1.220</td>\n",
       "      <td>1.305</td>\n",
       "      <td>1.432</td>\n",
       "      <td>1.477</td>\n",
       "      <td>1.481</td>\n",
       "      <td>1.427</td>\n",
       "      <td>1.598</td>\n",
       "      <td>1.487</td>\n",
       "      <td>1.463</td>\n",
       "      <td>1.378</td>\n",
       "      <td>1.386</td>\n",
       "      <td>1.489</td>\n",
       "      <td>1.372</td>\n",
       "      <td>1.310</td>\n",
       "      <td>1.365</td>\n",
       "      <td>1.438</td>\n",
       "      <td>1.394</td>\n",
       "      <td>1.564</td>\n",
       "    </tr>\n",
       "  </tbody>\n",
       "</table>\n",
       "</div>"
      ],
      "text/plain": [
       "   Unnamed: 0   2019   2018   2017   2016   2015   2014   2013   2012   2011  \\\n",
       "0          전국  0.918  0.977  1.052  1.172  1.239  1.205  1.187  1.297  1.244   \n",
       "1       서울특별시  0.717  0.761  0.836  0.940  1.001  0.983  0.968  1.059  1.014   \n",
       "2       부산광역시  0.827  0.899  0.976  1.095  1.139  1.090  1.049  1.135  1.078   \n",
       "3       대구광역시  0.932  0.987  1.067  1.186  1.216  1.169  1.127  1.217  1.146   \n",
       "4       인천광역시  0.940  1.006  1.007  1.144  1.216  1.212  1.195  1.301  1.232   \n",
       "5       광주광역시  0.913  0.972  1.053  1.168  1.207  1.199  1.170  1.295  1.234   \n",
       "6       대전광역시  0.883  0.952  1.075  1.192  1.277  1.250  1.234  1.315  1.261   \n",
       "7       울산광역시  1.084  1.131  1.261  1.418  1.486  1.437  1.391  1.481  1.393   \n",
       "8     세종특별자치시  1.472  1.566  1.668  1.821  1.893  1.354  1.435  1.597      -   \n",
       "9         경기도  0.943  1.002  1.069  1.194  1.272  1.241  1.226  1.355  1.314   \n",
       "10        강원도  1.082  1.067  1.123  1.237  1.311  1.248  1.249  1.374  1.338   \n",
       "11       충청북도  1.050  1.172  1.235  1.358  1.414  1.363  1.365  1.485  1.428   \n",
       "12       충청남도  1.112  1.186  1.276  1.395  1.480  1.421  1.442  1.571  1.496   \n",
       "13       전라북도  0.971  1.044  1.151  1.251  1.352  1.329  1.320  1.440  1.405   \n",
       "14       전라남도  1.234  1.240  1.325  1.466  1.549  1.497  1.518  1.642  1.568   \n",
       "15       경상북도  1.089  1.167  1.256  1.396  1.464  1.408  1.379  1.489  1.434   \n",
       "16       경상남도  1.046  1.122  1.227  1.358  1.437  1.409  1.367  1.503  1.446   \n",
       "17    제주특별자치도  1.145  1.220  1.305  1.432  1.477  1.481  1.427  1.598  1.487   \n",
       "\n",
       "     2010   2009   2008   2007   2006   2005   2004   2003   2002   2001  \n",
       "0   1.226  1.149  1.192  1.259  1.132  1.085  1.164  1.191  1.178  1.309  \n",
       "1   1.015  0.962  1.010  1.068  0.980  0.932  1.015  1.014  1.006  1.111  \n",
       "2   1.045  0.940  0.980  1.024  0.915  0.887  0.953  0.988  0.975  1.103  \n",
       "3   1.109  1.029  1.072  1.137  1.011  1.001  1.087  1.116  1.076  1.216  \n",
       "4   1.214  1.143  1.186  1.257  1.116  1.075  1.158  1.213  1.185  1.324  \n",
       "5   1.223  1.137  1.198  1.262  1.152  1.105  1.203  1.278  1.264  1.421  \n",
       "6   1.205  1.156  1.215  1.274  1.158  1.107  1.181  1.221  1.207  1.330  \n",
       "7   1.369  1.308  1.338  1.403  1.242  1.186  1.241  1.280  1.242  1.423  \n",
       "8       -      -      -      -      -      -      -      -      -      -  \n",
       "9   1.309  1.226  1.285  1.361  1.239  1.183  1.280  1.321  1.305  1.437  \n",
       "10  1.313  1.248  1.253  1.356  1.202  1.188  1.261  1.279  1.317  1.413  \n",
       "11  1.402  1.317  1.319  1.398  1.233  1.195  1.272  1.270  1.294  1.426  \n",
       "12  1.479  1.408  1.444  1.506  1.356  1.267  1.357  1.358  1.361  1.532  \n",
       "13  1.374  1.279  1.305  1.380  1.213  1.184  1.239  1.274  1.275  1.426  \n",
       "14  1.537  1.445  1.449  1.542  1.337  1.290  1.360  1.389  1.391  1.566  \n",
       "15  1.377  1.274  1.313  1.369  1.208  1.173  1.203  1.253  1.232  1.402  \n",
       "16  1.413  1.323  1.368  1.434  1.254  1.189  1.266  1.290  1.272  1.417  \n",
       "17  1.463  1.378  1.386  1.489  1.372  1.310  1.365  1.438  1.394  1.564  "
      ]
     },
     "execution_count": 7,
     "metadata": {},
     "output_type": "execute_result"
    }
   ],
   "source": [
    "df2=pd.read_html('https://ko.wikipedia.org/wiki/%EB%8C%80%ED%95%9C%EB%AF%BC%EA%B5%AD%EC%9D%98_%EC%9D%B8%EA%B5%AC')[18]\n",
    "df2"
   ]
  },
  {
   "cell_type": "code",
   "execution_count": 8,
   "id": "ba1701d0",
   "metadata": {},
   "outputs": [
    {
     "data": {
      "text/html": [
       "<div>\n",
       "<style scoped>\n",
       "    .dataframe tbody tr th:only-of-type {\n",
       "        vertical-align: middle;\n",
       "    }\n",
       "\n",
       "    .dataframe tbody tr th {\n",
       "        vertical-align: top;\n",
       "    }\n",
       "\n",
       "    .dataframe thead th {\n",
       "        text-align: right;\n",
       "    }\n",
       "</style>\n",
       "<table border=\"1\" class=\"dataframe\">\n",
       "  <thead>\n",
       "    <tr style=\"text-align: right;\">\n",
       "      <th></th>\n",
       "      <th>지역</th>\n",
       "      <th>2020</th>\n",
       "    </tr>\n",
       "  </thead>\n",
       "  <tbody>\n",
       "    <tr>\n",
       "      <th>0</th>\n",
       "      <td>강원도</td>\n",
       "      <td>1.04</td>\n",
       "    </tr>\n",
       "    <tr>\n",
       "      <th>1</th>\n",
       "      <td>경기도</td>\n",
       "      <td>0.88</td>\n",
       "    </tr>\n",
       "    <tr>\n",
       "      <th>2</th>\n",
       "      <td>경상남도</td>\n",
       "      <td>0.95</td>\n",
       "    </tr>\n",
       "    <tr>\n",
       "      <th>3</th>\n",
       "      <td>경상북도</td>\n",
       "      <td>1.00</td>\n",
       "    </tr>\n",
       "    <tr>\n",
       "      <th>4</th>\n",
       "      <td>광주</td>\n",
       "      <td>0.81</td>\n",
       "    </tr>\n",
       "    <tr>\n",
       "      <th>5</th>\n",
       "      <td>대구</td>\n",
       "      <td>0.81</td>\n",
       "    </tr>\n",
       "    <tr>\n",
       "      <th>6</th>\n",
       "      <td>대전</td>\n",
       "      <td>0.81</td>\n",
       "    </tr>\n",
       "    <tr>\n",
       "      <th>7</th>\n",
       "      <td>부산</td>\n",
       "      <td>0.75</td>\n",
       "    </tr>\n",
       "    <tr>\n",
       "      <th>8</th>\n",
       "      <td>서울</td>\n",
       "      <td>0.64</td>\n",
       "    </tr>\n",
       "    <tr>\n",
       "      <th>9</th>\n",
       "      <td>세종</td>\n",
       "      <td>1.28</td>\n",
       "    </tr>\n",
       "    <tr>\n",
       "      <th>10</th>\n",
       "      <td>울산</td>\n",
       "      <td>0.99</td>\n",
       "    </tr>\n",
       "    <tr>\n",
       "      <th>11</th>\n",
       "      <td>인천</td>\n",
       "      <td>0.83</td>\n",
       "    </tr>\n",
       "    <tr>\n",
       "      <th>12</th>\n",
       "      <td>전라남도</td>\n",
       "      <td>1.15</td>\n",
       "    </tr>\n",
       "    <tr>\n",
       "      <th>13</th>\n",
       "      <td>전라북도</td>\n",
       "      <td>0.91</td>\n",
       "    </tr>\n",
       "    <tr>\n",
       "      <th>14</th>\n",
       "      <td>제주도</td>\n",
       "      <td>1.02</td>\n",
       "    </tr>\n",
       "    <tr>\n",
       "      <th>15</th>\n",
       "      <td>충청남도</td>\n",
       "      <td>1.03</td>\n",
       "    </tr>\n",
       "    <tr>\n",
       "      <th>16</th>\n",
       "      <td>충청북도</td>\n",
       "      <td>0.98</td>\n",
       "    </tr>\n",
       "  </tbody>\n",
       "</table>\n",
       "</div>"
      ],
      "text/plain": [
       "      지역  2020\n",
       "0    강원도  1.04\n",
       "1    경기도  0.88\n",
       "2   경상남도  0.95\n",
       "3   경상북도  1.00\n",
       "4     광주  0.81\n",
       "5     대구  0.81\n",
       "6     대전  0.81\n",
       "7     부산  0.75\n",
       "8     서울  0.64\n",
       "9     세종  1.28\n",
       "10    울산  0.99\n",
       "11    인천  0.83\n",
       "12  전라남도  1.15\n",
       "13  전라북도  0.91\n",
       "14   제주도  1.02\n",
       "15  충청남도  1.03\n",
       "16  충청북도  0.98"
      ]
     },
     "execution_count": 8,
     "metadata": {},
     "output_type": "execute_result"
    }
   ],
   "source": [
    "_df1=df1.iloc[:17,:].sort_values('지역').reset_index(drop=True).iloc[:,[0,3]].rename(columns={'합계출산율':'2020'})\n",
    "_df1"
   ]
  },
  {
   "cell_type": "code",
   "execution_count": 9,
   "id": "284ef205",
   "metadata": {},
   "outputs": [
    {
     "data": {
      "text/html": [
       "<div>\n",
       "<style scoped>\n",
       "    .dataframe tbody tr th:only-of-type {\n",
       "        vertical-align: middle;\n",
       "    }\n",
       "\n",
       "    .dataframe tbody tr th {\n",
       "        vertical-align: top;\n",
       "    }\n",
       "\n",
       "    .dataframe thead th {\n",
       "        text-align: right;\n",
       "    }\n",
       "</style>\n",
       "<table border=\"1\" class=\"dataframe\">\n",
       "  <thead>\n",
       "    <tr style=\"text-align: right;\">\n",
       "      <th></th>\n",
       "      <th>지역</th>\n",
       "      <th>2019</th>\n",
       "      <th>2018</th>\n",
       "      <th>2017</th>\n",
       "      <th>2016</th>\n",
       "      <th>2015</th>\n",
       "      <th>2014</th>\n",
       "      <th>2013</th>\n",
       "      <th>2012</th>\n",
       "      <th>2011</th>\n",
       "      <th>2010</th>\n",
       "      <th>2009</th>\n",
       "      <th>2008</th>\n",
       "      <th>2007</th>\n",
       "      <th>2006</th>\n",
       "      <th>2005</th>\n",
       "      <th>2004</th>\n",
       "      <th>2003</th>\n",
       "      <th>2002</th>\n",
       "      <th>2001</th>\n",
       "    </tr>\n",
       "  </thead>\n",
       "  <tbody>\n",
       "    <tr>\n",
       "      <th>0</th>\n",
       "      <td>강원도</td>\n",
       "      <td>1.082</td>\n",
       "      <td>1.067</td>\n",
       "      <td>1.123</td>\n",
       "      <td>1.237</td>\n",
       "      <td>1.311</td>\n",
       "      <td>1.248</td>\n",
       "      <td>1.249</td>\n",
       "      <td>1.374</td>\n",
       "      <td>1.338</td>\n",
       "      <td>1.313</td>\n",
       "      <td>1.248</td>\n",
       "      <td>1.253</td>\n",
       "      <td>1.356</td>\n",
       "      <td>1.202</td>\n",
       "      <td>1.188</td>\n",
       "      <td>1.261</td>\n",
       "      <td>1.279</td>\n",
       "      <td>1.317</td>\n",
       "      <td>1.413</td>\n",
       "    </tr>\n",
       "    <tr>\n",
       "      <th>1</th>\n",
       "      <td>경기도</td>\n",
       "      <td>0.943</td>\n",
       "      <td>1.002</td>\n",
       "      <td>1.069</td>\n",
       "      <td>1.194</td>\n",
       "      <td>1.272</td>\n",
       "      <td>1.241</td>\n",
       "      <td>1.226</td>\n",
       "      <td>1.355</td>\n",
       "      <td>1.314</td>\n",
       "      <td>1.309</td>\n",
       "      <td>1.226</td>\n",
       "      <td>1.285</td>\n",
       "      <td>1.361</td>\n",
       "      <td>1.239</td>\n",
       "      <td>1.183</td>\n",
       "      <td>1.280</td>\n",
       "      <td>1.321</td>\n",
       "      <td>1.305</td>\n",
       "      <td>1.437</td>\n",
       "    </tr>\n",
       "    <tr>\n",
       "      <th>2</th>\n",
       "      <td>경상남도</td>\n",
       "      <td>1.046</td>\n",
       "      <td>1.122</td>\n",
       "      <td>1.227</td>\n",
       "      <td>1.358</td>\n",
       "      <td>1.437</td>\n",
       "      <td>1.409</td>\n",
       "      <td>1.367</td>\n",
       "      <td>1.503</td>\n",
       "      <td>1.446</td>\n",
       "      <td>1.413</td>\n",
       "      <td>1.323</td>\n",
       "      <td>1.368</td>\n",
       "      <td>1.434</td>\n",
       "      <td>1.254</td>\n",
       "      <td>1.189</td>\n",
       "      <td>1.266</td>\n",
       "      <td>1.290</td>\n",
       "      <td>1.272</td>\n",
       "      <td>1.417</td>\n",
       "    </tr>\n",
       "    <tr>\n",
       "      <th>3</th>\n",
       "      <td>경상북도</td>\n",
       "      <td>1.089</td>\n",
       "      <td>1.167</td>\n",
       "      <td>1.256</td>\n",
       "      <td>1.396</td>\n",
       "      <td>1.464</td>\n",
       "      <td>1.408</td>\n",
       "      <td>1.379</td>\n",
       "      <td>1.489</td>\n",
       "      <td>1.434</td>\n",
       "      <td>1.377</td>\n",
       "      <td>1.274</td>\n",
       "      <td>1.313</td>\n",
       "      <td>1.369</td>\n",
       "      <td>1.208</td>\n",
       "      <td>1.173</td>\n",
       "      <td>1.203</td>\n",
       "      <td>1.253</td>\n",
       "      <td>1.232</td>\n",
       "      <td>1.402</td>\n",
       "    </tr>\n",
       "    <tr>\n",
       "      <th>4</th>\n",
       "      <td>광주광역시</td>\n",
       "      <td>0.913</td>\n",
       "      <td>0.972</td>\n",
       "      <td>1.053</td>\n",
       "      <td>1.168</td>\n",
       "      <td>1.207</td>\n",
       "      <td>1.199</td>\n",
       "      <td>1.170</td>\n",
       "      <td>1.295</td>\n",
       "      <td>1.234</td>\n",
       "      <td>1.223</td>\n",
       "      <td>1.137</td>\n",
       "      <td>1.198</td>\n",
       "      <td>1.262</td>\n",
       "      <td>1.152</td>\n",
       "      <td>1.105</td>\n",
       "      <td>1.203</td>\n",
       "      <td>1.278</td>\n",
       "      <td>1.264</td>\n",
       "      <td>1.421</td>\n",
       "    </tr>\n",
       "    <tr>\n",
       "      <th>5</th>\n",
       "      <td>대구광역시</td>\n",
       "      <td>0.932</td>\n",
       "      <td>0.987</td>\n",
       "      <td>1.067</td>\n",
       "      <td>1.186</td>\n",
       "      <td>1.216</td>\n",
       "      <td>1.169</td>\n",
       "      <td>1.127</td>\n",
       "      <td>1.217</td>\n",
       "      <td>1.146</td>\n",
       "      <td>1.109</td>\n",
       "      <td>1.029</td>\n",
       "      <td>1.072</td>\n",
       "      <td>1.137</td>\n",
       "      <td>1.011</td>\n",
       "      <td>1.001</td>\n",
       "      <td>1.087</td>\n",
       "      <td>1.116</td>\n",
       "      <td>1.076</td>\n",
       "      <td>1.216</td>\n",
       "    </tr>\n",
       "    <tr>\n",
       "      <th>6</th>\n",
       "      <td>대전광역시</td>\n",
       "      <td>0.883</td>\n",
       "      <td>0.952</td>\n",
       "      <td>1.075</td>\n",
       "      <td>1.192</td>\n",
       "      <td>1.277</td>\n",
       "      <td>1.250</td>\n",
       "      <td>1.234</td>\n",
       "      <td>1.315</td>\n",
       "      <td>1.261</td>\n",
       "      <td>1.205</td>\n",
       "      <td>1.156</td>\n",
       "      <td>1.215</td>\n",
       "      <td>1.274</td>\n",
       "      <td>1.158</td>\n",
       "      <td>1.107</td>\n",
       "      <td>1.181</td>\n",
       "      <td>1.221</td>\n",
       "      <td>1.207</td>\n",
       "      <td>1.330</td>\n",
       "    </tr>\n",
       "    <tr>\n",
       "      <th>7</th>\n",
       "      <td>부산광역시</td>\n",
       "      <td>0.827</td>\n",
       "      <td>0.899</td>\n",
       "      <td>0.976</td>\n",
       "      <td>1.095</td>\n",
       "      <td>1.139</td>\n",
       "      <td>1.090</td>\n",
       "      <td>1.049</td>\n",
       "      <td>1.135</td>\n",
       "      <td>1.078</td>\n",
       "      <td>1.045</td>\n",
       "      <td>0.940</td>\n",
       "      <td>0.980</td>\n",
       "      <td>1.024</td>\n",
       "      <td>0.915</td>\n",
       "      <td>0.887</td>\n",
       "      <td>0.953</td>\n",
       "      <td>0.988</td>\n",
       "      <td>0.975</td>\n",
       "      <td>1.103</td>\n",
       "    </tr>\n",
       "    <tr>\n",
       "      <th>8</th>\n",
       "      <td>서울특별시</td>\n",
       "      <td>0.717</td>\n",
       "      <td>0.761</td>\n",
       "      <td>0.836</td>\n",
       "      <td>0.940</td>\n",
       "      <td>1.001</td>\n",
       "      <td>0.983</td>\n",
       "      <td>0.968</td>\n",
       "      <td>1.059</td>\n",
       "      <td>1.014</td>\n",
       "      <td>1.015</td>\n",
       "      <td>0.962</td>\n",
       "      <td>1.010</td>\n",
       "      <td>1.068</td>\n",
       "      <td>0.980</td>\n",
       "      <td>0.932</td>\n",
       "      <td>1.015</td>\n",
       "      <td>1.014</td>\n",
       "      <td>1.006</td>\n",
       "      <td>1.111</td>\n",
       "    </tr>\n",
       "    <tr>\n",
       "      <th>9</th>\n",
       "      <td>세종특별자치시</td>\n",
       "      <td>1.472</td>\n",
       "      <td>1.566</td>\n",
       "      <td>1.668</td>\n",
       "      <td>1.821</td>\n",
       "      <td>1.893</td>\n",
       "      <td>1.354</td>\n",
       "      <td>1.435</td>\n",
       "      <td>1.597</td>\n",
       "      <td>0.000</td>\n",
       "      <td>0.000</td>\n",
       "      <td>0.000</td>\n",
       "      <td>0.000</td>\n",
       "      <td>0.000</td>\n",
       "      <td>0.000</td>\n",
       "      <td>0.000</td>\n",
       "      <td>0.000</td>\n",
       "      <td>0.000</td>\n",
       "      <td>0.000</td>\n",
       "      <td>0.000</td>\n",
       "    </tr>\n",
       "    <tr>\n",
       "      <th>10</th>\n",
       "      <td>울산광역시</td>\n",
       "      <td>1.084</td>\n",
       "      <td>1.131</td>\n",
       "      <td>1.261</td>\n",
       "      <td>1.418</td>\n",
       "      <td>1.486</td>\n",
       "      <td>1.437</td>\n",
       "      <td>1.391</td>\n",
       "      <td>1.481</td>\n",
       "      <td>1.393</td>\n",
       "      <td>1.369</td>\n",
       "      <td>1.308</td>\n",
       "      <td>1.338</td>\n",
       "      <td>1.403</td>\n",
       "      <td>1.242</td>\n",
       "      <td>1.186</td>\n",
       "      <td>1.241</td>\n",
       "      <td>1.280</td>\n",
       "      <td>1.242</td>\n",
       "      <td>1.423</td>\n",
       "    </tr>\n",
       "    <tr>\n",
       "      <th>11</th>\n",
       "      <td>인천광역시</td>\n",
       "      <td>0.940</td>\n",
       "      <td>1.006</td>\n",
       "      <td>1.007</td>\n",
       "      <td>1.144</td>\n",
       "      <td>1.216</td>\n",
       "      <td>1.212</td>\n",
       "      <td>1.195</td>\n",
       "      <td>1.301</td>\n",
       "      <td>1.232</td>\n",
       "      <td>1.214</td>\n",
       "      <td>1.143</td>\n",
       "      <td>1.186</td>\n",
       "      <td>1.257</td>\n",
       "      <td>1.116</td>\n",
       "      <td>1.075</td>\n",
       "      <td>1.158</td>\n",
       "      <td>1.213</td>\n",
       "      <td>1.185</td>\n",
       "      <td>1.324</td>\n",
       "    </tr>\n",
       "    <tr>\n",
       "      <th>12</th>\n",
       "      <td>전라남도</td>\n",
       "      <td>1.234</td>\n",
       "      <td>1.240</td>\n",
       "      <td>1.325</td>\n",
       "      <td>1.466</td>\n",
       "      <td>1.549</td>\n",
       "      <td>1.497</td>\n",
       "      <td>1.518</td>\n",
       "      <td>1.642</td>\n",
       "      <td>1.568</td>\n",
       "      <td>1.537</td>\n",
       "      <td>1.445</td>\n",
       "      <td>1.449</td>\n",
       "      <td>1.542</td>\n",
       "      <td>1.337</td>\n",
       "      <td>1.290</td>\n",
       "      <td>1.360</td>\n",
       "      <td>1.389</td>\n",
       "      <td>1.391</td>\n",
       "      <td>1.566</td>\n",
       "    </tr>\n",
       "    <tr>\n",
       "      <th>13</th>\n",
       "      <td>전라북도</td>\n",
       "      <td>0.971</td>\n",
       "      <td>1.044</td>\n",
       "      <td>1.151</td>\n",
       "      <td>1.251</td>\n",
       "      <td>1.352</td>\n",
       "      <td>1.329</td>\n",
       "      <td>1.320</td>\n",
       "      <td>1.440</td>\n",
       "      <td>1.405</td>\n",
       "      <td>1.374</td>\n",
       "      <td>1.279</td>\n",
       "      <td>1.305</td>\n",
       "      <td>1.380</td>\n",
       "      <td>1.213</td>\n",
       "      <td>1.184</td>\n",
       "      <td>1.239</td>\n",
       "      <td>1.274</td>\n",
       "      <td>1.275</td>\n",
       "      <td>1.426</td>\n",
       "    </tr>\n",
       "    <tr>\n",
       "      <th>14</th>\n",
       "      <td>제주특별자치도</td>\n",
       "      <td>1.145</td>\n",
       "      <td>1.220</td>\n",
       "      <td>1.305</td>\n",
       "      <td>1.432</td>\n",
       "      <td>1.477</td>\n",
       "      <td>1.481</td>\n",
       "      <td>1.427</td>\n",
       "      <td>1.598</td>\n",
       "      <td>1.487</td>\n",
       "      <td>1.463</td>\n",
       "      <td>1.378</td>\n",
       "      <td>1.386</td>\n",
       "      <td>1.489</td>\n",
       "      <td>1.372</td>\n",
       "      <td>1.310</td>\n",
       "      <td>1.365</td>\n",
       "      <td>1.438</td>\n",
       "      <td>1.394</td>\n",
       "      <td>1.564</td>\n",
       "    </tr>\n",
       "    <tr>\n",
       "      <th>15</th>\n",
       "      <td>충청남도</td>\n",
       "      <td>1.112</td>\n",
       "      <td>1.186</td>\n",
       "      <td>1.276</td>\n",
       "      <td>1.395</td>\n",
       "      <td>1.480</td>\n",
       "      <td>1.421</td>\n",
       "      <td>1.442</td>\n",
       "      <td>1.571</td>\n",
       "      <td>1.496</td>\n",
       "      <td>1.479</td>\n",
       "      <td>1.408</td>\n",
       "      <td>1.444</td>\n",
       "      <td>1.506</td>\n",
       "      <td>1.356</td>\n",
       "      <td>1.267</td>\n",
       "      <td>1.357</td>\n",
       "      <td>1.358</td>\n",
       "      <td>1.361</td>\n",
       "      <td>1.532</td>\n",
       "    </tr>\n",
       "    <tr>\n",
       "      <th>16</th>\n",
       "      <td>충청북도</td>\n",
       "      <td>1.050</td>\n",
       "      <td>1.172</td>\n",
       "      <td>1.235</td>\n",
       "      <td>1.358</td>\n",
       "      <td>1.414</td>\n",
       "      <td>1.363</td>\n",
       "      <td>1.365</td>\n",
       "      <td>1.485</td>\n",
       "      <td>1.428</td>\n",
       "      <td>1.402</td>\n",
       "      <td>1.317</td>\n",
       "      <td>1.319</td>\n",
       "      <td>1.398</td>\n",
       "      <td>1.233</td>\n",
       "      <td>1.195</td>\n",
       "      <td>1.272</td>\n",
       "      <td>1.270</td>\n",
       "      <td>1.294</td>\n",
       "      <td>1.426</td>\n",
       "    </tr>\n",
       "  </tbody>\n",
       "</table>\n",
       "</div>"
      ],
      "text/plain": [
       "         지역   2019   2018   2017   2016   2015   2014   2013   2012   2011  \\\n",
       "0       강원도  1.082  1.067  1.123  1.237  1.311  1.248  1.249  1.374  1.338   \n",
       "1       경기도  0.943  1.002  1.069  1.194  1.272  1.241  1.226  1.355  1.314   \n",
       "2      경상남도  1.046  1.122  1.227  1.358  1.437  1.409  1.367  1.503  1.446   \n",
       "3      경상북도  1.089  1.167  1.256  1.396  1.464  1.408  1.379  1.489  1.434   \n",
       "4     광주광역시  0.913  0.972  1.053  1.168  1.207  1.199  1.170  1.295  1.234   \n",
       "5     대구광역시  0.932  0.987  1.067  1.186  1.216  1.169  1.127  1.217  1.146   \n",
       "6     대전광역시  0.883  0.952  1.075  1.192  1.277  1.250  1.234  1.315  1.261   \n",
       "7     부산광역시  0.827  0.899  0.976  1.095  1.139  1.090  1.049  1.135  1.078   \n",
       "8     서울특별시  0.717  0.761  0.836  0.940  1.001  0.983  0.968  1.059  1.014   \n",
       "9   세종특별자치시  1.472  1.566  1.668  1.821  1.893  1.354  1.435  1.597  0.000   \n",
       "10    울산광역시  1.084  1.131  1.261  1.418  1.486  1.437  1.391  1.481  1.393   \n",
       "11    인천광역시  0.940  1.006  1.007  1.144  1.216  1.212  1.195  1.301  1.232   \n",
       "12     전라남도  1.234  1.240  1.325  1.466  1.549  1.497  1.518  1.642  1.568   \n",
       "13     전라북도  0.971  1.044  1.151  1.251  1.352  1.329  1.320  1.440  1.405   \n",
       "14  제주특별자치도  1.145  1.220  1.305  1.432  1.477  1.481  1.427  1.598  1.487   \n",
       "15     충청남도  1.112  1.186  1.276  1.395  1.480  1.421  1.442  1.571  1.496   \n",
       "16     충청북도  1.050  1.172  1.235  1.358  1.414  1.363  1.365  1.485  1.428   \n",
       "\n",
       "     2010   2009   2008   2007   2006   2005   2004   2003   2002   2001  \n",
       "0   1.313  1.248  1.253  1.356  1.202  1.188  1.261  1.279  1.317  1.413  \n",
       "1   1.309  1.226  1.285  1.361  1.239  1.183  1.280  1.321  1.305  1.437  \n",
       "2   1.413  1.323  1.368  1.434  1.254  1.189  1.266  1.290  1.272  1.417  \n",
       "3   1.377  1.274  1.313  1.369  1.208  1.173  1.203  1.253  1.232  1.402  \n",
       "4   1.223  1.137  1.198  1.262  1.152  1.105  1.203  1.278  1.264  1.421  \n",
       "5   1.109  1.029  1.072  1.137  1.011  1.001  1.087  1.116  1.076  1.216  \n",
       "6   1.205  1.156  1.215  1.274  1.158  1.107  1.181  1.221  1.207  1.330  \n",
       "7   1.045  0.940  0.980  1.024  0.915  0.887  0.953  0.988  0.975  1.103  \n",
       "8   1.015  0.962  1.010  1.068  0.980  0.932  1.015  1.014  1.006  1.111  \n",
       "9   0.000  0.000  0.000  0.000  0.000  0.000  0.000  0.000  0.000  0.000  \n",
       "10  1.369  1.308  1.338  1.403  1.242  1.186  1.241  1.280  1.242  1.423  \n",
       "11  1.214  1.143  1.186  1.257  1.116  1.075  1.158  1.213  1.185  1.324  \n",
       "12  1.537  1.445  1.449  1.542  1.337  1.290  1.360  1.389  1.391  1.566  \n",
       "13  1.374  1.279  1.305  1.380  1.213  1.184  1.239  1.274  1.275  1.426  \n",
       "14  1.463  1.378  1.386  1.489  1.372  1.310  1.365  1.438  1.394  1.564  \n",
       "15  1.479  1.408  1.444  1.506  1.356  1.267  1.357  1.358  1.361  1.532  \n",
       "16  1.402  1.317  1.319  1.398  1.233  1.195  1.272  1.270  1.294  1.426  "
      ]
     },
     "execution_count": 9,
     "metadata": {},
     "output_type": "execute_result"
    }
   ],
   "source": [
    "_df2=df2.replace('-','0').rename(columns={'Unnamed: 0':'지역'}).set_index('지역').applymap(lambda x: float(x)).\\\n",
    "reset_index().iloc[1:,:].sort_values('지역').reset_index(drop=True)\n",
    "_df2"
   ]
  },
  {
   "cell_type": "code",
   "execution_count": 10,
   "id": "2caf5dc7",
   "metadata": {},
   "outputs": [
    {
     "data": {
      "text/html": [
       "<div>\n",
       "<style scoped>\n",
       "    .dataframe tbody tr th:only-of-type {\n",
       "        vertical-align: middle;\n",
       "    }\n",
       "\n",
       "    .dataframe tbody tr th {\n",
       "        vertical-align: top;\n",
       "    }\n",
       "\n",
       "    .dataframe thead th {\n",
       "        text-align: right;\n",
       "    }\n",
       "</style>\n",
       "<table border=\"1\" class=\"dataframe\">\n",
       "  <thead>\n",
       "    <tr style=\"text-align: right;\">\n",
       "      <th>year</th>\n",
       "      <th>지역</th>\n",
       "      <th>2001</th>\n",
       "      <th>2002</th>\n",
       "      <th>2003</th>\n",
       "      <th>2004</th>\n",
       "      <th>2005</th>\n",
       "      <th>2006</th>\n",
       "      <th>2007</th>\n",
       "      <th>2008</th>\n",
       "      <th>2009</th>\n",
       "      <th>...</th>\n",
       "      <th>2011</th>\n",
       "      <th>2012</th>\n",
       "      <th>2013</th>\n",
       "      <th>2014</th>\n",
       "      <th>2015</th>\n",
       "      <th>2016</th>\n",
       "      <th>2017</th>\n",
       "      <th>2018</th>\n",
       "      <th>2019</th>\n",
       "      <th>2020</th>\n",
       "    </tr>\n",
       "  </thead>\n",
       "  <tbody>\n",
       "    <tr>\n",
       "      <th>0</th>\n",
       "      <td>강원도</td>\n",
       "      <td>1.413</td>\n",
       "      <td>1.317</td>\n",
       "      <td>1.279</td>\n",
       "      <td>1.261</td>\n",
       "      <td>1.188</td>\n",
       "      <td>1.202</td>\n",
       "      <td>1.356</td>\n",
       "      <td>1.253</td>\n",
       "      <td>1.248</td>\n",
       "      <td>...</td>\n",
       "      <td>1.338</td>\n",
       "      <td>1.374</td>\n",
       "      <td>1.249</td>\n",
       "      <td>1.248</td>\n",
       "      <td>1.311</td>\n",
       "      <td>1.237</td>\n",
       "      <td>1.123</td>\n",
       "      <td>1.067</td>\n",
       "      <td>1.082</td>\n",
       "      <td>1.04</td>\n",
       "    </tr>\n",
       "    <tr>\n",
       "      <th>1</th>\n",
       "      <td>경기도</td>\n",
       "      <td>1.437</td>\n",
       "      <td>1.305</td>\n",
       "      <td>1.321</td>\n",
       "      <td>1.280</td>\n",
       "      <td>1.183</td>\n",
       "      <td>1.239</td>\n",
       "      <td>1.361</td>\n",
       "      <td>1.285</td>\n",
       "      <td>1.226</td>\n",
       "      <td>...</td>\n",
       "      <td>1.314</td>\n",
       "      <td>1.355</td>\n",
       "      <td>1.226</td>\n",
       "      <td>1.241</td>\n",
       "      <td>1.272</td>\n",
       "      <td>1.194</td>\n",
       "      <td>1.069</td>\n",
       "      <td>1.002</td>\n",
       "      <td>0.943</td>\n",
       "      <td>0.88</td>\n",
       "    </tr>\n",
       "    <tr>\n",
       "      <th>2</th>\n",
       "      <td>경상남도</td>\n",
       "      <td>1.417</td>\n",
       "      <td>1.272</td>\n",
       "      <td>1.290</td>\n",
       "      <td>1.266</td>\n",
       "      <td>1.189</td>\n",
       "      <td>1.254</td>\n",
       "      <td>1.434</td>\n",
       "      <td>1.368</td>\n",
       "      <td>1.323</td>\n",
       "      <td>...</td>\n",
       "      <td>1.446</td>\n",
       "      <td>1.503</td>\n",
       "      <td>1.367</td>\n",
       "      <td>1.409</td>\n",
       "      <td>1.437</td>\n",
       "      <td>1.358</td>\n",
       "      <td>1.227</td>\n",
       "      <td>1.122</td>\n",
       "      <td>1.046</td>\n",
       "      <td>0.95</td>\n",
       "    </tr>\n",
       "    <tr>\n",
       "      <th>3</th>\n",
       "      <td>경상북도</td>\n",
       "      <td>1.402</td>\n",
       "      <td>1.232</td>\n",
       "      <td>1.253</td>\n",
       "      <td>1.203</td>\n",
       "      <td>1.173</td>\n",
       "      <td>1.208</td>\n",
       "      <td>1.369</td>\n",
       "      <td>1.313</td>\n",
       "      <td>1.274</td>\n",
       "      <td>...</td>\n",
       "      <td>1.434</td>\n",
       "      <td>1.489</td>\n",
       "      <td>1.379</td>\n",
       "      <td>1.408</td>\n",
       "      <td>1.464</td>\n",
       "      <td>1.396</td>\n",
       "      <td>1.256</td>\n",
       "      <td>1.167</td>\n",
       "      <td>1.089</td>\n",
       "      <td>1.00</td>\n",
       "    </tr>\n",
       "    <tr>\n",
       "      <th>4</th>\n",
       "      <td>광주</td>\n",
       "      <td>1.421</td>\n",
       "      <td>1.264</td>\n",
       "      <td>1.278</td>\n",
       "      <td>1.203</td>\n",
       "      <td>1.105</td>\n",
       "      <td>1.152</td>\n",
       "      <td>1.262</td>\n",
       "      <td>1.198</td>\n",
       "      <td>1.137</td>\n",
       "      <td>...</td>\n",
       "      <td>1.234</td>\n",
       "      <td>1.295</td>\n",
       "      <td>1.170</td>\n",
       "      <td>1.199</td>\n",
       "      <td>1.207</td>\n",
       "      <td>1.168</td>\n",
       "      <td>1.053</td>\n",
       "      <td>0.972</td>\n",
       "      <td>0.913</td>\n",
       "      <td>0.81</td>\n",
       "    </tr>\n",
       "    <tr>\n",
       "      <th>5</th>\n",
       "      <td>대구</td>\n",
       "      <td>1.216</td>\n",
       "      <td>1.076</td>\n",
       "      <td>1.116</td>\n",
       "      <td>1.087</td>\n",
       "      <td>1.001</td>\n",
       "      <td>1.011</td>\n",
       "      <td>1.137</td>\n",
       "      <td>1.072</td>\n",
       "      <td>1.029</td>\n",
       "      <td>...</td>\n",
       "      <td>1.146</td>\n",
       "      <td>1.217</td>\n",
       "      <td>1.127</td>\n",
       "      <td>1.169</td>\n",
       "      <td>1.216</td>\n",
       "      <td>1.186</td>\n",
       "      <td>1.067</td>\n",
       "      <td>0.987</td>\n",
       "      <td>0.932</td>\n",
       "      <td>0.81</td>\n",
       "    </tr>\n",
       "    <tr>\n",
       "      <th>6</th>\n",
       "      <td>대전</td>\n",
       "      <td>1.330</td>\n",
       "      <td>1.207</td>\n",
       "      <td>1.221</td>\n",
       "      <td>1.181</td>\n",
       "      <td>1.107</td>\n",
       "      <td>1.158</td>\n",
       "      <td>1.274</td>\n",
       "      <td>1.215</td>\n",
       "      <td>1.156</td>\n",
       "      <td>...</td>\n",
       "      <td>1.261</td>\n",
       "      <td>1.315</td>\n",
       "      <td>1.234</td>\n",
       "      <td>1.250</td>\n",
       "      <td>1.277</td>\n",
       "      <td>1.192</td>\n",
       "      <td>1.075</td>\n",
       "      <td>0.952</td>\n",
       "      <td>0.883</td>\n",
       "      <td>0.81</td>\n",
       "    </tr>\n",
       "    <tr>\n",
       "      <th>7</th>\n",
       "      <td>부산</td>\n",
       "      <td>1.103</td>\n",
       "      <td>0.975</td>\n",
       "      <td>0.988</td>\n",
       "      <td>0.953</td>\n",
       "      <td>0.887</td>\n",
       "      <td>0.915</td>\n",
       "      <td>1.024</td>\n",
       "      <td>0.980</td>\n",
       "      <td>0.940</td>\n",
       "      <td>...</td>\n",
       "      <td>1.078</td>\n",
       "      <td>1.135</td>\n",
       "      <td>1.049</td>\n",
       "      <td>1.090</td>\n",
       "      <td>1.139</td>\n",
       "      <td>1.095</td>\n",
       "      <td>0.976</td>\n",
       "      <td>0.899</td>\n",
       "      <td>0.827</td>\n",
       "      <td>0.75</td>\n",
       "    </tr>\n",
       "    <tr>\n",
       "      <th>8</th>\n",
       "      <td>서울</td>\n",
       "      <td>1.111</td>\n",
       "      <td>1.006</td>\n",
       "      <td>1.014</td>\n",
       "      <td>1.015</td>\n",
       "      <td>0.932</td>\n",
       "      <td>0.980</td>\n",
       "      <td>1.068</td>\n",
       "      <td>1.010</td>\n",
       "      <td>0.962</td>\n",
       "      <td>...</td>\n",
       "      <td>1.014</td>\n",
       "      <td>1.059</td>\n",
       "      <td>0.968</td>\n",
       "      <td>0.983</td>\n",
       "      <td>1.001</td>\n",
       "      <td>0.940</td>\n",
       "      <td>0.836</td>\n",
       "      <td>0.761</td>\n",
       "      <td>0.717</td>\n",
       "      <td>0.64</td>\n",
       "    </tr>\n",
       "    <tr>\n",
       "      <th>9</th>\n",
       "      <td>세종</td>\n",
       "      <td>0.000</td>\n",
       "      <td>0.000</td>\n",
       "      <td>0.000</td>\n",
       "      <td>0.000</td>\n",
       "      <td>0.000</td>\n",
       "      <td>0.000</td>\n",
       "      <td>0.000</td>\n",
       "      <td>0.000</td>\n",
       "      <td>0.000</td>\n",
       "      <td>...</td>\n",
       "      <td>0.000</td>\n",
       "      <td>1.597</td>\n",
       "      <td>1.435</td>\n",
       "      <td>1.354</td>\n",
       "      <td>1.893</td>\n",
       "      <td>1.821</td>\n",
       "      <td>1.668</td>\n",
       "      <td>1.566</td>\n",
       "      <td>1.472</td>\n",
       "      <td>1.28</td>\n",
       "    </tr>\n",
       "    <tr>\n",
       "      <th>10</th>\n",
       "      <td>울산</td>\n",
       "      <td>1.423</td>\n",
       "      <td>1.242</td>\n",
       "      <td>1.280</td>\n",
       "      <td>1.241</td>\n",
       "      <td>1.186</td>\n",
       "      <td>1.242</td>\n",
       "      <td>1.403</td>\n",
       "      <td>1.338</td>\n",
       "      <td>1.308</td>\n",
       "      <td>...</td>\n",
       "      <td>1.393</td>\n",
       "      <td>1.481</td>\n",
       "      <td>1.391</td>\n",
       "      <td>1.437</td>\n",
       "      <td>1.486</td>\n",
       "      <td>1.418</td>\n",
       "      <td>1.261</td>\n",
       "      <td>1.131</td>\n",
       "      <td>1.084</td>\n",
       "      <td>0.99</td>\n",
       "    </tr>\n",
       "    <tr>\n",
       "      <th>11</th>\n",
       "      <td>인천</td>\n",
       "      <td>1.324</td>\n",
       "      <td>1.185</td>\n",
       "      <td>1.213</td>\n",
       "      <td>1.158</td>\n",
       "      <td>1.075</td>\n",
       "      <td>1.116</td>\n",
       "      <td>1.257</td>\n",
       "      <td>1.186</td>\n",
       "      <td>1.143</td>\n",
       "      <td>...</td>\n",
       "      <td>1.232</td>\n",
       "      <td>1.301</td>\n",
       "      <td>1.195</td>\n",
       "      <td>1.212</td>\n",
       "      <td>1.216</td>\n",
       "      <td>1.144</td>\n",
       "      <td>1.007</td>\n",
       "      <td>1.006</td>\n",
       "      <td>0.940</td>\n",
       "      <td>0.83</td>\n",
       "    </tr>\n",
       "    <tr>\n",
       "      <th>12</th>\n",
       "      <td>전라남도</td>\n",
       "      <td>1.566</td>\n",
       "      <td>1.391</td>\n",
       "      <td>1.389</td>\n",
       "      <td>1.360</td>\n",
       "      <td>1.290</td>\n",
       "      <td>1.337</td>\n",
       "      <td>1.542</td>\n",
       "      <td>1.449</td>\n",
       "      <td>1.445</td>\n",
       "      <td>...</td>\n",
       "      <td>1.568</td>\n",
       "      <td>1.642</td>\n",
       "      <td>1.518</td>\n",
       "      <td>1.497</td>\n",
       "      <td>1.549</td>\n",
       "      <td>1.466</td>\n",
       "      <td>1.325</td>\n",
       "      <td>1.240</td>\n",
       "      <td>1.234</td>\n",
       "      <td>1.15</td>\n",
       "    </tr>\n",
       "    <tr>\n",
       "      <th>13</th>\n",
       "      <td>전라북도</td>\n",
       "      <td>1.426</td>\n",
       "      <td>1.275</td>\n",
       "      <td>1.274</td>\n",
       "      <td>1.239</td>\n",
       "      <td>1.184</td>\n",
       "      <td>1.213</td>\n",
       "      <td>1.380</td>\n",
       "      <td>1.305</td>\n",
       "      <td>1.279</td>\n",
       "      <td>...</td>\n",
       "      <td>1.405</td>\n",
       "      <td>1.440</td>\n",
       "      <td>1.320</td>\n",
       "      <td>1.329</td>\n",
       "      <td>1.352</td>\n",
       "      <td>1.251</td>\n",
       "      <td>1.151</td>\n",
       "      <td>1.044</td>\n",
       "      <td>0.971</td>\n",
       "      <td>0.91</td>\n",
       "    </tr>\n",
       "    <tr>\n",
       "      <th>14</th>\n",
       "      <td>제주도</td>\n",
       "      <td>1.564</td>\n",
       "      <td>1.394</td>\n",
       "      <td>1.438</td>\n",
       "      <td>1.365</td>\n",
       "      <td>1.310</td>\n",
       "      <td>1.372</td>\n",
       "      <td>1.489</td>\n",
       "      <td>1.386</td>\n",
       "      <td>1.378</td>\n",
       "      <td>...</td>\n",
       "      <td>1.487</td>\n",
       "      <td>1.598</td>\n",
       "      <td>1.427</td>\n",
       "      <td>1.481</td>\n",
       "      <td>1.477</td>\n",
       "      <td>1.432</td>\n",
       "      <td>1.305</td>\n",
       "      <td>1.220</td>\n",
       "      <td>1.145</td>\n",
       "      <td>1.02</td>\n",
       "    </tr>\n",
       "    <tr>\n",
       "      <th>15</th>\n",
       "      <td>충청남도</td>\n",
       "      <td>1.532</td>\n",
       "      <td>1.361</td>\n",
       "      <td>1.358</td>\n",
       "      <td>1.357</td>\n",
       "      <td>1.267</td>\n",
       "      <td>1.356</td>\n",
       "      <td>1.506</td>\n",
       "      <td>1.444</td>\n",
       "      <td>1.408</td>\n",
       "      <td>...</td>\n",
       "      <td>1.496</td>\n",
       "      <td>1.571</td>\n",
       "      <td>1.442</td>\n",
       "      <td>1.421</td>\n",
       "      <td>1.480</td>\n",
       "      <td>1.395</td>\n",
       "      <td>1.276</td>\n",
       "      <td>1.186</td>\n",
       "      <td>1.112</td>\n",
       "      <td>1.03</td>\n",
       "    </tr>\n",
       "    <tr>\n",
       "      <th>16</th>\n",
       "      <td>충청북도</td>\n",
       "      <td>1.426</td>\n",
       "      <td>1.294</td>\n",
       "      <td>1.270</td>\n",
       "      <td>1.272</td>\n",
       "      <td>1.195</td>\n",
       "      <td>1.233</td>\n",
       "      <td>1.398</td>\n",
       "      <td>1.319</td>\n",
       "      <td>1.317</td>\n",
       "      <td>...</td>\n",
       "      <td>1.428</td>\n",
       "      <td>1.485</td>\n",
       "      <td>1.365</td>\n",
       "      <td>1.363</td>\n",
       "      <td>1.414</td>\n",
       "      <td>1.358</td>\n",
       "      <td>1.235</td>\n",
       "      <td>1.172</td>\n",
       "      <td>1.050</td>\n",
       "      <td>0.98</td>\n",
       "    </tr>\n",
       "  </tbody>\n",
       "</table>\n",
       "<p>17 rows × 21 columns</p>\n",
       "</div>"
      ],
      "text/plain": [
       "year    지역   2001   2002   2003   2004   2005   2006   2007   2008   2009  \\\n",
       "0      강원도  1.413  1.317  1.279  1.261  1.188  1.202  1.356  1.253  1.248   \n",
       "1      경기도  1.437  1.305  1.321  1.280  1.183  1.239  1.361  1.285  1.226   \n",
       "2     경상남도  1.417  1.272  1.290  1.266  1.189  1.254  1.434  1.368  1.323   \n",
       "3     경상북도  1.402  1.232  1.253  1.203  1.173  1.208  1.369  1.313  1.274   \n",
       "4       광주  1.421  1.264  1.278  1.203  1.105  1.152  1.262  1.198  1.137   \n",
       "5       대구  1.216  1.076  1.116  1.087  1.001  1.011  1.137  1.072  1.029   \n",
       "6       대전  1.330  1.207  1.221  1.181  1.107  1.158  1.274  1.215  1.156   \n",
       "7       부산  1.103  0.975  0.988  0.953  0.887  0.915  1.024  0.980  0.940   \n",
       "8       서울  1.111  1.006  1.014  1.015  0.932  0.980  1.068  1.010  0.962   \n",
       "9       세종  0.000  0.000  0.000  0.000  0.000  0.000  0.000  0.000  0.000   \n",
       "10      울산  1.423  1.242  1.280  1.241  1.186  1.242  1.403  1.338  1.308   \n",
       "11      인천  1.324  1.185  1.213  1.158  1.075  1.116  1.257  1.186  1.143   \n",
       "12    전라남도  1.566  1.391  1.389  1.360  1.290  1.337  1.542  1.449  1.445   \n",
       "13    전라북도  1.426  1.275  1.274  1.239  1.184  1.213  1.380  1.305  1.279   \n",
       "14     제주도  1.564  1.394  1.438  1.365  1.310  1.372  1.489  1.386  1.378   \n",
       "15    충청남도  1.532  1.361  1.358  1.357  1.267  1.356  1.506  1.444  1.408   \n",
       "16    충청북도  1.426  1.294  1.270  1.272  1.195  1.233  1.398  1.319  1.317   \n",
       "\n",
       "year  ...   2011   2012   2013   2014   2015   2016   2017   2018   2019  2020  \n",
       "0     ...  1.338  1.374  1.249  1.248  1.311  1.237  1.123  1.067  1.082  1.04  \n",
       "1     ...  1.314  1.355  1.226  1.241  1.272  1.194  1.069  1.002  0.943  0.88  \n",
       "2     ...  1.446  1.503  1.367  1.409  1.437  1.358  1.227  1.122  1.046  0.95  \n",
       "3     ...  1.434  1.489  1.379  1.408  1.464  1.396  1.256  1.167  1.089  1.00  \n",
       "4     ...  1.234  1.295  1.170  1.199  1.207  1.168  1.053  0.972  0.913  0.81  \n",
       "5     ...  1.146  1.217  1.127  1.169  1.216  1.186  1.067  0.987  0.932  0.81  \n",
       "6     ...  1.261  1.315  1.234  1.250  1.277  1.192  1.075  0.952  0.883  0.81  \n",
       "7     ...  1.078  1.135  1.049  1.090  1.139  1.095  0.976  0.899  0.827  0.75  \n",
       "8     ...  1.014  1.059  0.968  0.983  1.001  0.940  0.836  0.761  0.717  0.64  \n",
       "9     ...  0.000  1.597  1.435  1.354  1.893  1.821  1.668  1.566  1.472  1.28  \n",
       "10    ...  1.393  1.481  1.391  1.437  1.486  1.418  1.261  1.131  1.084  0.99  \n",
       "11    ...  1.232  1.301  1.195  1.212  1.216  1.144  1.007  1.006  0.940  0.83  \n",
       "12    ...  1.568  1.642  1.518  1.497  1.549  1.466  1.325  1.240  1.234  1.15  \n",
       "13    ...  1.405  1.440  1.320  1.329  1.352  1.251  1.151  1.044  0.971  0.91  \n",
       "14    ...  1.487  1.598  1.427  1.481  1.477  1.432  1.305  1.220  1.145  1.02  \n",
       "15    ...  1.496  1.571  1.442  1.421  1.480  1.395  1.276  1.186  1.112  1.03  \n",
       "16    ...  1.428  1.485  1.365  1.363  1.414  1.358  1.235  1.172  1.050  0.98  \n",
       "\n",
       "[17 rows x 21 columns]"
      ]
     },
     "execution_count": 10,
     "metadata": {},
     "output_type": "execute_result"
    }
   ],
   "source": [
    "df3=pd.concat([_df1,_df2.iloc[:,1:]],axis=1).set_index('지역').applymap(lambda x: float(x)).reset_index().\\\n",
    "set_index('지역').T.reset_index().rename(columns={'index':'year'}).\\\n",
    "sort_values('year').reset_index(drop=True).set_index('year').T.reset_index()\n",
    "df3"
   ]
  },
  {
   "cell_type": "code",
   "execution_count": 24,
   "id": "1576ec3a",
   "metadata": {},
   "outputs": [
    {
     "data": {
      "application/vnd.plotly.v1+json": {
       "config": {
        "plotlyServerURL": "https://plot.ly"
       },
       "data": [
        {
         "hovertemplate": "지역=강원도<br>year=%{x}<br>birth rate=%{y}<extra></extra>",
         "legendgroup": "강원도",
         "line": {
          "color": "#636efa",
          "dash": "solid"
         },
         "marker": {
          "symbol": "circle"
         },
         "mode": "lines",
         "name": "강원도",
         "orientation": "v",
         "showlegend": true,
         "type": "scatter",
         "x": [
          "2001",
          "2002",
          "2003",
          "2004",
          "2005",
          "2006",
          "2007",
          "2008",
          "2009",
          "2010",
          "2011",
          "2012",
          "2013",
          "2014",
          "2015",
          "2016",
          "2017",
          "2018",
          "2019",
          "2020"
         ],
         "xaxis": "x17",
         "y": [
          1.413,
          1.317,
          1.279,
          1.261,
          1.188,
          1.202,
          1.356,
          1.253,
          1.248,
          1.313,
          1.338,
          1.374,
          1.249,
          1.248,
          1.311,
          1.237,
          1.123,
          1.067,
          1.082,
          1.04
         ],
         "yaxis": "y17"
        },
        {
         "hovertemplate": "지역=경기도<br>year=%{x}<br>birth rate=%{y}<extra></extra>",
         "legendgroup": "경기도",
         "line": {
          "color": "#EF553B",
          "dash": "solid"
         },
         "marker": {
          "symbol": "circle"
         },
         "mode": "lines",
         "name": "경기도",
         "orientation": "v",
         "showlegend": true,
         "type": "scatter",
         "x": [
          "2001",
          "2002",
          "2003",
          "2004",
          "2005",
          "2006",
          "2007",
          "2008",
          "2009",
          "2010",
          "2011",
          "2012",
          "2013",
          "2014",
          "2015",
          "2016",
          "2017",
          "2018",
          "2019",
          "2020"
         ],
         "xaxis": "x18",
         "y": [
          1.437,
          1.305,
          1.321,
          1.28,
          1.183,
          1.239,
          1.361,
          1.285,
          1.226,
          1.309,
          1.314,
          1.355,
          1.226,
          1.241,
          1.272,
          1.194,
          1.069,
          1.002,
          0.943,
          0.88
         ],
         "yaxis": "y18"
        },
        {
         "hovertemplate": "지역=경상남도<br>year=%{x}<br>birth rate=%{y}<extra></extra>",
         "legendgroup": "경상남도",
         "line": {
          "color": "#00cc96",
          "dash": "solid"
         },
         "marker": {
          "symbol": "circle"
         },
         "mode": "lines",
         "name": "경상남도",
         "orientation": "v",
         "showlegend": true,
         "type": "scatter",
         "x": [
          "2001",
          "2002",
          "2003",
          "2004",
          "2005",
          "2006",
          "2007",
          "2008",
          "2009",
          "2010",
          "2011",
          "2012",
          "2013",
          "2014",
          "2015",
          "2016",
          "2017",
          "2018",
          "2019",
          "2020"
         ],
         "xaxis": "x15",
         "y": [
          1.417,
          1.272,
          1.29,
          1.266,
          1.189,
          1.254,
          1.434,
          1.368,
          1.323,
          1.413,
          1.446,
          1.503,
          1.367,
          1.409,
          1.437,
          1.358,
          1.227,
          1.122,
          1.046,
          0.95
         ],
         "yaxis": "y15"
        },
        {
         "hovertemplate": "지역=경상북도<br>year=%{x}<br>birth rate=%{y}<extra></extra>",
         "legendgroup": "경상북도",
         "line": {
          "color": "#ab63fa",
          "dash": "solid"
         },
         "marker": {
          "symbol": "circle"
         },
         "mode": "lines",
         "name": "경상북도",
         "orientation": "v",
         "showlegend": true,
         "type": "scatter",
         "x": [
          "2001",
          "2002",
          "2003",
          "2004",
          "2005",
          "2006",
          "2007",
          "2008",
          "2009",
          "2010",
          "2011",
          "2012",
          "2013",
          "2014",
          "2015",
          "2016",
          "2017",
          "2018",
          "2019",
          "2020"
         ],
         "xaxis": "x16",
         "y": [
          1.402,
          1.232,
          1.253,
          1.203,
          1.173,
          1.208,
          1.369,
          1.313,
          1.274,
          1.377,
          1.434,
          1.489,
          1.379,
          1.408,
          1.464,
          1.396,
          1.256,
          1.167,
          1.089,
          1
         ],
         "yaxis": "y16"
        },
        {
         "hovertemplate": "지역=광주<br>year=%{x}<br>birth rate=%{y}<extra></extra>",
         "legendgroup": "광주",
         "line": {
          "color": "#FFA15A",
          "dash": "solid"
         },
         "marker": {
          "symbol": "circle"
         },
         "mode": "lines",
         "name": "광주",
         "orientation": "v",
         "showlegend": true,
         "type": "scatter",
         "x": [
          "2001",
          "2002",
          "2003",
          "2004",
          "2005",
          "2006",
          "2007",
          "2008",
          "2009",
          "2010",
          "2011",
          "2012",
          "2013",
          "2014",
          "2015",
          "2016",
          "2017",
          "2018",
          "2019",
          "2020"
         ],
         "xaxis": "x13",
         "y": [
          1.421,
          1.264,
          1.278,
          1.203,
          1.105,
          1.152,
          1.262,
          1.198,
          1.137,
          1.223,
          1.234,
          1.295,
          1.17,
          1.199,
          1.207,
          1.168,
          1.053,
          0.972,
          0.913,
          0.81
         ],
         "yaxis": "y13"
        },
        {
         "hovertemplate": "지역=대구<br>year=%{x}<br>birth rate=%{y}<extra></extra>",
         "legendgroup": "대구",
         "line": {
          "color": "#19d3f3",
          "dash": "solid"
         },
         "marker": {
          "symbol": "circle"
         },
         "mode": "lines",
         "name": "대구",
         "orientation": "v",
         "showlegend": true,
         "type": "scatter",
         "x": [
          "2001",
          "2002",
          "2003",
          "2004",
          "2005",
          "2006",
          "2007",
          "2008",
          "2009",
          "2010",
          "2011",
          "2012",
          "2013",
          "2014",
          "2015",
          "2016",
          "2017",
          "2018",
          "2019",
          "2020"
         ],
         "xaxis": "x14",
         "y": [
          1.216,
          1.076,
          1.116,
          1.087,
          1.001,
          1.011,
          1.137,
          1.072,
          1.029,
          1.109,
          1.146,
          1.217,
          1.127,
          1.169,
          1.216,
          1.186,
          1.067,
          0.987,
          0.932,
          0.81
         ],
         "yaxis": "y14"
        },
        {
         "hovertemplate": "지역=대전<br>year=%{x}<br>birth rate=%{y}<extra></extra>",
         "legendgroup": "대전",
         "line": {
          "color": "#FF6692",
          "dash": "solid"
         },
         "marker": {
          "symbol": "circle"
         },
         "mode": "lines",
         "name": "대전",
         "orientation": "v",
         "showlegend": true,
         "type": "scatter",
         "x": [
          "2001",
          "2002",
          "2003",
          "2004",
          "2005",
          "2006",
          "2007",
          "2008",
          "2009",
          "2010",
          "2011",
          "2012",
          "2013",
          "2014",
          "2015",
          "2016",
          "2017",
          "2018",
          "2019",
          "2020"
         ],
         "xaxis": "x11",
         "y": [
          1.33,
          1.207,
          1.221,
          1.181,
          1.107,
          1.158,
          1.274,
          1.215,
          1.156,
          1.205,
          1.261,
          1.315,
          1.234,
          1.25,
          1.277,
          1.192,
          1.075,
          0.952,
          0.883,
          0.81
         ],
         "yaxis": "y11"
        },
        {
         "hovertemplate": "지역=부산<br>year=%{x}<br>birth rate=%{y}<extra></extra>",
         "legendgroup": "부산",
         "line": {
          "color": "#B6E880",
          "dash": "solid"
         },
         "marker": {
          "symbol": "circle"
         },
         "mode": "lines",
         "name": "부산",
         "orientation": "v",
         "showlegend": true,
         "type": "scatter",
         "x": [
          "2001",
          "2002",
          "2003",
          "2004",
          "2005",
          "2006",
          "2007",
          "2008",
          "2009",
          "2010",
          "2011",
          "2012",
          "2013",
          "2014",
          "2015",
          "2016",
          "2017",
          "2018",
          "2019",
          "2020"
         ],
         "xaxis": "x12",
         "y": [
          1.103,
          0.975,
          0.988,
          0.953,
          0.887,
          0.915,
          1.024,
          0.98,
          0.94,
          1.045,
          1.078,
          1.135,
          1.049,
          1.09,
          1.139,
          1.095,
          0.976,
          0.899,
          0.827,
          0.75
         ],
         "yaxis": "y12"
        },
        {
         "hovertemplate": "지역=서울<br>year=%{x}<br>birth rate=%{y}<extra></extra>",
         "legendgroup": "서울",
         "line": {
          "color": "#FF97FF",
          "dash": "solid"
         },
         "marker": {
          "symbol": "circle"
         },
         "mode": "lines",
         "name": "서울",
         "orientation": "v",
         "showlegend": true,
         "type": "scatter",
         "x": [
          "2001",
          "2002",
          "2003",
          "2004",
          "2005",
          "2006",
          "2007",
          "2008",
          "2009",
          "2010",
          "2011",
          "2012",
          "2013",
          "2014",
          "2015",
          "2016",
          "2017",
          "2018",
          "2019",
          "2020"
         ],
         "xaxis": "x9",
         "y": [
          1.111,
          1.006,
          1.014,
          1.015,
          0.932,
          0.98,
          1.068,
          1.01,
          0.962,
          1.015,
          1.014,
          1.059,
          0.968,
          0.983,
          1.001,
          0.94,
          0.836,
          0.761,
          0.717,
          0.64
         ],
         "yaxis": "y9"
        },
        {
         "hovertemplate": "지역=세종<br>year=%{x}<br>birth rate=%{y}<extra></extra>",
         "legendgroup": "세종",
         "line": {
          "color": "#FECB52",
          "dash": "solid"
         },
         "marker": {
          "symbol": "circle"
         },
         "mode": "lines",
         "name": "세종",
         "orientation": "v",
         "showlegend": true,
         "type": "scatter",
         "x": [
          "2001",
          "2002",
          "2003",
          "2004",
          "2005",
          "2006",
          "2007",
          "2008",
          "2009",
          "2010",
          "2011",
          "2012",
          "2013",
          "2014",
          "2015",
          "2016",
          "2017",
          "2018",
          "2019",
          "2020"
         ],
         "xaxis": "x10",
         "y": [
          0,
          0,
          0,
          0,
          0,
          0,
          0,
          0,
          0,
          0,
          0,
          1.597,
          1.435,
          1.354,
          1.893,
          1.821,
          1.668,
          1.566,
          1.472,
          1.28
         ],
         "yaxis": "y10"
        },
        {
         "hovertemplate": "지역=울산<br>year=%{x}<br>birth rate=%{y}<extra></extra>",
         "legendgroup": "울산",
         "line": {
          "color": "#636efa",
          "dash": "solid"
         },
         "marker": {
          "symbol": "circle"
         },
         "mode": "lines",
         "name": "울산",
         "orientation": "v",
         "showlegend": true,
         "type": "scatter",
         "x": [
          "2001",
          "2002",
          "2003",
          "2004",
          "2005",
          "2006",
          "2007",
          "2008",
          "2009",
          "2010",
          "2011",
          "2012",
          "2013",
          "2014",
          "2015",
          "2016",
          "2017",
          "2018",
          "2019",
          "2020"
         ],
         "xaxis": "x7",
         "y": [
          1.423,
          1.242,
          1.28,
          1.241,
          1.186,
          1.242,
          1.403,
          1.338,
          1.308,
          1.369,
          1.393,
          1.481,
          1.391,
          1.437,
          1.486,
          1.418,
          1.261,
          1.131,
          1.084,
          0.99
         ],
         "yaxis": "y7"
        },
        {
         "hovertemplate": "지역=인천<br>year=%{x}<br>birth rate=%{y}<extra></extra>",
         "legendgroup": "인천",
         "line": {
          "color": "#EF553B",
          "dash": "solid"
         },
         "marker": {
          "symbol": "circle"
         },
         "mode": "lines",
         "name": "인천",
         "orientation": "v",
         "showlegend": true,
         "type": "scatter",
         "x": [
          "2001",
          "2002",
          "2003",
          "2004",
          "2005",
          "2006",
          "2007",
          "2008",
          "2009",
          "2010",
          "2011",
          "2012",
          "2013",
          "2014",
          "2015",
          "2016",
          "2017",
          "2018",
          "2019",
          "2020"
         ],
         "xaxis": "x8",
         "y": [
          1.324,
          1.185,
          1.213,
          1.158,
          1.075,
          1.116,
          1.257,
          1.186,
          1.143,
          1.214,
          1.232,
          1.301,
          1.195,
          1.212,
          1.216,
          1.144,
          1.007,
          1.006,
          0.94,
          0.83
         ],
         "yaxis": "y8"
        },
        {
         "hovertemplate": "지역=전라남도<br>year=%{x}<br>birth rate=%{y}<extra></extra>",
         "legendgroup": "전라남도",
         "line": {
          "color": "#00cc96",
          "dash": "solid"
         },
         "marker": {
          "symbol": "circle"
         },
         "mode": "lines",
         "name": "전라남도",
         "orientation": "v",
         "showlegend": true,
         "type": "scatter",
         "x": [
          "2001",
          "2002",
          "2003",
          "2004",
          "2005",
          "2006",
          "2007",
          "2008",
          "2009",
          "2010",
          "2011",
          "2012",
          "2013",
          "2014",
          "2015",
          "2016",
          "2017",
          "2018",
          "2019",
          "2020"
         ],
         "xaxis": "x5",
         "y": [
          1.566,
          1.391,
          1.389,
          1.36,
          1.29,
          1.337,
          1.542,
          1.449,
          1.445,
          1.537,
          1.568,
          1.642,
          1.518,
          1.497,
          1.549,
          1.466,
          1.325,
          1.24,
          1.234,
          1.15
         ],
         "yaxis": "y5"
        },
        {
         "hovertemplate": "지역=전라북도<br>year=%{x}<br>birth rate=%{y}<extra></extra>",
         "legendgroup": "전라북도",
         "line": {
          "color": "#ab63fa",
          "dash": "solid"
         },
         "marker": {
          "symbol": "circle"
         },
         "mode": "lines",
         "name": "전라북도",
         "orientation": "v",
         "showlegend": true,
         "type": "scatter",
         "x": [
          "2001",
          "2002",
          "2003",
          "2004",
          "2005",
          "2006",
          "2007",
          "2008",
          "2009",
          "2010",
          "2011",
          "2012",
          "2013",
          "2014",
          "2015",
          "2016",
          "2017",
          "2018",
          "2019",
          "2020"
         ],
         "xaxis": "x6",
         "y": [
          1.426,
          1.275,
          1.274,
          1.239,
          1.184,
          1.213,
          1.38,
          1.305,
          1.279,
          1.374,
          1.405,
          1.44,
          1.32,
          1.329,
          1.352,
          1.251,
          1.151,
          1.044,
          0.971,
          0.91
         ],
         "yaxis": "y6"
        },
        {
         "hovertemplate": "지역=제주도<br>year=%{x}<br>birth rate=%{y}<extra></extra>",
         "legendgroup": "제주도",
         "line": {
          "color": "#FFA15A",
          "dash": "solid"
         },
         "marker": {
          "symbol": "circle"
         },
         "mode": "lines",
         "name": "제주도",
         "orientation": "v",
         "showlegend": true,
         "type": "scatter",
         "x": [
          "2001",
          "2002",
          "2003",
          "2004",
          "2005",
          "2006",
          "2007",
          "2008",
          "2009",
          "2010",
          "2011",
          "2012",
          "2013",
          "2014",
          "2015",
          "2016",
          "2017",
          "2018",
          "2019",
          "2020"
         ],
         "xaxis": "x3",
         "y": [
          1.564,
          1.394,
          1.438,
          1.365,
          1.31,
          1.372,
          1.489,
          1.386,
          1.378,
          1.463,
          1.487,
          1.598,
          1.427,
          1.481,
          1.477,
          1.432,
          1.305,
          1.22,
          1.145,
          1.02
         ],
         "yaxis": "y3"
        },
        {
         "hovertemplate": "지역=충청남도<br>year=%{x}<br>birth rate=%{y}<extra></extra>",
         "legendgroup": "충청남도",
         "line": {
          "color": "#19d3f3",
          "dash": "solid"
         },
         "marker": {
          "symbol": "circle"
         },
         "mode": "lines",
         "name": "충청남도",
         "orientation": "v",
         "showlegend": true,
         "type": "scatter",
         "x": [
          "2001",
          "2002",
          "2003",
          "2004",
          "2005",
          "2006",
          "2007",
          "2008",
          "2009",
          "2010",
          "2011",
          "2012",
          "2013",
          "2014",
          "2015",
          "2016",
          "2017",
          "2018",
          "2019",
          "2020"
         ],
         "xaxis": "x4",
         "y": [
          1.532,
          1.361,
          1.358,
          1.357,
          1.267,
          1.356,
          1.506,
          1.444,
          1.408,
          1.479,
          1.496,
          1.571,
          1.442,
          1.421,
          1.48,
          1.395,
          1.276,
          1.186,
          1.112,
          1.03
         ],
         "yaxis": "y4"
        },
        {
         "hovertemplate": "지역=충청북도<br>year=%{x}<br>birth rate=%{y}<extra></extra>",
         "legendgroup": "충청북도",
         "line": {
          "color": "#FF6692",
          "dash": "solid"
         },
         "marker": {
          "symbol": "circle"
         },
         "mode": "lines",
         "name": "충청북도",
         "orientation": "v",
         "showlegend": true,
         "type": "scatter",
         "x": [
          "2001",
          "2002",
          "2003",
          "2004",
          "2005",
          "2006",
          "2007",
          "2008",
          "2009",
          "2010",
          "2011",
          "2012",
          "2013",
          "2014",
          "2015",
          "2016",
          "2017",
          "2018",
          "2019",
          "2020"
         ],
         "xaxis": "x",
         "y": [
          1.426,
          1.294,
          1.27,
          1.272,
          1.195,
          1.233,
          1.398,
          1.319,
          1.317,
          1.402,
          1.428,
          1.485,
          1.365,
          1.363,
          1.414,
          1.358,
          1.235,
          1.172,
          1.05,
          0.98
         ],
         "yaxis": "y"
        }
       ],
       "layout": {
        "annotations": [
         {
          "font": {},
          "showarrow": false,
          "text": "지역=충청북도",
          "x": 0.24,
          "xanchor": "center",
          "xref": "paper",
          "y": 0.04888888888888888,
          "yanchor": "bottom",
          "yref": "paper"
         },
         {
          "font": {},
          "showarrow": false,
          "text": "지역=제주도",
          "x": 0.24,
          "xanchor": "center",
          "xref": "paper",
          "y": 0.16777777777777775,
          "yanchor": "bottom",
          "yref": "paper"
         },
         {
          "font": {},
          "showarrow": false,
          "text": "지역=충청남도",
          "x": 0.76,
          "xanchor": "center",
          "xref": "paper",
          "y": 0.16777777777777775,
          "yanchor": "bottom",
          "yref": "paper"
         },
         {
          "font": {},
          "showarrow": false,
          "text": "지역=전라남도",
          "x": 0.24,
          "xanchor": "center",
          "xref": "paper",
          "y": 0.2866666666666666,
          "yanchor": "bottom",
          "yref": "paper"
         },
         {
          "font": {},
          "showarrow": false,
          "text": "지역=전라북도",
          "x": 0.76,
          "xanchor": "center",
          "xref": "paper",
          "y": 0.2866666666666666,
          "yanchor": "bottom",
          "yref": "paper"
         },
         {
          "font": {},
          "showarrow": false,
          "text": "지역=울산",
          "x": 0.24,
          "xanchor": "center",
          "xref": "paper",
          "y": 0.40555555555555556,
          "yanchor": "bottom",
          "yref": "paper"
         },
         {
          "font": {},
          "showarrow": false,
          "text": "지역=인천",
          "x": 0.76,
          "xanchor": "center",
          "xref": "paper",
          "y": 0.40555555555555556,
          "yanchor": "bottom",
          "yref": "paper"
         },
         {
          "font": {},
          "showarrow": false,
          "text": "지역=서울",
          "x": 0.24,
          "xanchor": "center",
          "xref": "paper",
          "y": 0.5244444444444444,
          "yanchor": "bottom",
          "yref": "paper"
         },
         {
          "font": {},
          "showarrow": false,
          "text": "지역=세종",
          "x": 0.76,
          "xanchor": "center",
          "xref": "paper",
          "y": 0.5244444444444444,
          "yanchor": "bottom",
          "yref": "paper"
         },
         {
          "font": {},
          "showarrow": false,
          "text": "지역=대전",
          "x": 0.24,
          "xanchor": "center",
          "xref": "paper",
          "y": 0.6433333333333333,
          "yanchor": "bottom",
          "yref": "paper"
         },
         {
          "font": {},
          "showarrow": false,
          "text": "지역=부산",
          "x": 0.76,
          "xanchor": "center",
          "xref": "paper",
          "y": 0.6433333333333333,
          "yanchor": "bottom",
          "yref": "paper"
         },
         {
          "font": {},
          "showarrow": false,
          "text": "지역=광주",
          "x": 0.24,
          "xanchor": "center",
          "xref": "paper",
          "y": 0.7622222222222222,
          "yanchor": "bottom",
          "yref": "paper"
         },
         {
          "font": {},
          "showarrow": false,
          "text": "지역=대구",
          "x": 0.76,
          "xanchor": "center",
          "xref": "paper",
          "y": 0.7622222222222222,
          "yanchor": "bottom",
          "yref": "paper"
         },
         {
          "font": {},
          "showarrow": false,
          "text": "지역=경상남도",
          "x": 0.24,
          "xanchor": "center",
          "xref": "paper",
          "y": 0.8811111111111111,
          "yanchor": "bottom",
          "yref": "paper"
         },
         {
          "font": {},
          "showarrow": false,
          "text": "지역=경상북도",
          "x": 0.76,
          "xanchor": "center",
          "xref": "paper",
          "y": 0.8811111111111111,
          "yanchor": "bottom",
          "yref": "paper"
         },
         {
          "font": {},
          "showarrow": false,
          "text": "지역=강원도",
          "x": 0.24,
          "xanchor": "center",
          "xref": "paper",
          "y": 0.9999999999999999,
          "yanchor": "bottom",
          "yref": "paper"
         },
         {
          "font": {},
          "showarrow": false,
          "text": "지역=경기도",
          "x": 0.76,
          "xanchor": "center",
          "xref": "paper",
          "y": 0.9999999999999999,
          "yanchor": "bottom",
          "yref": "paper"
         }
        ],
        "height": 3000,
        "legend": {
         "title": {
          "text": "지역"
         },
         "tracegroupgap": 0
        },
        "margin": {
         "t": 60
        },
        "template": {
         "data": {
          "bar": [
           {
            "error_x": {
             "color": "#2a3f5f"
            },
            "error_y": {
             "color": "#2a3f5f"
            },
            "marker": {
             "line": {
              "color": "#E5ECF6",
              "width": 0.5
             },
             "pattern": {
              "fillmode": "overlay",
              "size": 10,
              "solidity": 0.2
             }
            },
            "type": "bar"
           }
          ],
          "barpolar": [
           {
            "marker": {
             "line": {
              "color": "#E5ECF6",
              "width": 0.5
             },
             "pattern": {
              "fillmode": "overlay",
              "size": 10,
              "solidity": 0.2
             }
            },
            "type": "barpolar"
           }
          ],
          "carpet": [
           {
            "aaxis": {
             "endlinecolor": "#2a3f5f",
             "gridcolor": "white",
             "linecolor": "white",
             "minorgridcolor": "white",
             "startlinecolor": "#2a3f5f"
            },
            "baxis": {
             "endlinecolor": "#2a3f5f",
             "gridcolor": "white",
             "linecolor": "white",
             "minorgridcolor": "white",
             "startlinecolor": "#2a3f5f"
            },
            "type": "carpet"
           }
          ],
          "choropleth": [
           {
            "colorbar": {
             "outlinewidth": 0,
             "ticks": ""
            },
            "type": "choropleth"
           }
          ],
          "contour": [
           {
            "colorbar": {
             "outlinewidth": 0,
             "ticks": ""
            },
            "colorscale": [
             [
              0,
              "#0d0887"
             ],
             [
              0.1111111111111111,
              "#46039f"
             ],
             [
              0.2222222222222222,
              "#7201a8"
             ],
             [
              0.3333333333333333,
              "#9c179e"
             ],
             [
              0.4444444444444444,
              "#bd3786"
             ],
             [
              0.5555555555555556,
              "#d8576b"
             ],
             [
              0.6666666666666666,
              "#ed7953"
             ],
             [
              0.7777777777777778,
              "#fb9f3a"
             ],
             [
              0.8888888888888888,
              "#fdca26"
             ],
             [
              1,
              "#f0f921"
             ]
            ],
            "type": "contour"
           }
          ],
          "contourcarpet": [
           {
            "colorbar": {
             "outlinewidth": 0,
             "ticks": ""
            },
            "type": "contourcarpet"
           }
          ],
          "heatmap": [
           {
            "colorbar": {
             "outlinewidth": 0,
             "ticks": ""
            },
            "colorscale": [
             [
              0,
              "#0d0887"
             ],
             [
              0.1111111111111111,
              "#46039f"
             ],
             [
              0.2222222222222222,
              "#7201a8"
             ],
             [
              0.3333333333333333,
              "#9c179e"
             ],
             [
              0.4444444444444444,
              "#bd3786"
             ],
             [
              0.5555555555555556,
              "#d8576b"
             ],
             [
              0.6666666666666666,
              "#ed7953"
             ],
             [
              0.7777777777777778,
              "#fb9f3a"
             ],
             [
              0.8888888888888888,
              "#fdca26"
             ],
             [
              1,
              "#f0f921"
             ]
            ],
            "type": "heatmap"
           }
          ],
          "heatmapgl": [
           {
            "colorbar": {
             "outlinewidth": 0,
             "ticks": ""
            },
            "colorscale": [
             [
              0,
              "#0d0887"
             ],
             [
              0.1111111111111111,
              "#46039f"
             ],
             [
              0.2222222222222222,
              "#7201a8"
             ],
             [
              0.3333333333333333,
              "#9c179e"
             ],
             [
              0.4444444444444444,
              "#bd3786"
             ],
             [
              0.5555555555555556,
              "#d8576b"
             ],
             [
              0.6666666666666666,
              "#ed7953"
             ],
             [
              0.7777777777777778,
              "#fb9f3a"
             ],
             [
              0.8888888888888888,
              "#fdca26"
             ],
             [
              1,
              "#f0f921"
             ]
            ],
            "type": "heatmapgl"
           }
          ],
          "histogram": [
           {
            "marker": {
             "pattern": {
              "fillmode": "overlay",
              "size": 10,
              "solidity": 0.2
             }
            },
            "type": "histogram"
           }
          ],
          "histogram2d": [
           {
            "colorbar": {
             "outlinewidth": 0,
             "ticks": ""
            },
            "colorscale": [
             [
              0,
              "#0d0887"
             ],
             [
              0.1111111111111111,
              "#46039f"
             ],
             [
              0.2222222222222222,
              "#7201a8"
             ],
             [
              0.3333333333333333,
              "#9c179e"
             ],
             [
              0.4444444444444444,
              "#bd3786"
             ],
             [
              0.5555555555555556,
              "#d8576b"
             ],
             [
              0.6666666666666666,
              "#ed7953"
             ],
             [
              0.7777777777777778,
              "#fb9f3a"
             ],
             [
              0.8888888888888888,
              "#fdca26"
             ],
             [
              1,
              "#f0f921"
             ]
            ],
            "type": "histogram2d"
           }
          ],
          "histogram2dcontour": [
           {
            "colorbar": {
             "outlinewidth": 0,
             "ticks": ""
            },
            "colorscale": [
             [
              0,
              "#0d0887"
             ],
             [
              0.1111111111111111,
              "#46039f"
             ],
             [
              0.2222222222222222,
              "#7201a8"
             ],
             [
              0.3333333333333333,
              "#9c179e"
             ],
             [
              0.4444444444444444,
              "#bd3786"
             ],
             [
              0.5555555555555556,
              "#d8576b"
             ],
             [
              0.6666666666666666,
              "#ed7953"
             ],
             [
              0.7777777777777778,
              "#fb9f3a"
             ],
             [
              0.8888888888888888,
              "#fdca26"
             ],
             [
              1,
              "#f0f921"
             ]
            ],
            "type": "histogram2dcontour"
           }
          ],
          "mesh3d": [
           {
            "colorbar": {
             "outlinewidth": 0,
             "ticks": ""
            },
            "type": "mesh3d"
           }
          ],
          "parcoords": [
           {
            "line": {
             "colorbar": {
              "outlinewidth": 0,
              "ticks": ""
             }
            },
            "type": "parcoords"
           }
          ],
          "pie": [
           {
            "automargin": true,
            "type": "pie"
           }
          ],
          "scatter": [
           {
            "marker": {
             "colorbar": {
              "outlinewidth": 0,
              "ticks": ""
             }
            },
            "type": "scatter"
           }
          ],
          "scatter3d": [
           {
            "line": {
             "colorbar": {
              "outlinewidth": 0,
              "ticks": ""
             }
            },
            "marker": {
             "colorbar": {
              "outlinewidth": 0,
              "ticks": ""
             }
            },
            "type": "scatter3d"
           }
          ],
          "scattercarpet": [
           {
            "marker": {
             "colorbar": {
              "outlinewidth": 0,
              "ticks": ""
             }
            },
            "type": "scattercarpet"
           }
          ],
          "scattergeo": [
           {
            "marker": {
             "colorbar": {
              "outlinewidth": 0,
              "ticks": ""
             }
            },
            "type": "scattergeo"
           }
          ],
          "scattergl": [
           {
            "marker": {
             "colorbar": {
              "outlinewidth": 0,
              "ticks": ""
             }
            },
            "type": "scattergl"
           }
          ],
          "scattermapbox": [
           {
            "marker": {
             "colorbar": {
              "outlinewidth": 0,
              "ticks": ""
             }
            },
            "type": "scattermapbox"
           }
          ],
          "scatterpolar": [
           {
            "marker": {
             "colorbar": {
              "outlinewidth": 0,
              "ticks": ""
             }
            },
            "type": "scatterpolar"
           }
          ],
          "scatterpolargl": [
           {
            "marker": {
             "colorbar": {
              "outlinewidth": 0,
              "ticks": ""
             }
            },
            "type": "scatterpolargl"
           }
          ],
          "scatterternary": [
           {
            "marker": {
             "colorbar": {
              "outlinewidth": 0,
              "ticks": ""
             }
            },
            "type": "scatterternary"
           }
          ],
          "surface": [
           {
            "colorbar": {
             "outlinewidth": 0,
             "ticks": ""
            },
            "colorscale": [
             [
              0,
              "#0d0887"
             ],
             [
              0.1111111111111111,
              "#46039f"
             ],
             [
              0.2222222222222222,
              "#7201a8"
             ],
             [
              0.3333333333333333,
              "#9c179e"
             ],
             [
              0.4444444444444444,
              "#bd3786"
             ],
             [
              0.5555555555555556,
              "#d8576b"
             ],
             [
              0.6666666666666666,
              "#ed7953"
             ],
             [
              0.7777777777777778,
              "#fb9f3a"
             ],
             [
              0.8888888888888888,
              "#fdca26"
             ],
             [
              1,
              "#f0f921"
             ]
            ],
            "type": "surface"
           }
          ],
          "table": [
           {
            "cells": {
             "fill": {
              "color": "#EBF0F8"
             },
             "line": {
              "color": "white"
             }
            },
            "header": {
             "fill": {
              "color": "#C8D4E3"
             },
             "line": {
              "color": "white"
             }
            },
            "type": "table"
           }
          ]
         },
         "layout": {
          "annotationdefaults": {
           "arrowcolor": "#2a3f5f",
           "arrowhead": 0,
           "arrowwidth": 1
          },
          "autotypenumbers": "strict",
          "coloraxis": {
           "colorbar": {
            "outlinewidth": 0,
            "ticks": ""
           }
          },
          "colorscale": {
           "diverging": [
            [
             0,
             "#8e0152"
            ],
            [
             0.1,
             "#c51b7d"
            ],
            [
             0.2,
             "#de77ae"
            ],
            [
             0.3,
             "#f1b6da"
            ],
            [
             0.4,
             "#fde0ef"
            ],
            [
             0.5,
             "#f7f7f7"
            ],
            [
             0.6,
             "#e6f5d0"
            ],
            [
             0.7,
             "#b8e186"
            ],
            [
             0.8,
             "#7fbc41"
            ],
            [
             0.9,
             "#4d9221"
            ],
            [
             1,
             "#276419"
            ]
           ],
           "sequential": [
            [
             0,
             "#0d0887"
            ],
            [
             0.1111111111111111,
             "#46039f"
            ],
            [
             0.2222222222222222,
             "#7201a8"
            ],
            [
             0.3333333333333333,
             "#9c179e"
            ],
            [
             0.4444444444444444,
             "#bd3786"
            ],
            [
             0.5555555555555556,
             "#d8576b"
            ],
            [
             0.6666666666666666,
             "#ed7953"
            ],
            [
             0.7777777777777778,
             "#fb9f3a"
            ],
            [
             0.8888888888888888,
             "#fdca26"
            ],
            [
             1,
             "#f0f921"
            ]
           ],
           "sequentialminus": [
            [
             0,
             "#0d0887"
            ],
            [
             0.1111111111111111,
             "#46039f"
            ],
            [
             0.2222222222222222,
             "#7201a8"
            ],
            [
             0.3333333333333333,
             "#9c179e"
            ],
            [
             0.4444444444444444,
             "#bd3786"
            ],
            [
             0.5555555555555556,
             "#d8576b"
            ],
            [
             0.6666666666666666,
             "#ed7953"
            ],
            [
             0.7777777777777778,
             "#fb9f3a"
            ],
            [
             0.8888888888888888,
             "#fdca26"
            ],
            [
             1,
             "#f0f921"
            ]
           ]
          },
          "colorway": [
           "#636efa",
           "#EF553B",
           "#00cc96",
           "#ab63fa",
           "#FFA15A",
           "#19d3f3",
           "#FF6692",
           "#B6E880",
           "#FF97FF",
           "#FECB52"
          ],
          "font": {
           "color": "#2a3f5f"
          },
          "geo": {
           "bgcolor": "white",
           "lakecolor": "white",
           "landcolor": "#E5ECF6",
           "showlakes": true,
           "showland": true,
           "subunitcolor": "white"
          },
          "hoverlabel": {
           "align": "left"
          },
          "hovermode": "closest",
          "mapbox": {
           "style": "light"
          },
          "paper_bgcolor": "white",
          "plot_bgcolor": "#E5ECF6",
          "polar": {
           "angularaxis": {
            "gridcolor": "white",
            "linecolor": "white",
            "ticks": ""
           },
           "bgcolor": "#E5ECF6",
           "radialaxis": {
            "gridcolor": "white",
            "linecolor": "white",
            "ticks": ""
           }
          },
          "scene": {
           "xaxis": {
            "backgroundcolor": "#E5ECF6",
            "gridcolor": "white",
            "gridwidth": 2,
            "linecolor": "white",
            "showbackground": true,
            "ticks": "",
            "zerolinecolor": "white"
           },
           "yaxis": {
            "backgroundcolor": "#E5ECF6",
            "gridcolor": "white",
            "gridwidth": 2,
            "linecolor": "white",
            "showbackground": true,
            "ticks": "",
            "zerolinecolor": "white"
           },
           "zaxis": {
            "backgroundcolor": "#E5ECF6",
            "gridcolor": "white",
            "gridwidth": 2,
            "linecolor": "white",
            "showbackground": true,
            "ticks": "",
            "zerolinecolor": "white"
           }
          },
          "shapedefaults": {
           "line": {
            "color": "#2a3f5f"
           }
          },
          "ternary": {
           "aaxis": {
            "gridcolor": "white",
            "linecolor": "white",
            "ticks": ""
           },
           "baxis": {
            "gridcolor": "white",
            "linecolor": "white",
            "ticks": ""
           },
           "bgcolor": "#E5ECF6",
           "caxis": {
            "gridcolor": "white",
            "linecolor": "white",
            "ticks": ""
           }
          },
          "title": {
           "x": 0.05
          },
          "xaxis": {
           "automargin": true,
           "gridcolor": "white",
           "linecolor": "white",
           "ticks": "",
           "title": {
            "standoff": 15
           },
           "zerolinecolor": "white",
           "zerolinewidth": 2
          },
          "yaxis": {
           "automargin": true,
           "gridcolor": "white",
           "linecolor": "white",
           "ticks": "",
           "title": {
            "standoff": 15
           },
           "zerolinecolor": "white",
           "zerolinewidth": 2
          }
         }
        },
        "width": 1000,
        "xaxis": {
         "anchor": "y",
         "domain": [
          0,
          0.48
         ],
         "title": {
          "text": "year"
         }
        },
        "xaxis10": {
         "anchor": "y10",
         "domain": [
          0.52,
          1
         ],
         "matches": "x",
         "showticklabels": false
        },
        "xaxis11": {
         "anchor": "y11",
         "domain": [
          0,
          0.48
         ],
         "matches": "x",
         "showticklabels": false
        },
        "xaxis12": {
         "anchor": "y12",
         "domain": [
          0.52,
          1
         ],
         "matches": "x",
         "showticklabels": false
        },
        "xaxis13": {
         "anchor": "y13",
         "domain": [
          0,
          0.48
         ],
         "matches": "x",
         "showticklabels": false
        },
        "xaxis14": {
         "anchor": "y14",
         "domain": [
          0.52,
          1
         ],
         "matches": "x",
         "showticklabels": false
        },
        "xaxis15": {
         "anchor": "y15",
         "domain": [
          0,
          0.48
         ],
         "matches": "x",
         "showticklabels": false
        },
        "xaxis16": {
         "anchor": "y16",
         "domain": [
          0.52,
          1
         ],
         "matches": "x",
         "showticklabels": false
        },
        "xaxis17": {
         "anchor": "y17",
         "domain": [
          0,
          0.48
         ],
         "matches": "x",
         "showticklabels": false
        },
        "xaxis18": {
         "anchor": "y18",
         "domain": [
          0.52,
          1
         ],
         "matches": "x",
         "showticklabels": false
        },
        "xaxis2": {
         "anchor": "y2",
         "domain": [
          0.52,
          1
         ],
         "matches": "x",
         "title": {
          "text": "year"
         }
        },
        "xaxis3": {
         "anchor": "y3",
         "domain": [
          0,
          0.48
         ],
         "matches": "x",
         "showticklabels": false
        },
        "xaxis4": {
         "anchor": "y4",
         "domain": [
          0.52,
          1
         ],
         "matches": "x",
         "showticklabels": false
        },
        "xaxis5": {
         "anchor": "y5",
         "domain": [
          0,
          0.48
         ],
         "matches": "x",
         "showticklabels": false
        },
        "xaxis6": {
         "anchor": "y6",
         "domain": [
          0.52,
          1
         ],
         "matches": "x",
         "showticklabels": false
        },
        "xaxis7": {
         "anchor": "y7",
         "domain": [
          0,
          0.48
         ],
         "matches": "x",
         "showticklabels": false
        },
        "xaxis8": {
         "anchor": "y8",
         "domain": [
          0.52,
          1
         ],
         "matches": "x",
         "showticklabels": false
        },
        "xaxis9": {
         "anchor": "y9",
         "domain": [
          0,
          0.48
         ],
         "matches": "x",
         "showticklabels": false
        },
        "yaxis": {
         "anchor": "x",
         "domain": [
          0,
          0.04888888888888888
         ],
         "showticklabels": true,
         "title": {
          "text": "birth rate"
         }
        },
        "yaxis10": {
         "anchor": "x10",
         "domain": [
          0.4755555555555555,
          0.5244444444444444
         ],
         "showticklabels": true
        },
        "yaxis11": {
         "anchor": "x11",
         "domain": [
          0.5944444444444444,
          0.6433333333333333
         ],
         "showticklabels": true,
         "title": {
          "text": "birth rate"
         }
        },
        "yaxis12": {
         "anchor": "x12",
         "domain": [
          0.5944444444444444,
          0.6433333333333333
         ],
         "showticklabels": true
        },
        "yaxis13": {
         "anchor": "x13",
         "domain": [
          0.7133333333333334,
          0.7622222222222222
         ],
         "showticklabels": true,
         "title": {
          "text": "birth rate"
         }
        },
        "yaxis14": {
         "anchor": "x14",
         "domain": [
          0.7133333333333334,
          0.7622222222222222
         ],
         "showticklabels": true
        },
        "yaxis15": {
         "anchor": "x15",
         "domain": [
          0.8322222222222222,
          0.8811111111111111
         ],
         "showticklabels": true,
         "title": {
          "text": "birth rate"
         }
        },
        "yaxis16": {
         "anchor": "x16",
         "domain": [
          0.8322222222222222,
          0.8811111111111111
         ],
         "showticklabels": true
        },
        "yaxis17": {
         "anchor": "x17",
         "domain": [
          0.951111111111111,
          0.9999999999999999
         ],
         "showticklabels": true,
         "title": {
          "text": "birth rate"
         }
        },
        "yaxis18": {
         "anchor": "x18",
         "domain": [
          0.951111111111111,
          0.9999999999999999
         ],
         "showticklabels": true
        },
        "yaxis2": {
         "anchor": "x2",
         "domain": [
          0,
          0.04888888888888888
         ],
         "showticklabels": true
        },
        "yaxis3": {
         "anchor": "x3",
         "domain": [
          0.11888888888888888,
          0.16777777777777775
         ],
         "showticklabels": true,
         "title": {
          "text": "birth rate"
         }
        },
        "yaxis4": {
         "anchor": "x4",
         "domain": [
          0.11888888888888888,
          0.16777777777777775
         ],
         "showticklabels": true
        },
        "yaxis5": {
         "anchor": "x5",
         "domain": [
          0.23777777777777775,
          0.2866666666666666
         ],
         "showticklabels": true,
         "title": {
          "text": "birth rate"
         }
        },
        "yaxis6": {
         "anchor": "x6",
         "domain": [
          0.23777777777777775,
          0.2866666666666666
         ],
         "showticklabels": true
        },
        "yaxis7": {
         "anchor": "x7",
         "domain": [
          0.3566666666666667,
          0.40555555555555556
         ],
         "showticklabels": true,
         "title": {
          "text": "birth rate"
         }
        },
        "yaxis8": {
         "anchor": "x8",
         "domain": [
          0.3566666666666667,
          0.40555555555555556
         ],
         "showticklabels": true
        },
        "yaxis9": {
         "anchor": "x9",
         "domain": [
          0.4755555555555555,
          0.5244444444444444
         ],
         "showticklabels": true,
         "title": {
          "text": "birth rate"
         }
        }
       }
      },
      "text/html": [
       "<div>                            <div id=\"febf7466-c8ad-44f8-a38e-23e322574b0e\" class=\"plotly-graph-div\" style=\"height:3000px; width:1000px;\"></div>            <script type=\"text/javascript\">                require([\"plotly\"], function(Plotly) {                    window.PLOTLYENV=window.PLOTLYENV || {};                                    if (document.getElementById(\"febf7466-c8ad-44f8-a38e-23e322574b0e\")) {                    Plotly.newPlot(                        \"febf7466-c8ad-44f8-a38e-23e322574b0e\",                        [{\"hovertemplate\":\"\\uc9c0\\uc5ed=\\uac15\\uc6d0\\ub3c4<br>year=%{x}<br>birth rate=%{y}<extra></extra>\",\"legendgroup\":\"\\uac15\\uc6d0\\ub3c4\",\"line\":{\"color\":\"#636efa\",\"dash\":\"solid\"},\"marker\":{\"symbol\":\"circle\"},\"mode\":\"lines\",\"name\":\"\\uac15\\uc6d0\\ub3c4\",\"orientation\":\"v\",\"showlegend\":true,\"type\":\"scatter\",\"x\":[\"2001\",\"2002\",\"2003\",\"2004\",\"2005\",\"2006\",\"2007\",\"2008\",\"2009\",\"2010\",\"2011\",\"2012\",\"2013\",\"2014\",\"2015\",\"2016\",\"2017\",\"2018\",\"2019\",\"2020\"],\"xaxis\":\"x17\",\"y\":[1.413,1.317,1.279,1.261,1.188,1.202,1.356,1.253,1.248,1.313,1.338,1.374,1.249,1.248,1.311,1.237,1.123,1.067,1.082,1.04],\"yaxis\":\"y17\"},{\"hovertemplate\":\"\\uc9c0\\uc5ed=\\uacbd\\uae30\\ub3c4<br>year=%{x}<br>birth rate=%{y}<extra></extra>\",\"legendgroup\":\"\\uacbd\\uae30\\ub3c4\",\"line\":{\"color\":\"#EF553B\",\"dash\":\"solid\"},\"marker\":{\"symbol\":\"circle\"},\"mode\":\"lines\",\"name\":\"\\uacbd\\uae30\\ub3c4\",\"orientation\":\"v\",\"showlegend\":true,\"type\":\"scatter\",\"x\":[\"2001\",\"2002\",\"2003\",\"2004\",\"2005\",\"2006\",\"2007\",\"2008\",\"2009\",\"2010\",\"2011\",\"2012\",\"2013\",\"2014\",\"2015\",\"2016\",\"2017\",\"2018\",\"2019\",\"2020\"],\"xaxis\":\"x18\",\"y\":[1.437,1.305,1.321,1.28,1.183,1.239,1.361,1.285,1.226,1.309,1.314,1.355,1.226,1.241,1.272,1.194,1.069,1.002,0.943,0.88],\"yaxis\":\"y18\"},{\"hovertemplate\":\"\\uc9c0\\uc5ed=\\uacbd\\uc0c1\\ub0a8\\ub3c4<br>year=%{x}<br>birth rate=%{y}<extra></extra>\",\"legendgroup\":\"\\uacbd\\uc0c1\\ub0a8\\ub3c4\",\"line\":{\"color\":\"#00cc96\",\"dash\":\"solid\"},\"marker\":{\"symbol\":\"circle\"},\"mode\":\"lines\",\"name\":\"\\uacbd\\uc0c1\\ub0a8\\ub3c4\",\"orientation\":\"v\",\"showlegend\":true,\"type\":\"scatter\",\"x\":[\"2001\",\"2002\",\"2003\",\"2004\",\"2005\",\"2006\",\"2007\",\"2008\",\"2009\",\"2010\",\"2011\",\"2012\",\"2013\",\"2014\",\"2015\",\"2016\",\"2017\",\"2018\",\"2019\",\"2020\"],\"xaxis\":\"x15\",\"y\":[1.417,1.272,1.29,1.266,1.189,1.254,1.434,1.368,1.323,1.413,1.446,1.503,1.367,1.409,1.437,1.358,1.227,1.122,1.046,0.95],\"yaxis\":\"y15\"},{\"hovertemplate\":\"\\uc9c0\\uc5ed=\\uacbd\\uc0c1\\ubd81\\ub3c4<br>year=%{x}<br>birth rate=%{y}<extra></extra>\",\"legendgroup\":\"\\uacbd\\uc0c1\\ubd81\\ub3c4\",\"line\":{\"color\":\"#ab63fa\",\"dash\":\"solid\"},\"marker\":{\"symbol\":\"circle\"},\"mode\":\"lines\",\"name\":\"\\uacbd\\uc0c1\\ubd81\\ub3c4\",\"orientation\":\"v\",\"showlegend\":true,\"type\":\"scatter\",\"x\":[\"2001\",\"2002\",\"2003\",\"2004\",\"2005\",\"2006\",\"2007\",\"2008\",\"2009\",\"2010\",\"2011\",\"2012\",\"2013\",\"2014\",\"2015\",\"2016\",\"2017\",\"2018\",\"2019\",\"2020\"],\"xaxis\":\"x16\",\"y\":[1.402,1.232,1.253,1.203,1.173,1.208,1.369,1.313,1.274,1.377,1.434,1.489,1.379,1.408,1.464,1.396,1.256,1.167,1.089,1.0],\"yaxis\":\"y16\"},{\"hovertemplate\":\"\\uc9c0\\uc5ed=\\uad11\\uc8fc<br>year=%{x}<br>birth rate=%{y}<extra></extra>\",\"legendgroup\":\"\\uad11\\uc8fc\",\"line\":{\"color\":\"#FFA15A\",\"dash\":\"solid\"},\"marker\":{\"symbol\":\"circle\"},\"mode\":\"lines\",\"name\":\"\\uad11\\uc8fc\",\"orientation\":\"v\",\"showlegend\":true,\"type\":\"scatter\",\"x\":[\"2001\",\"2002\",\"2003\",\"2004\",\"2005\",\"2006\",\"2007\",\"2008\",\"2009\",\"2010\",\"2011\",\"2012\",\"2013\",\"2014\",\"2015\",\"2016\",\"2017\",\"2018\",\"2019\",\"2020\"],\"xaxis\":\"x13\",\"y\":[1.421,1.264,1.278,1.203,1.105,1.152,1.262,1.198,1.137,1.223,1.234,1.295,1.17,1.199,1.207,1.168,1.053,0.972,0.913,0.81],\"yaxis\":\"y13\"},{\"hovertemplate\":\"\\uc9c0\\uc5ed=\\ub300\\uad6c<br>year=%{x}<br>birth rate=%{y}<extra></extra>\",\"legendgroup\":\"\\ub300\\uad6c\",\"line\":{\"color\":\"#19d3f3\",\"dash\":\"solid\"},\"marker\":{\"symbol\":\"circle\"},\"mode\":\"lines\",\"name\":\"\\ub300\\uad6c\",\"orientation\":\"v\",\"showlegend\":true,\"type\":\"scatter\",\"x\":[\"2001\",\"2002\",\"2003\",\"2004\",\"2005\",\"2006\",\"2007\",\"2008\",\"2009\",\"2010\",\"2011\",\"2012\",\"2013\",\"2014\",\"2015\",\"2016\",\"2017\",\"2018\",\"2019\",\"2020\"],\"xaxis\":\"x14\",\"y\":[1.216,1.076,1.116,1.087,1.001,1.011,1.137,1.072,1.029,1.109,1.146,1.217,1.127,1.169,1.216,1.186,1.067,0.987,0.932,0.81],\"yaxis\":\"y14\"},{\"hovertemplate\":\"\\uc9c0\\uc5ed=\\ub300\\uc804<br>year=%{x}<br>birth rate=%{y}<extra></extra>\",\"legendgroup\":\"\\ub300\\uc804\",\"line\":{\"color\":\"#FF6692\",\"dash\":\"solid\"},\"marker\":{\"symbol\":\"circle\"},\"mode\":\"lines\",\"name\":\"\\ub300\\uc804\",\"orientation\":\"v\",\"showlegend\":true,\"type\":\"scatter\",\"x\":[\"2001\",\"2002\",\"2003\",\"2004\",\"2005\",\"2006\",\"2007\",\"2008\",\"2009\",\"2010\",\"2011\",\"2012\",\"2013\",\"2014\",\"2015\",\"2016\",\"2017\",\"2018\",\"2019\",\"2020\"],\"xaxis\":\"x11\",\"y\":[1.33,1.207,1.221,1.181,1.107,1.158,1.274,1.215,1.156,1.205,1.261,1.315,1.234,1.25,1.277,1.192,1.075,0.952,0.883,0.81],\"yaxis\":\"y11\"},{\"hovertemplate\":\"\\uc9c0\\uc5ed=\\ubd80\\uc0b0<br>year=%{x}<br>birth rate=%{y}<extra></extra>\",\"legendgroup\":\"\\ubd80\\uc0b0\",\"line\":{\"color\":\"#B6E880\",\"dash\":\"solid\"},\"marker\":{\"symbol\":\"circle\"},\"mode\":\"lines\",\"name\":\"\\ubd80\\uc0b0\",\"orientation\":\"v\",\"showlegend\":true,\"type\":\"scatter\",\"x\":[\"2001\",\"2002\",\"2003\",\"2004\",\"2005\",\"2006\",\"2007\",\"2008\",\"2009\",\"2010\",\"2011\",\"2012\",\"2013\",\"2014\",\"2015\",\"2016\",\"2017\",\"2018\",\"2019\",\"2020\"],\"xaxis\":\"x12\",\"y\":[1.103,0.975,0.988,0.953,0.887,0.915,1.024,0.98,0.94,1.045,1.078,1.135,1.049,1.09,1.139,1.095,0.976,0.899,0.827,0.75],\"yaxis\":\"y12\"},{\"hovertemplate\":\"\\uc9c0\\uc5ed=\\uc11c\\uc6b8<br>year=%{x}<br>birth rate=%{y}<extra></extra>\",\"legendgroup\":\"\\uc11c\\uc6b8\",\"line\":{\"color\":\"#FF97FF\",\"dash\":\"solid\"},\"marker\":{\"symbol\":\"circle\"},\"mode\":\"lines\",\"name\":\"\\uc11c\\uc6b8\",\"orientation\":\"v\",\"showlegend\":true,\"type\":\"scatter\",\"x\":[\"2001\",\"2002\",\"2003\",\"2004\",\"2005\",\"2006\",\"2007\",\"2008\",\"2009\",\"2010\",\"2011\",\"2012\",\"2013\",\"2014\",\"2015\",\"2016\",\"2017\",\"2018\",\"2019\",\"2020\"],\"xaxis\":\"x9\",\"y\":[1.111,1.006,1.014,1.015,0.932,0.98,1.068,1.01,0.962,1.015,1.014,1.059,0.968,0.983,1.001,0.94,0.836,0.761,0.717,0.64],\"yaxis\":\"y9\"},{\"hovertemplate\":\"\\uc9c0\\uc5ed=\\uc138\\uc885<br>year=%{x}<br>birth rate=%{y}<extra></extra>\",\"legendgroup\":\"\\uc138\\uc885\",\"line\":{\"color\":\"#FECB52\",\"dash\":\"solid\"},\"marker\":{\"symbol\":\"circle\"},\"mode\":\"lines\",\"name\":\"\\uc138\\uc885\",\"orientation\":\"v\",\"showlegend\":true,\"type\":\"scatter\",\"x\":[\"2001\",\"2002\",\"2003\",\"2004\",\"2005\",\"2006\",\"2007\",\"2008\",\"2009\",\"2010\",\"2011\",\"2012\",\"2013\",\"2014\",\"2015\",\"2016\",\"2017\",\"2018\",\"2019\",\"2020\"],\"xaxis\":\"x10\",\"y\":[0.0,0.0,0.0,0.0,0.0,0.0,0.0,0.0,0.0,0.0,0.0,1.597,1.435,1.354,1.893,1.821,1.668,1.566,1.472,1.28],\"yaxis\":\"y10\"},{\"hovertemplate\":\"\\uc9c0\\uc5ed=\\uc6b8\\uc0b0<br>year=%{x}<br>birth rate=%{y}<extra></extra>\",\"legendgroup\":\"\\uc6b8\\uc0b0\",\"line\":{\"color\":\"#636efa\",\"dash\":\"solid\"},\"marker\":{\"symbol\":\"circle\"},\"mode\":\"lines\",\"name\":\"\\uc6b8\\uc0b0\",\"orientation\":\"v\",\"showlegend\":true,\"type\":\"scatter\",\"x\":[\"2001\",\"2002\",\"2003\",\"2004\",\"2005\",\"2006\",\"2007\",\"2008\",\"2009\",\"2010\",\"2011\",\"2012\",\"2013\",\"2014\",\"2015\",\"2016\",\"2017\",\"2018\",\"2019\",\"2020\"],\"xaxis\":\"x7\",\"y\":[1.423,1.242,1.28,1.241,1.186,1.242,1.403,1.338,1.308,1.369,1.393,1.481,1.391,1.437,1.486,1.418,1.261,1.131,1.084,0.99],\"yaxis\":\"y7\"},{\"hovertemplate\":\"\\uc9c0\\uc5ed=\\uc778\\ucc9c<br>year=%{x}<br>birth rate=%{y}<extra></extra>\",\"legendgroup\":\"\\uc778\\ucc9c\",\"line\":{\"color\":\"#EF553B\",\"dash\":\"solid\"},\"marker\":{\"symbol\":\"circle\"},\"mode\":\"lines\",\"name\":\"\\uc778\\ucc9c\",\"orientation\":\"v\",\"showlegend\":true,\"type\":\"scatter\",\"x\":[\"2001\",\"2002\",\"2003\",\"2004\",\"2005\",\"2006\",\"2007\",\"2008\",\"2009\",\"2010\",\"2011\",\"2012\",\"2013\",\"2014\",\"2015\",\"2016\",\"2017\",\"2018\",\"2019\",\"2020\"],\"xaxis\":\"x8\",\"y\":[1.324,1.185,1.213,1.158,1.075,1.116,1.257,1.186,1.143,1.214,1.232,1.301,1.195,1.212,1.216,1.144,1.007,1.006,0.94,0.83],\"yaxis\":\"y8\"},{\"hovertemplate\":\"\\uc9c0\\uc5ed=\\uc804\\ub77c\\ub0a8\\ub3c4<br>year=%{x}<br>birth rate=%{y}<extra></extra>\",\"legendgroup\":\"\\uc804\\ub77c\\ub0a8\\ub3c4\",\"line\":{\"color\":\"#00cc96\",\"dash\":\"solid\"},\"marker\":{\"symbol\":\"circle\"},\"mode\":\"lines\",\"name\":\"\\uc804\\ub77c\\ub0a8\\ub3c4\",\"orientation\":\"v\",\"showlegend\":true,\"type\":\"scatter\",\"x\":[\"2001\",\"2002\",\"2003\",\"2004\",\"2005\",\"2006\",\"2007\",\"2008\",\"2009\",\"2010\",\"2011\",\"2012\",\"2013\",\"2014\",\"2015\",\"2016\",\"2017\",\"2018\",\"2019\",\"2020\"],\"xaxis\":\"x5\",\"y\":[1.566,1.391,1.389,1.36,1.29,1.337,1.542,1.449,1.445,1.537,1.568,1.642,1.518,1.497,1.549,1.466,1.325,1.24,1.234,1.15],\"yaxis\":\"y5\"},{\"hovertemplate\":\"\\uc9c0\\uc5ed=\\uc804\\ub77c\\ubd81\\ub3c4<br>year=%{x}<br>birth rate=%{y}<extra></extra>\",\"legendgroup\":\"\\uc804\\ub77c\\ubd81\\ub3c4\",\"line\":{\"color\":\"#ab63fa\",\"dash\":\"solid\"},\"marker\":{\"symbol\":\"circle\"},\"mode\":\"lines\",\"name\":\"\\uc804\\ub77c\\ubd81\\ub3c4\",\"orientation\":\"v\",\"showlegend\":true,\"type\":\"scatter\",\"x\":[\"2001\",\"2002\",\"2003\",\"2004\",\"2005\",\"2006\",\"2007\",\"2008\",\"2009\",\"2010\",\"2011\",\"2012\",\"2013\",\"2014\",\"2015\",\"2016\",\"2017\",\"2018\",\"2019\",\"2020\"],\"xaxis\":\"x6\",\"y\":[1.426,1.275,1.274,1.239,1.184,1.213,1.38,1.305,1.279,1.374,1.405,1.44,1.32,1.329,1.352,1.251,1.151,1.044,0.971,0.91],\"yaxis\":\"y6\"},{\"hovertemplate\":\"\\uc9c0\\uc5ed=\\uc81c\\uc8fc\\ub3c4<br>year=%{x}<br>birth rate=%{y}<extra></extra>\",\"legendgroup\":\"\\uc81c\\uc8fc\\ub3c4\",\"line\":{\"color\":\"#FFA15A\",\"dash\":\"solid\"},\"marker\":{\"symbol\":\"circle\"},\"mode\":\"lines\",\"name\":\"\\uc81c\\uc8fc\\ub3c4\",\"orientation\":\"v\",\"showlegend\":true,\"type\":\"scatter\",\"x\":[\"2001\",\"2002\",\"2003\",\"2004\",\"2005\",\"2006\",\"2007\",\"2008\",\"2009\",\"2010\",\"2011\",\"2012\",\"2013\",\"2014\",\"2015\",\"2016\",\"2017\",\"2018\",\"2019\",\"2020\"],\"xaxis\":\"x3\",\"y\":[1.564,1.394,1.438,1.365,1.31,1.372,1.489,1.386,1.378,1.463,1.487,1.598,1.427,1.481,1.477,1.432,1.305,1.22,1.145,1.02],\"yaxis\":\"y3\"},{\"hovertemplate\":\"\\uc9c0\\uc5ed=\\ucda9\\uccad\\ub0a8\\ub3c4<br>year=%{x}<br>birth rate=%{y}<extra></extra>\",\"legendgroup\":\"\\ucda9\\uccad\\ub0a8\\ub3c4\",\"line\":{\"color\":\"#19d3f3\",\"dash\":\"solid\"},\"marker\":{\"symbol\":\"circle\"},\"mode\":\"lines\",\"name\":\"\\ucda9\\uccad\\ub0a8\\ub3c4\",\"orientation\":\"v\",\"showlegend\":true,\"type\":\"scatter\",\"x\":[\"2001\",\"2002\",\"2003\",\"2004\",\"2005\",\"2006\",\"2007\",\"2008\",\"2009\",\"2010\",\"2011\",\"2012\",\"2013\",\"2014\",\"2015\",\"2016\",\"2017\",\"2018\",\"2019\",\"2020\"],\"xaxis\":\"x4\",\"y\":[1.532,1.361,1.358,1.357,1.267,1.356,1.506,1.444,1.408,1.479,1.496,1.571,1.442,1.421,1.48,1.395,1.276,1.186,1.112,1.03],\"yaxis\":\"y4\"},{\"hovertemplate\":\"\\uc9c0\\uc5ed=\\ucda9\\uccad\\ubd81\\ub3c4<br>year=%{x}<br>birth rate=%{y}<extra></extra>\",\"legendgroup\":\"\\ucda9\\uccad\\ubd81\\ub3c4\",\"line\":{\"color\":\"#FF6692\",\"dash\":\"solid\"},\"marker\":{\"symbol\":\"circle\"},\"mode\":\"lines\",\"name\":\"\\ucda9\\uccad\\ubd81\\ub3c4\",\"orientation\":\"v\",\"showlegend\":true,\"type\":\"scatter\",\"x\":[\"2001\",\"2002\",\"2003\",\"2004\",\"2005\",\"2006\",\"2007\",\"2008\",\"2009\",\"2010\",\"2011\",\"2012\",\"2013\",\"2014\",\"2015\",\"2016\",\"2017\",\"2018\",\"2019\",\"2020\"],\"xaxis\":\"x\",\"y\":[1.426,1.294,1.27,1.272,1.195,1.233,1.398,1.319,1.317,1.402,1.428,1.485,1.365,1.363,1.414,1.358,1.235,1.172,1.05,0.98],\"yaxis\":\"y\"}],                        {\"annotations\":[{\"font\":{},\"showarrow\":false,\"text\":\"\\uc9c0\\uc5ed=\\ucda9\\uccad\\ubd81\\ub3c4\",\"x\":0.24,\"xanchor\":\"center\",\"xref\":\"paper\",\"y\":0.04888888888888888,\"yanchor\":\"bottom\",\"yref\":\"paper\"},{\"font\":{},\"showarrow\":false,\"text\":\"\\uc9c0\\uc5ed=\\uc81c\\uc8fc\\ub3c4\",\"x\":0.24,\"xanchor\":\"center\",\"xref\":\"paper\",\"y\":0.16777777777777775,\"yanchor\":\"bottom\",\"yref\":\"paper\"},{\"font\":{},\"showarrow\":false,\"text\":\"\\uc9c0\\uc5ed=\\ucda9\\uccad\\ub0a8\\ub3c4\",\"x\":0.76,\"xanchor\":\"center\",\"xref\":\"paper\",\"y\":0.16777777777777775,\"yanchor\":\"bottom\",\"yref\":\"paper\"},{\"font\":{},\"showarrow\":false,\"text\":\"\\uc9c0\\uc5ed=\\uc804\\ub77c\\ub0a8\\ub3c4\",\"x\":0.24,\"xanchor\":\"center\",\"xref\":\"paper\",\"y\":0.2866666666666666,\"yanchor\":\"bottom\",\"yref\":\"paper\"},{\"font\":{},\"showarrow\":false,\"text\":\"\\uc9c0\\uc5ed=\\uc804\\ub77c\\ubd81\\ub3c4\",\"x\":0.76,\"xanchor\":\"center\",\"xref\":\"paper\",\"y\":0.2866666666666666,\"yanchor\":\"bottom\",\"yref\":\"paper\"},{\"font\":{},\"showarrow\":false,\"text\":\"\\uc9c0\\uc5ed=\\uc6b8\\uc0b0\",\"x\":0.24,\"xanchor\":\"center\",\"xref\":\"paper\",\"y\":0.40555555555555556,\"yanchor\":\"bottom\",\"yref\":\"paper\"},{\"font\":{},\"showarrow\":false,\"text\":\"\\uc9c0\\uc5ed=\\uc778\\ucc9c\",\"x\":0.76,\"xanchor\":\"center\",\"xref\":\"paper\",\"y\":0.40555555555555556,\"yanchor\":\"bottom\",\"yref\":\"paper\"},{\"font\":{},\"showarrow\":false,\"text\":\"\\uc9c0\\uc5ed=\\uc11c\\uc6b8\",\"x\":0.24,\"xanchor\":\"center\",\"xref\":\"paper\",\"y\":0.5244444444444444,\"yanchor\":\"bottom\",\"yref\":\"paper\"},{\"font\":{},\"showarrow\":false,\"text\":\"\\uc9c0\\uc5ed=\\uc138\\uc885\",\"x\":0.76,\"xanchor\":\"center\",\"xref\":\"paper\",\"y\":0.5244444444444444,\"yanchor\":\"bottom\",\"yref\":\"paper\"},{\"font\":{},\"showarrow\":false,\"text\":\"\\uc9c0\\uc5ed=\\ub300\\uc804\",\"x\":0.24,\"xanchor\":\"center\",\"xref\":\"paper\",\"y\":0.6433333333333333,\"yanchor\":\"bottom\",\"yref\":\"paper\"},{\"font\":{},\"showarrow\":false,\"text\":\"\\uc9c0\\uc5ed=\\ubd80\\uc0b0\",\"x\":0.76,\"xanchor\":\"center\",\"xref\":\"paper\",\"y\":0.6433333333333333,\"yanchor\":\"bottom\",\"yref\":\"paper\"},{\"font\":{},\"showarrow\":false,\"text\":\"\\uc9c0\\uc5ed=\\uad11\\uc8fc\",\"x\":0.24,\"xanchor\":\"center\",\"xref\":\"paper\",\"y\":0.7622222222222222,\"yanchor\":\"bottom\",\"yref\":\"paper\"},{\"font\":{},\"showarrow\":false,\"text\":\"\\uc9c0\\uc5ed=\\ub300\\uad6c\",\"x\":0.76,\"xanchor\":\"center\",\"xref\":\"paper\",\"y\":0.7622222222222222,\"yanchor\":\"bottom\",\"yref\":\"paper\"},{\"font\":{},\"showarrow\":false,\"text\":\"\\uc9c0\\uc5ed=\\uacbd\\uc0c1\\ub0a8\\ub3c4\",\"x\":0.24,\"xanchor\":\"center\",\"xref\":\"paper\",\"y\":0.8811111111111111,\"yanchor\":\"bottom\",\"yref\":\"paper\"},{\"font\":{},\"showarrow\":false,\"text\":\"\\uc9c0\\uc5ed=\\uacbd\\uc0c1\\ubd81\\ub3c4\",\"x\":0.76,\"xanchor\":\"center\",\"xref\":\"paper\",\"y\":0.8811111111111111,\"yanchor\":\"bottom\",\"yref\":\"paper\"},{\"font\":{},\"showarrow\":false,\"text\":\"\\uc9c0\\uc5ed=\\uac15\\uc6d0\\ub3c4\",\"x\":0.24,\"xanchor\":\"center\",\"xref\":\"paper\",\"y\":0.9999999999999999,\"yanchor\":\"bottom\",\"yref\":\"paper\"},{\"font\":{},\"showarrow\":false,\"text\":\"\\uc9c0\\uc5ed=\\uacbd\\uae30\\ub3c4\",\"x\":0.76,\"xanchor\":\"center\",\"xref\":\"paper\",\"y\":0.9999999999999999,\"yanchor\":\"bottom\",\"yref\":\"paper\"}],\"height\":3000,\"legend\":{\"title\":{\"text\":\"\\uc9c0\\uc5ed\"},\"tracegroupgap\":0},\"margin\":{\"t\":60},\"template\":{\"data\":{\"bar\":[{\"error_x\":{\"color\":\"#2a3f5f\"},\"error_y\":{\"color\":\"#2a3f5f\"},\"marker\":{\"line\":{\"color\":\"#E5ECF6\",\"width\":0.5},\"pattern\":{\"fillmode\":\"overlay\",\"size\":10,\"solidity\":0.2}},\"type\":\"bar\"}],\"barpolar\":[{\"marker\":{\"line\":{\"color\":\"#E5ECF6\",\"width\":0.5},\"pattern\":{\"fillmode\":\"overlay\",\"size\":10,\"solidity\":0.2}},\"type\":\"barpolar\"}],\"carpet\":[{\"aaxis\":{\"endlinecolor\":\"#2a3f5f\",\"gridcolor\":\"white\",\"linecolor\":\"white\",\"minorgridcolor\":\"white\",\"startlinecolor\":\"#2a3f5f\"},\"baxis\":{\"endlinecolor\":\"#2a3f5f\",\"gridcolor\":\"white\",\"linecolor\":\"white\",\"minorgridcolor\":\"white\",\"startlinecolor\":\"#2a3f5f\"},\"type\":\"carpet\"}],\"choropleth\":[{\"colorbar\":{\"outlinewidth\":0,\"ticks\":\"\"},\"type\":\"choropleth\"}],\"contour\":[{\"colorbar\":{\"outlinewidth\":0,\"ticks\":\"\"},\"colorscale\":[[0.0,\"#0d0887\"],[0.1111111111111111,\"#46039f\"],[0.2222222222222222,\"#7201a8\"],[0.3333333333333333,\"#9c179e\"],[0.4444444444444444,\"#bd3786\"],[0.5555555555555556,\"#d8576b\"],[0.6666666666666666,\"#ed7953\"],[0.7777777777777778,\"#fb9f3a\"],[0.8888888888888888,\"#fdca26\"],[1.0,\"#f0f921\"]],\"type\":\"contour\"}],\"contourcarpet\":[{\"colorbar\":{\"outlinewidth\":0,\"ticks\":\"\"},\"type\":\"contourcarpet\"}],\"heatmap\":[{\"colorbar\":{\"outlinewidth\":0,\"ticks\":\"\"},\"colorscale\":[[0.0,\"#0d0887\"],[0.1111111111111111,\"#46039f\"],[0.2222222222222222,\"#7201a8\"],[0.3333333333333333,\"#9c179e\"],[0.4444444444444444,\"#bd3786\"],[0.5555555555555556,\"#d8576b\"],[0.6666666666666666,\"#ed7953\"],[0.7777777777777778,\"#fb9f3a\"],[0.8888888888888888,\"#fdca26\"],[1.0,\"#f0f921\"]],\"type\":\"heatmap\"}],\"heatmapgl\":[{\"colorbar\":{\"outlinewidth\":0,\"ticks\":\"\"},\"colorscale\":[[0.0,\"#0d0887\"],[0.1111111111111111,\"#46039f\"],[0.2222222222222222,\"#7201a8\"],[0.3333333333333333,\"#9c179e\"],[0.4444444444444444,\"#bd3786\"],[0.5555555555555556,\"#d8576b\"],[0.6666666666666666,\"#ed7953\"],[0.7777777777777778,\"#fb9f3a\"],[0.8888888888888888,\"#fdca26\"],[1.0,\"#f0f921\"]],\"type\":\"heatmapgl\"}],\"histogram\":[{\"marker\":{\"pattern\":{\"fillmode\":\"overlay\",\"size\":10,\"solidity\":0.2}},\"type\":\"histogram\"}],\"histogram2d\":[{\"colorbar\":{\"outlinewidth\":0,\"ticks\":\"\"},\"colorscale\":[[0.0,\"#0d0887\"],[0.1111111111111111,\"#46039f\"],[0.2222222222222222,\"#7201a8\"],[0.3333333333333333,\"#9c179e\"],[0.4444444444444444,\"#bd3786\"],[0.5555555555555556,\"#d8576b\"],[0.6666666666666666,\"#ed7953\"],[0.7777777777777778,\"#fb9f3a\"],[0.8888888888888888,\"#fdca26\"],[1.0,\"#f0f921\"]],\"type\":\"histogram2d\"}],\"histogram2dcontour\":[{\"colorbar\":{\"outlinewidth\":0,\"ticks\":\"\"},\"colorscale\":[[0.0,\"#0d0887\"],[0.1111111111111111,\"#46039f\"],[0.2222222222222222,\"#7201a8\"],[0.3333333333333333,\"#9c179e\"],[0.4444444444444444,\"#bd3786\"],[0.5555555555555556,\"#d8576b\"],[0.6666666666666666,\"#ed7953\"],[0.7777777777777778,\"#fb9f3a\"],[0.8888888888888888,\"#fdca26\"],[1.0,\"#f0f921\"]],\"type\":\"histogram2dcontour\"}],\"mesh3d\":[{\"colorbar\":{\"outlinewidth\":0,\"ticks\":\"\"},\"type\":\"mesh3d\"}],\"parcoords\":[{\"line\":{\"colorbar\":{\"outlinewidth\":0,\"ticks\":\"\"}},\"type\":\"parcoords\"}],\"pie\":[{\"automargin\":true,\"type\":\"pie\"}],\"scatter\":[{\"marker\":{\"colorbar\":{\"outlinewidth\":0,\"ticks\":\"\"}},\"type\":\"scatter\"}],\"scatter3d\":[{\"line\":{\"colorbar\":{\"outlinewidth\":0,\"ticks\":\"\"}},\"marker\":{\"colorbar\":{\"outlinewidth\":0,\"ticks\":\"\"}},\"type\":\"scatter3d\"}],\"scattercarpet\":[{\"marker\":{\"colorbar\":{\"outlinewidth\":0,\"ticks\":\"\"}},\"type\":\"scattercarpet\"}],\"scattergeo\":[{\"marker\":{\"colorbar\":{\"outlinewidth\":0,\"ticks\":\"\"}},\"type\":\"scattergeo\"}],\"scattergl\":[{\"marker\":{\"colorbar\":{\"outlinewidth\":0,\"ticks\":\"\"}},\"type\":\"scattergl\"}],\"scattermapbox\":[{\"marker\":{\"colorbar\":{\"outlinewidth\":0,\"ticks\":\"\"}},\"type\":\"scattermapbox\"}],\"scatterpolar\":[{\"marker\":{\"colorbar\":{\"outlinewidth\":0,\"ticks\":\"\"}},\"type\":\"scatterpolar\"}],\"scatterpolargl\":[{\"marker\":{\"colorbar\":{\"outlinewidth\":0,\"ticks\":\"\"}},\"type\":\"scatterpolargl\"}],\"scatterternary\":[{\"marker\":{\"colorbar\":{\"outlinewidth\":0,\"ticks\":\"\"}},\"type\":\"scatterternary\"}],\"surface\":[{\"colorbar\":{\"outlinewidth\":0,\"ticks\":\"\"},\"colorscale\":[[0.0,\"#0d0887\"],[0.1111111111111111,\"#46039f\"],[0.2222222222222222,\"#7201a8\"],[0.3333333333333333,\"#9c179e\"],[0.4444444444444444,\"#bd3786\"],[0.5555555555555556,\"#d8576b\"],[0.6666666666666666,\"#ed7953\"],[0.7777777777777778,\"#fb9f3a\"],[0.8888888888888888,\"#fdca26\"],[1.0,\"#f0f921\"]],\"type\":\"surface\"}],\"table\":[{\"cells\":{\"fill\":{\"color\":\"#EBF0F8\"},\"line\":{\"color\":\"white\"}},\"header\":{\"fill\":{\"color\":\"#C8D4E3\"},\"line\":{\"color\":\"white\"}},\"type\":\"table\"}]},\"layout\":{\"annotationdefaults\":{\"arrowcolor\":\"#2a3f5f\",\"arrowhead\":0,\"arrowwidth\":1},\"autotypenumbers\":\"strict\",\"coloraxis\":{\"colorbar\":{\"outlinewidth\":0,\"ticks\":\"\"}},\"colorscale\":{\"diverging\":[[0,\"#8e0152\"],[0.1,\"#c51b7d\"],[0.2,\"#de77ae\"],[0.3,\"#f1b6da\"],[0.4,\"#fde0ef\"],[0.5,\"#f7f7f7\"],[0.6,\"#e6f5d0\"],[0.7,\"#b8e186\"],[0.8,\"#7fbc41\"],[0.9,\"#4d9221\"],[1,\"#276419\"]],\"sequential\":[[0.0,\"#0d0887\"],[0.1111111111111111,\"#46039f\"],[0.2222222222222222,\"#7201a8\"],[0.3333333333333333,\"#9c179e\"],[0.4444444444444444,\"#bd3786\"],[0.5555555555555556,\"#d8576b\"],[0.6666666666666666,\"#ed7953\"],[0.7777777777777778,\"#fb9f3a\"],[0.8888888888888888,\"#fdca26\"],[1.0,\"#f0f921\"]],\"sequentialminus\":[[0.0,\"#0d0887\"],[0.1111111111111111,\"#46039f\"],[0.2222222222222222,\"#7201a8\"],[0.3333333333333333,\"#9c179e\"],[0.4444444444444444,\"#bd3786\"],[0.5555555555555556,\"#d8576b\"],[0.6666666666666666,\"#ed7953\"],[0.7777777777777778,\"#fb9f3a\"],[0.8888888888888888,\"#fdca26\"],[1.0,\"#f0f921\"]]},\"colorway\":[\"#636efa\",\"#EF553B\",\"#00cc96\",\"#ab63fa\",\"#FFA15A\",\"#19d3f3\",\"#FF6692\",\"#B6E880\",\"#FF97FF\",\"#FECB52\"],\"font\":{\"color\":\"#2a3f5f\"},\"geo\":{\"bgcolor\":\"white\",\"lakecolor\":\"white\",\"landcolor\":\"#E5ECF6\",\"showlakes\":true,\"showland\":true,\"subunitcolor\":\"white\"},\"hoverlabel\":{\"align\":\"left\"},\"hovermode\":\"closest\",\"mapbox\":{\"style\":\"light\"},\"paper_bgcolor\":\"white\",\"plot_bgcolor\":\"#E5ECF6\",\"polar\":{\"angularaxis\":{\"gridcolor\":\"white\",\"linecolor\":\"white\",\"ticks\":\"\"},\"bgcolor\":\"#E5ECF6\",\"radialaxis\":{\"gridcolor\":\"white\",\"linecolor\":\"white\",\"ticks\":\"\"}},\"scene\":{\"xaxis\":{\"backgroundcolor\":\"#E5ECF6\",\"gridcolor\":\"white\",\"gridwidth\":2,\"linecolor\":\"white\",\"showbackground\":true,\"ticks\":\"\",\"zerolinecolor\":\"white\"},\"yaxis\":{\"backgroundcolor\":\"#E5ECF6\",\"gridcolor\":\"white\",\"gridwidth\":2,\"linecolor\":\"white\",\"showbackground\":true,\"ticks\":\"\",\"zerolinecolor\":\"white\"},\"zaxis\":{\"backgroundcolor\":\"#E5ECF6\",\"gridcolor\":\"white\",\"gridwidth\":2,\"linecolor\":\"white\",\"showbackground\":true,\"ticks\":\"\",\"zerolinecolor\":\"white\"}},\"shapedefaults\":{\"line\":{\"color\":\"#2a3f5f\"}},\"ternary\":{\"aaxis\":{\"gridcolor\":\"white\",\"linecolor\":\"white\",\"ticks\":\"\"},\"baxis\":{\"gridcolor\":\"white\",\"linecolor\":\"white\",\"ticks\":\"\"},\"bgcolor\":\"#E5ECF6\",\"caxis\":{\"gridcolor\":\"white\",\"linecolor\":\"white\",\"ticks\":\"\"}},\"title\":{\"x\":0.05},\"xaxis\":{\"automargin\":true,\"gridcolor\":\"white\",\"linecolor\":\"white\",\"ticks\":\"\",\"title\":{\"standoff\":15},\"zerolinecolor\":\"white\",\"zerolinewidth\":2},\"yaxis\":{\"automargin\":true,\"gridcolor\":\"white\",\"linecolor\":\"white\",\"ticks\":\"\",\"title\":{\"standoff\":15},\"zerolinecolor\":\"white\",\"zerolinewidth\":2}}},\"width\":1000,\"xaxis\":{\"anchor\":\"y\",\"domain\":[0.0,0.48],\"title\":{\"text\":\"year\"}},\"xaxis10\":{\"anchor\":\"y10\",\"domain\":[0.52,1.0],\"matches\":\"x\",\"showticklabels\":false},\"xaxis11\":{\"anchor\":\"y11\",\"domain\":[0.0,0.48],\"matches\":\"x\",\"showticklabels\":false},\"xaxis12\":{\"anchor\":\"y12\",\"domain\":[0.52,1.0],\"matches\":\"x\",\"showticklabels\":false},\"xaxis13\":{\"anchor\":\"y13\",\"domain\":[0.0,0.48],\"matches\":\"x\",\"showticklabels\":false},\"xaxis14\":{\"anchor\":\"y14\",\"domain\":[0.52,1.0],\"matches\":\"x\",\"showticklabels\":false},\"xaxis15\":{\"anchor\":\"y15\",\"domain\":[0.0,0.48],\"matches\":\"x\",\"showticklabels\":false},\"xaxis16\":{\"anchor\":\"y16\",\"domain\":[0.52,1.0],\"matches\":\"x\",\"showticklabels\":false},\"xaxis17\":{\"anchor\":\"y17\",\"domain\":[0.0,0.48],\"matches\":\"x\",\"showticklabels\":false},\"xaxis18\":{\"anchor\":\"y18\",\"domain\":[0.52,1.0],\"matches\":\"x\",\"showticklabels\":false},\"xaxis2\":{\"anchor\":\"y2\",\"domain\":[0.52,1.0],\"matches\":\"x\",\"title\":{\"text\":\"year\"}},\"xaxis3\":{\"anchor\":\"y3\",\"domain\":[0.0,0.48],\"matches\":\"x\",\"showticklabels\":false},\"xaxis4\":{\"anchor\":\"y4\",\"domain\":[0.52,1.0],\"matches\":\"x\",\"showticklabels\":false},\"xaxis5\":{\"anchor\":\"y5\",\"domain\":[0.0,0.48],\"matches\":\"x\",\"showticklabels\":false},\"xaxis6\":{\"anchor\":\"y6\",\"domain\":[0.52,1.0],\"matches\":\"x\",\"showticklabels\":false},\"xaxis7\":{\"anchor\":\"y7\",\"domain\":[0.0,0.48],\"matches\":\"x\",\"showticklabels\":false},\"xaxis8\":{\"anchor\":\"y8\",\"domain\":[0.52,1.0],\"matches\":\"x\",\"showticklabels\":false},\"xaxis9\":{\"anchor\":\"y9\",\"domain\":[0.0,0.48],\"matches\":\"x\",\"showticklabels\":false},\"yaxis\":{\"anchor\":\"x\",\"domain\":[0.0,0.04888888888888888],\"showticklabels\":true,\"title\":{\"text\":\"birth rate\"}},\"yaxis10\":{\"anchor\":\"x10\",\"domain\":[0.4755555555555555,0.5244444444444444],\"showticklabels\":true},\"yaxis11\":{\"anchor\":\"x11\",\"domain\":[0.5944444444444444,0.6433333333333333],\"showticklabels\":true,\"title\":{\"text\":\"birth rate\"}},\"yaxis12\":{\"anchor\":\"x12\",\"domain\":[0.5944444444444444,0.6433333333333333],\"showticklabels\":true},\"yaxis13\":{\"anchor\":\"x13\",\"domain\":[0.7133333333333334,0.7622222222222222],\"showticklabels\":true,\"title\":{\"text\":\"birth rate\"}},\"yaxis14\":{\"anchor\":\"x14\",\"domain\":[0.7133333333333334,0.7622222222222222],\"showticklabels\":true},\"yaxis15\":{\"anchor\":\"x15\",\"domain\":[0.8322222222222222,0.8811111111111111],\"showticklabels\":true,\"title\":{\"text\":\"birth rate\"}},\"yaxis16\":{\"anchor\":\"x16\",\"domain\":[0.8322222222222222,0.8811111111111111],\"showticklabels\":true},\"yaxis17\":{\"anchor\":\"x17\",\"domain\":[0.951111111111111,0.9999999999999999],\"showticklabels\":true,\"title\":{\"text\":\"birth rate\"}},\"yaxis18\":{\"anchor\":\"x18\",\"domain\":[0.951111111111111,0.9999999999999999],\"showticklabels\":true},\"yaxis2\":{\"anchor\":\"x2\",\"domain\":[0.0,0.04888888888888888],\"showticklabels\":true},\"yaxis3\":{\"anchor\":\"x3\",\"domain\":[0.11888888888888888,0.16777777777777775],\"showticklabels\":true,\"title\":{\"text\":\"birth rate\"}},\"yaxis4\":{\"anchor\":\"x4\",\"domain\":[0.11888888888888888,0.16777777777777775],\"showticklabels\":true},\"yaxis5\":{\"anchor\":\"x5\",\"domain\":[0.23777777777777775,0.2866666666666666],\"showticklabels\":true,\"title\":{\"text\":\"birth rate\"}},\"yaxis6\":{\"anchor\":\"x6\",\"domain\":[0.23777777777777775,0.2866666666666666],\"showticklabels\":true},\"yaxis7\":{\"anchor\":\"x7\",\"domain\":[0.3566666666666667,0.40555555555555556],\"showticklabels\":true,\"title\":{\"text\":\"birth rate\"}},\"yaxis8\":{\"anchor\":\"x8\",\"domain\":[0.3566666666666667,0.40555555555555556],\"showticklabels\":true},\"yaxis9\":{\"anchor\":\"x9\",\"domain\":[0.4755555555555555,0.5244444444444444],\"showticklabels\":true,\"title\":{\"text\":\"birth rate\"}}},                        {\"responsive\": true}                    ).then(function(){\n",
       "                            \n",
       "var gd = document.getElementById('febf7466-c8ad-44f8-a38e-23e322574b0e');\n",
       "var x = new MutationObserver(function (mutations, observer) {{\n",
       "        var display = window.getComputedStyle(gd).display;\n",
       "        if (!display || display === 'none') {{\n",
       "            console.log([gd, 'removed!']);\n",
       "            Plotly.purge(gd);\n",
       "            observer.disconnect();\n",
       "        }}\n",
       "}});\n",
       "\n",
       "// Listen for the removal of the full notebook cells\n",
       "var notebookContainer = gd.closest('#notebook-container');\n",
       "if (notebookContainer) {{\n",
       "    x.observe(notebookContainer, {childList: true});\n",
       "}}\n",
       "\n",
       "// Listen for the clearing of the current output cell\n",
       "var outputEl = gd.closest('.output');\n",
       "if (outputEl) {{\n",
       "    x.observe(outputEl, {childList: true});\n",
       "}}\n",
       "\n",
       "                        })                };                });            </script>        </div>"
      ]
     },
     "metadata": {},
     "output_type": "display_data"
    }
   ],
   "source": [
    "fig=df3.melt(id_vars='지역').rename(columns={'variable':'year','value':'birth rate'}).\\\n",
    "plot.line(x='year', y='birth rate', color='지역', facet_col='지역', \n",
    "          facet_col_wrap=2, facet_col_spacing=0.04, backend='plotly', height=3000, width=1000)\n",
    "fig.update_yaxes(matches=None,showticklabels=True)\n",
    "#fig.show(config=dict({'scrollZoom':False}))"
   ]
  },
  {
   "cell_type": "code",
   "execution_count": null,
   "id": "0aae51a4",
   "metadata": {},
   "outputs": [],
   "source": []
  },
  {
   "cell_type": "code",
   "execution_count": null,
   "id": "acde79ed",
   "metadata": {},
   "outputs": [],
   "source": []
  },
  {
   "cell_type": "code",
   "execution_count": null,
   "id": "93405f86",
   "metadata": {},
   "outputs": [],
   "source": []
  },
  {
   "cell_type": "code",
   "execution_count": null,
   "id": "8e425d0f",
   "metadata": {},
   "outputs": [],
   "source": []
  },
  {
   "cell_type": "code",
   "execution_count": null,
   "id": "247751f3",
   "metadata": {},
   "outputs": [],
   "source": []
  },
  {
   "cell_type": "code",
   "execution_count": null,
   "id": "ec84ee19",
   "metadata": {},
   "outputs": [],
   "source": []
  },
  {
   "cell_type": "code",
   "execution_count": null,
   "id": "bdaef76c",
   "metadata": {},
   "outputs": [],
   "source": []
  },
  {
   "cell_type": "code",
   "execution_count": null,
   "id": "e035edc1",
   "metadata": {},
   "outputs": [],
   "source": []
  }
 ],
 "metadata": {
  "kernelspec": {
   "display_name": "Python 3 (ipykernel)",
   "language": "python",
   "name": "python3"
  },
  "language_info": {
   "codemirror_mode": {
    "name": "ipython",
    "version": 3
   },
   "file_extension": ".py",
   "mimetype": "text/x-python",
   "name": "python",
   "nbconvert_exporter": "python",
   "pygments_lexer": "ipython3",
   "version": "3.8.11"
  }
 },
 "nbformat": 4,
 "nbformat_minor": 5
}
